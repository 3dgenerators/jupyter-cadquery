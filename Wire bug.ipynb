{
 "cells": [
  {
   "cell_type": "code",
   "execution_count": 1,
   "metadata": {},
   "outputs": [
    {
     "name": "stdout",
     "output_type": "stream",
     "text": [
      "Removing auto display for cadquery Workplane and Shape\n"
     ]
    }
   ],
   "source": [
    "import cadquery as cq\n",
    "from jupyter_cadquery.cadquery import Assembly, Part, Edges, Faces, show\n",
    "from jupyter_cadquery import auto_show\n",
    "\n",
    "base_width = 38\n",
    "base_length = 64\n",
    "gap = 6\n",
    "holder_length = 22\n",
    "\n",
    "xy = cq.Workplane(\"YX\")"
   ]
  },
  {
   "cell_type": "code",
   "execution_count": 2,
   "metadata": {},
   "outputs": [],
   "source": [
    "import sidecar\n",
    "sc = sidecar.Sidecar()"
   ]
  },
  {
   "cell_type": "code",
   "execution_count": 5,
   "metadata": {},
   "outputs": [
    {
     "data": {
      "text/plain": [
       "<jupyter_cadquery.cadquery.cad_objects.Edges at 0x12d5a2da0>"
      ]
     },
     "execution_count": 5,
     "metadata": {},
     "output_type": "execute_result"
    }
   ],
   "source": [
    "fullbase = (xy\n",
    "    .vLineTo(-base_length/2 + gap/2, forConstruction=True)\n",
    "    .hLineTo(-gap/2)\n",
    "    .vLineTo(-base_length/2)\n",
    "    .hLineTo(-base_width/2)\n",
    "    .vLineTo(-base_length/2 + 10)\n",
    "    .hLineTo(-base_width/2 + gap/2)\n",
    "    .vLineTo(holder_length / 2 - 2)\n",
    "    .hLineTo(-base_width/2)\n",
    "    .vLineTo(holder_length / 2)\n",
    "    .threePointArc((-base_width*3/8, base_length*3/8), (-gap/2, base_length/2))\n",
    "    .vLineTo((base_length-gap)/2)\n",
    "    .hLineTo(0)\n",
    "    .mirrorY()\n",
    ")\n",
    "Edges(fullbase)"
   ]
  },
  {
   "cell_type": "code",
   "execution_count": 6,
   "metadata": {},
   "outputs": [
    {
     "data": {
      "application/vnd.jupyter.widget-view+json": {
       "model_id": "7bf9fc834b5b4ad986aad41939ffcd7c",
       "version_major": 2,
       "version_minor": 0
      },
      "text/plain": [
       "HBox(children=(VBox(children=(HBox(children=(Checkbox(value=False, description='Axes', indent=False, _dom_clas…"
      ]
     },
     "metadata": {},
     "output_type": "display_data"
    }
   ],
   "source": [
    "show(_)"
   ]
  },
  {
   "cell_type": "code",
   "execution_count": 8,
   "metadata": {},
   "outputs": [],
   "source": [
    "from jupyter_cadquery.cadquery.cad_objects import _is_wire_list, _is_edge_list, _edge_list_to_assembly, _wire_list_to_assembly,_to_occ\n",
    "from cadquery import Edge\n",
    "#a = _edge_list_to_assembly(fullbase.edges())"
   ]
  },
  {
   "cell_type": "code",
   "execution_count": 28,
   "metadata": {},
   "outputs": [
    {
     "data": {
      "application/vnd.jupyter.widget-view+json": {
       "model_id": "bad9723b05054e1dbb94124f4ce1ac9b",
       "version_major": 2,
       "version_minor": 0
      },
      "text/plain": [
       "HBox(children=(VBox(children=(HBox(children=(Checkbox(value=False, description='Axes', indent=False, _dom_clas…"
      ]
     },
     "metadata": {},
     "output_type": "display_data"
    }
   ],
   "source": [
    "show(_wire_list_to_assembly(fullbase))"
   ]
  },
  {
   "cell_type": "code",
   "execution_count": 27,
   "metadata": {},
   "outputs": [
    {
     "data": {
      "application/vnd.jupyter.widget-view+json": {
       "model_id": "b60d3d2ba63048dfacb5d8ebe3d99ee2",
       "version_major": 2,
       "version_minor": 0
      },
      "text/plain": [
       "HBox(children=(VBox(children=(HBox(children=(Checkbox(value=False, description='Axes', indent=False, _dom_clas…"
      ]
     },
     "metadata": {},
     "output_type": "display_data"
    }
   ],
   "source": [
    "show(_edge_list_to_assembly(box.edges()))"
   ]
  },
  {
   "cell_type": "code",
   "execution_count": null,
   "metadata": {},
   "outputs": [],
   "source": [
    "_."
   ]
  },
  {
   "cell_type": "code",
   "execution_count": 16,
   "metadata": {},
   "outputs": [
    {
     "data": {
      "text/plain": [
       "True"
      ]
     },
     "execution_count": 16,
     "metadata": {},
     "output_type": "execute_result"
    }
   ],
   "source": [
    "_is_wire_list(fullbase)"
   ]
  },
  {
   "cell_type": "code",
   "execution_count": 43,
   "metadata": {},
   "outputs": [
    {
     "data": {
      "text/plain": [
       "[<cadquery.occ_impl.shapes.Wire at 0x12e282dd8>]"
      ]
     },
     "execution_count": 43,
     "metadata": {},
     "output_type": "execute_result"
    }
   ],
   "source": [
    "fullbase.objects"
   ]
  },
  {
   "cell_type": "code",
   "execution_count": 32,
   "metadata": {},
   "outputs": [
    {
     "data": {
      "text/plain": [
       "\u001b[0;31mInit signature:\u001b[0m \u001b[0mEdge\u001b[0m\u001b[0;34m(\u001b[0m\u001b[0mobj\u001b[0m\u001b[0;34m)\u001b[0m\u001b[0;34m\u001b[0m\u001b[0;34m\u001b[0m\u001b[0m\n",
       "\u001b[0;31mDocstring:\u001b[0m      A trimmed curve that represents the border of a face\n",
       "\u001b[0;31mFile:\u001b[0m           /opt/miniconda/envs/pycq/lib/python3.6/site-packages/cadquery/occ_impl/shapes.py\n",
       "\u001b[0;31mType:\u001b[0m           type\n",
       "\u001b[0;31mSubclasses:\u001b[0m     \n"
      ]
     },
     "metadata": {},
     "output_type": "display_data"
    }
   ],
   "source": [
    "Edge?"
   ]
  },
  {
   "cell_type": "code",
   "execution_count": 44,
   "metadata": {},
   "outputs": [],
   "source": [
    "all_edges = []\n",
    "for edges in fullbase.objects:\n",
    "    all_edges += edges.Edges()"
   ]
  },
  {
   "cell_type": "code",
   "execution_count": 49,
   "metadata": {},
   "outputs": [
    {
     "data": {
      "text/plain": [
       "[<cadquery.occ_impl.shapes.Wire at 0x12e282dd8>]"
      ]
     },
     "execution_count": 49,
     "metadata": {},
     "output_type": "execute_result"
    }
   ],
   "source": [
    "fullbase.objects"
   ]
  },
  {
   "cell_type": "code",
   "execution_count": 50,
   "metadata": {},
   "outputs": [
    {
     "data": {
      "text/plain": [
       "True"
      ]
     },
     "execution_count": 50,
     "metadata": {},
     "output_type": "execute_result"
    }
   ],
   "source": []
  },
  {
   "cell_type": "code",
   "execution_count": 6,
   "metadata": {},
   "outputs": [
    {
     "data": {
      "text/plain": [
       "[<cadquery.occ_impl.shapes.Edge at 0x12c5ce780>,\n",
       " <cadquery.occ_impl.shapes.Edge at 0x12c6034a8>,\n",
       " <cadquery.occ_impl.shapes.Edge at 0x12c603dd8>,\n",
       " <cadquery.occ_impl.shapes.Edge at 0x12c603e80>,\n",
       " <cadquery.occ_impl.shapes.Edge at 0x12c603860>,\n",
       " <cadquery.occ_impl.shapes.Edge at 0x12c603c50>,\n",
       " <cadquery.occ_impl.shapes.Edge at 0x12c603c18>,\n",
       " <cadquery.occ_impl.shapes.Edge at 0x12c603a90>,\n",
       " <cadquery.occ_impl.shapes.Edge at 0x12c603ba8>,\n",
       " <cadquery.occ_impl.shapes.Edge at 0x12c603e10>,\n",
       " <cadquery.occ_impl.shapes.Edge at 0x12c603588>,\n",
       " <cadquery.occ_impl.shapes.Edge at 0x12c603b38>,\n",
       " <cadquery.occ_impl.shapes.Edge at 0x12c603ac8>,\n",
       " <cadquery.occ_impl.shapes.Edge at 0x12c6039b0>,\n",
       " <cadquery.occ_impl.shapes.Edge at 0x12c6036d8>,\n",
       " <cadquery.occ_impl.shapes.Edge at 0x12c603a58>,\n",
       " <cadquery.occ_impl.shapes.Edge at 0x12c603908>,\n",
       " <cadquery.occ_impl.shapes.Edge at 0x12c603320>,\n",
       " <cadquery.occ_impl.shapes.Edge at 0x12c603828>,\n",
       " <cadquery.occ_impl.shapes.Edge at 0x12c603780>,\n",
       " <cadquery.occ_impl.shapes.Edge at 0x12c603710>,\n",
       " <cadquery.occ_impl.shapes.Edge at 0x12c603470>,\n",
       " <cadquery.occ_impl.shapes.Edge at 0x12c6037f0>,\n",
       " <cadquery.occ_impl.shapes.Edge at 0x12c603240>,\n",
       " <cadquery.occ_impl.shapes.Edge at 0x12c60b7f0>,\n",
       " <cadquery.occ_impl.shapes.Edge at 0x12c60b828>,\n",
       " <cadquery.occ_impl.shapes.Edge at 0x12c60b5c0>,\n",
       " <cadquery.occ_impl.shapes.Edge at 0x12c60b7b8>]"
      ]
     },
     "execution_count": 6,
     "metadata": {},
     "output_type": "execute_result"
    }
   ],
   "source": [
    "b = cq.Workplane('XY')\n",
    "box = b.box(10, 20, 30).edges(\">X or <X\").fillet(2)\n",
    "box.edges().objects"
   ]
  },
  {
   "cell_type": "code",
   "execution_count": 7,
   "metadata": {},
   "outputs": [
    {
     "name": "stdout",
     "output_type": "stream",
     "text": [
      "> /Users/bernhard/Development/cadquery/jupyter-cadquery/jupyter_cadquery/cadquery/cad_objects.py(71)_to_occ()\n",
      "-> if _is_wire_list(cad_obj):\n"
     ]
    },
    {
     "name": "stdin",
     "output_type": "stream",
     "text": [
      "(Pdb)  c\n"
     ]
    },
    {
     "data": {
      "text/plain": [
       "[class<'TopoDS_Edge'; id:661321329>,\n",
       " class<'TopoDS_Edge'; id:661324769>,\n",
       " class<'TopoDS_Edge'; id:661326177>,\n",
       " class<'TopoDS_Edge'; id:661324097>,\n",
       " class<'TopoDS_Edge'; id:661327585>,\n",
       " class<'TopoDS_Edge'; id:661321681>,\n",
       " class<'TopoDS_Edge'; id:661327937>,\n",
       " class<'TopoDS_Edge'; id:661325121>,\n",
       " class<'TopoDS_Edge'; id:661328993>,\n",
       " class<'TopoDS_Edge'; id:661326529>,\n",
       " class<'TopoDS_Edge'; id:661329345>,\n",
       " class<'TopoDS_Edge'; id:661324449>,\n",
       " class<'TopoDS_Edge'; id:1122088355>,\n",
       " class<'TopoDS_Edge'; id:661320913>,\n",
       " class<'TopoDS_Edge'; id:1122061955>,\n",
       " class<'TopoDS_Edge'; id:1122101907>,\n",
       " class<'TopoDS_Edge'; id:661322385>,\n",
       " class<'TopoDS_Edge'; id:1122102931>,\n",
       " class<'TopoDS_Edge'; id:661319473>,\n",
       " class<'TopoDS_Edge'; id:661325825>,\n",
       " class<'TopoDS_Edge'; id:661326881>,\n",
       " class<'TopoDS_Edge'; id:661320545>,\n",
       " class<'TopoDS_Edge'; id:661327233>,\n",
       " class<'TopoDS_Edge'; id:661322033>,\n",
       " class<'TopoDS_Edge'; id:661328289>,\n",
       " class<'TopoDS_Edge'; id:661322737>,\n",
       " class<'TopoDS_Edge'; id:661328641>,\n",
       " class<'TopoDS_Edge'; id:661325473>]"
      ]
     },
     "execution_count": 7,
     "metadata": {},
     "output_type": "execute_result"
    }
   ],
   "source": [
    "Edges(box.edges()).shape"
   ]
  },
  {
   "cell_type": "code",
   "execution_count": 9,
   "metadata": {},
   "outputs": [
    {
     "data": {
      "text/plain": [
       "<cadquery.cq.Workplane at 0x12e178dd8>"
      ]
     },
     "execution_count": 9,
     "metadata": {},
     "output_type": "execute_result"
    }
   ],
   "source": [
    "fullbase"
   ]
  },
  {
   "cell_type": "code",
   "execution_count": null,
   "metadata": {},
   "outputs": [],
   "source": []
  },
  {
   "cell_type": "markdown",
   "metadata": {},
   "source": [
    "# Analysis (done)"
   ]
  },
  {
   "cell_type": "code",
   "execution_count": null,
   "metadata": {},
   "outputs": [],
   "source": [
    "from OCC.Core.BRepBuilderAPI import (BRepBuilderAPI_MakeVertex, BRepBuilderAPI_MakeEdge, BRepBuilderAPI_MakeWire)\n",
    "from OCC.Extend.TopologyUtils import WireExplorer, TopologyExplorer, dump_topology_to_string                                 \n",
    "import OCC.Core.TopAbs as ta \n",
    "from OCC.Core.TopExp import TopExp_Explorer\n",
    "from OCC.Core.TopoDS import topods_Vertex, topods_Edge\n",
    "from OCC.Core.BRep import BRep_Tool\n",
    "from cadquery import Wire\n",
    "from cadquery.occ_impl.shapes import downcast, inverse_shape_LUT\n",
    "\n",
    "\n",
    "def _entities(self, topo_type):\n",
    "\n",
    "    out = {}  # using dict to prevent duplicates\n",
    "\n",
    "    explorer = TopExp_Explorer(self, inverse_shape_LUT[topo_type])\n",
    "\n",
    "    while explorer.More():\n",
    "        item = explorer.Current()\n",
    "        out[item.__hash__()] = item\n",
    "        explorer.Next()\n",
    "\n",
    "    return list(out.values())\n",
    "\n",
    "def reverseEdge(edge):\n",
    "    brt = BRep_Tool()\n",
    "    vertices = _entities(edge, \"Vertex\")\n",
    "    pnts = [brt.Pnt(topods_Vertex(v)) for v in vertices]\n",
    "\n",
    "    return BRepBuilderAPI_MakeEdge(pnts[1], pnts[0]).Edge()\n",
    "\n",
    "def reverseWire(wire):\n",
    "    wire_builder = BRepBuilderAPI_MakeWire()\n",
    "    we = WireExplorer(wire.wrapped)\n",
    "    edges = reversed(list(we.ordered_edges()))\n",
    "    for edge in edges:\n",
    "        wire_builder.Add(reverseEdge(edge))\n",
    "    result = wire_builder.Wire()\n",
    "    return wire.__class__(result)\n",
    "\n",
    "def mirrorY(wire):\n",
    "    # convert edges to a wire, if there are pending edges\n",
    "    n = wire.wire(forConstruction=False)\n",
    "\n",
    "    # attempt to consolidate wires together.\n",
    "    consolidated = n.consolidateWires()\n",
    "\n",
    "    mirroredWires = wire.plane.mirrorInPlane(consolidated.wires().vals(), 'Y')\n",
    "    for w in mirroredWires:\n",
    "        reversed_wire = reverseWire(w)\n",
    "        consolidated.objects.append(reversed_wire)\n",
    "        consolidated._addPendingWire(reversed_wire)\n",
    "\n",
    "    # attempt again to consolidate all of the wires\n",
    "    return consolidated.consolidateWires()\n",
    "\n",
    "def debug_edge(edge):\n",
    "    for vertex in edge.Vertices():\n",
    "        print('({:>6} {:>6} {:>6})'.format(vertex.X, vertex.Y, vertex.Z), end=\" \")\n",
    "    print()\n",
    "    \n",
    "def debug_wire(wire):\n",
    "    for edge in wire.Edges():\n",
    "        print(edge.wrapped.Orientation(), end= \" \")\n",
    "        debug_edge(edge)\n",
    "        \n",
    "fullbase = mirrorY(xy\n",
    "    .vLineTo(-base_length/2 + gap/2, forConstruction=True)\n",
    "    .hLineTo(-gap/2)\n",
    "    .vLineTo(-base_length/2)\n",
    "    .hLineTo(-base_width/2)\n",
    "    .vLineTo(-base_length/2 + 10)\n",
    "    .hLineTo(-base_width/2 + gap/2)\n",
    "    .vLineTo(holder_length / 2 - 2)\n",
    "    .hLineTo(-base_width/2)\n",
    "    .vLineTo(holder_length / 2)\n",
    "    .threePointArc((-base_width*3/8, base_length*3/8), (-gap/2, base_length/2))\n",
    "    .vLineTo((base_length-gap)/2)\n",
    "    .hLineTo(0)\n",
    ")\n",
    "# show(Wires(my_mirrorY(base)), sidecar=sc)\n",
    "show(fullbase, sidecar=sc)"
   ]
  },
  {
   "cell_type": "code",
   "execution_count": null,
   "metadata": {},
   "outputs": [],
   "source": [
    "for x in fullbase.objects:\n",
    "    debug_wire(x)\n",
    "    print(\"---\")"
   ]
  },
  {
   "cell_type": "code",
   "execution_count": null,
   "metadata": {},
   "outputs": [],
   "source": []
  },
  {
   "cell_type": "code",
   "execution_count": null,
   "metadata": {},
   "outputs": [],
   "source": []
  },
  {
   "cell_type": "code",
   "execution_count": null,
   "metadata": {},
   "outputs": [],
   "source": [
    "from OCC.Extend.TopologyUtils import TopologyExplorer, is_edge, is_wire, discretize_edge, discretize_wire"
   ]
  },
  {
   "cell_type": "code",
   "execution_count": null,
   "metadata": {},
   "outputs": [],
   "source": [
    "discretize_edge(base)"
   ]
  },
  {
   "cell_type": "code",
   "execution_count": null,
   "metadata": {},
   "outputs": [],
   "source": [
    "base = (xy\n",
    "    .vLineTo(-base_length/2 + gap/2, forConstruction=True)\n",
    "    .hLineTo(-gap/2)\n",
    "    .vLineTo(-base_length/2)\n",
    "    .hLineTo(-base_width/2)\n",
    "    .vLineTo(-base_length/2 + 10)\n",
    "    .hLineTo(-base_width/2 + gap/2)\n",
    "    .vLineTo(holder_length / 2 - 2)\n",
    "    .hLineTo(-base_width/2)\n",
    "    .vLineTo(holder_length / 2)\n",
    "    .threePointArc((-base_width*3/8, base_length*3/8), (-gap/2, base_length/2))\n",
    "    .vLineTo((base_length-gap)/2)\n",
    "    .hLineTo(0)\n",
    ")\n",
    "\n",
    "n = base.wire(forConstruction=False)\n",
    "debug_wire(n.objects[0])\n",
    "n"
   ]
  },
  {
   "cell_type": "code",
   "execution_count": null,
   "metadata": {},
   "outputs": [],
   "source": [
    "consolidated = n.consolidateWires()\n",
    "consolidated"
   ]
  },
  {
   "cell_type": "code",
   "execution_count": null,
   "metadata": {},
   "outputs": [],
   "source": [
    "mirroredWires = base.plane.mirrorInPlane(consolidated.wires().vals(), 'Y')\n",
    "debug_wire(mirroredWires[0])"
   ]
  },
  {
   "cell_type": "code",
   "execution_count": null,
   "metadata": {},
   "outputs": [],
   "source": [
    "mirroredWires[0].wrapped.Reverse()"
   ]
  },
  {
   "cell_type": "code",
   "execution_count": null,
   "metadata": {},
   "outputs": [],
   "source": [
    "consolidated.objects.append(mirroredWires[0])\n",
    "debug_wire(consolidated.consolidateWires().objects[0])"
   ]
  },
  {
   "cell_type": "code",
   "execution_count": null,
   "metadata": {},
   "outputs": [],
   "source": [
    "from OCC.Extend.TopologyUtils import WireExplorer, TopologyExplorer, dump_topology_to_string"
   ]
  },
  {
   "cell_type": "code",
   "execution_count": null,
   "metadata": {},
   "outputs": [],
   "source": [
    "te = TopologyExplorer(n.objects[0].wrapped)\n",
    "list(te.ordered_vertices_from_wire(n.objects[0].wrapped))"
   ]
  },
  {
   "cell_type": "code",
   "execution_count": null,
   "metadata": {},
   "outputs": [],
   "source": [
    "list(te.ordered_vertices_from_wire(n.objects[0].wrapped.Reversed()))"
   ]
  },
  {
   "cell_type": "code",
   "execution_count": null,
   "metadata": {},
   "outputs": [],
   "source": [
    "x = mirroredWires[0].wrapped"
   ]
  },
  {
   "cell_type": "code",
   "execution_count": null,
   "metadata": {},
   "outputs": [],
   "source": [
    "dump_topology_to_string(x)"
   ]
  },
  {
   "cell_type": "code",
   "execution_count": null,
   "metadata": {},
   "outputs": [],
   "source": [
    "x.Reverse()\n",
    "dump_topology_to_string(x)"
   ]
  },
  {
   "cell_type": "code",
   "execution_count": null,
   "metadata": {},
   "outputs": [],
   "source": [
    "from OCC.Core.BRepBuilderAPI import BRepBuilderAPI_MakeWire\n",
    "\n",
    "def reverse(cls, listOfWires):\n",
    "    wire_builder = BRepBuilderAPI_MakeWire()\n",
    "    for wire in listOfWires:\n",
    "        print(wire.wrapped)\n",
    "        print(wire.wrapped.Reversed())\n",
    "        wire.wrapped.Reverse()\n",
    "        print(wire)\n",
    "        wire_builder.Add(wire.wrapped.Reversed())\n",
    "\n",
    "    return cls(wire_builder.Wire())\n",
    "\n",
    "rev = reverse(cq.Wire, mirroredWires)\n",
    "debug_wire(rev)"
   ]
  },
  {
   "cell_type": "code",
   "execution_count": null,
   "metadata": {},
   "outputs": [],
   "source": [
    "def mirrorY(workplane):\n",
    "    n = workplane.wire(forConstruction=False)\n",
    "\n",
    "    # attempt to consolidate wires together.\n",
    "    consolidated = n.consolidateWires()\n",
    "\n",
    "    mirroredWires = workplane.plane.mirrorInPlane(consolidated.wires().vals(), 'Y')\n",
    "\n",
    "    for w in mirroredWires:\n",
    "        consolidated.objects.append(w)\n",
    "        consolidated._addPendingWire(w)\n",
    "\n",
    "    # attempt again to consolidate all of the wires\n",
    "    return consolidated.consolidateWires()"
   ]
  },
  {
   "cell_type": "code",
   "execution_count": null,
   "metadata": {},
   "outputs": [],
   "source": []
  },
  {
   "cell_type": "code",
   "execution_count": null,
   "metadata": {},
   "outputs": [],
   "source": []
  },
  {
   "cell_type": "code",
   "execution_count": null,
   "metadata": {},
   "outputs": [],
   "source": []
  },
  {
   "cell_type": "code",
   "execution_count": null,
   "metadata": {},
   "outputs": [],
   "source": []
  },
  {
   "cell_type": "code",
   "execution_count": null,
   "metadata": {},
   "outputs": [],
   "source": []
  },
  {
   "cell_type": "code",
   "execution_count": null,
   "metadata": {},
   "outputs": [],
   "source": []
  },
  {
   "cell_type": "code",
   "execution_count": null,
   "metadata": {},
   "outputs": [],
   "source": [
    "base = (xy\n",
    "    .vLineTo(-base_length/2 + gap/2, forConstruction=True)\n",
    "    .hLineTo(-gap/2)\n",
    "    .vLineTo(-base_length/2)\n",
    "    .hLineTo(-base_width/2)\n",
    "    .vLineTo(-base_length/2 + 10)\n",
    "    .hLineTo(-base_width/2 + gap/2)\n",
    "    .vLineTo(holder_length / 2 - 2)\n",
    "    .hLineTo(-base_width/2)\n",
    "    .vLineTo(holder_length / 2)\n",
    "    .threePointArc((-base_width*3/8, base_length*3/8), (-gap/2, base_length/2))\n",
    "    .vLineTo((base_length-gap)/2)\n",
    "    .hLineTo(0)\n",
    "    .mirrorY()\n",
    ")\n",
    "\n",
    "# Wires(base.mirrorY())\n",
    "len(base.edges().objects)"
   ]
  },
  {
   "cell_type": "code",
   "execution_count": null,
   "metadata": {},
   "outputs": [],
   "source": [
    "def mirrorY(workplane):\n",
    "    n = workplane.wire(forConstruction=False)\n",
    "    print(n)\n",
    "\n",
    "    # attempt to consolidate wires together.\n",
    "    consolidated = n.consolidateWires()\n",
    "\n",
    "    mirroredWires = workplane.plane.mirrorInPlane(consolidated.wires().vals(), 'Y')\n",
    "    print(mirroredWires)\n",
    "    for w in mirroredWires:\n",
    "        consolidated.objects.append(w)\n",
    "        consolidated._addPendingWire(w)\n",
    "\n",
    "    # attempt again to consolidate all of the wires\n",
    "    return consolidated.consolidateWires()"
   ]
  },
  {
   "cell_type": "code",
   "execution_count": null,
   "metadata": {},
   "outputs": [],
   "source": [
    "base = (xy\n",
    "    .vLineTo(-base_length/2 + gap/2, forConstruction=True)\n",
    "    .hLineTo(-gap/2)\n",
    "    .vLineTo(-base_length/2)\n",
    "    .hLineTo(-base_width/2)\n",
    "    .vLineTo(-base_length/2 + 10)\n",
    "    .hLineTo(-base_width/2 + gap/2)\n",
    "    .vLineTo(holder_length / 2 - 2)\n",
    "    .hLineTo(-base_width/2)\n",
    "    .vLineTo(holder_length / 2)\n",
    "    .threePointArc((-base_width*3/8, base_length*3/8), (-gap/2, base_length/2))\n",
    "    .vLineTo((base_length-gap)/2)\n",
    "    .hLineTo(0)\n",
    ")\n",
    "# n = mirrorY(base).objects\n",
    "print(base.wire(forConstruction=False).consolidateWires().wires().vals())"
   ]
  },
  {
   "cell_type": "code",
   "execution_count": null,
   "metadata": {},
   "outputs": [],
   "source": [
    "[(v.X, v.Y, v.Z) for v in o.Vertices()]"
   ]
  },
  {
   "cell_type": "code",
   "execution_count": null,
   "metadata": {},
   "outputs": [],
   "source": [
    "[(v.X, v.Y, v.Z) for v in m.Vertices()]"
   ]
  },
  {
   "cell_type": "code",
   "execution_count": null,
   "metadata": {},
   "outputs": [],
   "source": [
    "[(v.X, v.Y, v.Z) for v in n[0].Vertices()]"
   ]
  },
  {
   "cell_type": "code",
   "execution_count": null,
   "metadata": {},
   "outputs": [],
   "source": [
    "print(base.wire(forConstruction=False).consolidateWires().wires().vals())"
   ]
  },
  {
   "cell_type": "code",
   "execution_count": null,
   "metadata": {},
   "outputs": [],
   "source": [
    "base = (xy\n",
    "    .vLineTo(-base_length/2 + gap/2, forConstruction=True)\n",
    "    .hLineTo(-gap/2)\n",
    "    .vLineTo(-base_length/2)\n",
    "    .hLineTo(-base_width/2)\n",
    "    .vLineTo(-base_length/2 + 10)\n",
    "    .hLineTo(-base_width/2 + gap/2)\n",
    "    .vLineTo(holder_length / 2 - 2)\n",
    "    .hLineTo(-base_width/2)\n",
    "    .vLineTo(holder_length / 2)\n",
    "    .threePointArc((-base_width*3/8, base_length*3/8), (-gap/2, base_length/2))\n",
    "    .vLineTo((base_length-gap)/2)\n",
    "    .hLineTo(0)\n",
    "    .wire()\n",
    ")\n"
   ]
  },
  {
   "cell_type": "markdown",
   "metadata": {},
   "source": [
    "# Analysis"
   ]
  },
  {
   "cell_type": "code",
   "execution_count": null,
   "metadata": {},
   "outputs": [],
   "source": [
    "import cadquery as cq\n",
    "\n",
    "base_width = 38\n",
    "base_length = 64\n",
    "gap = 6\n",
    "holder_length = 22\n",
    "\n",
    "xy = cq.Workplane(\"YX\")\n",
    "\n",
    "def my_mirrorY(workplane):\n",
    "    n = workplane.wire(forConstruction=False)\n",
    "    mirroredWires = workplane.plane.mirrorInPlane(n.wires().vals(), 'Y')\n",
    "    for w in mirroredWires:\n",
    "        n.objects.append(w)\n",
    "        n._addPendingWire(w)\n",
    "    return n"
   ]
  },
  {
   "cell_type": "code",
   "execution_count": null,
   "metadata": {},
   "outputs": [],
   "source": [
    "base1 = (xy\n",
    "    .vLineTo(-base_length/2 + gap/2, forConstruction=True)\n",
    "    .hLineTo(-gap/2)\n",
    "    .vLineTo(-base_length/2)\n",
    "    .hLineTo(-base_width/2)\n",
    "    .vLineTo(-base_length/2 + 10)\n",
    "    .hLineTo(-base_width/2 + gap/2)\n",
    "    .vLineTo(holder_length / 2 - 2)\n",
    "    .hLineTo(-base_width/2)\n",
    "    .vLineTo(holder_length / 2)\n",
    "    .threePointArc((-base_width*3/8, base_length*3/8), (-gap/2, base_length/2))\n",
    "    .vLineTo((base_length-gap)/2)\n",
    "    .hLineTo(0)\n",
    "    .mirrorY()\n",
    ")"
   ]
  },
  {
   "cell_type": "code",
   "execution_count": null,
   "metadata": {},
   "outputs": [],
   "source": [
    "base2 = my_mirrorY(xy\n",
    "    .vLineTo(-base_length/2 + gap/2, forConstruction=True)\n",
    "    .hLineTo(-gap/2)\n",
    "    .vLineTo(-base_length/2)\n",
    "    .hLineTo(-base_width/2)\n",
    "    .vLineTo(-base_length/2 + 10)\n",
    "    .hLineTo(-base_width/2 + gap/2)\n",
    "    .vLineTo(holder_length / 2 - 2)\n",
    "    .hLineTo(-base_width/2)\n",
    "    .vLineTo(holder_length / 2)\n",
    "    .threePointArc((-base_width*3/8, base_length*3/8), (-gap/2, base_length/2))\n",
    "    .vLineTo((base_length-gap)/2)\n",
    "    .hLineTo(0)\n",
    ")\n"
   ]
  },
  {
   "cell_type": "code",
   "execution_count": null,
   "metadata": {},
   "outputs": [],
   "source": [
    "Wires(base2)"
   ]
  },
  {
   "cell_type": "code",
   "execution_count": null,
   "metadata": {},
   "outputs": [],
   "source": []
  },
  {
   "cell_type": "code",
   "execution_count": null,
   "metadata": {},
   "outputs": [],
   "source": [
    "v1 = [[(v.X, v.Y, v.Z) for v in edge.Vertices()] for edge in base1.edges().objects]\n",
    "v2 = [[(v.X, v.Y, v.Z) for v in edge.Vertices()] for edge in base2.edges().objects]\n",
    "print(str(v1) == str(v2))\n",
    "v1"
   ]
  },
  {
   "cell_type": "code",
   "execution_count": null,
   "metadata": {},
   "outputs": [],
   "source": [
    "str(v1) == str(v2)"
   ]
  },
  {
   "cell_type": "code",
   "execution_count": null,
   "metadata": {},
   "outputs": [],
   "source": [
    "w1 = [obj.wrapped for obj in base1.objects]\n",
    "w1"
   ]
  },
  {
   "cell_type": "code",
   "execution_count": null,
   "metadata": {},
   "outputs": [],
   "source": [
    "w2 = [obj.wrapped for obj in base2.objects]\n",
    "w2"
   ]
  },
  {
   "cell_type": "code",
   "execution_count": null,
   "metadata": {},
   "outputs": [],
   "source": [
    "from OCC.Extend.TopologyUtils import discretize_wire\n",
    "dw1 = [discretize_wire(w) for w in w1]\n",
    "dw2 = [discretize_wire(w) for w in w2]"
   ]
  },
  {
   "cell_type": "code",
   "execution_count": null,
   "metadata": {},
   "outputs": [],
   "source": [
    "for i, ((x1,y1,z1),(x2,y2,y3)) in enumerate(zip(dw1[0], dw2[0]+dw2[1])):\n",
    "    if i == 222:\n",
    "        print(\"= = = = \")\n",
    "    print(\"% 3d:\" % i, x1, y1, \" - \", x2, y2)"
   ]
  },
  {
   "cell_type": "code",
   "execution_count": null,
   "metadata": {},
   "outputs": [],
   "source": [
    "dw2"
   ]
  },
  {
   "cell_type": "code",
   "execution_count": null,
   "metadata": {},
   "outputs": [],
   "source": [
    "Wires(base1)"
   ]
  },
  {
   "cell_type": "markdown",
   "metadata": {},
   "source": [
    "## Analysis 2"
   ]
  },
  {
   "cell_type": "code",
   "execution_count": null,
   "metadata": {},
   "outputs": [],
   "source": [
    "base1 = (xy\n",
    "    .vLineTo(-base_length/2 + gap/2, forConstruction=True)\n",
    "    .hLineTo(-gap/2)\n",
    "    .vLineTo(-base_length/2)\n",
    "    .hLineTo(-base_width/2)\n",
    "    .vLineTo(-base_length/2 + 10)\n",
    "    .hLineTo(-base_width/2 + gap/2)\n",
    "    .vLineTo(holder_length / 2 - 2)\n",
    "    .hLineTo(-base_width/2)\n",
    "    .vLineTo(holder_length / 2)\n",
    "    .threePointArc((-base_width*3/8, base_length*3/8), (-gap/2, base_length/2))\n",
    "    .vLineTo((base_length-gap)/2)\n",
    "    .hLineTo(0)\n",
    ")"
   ]
  },
  {
   "cell_type": "code",
   "execution_count": null,
   "metadata": {},
   "outputs": [],
   "source": [
    "n = base1.wire(forConstruction=False)\n",
    "consolidated = n.consolidateWires()"
   ]
  },
  {
   "cell_type": "code",
   "execution_count": null,
   "metadata": {},
   "outputs": [],
   "source": [
    "n.wires().vals()"
   ]
  },
  {
   "cell_type": "code",
   "execution_count": null,
   "metadata": {},
   "outputs": [],
   "source": [
    "for pe in n.ctx.pendingEdges:\n",
    "    print(pe)\n",
    "print(n.ctx.pendingWires)\n",
    "print(n.objects)"
   ]
  },
  {
   "cell_type": "code",
   "execution_count": null,
   "metadata": {},
   "outputs": [],
   "source": [
    "for pe in consolidated.ctx.pendingEdges:\n",
    "    print(pe)\n",
    "print(consolidated.ctx.pendingWires)\n",
    "print(consolidated.objects)"
   ]
  },
  {
   "cell_type": "code",
   "execution_count": null,
   "metadata": {},
   "outputs": [],
   "source": [
    "consolidated.wires().vals()"
   ]
  },
  {
   "cell_type": "code",
   "execution_count": null,
   "metadata": {},
   "outputs": [],
   "source": [
    "def my_mirrorY2(workplane):\n",
    "    n = workplane.wire(forConstruction=False)\n",
    "    consolidated = n.consolidateWires()\n",
    "    mirroredWire = workplane.plane.mirrorInPlane(consolidated.wires().vals(), 'Y')[0]\n",
    "    w = Wire.assembleEdges(reversed(mirroredWire.Edges()))\n",
    "\n",
    "    consolidated.objects.append(w)\n",
    "    consolidated._addPendingWire(w)\n",
    "    return consolidated.consolidateWires()"
   ]
  },
  {
   "cell_type": "code",
   "execution_count": null,
   "metadata": {},
   "outputs": [],
   "source": [
    "base3 = (xy\n",
    "    .vLineTo(-base_length/2 + gap/2, forConstruction=True)\n",
    "    .hLineTo(-gap/2)\n",
    "    .vLineTo(-base_length/2)\n",
    "    .hLineTo(-base_width/2)\n",
    "    .vLineTo(-base_length/2 + 10)\n",
    "    .hLineTo(-base_width/2 + gap/2)\n",
    "    .vLineTo(holder_length / 2 - 2)\n",
    "    .hLineTo(-base_width/2)\n",
    "    .vLineTo(holder_length / 2)\n",
    "    .threePointArc((-base_width*3/8, base_length*3/8), (-gap/2, base_length/2))\n",
    "    .vLineTo((base_length-gap)/2)\n",
    "    .hLineTo(0)\n",
    ")\n"
   ]
  },
  {
   "cell_type": "code",
   "execution_count": null,
   "metadata": {},
   "outputs": [],
   "source": [
    "c = my_mirrorY2(base3)"
   ]
  },
  {
   "cell_type": "code",
   "execution_count": null,
   "metadata": {},
   "outputs": [],
   "source": [
    "Wires(c)"
   ]
  },
  {
   "cell_type": "code",
   "execution_count": null,
   "metadata": {},
   "outputs": [],
   "source": [
    "c[0].Edges()"
   ]
  },
  {
   "cell_type": "code",
   "execution_count": null,
   "metadata": {},
   "outputs": [],
   "source": [
    "Wire.assembleEdges(reversed(c[0].Edges()))"
   ]
  },
  {
   "cell_type": "code",
   "execution_count": null,
   "metadata": {},
   "outputs": [],
   "source": [
    "print(inspect.getsource(c[0]._entities))"
   ]
  },
  {
   "cell_type": "code",
   "execution_count": null,
   "metadata": {},
   "outputs": [],
   "source": [
    "o = c.objects[0]\n",
    "o.Edges()"
   ]
  },
  {
   "cell_type": "code",
   "execution_count": null,
   "metadata": {},
   "outputs": [],
   "source": [
    "my_mirrorY2(base3)[0], base3.wire()"
   ]
  },
  {
   "cell_type": "code",
   "execution_count": null,
   "metadata": {},
   "outputs": [],
   "source": []
  },
  {
   "cell_type": "code",
   "execution_count": null,
   "metadata": {},
   "outputs": [],
   "source": [
    "Wires(base3.consolidateWires())"
   ]
  },
  {
   "cell_type": "code",
   "execution_count": null,
   "metadata": {},
   "outputs": [],
   "source": [
    "base4 = base3.consolidateWires()"
   ]
  },
  {
   "cell_type": "code",
   "execution_count": null,
   "metadata": {},
   "outputs": [],
   "source": [
    "base3.ctx.pendingWires"
   ]
  },
  {
   "cell_type": "code",
   "execution_count": null,
   "metadata": {},
   "outputs": [],
   "source": [
    "base4.ctx.pendingWires"
   ]
  },
  {
   "cell_type": "code",
   "execution_count": null,
   "metadata": {},
   "outputs": [],
   "source": [
    "base3.objects"
   ]
  },
  {
   "cell_type": "code",
   "execution_count": null,
   "metadata": {},
   "outputs": [],
   "source": [
    "base4.objects"
   ]
  },
  {
   "cell_type": "code",
   "execution_count": null,
   "metadata": {},
   "outputs": [],
   "source": [
    "from cadquery import Wire"
   ]
  },
  {
   "cell_type": "code",
   "execution_count": null,
   "metadata": {},
   "outputs": [],
   "source": [
    "import inspect\n",
    "print(inspect.getsource(Wire.combine))"
   ]
  },
  {
   "cell_type": "code",
   "execution_count": null,
   "metadata": {},
   "outputs": [],
   "source": [
    "base3.objects[0].wrapped"
   ]
  },
  {
   "cell_type": "code",
   "execution_count": null,
   "metadata": {},
   "outputs": [],
   "source": [
    "from OCC.Core.ShapeFix import ShapeFix_Wire\n",
    "\n",
    "yz = cq.Workplane(\"YZ\")\n",
    "xy = cq.Workplane(\"YX\")\n",
    "\n",
    "diam = 5.2\n",
    "base_thickness = 2\n",
    "base_width = 38\n",
    "base_length = 64\n",
    "gap = 6\n",
    "\n",
    "holder_thickness = 1\n",
    "holder_length = 22\n",
    "\n",
    "holder_width = diam + 2 * holder_thickness\n",
    "holder_height = diam + holder_thickness\n",
    "\n",
    "side_margin = base_width/2 - holder_width\n",
    "bottom_margin = 15\n",
    "\n",
    "base = (xy\n",
    "    .vLineTo(-base_length/2 + gap/2, forConstruction=True)\n",
    "    .hLineTo(-gap/2)\n",
    "    .vLineTo(-base_length/2)\n",
    "    .hLineTo(-base_width/2)\n",
    "    .vLineTo(-base_length/2 + 10)\n",
    "    .hLineTo(-base_width/2 + gap/2)\n",
    "    .vLineTo(holder_length / 2 - 2)\n",
    "    .hLineTo(-base_width/2)\n",
    "    .vLineTo(holder_length / 2)\n",
    "    .threePointArc((-base_width*3/8, base_length*3/8), (-gap/2, base_length/2))\n",
    "    .vLineTo((base_length-gap)/2)\n",
    "    .hLineTo(0).mirrorY()\n",
    ")\n",
    "\n",
    "w = base.val()\n",
    "f = cq.Face.makeFromWires(w)\n",
    "\n",
    "sf = ShapeFix_Wire(w.wrapped,f.wrapped,1e-6)\n",
    "sf.FixReorder()\n",
    "base2 = cq.Shape(sf.Wire())"
   ]
  },
  {
   "cell_type": "code",
   "execution_count": null,
   "metadata": {},
   "outputs": [],
   "source": [
    "Wires(base2)"
   ]
  },
  {
   "cell_type": "code",
   "execution_count": null,
   "metadata": {},
   "outputs": [],
   "source": [
    "list(enumerate(w))[0]"
   ]
  },
  {
   "cell_type": "code",
   "execution_count": null,
   "metadata": {},
   "outputs": [],
   "source": [
    "from OCC.Extend.TopologyUtils import discretize_wire\n",
    "\n",
    "base = (xy\n",
    "    .vLineTo(-base_length/2 + gap/2, forConstruction=True)\n",
    "    .hLineTo(-gap/2)\n",
    "    .vLineTo(-base_length/2)\n",
    "    .hLineTo(-base_width/2)\n",
    "    .vLineTo(-base_length/2 + 10)\n",
    "    .hLineTo(-base_width/2 + gap/2)\n",
    "    .vLineTo(holder_length / 2 - 2)\n",
    "    .hLineTo(-base_width/2)\n",
    "    .vLineTo(holder_length / 2)\n",
    "    .threePointArc((-base_width*3/8, base_length*3/8), (-gap/2, base_length/2))\n",
    "    .vLineTo((base_length-gap)/2)\n",
    "    .hLineTo(0).mirrorY()\n",
    ")\n",
    "w = discretize_wire(base.objects[0].wrapped)\n",
    "for i,(x,y,z) in enumerate(w[210:234]):\n",
    "    print(\"%03d %6.4f  %6.4f  %6.4f\" % (i+210, x, y, z))"
   ]
  },
  {
   "cell_type": "code",
   "execution_count": null,
   "metadata": {},
   "outputs": [],
   "source": [
    "w"
   ]
  },
  {
   "cell_type": "code",
   "execution_count": null,
   "metadata": {},
   "outputs": [],
   "source": [
    "import cadquery as cq\n",
    "from jupyter_cadquery.cadquery import Wires, Faces, show\n",
    "\n",
    "yz = cq.Workplane(\"YZ\")\n",
    "xy = cq.Workplane(\"YX\")\n",
    "\n",
    "diam = 5.2\n",
    "base_thickness = 2\n",
    "base_width = 38\n",
    "base_length = 64\n",
    "gap = 6\n",
    "\n",
    "holder_thickness = 1\n",
    "holder_length = 22\n",
    "\n",
    "holder_width = diam + 2 * holder_thickness\n",
    "holder_height = diam + holder_thickness\n",
    "\n",
    "side_margin = base_width/2 - holder_width\n",
    "bottom_margin = 15\n",
    "\n",
    "base = (xy\n",
    "    .vLineTo(-base_length/2 + gap/2, forConstruction=True)\n",
    "    .hLineTo(-gap/2)\n",
    "    .vLineTo(-base_length/2)\n",
    "    .hLineTo(-base_width/2)\n",
    "    .vLineTo(-base_length/2 + 10)\n",
    "    .hLineTo(-base_width/2 + gap/2)\n",
    "    .vLineTo(holder_length / 2 - 2)\n",
    "    .hLineTo(-base_width/2)\n",
    "    .vLineTo(holder_length / 2)\n",
    "    .threePointArc((-base_width*3/8, base_length*3/8), (-gap/2, base_length/2))\n",
    "    .vLineTo((base_length-gap)/2)\n",
    "    .hLineTo(0).mirrorY()\n",
    ")\n",
    "\n",
    "w = base.val()\n",
    "f = cq.Face.makeFromWires(w)\n",
    "discretize_me = f.Wires()[0]"
   ]
  },
  {
   "cell_type": "code",
   "execution_count": null,
   "metadata": {},
   "outputs": [],
   "source": [
    "Wires(discretize_me)"
   ]
  },
  {
   "cell_type": "code",
   "execution_count": null,
   "metadata": {},
   "outputs": [],
   "source": [
    "w = cq.Workplane(\"XY\")"
   ]
  },
  {
   "cell_type": "code",
   "execution_count": null,
   "metadata": {},
   "outputs": [],
   "source": [
    "box"
   ]
  },
  {
   "cell_type": "code",
   "execution_count": null,
   "metadata": {},
   "outputs": [],
   "source": [
    "from jupyter_cadquery.occ import show as occ_show"
   ]
  },
  {
   "cell_type": "code",
   "execution_count": null,
   "metadata": {},
   "outputs": [],
   "source": [
    "occ_show(f.wrapped)"
   ]
  },
  {
   "cell_type": "code",
   "execution_count": null,
   "metadata": {},
   "outputs": [],
   "source": []
  },
  {
   "cell_type": "code",
   "execution_count": null,
   "metadata": {},
   "outputs": [],
   "source": []
  },
  {
   "cell_type": "code",
   "execution_count": null,
   "metadata": {},
   "outputs": [],
   "source": []
  },
  {
   "cell_type": "code",
   "execution_count": null,
   "metadata": {},
   "outputs": [],
   "source": []
  },
  {
   "cell_type": "code",
   "execution_count": null,
   "metadata": {},
   "outputs": [],
   "source": [
    "import cadquery as cq"
   ]
  },
  {
   "cell_type": "code",
   "execution_count": null,
   "metadata": {},
   "outputs": [],
   "source": [
    "from OCC.gp import gp_Pnt\n",
    "from OCC.BRepBuilderAPI import BRepBuilderAPI_MakeEdge, BRepBuilderAPI_MakeWire\n",
    "\n",
    "from OCC.Core.BRep import BRep_Tool\n",
    "from OCC.Core.TopoDS import topods_Vertex, topods_Edge\n",
    "\n",
    "from OCC.Extend.TopologyUtils import WireExplorer, TopologyExplorer, dump_topology_to_string\n",
    "from OCC.Display.WebGl.jupyter_renderer import JupyterRenderer\n",
    "r = JupyterRenderer()"
   ]
  },
  {
   "cell_type": "code",
   "execution_count": null,
   "metadata": {},
   "outputs": [],
   "source": [
    "x = []\n",
    "y = []\n",
    "\n",
    "x.append(gp_Pnt( -29.0,  0.0, 0.0)); y.append(gp_Pnt( -29.0,  3.0, 0.0))\n",
    "x.append(gp_Pnt( -29.0,  3.0, 0.0)); y.append(gp_Pnt( -32.0,  3.0, 0.0))\n",
    "x.append(gp_Pnt( -32.0,  3.0, 0.0)); y.append(gp_Pnt( -32.0, 19.0, 0.0))\n",
    "x.append(gp_Pnt( -32.0, 19.0, 0.0)); y.append(gp_Pnt( -22.0, 19.0, 0.0))\n",
    "x.append(gp_Pnt( -22.0, 19.0, 0.0)); y.append(gp_Pnt( -22.0, 16.0, 0.0))\n",
    "x.append(gp_Pnt( -22.0, 16.0, 0.0)); y.append(gp_Pnt(   9.0, 16.0, 0.0))\n",
    "x.append(gp_Pnt(   9.0, 16.0, 0.0)); y.append(gp_Pnt(   9.0, 19.0, 0.0))\n",
    "x.append(gp_Pnt(   9.0, 19.0, 0.0)); y.append(gp_Pnt(  11.0, 19.0, 0.0))\n",
    "x.append(gp_Pnt(  11.0, 19.0, 0.0)); y.append(gp_Pnt(  32.0,  3.0, 0.0))\n",
    "x.append(gp_Pnt(  32.0,  3.0, 0.0)); y.append(gp_Pnt(  29.0,  3.0, 0.0))\n",
    "x.append(gp_Pnt(  29.0,  3.0, 0.0)); y.append(gp_Pnt(  29.0,  0.0, 0.0))\n",
    "\n",
    "edges = []; \n",
    "for a,b in zip(x,y):\n",
    "    edges.append(BRepBuilderAPI_MakeEdge(a,b))\n",
    "\n",
    "edges\n",
    "\n",
    "builder = BRepBuilderAPI_MakeWire()\n",
    "for edge in edges:\n",
    "    builder.Add(edge.Edge())\n",
    "\n",
    "wire = builder.Wire()\n",
    "r.DisplayShape(wire)\n",
    "display(r)"
   ]
  },
  {
   "cell_type": "code",
   "execution_count": null,
   "metadata": {},
   "outputs": [],
   "source": [
    "brt = BRep_Tool()\n",
    "\n",
    "def reverse(wire):\n",
    "    builder = BRepBuilderAPI_MakeWire()\n",
    "    we = WireExplorer(wire)\n",
    "    edges = [edge for edge in reversed(list(we.ordered_edges()))]\n",
    "    for edge in we.ordered_edges():\n",
    "        builder.Add(edge.Reversed())\n",
    "    return builder.Wire()\n"
   ]
  },
  {
   "cell_type": "code",
   "execution_count": null,
   "metadata": {},
   "outputs": [],
   "source": []
  },
  {
   "cell_type": "code",
   "execution_count": null,
   "metadata": {},
   "outputs": [],
   "source": [
    "we = WireExplorer(wire)\n",
    "for e in we.ordered_edges():\n"
   ]
  },
  {
   "cell_type": "code",
   "execution_count": null,
   "metadata": {},
   "outputs": [],
   "source": [
    "e = list(we.ordered_edges())[0]\n",
    "dump_topology_to_string(e)\n",
    "\n",
    "dump_topology_to_string(e.Reversed())\n"
   ]
  },
  {
   "cell_type": "code",
   "execution_count": null,
   "metadata": {},
   "outputs": [],
   "source": [
    "we = WireExplorer(wire)\n",
    "for v in list(reversed(list(we.ordered_vertices()))):\n",
    "    pnt = brt.Pnt(topods_Vertex(v))\n",
    "    print(pnt.X(), -pnt.Y(), pnt.Z())"
   ]
  },
  {
   "cell_type": "code",
   "execution_count": null,
   "metadata": {},
   "outputs": [],
   "source": [
    "dump_topology_to_string(wire)"
   ]
  },
  {
   "cell_type": "code",
   "execution_count": null,
   "metadata": {},
   "outputs": [],
   "source": [
    "dump_topology_to_string(reverse(wire))"
   ]
  },
  {
   "cell_type": "code",
   "execution_count": null,
   "metadata": {},
   "outputs": [],
   "source": []
  },
  {
   "cell_type": "code",
   "execution_count": null,
   "metadata": {},
   "outputs": [],
   "source": [
    "def reverse(wire):\n",
    "    wire_builder = BRepBuilderAPI_MakeWire()\n",
    "    we = WireExplorer(wire.wrapped)\n",
    "    edges = [edge for edge in reversed(list(we.ordered_edges()))]\n",
    "    for edge in we.ordered_edges():\n",
    "        print(edge.Orientation())\n",
    "        print(edge.Reversed().Orientation())\n",
    "        print(edge.Reversed().Vertices())\n",
    "        wire_builder.Add(edge.Reversed())\n",
    "    return wire.__class__(wire_builder.Wire())"
   ]
  },
  {
   "cell_type": "code",
   "execution_count": null,
   "metadata": {},
   "outputs": [],
   "source": []
  }
 ],
 "metadata": {
  "kernelspec": {
   "display_name": "Python 3",
   "language": "python",
   "name": "python3"
  },
  "language_info": {
   "codemirror_mode": {
    "name": "ipython",
    "version": 3
   },
   "file_extension": ".py",
   "mimetype": "text/x-python",
   "name": "python",
   "nbconvert_exporter": "python",
   "pygments_lexer": "ipython3",
   "version": "3.6.7"
  }
 },
 "nbformat": 4,
 "nbformat_minor": 2
}
