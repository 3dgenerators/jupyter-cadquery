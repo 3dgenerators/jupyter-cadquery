{
 "cells": [
  {
   "cell_type": "markdown",
   "metadata": {},
   "source": [
    "# Intro"
   ]
  },
  {
   "cell_type": "code",
   "execution_count": 1,
   "metadata": {},
   "outputs": [
    {
     "name": "stdout",
     "output_type": "stream",
     "text": [
      "Overwriting auto display for cadquery Workplane and Shape\n"
     ]
    }
   ],
   "source": [
    "import cadquery as cq\n",
    "from jupyter_cadquery.cadquery import show"
   ]
  },
  {
   "cell_type": "code",
   "execution_count": 2,
   "metadata": {},
   "outputs": [
    {
     "data": {
      "application/vnd.jupyter.widget-view+json": {
       "model_id": "efcd7304b7014760bea5229be9bd254d",
       "version_major": 2,
       "version_minor": 0
      },
      "text/plain": [
       "HBox(children=(VBox(children=(HBox(children=(Checkbox(value=False, description='Axes', indent=False, _dom_clas…"
      ]
     },
     "metadata": {},
     "output_type": "display_data"
    }
   ],
   "source": [
    "b = cq.Workplane('XY')\n",
    "b.box(10, 20, 30).edges(\">X or <X\").fillet(2)"
   ]
  },
  {
   "cell_type": "markdown",
   "metadata": {},
   "source": [
    "# Assemblies"
   ]
  },
  {
   "cell_type": "code",
   "execution_count": 3,
   "metadata": {},
   "outputs": [],
   "source": [
    "import cadquery as cq\n",
    "from jupyter_cadquery.cadquery import (Assembly, Part, Edges, Faces, Vertices, show, \n",
    "                                       replay, enable_replay, disable_replay, reset_replay)\n",
    "from jupyter_cadquery import set_sidecar\n",
    "\n",
    "set_sidecar(\"CadQuery\")"
   ]
  },
  {
   "cell_type": "code",
   "execution_count": 4,
   "metadata": {},
   "outputs": [
    {
     "name": "stdout",
     "output_type": "stream",
     "text": [
      "\n",
      "Enabling jupyter_cadquery replay\n"
     ]
    }
   ],
   "source": [
    "enable_replay()"
   ]
  },
  {
   "cell_type": "code",
   "execution_count": 5,
   "metadata": {},
   "outputs": [
    {
     "name": "stderr",
     "output_type": "stream",
     "text": [
      "RuntimeWarning: jupyter_cadquery replay is enabled, turn off with disable_replay()"
     ]
    }
   ],
   "source": [
    "box1 = cq.Workplane('XY').box(10, 20, 30).edges(\">X or <X\").chamfer(2)\n",
    "box1.name = \"box1\"\n",
    "\n",
    "box2 = cq.Workplane('XY').box(8, 18, 28).edges(\">X or <X\").chamfer(2)\n",
    "box2.name = \"box2\"\n",
    "\n",
    "box3 = cq.Workplane('XY').transformed(offset=(0, 15, 7))\\\n",
    "    .box(30, 20, 6).edges(\">Z\").fillet(3)\n",
    "box3.name = \"box3\"\n",
    "\n",
    "box4 = box3.mirror(\"XY\").translate((0, -5, 0))\n",
    "box4.name = \"box4\"\n",
    "\n",
    "box1 = box1\\\n",
    "    .cut(box2)\\\n",
    "    .cut(box3)\\\n",
    "    .cut(box4)\n"
   ]
  },
  {
   "cell_type": "code",
   "execution_count": 6,
   "metadata": {},
   "outputs": [
    {
     "name": "stderr",
     "output_type": "stream",
     "text": [
      "RuntimeWarning: jupyter_cadquery replay is enabled, turn off with disable_replay()"
     ]
    },
    {
     "name": "stdout",
     "output_type": "stream",
     "text": [
      "Done, using side car 'CadQuery'\n"
     ]
    },
    {
     "data": {
      "text/plain": [
       "<jupyter_cadquery.cad_display.CadqueryDisplay at 0x7fbe6800a450>"
      ]
     },
     "execution_count": 6,
     "metadata": {},
     "output_type": "execute_result"
    }
   ],
   "source": [
    "a1 = Assembly(\n",
    "    [\n",
    "        Part(box1, \"red box\",   \"#d7191c\", show_edges=False),\n",
    "        Part(box3, \"green box\", \"#abdda4\", show_edges=False),\n",
    "        Part(box4, \"blue box\",  \"#2b83ba\", show_faces=False),\n",
    "    ],\n",
    "    \"example 1\"\n",
    ")\n",
    "show(a1, axes=True, grid=True, ortho=True, axes0=True)"
   ]
  },
  {
   "cell_type": "markdown",
   "metadata": {},
   "source": [
    "# Faces, Edges, Vertices"
   ]
  },
  {
   "cell_type": "code",
   "execution_count": null,
   "metadata": {},
   "outputs": [],
   "source": [
    "box1"
   ]
  },
  {
   "cell_type": "code",
   "execution_count": null,
   "metadata": {},
   "outputs": [],
   "source": [
    "box1.faces(\"not(|Z or |X or |Y)\")"
   ]
  },
  {
   "cell_type": "code",
   "execution_count": null,
   "metadata": {},
   "outputs": [],
   "source": [
    "box1.edges(\"not(|X or |Y or |Z)\")"
   ]
  },
  {
   "cell_type": "code",
   "execution_count": null,
   "metadata": {},
   "outputs": [],
   "source": [
    "box1.vertices()"
   ]
  },
  {
   "cell_type": "markdown",
   "metadata": {},
   "source": [
    "# Replay"
   ]
  },
  {
   "cell_type": "code",
   "execution_count": 7,
   "metadata": {},
   "outputs": [
    {
     "name": "stderr",
     "output_type": "stream",
     "text": [
      "RuntimeWarning: jupyter_cadquery replay is enabled, turn off with disable_replay()"
     ]
    },
    {
     "data": {
      "application/vnd.jupyter.widget-view+json": {
       "model_id": "a7f82fc1b5c84f45b79ab0e025dccb61",
       "version_major": 2,
       "version_minor": 0
      },
      "text/plain": [
       "HBox(children=(SelectMultiple(_dom_classes=('monospace',), index=(0,), layout=Layout(width='600px'), options=(…"
      ]
     },
     "metadata": {},
     "output_type": "display_data"
    }
   ],
   "source": [
    "r = replay(box1)"
   ]
  },
  {
   "cell_type": "markdown",
   "metadata": {},
   "source": [
    "# Export HTML"
   ]
  },
  {
   "cell_type": "code",
   "execution_count": null,
   "metadata": {},
   "outputs": [],
   "source": [
    "from ipywidgets.embed import embed_minimal_html\n",
    "from jupyter_cadquery import cad_display\n",
    "    \n",
    "w = show(a1, axes=True, grid=True, ortho=True, axes0=True)\n",
    "\n",
    "sidecar = cad_display.SIDECAR\n",
    "if sidecar:\n",
    "    cad_display.SIDECAR.close()\n",
    "\n",
    "embed_minimal_html('export.html', views=[w.cq_view.renderer], title='Box')\n",
    "\n",
    "if sidecar:\n",
    "    set_sidecar(\"CadQuery\")"
   ]
  },
  {
   "cell_type": "markdown",
   "metadata": {},
   "source": [
    "# Export to STL"
   ]
  },
  {
   "cell_type": "code",
   "execution_count": null,
   "metadata": {},
   "outputs": [],
   "source": [
    "from jupyter_cadquery import exportSTL\n",
    "\n",
    "exportSTL(a1, \"a1.stl\", linear_deflection=0.01, angular_deflection=0.1)"
   ]
  },
  {
   "cell_type": "code",
   "execution_count": null,
   "metadata": {},
   "outputs": [],
   "source": []
  }
 ],
 "metadata": {
  "kernelspec": {
   "display_name": "Python 3",
   "language": "python",
   "name": "python3"
  },
  "language_info": {
   "codemirror_mode": {
    "name": "ipython",
    "version": 3
   },
   "file_extension": ".py",
   "mimetype": "text/x-python",
   "name": "python",
   "nbconvert_exporter": "python",
   "pygments_lexer": "ipython3",
   "version": "3.7.6"
  }
 },
 "nbformat": 4,
 "nbformat_minor": 4
}
