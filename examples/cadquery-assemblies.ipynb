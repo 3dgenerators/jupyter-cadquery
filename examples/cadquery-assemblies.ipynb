{
 "cells": [
  {
   "cell_type": "code",
   "execution_count": 1,
   "metadata": {
    "execution": {
     "iopub.execute_input": "2020-09-25T08:04:43.961023Z",
     "iopub.status.busy": "2020-09-25T08:04:43.959889Z",
     "iopub.status.idle": "2020-09-25T08:04:52.285002Z",
     "shell.execute_reply": "2020-09-25T08:04:52.283947Z",
     "shell.execute_reply.started": "2020-09-25T08:04:43.960952Z"
    }
   },
   "outputs": [],
   "source": [
    "import cadquery as cq"
   ]
  },
  {
   "cell_type": "code",
   "execution_count": 2,
   "metadata": {
    "execution": {
     "iopub.execute_input": "2020-09-25T08:04:52.287229Z",
     "iopub.status.busy": "2020-09-25T08:04:52.286684Z",
     "iopub.status.idle": "2020-09-25T08:04:52.718757Z",
     "shell.execute_reply": "2020-09-25T08:04:52.717878Z",
     "shell.execute_reply.started": "2020-09-25T08:04:52.287179Z"
    }
   },
   "outputs": [],
   "source": [
    "from jupyter_cadquery.occ import show, Part, Assembly"
   ]
  },
  {
   "cell_type": "code",
   "execution_count": 18,
   "metadata": {
    "execution": {
     "iopub.execute_input": "2020-09-25T08:13:58.044675Z",
     "iopub.status.busy": "2020-09-25T08:13:58.043932Z",
     "iopub.status.idle": "2020-09-25T08:13:58.074016Z",
     "shell.execute_reply": "2020-09-25T08:13:58.069301Z",
     "shell.execute_reply.started": "2020-09-25T08:13:58.044616Z"
    }
   },
   "outputs": [],
   "source": [
    "import html\n",
    "\n",
    "def rgb(assy):\n",
    "    def b(x):\n",
    "        return int(255*x)\n",
    "    \n",
    "    if assy.color is None:\n",
    "        return \"#aaa\"\n",
    "    rgb = assy.color.wrapped.GetRGB()\n",
    "    return \"#%02x%02x%02x\" % (b(rgb.Red()), b(rgb.Green()), b(rgb.Blue()))\n",
    "\n",
    "def convert(assy, loc=None):\n",
    "    loc = assy.loc if loc is None else loc * assy.loc\n",
    "    color = rgb(assy)\n",
    "    parent = [Part(shape.located(loc).wrapped, \"%s_%d\" % (assy.name, i), color=color) for i, shape in enumerate(assy.shapes)]\n",
    "    children = [convert(c, loc) for c in assy.children]\n",
    "    return Assembly(parent + children, assy.name)\n",
    "\n",
    "def show_constraint(assy, q1, q2):\n",
    "    parts = []\n",
    "    for q in (q1, q2):\n",
    "        name, kind, arg = q.split(\"@\")\n",
    "        obj = assy.objects[name].obj\n",
    "        parts += [\n",
    "            Part(obj.objects[0].located(loc).wrapped, name=name, show_faces=False), \n",
    "            Part(assy._query(q)[1].wrapped, name=html.escape(q))\n",
    "        ]\n",
    "    show(Assembly(parts))"
   ]
  },
  {
   "cell_type": "code",
   "execution_count": 10,
   "metadata": {
    "execution": {
     "iopub.execute_input": "2020-09-25T08:08:52.347167Z",
     "iopub.status.busy": "2020-09-25T08:08:52.346863Z",
     "iopub.status.idle": "2020-09-25T08:08:52.357661Z",
     "shell.execute_reply": "2020-09-25T08:08:52.355957Z",
     "shell.execute_reply.started": "2020-09-25T08:08:52.347134Z"
    }
   },
   "outputs": [],
   "source": [
    "def L(x,y,z):\n",
    "    return cq.Location(cq.Vector(x, y, z))\n",
    "def C(c):\n",
    "    return cq.Color(c)"
   ]
  },
  {
   "cell_type": "code",
   "execution_count": 12,
   "metadata": {
    "execution": {
     "iopub.execute_input": "2020-09-25T08:09:22.092561Z",
     "iopub.status.busy": "2020-09-25T08:09:22.091265Z",
     "iopub.status.idle": "2020-09-25T08:09:22.341383Z",
     "shell.execute_reply": "2020-09-25T08:09:22.340484Z",
     "shell.execute_reply.started": "2020-09-25T08:09:22.092501Z"
    }
   },
   "outputs": [
    {
     "data": {
      "text/plain": [
       "<cadquery.assembly.Assembly at 0x7ffb64090e10>"
      ]
     },
     "execution_count": 12,
     "metadata": {},
     "output_type": "execute_result"
    }
   ],
   "source": [
    "b1 = cq.Workplane().box(1, 1, 2).faces('>Z').edges('>X').chamfer(0.4)\n",
    "b2 = cq.Workplane().box(.1, 2, 1).faces('>Z').edges('>Y').chamfer(0.1)\n",
    "b3 = cq.Workplane().box(2, .1, .5).faces('>Z').edges('>X').chamfer(0.1)\n",
    "b4 = cq.Workplane().box(1, 1, .2).faces('>Y').edges('>X').chamfer(0.1)\n",
    "\n",
    "assy = cq.Assembly(b1, loc=L(1, 1, 0), name=\"TOP\")\n",
    "assy2 = cq.Assembly(b2, loc=L(0, -3, 4), name=\"SECOND\")\n",
    "assy3 = cq.Assembly(b3, loc=L(0, 0, 5), name=\"THIRD\", color=C('orange'))\n",
    "\n",
    "assy.add(assy2, color=C(\"green\"))\n",
    "assy.add(assy3)\n",
    "assy.add(b4, loc=L(0, 0, 5), name=\"4th\",color=C(\"blue1\"))"
   ]
  },
  {
   "cell_type": "code",
   "execution_count": 19,
   "metadata": {
    "execution": {
     "iopub.execute_input": "2020-09-25T08:14:11.845165Z",
     "iopub.status.busy": "2020-09-25T08:14:11.844866Z",
     "iopub.status.idle": "2020-09-25T08:14:12.735519Z",
     "shell.execute_reply": "2020-09-25T08:14:12.734752Z",
     "shell.execute_reply.started": "2020-09-25T08:14:11.845134Z"
    }
   },
   "outputs": [
    {
     "data": {
      "application/vnd.jupyter.widget-view+json": {
       "model_id": "c7b17de93859443799fc3e6277f44fd0",
       "version_major": 2,
       "version_minor": 0
      },
      "text/plain": [
       "HBox(children=(VBox(children=(HBox(children=(Checkbox(value=False, description='Axes', indent=False, _dom_clas…"
      ]
     },
     "metadata": {},
     "output_type": "display_data"
    },
    {
     "data": {
      "text/plain": [
       "<jupyter_cadquery.cad_display.CadqueryDisplay at 0x7ffb64590650>"
      ]
     },
     "execution_count": 19,
     "metadata": {},
     "output_type": "execute_result"
    }
   ],
   "source": [
    "show(convert(assy))"
   ]
  },
  {
   "cell_type": "code",
   "execution_count": 25,
   "metadata": {
    "execution": {
     "iopub.execute_input": "2020-09-25T07:58:47.784115Z",
     "iopub.status.busy": "2020-09-25T07:58:47.783701Z",
     "iopub.status.idle": "2020-09-25T07:58:49.107148Z",
     "shell.execute_reply": "2020-09-25T07:58:49.106077Z",
     "shell.execute_reply.started": "2020-09-25T07:58:47.784066Z"
    }
   },
   "outputs": [
    {
     "name": "stdout",
     "output_type": "stream",
     "text": [
      "b'CONVERGENCE: NORM_OF_PROJECTED_GRADIENT_<=_PGTOL'\n"
     ]
    },
    {
     "data": {
      "text/plain": [
       "<cadquery.assembly.Assembly at 0x7fb6362f7790>"
      ]
     },
     "execution_count": 25,
     "metadata": {},
     "output_type": "execute_result"
    }
   ],
   "source": [
    "assy.constrain(\"TOP@faces@>(1,0,1)\", \"THIRD@faces@>Z\", \"Plane\")\n",
    "assy.constrain(\"TOP@faces@<Y\", \"SECOND@faces@<Y\", \"Axis\")\n",
    "assy.constrain(\"THIRD@faces@<X\", \"SECOND@faces@>X\", \"Plane\")\n",
    "#assy.constrain(\"SECOND@faces@>Z\", \"THIRD@faces@<Z\", \"Axis\")\n",
    "assy.constrain(\"4th@faces@>Z\", \"SECOND@faces@<Z\", \"Plane\")\n",
    "assy.constrain(\"4th@faces@>Y\", \"TOP@faces@<Y\", \"Axis\")\n",
    "assy.solve()"
   ]
  },
  {
   "cell_type": "code",
   "execution_count": 30,
   "metadata": {
    "execution": {
     "iopub.execute_input": "2020-09-25T08:01:08.773994Z",
     "iopub.status.busy": "2020-09-25T08:01:08.773729Z",
     "iopub.status.idle": "2020-09-25T08:01:09.587890Z",
     "shell.execute_reply": "2020-09-25T08:01:09.587095Z",
     "shell.execute_reply.started": "2020-09-25T08:01:08.773968Z"
    }
   },
   "outputs": [
    {
     "data": {
      "application/vnd.jupyter.widget-view+json": {
       "model_id": "584d90992e6c4f98877c1902afea6818",
       "version_major": 2,
       "version_minor": 0
      },
      "text/plain": [
       "HBox(children=(VBox(children=(HBox(children=(Checkbox(value=False, description='Axes', indent=False, _dom_clas…"
      ]
     },
     "metadata": {},
     "output_type": "display_data"
    },
    {
     "data": {
      "text/plain": [
       "<jupyter_cadquery.cad_display.CadqueryDisplay at 0x7fb636c3ca50>"
      ]
     },
     "execution_count": 30,
     "metadata": {},
     "output_type": "execute_result"
    }
   ],
   "source": [
    "show(convert(assy))"
   ]
  },
  {
   "cell_type": "code",
   "execution_count": 20,
   "metadata": {
    "execution": {
     "iopub.execute_input": "2020-09-25T08:14:23.860983Z",
     "iopub.status.busy": "2020-09-25T08:14:23.860689Z",
     "iopub.status.idle": "2020-09-25T08:14:24.739109Z",
     "shell.execute_reply": "2020-09-25T08:14:24.737552Z",
     "shell.execute_reply.started": "2020-09-25T08:14:23.860950Z"
    }
   },
   "outputs": [
    {
     "data": {
      "application/vnd.jupyter.widget-view+json": {
       "model_id": "c9252909b7e6498cbdfc3ee3ce85229a",
       "version_major": 2,
       "version_minor": 0
      },
      "text/plain": [
       "HBox(children=(VBox(children=(HBox(children=(Checkbox(value=False, description='Axes', indent=False, _dom_clas…"
      ]
     },
     "metadata": {},
     "output_type": "display_data"
    }
   ],
   "source": [
    "show_constraint(assy, \"TOP@faces@>(1,0,1)\", \"THIRD@faces@>Z\")"
   ]
  },
  {
   "cell_type": "code",
   "execution_count": 103,
   "metadata": {
    "execution": {
     "iopub.execute_input": "2020-09-24T15:51:51.529748Z",
     "iopub.status.busy": "2020-09-24T15:51:51.529531Z",
     "iopub.status.idle": "2020-09-24T15:51:52.612060Z",
     "shell.execute_reply": "2020-09-24T15:51:52.611312Z",
     "shell.execute_reply.started": "2020-09-24T15:51:51.529724Z"
    }
   },
   "outputs": [
    {
     "data": {
      "application/vnd.jupyter.widget-view+json": {
       "model_id": "2665c70c20e247bf8b6e215a0c570578",
       "version_major": 2,
       "version_minor": 0
      },
      "text/plain": [
       "HBox(children=(VBox(children=(HBox(children=(Checkbox(value=False, description='Axes', indent=False, _dom_clas…"
      ]
     },
     "metadata": {},
     "output_type": "display_data"
    }
   ],
   "source": [
    "show_constraint(assy, \"TOP@faces@<Y\", \"SECOND@faces@<Y\")"
   ]
  },
  {
   "cell_type": "code",
   "execution_count": 105,
   "metadata": {
    "execution": {
     "iopub.execute_input": "2020-09-24T15:53:29.118003Z",
     "iopub.status.busy": "2020-09-24T15:53:29.117429Z",
     "iopub.status.idle": "2020-09-24T15:53:30.021545Z",
     "shell.execute_reply": "2020-09-24T15:53:30.020562Z",
     "shell.execute_reply.started": "2020-09-24T15:53:29.117951Z"
    }
   },
   "outputs": [
    {
     "data": {
      "application/vnd.jupyter.widget-view+json": {
       "model_id": "6c76c8433f814a8ca8b6739e437f2472",
       "version_major": 2,
       "version_minor": 0
      },
      "text/plain": [
       "HBox(children=(VBox(children=(HBox(children=(Checkbox(value=False, description='Axes', indent=False, _dom_clas…"
      ]
     },
     "metadata": {},
     "output_type": "display_data"
    }
   ],
   "source": [
    "show_constraint(assy, \"SECOND@faces@>Z\", \"THIRD@faces@<Z\")"
   ]
  },
  {
   "cell_type": "code",
   "execution_count": 106,
   "metadata": {
    "execution": {
     "iopub.execute_input": "2020-09-24T15:53:30.842023Z",
     "iopub.status.busy": "2020-09-24T15:53:30.841485Z",
     "iopub.status.idle": "2020-09-24T15:53:31.613991Z",
     "shell.execute_reply": "2020-09-24T15:53:31.613274Z",
     "shell.execute_reply.started": "2020-09-24T15:53:30.841976Z"
    }
   },
   "outputs": [
    {
     "data": {
      "application/vnd.jupyter.widget-view+json": {
       "model_id": "0da3ab3e5b17435ab5bf888642774876",
       "version_major": 2,
       "version_minor": 0
      },
      "text/plain": [
       "HBox(children=(VBox(children=(HBox(children=(Checkbox(value=False, description='Axes', indent=False, _dom_clas…"
      ]
     },
     "metadata": {},
     "output_type": "display_data"
    }
   ],
   "source": [
    "show_constraint(assy, \"THIRD@faces@<X\", \"SECOND@faces@>X\")"
   ]
  },
  {
   "cell_type": "code",
   "execution_count": 107,
   "metadata": {
    "execution": {
     "iopub.execute_input": "2020-09-24T15:53:31.923176Z",
     "iopub.status.busy": "2020-09-24T15:53:31.922217Z",
     "iopub.status.idle": "2020-09-24T15:53:33.884425Z",
     "shell.execute_reply": "2020-09-24T15:53:33.883544Z",
     "shell.execute_reply.started": "2020-09-24T15:53:31.923136Z"
    }
   },
   "outputs": [
    {
     "data": {
      "application/vnd.jupyter.widget-view+json": {
       "model_id": "a7293be27b9844b3ad23e0c84ce9b666",
       "version_major": 2,
       "version_minor": 0
      },
      "text/plain": [
       "HBox(children=(VBox(children=(HBox(children=(Checkbox(value=False, description='Axes', indent=False, _dom_clas…"
      ]
     },
     "metadata": {},
     "output_type": "display_data"
    }
   ],
   "source": [
    "show_constraint(assy, \"4th@faces@>Z\", \"SECOND@faces@<Z\")"
   ]
  },
  {
   "cell_type": "code",
   "execution_count": 108,
   "metadata": {
    "execution": {
     "iopub.execute_input": "2020-09-24T15:53:33.887251Z",
     "iopub.status.busy": "2020-09-24T15:53:33.886950Z",
     "iopub.status.idle": "2020-09-24T15:53:35.321553Z",
     "shell.execute_reply": "2020-09-24T15:53:35.320078Z",
     "shell.execute_reply.started": "2020-09-24T15:53:33.887204Z"
    }
   },
   "outputs": [
    {
     "data": {
      "application/vnd.jupyter.widget-view+json": {
       "model_id": "0611f17bc0564b0cb77268c4a153664b",
       "version_major": 2,
       "version_minor": 0
      },
      "text/plain": [
       "HBox(children=(VBox(children=(HBox(children=(Checkbox(value=False, description='Axes', indent=False, _dom_clas…"
      ]
     },
     "metadata": {},
     "output_type": "display_data"
    }
   ],
   "source": [
    "show_constraint(assy, \"4th@faces@>Y\", \"TOP@faces@<Y\")"
   ]
  },
  {
   "cell_type": "code",
   "execution_count": null,
   "metadata": {},
   "outputs": [],
   "source": []
  }
 ],
 "metadata": {
  "kernelspec": {
   "display_name": "Python 3",
   "language": "python",
   "name": "python3"
  },
  "language_info": {
   "codemirror_mode": {
    "name": "ipython",
    "version": 3
   },
   "file_extension": ".py",
   "mimetype": "text/x-python",
   "name": "python",
   "nbconvert_exporter": "python",
   "pygments_lexer": "ipython3",
   "version": "3.7.7"
  },
  "widgets": {
   "application/vnd.jupyter.widget-state+json": {
    "state": {
     "0028e1c916e94b0dab2817d15f64f90e": {
      "model_module": "@jupyter-widgets/controls",
      "model_module_version": "1.5.0",
      "model_name": "ButtonStyleModel",
      "state": {}
     },
     "002ec13cb0334571a8d3bf184b6864bf": {
      "model_module": "@jupyter-widgets/base",
      "model_module_version": "1.2.0",
      "model_name": "LayoutModel",
      "state": {}
     },
     "00439de6b98940a59a53d010f36352cc": {
      "model_module": "@jupyter-widgets/controls",
      "model_module_version": "1.5.0",
      "model_name": "ButtonStyleModel",
      "state": {}
     },
     "004e6a17720a4219858d710815b0d152": {
      "model_module": "@jupyter-widgets/controls",
      "model_module_version": "1.5.0",
      "model_name": "ButtonStyleModel",
      "state": {}
     },
     "0065ab55efcd41f981ff9ed84cc0350d": {
      "model_module": "@jupyter-widgets/base",
      "model_module_version": "1.2.0",
      "model_name": "LayoutModel",
      "state": {
       "height": "335px",
       "width": "230px"
      }
     },
     "00d0ade8bdc0499a8e2f8bd49ec15ff7": {
      "model_module": "@jupyter-widgets/base",
      "model_module_version": "1.2.0",
      "model_name": "LayoutModel",
      "state": {}
     },
     "0103255f20e04a73836c15f080c5f778": {
      "model_module": "@jupyter-widgets/controls",
      "model_module_version": "1.5.0",
      "model_name": "VBoxModel",
      "state": {
       "children": [
        "IPY_MODEL_8ba6df2b28554becb656fe7afa09498f",
        "IPY_MODEL_7ca592d6087b4eb0932035476cb8b0bd"
       ],
       "layout": "IPY_MODEL_c6a4393404974845be53a2091e3ef1d2"
      }
     },
     "011e5182-4d3e-4409-929d-9b68002fa9b3": {
      "model_module": "jupyter-threejs",
      "model_module_version": "^2.1.0",
      "model_name": "OrthographicCameraModel",
      "state": {
       "bottom": -5,
       "far": 500,
       "left": -5,
       "near": 0.5,
       "projectionMatrix": [
        0.2,
        0,
        0,
        0,
        0,
        0.2,
        0,
        0,
        0,
        0,
        -0.004004004004004004,
        0,
        0,
        0,
        -1.002002002002002,
        1
       ],
       "right": 5,
       "top": 5
      }
     },
     "0188372ca4cf41d4814a777800eaa123": {
      "model_module": "@jupyter-widgets/base",
      "model_module_version": "1.2.0",
      "model_name": "LayoutModel",
      "state": {}
     },
     "01d2857633ad4657b7e71d823500911f": {
      "model_module": "@jupyter-widgets/controls",
      "model_module_version": "1.5.0",
      "model_name": "DescriptionStyleModel",
      "state": {
       "description_width": ""
      }
     },
     "023efab1fafb47df9e1aed3eda29ec91": {
      "model_module": "jupyter-threejs",
      "model_module_version": "^2.1.0",
      "model_name": "SceneModel",
      "state": {
       "_view_module": null,
       "_view_module_version": "",
       "children": [
        "IPY_MODEL_ac8f7cfeb7e1494091ca7202600352f7",
        "IPY_MODEL_8dc957a3c6f84b7eb03d9b49674307d5",
        "IPY_MODEL_bafe2ef1762d437f87c1a30b346f2f04",
        "IPY_MODEL_20e08755ca5e4f0ab588688bc6fb450b",
        "IPY_MODEL_38ffd8c2442b421680e9ea20ed716a24",
        "IPY_MODEL_8a30a69d3f0d48388da64abdd5491ce3",
        "IPY_MODEL_57829463992c48eda83ff7ad4d60ee9d",
        "IPY_MODEL_37aceded30a64e9e8430d2448784de0f",
        "IPY_MODEL_db581bc3f5fc4d6bb1307655406a84e3",
        "IPY_MODEL_2b174bca437c4dc9b5673bcddfc8d243",
        "IPY_MODEL_b541fa40b18c4667be583a20de532b25",
        "IPY_MODEL_e10893e9bee94a52ae9fe7af99b4e50b",
        "IPY_MODEL_61af87db061c41d4976989a046a96a24",
        "IPY_MODEL_e23751e97bb34d53bbc9cbb0f1b56a5b",
        "IPY_MODEL_bb8ab1d6de804a53ab9074f595ff3f2b"
       ]
      }
     },
     "02404412a1a94363ab5220ba13652f7a": {
      "model_module": "@jupyter-widgets/controls",
      "model_module_version": "1.5.0",
      "model_name": "CheckboxModel",
      "state": {
       "_dom_classes": [
        "view_black_edges"
       ],
       "description": "Black Edges",
       "disabled": false,
       "indent": false,
       "layout": "IPY_MODEL_382f5fab23a640b286153425980d5931",
       "style": "IPY_MODEL_afe40a827b3d4435b96b31424379f578",
       "value": false
      }
     },
     "0266685fe1d74f6b98cc37fb3d532e62": {
      "buffers": [
       {
        "data": "AACAv83MTD0AAIA+ZmZmP83MTD0AAIA+AACAv83MTL0AAIA+ZmZmP83MTL0AAIA+",
        "encoding": "base64",
        "path": [
         "array",
         "buffer"
        ]
       }
      ],
      "model_module": "jupyter-threejs",
      "model_module_version": "^2.1.0",
      "model_name": "BufferAttributeModel",
      "state": {
       "_view_module": null,
       "_view_module_version": "",
       "array": {
        "dtype": "float32",
        "shape": [
         4,
         3
        ]
       },
       "normalized": true,
       "version": 2
      }
     },
     "028e8c0e52274c44a2a32d31ccc6b39d": {
      "model_module": "@jupyter-widgets/base",
      "model_module_version": "1.2.0",
      "model_name": "LayoutModel",
      "state": {}
     },
     "029d7c0598fe45d8bcb87a30677bb05e": {
      "model_module": "@jupyter-widgets/base",
      "model_module_version": "1.2.0",
      "model_name": "LayoutModel",
      "state": {}
     },
     "0365736750e149fa9227a04fdef0e05f": {
      "buffers": [
       {
        "data": "AQAAAAAAAAACAAAAAQAAAAIAAAADAAAA",
        "encoding": "base64",
        "path": [
         "array",
         "buffer"
        ]
       }
      ],
      "model_module": "jupyter-threejs",
      "model_module_version": "^2.1.0",
      "model_name": "BufferAttributeModel",
      "state": {
       "_view_module": null,
       "_view_module_version": "",
       "array": {
        "dtype": "uint32",
        "shape": [
         6
        ]
       },
       "normalized": true,
       "version": 2
      }
     },
     "037f171e2fbf4d4ab139383c7f4f0b57": {
      "model_module": "jupyter_cadquery",
      "model_module_version": "^v1.0.0",
      "model_name": "ImageButtonModel",
      "state": {
       "_dom_classes": [
        "view_button"
       ],
       "_model_module_version": "^v1.0.0",
       "_view_module_version": "^v1.0.0",
       "height": "28",
       "layout": "IPY_MODEL_86648a8186ab4ea595da96fc87635ec3",
       "style": "IPY_MODEL_54494d083dbf46f7a50a3db856330f94",
       "tooltip": "Change view to top",
       "type": "top",
       "value": {},
       "width": "36"
      }
     },
     "039b2c776ba84b8e8ed18973d9439f06": {
      "model_module": "@jupyter-widgets/base",
      "model_module_version": "1.2.0",
      "model_name": "LayoutModel",
      "state": {
       "width": "230px"
      }
     },
     "03f84c20-4b8b-4065-a7a1-5d37f984da0d": {
      "model_module": "jupyter-threejs",
      "model_module_version": "^2.1.0",
      "model_name": "Object3DModel",
      "state": {}
     },
     "0429224711684960adb3321be37cb920": {
      "model_module": "@jupyter-widgets/controls",
      "model_module_version": "1.5.0",
      "model_name": "CheckboxModel",
      "state": {
       "_dom_classes": [
        "view_grid"
       ],
       "description": "Grid",
       "disabled": false,
       "indent": false,
       "layout": "IPY_MODEL_c4073916302941f4b1d518543565db96",
       "style": "IPY_MODEL_1ce7fa2ac57c4bf5a208764245fd79d3",
       "value": false
      }
     },
     "04730450630c4c8fa098c3f07348d756": {
      "model_module": "@jupyter-widgets/controls",
      "model_module_version": "1.5.0",
      "model_name": "CheckboxModel",
      "state": {
       "_dom_classes": [
        "view_grid"
       ],
       "description": "Grid",
       "disabled": false,
       "indent": false,
       "layout": "IPY_MODEL_57a1c77c05264044a9648ef7010ae330",
       "style": "IPY_MODEL_54cc4fe23f8b4864baaa2fe6ecf512f5",
       "value": false
      }
     },
     "0475b91fff6a49bcb6b5aa1aee66f0d9": {
      "model_module": "jupyter-threejs",
      "model_module_version": "^2.1.0",
      "model_name": "LineSegments2Model",
      "state": {
       "_view_module": null,
       "_view_module_version": "",
       "geometry": "IPY_MODEL_1e57532475f94249a9397d54b0e9c6c5",
       "material": "IPY_MODEL_97f0e07311ea40e58f61fcad547431d1",
       "morphTargetInfluences": [],
       "name": "edges_0"
      }
     },
     "047c55e14a1c49b780f1f196bb427198": {
      "model_module": "@jupyter-widgets/controls",
      "model_module_version": "1.5.0",
      "model_name": "ButtonStyleModel",
      "state": {}
     },
     "04a3886ce69a42b3968292eec8da8d98": {
      "model_module": "@jupyter-widgets/base",
      "model_module_version": "1.2.0",
      "model_name": "LayoutModel",
      "state": {}
     },
     "04cd2d7cd3fc45f3ad213f56a79b7c1e": {
      "model_module": "jupyter-threejs",
      "model_module_version": "^2.1.0",
      "model_name": "LineMaterialModel",
      "state": {
       "_view_module": null,
       "_view_module_version": "",
       "color": "green",
       "linewidth": 3
      }
     },
     "04e0eec712ff4c998016f7140da8f392": {
      "model_module": "@jupyter-widgets/base",
      "model_module_version": "1.2.0",
      "model_name": "LayoutModel",
      "state": {}
     },
     "04ff7353bbda4de28e5b0b847fd6dde4": {
      "model_module": "@jupyter-widgets/base",
      "model_module_version": "1.2.0",
      "model_name": "LayoutModel",
      "state": {
       "margin": "0px 10px 0px 0px"
      }
     },
     "056abe1059a34d6c9b9b67466298a16f": {
      "model_module": "jupyter-threejs",
      "model_module_version": "^2.1.0",
      "model_name": "AmbientLightModel",
      "state": {
       "_view_module": null,
       "_view_module_version": ""
      }
     },
     "056c71c22db14812b24afe332d607648": {
      "model_module": "@jupyter-widgets/base",
      "model_module_version": "1.2.0",
      "model_name": "LayoutModel",
      "state": {}
     },
     "0570dffae1884d97a8cedc5ba5dea194": {
      "model_module": "@jupyter-widgets/base",
      "model_module_version": "1.2.0",
      "model_name": "LayoutModel",
      "state": {
       "width": "230px"
      }
     },
     "05c6297fc5ce474a9851dfd441419111": {
      "buffers": [
       {
        "data": "AAAAPwAAAL+amRk/zczMPQAAAL8AAIA/AAAAPwAAAL+amRk/AAAAPwAAAD+amRk/zczMPQAAAL8AAIA/zczMPQAAAD8AAIA/AAAAPwAAAD+amRk/zczMPQAAAD8AAIA/",
        "encoding": "base64",
        "path": [
         "positions",
         "buffer"
        ]
       }
      ],
      "model_module": "jupyter-threejs",
      "model_module_version": "^2.1.0",
      "model_name": "LineSegmentsGeometryModel",
      "state": {
       "_view_module": null,
       "_view_module_version": "",
       "positions": {
        "dtype": "float32",
        "shape": [
         4,
         2,
         3
        ]
       }
      }
     },
     "065cfb8a2ca8408eb26482fec2a550d1": {
      "model_module": "@jupyter-widgets/base",
      "model_module_version": "1.2.0",
      "model_name": "LayoutModel",
      "state": {
       "margin": "0px 10px 0px 0px"
      }
     },
     "069fc0444288491b8e502851f2c68e5e": {
      "model_module": "@jupyter-widgets/controls",
      "model_module_version": "1.5.0",
      "model_name": "VBoxModel",
      "state": {
       "children": [
        "IPY_MODEL_c0ad39784d014e5d928ca2f9600a86f9",
        "IPY_MODEL_dbc0038b63824e1a9a6bc4f7f9146479"
       ],
       "layout": "IPY_MODEL_ac891c5d43764b99b291ae318cc644f3"
      }
     },
     "0717057e995b42cd9390c793a59f74ee": {
      "buffers": [
       {
        "data": "AAAAPwAAAL+amRk/zczMPQAAAL8AAIA/AAAAPwAAAL+amRk/AAAAPwAAAD+amRk/zczMPQAAAL8AAIA/zczMPQAAAD8AAIA/AAAAPwAAAD+amRk/zczMPQAAAD8AAIA/",
        "encoding": "base64",
        "path": [
         "positions",
         "buffer"
        ]
       }
      ],
      "model_module": "jupyter-threejs",
      "model_module_version": "^2.1.0",
      "model_name": "LineSegmentsGeometryModel",
      "state": {
       "_view_module": null,
       "_view_module_version": "",
       "positions": {
        "dtype": "float32",
        "shape": [
         4,
         2,
         3
        ]
       }
      }
     },
     "071ac1f26d064dd881573df98f68a2cc": {
      "model_module": "jupyter-threejs",
      "model_module_version": "^2.1.0",
      "model_name": "LineSegments2Model",
      "state": {
       "_view_module": null,
       "_view_module_version": "",
       "geometry": "IPY_MODEL_baf832032f5c4607a100e87fb81abc99",
       "material": "IPY_MODEL_9de1d98b38a1450cac65778ec98c5dd4",
       "morphTargetInfluences": []
      }
     },
     "07248301864e49fa8b36dfd33c6cfe0e": {
      "buffers": [
       {
        "data": "AADAPwAAAD8zM6NAAADAPzMzsz8zM6NAAADAPwAAAD/NzJxAAADAPzMzsz/NzJxAAAAAPwAAwD8zM6NAMzOzPwAAwD8zM6NAAAAAPwAAAD8zM6NAAADAPwAAAD8zM6NAAADAPzMzsz8zM6NAAADAPzMzsz/NzJxAMzOzPwAAwD/NzJxAAADAPzMzsz8zM6NAMzOzPwAAwD8zM6NAAAAAPwAAAD/NzJxAAADAPwAAAD/NzJxAAAAAPwAAAD8zM6NAAADAPwAAAD8zM6NAAAAAPwAAwD/NzJxAMzOzPwAAwD/NzJxAAAAAPwAAAD/NzJxAAADAPwAAAD/NzJxAAADAPzMzsz/NzJxAAAAAPwAAwD/NzJxAMzOzPwAAwD/NzJxAAAAAPwAAwD8zM6NAMzOzPwAAwD8zM6NAAAAAPwAAAD/NzJxAAAAAPwAAAD8zM6NAAAAAPwAAwD/NzJxAAAAAPwAAwD8zM6NA",
        "encoding": "base64",
        "path": [
         "array",
         "buffer"
        ]
       }
      ],
      "model_module": "jupyter-threejs",
      "model_module_version": "^2.1.0",
      "model_name": "BufferAttributeModel",
      "state": {
       "_view_module": null,
       "_view_module_version": "",
       "array": {
        "dtype": "float32",
        "shape": [
         30,
         3
        ]
       },
       "normalized": true,
       "version": 2
      }
     },
     "0793f27dccf14b7f9bc73e43bce029d7": {
      "buffers": [
       {
        "data": "AQAAAAQAAAADAAAAAgAAAAEAAAADAAAAAAAAAAEAAAACAAAACAAAAAYAAAAFAAAACAAAAAUAAAAHAAAADAAAAAkAAAAKAAAADAAAAAsAAAAJAAAAEAAAAA0AAAAOAAAAEAAAAA8AAAANAAAAEgAAABEAAAATAAAAEgAAABMAAAAUAAAAGAAAABUAAAAWAAAAGAAAABcAAAAVAAAAGgAAABwAAAAdAAAAGwAAABwAAAAaAAAAGQAAABsAAAAaAAAA",
        "encoding": "base64",
        "path": [
         "array",
         "buffer"
        ]
       }
      ],
      "model_module": "jupyter-threejs",
      "model_module_version": "^2.1.0",
      "model_name": "BufferAttributeModel",
      "state": {
       "_view_module": null,
       "_view_module_version": "",
       "array": {
        "dtype": "uint32",
        "shape": [
         48
        ]
       },
       "normalized": true,
       "version": 2
      }
     },
     "08a542573df748fe8d19813c70007082": {
      "model_module": "@jupyter-widgets/controls",
      "model_module_version": "1.5.0",
      "model_name": "BoxModel",
      "state": {
       "_dom_classes": [
        "view_output"
       ],
       "children": [
        "IPY_MODEL_69249cf6bf514fd4b60a89bc612234cc"
       ],
       "layout": "IPY_MODEL_6b9db56b601c4d7eb7f42a1e232199b8"
      }
     },
     "08cc0039ac784d7188bc7e230d3a7415": {
      "model_module": "jupyter-threejs",
      "model_module_version": "^2.1.0",
      "model_name": "LineSegments2Model",
      "state": {
       "_view_module": null,
       "_view_module_version": "",
       "geometry": "IPY_MODEL_e2fe967b5315466ea4215a339640c786",
       "material": "IPY_MODEL_7c1f4376d1b049749b548d74087ee160",
       "morphTargetInfluences": []
      }
     },
     "08cd47d98dd64bb8b977319ab1a451f6": {
      "model_module": "@jupyter-widgets/controls",
      "model_module_version": "1.5.0",
      "model_name": "DescriptionStyleModel",
      "state": {
       "description_width": ""
      }
     },
     "08ee09d0a46f41fd80a1a64723af3b99": {
      "model_module": "@jupyter-widgets/base",
      "model_module_version": "1.2.0",
      "model_name": "LayoutModel",
      "state": {}
     },
     "08f206b1c2024c65914ec3e8205af96e": {
      "model_module": "@jupyter-widgets/controls",
      "model_module_version": "1.5.0",
      "model_name": "DescriptionStyleModel",
      "state": {
       "description_width": ""
      }
     },
     "0902c83034334e31b83a044b3fd229d2": {
      "model_module": "@jupyter-widgets/controls",
      "model_module_version": "1.5.0",
      "model_name": "DescriptionStyleModel",
      "state": {
       "description_width": ""
      }
     },
     "09125d17-96d0-4f1e-a46f-79be387f7928": {
      "model_module": "jupyter-threejs",
      "model_module_version": "^2.1.0",
      "model_name": "OrthographicCameraModel",
      "state": {
       "bottom": -5,
       "far": 500,
       "left": -5,
       "near": 0.5,
       "projectionMatrix": [
        0.2,
        0,
        0,
        0,
        0,
        0.2,
        0,
        0,
        0,
        0,
        -0.004004004004004004,
        0,
        0,
        0,
        -1.002002002002002,
        1
       ],
       "right": 5,
       "top": 5
      }
     },
     "09208a4b5ea74f8f8e11e5eec7ea95b2": {
      "model_module": "@jupyter-widgets/base",
      "model_module_version": "1.2.0",
      "model_name": "LayoutModel",
      "state": {}
     },
     "094e4bb843e1467ab1e12573ffc0d5b6": {
      "model_module": "@jupyter-widgets/base",
      "model_module_version": "1.2.0",
      "model_name": "LayoutModel",
      "state": {}
     },
     "09ed8c4020184d34b068c14e76617b37": {
      "model_module": "@jupyter-widgets/controls",
      "model_module_version": "1.5.0",
      "model_name": "HTMLModel",
      "state": {
       "_dom_classes": [
        "scroll-area",
        "mac-scrollbar"
       ],
       "layout": "IPY_MODEL_0ad4143169174dc7bfcd5c826f42b8af",
       "style": "IPY_MODEL_17652b707dfb4a4b8c6bcd5e3a3f4b9a",
       "value": "<table style=\"display: block; overflow-x: visible; white-space: nowrap;\"><tr style=\"vertical-align: text-top;\"><td><pre style=\"color: #aaa; white-space: nowrap\">[ 0]</pre></td><td>\n        <b>Rendering done</b>\n        <table>\n            <tr class=\"small_table\" >                      <td>Tick size</td>  <td>0.2 mm</td> </tr>\n            <tr class=\"small_table\" style=\"color: red;\">   <td>X-Axis</td>     <td>Red</td>    </tr>\n            <tr class=\"small_table\" style=\"color: green;\"> <td>Y-Axis</td>     <td>Green</td>  </tr>\n            <tr class=\"small_table\" style=\"color: blue;\">  <td>Z-Axis</td>     <td>Blue</td>   </tr>\n        </table>\n        </td></tr></table>"
      }
     },
     "09f1ef5945dc4b6a93743f4f54845ef0": {
      "model_module": "jupyter-threejs",
      "model_module_version": "^2.1.0",
      "model_name": "PlaneModel",
      "state": {
       "_view_module": null,
       "_view_module_version": "",
       "constant": 1.2000000000000002,
       "normal": [
        0,
        0,
        1
       ]
      }
     },
     "0a057c1fbf5c4174897144fd851ce104": {
      "buffers": [
       {
        "data": "AAAAAAAAAAAAAIA/AAAAAAAAAAAAAIA/AAAAAAAAAAAAAIA/AAAAAAAAAAAAAIA/",
        "encoding": "base64",
        "path": [
         "array",
         "buffer"
        ]
       }
      ],
      "model_module": "jupyter-threejs",
      "model_module_version": "^2.1.0",
      "model_name": "BufferAttributeModel",
      "state": {
       "_view_module": null,
       "_view_module_version": "",
       "array": {
        "dtype": "float32",
        "shape": [
         4,
         3
        ]
       },
       "normalized": true,
       "version": 2
      }
     },
     "0a1874558809442fab3ba8ec766671a6": {
      "model_module": "jupyter-threejs",
      "model_module_version": "^2.1.0",
      "model_name": "LineSegments2Model",
      "state": {
       "_view_module": null,
       "_view_module_version": "",
       "geometry": "IPY_MODEL_46bb9b576719452694c932dfbf382e03",
       "material": "IPY_MODEL_e5f423d07e6241bb85e62506c6627007",
       "matrix": [
        1,
        0,
        0,
        0,
        0,
        1,
        0,
        0,
        0,
        0,
        1,
        0,
        0.5500000549999999,
        0.5500000549999999,
        0,
        1
       ],
       "morphTargetInfluences": [],
       "position": [
        0.5500000549999999,
        0.5500000549999999,
        0
       ],
       "visible": false
      }
     },
     "0a22009918aa4d4d87c5ba5ca71c15a4": {
      "model_module": "@jupyter-widgets/controls",
      "model_module_version": "1.5.0",
      "model_name": "SliderStyleModel",
      "state": {
       "description_width": ""
      }
     },
     "0ad4143169174dc7bfcd5c826f42b8af": {
      "model_module": "@jupyter-widgets/base",
      "model_module_version": "1.2.0",
      "model_name": "LayoutModel",
      "state": {
       "border": "solid 1px #ddd",
       "height": "216px",
       "overflow": "scroll",
       "width": "250px"
      }
     },
     "0b28b2c3e14748caa5a778b11a008af2": {
      "buffers": [
       {
        "data": "MzNzPwAAQMAAAJBAMzNzP83MjL8AAJBAMzNzPwAAgL/NzIxAMzNzP83MjL8AAJBAMzNzPwAAQMAAAGBAMzNzPwAAQMAAAJBAMzNzPwAAgL8AAGBAMzNzPwAAgL/NzIxAMzNzPwAAQMAAAGBAMzNzPwAAgL8AAGBAMzNzP83MjL8AAJBAZmaGP83MjL8AAJBAMzNzPwAAQMAAAJBAZmaGPwAAQMAAAJBAZmaGPwAAQMAAAJBAZmaGP83MjL8AAJBAMzNzPwAAgL/NzIxAZmaGPwAAgL/NzIxAZmaGPwAAgL/NzIxAZmaGP83MjL8AAJBAMzNzPwAAQMAAAGBAZmaGPwAAQMAAAGBAZmaGPwAAQMAAAGBAZmaGPwAAQMAAAJBAZmaGPwAAgL8AAGBAZmaGPwAAgL/NzIxAMzNzPwAAgL8AAGBAZmaGPwAAgL8AAGBAZmaGPwAAQMAAAGBAZmaGPwAAgL8AAGBA",
        "encoding": "base64",
        "path": [
         "positions",
         "buffer"
        ]
       }
      ],
      "model_module": "jupyter-threejs",
      "model_module_version": "^2.1.0",
      "model_name": "LineSegmentsGeometryModel",
      "state": {
       "_view_module": null,
       "_view_module_version": "",
       "positions": {
        "dtype": "float32",
        "shape": [
         15,
         2,
         3
        ]
       }
      }
     },
     "0b48f54433d34328b890727d8c16c4f2": {
      "model_module": "jupyter-threejs",
      "model_module_version": "^2.1.0",
      "model_name": "MeshModel",
      "state": {
       "_view_module": null,
       "_view_module_version": "",
       "geometry": "IPY_MODEL_0cf256eaaf894b72bcad5a8e756a6dcc",
       "material": "IPY_MODEL_6203a57c956344bcbec775a0859de2d3",
       "morphTargetInfluences": [],
       "name": "mesh_1"
      }
     },
     "0b966b1ddf1d4498a8c72ca552b63a17": {
      "model_module": "@jupyter-widgets/base",
      "model_module_version": "1.2.0",
      "model_name": "LayoutModel",
      "state": {}
     },
     "0bef624a118040d7bcc29fd386a7f76d": {
      "buffers": [
       {
        "data": "AAAAQDMzcz8AAIC+AAAAQDMzcz+amRk+AAAAQGZmhj8AAIC+AAAAQGZmhj+amRk+AAAAQDMzcz8AAIC+AAAAQDMzcz+amRk+AAAAADMzcz8AAIC+AAAAADMzcz8AAIA+MzPzPzMzcz8AAIA+AAAAQDMzcz+amRk+MzPzPzMzcz8AAIA+AAAAQGZmhj+amRk+MzPzP2Zmhj8AAIA+AAAAADMzcz8AAIC+AAAAAGZmhj8AAIC+AAAAQDMzcz8AAIC+AAAAQGZmhj8AAIC+AAAAQGZmhj8AAIC+AAAAQGZmhj+amRk+AAAAAGZmhj8AAIC+AAAAAGZmhj8AAIA+MzPzP2Zmhj8AAIA+AAAAAGZmhj8AAIA+MzPzP2Zmhj8AAIA+AAAAADMzcz8AAIA+MzPzPzMzcz8AAIA+AAAAADMzcz8AAIC+AAAAADMzcz8AAIA+AAAAAGZmhj8AAIC+AAAAAGZmhj8AAIA+",
        "encoding": "base64",
        "path": [
         "array",
         "buffer"
        ]
       }
      ],
      "model_module": "jupyter-threejs",
      "model_module_version": "^2.1.0",
      "model_name": "BufferAttributeModel",
      "state": {
       "_view_module": null,
       "_view_module_version": "",
       "array": {
        "dtype": "float32",
        "shape": [
         30,
         3
        ]
       },
       "normalized": true,
       "version": 2
      }
     },
     "0c6b503a56504993bb6c357148ad9f6c": {
      "model_module": "@jupyter-widgets/controls",
      "model_module_version": "1.5.0",
      "model_name": "DescriptionStyleModel",
      "state": {
       "description_width": ""
      }
     },
     "0c991252a0eb4f14b012778fd6910b6c": {
      "model_module": "@jupyter-widgets/controls",
      "model_module_version": "1.5.0",
      "model_name": "ButtonStyleModel",
      "state": {}
     },
     "0ca62f98a1424ac6b19835805a5ace17": {
      "buffers": [
       {
        "data": "AAAAAAAAAAAAAIA/AAAAAAAAAAAAAIA/AAAAAAAAAAAAAIA/AAAAAAAAAAAAAIA/",
        "encoding": "base64",
        "path": [
         "array",
         "buffer"
        ]
       }
      ],
      "model_module": "jupyter-threejs",
      "model_module_version": "^2.1.0",
      "model_name": "BufferAttributeModel",
      "state": {
       "_view_module": null,
       "_view_module_version": "",
       "array": {
        "dtype": "float32",
        "shape": [
         4,
         3
        ]
       },
       "normalized": true,
       "version": 2
      }
     },
     "0ca99fea3f4742f5a282bf26e4409bec": {
      "model_module": "jupyter-threejs",
      "model_module_version": "^2.1.0",
      "model_name": "LineSegments2Model",
      "state": {
       "_view_module": null,
       "_view_module_version": "",
       "geometry": "IPY_MODEL_a298e4b47cab462283a91a0ec5aafce6",
       "material": "IPY_MODEL_2f170f9fdab44043baf12487c60bf06c",
       "morphTargetInfluences": [],
       "name": "edges_0"
      }
     },
     "0cd3aee5-5d85-4608-92f4-cab9c02f034f": {
      "model_module": "jupyter-threejs",
      "model_module_version": "^2.1.0",
      "model_name": "Object3DModel",
      "state": {}
     },
     "0ceb31543e0242c49711796699dcfa74": {
      "model_module": "@jupyter-widgets/controls",
      "model_module_version": "1.5.0",
      "model_name": "ButtonStyleModel",
      "state": {}
     },
     "0cf256eaaf894b72bcad5a8e756a6dcc": {
      "model_module": "jupyter-threejs",
      "model_module_version": "^2.1.0",
      "model_name": "BufferGeometryModel",
      "state": {
       "_view_module": null,
       "_view_module_version": "",
       "attributes": {
        "index": "IPY_MODEL_130311a367d0467eadd0dab52b0dad8a",
        "normal": "IPY_MODEL_766c32d9eac54ab38406b04691bea822",
        "position": "IPY_MODEL_27bc0b0090a64cba9264a206dd13a788"
       }
      }
     },
     "0d11e56296414f3eba6dc554e6582399": {
      "model_module": "jupyter_cadquery",
      "model_module_version": "^v1.0.0",
      "model_name": "ImageButtonModel",
      "state": {
       "_dom_classes": [
        "view_button"
       ],
       "_model_module_version": "^v1.0.0",
       "_view_module_version": "^v1.0.0",
       "height": "28",
       "layout": "IPY_MODEL_0b966b1ddf1d4498a8c72ca552b63a17",
       "style": "IPY_MODEL_cec7bbc5f13d4881b409f9b49d7b252c",
       "tooltip": "Change view to front",
       "type": "front",
       "value": {},
       "width": "36"
      }
     },
     "0dca86d2a5954a86a33bcde27b1e6a24": {
      "model_module": "@jupyter-widgets/controls",
      "model_module_version": "1.5.0",
      "model_name": "DescriptionStyleModel",
      "state": {
       "description_width": ""
      }
     },
     "0dd333480b9f4c4ab8f2918d0a9d5c89": {
      "buffers": [
       {
        "data": "AAAAAAAAAAAAAAAAAAAAAAAAAADsUbxA",
        "encoding": "base64",
        "path": [
         "positions",
         "buffer"
        ]
       }
      ],
      "model_module": "jupyter-threejs",
      "model_module_version": "^2.1.0",
      "model_name": "LineSegmentsGeometryModel",
      "state": {
       "_view_module": null,
       "_view_module_version": "",
       "positions": {
        "dtype": "float32",
        "shape": [
         1,
         2,
         3
        ]
       }
      }
     },
     "0e1065724a08467cbf1f66e2003024c2": {
      "buffers": [
       {
        "data": "AACAPwAAAAAAAACAAACAPwAAAAAAAACAAACAPwAAAAAAAACAAACAPwAAAAAAAACAAAAAgAAAgL8AAACAAAAAgAAAgL8AAACAAAAAgAAAgL8AAACAAAAAgAAAgL8AAACAAAAAgAAAgL8AAACA8wQ1PwAAAADzBDU/8wQ1PwAAAADzBDU/8wQ1PwAAAADzBDU/8wQ1PwAAAADzBDU/AAAAgAAAAIAAAIC/AAAAgAAAAIAAAIC/AAAAgAAAAIAAAIC/AAAAgAAAAIAAAIC/AAAAAAAAgD8AAAAAAAAAAAAAgD8AAAAAAAAAAAAAgD8AAAAAAAAAAAAAgD8AAAAAAAAAAAAAgD8AAAAAAAAAAAAAAAAAAIA/AAAAAAAAAAAAAIA/AAAAAAAAAAAAAIA/AAAAAAAAAAAAAIA/AACAvwAAAIAAAAAAAACAvwAAAIAAAAAAAACAvwAAAIAAAAAAAACAvwAAAIAAAAAA",
        "encoding": "base64",
        "path": [
         "array",
         "buffer"
        ]
       }
      ],
      "model_module": "jupyter-threejs",
      "model_module_version": "^2.1.0",
      "model_name": "BufferAttributeModel",
      "state": {
       "_view_module": null,
       "_view_module_version": "",
       "array": {
        "dtype": "float32",
        "shape": [
         30,
         3
        ]
       },
       "normalized": true,
       "version": 2
      }
     },
     "0e5de8ea3cd7480fb646deb4647e5dbd": {
      "model_module": "@jupyter-widgets/base",
      "model_module_version": "1.2.0",
      "model_name": "LayoutModel",
      "state": {}
     },
     "0ee1de67f2b043cc92e369e4c0ac2048": {
      "model_module": "jupyter-threejs",
      "model_module_version": "^2.1.0",
      "model_name": "DirectionalLightModel",
      "state": {
       "_view_module": null,
       "_view_module_version": "",
       "color": "white",
       "intensity": 0.12,
       "matrixWorldNeedsUpdate": true,
       "position": [
        -3.3346667695588637,
        3.3346667695588637,
        -3.3346667695588637
       ],
       "shadow": "IPY_MODEL_7185d9d3-5c41-4a79-9a9f-9fe40705f491",
       "target": "IPY_MODEL_cd35a469-4b42-462c-b6de-83258f933b4b"
      }
     },
     "0f31f260c41f4b6987b1efba835657cd": {
      "model_module": "jupyter_cadquery",
      "model_module_version": "^v1.0.0",
      "model_name": "ImageButtonModel",
      "state": {
       "_dom_classes": [
        "view_button"
       ],
       "_model_module_version": "^v1.0.0",
       "_view_module_version": "^v1.0.0",
       "height": "28",
       "layout": "IPY_MODEL_44b04f94326243c68c5232c1f18d2e7b",
       "style": "IPY_MODEL_6265c32cfa4f418fa1ee2a5830191de0",
       "tooltip": "Change view to bottom",
       "type": "bottom",
       "value": {},
       "width": "36"
      }
     },
     "0f723ba3e5d94549aadcdeafa2d40946": {
      "model_module": "jupyter-threejs",
      "model_module_version": "^2.1.0",
      "model_name": "PlaneModel",
      "state": {
       "_view_module": null,
       "_view_module_version": "",
       "constant": 1.2000000000000002,
       "normal": [
        0,
        0,
        1
       ]
      }
     },
     "0faf5ef1e2f14f499134bf2f3ebcfb51": {
      "buffers": [
       {
        "data": "AwAAAAEAAAAAAAAAAwAAAAAAAAACAAAA",
        "encoding": "base64",
        "path": [
         "array",
         "buffer"
        ]
       }
      ],
      "model_module": "jupyter-threejs",
      "model_module_version": "^2.1.0",
      "model_name": "BufferAttributeModel",
      "state": {
       "_view_module": null,
       "_view_module_version": "",
       "array": {
        "dtype": "uint32",
        "shape": [
         6
        ]
       },
       "normalized": true,
       "version": 2
      }
     },
     "0ff765ef4e69432fa8bb25699837ef7d": {
      "model_module": "@jupyter-widgets/base",
      "model_module_version": "1.2.0",
      "model_name": "LayoutModel",
      "state": {
       "margin": "0px 10px 0px 0px"
      }
     },
     "101cbd6a77fa4baea355fa86e39c3afc": {
      "model_module": "@jupyter-widgets/controls",
      "model_module_version": "1.5.0",
      "model_name": "DescriptionStyleModel",
      "state": {
       "description_width": ""
      }
     },
     "1048e03197f2445a9a562735c281dacd": {
      "model_module": "jupyter-threejs",
      "model_module_version": "^2.1.0",
      "model_name": "PlaneModel",
      "state": {
       "_view_module": null,
       "_view_module_version": "",
       "constant": 2.2,
       "normal": [
        0,
        1,
        0
       ]
      }
     },
     "1057dcb5bfd84cceb0b82fcbf74f1c53": {
      "model_module": "@jupyter-widgets/controls",
      "model_module_version": "1.5.0",
      "model_name": "DescriptionStyleModel",
      "state": {
       "description_width": ""
      }
     },
     "105e5e5b41364d088cd8d5d341fe98cb": {
      "model_module": "@jupyter-widgets/controls",
      "model_module_version": "1.5.0",
      "model_name": "ButtonStyleModel",
      "state": {}
     },
     "1075c9bfe86f4bd3810345fbef9e7033": {
      "model_module": "@jupyter-widgets/controls",
      "model_module_version": "1.5.0",
      "model_name": "FloatSliderModel",
      "state": {
       "continuous_update": false,
       "layout": "IPY_MODEL_de7a33c336314591b36611601e5f0c07",
       "max": 1.320000132,
       "min": -1.4300001430000002,
       "step": 0.01,
       "style": "IPY_MODEL_84bef10f38c543ac84bdcc8ed815bd55",
       "value": 1.320000132
      }
     },
     "10a19578dd0947199adf840060daaf29": {
      "buffers": [
       {
        "data": "AADAPwAAAD8zM6NAAADAPzMzsz8zM6NAAADAPzMzsz/NzJxAAADAPzMzsz8zM6NAAADAPwAAAD/NzJxAAADAPwAAAD8zM6NAAADAPwAAAD/NzJxAAADAPzMzsz/NzJxAAAAAPwAAwD8zM6NAMzOzPwAAwD8zM6NAAADAPzMzsz8zM6NAMzOzPwAAwD8zM6NAAAAAPwAAAD8zM6NAAAAAPwAAwD8zM6NAAAAAPwAAAD8zM6NAAADAPwAAAD8zM6NAAADAPzMzsz/NzJxAMzOzPwAAwD/NzJxAMzOzPwAAwD/NzJxAMzOzPwAAwD8zM6NAAAAAPwAAAD/NzJxAAADAPwAAAD/NzJxAAAAAPwAAAD/NzJxAAAAAPwAAAD8zM6NAAAAAPwAAwD/NzJxAMzOzPwAAwD/NzJxAAAAAPwAAAD/NzJxAAAAAPwAAwD/NzJxAAAAAPwAAwD/NzJxAAAAAPwAAwD8zM6NA",
        "encoding": "base64",
        "path": [
         "positions",
         "buffer"
        ]
       }
      ],
      "model_module": "jupyter-threejs",
      "model_module_version": "^2.1.0",
      "model_name": "LineSegmentsGeometryModel",
      "state": {
       "_view_module": null,
       "_view_module_version": "",
       "positions": {
        "dtype": "float32",
        "shape": [
         15,
         2,
         3
        ]
       }
      }
     },
     "114b5f6d-600b-4f4c-b859-9791313a344c": {
      "model_module": "jupyter-threejs",
      "model_module_version": "^2.1.0",
      "model_name": "DirectionalLightShadowModel",
      "state": {
       "camera": "IPY_MODEL_94e52342-62e4-486e-b56a-66ee6a7da2d9"
      }
     },
     "1189f2d5a32b4420946feccf5c2adc07": {
      "model_module": "jupyter-threejs",
      "model_module_version": "^2.1.0",
      "model_name": "OrbitControlsModel",
      "state": {
       "_view_module": null,
       "_view_module_version": "",
       "controlling": "IPY_MODEL_e23751e97bb34d53bbc9cbb0f1b56a5b",
       "maxAzimuthAngle": "inf",
       "maxDistance": "inf",
       "maxZoom": "inf",
       "minAzimuthAngle": "-inf",
       "target": [
        0.9999999999999999,
        -0.75,
        2.125
       ]
      }
     },
     "11daa595-c84f-49ef-b427-31cb6f699ca4": {
      "model_module": "jupyter-threejs",
      "model_module_version": "^2.1.0",
      "model_name": "OrthographicCameraModel",
      "state": {
       "bottom": -5,
       "far": 500,
       "left": -5,
       "near": 0.5,
       "projectionMatrix": [
        0.2,
        0,
        0,
        0,
        0,
        0.2,
        0,
        0,
        0,
        0,
        -0.004004004004004004,
        0,
        0,
        0,
        -1.002002002002002,
        1
       ],
       "right": 5,
       "top": 5
      }
     },
     "126376e455ad4fd8a2b645adf8f01ab1": {
      "model_module": "@jupyter-widgets/base",
      "model_module_version": "1.2.0",
      "model_name": "LayoutModel",
      "state": {}
     },
     "12e198db2b1c44f3a9910b803850f54e": {
      "model_module": "jupyter-threejs",
      "model_module_version": "^2.1.0",
      "model_name": "PlaneModel",
      "state": {
       "_view_module": null,
       "_view_module_version": "",
       "constant": 6,
       "normal": [
        0,
        1,
        0
       ]
      }
     },
     "12f9d3896ab042b0b88cfbe715e02625": {
      "model_module": "jupyter-threejs",
      "model_module_version": "^2.1.0",
      "model_name": "CombinedCameraModel",
      "state": {
       "_view_module": null,
       "_view_module_version": "",
       "far": 43.428103932822204,
       "height": 600,
       "matrix": [
        1,
        0,
        0,
        0,
        0,
        1,
        0,
        0,
        0,
        0,
        1,
        0,
        8.071968303802983,
        8.071968303802983,
        7.521968248802982,
        1
       ],
       "matrixWorldInverse": [
        1,
        0,
        0,
        0,
        0,
        1,
        0,
        0,
        0,
        0,
        1,
        0,
        -8.071968303802983,
        -8.071968303802983,
        -7.521968248802982,
        1
       ],
       "matrixWorldNeedsUpdate": true,
       "mode": "orthographic",
       "orthoFar": 43.428103932822204,
       "position": [
        7.991474664925958,
        2.460645991613487,
        10.522067607779654
       ],
       "projectionMatrix": [
        0.294124904197694,
        0,
        0,
        0,
        0,
        0.3921665389302586,
        0,
        0,
        0,
        0,
        -0.046159416601771634,
        0,
        0,
        0,
        -1.0046159416601772,
        1
       ],
       "quaternion": [
        0.19008839113072137,
        0.24506047719824886,
        0.7511925892191675,
        0.5826847003096131
       ],
       "type": "OrthographicCamera",
       "up": [
        0,
        0,
        1
       ],
       "width": 800,
       "zoom": 2.5
      }
     },
     "12faab1777844833a7a768280b635858": {
      "model_module": "jupyter-threejs",
      "model_module_version": "^2.1.0",
      "model_name": "LineSegments2Model",
      "state": {
       "_view_module": null,
       "_view_module_version": "",
       "geometry": "IPY_MODEL_10a19578dd0947199adf840060daaf29",
       "material": "IPY_MODEL_ec6691b575874006af4a6e4b9841e601",
       "morphTargetInfluences": [],
       "name": "edges_3"
      }
     },
     "130311a367d0467eadd0dab52b0dad8a": {
      "buffers": [
       {
        "data": "AwAAAAEAAAAAAAAAAwAAAAAAAAACAAAA",
        "encoding": "base64",
        "path": [
         "array",
         "buffer"
        ]
       }
      ],
      "model_module": "jupyter-threejs",
      "model_module_version": "^2.1.0",
      "model_name": "BufferAttributeModel",
      "state": {
       "_view_module": null,
       "_view_module_version": "",
       "array": {
        "dtype": "uint32",
        "shape": [
         6
        ]
       },
       "normalized": true,
       "version": 2
      }
     },
     "130859722da8438cb93e2053c581f52c": {
      "model_module": "jupyter_cadquery",
      "model_module_version": "^v1.0.0",
      "model_name": "ImageButtonModel",
      "state": {
       "_dom_classes": [
        "view_button"
       ],
       "_model_module_version": "^v1.0.0",
       "_view_module_version": "^v1.0.0",
       "height": "28",
       "layout": "IPY_MODEL_cf033082f7344c8eba5ebe431f77a23c",
       "style": "IPY_MODEL_7781ca46459a4dcbacaa8466afc744cf",
       "tooltip": "Change view to fit",
       "type": "fit",
       "value": {},
       "width": "36"
      }
     },
     "130ef5d8847d492ca4f0fa2f7a2e7a9b": {
      "model_module": "@jupyter-widgets/base",
      "model_module_version": "1.2.0",
      "model_name": "LayoutModel",
      "state": {}
     },
     "132f85af156c428b982830a90394580d": {
      "model_module": "jupyter-threejs",
      "model_module_version": "^2.1.0",
      "model_name": "PickerModel",
      "state": {
       "_view_module": null,
       "_view_module_version": "",
       "controlling": "IPY_MODEL_f5a78a50d650413c9f4de27260b61781",
       "event": "dblclick"
      }
     },
     "1349de6572a149759fe0e2d7c9a85d3d": {
      "model_module": "jupyter-threejs",
      "model_module_version": "^2.1.0",
      "model_name": "LineSegments2Model",
      "state": {
       "_view_module": null,
       "_view_module_version": "",
       "geometry": "IPY_MODEL_d3a7bfcf2c2241339d747229d09af72b",
       "material": "IPY_MODEL_e14c4f2c3ef845bbb5ab618f66700526",
       "matrix": [
        1,
        0,
        0,
        0,
        0,
        1,
        0,
        0,
        0,
        0,
        1,
        0,
        0.9999999999999999,
        -0.75,
        2.125,
        1
       ],
       "morphTargetInfluences": [],
       "position": [
        0.9999999999999999,
        -0.75,
        2.125
       ],
       "visible": false
      }
     },
     "1365a3b757764f13a8800db4d61041b3": {
      "buffers": [
       {
        "data": "AAAAAAAAAAAAAAAAAAAAAAAAAADsUbxA",
        "encoding": "base64",
        "path": [
         "positions",
         "buffer"
        ]
       }
      ],
      "model_module": "jupyter-threejs",
      "model_module_version": "^2.1.0",
      "model_name": "LineSegmentsGeometryModel",
      "state": {
       "_view_module": null,
       "_view_module_version": "",
       "positions": {
        "dtype": "float32",
        "shape": [
         1,
         2,
         3
        ]
       }
      }
     },
     "1377d654706b40509540fe996ca10ed2": {
      "model_module": "jupyter-threejs",
      "model_module_version": "^2.1.0",
      "model_name": "LineSegments2Model",
      "state": {
       "_view_module": null,
       "_view_module_version": "",
       "geometry": "IPY_MODEL_688ce23c9fdd49b184dcff4717470bad",
       "material": "IPY_MODEL_ca1ae6938a664545aff31ad076d6c940",
       "morphTargetInfluences": [],
       "visible": false
      }
     },
     "139ac18f-ebf8-4de3-9234-9ee80fc3f024": {
      "model_module": "jupyter-threejs",
      "model_module_version": "^2.1.0",
      "model_name": "DirectionalLightShadowModel",
      "state": {
       "camera": "IPY_MODEL_f09575a4-a72c-4ca4-8ddf-55bdeb4b7162"
      }
     },
     "13a412fe8e8e4ac9b5af3736d565f0e9": {
      "model_module": "@jupyter-widgets/base",
      "model_module_version": "1.2.0",
      "model_name": "LayoutModel",
      "state": {}
     },
     "13a621849e9f446ca074391eabcaa409": {
      "model_module": "jupyter_cadquery",
      "model_module_version": "^v1.0.0",
      "model_name": "ImageButtonModel",
      "state": {
       "_dom_classes": [
        "view_button"
       ],
       "_model_module_version": "^v1.0.0",
       "_view_module_version": "^v1.0.0",
       "height": "28",
       "layout": "IPY_MODEL_bc66c09bbf4348fb954f4c6b06d78b47",
       "style": "IPY_MODEL_e463db7eb4364cf7a085508fa78df591",
       "tooltip": "Set clipping plane",
       "type": "0",
       "value": {},
       "width": "36"
      }
     },
     "13dbfb05c99c4622802e66c72533369b": {
      "model_module": "@jupyter-widgets/controls",
      "model_module_version": "1.5.0",
      "model_name": "ButtonStyleModel",
      "state": {}
     },
     "13e04584-4a63-41c4-91bd-1df4a85eb544": {
      "model_module": "jupyter-threejs",
      "model_module_version": "^2.1.0",
      "model_name": "DirectionalLightShadowModel",
      "state": {
       "camera": "IPY_MODEL_75b2c144-42fc-4676-82bb-b3c064df0770"
      }
     },
     "13f8aadee8c44d98a5aa868feb5679ad": {
      "model_module": "@jupyter-widgets/controls",
      "model_module_version": "1.5.0",
      "model_name": "ButtonStyleModel",
      "state": {}
     },
     "140860be95fa459d965b6c15bd36bc3a": {
      "model_module": "jupyter_cadquery",
      "model_module_version": "^v1.0.0",
      "model_name": "TreeModel",
      "state": {
       "_dom_classes": [
        "view_tree",
        "scroll-area",
        "mac-scrollbar"
       ],
       "_model_module_version": "^v1.0.0",
       "_view_module_version": "^v1.0.0",
       "button_style": "",
       "icon": "",
       "icons": [
        {
         "0": "iVBORw0KGgoAAAANSUhEUgAAARgAAADcCAYAAACrgL6aAAAFCElEQVR4nO3dUXYbNwwFULQnC/PSvbPmo9Vxao9saUQOAfDeDUQE3jxTipVEAAAAAAAAAAAAAAAAAAAAAAAAAAAAAAAAAAAAAAAAAAAAAAAAAAAAAAAAAAAAAAAAAAAAAAAAAAAAAAAAAAAAAADU89fqF8Aab29v/1z9Z76/v8vbZiy8mRXFMZoi6sMiC+pQImcpn1osK7Gdi+RZiicnS0lCmYyndNazgIWUyrUUzvUM/EIKJQ9lcw1Dnkyp1KBw5jDUwRRKfcpmHIMcQKn0pWxeY3gnVS+VFQ9O9ZlFKJxnGdYTKj0gVR8EM+7FgB6QLfQ7B9suajGcO7IEWYB/Zld5GciBVYEV0HFWlo49fjCI/yiVvpTNOlsf/ubKAO4euCzs/BrbHjzimpDtHK4q5GCeLQ8tUNwjG2Ntc9CI+eHZKTg7mJmXXbKyxSEj5oVll6DsTn7OaX24iDnB6B4KvidTj2t5qAg/cZhLyTym3YEixi+/4+IZR97ua3OQm5HL7rRo5pO9r1oc4mbUgrssl+spmf8rf4AIxUJOchnx9+oX8CpLJKtRmcrybfEzSj9UIwavWLjCrlkt94JvXl1YxWVR244lU+rF3ryyqGoLoqddMlzuM5hdFkNvr2Sx0mcypR64s4NVLGTWOddlbjCdl8Dezma0wk2mRMEoF7rrWjLpCyb7AGG1zM/Ir9UvYAY3Fyq65TZzYTwr9Q3mzKCVC9WdyXDWUkr5MPrMBXo8B6lvMM/INFQYoUOm0xWMt0XwofrbpVQFo1zgq8olk6pggF7SFIzbC9xX9RaTpmCepVzYTcXMpyiYZ5u24qBhhGezv/oWk6JggJ7KFYzbC7ur9AwsL5jVVzjobuUztrxggL5KFUylqyHMVOVZKFUw3k7Bv6o8C6UKBqhlecFUuepBVSufseUF86wqV0OYpdIzUK5ggDpSFEy1X3+GVap9rSZFwZyhZNhNxcynKZiqX0eHK1T950zSFAzQT6qCcYuBr6reXiKSFUyEkoE/VS6XiIQFc5aSoZsOmU7TdEeqtzec1SX7qW8w3i6xoy7lEhHxa/ULmOG2oKxDhyMdfzimvsFEKAn4SeZnJH3BRJwfYMefCPTU4T+6P1KiYCKUDH11LZeI5H+LdOSVwqiwEPaxQ5bL3GBuXhms2wxZ7FAuEQVvMDcjyqLSoujh1dxWy2ypF/uZkqGKXbNa7gV/NuptT8Xlkd/u+Sz3Gcxnowbv8xlG271cIhrcYP40siQqL5W1FMuH8gf4TMmwiux91eIQn41+u9Nl2cwhb/e1OciRGZ+rdFo+5836zK5bvlod5oiSYTSZelzLQx3xE4dXyM85rQ93ZOZfR3cPy25m/+rCDnlpf8AjV/zOyw7h6Ug2xtrmoPcIFBFyMMt2Bz5y5W/x7hiyjOz8Gtse/LOVXxXYOYBXWbXf3Xe79eHvUTY9KJX1DOIbWb4AKbA/s6ucDONBWQJ8s3OQ7aIOg3lCtmB/p2rozbgXAzqp0oNwz4oHpPrclMpzDGuQ6g8O9ymV8wxuAmVTn1IZwxAnUzY1KJQ5DPViCicPpTKfAS+kbK6lUK5n4IkonPGUylqGn5zSeZwyycdCitq5eBRJHRbVUIfyUSI9WOLGVhSR4gAAAAAAAAAAAAAAAAAAAAAAAAAAAAAAAAAAAAAAAAAAAAAAAAAAAAAAAAAAAAAAAAAAAAAAAAAAAAAAAAAAAABgkN/fSHSu9KigrAAAAABJRU5ErkJggg==",
         "1": "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",
         "2": "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",
         "3": "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"
        },
        {
         "0": "iVBORw0KGgoAAAANSUhEUgAAARgAAADcCAYAAACrgL6aAAADU0lEQVR4nO3YUVFEMRBE0QEfqwoDSMMAqhCyKEh+YDbTqXMMZH7era5XBQAAAAAAAAAAAAAAAAAAAAAAAAAAAAAAAAAAAAAAAAAAAAAAAAAAAAAAAAAAAAAAAAAAAAAAwN+8nT7gv3x8/TxP3wCTfX8+Xv69v7/6QeD1TsSl6pLAWC8w0xWBAdZOrZeqCwJjvcBc8YEB1k6ul6rwwFgvMFt0YIC10+ulKjgw1gvMFxsYYG3CeqkKDYz1AhkiAwOsTVkvVYGBsV4gR1xggLVJ66UqLDDWC2SJCgywNm29VAUFxnqBPDGBAdYmrpeqkMBYL5ApIjDA2tT1UhUQGOsFco0PDLA2eb1UDQ+M9QLZRgcGWJu+XqoGB8Z6gXxjAwOsJayXqqGBsV7gDiMDA6ylrJeqgYGxXuAe4wIDrCWtl6phgbFe4C6jAgOspa2XqkGBsV7gPmMCA6wlrpeqIYGxXuBOIwIDrKWul6oBgbFe4F7HAwOsJa+XqsOBsV7gbhYMDJW+XqoOBsZ6gftZMEAbgQHaCAzQRmCANgIDtBEYoI3AAG0EBmgjMEAbgQHaCAzQRmCANgIDtBEYoI3AAG0EBmgjMEAbgQHaCAzQRmCANgIDtBEYoI3AAG0EBmgjMEAbgQHaCAzQRmCANgIDtBEYoI3AAG0EBmgjMEAbgQHaCAzQRmCANgIDtBEYoI3AAG0EBmhzLDDfn4+3U28Dr2HBwFAfXz/P0zf81dHAWDFwNwsGBktfMccDY8XAvY4HBthLXjEjAmPFwJ1GBAbYS10xYwJjxcB9xgQG2EtcMaMCY8XAXUYFBthLWzHjAmPFwD3GBQbYS1oxIwNjxcAdRgYG2EtZMWMDY8VAvrGBAfYSVszowFgxkG10YIC96StmfGCsGMg1PjDA3uQVExEYKwYyRQQG2Ju6YmICY8VAnpjAAHsTV0xUYKwYyBIVGGBv2oqJC4wVAzniAgPsTVoxkYGxYiBDZGCAvSkrJjYwVgzMFxsYYG/CiokOjBUDs0UHBtg7vWLiA2PFwFzxgQH2Tq6YKwJjxcBMVwQG2Dv9LwYAAAAAAAAAAAAAAAAAAAAAAAAAAAAAAAAAAAAAAAAAAAAAAAAAAAAAAAAAAAAAAAAAAAAA4Hq/ZAik8uNneKUAAAAASUVORK5CYII=",
         "1": "iVBORw0KGgoAAAANSUhEUgAAARgAAADcCAYAAACrgL6aAAAFFklEQVR4nO3bUWocSRAE0PTiG/hCuojBRzP4InMhn8H7tbCwsHRLyqrI6ve+BTMo3JGhsVQFAAAAAAAAAAAAAAAAAAAAAAAAAAAAAAAAAAAAAAAAAAAAAAAAAAAAAAAAAAAAAAAAAJzty+438FFvb29/dr8HmOT1ei177v9a9UIdlAvct/K5GVswygXeb9XzM7ZggHwjC8Z6gRlGFgwww7iCsV5gjnEFA3zcqv+qHlUw1gvMMqpggI9b+Yt2X1e90EfdWS/ffvzqfCtU1e+f3y9/rTz63cljpeMWjH/MWeSRZeV6qRpSMD57yZJ6LZ8qOY8RBXOVa5lFHllWr5eqAQVjvWRJvpZPlJ5HfMFc5VpmkUeWHeulKrxgrJcs6dfyaSbkEV0wV7mWWeSRZdd6qQouGOsly4Rr+SRT8ogtmKtcyyzyyLJzvVSFFoz1kmXKtXyKSXlEFsxVrmUWeWTZvV6qAgvGesky6Vo+wbQ84grmKtcyizyyJKyXqrCCsV6yTLuWp5uYR1TBXOVaZpFHlpT1UhVUMNZLlonX8mRT84gpmKtcyyzyyJK0XqpCCsZ6yTL1Wp5qch4RBXOVa5lFHlnS1ktVQMFYL1kmX8sTTc9je8Fc5VpmkUeWxPVStblgrJcs06/laU7IY8SCcS2zyCNL6nqp2lgw1kuWE67lSU7JI37BuJZZ5JEleb1UbSoY6yXLKdfyFCflEb1gXMss8siSvl6qNhSM9ZLlpGt5gtPyWN6ACgY+bsJ6qVq8YJQLPEv0ZzDAf01ZL1ULC8Z6geexYGCQSeulalHBWC/wTBYM0EbBAG0UDNBGwQBtFAzQ5uvuN/Bv/phujTt/7yKTNU77G6R/WDBAGwUDtFEwQBsFA7RRMEAbBQO0UTBAGwUDtFEwQBsFA7RRMEAbBQO0UTBAGwUDtFEwQBsFA7RRMEAbBQO0UTBAGwUDtFEwQBsFA7RRMEAbBQO0UTBAGwUDtFEwQBsFA7T5suJF3t7e/qx4HTjd6/Va8sx+FgsGaKNggDYKBmijYIA2CgZos6Rgpn3yDXwOCwYGmfYrH8sKxoqB57FgYJhJK2ZpwVgx8CzLH/g77fvtx6/Ot0JV/f75/fLXyqPfnTwmHOzlPyJN+KY8idLIcloe0Z/B3Glz+skjy4TPYrYUjBWT5bSrOd1JeUQvmCpXM408sqSvmG0FY8VkOelqnuCUPOIXTJWrmUYeWZJXzNaCsWKynHI1T3FCHiMWTJWrmUYeWVJXzPaCsWKynHA1TzI9j+0Fc4ermUUeWRJXTETBWDFZpl/N00zOI6Jg7nA1s8gjS9qKiSkYKybL5Kt5oql5xBTMHa5mFnlkSVoxUQVjxWSZejVPNTGPqIK5w9XMIo8sKSsmrmCsmCwTr+bJpuURVzB3uJpZ5JElYcVEFowVk2Xa1TzdpDwiC+YOVzOLPLLsXjGxBWPFZJl0NZ9gSh6xBXOHq5lFHll2rpjogrFisky5mk8xIY/ogrnD1cwijyy7Vkx8wVgxWSZczSdJzyO+YO5wNbPII8uOFTOiYKyYLOlX82mS8xhRMHe4mlnkkWX1ihm1DHb/0hCcYOVPBMctGOD/rTzUowrGZzEwy6iCAT7HqhUzrmCsGJhjXMEAc4wsGCsGZhhZMMAMYwvGioH3W/X8jC2YKiUD7+G5AQAAAAAAAAAAAAAAAAAAAAAAAAAAAAAAAAAAAAAAAAAAAAAAAAAAAAAAAAAAAAAAgAf6Gy0zeNBNTtmiAAAAAElFTkSuQmCC",
         "2": "iVBORw0KGgoAAAANSUhEUgAAARgAAADcCAYAAACrgL6aAAAElElEQVR4nO3dwW3kRhRF0S9DGcxauXQOWhtQaAJmPTkwF60nBnlRGNswBgap7s961X1OAiqIwuMVW4SqAAAAAAAAAAAAAAAAAAAAAAAAAAAAAAAAAAAAAAAAAAAAAAAAAAAAAAAAAAAAAAAAAID79jT7ANe6XC6fs8/waLZtW/7nhnP8MfsA1zAukG3ZgTEukG/ZgQHyPc8+wFeol/vx+v7hWp7kx9vL6c/OFAw8gBnjUrXgwKgXWMdyAwMcM6teqhYbGPUCa1lqYIBjZtZL1UKfIh2pl29v3zuPwvYy+wQs4u4KxrjAMLteqhYZGM9eYE1LDMxe6gWGhHqpWmBg1EuWn+9/zj4CC4kfmL3UCwwp9VIVPjDqJYt64ajogdlLvcCQVC9VwQOjXrKoF74idmD2Ui8wpNVLVejAqJcs6oWvihyYvdQLDIn1UhU4MOoli3rhGnEDs5d6gSG1XqrCBka9ZFEvXCtqYPZSLzAk10tV0MColyzqhVuIGZi91AsM6fVSFTIw6iWLeuFWIgZmL/UCwwr1UhUwMOoli3rhlqYPzF7qBYZV6qVq8sColyzqhVtbomDUCwwr1UvVxIFRL1nUCx3iC0a9ZHE95lmtXqomDYx6yaJe6BJdMO6WWVyPeVasl6oJA6NesqgXOj3PPsD/8cOfxfWYY9V6qTq5YNQLPJboZzDw6Faul6oTB0a9wONRMBBq9XqpOmlg1As8JgUDtDEwQBsDA7QxMEAbAwO0iXpVwMt05zjyJ/+/vSbbyw1Pwz1TMEAbAwO0MTBAGwMDtDEwQBsDA7QxMEAbAwO0MTBAGwMDtDEwQBsDA7QxMEAbAwO0MTBAGwMDtDEwQBsDA7QxMEAbAwO0MTBAGwMDtDEwQBsDA7QxMEAbAwO0MTBAGwMDtHmefYB/O/JP2TmHa8I1FAzQxsAAbQwM0MbAAG0MDNDmlIHZtu3pjK8DZFEwEOr1/eNz9hmuddrAqBh4PAoGgq1eMacOjIqBxxL1qsB/fXv7PvsId+/IqwB/X4/tpek0/M7r+8fnj7eXJW/Op/+KpGKyGHE6RT+D8aJdFtdjnlWfxUwZGBWTRcXQJbpgqtw107ge86xYMdMGRsVkUTF0iC+YKndN+GW1ipk6MComi4rh1pYomCoVA7+sVDHTB0bFZFEx3NL0gTlCxcCwSsVEDIyKyaJiuJWIgTlCxcCwQsXEDIyKyaJiuIWYgTlCxcCQXjFRA6NisqgYrhU1MEeoGBiSKyZuYFRMFhXDNeIG5ggVA0NqxUQOjIrJomL4qsiBOULFwJBYMbEDo2KyqBi+InZgjlAxMKRVTPTAqJgsKoajogfmCBUDQ1LFxA+MismiYjgifmCOUDEwpFTMEgOjYmBNSwzMESoGhoSKeZ59gL22bXu6XC67vmFGBjLcXcEA/5hdMUsNjGcxsJalBgY4bmbFLDcwKgbWsdzAAMfNqphla2DvJ0rcnopkLwUDtFl2YNxFId+yA1NlZAAAAAAAAAAAAAAAAAAAAAAAAAAAAAAAAAAAAAAAAAAAAAAAAAAAAAAAAAAAAAAAAABgl78AGhwmMlTVb/sAAAAASUVORK5CYII=",
         "3": "iVBORw0KGgoAAAANSUhEUgAAARgAAADcCAYAAACrgL6aAAADTElEQVR4nO3YwW3FMAxEQSZluP/a3EZSgXRJ+MUVZhoQL35YuAoAAAAAAAAAAAAAAAAAAAAAAAAAAAAAAAAAAAAAAAAAAAAAAAAAAAAAAAAAAAAAAAAAAAAAAIC/+Tp9wH953/fn9A0w2fM8H//evz/9IPB5J+JSdUlgrBeY6YrAAGun1kvVBYGxXmCu+MAAayfXS1V4YKwXmC06MMDa6fVSFRwY6wXmiw0MsDZhvVSFBsZ6gQyRgQHWpqyXqsDAWC+QIy4wwNqk9VIVFhjrBbJEBQZYm7ZeqoICY71AnpjAAGsT10tVSGCsF8gUERhgbep6qQoIjPUCucYHBlibvF6qhgfGeoFsowMDrE1fL1WDA2O9QL6xgQHWEtZL1dDAWC9wh5GBAdZS1kvVwMBYL3CPcYEB1pLWS9WwwFgvcJdRgQHW0tZL1aDAWC9wnzGBAdYS10vVkMBYL3CnEYEB1lLXS9WAwFgvcK/jgQHWktdL1eHAWC9wNwsGhkpfL1UHA2O9wP0sGKCNwABtBAZoIzBAG4EB2ggM0EZggDYCA7QRGKCNwABtBAZoIzBAG4EB2ggM0EZggDYCA7QRGKCNwABtBAZoIzBAG4EB2ggM0EZggDYCA7QRGKCNwABtBAZoIzBAG4EB2ggM0EZggDYCA7QRGKCNwABtBAZoIzBAG4EB2ggM0EZggDYCA7Q5Fpjneb5OvQ18hgUDQ73v+3P6hr86GhgrBu5mwcBg6SvmeGCsGLjX8cAAe8krZkRgrBi404jAAHupK2ZMYKwYuM+YwAB7iStmVGCsGLjLqMAAe2krZlxgrBi4x7jAAHtJK2ZkYKwYuMPIwAB7KStmbGCsGMg3NjDAXsKKGR0YKwayjQ4MsDd9xYwPjBUDucYHBtibvGIiAmPFQKaIwAB7U1dMTGCsGMgTExhgb+KKiQqMFQNZogID7E1bMXGBsWIgR1xggL1JKyYyMFYMZIgMDLA3ZcXEBsaKgfliAwPsTVgx0YGxYmC26MAAe6dXTHxgrBiYKz4wwN7JFXNFYKwYmOmKwAB7p//FAAAAAAAAAAAAAAAAAAAAAAAAAAAAAAAAAAAAAAAAAAAAAAAAAAAAAAAAAAAAAAAAAAAAAABc7xeH7KTyjFElFAAAAABJRU5ErkJggg=="
        }
       ],
       "layout": "IPY_MODEL_d8205211d6e54ebf822b9db0dbc0fa1d",
       "state": {
        "41": [
         1,
         1
        ],
        "42": [
         1,
         1
        ],
        "44": [
         1,
         1
        ],
        "46": [
         1,
         1
        ]
       },
       "style": "IPY_MODEL_436248b323fd496c8531afc87a35579c",
       "tooltip": "",
       "tree": {
        "children": [
         {
          "color": "#aaa",
          "id": 41,
          "name": "TOP_0",
          "type": "leaf"
         },
         {
          "children": [
           {
            "color": "#00ff00",
            "id": 42,
            "name": "SECOND_0",
            "type": "leaf"
           }
          ],
          "id": 43,
          "name": "SECOND",
          "type": "node"
         },
         {
          "children": [
           {
            "color": "#ffa500",
            "id": 44,
            "name": "THIRD_0",
            "type": "leaf"
           }
          ],
          "id": 45,
          "name": "THIRD",
          "type": "node"
         },
         {
          "children": [
           {
            "color": "#0000ff",
            "id": 46,
            "name": "4th_0",
            "type": "leaf"
           }
          ],
          "id": 47,
          "name": "4th",
          "type": "node"
         }
        ],
        "id": 48,
        "name": "TOP",
        "type": "node"
       }
      }
     },
     "140b2d9481a249e993fb2919558c6c1d": {
      "model_module": "@jupyter-widgets/controls",
      "model_module_version": "1.5.0",
      "model_name": "DescriptionStyleModel",
      "state": {
       "description_width": ""
      }
     },
     "1449c895f1e741ee9e19ec7e1dd29b98": {
      "buffers": [
       {
        "data": "AQAAAAAAAAACAAAAAQAAAAIAAAADAAAABQAAAAYAAAAEAAAABQAAAAcAAAAGAAAACAAAAAcAAAAFAAAADAAAAAoAAAAJAAAADAAAAAkAAAALAAAAEAAAAA0AAAAOAAAAEAAAAA8AAAANAAAAEgAAABEAAAATAAAAEgAAABMAAAAUAAAAFQAAABIAAAAUAAAAFwAAABYAAAAYAAAAFwAAABgAAAAZAAAAGwAAABwAAAAaAAAAGwAAAB0AAAAcAAAA",
        "encoding": "base64",
        "path": [
         "array",
         "buffer"
        ]
       }
      ],
      "model_module": "jupyter-threejs",
      "model_module_version": "^2.1.0",
      "model_name": "BufferAttributeModel",
      "state": {
       "_view_module": null,
       "_view_module_version": "",
       "array": {
        "dtype": "uint32",
        "shape": [
         48
        ]
       },
       "normalized": true,
       "version": 2
      }
     },
     "144fca32106143dda9a067c38312c313": {
      "model_module": "jupyter-threejs",
      "model_module_version": "^2.1.0",
      "model_name": "LineMaterialModel",
      "state": {
       "_view_module": null,
       "_view_module_version": "",
       "color": "#808080"
      }
     },
     "1481c9c49f6f4de38d45e6ab249532d9": {
      "model_module": "@jupyter-widgets/base",
      "model_module_version": "1.2.0",
      "model_name": "LayoutModel",
      "state": {
       "width": "230px"
      }
     },
     "14a2e89376cc4436b4b960d820a1d1af": {
      "buffers": [
       {
        "data": "AAAAAAAAAAAAAIA/AAAAAAAAAAAAAIA/AAAAAAAAAAAAAIA/AAAAAAAAAAAAAIA/",
        "encoding": "base64",
        "path": [
         "array",
         "buffer"
        ]
       }
      ],
      "model_module": "jupyter-threejs",
      "model_module_version": "^2.1.0",
      "model_name": "BufferAttributeModel",
      "state": {
       "_view_module": null,
       "_view_module_version": "",
       "array": {
        "dtype": "float32",
        "shape": [
         4,
         3
        ]
       },
       "normalized": true,
       "version": 2
      }
     },
     "14b670afd5c84c6da7a4c0832f7eeb32": {
      "model_module": "@jupyter-widgets/controls",
      "model_module_version": "1.5.0",
      "model_name": "FloatSliderModel",
      "state": {
       "continuous_update": false,
       "layout": "IPY_MODEL_bb80a5151c7943ccb8d5d4f98cdbdfcf",
       "max": 1.320000132,
       "min": -1.4300001430000002,
       "step": 0.01,
       "style": "IPY_MODEL_39ecbbf62e23414bb616f773e0106903",
       "value": 1.320000132
      }
     },
     "14efa81a9a414e7087ede5a5907b352d": {
      "model_module": "@jupyter-widgets/controls",
      "model_module_version": "1.5.0",
      "model_name": "LabelModel",
      "state": {
       "layout": "IPY_MODEL_bd86e965274243b19efb83201963955d",
       "style": "IPY_MODEL_9de0f95915f4488ea121a17342c99b4f",
       "value": "N=( 1.00,  0.00,  0.00)"
      }
     },
     "14f344c1c54742e1a674dc9c20de4ce0": {
      "model_module": "@jupyter-widgets/base",
      "model_module_version": "1.2.0",
      "model_name": "LayoutModel",
      "state": {}
     },
     "15027410579d4c95b833bf4c6c0e7f16": {
      "model_module": "jupyter-threejs",
      "model_module_version": "^2.1.0",
      "model_name": "LineSegments2Model",
      "state": {
       "_view_module": null,
       "_view_module_version": "",
       "geometry": "IPY_MODEL_0b28b2c3e14748caa5a778b11a008af2",
       "material": "IPY_MODEL_d4b02a91a795429c9096eab472e4a1bb",
       "morphTargetInfluences": [],
       "name": "edges_1"
      }
     },
     "1506df724e154ef393011fe465356c98": {
      "model_module": "jupyter-threejs",
      "model_module_version": "^2.1.0",
      "model_name": "LineSegments2Model",
      "state": {
       "_view_module": null,
       "_view_module_version": "",
       "geometry": "IPY_MODEL_9d3dd3c0d181409e857ab351fca93671",
       "material": "IPY_MODEL_30fb655f14284b35a204f3b2828d616d",
       "morphTargetInfluences": [],
       "name": "edges_0"
      }
     },
     "15130e9a1a644fc68f55ddda68381f6b": {
      "model_module": "jupyter-threejs",
      "model_module_version": "^2.1.0",
      "model_name": "BufferGeometryModel",
      "state": {
       "_view_module": null,
       "_view_module_version": "",
       "attributes": {
        "index": "IPY_MODEL_0faf5ef1e2f14f499134bf2f3ebcfb51",
        "normal": "IPY_MODEL_fa9b60359275469dbd30eb2f2315f09b",
        "position": "IPY_MODEL_7561323a35224ebaa61580b99a85ef65"
       }
      }
     },
     "151528047d1a4e89b9d338a7ead0d0ed": {
      "model_module": "jupyter-threejs",
      "model_module_version": "^2.1.0",
      "model_name": "PickerModel",
      "state": {
       "_view_module": null,
       "_view_module_version": "",
       "controlling": "IPY_MODEL_9d8b269d466c4187a32f7bd6014cc6b2",
       "event": "dblclick"
      }
     },
     "153426e2ec564cff8760964024c1b67b": {
      "model_module": "@jupyter-widgets/controls",
      "model_module_version": "1.5.0",
      "model_name": "ButtonStyleModel",
      "state": {}
     },
     "1566a94b-8e93-4654-b067-528d8f92e29d": {
      "model_module": "jupyter-threejs",
      "model_module_version": "^2.1.0",
      "model_name": "DirectionalLightShadowModel",
      "state": {
       "camera": "IPY_MODEL_778c1ed0-cce2-4585-9d74-93b6a6b02af9"
      }
     },
     "15776e41230a40f0b762526c9375fc0c": {
      "model_module": "@jupyter-widgets/base",
      "model_module_version": "1.2.0",
      "model_name": "LayoutModel",
      "state": {}
     },
     "15e4367c88da4e07be15ecfc6bc9f7e9": {
      "model_module": "jupyter_cadquery",
      "model_module_version": "^v1.0.0",
      "model_name": "ImageButtonModel",
      "state": {
       "_dom_classes": [
        "view_button"
       ],
       "_model_module_version": "^v1.0.0",
       "_view_module_version": "^v1.0.0",
       "height": "28",
       "layout": "IPY_MODEL_95602957f4d44fd19cd2871bb2632793",
       "style": "IPY_MODEL_0c991252a0eb4f14b012778fd6910b6c",
       "tooltip": "Change view to reset",
       "type": "reset",
       "value": {},
       "width": "36"
      }
     },
     "16022a9cfc5844bf8bcdfe9b84456803": {
      "model_module": "@jupyter-widgets/base",
      "model_module_version": "1.2.0",
      "model_name": "LayoutModel",
      "state": {}
     },
     "1665749eaf0b4c9bb519c1264f8c6f58": {
      "model_module": "@jupyter-widgets/controls",
      "model_module_version": "1.5.0",
      "model_name": "CheckboxModel",
      "state": {
       "_dom_classes": [
        "view_ortho"
       ],
       "description": "Ortho",
       "disabled": false,
       "indent": false,
       "layout": "IPY_MODEL_840b7b71ec4e4703976a7458af78cb8b",
       "style": "IPY_MODEL_dc39206536664865890ba6cce190da9b",
       "value": true
      }
     },
     "16b12d47cfbc4f5b8771a7720d692178": {
      "model_module": "jupyter-threejs",
      "model_module_version": "^2.1.0",
      "model_name": "DirectionalLightModel",
      "state": {
       "_view_module": null,
       "_view_module_version": "",
       "color": "white",
       "intensity": 0.12,
       "matrixWorldNeedsUpdate": true,
       "position": [
        4.34281039328222,
        -4.34281039328222,
        -4.34281039328222
       ],
       "shadow": "IPY_MODEL_27fa0ca6-23f7-41d6-ac42-712e9ebd2ddf",
       "target": "IPY_MODEL_ca19c207-625b-4353-8840-f036bcb3c4e2"
      }
     },
     "16c694d1e28941939ef9400f956a3d70": {
      "model_module": "jupyter-threejs",
      "model_module_version": "^2.1.0",
      "model_name": "BufferGeometryModel",
      "state": {
       "_view_module": null,
       "_view_module_version": "",
       "attributes": {
        "index": "IPY_MODEL_4e50f38cc9864d289513f5d849ea1e1a",
        "normal": "IPY_MODEL_3f343307334e4150866e9101a99e2a0d",
        "position": "IPY_MODEL_df0f1a9fa27f4e5fadbcbe3e3faac45b"
       }
      }
     },
     "16d6f0f9-9957-402b-8ec3-40d0887e5101": {
      "model_module": "jupyter-threejs",
      "model_module_version": "^2.1.0",
      "model_name": "Object3DModel",
      "state": {}
     },
     "171eaf8d-8202-4eb8-8ca4-f9d5595edd09": {
      "model_module": "jupyter-threejs",
      "model_module_version": "^2.1.0",
      "model_name": "DirectionalLightShadowModel",
      "state": {
       "camera": "IPY_MODEL_a7c9228c-9eda-464b-a7a4-880e985de81c"
      }
     },
     "172a1a79-4729-41ee-bb68-0b409c2b27a3": {
      "model_module": "jupyter-threejs",
      "model_module_version": "^2.1.0",
      "model_name": "DirectionalLightShadowModel",
      "state": {
       "camera": "IPY_MODEL_e804fdd1-dd61-44ad-ac8d-fd676c8ede8d"
      }
     },
     "17652b707dfb4a4b8c6bcd5e3a3f4b9a": {
      "model_module": "@jupyter-widgets/controls",
      "model_module_version": "1.5.0",
      "model_name": "DescriptionStyleModel",
      "state": {
       "description_width": ""
      }
     },
     "176c2dc126ca4d319e62b2a94b18a6f3": {
      "model_module": "jupyter-threejs",
      "model_module_version": "^2.1.0",
      "model_name": "LineSegments2Model",
      "state": {
       "_view_module": null,
       "_view_module_version": "",
       "geometry": "IPY_MODEL_1b3579d877b8495a8ea486c668214049",
       "material": "IPY_MODEL_e3a2c2ff073d4dfdb46d859dc5807e89",
       "morphTargetInfluences": [],
       "name": "edges_0"
      }
     },
     "176c423a-afbe-4cc4-a255-e78dc7eaa0f4": {
      "model_module": "jupyter-threejs",
      "model_module_version": "^2.1.0",
      "model_name": "OrthographicCameraModel",
      "state": {
       "bottom": -5,
       "far": 500,
       "left": -5,
       "near": 0.5,
       "projectionMatrix": [
        0.2,
        0,
        0,
        0,
        0,
        0.2,
        0,
        0,
        0,
        0,
        -0.004004004004004004,
        0,
        0,
        0,
        -1.002002002002002,
        1
       ],
       "right": 5,
       "top": 5
      }
     },
     "17f0e7b51dfc4ad0bface64e5843fd5f": {
      "model_module": "jupyter_cadquery",
      "model_module_version": "^v1.0.0",
      "model_name": "ImageButtonModel",
      "state": {
       "_dom_classes": [
        "view_button"
       ],
       "_model_module_version": "^v1.0.0",
       "_view_module_version": "^v1.0.0",
       "height": "28",
       "layout": "IPY_MODEL_1f20e29ac8de4abb9d662ea13c007af7",
       "style": "IPY_MODEL_b1328926a8c9434cbbeff0d79b9bd0a7",
       "tooltip": "Set clipping plane",
       "type": "1",
       "value": {},
       "width": "36"
      }
     },
     "1910573c67f84ba7bee5905db12b68b6": {
      "model_module": "@jupyter-widgets/controls",
      "model_module_version": "1.5.0",
      "model_name": "CheckboxModel",
      "state": {
       "_dom_classes": [
        "view_zero"
       ],
       "description": "@ 0",
       "disabled": false,
       "indent": false,
       "layout": "IPY_MODEL_b39bedb916e54000b890d5a99093c475",
       "style": "IPY_MODEL_67c4b64e1e2648bf9a0b03149b36186f",
       "value": false
      }
     },
     "191be7e4eeb34c468edcb6f5bc3f65fb": {
      "model_module": "jupyter-threejs",
      "model_module_version": "^2.1.0",
      "model_name": "DirectionalLightModel",
      "state": {
       "_view_module": null,
       "_view_module_version": "",
       "color": "white",
       "intensity": 0.12,
       "matrixWorldNeedsUpdate": true,
       "position": [
        8.278436197374486,
        8.278436197374486,
        -8.278436197374486
       ],
       "shadow": "IPY_MODEL_74f153d0-b1a1-4b55-808d-675695413c8d",
       "target": "IPY_MODEL_ae96c0fe-cd85-4ac1-aa77-2006990fc68e"
      }
     },
     "1a02baccf775423ba85562d3255a8f13": {
      "model_module": "@jupyter-widgets/base",
      "model_module_version": "1.2.0",
      "model_name": "LayoutModel",
      "state": {}
     },
     "1a46ed03e7d24a1e9b9a4cbf23551b5d": {
      "model_module": "jupyter-threejs",
      "model_module_version": "^2.1.0",
      "model_name": "MeshModel",
      "state": {
       "_view_module": null,
       "_view_module_version": "",
       "geometry": "IPY_MODEL_b2ecec3aba0a4270b42d93403902380d",
       "material": "IPY_MODEL_2e681cda5f8946e38ec384ea0119ac9e",
       "morphTargetInfluences": [],
       "name": "mesh_0",
       "visible": false
      }
     },
     "1a99883037784b628da0009e92632225": {
      "model_module": "jupyter-threejs",
      "model_module_version": "^2.1.0",
      "model_name": "PlaneModel",
      "state": {
       "_view_module": null,
       "_view_module_version": "",
       "constant": 6,
       "normal": [
        0,
        1,
        0
       ]
      }
     },
     "1ae60fa8e8054b75925a56da4172add3": {
      "model_module": "@jupyter-widgets/controls",
      "model_module_version": "1.5.0",
      "model_name": "LabelModel",
      "state": {
       "layout": "IPY_MODEL_4f2cf5e6ec094f028165a915fb013b0c",
       "style": "IPY_MODEL_a00ebb9c496643b3921537e6f4e47007",
       "value": "N=( 0.00,  0.00,  1.00)"
      }
     },
     "1b1e034843464156aafd304a528dd81c": {
      "model_module": "jupyter-threejs",
      "model_module_version": "^2.1.0",
      "model_name": "BufferGeometryModel",
      "state": {
       "_view_module": null,
       "_view_module_version": "",
       "attributes": {
        "index": "IPY_MODEL_885898f0414b497d92feb4e51cdd8e02",
        "normal": "IPY_MODEL_a337310efb9b475dbad99a2dcf1f0969",
        "position": "IPY_MODEL_fa4e8e402c3843e1859c1f414509ed56"
       }
      }
     },
     "1b3579d877b8495a8ea486c668214049": {
      "buffers": [
       {
        "data": "AADAPwAAAD8AAIC/AADAPwAAAD+amRk/AADAPwAAAD+amRk/AADAPwAAwD+amRk/AADAPwAAAD8AAIC/AADAPwAAwD8AAIC/AADAPwAAwD8AAIC/AADAPwAAwD+amRk/AADAPwAAAD+amRk/zcyMPwAAAD8AAIA/AAAAPwAAAD8AAIC/AADAPwAAAD8AAIC/AAAAPwAAAD8AAIA/zcyMPwAAAD8AAIA/AAAAPwAAAD8AAIC/AAAAPwAAAD8AAIA/zcyMPwAAAD8AAIA/zcyMPwAAwD8AAIA/AADAPwAAwD+amRk/zcyMPwAAwD8AAIA/AAAAPwAAAD8AAIC/AAAAPwAAwD8AAIC/AAAAPwAAwD8AAIC/AADAPwAAwD8AAIC/AAAAPwAAwD8AAIA/zcyMPwAAwD8AAIA/AAAAPwAAwD8AAIC/AAAAPwAAwD8AAIA/AAAAPwAAAD8AAIA/AAAAPwAAwD8AAIA/",
        "encoding": "base64",
        "path": [
         "positions",
         "buffer"
        ]
       }
      ],
      "model_module": "jupyter-threejs",
      "model_module_version": "^2.1.0",
      "model_name": "LineSegmentsGeometryModel",
      "state": {
       "_view_module": null,
       "_view_module_version": "",
       "positions": {
        "dtype": "float32",
        "shape": [
         15,
         2,
         3
        ]
       }
      }
     },
     "1b72e9b123214c5190cea5c1c7bbc16b": {
      "model_module": "jupyter-threejs",
      "model_module_version": "^2.1.0",
      "model_name": "LineSegments2Model",
      "state": {
       "_view_module": null,
       "_view_module_version": "",
       "geometry": "IPY_MODEL_8d181a9bb32a43dbadc1cb39dcc6d7db",
       "material": "IPY_MODEL_dc78dfe98bf646dc99cefba33c3f9a1b",
       "matrix": [
        1,
        0,
        0,
        0,
        0,
        1,
        0,
        0,
        0,
        0,
        1,
        0,
        0.9999999999999999,
        -0.75,
        2.125,
        1
       ],
       "morphTargetInfluences": [],
       "position": [
        0.9999999999999999,
        -0.75,
        2.125
       ],
       "visible": false
      }
     },
     "1b80ee1174bd41bbb6f91a9aa0634f44": {
      "model_module": "jupyter_cadquery",
      "model_module_version": "^v1.0.0",
      "model_name": "ImageButtonModel",
      "state": {
       "_dom_classes": [
        "view_button"
       ],
       "_model_module_version": "^v1.0.0",
       "_view_module_version": "^v1.0.0",
       "height": "28",
       "layout": "IPY_MODEL_8a2c74eea97543e1864af45388392d7e",
       "style": "IPY_MODEL_5dae9f129cc34d1786a4d033a2a983a4",
       "tooltip": "Set clipping plane",
       "type": "2",
       "value": {},
       "width": "36"
      }
     },
     "1b8b9cee-a065-4c4c-9257-050b3484d690": {
      "model_module": "jupyter-threejs",
      "model_module_version": "^2.1.0",
      "model_name": "OrthographicCameraModel",
      "state": {
       "bottom": -5,
       "far": 500,
       "left": -5,
       "near": 0.5,
       "projectionMatrix": [
        0.2,
        0,
        0,
        0,
        0,
        0.2,
        0,
        0,
        0,
        0,
        -0.004004004004004004,
        0,
        0,
        0,
        -1.002002002002002,
        1
       ],
       "right": 5,
       "top": 5
      }
     },
     "1b8e4766177b43ddb110e2e2ebf6dfb5": {
      "model_module": "@jupyter-widgets/base",
      "model_module_version": "1.2.0",
      "model_name": "LayoutModel",
      "state": {}
     },
     "1b97ce1deae84d0ab4e052e2ac3c2f76": {
      "model_module": "@jupyter-widgets/base",
      "model_module_version": "1.2.0",
      "model_name": "LayoutModel",
      "state": {}
     },
     "1bd5447c1332468f9caab37751f9083a": {
      "model_module": "@jupyter-widgets/controls",
      "model_module_version": "1.5.0",
      "model_name": "ButtonStyleModel",
      "state": {}
     },
     "1bd719133c3b420ea428db0f5b12f920": {
      "model_module": "jupyter-threejs",
      "model_module_version": "^2.1.0",
      "model_name": "LineMaterialModel",
      "state": {
       "_view_module": null,
       "_view_module_version": "",
       "color": "#808080"
      }
     },
     "1bdfd46e271b472fa483020be81e7581": {
      "model_module": "@jupyter-widgets/base",
      "model_module_version": "1.2.0",
      "model_name": "LayoutModel",
      "state": {
       "width": "230px"
      }
     },
     "1c56b96b63e94ff280cc8c24ff5c22ec": {
      "model_module": "@jupyter-widgets/base",
      "model_module_version": "1.2.0",
      "model_name": "LayoutModel",
      "state": {
       "height": "335px",
       "width": "230px"
      }
     },
     "1c58ef20fed44e59bee568077f0ecbc6": {
      "model_module": "@jupyter-widgets/controls",
      "model_module_version": "1.5.0",
      "model_name": "HBoxModel",
      "state": {
       "children": [
        "IPY_MODEL_d69f504c6dd0439aa9079a3d88c7b200",
        "IPY_MODEL_b1726e01994f4f36b932d878eff99259"
       ],
       "layout": "IPY_MODEL_9c489b3fadb54e0984ae42bc600f9078"
      }
     },
     "1c605d59-8259-4e13-856f-172ecc825fcf": {
      "model_module": "jupyter-threejs",
      "model_module_version": "^2.1.0",
      "model_name": "DirectionalLightShadowModel",
      "state": {
       "camera": "IPY_MODEL_2d8d5d06-dbab-4f21-bd8e-ce9c59537891"
      }
     },
     "1c60bfe520ce444e8f0f1aa93399f9d3": {
      "model_module": "@jupyter-widgets/base",
      "model_module_version": "1.2.0",
      "model_name": "LayoutModel",
      "state": {
       "width": "230px"
      }
     },
     "1ce4d7e0111b42179d03b7bd4eb236c8": {
      "model_module": "@jupyter-widgets/controls",
      "model_module_version": "1.5.0",
      "model_name": "ButtonStyleModel",
      "state": {}
     },
     "1ce7fa2ac57c4bf5a208764245fd79d3": {
      "model_module": "@jupyter-widgets/controls",
      "model_module_version": "1.5.0",
      "model_name": "DescriptionStyleModel",
      "state": {
       "description_width": ""
      }
     },
     "1d075774d4404e138d7a07a3f2502685": {
      "model_module": "jupyter-threejs",
      "model_module_version": "^2.1.0",
      "model_name": "WebGLShadowMapModel",
      "state": {
       "_view_module": null,
       "_view_module_version": ""
      }
     },
     "1d2beb0bd3674207ab6dcf1910d24027": {
      "model_module": "@jupyter-widgets/controls",
      "model_module_version": "1.5.0",
      "model_name": "DescriptionStyleModel",
      "state": {
       "description_width": ""
      }
     },
     "1d5a12d6788840ceac3d36592532c9a5": {
      "model_module": "@jupyter-widgets/base",
      "model_module_version": "1.2.0",
      "model_name": "LayoutModel",
      "state": {
       "width": "230px"
      }
     },
     "1e1a5ce6ea5a475a908d539d92817e56": {
      "model_module": "@jupyter-widgets/base",
      "model_module_version": "1.2.0",
      "model_name": "LayoutModel",
      "state": {}
     },
     "1e57532475f94249a9397d54b0e9c6c5": {
      "buffers": [
       {
        "data": "AADAPwAAAD8AAIC/AADAPwAAAD+amRk/AADAPwAAAD+amRk/AADAPwAAwD+amRk/AADAPwAAAD8AAIC/AADAPwAAwD8AAIC/AADAPwAAwD8AAIC/AADAPwAAwD+amRk/AADAPwAAAD+amRk/zcyMPwAAAD8AAIA/AAAAPwAAAD8AAIC/AADAPwAAAD8AAIC/AAAAPwAAAD8AAIA/zcyMPwAAAD8AAIA/AAAAPwAAAD8AAIC/AAAAPwAAAD8AAIA/zcyMPwAAAD8AAIA/zcyMPwAAwD8AAIA/AADAPwAAwD+amRk/zcyMPwAAwD8AAIA/AAAAPwAAAD8AAIC/AAAAPwAAwD8AAIC/AAAAPwAAwD8AAIC/AADAPwAAwD8AAIC/AAAAPwAAwD8AAIA/zcyMPwAAwD8AAIA/AAAAPwAAwD8AAIC/AAAAPwAAwD8AAIA/AAAAPwAAAD8AAIA/AAAAPwAAwD8AAIA/",
        "encoding": "base64",
        "path": [
         "positions",
         "buffer"
        ]
       }
      ],
      "model_module": "jupyter-threejs",
      "model_module_version": "^2.1.0",
      "model_name": "LineSegmentsGeometryModel",
      "state": {
       "_view_module": null,
       "_view_module_version": "",
       "positions": {
        "dtype": "float32",
        "shape": [
         15,
         2,
         3
        ]
       }
      }
     },
     "1ee03f7a0d3041d496a9b222330b8739": {
      "model_module": "@jupyter-widgets/controls",
      "model_module_version": "1.5.0",
      "model_name": "CheckboxModel",
      "state": {
       "_dom_classes": [
        "view_ortho"
       ],
       "description": "Ortho",
       "disabled": false,
       "indent": false,
       "layout": "IPY_MODEL_4ee12bc42baa4637b4a5173976991d47",
       "style": "IPY_MODEL_2dc980f6e31648199635c121802d8b86",
       "value": true
      }
     },
     "1f16a49ab2a641b6b98fed2a04ceb655": {
      "model_module": "jupyter-threejs",
      "model_module_version": "^2.1.0",
      "model_name": "DirectionalLightModel",
      "state": {
       "_view_module": null,
       "_view_module_version": "",
       "color": "white",
       "intensity": 0.12,
       "matrixWorldNeedsUpdate": true,
       "position": [
        8.278436197374486,
        8.278436197374486,
        8.278436197374486
       ],
       "shadow": "IPY_MODEL_75a720b5-0974-4a1d-9568-a7493b4abb52",
       "target": "IPY_MODEL_d6517413-fbeb-4c90-8946-2be382cf6a01"
      }
     },
     "1f20e29ac8de4abb9d662ea13c007af7": {
      "model_module": "@jupyter-widgets/base",
      "model_module_version": "1.2.0",
      "model_name": "LayoutModel",
      "state": {
       "margin": "0px 10px 0px 0px"
      }
     },
     "1f633293-58fa-43ae-8df9-266ad06f573a": {
      "model_module": "jupyter-threejs",
      "model_module_version": "^2.1.0",
      "model_name": "OrthographicCameraModel",
      "state": {
       "bottom": -5,
       "far": 500,
       "left": -5,
       "near": 0.5,
       "projectionMatrix": [
        0.2,
        0,
        0,
        0,
        0,
        0.2,
        0,
        0,
        0,
        0,
        -0.004004004004004004,
        0,
        0,
        0,
        -1.002002002002002,
        1
       ],
       "right": 5,
       "top": 5
      }
     },
     "2033cf97-380d-42b7-b7c1-8998f33fdb2c": {
      "model_module": "jupyter-threejs",
      "model_module_version": "^2.1.0",
      "model_name": "OrthographicCameraModel",
      "state": {
       "bottom": -5,
       "far": 500,
       "left": -5,
       "near": 0.5,
       "projectionMatrix": [
        0.2,
        0,
        0,
        0,
        0,
        0.2,
        0,
        0,
        0,
        0,
        -0.004004004004004004,
        0,
        0,
        0,
        -1.002002002002002,
        1
       ],
       "right": 5,
       "top": 5
      }
     },
     "2092d2fcb4534e93a5276a87429514a1": {
      "model_module": "jupyter_cadquery",
      "model_module_version": "^v1.0.0",
      "model_name": "ImageButtonModel",
      "state": {
       "_dom_classes": [
        "view_button"
       ],
       "_model_module_version": "^v1.0.0",
       "_view_module_version": "^v1.0.0",
       "height": "28",
       "layout": "IPY_MODEL_a94bcfa3596a45d6ba38e0020c8d3fc1",
       "style": "IPY_MODEL_13f8aadee8c44d98a5aa868feb5679ad",
       "tooltip": "Change view to front",
       "type": "front",
       "value": {},
       "width": "36"
      }
     },
     "20af6a08-e961-4b77-b2f9-b1cf2d981d2f": {
      "model_module": "jupyter-threejs",
      "model_module_version": "^2.1.0",
      "model_name": "OrthographicCameraModel",
      "state": {
       "bottom": -5,
       "far": 500,
       "left": -5,
       "near": 0.5,
       "projectionMatrix": [
        0.2,
        0,
        0,
        0,
        0,
        0.2,
        0,
        0,
        0,
        0,
        -0.004004004004004004,
        0,
        0,
        0,
        -1.002002002002002,
        1
       ],
       "right": 5,
       "top": 5
      }
     },
     "20bf4289a9e747e09d034d5b80470d4d": {
      "model_module": "@jupyter-widgets/controls",
      "model_module_version": "1.5.0",
      "model_name": "SliderStyleModel",
      "state": {
       "description_width": ""
      }
     },
     "20cb0b4c-993f-4ded-8edd-b594064bef54": {
      "model_module": "jupyter-threejs",
      "model_module_version": "^2.1.0",
      "model_name": "Object3DModel",
      "state": {}
     },
     "20e08755ca5e4f0ab588688bc6fb450b": {
      "model_module": "jupyter-threejs",
      "model_module_version": "^2.1.0",
      "model_name": "DirectionalLightModel",
      "state": {
       "_view_module": null,
       "_view_module_version": "",
       "color": "white",
       "intensity": 0.12,
       "matrixWorldNeedsUpdate": true,
       "position": [
        -8.278436197374486,
        -8.278436197374486,
        -8.278436197374486
       ],
       "shadow": "IPY_MODEL_cf990416-fb4f-4a25-b222-a164a8e7b9d9",
       "target": "IPY_MODEL_2dc77099-c0df-4f83-8712-c234ce7ed093"
      }
     },
     "20e23040-c07c-43e8-93f4-26831d9e39aa": {
      "model_module": "jupyter-threejs",
      "model_module_version": "^2.1.0",
      "model_name": "Object3DModel",
      "state": {}
     },
     "20f777c168e04fafadf1c21dd81506dd": {
      "model_module": "jupyter-threejs",
      "model_module_version": "^2.1.0",
      "model_name": "ShaderMaterialModel",
      "state": {
       "_view_module": null,
       "_view_module_version": "",
       "clipping": true,
       "fragmentShader": "\n        uniform float alpha;\n        #define PHYSICAL\nuniform vec3 diffuse;\nuniform vec3 emissive;\nuniform float roughness;\nuniform float metalness;\nuniform float opacity;\n#ifndef STANDARD\n\tuniform float clearCoat;\n\tuniform float clearCoatRoughness;\n#endif\nvarying vec3 vViewPosition;\n#ifndef FLAT_SHADED\n\tvarying vec3 vNormal;\n#endif\n#include <common>\n#include <packing>\n#include <dithering_pars_fragment>\n#include <color_pars_fragment>\n#include <uv_pars_fragment>\n#include <uv2_pars_fragment>\n#include <map_pars_fragment>\n#include <alphamap_pars_fragment>\n#include <aomap_pars_fragment>\n#include <lightmap_pars_fragment>\n#include <emissivemap_pars_fragment>\n#include <bsdfs>\n#include <cube_uv_reflection_fragment>\n#include <envmap_pars_fragment>\n#include <envmap_physical_pars_fragment>\n#include <fog_pars_fragment>\n#include <lights_pars_begin>\n#include <lights_physical_pars_fragment>\n#include <shadowmap_pars_fragment>\n#include <bumpmap_pars_fragment>\n#include <normalmap_pars_fragment>\n#include <roughnessmap_pars_fragment>\n#include <metalnessmap_pars_fragment>\n#include <logdepthbuf_pars_fragment>\n#include <clipping_planes_pars_fragment>\nvoid main() {\n\t#include <clipping_planes_fragment>\n\tvec4 diffuseColor = vec4( diffuse, opacity );\n\tReflectedLight reflectedLight = ReflectedLight( vec3( 0.0 ), vec3( 0.0 ), vec3( 0.0 ), vec3( 0.0 ) );\n\tvec3 totalEmissiveRadiance = emissive;\n\t#include <logdepthbuf_fragment>\n\t#include <map_fragment>\n\t#include <color_fragment>\n\t#include <alphamap_fragment>\n\t#include <alphatest_fragment>\n\t#include <roughnessmap_fragment>\n\t#include <metalnessmap_fragment>\n\t#include <normal_fragment_begin>\n\t#include <normal_fragment_maps>\n\t#include <emissivemap_fragment>\n\t#include <lights_physical_fragment>\n\t#include <lights_fragment_begin>\n\t#include <lights_fragment_maps>\n\t#include <lights_fragment_end>\n\t#include <aomap_fragment>\n\tvec3 outgoingLight = reflectedLight.directDiffuse + reflectedLight.indirectDiffuse + reflectedLight.directSpecular + reflectedLight.indirectSpecular + totalEmissiveRadiance;\n\t\n            if ( gl_FrontFacing ) {\n                gl_FragColor = vec4( outgoingLight, alpha * diffuseColor.a );\n            } else {\n                gl_FragColor = vec4( diffuseColor.r, diffuseColor.g, diffuseColor.b, alpha * diffuseColor.a );\n            }\n\t#include <tonemapping_fragment>\n\t#include <encodings_fragment>\n\t#include <fog_fragment>\n\t#include <premultiplied_alpha_fragment>\n\t#include <dithering_fragment>\n}\n",
       "lights": true,
       "polygonOffset": true,
       "polygonOffsetFactor": 1,
       "polygonOffsetUnits": 1,
       "side": "DoubleSide",
       "uniforms": {
        "alpha": {
         "value": 0.7
        },
        "alphaMap": {
         "value": null
        },
        "ambientLightColor": {
         "value": [
          1,
          1,
          1
         ]
        },
        "aoMap": {
         "value": null
        },
        "aoMapIntensity": {
         "value": 1
        },
        "bumpMap": {
         "value": null
        },
        "bumpScale": {
         "value": 1
        },
        "diffuse": {
         "type": "c",
         "value": "#e8b024"
        },
        "directionalLights": {
         "value": [
          {
           "color": 1973790,
           "direction": {
            "x": -2.49923634283188e-16,
            "y": 7.68877499820049e-17,
            "z": -0.9999999999999999
           },
           "shadow": false,
           "shadowBias": 0,
           "shadowMapSize": {
            "x": 0,
            "y": 0
           },
           "shadowRadius": 1
          },
          {
           "color": 1973790,
           "direction": {
            "x": -5.762736564483164e-17,
            "y": 0.9428090415820632,
            "z": -0.3333333333333332
           },
           "shadow": false,
           "shadowBias": 0,
           "shadowMapSize": {
            "x": 0,
            "y": 0
           },
           "shadowRadius": 1
          },
          {
           "color": 1973790,
           "direction": {
            "x": 0.8164965809277259,
            "y": -0.47140452079103146,
            "z": -0.3333333333333334
           },
           "shadow": false,
           "shadowBias": 0,
           "shadowMapSize": {
            "x": 0,
            "y": 0
           },
           "shadowRadius": 1
          },
          {
           "color": 1973790,
           "direction": {
            "x": 0.816496580927726,
            "y": 0.47140452079103157,
            "z": 0.33333333333333326
           },
           "shadow": false,
           "shadowBias": 0,
           "shadowMapSize": {
            "x": 0,
            "y": 0
           },
           "shadowRadius": 1
          },
          {
           "color": 1973790,
           "direction": {
            "x": -0.816496580927726,
            "y": -0.47140452079103157,
            "z": -0.33333333333333326
           },
           "shadow": false,
           "shadowBias": 0,
           "shadowMapSize": {
            "x": 0,
            "y": 0
           },
           "shadowRadius": 1
          },
          {
           "color": 1973790,
           "direction": {
            "x": -0.8164965809277259,
            "y": 0.47140452079103146,
            "z": 0.3333333333333334
           },
           "shadow": false,
           "shadowBias": 0,
           "shadowMapSize": {
            "x": 0,
            "y": 0
           },
           "shadowRadius": 1
          },
          {
           "color": 1973790,
           "direction": {
            "x": 5.762736564483164e-17,
            "y": -0.9428090415820632,
            "z": 0.3333333333333332
           },
           "shadow": false,
           "shadowBias": 0,
           "shadowMapSize": {
            "x": 0,
            "y": 0
           },
           "shadowRadius": 1
          },
          {
           "color": 1973790,
           "direction": {
            "x": 2.49923634283188e-16,
            "y": -7.68877499820049e-17,
            "z": 0.9999999999999999
           },
           "shadow": false,
           "shadowBias": 0,
           "shadowMapSize": {
            "x": 0,
            "y": 0
           },
           "shadowRadius": 1
          }
         ]
        },
        "directionalShadowMap": {
         "value": [
          null,
          null,
          null,
          null,
          null,
          null,
          null,
          null
         ]
        },
        "directionalShadowMatrix": {
         "value": [
          {
           "elements": [
            1,
            0,
            0,
            0,
            0,
            1,
            0,
            0,
            0,
            0,
            1,
            0,
            0,
            0,
            0,
            1
           ]
          },
          {
           "elements": [
            1,
            0,
            0,
            0,
            0,
            1,
            0,
            0,
            0,
            0,
            1,
            0,
            0,
            0,
            0,
            1
           ]
          },
          {
           "elements": [
            1,
            0,
            0,
            0,
            0,
            1,
            0,
            0,
            0,
            0,
            1,
            0,
            0,
            0,
            0,
            1
           ]
          },
          {
           "elements": [
            1,
            0,
            0,
            0,
            0,
            1,
            0,
            0,
            0,
            0,
            1,
            0,
            0,
            0,
            0,
            1
           ]
          },
          {
           "elements": [
            1,
            0,
            0,
            0,
            0,
            1,
            0,
            0,
            0,
            0,
            1,
            0,
            0,
            0,
            0,
            1
           ]
          },
          {
           "elements": [
            1,
            0,
            0,
            0,
            0,
            1,
            0,
            0,
            0,
            0,
            1,
            0,
            0,
            0,
            0,
            1
           ]
          },
          {
           "elements": [
            1,
            0,
            0,
            0,
            0,
            1,
            0,
            0,
            0,
            0,
            1,
            0,
            0,
            0,
            0,
            1
           ]
          },
          {
           "elements": [
            1,
            0,
            0,
            0,
            0,
            1,
            0,
            0,
            0,
            0,
            1,
            0,
            0,
            0,
            0,
            1
           ]
          }
         ]
        },
        "displacementBias": {
         "value": 0
        },
        "displacementMap": {
         "value": null
        },
        "displacementScale": {
         "value": 1
        },
        "emissive": {
         "type": "c",
         "value": "#000000"
        },
        "emissiveMap": {
         "value": null
        },
        "envMap": {
         "value": null
        },
        "envMapIntensity": {
         "value": 1
        },
        "flipEnvMap": {
         "value": -1
        },
        "fogColor": {
         "type": "c",
         "value": "#ffffff"
        },
        "fogDensity": {
         "value": 0.00025
        },
        "fogFar": {
         "value": 2000
        },
        "fogNear": {
         "value": 1
        },
        "hemisphereLights": {
         "value": []
        },
        "lightMap": {
         "value": null
        },
        "lightMapIntensity": {
         "value": 1
        },
        "map": {
         "value": null
        },
        "maxMipLevel": {
         "value": 0
        },
        "metalness": {
         "value": 0.3
        },
        "metalnessMap": {
         "value": null
        },
        "normalMap": {
         "value": null
        },
        "normalScale": {
         "type": "v2",
         "value": [
          1,
          1
         ]
        },
        "opacity": {
         "value": 1
        },
        "pointLights": {
         "value": []
        },
        "pointShadowMap": {
         "value": []
        },
        "pointShadowMatrix": {
         "value": []
        },
        "rectAreaLights": {
         "value": []
        },
        "reflectivity": {
         "value": 1
        },
        "refractionRatio": {
         "value": 0.98
        },
        "roughness": {
         "value": 0.8
        },
        "roughnessMap": {
         "value": null
        },
        "spotLights": {
         "value": []
        },
        "spotShadowMap": {
         "value": []
        },
        "spotShadowMatrix": {
         "value": []
        },
        "uvTransform": {
         "type": "m3",
         "value": [
          1,
          0,
          0,
          0,
          1,
          0,
          0,
          0,
          1
         ]
        }
       },
       "vertexShader": "#define PHYSICAL\nvarying vec3 vViewPosition;\n#ifndef FLAT_SHADED\n\tvarying vec3 vNormal;\n#endif\n#include <common>\n#include <uv_pars_vertex>\n#include <uv2_pars_vertex>\n#include <displacementmap_pars_vertex>\n#include <color_pars_vertex>\n#include <fog_pars_vertex>\n#include <morphtarget_pars_vertex>\n#include <skinning_pars_vertex>\n#include <shadowmap_pars_vertex>\n#include <logdepthbuf_pars_vertex>\n#include <clipping_planes_pars_vertex>\nvoid main() {\n\t#include <uv_vertex>\n\t#include <uv2_vertex>\n\t#include <color_vertex>\n\t#include <beginnormal_vertex>\n\t#include <morphnormal_vertex>\n\t#include <skinbase_vertex>\n\t#include <skinnormal_vertex>\n\t#include <defaultnormal_vertex>\n#ifndef FLAT_SHADED\n\tvNormal = normalize( transformedNormal );\n#endif\n\t#include <begin_vertex>\n\t#include <morphtarget_vertex>\n\t#include <skinning_vertex>\n\t#include <displacementmap_vertex>\n\t#include <project_vertex>\n\t#include <logdepthbuf_vertex>\n\t#include <clipping_planes_vertex>\n\tvViewPosition = - mvPosition.xyz;\n\t#include <worldpos_vertex>\n\t#include <shadowmap_vertex>\n\t#include <fog_vertex>\n}\n"
      }
     },
     "21243c6802b14ae39e93fd2bde0034c6": {
      "model_module": "@jupyter-widgets/controls",
      "model_module_version": "1.5.0",
      "model_name": "HBoxModel",
      "state": {
       "children": [
        "IPY_MODEL_468ee433c5fe428ebba282981811c484",
        "IPY_MODEL_76f3e7e509a842638fec519a11d667dd"
       ],
       "layout": "IPY_MODEL_126376e455ad4fd8a2b645adf8f01ab1"
      }
     },
     "2137366354d74e16baafabbd9eafeffb": {
      "model_module": "jupyter-threejs",
      "model_module_version": "^2.1.0",
      "model_name": "DirectionalLightModel",
      "state": {
       "_view_module": null,
       "_view_module_version": "",
       "color": "white",
       "intensity": 0.12,
       "matrixWorldNeedsUpdate": true,
       "position": [
        4.34281039328222,
        -4.34281039328222,
        4.34281039328222
       ],
       "shadow": "IPY_MODEL_dd594b83-846d-437e-83d3-0ff665d1de3c",
       "target": "IPY_MODEL_6ec6d1c6-3539-4dd8-bc3f-a7d5254f1d13"
      }
     },
     "215e01790c964423b8d6891958e7c31e": {
      "model_module": "jupyter-threejs",
      "model_module_version": "^2.1.0",
      "model_name": "LineMaterialModel",
      "state": {
       "_view_module": null,
       "_view_module_version": "",
       "color": "#808080"
      }
     },
     "218e3ac8916644f9a2d028d56266ebeb": {
      "model_module": "@jupyter-widgets/controls",
      "model_module_version": "1.5.0",
      "model_name": "SliderStyleModel",
      "state": {
       "description_width": ""
      }
     },
     "21d21035-8f8e-4b0b-b2db-7d39d980b1f8": {
      "model_module": "jupyter-threejs",
      "model_module_version": "^2.1.0",
      "model_name": "Object3DModel",
      "state": {}
     },
     "21dca90cc10f40cbbfa1d19cb811928c": {
      "model_module": "jupyter-threejs",
      "model_module_version": "^2.1.0",
      "model_name": "DirectionalLightModel",
      "state": {
       "_view_module": null,
       "_view_module_version": "",
       "color": "white",
       "intensity": 0.12,
       "matrixWorldNeedsUpdate": true,
       "position": [
        -3.334666769558863,
        3.334666769558863,
        -3.334666769558863
       ],
       "shadow": "IPY_MODEL_7afafa9c-ae83-4e6c-a848-22e4fc2f6266",
       "target": "IPY_MODEL_c2a39f89-9ee5-4e56-97a2-ec653005b01f"
      }
     },
     "2255ee526b404a508e318872a8a14d2b": {
      "model_module": "@jupyter-widgets/controls",
      "model_module_version": "1.5.0",
      "model_name": "DescriptionStyleModel",
      "state": {
       "description_width": ""
      }
     },
     "22592f5f-64ce-4b04-8013-20a6e9541ce8": {
      "model_module": "jupyter-threejs",
      "model_module_version": "^2.1.0",
      "model_name": "OrthographicCameraModel",
      "state": {
       "bottom": -5,
       "far": 500,
       "left": -5,
       "near": 0.5,
       "projectionMatrix": [
        0.2,
        0,
        0,
        0,
        0,
        0.2,
        0,
        0,
        0,
        0,
        -0.004004004004004004,
        0,
        0,
        0,
        -1.002002002002002,
        1
       ],
       "right": 5,
       "top": 5
      }
     },
     "22759a53bf46438ab51ee0ffd3610b5c": {
      "buffers": [
       {
        "data": "AAAAAGZmhj8AAIA+MzPzP2Zmhj8AAIA+AAAAADMzcz8AAIA+MzPzPzMzcz8AAIA+",
        "encoding": "base64",
        "path": [
         "array",
         "buffer"
        ]
       }
      ],
      "model_module": "jupyter-threejs",
      "model_module_version": "^2.1.0",
      "model_name": "BufferAttributeModel",
      "state": {
       "_view_module": null,
       "_view_module_version": "",
       "array": {
        "dtype": "float32",
        "shape": [
         4,
         3
        ]
       },
       "normalized": true,
       "version": 2
      }
     },
     "22d01ddf695348aab3cd72318f028945": {
      "model_module": "@jupyter-widgets/base",
      "model_module_version": "1.2.0",
      "model_name": "LayoutModel",
      "state": {}
     },
     "2335ffa0e3db4976be3e347a559b4f44": {
      "model_module": "@jupyter-widgets/controls",
      "model_module_version": "1.5.0",
      "model_name": "VBoxModel",
      "state": {
       "children": [
        "IPY_MODEL_5727afc10ac0494aafb34fde66bd893b",
        "IPY_MODEL_7969c72a00ce4ecf8db903ab8bce7d7b",
        "IPY_MODEL_734692bbb18644809797614423b68679"
       ],
       "layout": "IPY_MODEL_4221eeb2596a4383a70abe4cb9e27653"
      }
     },
     "2373ea4fa37347d387c0564002badbe5": {
      "model_module": "@jupyter-widgets/controls",
      "model_module_version": "1.5.0",
      "model_name": "ButtonStyleModel",
      "state": {}
     },
     "237b953c1f80433ba4097af7abef2350": {
      "model_module": "jupyter-threejs",
      "model_module_version": "^2.1.0",
      "model_name": "BufferGeometryModel",
      "state": {
       "_view_module": null,
       "_view_module_version": "",
       "attributes": {
        "index": "IPY_MODEL_9639b4a8cf86490b944544ebfba14e17",
        "normal": "IPY_MODEL_b132f2dc90264ba98695758410a6ea49",
        "position": "IPY_MODEL_72486755908747f1a568b32169df3a27"
       }
      }
     },
     "23a071caaae441df875f91bd9357be98": {
      "model_module": "jupyter_cadquery",
      "model_module_version": "^v1.0.0",
      "model_name": "ImageButtonModel",
      "state": {
       "_dom_classes": [
        "view_button"
       ],
       "_model_module_version": "^v1.0.0",
       "_view_module_version": "^v1.0.0",
       "height": "28",
       "layout": "IPY_MODEL_46f9c00f66894ddfaac14400fda0b259",
       "style": "IPY_MODEL_1ce4d7e0111b42179d03b7bd4eb236c8",
       "tooltip": "Change view to left",
       "type": "left",
       "value": {},
       "width": "36"
      }
     },
     "23ab50d8ccb147e5973c03363fef3686": {
      "model_module": "@jupyter-widgets/base",
      "model_module_version": "1.2.0",
      "model_name": "LayoutModel",
      "state": {}
     },
     "23acfaa05db649cd8ae5fab81f199a76": {
      "model_module": "@jupyter-widgets/controls",
      "model_module_version": "1.5.0",
      "model_name": "FloatSliderModel",
      "state": {
       "continuous_update": false,
       "layout": "IPY_MODEL_283da1c16f464e50bc3a329b22aa65d5",
       "max": 2.520000132,
       "min": -2.730000143,
       "step": 0.01,
       "style": "IPY_MODEL_c4704561c7a94b5fa35ffb3403b98f6b",
       "value": 2.520000132
      }
     },
     "24285fea-abc0-4a23-b80e-8f678214069f": {
      "model_module": "jupyter-threejs",
      "model_module_version": "^2.1.0",
      "model_name": "OrthographicCameraModel",
      "state": {
       "bottom": -5,
       "far": 500,
       "left": -5,
       "near": 0.5,
       "projectionMatrix": [
        0.2,
        0,
        0,
        0,
        0,
        0.2,
        0,
        0,
        0,
        0,
        -0.004004004004004004,
        0,
        0,
        0,
        -1.002002002002002,
        1
       ],
       "right": 5,
       "top": 5
      }
     },
     "244237891d68432b90d97fbf6a515dcb": {
      "model_module": "@jupyter-widgets/base",
      "model_module_version": "1.2.0",
      "model_name": "LayoutModel",
      "state": {}
     },
     "248fe265e222481f9118af50819d1fdf": {
      "buffers": [
       {
        "data": "AADAPwAAAD8AAIC/AADAPwAAAD+amRk/AADAPwAAAD+amRk/AADAPwAAwD+amRk/AADAPwAAAD8AAIC/AADAPwAAwD8AAIC/AADAPwAAwD8AAIC/AADAPwAAwD+amRk/AADAPwAAAD+amRk/zcyMPwAAAD8AAIA/AAAAPwAAAD8AAIC/AADAPwAAAD8AAIC/AAAAPwAAAD8AAIA/zcyMPwAAAD8AAIA/AAAAPwAAAD8AAIC/AAAAPwAAAD8AAIA/zcyMPwAAAD8AAIA/zcyMPwAAwD8AAIA/AADAPwAAwD+amRk/zcyMPwAAwD8AAIA/AAAAPwAAAD8AAIC/AAAAPwAAwD8AAIC/AAAAPwAAwD8AAIC/AADAPwAAwD8AAIC/AAAAPwAAwD8AAIA/zcyMPwAAwD8AAIA/AAAAPwAAwD8AAIC/AAAAPwAAwD8AAIA/AAAAPwAAAD8AAIA/AAAAPwAAwD8AAIA/",
        "encoding": "base64",
        "path": [
         "positions",
         "buffer"
        ]
       }
      ],
      "model_module": "jupyter-threejs",
      "model_module_version": "^2.1.0",
      "model_name": "LineSegmentsGeometryModel",
      "state": {
       "_view_module": null,
       "_view_module_version": "",
       "positions": {
        "dtype": "float32",
        "shape": [
         15,
         2,
         3
        ]
       }
      }
     },
     "2542d647db534a72a1f8f2fd3e23efd6": {
      "model_module": "jupyter-threejs",
      "model_module_version": "^2.1.0",
      "model_name": "BufferGeometryModel",
      "state": {
       "_view_module": null,
       "_view_module_version": "",
       "attributes": {
        "index": "IPY_MODEL_a2546756c0c2474d8f50e16ae8b9de18",
        "normal": "IPY_MODEL_87447f6aeafd4230b8437d750aec88b3",
        "position": "IPY_MODEL_cdb0180c14764391a663fdfac944592f"
       }
      }
     },
     "258d83f965704198bb530948d25f852b": {
      "model_module": "@jupyter-widgets/controls",
      "model_module_version": "1.5.0",
      "model_name": "DescriptionStyleModel",
      "state": {
       "description_width": ""
      }
     },
     "25936280cc7c4861ae6be19bccb9da3c": {
      "model_module": "jupyter_cadquery",
      "model_module_version": "^v1.0.0",
      "model_name": "ImageButtonModel",
      "state": {
       "_dom_classes": [
        "view_button"
       ],
       "_model_module_version": "^v1.0.0",
       "_view_module_version": "^v1.0.0",
       "height": "28",
       "layout": "IPY_MODEL_49c1bb9e57cf4698a5bd807355739a3d",
       "style": "IPY_MODEL_69e72bc53e804738a4beb59072159b69",
       "tooltip": "Change view to rear",
       "type": "rear",
       "value": {},
       "width": "36"
      }
     },
     "25b96d7078324c13bd3f69341f7c45f3": {
      "model_module": "jupyter-threejs",
      "model_module_version": "^2.1.0",
      "model_name": "ShaderMaterialModel",
      "state": {
       "_view_module": null,
       "_view_module_version": "",
       "clipping": true,
       "fragmentShader": "\n        uniform float alpha;\n        #define PHYSICAL\nuniform vec3 diffuse;\nuniform vec3 emissive;\nuniform float roughness;\nuniform float metalness;\nuniform float opacity;\n#ifndef STANDARD\n\tuniform float clearCoat;\n\tuniform float clearCoatRoughness;\n#endif\nvarying vec3 vViewPosition;\n#ifndef FLAT_SHADED\n\tvarying vec3 vNormal;\n#endif\n#include <common>\n#include <packing>\n#include <dithering_pars_fragment>\n#include <color_pars_fragment>\n#include <uv_pars_fragment>\n#include <uv2_pars_fragment>\n#include <map_pars_fragment>\n#include <alphamap_pars_fragment>\n#include <aomap_pars_fragment>\n#include <lightmap_pars_fragment>\n#include <emissivemap_pars_fragment>\n#include <bsdfs>\n#include <cube_uv_reflection_fragment>\n#include <envmap_pars_fragment>\n#include <envmap_physical_pars_fragment>\n#include <fog_pars_fragment>\n#include <lights_pars_begin>\n#include <lights_physical_pars_fragment>\n#include <shadowmap_pars_fragment>\n#include <bumpmap_pars_fragment>\n#include <normalmap_pars_fragment>\n#include <roughnessmap_pars_fragment>\n#include <metalnessmap_pars_fragment>\n#include <logdepthbuf_pars_fragment>\n#include <clipping_planes_pars_fragment>\nvoid main() {\n\t#include <clipping_planes_fragment>\n\tvec4 diffuseColor = vec4( diffuse, opacity );\n\tReflectedLight reflectedLight = ReflectedLight( vec3( 0.0 ), vec3( 0.0 ), vec3( 0.0 ), vec3( 0.0 ) );\n\tvec3 totalEmissiveRadiance = emissive;\n\t#include <logdepthbuf_fragment>\n\t#include <map_fragment>\n\t#include <color_fragment>\n\t#include <alphamap_fragment>\n\t#include <alphatest_fragment>\n\t#include <roughnessmap_fragment>\n\t#include <metalnessmap_fragment>\n\t#include <normal_fragment_begin>\n\t#include <normal_fragment_maps>\n\t#include <emissivemap_fragment>\n\t#include <lights_physical_fragment>\n\t#include <lights_fragment_begin>\n\t#include <lights_fragment_maps>\n\t#include <lights_fragment_end>\n\t#include <aomap_fragment>\n\tvec3 outgoingLight = reflectedLight.directDiffuse + reflectedLight.indirectDiffuse + reflectedLight.directSpecular + reflectedLight.indirectSpecular + totalEmissiveRadiance;\n\t\n            if ( gl_FrontFacing ) {\n                gl_FragColor = vec4( outgoingLight, alpha * diffuseColor.a );\n            } else {\n                gl_FragColor = vec4( diffuseColor.r, diffuseColor.g, diffuseColor.b, alpha * diffuseColor.a );\n            }\n\t#include <tonemapping_fragment>\n\t#include <encodings_fragment>\n\t#include <fog_fragment>\n\t#include <premultiplied_alpha_fragment>\n\t#include <dithering_fragment>\n}\n",
       "lights": true,
       "polygonOffset": true,
       "polygonOffsetFactor": 1,
       "polygonOffsetUnits": 1,
       "side": "DoubleSide",
       "uniforms": {
        "alpha": {
         "value": 0.7
        },
        "alphaMap": {
         "value": null
        },
        "ambientLightColor": {
         "value": [
          1,
          1,
          1
         ]
        },
        "aoMap": {
         "value": null
        },
        "aoMapIntensity": {
         "value": 1
        },
        "bumpMap": {
         "value": null
        },
        "bumpScale": {
         "value": 1
        },
        "diffuse": {
         "type": "c",
         "value": "#e8b024"
        },
        "directionalLights": {
         "value": [
          {
           "color": 1973790,
           "direction": {
            "x": -0.41563057551078286,
            "y": 0.22712955874545684,
            "z": -0.8807175416923801
           },
           "shadow": false,
           "shadowBias": 0,
           "shadowMapSize": {
            "x": 0,
            "y": 0
           },
           "shadowRadius": 1
          },
          {
           "color": 1973790,
           "direction": {
            "x": -0.41563057551078286,
            "y": 0.9080546454963043,
            "z": 0.05184578568366717
           },
           "shadow": false,
           "shadowBias": 0,
           "shadowMapSize": {
            "x": 0,
            "y": 0
           },
           "shadowRadius": 1
          },
          {
           "color": 1973790,
           "direction": {
            "x": 0.7027929221095227,
            "y": -0.004789509913779512,
            "z": -0.7113783587005891
           },
           "shadow": false,
           "shadowBias": 0,
           "shadowMapSize": {
            "x": 0,
            "y": 0
           },
           "shadowRadius": 1
          },
          {
           "color": 1973790,
           "direction": {
            "x": 0.7027929221095229,
            "y": 0.6761355768370677,
            "z": 0.22118496867545834
           },
           "shadow": false,
           "shadowBias": 0,
           "shadowMapSize": {
            "x": 0,
            "y": 0
           },
           "shadowRadius": 1
          },
          {
           "color": 1973790,
           "direction": {
            "x": -0.7027929221095229,
            "y": -0.6761355768370677,
            "z": -0.22118496867545834
           },
           "shadow": false,
           "shadowBias": 0,
           "shadowMapSize": {
            "x": 0,
            "y": 0
           },
           "shadowRadius": 1
          },
          {
           "color": 1973790,
           "direction": {
            "x": -0.7027929221095227,
            "y": 0.004789509913779512,
            "z": 0.7113783587005891
           },
           "shadow": false,
           "shadowBias": 0,
           "shadowMapSize": {
            "x": 0,
            "y": 0
           },
           "shadowRadius": 1
          },
          {
           "color": 1973790,
           "direction": {
            "x": 0.41563057551078286,
            "y": -0.9080546454963043,
            "z": -0.05184578568366717
           },
           "shadow": false,
           "shadowBias": 0,
           "shadowMapSize": {
            "x": 0,
            "y": 0
           },
           "shadowRadius": 1
          },
          {
           "color": 1973790,
           "direction": {
            "x": 0.41563057551078286,
            "y": -0.22712955874545684,
            "z": 0.8807175416923801
           },
           "shadow": false,
           "shadowBias": 0,
           "shadowMapSize": {
            "x": 0,
            "y": 0
           },
           "shadowRadius": 1
          }
         ]
        },
        "directionalShadowMap": {
         "value": [
          null,
          null,
          null,
          null,
          null,
          null,
          null,
          null
         ]
        },
        "directionalShadowMatrix": {
         "value": [
          {
           "elements": [
            1,
            0,
            0,
            0,
            0,
            1,
            0,
            0,
            0,
            0,
            1,
            0,
            0,
            0,
            0,
            1
           ]
          },
          {
           "elements": [
            1,
            0,
            0,
            0,
            0,
            1,
            0,
            0,
            0,
            0,
            1,
            0,
            0,
            0,
            0,
            1
           ]
          },
          {
           "elements": [
            1,
            0,
            0,
            0,
            0,
            1,
            0,
            0,
            0,
            0,
            1,
            0,
            0,
            0,
            0,
            1
           ]
          },
          {
           "elements": [
            1,
            0,
            0,
            0,
            0,
            1,
            0,
            0,
            0,
            0,
            1,
            0,
            0,
            0,
            0,
            1
           ]
          },
          {
           "elements": [
            1,
            0,
            0,
            0,
            0,
            1,
            0,
            0,
            0,
            0,
            1,
            0,
            0,
            0,
            0,
            1
           ]
          },
          {
           "elements": [
            1,
            0,
            0,
            0,
            0,
            1,
            0,
            0,
            0,
            0,
            1,
            0,
            0,
            0,
            0,
            1
           ]
          },
          {
           "elements": [
            1,
            0,
            0,
            0,
            0,
            1,
            0,
            0,
            0,
            0,
            1,
            0,
            0,
            0,
            0,
            1
           ]
          },
          {
           "elements": [
            1,
            0,
            0,
            0,
            0,
            1,
            0,
            0,
            0,
            0,
            1,
            0,
            0,
            0,
            0,
            1
           ]
          }
         ]
        },
        "displacementBias": {
         "value": 0
        },
        "displacementMap": {
         "value": null
        },
        "displacementScale": {
         "value": 1
        },
        "emissive": {
         "type": "c",
         "value": "#000000"
        },
        "emissiveMap": {
         "value": null
        },
        "envMap": {
         "value": null
        },
        "envMapIntensity": {
         "value": 1
        },
        "flipEnvMap": {
         "value": -1
        },
        "fogColor": {
         "type": "c",
         "value": "#ffffff"
        },
        "fogDensity": {
         "value": 0.00025
        },
        "fogFar": {
         "value": 2000
        },
        "fogNear": {
         "value": 1
        },
        "hemisphereLights": {
         "value": []
        },
        "lightMap": {
         "value": null
        },
        "lightMapIntensity": {
         "value": 1
        },
        "map": {
         "value": null
        },
        "maxMipLevel": {
         "value": 0
        },
        "metalness": {
         "value": 0.3
        },
        "metalnessMap": {
         "value": null
        },
        "normalMap": {
         "value": null
        },
        "normalScale": {
         "type": "v2",
         "value": [
          1,
          1
         ]
        },
        "opacity": {
         "value": 1
        },
        "pointLights": {
         "value": []
        },
        "pointShadowMap": {
         "value": []
        },
        "pointShadowMatrix": {
         "value": []
        },
        "rectAreaLights": {
         "value": []
        },
        "reflectivity": {
         "value": 1
        },
        "refractionRatio": {
         "value": 0.98
        },
        "roughness": {
         "value": 0.8
        },
        "roughnessMap": {
         "value": null
        },
        "spotLights": {
         "value": []
        },
        "spotShadowMap": {
         "value": []
        },
        "spotShadowMatrix": {
         "value": []
        },
        "uvTransform": {
         "type": "m3",
         "value": [
          1,
          0,
          0,
          0,
          1,
          0,
          0,
          0,
          1
         ]
        }
       },
       "vertexShader": "#define PHYSICAL\nvarying vec3 vViewPosition;\n#ifndef FLAT_SHADED\n\tvarying vec3 vNormal;\n#endif\n#include <common>\n#include <uv_pars_vertex>\n#include <uv2_pars_vertex>\n#include <displacementmap_pars_vertex>\n#include <color_pars_vertex>\n#include <fog_pars_vertex>\n#include <morphtarget_pars_vertex>\n#include <skinning_pars_vertex>\n#include <shadowmap_pars_vertex>\n#include <logdepthbuf_pars_vertex>\n#include <clipping_planes_pars_vertex>\nvoid main() {\n\t#include <uv_vertex>\n\t#include <uv2_vertex>\n\t#include <color_vertex>\n\t#include <beginnormal_vertex>\n\t#include <morphnormal_vertex>\n\t#include <skinbase_vertex>\n\t#include <skinnormal_vertex>\n\t#include <defaultnormal_vertex>\n#ifndef FLAT_SHADED\n\tvNormal = normalize( transformedNormal );\n#endif\n\t#include <begin_vertex>\n\t#include <morphtarget_vertex>\n\t#include <skinning_vertex>\n\t#include <displacementmap_vertex>\n\t#include <project_vertex>\n\t#include <logdepthbuf_vertex>\n\t#include <clipping_planes_vertex>\n\tvViewPosition = - mvPosition.xyz;\n\t#include <worldpos_vertex>\n\t#include <shadowmap_vertex>\n\t#include <fog_vertex>\n}\n"
      }
     },
     "25cf6d8366724079af0b0bc78e875a0b": {
      "model_module": "@jupyter-widgets/controls",
      "model_module_version": "1.5.0",
      "model_name": "DescriptionStyleModel",
      "state": {
       "description_width": ""
      }
     },
     "25e76d0170e04e7f952e9a70800d9140": {
      "model_module": "@jupyter-widgets/base",
      "model_module_version": "1.2.0",
      "model_name": "LayoutModel",
      "state": {}
     },
     "26fff421554b48c6bbc87bd992c4c71b": {
      "model_module": "jupyter-threejs",
      "model_module_version": "^2.1.0",
      "model_name": "ShaderMaterialModel",
      "state": {
       "_view_module": null,
       "_view_module_version": "",
       "clipping": true,
       "fragmentShader": "\n        uniform float alpha;\n        #define PHYSICAL\nuniform vec3 diffuse;\nuniform vec3 emissive;\nuniform float roughness;\nuniform float metalness;\nuniform float opacity;\n#ifndef STANDARD\n\tuniform float clearCoat;\n\tuniform float clearCoatRoughness;\n#endif\nvarying vec3 vViewPosition;\n#ifndef FLAT_SHADED\n\tvarying vec3 vNormal;\n#endif\n#include <common>\n#include <packing>\n#include <dithering_pars_fragment>\n#include <color_pars_fragment>\n#include <uv_pars_fragment>\n#include <uv2_pars_fragment>\n#include <map_pars_fragment>\n#include <alphamap_pars_fragment>\n#include <aomap_pars_fragment>\n#include <lightmap_pars_fragment>\n#include <emissivemap_pars_fragment>\n#include <bsdfs>\n#include <cube_uv_reflection_fragment>\n#include <envmap_pars_fragment>\n#include <envmap_physical_pars_fragment>\n#include <fog_pars_fragment>\n#include <lights_pars_begin>\n#include <lights_physical_pars_fragment>\n#include <shadowmap_pars_fragment>\n#include <bumpmap_pars_fragment>\n#include <normalmap_pars_fragment>\n#include <roughnessmap_pars_fragment>\n#include <metalnessmap_pars_fragment>\n#include <logdepthbuf_pars_fragment>\n#include <clipping_planes_pars_fragment>\nvoid main() {\n\t#include <clipping_planes_fragment>\n\tvec4 diffuseColor = vec4( diffuse, opacity );\n\tReflectedLight reflectedLight = ReflectedLight( vec3( 0.0 ), vec3( 0.0 ), vec3( 0.0 ), vec3( 0.0 ) );\n\tvec3 totalEmissiveRadiance = emissive;\n\t#include <logdepthbuf_fragment>\n\t#include <map_fragment>\n\t#include <color_fragment>\n\t#include <alphamap_fragment>\n\t#include <alphatest_fragment>\n\t#include <roughnessmap_fragment>\n\t#include <metalnessmap_fragment>\n\t#include <normal_fragment_begin>\n\t#include <normal_fragment_maps>\n\t#include <emissivemap_fragment>\n\t#include <lights_physical_fragment>\n\t#include <lights_fragment_begin>\n\t#include <lights_fragment_maps>\n\t#include <lights_fragment_end>\n\t#include <aomap_fragment>\n\tvec3 outgoingLight = reflectedLight.directDiffuse + reflectedLight.indirectDiffuse + reflectedLight.directSpecular + reflectedLight.indirectSpecular + totalEmissiveRadiance;\n\t\n            if ( gl_FrontFacing ) {\n                gl_FragColor = vec4( outgoingLight, alpha * diffuseColor.a );\n            } else {\n                gl_FragColor = vec4( diffuseColor.r, diffuseColor.g, diffuseColor.b, alpha * diffuseColor.a );\n            }\n\t#include <tonemapping_fragment>\n\t#include <encodings_fragment>\n\t#include <fog_fragment>\n\t#include <premultiplied_alpha_fragment>\n\t#include <dithering_fragment>\n}\n",
       "lights": true,
       "polygonOffset": true,
       "polygonOffsetFactor": 1,
       "polygonOffsetUnits": 1,
       "side": "DoubleSide",
       "uniforms": {
        "alpha": {
         "value": 0.7
        },
        "alphaMap": {
         "value": null
        },
        "ambientLightColor": {
         "value": [
          1,
          1,
          1
         ]
        },
        "aoMap": {
         "value": null
        },
        "aoMapIntensity": {
         "value": 1
        },
        "bumpMap": {
         "value": null
        },
        "bumpScale": {
         "value": 1
        },
        "diffuse": {
         "type": "c",
         "value": "#00ff00"
        },
        "directionalLights": {
         "value": [
          {
           "color": 1973790,
           "direction": {
            "x": -2.989348615883112e-17,
            "y": 2.4777145706089543e-16,
            "z": -1
           },
           "shadow": false,
           "shadowBias": 0,
           "shadowMapSize": {
            "x": 0,
            "y": 0
           },
           "shadowRadius": 1
          },
          {
           "color": 1973790,
           "direction": {
            "x": -9.399224237161659e-17,
            "y": 0.9428090415820635,
            "z": -0.3333333333333332
           },
           "shadow": false,
           "shadowBias": 0,
           "shadowMapSize": {
            "x": 0,
            "y": 0
           },
           "shadowRadius": 1
          },
          {
           "color": 1973790,
           "direction": {
            "x": 0.8164965809277259,
            "y": -0.4714045207910316,
            "z": -0.3333333333333333
           },
           "shadow": false,
           "shadowBias": 0,
           "shadowMapSize": {
            "x": 0,
            "y": 0
           },
           "shadowRadius": 1
          },
          {
           "color": 1973790,
           "direction": {
            "x": 0.8164965809277259,
            "y": 0.4714045207910316,
            "z": 0.3333333333333333
           },
           "shadow": false,
           "shadowBias": 0,
           "shadowMapSize": {
            "x": 0,
            "y": 0
           },
           "shadowRadius": 1
          },
          {
           "color": 1973790,
           "direction": {
            "x": -0.8164965809277259,
            "y": -0.4714045207910316,
            "z": -0.3333333333333333
           },
           "shadow": false,
           "shadowBias": 0,
           "shadowMapSize": {
            "x": 0,
            "y": 0
           },
           "shadowRadius": 1
          },
          {
           "color": 1973790,
           "direction": {
            "x": -0.8164965809277259,
            "y": 0.4714045207910316,
            "z": 0.3333333333333333
           },
           "shadow": false,
           "shadowBias": 0,
           "shadowMapSize": {
            "x": 0,
            "y": 0
           },
           "shadowRadius": 1
          },
          {
           "color": 1973790,
           "direction": {
            "x": 9.399224237161659e-17,
            "y": -0.9428090415820635,
            "z": 0.3333333333333332
           },
           "shadow": false,
           "shadowBias": 0,
           "shadowMapSize": {
            "x": 0,
            "y": 0
           },
           "shadowRadius": 1
          },
          {
           "color": 1973790,
           "direction": {
            "x": 2.989348615883112e-17,
            "y": -2.4777145706089543e-16,
            "z": 1
           },
           "shadow": false,
           "shadowBias": 0,
           "shadowMapSize": {
            "x": 0,
            "y": 0
           },
           "shadowRadius": 1
          }
         ]
        },
        "directionalShadowMap": {
         "value": [
          null,
          null,
          null,
          null,
          null,
          null,
          null,
          null
         ]
        },
        "directionalShadowMatrix": {
         "value": [
          {
           "elements": [
            1,
            0,
            0,
            0,
            0,
            1,
            0,
            0,
            0,
            0,
            1,
            0,
            0,
            0,
            0,
            1
           ]
          },
          {
           "elements": [
            1,
            0,
            0,
            0,
            0,
            1,
            0,
            0,
            0,
            0,
            1,
            0,
            0,
            0,
            0,
            1
           ]
          },
          {
           "elements": [
            1,
            0,
            0,
            0,
            0,
            1,
            0,
            0,
            0,
            0,
            1,
            0,
            0,
            0,
            0,
            1
           ]
          },
          {
           "elements": [
            1,
            0,
            0,
            0,
            0,
            1,
            0,
            0,
            0,
            0,
            1,
            0,
            0,
            0,
            0,
            1
           ]
          },
          {
           "elements": [
            1,
            0,
            0,
            0,
            0,
            1,
            0,
            0,
            0,
            0,
            1,
            0,
            0,
            0,
            0,
            1
           ]
          },
          {
           "elements": [
            1,
            0,
            0,
            0,
            0,
            1,
            0,
            0,
            0,
            0,
            1,
            0,
            0,
            0,
            0,
            1
           ]
          },
          {
           "elements": [
            1,
            0,
            0,
            0,
            0,
            1,
            0,
            0,
            0,
            0,
            1,
            0,
            0,
            0,
            0,
            1
           ]
          },
          {
           "elements": [
            1,
            0,
            0,
            0,
            0,
            1,
            0,
            0,
            0,
            0,
            1,
            0,
            0,
            0,
            0,
            1
           ]
          }
         ]
        },
        "displacementBias": {
         "value": 0
        },
        "displacementMap": {
         "value": null
        },
        "displacementScale": {
         "value": 1
        },
        "emissive": {
         "type": "c",
         "value": "#000000"
        },
        "emissiveMap": {
         "value": null
        },
        "envMap": {
         "value": null
        },
        "envMapIntensity": {
         "value": 1
        },
        "flipEnvMap": {
         "value": -1
        },
        "fogColor": {
         "type": "c",
         "value": "#ffffff"
        },
        "fogDensity": {
         "value": 0.00025
        },
        "fogFar": {
         "value": 2000
        },
        "fogNear": {
         "value": 1
        },
        "hemisphereLights": {
         "value": []
        },
        "lightMap": {
         "value": null
        },
        "lightMapIntensity": {
         "value": 1
        },
        "map": {
         "value": null
        },
        "maxMipLevel": {
         "value": 0
        },
        "metalness": {
         "value": 0.3
        },
        "metalnessMap": {
         "value": null
        },
        "normalMap": {
         "value": null
        },
        "normalScale": {
         "type": "v2",
         "value": [
          1,
          1
         ]
        },
        "opacity": {
         "value": 1
        },
        "pointLights": {
         "value": []
        },
        "pointShadowMap": {
         "value": []
        },
        "pointShadowMatrix": {
         "value": []
        },
        "rectAreaLights": {
         "value": []
        },
        "reflectivity": {
         "value": 1
        },
        "refractionRatio": {
         "value": 0.98
        },
        "roughness": {
         "value": 0.8
        },
        "roughnessMap": {
         "value": null
        },
        "spotLights": {
         "value": []
        },
        "spotShadowMap": {
         "value": []
        },
        "spotShadowMatrix": {
         "value": []
        },
        "uvTransform": {
         "type": "m3",
         "value": [
          1,
          0,
          0,
          0,
          1,
          0,
          0,
          0,
          1
         ]
        }
       },
       "vertexShader": "#define PHYSICAL\nvarying vec3 vViewPosition;\n#ifndef FLAT_SHADED\n\tvarying vec3 vNormal;\n#endif\n#include <common>\n#include <uv_pars_vertex>\n#include <uv2_pars_vertex>\n#include <displacementmap_pars_vertex>\n#include <color_pars_vertex>\n#include <fog_pars_vertex>\n#include <morphtarget_pars_vertex>\n#include <skinning_pars_vertex>\n#include <shadowmap_pars_vertex>\n#include <logdepthbuf_pars_vertex>\n#include <clipping_planes_pars_vertex>\nvoid main() {\n\t#include <uv_vertex>\n\t#include <uv2_vertex>\n\t#include <color_vertex>\n\t#include <beginnormal_vertex>\n\t#include <morphnormal_vertex>\n\t#include <skinbase_vertex>\n\t#include <skinnormal_vertex>\n\t#include <defaultnormal_vertex>\n#ifndef FLAT_SHADED\n\tvNormal = normalize( transformedNormal );\n#endif\n\t#include <begin_vertex>\n\t#include <morphtarget_vertex>\n\t#include <skinning_vertex>\n\t#include <displacementmap_vertex>\n\t#include <project_vertex>\n\t#include <logdepthbuf_vertex>\n\t#include <clipping_planes_vertex>\n\tvViewPosition = - mvPosition.xyz;\n\t#include <worldpos_vertex>\n\t#include <shadowmap_vertex>\n\t#include <fog_vertex>\n}\n"
      }
     },
     "274797d8281347328293e7522146a673": {
      "model_module": "@jupyter-widgets/controls",
      "model_module_version": "1.5.0",
      "model_name": "DescriptionStyleModel",
      "state": {
       "description_width": ""
      }
     },
     "27526624ad784acdbc0efe74f674ced3": {
      "model_module": "@jupyter-widgets/base",
      "model_module_version": "1.2.0",
      "model_name": "LayoutModel",
      "state": {}
     },
     "2796f852e4144e579319bfd8a22d0886": {
      "model_module": "@jupyter-widgets/base",
      "model_module_version": "1.2.0",
      "model_name": "LayoutModel",
      "state": {}
     },
     "27bc0b0090a64cba9264a206dd13a788": {
      "buffers": [
       {
        "data": "AAAAPwAAAL+amRk/zczMPQAAAL8AAIA/AAAAPwAAAD+amRk/zczMPQAAAD8AAIA/",
        "encoding": "base64",
        "path": [
         "array",
         "buffer"
        ]
       }
      ],
      "model_module": "jupyter-threejs",
      "model_module_version": "^2.1.0",
      "model_name": "BufferAttributeModel",
      "state": {
       "_view_module": null,
       "_view_module_version": "",
       "array": {
        "dtype": "float32",
        "shape": [
         4,
         3
        ]
       },
       "normalized": true,
       "version": 2
      }
     },
     "27ca4dd0-c9d8-4006-bfc9-96caa195fd75": {
      "model_module": "jupyter-threejs",
      "model_module_version": "^2.1.0",
      "model_name": "Object3DModel",
      "state": {}
     },
     "27dc06b4-3956-4ac2-9193-5ef792bdba9c": {
      "model_module": "jupyter-threejs",
      "model_module_version": "^2.1.0",
      "model_name": "OrthographicCameraModel",
      "state": {
       "bottom": -5,
       "far": 500,
       "left": -5,
       "near": 0.5,
       "projectionMatrix": [
        0.2,
        0,
        0,
        0,
        0,
        0.2,
        0,
        0,
        0,
        0,
        -0.004004004004004004,
        0,
        0,
        0,
        -1.002002002002002,
        1
       ],
       "right": 5,
       "top": 5
      }
     },
     "27fa0ca6-23f7-41d6-ac42-712e9ebd2ddf": {
      "model_module": "jupyter-threejs",
      "model_module_version": "^2.1.0",
      "model_name": "DirectionalLightShadowModel",
      "state": {
       "camera": "IPY_MODEL_8fbc5260-6af4-4d08-adef-00f253b5d1fa"
      }
     },
     "27ffd847945a44f0bdae3bad7a21eba9": {
      "model_module": "@jupyter-widgets/base",
      "model_module_version": "1.2.0",
      "model_name": "LayoutModel",
      "state": {}
     },
     "28042934f0e24b3b97a49908d9f9b647": {
      "model_module": "jupyter-threejs",
      "model_module_version": "^2.1.0",
      "model_name": "PlaneModel",
      "state": {
       "_view_module": null,
       "_view_module_version": "",
       "constant": 2.2,
       "normal": [
        0,
        1,
        0
       ]
      }
     },
     "280d40d7dce54aaf88b4c8e4e5738da6": {
      "model_module": "jupyter-threejs",
      "model_module_version": "^2.1.0",
      "model_name": "LineMaterialModel",
      "state": {
       "_view_module": null,
       "_view_module_version": "",
       "color": "#808080"
      }
     },
     "283da1c16f464e50bc3a329b22aa65d5": {
      "model_module": "@jupyter-widgets/base",
      "model_module_version": "1.2.0",
      "model_name": "LayoutModel",
      "state": {
       "width": "230px"
      }
     },
     "2845e7697ed84ac08c343a3512a38ca5": {
      "buffers": [
       {
        "data": "AAAAPwAAAL8AAIC/AAAAPwAAAL+amRk/AAAAPwAAAL+amRk/AAAAPwAAAD+amRk/AAAAPwAAAL8AAIC/AAAAPwAAAD8AAIC/AAAAPwAAAD8AAIC/AAAAPwAAAD+amRk/AAAAPwAAAL+amRk/zczMPQAAAL8AAIA/AAAAvwAAAL8AAIC/AAAAPwAAAL8AAIC/AAAAvwAAAL8AAIA/zczMPQAAAL8AAIA/AAAAvwAAAL8AAIC/AAAAvwAAAL8AAIA/zczMPQAAAL8AAIA/zczMPQAAAD8AAIA/AAAAPwAAAD+amRk/zczMPQAAAD8AAIA/AAAAvwAAAL8AAIC/AAAAvwAAAD8AAIC/AAAAvwAAAD8AAIC/AAAAPwAAAD8AAIC/AAAAvwAAAD8AAIA/zczMPQAAAD8AAIA/AAAAvwAAAD8AAIC/AAAAvwAAAD8AAIA/AAAAvwAAAL8AAIA/AAAAvwAAAD8AAIA/",
        "encoding": "base64",
        "path": [
         "positions",
         "buffer"
        ]
       }
      ],
      "model_module": "jupyter-threejs",
      "model_module_version": "^2.1.0",
      "model_name": "LineSegmentsGeometryModel",
      "state": {
       "_view_module": null,
       "_view_module_version": "",
       "positions": {
        "dtype": "float32",
        "shape": [
         15,
         2,
         3
        ]
       }
      }
     },
     "284d6be5ef444f68a9b0dd5f261e50a8": {
      "model_module": "@jupyter-widgets/controls",
      "model_module_version": "1.5.0",
      "model_name": "HBoxModel",
      "state": {
       "children": [
        "IPY_MODEL_eb547ab8bfac4f2f86dd66b8b44da2a7",
        "IPY_MODEL_f9fc6c54086f4ae88baa5421f8439e5e"
       ],
       "layout": "IPY_MODEL_16022a9cfc5844bf8bcdfe9b84456803"
      }
     },
     "29842759086b4bf98590edad7ee0f57c": {
      "model_module": "jupyter-threejs",
      "model_module_version": "^2.1.0",
      "model_name": "GridHelperModel",
      "state": {
       "_view_module": null,
       "_view_module_version": "",
       "colorCenterLine": "#aaa",
       "colorGrid": "#ddd",
       "divisions": 12,
       "matrix": [
        1,
        0,
        0,
        0,
        0,
        2.220446049250313e-16,
        1,
        0,
        0,
        -1,
        2.220446049250313e-16,
        0,
        0.9999999999999999,
        -0.75,
        2.125,
        1
       ],
       "position": [
        0.9999999999999999,
        -0.75,
        2.125
       ],
       "quaternion": [
        0.7071067811865475,
        0,
        0,
        0.7071067811865476
       ],
       "rotation": [
        1.5707963267948966,
        0,
        0,
        "XYZ"
       ],
       "size": 12,
       "type": "LineSegments",
       "visible": false
      }
     },
     "29bc98e4e74547bd908672621214ead1": {
      "model_module": "@jupyter-widgets/base",
      "model_module_version": "1.2.0",
      "model_name": "LayoutModel",
      "state": {}
     },
     "2a293b206f6f40cabb888f3cc3484ff7": {
      "model_module": "jupyter-threejs",
      "model_module_version": "^2.1.0",
      "model_name": "LineMaterialModel",
      "state": {
       "_view_module": null,
       "_view_module_version": "",
       "color": "#808080"
      }
     },
     "2a38e0cc4c2f42a9a49c3cd52b437e9c": {
      "model_module": "@jupyter-widgets/controls",
      "model_module_version": "1.5.0",
      "model_name": "FloatSliderModel",
      "state": {
       "continuous_update": false,
       "layout": "IPY_MODEL_39e4ccd3726740faa37e7065afde5483",
       "max": 6.420000131999999,
       "min": -6.955000143,
       "step": 0.01,
       "style": "IPY_MODEL_2ec1c3b0f00a45949e052afb558e02f3",
       "value": 6.420000131999999
      }
     },
     "2a958251de5f49ffa2d95e79f090fc8d": {
      "model_module": "jupyter-threejs",
      "model_module_version": "^2.1.0",
      "model_name": "ShaderMaterialModel",
      "state": {
       "_view_module": null,
       "_view_module_version": "",
       "clipping": true,
       "fragmentShader": "\n        uniform float alpha;\n        #define PHYSICAL\nuniform vec3 diffuse;\nuniform vec3 emissive;\nuniform float roughness;\nuniform float metalness;\nuniform float opacity;\n#ifndef STANDARD\n\tuniform float clearCoat;\n\tuniform float clearCoatRoughness;\n#endif\nvarying vec3 vViewPosition;\n#ifndef FLAT_SHADED\n\tvarying vec3 vNormal;\n#endif\n#include <common>\n#include <packing>\n#include <dithering_pars_fragment>\n#include <color_pars_fragment>\n#include <uv_pars_fragment>\n#include <uv2_pars_fragment>\n#include <map_pars_fragment>\n#include <alphamap_pars_fragment>\n#include <aomap_pars_fragment>\n#include <lightmap_pars_fragment>\n#include <emissivemap_pars_fragment>\n#include <bsdfs>\n#include <cube_uv_reflection_fragment>\n#include <envmap_pars_fragment>\n#include <envmap_physical_pars_fragment>\n#include <fog_pars_fragment>\n#include <lights_pars_begin>\n#include <lights_physical_pars_fragment>\n#include <shadowmap_pars_fragment>\n#include <bumpmap_pars_fragment>\n#include <normalmap_pars_fragment>\n#include <roughnessmap_pars_fragment>\n#include <metalnessmap_pars_fragment>\n#include <logdepthbuf_pars_fragment>\n#include <clipping_planes_pars_fragment>\nvoid main() {\n\t#include <clipping_planes_fragment>\n\tvec4 diffuseColor = vec4( diffuse, opacity );\n\tReflectedLight reflectedLight = ReflectedLight( vec3( 0.0 ), vec3( 0.0 ), vec3( 0.0 ), vec3( 0.0 ) );\n\tvec3 totalEmissiveRadiance = emissive;\n\t#include <logdepthbuf_fragment>\n\t#include <map_fragment>\n\t#include <color_fragment>\n\t#include <alphamap_fragment>\n\t#include <alphatest_fragment>\n\t#include <roughnessmap_fragment>\n\t#include <metalnessmap_fragment>\n\t#include <normal_fragment_begin>\n\t#include <normal_fragment_maps>\n\t#include <emissivemap_fragment>\n\t#include <lights_physical_fragment>\n\t#include <lights_fragment_begin>\n\t#include <lights_fragment_maps>\n\t#include <lights_fragment_end>\n\t#include <aomap_fragment>\n\tvec3 outgoingLight = reflectedLight.directDiffuse + reflectedLight.indirectDiffuse + reflectedLight.directSpecular + reflectedLight.indirectSpecular + totalEmissiveRadiance;\n\t\n            if ( gl_FrontFacing ) {\n                gl_FragColor = vec4( outgoingLight, alpha * diffuseColor.a );\n            } else {\n                gl_FragColor = vec4( diffuseColor.r, diffuseColor.g, diffuseColor.b, alpha * diffuseColor.a );\n            }\n\t#include <tonemapping_fragment>\n\t#include <encodings_fragment>\n\t#include <fog_fragment>\n\t#include <premultiplied_alpha_fragment>\n\t#include <dithering_fragment>\n}\n",
       "lights": true,
       "polygonOffset": true,
       "polygonOffsetFactor": 1,
       "polygonOffsetUnits": 1,
       "side": "DoubleSide",
       "uniforms": {
        "alpha": {
         "value": 0.7
        },
        "alphaMap": {
         "value": null
        },
        "ambientLightColor": {
         "value": [
          1,
          1,
          1
         ]
        },
        "aoMap": {
         "value": null
        },
        "aoMapIntensity": {
         "value": 1
        },
        "bumpMap": {
         "value": null
        },
        "bumpScale": {
         "value": 1
        },
        "diffuse": {
         "type": "c",
         "value": "#e8b024"
        },
        "directionalLights": {
         "value": [
          {
           "color": 1973790,
           "direction": {
            "x": -0.41563057551078286,
            "y": 0.22712955874545684,
            "z": -0.8807175416923801
           },
           "shadow": false,
           "shadowBias": 0,
           "shadowMapSize": {
            "x": 0,
            "y": 0
           },
           "shadowRadius": 1
          },
          {
           "color": 1973790,
           "direction": {
            "x": -0.41563057551078286,
            "y": 0.9080546454963043,
            "z": 0.05184578568366717
           },
           "shadow": false,
           "shadowBias": 0,
           "shadowMapSize": {
            "x": 0,
            "y": 0
           },
           "shadowRadius": 1
          },
          {
           "color": 1973790,
           "direction": {
            "x": 0.7027929221095227,
            "y": -0.004789509913779512,
            "z": -0.7113783587005891
           },
           "shadow": false,
           "shadowBias": 0,
           "shadowMapSize": {
            "x": 0,
            "y": 0
           },
           "shadowRadius": 1
          },
          {
           "color": 1973790,
           "direction": {
            "x": 0.7027929221095229,
            "y": 0.6761355768370677,
            "z": 0.22118496867545834
           },
           "shadow": false,
           "shadowBias": 0,
           "shadowMapSize": {
            "x": 0,
            "y": 0
           },
           "shadowRadius": 1
          },
          {
           "color": 1973790,
           "direction": {
            "x": -0.7027929221095229,
            "y": -0.6761355768370677,
            "z": -0.22118496867545834
           },
           "shadow": false,
           "shadowBias": 0,
           "shadowMapSize": {
            "x": 0,
            "y": 0
           },
           "shadowRadius": 1
          },
          {
           "color": 1973790,
           "direction": {
            "x": -0.7027929221095227,
            "y": 0.004789509913779512,
            "z": 0.7113783587005891
           },
           "shadow": false,
           "shadowBias": 0,
           "shadowMapSize": {
            "x": 0,
            "y": 0
           },
           "shadowRadius": 1
          },
          {
           "color": 1973790,
           "direction": {
            "x": 0.41563057551078286,
            "y": -0.9080546454963043,
            "z": -0.05184578568366717
           },
           "shadow": false,
           "shadowBias": 0,
           "shadowMapSize": {
            "x": 0,
            "y": 0
           },
           "shadowRadius": 1
          },
          {
           "color": 1973790,
           "direction": {
            "x": 0.41563057551078286,
            "y": -0.22712955874545684,
            "z": 0.8807175416923801
           },
           "shadow": false,
           "shadowBias": 0,
           "shadowMapSize": {
            "x": 0,
            "y": 0
           },
           "shadowRadius": 1
          }
         ]
        },
        "directionalShadowMap": {
         "value": [
          null,
          null,
          null,
          null,
          null,
          null,
          null,
          null
         ]
        },
        "directionalShadowMatrix": {
         "value": [
          {
           "elements": [
            1,
            0,
            0,
            0,
            0,
            1,
            0,
            0,
            0,
            0,
            1,
            0,
            0,
            0,
            0,
            1
           ]
          },
          {
           "elements": [
            1,
            0,
            0,
            0,
            0,
            1,
            0,
            0,
            0,
            0,
            1,
            0,
            0,
            0,
            0,
            1
           ]
          },
          {
           "elements": [
            1,
            0,
            0,
            0,
            0,
            1,
            0,
            0,
            0,
            0,
            1,
            0,
            0,
            0,
            0,
            1
           ]
          },
          {
           "elements": [
            1,
            0,
            0,
            0,
            0,
            1,
            0,
            0,
            0,
            0,
            1,
            0,
            0,
            0,
            0,
            1
           ]
          },
          {
           "elements": [
            1,
            0,
            0,
            0,
            0,
            1,
            0,
            0,
            0,
            0,
            1,
            0,
            0,
            0,
            0,
            1
           ]
          },
          {
           "elements": [
            1,
            0,
            0,
            0,
            0,
            1,
            0,
            0,
            0,
            0,
            1,
            0,
            0,
            0,
            0,
            1
           ]
          },
          {
           "elements": [
            1,
            0,
            0,
            0,
            0,
            1,
            0,
            0,
            0,
            0,
            1,
            0,
            0,
            0,
            0,
            1
           ]
          },
          {
           "elements": [
            1,
            0,
            0,
            0,
            0,
            1,
            0,
            0,
            0,
            0,
            1,
            0,
            0,
            0,
            0,
            1
           ]
          }
         ]
        },
        "displacementBias": {
         "value": 0
        },
        "displacementMap": {
         "value": null
        },
        "displacementScale": {
         "value": 1
        },
        "emissive": {
         "type": "c",
         "value": "#000000"
        },
        "emissiveMap": {
         "value": null
        },
        "envMap": {
         "value": null
        },
        "envMapIntensity": {
         "value": 1
        },
        "flipEnvMap": {
         "value": -1
        },
        "fogColor": {
         "type": "c",
         "value": "#ffffff"
        },
        "fogDensity": {
         "value": 0.00025
        },
        "fogFar": {
         "value": 2000
        },
        "fogNear": {
         "value": 1
        },
        "hemisphereLights": {
         "value": []
        },
        "lightMap": {
         "value": null
        },
        "lightMapIntensity": {
         "value": 1
        },
        "map": {
         "value": null
        },
        "maxMipLevel": {
         "value": 0
        },
        "metalness": {
         "value": 0.3
        },
        "metalnessMap": {
         "value": null
        },
        "normalMap": {
         "value": null
        },
        "normalScale": {
         "type": "v2",
         "value": [
          1,
          1
         ]
        },
        "opacity": {
         "value": 1
        },
        "pointLights": {
         "value": []
        },
        "pointShadowMap": {
         "value": []
        },
        "pointShadowMatrix": {
         "value": []
        },
        "rectAreaLights": {
         "value": []
        },
        "reflectivity": {
         "value": 1
        },
        "refractionRatio": {
         "value": 0.98
        },
        "roughness": {
         "value": 0.8
        },
        "roughnessMap": {
         "value": null
        },
        "spotLights": {
         "value": []
        },
        "spotShadowMap": {
         "value": []
        },
        "spotShadowMatrix": {
         "value": []
        },
        "uvTransform": {
         "type": "m3",
         "value": [
          1,
          0,
          0,
          0,
          1,
          0,
          0,
          0,
          1
         ]
        }
       },
       "vertexShader": "#define PHYSICAL\nvarying vec3 vViewPosition;\n#ifndef FLAT_SHADED\n\tvarying vec3 vNormal;\n#endif\n#include <common>\n#include <uv_pars_vertex>\n#include <uv2_pars_vertex>\n#include <displacementmap_pars_vertex>\n#include <color_pars_vertex>\n#include <fog_pars_vertex>\n#include <morphtarget_pars_vertex>\n#include <skinning_pars_vertex>\n#include <shadowmap_pars_vertex>\n#include <logdepthbuf_pars_vertex>\n#include <clipping_planes_pars_vertex>\nvoid main() {\n\t#include <uv_vertex>\n\t#include <uv2_vertex>\n\t#include <color_vertex>\n\t#include <beginnormal_vertex>\n\t#include <morphnormal_vertex>\n\t#include <skinbase_vertex>\n\t#include <skinnormal_vertex>\n\t#include <defaultnormal_vertex>\n#ifndef FLAT_SHADED\n\tvNormal = normalize( transformedNormal );\n#endif\n\t#include <begin_vertex>\n\t#include <morphtarget_vertex>\n\t#include <skinning_vertex>\n\t#include <displacementmap_vertex>\n\t#include <project_vertex>\n\t#include <logdepthbuf_vertex>\n\t#include <clipping_planes_vertex>\n\tvViewPosition = - mvPosition.xyz;\n\t#include <worldpos_vertex>\n\t#include <shadowmap_vertex>\n\t#include <fog_vertex>\n}\n"
      }
     },
     "2a9a92a44d9f4843882a2ab808f8483d": {
      "model_module": "@jupyter-widgets/base",
      "model_module_version": "1.2.0",
      "model_name": "LayoutModel",
      "state": {}
     },
     "2a9d45275c0544eab2305babaa6dcb68": {
      "model_module": "@jupyter-widgets/controls",
      "model_module_version": "1.5.0",
      "model_name": "FloatSliderModel",
      "state": {
       "continuous_update": false,
       "layout": "IPY_MODEL_511962b0a9e94ea680f992aa2f3aa1c1",
       "max": 6.420000131999999,
       "min": -6.955000143,
       "step": 0.01,
       "style": "IPY_MODEL_359a155f73eb41eeafc3dc4dc023363a",
       "value": 6.420000131999999
      }
     },
     "2aee837907f7433f9099da0991f9f911": {
      "model_module": "@jupyter-widgets/base",
      "model_module_version": "1.2.0",
      "model_name": "LayoutModel",
      "state": {}
     },
     "2b174bca437c4dc9b5673bcddfc8d243": {
      "model_module": "jupyter-threejs",
      "model_module_version": "^2.1.0",
      "model_name": "DirectionalLightModel",
      "state": {
       "_view_module": null,
       "_view_module_version": "",
       "color": "white",
       "intensity": 0.12,
       "matrixWorldNeedsUpdate": true,
       "position": [
        8.278436197374486,
        8.278436197374486,
        -8.278436197374486
       ],
       "shadow": "IPY_MODEL_3e7f83fe-9451-403f-abe8-63fc0c707ecf",
       "target": "IPY_MODEL_d6efb034-2201-4261-bbf4-aef0684a6d82"
      }
     },
     "2b1dc22d4180462da3cd9fd220a290f8": {
      "model_module": "@jupyter-widgets/controls",
      "model_module_version": "1.5.0",
      "model_name": "HBoxModel",
      "state": {
       "children": [
        "IPY_MODEL_82a5c756821c43f58b4ca606459660fd",
        "IPY_MODEL_bb9060c2e13c4553a06c8b2443e8ec1b"
       ],
       "layout": "IPY_MODEL_a558b076a7134cc199d1c13f7111ed84"
      }
     },
     "2b36e7dc14b04f68b70c608519b3ec46": {
      "model_module": "@jupyter-widgets/base",
      "model_module_version": "1.2.0",
      "model_name": "LayoutModel",
      "state": {}
     },
     "2b3b720b6fb141bfad0f95650b9db0d1": {
      "model_module": "@jupyter-widgets/base",
      "model_module_version": "1.2.0",
      "model_name": "LayoutModel",
      "state": {}
     },
     "2b63f23bdaec49eeb78176333650a65c": {
      "model_module": "@jupyter-widgets/controls",
      "model_module_version": "1.5.0",
      "model_name": "ButtonStyleModel",
      "state": {}
     },
     "2b9ee304-2574-4ae0-941c-033b7e900364": {
      "model_module": "jupyter-threejs",
      "model_module_version": "^2.1.0",
      "model_name": "Object3DModel",
      "state": {}
     },
     "2bc24ed39c1d4cd3893ec1d8a28162f8": {
      "model_module": "jupyter-threejs",
      "model_module_version": "^2.1.0",
      "model_name": "LineMaterialModel",
      "state": {
       "_view_module": null,
       "_view_module_version": "",
       "color": "#808080"
      }
     },
     "2c4d702e35db434ca2c945026dae6b84": {
      "model_module": "jupyter-threejs",
      "model_module_version": "^2.1.0",
      "model_name": "ShaderMaterialModel",
      "state": {
       "_view_module": null,
       "_view_module_version": "",
       "clipping": true,
       "fragmentShader": "\n        uniform float alpha;\n        #define PHYSICAL\nuniform vec3 diffuse;\nuniform vec3 emissive;\nuniform float roughness;\nuniform float metalness;\nuniform float opacity;\n#ifndef STANDARD\n\tuniform float clearCoat;\n\tuniform float clearCoatRoughness;\n#endif\nvarying vec3 vViewPosition;\n#ifndef FLAT_SHADED\n\tvarying vec3 vNormal;\n#endif\n#include <common>\n#include <packing>\n#include <dithering_pars_fragment>\n#include <color_pars_fragment>\n#include <uv_pars_fragment>\n#include <uv2_pars_fragment>\n#include <map_pars_fragment>\n#include <alphamap_pars_fragment>\n#include <aomap_pars_fragment>\n#include <lightmap_pars_fragment>\n#include <emissivemap_pars_fragment>\n#include <bsdfs>\n#include <cube_uv_reflection_fragment>\n#include <envmap_pars_fragment>\n#include <envmap_physical_pars_fragment>\n#include <fog_pars_fragment>\n#include <lights_pars_begin>\n#include <lights_physical_pars_fragment>\n#include <shadowmap_pars_fragment>\n#include <bumpmap_pars_fragment>\n#include <normalmap_pars_fragment>\n#include <roughnessmap_pars_fragment>\n#include <metalnessmap_pars_fragment>\n#include <logdepthbuf_pars_fragment>\n#include <clipping_planes_pars_fragment>\nvoid main() {\n\t#include <clipping_planes_fragment>\n\tvec4 diffuseColor = vec4( diffuse, opacity );\n\tReflectedLight reflectedLight = ReflectedLight( vec3( 0.0 ), vec3( 0.0 ), vec3( 0.0 ), vec3( 0.0 ) );\n\tvec3 totalEmissiveRadiance = emissive;\n\t#include <logdepthbuf_fragment>\n\t#include <map_fragment>\n\t#include <color_fragment>\n\t#include <alphamap_fragment>\n\t#include <alphatest_fragment>\n\t#include <roughnessmap_fragment>\n\t#include <metalnessmap_fragment>\n\t#include <normal_fragment_begin>\n\t#include <normal_fragment_maps>\n\t#include <emissivemap_fragment>\n\t#include <lights_physical_fragment>\n\t#include <lights_fragment_begin>\n\t#include <lights_fragment_maps>\n\t#include <lights_fragment_end>\n\t#include <aomap_fragment>\n\tvec3 outgoingLight = reflectedLight.directDiffuse + reflectedLight.indirectDiffuse + reflectedLight.directSpecular + reflectedLight.indirectSpecular + totalEmissiveRadiance;\n\t\n            if ( gl_FrontFacing ) {\n                gl_FragColor = vec4( outgoingLight, alpha * diffuseColor.a );\n            } else {\n                gl_FragColor = vec4( diffuseColor.r, diffuseColor.g, diffuseColor.b, alpha * diffuseColor.a );\n            }\n\t#include <tonemapping_fragment>\n\t#include <encodings_fragment>\n\t#include <fog_fragment>\n\t#include <premultiplied_alpha_fragment>\n\t#include <dithering_fragment>\n}\n",
       "lights": true,
       "polygonOffset": true,
       "polygonOffsetFactor": 1,
       "polygonOffsetUnits": 1,
       "side": "DoubleSide",
       "uniforms": {
        "alpha": {
         "value": 0.7
        },
        "alphaMap": {
         "value": null
        },
        "ambientLightColor": {
         "value": []
        },
        "aoMap": {
         "value": null
        },
        "aoMapIntensity": {
         "value": 1
        },
        "bumpMap": {
         "value": null
        },
        "bumpScale": {
         "value": 1
        },
        "diffuse": {
         "type": "c",
         "value": "#e8b024"
        },
        "directionalLights": {
         "value": []
        },
        "directionalShadowMap": {
         "value": []
        },
        "directionalShadowMatrix": {
         "value": []
        },
        "displacementBias": {
         "value": 0
        },
        "displacementMap": {
         "value": null
        },
        "displacementScale": {
         "value": 1
        },
        "emissive": {
         "type": "c",
         "value": "#000000"
        },
        "emissiveMap": {
         "value": null
        },
        "envMap": {
         "value": null
        },
        "envMapIntensity": {
         "value": 1
        },
        "flipEnvMap": {
         "value": -1
        },
        "fogColor": {
         "type": "c",
         "value": "#ffffff"
        },
        "fogDensity": {
         "value": 0.00025
        },
        "fogFar": {
         "value": 2000
        },
        "fogNear": {
         "value": 1
        },
        "hemisphereLights": {
         "value": []
        },
        "lightMap": {
         "value": null
        },
        "lightMapIntensity": {
         "value": 1
        },
        "map": {
         "value": null
        },
        "maxMipLevel": {
         "value": 0
        },
        "metalness": {
         "value": 0.3
        },
        "metalnessMap": {
         "value": null
        },
        "normalMap": {
         "value": null
        },
        "normalScale": {
         "type": "v2",
         "value": [
          1,
          1
         ]
        },
        "opacity": {
         "value": 1
        },
        "pointLights": {
         "value": []
        },
        "pointShadowMap": {
         "value": []
        },
        "pointShadowMatrix": {
         "value": []
        },
        "rectAreaLights": {
         "value": []
        },
        "reflectivity": {
         "value": 1
        },
        "refractionRatio": {
         "value": 0.98
        },
        "roughness": {
         "value": 0.8
        },
        "roughnessMap": {
         "value": null
        },
        "spotLights": {
         "value": []
        },
        "spotShadowMap": {
         "value": []
        },
        "spotShadowMatrix": {
         "value": []
        },
        "uvTransform": {
         "type": "m3",
         "value": [
          1,
          0,
          0,
          0,
          1,
          0,
          0,
          0,
          1
         ]
        }
       },
       "vertexShader": "#define PHYSICAL\nvarying vec3 vViewPosition;\n#ifndef FLAT_SHADED\n\tvarying vec3 vNormal;\n#endif\n#include <common>\n#include <uv_pars_vertex>\n#include <uv2_pars_vertex>\n#include <displacementmap_pars_vertex>\n#include <color_pars_vertex>\n#include <fog_pars_vertex>\n#include <morphtarget_pars_vertex>\n#include <skinning_pars_vertex>\n#include <shadowmap_pars_vertex>\n#include <logdepthbuf_pars_vertex>\n#include <clipping_planes_pars_vertex>\nvoid main() {\n\t#include <uv_vertex>\n\t#include <uv2_vertex>\n\t#include <color_vertex>\n\t#include <beginnormal_vertex>\n\t#include <morphnormal_vertex>\n\t#include <skinbase_vertex>\n\t#include <skinnormal_vertex>\n\t#include <defaultnormal_vertex>\n#ifndef FLAT_SHADED\n\tvNormal = normalize( transformedNormal );\n#endif\n\t#include <begin_vertex>\n\t#include <morphtarget_vertex>\n\t#include <skinning_vertex>\n\t#include <displacementmap_vertex>\n\t#include <project_vertex>\n\t#include <logdepthbuf_vertex>\n\t#include <clipping_planes_vertex>\n\tvViewPosition = - mvPosition.xyz;\n\t#include <worldpos_vertex>\n\t#include <shadowmap_vertex>\n\t#include <fog_vertex>\n}\n"
      }
     },
     "2d4ca0eaf492444bacddeba70a6b2bd5": {
      "model_module": "jupyter_cadquery",
      "model_module_version": "^v1.0.0",
      "model_name": "ImageButtonModel",
      "state": {
       "_dom_classes": [
        "view_button"
       ],
       "_model_module_version": "^v1.0.0",
       "_view_module_version": "^v1.0.0",
       "height": "28",
       "layout": "IPY_MODEL_374d727c217f4d7a809808c32395f912",
       "style": "IPY_MODEL_a22ec30f0f99487ea6a6004dcab54cee",
       "tooltip": "Change view to front",
       "type": "front",
       "value": {},
       "width": "36"
      }
     },
     "2d533488ecac4d6e90711e69ea17dd0e": {
      "model_module": "@jupyter-widgets/controls",
      "model_module_version": "1.5.0",
      "model_name": "FloatSliderModel",
      "state": {
       "continuous_update": false,
       "layout": "IPY_MODEL_3cd284168d4442f0b360b5985fc7e718",
       "max": 6.420000131999999,
       "min": -6.955000143,
       "step": 0.01,
       "style": "IPY_MODEL_7703d6d247164e4ca5cf2b1819da0b54",
       "value": 6.420000131999999
      }
     },
     "2d5c7290c4a648ec8d6aeae94d012698": {
      "model_module": "@jupyter-widgets/base",
      "model_module_version": "1.2.0",
      "model_name": "LayoutModel",
      "state": {}
     },
     "2d7afe8731ea4e548b30a4a0729b4736": {
      "buffers": [
       {
        "data": "AAAAPwAAAL8AAIC/AAAAPwAAAL+amRk/AAAAPwAAAD8AAIC/AAAAPwAAAD+amRk/AAAAPwAAAL8AAIC/AAAAPwAAAL+amRk/AAAAvwAAAL8AAIC/AAAAvwAAAL8AAIA/zczMPQAAAL8AAIA/AAAAPwAAAL+amRk/zczMPQAAAL8AAIA/AAAAPwAAAD+amRk/zczMPQAAAD8AAIA/AAAAvwAAAL8AAIC/AAAAvwAAAD8AAIC/AAAAPwAAAL8AAIC/AAAAPwAAAD8AAIC/AAAAPwAAAD8AAIC/AAAAPwAAAD+amRk/AAAAvwAAAD8AAIC/AAAAvwAAAD8AAIA/zczMPQAAAD8AAIA/AAAAvwAAAD8AAIA/zczMPQAAAD8AAIA/AAAAvwAAAL8AAIA/zczMPQAAAL8AAIA/AAAAvwAAAL8AAIC/AAAAvwAAAL8AAIA/AAAAvwAAAD8AAIC/AAAAvwAAAD8AAIA/",
        "encoding": "base64",
        "path": [
         "array",
         "buffer"
        ]
       }
      ],
      "model_module": "jupyter-threejs",
      "model_module_version": "^2.1.0",
      "model_name": "BufferAttributeModel",
      "state": {
       "_view_module": null,
       "_view_module_version": "",
       "array": {
        "dtype": "float32",
        "shape": [
         30,
         3
        ]
       },
       "normalized": true,
       "version": 2
      }
     },
     "2d83baa02b064277aea28f0fe36f7bf9": {
      "buffers": [
       {
        "data": "AACAv83MTD0AAIA+ZmZmP83MTD0AAIA+AACAv83MTL0AAIA+ZmZmP83MTL0AAIA+",
        "encoding": "base64",
        "path": [
         "array",
         "buffer"
        ]
       }
      ],
      "model_module": "jupyter-threejs",
      "model_module_version": "^2.1.0",
      "model_name": "BufferAttributeModel",
      "state": {
       "_view_module": null,
       "_view_module_version": "",
       "array": {
        "dtype": "float32",
        "shape": [
         4,
         3
        ]
       },
       "normalized": true,
       "version": 2
      }
     },
     "2d849f3ef2994a1186e9bf276c4f44ef": {
      "model_module": "jupyter_cadquery",
      "model_module_version": "^v1.0.0",
      "model_name": "ImageButtonModel",
      "state": {
       "_dom_classes": [
        "view_button"
       ],
       "_model_module_version": "^v1.0.0",
       "_view_module_version": "^v1.0.0",
       "height": "28",
       "layout": "IPY_MODEL_25e76d0170e04e7f952e9a70800d9140",
       "style": "IPY_MODEL_511efdfb86ef44bb86378f6cc48050e7",
       "tooltip": "Change view to left",
       "type": "left",
       "value": {},
       "width": "36"
      }
     },
     "2d8d5d06-dbab-4f21-bd8e-ce9c59537891": {
      "model_module": "jupyter-threejs",
      "model_module_version": "^2.1.0",
      "model_name": "OrthographicCameraModel",
      "state": {
       "bottom": -5,
       "far": 500,
       "left": -5,
       "near": 0.5,
       "projectionMatrix": [
        0.2,
        0,
        0,
        0,
        0,
        0.2,
        0,
        0,
        0,
        0,
        -0.004004004004004004,
        0,
        0,
        0,
        -1.002002002002002,
        1
       ],
       "right": 5,
       "top": 5
      }
     },
     "2db92f7a-bf50-4ead-9d23-07624a4b5661": {
      "model_module": "jupyter-threejs",
      "model_module_version": "^2.1.0",
      "model_name": "DirectionalLightShadowModel",
      "state": {
       "camera": "IPY_MODEL_20af6a08-e961-4b77-b2f9-b1cf2d981d2f"
      }
     },
     "2dc77099-c0df-4f83-8712-c234ce7ed093": {
      "model_module": "jupyter-threejs",
      "model_module_version": "^2.1.0",
      "model_name": "Object3DModel",
      "state": {}
     },
     "2dc980f6e31648199635c121802d8b86": {
      "model_module": "@jupyter-widgets/controls",
      "model_module_version": "1.5.0",
      "model_name": "DescriptionStyleModel",
      "state": {
       "description_width": ""
      }
     },
     "2dd966346f364b6f9bd6f84877d4f0c3": {
      "model_module": "jupyter_cadquery",
      "model_module_version": "^v1.0.0",
      "model_name": "ImageButtonModel",
      "state": {
       "_dom_classes": [
        "view_button"
       ],
       "_model_module_version": "^v1.0.0",
       "_view_module_version": "^v1.0.0",
       "height": "28",
       "layout": "IPY_MODEL_002ec13cb0334571a8d3bf184b6864bf",
       "style": "IPY_MODEL_672f923514bf47f38b0d05631bdedcc2",
       "tooltip": "Change view to isometric",
       "type": "isometric",
       "value": {},
       "width": "36"
      }
     },
     "2e29ba850d9246289ca647044e758264": {
      "model_module": "jupyter_cadquery",
      "model_module_version": "^v1.0.0",
      "model_name": "ImageButtonModel",
      "state": {
       "_dom_classes": [
        "view_button"
       ],
       "_model_module_version": "^v1.0.0",
       "_view_module_version": "^v1.0.0",
       "height": "28",
       "layout": "IPY_MODEL_316d18dcca154d9f93f1258a7b26dffc",
       "style": "IPY_MODEL_4e895790bd404a889779c42c8bdeb5cb",
       "tooltip": "Change view to right",
       "type": "right",
       "value": {},
       "width": "36"
      }
     },
     "2e4027cbfdec49b9b48935f7763e70b5": {
      "model_module": "@jupyter-widgets/controls",
      "model_module_version": "1.5.0",
      "model_name": "HBoxModel",
      "state": {
       "children": [
        "IPY_MODEL_36a90afe5dad47c68e01d869d9a569eb",
        "IPY_MODEL_b03a8a7baf9a4d8095aebf2be09d928e"
       ],
       "layout": "IPY_MODEL_4a2804aa699d4195ac597f509748ff63"
      }
     },
     "2e681cda5f8946e38ec384ea0119ac9e": {
      "model_module": "jupyter-threejs",
      "model_module_version": "^2.1.0",
      "model_name": "ShaderMaterialModel",
      "state": {
       "_view_module": null,
       "_view_module_version": "",
       "clipping": true,
       "fragmentShader": "\n        uniform float alpha;\n        #define PHYSICAL\nuniform vec3 diffuse;\nuniform vec3 emissive;\nuniform float roughness;\nuniform float metalness;\nuniform float opacity;\n#ifndef STANDARD\n\tuniform float clearCoat;\n\tuniform float clearCoatRoughness;\n#endif\nvarying vec3 vViewPosition;\n#ifndef FLAT_SHADED\n\tvarying vec3 vNormal;\n#endif\n#include <common>\n#include <packing>\n#include <dithering_pars_fragment>\n#include <color_pars_fragment>\n#include <uv_pars_fragment>\n#include <uv2_pars_fragment>\n#include <map_pars_fragment>\n#include <alphamap_pars_fragment>\n#include <aomap_pars_fragment>\n#include <lightmap_pars_fragment>\n#include <emissivemap_pars_fragment>\n#include <bsdfs>\n#include <cube_uv_reflection_fragment>\n#include <envmap_pars_fragment>\n#include <envmap_physical_pars_fragment>\n#include <fog_pars_fragment>\n#include <lights_pars_begin>\n#include <lights_physical_pars_fragment>\n#include <shadowmap_pars_fragment>\n#include <bumpmap_pars_fragment>\n#include <normalmap_pars_fragment>\n#include <roughnessmap_pars_fragment>\n#include <metalnessmap_pars_fragment>\n#include <logdepthbuf_pars_fragment>\n#include <clipping_planes_pars_fragment>\nvoid main() {\n\t#include <clipping_planes_fragment>\n\tvec4 diffuseColor = vec4( diffuse, opacity );\n\tReflectedLight reflectedLight = ReflectedLight( vec3( 0.0 ), vec3( 0.0 ), vec3( 0.0 ), vec3( 0.0 ) );\n\tvec3 totalEmissiveRadiance = emissive;\n\t#include <logdepthbuf_fragment>\n\t#include <map_fragment>\n\t#include <color_fragment>\n\t#include <alphamap_fragment>\n\t#include <alphatest_fragment>\n\t#include <roughnessmap_fragment>\n\t#include <metalnessmap_fragment>\n\t#include <normal_fragment_begin>\n\t#include <normal_fragment_maps>\n\t#include <emissivemap_fragment>\n\t#include <lights_physical_fragment>\n\t#include <lights_fragment_begin>\n\t#include <lights_fragment_maps>\n\t#include <lights_fragment_end>\n\t#include <aomap_fragment>\n\tvec3 outgoingLight = reflectedLight.directDiffuse + reflectedLight.indirectDiffuse + reflectedLight.directSpecular + reflectedLight.indirectSpecular + totalEmissiveRadiance;\n\t\n            if ( gl_FrontFacing ) {\n                gl_FragColor = vec4( outgoingLight, alpha * diffuseColor.a );\n            } else {\n                gl_FragColor = vec4( diffuseColor.r, diffuseColor.g, diffuseColor.b, alpha * diffuseColor.a );\n            }\n\t#include <tonemapping_fragment>\n\t#include <encodings_fragment>\n\t#include <fog_fragment>\n\t#include <premultiplied_alpha_fragment>\n\t#include <dithering_fragment>\n}\n",
       "lights": true,
       "polygonOffset": true,
       "polygonOffsetFactor": 1,
       "polygonOffsetUnits": 1,
       "side": "DoubleSide",
       "uniforms": {
        "alpha": {
         "value": 0.7
        },
        "alphaMap": {
         "value": null
        },
        "ambientLightColor": {
         "value": []
        },
        "aoMap": {
         "value": null
        },
        "aoMapIntensity": {
         "value": 1
        },
        "bumpMap": {
         "value": null
        },
        "bumpScale": {
         "value": 1
        },
        "diffuse": {
         "type": "c",
         "value": "#e8b024"
        },
        "directionalLights": {
         "value": []
        },
        "directionalShadowMap": {
         "value": []
        },
        "directionalShadowMatrix": {
         "value": []
        },
        "displacementBias": {
         "value": 0
        },
        "displacementMap": {
         "value": null
        },
        "displacementScale": {
         "value": 1
        },
        "emissive": {
         "type": "c",
         "value": "#000000"
        },
        "emissiveMap": {
         "value": null
        },
        "envMap": {
         "value": null
        },
        "envMapIntensity": {
         "value": 1
        },
        "flipEnvMap": {
         "value": -1
        },
        "fogColor": {
         "type": "c",
         "value": "#ffffff"
        },
        "fogDensity": {
         "value": 0.00025
        },
        "fogFar": {
         "value": 2000
        },
        "fogNear": {
         "value": 1
        },
        "hemisphereLights": {
         "value": []
        },
        "lightMap": {
         "value": null
        },
        "lightMapIntensity": {
         "value": 1
        },
        "map": {
         "value": null
        },
        "maxMipLevel": {
         "value": 0
        },
        "metalness": {
         "value": 0.3
        },
        "metalnessMap": {
         "value": null
        },
        "normalMap": {
         "value": null
        },
        "normalScale": {
         "type": "v2",
         "value": [
          1,
          1
         ]
        },
        "opacity": {
         "value": 1
        },
        "pointLights": {
         "value": []
        },
        "pointShadowMap": {
         "value": []
        },
        "pointShadowMatrix": {
         "value": []
        },
        "rectAreaLights": {
         "value": []
        },
        "reflectivity": {
         "value": 1
        },
        "refractionRatio": {
         "value": 0.98
        },
        "roughness": {
         "value": 0.8
        },
        "roughnessMap": {
         "value": null
        },
        "spotLights": {
         "value": []
        },
        "spotShadowMap": {
         "value": []
        },
        "spotShadowMatrix": {
         "value": []
        },
        "uvTransform": {
         "type": "m3",
         "value": [
          1,
          0,
          0,
          0,
          1,
          0,
          0,
          0,
          1
         ]
        }
       },
       "vertexShader": "#define PHYSICAL\nvarying vec3 vViewPosition;\n#ifndef FLAT_SHADED\n\tvarying vec3 vNormal;\n#endif\n#include <common>\n#include <uv_pars_vertex>\n#include <uv2_pars_vertex>\n#include <displacementmap_pars_vertex>\n#include <color_pars_vertex>\n#include <fog_pars_vertex>\n#include <morphtarget_pars_vertex>\n#include <skinning_pars_vertex>\n#include <shadowmap_pars_vertex>\n#include <logdepthbuf_pars_vertex>\n#include <clipping_planes_pars_vertex>\nvoid main() {\n\t#include <uv_vertex>\n\t#include <uv2_vertex>\n\t#include <color_vertex>\n\t#include <beginnormal_vertex>\n\t#include <morphnormal_vertex>\n\t#include <skinbase_vertex>\n\t#include <skinnormal_vertex>\n\t#include <defaultnormal_vertex>\n#ifndef FLAT_SHADED\n\tvNormal = normalize( transformedNormal );\n#endif\n\t#include <begin_vertex>\n\t#include <morphtarget_vertex>\n\t#include <skinning_vertex>\n\t#include <displacementmap_vertex>\n\t#include <project_vertex>\n\t#include <logdepthbuf_vertex>\n\t#include <clipping_planes_vertex>\n\tvViewPosition = - mvPosition.xyz;\n\t#include <worldpos_vertex>\n\t#include <shadowmap_vertex>\n\t#include <fog_vertex>\n}\n"
      }
     },
     "2e78217e60d248178a07b5ca627d024d": {
      "model_module": "@jupyter-widgets/base",
      "model_module_version": "1.2.0",
      "model_name": "LayoutModel",
      "state": {}
     },
     "2ec1c3b0f00a45949e052afb558e02f3": {
      "model_module": "@jupyter-widgets/controls",
      "model_module_version": "1.5.0",
      "model_name": "SliderStyleModel",
      "state": {
       "description_width": ""
      }
     },
     "2f170f9fdab44043baf12487c60bf06c": {
      "model_module": "jupyter-threejs",
      "model_module_version": "^2.1.0",
      "model_name": "LineMaterialModel",
      "state": {
       "_view_module": null,
       "_view_module_version": "",
       "color": "#808080"
      }
     },
     "2f6dbff227be45abae4feb2896f58d85": {
      "model_module": "jupyter-threejs",
      "model_module_version": "^2.1.0",
      "model_name": "LineMaterialModel",
      "state": {
       "_view_module": null,
       "_view_module_version": "",
       "color": "blue",
       "linewidth": 3
      }
     },
     "2f820431e4f54baaa11624215107d2f9": {
      "model_module": "@jupyter-widgets/base",
      "model_module_version": "1.2.0",
      "model_name": "LayoutModel",
      "state": {}
     },
     "3031ae13cf5049c6ad5d7cf6ff754510": {
      "model_module": "@jupyter-widgets/controls",
      "model_module_version": "1.5.0",
      "model_name": "BoxModel",
      "state": {
       "_dom_classes": [
        "view_output"
       ],
       "children": [
        "IPY_MODEL_790b5224e76246da82496d5d24b6475a"
       ],
       "layout": "IPY_MODEL_47f13daf880b4bff9855aba1bb730c28"
      }
     },
     "3035eca085584e57b5aaa5c9a28d7081": {
      "model_module": "@jupyter-widgets/controls",
      "model_module_version": "1.5.0",
      "model_name": "VBoxModel",
      "state": {
       "children": [
        "IPY_MODEL_cef5e3a2f79e4f338c81ea0955c20ae7",
        "IPY_MODEL_40f92a87eb4f44b98c7ff97e9de2a084",
        "IPY_MODEL_c1641309ccc041d8ae34882b4ca11b82"
       ],
       "layout": "IPY_MODEL_d1247c342aef43c3a0daf781aae5e9d3"
      }
     },
     "304e82f2-3b30-41c8-a510-36622e9e09fe": {
      "model_module": "jupyter-threejs",
      "model_module_version": "^2.1.0",
      "model_name": "OrthographicCameraModel",
      "state": {
       "bottom": -5,
       "far": 500,
       "left": -5,
       "near": 0.5,
       "projectionMatrix": [
        0.2,
        0,
        0,
        0,
        0,
        0.2,
        0,
        0,
        0,
        0,
        -0.004004004004004004,
        0,
        0,
        0,
        -1.002002002002002,
        1
       ],
       "right": 5,
       "top": 5
      }
     },
     "30a73ca93ed841dea28b404f2b94f396": {
      "buffers": [
       {
        "data": "AwAAAAEAAAAAAAAAAwAAAAAAAAACAAAA",
        "encoding": "base64",
        "path": [
         "array",
         "buffer"
        ]
       }
      ],
      "model_module": "jupyter-threejs",
      "model_module_version": "^2.1.0",
      "model_name": "BufferAttributeModel",
      "state": {
       "_view_module": null,
       "_view_module_version": "",
       "array": {
        "dtype": "uint32",
        "shape": [
         6
        ]
       },
       "normalized": true,
       "version": 2
      }
     },
     "30e2105753a0457f8a3eb8a52a20e5c6": {
      "model_module": "@jupyter-widgets/controls",
      "model_module_version": "1.5.0",
      "model_name": "ButtonStyleModel",
      "state": {}
     },
     "30fb655f14284b35a204f3b2828d616d": {
      "model_module": "jupyter-threejs",
      "model_module_version": "^2.1.0",
      "model_name": "LineMaterialModel",
      "state": {
       "_view_module": null,
       "_view_module_version": "",
       "color": "#808080"
      }
     },
     "311657d3-6a52-4662-b62d-05d7da4fc99b": {
      "model_module": "jupyter-threejs",
      "model_module_version": "^2.1.0",
      "model_name": "DirectionalLightShadowModel",
      "state": {
       "camera": "IPY_MODEL_a98ab196-a00a-4fed-baa1-c90614588f87"
      }
     },
     "31213aef968e4b59a2da88a86cac60be": {
      "model_module": "jupyter-threejs",
      "model_module_version": "^2.1.0",
      "model_name": "ShaderMaterialModel",
      "state": {
       "_view_module": null,
       "_view_module_version": "",
       "clipping": true,
       "fragmentShader": "\n        uniform float alpha;\n        #define PHYSICAL\nuniform vec3 diffuse;\nuniform vec3 emissive;\nuniform float roughness;\nuniform float metalness;\nuniform float opacity;\n#ifndef STANDARD\n\tuniform float clearCoat;\n\tuniform float clearCoatRoughness;\n#endif\nvarying vec3 vViewPosition;\n#ifndef FLAT_SHADED\n\tvarying vec3 vNormal;\n#endif\n#include <common>\n#include <packing>\n#include <dithering_pars_fragment>\n#include <color_pars_fragment>\n#include <uv_pars_fragment>\n#include <uv2_pars_fragment>\n#include <map_pars_fragment>\n#include <alphamap_pars_fragment>\n#include <aomap_pars_fragment>\n#include <lightmap_pars_fragment>\n#include <emissivemap_pars_fragment>\n#include <bsdfs>\n#include <cube_uv_reflection_fragment>\n#include <envmap_pars_fragment>\n#include <envmap_physical_pars_fragment>\n#include <fog_pars_fragment>\n#include <lights_pars_begin>\n#include <lights_physical_pars_fragment>\n#include <shadowmap_pars_fragment>\n#include <bumpmap_pars_fragment>\n#include <normalmap_pars_fragment>\n#include <roughnessmap_pars_fragment>\n#include <metalnessmap_pars_fragment>\n#include <logdepthbuf_pars_fragment>\n#include <clipping_planes_pars_fragment>\nvoid main() {\n\t#include <clipping_planes_fragment>\n\tvec4 diffuseColor = vec4( diffuse, opacity );\n\tReflectedLight reflectedLight = ReflectedLight( vec3( 0.0 ), vec3( 0.0 ), vec3( 0.0 ), vec3( 0.0 ) );\n\tvec3 totalEmissiveRadiance = emissive;\n\t#include <logdepthbuf_fragment>\n\t#include <map_fragment>\n\t#include <color_fragment>\n\t#include <alphamap_fragment>\n\t#include <alphatest_fragment>\n\t#include <roughnessmap_fragment>\n\t#include <metalnessmap_fragment>\n\t#include <normal_fragment_begin>\n\t#include <normal_fragment_maps>\n\t#include <emissivemap_fragment>\n\t#include <lights_physical_fragment>\n\t#include <lights_fragment_begin>\n\t#include <lights_fragment_maps>\n\t#include <lights_fragment_end>\n\t#include <aomap_fragment>\n\tvec3 outgoingLight = reflectedLight.directDiffuse + reflectedLight.indirectDiffuse + reflectedLight.directSpecular + reflectedLight.indirectSpecular + totalEmissiveRadiance;\n\t\n            if ( gl_FrontFacing ) {\n                gl_FragColor = vec4( outgoingLight, alpha * diffuseColor.a );\n            } else {\n                gl_FragColor = vec4( diffuseColor.r, diffuseColor.g, diffuseColor.b, alpha * diffuseColor.a );\n            }\n\t#include <tonemapping_fragment>\n\t#include <encodings_fragment>\n\t#include <fog_fragment>\n\t#include <premultiplied_alpha_fragment>\n\t#include <dithering_fragment>\n}\n",
       "lights": true,
       "polygonOffset": true,
       "polygonOffsetFactor": 1,
       "polygonOffsetUnits": 1,
       "side": "DoubleSide",
       "uniforms": {
        "alpha": {
         "value": 0.7
        },
        "alphaMap": {
         "value": null
        },
        "ambientLightColor": {
         "value": [
          1,
          1,
          1
         ]
        },
        "aoMap": {
         "value": null
        },
        "aoMapIntensity": {
         "value": 1
        },
        "bumpMap": {
         "value": null
        },
        "bumpScale": {
         "value": 1
        },
        "diffuse": {
         "type": "c",
         "value": "#ffa500"
        },
        "directionalLights": {
         "value": [
          {
           "color": 1973790,
           "direction": {
            "x": -2.989348615883112e-17,
            "y": 2.4777145706089543e-16,
            "z": -1
           },
           "shadow": false,
           "shadowBias": 0,
           "shadowMapSize": {
            "x": 0,
            "y": 0
           },
           "shadowRadius": 1
          },
          {
           "color": 1973790,
           "direction": {
            "x": -9.399224237161659e-17,
            "y": 0.9428090415820635,
            "z": -0.3333333333333332
           },
           "shadow": false,
           "shadowBias": 0,
           "shadowMapSize": {
            "x": 0,
            "y": 0
           },
           "shadowRadius": 1
          },
          {
           "color": 1973790,
           "direction": {
            "x": 0.8164965809277259,
            "y": -0.4714045207910316,
            "z": -0.3333333333333333
           },
           "shadow": false,
           "shadowBias": 0,
           "shadowMapSize": {
            "x": 0,
            "y": 0
           },
           "shadowRadius": 1
          },
          {
           "color": 1973790,
           "direction": {
            "x": 0.8164965809277259,
            "y": 0.4714045207910316,
            "z": 0.3333333333333333
           },
           "shadow": false,
           "shadowBias": 0,
           "shadowMapSize": {
            "x": 0,
            "y": 0
           },
           "shadowRadius": 1
          },
          {
           "color": 1973790,
           "direction": {
            "x": -0.8164965809277259,
            "y": -0.4714045207910316,
            "z": -0.3333333333333333
           },
           "shadow": false,
           "shadowBias": 0,
           "shadowMapSize": {
            "x": 0,
            "y": 0
           },
           "shadowRadius": 1
          },
          {
           "color": 1973790,
           "direction": {
            "x": -0.8164965809277259,
            "y": 0.4714045207910316,
            "z": 0.3333333333333333
           },
           "shadow": false,
           "shadowBias": 0,
           "shadowMapSize": {
            "x": 0,
            "y": 0
           },
           "shadowRadius": 1
          },
          {
           "color": 1973790,
           "direction": {
            "x": 9.399224237161659e-17,
            "y": -0.9428090415820635,
            "z": 0.3333333333333332
           },
           "shadow": false,
           "shadowBias": 0,
           "shadowMapSize": {
            "x": 0,
            "y": 0
           },
           "shadowRadius": 1
          },
          {
           "color": 1973790,
           "direction": {
            "x": 2.989348615883112e-17,
            "y": -2.4777145706089543e-16,
            "z": 1
           },
           "shadow": false,
           "shadowBias": 0,
           "shadowMapSize": {
            "x": 0,
            "y": 0
           },
           "shadowRadius": 1
          }
         ]
        },
        "directionalShadowMap": {
         "value": [
          null,
          null,
          null,
          null,
          null,
          null,
          null,
          null
         ]
        },
        "directionalShadowMatrix": {
         "value": [
          {
           "elements": [
            1,
            0,
            0,
            0,
            0,
            1,
            0,
            0,
            0,
            0,
            1,
            0,
            0,
            0,
            0,
            1
           ]
          },
          {
           "elements": [
            1,
            0,
            0,
            0,
            0,
            1,
            0,
            0,
            0,
            0,
            1,
            0,
            0,
            0,
            0,
            1
           ]
          },
          {
           "elements": [
            1,
            0,
            0,
            0,
            0,
            1,
            0,
            0,
            0,
            0,
            1,
            0,
            0,
            0,
            0,
            1
           ]
          },
          {
           "elements": [
            1,
            0,
            0,
            0,
            0,
            1,
            0,
            0,
            0,
            0,
            1,
            0,
            0,
            0,
            0,
            1
           ]
          },
          {
           "elements": [
            1,
            0,
            0,
            0,
            0,
            1,
            0,
            0,
            0,
            0,
            1,
            0,
            0,
            0,
            0,
            1
           ]
          },
          {
           "elements": [
            1,
            0,
            0,
            0,
            0,
            1,
            0,
            0,
            0,
            0,
            1,
            0,
            0,
            0,
            0,
            1
           ]
          },
          {
           "elements": [
            1,
            0,
            0,
            0,
            0,
            1,
            0,
            0,
            0,
            0,
            1,
            0,
            0,
            0,
            0,
            1
           ]
          },
          {
           "elements": [
            1,
            0,
            0,
            0,
            0,
            1,
            0,
            0,
            0,
            0,
            1,
            0,
            0,
            0,
            0,
            1
           ]
          }
         ]
        },
        "displacementBias": {
         "value": 0
        },
        "displacementMap": {
         "value": null
        },
        "displacementScale": {
         "value": 1
        },
        "emissive": {
         "type": "c",
         "value": "#000000"
        },
        "emissiveMap": {
         "value": null
        },
        "envMap": {
         "value": null
        },
        "envMapIntensity": {
         "value": 1
        },
        "flipEnvMap": {
         "value": -1
        },
        "fogColor": {
         "type": "c",
         "value": "#ffffff"
        },
        "fogDensity": {
         "value": 0.00025
        },
        "fogFar": {
         "value": 2000
        },
        "fogNear": {
         "value": 1
        },
        "hemisphereLights": {
         "value": []
        },
        "lightMap": {
         "value": null
        },
        "lightMapIntensity": {
         "value": 1
        },
        "map": {
         "value": null
        },
        "maxMipLevel": {
         "value": 0
        },
        "metalness": {
         "value": 0.3
        },
        "metalnessMap": {
         "value": null
        },
        "normalMap": {
         "value": null
        },
        "normalScale": {
         "type": "v2",
         "value": [
          1,
          1
         ]
        },
        "opacity": {
         "value": 1
        },
        "pointLights": {
         "value": []
        },
        "pointShadowMap": {
         "value": []
        },
        "pointShadowMatrix": {
         "value": []
        },
        "rectAreaLights": {
         "value": []
        },
        "reflectivity": {
         "value": 1
        },
        "refractionRatio": {
         "value": 0.98
        },
        "roughness": {
         "value": 0.8
        },
        "roughnessMap": {
         "value": null
        },
        "spotLights": {
         "value": []
        },
        "spotShadowMap": {
         "value": []
        },
        "spotShadowMatrix": {
         "value": []
        },
        "uvTransform": {
         "type": "m3",
         "value": [
          1,
          0,
          0,
          0,
          1,
          0,
          0,
          0,
          1
         ]
        }
       },
       "vertexShader": "#define PHYSICAL\nvarying vec3 vViewPosition;\n#ifndef FLAT_SHADED\n\tvarying vec3 vNormal;\n#endif\n#include <common>\n#include <uv_pars_vertex>\n#include <uv2_pars_vertex>\n#include <displacementmap_pars_vertex>\n#include <color_pars_vertex>\n#include <fog_pars_vertex>\n#include <morphtarget_pars_vertex>\n#include <skinning_pars_vertex>\n#include <shadowmap_pars_vertex>\n#include <logdepthbuf_pars_vertex>\n#include <clipping_planes_pars_vertex>\nvoid main() {\n\t#include <uv_vertex>\n\t#include <uv2_vertex>\n\t#include <color_vertex>\n\t#include <beginnormal_vertex>\n\t#include <morphnormal_vertex>\n\t#include <skinbase_vertex>\n\t#include <skinnormal_vertex>\n\t#include <defaultnormal_vertex>\n#ifndef FLAT_SHADED\n\tvNormal = normalize( transformedNormal );\n#endif\n\t#include <begin_vertex>\n\t#include <morphtarget_vertex>\n\t#include <skinning_vertex>\n\t#include <displacementmap_vertex>\n\t#include <project_vertex>\n\t#include <logdepthbuf_vertex>\n\t#include <clipping_planes_vertex>\n\tvViewPosition = - mvPosition.xyz;\n\t#include <worldpos_vertex>\n\t#include <shadowmap_vertex>\n\t#include <fog_vertex>\n}\n"
      }
     },
     "314c91e06355489d83a1d49a780d7c63": {
      "model_module": "jupyter-threejs",
      "model_module_version": "^2.1.0",
      "model_name": "AmbientLightModel",
      "state": {
       "_view_module": null,
       "_view_module_version": ""
      }
     },
     "316d18dcca154d9f93f1258a7b26dffc": {
      "model_module": "@jupyter-widgets/base",
      "model_module_version": "1.2.0",
      "model_name": "LayoutModel",
      "state": {}
     },
     "31b6d919182147ff84a09600874da348": {
      "model_module": "@jupyter-widgets/controls",
      "model_module_version": "1.5.0",
      "model_name": "FloatSliderModel",
      "state": {
       "continuous_update": false,
       "layout": "IPY_MODEL_51a98b264ae6413e9b8f327b9f7ca39a",
       "max": 6.420000131999999,
       "min": -6.955000143,
       "step": 0.01,
       "style": "IPY_MODEL_63e7e35c580c4e9b90b718b592dd862b",
       "value": 6.420000131999999
      }
     },
     "31e061215e384b019eadb67af5f933ed": {
      "model_module": "jupyter-threejs",
      "model_module_version": "^2.1.0",
      "model_name": "DirectionalLightModel",
      "state": {
       "_view_module": null,
       "_view_module_version": "",
       "color": "white",
       "intensity": 0.12,
       "matrixWorldNeedsUpdate": true,
       "position": [
        3.334666769558863,
        -3.334666769558863,
        -3.334666769558863
       ],
       "shadow": "IPY_MODEL_9f810a39-7b3a-4ef6-b7d6-dc671e942eb2",
       "target": "IPY_MODEL_571899b6-11ce-4568-aeab-0d91c392e770"
      }
     },
     "31e78e3dc52d475cae8c4bc63e0ac554": {
      "model_module": "jupyter-threejs",
      "model_module_version": "^2.1.0",
      "model_name": "AmbientLightModel",
      "state": {
       "_view_module": null,
       "_view_module_version": ""
      }
     },
     "320cf3ae150149e9ac91b276a185fb79": {
      "model_module": "@jupyter-widgets/controls",
      "model_module_version": "1.5.0",
      "model_name": "VBoxModel",
      "state": {
       "children": [
        "IPY_MODEL_c6b08a5d50e64aefb2e6699cfe40d7b0",
        "IPY_MODEL_d9702817042a41fabfc22514dd9eb2a2"
       ],
       "layout": "IPY_MODEL_42ab6447b86f4b65a79919eec9d5d187"
      }
     },
     "32550015149a4b08a9140aaf9d4f6edb": {
      "model_module": "@jupyter-widgets/controls",
      "model_module_version": "1.5.0",
      "model_name": "DescriptionStyleModel",
      "state": {
       "description_width": ""
      }
     },
     "325560bfa09f4aa8953a7378cc08e3ce": {
      "model_module": "jupyter-threejs",
      "model_module_version": "^2.1.0",
      "model_name": "BufferGeometryModel",
      "state": {
       "_view_module": null,
       "_view_module_version": "",
       "attributes": {
        "index": "IPY_MODEL_e6a6f2373f7a43d1a614aaa506681831",
        "normal": "IPY_MODEL_0ca62f98a1424ac6b19835805a5ace17",
        "position": "IPY_MODEL_2d83baa02b064277aea28f0fe36f7bf9"
       }
      }
     },
     "328a174f-d957-4f4d-893e-7a4ab1eaef75": {
      "model_module": "jupyter-threejs",
      "model_module_version": "^2.1.0",
      "model_name": "Object3DModel",
      "state": {}
     },
     "329d76672b8f4ab39023a33c2e24c020": {
      "model_module": "@jupyter-widgets/base",
      "model_module_version": "1.2.0",
      "model_name": "LayoutModel",
      "state": {
       "margin": "0px 10px 0px 0px"
      }
     },
     "32a90500826346758f83e6ffef374a9f": {
      "model_module": "jupyter-threejs",
      "model_module_version": "^2.1.0",
      "model_name": "DirectionalLightModel",
      "state": {
       "_view_module": null,
       "_view_module_version": "",
       "color": "white",
       "intensity": 0.12,
       "matrixWorldNeedsUpdate": true,
       "position": [
        3.3346667695588637,
        -3.3346667695588637,
        3.3346667695588637
       ],
       "shadow": "IPY_MODEL_9e784c10-9f04-4425-bfd0-786255caf9a8",
       "target": "IPY_MODEL_78deb4cc-1079-4a8b-8e17-b2ed3d32035a"
      }
     },
     "32aff3a8d2ed4592b3742715e4448913": {
      "model_module": "jupyter-threejs",
      "model_module_version": "^2.1.0",
      "model_name": "PlaneModel",
      "state": {
       "_view_module": null,
       "_view_module_version": "",
       "constant": 1.2000000000000002,
       "normal": [
        0,
        1,
        0
       ]
      }
     },
     "32e85645ca0549f087ab51470b2a47cc": {
      "model_module": "@jupyter-widgets/controls",
      "model_module_version": "1.5.0",
      "model_name": "HTMLModel",
      "state": {
       "_dom_classes": [
        "scroll-area",
        "mac-scrollbar"
       ],
       "layout": "IPY_MODEL_7726dc9166784ba6a998c049ddcb554f",
       "style": "IPY_MODEL_1d2beb0bd3674207ab6dcf1910d24027",
       "value": "<table style=\"display: block; overflow-x: visible; white-space: nowrap;\"><tr style=\"vertical-align: text-top;\"><td><pre style=\"color: #aaa; white-space: nowrap\">[ 0]</pre></td><td>\n        <b>Rendering done</b>\n        <table>\n            <tr class=\"small_table\" >                      <td>Tick size</td>  <td>1.0 mm</td> </tr>\n            <tr class=\"small_table\" style=\"color: red;\">   <td>X-Axis</td>     <td>Red</td>    </tr>\n            <tr class=\"small_table\" style=\"color: green;\"> <td>Y-Axis</td>     <td>Green</td>  </tr>\n            <tr class=\"small_table\" style=\"color: blue;\">  <td>Z-Axis</td>     <td>Blue</td>   </tr>\n        </table>\n        </td></tr></table>"
      }
     },
     "3300dee9-3d05-4ead-bb95-b54ac4286ace": {
      "model_module": "jupyter-threejs",
      "model_module_version": "^2.1.0",
      "model_name": "Object3DModel",
      "state": {}
     },
     "33047f1ea3644d87a7e44b8cb161bc93": {
      "model_module": "jupyter-threejs",
      "model_module_version": "^2.1.0",
      "model_name": "DirectionalLightModel",
      "state": {
       "_view_module": null,
       "_view_module_version": "",
       "color": "white",
       "intensity": 0.12,
       "matrixWorldNeedsUpdate": true,
       "position": [
        8.278436197374486,
        -8.278436197374486,
        -8.278436197374486
       ],
       "shadow": "IPY_MODEL_70719aa7-0413-4504-9553-f7becf9dc3bd",
       "target": "IPY_MODEL_8205c326-182c-4f63-a3a9-24f77cb60055"
      }
     },
     "334f449b7d7845d6ad46012fcebbf8db": {
      "model_module": "@jupyter-widgets/controls",
      "model_module_version": "1.5.0",
      "model_name": "VBoxModel",
      "state": {
       "children": [
        "IPY_MODEL_284d6be5ef444f68a9b0dd5f261e50a8",
        "IPY_MODEL_44f00eb7c29b48fe89d9813330b3d5fa",
        "IPY_MODEL_8e795e78599d43af9cff9ab485145052",
        "IPY_MODEL_85cf24775a634087b2937378182d27f4",
        "IPY_MODEL_364d3378e6ec4317a31d0de820daa2e6",
        "IPY_MODEL_23acfaa05db649cd8ae5fab81f199a76"
       ],
       "layout": "IPY_MODEL_1b97ce1deae84d0ab4e052e2ac3c2f76"
      }
     },
     "33649f4a7df1418e8e9ec33cf25ccaa5": {
      "model_module": "jupyter-threejs",
      "model_module_version": "^2.1.0",
      "model_name": "MeshModel",
      "state": {
       "_view_module": null,
       "_view_module_version": "",
       "geometry": "IPY_MODEL_e4169e50d81f4920afb0c7e3a2420fa6",
       "material": "IPY_MODEL_31213aef968e4b59a2da88a86cac60be",
       "morphTargetInfluences": [],
       "name": "mesh_2"
      }
     },
     "33b47a707adf4b9789ac0d5879791b2d": {
      "model_module": "jupyter-threejs",
      "model_module_version": "^2.1.0",
      "model_name": "LineSegments2Model",
      "state": {
       "_view_module": null,
       "_view_module_version": "",
       "geometry": "IPY_MODEL_dbdc56d337fd46888660644ba3a270ad",
       "material": "IPY_MODEL_d901969e4f0a4d74b445c66998191b25",
       "morphTargetInfluences": [],
       "name": "edges_2"
      }
     },
     "342598566f494eec9ca6f1f1bf7e0067": {
      "buffers": [
       {
        "data": "AACAPwAAAAAAAACAAACAPwAAAAAAAACAAACAPwAAAAAAAACAAACAPwAAAAAAAACAAAAAgAAAgL8AAACAAAAAgAAAgL8AAACAAAAAgAAAgL8AAACAAAAAgAAAgL8AAACAAAAAgAAAgL8AAACA8wQ1PwAAAADzBDU/8wQ1PwAAAADzBDU/8wQ1PwAAAADzBDU/8wQ1PwAAAADzBDU/AAAAgAAAAIAAAIC/AAAAgAAAAIAAAIC/AAAAgAAAAIAAAIC/AAAAgAAAAIAAAIC/AAAAAAAAgD8AAAAAAAAAAAAAgD8AAAAAAAAAAAAAgD8AAAAAAAAAAAAAgD8AAAAAAAAAAAAAgD8AAAAAAAAAAAAAAAAAAIA/AAAAAAAAAAAAAIA/AAAAAAAAAAAAAIA/AAAAAAAAAAAAAIA/AACAvwAAAIAAAAAAAACAvwAAAIAAAAAAAACAvwAAAIAAAAAAAACAvwAAAIAAAAAA",
        "encoding": "base64",
        "path": [
         "array",
         "buffer"
        ]
       }
      ],
      "model_module": "jupyter-threejs",
      "model_module_version": "^2.1.0",
      "model_name": "BufferAttributeModel",
      "state": {
       "_view_module": null,
       "_view_module_version": "",
       "array": {
        "dtype": "float32",
        "shape": [
         30,
         3
        ]
       },
       "normalized": true,
       "version": 2
      }
     },
     "342fff4f074a4f5fa458b12f13ccffbc": {
      "model_module": "@jupyter-widgets/controls",
      "model_module_version": "1.5.0",
      "model_name": "SliderStyleModel",
      "state": {
       "description_width": ""
      }
     },
     "34f80041-442c-49db-a782-596f8110cb54": {
      "model_module": "jupyter-threejs",
      "model_module_version": "^2.1.0",
      "model_name": "DirectionalLightShadowModel",
      "state": {
       "camera": "IPY_MODEL_c504f9ae-f4f8-4b10-8012-739e0453362c"
      }
     },
     "354727f7154e4d52945b0f37a7f4d86f": {
      "model_module": "jupyter-threejs",
      "model_module_version": "^2.1.0",
      "model_name": "DirectionalLightModel",
      "state": {
       "_view_module": null,
       "_view_module_version": "",
       "color": "white",
       "intensity": 0.12,
       "matrixWorldNeedsUpdate": true,
       "position": [
        -8.278436197374486,
        -8.278436197374486,
        8.278436197374486
       ],
       "shadow": "IPY_MODEL_172a1a79-4729-41ee-bb68-0b409c2b27a3",
       "target": "IPY_MODEL_43ce3eb8-9553-4297-aabc-135f55378764"
      }
     },
     "3549e647e8fb49eeb7a771b96b84e8f1": {
      "model_module": "@jupyter-widgets/controls",
      "model_module_version": "1.5.0",
      "model_name": "SliderStyleModel",
      "state": {
       "description_width": ""
      }
     },
     "359a155f73eb41eeafc3dc4dc023363a": {
      "model_module": "@jupyter-widgets/controls",
      "model_module_version": "1.5.0",
      "model_name": "SliderStyleModel",
      "state": {
       "description_width": ""
      }
     },
     "35b837e7-5ad2-42ae-9bda-2e35c40de5ae": {
      "model_module": "jupyter-threejs",
      "model_module_version": "^2.1.0",
      "model_name": "Object3DModel",
      "state": {}
     },
     "3609c68073b94b89bbc3acb3195468f3": {
      "model_module": "@jupyter-widgets/base",
      "model_module_version": "1.2.0",
      "model_name": "LayoutModel",
      "state": {}
     },
     "364d3378e6ec4317a31d0de820daa2e6": {
      "model_module": "@jupyter-widgets/controls",
      "model_module_version": "1.5.0",
      "model_name": "HBoxModel",
      "state": {
       "children": [
        "IPY_MODEL_1b80ee1174bd41bbb6f91a9aa0634f44",
        "IPY_MODEL_ff1a95c8fbeb4e0f94bafd3103d6c766"
       ],
       "layout": "IPY_MODEL_45a8e1eeabcb4bf48fc22f5aa7eb69c7"
      }
     },
     "365ae190cc524de3a050f4d76346775c": {
      "model_module": "@jupyter-widgets/base",
      "model_module_version": "1.2.0",
      "model_name": "LayoutModel",
      "state": {}
     },
     "36a90afe5dad47c68e01d869d9a569eb": {
      "model_module": "jupyter_cadquery",
      "model_module_version": "^v1.0.0",
      "model_name": "ImageButtonModel",
      "state": {
       "_dom_classes": [
        "view_button"
       ],
       "_model_module_version": "^v1.0.0",
       "_view_module_version": "^v1.0.0",
       "height": "28",
       "layout": "IPY_MODEL_04ff7353bbda4de28e5b0b847fd6dde4",
       "style": "IPY_MODEL_fbdb0f7768f542ebb98780aa63348559",
       "tooltip": "Set clipping plane",
       "type": "1",
       "value": {},
       "width": "36"
      }
     },
     "36c20bcaad984bae9437005219c9454c": {
      "model_module": "@jupyter-widgets/controls",
      "model_module_version": "1.5.0",
      "model_name": "ButtonStyleModel",
      "state": {}
     },
     "36cc1f1277f8456283503b30cef25ac1": {
      "model_module": "@jupyter-widgets/base",
      "model_module_version": "1.2.0",
      "model_name": "LayoutModel",
      "state": {}
     },
     "36cc318b6fcf45d883f94c66cfe09d64": {
      "model_module": "@jupyter-widgets/controls",
      "model_module_version": "1.5.0",
      "model_name": "CheckboxModel",
      "state": {
       "_dom_classes": [
        "view_grid"
       ],
       "description": "Grid",
       "disabled": false,
       "indent": false,
       "layout": "IPY_MODEL_c17c1906449d42e5b335b50dad364a8e",
       "style": "IPY_MODEL_140b2d9481a249e993fb2919558c6c1d",
       "value": false
      }
     },
     "374d727c217f4d7a809808c32395f912": {
      "model_module": "@jupyter-widgets/base",
      "model_module_version": "1.2.0",
      "model_name": "LayoutModel",
      "state": {}
     },
     "375ac6b8060e4ddf8de62b6380befb97": {
      "model_module": "jupyter-threejs",
      "model_module_version": "^2.1.0",
      "model_name": "LineSegments2Model",
      "state": {
       "_view_module": null,
       "_view_module_version": "",
       "geometry": "IPY_MODEL_bfadfcc2d3a142df991d72ee33cbb4ce",
       "material": "IPY_MODEL_2a293b206f6f40cabb888f3cc3484ff7",
       "morphTargetInfluences": [],
       "name": "edges_3"
      }
     },
     "3772e9c2b92349f2b445097c26ac860f": {
      "model_module": "@jupyter-widgets/controls",
      "model_module_version": "1.5.0",
      "model_name": "HBoxModel",
      "state": {
       "children": [
        "IPY_MODEL_9dfc19fa30044ccfa2ee86400b83983b",
        "IPY_MODEL_90714d85b9274b82b348dadd2caf3b00",
        "IPY_MODEL_90ffdc922c7c420ab15161a43ea60af2",
        "IPY_MODEL_bfb708e017f3463cb4d4460a53de49d6"
       ],
       "layout": "IPY_MODEL_f3dbafce49ff4d7fa4a447563c865dea"
      }
     },
     "37aceded30a64e9e8430d2448784de0f": {
      "model_module": "jupyter-threejs",
      "model_module_version": "^2.1.0",
      "model_name": "DirectionalLightModel",
      "state": {
       "_view_module": null,
       "_view_module_version": "",
       "color": "white",
       "intensity": 0.12,
       "matrixWorldNeedsUpdate": true,
       "position": [
        8.278436197374486,
        -8.278436197374486,
        -8.278436197374486
       ],
       "shadow": "IPY_MODEL_3e944aed-bf1c-4297-bf40-f974e3b6c7f3",
       "target": "IPY_MODEL_c01eb3f7-2ee8-49d7-9a90-22b62f9faba1"
      }
     },
     "37ad02fce886417da6c0ba35b8cc69c7": {
      "buffers": [
       {
        "data": "AAAAAAAAAAAAAIA/AAAAAAAAAAAAAIA/AAAAAAAAAAAAAIA/AAAAAAAAAAAAAIA/",
        "encoding": "base64",
        "path": [
         "array",
         "buffer"
        ]
       }
      ],
      "model_module": "jupyter-threejs",
      "model_module_version": "^2.1.0",
      "model_name": "BufferAttributeModel",
      "state": {
       "_view_module": null,
       "_view_module_version": "",
       "array": {
        "dtype": "float32",
        "shape": [
         4,
         3
        ]
       },
       "normalized": true,
       "version": 2
      }
     },
     "37b39fca6d7743fb90942529c7fc1fdd": {
      "model_module": "jupyter-threejs",
      "model_module_version": "^2.1.0",
      "model_name": "DirectionalLightModel",
      "state": {
       "_view_module": null,
       "_view_module_version": "",
       "color": "white",
       "intensity": 0.12,
       "matrixWorldNeedsUpdate": true,
       "position": [
        -4.34281039328222,
        4.34281039328222,
        4.34281039328222
       ],
       "shadow": "IPY_MODEL_f5b66d3b-0eb0-4441-a467-fad053af3ba8",
       "target": "IPY_MODEL_8fac53a8-5bcd-47b1-8e0f-a1f19c66f80c"
      }
     },
     "37c47c8801974bbc8944b5584ec74cd9": {
      "model_module": "@jupyter-widgets/controls",
      "model_module_version": "1.5.0",
      "model_name": "CheckboxModel",
      "state": {
       "_dom_classes": [
        "view_ortho"
       ],
       "description": "Ortho",
       "disabled": false,
       "indent": false,
       "layout": "IPY_MODEL_d3b5563083124d7595390debeaf1d8fd",
       "style": "IPY_MODEL_efb05bc4feaa4e40ad0f8c4e3bb08da0",
       "value": true
      }
     },
     "37d094cf35fc4b05883e325f4ecc647d": {
      "model_module": "jupyter_cadquery",
      "model_module_version": "^v1.0.0",
      "model_name": "ImageButtonModel",
      "state": {
       "_dom_classes": [
        "view_button"
       ],
       "_model_module_version": "^v1.0.0",
       "_view_module_version": "^v1.0.0",
       "height": "28",
       "layout": "IPY_MODEL_486eb2e3699148c385561f81929067da",
       "style": "IPY_MODEL_f123f271c04045beb03aa81aa2c4ba0e",
       "tooltip": "Change view to rear",
       "type": "rear",
       "value": {},
       "width": "36"
      }
     },
     "37fce5536dd34f2d9d5e4ebaf3ae86ff": {
      "model_module": "@jupyter-widgets/base",
      "model_module_version": "1.2.0",
      "model_name": "LayoutModel",
      "state": {}
     },
     "382f5fab23a640b286153425980d5931": {
      "model_module": "@jupyter-widgets/base",
      "model_module_version": "1.2.0",
      "model_name": "LayoutModel",
      "state": {}
     },
     "38477dbb01a94b2da1051e8ab35f08e7": {
      "model_module": "@jupyter-widgets/controls",
      "model_module_version": "1.5.0",
      "model_name": "ButtonStyleModel",
      "state": {}
     },
     "384d87db8410478e999f77cc1a6be8ac": {
      "buffers": [
       {
        "data": "AAAAAAAAAAAAAAAAAAAAAAvXE0AAAAAA",
        "encoding": "base64",
        "path": [
         "positions",
         "buffer"
        ]
       }
      ],
      "model_module": "jupyter-threejs",
      "model_module_version": "^2.1.0",
      "model_name": "LineSegmentsGeometryModel",
      "state": {
       "_view_module": null,
       "_view_module_version": "",
       "positions": {
        "dtype": "float32",
        "shape": [
         1,
         2,
         3
        ]
       }
      }
     },
     "3851e3bc82ee4812825a973096553b6e": {
      "buffers": [
       {
        "data": "AAAAQDMzcz8AAJhAAAAAQDMzcz/NzKRAAAAAQDMzcz/NzKRAAAAAQGZmhj/NzKRAAAAAQDMzcz8AAJhAAAAAQGZmhj8AAJhAAAAAQGZmhj8AAJhAAAAAQGZmhj/NzKRAAAAAQDMzcz/NzKRAMzPzPzMzcz8AAKhAAAAAADMzcz8AAJhAAAAAQDMzcz8AAJhAAAAAADMzcz8AAKhAMzPzPzMzcz8AAKhAAAAAADMzcz8AAJhAAAAAADMzcz8AAKhAMzPzPzMzcz8AAKhAMzPzP2Zmhj8AAKhAAAAAQGZmhj/NzKRAMzPzP2Zmhj8AAKhAAAAAADMzcz8AAJhAAAAAAGZmhj8AAJhAAAAAAGZmhj8AAJhAAAAAQGZmhj8AAJhAAAAAAGZmhj8AAKhAMzPzP2Zmhj8AAKhAAAAAAGZmhj8AAJhAAAAAAGZmhj8AAKhAAAAAADMzcz8AAKhAAAAAAGZmhj8AAKhA",
        "encoding": "base64",
        "path": [
         "positions",
         "buffer"
        ]
       }
      ],
      "model_module": "jupyter-threejs",
      "model_module_version": "^2.1.0",
      "model_name": "LineSegmentsGeometryModel",
      "state": {
       "_view_module": null,
       "_view_module_version": "",
       "positions": {
        "dtype": "float32",
        "shape": [
         15,
         2,
         3
        ]
       }
      }
     },
     "385ac7628af54bc99e4bb11ad8b641d2": {
      "model_module": "@jupyter-widgets/controls",
      "model_module_version": "1.5.0",
      "model_name": "ButtonStyleModel",
      "state": {}
     },
     "386bf27758cf423a97bc2cc1d5f45399": {
      "model_module": "jupyter-threejs",
      "model_module_version": "^2.1.0",
      "model_name": "LineSegments2Model",
      "state": {
       "_view_module": null,
       "_view_module_version": "",
       "geometry": "IPY_MODEL_d1d683a9953b44edbab7be3a473d73d1",
       "material": "IPY_MODEL_3f11df8594924087b293d4d8eb7dd9b7",
       "morphTargetInfluences": [],
       "visible": false
      }
     },
     "38a877d2e5044c2bbaa2758f92582e80": {
      "model_module": "@jupyter-widgets/base",
      "model_module_version": "1.2.0",
      "model_name": "LayoutModel",
      "state": {}
     },
     "38aebf5fd4ed4cbf9dfef4a6e6ca4892": {
      "model_module": "@jupyter-widgets/controls",
      "model_module_version": "1.5.0",
      "model_name": "CheckboxModel",
      "state": {
       "_dom_classes": [
        "view_transparent",
        "indent"
       ],
       "description": "Transparency",
       "disabled": false,
       "indent": false,
       "layout": "IPY_MODEL_f8debb50815f46129856e2491aa5285d",
       "style": "IPY_MODEL_8409dc539bd74861b54c639369069246",
       "value": false
      }
     },
     "38c1ff55-e3ed-418c-b801-d767e63413fe": {
      "model_module": "jupyter-threejs",
      "model_module_version": "^2.1.0",
      "model_name": "Object3DModel",
      "state": {}
     },
     "38fa59095ca646d8a207457414633ec7": {
      "model_module": "jupyter-threejs",
      "model_module_version": "^2.1.0",
      "model_name": "LineSegments2Model",
      "state": {
       "_view_module": null,
       "_view_module_version": "",
       "geometry": "IPY_MODEL_0dd333480b9f4c4ab8f2918d0a9d5c89",
       "material": "IPY_MODEL_2f6dbff227be45abae4feb2896f58d85",
       "matrix": [
        1,
        0,
        0,
        0,
        0,
        1,
        0,
        0,
        0,
        0,
        1,
        0,
        0.9999999999999999,
        -0.75,
        2.125,
        1
       ],
       "morphTargetInfluences": [],
       "position": [
        0.9999999999999999,
        -0.75,
        2.125
       ],
       "visible": false
      }
     },
     "38ffd8c2442b421680e9ea20ed716a24": {
      "model_module": "jupyter-threejs",
      "model_module_version": "^2.1.0",
      "model_name": "DirectionalLightModel",
      "state": {
       "_view_module": null,
       "_view_module_version": "",
       "color": "white",
       "intensity": 0.12,
       "matrixWorldNeedsUpdate": true,
       "position": [
        -8.278436197374486,
        -8.278436197374486,
        8.278436197374486
       ],
       "shadow": "IPY_MODEL_89e24d3c-63ac-4bac-8c49-2aaf885ef53d",
       "target": "IPY_MODEL_20cb0b4c-993f-4ded-8edd-b594064bef54"
      }
     },
     "3924f83139444615aae412ca4409310b": {
      "model_module": "jupyter_cadquery",
      "model_module_version": "^v1.0.0",
      "model_name": "ImageButtonModel",
      "state": {
       "_dom_classes": [
        "view_button"
       ],
       "_model_module_version": "^v1.0.0",
       "_view_module_version": "^v1.0.0",
       "height": "28",
       "layout": "IPY_MODEL_b0af34dd2aa84b04858ab9e111db4d23",
       "style": "IPY_MODEL_3bc489a9fedb4a5a88d20ebf8628ad1a",
       "tooltip": "Change view to left",
       "type": "left",
       "value": {},
       "width": "36"
      }
     },
     "39a0458aeeb94ac1ad449838f4bac254": {
      "model_module": "@jupyter-widgets/controls",
      "model_module_version": "1.5.0",
      "model_name": "DescriptionStyleModel",
      "state": {
       "description_width": ""
      }
     },
     "39daabc4b2e0487faca8be27502a99ee": {
      "buffers": [
       {
        "data": "AQAAAAAAAAACAAAAAQAAAAIAAAADAAAABQAAAAYAAAAEAAAABQAAAAcAAAAGAAAACAAAAAcAAAAFAAAADAAAAAoAAAAJAAAADAAAAAkAAAALAAAAEAAAAA0AAAAOAAAAEAAAAA8AAAANAAAAEgAAABEAAAATAAAAEgAAABMAAAAUAAAAFQAAABIAAAAUAAAAFwAAABYAAAAYAAAAFwAAABgAAAAZAAAAGwAAABwAAAAaAAAAGwAAAB0AAAAcAAAA",
        "encoding": "base64",
        "path": [
         "array",
         "buffer"
        ]
       }
      ],
      "model_module": "jupyter-threejs",
      "model_module_version": "^2.1.0",
      "model_name": "BufferAttributeModel",
      "state": {
       "_view_module": null,
       "_view_module_version": "",
       "array": {
        "dtype": "uint32",
        "shape": [
         48
        ]
       },
       "normalized": true,
       "version": 2
      }
     },
     "39e4ccd3726740faa37e7065afde5483": {
      "model_module": "@jupyter-widgets/base",
      "model_module_version": "1.2.0",
      "model_name": "LayoutModel",
      "state": {
       "width": "230px"
      }
     },
     "39ecbbf62e23414bb616f773e0106903": {
      "model_module": "@jupyter-widgets/controls",
      "model_module_version": "1.5.0",
      "model_name": "SliderStyleModel",
      "state": {
       "description_width": ""
      }
     },
     "3a504553b4cc44f09c5469bac198330a": {
      "model_module": "@jupyter-widgets/controls",
      "model_module_version": "1.5.0",
      "model_name": "FloatSliderModel",
      "state": {
       "continuous_update": false,
       "layout": "IPY_MODEL_039b2c776ba84b8e8ed18973d9439f06",
       "max": 6.420000131999999,
       "min": -6.955000143,
       "step": 0.01,
       "style": "IPY_MODEL_218e3ac8916644f9a2d028d56266ebeb",
       "value": 6.420000131999999
      }
     },
     "3a80f5cbf3a24bfe822fc7c85bcdd72c": {
      "model_module": "@jupyter-widgets/controls",
      "model_module_version": "1.5.0",
      "model_name": "DescriptionStyleModel",
      "state": {
       "description_width": ""
      }
     },
     "3ab0a4ec243b40d195fc07c98e8f71e6": {
      "model_module": "@jupyter-widgets/base",
      "model_module_version": "1.2.0",
      "model_name": "LayoutModel",
      "state": {}
     },
     "3ba718cced4b43a8980e7d0a5723f499": {
      "model_module": "jupyter-threejs",
      "model_module_version": "^2.1.0",
      "model_name": "ShaderMaterialModel",
      "state": {
       "_view_module": null,
       "_view_module_version": "",
       "clipping": true,
       "fragmentShader": "\n        uniform float alpha;\n        #define PHYSICAL\nuniform vec3 diffuse;\nuniform vec3 emissive;\nuniform float roughness;\nuniform float metalness;\nuniform float opacity;\n#ifndef STANDARD\n\tuniform float clearCoat;\n\tuniform float clearCoatRoughness;\n#endif\nvarying vec3 vViewPosition;\n#ifndef FLAT_SHADED\n\tvarying vec3 vNormal;\n#endif\n#include <common>\n#include <packing>\n#include <dithering_pars_fragment>\n#include <color_pars_fragment>\n#include <uv_pars_fragment>\n#include <uv2_pars_fragment>\n#include <map_pars_fragment>\n#include <alphamap_pars_fragment>\n#include <aomap_pars_fragment>\n#include <lightmap_pars_fragment>\n#include <emissivemap_pars_fragment>\n#include <bsdfs>\n#include <cube_uv_reflection_fragment>\n#include <envmap_pars_fragment>\n#include <envmap_physical_pars_fragment>\n#include <fog_pars_fragment>\n#include <lights_pars_begin>\n#include <lights_physical_pars_fragment>\n#include <shadowmap_pars_fragment>\n#include <bumpmap_pars_fragment>\n#include <normalmap_pars_fragment>\n#include <roughnessmap_pars_fragment>\n#include <metalnessmap_pars_fragment>\n#include <logdepthbuf_pars_fragment>\n#include <clipping_planes_pars_fragment>\nvoid main() {\n\t#include <clipping_planes_fragment>\n\tvec4 diffuseColor = vec4( diffuse, opacity );\n\tReflectedLight reflectedLight = ReflectedLight( vec3( 0.0 ), vec3( 0.0 ), vec3( 0.0 ), vec3( 0.0 ) );\n\tvec3 totalEmissiveRadiance = emissive;\n\t#include <logdepthbuf_fragment>\n\t#include <map_fragment>\n\t#include <color_fragment>\n\t#include <alphamap_fragment>\n\t#include <alphatest_fragment>\n\t#include <roughnessmap_fragment>\n\t#include <metalnessmap_fragment>\n\t#include <normal_fragment_begin>\n\t#include <normal_fragment_maps>\n\t#include <emissivemap_fragment>\n\t#include <lights_physical_fragment>\n\t#include <lights_fragment_begin>\n\t#include <lights_fragment_maps>\n\t#include <lights_fragment_end>\n\t#include <aomap_fragment>\n\tvec3 outgoingLight = reflectedLight.directDiffuse + reflectedLight.indirectDiffuse + reflectedLight.directSpecular + reflectedLight.indirectSpecular + totalEmissiveRadiance;\n\t\n            if ( gl_FrontFacing ) {\n                gl_FragColor = vec4( outgoingLight, alpha * diffuseColor.a );\n            } else {\n                gl_FragColor = vec4( diffuseColor.r, diffuseColor.g, diffuseColor.b, alpha * diffuseColor.a );\n            }\n\t#include <tonemapping_fragment>\n\t#include <encodings_fragment>\n\t#include <fog_fragment>\n\t#include <premultiplied_alpha_fragment>\n\t#include <dithering_fragment>\n}\n",
       "lights": true,
       "polygonOffset": true,
       "polygonOffsetFactor": 1,
       "polygonOffsetUnits": 1,
       "side": "DoubleSide",
       "uniforms": {
        "alpha": {
         "value": 0.7
        },
        "alphaMap": {
         "value": null
        },
        "ambientLightColor": {
         "value": []
        },
        "aoMap": {
         "value": null
        },
        "aoMapIntensity": {
         "value": 1
        },
        "bumpMap": {
         "value": null
        },
        "bumpScale": {
         "value": 1
        },
        "diffuse": {
         "type": "c",
         "value": "#e8b024"
        },
        "directionalLights": {
         "value": []
        },
        "directionalShadowMap": {
         "value": []
        },
        "directionalShadowMatrix": {
         "value": []
        },
        "displacementBias": {
         "value": 0
        },
        "displacementMap": {
         "value": null
        },
        "displacementScale": {
         "value": 1
        },
        "emissive": {
         "type": "c",
         "value": "#000000"
        },
        "emissiveMap": {
         "value": null
        },
        "envMap": {
         "value": null
        },
        "envMapIntensity": {
         "value": 1
        },
        "flipEnvMap": {
         "value": -1
        },
        "fogColor": {
         "type": "c",
         "value": "#ffffff"
        },
        "fogDensity": {
         "value": 0.00025
        },
        "fogFar": {
         "value": 2000
        },
        "fogNear": {
         "value": 1
        },
        "hemisphereLights": {
         "value": []
        },
        "lightMap": {
         "value": null
        },
        "lightMapIntensity": {
         "value": 1
        },
        "map": {
         "value": null
        },
        "maxMipLevel": {
         "value": 0
        },
        "metalness": {
         "value": 0.3
        },
        "metalnessMap": {
         "value": null
        },
        "normalMap": {
         "value": null
        },
        "normalScale": {
         "type": "v2",
         "value": [
          1,
          1
         ]
        },
        "opacity": {
         "value": 1
        },
        "pointLights": {
         "value": []
        },
        "pointShadowMap": {
         "value": []
        },
        "pointShadowMatrix": {
         "value": []
        },
        "rectAreaLights": {
         "value": []
        },
        "reflectivity": {
         "value": 1
        },
        "refractionRatio": {
         "value": 0.98
        },
        "roughness": {
         "value": 0.8
        },
        "roughnessMap": {
         "value": null
        },
        "spotLights": {
         "value": []
        },
        "spotShadowMap": {
         "value": []
        },
        "spotShadowMatrix": {
         "value": []
        },
        "uvTransform": {
         "type": "m3",
         "value": [
          1,
          0,
          0,
          0,
          1,
          0,
          0,
          0,
          1
         ]
        }
       },
       "vertexShader": "#define PHYSICAL\nvarying vec3 vViewPosition;\n#ifndef FLAT_SHADED\n\tvarying vec3 vNormal;\n#endif\n#include <common>\n#include <uv_pars_vertex>\n#include <uv2_pars_vertex>\n#include <displacementmap_pars_vertex>\n#include <color_pars_vertex>\n#include <fog_pars_vertex>\n#include <morphtarget_pars_vertex>\n#include <skinning_pars_vertex>\n#include <shadowmap_pars_vertex>\n#include <logdepthbuf_pars_vertex>\n#include <clipping_planes_pars_vertex>\nvoid main() {\n\t#include <uv_vertex>\n\t#include <uv2_vertex>\n\t#include <color_vertex>\n\t#include <beginnormal_vertex>\n\t#include <morphnormal_vertex>\n\t#include <skinbase_vertex>\n\t#include <skinnormal_vertex>\n\t#include <defaultnormal_vertex>\n#ifndef FLAT_SHADED\n\tvNormal = normalize( transformedNormal );\n#endif\n\t#include <begin_vertex>\n\t#include <morphtarget_vertex>\n\t#include <skinning_vertex>\n\t#include <displacementmap_vertex>\n\t#include <project_vertex>\n\t#include <logdepthbuf_vertex>\n\t#include <clipping_planes_vertex>\n\tvViewPosition = - mvPosition.xyz;\n\t#include <worldpos_vertex>\n\t#include <shadowmap_vertex>\n\t#include <fog_vertex>\n}\n"
      }
     },
     "3bc489a9fedb4a5a88d20ebf8628ad1a": {
      "model_module": "@jupyter-widgets/controls",
      "model_module_version": "1.5.0",
      "model_name": "ButtonStyleModel",
      "state": {}
     },
     "3c0a72f082624392add0ee4af22f0b58": {
      "model_module": "jupyter-threejs",
      "model_module_version": "^2.1.0",
      "model_name": "LineSegments2Model",
      "state": {
       "_view_module": null,
       "_view_module_version": "",
       "geometry": "IPY_MODEL_e3a4c87d1ac7404297c688b9c48d0556",
       "material": "IPY_MODEL_ee0ad881c15d48669e4b11b411f20423",
       "morphTargetInfluences": [],
       "name": "edges_1"
      }
     },
     "3c375f7ab38e4268b8ee96ce061603be": {
      "model_module": "jupyter-threejs",
      "model_module_version": "^2.1.0",
      "model_name": "RendererModel",
      "state": {
       "_antialias": true,
       "_dom_classes": [
        "view_renderer"
       ],
       "_height": 600,
       "_webgl_version": 2,
       "_width": 800,
       "camera": "IPY_MODEL_83593a8dcdb24424905bd9143568fb7d",
       "clippingPlanes": [
        "IPY_MODEL_93ade03ad01744d7bc4eb6e35ea5f8db",
        "IPY_MODEL_7616ffbb94b74e1f8e5e7f5ddbe7a53d",
        "IPY_MODEL_ebe67443d8304962a17ad88ac7e5b0fd"
       ],
       "controls": [
        "IPY_MODEL_b47bb76cc7c44a30b8932039997f2486",
        "IPY_MODEL_151528047d1a4e89b9d338a7ead0d0ed"
       ],
       "layout": "IPY_MODEL_e1173b1ae63d47fdaaec9ae8d55aa00f",
       "localClippingEnabled": true,
       "scene": "IPY_MODEL_843d3fcbcdb74629bdb978a02edf899c",
       "shadowMap": "IPY_MODEL_4b46dc0be397441eb72cc05786767ed5"
      }
     },
     "3c3dd8eaa9bd439f842148e7463dd08f": {
      "buffers": [
       {
        "data": "AAAAQDMzcz8AAJhAAAAAQDMzcz/NzKRAAAAAQGZmhj8AAJhAAAAAQGZmhj/NzKRAAAAAQDMzcz8AAJhAAAAAQDMzcz/NzKRAAAAAADMzcz8AAJhAAAAAADMzcz8AAKhAMzPzPzMzcz8AAKhAAAAAQDMzcz/NzKRAMzPzPzMzcz8AAKhAAAAAQGZmhj/NzKRAMzPzP2Zmhj8AAKhAAAAAADMzcz8AAJhAAAAAAGZmhj8AAJhAAAAAQDMzcz8AAJhAAAAAQGZmhj8AAJhAAAAAQGZmhj8AAJhAAAAAQGZmhj/NzKRAAAAAAGZmhj8AAJhAAAAAAGZmhj8AAKhAMzPzP2Zmhj8AAKhAAAAAAGZmhj8AAKhAMzPzP2Zmhj8AAKhAAAAAADMzcz8AAKhAMzPzPzMzcz8AAKhAAAAAADMzcz8AAJhAAAAAADMzcz8AAKhAAAAAAGZmhj8AAJhAAAAAAGZmhj8AAKhA",
        "encoding": "base64",
        "path": [
         "array",
         "buffer"
        ]
       }
      ],
      "model_module": "jupyter-threejs",
      "model_module_version": "^2.1.0",
      "model_name": "BufferAttributeModel",
      "state": {
       "_view_module": null,
       "_view_module_version": "",
       "array": {
        "dtype": "float32",
        "shape": [
         30,
         3
        ]
       },
       "normalized": true,
       "version": 2
      }
     },
     "3c83244f89324ea09b9d00bc07fa32be": {
      "model_module": "@jupyter-widgets/base",
      "model_module_version": "1.2.0",
      "model_name": "LayoutModel",
      "state": {}
     },
     "3cd284168d4442f0b360b5985fc7e718": {
      "model_module": "@jupyter-widgets/base",
      "model_module_version": "1.2.0",
      "model_name": "LayoutModel",
      "state": {
       "width": "230px"
      }
     },
     "3cd57f688c614ff2808526ede71578c5": {
      "model_module": "@jupyter-widgets/controls",
      "model_module_version": "1.5.0",
      "model_name": "VBoxModel",
      "state": {
       "children": [
        "IPY_MODEL_d6cf7862f53f430c870a7140ddd3f453",
        "IPY_MODEL_bfc0befe282a4307820723502d9cb623"
       ],
       "layout": "IPY_MODEL_08ee09d0a46f41fd80a1a64723af3b99"
      }
     },
     "3d101d79-fc5b-4c28-9301-e2a97a432e18": {
      "model_module": "jupyter-threejs",
      "model_module_version": "^2.1.0",
      "model_name": "OrthographicCameraModel",
      "state": {
       "bottom": -5,
       "far": 500,
       "left": -5,
       "near": 0.5,
       "projectionMatrix": [
        0.2,
        0,
        0,
        0,
        0,
        0.2,
        0,
        0,
        0,
        0,
        -0.004004004004004004,
        0,
        0,
        0,
        -1.002002002002002,
        1
       ],
       "right": 5,
       "top": 5
      }
     },
     "3d9e3979-7d11-4949-94fb-6be59d478dac": {
      "model_module": "jupyter-threejs",
      "model_module_version": "^2.1.0",
      "model_name": "DirectionalLightShadowModel",
      "state": {
       "camera": "IPY_MODEL_b6ee6d61-918c-4e4a-8e6f-2083cf3d3447"
      }
     },
     "3e3010a375c74a8cb48a6bcd8936676c": {
      "model_module": "jupyter-threejs",
      "model_module_version": "^2.1.0",
      "model_name": "ShaderMaterialModel",
      "state": {
       "_view_module": null,
       "_view_module_version": "",
       "clipping": true,
       "fragmentShader": "\n        uniform float alpha;\n        #define PHYSICAL\nuniform vec3 diffuse;\nuniform vec3 emissive;\nuniform float roughness;\nuniform float metalness;\nuniform float opacity;\n#ifndef STANDARD\n\tuniform float clearCoat;\n\tuniform float clearCoatRoughness;\n#endif\nvarying vec3 vViewPosition;\n#ifndef FLAT_SHADED\n\tvarying vec3 vNormal;\n#endif\n#include <common>\n#include <packing>\n#include <dithering_pars_fragment>\n#include <color_pars_fragment>\n#include <uv_pars_fragment>\n#include <uv2_pars_fragment>\n#include <map_pars_fragment>\n#include <alphamap_pars_fragment>\n#include <aomap_pars_fragment>\n#include <lightmap_pars_fragment>\n#include <emissivemap_pars_fragment>\n#include <bsdfs>\n#include <cube_uv_reflection_fragment>\n#include <envmap_pars_fragment>\n#include <envmap_physical_pars_fragment>\n#include <fog_pars_fragment>\n#include <lights_pars_begin>\n#include <lights_physical_pars_fragment>\n#include <shadowmap_pars_fragment>\n#include <bumpmap_pars_fragment>\n#include <normalmap_pars_fragment>\n#include <roughnessmap_pars_fragment>\n#include <metalnessmap_pars_fragment>\n#include <logdepthbuf_pars_fragment>\n#include <clipping_planes_pars_fragment>\nvoid main() {\n\t#include <clipping_planes_fragment>\n\tvec4 diffuseColor = vec4( diffuse, opacity );\n\tReflectedLight reflectedLight = ReflectedLight( vec3( 0.0 ), vec3( 0.0 ), vec3( 0.0 ), vec3( 0.0 ) );\n\tvec3 totalEmissiveRadiance = emissive;\n\t#include <logdepthbuf_fragment>\n\t#include <map_fragment>\n\t#include <color_fragment>\n\t#include <alphamap_fragment>\n\t#include <alphatest_fragment>\n\t#include <roughnessmap_fragment>\n\t#include <metalnessmap_fragment>\n\t#include <normal_fragment_begin>\n\t#include <normal_fragment_maps>\n\t#include <emissivemap_fragment>\n\t#include <lights_physical_fragment>\n\t#include <lights_fragment_begin>\n\t#include <lights_fragment_maps>\n\t#include <lights_fragment_end>\n\t#include <aomap_fragment>\n\tvec3 outgoingLight = reflectedLight.directDiffuse + reflectedLight.indirectDiffuse + reflectedLight.directSpecular + reflectedLight.indirectSpecular + totalEmissiveRadiance;\n\t\n            if ( gl_FrontFacing ) {\n                gl_FragColor = vec4( outgoingLight, alpha * diffuseColor.a );\n            } else {\n                gl_FragColor = vec4( diffuseColor.r, diffuseColor.g, diffuseColor.b, alpha * diffuseColor.a );\n            }\n\t#include <tonemapping_fragment>\n\t#include <encodings_fragment>\n\t#include <fog_fragment>\n\t#include <premultiplied_alpha_fragment>\n\t#include <dithering_fragment>\n}\n",
       "lights": true,
       "polygonOffset": true,
       "polygonOffsetFactor": 1,
       "polygonOffsetUnits": 1,
       "side": "DoubleSide",
       "uniforms": {
        "alpha": {
         "value": 0.7
        },
        "alphaMap": {
         "value": null
        },
        "ambientLightColor": {
         "value": [
          1,
          1,
          1
         ]
        },
        "aoMap": {
         "value": null
        },
        "aoMapIntensity": {
         "value": 1
        },
        "bumpMap": {
         "value": null
        },
        "bumpScale": {
         "value": 1
        },
        "diffuse": {
         "type": "c",
         "value": "#e8b024"
        },
        "directionalLights": {
         "value": [
          {
           "color": 1973790,
           "direction": {
            "x": -0.7195812553708671,
            "y": -0.44803792515677093,
            "z": -0.530532595172156
           },
           "shadow": false,
           "shadowBias": 0,
           "shadowMapSize": {
            "x": 0,
            "y": 0
           },
           "shadowRadius": 1
          },
          {
           "color": 1973790,
           "direction": {
            "x": -0.7195812553708669,
            "y": 0.6615730865186317,
            "z": -0.21100679636707903
           },
           "shadow": false,
           "shadowBias": 0,
           "shadowMapSize": {
            "x": 0,
            "y": 0
           },
           "shadowRadius": 1
          },
          {
           "color": 1973790,
           "direction": {
            "x": 0.3858360838303668,
            "y": -0.3556848093580227,
            "z": -0.8512454597860672
           },
           "shadow": false,
           "shadowBias": 0,
           "shadowMapSize": {
            "x": 0,
            "y": 0
           },
           "shadowRadius": 1
          },
          {
           "color": 1973790,
           "direction": {
            "x": 0.3858360838303667,
            "y": 0.7539262023173797,
            "z": -0.5317196609809902
           },
           "shadow": false,
           "shadowBias": 0,
           "shadowMapSize": {
            "x": 0,
            "y": 0
           },
           "shadowRadius": 1
          },
          {
           "color": 1973790,
           "direction": {
            "x": -0.3858360838303667,
            "y": -0.7539262023173797,
            "z": 0.5317196609809902
           },
           "shadow": false,
           "shadowBias": 0,
           "shadowMapSize": {
            "x": 0,
            "y": 0
           },
           "shadowRadius": 1
          },
          {
           "color": 1973790,
           "direction": {
            "x": -0.3858360838303668,
            "y": 0.3556848093580227,
            "z": 0.8512454597860672
           },
           "shadow": false,
           "shadowBias": 0,
           "shadowMapSize": {
            "x": 0,
            "y": 0
           },
           "shadowRadius": 1
          },
          {
           "color": 1973790,
           "direction": {
            "x": 0.7195812553708669,
            "y": -0.6615730865186317,
            "z": 0.21100679636707903
           },
           "shadow": false,
           "shadowBias": 0,
           "shadowMapSize": {
            "x": 0,
            "y": 0
           },
           "shadowRadius": 1
          },
          {
           "color": 1973790,
           "direction": {
            "x": 0.7195812553708671,
            "y": 0.44803792515677093,
            "z": 0.530532595172156
           },
           "shadow": false,
           "shadowBias": 0,
           "shadowMapSize": {
            "x": 0,
            "y": 0
           },
           "shadowRadius": 1
          }
         ]
        },
        "directionalShadowMap": {
         "value": [
          null,
          null,
          null,
          null,
          null,
          null,
          null,
          null
         ]
        },
        "directionalShadowMatrix": {
         "value": [
          {
           "elements": [
            1,
            0,
            0,
            0,
            0,
            1,
            0,
            0,
            0,
            0,
            1,
            0,
            0,
            0,
            0,
            1
           ]
          },
          {
           "elements": [
            1,
            0,
            0,
            0,
            0,
            1,
            0,
            0,
            0,
            0,
            1,
            0,
            0,
            0,
            0,
            1
           ]
          },
          {
           "elements": [
            1,
            0,
            0,
            0,
            0,
            1,
            0,
            0,
            0,
            0,
            1,
            0,
            0,
            0,
            0,
            1
           ]
          },
          {
           "elements": [
            1,
            0,
            0,
            0,
            0,
            1,
            0,
            0,
            0,
            0,
            1,
            0,
            0,
            0,
            0,
            1
           ]
          },
          {
           "elements": [
            1,
            0,
            0,
            0,
            0,
            1,
            0,
            0,
            0,
            0,
            1,
            0,
            0,
            0,
            0,
            1
           ]
          },
          {
           "elements": [
            1,
            0,
            0,
            0,
            0,
            1,
            0,
            0,
            0,
            0,
            1,
            0,
            0,
            0,
            0,
            1
           ]
          },
          {
           "elements": [
            1,
            0,
            0,
            0,
            0,
            1,
            0,
            0,
            0,
            0,
            1,
            0,
            0,
            0,
            0,
            1
           ]
          },
          {
           "elements": [
            1,
            0,
            0,
            0,
            0,
            1,
            0,
            0,
            0,
            0,
            1,
            0,
            0,
            0,
            0,
            1
           ]
          }
         ]
        },
        "displacementBias": {
         "value": 0
        },
        "displacementMap": {
         "value": null
        },
        "displacementScale": {
         "value": 1
        },
        "emissive": {
         "type": "c",
         "value": "#000000"
        },
        "emissiveMap": {
         "value": null
        },
        "envMap": {
         "value": null
        },
        "envMapIntensity": {
         "value": 1
        },
        "flipEnvMap": {
         "value": -1
        },
        "fogColor": {
         "type": "c",
         "value": "#ffffff"
        },
        "fogDensity": {
         "value": 0.00025
        },
        "fogFar": {
         "value": 2000
        },
        "fogNear": {
         "value": 1
        },
        "hemisphereLights": {
         "value": []
        },
        "lightMap": {
         "value": null
        },
        "lightMapIntensity": {
         "value": 1
        },
        "map": {
         "value": null
        },
        "maxMipLevel": {
         "value": 0
        },
        "metalness": {
         "value": 0.3
        },
        "metalnessMap": {
         "value": null
        },
        "normalMap": {
         "value": null
        },
        "normalScale": {
         "type": "v2",
         "value": [
          1,
          1
         ]
        },
        "opacity": {
         "value": 1
        },
        "pointLights": {
         "value": []
        },
        "pointShadowMap": {
         "value": []
        },
        "pointShadowMatrix": {
         "value": []
        },
        "rectAreaLights": {
         "value": []
        },
        "reflectivity": {
         "value": 1
        },
        "refractionRatio": {
         "value": 0.98
        },
        "roughness": {
         "value": 0.8
        },
        "roughnessMap": {
         "value": null
        },
        "spotLights": {
         "value": []
        },
        "spotShadowMap": {
         "value": []
        },
        "spotShadowMatrix": {
         "value": []
        },
        "uvTransform": {
         "type": "m3",
         "value": [
          1,
          0,
          0,
          0,
          1,
          0,
          0,
          0,
          1
         ]
        }
       },
       "vertexShader": "#define PHYSICAL\nvarying vec3 vViewPosition;\n#ifndef FLAT_SHADED\n\tvarying vec3 vNormal;\n#endif\n#include <common>\n#include <uv_pars_vertex>\n#include <uv2_pars_vertex>\n#include <displacementmap_pars_vertex>\n#include <color_pars_vertex>\n#include <fog_pars_vertex>\n#include <morphtarget_pars_vertex>\n#include <skinning_pars_vertex>\n#include <shadowmap_pars_vertex>\n#include <logdepthbuf_pars_vertex>\n#include <clipping_planes_pars_vertex>\nvoid main() {\n\t#include <uv_vertex>\n\t#include <uv2_vertex>\n\t#include <color_vertex>\n\t#include <beginnormal_vertex>\n\t#include <morphnormal_vertex>\n\t#include <skinbase_vertex>\n\t#include <skinnormal_vertex>\n\t#include <defaultnormal_vertex>\n#ifndef FLAT_SHADED\n\tvNormal = normalize( transformedNormal );\n#endif\n\t#include <begin_vertex>\n\t#include <morphtarget_vertex>\n\t#include <skinning_vertex>\n\t#include <displacementmap_vertex>\n\t#include <project_vertex>\n\t#include <logdepthbuf_vertex>\n\t#include <clipping_planes_vertex>\n\tvViewPosition = - mvPosition.xyz;\n\t#include <worldpos_vertex>\n\t#include <shadowmap_vertex>\n\t#include <fog_vertex>\n}\n"
      }
     },
     "3e622dac324d4c91b3598174ffe5bcba": {
      "model_module": "@jupyter-widgets/base",
      "model_module_version": "1.2.0",
      "model_name": "LayoutModel",
      "state": {
       "width": "230px"
      }
     },
     "3e7f83fe-9451-403f-abe8-63fc0c707ecf": {
      "model_module": "jupyter-threejs",
      "model_module_version": "^2.1.0",
      "model_name": "DirectionalLightShadowModel",
      "state": {
       "camera": "IPY_MODEL_54435c66-17aa-4f0a-88ff-236f0a5f5635"
      }
     },
     "3e944aed-bf1c-4297-bf40-f974e3b6c7f3": {
      "model_module": "jupyter-threejs",
      "model_module_version": "^2.1.0",
      "model_name": "DirectionalLightShadowModel",
      "state": {
       "camera": "IPY_MODEL_09125d17-96d0-4f1e-a46f-79be387f7928"
      }
     },
     "3f11df8594924087b293d4d8eb7dd9b7": {
      "model_module": "jupyter-threejs",
      "model_module_version": "^2.1.0",
      "model_name": "LineMaterialModel",
      "state": {
       "_view_module": null,
       "_view_module_version": "",
       "color": "blue",
       "linewidth": 3
      }
     },
     "3f2752a3a33f49c490588a6ae6378b9a": {
      "model_module": "@jupyter-widgets/base",
      "model_module_version": "1.2.0",
      "model_name": "LayoutModel",
      "state": {}
     },
     "3f2ff2314c534cacb0fcf37098d1bc65": {
      "model_module": "@jupyter-widgets/controls",
      "model_module_version": "1.5.0",
      "model_name": "ButtonStyleModel",
      "state": {}
     },
     "3f343307334e4150866e9101a99e2a0d": {
      "buffers": [
       {
        "data": "AACAPwAAAAAAAACAAACAPwAAAAAAAACAAACAPwAAAAAAAACAAACAPwAAAAAAAACAAAAAAAAAAAAAAIA/AAAAAAAAAAAAAIA/AAAAAAAAAAAAAIA/AAAAAAAAAAAAAIA/AAAAAAAAAAAAAIA/8wQ1P/MENT8AAACA8wQ1P/MENT8AAACA8wQ1P/MENT8AAACA8wQ1P/MENT8AAACAAAAAgAAAgL8AAACAAAAAgAAAgL8AAACAAAAAgAAAgL8AAACAAAAAgAAAgL8AAACAAAAAgAAAAIAAAIC/AAAAgAAAAIAAAIC/AAAAgAAAAIAAAIC/AAAAgAAAAIAAAIC/AAAAgAAAAIAAAIC/AAAAAAAAgD8AAAAAAAAAAAAAgD8AAAAAAAAAAAAAgD8AAAAAAAAAAAAAgD8AAAAAAACAvwAAAIAAAAAAAACAvwAAAIAAAAAAAACAvwAAAIAAAAAAAACAvwAAAIAAAAAA",
        "encoding": "base64",
        "path": [
         "array",
         "buffer"
        ]
       }
      ],
      "model_module": "jupyter-threejs",
      "model_module_version": "^2.1.0",
      "model_name": "BufferAttributeModel",
      "state": {
       "_view_module": null,
       "_view_module_version": "",
       "array": {
        "dtype": "float32",
        "shape": [
         30,
         3
        ]
       },
       "normalized": true,
       "version": 2
      }
     },
     "3f684fc326054af88c3306d7dbad6084": {
      "model_module": "@jupyter-widgets/base",
      "model_module_version": "1.2.0",
      "model_name": "LayoutModel",
      "state": {}
     },
     "3fb5703b78144c07ab3fc0c53364a7ce": {
      "model_module": "jupyter_cadquery",
      "model_module_version": "^v1.0.0",
      "model_name": "ImageButtonModel",
      "state": {
       "_dom_classes": [
        "view_button"
       ],
       "_model_module_version": "^v1.0.0",
       "_view_module_version": "^v1.0.0",
       "height": "28",
       "layout": "IPY_MODEL_da696b3290464ec4914540aa2aa7b0c3",
       "style": "IPY_MODEL_e1f807bcb2fc418ab4c555837d37ded5",
       "tooltip": "Set clipping plane",
       "type": "1",
       "value": {},
       "width": "36"
      }
     },
     "400eed3d0f3d4abca3b084ea0c78f1e3": {
      "model_module": "jupyter_cadquery",
      "model_module_version": "^v1.0.0",
      "model_name": "ImageButtonModel",
      "state": {
       "_dom_classes": [
        "view_button"
       ],
       "_model_module_version": "^v1.0.0",
       "_view_module_version": "^v1.0.0",
       "height": "28",
       "layout": "IPY_MODEL_ce3a3abba95546dc91b10ff71ec1bb5d",
       "style": "IPY_MODEL_9151bb1365af45e3adf25a6c4ca31c22",
       "tooltip": "Change view to right",
       "type": "right",
       "value": {},
       "width": "36"
      }
     },
     "402c6598240849c3bf67659eefded6c7": {
      "model_module": "@jupyter-widgets/controls",
      "model_module_version": "1.5.0",
      "model_name": "LabelModel",
      "state": {
       "layout": "IPY_MODEL_988481f69c0844b7ba08cfcd745af344",
       "style": "IPY_MODEL_c16948203e31453c91ca3cc13b9383b0",
       "value": "N=( 0.00,  0.00,  1.00)"
      }
     },
     "4075b41ec9914106907b3b0d2aa6490a": {
      "model_module": "jupyter_cadquery",
      "model_module_version": "^v1.0.0",
      "model_name": "ImageButtonModel",
      "state": {
       "_dom_classes": [
        "view_button"
       ],
       "_model_module_version": "^v1.0.0",
       "_view_module_version": "^v1.0.0",
       "height": "28",
       "layout": "IPY_MODEL_0188372ca4cf41d4814a777800eaa123",
       "style": "IPY_MODEL_42349cb95772449198dccabbe88c135d",
       "tooltip": "Change view to right",
       "type": "right",
       "value": {},
       "width": "36"
      }
     },
     "407e9831a3da4c9f843eb8103d402718": {
      "model_module": "@jupyter-widgets/controls",
      "model_module_version": "1.5.0",
      "model_name": "ButtonStyleModel",
      "state": {}
     },
     "40e09d59eecc4e738f2db14762fe70bc": {
      "model_module": "@jupyter-widgets/base",
      "model_module_version": "1.2.0",
      "model_name": "LayoutModel",
      "state": {}
     },
     "40f92a87eb4f44b98c7ff97e9de2a084": {
      "model_module": "@jupyter-widgets/controls",
      "model_module_version": "1.5.0",
      "model_name": "TabModel",
      "state": {
       "_dom_classes": [
        "tab-content-no-padding"
       ],
       "_titles": {
        "0": "Tree",
        "1": "Clipping"
       },
       "children": [
        "IPY_MODEL_b411c250121f44ca926b22ab990cb572",
        "IPY_MODEL_8e62478ba1f2478fa12c42be178d78d7"
       ],
       "layout": "IPY_MODEL_a64ab0666302412d8ef045fe6f731038"
      }
     },
     "411d7bdd746e4e0e9f4dd68180dcfa19": {
      "model_module": "jupyter-threejs",
      "model_module_version": "^2.1.0",
      "model_name": "ShaderMaterialModel",
      "state": {
       "_view_module": null,
       "_view_module_version": "",
       "clipping": true,
       "fragmentShader": "\n        uniform float alpha;\n        #define PHYSICAL\nuniform vec3 diffuse;\nuniform vec3 emissive;\nuniform float roughness;\nuniform float metalness;\nuniform float opacity;\n#ifndef STANDARD\n\tuniform float clearCoat;\n\tuniform float clearCoatRoughness;\n#endif\nvarying vec3 vViewPosition;\n#ifndef FLAT_SHADED\n\tvarying vec3 vNormal;\n#endif\n#include <common>\n#include <packing>\n#include <dithering_pars_fragment>\n#include <color_pars_fragment>\n#include <uv_pars_fragment>\n#include <uv2_pars_fragment>\n#include <map_pars_fragment>\n#include <alphamap_pars_fragment>\n#include <aomap_pars_fragment>\n#include <lightmap_pars_fragment>\n#include <emissivemap_pars_fragment>\n#include <bsdfs>\n#include <cube_uv_reflection_fragment>\n#include <envmap_pars_fragment>\n#include <envmap_physical_pars_fragment>\n#include <fog_pars_fragment>\n#include <lights_pars_begin>\n#include <lights_physical_pars_fragment>\n#include <shadowmap_pars_fragment>\n#include <bumpmap_pars_fragment>\n#include <normalmap_pars_fragment>\n#include <roughnessmap_pars_fragment>\n#include <metalnessmap_pars_fragment>\n#include <logdepthbuf_pars_fragment>\n#include <clipping_planes_pars_fragment>\nvoid main() {\n\t#include <clipping_planes_fragment>\n\tvec4 diffuseColor = vec4( diffuse, opacity );\n\tReflectedLight reflectedLight = ReflectedLight( vec3( 0.0 ), vec3( 0.0 ), vec3( 0.0 ), vec3( 0.0 ) );\n\tvec3 totalEmissiveRadiance = emissive;\n\t#include <logdepthbuf_fragment>\n\t#include <map_fragment>\n\t#include <color_fragment>\n\t#include <alphamap_fragment>\n\t#include <alphatest_fragment>\n\t#include <roughnessmap_fragment>\n\t#include <metalnessmap_fragment>\n\t#include <normal_fragment_begin>\n\t#include <normal_fragment_maps>\n\t#include <emissivemap_fragment>\n\t#include <lights_physical_fragment>\n\t#include <lights_fragment_begin>\n\t#include <lights_fragment_maps>\n\t#include <lights_fragment_end>\n\t#include <aomap_fragment>\n\tvec3 outgoingLight = reflectedLight.directDiffuse + reflectedLight.indirectDiffuse + reflectedLight.directSpecular + reflectedLight.indirectSpecular + totalEmissiveRadiance;\n\t\n            if ( gl_FrontFacing ) {\n                gl_FragColor = vec4( outgoingLight, alpha * diffuseColor.a );\n            } else {\n                gl_FragColor = vec4( diffuseColor.r, diffuseColor.g, diffuseColor.b, alpha * diffuseColor.a );\n            }\n\t#include <tonemapping_fragment>\n\t#include <encodings_fragment>\n\t#include <fog_fragment>\n\t#include <premultiplied_alpha_fragment>\n\t#include <dithering_fragment>\n}\n",
       "lights": true,
       "polygonOffset": true,
       "polygonOffsetFactor": 1,
       "polygonOffsetUnits": 1,
       "side": "DoubleSide",
       "uniforms": {
        "alpha": {
         "value": 0.7
        },
        "alphaMap": {
         "value": null
        },
        "ambientLightColor": {
         "value": []
        },
        "aoMap": {
         "value": null
        },
        "aoMapIntensity": {
         "value": 1
        },
        "bumpMap": {
         "value": null
        },
        "bumpScale": {
         "value": 1
        },
        "diffuse": {
         "type": "c",
         "value": "#e8b024"
        },
        "directionalLights": {
         "value": []
        },
        "directionalShadowMap": {
         "value": []
        },
        "directionalShadowMatrix": {
         "value": []
        },
        "displacementBias": {
         "value": 0
        },
        "displacementMap": {
         "value": null
        },
        "displacementScale": {
         "value": 1
        },
        "emissive": {
         "type": "c",
         "value": "#000000"
        },
        "emissiveMap": {
         "value": null
        },
        "envMap": {
         "value": null
        },
        "envMapIntensity": {
         "value": 1
        },
        "flipEnvMap": {
         "value": -1
        },
        "fogColor": {
         "type": "c",
         "value": "#ffffff"
        },
        "fogDensity": {
         "value": 0.00025
        },
        "fogFar": {
         "value": 2000
        },
        "fogNear": {
         "value": 1
        },
        "hemisphereLights": {
         "value": []
        },
        "lightMap": {
         "value": null
        },
        "lightMapIntensity": {
         "value": 1
        },
        "map": {
         "value": null
        },
        "maxMipLevel": {
         "value": 0
        },
        "metalness": {
         "value": 0.3
        },
        "metalnessMap": {
         "value": null
        },
        "normalMap": {
         "value": null
        },
        "normalScale": {
         "type": "v2",
         "value": [
          1,
          1
         ]
        },
        "opacity": {
         "value": 1
        },
        "pointLights": {
         "value": []
        },
        "pointShadowMap": {
         "value": []
        },
        "pointShadowMatrix": {
         "value": []
        },
        "rectAreaLights": {
         "value": []
        },
        "reflectivity": {
         "value": 1
        },
        "refractionRatio": {
         "value": 0.98
        },
        "roughness": {
         "value": 0.8
        },
        "roughnessMap": {
         "value": null
        },
        "spotLights": {
         "value": []
        },
        "spotShadowMap": {
         "value": []
        },
        "spotShadowMatrix": {
         "value": []
        },
        "uvTransform": {
         "type": "m3",
         "value": [
          1,
          0,
          0,
          0,
          1,
          0,
          0,
          0,
          1
         ]
        }
       },
       "vertexShader": "#define PHYSICAL\nvarying vec3 vViewPosition;\n#ifndef FLAT_SHADED\n\tvarying vec3 vNormal;\n#endif\n#include <common>\n#include <uv_pars_vertex>\n#include <uv2_pars_vertex>\n#include <displacementmap_pars_vertex>\n#include <color_pars_vertex>\n#include <fog_pars_vertex>\n#include <morphtarget_pars_vertex>\n#include <skinning_pars_vertex>\n#include <shadowmap_pars_vertex>\n#include <logdepthbuf_pars_vertex>\n#include <clipping_planes_pars_vertex>\nvoid main() {\n\t#include <uv_vertex>\n\t#include <uv2_vertex>\n\t#include <color_vertex>\n\t#include <beginnormal_vertex>\n\t#include <morphnormal_vertex>\n\t#include <skinbase_vertex>\n\t#include <skinnormal_vertex>\n\t#include <defaultnormal_vertex>\n#ifndef FLAT_SHADED\n\tvNormal = normalize( transformedNormal );\n#endif\n\t#include <begin_vertex>\n\t#include <morphtarget_vertex>\n\t#include <skinning_vertex>\n\t#include <displacementmap_vertex>\n\t#include <project_vertex>\n\t#include <logdepthbuf_vertex>\n\t#include <clipping_planes_vertex>\n\tvViewPosition = - mvPosition.xyz;\n\t#include <worldpos_vertex>\n\t#include <shadowmap_vertex>\n\t#include <fog_vertex>\n}\n"
      }
     },
     "414197b1f6da44f7bb3077e96c8c9b52": {
      "model_module": "jupyter-threejs",
      "model_module_version": "^2.1.0",
      "model_name": "WebGLShadowMapModel",
      "state": {
       "_view_module": null,
       "_view_module_version": ""
      }
     },
     "4156c28ab4d74ec3abf15970d7c021b0": {
      "model_module": "jupyter_cadquery",
      "model_module_version": "^v1.0.0",
      "model_name": "ImageButtonModel",
      "state": {
       "_dom_classes": [
        "view_button"
       ],
       "_model_module_version": "^v1.0.0",
       "_view_module_version": "^v1.0.0",
       "height": "28",
       "layout": "IPY_MODEL_2f820431e4f54baaa11624215107d2f9",
       "style": "IPY_MODEL_b9552d60513d4800bdf8a2c26408e793",
       "tooltip": "Change view to reset",
       "type": "reset",
       "value": {},
       "width": "36"
      }
     },
     "415bc6e7aa3248ceaa26969a568192f5": {
      "model_module": "@jupyter-widgets/base",
      "model_module_version": "1.2.0",
      "model_name": "LayoutModel",
      "state": {}
     },
     "41a3faab400b4e698d462752cbe4386f": {
      "model_module": "jupyter-threejs",
      "model_module_version": "^2.1.0",
      "model_name": "MeshModel",
      "state": {
       "_view_module": null,
       "_view_module_version": "",
       "geometry": "IPY_MODEL_cc1c86ab1c7146f1beb0ae70ae0efbd3",
       "material": "IPY_MODEL_c2b569bb3780441085614fbc81ccef34",
       "morphTargetInfluences": [],
       "name": "mesh_0",
       "visible": false
      }
     },
     "41b08be2-eb48-462a-8be0-74b97c63d462": {
      "model_module": "jupyter-threejs",
      "model_module_version": "^2.1.0",
      "model_name": "Object3DModel",
      "state": {}
     },
     "42135900f60e43a0b2d83787621f66a7": {
      "model_module": "@jupyter-widgets/base",
      "model_module_version": "1.2.0",
      "model_name": "LayoutModel",
      "state": {}
     },
     "4221eeb2596a4383a70abe4cb9e27653": {
      "model_module": "@jupyter-widgets/base",
      "model_module_version": "1.2.0",
      "model_name": "LayoutModel",
      "state": {}
     },
     "42349cb95772449198dccabbe88c135d": {
      "model_module": "@jupyter-widgets/controls",
      "model_module_version": "1.5.0",
      "model_name": "ButtonStyleModel",
      "state": {}
     },
     "42484b8dd5bb4ae585355134fa5dc05b": {
      "model_module": "jupyter-threejs",
      "model_module_version": "^2.1.0",
      "model_name": "MeshModel",
      "state": {
       "_view_module": null,
       "_view_module_version": "",
       "geometry": "IPY_MODEL_abfcc7e3c6de46aaa35211ce3150a59e",
       "material": "IPY_MODEL_64a46ba37fdb448f8edb9f0839d7bd7a",
       "morphTargetInfluences": [],
       "name": "mesh_2"
      }
     },
     "42ab6447b86f4b65a79919eec9d5d187": {
      "model_module": "@jupyter-widgets/base",
      "model_module_version": "1.2.0",
      "model_name": "LayoutModel",
      "state": {}
     },
     "42b049197fc9472d9f30bad56475d625": {
      "model_module": "jupyter-threejs",
      "model_module_version": "^2.1.0",
      "model_name": "DirectionalLightModel",
      "state": {
       "_view_module": null,
       "_view_module_version": "",
       "color": "white",
       "intensity": 0.12,
       "matrixWorldNeedsUpdate": true,
       "position": [
        -3.3346667695588637,
        -3.3346667695588637,
        -3.3346667695588637
       ],
       "shadow": "IPY_MODEL_2db92f7a-bf50-4ead-9d23-07624a4b5661",
       "target": "IPY_MODEL_27ca4dd0-c9d8-4006-bfc9-96caa195fd75"
      }
     },
     "42e0776b-b7f6-4764-b7cd-da3bd47b50b6": {
      "model_module": "jupyter-threejs",
      "model_module_version": "^2.1.0",
      "model_name": "OrthographicCameraModel",
      "state": {
       "bottom": -5,
       "far": 500,
       "left": -5,
       "near": 0.5,
       "projectionMatrix": [
        0.2,
        0,
        0,
        0,
        0,
        0.2,
        0,
        0,
        0,
        0,
        -0.004004004004004004,
        0,
        0,
        0,
        -1.002002002002002,
        1
       ],
       "right": 5,
       "top": 5
      }
     },
     "433c7f60ba914489b5f6eeb9d7b602e9": {
      "model_module": "jupyter-threejs",
      "model_module_version": "^2.1.0",
      "model_name": "BufferGeometryModel",
      "state": {
       "_view_module": null,
       "_view_module_version": "",
       "attributes": {
        "index": "IPY_MODEL_fd7244f84d0949d5adba910185434dc9",
        "normal": "IPY_MODEL_e2a1ca3bd1204bd7b73f646c67d4c63c",
        "position": "IPY_MODEL_2d7afe8731ea4e548b30a4a0729b4736"
       }
      }
     },
     "435d862ccef948f0945758b54a18068f": {
      "model_module": "jupyter-threejs",
      "model_module_version": "^2.1.0",
      "model_name": "DirectionalLightModel",
      "state": {
       "_view_module": null,
       "_view_module_version": "",
       "color": "white",
       "intensity": 0.12,
       "matrixWorldNeedsUpdate": true,
       "position": [
        3.334666769558863,
        3.334666769558863,
        -3.334666769558863
       ],
       "shadow": "IPY_MODEL_90d3d664-9a20-40fb-a9d3-1ef85a9c5833",
       "target": "IPY_MODEL_38c1ff55-e3ed-418c-b801-d767e63413fe"
      }
     },
     "436248b323fd496c8531afc87a35579c": {
      "model_module": "@jupyter-widgets/controls",
      "model_module_version": "1.5.0",
      "model_name": "ButtonStyleModel",
      "state": {}
     },
     "4367641f2a6d42f88e2073c38ec392d7": {
      "buffers": [
       {
        "data": "AAAAAAAAAAAAAAAASeGaPwAAAAAAAAAA",
        "encoding": "base64",
        "path": [
         "positions",
         "buffer"
        ]
       }
      ],
      "model_module": "jupyter-threejs",
      "model_module_version": "^2.1.0",
      "model_name": "LineSegmentsGeometryModel",
      "state": {
       "_view_module": null,
       "_view_module_version": "",
       "positions": {
        "dtype": "float32",
        "shape": [
         1,
         2,
         3
        ]
       }
      }
     },
     "43adbd255a33454e95468a1495534c29": {
      "model_module": "@jupyter-widgets/controls",
      "model_module_version": "1.5.0",
      "model_name": "CheckboxModel",
      "state": {
       "_dom_classes": [
        "view_ortho"
       ],
       "description": "Ortho",
       "disabled": false,
       "indent": false,
       "layout": "IPY_MODEL_4c56036b6cc5437fa057960c05438524",
       "style": "IPY_MODEL_258d83f965704198bb530948d25f852b",
       "value": true
      }
     },
     "43ce3eb8-9553-4297-aabc-135f55378764": {
      "model_module": "jupyter-threejs",
      "model_module_version": "^2.1.0",
      "model_name": "Object3DModel",
      "state": {}
     },
     "43d53931-8a9a-44a2-a263-3738328bef98": {
      "model_module": "jupyter-threejs",
      "model_module_version": "^2.1.0",
      "model_name": "DirectionalLightShadowModel",
      "state": {
       "camera": "IPY_MODEL_ade2f59a-d119-497f-b4ee-54455d892ce2"
      }
     },
     "43f3e379e12648c9b7b5b1b8fe823691": {
      "model_module": "jupyter-threejs",
      "model_module_version": "^2.1.0",
      "model_name": "LineSegments2Model",
      "state": {
       "_view_module": null,
       "_view_module_version": "",
       "geometry": "IPY_MODEL_05c6297fc5ce474a9851dfd441419111",
       "material": "IPY_MODEL_144fca32106143dda9a067c38312c313",
       "morphTargetInfluences": [],
       "name": "edges_1"
      }
     },
     "44b04f94326243c68c5232c1f18d2e7b": {
      "model_module": "@jupyter-widgets/base",
      "model_module_version": "1.2.0",
      "model_name": "LayoutModel",
      "state": {}
     },
     "44d185f608354bb5868ecd792bfd72e6": {
      "model_module": "jupyter-threejs",
      "model_module_version": "^2.1.0",
      "model_name": "DirectionalLightModel",
      "state": {
       "_view_module": null,
       "_view_module_version": "",
       "color": "white",
       "intensity": 0.12,
       "matrixWorldNeedsUpdate": true,
       "position": [
        8.278436197374486,
        -8.278436197374486,
        8.278436197374486
       ],
       "shadow": "IPY_MODEL_34f80041-442c-49db-a782-596f8110cb54",
       "target": "IPY_MODEL_98f19c70-c7ec-4a33-be8b-453acf501db9"
      }
     },
     "44f00eb7c29b48fe89d9813330b3d5fa": {
      "model_module": "@jupyter-widgets/controls",
      "model_module_version": "1.5.0",
      "model_name": "FloatSliderModel",
      "state": {
       "continuous_update": false,
       "layout": "IPY_MODEL_1bdfd46e271b472fa483020be81e7581",
       "max": 2.520000132,
       "min": -2.730000143,
       "step": 0.01,
       "style": "IPY_MODEL_ac49f8b8d64b48dfaef486216c6549f7",
       "value": 2.520000132
      }
     },
     "4525b5dcf53a4e3a952d4a2910f37cdb": {
      "model_module": "@jupyter-widgets/base",
      "model_module_version": "1.2.0",
      "model_name": "LayoutModel",
      "state": {
       "margin": "0px 10px 0px 0px"
      }
     },
     "4584554672ce4786afb354e7b7f1133b": {
      "model_module": "jupyter_cadquery",
      "model_module_version": "^v1.0.0",
      "model_name": "ImageButtonModel",
      "state": {
       "_dom_classes": [
        "view_button"
       ],
       "_model_module_version": "^v1.0.0",
       "_view_module_version": "^v1.0.0",
       "height": "28",
       "layout": "IPY_MODEL_365ae190cc524de3a050f4d76346775c",
       "style": "IPY_MODEL_38477dbb01a94b2da1051e8ab35f08e7",
       "tooltip": "Change view to isometric",
       "type": "isometric",
       "value": {},
       "width": "36"
      }
     },
     "45a8e1eeabcb4bf48fc22f5aa7eb69c7": {
      "model_module": "@jupyter-widgets/base",
      "model_module_version": "1.2.0",
      "model_name": "LayoutModel",
      "state": {}
     },
     "45da0f23f4fb4751843d392828d03f8c": {
      "model_module": "@jupyter-widgets/controls",
      "model_module_version": "1.5.0",
      "model_name": "ButtonStyleModel",
      "state": {}
     },
     "45dbd23587d340cd8060503648e77882": {
      "buffers": [
       {
        "data": "AACAv83MTD0AAIA+ZmZmP83MTD0AAIA+ZmZmP83MTL0AAIA+ZmZmP83MTD0AAIA+AACAv83MTL0AAIA+AACAv83MTD0AAIA+AACAv83MTL0AAIA+ZmZmP83MTL0AAIA+",
        "encoding": "base64",
        "path": [
         "positions",
         "buffer"
        ]
       }
      ],
      "model_module": "jupyter-threejs",
      "model_module_version": "^2.1.0",
      "model_name": "LineSegmentsGeometryModel",
      "state": {
       "_view_module": null,
       "_view_module_version": "",
       "positions": {
        "dtype": "float32",
        "shape": [
         4,
         2,
         3
        ]
       }
      }
     },
     "45fc7b829d26467ea9b7a9e5b140f576": {
      "model_module": "@jupyter-widgets/base",
      "model_module_version": "1.2.0",
      "model_name": "LayoutModel",
      "state": {}
     },
     "468ee433c5fe428ebba282981811c484": {
      "model_module": "@jupyter-widgets/controls",
      "model_module_version": "1.5.0",
      "model_name": "VBoxModel",
      "state": {
       "children": [
        "IPY_MODEL_9aaf6ad1fb2947dbbc737c1e568977ad",
        "IPY_MODEL_a7f01c00fd184a0e89f7971eb3c5efc8",
        "IPY_MODEL_3031ae13cf5049c6ad5d7cf6ff754510"
       ],
       "layout": "IPY_MODEL_04a3886ce69a42b3968292eec8da8d98"
      }
     },
     "46a1af87f35445469c7632184016e83e": {
      "model_module": "jupyter-threejs",
      "model_module_version": "^2.1.0",
      "model_name": "MeshModel",
      "state": {
       "_view_module": null,
       "_view_module_version": "",
       "geometry": "IPY_MODEL_922ffa429760401285a36e72ae098939",
       "material": "IPY_MODEL_25b96d7078324c13bd3f69341f7c45f3",
       "morphTargetInfluences": [],
       "name": "mesh_3"
      }
     },
     "46b23e0ab72a4539afb6b759876cbf7e": {
      "model_module": "jupyter-threejs",
      "model_module_version": "^2.1.0",
      "model_name": "LineMaterialModel",
      "state": {
       "_view_module": null,
       "_view_module_version": "",
       "color": "#808080"
      }
     },
     "46baea1f423243fdaa10df1281dfd534": {
      "model_module": "@jupyter-widgets/base",
      "model_module_version": "1.2.0",
      "model_name": "LayoutModel",
      "state": {}
     },
     "46bb9b576719452694c932dfbf382e03": {
      "buffers": [
       {
        "data": "AAAAAAAAAAAAAAAAC9cTQAAAAAAAAAAA",
        "encoding": "base64",
        "path": [
         "positions",
         "buffer"
        ]
       }
      ],
      "model_module": "jupyter-threejs",
      "model_module_version": "^2.1.0",
      "model_name": "LineSegmentsGeometryModel",
      "state": {
       "_view_module": null,
       "_view_module_version": "",
       "positions": {
        "dtype": "float32",
        "shape": [
         1,
         2,
         3
        ]
       }
      }
     },
     "46d59cb9829348e9a5f5f8e059407066": {
      "model_module": "jupyter-threejs",
      "model_module_version": "^2.1.0",
      "model_name": "ShaderMaterialModel",
      "state": {
       "_view_module": null,
       "_view_module_version": "",
       "clipping": true,
       "fragmentShader": "\n        uniform float alpha;\n        #define PHYSICAL\nuniform vec3 diffuse;\nuniform vec3 emissive;\nuniform float roughness;\nuniform float metalness;\nuniform float opacity;\n#ifndef STANDARD\n\tuniform float clearCoat;\n\tuniform float clearCoatRoughness;\n#endif\nvarying vec3 vViewPosition;\n#ifndef FLAT_SHADED\n\tvarying vec3 vNormal;\n#endif\n#include <common>\n#include <packing>\n#include <dithering_pars_fragment>\n#include <color_pars_fragment>\n#include <uv_pars_fragment>\n#include <uv2_pars_fragment>\n#include <map_pars_fragment>\n#include <alphamap_pars_fragment>\n#include <aomap_pars_fragment>\n#include <lightmap_pars_fragment>\n#include <emissivemap_pars_fragment>\n#include <bsdfs>\n#include <cube_uv_reflection_fragment>\n#include <envmap_pars_fragment>\n#include <envmap_physical_pars_fragment>\n#include <fog_pars_fragment>\n#include <lights_pars_begin>\n#include <lights_physical_pars_fragment>\n#include <shadowmap_pars_fragment>\n#include <bumpmap_pars_fragment>\n#include <normalmap_pars_fragment>\n#include <roughnessmap_pars_fragment>\n#include <metalnessmap_pars_fragment>\n#include <logdepthbuf_pars_fragment>\n#include <clipping_planes_pars_fragment>\nvoid main() {\n\t#include <clipping_planes_fragment>\n\tvec4 diffuseColor = vec4( diffuse, opacity );\n\tReflectedLight reflectedLight = ReflectedLight( vec3( 0.0 ), vec3( 0.0 ), vec3( 0.0 ), vec3( 0.0 ) );\n\tvec3 totalEmissiveRadiance = emissive;\n\t#include <logdepthbuf_fragment>\n\t#include <map_fragment>\n\t#include <color_fragment>\n\t#include <alphamap_fragment>\n\t#include <alphatest_fragment>\n\t#include <roughnessmap_fragment>\n\t#include <metalnessmap_fragment>\n\t#include <normal_fragment_begin>\n\t#include <normal_fragment_maps>\n\t#include <emissivemap_fragment>\n\t#include <lights_physical_fragment>\n\t#include <lights_fragment_begin>\n\t#include <lights_fragment_maps>\n\t#include <lights_fragment_end>\n\t#include <aomap_fragment>\n\tvec3 outgoingLight = reflectedLight.directDiffuse + reflectedLight.indirectDiffuse + reflectedLight.directSpecular + reflectedLight.indirectSpecular + totalEmissiveRadiance;\n\t\n            if ( gl_FrontFacing ) {\n                gl_FragColor = vec4( outgoingLight, alpha * diffuseColor.a );\n            } else {\n                gl_FragColor = vec4( diffuseColor.r, diffuseColor.g, diffuseColor.b, alpha * diffuseColor.a );\n            }\n\t#include <tonemapping_fragment>\n\t#include <encodings_fragment>\n\t#include <fog_fragment>\n\t#include <premultiplied_alpha_fragment>\n\t#include <dithering_fragment>\n}\n",
       "lights": true,
       "polygonOffset": true,
       "polygonOffsetFactor": 1,
       "polygonOffsetUnits": 1,
       "side": "DoubleSide",
       "uniforms": {
        "alpha": {
         "value": 0.7
        },
        "alphaMap": {
         "value": null
        },
        "ambientLightColor": {
         "value": [
          1,
          1,
          1
         ]
        },
        "aoMap": {
         "value": null
        },
        "aoMapIntensity": {
         "value": 1
        },
        "bumpMap": {
         "value": null
        },
        "bumpScale": {
         "value": 1
        },
        "diffuse": {
         "type": "c",
         "value": "#aaaaaa"
        },
        "directionalLights": {
         "value": [
          {
           "color": 1973790,
           "direction": {
            "x": -2.989348615883112e-17,
            "y": 2.4777145706089543e-16,
            "z": -1
           },
           "shadow": false,
           "shadowBias": 0,
           "shadowMapSize": {
            "x": 0,
            "y": 0
           },
           "shadowRadius": 1
          },
          {
           "color": 1973790,
           "direction": {
            "x": -9.399224237161659e-17,
            "y": 0.9428090415820635,
            "z": -0.3333333333333332
           },
           "shadow": false,
           "shadowBias": 0,
           "shadowMapSize": {
            "x": 0,
            "y": 0
           },
           "shadowRadius": 1
          },
          {
           "color": 1973790,
           "direction": {
            "x": 0.8164965809277259,
            "y": -0.4714045207910316,
            "z": -0.3333333333333333
           },
           "shadow": false,
           "shadowBias": 0,
           "shadowMapSize": {
            "x": 0,
            "y": 0
           },
           "shadowRadius": 1
          },
          {
           "color": 1973790,
           "direction": {
            "x": 0.8164965809277259,
            "y": 0.4714045207910316,
            "z": 0.3333333333333333
           },
           "shadow": false,
           "shadowBias": 0,
           "shadowMapSize": {
            "x": 0,
            "y": 0
           },
           "shadowRadius": 1
          },
          {
           "color": 1973790,
           "direction": {
            "x": -0.8164965809277259,
            "y": -0.4714045207910316,
            "z": -0.3333333333333333
           },
           "shadow": false,
           "shadowBias": 0,
           "shadowMapSize": {
            "x": 0,
            "y": 0
           },
           "shadowRadius": 1
          },
          {
           "color": 1973790,
           "direction": {
            "x": -0.8164965809277259,
            "y": 0.4714045207910316,
            "z": 0.3333333333333333
           },
           "shadow": false,
           "shadowBias": 0,
           "shadowMapSize": {
            "x": 0,
            "y": 0
           },
           "shadowRadius": 1
          },
          {
           "color": 1973790,
           "direction": {
            "x": 9.399224237161659e-17,
            "y": -0.9428090415820635,
            "z": 0.3333333333333332
           },
           "shadow": false,
           "shadowBias": 0,
           "shadowMapSize": {
            "x": 0,
            "y": 0
           },
           "shadowRadius": 1
          },
          {
           "color": 1973790,
           "direction": {
            "x": 2.989348615883112e-17,
            "y": -2.4777145706089543e-16,
            "z": 1
           },
           "shadow": false,
           "shadowBias": 0,
           "shadowMapSize": {
            "x": 0,
            "y": 0
           },
           "shadowRadius": 1
          }
         ]
        },
        "directionalShadowMap": {
         "value": [
          null,
          null,
          null,
          null,
          null,
          null,
          null,
          null
         ]
        },
        "directionalShadowMatrix": {
         "value": [
          {
           "elements": [
            1,
            0,
            0,
            0,
            0,
            1,
            0,
            0,
            0,
            0,
            1,
            0,
            0,
            0,
            0,
            1
           ]
          },
          {
           "elements": [
            1,
            0,
            0,
            0,
            0,
            1,
            0,
            0,
            0,
            0,
            1,
            0,
            0,
            0,
            0,
            1
           ]
          },
          {
           "elements": [
            1,
            0,
            0,
            0,
            0,
            1,
            0,
            0,
            0,
            0,
            1,
            0,
            0,
            0,
            0,
            1
           ]
          },
          {
           "elements": [
            1,
            0,
            0,
            0,
            0,
            1,
            0,
            0,
            0,
            0,
            1,
            0,
            0,
            0,
            0,
            1
           ]
          },
          {
           "elements": [
            1,
            0,
            0,
            0,
            0,
            1,
            0,
            0,
            0,
            0,
            1,
            0,
            0,
            0,
            0,
            1
           ]
          },
          {
           "elements": [
            1,
            0,
            0,
            0,
            0,
            1,
            0,
            0,
            0,
            0,
            1,
            0,
            0,
            0,
            0,
            1
           ]
          },
          {
           "elements": [
            1,
            0,
            0,
            0,
            0,
            1,
            0,
            0,
            0,
            0,
            1,
            0,
            0,
            0,
            0,
            1
           ]
          },
          {
           "elements": [
            1,
            0,
            0,
            0,
            0,
            1,
            0,
            0,
            0,
            0,
            1,
            0,
            0,
            0,
            0,
            1
           ]
          }
         ]
        },
        "displacementBias": {
         "value": 0
        },
        "displacementMap": {
         "value": null
        },
        "displacementScale": {
         "value": 1
        },
        "emissive": {
         "type": "c",
         "value": "#000000"
        },
        "emissiveMap": {
         "value": null
        },
        "envMap": {
         "value": null
        },
        "envMapIntensity": {
         "value": 1
        },
        "flipEnvMap": {
         "value": -1
        },
        "fogColor": {
         "type": "c",
         "value": "#ffffff"
        },
        "fogDensity": {
         "value": 0.00025
        },
        "fogFar": {
         "value": 2000
        },
        "fogNear": {
         "value": 1
        },
        "hemisphereLights": {
         "value": []
        },
        "lightMap": {
         "value": null
        },
        "lightMapIntensity": {
         "value": 1
        },
        "map": {
         "value": null
        },
        "maxMipLevel": {
         "value": 0
        },
        "metalness": {
         "value": 0.3
        },
        "metalnessMap": {
         "value": null
        },
        "normalMap": {
         "value": null
        },
        "normalScale": {
         "type": "v2",
         "value": [
          1,
          1
         ]
        },
        "opacity": {
         "value": 1
        },
        "pointLights": {
         "value": []
        },
        "pointShadowMap": {
         "value": []
        },
        "pointShadowMatrix": {
         "value": []
        },
        "rectAreaLights": {
         "value": []
        },
        "reflectivity": {
         "value": 1
        },
        "refractionRatio": {
         "value": 0.98
        },
        "roughness": {
         "value": 0.8
        },
        "roughnessMap": {
         "value": null
        },
        "spotLights": {
         "value": []
        },
        "spotShadowMap": {
         "value": []
        },
        "spotShadowMatrix": {
         "value": []
        },
        "uvTransform": {
         "type": "m3",
         "value": [
          1,
          0,
          0,
          0,
          1,
          0,
          0,
          0,
          1
         ]
        }
       },
       "vertexShader": "#define PHYSICAL\nvarying vec3 vViewPosition;\n#ifndef FLAT_SHADED\n\tvarying vec3 vNormal;\n#endif\n#include <common>\n#include <uv_pars_vertex>\n#include <uv2_pars_vertex>\n#include <displacementmap_pars_vertex>\n#include <color_pars_vertex>\n#include <fog_pars_vertex>\n#include <morphtarget_pars_vertex>\n#include <skinning_pars_vertex>\n#include <shadowmap_pars_vertex>\n#include <logdepthbuf_pars_vertex>\n#include <clipping_planes_pars_vertex>\nvoid main() {\n\t#include <uv_vertex>\n\t#include <uv2_vertex>\n\t#include <color_vertex>\n\t#include <beginnormal_vertex>\n\t#include <morphnormal_vertex>\n\t#include <skinbase_vertex>\n\t#include <skinnormal_vertex>\n\t#include <defaultnormal_vertex>\n#ifndef FLAT_SHADED\n\tvNormal = normalize( transformedNormal );\n#endif\n\t#include <begin_vertex>\n\t#include <morphtarget_vertex>\n\t#include <skinning_vertex>\n\t#include <displacementmap_vertex>\n\t#include <project_vertex>\n\t#include <logdepthbuf_vertex>\n\t#include <clipping_planes_vertex>\n\tvViewPosition = - mvPosition.xyz;\n\t#include <worldpos_vertex>\n\t#include <shadowmap_vertex>\n\t#include <fog_vertex>\n}\n"
      }
     },
     "46d89d80fa90457abde981b5918ccf7a": {
      "model_module": "jupyter_cadquery",
      "model_module_version": "^v1.0.0",
      "model_name": "ImageButtonModel",
      "state": {
       "_dom_classes": [
        "view_button"
       ],
       "_model_module_version": "^v1.0.0",
       "_view_module_version": "^v1.0.0",
       "height": "28",
       "layout": "IPY_MODEL_d16238ab84924113872a112bf7a3f5e8",
       "style": "IPY_MODEL_f30d7f8dd2be4f18a957e77de2ff0a34",
       "tooltip": "Change view to fit",
       "type": "fit",
       "value": {},
       "width": "36"
      }
     },
     "46e092440663424e89a070faefc3a292": {
      "model_module": "jupyter-threejs",
      "model_module_version": "^2.1.0",
      "model_name": "MeshModel",
      "state": {
       "_view_module": null,
       "_view_module_version": "",
       "geometry": "IPY_MODEL_629a7eae5e3a457ab46a29dd4123d32b",
       "material": "IPY_MODEL_8a6a5bb7d5a34729a5e394bbe9cff7ee",
       "morphTargetInfluences": [],
       "name": "mesh_0"
      }
     },
     "46f9c00f66894ddfaac14400fda0b259": {
      "model_module": "@jupyter-widgets/base",
      "model_module_version": "1.2.0",
      "model_name": "LayoutModel",
      "state": {}
     },
     "4700720d04e249c5b20481eabb6f5e43": {
      "model_module": "jupyter-threejs",
      "model_module_version": "^2.1.0",
      "model_name": "DirectionalLightModel",
      "state": {
       "_view_module": null,
       "_view_module_version": "",
       "color": "white",
       "intensity": 0.12,
       "matrixWorldNeedsUpdate": true,
       "position": [
        -3.334666769558863,
        3.334666769558863,
        3.334666769558863
       ],
       "shadow": "IPY_MODEL_a9ec22f7-382a-4e5a-9147-556e01ac6bf3",
       "target": "IPY_MODEL_50e92e5f-c3d3-4f69-a7f5-b2d284eac9a9"
      }
     },
     "47430fa402834d589fe726456c958688": {
      "buffers": [
       {
        "data": "AQAAAAQAAAADAAAAAgAAAAEAAAADAAAAAAAAAAEAAAACAAAACAAAAAYAAAAFAAAACAAAAAUAAAAHAAAADAAAAAkAAAAKAAAADAAAAAsAAAAJAAAAEAAAAA0AAAAOAAAAEAAAAA8AAAANAAAAEgAAABEAAAATAAAAEgAAABMAAAAUAAAAGAAAABUAAAAWAAAAGAAAABcAAAAVAAAAGgAAABwAAAAdAAAAGwAAABwAAAAaAAAAGQAAABsAAAAaAAAA",
        "encoding": "base64",
        "path": [
         "array",
         "buffer"
        ]
       }
      ],
      "model_module": "jupyter-threejs",
      "model_module_version": "^2.1.0",
      "model_name": "BufferAttributeModel",
      "state": {
       "_view_module": null,
       "_view_module_version": "",
       "array": {
        "dtype": "uint32",
        "shape": [
         48
        ]
       },
       "normalized": true,
       "version": 2
      }
     },
     "47640128f447441eb10522e4208c88dc": {
      "model_module": "@jupyter-widgets/controls",
      "model_module_version": "1.5.0",
      "model_name": "DescriptionStyleModel",
      "state": {
       "description_width": ""
      }
     },
     "477c7865fe054d76bcd774c559dc369f": {
      "model_module": "@jupyter-widgets/controls",
      "model_module_version": "1.5.0",
      "model_name": "HBoxModel",
      "state": {
       "children": [
        "IPY_MODEL_f0ff57e93b774ba799d7eb9f178614d5",
        "IPY_MODEL_46d89d80fa90457abde981b5918ccf7a",
        "IPY_MODEL_d11e13e6bc3c4059983f4d5a89f7c748",
        "IPY_MODEL_4075b41ec9914106907b3b0d2aa6490a",
        "IPY_MODEL_ef2487bd9cb44d4aa0958aa8b9cff7ca",
        "IPY_MODEL_23a071caaae441df875f91bd9357be98",
        "IPY_MODEL_d0ddccfb326d42ffb351321088df66ea",
        "IPY_MODEL_92eb35545ff74e928fb803d6a5a40c58",
        "IPY_MODEL_83acf954514b458cb20da58bfe558d20",
        "IPY_MODEL_c2f244e05d5f405f913be27d66adf8c8",
        "IPY_MODEL_c59d7f30070a4c02b8a9bf7e9c32147f"
       ],
       "layout": "IPY_MODEL_46baea1f423243fdaa10df1281dfd534"
      }
     },
     "47f13daf880b4bff9855aba1bb730c28": {
      "model_module": "@jupyter-widgets/base",
      "model_module_version": "1.2.0",
      "model_name": "LayoutModel",
      "state": {
       "height": "222px",
       "overflow_x": "scroll",
       "overflow_y": "scroll",
       "width": "250px"
      }
     },
     "47f477e7aa664d8aa348ac88ea2ba538": {
      "model_module": "jupyter_cadquery",
      "model_module_version": "^v1.0.0",
      "model_name": "ImageButtonModel",
      "state": {
       "_dom_classes": [
        "view_button"
       ],
       "_model_module_version": "^v1.0.0",
       "_view_module_version": "^v1.0.0",
       "height": "28",
       "layout": "IPY_MODEL_7bdbb18d8ae247dbb83c479eb1e03ed0",
       "style": "IPY_MODEL_c84263692a4c452aa575c64d6e933b68",
       "tooltip": "Change view to top",
       "type": "top",
       "value": {},
       "width": "36"
      }
     },
     "48390d85-bb02-4351-9bb6-df2f96f3c769": {
      "model_module": "jupyter-threejs",
      "model_module_version": "^2.1.0",
      "model_name": "Object3DModel",
      "state": {}
     },
     "4854857c76814703970e4e774d7a4d57": {
      "model_module": "@jupyter-widgets/controls",
      "model_module_version": "1.5.0",
      "model_name": "CheckboxModel",
      "state": {
       "_dom_classes": [
        "view_zero"
       ],
       "description": "@ 0",
       "disabled": false,
       "indent": false,
       "layout": "IPY_MODEL_13a412fe8e8e4ac9b5af3736d565f0e9",
       "style": "IPY_MODEL_fde1d58426824d1ca43eec8e8faa08d1",
       "value": false
      }
     },
     "486eb2e3699148c385561f81929067da": {
      "model_module": "@jupyter-widgets/base",
      "model_module_version": "1.2.0",
      "model_name": "LayoutModel",
      "state": {}
     },
     "488767355d574db0a019457d26e9da1a": {
      "model_module": "jupyter-threejs",
      "model_module_version": "^2.1.0",
      "model_name": "BufferGeometryModel",
      "state": {
       "_view_module": null,
       "_view_module_version": "",
       "attributes": {
        "index": "IPY_MODEL_5cabee1c03bc486c8092253276b0414f",
        "normal": "IPY_MODEL_f1ade687af29463dae32c2a2d8f39a6f",
        "position": "IPY_MODEL_07248301864e49fa8b36dfd33c6cfe0e"
       }
      }
     },
     "490d9041371c483eb2b46ccf0b67e161": {
      "model_module": "@jupyter-widgets/controls",
      "model_module_version": "1.5.0",
      "model_name": "CheckboxModel",
      "state": {
       "_dom_classes": [
        "view_axes"
       ],
       "description": "Axes",
       "disabled": false,
       "indent": false,
       "layout": "IPY_MODEL_d2825c85a7c848b880529a2c0f96ebf0",
       "style": "IPY_MODEL_e4a83f8d81334bff84407dfb7d59ecd5",
       "value": false
      }
     },
     "49a7493f3a1f48cca72a5e8e7712bc12": {
      "model_module": "@jupyter-widgets/base",
      "model_module_version": "1.2.0",
      "model_name": "LayoutModel",
      "state": {}
     },
     "49c1bb9e57cf4698a5bd807355739a3d": {
      "model_module": "@jupyter-widgets/base",
      "model_module_version": "1.2.0",
      "model_name": "LayoutModel",
      "state": {}
     },
     "49fb97775072471ab1a032fe02f10cee": {
      "model_module": "@jupyter-widgets/controls",
      "model_module_version": "1.5.0",
      "model_name": "SliderStyleModel",
      "state": {
       "description_width": ""
      }
     },
     "4a2804aa699d4195ac597f509748ff63": {
      "model_module": "@jupyter-widgets/base",
      "model_module_version": "1.2.0",
      "model_name": "LayoutModel",
      "state": {}
     },
     "4aa0617c69fd42c5bed3a1b39940d95b": {
      "model_module": "jupyter_cadquery",
      "model_module_version": "^v1.0.0",
      "model_name": "ImageButtonModel",
      "state": {
       "_dom_classes": [
        "view_button"
       ],
       "_model_module_version": "^v1.0.0",
       "_view_module_version": "^v1.0.0",
       "height": "28",
       "layout": "IPY_MODEL_d7a75e0d435e41efa032ada8a239d9cd",
       "style": "IPY_MODEL_0028e1c916e94b0dab2817d15f64f90e",
       "tooltip": "Set clipping plane",
       "type": "2",
       "value": {},
       "width": "36"
      }
     },
     "4ab95decdb8c4c6382a587f32ca34bb6": {
      "model_module": "@jupyter-widgets/base",
      "model_module_version": "1.2.0",
      "model_name": "LayoutModel",
      "state": {}
     },
     "4b159e3372fb4070bd83111f03f744f5": {
      "model_module": "@jupyter-widgets/controls",
      "model_module_version": "1.5.0",
      "model_name": "DescriptionStyleModel",
      "state": {
       "description_width": ""
      }
     },
     "4b46dc0be397441eb72cc05786767ed5": {
      "model_module": "jupyter-threejs",
      "model_module_version": "^2.1.0",
      "model_name": "WebGLShadowMapModel",
      "state": {
       "_view_module": null,
       "_view_module_version": ""
      }
     },
     "4b82c1d9c30841949e50fa3a0c73d30b": {
      "model_module": "jupyter-threejs",
      "model_module_version": "^2.1.0",
      "model_name": "DirectionalLightModel",
      "state": {
       "_view_module": null,
       "_view_module_version": "",
       "color": "white",
       "intensity": 0.12,
       "matrixWorldNeedsUpdate": true,
       "position": [
        8.278436197374486,
        -8.278436197374486,
        -8.278436197374486
       ],
       "shadow": "IPY_MODEL_7ffbd006-a476-497c-8e22-092bd1c8ace4",
       "target": "IPY_MODEL_4bc11acd-e885-47b1-bd77-dea5b0810af6"
      }
     },
     "4ba4c1f702524878961b01cd11433ca4": {
      "model_module": "jupyter-threejs",
      "model_module_version": "^2.1.0",
      "model_name": "PlaneModel",
      "state": {
       "_view_module": null,
       "_view_module_version": "",
       "constant": 2.2,
       "normal": [
        0,
        0,
        1
       ]
      }
     },
     "4bc11acd-e885-47b1-bd77-dea5b0810af6": {
      "model_module": "jupyter-threejs",
      "model_module_version": "^2.1.0",
      "model_name": "Object3DModel",
      "state": {}
     },
     "4c15b3fa1bff4ca28fec054dbcdd76cd": {
      "model_module": "@jupyter-widgets/controls",
      "model_module_version": "1.5.0",
      "model_name": "CheckboxModel",
      "state": {
       "_dom_classes": [
        "view_transparent",
        "indent"
       ],
       "description": "Transparency",
       "disabled": false,
       "indent": false,
       "layout": "IPY_MODEL_83dd5e6f5e974baeb12bd33b6df143ce",
       "style": "IPY_MODEL_274797d8281347328293e7522146a673",
       "value": false
      }
     },
     "4c206e6888824c3cb5eec16801440a29": {
      "model_module": "@jupyter-widgets/controls",
      "model_module_version": "1.5.0",
      "model_name": "DescriptionStyleModel",
      "state": {
       "description_width": ""
      }
     },
     "4c2749d5201546c092627031b8c5eeb6": {
      "model_module": "@jupyter-widgets/base",
      "model_module_version": "1.2.0",
      "model_name": "LayoutModel",
      "state": {}
     },
     "4c51b30b5e364b9a90df47f4fdf8c060": {
      "model_module": "jupyter-threejs",
      "model_module_version": "^2.1.0",
      "model_name": "LineSegments2Model",
      "state": {
       "_view_module": null,
       "_view_module_version": "",
       "geometry": "IPY_MODEL_248fe265e222481f9118af50819d1fdf",
       "material": "IPY_MODEL_63332500b42048639df1e56fb081a67a",
       "morphTargetInfluences": [],
       "name": "edges_0"
      }
     },
     "4c526442770544089dcb264b58ca00a3": {
      "model_module": "@jupyter-widgets/controls",
      "model_module_version": "1.5.0",
      "model_name": "FloatSliderModel",
      "state": {
       "continuous_update": false,
       "layout": "IPY_MODEL_9fd8ad1b3d6a459f9ea0e5df130379bb",
       "max": 6.420000131999999,
       "min": -6.955000143,
       "step": 0.01,
       "style": "IPY_MODEL_61798e60db0d46a6aa29939cb392ccde",
       "value": 6.420000131999999
      }
     },
     "4c56036b6cc5437fa057960c05438524": {
      "model_module": "@jupyter-widgets/base",
      "model_module_version": "1.2.0",
      "model_name": "LayoutModel",
      "state": {}
     },
     "4ca83bebf7b24227ae66f2c556a7b8dc": {
      "model_module": "jupyter-threejs",
      "model_module_version": "^2.1.0",
      "model_name": "LineSegments2Model",
      "state": {
       "_view_module": null,
       "_view_module_version": "",
       "geometry": "IPY_MODEL_4367641f2a6d42f88e2073c38ec392d7",
       "material": "IPY_MODEL_8d3c2274650346939aa745d8a7d65c13",
       "morphTargetInfluences": [],
       "visible": false
      }
     },
     "4d5a51fe8b6d4387b0779a31aff239f9": {
      "model_module": "@jupyter-widgets/controls",
      "model_module_version": "1.5.0",
      "model_name": "ButtonStyleModel",
      "state": {}
     },
     "4df24c329ba343dda2435dfd7c70ce31": {
      "model_module": "@jupyter-widgets/controls",
      "model_module_version": "1.5.0",
      "model_name": "ButtonStyleModel",
      "state": {}
     },
     "4e50f38cc9864d289513f5d849ea1e1a": {
      "buffers": [
       {
        "data": "AAAAAAIAAAADAAAAAAAAAAMAAAABAAAABQAAAAQAAAAGAAAACAAAAAYAAAAHAAAACAAAAAUAAAAGAAAADAAAAAkAAAAKAAAADAAAAAsAAAAJAAAAEAAAAA0AAAAOAAAAEAAAAA8AAAANAAAAEgAAABMAAAARAAAAFQAAABQAAAATAAAAFQAAABMAAAASAAAAGQAAABcAAAAWAAAAGQAAABYAAAAYAAAAGwAAABwAAAAaAAAAGwAAAB0AAAAcAAAA",
        "encoding": "base64",
        "path": [
         "array",
         "buffer"
        ]
       }
      ],
      "model_module": "jupyter-threejs",
      "model_module_version": "^2.1.0",
      "model_name": "BufferAttributeModel",
      "state": {
       "_view_module": null,
       "_view_module_version": "",
       "array": {
        "dtype": "uint32",
        "shape": [
         48
        ]
       },
       "normalized": true,
       "version": 2
      }
     },
     "4e51a67b94814668b06ed8f89fe56472": {
      "model_module": "@jupyter-widgets/controls",
      "model_module_version": "1.5.0",
      "model_name": "CheckboxModel",
      "state": {
       "_dom_classes": [
        "view_black_edges"
       ],
       "description": "Black Edges",
       "disabled": false,
       "indent": false,
       "layout": "IPY_MODEL_f86f109fe301421a8a8bea7a7ed3ddf8",
       "style": "IPY_MODEL_f74145368e784f2dbfd641fe7fddb71d",
       "value": false
      }
     },
     "4e6830cdb21443b1893f74cbab25a247": {
      "model_module": "@jupyter-widgets/controls",
      "model_module_version": "1.5.0",
      "model_name": "ButtonStyleModel",
      "state": {}
     },
     "4e85d23169494cae99cbe874b1a9ad95": {
      "model_module": "@jupyter-widgets/controls",
      "model_module_version": "1.5.0",
      "model_name": "ButtonStyleModel",
      "state": {}
     },
     "4e895790bd404a889779c42c8bdeb5cb": {
      "model_module": "@jupyter-widgets/controls",
      "model_module_version": "1.5.0",
      "model_name": "ButtonStyleModel",
      "state": {}
     },
     "4e8ca1b491ae48f090d2a1dae3a25a66": {
      "model_module": "jupyter-threejs",
      "model_module_version": "^2.1.0",
      "model_name": "BufferGeometryModel",
      "state": {
       "_view_module": null,
       "_view_module_version": "",
       "attributes": {
        "index": "IPY_MODEL_e73951b4d73c4fe6b1b129bd3f6b19ad",
        "normal": "IPY_MODEL_525daa7e5b0248acba55f37b91104db4",
        "position": "IPY_MODEL_ad25d2e3581249878838dccaa07cb8b9"
       }
      }
     },
     "4ea89494167d4926a6d59c891ba209ed": {
      "model_module": "@jupyter-widgets/base",
      "model_module_version": "1.2.0",
      "model_name": "LayoutModel",
      "state": {}
     },
     "4ee12bc42baa4637b4a5173976991d47": {
      "model_module": "@jupyter-widgets/base",
      "model_module_version": "1.2.0",
      "model_name": "LayoutModel",
      "state": {}
     },
     "4ef71ea2a8344315b2d22f7ecce07396": {
      "model_module": "@jupyter-widgets/base",
      "model_module_version": "1.2.0",
      "model_name": "LayoutModel",
      "state": {}
     },
     "4f2cf5e6ec094f028165a915fb013b0c": {
      "model_module": "@jupyter-widgets/base",
      "model_module_version": "1.2.0",
      "model_name": "LayoutModel",
      "state": {}
     },
     "4f59581fb75149d59d50ec901ca100db": {
      "model_module": "jupyter-threejs",
      "model_module_version": "^2.1.0",
      "model_name": "LineMaterialModel",
      "state": {
       "_view_module": null,
       "_view_module_version": "",
       "color": "green",
       "linewidth": 3
      }
     },
     "4f7efa99e00a43dab218ee5d36aeca2e": {
      "model_module": "@jupyter-widgets/base",
      "model_module_version": "1.2.0",
      "model_name": "LayoutModel",
      "state": {}
     },
     "4f8f65199de342c8a5e814c4385e6578": {
      "model_module": "@jupyter-widgets/base",
      "model_module_version": "1.2.0",
      "model_name": "LayoutModel",
      "state": {}
     },
     "50209023-0dc5-4173-92ba-6bddf6ff6e21": {
      "model_module": "jupyter-threejs",
      "model_module_version": "^2.1.0",
      "model_name": "DirectionalLightShadowModel",
      "state": {
       "camera": "IPY_MODEL_f97a2c0d-638c-4e81-b769-22698baa021a"
      }
     },
     "5074360faa4d4abc929fbf0d32ff288e": {
      "buffers": [
       {
        "data": "AACAP83MTL0AAIC+AACAP83MTL2amRk+AACAP83MTL2amRk+AACAP83MTD2amRk+AACAP83MTL0AAIC+AACAP83MTD0AAIC+AACAP83MTD0AAIC+AACAP83MTD2amRk+AACAP83MTL2amRk+ZmZmP83MTL0AAIA+AACAv83MTL0AAIC+AACAP83MTL0AAIC+AACAv83MTL0AAIA+ZmZmP83MTL0AAIA+AACAv83MTL0AAIC+AACAv83MTL0AAIA+ZmZmP83MTL0AAIA+ZmZmP83MTD0AAIA+AACAP83MTD2amRk+ZmZmP83MTD0AAIA+AACAv83MTL0AAIC+AACAv83MTD0AAIC+AACAv83MTD0AAIC+AACAP83MTD0AAIC+AACAv83MTD0AAIA+ZmZmP83MTD0AAIA+AACAv83MTD0AAIC+AACAv83MTD0AAIA+AACAv83MTL0AAIA+AACAv83MTD0AAIA+",
        "encoding": "base64",
        "path": [
         "positions",
         "buffer"
        ]
       }
      ],
      "model_module": "jupyter-threejs",
      "model_module_version": "^2.1.0",
      "model_name": "LineSegmentsGeometryModel",
      "state": {
       "_view_module": null,
       "_view_module_version": "",
       "positions": {
        "dtype": "float32",
        "shape": [
         15,
         2,
         3
        ]
       }
      }
     },
     "50dda9762d6f47a1a87fbb799bb14c92": {
      "model_module": "jupyter-threejs",
      "model_module_version": "^2.1.0",
      "model_name": "LineMaterialModel",
      "state": {
       "_view_module": null,
       "_view_module_version": "",
       "color": "#808080"
      }
     },
     "50e92e5f-c3d3-4f69-a7f5-b2d284eac9a9": {
      "model_module": "jupyter-threejs",
      "model_module_version": "^2.1.0",
      "model_name": "Object3DModel",
      "state": {}
     },
     "511962b0a9e94ea680f992aa2f3aa1c1": {
      "model_module": "@jupyter-widgets/base",
      "model_module_version": "1.2.0",
      "model_name": "LayoutModel",
      "state": {
       "width": "230px"
      }
     },
     "511efdfb86ef44bb86378f6cc48050e7": {
      "model_module": "@jupyter-widgets/controls",
      "model_module_version": "1.5.0",
      "model_name": "ButtonStyleModel",
      "state": {}
     },
     "5157be67ec6a45a9aec52cf92f18cd69": {
      "model_module": "jupyter-threejs",
      "model_module_version": "^2.1.0",
      "model_name": "DirectionalLightModel",
      "state": {
       "_view_module": null,
       "_view_module_version": "",
       "color": "white",
       "intensity": 0.12,
       "matrixWorldNeedsUpdate": true,
       "position": [
        -3.3346667695588637,
        -3.3346667695588637,
        3.3346667695588637
       ],
       "shadow": "IPY_MODEL_57c9a1bd-13f5-4e65-9b34-d6fc1080af49",
       "target": "IPY_MODEL_e5da8b82-4877-4438-a848-eb3decb65fcb"
      }
     },
     "515bb204ee284473887befe6b0378877": {
      "model_module": "jupyter-threejs",
      "model_module_version": "^2.1.0",
      "model_name": "LineMaterialModel",
      "state": {
       "_view_module": null,
       "_view_module_version": "",
       "color": "#808080"
      }
     },
     "5167c48012264fc7a1e041c97c0a71eb": {
      "buffers": [
       {
        "data": "AQAAAAAAAAACAAAAAQAAAAIAAAADAAAA",
        "encoding": "base64",
        "path": [
         "array",
         "buffer"
        ]
       }
      ],
      "model_module": "jupyter-threejs",
      "model_module_version": "^2.1.0",
      "model_name": "BufferAttributeModel",
      "state": {
       "_view_module": null,
       "_view_module_version": "",
       "array": {
        "dtype": "uint32",
        "shape": [
         6
        ]
       },
       "normalized": true,
       "version": 2
      }
     },
     "51a98b264ae6413e9b8f327b9f7ca39a": {
      "model_module": "@jupyter-widgets/base",
      "model_module_version": "1.2.0",
      "model_name": "LayoutModel",
      "state": {
       "width": "230px"
      }
     },
     "51e961644b2d4fd5a0d796048116b405": {
      "model_module": "@jupyter-widgets/controls",
      "model_module_version": "1.5.0",
      "model_name": "LabelModel",
      "state": {
       "layout": "IPY_MODEL_fe095d6891374ad789300566b1ee231e",
       "style": "IPY_MODEL_98e3ee96fa054d9095a1909694a1007d",
       "value": "N=( 0.00,  1.00,  0.00)"
      }
     },
     "520cfb95d49b4630a423664be7ebd35b": {
      "model_module": "@jupyter-widgets/base",
      "model_module_version": "1.2.0",
      "model_name": "LayoutModel",
      "state": {}
     },
     "52355d66-c9a2-4b47-abb6-93ae7779d93a": {
      "model_module": "jupyter-threejs",
      "model_module_version": "^2.1.0",
      "model_name": "OrthographicCameraModel",
      "state": {
       "bottom": -5,
       "far": 500,
       "left": -5,
       "near": 0.5,
       "projectionMatrix": [
        0.2,
        0,
        0,
        0,
        0,
        0.2,
        0,
        0,
        0,
        0,
        -0.004004004004004004,
        0,
        0,
        0,
        -1.002002002002002,
        1
       ],
       "right": 5,
       "top": 5
      }
     },
     "524b4b9272af49d6a7906046a615a8cf": {
      "model_module": "jupyter-threejs",
      "model_module_version": "^2.1.0",
      "model_name": "DirectionalLightModel",
      "state": {
       "_view_module": null,
       "_view_module_version": "",
       "color": "white",
       "intensity": 0.12,
       "matrixWorldNeedsUpdate": true,
       "position": [
        -8.278436197374486,
        8.278436197374486,
        8.278436197374486
       ],
       "shadow": "IPY_MODEL_6158e300-95e4-4c27-a2f1-7d11f4d24764",
       "target": "IPY_MODEL_808aa220-8495-479a-9157-21b6e0c4eed4"
      }
     },
     "525daa7e5b0248acba55f37b91104db4": {
      "buffers": [
       {
        "data": "AACAPwAAAAAAAACAAACAPwAAAAAAAACAAACAPwAAAAAAAACAAACAPwAAAAAAAACAAAAAgAAAgL8AAACAAAAAgAAAgL8AAACAAAAAgAAAgL8AAACAAAAAgAAAgL8AAACAAAAAgAAAgL8AAACA8wQ1PwAAAADzBDU/8wQ1PwAAAADzBDU/8wQ1PwAAAADzBDU/8wQ1PwAAAADzBDU/AAAAgAAAAIAAAIC/AAAAgAAAAIAAAIC/AAAAgAAAAIAAAIC/AAAAgAAAAIAAAIC/AAAAAAAAgD8AAAAAAAAAAAAAgD8AAAAAAAAAAAAAgD8AAAAAAAAAAAAAgD8AAAAAAAAAAAAAgD8AAAAAAAAAAAAAAAAAAIA/AAAAAAAAAAAAAIA/AAAAAAAAAAAAAIA/AAAAAAAAAAAAAIA/AACAvwAAAIAAAAAAAACAvwAAAIAAAAAAAACAvwAAAIAAAAAAAACAvwAAAIAAAAAA",
        "encoding": "base64",
        "path": [
         "array",
         "buffer"
        ]
       }
      ],
      "model_module": "jupyter-threejs",
      "model_module_version": "^2.1.0",
      "model_name": "BufferAttributeModel",
      "state": {
       "_view_module": null,
       "_view_module_version": "",
       "array": {
        "dtype": "float32",
        "shape": [
         30,
         3
        ]
       },
       "normalized": true,
       "version": 2
      }
     },
     "529d08e0132c4d03b2def18bb75c08bf": {
      "model_module": "@jupyter-widgets/base",
      "model_module_version": "1.2.0",
      "model_name": "LayoutModel",
      "state": {}
     },
     "52b0d869920b4be89beee223580be886": {
      "model_module": "@jupyter-widgets/controls",
      "model_module_version": "1.5.0",
      "model_name": "ButtonStyleModel",
      "state": {}
     },
     "52c447a9-4c58-48ff-ad18-15b2279778cf": {
      "model_module": "jupyter-threejs",
      "model_module_version": "^2.1.0",
      "model_name": "Object3DModel",
      "state": {}
     },
     "5304b2e1edaa4dafbb771bc02e19140e": {
      "model_module": "jupyter-threejs",
      "model_module_version": "^2.1.0",
      "model_name": "OrbitControlsModel",
      "state": {
       "_view_module": null,
       "_view_module_version": "",
       "controlling": "IPY_MODEL_83382b9d98394a8f86941578add6ccd1",
       "maxAzimuthAngle": "inf",
       "maxDistance": "inf",
       "maxZoom": "inf",
       "minAzimuthAngle": "-inf"
      }
     },
     "5311daf1debf4372b6f147b4f29a93e2": {
      "buffers": [
       {
        "data": "AAAAQDMzcz8AAJhAAAAAQDMzcz/NzKRAAAAAQDMzcz/NzKRAAAAAQGZmhj/NzKRAAAAAQDMzcz8AAJhAAAAAQGZmhj8AAJhAAAAAQGZmhj8AAJhAAAAAQGZmhj/NzKRAAAAAQDMzcz/NzKRAMzPzPzMzcz8AAKhAAAAAADMzcz8AAJhAAAAAQDMzcz8AAJhAAAAAADMzcz8AAKhAMzPzPzMzcz8AAKhAAAAAADMzcz8AAJhAAAAAADMzcz8AAKhAMzPzPzMzcz8AAKhAMzPzP2Zmhj8AAKhAAAAAQGZmhj/NzKRAMzPzP2Zmhj8AAKhAAAAAADMzcz8AAJhAAAAAAGZmhj8AAJhAAAAAAGZmhj8AAJhAAAAAQGZmhj8AAJhAAAAAAGZmhj8AAKhAMzPzP2Zmhj8AAKhAAAAAAGZmhj8AAJhAAAAAAGZmhj8AAKhAAAAAADMzcz8AAKhAAAAAAGZmhj8AAKhA",
        "encoding": "base64",
        "path": [
         "positions",
         "buffer"
        ]
       }
      ],
      "model_module": "jupyter-threejs",
      "model_module_version": "^2.1.0",
      "model_name": "LineSegmentsGeometryModel",
      "state": {
       "_view_module": null,
       "_view_module_version": "",
       "positions": {
        "dtype": "float32",
        "shape": [
         15,
         2,
         3
        ]
       }
      }
     },
     "5375c47d6ca94701a88a0bcb7a45b2f1": {
      "buffers": [
       {
        "data": "AAAAPwAAAL+amRk/zczMPQAAAL8AAIA/AAAAPwAAAL+amRk/AAAAPwAAAD+amRk/zczMPQAAAL8AAIA/zczMPQAAAD8AAIA/AAAAPwAAAD+amRk/zczMPQAAAD8AAIA/",
        "encoding": "base64",
        "path": [
         "positions",
         "buffer"
        ]
       }
      ],
      "model_module": "jupyter-threejs",
      "model_module_version": "^2.1.0",
      "model_name": "LineSegmentsGeometryModel",
      "state": {
       "_view_module": null,
       "_view_module_version": "",
       "positions": {
        "dtype": "float32",
        "shape": [
         4,
         2,
         3
        ]
       }
      }
     },
     "53968a0f-b9f4-4da3-9c8f-4dde1e68418d": {
      "model_module": "jupyter-threejs",
      "model_module_version": "^2.1.0",
      "model_name": "DirectionalLightShadowModel",
      "state": {
       "camera": "IPY_MODEL_b75a6b8d-b21a-4bf3-99b9-3036d34f3cf1"
      }
     },
     "53be668507f443a181447995cc3da666": {
      "model_module": "jupyter-threejs",
      "model_module_version": "^2.1.0",
      "model_name": "WebGLShadowMapModel",
      "state": {
       "_view_module": null,
       "_view_module_version": ""
      }
     },
     "53ead73b31274646bd4ddb519dfc0fdc": {
      "model_module": "@jupyter-widgets/controls",
      "model_module_version": "1.5.0",
      "model_name": "ButtonStyleModel",
      "state": {}
     },
     "53f7fc800ea1462692e025110b174436": {
      "model_module": "jupyter-threejs",
      "model_module_version": "^2.1.0",
      "model_name": "SceneModel",
      "state": {
       "_view_module": null,
       "_view_module_version": "",
       "children": [
        "IPY_MODEL_4ca83bebf7b24227ae66f2c556a7b8dc",
        "IPY_MODEL_87d4d6e8b4234723b11c43bd9b926dbc",
        "IPY_MODEL_53f87c919caf415bb2fbb500e4b9b6b3",
        "IPY_MODEL_42b049197fc9472d9f30bad56475d625",
        "IPY_MODEL_5f633de2e51f4b4ea928e53fb90f5640",
        "IPY_MODEL_0ee1de67f2b043cc92e369e4c0ac2048",
        "IPY_MODEL_d6c43f444e454ebb81546508cfc2c23a",
        "IPY_MODEL_aaf0e6c49d42487e860ae133564b0fb0",
        "IPY_MODEL_32a90500826346758f83e6ffef374a9f",
        "IPY_MODEL_7c9a440961664b17820c5b62472ce945",
        "IPY_MODEL_a2872cffc2b34306929f2cbdc7b23048",
        "IPY_MODEL_ee57d2d3f41c42cf859bfb26e7070618",
        "IPY_MODEL_d675fefce8354b0ca1af773fd78aa179",
        "IPY_MODEL_d94e6ac7fa2d4f058de2f1e504527c7b",
        "IPY_MODEL_54ca663079c942a186dc6101460d03b9"
       ]
      }
     },
     "53f87c919caf415bb2fbb500e4b9b6b3": {
      "model_module": "jupyter-threejs",
      "model_module_version": "^2.1.0",
      "model_name": "LineSegments2Model",
      "state": {
       "_view_module": null,
       "_view_module_version": "",
       "geometry": "IPY_MODEL_bceabd9a081a4e30a847afc7d3d77383",
       "material": "IPY_MODEL_6b0ca56b81544d78b5fdc651b417c67d",
       "morphTargetInfluences": [],
       "visible": false
      }
     },
     "541062cd29814cb6bfb632f6020a09e7": {
      "model_module": "jupyter-threejs",
      "model_module_version": "^2.1.0",
      "model_name": "MeshModel",
      "state": {
       "_view_module": null,
       "_view_module_version": "",
       "geometry": "IPY_MODEL_faf6efc44a254d829aa13c2de0b42d48",
       "material": "IPY_MODEL_2c4d702e35db434ca2c945026dae6b84",
       "morphTargetInfluences": [],
       "name": "mesh_0",
       "visible": false
      }
     },
     "541eddb147ea4289adb177dc88dc45cf": {
      "model_module": "@jupyter-widgets/controls",
      "model_module_version": "1.5.0",
      "model_name": "CheckboxModel",
      "state": {
       "_dom_classes": [
        "view_transparent",
        "indent"
       ],
       "description": "Transparency",
       "disabled": false,
       "indent": false,
       "layout": "IPY_MODEL_e789d245c1184f0eb9007be426c5f925",
       "style": "IPY_MODEL_72ede1ad00794b9ea66a6257877e8bd6",
       "value": false
      }
     },
     "54435c66-17aa-4f0a-88ff-236f0a5f5635": {
      "model_module": "jupyter-threejs",
      "model_module_version": "^2.1.0",
      "model_name": "OrthographicCameraModel",
      "state": {
       "bottom": -5,
       "far": 500,
       "left": -5,
       "near": 0.5,
       "projectionMatrix": [
        0.2,
        0,
        0,
        0,
        0,
        0.2,
        0,
        0,
        0,
        0,
        -0.004004004004004004,
        0,
        0,
        0,
        -1.002002002002002,
        1
       ],
       "right": 5,
       "top": 5
      }
     },
     "54494d083dbf46f7a50a3db856330f94": {
      "model_module": "@jupyter-widgets/controls",
      "model_module_version": "1.5.0",
      "model_name": "ButtonStyleModel",
      "state": {}
     },
     "54bcfdc6e89640c1b8d0810185bcb0b4": {
      "model_module": "jupyter_cadquery",
      "model_module_version": "^v1.0.0",
      "model_name": "ImageButtonModel",
      "state": {
       "_dom_classes": [
        "view_button"
       ],
       "_model_module_version": "^v1.0.0",
       "_view_module_version": "^v1.0.0",
       "height": "28",
       "layout": "IPY_MODEL_04e0eec712ff4c998016f7140da8f392",
       "style": "IPY_MODEL_b1deeb947c75467ea9081658ba6786b3",
       "tooltip": "Change view to front",
       "type": "front",
       "value": {},
       "width": "36"
      }
     },
     "54ca663079c942a186dc6101460d03b9": {
      "model_module": "jupyter-threejs",
      "model_module_version": "^2.1.0",
      "model_name": "GroupModel",
      "state": {
       "_view_module": null,
       "_view_module_version": "",
       "children": [
        "IPY_MODEL_541062cd29814cb6bfb632f6020a09e7",
        "IPY_MODEL_1506df724e154ef393011fe465356c98",
        "IPY_MODEL_0b48f54433d34328b890727d8c16c4f2",
        "IPY_MODEL_a62115ae3d9d4007a7c02bb3d75d9e5c",
        "IPY_MODEL_ef2198f40e4a43918b312ec4c6cf13b6",
        "IPY_MODEL_d13c4bcb139d47fd8d834ce12536713e",
        "IPY_MODEL_c78bda116e3649878c8480730c896082",
        "IPY_MODEL_78c7cee2221e462e9881c12f20ace07a"
       ]
      }
     },
     "54cc4fe23f8b4864baaa2fe6ecf512f5": {
      "model_module": "@jupyter-widgets/controls",
      "model_module_version": "1.5.0",
      "model_name": "DescriptionStyleModel",
      "state": {
       "description_width": ""
      }
     },
     "54e4afe9d4014d818345e36406cb102f": {
      "model_module": "jupyter-threejs",
      "model_module_version": "^2.1.0",
      "model_name": "PickerModel",
      "state": {
       "_view_module": null,
       "_view_module_version": "",
       "controlling": "IPY_MODEL_bb8ab1d6de804a53ab9074f595ff3f2b",
       "event": "dblclick"
      }
     },
     "564cf048721449fc8728ec08970853ec": {
      "model_module": "jupyter-threejs",
      "model_module_version": "^2.1.0",
      "model_name": "LineSegments2Model",
      "state": {
       "_view_module": null,
       "_view_module_version": "",
       "geometry": "IPY_MODEL_a62aa0c4b54448a8ba74bacf98bf2067",
       "material": "IPY_MODEL_8eaa3e4902b640bfa713d3bc346fbb7a",
       "matrix": [
        1,
        0,
        0,
        0,
        0,
        1,
        0,
        0,
        0,
        0,
        1,
        0,
        0.5500000549999999,
        0.5500000549999999,
        0,
        1
       ],
       "morphTargetInfluences": [],
       "position": [
        0.5500000549999999,
        0.5500000549999999,
        0
       ],
       "visible": false
      }
     },
     "56970eeca18b4c0a8f3044fbca90a426": {
      "model_module": "jupyter_cadquery",
      "model_module_version": "^v1.0.0",
      "model_name": "ImageButtonModel",
      "state": {
       "_dom_classes": [
        "view_button"
       ],
       "_model_module_version": "^v1.0.0",
       "_view_module_version": "^v1.0.0",
       "height": "28",
       "layout": "IPY_MODEL_cca72a761ca64da1b24c1d702279e782",
       "style": "IPY_MODEL_4d5a51fe8b6d4387b0779a31aff239f9",
       "tooltip": "Change view to left",
       "type": "left",
       "value": {},
       "width": "36"
      }
     },
     "571899b6-11ce-4568-aeab-0d91c392e770": {
      "model_module": "jupyter-threejs",
      "model_module_version": "^2.1.0",
      "model_name": "Object3DModel",
      "state": {}
     },
     "5727afc10ac0494aafb34fde66bd893b": {
      "model_module": "@jupyter-widgets/controls",
      "model_module_version": "1.5.0",
      "model_name": "HBoxModel",
      "state": {
       "children": [
        "IPY_MODEL_490d9041371c483eb2b46ccf0b67e161",
        "IPY_MODEL_be9a85825ddb4b12be3fe57e91f57ce5",
        "IPY_MODEL_7f25afd43f9d4f849f305860d0a8663e",
        "IPY_MODEL_cbad2c8010d34366af946197476977dc"
       ],
       "layout": "IPY_MODEL_45fc7b829d26467ea9b7a9e5b140f576"
      }
     },
     "576bc07cd0e44ec2b0b6e1ebfbfc9dae": {
      "model_module": "jupyter_cadquery",
      "model_module_version": "^v1.0.0",
      "model_name": "ImageButtonModel",
      "state": {
       "_dom_classes": [
        "view_button"
       ],
       "_model_module_version": "^v1.0.0",
       "_view_module_version": "^v1.0.0",
       "height": "28",
       "layout": "IPY_MODEL_ddb2e459ef474edea5e4d888285dd2f9",
       "style": "IPY_MODEL_fed35912575c45f8805d3842c9df32e8",
       "tooltip": "Change view to rear",
       "type": "rear",
       "value": {},
       "width": "36"
      }
     },
     "576fda48e6124eea8ec9d657c1651d8d": {
      "model_module": "@jupyter-widgets/controls",
      "model_module_version": "1.5.0",
      "model_name": "DescriptionStyleModel",
      "state": {
       "description_width": ""
      }
     },
     "5776dc0a40444860b2215a5c1d7ea1e0": {
      "model_module": "@jupyter-widgets/base",
      "model_module_version": "1.2.0",
      "model_name": "LayoutModel",
      "state": {}
     },
     "57829463992c48eda83ff7ad4d60ee9d": {
      "model_module": "jupyter-threejs",
      "model_module_version": "^2.1.0",
      "model_name": "DirectionalLightModel",
      "state": {
       "_view_module": null,
       "_view_module_version": "",
       "color": "white",
       "intensity": 0.12,
       "matrixWorldNeedsUpdate": true,
       "position": [
        -8.278436197374486,
        8.278436197374486,
        8.278436197374486
       ],
       "shadow": "IPY_MODEL_b8068c64-f1ab-417c-add6-4c71499c2d70",
       "target": "IPY_MODEL_21d21035-8f8e-4b0b-b2db-7d39d980b1f8"
      }
     },
     "57a1c77c05264044a9648ef7010ae330": {
      "model_module": "@jupyter-widgets/base",
      "model_module_version": "1.2.0",
      "model_name": "LayoutModel",
      "state": {}
     },
     "57af532d489546709c3c777755159185": {
      "model_module": "@jupyter-widgets/base",
      "model_module_version": "1.2.0",
      "model_name": "LayoutModel",
      "state": {
       "height": "222px",
       "overflow_x": "scroll",
       "overflow_y": "scroll",
       "width": "250px"
      }
     },
     "57c9a1bd-13f5-4e65-9b34-d6fc1080af49": {
      "model_module": "jupyter-threejs",
      "model_module_version": "^2.1.0",
      "model_name": "DirectionalLightShadowModel",
      "state": {
       "camera": "IPY_MODEL_176c423a-afbe-4cc4-a255-e78dc7eaa0f4"
      }
     },
     "57cc683ec25444c2bc52ace0f38ff0f3": {
      "model_module": "@jupyter-widgets/base",
      "model_module_version": "1.2.0",
      "model_name": "LayoutModel",
      "state": {}
     },
     "580a424dcc87418b8ee748e83f7a4f88": {
      "buffers": [
       {
        "data": "AADAPwAAAD8AAIC/AADAPwAAAD+amRk/AADAPwAAwD8AAIC/AADAPwAAwD+amRk/AADAPwAAAD8AAIC/AADAPwAAAD+amRk/AAAAPwAAAD8AAIC/AAAAPwAAAD8AAIA/zcyMPwAAAD8AAIA/AADAPwAAAD+amRk/zcyMPwAAAD8AAIA/AADAPwAAwD+amRk/zcyMPwAAwD8AAIA/AAAAPwAAAD8AAIC/AAAAPwAAwD8AAIC/AADAPwAAAD8AAIC/AADAPwAAwD8AAIC/AADAPwAAwD8AAIC/AADAPwAAwD+amRk/AAAAPwAAwD8AAIC/AAAAPwAAwD8AAIA/zcyMPwAAwD8AAIA/AAAAPwAAwD8AAIA/zcyMPwAAwD8AAIA/AAAAPwAAAD8AAIA/zcyMPwAAAD8AAIA/AAAAPwAAAD8AAIC/AAAAPwAAAD8AAIA/AAAAPwAAwD8AAIC/AAAAPwAAwD8AAIA/",
        "encoding": "base64",
        "path": [
         "array",
         "buffer"
        ]
       }
      ],
      "model_module": "jupyter-threejs",
      "model_module_version": "^2.1.0",
      "model_name": "BufferAttributeModel",
      "state": {
       "_view_module": null,
       "_view_module_version": "",
       "array": {
        "dtype": "float32",
        "shape": [
         30,
         3
        ]
       },
       "normalized": true,
       "version": 2
      }
     },
     "5921c14c702a4e9a8aad5d4e60b08856": {
      "model_module": "@jupyter-widgets/controls",
      "model_module_version": "1.5.0",
      "model_name": "DescriptionStyleModel",
      "state": {
       "description_width": ""
      }
     },
     "598383b175294c1885f75d6a84019def": {
      "model_module": "jupyter-threejs",
      "model_module_version": "^2.1.0",
      "model_name": "MeshModel",
      "state": {
       "_view_module": null,
       "_view_module_version": "",
       "geometry": "IPY_MODEL_16c694d1e28941939ef9400f956a3d70",
       "material": "IPY_MODEL_78b011ac443447db8b55059f130724e7",
       "morphTargetInfluences": [],
       "name": "mesh_3"
      }
     },
     "59d6c3b0638240af819b5616aad1c1bc": {
      "model_module": "jupyter_cadquery",
      "model_module_version": "^v1.0.0",
      "model_name": "ImageButtonModel",
      "state": {
       "_dom_classes": [
        "view_button"
       ],
       "_model_module_version": "^v1.0.0",
       "_view_module_version": "^v1.0.0",
       "height": "28",
       "layout": "IPY_MODEL_e0309181d7cd40d8b4c74a69752a04d6",
       "style": "IPY_MODEL_4e6830cdb21443b1893f74cbab25a247",
       "tooltip": "Change view to bottom",
       "type": "bottom",
       "value": {},
       "width": "36"
      }
     },
     "59f3eba199bc48ad9037860907e97d30": {
      "buffers": [
       {
        "data": "MzNzPwAAQMAAAJBAMzNzP83MjL8AAJBAMzNzPwAAQMAAAGBAMzNzPwAAgL8AAGBAMzNzPwAAgL/NzIxAMzNzPwAAQMAAAJBAMzNzP83MjL8AAJBAZmaGPwAAQMAAAJBAZmaGP83MjL8AAJBAMzNzPwAAgL/NzIxAMzNzP83MjL8AAJBAZmaGPwAAgL/NzIxAZmaGP83MjL8AAJBAMzNzPwAAQMAAAGBAZmaGPwAAQMAAAGBAMzNzPwAAQMAAAJBAZmaGPwAAQMAAAJBAZmaGPwAAgL8AAGBAZmaGPwAAgL/NzIxAMzNzPwAAgL8AAGBAMzNzPwAAgL/NzIxAMzNzPwAAQMAAAGBAMzNzPwAAgL8AAGBAZmaGPwAAQMAAAGBAZmaGPwAAgL8AAGBAZmaGPwAAQMAAAJBAZmaGP83MjL8AAJBAZmaGPwAAQMAAAGBAZmaGPwAAgL8AAGBAZmaGPwAAgL/NzIxA",
        "encoding": "base64",
        "path": [
         "array",
         "buffer"
        ]
       }
      ],
      "model_module": "jupyter-threejs",
      "model_module_version": "^2.1.0",
      "model_name": "BufferAttributeModel",
      "state": {
       "_view_module": null,
       "_view_module_version": "",
       "array": {
        "dtype": "float32",
        "shape": [
         30,
         3
        ]
       },
       "normalized": true,
       "version": 2
      }
     },
     "59f795c3-e43b-4b0f-8ec1-fa0b575f1a80": {
      "model_module": "jupyter-threejs",
      "model_module_version": "^2.1.0",
      "model_name": "OrthographicCameraModel",
      "state": {
       "bottom": -5,
       "far": 500,
       "left": -5,
       "near": 0.5,
       "projectionMatrix": [
        0.2,
        0,
        0,
        0,
        0,
        0.2,
        0,
        0,
        0,
        0,
        -0.004004004004004004,
        0,
        0,
        0,
        -1.002002002002002,
        1
       ],
       "right": 5,
       "top": 5
      }
     },
     "5a151e2ee50d4805ac6902ee7618bf1e": {
      "model_module": "@jupyter-widgets/base",
      "model_module_version": "1.2.0",
      "model_name": "LayoutModel",
      "state": {}
     },
     "5a1c6c4bd0114889856bd70d52bb6b1e": {
      "model_module": "@jupyter-widgets/base",
      "model_module_version": "1.2.0",
      "model_name": "LayoutModel",
      "state": {}
     },
     "5a5b5066dc8b42a5b2ee812a834fef0f": {
      "model_module": "@jupyter-widgets/controls",
      "model_module_version": "1.5.0",
      "model_name": "CheckboxModel",
      "state": {
       "_dom_classes": [
        "view_transparent",
        "indent"
       ],
       "description": "Transparency",
       "disabled": false,
       "indent": false,
       "layout": "IPY_MODEL_e3f57a7249e94353a8aada4a1bdf9935",
       "style": "IPY_MODEL_101cbd6a77fa4baea355fa86e39c3afc",
       "value": false
      }
     },
     "5a8ff0d0-deb3-4544-89c5-4922a2095911": {
      "model_module": "jupyter-threejs",
      "model_module_version": "^2.1.0",
      "model_name": "OrthographicCameraModel",
      "state": {
       "bottom": -5,
       "far": 500,
       "left": -5,
       "near": 0.5,
       "projectionMatrix": [
        0.2,
        0,
        0,
        0,
        0,
        0.2,
        0,
        0,
        0,
        0,
        -0.004004004004004004,
        0,
        0,
        0,
        -1.002002002002002,
        1
       ],
       "right": 5,
       "top": 5
      }
     },
     "5b27217d82dc4926b9a6d78dc176d979": {
      "model_module": "jupyter-threejs",
      "model_module_version": "^2.1.0",
      "model_name": "PlaneModel",
      "state": {
       "_view_module": null,
       "_view_module_version": "",
       "constant": 2.2,
       "normal": [
        1,
        0,
        0
       ]
      }
     },
     "5b315d97-4faa-4692-b278-51c84ec55c69": {
      "model_module": "jupyter-threejs",
      "model_module_version": "^2.1.0",
      "model_name": "Object3DModel",
      "state": {}
     },
     "5b7083ce97844fa0ab41e38743eb24b3": {
      "model_module": "jupyter-threejs",
      "model_module_version": "^2.1.0",
      "model_name": "LineMaterialModel",
      "state": {
       "_view_module": null,
       "_view_module_version": "",
       "color": "#808080"
      }
     },
     "5bb58517789548c195d2dd0969d99293": {
      "model_module": "@jupyter-widgets/controls",
      "model_module_version": "1.5.0",
      "model_name": "ButtonStyleModel",
      "state": {}
     },
     "5be9022c-db4e-492c-819a-36c20d7af952": {
      "model_module": "jupyter-threejs",
      "model_module_version": "^2.1.0",
      "model_name": "Object3DModel",
      "state": {}
     },
     "5bef8971894b4ad0bad1be5f565f5a79": {
      "model_module": "@jupyter-widgets/base",
      "model_module_version": "1.2.0",
      "model_name": "LayoutModel",
      "state": {
       "margin": "0px 10px 0px 0px"
      }
     },
     "5c5ebe8104e34017af5bd801e19aec14": {
      "model_module": "jupyter-threejs",
      "model_module_version": "^2.1.0",
      "model_name": "LineSegments2Model",
      "state": {
       "_view_module": null,
       "_view_module_version": "",
       "geometry": "IPY_MODEL_2845e7697ed84ac08c343a3512a38ca5",
       "material": "IPY_MODEL_84bebe9cc3ff4b67ae19719bebf180cf",
       "morphTargetInfluences": [],
       "name": "edges_0"
      }
     },
     "5cabee1c03bc486c8092253276b0414f": {
      "buffers": [
       {
        "data": "AAAAAAIAAAADAAAAAAAAAAMAAAABAAAABQAAAAQAAAAGAAAACAAAAAYAAAAHAAAACAAAAAUAAAAGAAAADAAAAAkAAAAKAAAADAAAAAsAAAAJAAAAEAAAAA0AAAAOAAAAEAAAAA8AAAANAAAAEgAAABMAAAARAAAAFQAAABQAAAATAAAAFQAAABMAAAASAAAAGQAAABcAAAAWAAAAGQAAABYAAAAYAAAAGwAAABwAAAAaAAAAGwAAAB0AAAAcAAAA",
        "encoding": "base64",
        "path": [
         "array",
         "buffer"
        ]
       }
      ],
      "model_module": "jupyter-threejs",
      "model_module_version": "^2.1.0",
      "model_name": "BufferAttributeModel",
      "state": {
       "_view_module": null,
       "_view_module_version": "",
       "array": {
        "dtype": "uint32",
        "shape": [
         48
        ]
       },
       "normalized": true,
       "version": 2
      }
     },
     "5cc5490b98324d37ae7187937239551d": {
      "model_module": "jupyter-threejs",
      "model_module_version": "^2.1.0",
      "model_name": "PlaneModel",
      "state": {
       "_view_module": null,
       "_view_module_version": "",
       "constant": 1.2000000000000002,
       "normal": [
        1,
        0,
        0
       ]
      }
     },
     "5ce5832427164baf9930bfe9b339b58b": {
      "model_module": "@jupyter-widgets/controls",
      "model_module_version": "1.5.0",
      "model_name": "ButtonStyleModel",
      "state": {}
     },
     "5ce5c602466f426c8449990abc29cf58": {
      "model_module": "@jupyter-widgets/controls",
      "model_module_version": "1.5.0",
      "model_name": "CheckboxModel",
      "state": {
       "_dom_classes": [
        "view_ortho"
       ],
       "description": "Ortho",
       "disabled": false,
       "indent": false,
       "layout": "IPY_MODEL_d50479133529465fb4f0bf5ccdb7bbec",
       "style": "IPY_MODEL_ddaf4ab864e7442382bd51c39c17e04a",
       "value": true
      }
     },
     "5ce87edf97fb4d99b40b3488b9a68be5": {
      "buffers": [
       {
        "data": "AQAAAAAAAAACAAAAAQAAAAIAAAADAAAABQAAAAYAAAAEAAAABQAAAAcAAAAGAAAACAAAAAcAAAAFAAAADAAAAAoAAAAJAAAADAAAAAkAAAALAAAAEAAAAA0AAAAOAAAAEAAAAA8AAAANAAAAEgAAABEAAAATAAAAEgAAABMAAAAUAAAAFQAAABIAAAAUAAAAFwAAABYAAAAYAAAAFwAAABgAAAAZAAAAGwAAABwAAAAaAAAAGwAAAB0AAAAcAAAA",
        "encoding": "base64",
        "path": [
         "array",
         "buffer"
        ]
       }
      ],
      "model_module": "jupyter-threejs",
      "model_module_version": "^2.1.0",
      "model_name": "BufferAttributeModel",
      "state": {
       "_view_module": null,
       "_view_module_version": "",
       "array": {
        "dtype": "uint32",
        "shape": [
         48
        ]
       },
       "normalized": true,
       "version": 2
      }
     },
     "5cfb5876-ba31-4c3d-9ec0-86ae23076c5a": {
      "model_module": "jupyter-threejs",
      "model_module_version": "^2.1.0",
      "model_name": "OrthographicCameraModel",
      "state": {
       "bottom": -5,
       "far": 500,
       "left": -5,
       "near": 0.5,
       "projectionMatrix": [
        0.2,
        0,
        0,
        0,
        0,
        0.2,
        0,
        0,
        0,
        0,
        -0.004004004004004004,
        0,
        0,
        0,
        -1.002002002002002,
        1
       ],
       "right": 5,
       "top": 5
      }
     },
     "5d414de5a04c4db5a854fbcda57636de": {
      "model_module": "jupyter-threejs",
      "model_module_version": "^2.1.0",
      "model_name": "WebGLShadowMapModel",
      "state": {
       "_view_module": null,
       "_view_module_version": ""
      }
     },
     "5dae9f129cc34d1786a4d033a2a983a4": {
      "model_module": "@jupyter-widgets/controls",
      "model_module_version": "1.5.0",
      "model_name": "ButtonStyleModel",
      "state": {}
     },
     "5db16b22f681465ba3054d26fc7ae3a7": {
      "model_module": "jupyter_cadquery",
      "model_module_version": "^v1.0.0",
      "model_name": "ImageButtonModel",
      "state": {
       "_dom_classes": [
        "view_button"
       ],
       "_model_module_version": "^v1.0.0",
       "_view_module_version": "^v1.0.0",
       "height": "28",
       "layout": "IPY_MODEL_2e78217e60d248178a07b5ca627d024d",
       "style": "IPY_MODEL_6b8b89279f504a43b8799b8e528531d8",
       "tooltip": "Change view to top",
       "type": "top",
       "value": {},
       "width": "36"
      }
     },
     "5ddc61ddbfbf409ebd7f3664fcf540e3": {
      "model_module": "@jupyter-widgets/controls",
      "model_module_version": "1.5.0",
      "model_name": "ButtonStyleModel",
      "state": {}
     },
     "5df386a780ec4eeab29496e7fbb87fcf": {
      "model_module": "jupyter_cadquery",
      "model_module_version": "^v1.0.0",
      "model_name": "ImageButtonModel",
      "state": {
       "_dom_classes": [
        "view_button"
       ],
       "_model_module_version": "^v1.0.0",
       "_view_module_version": "^v1.0.0",
       "height": "28",
       "layout": "IPY_MODEL_0ff765ef4e69432fa8bb25699837ef7d",
       "style": "IPY_MODEL_ead2275e3f3847dfa2427dd3591cd38d",
       "tooltip": "Set clipping plane",
       "type": "2",
       "value": {},
       "width": "36"
      }
     },
     "5e6a662083da4dafa50d0c61623625bf": {
      "buffers": [
       {
        "data": "AADAPwAAAD8AAIC/AADAPwAAAD+amRk/AADAPwAAwD8AAIC/AADAPwAAwD+amRk/AADAPwAAAD8AAIC/AADAPwAAAD+amRk/AAAAPwAAAD8AAIC/AAAAPwAAAD8AAIA/zcyMPwAAAD8AAIA/AADAPwAAAD+amRk/zcyMPwAAAD8AAIA/AADAPwAAwD+amRk/zcyMPwAAwD8AAIA/AAAAPwAAAD8AAIC/AAAAPwAAwD8AAIC/AADAPwAAAD8AAIC/AADAPwAAwD8AAIC/AADAPwAAwD8AAIC/AADAPwAAwD+amRk/AAAAPwAAwD8AAIC/AAAAPwAAwD8AAIA/zcyMPwAAwD8AAIA/AAAAPwAAwD8AAIA/zcyMPwAAwD8AAIA/AAAAPwAAAD8AAIA/zcyMPwAAAD8AAIA/AAAAPwAAAD8AAIC/AAAAPwAAAD8AAIA/AAAAPwAAwD8AAIC/AAAAPwAAwD8AAIA/",
        "encoding": "base64",
        "path": [
         "array",
         "buffer"
        ]
       }
      ],
      "model_module": "jupyter-threejs",
      "model_module_version": "^2.1.0",
      "model_name": "BufferAttributeModel",
      "state": {
       "_view_module": null,
       "_view_module_version": "",
       "array": {
        "dtype": "float32",
        "shape": [
         30,
         3
        ]
       },
       "normalized": true,
       "version": 2
      }
     },
     "5e81285b-730b-46b3-bc43-fd02007db6f5": {
      "model_module": "jupyter-threejs",
      "model_module_version": "^2.1.0",
      "model_name": "Object3DModel",
      "state": {}
     },
     "5e8d80fe19114f3a98f5bc545f3622f4": {
      "model_module": "jupyter-threejs",
      "model_module_version": "^2.1.0",
      "model_name": "LineSegments2Model",
      "state": {
       "_view_module": null,
       "_view_module_version": "",
       "geometry": "IPY_MODEL_3851e3bc82ee4812825a973096553b6e",
       "material": "IPY_MODEL_ef10ac5c0464434880a77f1318c944b2",
       "morphTargetInfluences": [],
       "name": "edges_2"
      }
     },
     "5ea18e74eff346a49e0d167593984bcb": {
      "model_module": "jupyter-threejs",
      "model_module_version": "^2.1.0",
      "model_name": "CombinedCameraModel",
      "state": {
       "_view_module": null,
       "_view_module_version": "",
       "far": 82.78436197374486,
       "height": 600,
       "matrix": [
        1,
        0,
        0,
        0,
        0,
        1,
        0,
        0,
        0,
        0,
        1,
        0,
        15.338672101069903,
        13.588672101069903,
        16.463672101069903,
        1
       ],
       "matrixWorldInverse": [
        1,
        0,
        0,
        0,
        0,
        1,
        0,
        0,
        0,
        0,
        1,
        0,
        -15.338672101069903,
        -13.588672101069903,
        -16.463672101069903,
        1
       ],
       "matrixWorldNeedsUpdate": true,
       "mode": "orthographic",
       "orthoFar": 82.78436197374486,
       "position": [
        15.338672101069903,
        13.588672101069903,
        16.463672101069903
       ],
       "projectionMatrix": [
        0.1529664484549955,
        0,
        0,
        0,
        0,
        0.2039552646066607,
        0,
        0,
        0,
        0,
        -0.024188370717972873,
        0,
        0,
        0,
        -1.0024188370717972,
        1
       ],
       "type": "OrthographicCamera",
       "up": [
        0,
        0,
        1
       ],
       "width": 800,
       "zoom": 2.5
      }
     },
     "5f53cd99d8444db59787fd64182f9fcc": {
      "model_module": "@jupyter-widgets/base",
      "model_module_version": "1.2.0",
      "model_name": "LayoutModel",
      "state": {}
     },
     "5f633de2e51f4b4ea928e53fb90f5640": {
      "model_module": "jupyter-threejs",
      "model_module_version": "^2.1.0",
      "model_name": "DirectionalLightModel",
      "state": {
       "_view_module": null,
       "_view_module_version": "",
       "color": "white",
       "intensity": 0.12,
       "matrixWorldNeedsUpdate": true,
       "position": [
        -3.3346667695588637,
        -3.3346667695588637,
        3.3346667695588637
       ],
       "shadow": "IPY_MODEL_a0bb5860-4f3e-4320-a561-ac456ddab21c",
       "target": "IPY_MODEL_fd92d5b4-3d94-4577-bd8d-7a46ce5c7f41"
      }
     },
     "5fb06f97a8584e99a38838f3deb6c3bd": {
      "model_module": "jupyter-threejs",
      "model_module_version": "^2.1.0",
      "model_name": "ShaderMaterialModel",
      "state": {
       "_view_module": null,
       "_view_module_version": "",
       "clipping": true,
       "fragmentShader": "\n        uniform float alpha;\n        #define PHYSICAL\nuniform vec3 diffuse;\nuniform vec3 emissive;\nuniform float roughness;\nuniform float metalness;\nuniform float opacity;\n#ifndef STANDARD\n\tuniform float clearCoat;\n\tuniform float clearCoatRoughness;\n#endif\nvarying vec3 vViewPosition;\n#ifndef FLAT_SHADED\n\tvarying vec3 vNormal;\n#endif\n#include <common>\n#include <packing>\n#include <dithering_pars_fragment>\n#include <color_pars_fragment>\n#include <uv_pars_fragment>\n#include <uv2_pars_fragment>\n#include <map_pars_fragment>\n#include <alphamap_pars_fragment>\n#include <aomap_pars_fragment>\n#include <lightmap_pars_fragment>\n#include <emissivemap_pars_fragment>\n#include <bsdfs>\n#include <cube_uv_reflection_fragment>\n#include <envmap_pars_fragment>\n#include <envmap_physical_pars_fragment>\n#include <fog_pars_fragment>\n#include <lights_pars_begin>\n#include <lights_physical_pars_fragment>\n#include <shadowmap_pars_fragment>\n#include <bumpmap_pars_fragment>\n#include <normalmap_pars_fragment>\n#include <roughnessmap_pars_fragment>\n#include <metalnessmap_pars_fragment>\n#include <logdepthbuf_pars_fragment>\n#include <clipping_planes_pars_fragment>\nvoid main() {\n\t#include <clipping_planes_fragment>\n\tvec4 diffuseColor = vec4( diffuse, opacity );\n\tReflectedLight reflectedLight = ReflectedLight( vec3( 0.0 ), vec3( 0.0 ), vec3( 0.0 ), vec3( 0.0 ) );\n\tvec3 totalEmissiveRadiance = emissive;\n\t#include <logdepthbuf_fragment>\n\t#include <map_fragment>\n\t#include <color_fragment>\n\t#include <alphamap_fragment>\n\t#include <alphatest_fragment>\n\t#include <roughnessmap_fragment>\n\t#include <metalnessmap_fragment>\n\t#include <normal_fragment_begin>\n\t#include <normal_fragment_maps>\n\t#include <emissivemap_fragment>\n\t#include <lights_physical_fragment>\n\t#include <lights_fragment_begin>\n\t#include <lights_fragment_maps>\n\t#include <lights_fragment_end>\n\t#include <aomap_fragment>\n\tvec3 outgoingLight = reflectedLight.directDiffuse + reflectedLight.indirectDiffuse + reflectedLight.directSpecular + reflectedLight.indirectSpecular + totalEmissiveRadiance;\n\t\n            if ( gl_FrontFacing ) {\n                gl_FragColor = vec4( outgoingLight, alpha * diffuseColor.a );\n            } else {\n                gl_FragColor = vec4( diffuseColor.r, diffuseColor.g, diffuseColor.b, alpha * diffuseColor.a );\n            }\n\t#include <tonemapping_fragment>\n\t#include <encodings_fragment>\n\t#include <fog_fragment>\n\t#include <premultiplied_alpha_fragment>\n\t#include <dithering_fragment>\n}\n",
       "lights": true,
       "polygonOffset": true,
       "polygonOffsetFactor": 1,
       "polygonOffsetUnits": 1,
       "side": "DoubleSide",
       "uniforms": {
        "alpha": {
         "value": 0.7
        },
        "alphaMap": {
         "value": null
        },
        "ambientLightColor": {
         "value": []
        },
        "aoMap": {
         "value": null
        },
        "aoMapIntensity": {
         "value": 1
        },
        "bumpMap": {
         "value": null
        },
        "bumpScale": {
         "value": 1
        },
        "diffuse": {
         "type": "c",
         "value": "#e8b024"
        },
        "directionalLights": {
         "value": []
        },
        "directionalShadowMap": {
         "value": []
        },
        "directionalShadowMatrix": {
         "value": []
        },
        "displacementBias": {
         "value": 0
        },
        "displacementMap": {
         "value": null
        },
        "displacementScale": {
         "value": 1
        },
        "emissive": {
         "type": "c",
         "value": "#000000"
        },
        "emissiveMap": {
         "value": null
        },
        "envMap": {
         "value": null
        },
        "envMapIntensity": {
         "value": 1
        },
        "flipEnvMap": {
         "value": -1
        },
        "fogColor": {
         "type": "c",
         "value": "#ffffff"
        },
        "fogDensity": {
         "value": 0.00025
        },
        "fogFar": {
         "value": 2000
        },
        "fogNear": {
         "value": 1
        },
        "hemisphereLights": {
         "value": []
        },
        "lightMap": {
         "value": null
        },
        "lightMapIntensity": {
         "value": 1
        },
        "map": {
         "value": null
        },
        "maxMipLevel": {
         "value": 0
        },
        "metalness": {
         "value": 0.3
        },
        "metalnessMap": {
         "value": null
        },
        "normalMap": {
         "value": null
        },
        "normalScale": {
         "type": "v2",
         "value": [
          1,
          1
         ]
        },
        "opacity": {
         "value": 1
        },
        "pointLights": {
         "value": []
        },
        "pointShadowMap": {
         "value": []
        },
        "pointShadowMatrix": {
         "value": []
        },
        "rectAreaLights": {
         "value": []
        },
        "reflectivity": {
         "value": 1
        },
        "refractionRatio": {
         "value": 0.98
        },
        "roughness": {
         "value": 0.8
        },
        "roughnessMap": {
         "value": null
        },
        "spotLights": {
         "value": []
        },
        "spotShadowMap": {
         "value": []
        },
        "spotShadowMatrix": {
         "value": []
        },
        "uvTransform": {
         "type": "m3",
         "value": [
          1,
          0,
          0,
          0,
          1,
          0,
          0,
          0,
          1
         ]
        }
       },
       "vertexShader": "#define PHYSICAL\nvarying vec3 vViewPosition;\n#ifndef FLAT_SHADED\n\tvarying vec3 vNormal;\n#endif\n#include <common>\n#include <uv_pars_vertex>\n#include <uv2_pars_vertex>\n#include <displacementmap_pars_vertex>\n#include <color_pars_vertex>\n#include <fog_pars_vertex>\n#include <morphtarget_pars_vertex>\n#include <skinning_pars_vertex>\n#include <shadowmap_pars_vertex>\n#include <logdepthbuf_pars_vertex>\n#include <clipping_planes_pars_vertex>\nvoid main() {\n\t#include <uv_vertex>\n\t#include <uv2_vertex>\n\t#include <color_vertex>\n\t#include <beginnormal_vertex>\n\t#include <morphnormal_vertex>\n\t#include <skinbase_vertex>\n\t#include <skinnormal_vertex>\n\t#include <defaultnormal_vertex>\n#ifndef FLAT_SHADED\n\tvNormal = normalize( transformedNormal );\n#endif\n\t#include <begin_vertex>\n\t#include <morphtarget_vertex>\n\t#include <skinning_vertex>\n\t#include <displacementmap_vertex>\n\t#include <project_vertex>\n\t#include <logdepthbuf_vertex>\n\t#include <clipping_planes_vertex>\n\tvViewPosition = - mvPosition.xyz;\n\t#include <worldpos_vertex>\n\t#include <shadowmap_vertex>\n\t#include <fog_vertex>\n}\n"
      }
     },
     "6099df949d354992833556af2962bbe1": {
      "model_module": "@jupyter-widgets/controls",
      "model_module_version": "1.5.0",
      "model_name": "ButtonStyleModel",
      "state": {}
     },
     "60a0c57c88474125ab34f2062aa0a77b": {
      "model_module": "jupyter-threejs",
      "model_module_version": "^2.1.0",
      "model_name": "DirectionalLightModel",
      "state": {
       "_view_module": null,
       "_view_module_version": "",
       "color": "white",
       "intensity": 0.12,
       "matrixWorldNeedsUpdate": true,
       "position": [
        -3.3346667695588637,
        -3.3346667695588637,
        -3.3346667695588637
       ],
       "shadow": "IPY_MODEL_775d60c2-4b91-48e1-8996-6477a44cdb96",
       "target": "IPY_MODEL_0cd3aee5-5d85-4608-92f4-cab9c02f034f"
      }
     },
     "6158e300-95e4-4c27-a2f1-7d11f4d24764": {
      "model_module": "jupyter-threejs",
      "model_module_version": "^2.1.0",
      "model_name": "DirectionalLightShadowModel",
      "state": {
       "camera": "IPY_MODEL_52355d66-c9a2-4b47-abb6-93ae7779d93a"
      }
     },
     "6170a692edb545499fb0e0bbf467db25": {
      "model_module": "jupyter_cadquery",
      "model_module_version": "^v1.0.0",
      "model_name": "ImageButtonModel",
      "state": {
       "_dom_classes": [
        "view_button"
       ],
       "_model_module_version": "^v1.0.0",
       "_view_module_version": "^v1.0.0",
       "height": "28",
       "layout": "IPY_MODEL_dc07e2a127644f1eb11a4f5f1f892b08",
       "style": "IPY_MODEL_8781d5ebe45a4c1cadfa9204c15da3dd",
       "tooltip": "Change view to top",
       "type": "top",
       "value": {},
       "width": "36"
      }
     },
     "61798e60db0d46a6aa29939cb392ccde": {
      "model_module": "@jupyter-widgets/controls",
      "model_module_version": "1.5.0",
      "model_name": "SliderStyleModel",
      "state": {
       "description_width": ""
      }
     },
     "61af87db061c41d4976989a046a96a24": {
      "model_module": "jupyter-threejs",
      "model_module_version": "^2.1.0",
      "model_name": "GridHelperModel",
      "state": {
       "_view_module": null,
       "_view_module_version": "",
       "colorCenterLine": "#aaa",
       "colorGrid": "#ddd",
       "divisions": 12,
       "matrix": [
        1,
        0,
        0,
        0,
        0,
        2.220446049250313e-16,
        1,
        0,
        0,
        -1,
        2.220446049250313e-16,
        0,
        0.9999999999999999,
        -0.75,
        2.125,
        1
       ],
       "position": [
        0.9999999999999999,
        -0.75,
        2.125
       ],
       "quaternion": [
        0.7071067811865475,
        0,
        0,
        0.7071067811865476
       ],
       "rotation": [
        1.5707963267948966,
        0,
        0,
        "XYZ"
       ],
       "size": 12,
       "type": "LineSegments",
       "visible": false
      }
     },
     "61cf8419437e497380467c82c7090e0e": {
      "model_module": "jupyter_cadquery",
      "model_module_version": "^v1.0.0",
      "model_name": "TreeModel",
      "state": {
       "_dom_classes": [
        "view_tree",
        "scroll-area",
        "mac-scrollbar"
       ],
       "_model_module_version": "^v1.0.0",
       "_view_module_version": "^v1.0.0",
       "button_style": "",
       "icon": "",
       "icons": [
        {
         "0": "iVBORw0KGgoAAAANSUhEUgAAARgAAADcCAYAAACrgL6aAAAFCElEQVR4nO3dUXYbNwwFULQnC/PSvbPmo9Vxao9saUQOAfDeDUQE3jxTipVEAAAAAAAAAAAAAAAAAAAAAAAAAAAAAAAAAAAAAAAAAAAAAAAAAAAAAAAAAAAAAAAAAAAAAAAAAAAAAAAAAAAAAADU89fqF8Aab29v/1z9Z76/v8vbZiy8mRXFMZoi6sMiC+pQImcpn1osK7Gdi+RZiicnS0lCmYyndNazgIWUyrUUzvUM/EIKJQ9lcw1Dnkyp1KBw5jDUwRRKfcpmHIMcQKn0pWxeY3gnVS+VFQ9O9ZlFKJxnGdYTKj0gVR8EM+7FgB6QLfQ7B9suajGcO7IEWYB/Zld5GciBVYEV0HFWlo49fjCI/yiVvpTNOlsf/ubKAO4euCzs/BrbHjzimpDtHK4q5GCeLQ8tUNwjG2Ntc9CI+eHZKTg7mJmXXbKyxSEj5oVll6DsTn7OaX24iDnB6B4KvidTj2t5qAg/cZhLyTym3YEixi+/4+IZR97ua3OQm5HL7rRo5pO9r1oc4mbUgrssl+spmf8rf4AIxUJOchnx9+oX8CpLJKtRmcrybfEzSj9UIwavWLjCrlkt94JvXl1YxWVR244lU+rF3ryyqGoLoqddMlzuM5hdFkNvr2Sx0mcypR64s4NVLGTWOddlbjCdl8Dezma0wk2mRMEoF7rrWjLpCyb7AGG1zM/Ir9UvYAY3Fyq65TZzYTwr9Q3mzKCVC9WdyXDWUkr5MPrMBXo8B6lvMM/INFQYoUOm0xWMt0XwofrbpVQFo1zgq8olk6pggF7SFIzbC9xX9RaTpmCepVzYTcXMpyiYZ5u24qBhhGezv/oWk6JggJ7KFYzbC7ur9AwsL5jVVzjobuUztrxggL5KFUylqyHMVOVZKFUw3k7Bv6o8C6UKBqhlecFUuepBVSufseUF86wqV0OYpdIzUK5ggDpSFEy1X3+GVap9rSZFwZyhZNhNxcynKZiqX0eHK1T950zSFAzQT6qCcYuBr6reXiKSFUyEkoE/VS6XiIQFc5aSoZsOmU7TdEeqtzec1SX7qW8w3i6xoy7lEhHxa/ULmOG2oKxDhyMdfzimvsFEKAn4SeZnJH3BRJwfYMefCPTU4T+6P1KiYCKUDH11LZeI5H+LdOSVwqiwEPaxQ5bL3GBuXhms2wxZ7FAuEQVvMDcjyqLSoujh1dxWy2ypF/uZkqGKXbNa7gV/NuptT8Xlkd/u+Sz3Gcxnowbv8xlG271cIhrcYP40siQqL5W1FMuH8gf4TMmwiux91eIQn41+u9Nl2cwhb/e1OciRGZ+rdFo+5836zK5bvlod5oiSYTSZelzLQx3xE4dXyM85rQ93ZOZfR3cPy25m/+rCDnlpf8AjV/zOyw7h6Ug2xtrmoPcIFBFyMMt2Bz5y5W/x7hiyjOz8Gtse/LOVXxXYOYBXWbXf3Xe79eHvUTY9KJX1DOIbWb4AKbA/s6ucDONBWQJ8s3OQ7aIOg3lCtmB/p2rozbgXAzqp0oNwz4oHpPrclMpzDGuQ6g8O9ymV8wxuAmVTn1IZwxAnUzY1KJQ5DPViCicPpTKfAS+kbK6lUK5n4IkonPGUylqGn5zSeZwyycdCitq5eBRJHRbVUIfyUSI9WOLGVhSR4gAAAAAAAAAAAAAAAAAAAAAAAAAAAAAAAAAAAAAAAAAAAAAAAAAAAAAAAAAAAAAAAAAAAAAAAAAAAAAAAAAAAABgkN/fSHSu9KigrAAAAABJRU5ErkJggg==",
         "1": "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",
         "2": "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",
         "3": "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"
        },
        {
         "0": "iVBORw0KGgoAAAANSUhEUgAAARgAAADcCAYAAACrgL6aAAADU0lEQVR4nO3YUVFEMRBE0QEfqwoDSMMAqhCyKEh+YDbTqXMMZH7era5XBQAAAAAAAAAAAAAAAAAAAAAAAAAAAAAAAAAAAAAAAAAAAAAAAAAAAAAAAAAAAAAAAAAAAAAAwN+8nT7gv3x8/TxP3wCTfX8+Xv69v7/6QeD1TsSl6pLAWC8w0xWBAdZOrZeqCwJjvcBc8YEB1k6ul6rwwFgvMFt0YIC10+ulKjgw1gvMFxsYYG3CeqkKDYz1AhkiAwOsTVkvVYGBsV4gR1xggLVJ66UqLDDWC2SJCgywNm29VAUFxnqBPDGBAdYmrpeqkMBYL5ApIjDA2tT1UhUQGOsFco0PDLA2eb1UDQ+M9QLZRgcGWJu+XqoGB8Z6gXxjAwOsJayXqqGBsV7gDiMDA6ylrJeqgYGxXuAe4wIDrCWtl6phgbFe4C6jAgOspa2XqkGBsV7gPmMCA6wlrpeqIYGxXuBOIwIDrKWul6oBgbFe4F7HAwOsJa+XqsOBsV7gbhYMDJW+XqoOBsZ6gftZMEAbgQHaCAzQRmCANgIDtBEYoI3AAG0EBmgjMEAbgQHaCAzQRmCANgIDtBEYoI3AAG0EBmgjMEAbgQHaCAzQRmCANgIDtBEYoI3AAG0EBmgjMEAbgQHaCAzQRmCANgIDtBEYoI3AAG0EBmgjMEAbgQHaCAzQRmCANgIDtBEYoI3AAG0EBmhzLDDfn4+3U28Dr2HBwFAfXz/P0zf81dHAWDFwNwsGBktfMccDY8XAvY4HBthLXjEjAmPFwJ1GBAbYS10xYwJjxcB9xgQG2EtcMaMCY8XAXUYFBthLWzHjAmPFwD3GBQbYS1oxIwNjxcAdRgYG2EtZMWMDY8VAvrGBAfYSVszowFgxkG10YIC96StmfGCsGMg1PjDA3uQVExEYKwYyRQQG2Ju6YmICY8VAnpjAAHsTV0xUYKwYyBIVGGBv2oqJC4wVAzniAgPsTVoxkYGxYiBDZGCAvSkrJjYwVgzMFxsYYG/CiokOjBUDs0UHBtg7vWLiA2PFwFzxgQH2Tq6YKwJjxcBMVwQG2Dv9LwYAAAAAAAAAAAAAAAAAAAAAAAAAAAAAAAAAAAAAAAAAAAAAAAAAAAAAAAAAAAAAAAAAAAAA4Hq/ZAik8uNneKUAAAAASUVORK5CYII=",
         "1": "iVBORw0KGgoAAAANSUhEUgAAARgAAADcCAYAAACrgL6aAAAFFklEQVR4nO3bUWocSRAE0PTiG/hCuojBRzP4InMhn8H7tbCwsHRLyqrI6ve+BTMo3JGhsVQFAAAAAAAAAAAAAAAAAAAAAAAAAAAAAAAAAAAAAAAAAAAAAAAAAAAAAAAAAAAAAAAAAJzty+438FFvb29/dr8HmOT1ei177v9a9UIdlAvct/K5GVswygXeb9XzM7ZggHwjC8Z6gRlGFgwww7iCsV5gjnEFA3zcqv+qHlUw1gvMMqpggI9b+Yt2X1e90EfdWS/ffvzqfCtU1e+f3y9/rTz63cljpeMWjH/MWeSRZeV6qRpSMD57yZJ6LZ8qOY8RBXOVa5lFHllWr5eqAQVjvWRJvpZPlJ5HfMFc5VpmkUeWHeulKrxgrJcs6dfyaSbkEV0wV7mWWeSRZdd6qQouGOsly4Rr+SRT8ogtmKtcyyzyyLJzvVSFFoz1kmXKtXyKSXlEFsxVrmUWeWTZvV6qAgvGesky6Vo+wbQ84grmKtcyizyyJKyXqrCCsV6yTLuWp5uYR1TBXOVaZpFHlpT1UhVUMNZLlonX8mRT84gpmKtcyyzyyJK0XqpCCsZ6yTL1Wp5qch4RBXOVa5lFHlnS1ktVQMFYL1kmX8sTTc9je8Fc5VpmkUeWxPVStblgrJcs06/laU7IY8SCcS2zyCNL6nqp2lgw1kuWE67lSU7JI37BuJZZ5JEleb1UbSoY6yXLKdfyFCflEb1gXMss8siSvl6qNhSM9ZLlpGt5gtPyWN6ACgY+bsJ6qVq8YJQLPEv0ZzDAf01ZL1ULC8Z6geexYGCQSeulalHBWC/wTBYM0EbBAG0UDNBGwQBtFAzQ5uvuN/Bv/phujTt/7yKTNU77G6R/WDBAGwUDtFEwQBsFA7RRMEAbBQO0UTBAGwUDtFEwQBsFA7RRMEAbBQO0UTBAGwUDtFEwQBsFA7RRMEAbBQO0UTBAGwUDtFEwQBsFA7RRMEAbBQO0UTBAGwUDtFEwQBsFA7T5suJF3t7e/qx4HTjd6/Va8sx+FgsGaKNggDYKBmijYIA2CgZos6Rgpn3yDXwOCwYGmfYrH8sKxoqB57FgYJhJK2ZpwVgx8CzLH/g77fvtx6/Ot0JV/f75/fLXyqPfnTwmHOzlPyJN+KY8idLIcloe0Z/B3Glz+skjy4TPYrYUjBWT5bSrOd1JeUQvmCpXM408sqSvmG0FY8VkOelqnuCUPOIXTJWrmUYeWZJXzNaCsWKynHI1T3FCHiMWTJWrmUYeWVJXzPaCsWKynHA1TzI9j+0Fc4ermUUeWRJXTETBWDFZpl/N00zOI6Jg7nA1s8gjS9qKiSkYKybL5Kt5oql5xBTMHa5mFnlkSVoxUQVjxWSZejVPNTGPqIK5w9XMIo8sKSsmrmCsmCwTr+bJpuURVzB3uJpZ5JElYcVEFowVk2Xa1TzdpDwiC+YOVzOLPLLsXjGxBWPFZJl0NZ9gSh6xBXOHq5lFHll2rpjogrFisky5mk8xIY/ogrnD1cwijyy7Vkx8wVgxWSZczSdJzyO+YO5wNbPII8uOFTOiYKyYLOlX82mS8xhRMHe4mlnkkWX1ihm1DHb/0hCcYOVPBMctGOD/rTzUowrGZzEwy6iCAT7HqhUzrmCsGJhjXMEAc4wsGCsGZhhZMMAMYwvGioH3W/X8jC2YKiUD7+G5AQAAAAAAAAAAAAAAAAAAAAAAAAAAAAAAAAAAAAAAAAAAAAAAAAAAAAAAAAAAAAAAgAf6Gy0zeNBNTtmiAAAAAElFTkSuQmCC",
         "2": "iVBORw0KGgoAAAANSUhEUgAAARgAAADcCAYAAACrgL6aAAAElElEQVR4nO3dwW3kRhRF0S9DGcxauXQOWhtQaAJmPTkwF60nBnlRGNswBgap7s961X1OAiqIwuMVW4SqAAAAAAAAAAAAAAAAAAAAAAAAAAAAAAAAAAAAAAAAAAAAAAAAAAAAAAAAAAAAAAAAAID79jT7ANe6XC6fs8/waLZtW/7nhnP8MfsA1zAukG3ZgTEukG/ZgQHyPc8+wFeol/vx+v7hWp7kx9vL6c/OFAw8gBnjUrXgwKgXWMdyAwMcM6teqhYbGPUCa1lqYIBjZtZL1UKfIh2pl29v3zuPwvYy+wQs4u4KxrjAMLteqhYZGM9eYE1LDMxe6gWGhHqpWmBg1EuWn+9/zj4CC4kfmL3UCwwp9VIVPjDqJYt64ajogdlLvcCQVC9VwQOjXrKoF74idmD2Ui8wpNVLVejAqJcs6oWvihyYvdQLDIn1UhU4MOoli3rhGnEDs5d6gSG1XqrCBka9ZFEvXCtqYPZSLzAk10tV0MColyzqhVuIGZi91AsM6fVSFTIw6iWLeuFWIgZmL/UCwwr1UhUwMOoli3rhlqYPzF7qBYZV6qVq8sColyzqhVtbomDUCwwr1UvVxIFRL1nUCx3iC0a9ZHE95lmtXqomDYx6yaJe6BJdMO6WWVyPeVasl6oJA6NesqgXOj3PPsD/8cOfxfWYY9V6qTq5YNQLPJboZzDw6Faul6oTB0a9wONRMBBq9XqpOmlg1As8JgUDtDEwQBsDA7QxMEAbAwO0iXpVwMt05zjyJ/+/vSbbyw1Pwz1TMEAbAwO0MTBAGwMDtDEwQBsDA7QxMEAbAwO0MTBAGwMDtDEwQBsDA7QxMEAbAwO0MTBAGwMDtDEwQBsDA7QxMEAbAwO0MTBAGwMDtDEwQBsDA7QxMEAbAwO0MTBAGwMDtHmefYB/O/JP2TmHa8I1FAzQxsAAbQwM0MbAAG0MDNDmlIHZtu3pjK8DZFEwEOr1/eNz9hmuddrAqBh4PAoGgq1eMacOjIqBxxL1qsB/fXv7PvsId+/IqwB/X4/tpek0/M7r+8fnj7eXJW/Op/+KpGKyGHE6RT+D8aJdFtdjnlWfxUwZGBWTRcXQJbpgqtw107ge86xYMdMGRsVkUTF0iC+YKndN+GW1ipk6MComi4rh1pYomCoVA7+sVDHTB0bFZFEx3NL0gTlCxcCwSsVEDIyKyaJiuJWIgTlCxcCwQsXEDIyKyaJiuIWYgTlCxcCQXjFRA6NisqgYrhU1MEeoGBiSKyZuYFRMFhXDNeIG5ggVA0NqxUQOjIrJomL4qsiBOULFwJBYMbEDo2KyqBi+InZgjlAxMKRVTPTAqJgsKoajogfmCBUDQ1LFxA+MismiYjgifmCOUDEwpFTMEgOjYmBNSwzMESoGhoSKeZ59gL22bXu6XC67vmFGBjLcXcEA/5hdMUsNjGcxsJalBgY4bmbFLDcwKgbWsdzAAMfNqphla2DvJ0rcnopkLwUDtFl2YNxFId+yA1NlZAAAAAAAAAAAAAAAAAAAAAAAAAAAAAAAAAAAAAAAAAAAAAAAAAAAAAAAAAAAAAAAAABgl78AGhwmMlTVb/sAAAAASUVORK5CYII=",
         "3": "iVBORw0KGgoAAAANSUhEUgAAARgAAADcCAYAAACrgL6aAAADTElEQVR4nO3YwW3FMAxEQSZluP/a3EZSgXRJ+MUVZhoQL35YuAoAAAAAAAAAAAAAAAAAAAAAAAAAAAAAAAAAAAAAAAAAAAAAAAAAAAAAAAAAAAAAAAAAAAAAAIC/+Tp9wH953/fn9A0w2fM8H//evz/9IPB5J+JSdUlgrBeY6YrAAGun1kvVBYGxXmCu+MAAayfXS1V4YKwXmC06MMDa6fVSFRwY6wXmiw0MsDZhvVSFBsZ6gQyRgQHWpqyXqsDAWC+QIy4wwNqk9VIVFhjrBbJEBQZYm7ZeqoICY71AnpjAAGsT10tVSGCsF8gUERhgbep6qQoIjPUCucYHBlibvF6qhgfGeoFsowMDrE1fL1WDA2O9QL6xgQHWEtZL1dDAWC9wh5GBAdZS1kvVwMBYL3CPcYEB1pLWS9WwwFgvcJdRgQHW0tZL1aDAWC9wnzGBAdYS10vVkMBYL3CnEYEB1lLXS9WAwFgvcK/jgQHWktdL1eHAWC9wNwsGhkpfL1UHA2O9wP0sGKCNwABtBAZoIzBAG4EB2ggM0EZggDYCA7QRGKCNwABtBAZoIzBAG4EB2ggM0EZggDYCA7QRGKCNwABtBAZoIzBAG4EB2ggM0EZggDYCA7QRGKCNwABtBAZoIzBAG4EB2ggM0EZggDYCA7QRGKCNwABtBAZoIzBAG4EB2ggM0EZggDYCA7Q5Fpjneb5OvQ18hgUDQ73v+3P6hr86GhgrBu5mwcBg6SvmeGCsGLjX8cAAe8krZkRgrBi404jAAHupK2ZMYKwYuM+YwAB7iStmVGCsGLjLqMAAe2krZlxgrBi4x7jAAHtJK2ZkYKwYuMPIwAB7KStmbGCsGMg3NjDAXsKKGR0YKwayjQ4MsDd9xYwPjBUDucYHBtibvGIiAmPFQKaIwAB7U1dMTGCsGMgTExhgb+KKiQqMFQNZogID7E1bMXGBsWIgR1xggL1JKyYyMFYMZIgMDLA3ZcXEBsaKgfliAwPsTVgx0YGxYmC26MAAe6dXTHxgrBiYKz4wwN7JFXNFYKwYmOmKwAB7p//FAAAAAAAAAAAAAAAAAAAAAAAAAAAAAAAAAAAAAAAAAAAAAAAAAAAAAAAAAAAAAAAAAAAAAABc7xeH7KTyjFElFAAAAABJRU5ErkJggg=="
        }
       ],
       "layout": "IPY_MODEL_fa2cf70051724cff9a10d0973bf0f741",
       "state": {
        "19": [
         1,
         1
        ],
        "20": [
         1,
         1
        ],
        "22": [
         1,
         1
        ],
        "24": [
         1,
         1
        ]
       },
       "style": "IPY_MODEL_cb420d5c0eba42a59007f5ced1ae47b8",
       "tooltip": "",
       "tree": {
        "children": [
         {
          "color": "#aaa",
          "id": 19,
          "name": "TOP_0",
          "type": "leaf"
         },
         {
          "children": [
           {
            "color": "#00ff00",
            "id": 20,
            "name": "SECOND_0",
            "type": "leaf"
           }
          ],
          "id": 21,
          "name": "SECOND",
          "type": "node"
         },
         {
          "children": [
           {
            "color": "#ffa500",
            "id": 22,
            "name": "THIRD_0",
            "type": "leaf"
           }
          ],
          "id": 23,
          "name": "THIRD",
          "type": "node"
         },
         {
          "children": [
           {
            "color": "#0000ff",
            "id": 24,
            "name": "4th_0",
            "type": "leaf"
           }
          ],
          "id": 25,
          "name": "4th",
          "type": "node"
         }
        ],
        "id": 26,
        "name": "TOP",
        "type": "node"
       }
      }
     },
     "6203a57c956344bcbec775a0859de2d3": {
      "model_module": "jupyter-threejs",
      "model_module_version": "^2.1.0",
      "model_name": "ShaderMaterialModel",
      "state": {
       "_view_module": null,
       "_view_module_version": "",
       "clipping": true,
       "fragmentShader": "\n        uniform float alpha;\n        #define PHYSICAL\nuniform vec3 diffuse;\nuniform vec3 emissive;\nuniform float roughness;\nuniform float metalness;\nuniform float opacity;\n#ifndef STANDARD\n\tuniform float clearCoat;\n\tuniform float clearCoatRoughness;\n#endif\nvarying vec3 vViewPosition;\n#ifndef FLAT_SHADED\n\tvarying vec3 vNormal;\n#endif\n#include <common>\n#include <packing>\n#include <dithering_pars_fragment>\n#include <color_pars_fragment>\n#include <uv_pars_fragment>\n#include <uv2_pars_fragment>\n#include <map_pars_fragment>\n#include <alphamap_pars_fragment>\n#include <aomap_pars_fragment>\n#include <lightmap_pars_fragment>\n#include <emissivemap_pars_fragment>\n#include <bsdfs>\n#include <cube_uv_reflection_fragment>\n#include <envmap_pars_fragment>\n#include <envmap_physical_pars_fragment>\n#include <fog_pars_fragment>\n#include <lights_pars_begin>\n#include <lights_physical_pars_fragment>\n#include <shadowmap_pars_fragment>\n#include <bumpmap_pars_fragment>\n#include <normalmap_pars_fragment>\n#include <roughnessmap_pars_fragment>\n#include <metalnessmap_pars_fragment>\n#include <logdepthbuf_pars_fragment>\n#include <clipping_planes_pars_fragment>\nvoid main() {\n\t#include <clipping_planes_fragment>\n\tvec4 diffuseColor = vec4( diffuse, opacity );\n\tReflectedLight reflectedLight = ReflectedLight( vec3( 0.0 ), vec3( 0.0 ), vec3( 0.0 ), vec3( 0.0 ) );\n\tvec3 totalEmissiveRadiance = emissive;\n\t#include <logdepthbuf_fragment>\n\t#include <map_fragment>\n\t#include <color_fragment>\n\t#include <alphamap_fragment>\n\t#include <alphatest_fragment>\n\t#include <roughnessmap_fragment>\n\t#include <metalnessmap_fragment>\n\t#include <normal_fragment_begin>\n\t#include <normal_fragment_maps>\n\t#include <emissivemap_fragment>\n\t#include <lights_physical_fragment>\n\t#include <lights_fragment_begin>\n\t#include <lights_fragment_maps>\n\t#include <lights_fragment_end>\n\t#include <aomap_fragment>\n\tvec3 outgoingLight = reflectedLight.directDiffuse + reflectedLight.indirectDiffuse + reflectedLight.directSpecular + reflectedLight.indirectSpecular + totalEmissiveRadiance;\n\t\n            if ( gl_FrontFacing ) {\n                gl_FragColor = vec4( outgoingLight, alpha * diffuseColor.a );\n            } else {\n                gl_FragColor = vec4( diffuseColor.r, diffuseColor.g, diffuseColor.b, alpha * diffuseColor.a );\n            }\n\t#include <tonemapping_fragment>\n\t#include <encodings_fragment>\n\t#include <fog_fragment>\n\t#include <premultiplied_alpha_fragment>\n\t#include <dithering_fragment>\n}\n",
       "lights": true,
       "polygonOffset": true,
       "polygonOffsetFactor": 1,
       "polygonOffsetUnits": 1,
       "side": "DoubleSide",
       "uniforms": {
        "alpha": {
         "value": 0.7
        },
        "alphaMap": {
         "value": null
        },
        "ambientLightColor": {
         "value": [
          1,
          1,
          1
         ]
        },
        "aoMap": {
         "value": null
        },
        "aoMapIntensity": {
         "value": 1
        },
        "bumpMap": {
         "value": null
        },
        "bumpScale": {
         "value": 1
        },
        "diffuse": {
         "type": "c",
         "value": "#e8b024"
        },
        "directionalLights": {
         "value": [
          {
           "color": 1973790,
           "direction": {
            "x": -2.49923634283188e-16,
            "y": 7.68877499820049e-17,
            "z": -0.9999999999999999
           },
           "shadow": false,
           "shadowBias": 0,
           "shadowMapSize": {
            "x": 0,
            "y": 0
           },
           "shadowRadius": 1
          },
          {
           "color": 1973790,
           "direction": {
            "x": -5.762736564483164e-17,
            "y": 0.9428090415820632,
            "z": -0.3333333333333332
           },
           "shadow": false,
           "shadowBias": 0,
           "shadowMapSize": {
            "x": 0,
            "y": 0
           },
           "shadowRadius": 1
          },
          {
           "color": 1973790,
           "direction": {
            "x": 0.8164965809277259,
            "y": -0.47140452079103146,
            "z": -0.3333333333333334
           },
           "shadow": false,
           "shadowBias": 0,
           "shadowMapSize": {
            "x": 0,
            "y": 0
           },
           "shadowRadius": 1
          },
          {
           "color": 1973790,
           "direction": {
            "x": 0.816496580927726,
            "y": 0.47140452079103157,
            "z": 0.33333333333333326
           },
           "shadow": false,
           "shadowBias": 0,
           "shadowMapSize": {
            "x": 0,
            "y": 0
           },
           "shadowRadius": 1
          },
          {
           "color": 1973790,
           "direction": {
            "x": -0.816496580927726,
            "y": -0.47140452079103157,
            "z": -0.33333333333333326
           },
           "shadow": false,
           "shadowBias": 0,
           "shadowMapSize": {
            "x": 0,
            "y": 0
           },
           "shadowRadius": 1
          },
          {
           "color": 1973790,
           "direction": {
            "x": -0.8164965809277259,
            "y": 0.47140452079103146,
            "z": 0.3333333333333334
           },
           "shadow": false,
           "shadowBias": 0,
           "shadowMapSize": {
            "x": 0,
            "y": 0
           },
           "shadowRadius": 1
          },
          {
           "color": 1973790,
           "direction": {
            "x": 5.762736564483164e-17,
            "y": -0.9428090415820632,
            "z": 0.3333333333333332
           },
           "shadow": false,
           "shadowBias": 0,
           "shadowMapSize": {
            "x": 0,
            "y": 0
           },
           "shadowRadius": 1
          },
          {
           "color": 1973790,
           "direction": {
            "x": 2.49923634283188e-16,
            "y": -7.68877499820049e-17,
            "z": 0.9999999999999999
           },
           "shadow": false,
           "shadowBias": 0,
           "shadowMapSize": {
            "x": 0,
            "y": 0
           },
           "shadowRadius": 1
          }
         ]
        },
        "directionalShadowMap": {
         "value": [
          null,
          null,
          null,
          null,
          null,
          null,
          null,
          null
         ]
        },
        "directionalShadowMatrix": {
         "value": [
          {
           "elements": [
            1,
            0,
            0,
            0,
            0,
            1,
            0,
            0,
            0,
            0,
            1,
            0,
            0,
            0,
            0,
            1
           ]
          },
          {
           "elements": [
            1,
            0,
            0,
            0,
            0,
            1,
            0,
            0,
            0,
            0,
            1,
            0,
            0,
            0,
            0,
            1
           ]
          },
          {
           "elements": [
            1,
            0,
            0,
            0,
            0,
            1,
            0,
            0,
            0,
            0,
            1,
            0,
            0,
            0,
            0,
            1
           ]
          },
          {
           "elements": [
            1,
            0,
            0,
            0,
            0,
            1,
            0,
            0,
            0,
            0,
            1,
            0,
            0,
            0,
            0,
            1
           ]
          },
          {
           "elements": [
            1,
            0,
            0,
            0,
            0,
            1,
            0,
            0,
            0,
            0,
            1,
            0,
            0,
            0,
            0,
            1
           ]
          },
          {
           "elements": [
            1,
            0,
            0,
            0,
            0,
            1,
            0,
            0,
            0,
            0,
            1,
            0,
            0,
            0,
            0,
            1
           ]
          },
          {
           "elements": [
            1,
            0,
            0,
            0,
            0,
            1,
            0,
            0,
            0,
            0,
            1,
            0,
            0,
            0,
            0,
            1
           ]
          },
          {
           "elements": [
            1,
            0,
            0,
            0,
            0,
            1,
            0,
            0,
            0,
            0,
            1,
            0,
            0,
            0,
            0,
            1
           ]
          }
         ]
        },
        "displacementBias": {
         "value": 0
        },
        "displacementMap": {
         "value": null
        },
        "displacementScale": {
         "value": 1
        },
        "emissive": {
         "type": "c",
         "value": "#000000"
        },
        "emissiveMap": {
         "value": null
        },
        "envMap": {
         "value": null
        },
        "envMapIntensity": {
         "value": 1
        },
        "flipEnvMap": {
         "value": -1
        },
        "fogColor": {
         "type": "c",
         "value": "#ffffff"
        },
        "fogDensity": {
         "value": 0.00025
        },
        "fogFar": {
         "value": 2000
        },
        "fogNear": {
         "value": 1
        },
        "hemisphereLights": {
         "value": []
        },
        "lightMap": {
         "value": null
        },
        "lightMapIntensity": {
         "value": 1
        },
        "map": {
         "value": null
        },
        "maxMipLevel": {
         "value": 0
        },
        "metalness": {
         "value": 0.3
        },
        "metalnessMap": {
         "value": null
        },
        "normalMap": {
         "value": null
        },
        "normalScale": {
         "type": "v2",
         "value": [
          1,
          1
         ]
        },
        "opacity": {
         "value": 1
        },
        "pointLights": {
         "value": []
        },
        "pointShadowMap": {
         "value": []
        },
        "pointShadowMatrix": {
         "value": []
        },
        "rectAreaLights": {
         "value": []
        },
        "reflectivity": {
         "value": 1
        },
        "refractionRatio": {
         "value": 0.98
        },
        "roughness": {
         "value": 0.8
        },
        "roughnessMap": {
         "value": null
        },
        "spotLights": {
         "value": []
        },
        "spotShadowMap": {
         "value": []
        },
        "spotShadowMatrix": {
         "value": []
        },
        "uvTransform": {
         "type": "m3",
         "value": [
          1,
          0,
          0,
          0,
          1,
          0,
          0,
          0,
          1
         ]
        }
       },
       "vertexShader": "#define PHYSICAL\nvarying vec3 vViewPosition;\n#ifndef FLAT_SHADED\n\tvarying vec3 vNormal;\n#endif\n#include <common>\n#include <uv_pars_vertex>\n#include <uv2_pars_vertex>\n#include <displacementmap_pars_vertex>\n#include <color_pars_vertex>\n#include <fog_pars_vertex>\n#include <morphtarget_pars_vertex>\n#include <skinning_pars_vertex>\n#include <shadowmap_pars_vertex>\n#include <logdepthbuf_pars_vertex>\n#include <clipping_planes_pars_vertex>\nvoid main() {\n\t#include <uv_vertex>\n\t#include <uv2_vertex>\n\t#include <color_vertex>\n\t#include <beginnormal_vertex>\n\t#include <morphnormal_vertex>\n\t#include <skinbase_vertex>\n\t#include <skinnormal_vertex>\n\t#include <defaultnormal_vertex>\n#ifndef FLAT_SHADED\n\tvNormal = normalize( transformedNormal );\n#endif\n\t#include <begin_vertex>\n\t#include <morphtarget_vertex>\n\t#include <skinning_vertex>\n\t#include <displacementmap_vertex>\n\t#include <project_vertex>\n\t#include <logdepthbuf_vertex>\n\t#include <clipping_planes_vertex>\n\tvViewPosition = - mvPosition.xyz;\n\t#include <worldpos_vertex>\n\t#include <shadowmap_vertex>\n\t#include <fog_vertex>\n}\n"
      }
     },
     "6219905430d2431896d80cdce3bd103f": {
      "model_module": "@jupyter-widgets/base",
      "model_module_version": "1.2.0",
      "model_name": "LayoutModel",
      "state": {}
     },
     "6230747f2910412692872482e946c5ac": {
      "model_module": "@jupyter-widgets/base",
      "model_module_version": "1.2.0",
      "model_name": "LayoutModel",
      "state": {
       "margin": "0px 10px 0px 0px"
      }
     },
     "6265c32cfa4f418fa1ee2a5830191de0": {
      "model_module": "@jupyter-widgets/controls",
      "model_module_version": "1.5.0",
      "model_name": "ButtonStyleModel",
      "state": {}
     },
     "6285cbd48a9c4d8991beacba8a5f7d4b": {
      "model_module": "@jupyter-widgets/controls",
      "model_module_version": "1.5.0",
      "model_name": "ButtonStyleModel",
      "state": {}
     },
     "629a7eae5e3a457ab46a29dd4123d32b": {
      "model_module": "jupyter-threejs",
      "model_module_version": "^2.1.0",
      "model_name": "BufferGeometryModel",
      "state": {
       "_view_module": null,
       "_view_module_version": "",
       "attributes": {
        "index": "IPY_MODEL_39daabc4b2e0487faca8be27502a99ee",
        "normal": "IPY_MODEL_81adee773e674c82986e5af873d209d4",
        "position": "IPY_MODEL_5e6a662083da4dafa50d0c61623625bf"
       }
      }
     },
     "631baaa30bd848b2b6f6adc310450904": {
      "model_module": "@jupyter-widgets/base",
      "model_module_version": "1.2.0",
      "model_name": "LayoutModel",
      "state": {
       "height": "335px",
       "width": "230px"
      }
     },
     "63332500b42048639df1e56fb081a67a": {
      "model_module": "jupyter-threejs",
      "model_module_version": "^2.1.0",
      "model_name": "LineMaterialModel",
      "state": {
       "_view_module": null,
       "_view_module_version": "",
       "color": "#808080"
      }
     },
     "63404a989c224657a7b3d775e44cf422": {
      "model_module": "@jupyter-widgets/base",
      "model_module_version": "1.2.0",
      "model_name": "LayoutModel",
      "state": {}
     },
     "63533550c6ed4fa1b21f92ef181e79e2": {
      "model_module": "@jupyter-widgets/controls",
      "model_module_version": "1.5.0",
      "model_name": "ButtonStyleModel",
      "state": {}
     },
     "6370f4d9f4354e609649e13fd0d1d38c": {
      "model_module": "@jupyter-widgets/base",
      "model_module_version": "1.2.0",
      "model_name": "LayoutModel",
      "state": {}
     },
     "63c55c8407cd42a9aeec7696279cde64": {
      "model_module": "@jupyter-widgets/controls",
      "model_module_version": "1.5.0",
      "model_name": "CheckboxModel",
      "state": {
       "_dom_classes": [
        "view_black_edges"
       ],
       "description": "Black Edges",
       "disabled": false,
       "indent": false,
       "layout": "IPY_MODEL_a895f57727ba4934abbf40b1975e93af",
       "style": "IPY_MODEL_d9fef8115f0f4cdbad4e9a0faa4f0d0f",
       "value": false
      }
     },
     "63e7e35c580c4e9b90b718b592dd862b": {
      "model_module": "@jupyter-widgets/controls",
      "model_module_version": "1.5.0",
      "model_name": "SliderStyleModel",
      "state": {
       "description_width": ""
      }
     },
     "64461f95f4ed4fabbce681a645d50932": {
      "model_module": "@jupyter-widgets/base",
      "model_module_version": "1.2.0",
      "model_name": "LayoutModel",
      "state": {
       "border": "solid 1px #ddd",
       "height": "216px",
       "overflow": "scroll",
       "width": "250px"
      }
     },
     "6467154fa5d94ce6b5879fbc06d769ff": {
      "model_module": "@jupyter-widgets/base",
      "model_module_version": "1.2.0",
      "model_name": "LayoutModel",
      "state": {}
     },
     "647e98ea32d148228b8fc64d931caef0": {
      "model_module": "jupyter-threejs",
      "model_module_version": "^2.1.0",
      "model_name": "LineSegments2Model",
      "state": {
       "_view_module": null,
       "_view_module_version": "",
       "geometry": "IPY_MODEL_cf7af5ff496346b8809ebebefea1565a",
       "material": "IPY_MODEL_a303f8e0ae0a41eabf23d6a712e1b351",
       "morphTargetInfluences": [],
       "visible": false
      }
     },
     "649f64c16ab44148a893f5b0d407e6d7": {
      "model_module": "@jupyter-widgets/base",
      "model_module_version": "1.2.0",
      "model_name": "LayoutModel",
      "state": {}
     },
     "64a46ba37fdb448f8edb9f0839d7bd7a": {
      "model_module": "jupyter-threejs",
      "model_module_version": "^2.1.0",
      "model_name": "ShaderMaterialModel",
      "state": {
       "_view_module": null,
       "_view_module_version": "",
       "clipping": true,
       "fragmentShader": "\n        uniform float alpha;\n        #define PHYSICAL\nuniform vec3 diffuse;\nuniform vec3 emissive;\nuniform float roughness;\nuniform float metalness;\nuniform float opacity;\n#ifndef STANDARD\n\tuniform float clearCoat;\n\tuniform float clearCoatRoughness;\n#endif\nvarying vec3 vViewPosition;\n#ifndef FLAT_SHADED\n\tvarying vec3 vNormal;\n#endif\n#include <common>\n#include <packing>\n#include <dithering_pars_fragment>\n#include <color_pars_fragment>\n#include <uv_pars_fragment>\n#include <uv2_pars_fragment>\n#include <map_pars_fragment>\n#include <alphamap_pars_fragment>\n#include <aomap_pars_fragment>\n#include <lightmap_pars_fragment>\n#include <emissivemap_pars_fragment>\n#include <bsdfs>\n#include <cube_uv_reflection_fragment>\n#include <envmap_pars_fragment>\n#include <envmap_physical_pars_fragment>\n#include <fog_pars_fragment>\n#include <lights_pars_begin>\n#include <lights_physical_pars_fragment>\n#include <shadowmap_pars_fragment>\n#include <bumpmap_pars_fragment>\n#include <normalmap_pars_fragment>\n#include <roughnessmap_pars_fragment>\n#include <metalnessmap_pars_fragment>\n#include <logdepthbuf_pars_fragment>\n#include <clipping_planes_pars_fragment>\nvoid main() {\n\t#include <clipping_planes_fragment>\n\tvec4 diffuseColor = vec4( diffuse, opacity );\n\tReflectedLight reflectedLight = ReflectedLight( vec3( 0.0 ), vec3( 0.0 ), vec3( 0.0 ), vec3( 0.0 ) );\n\tvec3 totalEmissiveRadiance = emissive;\n\t#include <logdepthbuf_fragment>\n\t#include <map_fragment>\n\t#include <color_fragment>\n\t#include <alphamap_fragment>\n\t#include <alphatest_fragment>\n\t#include <roughnessmap_fragment>\n\t#include <metalnessmap_fragment>\n\t#include <normal_fragment_begin>\n\t#include <normal_fragment_maps>\n\t#include <emissivemap_fragment>\n\t#include <lights_physical_fragment>\n\t#include <lights_fragment_begin>\n\t#include <lights_fragment_maps>\n\t#include <lights_fragment_end>\n\t#include <aomap_fragment>\n\tvec3 outgoingLight = reflectedLight.directDiffuse + reflectedLight.indirectDiffuse + reflectedLight.directSpecular + reflectedLight.indirectSpecular + totalEmissiveRadiance;\n\t\n            if ( gl_FrontFacing ) {\n                gl_FragColor = vec4( outgoingLight, alpha * diffuseColor.a );\n            } else {\n                gl_FragColor = vec4( diffuseColor.r, diffuseColor.g, diffuseColor.b, alpha * diffuseColor.a );\n            }\n\t#include <tonemapping_fragment>\n\t#include <encodings_fragment>\n\t#include <fog_fragment>\n\t#include <premultiplied_alpha_fragment>\n\t#include <dithering_fragment>\n}\n",
       "lights": true,
       "polygonOffset": true,
       "polygonOffsetFactor": 1,
       "polygonOffsetUnits": 1,
       "side": "DoubleSide",
       "uniforms": {
        "alpha": {
         "value": 0.7
        },
        "alphaMap": {
         "value": null
        },
        "ambientLightColor": {
         "value": [
          1,
          1,
          1
         ]
        },
        "aoMap": {
         "value": null
        },
        "aoMapIntensity": {
         "value": 1
        },
        "bumpMap": {
         "value": null
        },
        "bumpScale": {
         "value": 1
        },
        "diffuse": {
         "type": "c",
         "value": "#ffa500"
        },
        "directionalLights": {
         "value": [
          {
           "color": 1973790,
           "direction": {
            "x": -2.989348615883112e-17,
            "y": 2.4777145706089543e-16,
            "z": -1
           },
           "shadow": false,
           "shadowBias": 0,
           "shadowMapSize": {
            "x": 0,
            "y": 0
           },
           "shadowRadius": 1
          },
          {
           "color": 1973790,
           "direction": {
            "x": -9.399224237161659e-17,
            "y": 0.9428090415820635,
            "z": -0.3333333333333332
           },
           "shadow": false,
           "shadowBias": 0,
           "shadowMapSize": {
            "x": 0,
            "y": 0
           },
           "shadowRadius": 1
          },
          {
           "color": 1973790,
           "direction": {
            "x": 0.8164965809277259,
            "y": -0.4714045207910316,
            "z": -0.3333333333333333
           },
           "shadow": false,
           "shadowBias": 0,
           "shadowMapSize": {
            "x": 0,
            "y": 0
           },
           "shadowRadius": 1
          },
          {
           "color": 1973790,
           "direction": {
            "x": 0.8164965809277259,
            "y": 0.4714045207910316,
            "z": 0.3333333333333333
           },
           "shadow": false,
           "shadowBias": 0,
           "shadowMapSize": {
            "x": 0,
            "y": 0
           },
           "shadowRadius": 1
          },
          {
           "color": 1973790,
           "direction": {
            "x": -0.8164965809277259,
            "y": -0.4714045207910316,
            "z": -0.3333333333333333
           },
           "shadow": false,
           "shadowBias": 0,
           "shadowMapSize": {
            "x": 0,
            "y": 0
           },
           "shadowRadius": 1
          },
          {
           "color": 1973790,
           "direction": {
            "x": -0.8164965809277259,
            "y": 0.4714045207910316,
            "z": 0.3333333333333333
           },
           "shadow": false,
           "shadowBias": 0,
           "shadowMapSize": {
            "x": 0,
            "y": 0
           },
           "shadowRadius": 1
          },
          {
           "color": 1973790,
           "direction": {
            "x": 9.399224237161659e-17,
            "y": -0.9428090415820635,
            "z": 0.3333333333333332
           },
           "shadow": false,
           "shadowBias": 0,
           "shadowMapSize": {
            "x": 0,
            "y": 0
           },
           "shadowRadius": 1
          },
          {
           "color": 1973790,
           "direction": {
            "x": 2.989348615883112e-17,
            "y": -2.4777145706089543e-16,
            "z": 1
           },
           "shadow": false,
           "shadowBias": 0,
           "shadowMapSize": {
            "x": 0,
            "y": 0
           },
           "shadowRadius": 1
          }
         ]
        },
        "directionalShadowMap": {
         "value": [
          null,
          null,
          null,
          null,
          null,
          null,
          null,
          null
         ]
        },
        "directionalShadowMatrix": {
         "value": [
          {
           "elements": [
            1,
            0,
            0,
            0,
            0,
            1,
            0,
            0,
            0,
            0,
            1,
            0,
            0,
            0,
            0,
            1
           ]
          },
          {
           "elements": [
            1,
            0,
            0,
            0,
            0,
            1,
            0,
            0,
            0,
            0,
            1,
            0,
            0,
            0,
            0,
            1
           ]
          },
          {
           "elements": [
            1,
            0,
            0,
            0,
            0,
            1,
            0,
            0,
            0,
            0,
            1,
            0,
            0,
            0,
            0,
            1
           ]
          },
          {
           "elements": [
            1,
            0,
            0,
            0,
            0,
            1,
            0,
            0,
            0,
            0,
            1,
            0,
            0,
            0,
            0,
            1
           ]
          },
          {
           "elements": [
            1,
            0,
            0,
            0,
            0,
            1,
            0,
            0,
            0,
            0,
            1,
            0,
            0,
            0,
            0,
            1
           ]
          },
          {
           "elements": [
            1,
            0,
            0,
            0,
            0,
            1,
            0,
            0,
            0,
            0,
            1,
            0,
            0,
            0,
            0,
            1
           ]
          },
          {
           "elements": [
            1,
            0,
            0,
            0,
            0,
            1,
            0,
            0,
            0,
            0,
            1,
            0,
            0,
            0,
            0,
            1
           ]
          },
          {
           "elements": [
            1,
            0,
            0,
            0,
            0,
            1,
            0,
            0,
            0,
            0,
            1,
            0,
            0,
            0,
            0,
            1
           ]
          }
         ]
        },
        "displacementBias": {
         "value": 0
        },
        "displacementMap": {
         "value": null
        },
        "displacementScale": {
         "value": 1
        },
        "emissive": {
         "type": "c",
         "value": "#000000"
        },
        "emissiveMap": {
         "value": null
        },
        "envMap": {
         "value": null
        },
        "envMapIntensity": {
         "value": 1
        },
        "flipEnvMap": {
         "value": -1
        },
        "fogColor": {
         "type": "c",
         "value": "#ffffff"
        },
        "fogDensity": {
         "value": 0.00025
        },
        "fogFar": {
         "value": 2000
        },
        "fogNear": {
         "value": 1
        },
        "hemisphereLights": {
         "value": []
        },
        "lightMap": {
         "value": null
        },
        "lightMapIntensity": {
         "value": 1
        },
        "map": {
         "value": null
        },
        "maxMipLevel": {
         "value": 0
        },
        "metalness": {
         "value": 0.3
        },
        "metalnessMap": {
         "value": null
        },
        "normalMap": {
         "value": null
        },
        "normalScale": {
         "type": "v2",
         "value": [
          1,
          1
         ]
        },
        "opacity": {
         "value": 1
        },
        "pointLights": {
         "value": []
        },
        "pointShadowMap": {
         "value": []
        },
        "pointShadowMatrix": {
         "value": []
        },
        "rectAreaLights": {
         "value": []
        },
        "reflectivity": {
         "value": 1
        },
        "refractionRatio": {
         "value": 0.98
        },
        "roughness": {
         "value": 0.8
        },
        "roughnessMap": {
         "value": null
        },
        "spotLights": {
         "value": []
        },
        "spotShadowMap": {
         "value": []
        },
        "spotShadowMatrix": {
         "value": []
        },
        "uvTransform": {
         "type": "m3",
         "value": [
          1,
          0,
          0,
          0,
          1,
          0,
          0,
          0,
          1
         ]
        }
       },
       "vertexShader": "#define PHYSICAL\nvarying vec3 vViewPosition;\n#ifndef FLAT_SHADED\n\tvarying vec3 vNormal;\n#endif\n#include <common>\n#include <uv_pars_vertex>\n#include <uv2_pars_vertex>\n#include <displacementmap_pars_vertex>\n#include <color_pars_vertex>\n#include <fog_pars_vertex>\n#include <morphtarget_pars_vertex>\n#include <skinning_pars_vertex>\n#include <shadowmap_pars_vertex>\n#include <logdepthbuf_pars_vertex>\n#include <clipping_planes_pars_vertex>\nvoid main() {\n\t#include <uv_vertex>\n\t#include <uv2_vertex>\n\t#include <color_vertex>\n\t#include <beginnormal_vertex>\n\t#include <morphnormal_vertex>\n\t#include <skinbase_vertex>\n\t#include <skinnormal_vertex>\n\t#include <defaultnormal_vertex>\n#ifndef FLAT_SHADED\n\tvNormal = normalize( transformedNormal );\n#endif\n\t#include <begin_vertex>\n\t#include <morphtarget_vertex>\n\t#include <skinning_vertex>\n\t#include <displacementmap_vertex>\n\t#include <project_vertex>\n\t#include <logdepthbuf_vertex>\n\t#include <clipping_planes_vertex>\n\tvViewPosition = - mvPosition.xyz;\n\t#include <worldpos_vertex>\n\t#include <shadowmap_vertex>\n\t#include <fog_vertex>\n}\n"
      }
     },
     "64ee9c5b-6c69-456f-8f98-16c1fc772efd": {
      "model_module": "jupyter-threejs",
      "model_module_version": "^2.1.0",
      "model_name": "OrthographicCameraModel",
      "state": {
       "bottom": -5,
       "far": 500,
       "left": -5,
       "near": 0.5,
       "projectionMatrix": [
        0.2,
        0,
        0,
        0,
        0,
        0.2,
        0,
        0,
        0,
        0,
        -0.004004004004004004,
        0,
        0,
        0,
        -1.002002002002002,
        1
       ],
       "right": 5,
       "top": 5
      }
     },
     "650128e42b9d4b69869091ad8d2f26c4": {
      "model_module": "@jupyter-widgets/controls",
      "model_module_version": "1.5.0",
      "model_name": "CheckboxModel",
      "state": {
       "_dom_classes": [
        "view_axes"
       ],
       "description": "Axes",
       "disabled": false,
       "indent": false,
       "layout": "IPY_MODEL_2a9a92a44d9f4843882a2ab808f8483d",
       "style": "IPY_MODEL_0c6b503a56504993bb6c357148ad9f6c",
       "value": false
      }
     },
     "657117f627ee46d79ac051e3d2246909": {
      "model_module": "jupyter-threejs",
      "model_module_version": "^2.1.0",
      "model_name": "DirectionalLightModel",
      "state": {
       "_view_module": null,
       "_view_module_version": "",
       "color": "white",
       "intensity": 0.12,
       "matrixWorldNeedsUpdate": true,
       "position": [
        8.278436197374486,
        8.278436197374486,
        8.278436197374486
       ],
       "shadow": "IPY_MODEL_73e469c8-9cc1-4045-9154-b1048777e1ea",
       "target": "IPY_MODEL_c6bc7ad4-5705-462a-9923-c75a872836db"
      }
     },
     "6578c226ab014098a9483bd5dce2c5c6": {
      "model_module": "@jupyter-widgets/base",
      "model_module_version": "1.2.0",
      "model_name": "LayoutModel",
      "state": {}
     },
     "65fca4e0e4c642eeaf7ffcd3f15ff6ce": {
      "model_module": "jupyter-threejs",
      "model_module_version": "^2.1.0",
      "model_name": "LineSegments2Model",
      "state": {
       "_view_module": null,
       "_view_module_version": "",
       "geometry": "IPY_MODEL_1365a3b757764f13a8800db4d61041b3",
       "material": "IPY_MODEL_882c77722cce428c869d3f7042fa15f9",
       "matrix": [
        1,
        0,
        0,
        0,
        0,
        1,
        0,
        0,
        0,
        0,
        1,
        0,
        0.9999999999999999,
        -0.75,
        2.125,
        1
       ],
       "morphTargetInfluences": [],
       "position": [
        0.9999999999999999,
        -0.75,
        2.125
       ],
       "visible": false
      }
     },
     "66500aa027d347e5be5c596b67827da5": {
      "model_module": "jupyter_cadquery",
      "model_module_version": "^v1.0.0",
      "model_name": "ImageButtonModel",
      "state": {
       "_dom_classes": [
        "view_button"
       ],
       "_model_module_version": "^v1.0.0",
       "_view_module_version": "^v1.0.0",
       "height": "28",
       "layout": "IPY_MODEL_5f53cd99d8444db59787fd64182f9fcc",
       "style": "IPY_MODEL_dccc8e39f1ba471bb930e0d6756834db",
       "tooltip": "Change view to right",
       "type": "right",
       "value": {},
       "width": "36"
      }
     },
     "666100829dcf42f794bce9d225863e0b": {
      "model_module": "@jupyter-widgets/controls",
      "model_module_version": "1.5.0",
      "model_name": "LabelModel",
      "state": {
       "layout": "IPY_MODEL_c7f30cf52adf47cb82aeecd7b6991cfb",
       "style": "IPY_MODEL_32550015149a4b08a9140aaf9d4f6edb",
       "value": "N=( 0.00,  1.00,  0.00)"
      }
     },
     "666690e06d114e51a7e245cff2a8ac48": {
      "model_module": "jupyter_cadquery",
      "model_module_version": "^v1.0.0",
      "model_name": "ImageButtonModel",
      "state": {
       "_dom_classes": [
        "view_button"
       ],
       "_model_module_version": "^v1.0.0",
       "_view_module_version": "^v1.0.0",
       "height": "28",
       "layout": "IPY_MODEL_6578c226ab014098a9483bd5dce2c5c6",
       "style": "IPY_MODEL_6285cbd48a9c4d8991beacba8a5f7d4b",
       "tooltip": "Change view to reset",
       "type": "reset",
       "value": {},
       "width": "36"
      }
     },
     "668c401cd1074a1d8090bcfbe08fe645": {
      "model_module": "jupyter-threejs",
      "model_module_version": "^2.1.0",
      "model_name": "RendererModel",
      "state": {
       "_antialias": true,
       "_dom_classes": [
        "view_renderer"
       ],
       "_height": 600,
       "_webgl_version": 2,
       "_width": 800,
       "camera": "IPY_MODEL_12f9d3896ab042b0b88cfbe715e02625",
       "clippingPlanes": [
        "IPY_MODEL_5b27217d82dc4926b9a6d78dc176d979",
        "IPY_MODEL_1048e03197f2445a9a562735c281dacd",
        "IPY_MODEL_4ba4c1f702524878961b01cd11433ca4"
       ],
       "controls": [
        "IPY_MODEL_762615d34836439d8c3ce885827fe015",
        "IPY_MODEL_132f85af156c428b982830a90394580d"
       ],
       "layout": "IPY_MODEL_83ea722fee9a4886981d502c0640be07",
       "localClippingEnabled": true,
       "scene": "IPY_MODEL_f7b3fbb3053348929ffa3103d8b294d9",
       "shadowMap": "IPY_MODEL_c4cee2a8906c4a46915b3373e05e6d48"
      }
     },
     "66a5d2e2ab3b42bf85f88867a70037c5": {
      "model_module": "@jupyter-widgets/controls",
      "model_module_version": "1.5.0",
      "model_name": "ButtonStyleModel",
      "state": {}
     },
     "672f923514bf47f38b0d05631bdedcc2": {
      "model_module": "@jupyter-widgets/controls",
      "model_module_version": "1.5.0",
      "model_name": "ButtonStyleModel",
      "state": {}
     },
     "675ef7596cee49289dec9d16cbfa50a7": {
      "model_module": "@jupyter-widgets/base",
      "model_module_version": "1.2.0",
      "model_name": "LayoutModel",
      "state": {}
     },
     "679b444e05744c8dbd726d8d1953d4f3": {
      "model_module": "@jupyter-widgets/base",
      "model_module_version": "1.2.0",
      "model_name": "LayoutModel",
      "state": {
       "width": "230px"
      }
     },
     "67afbbe23037496bbc66670915acc81f": {
      "model_module": "@jupyter-widgets/base",
      "model_module_version": "1.2.0",
      "model_name": "LayoutModel",
      "state": {}
     },
     "67c4b64e1e2648bf9a0b03149b36186f": {
      "model_module": "@jupyter-widgets/controls",
      "model_module_version": "1.5.0",
      "model_name": "DescriptionStyleModel",
      "state": {
       "description_width": ""
      }
     },
     "67c5ca77501a4dedb3f14e44c28049df": {
      "model_module": "@jupyter-widgets/controls",
      "model_module_version": "1.5.0",
      "model_name": "ButtonStyleModel",
      "state": {}
     },
     "67dbaa301bba46c8882425c68f63ad76": {
      "model_module": "@jupyter-widgets/controls",
      "model_module_version": "1.5.0",
      "model_name": "DescriptionStyleModel",
      "state": {
       "description_width": ""
      }
     },
     "67f2e0b30d1f48348c03abcd5f067de6": {
      "model_module": "jupyter-threejs",
      "model_module_version": "^2.1.0",
      "model_name": "MeshModel",
      "state": {
       "_view_module": null,
       "_view_module_version": "",
       "geometry": "IPY_MODEL_ef3dffdfd01042d084416547be413377",
       "material": "IPY_MODEL_26fff421554b48c6bbc87bd992c4c71b",
       "morphTargetInfluences": [],
       "name": "mesh_1"
      }
     },
     "680fc297a36a4021af1a91d2689c02cf": {
      "model_module": "jupyter-threejs",
      "model_module_version": "^2.1.0",
      "model_name": "LineSegments2Model",
      "state": {
       "_view_module": null,
       "_view_module_version": "",
       "geometry": "IPY_MODEL_d54a15139d894bdd9c4ea2754dc8606a",
       "material": "IPY_MODEL_4f59581fb75149d59d50ec901ca100db",
       "matrix": [
        1,
        0,
        0,
        0,
        0,
        1,
        0,
        0,
        0,
        0,
        1,
        0,
        0.9999999999999999,
        -0.75,
        2.125,
        1
       ],
       "morphTargetInfluences": [],
       "position": [
        0.9999999999999999,
        -0.75,
        2.125
       ],
       "visible": false
      }
     },
     "68535e47-89e9-48e8-b983-acd9c3fed7c9": {
      "model_module": "jupyter-threejs",
      "model_module_version": "^2.1.0",
      "model_name": "DirectionalLightShadowModel",
      "state": {
       "camera": "IPY_MODEL_304e82f2-3b30-41c8-a510-36622e9e09fe"
      }
     },
     "688ce23c9fdd49b184dcff4717470bad": {
      "buffers": [
       {
        "data": "AAAAAAAAAAAAAAAAAAAAAEnhmj8AAAAA",
        "encoding": "base64",
        "path": [
         "positions",
         "buffer"
        ]
       }
      ],
      "model_module": "jupyter-threejs",
      "model_module_version": "^2.1.0",
      "model_name": "LineSegmentsGeometryModel",
      "state": {
       "_view_module": null,
       "_view_module_version": "",
       "positions": {
        "dtype": "float32",
        "shape": [
         1,
         2,
         3
        ]
       }
      }
     },
     "69249cf6bf514fd4b60a89bc612234cc": {
      "model_module": "@jupyter-widgets/controls",
      "model_module_version": "1.5.0",
      "model_name": "HTMLModel",
      "state": {
       "_dom_classes": [
        "scroll-area",
        "mac-scrollbar"
       ],
       "layout": "IPY_MODEL_64461f95f4ed4fabbce681a645d50932",
       "style": "IPY_MODEL_5921c14c702a4e9a8aad5d4e60b08856",
       "value": "<table style=\"display: block; overflow-x: visible; white-space: nowrap;\"><tr style=\"vertical-align: text-top;\"><td><pre style=\"color: #aaa; white-space: nowrap\">[ 0]</pre></td><td>\n        <b>Rendering done</b>\n        <table>\n            <tr class=\"small_table\" >                      <td>Tick size</td>  <td>1.0 mm</td> </tr>\n            <tr class=\"small_table\" style=\"color: red;\">   <td>X-Axis</td>     <td>Red</td>    </tr>\n            <tr class=\"small_table\" style=\"color: green;\"> <td>Y-Axis</td>     <td>Green</td>  </tr>\n            <tr class=\"small_table\" style=\"color: blue;\">  <td>Z-Axis</td>     <td>Blue</td>   </tr>\n        </table>\n        </td></tr></table>"
      }
     },
     "69988212115a477ab4dfff803c4f759c": {
      "model_module": "jupyter-threejs",
      "model_module_version": "^2.1.0",
      "model_name": "MeshModel",
      "state": {
       "_view_module": null,
       "_view_module_version": "",
       "geometry": "IPY_MODEL_433c7f60ba914489b5f6eeb9d7b602e9",
       "material": "IPY_MODEL_411d7bdd746e4e0e9f4dd68180dcfa19",
       "morphTargetInfluences": [],
       "name": "mesh_0",
       "visible": false
      }
     },
     "69d3119948a94d3ea072d3c8c2007646": {
      "model_module": "@jupyter-widgets/controls",
      "model_module_version": "1.5.0",
      "model_name": "CheckboxModel",
      "state": {
       "_dom_classes": [
        "view_axes"
       ],
       "description": "Axes",
       "disabled": false,
       "indent": false,
       "layout": "IPY_MODEL_ca41088b30df4567a22599f96e048289",
       "style": "IPY_MODEL_95553e41805146c082c108c5612aafec",
       "value": true
      }
     },
     "69d481e299c44026977d6e14a15a1948": {
      "model_module": "jupyter_cadquery",
      "model_module_version": "^v1.0.0",
      "model_name": "ImageButtonModel",
      "state": {
       "_dom_classes": [
        "view_button"
       ],
       "_model_module_version": "^v1.0.0",
       "_view_module_version": "^v1.0.0",
       "height": "28",
       "layout": "IPY_MODEL_e4cc92e8fb4d4ffeb56a83700e9f4342",
       "style": "IPY_MODEL_004e6a17720a4219858d710815b0d152",
       "tooltip": "Change view to bottom",
       "type": "bottom",
       "value": {},
       "width": "36"
      }
     },
     "69e72bc53e804738a4beb59072159b69": {
      "model_module": "@jupyter-widgets/controls",
      "model_module_version": "1.5.0",
      "model_name": "ButtonStyleModel",
      "state": {}
     },
     "69fb78e93aae4b558f124d1a33faa2ee": {
      "model_module": "@jupyter-widgets/base",
      "model_module_version": "1.2.0",
      "model_name": "LayoutModel",
      "state": {}
     },
     "6ab3e1596b3649f59812d377e3bbf9be": {
      "model_module": "jupyter-threejs",
      "model_module_version": "^2.1.0",
      "model_name": "LineSegments2Model",
      "state": {
       "_view_module": null,
       "_view_module_version": "",
       "geometry": "IPY_MODEL_5375c47d6ca94701a88a0bcb7a45b2f1",
       "material": "IPY_MODEL_280d40d7dce54aaf88b4c8e4e5738da6",
       "morphTargetInfluences": [],
       "name": "edges_1"
      }
     },
     "6b0ca56b81544d78b5fdc651b417c67d": {
      "model_module": "jupyter-threejs",
      "model_module_version": "^2.1.0",
      "model_name": "LineMaterialModel",
      "state": {
       "_view_module": null,
       "_view_module_version": "",
       "color": "blue",
       "linewidth": 3
      }
     },
     "6b18ae5ad3db4aabbe4079ce25e0b485": {
      "buffers": [
       {
        "data": "AACAPwAAAAAAAACAAACAPwAAAAAAAACAAACAPwAAAAAAAACAAACAPwAAAAAAAACAAAAAgAAAgL8AAACAAAAAgAAAgL8AAACAAAAAgAAAgL8AAACAAAAAgAAAgL8AAACAAAAAgAAAgL8AAACA8wQ1PwAAAADzBDU/8wQ1PwAAAADzBDU/8wQ1PwAAAADzBDU/8wQ1PwAAAADzBDU/AAAAgAAAAIAAAIC/AAAAgAAAAIAAAIC/AAAAgAAAAIAAAIC/AAAAgAAAAIAAAIC/AAAAAAAAgD8AAAAAAAAAAAAAgD8AAAAAAAAAAAAAgD8AAAAAAAAAAAAAgD8AAAAAAAAAAAAAgD8AAAAAAAAAAAAAAAAAAIA/AAAAAAAAAAAAAIA/AAAAAAAAAAAAAIA/AAAAAAAAAAAAAIA/AACAvwAAAIAAAAAAAACAvwAAAIAAAAAAAACAvwAAAIAAAAAAAACAvwAAAIAAAAAA",
        "encoding": "base64",
        "path": [
         "array",
         "buffer"
        ]
       }
      ],
      "model_module": "jupyter-threejs",
      "model_module_version": "^2.1.0",
      "model_name": "BufferAttributeModel",
      "state": {
       "_view_module": null,
       "_view_module_version": "",
       "array": {
        "dtype": "float32",
        "shape": [
         30,
         3
        ]
       },
       "normalized": true,
       "version": 2
      }
     },
     "6b3e7aaa83a04630a308bb72faae933e": {
      "model_module": "@jupyter-widgets/controls",
      "model_module_version": "1.5.0",
      "model_name": "HBoxModel",
      "state": {
       "children": [
        "IPY_MODEL_db20c4e18b354d4a90040bb03c29aa2d",
        "IPY_MODEL_069fc0444288491b8e502851f2c68e5e"
       ],
       "layout": "IPY_MODEL_6467154fa5d94ce6b5879fbc06d769ff"
      }
     },
     "6b8b89279f504a43b8799b8e528531d8": {
      "model_module": "@jupyter-widgets/controls",
      "model_module_version": "1.5.0",
      "model_name": "ButtonStyleModel",
      "state": {}
     },
     "6b9db56b601c4d7eb7f42a1e232199b8": {
      "model_module": "@jupyter-widgets/base",
      "model_module_version": "1.2.0",
      "model_name": "LayoutModel",
      "state": {
       "height": "222px",
       "overflow_x": "scroll",
       "overflow_y": "scroll",
       "width": "250px"
      }
     },
     "6be7c00a-d04e-48d4-8883-44db9ba24dc7": {
      "model_module": "jupyter-threejs",
      "model_module_version": "^2.1.0",
      "model_name": "DirectionalLightShadowModel",
      "state": {
       "camera": "IPY_MODEL_11daa595-c84f-49ef-b427-31cb6f699ca4"
      }
     },
     "6be8781ca69648cf99827e179ac684a0": {
      "model_module": "jupyter-threejs",
      "model_module_version": "^2.1.0",
      "model_name": "MeshModel",
      "state": {
       "_view_module": null,
       "_view_module_version": "",
       "geometry": "IPY_MODEL_e2c7cbf30418434ab3ab90b86f1c9cc1",
       "material": "IPY_MODEL_3e3010a375c74a8cb48a6bcd8936676c",
       "morphTargetInfluences": [],
       "name": "mesh_1"
      }
     },
     "6c118f91d8ce46f6a9b18736ffd5bdf2": {
      "model_module": "@jupyter-widgets/controls",
      "model_module_version": "1.5.0",
      "model_name": "SliderStyleModel",
      "state": {
       "description_width": ""
      }
     },
     "6c749c19ff5441e3a967d1d6ff43f3d6": {
      "buffers": [
       {
        "data": "8wQ1PwAAAADzBDU/8wQ1PwAAAADzBDU/8wQ1PwAAAADzBDU/8wQ1PwAAAADzBDU/",
        "encoding": "base64",
        "path": [
         "array",
         "buffer"
        ]
       }
      ],
      "model_module": "jupyter-threejs",
      "model_module_version": "^2.1.0",
      "model_name": "BufferAttributeModel",
      "state": {
       "_view_module": null,
       "_view_module_version": "",
       "array": {
        "dtype": "float32",
        "shape": [
         4,
         3
        ]
       },
       "normalized": true,
       "version": 2
      }
     },
     "6c9f209bfad0451bb8ce794a4cd5c55f": {
      "model_module": "jupyter-threejs",
      "model_module_version": "^2.1.0",
      "model_name": "SceneModel",
      "state": {
       "_view_module": null,
       "_view_module_version": "",
       "children": [
        "IPY_MODEL_647e98ea32d148228b8fc64d931caef0",
        "IPY_MODEL_1377d654706b40509540fe996ca10ed2",
        "IPY_MODEL_386bf27758cf423a97bc2cc1d5f45399",
        "IPY_MODEL_60a0c57c88474125ab34f2062aa0a77b",
        "IPY_MODEL_5157be67ec6a45a9aec52cf92f18cd69",
        "IPY_MODEL_87f0c771e29c4b46ac0484643c199364",
        "IPY_MODEL_f139cbac7542427596df23bd52b13a32",
        "IPY_MODEL_c59bba96b4d84cf0b88314c6b128d2fe",
        "IPY_MODEL_dafafbd12c14455e8d19966b72655c81",
        "IPY_MODEL_e4a4ddada42349bfa65ee98b001d7767",
        "IPY_MODEL_c8b4a9d4f5b14db58a2e5c3b5dce7685",
        "IPY_MODEL_31e78e3dc52d475cae8c4bc63e0ac554",
        "IPY_MODEL_7192342b43ee4d7c92bb0b2198de0a83",
        "IPY_MODEL_83382b9d98394a8f86941578add6ccd1",
        "IPY_MODEL_724f2d644acb4af3ba04723ad139139e"
       ]
      }
     },
     "6cb91e70513f4091b6e1e1237c370892": {
      "model_module": "@jupyter-widgets/controls",
      "model_module_version": "1.5.0",
      "model_name": "DescriptionStyleModel",
      "state": {
       "description_width": ""
      }
     },
     "6cd7cc1dbe244148b2332dbf12a60358": {
      "model_module": "@jupyter-widgets/controls",
      "model_module_version": "1.5.0",
      "model_name": "DescriptionStyleModel",
      "state": {
       "description_width": ""
      }
     },
     "6cd82ba887d04d50a3a1f5e7cf9c861a": {
      "model_module": "@jupyter-widgets/base",
      "model_module_version": "1.2.0",
      "model_name": "LayoutModel",
      "state": {}
     },
     "6d02dc3d8a4f4de29e1ea8f8136a39a9": {
      "model_module": "@jupyter-widgets/controls",
      "model_module_version": "1.5.0",
      "model_name": "ButtonStyleModel",
      "state": {}
     },
     "6d2d5340302e4a238920aef9f1214845": {
      "model_module": "@jupyter-widgets/controls",
      "model_module_version": "1.5.0",
      "model_name": "HBoxModel",
      "state": {
       "children": [
        "IPY_MODEL_3fb5703b78144c07ab3fc0c53364a7ce",
        "IPY_MODEL_51e961644b2d4fd5a0d796048116b405"
       ],
       "layout": "IPY_MODEL_ba07e10216ce4a7c97a5c15c3d7e67b2"
      }
     },
     "6d8acaa8128241c8abdf5a15009ec99d": {
      "model_module": "@jupyter-widgets/controls",
      "model_module_version": "1.5.0",
      "model_name": "HBoxModel",
      "state": {
       "children": [
        "IPY_MODEL_3035eca085584e57b5aaa5c9a28d7081",
        "IPY_MODEL_320cf3ae150149e9ac91b276a185fb79"
       ],
       "layout": "IPY_MODEL_ead0eff2ce65464a83db8ef1515a2a6a"
      }
     },
     "6d97f2a0e4e44a27b7441af47739c813": {
      "model_module": "jupyter_cadquery",
      "model_module_version": "^v1.0.0",
      "model_name": "ImageButtonModel",
      "state": {
       "_dom_classes": [
        "view_button"
       ],
       "_model_module_version": "^v1.0.0",
       "_view_module_version": "^v1.0.0",
       "height": "28",
       "layout": "IPY_MODEL_1a02baccf775423ba85562d3255a8f13",
       "style": "IPY_MODEL_e697dee65f0b4a3bb5497d7ae4d12e15",
       "tooltip": "Change view to fit",
       "type": "fit",
       "value": {},
       "width": "36"
      }
     },
     "6db272c8ad3a4d1897261d141b82b041": {
      "model_module": "jupyter_cadquery",
      "model_module_version": "^v1.0.0",
      "model_name": "ImageButtonModel",
      "state": {
       "_dom_classes": [
        "view_button"
       ],
       "_model_module_version": "^v1.0.0",
       "_view_module_version": "^v1.0.0",
       "height": "28",
       "layout": "IPY_MODEL_71fdd19137bc4f9ab0c3d468223c508e",
       "style": "IPY_MODEL_b55f25809ea941a490d6de853121b7bf",
       "tooltip": "Change view to front",
       "type": "front",
       "value": {},
       "width": "36"
      }
     },
     "6e853c0c2fa64ce39c4d5ed7a6d74a2b": {
      "model_module": "@jupyter-widgets/base",
      "model_module_version": "1.2.0",
      "model_name": "LayoutModel",
      "state": {}
     },
     "6ec6d1c6-3539-4dd8-bc3f-a7d5254f1d13": {
      "model_module": "jupyter-threejs",
      "model_module_version": "^2.1.0",
      "model_name": "Object3DModel",
      "state": {}
     },
     "6f1ad5868fa247c38e35c34762304fdf": {
      "model_module": "jupyter_cadquery",
      "model_module_version": "^v1.0.0",
      "model_name": "ImageButtonModel",
      "state": {
       "_dom_classes": [
        "view_button"
       ],
       "_model_module_version": "^v1.0.0",
       "_view_module_version": "^v1.0.0",
       "height": "28",
       "layout": "IPY_MODEL_7c60311b05c24410bd5eb694aa96e240",
       "style": "IPY_MODEL_53ead73b31274646bd4ddb519dfc0fdc",
       "tooltip": "Change view to isometric",
       "type": "isometric",
       "value": {},
       "width": "36"
      }
     },
     "6f242542a4164ab598ccdf4702e80803": {
      "model_module": "@jupyter-widgets/base",
      "model_module_version": "1.2.0",
      "model_name": "LayoutModel",
      "state": {}
     },
     "6f443942bc2f4eec9457f45d80718e44": {
      "model_module": "@jupyter-widgets/base",
      "model_module_version": "1.2.0",
      "model_name": "LayoutModel",
      "state": {
       "margin": "0px 10px 0px 0px"
      }
     },
     "6f512e2126fa48cb8af2ddbf1441737f": {
      "model_module": "jupyter-threejs",
      "model_module_version": "^2.1.0",
      "model_name": "ShaderMaterialModel",
      "state": {
       "_view_module": null,
       "_view_module_version": "",
       "clipping": true,
       "fragmentShader": "\n        uniform float alpha;\n        #define PHYSICAL\nuniform vec3 diffuse;\nuniform vec3 emissive;\nuniform float roughness;\nuniform float metalness;\nuniform float opacity;\n#ifndef STANDARD\n\tuniform float clearCoat;\n\tuniform float clearCoatRoughness;\n#endif\nvarying vec3 vViewPosition;\n#ifndef FLAT_SHADED\n\tvarying vec3 vNormal;\n#endif\n#include <common>\n#include <packing>\n#include <dithering_pars_fragment>\n#include <color_pars_fragment>\n#include <uv_pars_fragment>\n#include <uv2_pars_fragment>\n#include <map_pars_fragment>\n#include <alphamap_pars_fragment>\n#include <aomap_pars_fragment>\n#include <lightmap_pars_fragment>\n#include <emissivemap_pars_fragment>\n#include <bsdfs>\n#include <cube_uv_reflection_fragment>\n#include <envmap_pars_fragment>\n#include <envmap_physical_pars_fragment>\n#include <fog_pars_fragment>\n#include <lights_pars_begin>\n#include <lights_physical_pars_fragment>\n#include <shadowmap_pars_fragment>\n#include <bumpmap_pars_fragment>\n#include <normalmap_pars_fragment>\n#include <roughnessmap_pars_fragment>\n#include <metalnessmap_pars_fragment>\n#include <logdepthbuf_pars_fragment>\n#include <clipping_planes_pars_fragment>\nvoid main() {\n\t#include <clipping_planes_fragment>\n\tvec4 diffuseColor = vec4( diffuse, opacity );\n\tReflectedLight reflectedLight = ReflectedLight( vec3( 0.0 ), vec3( 0.0 ), vec3( 0.0 ), vec3( 0.0 ) );\n\tvec3 totalEmissiveRadiance = emissive;\n\t#include <logdepthbuf_fragment>\n\t#include <map_fragment>\n\t#include <color_fragment>\n\t#include <alphamap_fragment>\n\t#include <alphatest_fragment>\n\t#include <roughnessmap_fragment>\n\t#include <metalnessmap_fragment>\n\t#include <normal_fragment_begin>\n\t#include <normal_fragment_maps>\n\t#include <emissivemap_fragment>\n\t#include <lights_physical_fragment>\n\t#include <lights_fragment_begin>\n\t#include <lights_fragment_maps>\n\t#include <lights_fragment_end>\n\t#include <aomap_fragment>\n\tvec3 outgoingLight = reflectedLight.directDiffuse + reflectedLight.indirectDiffuse + reflectedLight.directSpecular + reflectedLight.indirectSpecular + totalEmissiveRadiance;\n\t\n            if ( gl_FrontFacing ) {\n                gl_FragColor = vec4( outgoingLight, alpha * diffuseColor.a );\n            } else {\n                gl_FragColor = vec4( diffuseColor.r, diffuseColor.g, diffuseColor.b, alpha * diffuseColor.a );\n            }\n\t#include <tonemapping_fragment>\n\t#include <encodings_fragment>\n\t#include <fog_fragment>\n\t#include <premultiplied_alpha_fragment>\n\t#include <dithering_fragment>\n}\n",
       "lights": true,
       "polygonOffset": true,
       "polygonOffsetFactor": 1,
       "polygonOffsetUnits": 1,
       "side": "DoubleSide",
       "uniforms": {
        "alpha": {
         "value": 0.7
        },
        "alphaMap": {
         "value": null
        },
        "ambientLightColor": {
         "value": [
          1,
          1,
          1
         ]
        },
        "aoMap": {
         "value": null
        },
        "aoMapIntensity": {
         "value": 1
        },
        "bumpMap": {
         "value": null
        },
        "bumpScale": {
         "value": 1
        },
        "diffuse": {
         "type": "c",
         "value": "#e8b024"
        },
        "directionalLights": {
         "value": [
          {
           "color": 1973790,
           "direction": {
            "x": -0.7195812553708671,
            "y": -0.44803792515677093,
            "z": -0.530532595172156
           },
           "shadow": false,
           "shadowBias": 0,
           "shadowMapSize": {
            "x": 0,
            "y": 0
           },
           "shadowRadius": 1
          },
          {
           "color": 1973790,
           "direction": {
            "x": -0.7195812553708669,
            "y": 0.6615730865186317,
            "z": -0.21100679636707903
           },
           "shadow": false,
           "shadowBias": 0,
           "shadowMapSize": {
            "x": 0,
            "y": 0
           },
           "shadowRadius": 1
          },
          {
           "color": 1973790,
           "direction": {
            "x": 0.3858360838303668,
            "y": -0.3556848093580227,
            "z": -0.8512454597860672
           },
           "shadow": false,
           "shadowBias": 0,
           "shadowMapSize": {
            "x": 0,
            "y": 0
           },
           "shadowRadius": 1
          },
          {
           "color": 1973790,
           "direction": {
            "x": 0.3858360838303667,
            "y": 0.7539262023173797,
            "z": -0.5317196609809902
           },
           "shadow": false,
           "shadowBias": 0,
           "shadowMapSize": {
            "x": 0,
            "y": 0
           },
           "shadowRadius": 1
          },
          {
           "color": 1973790,
           "direction": {
            "x": -0.3858360838303667,
            "y": -0.7539262023173797,
            "z": 0.5317196609809902
           },
           "shadow": false,
           "shadowBias": 0,
           "shadowMapSize": {
            "x": 0,
            "y": 0
           },
           "shadowRadius": 1
          },
          {
           "color": 1973790,
           "direction": {
            "x": -0.3858360838303668,
            "y": 0.3556848093580227,
            "z": 0.8512454597860672
           },
           "shadow": false,
           "shadowBias": 0,
           "shadowMapSize": {
            "x": 0,
            "y": 0
           },
           "shadowRadius": 1
          },
          {
           "color": 1973790,
           "direction": {
            "x": 0.7195812553708669,
            "y": -0.6615730865186317,
            "z": 0.21100679636707903
           },
           "shadow": false,
           "shadowBias": 0,
           "shadowMapSize": {
            "x": 0,
            "y": 0
           },
           "shadowRadius": 1
          },
          {
           "color": 1973790,
           "direction": {
            "x": 0.7195812553708671,
            "y": 0.44803792515677093,
            "z": 0.530532595172156
           },
           "shadow": false,
           "shadowBias": 0,
           "shadowMapSize": {
            "x": 0,
            "y": 0
           },
           "shadowRadius": 1
          }
         ]
        },
        "directionalShadowMap": {
         "value": [
          null,
          null,
          null,
          null,
          null,
          null,
          null,
          null
         ]
        },
        "directionalShadowMatrix": {
         "value": [
          {
           "elements": [
            1,
            0,
            0,
            0,
            0,
            1,
            0,
            0,
            0,
            0,
            1,
            0,
            0,
            0,
            0,
            1
           ]
          },
          {
           "elements": [
            1,
            0,
            0,
            0,
            0,
            1,
            0,
            0,
            0,
            0,
            1,
            0,
            0,
            0,
            0,
            1
           ]
          },
          {
           "elements": [
            1,
            0,
            0,
            0,
            0,
            1,
            0,
            0,
            0,
            0,
            1,
            0,
            0,
            0,
            0,
            1
           ]
          },
          {
           "elements": [
            1,
            0,
            0,
            0,
            0,
            1,
            0,
            0,
            0,
            0,
            1,
            0,
            0,
            0,
            0,
            1
           ]
          },
          {
           "elements": [
            1,
            0,
            0,
            0,
            0,
            1,
            0,
            0,
            0,
            0,
            1,
            0,
            0,
            0,
            0,
            1
           ]
          },
          {
           "elements": [
            1,
            0,
            0,
            0,
            0,
            1,
            0,
            0,
            0,
            0,
            1,
            0,
            0,
            0,
            0,
            1
           ]
          },
          {
           "elements": [
            1,
            0,
            0,
            0,
            0,
            1,
            0,
            0,
            0,
            0,
            1,
            0,
            0,
            0,
            0,
            1
           ]
          },
          {
           "elements": [
            1,
            0,
            0,
            0,
            0,
            1,
            0,
            0,
            0,
            0,
            1,
            0,
            0,
            0,
            0,
            1
           ]
          }
         ]
        },
        "displacementBias": {
         "value": 0
        },
        "displacementMap": {
         "value": null
        },
        "displacementScale": {
         "value": 1
        },
        "emissive": {
         "type": "c",
         "value": "#000000"
        },
        "emissiveMap": {
         "value": null
        },
        "envMap": {
         "value": null
        },
        "envMapIntensity": {
         "value": 1
        },
        "flipEnvMap": {
         "value": -1
        },
        "fogColor": {
         "type": "c",
         "value": "#ffffff"
        },
        "fogDensity": {
         "value": 0.00025
        },
        "fogFar": {
         "value": 2000
        },
        "fogNear": {
         "value": 1
        },
        "hemisphereLights": {
         "value": []
        },
        "lightMap": {
         "value": null
        },
        "lightMapIntensity": {
         "value": 1
        },
        "map": {
         "value": null
        },
        "maxMipLevel": {
         "value": 0
        },
        "metalness": {
         "value": 0.3
        },
        "metalnessMap": {
         "value": null
        },
        "normalMap": {
         "value": null
        },
        "normalScale": {
         "type": "v2",
         "value": [
          1,
          1
         ]
        },
        "opacity": {
         "value": 1
        },
        "pointLights": {
         "value": []
        },
        "pointShadowMap": {
         "value": []
        },
        "pointShadowMatrix": {
         "value": []
        },
        "rectAreaLights": {
         "value": []
        },
        "reflectivity": {
         "value": 1
        },
        "refractionRatio": {
         "value": 0.98
        },
        "roughness": {
         "value": 0.8
        },
        "roughnessMap": {
         "value": null
        },
        "spotLights": {
         "value": []
        },
        "spotShadowMap": {
         "value": []
        },
        "spotShadowMatrix": {
         "value": []
        },
        "uvTransform": {
         "type": "m3",
         "value": [
          1,
          0,
          0,
          0,
          1,
          0,
          0,
          0,
          1
         ]
        }
       },
       "vertexShader": "#define PHYSICAL\nvarying vec3 vViewPosition;\n#ifndef FLAT_SHADED\n\tvarying vec3 vNormal;\n#endif\n#include <common>\n#include <uv_pars_vertex>\n#include <uv2_pars_vertex>\n#include <displacementmap_pars_vertex>\n#include <color_pars_vertex>\n#include <fog_pars_vertex>\n#include <morphtarget_pars_vertex>\n#include <skinning_pars_vertex>\n#include <shadowmap_pars_vertex>\n#include <logdepthbuf_pars_vertex>\n#include <clipping_planes_pars_vertex>\nvoid main() {\n\t#include <uv_vertex>\n\t#include <uv2_vertex>\n\t#include <color_vertex>\n\t#include <beginnormal_vertex>\n\t#include <morphnormal_vertex>\n\t#include <skinbase_vertex>\n\t#include <skinnormal_vertex>\n\t#include <defaultnormal_vertex>\n#ifndef FLAT_SHADED\n\tvNormal = normalize( transformedNormal );\n#endif\n\t#include <begin_vertex>\n\t#include <morphtarget_vertex>\n\t#include <skinning_vertex>\n\t#include <displacementmap_vertex>\n\t#include <project_vertex>\n\t#include <logdepthbuf_vertex>\n\t#include <clipping_planes_vertex>\n\tvViewPosition = - mvPosition.xyz;\n\t#include <worldpos_vertex>\n\t#include <shadowmap_vertex>\n\t#include <fog_vertex>\n}\n"
      }
     },
     "6f8a75b5494043419a5593a1dc595839": {
      "model_module": "jupyter-threejs",
      "model_module_version": "^2.1.0",
      "model_name": "LineMaterialModel",
      "state": {
       "_view_module": null,
       "_view_module_version": "",
       "color": "#808080"
      }
     },
     "703227172aaa472d903adbc2c5a057fc": {
      "model_module": "jupyter_cadquery",
      "model_module_version": "^v1.0.0",
      "model_name": "TreeModel",
      "state": {
       "_dom_classes": [
        "view_tree",
        "scroll-area",
        "mac-scrollbar"
       ],
       "_model_module_version": "^v1.0.0",
       "_view_module_version": "^v1.0.0",
       "button_style": "",
       "icon": "",
       "icons": [
        {
         "0": "iVBORw0KGgoAAAANSUhEUgAAARgAAADcCAYAAACrgL6aAAAFCElEQVR4nO3dUXYbNwwFULQnC/PSvbPmo9Vxao9saUQOAfDeDUQE3jxTipVEAAAAAAAAAAAAAAAAAAAAAAAAAAAAAAAAAAAAAAAAAAAAAAAAAAAAAAAAAAAAAAAAAAAAAAAAAAAAAAAAAAAAAADU89fqF8Aab29v/1z9Z76/v8vbZiy8mRXFMZoi6sMiC+pQImcpn1osK7Gdi+RZiicnS0lCmYyndNazgIWUyrUUzvUM/EIKJQ9lcw1Dnkyp1KBw5jDUwRRKfcpmHIMcQKn0pWxeY3gnVS+VFQ9O9ZlFKJxnGdYTKj0gVR8EM+7FgB6QLfQ7B9suajGcO7IEWYB/Zld5GciBVYEV0HFWlo49fjCI/yiVvpTNOlsf/ubKAO4euCzs/BrbHjzimpDtHK4q5GCeLQ8tUNwjG2Ntc9CI+eHZKTg7mJmXXbKyxSEj5oVll6DsTn7OaX24iDnB6B4KvidTj2t5qAg/cZhLyTym3YEixi+/4+IZR97ua3OQm5HL7rRo5pO9r1oc4mbUgrssl+spmf8rf4AIxUJOchnx9+oX8CpLJKtRmcrybfEzSj9UIwavWLjCrlkt94JvXl1YxWVR244lU+rF3ryyqGoLoqddMlzuM5hdFkNvr2Sx0mcypR64s4NVLGTWOddlbjCdl8Dezma0wk2mRMEoF7rrWjLpCyb7AGG1zM/Ir9UvYAY3Fyq65TZzYTwr9Q3mzKCVC9WdyXDWUkr5MPrMBXo8B6lvMM/INFQYoUOm0xWMt0XwofrbpVQFo1zgq8olk6pggF7SFIzbC9xX9RaTpmCepVzYTcXMpyiYZ5u24qBhhGezv/oWk6JggJ7KFYzbC7ur9AwsL5jVVzjobuUztrxggL5KFUylqyHMVOVZKFUw3k7Bv6o8C6UKBqhlecFUuepBVSufseUF86wqV0OYpdIzUK5ggDpSFEy1X3+GVap9rSZFwZyhZNhNxcynKZiqX0eHK1T950zSFAzQT6qCcYuBr6reXiKSFUyEkoE/VS6XiIQFc5aSoZsOmU7TdEeqtzec1SX7qW8w3i6xoy7lEhHxa/ULmOG2oKxDhyMdfzimvsFEKAn4SeZnJH3BRJwfYMefCPTU4T+6P1KiYCKUDH11LZeI5H+LdOSVwqiwEPaxQ5bL3GBuXhms2wxZ7FAuEQVvMDcjyqLSoujh1dxWy2ypF/uZkqGKXbNa7gV/NuptT8Xlkd/u+Sz3Gcxnowbv8xlG271cIhrcYP40siQqL5W1FMuH8gf4TMmwiux91eIQn41+u9Nl2cwhb/e1OciRGZ+rdFo+5836zK5bvlod5oiSYTSZelzLQx3xE4dXyM85rQ93ZOZfR3cPy25m/+rCDnlpf8AjV/zOyw7h6Ug2xtrmoPcIFBFyMMt2Bz5y5W/x7hiyjOz8Gtse/LOVXxXYOYBXWbXf3Xe79eHvUTY9KJX1DOIbWb4AKbA/s6ucDONBWQJ8s3OQ7aIOg3lCtmB/p2rozbgXAzqp0oNwz4oHpPrclMpzDGuQ6g8O9ymV8wxuAmVTn1IZwxAnUzY1KJQ5DPViCicPpTKfAS+kbK6lUK5n4IkonPGUylqGn5zSeZwyycdCitq5eBRJHRbVUIfyUSI9WOLGVhSR4gAAAAAAAAAAAAAAAAAAAAAAAAAAAAAAAAAAAAAAAAAAAAAAAAAAAAAAAAAAAAAAAAAAAAAAAAAAAAAAAAAAAABgkN/fSHSu9KigrAAAAABJRU5ErkJggg==",
         "1": "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",
         "2": "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",
         "3": "iVBORw0KGgoAAAANSUhEUgAAARgAAADcCAYAAACrgL6aAAAFw0lEQVR4nO3dUXbbNhBA0XFPVqH9r03bSD5aHruxbIsUSMwM7l1AKwKDR6hp7AgAAAAAAAAAAAAAAAAAAAAAAAAAAAAAAAAAAAAAAAAAAAAAAAAAAAAAAAAAAAAAAAAAAAAAAAAAAAAAAAAAAAAAgHreZn8A5rjf77+v/nfebjfzthgb3syMcIwmRH3YyII6ROQo8anFZiW2ckj2Ep6cbEoSYjKe6MxnAyYSlWsJzvUs+IUEJQ+xuYZFPpmo1CA457CogwlKfWIzjoUcQFT6EpvXWLyDRGVNgrOPxdpBVPhIbH5mgZ4gLHxFZL5ncb6QJSrbAGf5PNncbre3LGsjNp9ZkAdmDexXA5rlAGX1aN1mrpnQvLMQ/8kWlY24POe7dRSbeZZ++M2VA7hn4MRln6xru3Jkln3wiGuG7OhwicsxR9Y78xxUt+RDVxgogTmmwrqvFJtlHjTi/OEZNTji8poK+7BKZJZ4yIjzhmX0oIjLGFX2pXtoWj9cxDmDcdZQiMtYlfapa2j+mf0BznK/338bBM5wxgx0fbm0PCyjN+uKqHQdsNkq7l2nl1ibB9mM3OyrNlpczlVxH7tEptVXpFEbfLvd3rpsMNcZOTNdXjotDtHIsIz45+zRZZCyq7y3lV925W8wlTdRXK5T+VflVp6T0oEZsfC+DnGmUfNVNTJlA/PqggsLV1o1MiUP2CsLnSUqFYelgw77n+UZnlHuBrPKxtDbK7NY6eVU6sAdXdhsYak0IB11mYdsz/FImRtM501gbZ1/ZlCJwIgL3XWNTPrAZF/Avbo9T0Xd9iDz8/ya/QHO4OZCRR1/RU3qG8yRhRYXqsv6c4WPSHkYu/43l6xDsKqu85LpuVLfYPbItKgwQoeZThcYX4vgXfWvS6kCIy7wWeXIpAoM0EuawHS/vWR5o/Cu0p5UvcWkCcxeleICI1Sc+RSB2VvaigsNI+yd/dm3mBSBAXoqFxi3F1ZX6QxMD8zsKxx0N/OMTQ8M0FepwFS6GsKZqpyFUoHxdQr+VeUslAoMUMv0wFS56kFVM8/Y9MDsVeVqCGepdAbKBQaoI0Vgqv3vzzBLtb9WkyIwR4gMq6k482kCU/Wvoz9r9puEzyrtSdUfZ5ImMEA/qQLT/RYDR1S9vUQkC0yEyMBHleMSkTAwR4kM3XSY6TSle6R6vR/pMDQddJyTjM+U+gbj6xIr6hKXiIhfsz/AGbYNyrro8EjHl2PqG0xEv0h0e56Kuu1B5udJH5iI4wvY8Y1ATx1+0f0jJQITITL01TUuEcn/FOmRV4KRaUOEb44uM5DpOb5T5gazeWVhHWqyWCEuEQVvMJsRsZi9UYJ3rdn7HfH6nmd4hj3K3WA2IxbaAecq9/v992pxiSgcmIhxkREazjJqvirGJaJ4YCLGLfyMyFQdmopmrPWomao8J2U/+CMjI3HlprpBnevqAyos78rfYD4auSEOPXuN/LrdIS4RzW4wm9FxuGKzBe0cFfeuS1wimgZmc8ahPXPzRWasinvVKS4Rzb4i/e2MzRIBznpxdYtLRPMbzEdV3jgCNkaVfekYlY9aP9wjZx7gyn9k3kmVfegel4gFAxNxzQF+dXhE5pgK675CWDbLPOhXsg6UwByT+cd6rBSWzXIP/MiVh3nPkInMPlnXdsWwbJZ98L/NPMzfDaDIPOenQzxrHVeOS4TAPJQtNiLzva8OsajMZyG+keVg3263tyyfJZvtMGdZH3H5P4vxpCwDTD6i8jULs4PI8JGw/MwCHSQ2axKVfSzWIILTl6gcZ+FOIDb1icoYFvFkYlODoJzDol5McPIQlfNZ4InE5lqCcj0LnojgjCcqc1n85ETneWKSjw0pauXwCEkdNqqhDvERkR5s4sL8NksAAAAAAAAAAAAAAAAAAAAAAAAAAAAAAAAAAAAAAAAAAAAAAAAAAAAAAAAAAAAAAAAAAAAAAAAAAAAAAAAAAAAACvsDsQ38tvEgRaIAAAAASUVORK5CYII="
        },
        {
         "0": "iVBORw0KGgoAAAANSUhEUgAAARgAAADcCAYAAACrgL6aAAADU0lEQVR4nO3YUVFEMRBE0QEfqwoDSMMAqhCyKEh+YDbTqXMMZH7era5XBQAAAAAAAAAAAAAAAAAAAAAAAAAAAAAAAAAAAAAAAAAAAAAAAAAAAAAAAAAAAAAAAAAAAAAAwN+8nT7gv3x8/TxP3wCTfX8+Xv69v7/6QeD1TsSl6pLAWC8w0xWBAdZOrZeqCwJjvcBc8YEB1k6ul6rwwFgvMFt0YIC10+ulKjgw1gvMFxsYYG3CeqkKDYz1AhkiAwOsTVkvVYGBsV4gR1xggLVJ66UqLDDWC2SJCgywNm29VAUFxnqBPDGBAdYmrpeqkMBYL5ApIjDA2tT1UhUQGOsFco0PDLA2eb1UDQ+M9QLZRgcGWJu+XqoGB8Z6gXxjAwOsJayXqqGBsV7gDiMDA6ylrJeqgYGxXuAe4wIDrCWtl6phgbFe4C6jAgOspa2XqkGBsV7gPmMCA6wlrpeqIYGxXuBOIwIDrKWul6oBgbFe4F7HAwOsJa+XqsOBsV7gbhYMDJW+XqoOBsZ6gftZMEAbgQHaCAzQRmCANgIDtBEYoI3AAG0EBmgjMEAbgQHaCAzQRmCANgIDtBEYoI3AAG0EBmgjMEAbgQHaCAzQRmCANgIDtBEYoI3AAG0EBmgjMEAbgQHaCAzQRmCANgIDtBEYoI3AAG0EBmgjMEAbgQHaCAzQRmCANgIDtBEYoI3AAG0EBmhzLDDfn4+3U28Dr2HBwFAfXz/P0zf81dHAWDFwNwsGBktfMccDY8XAvY4HBthLXjEjAmPFwJ1GBAbYS10xYwJjxcB9xgQG2EtcMaMCY8XAXUYFBthLWzHjAmPFwD3GBQbYS1oxIwNjxcAdRgYG2EtZMWMDY8VAvrGBAfYSVszowFgxkG10YIC96StmfGCsGMg1PjDA3uQVExEYKwYyRQQG2Ju6YmICY8VAnpjAAHsTV0xUYKwYyBIVGGBv2oqJC4wVAzniAgPsTVoxkYGxYiBDZGCAvSkrJjYwVgzMFxsYYG/CiokOjBUDs0UHBtg7vWLiA2PFwFzxgQH2Tq6YKwJjxcBMVwQG2Dv9LwYAAAAAAAAAAAAAAAAAAAAAAAAAAAAAAAAAAAAAAAAAAAAAAAAAAAAAAAAAAAAAAAAAAAAA4Hq/ZAik8uNneKUAAAAASUVORK5CYII=",
         "1": "iVBORw0KGgoAAAANSUhEUgAAARgAAADcCAYAAACrgL6aAAAFFklEQVR4nO3bUWocSRAE0PTiG/hCuojBRzP4InMhn8H7tbCwsHRLyqrI6ve+BTMo3JGhsVQFAAAAAAAAAAAAAAAAAAAAAAAAAAAAAAAAAAAAAAAAAAAAAAAAAAAAAAAAAAAAAAAAAJzty+438FFvb29/dr8HmOT1ei177v9a9UIdlAvct/K5GVswygXeb9XzM7ZggHwjC8Z6gRlGFgwww7iCsV5gjnEFA3zcqv+qHlUw1gvMMqpggI9b+Yt2X1e90EfdWS/ffvzqfCtU1e+f3y9/rTz63cljpeMWjH/MWeSRZeV6qRpSMD57yZJ6LZ8qOY8RBXOVa5lFHllWr5eqAQVjvWRJvpZPlJ5HfMFc5VpmkUeWHeulKrxgrJcs6dfyaSbkEV0wV7mWWeSRZdd6qQouGOsly4Rr+SRT8ogtmKtcyyzyyLJzvVSFFoz1kmXKtXyKSXlEFsxVrmUWeWTZvV6qAgvGesky6Vo+wbQ84grmKtcyizyyJKyXqrCCsV6yTLuWp5uYR1TBXOVaZpFHlpT1UhVUMNZLlonX8mRT84gpmKtcyyzyyJK0XqpCCsZ6yTL1Wp5qch4RBXOVa5lFHlnS1ktVQMFYL1kmX8sTTc9je8Fc5VpmkUeWxPVStblgrJcs06/laU7IY8SCcS2zyCNL6nqp2lgw1kuWE67lSU7JI37BuJZZ5JEleb1UbSoY6yXLKdfyFCflEb1gXMss8siSvl6qNhSM9ZLlpGt5gtPyWN6ACgY+bsJ6qVq8YJQLPEv0ZzDAf01ZL1ULC8Z6geexYGCQSeulalHBWC/wTBYM0EbBAG0UDNBGwQBtFAzQ5uvuN/Bv/phujTt/7yKTNU77G6R/WDBAGwUDtFEwQBsFA7RRMEAbBQO0UTBAGwUDtFEwQBsFA7RRMEAbBQO0UTBAGwUDtFEwQBsFA7RRMEAbBQO0UTBAGwUDtFEwQBsFA7RRMEAbBQO0UTBAGwUDtFEwQBsFA7T5suJF3t7e/qx4HTjd6/Va8sx+FgsGaKNggDYKBmijYIA2CgZos6Rgpn3yDXwOCwYGmfYrH8sKxoqB57FgYJhJK2ZpwVgx8CzLH/g77fvtx6/Ot0JV/f75/fLXyqPfnTwmHOzlPyJN+KY8idLIcloe0Z/B3Glz+skjy4TPYrYUjBWT5bSrOd1JeUQvmCpXM408sqSvmG0FY8VkOelqnuCUPOIXTJWrmUYeWZJXzNaCsWKynHI1T3FCHiMWTJWrmUYeWVJXzPaCsWKynHA1TzI9j+0Fc4ermUUeWRJXTETBWDFZpl/N00zOI6Jg7nA1s8gjS9qKiSkYKybL5Kt5oql5xBTMHa5mFnlkSVoxUQVjxWSZejVPNTGPqIK5w9XMIo8sKSsmrmCsmCwTr+bJpuURVzB3uJpZ5JElYcVEFowVk2Xa1TzdpDwiC+YOVzOLPLLsXjGxBWPFZJl0NZ9gSh6xBXOHq5lFHll2rpjogrFisky5mk8xIY/ogrnD1cwijyy7Vkx8wVgxWSZczSdJzyO+YO5wNbPII8uOFTOiYKyYLOlX82mS8xhRMHe4mlnkkWX1ihm1DHb/0hCcYOVPBMctGOD/rTzUowrGZzEwy6iCAT7HqhUzrmCsGJhjXMEAc4wsGCsGZhhZMMAMYwvGioH3W/X8jC2YKiUD7+G5AQAAAAAAAAAAAAAAAAAAAAAAAAAAAAAAAAAAAAAAAAAAAAAAAAAAAAAAAAAAAAAAgAf6Gy0zeNBNTtmiAAAAAElFTkSuQmCC",
         "2": "iVBORw0KGgoAAAANSUhEUgAAARgAAADcCAYAAACrgL6aAAAElElEQVR4nO3dwW3kRhRF0S9DGcxauXQOWhtQaAJmPTkwF60nBnlRGNswBgap7s961X1OAiqIwuMVW4SqAAAAAAAAAAAAAAAAAAAAAAAAAAAAAAAAAAAAAAAAAAAAAAAAAAAAAAAAAAAAAAAAAID79jT7ANe6XC6fs8/waLZtW/7nhnP8MfsA1zAukG3ZgTEukG/ZgQHyPc8+wFeol/vx+v7hWp7kx9vL6c/OFAw8gBnjUrXgwKgXWMdyAwMcM6teqhYbGPUCa1lqYIBjZtZL1UKfIh2pl29v3zuPwvYy+wQs4u4KxrjAMLteqhYZGM9eYE1LDMxe6gWGhHqpWmBg1EuWn+9/zj4CC4kfmL3UCwwp9VIVPjDqJYt64ajogdlLvcCQVC9VwQOjXrKoF74idmD2Ui8wpNVLVejAqJcs6oWvihyYvdQLDIn1UhU4MOoli3rhGnEDs5d6gSG1XqrCBka9ZFEvXCtqYPZSLzAk10tV0MColyzqhVuIGZi91AsM6fVSFTIw6iWLeuFWIgZmL/UCwwr1UhUwMOoli3rhlqYPzF7qBYZV6qVq8sColyzqhVtbomDUCwwr1UvVxIFRL1nUCx3iC0a9ZHE95lmtXqomDYx6yaJe6BJdMO6WWVyPeVasl6oJA6NesqgXOj3PPsD/8cOfxfWYY9V6qTq5YNQLPJboZzDw6Faul6oTB0a9wONRMBBq9XqpOmlg1As8JgUDtDEwQBsDA7QxMEAbAwO0iXpVwMt05zjyJ/+/vSbbyw1Pwz1TMEAbAwO0MTBAGwMDtDEwQBsDA7QxMEAbAwO0MTBAGwMDtDEwQBsDA7QxMEAbAwO0MTBAGwMDtDEwQBsDA7QxMEAbAwO0MTBAGwMDtDEwQBsDA7QxMEAbAwO0MTBAGwMDtHmefYB/O/JP2TmHa8I1FAzQxsAAbQwM0MbAAG0MDNDmlIHZtu3pjK8DZFEwEOr1/eNz9hmuddrAqBh4PAoGgq1eMacOjIqBxxL1qsB/fXv7PvsId+/IqwB/X4/tpek0/M7r+8fnj7eXJW/Op/+KpGKyGHE6RT+D8aJdFtdjnlWfxUwZGBWTRcXQJbpgqtw107ge86xYMdMGRsVkUTF0iC+YKndN+GW1ipk6MComi4rh1pYomCoVA7+sVDHTB0bFZFEx3NL0gTlCxcCwSsVEDIyKyaJiuJWIgTlCxcCwQsXEDIyKyaJiuIWYgTlCxcCQXjFRA6NisqgYrhU1MEeoGBiSKyZuYFRMFhXDNeIG5ggVA0NqxUQOjIrJomL4qsiBOULFwJBYMbEDo2KyqBi+InZgjlAxMKRVTPTAqJgsKoajogfmCBUDQ1LFxA+MismiYjgifmCOUDEwpFTMEgOjYmBNSwzMESoGhoSKeZ59gL22bXu6XC67vmFGBjLcXcEA/5hdMUsNjGcxsJalBgY4bmbFLDcwKgbWsdzAAMfNqphla2DvJ0rcnopkLwUDtFl2YNxFId+yA1NlZAAAAAAAAAAAAAAAAAAAAAAAAAAAAAAAAAAAAAAAAAAAAAAAAAAAAAAAAAAAAAAAAABgl78AGhwmMlTVb/sAAAAASUVORK5CYII=",
         "3": "iVBORw0KGgoAAAANSUhEUgAAARgAAADcCAYAAACrgL6aAAADTElEQVR4nO3YwW3FMAxEQSZluP/a3EZSgXRJ+MUVZhoQL35YuAoAAAAAAAAAAAAAAAAAAAAAAAAAAAAAAAAAAAAAAAAAAAAAAAAAAAAAAAAAAAAAAAAAAAAAAIC/+Tp9wH953/fn9A0w2fM8H//evz/9IPB5J+JSdUlgrBeY6YrAAGun1kvVBYGxXmCu+MAAayfXS1V4YKwXmC06MMDa6fVSFRwY6wXmiw0MsDZhvVSFBsZ6gQyRgQHWpqyXqsDAWC+QIy4wwNqk9VIVFhjrBbJEBQZYm7ZeqoICY71AnpjAAGsT10tVSGCsF8gUERhgbep6qQoIjPUCucYHBlibvF6qhgfGeoFsowMDrE1fL1WDA2O9QL6xgQHWEtZL1dDAWC9wh5GBAdZS1kvVwMBYL3CPcYEB1pLWS9WwwFgvcJdRgQHW0tZL1aDAWC9wnzGBAdYS10vVkMBYL3CnEYEB1lLXS9WAwFgvcK/jgQHWktdL1eHAWC9wNwsGhkpfL1UHA2O9wP0sGKCNwABtBAZoIzBAG4EB2ggM0EZggDYCA7QRGKCNwABtBAZoIzBAG4EB2ggM0EZggDYCA7QRGKCNwABtBAZoIzBAG4EB2ggM0EZggDYCA7QRGKCNwABtBAZoIzBAG4EB2ggM0EZggDYCA7QRGKCNwABtBAZoIzBAG4EB2ggM0EZggDYCA7Q5Fpjneb5OvQ18hgUDQ73v+3P6hr86GhgrBu5mwcBg6SvmeGCsGLjX8cAAe8krZkRgrBi404jAAHupK2ZMYKwYuM+YwAB7iStmVGCsGLjLqMAAe2krZlxgrBi4x7jAAHtJK2ZkYKwYuMPIwAB7KStmbGCsGMg3NjDAXsKKGR0YKwayjQ4MsDd9xYwPjBUDucYHBtibvGIiAmPFQKaIwAB7U1dMTGCsGMgTExhgb+KKiQqMFQNZogID7E1bMXGBsWIgR1xggL1JKyYyMFYMZIgMDLA3ZcXEBsaKgfliAwPsTVgx0YGxYmC26MAAe6dXTHxgrBiYKz4wwN7JFXNFYKwYmOmKwAB7p//FAAAAAAAAAAAAAAAAAAAAAAAAAAAAAAAAAAAAAAAAAAAAAAAAAAAAAAAAAAAAAAAAAAAAAABc7xeH7KTyjFElFAAAAABJRU5ErkJggg=="
        }
       ],
       "layout": "IPY_MODEL_631baaa30bd848b2b6f6adc310450904",
       "state": {
        "36": [
         0,
         1
        ],
        "37": [
         1,
         1
        ],
        "38": [
         0,
         1
        ],
        "39": [
         1,
         1
        ]
       },
       "style": "IPY_MODEL_abcd1f8ad5ba47a48030532d440a098e",
       "tooltip": "",
       "tree": {
        "children": [
         {
          "color": "rgb(232, 176, 36)",
          "id": 36,
          "name": "TOP",
          "type": "leaf"
         },
         {
          "color": "rgb(232, 176, 36)",
          "id": 37,
          "name": "TOP@faces@&gt;(1,0,1)",
          "type": "leaf"
         },
         {
          "color": "rgb(232, 176, 36)",
          "id": 38,
          "name": "THIRD",
          "type": "leaf"
         },
         {
          "color": "rgb(232, 176, 36)",
          "id": 39,
          "name": "THIRD@faces@&gt;Z",
          "type": "leaf"
         }
        ],
        "id": 40,
        "name": "Assembly",
        "type": "node"
       }
      }
     },
     "70719aa7-0413-4504-9553-f7becf9dc3bd": {
      "model_module": "jupyter-threejs",
      "model_module_version": "^2.1.0",
      "model_name": "DirectionalLightShadowModel",
      "state": {
       "camera": "IPY_MODEL_22592f5f-64ce-4b04-8013-20a6e9541ce8"
      }
     },
     "70c38cc9f6024013ae0f4632056367ca": {
      "buffers": [
       {
        "data": "AADAPwAAAD8zM6NAAADAPzMzsz8zM6NAAADAPzMzsz/NzJxAAADAPzMzsz8zM6NAAADAPwAAAD/NzJxAAADAPwAAAD8zM6NAAADAPwAAAD/NzJxAAADAPzMzsz/NzJxAAAAAPwAAwD8zM6NAMzOzPwAAwD8zM6NAAADAPzMzsz8zM6NAMzOzPwAAwD8zM6NAAAAAPwAAAD8zM6NAAAAAPwAAwD8zM6NAAAAAPwAAAD8zM6NAAADAPwAAAD8zM6NAAADAPzMzsz/NzJxAMzOzPwAAwD/NzJxAMzOzPwAAwD/NzJxAMzOzPwAAwD8zM6NAAAAAPwAAAD/NzJxAAADAPwAAAD/NzJxAAAAAPwAAAD/NzJxAAAAAPwAAAD8zM6NAAAAAPwAAwD/NzJxAMzOzPwAAwD/NzJxAAAAAPwAAAD/NzJxAAAAAPwAAwD/NzJxAAAAAPwAAwD/NzJxAAAAAPwAAwD8zM6NA",
        "encoding": "base64",
        "path": [
         "positions",
         "buffer"
        ]
       }
      ],
      "model_module": "jupyter-threejs",
      "model_module_version": "^2.1.0",
      "model_name": "LineSegmentsGeometryModel",
      "state": {
       "_view_module": null,
       "_view_module_version": "",
       "positions": {
        "dtype": "float32",
        "shape": [
         15,
         2,
         3
        ]
       }
      }
     },
     "71609153845b4b879c2ac84f586c5302": {
      "model_module": "@jupyter-widgets/base",
      "model_module_version": "1.2.0",
      "model_name": "LayoutModel",
      "state": {}
     },
     "7185d9d3-5c41-4a79-9a9f-9fe40705f491": {
      "model_module": "jupyter-threejs",
      "model_module_version": "^2.1.0",
      "model_name": "DirectionalLightShadowModel",
      "state": {
       "camera": "IPY_MODEL_b57989dc-bf03-4006-b51b-e4f501e0c838"
      }
     },
     "7192342b43ee4d7c92bb0b2198de0a83": {
      "model_module": "jupyter-threejs",
      "model_module_version": "^2.1.0",
      "model_name": "GridHelperModel",
      "state": {
       "_view_module": null,
       "_view_module_version": "",
       "colorCenterLine": "#aaa",
       "colorGrid": "#ddd",
       "divisions": 12,
       "matrix": [
        1,
        0,
        0,
        0,
        0,
        2.220446049250313e-16,
        1,
        0,
        0,
        -1,
        2.220446049250313e-16,
        0,
        0,
        0,
        0,
        1
       ],
       "quaternion": [
        0.7071067811865475,
        0,
        0,
        0.7071067811865476
       ],
       "rotation": [
        1.5707963267948966,
        0,
        0,
        "XYZ"
       ],
       "size": 2.4000000000000004,
       "type": "LineSegments",
       "visible": false
      }
     },
     "71fdd19137bc4f9ab0c3d468223c508e": {
      "model_module": "@jupyter-widgets/base",
      "model_module_version": "1.2.0",
      "model_name": "LayoutModel",
      "state": {}
     },
     "722d6cec3ee94a67b3fd2d9e8252a298": {
      "model_module": "jupyter-threejs",
      "model_module_version": "^2.1.0",
      "model_name": "PlaneModel",
      "state": {
       "_view_module": null,
       "_view_module_version": "",
       "constant": 1.2000000000000002,
       "normal": [
        0,
        1,
        0
       ]
      }
     },
     "72486755908747f1a568b32169df3a27": {
      "buffers": [
       {
        "data": "AACAP83MTL0AAIC+AACAP83MTL2amRk+AACAP83MTD0AAIC+AACAP83MTD2amRk+AACAP83MTL0AAIC+AACAP83MTL2amRk+AACAv83MTL0AAIC+AACAv83MTL0AAIA+ZmZmP83MTL0AAIA+AACAP83MTL2amRk+ZmZmP83MTL0AAIA+AACAP83MTD2amRk+ZmZmP83MTD0AAIA+AACAv83MTL0AAIC+AACAv83MTD0AAIC+AACAP83MTL0AAIC+AACAP83MTD0AAIC+AACAP83MTD0AAIC+AACAP83MTD2amRk+AACAv83MTD0AAIC+AACAv83MTD0AAIA+ZmZmP83MTD0AAIA+AACAv83MTD0AAIA+ZmZmP83MTD0AAIA+AACAv83MTL0AAIA+ZmZmP83MTL0AAIA+AACAv83MTL0AAIC+AACAv83MTL0AAIA+AACAv83MTD0AAIC+AACAv83MTD0AAIA+",
        "encoding": "base64",
        "path": [
         "array",
         "buffer"
        ]
       }
      ],
      "model_module": "jupyter-threejs",
      "model_module_version": "^2.1.0",
      "model_name": "BufferAttributeModel",
      "state": {
       "_view_module": null,
       "_view_module_version": "",
       "array": {
        "dtype": "float32",
        "shape": [
         30,
         3
        ]
       },
       "normalized": true,
       "version": 2
      }
     },
     "724f2d644acb4af3ba04723ad139139e": {
      "model_module": "jupyter-threejs",
      "model_module_version": "^2.1.0",
      "model_name": "GroupModel",
      "state": {
       "_view_module": null,
       "_view_module_version": "",
       "children": [
        "IPY_MODEL_69988212115a477ab4dfff803c4f759c",
        "IPY_MODEL_5c5ebe8104e34017af5bd801e19aec14",
        "IPY_MODEL_b21de36c744f478aa526cbaacc6c2084",
        "IPY_MODEL_43f3e379e12648c9b7b5b1b8fe823691",
        "IPY_MODEL_c67e9c94943c4e9b90c0aff0fd962079",
        "IPY_MODEL_f5076dd388424e369dcfe17e9425b51a",
        "IPY_MODEL_f0b54a0ba6d148cf98eb02a1bb4fbd1f",
        "IPY_MODEL_d4d83a71f2a54d8ca5034c3d86075a21"
       ]
      }
     },
     "7257f29002e54cc9a7715cb338b8656e": {
      "model_module": "@jupyter-widgets/controls",
      "model_module_version": "1.5.0",
      "model_name": "VBoxModel",
      "state": {
       "children": [
        "IPY_MODEL_ff44b98e32114a169c84e0b641cc61d4",
        "IPY_MODEL_31b6d919182147ff84a09600874da348",
        "IPY_MODEL_2e4027cbfdec49b9b48935f7763e70b5",
        "IPY_MODEL_d323fe2283404acbbd414d2033de6a98",
        "IPY_MODEL_aebc939b40c14c70b1f0d3a8ad26a117",
        "IPY_MODEL_2a38e0cc4c2f42a9a49c3cd52b437e9c"
       ],
       "layout": "IPY_MODEL_3ab0a4ec243b40d195fc07c98e8f71e6"
      }
     },
     "726a8bc5055849328ea25a288dcce04f": {
      "buffers": [
       {
        "data": "AAAAAAAAAAAAAAAAAAAAAAAAAAAL1xNA",
        "encoding": "base64",
        "path": [
         "positions",
         "buffer"
        ]
       }
      ],
      "model_module": "jupyter-threejs",
      "model_module_version": "^2.1.0",
      "model_name": "LineSegmentsGeometryModel",
      "state": {
       "_view_module": null,
       "_view_module_version": "",
       "positions": {
        "dtype": "float32",
        "shape": [
         1,
         2,
         3
        ]
       }
      }
     },
     "726be58b-4e9d-42b5-8423-d8a45a940606": {
      "model_module": "jupyter-threejs",
      "model_module_version": "^2.1.0",
      "model_name": "OrthographicCameraModel",
      "state": {
       "bottom": -5,
       "far": 500,
       "left": -5,
       "near": 0.5,
       "projectionMatrix": [
        0.2,
        0,
        0,
        0,
        0,
        0.2,
        0,
        0,
        0,
        0,
        -0.004004004004004004,
        0,
        0,
        0,
        -1.002002002002002,
        1
       ],
       "right": 5,
       "top": 5
      }
     },
     "72c632311a524ec3af07fd5996ab4f87": {
      "model_module": "@jupyter-widgets/controls",
      "model_module_version": "1.5.0",
      "model_name": "HTMLModel",
      "state": {
       "_dom_classes": [
        "scroll-area",
        "mac-scrollbar"
       ],
       "layout": "IPY_MODEL_9060c266a83449249589912ab87bbe4f",
       "style": "IPY_MODEL_67dbaa301bba46c8882425c68f63ad76",
       "value": "<table style=\"display: block; overflow-x: visible; white-space: nowrap;\"><tr style=\"vertical-align: text-top;\"><td><pre style=\"color: #aaa; white-space: nowrap\">[ 0]</pre></td><td>\n        <b>Rendering done</b>\n        <table>\n            <tr class=\"small_table\" >                      <td>Tick size</td>  <td>1.0 mm</td> </tr>\n            <tr class=\"small_table\" style=\"color: red;\">   <td>X-Axis</td>     <td>Red</td>    </tr>\n            <tr class=\"small_table\" style=\"color: green;\"> <td>Y-Axis</td>     <td>Green</td>  </tr>\n            <tr class=\"small_table\" style=\"color: blue;\">  <td>Z-Axis</td>     <td>Blue</td>   </tr>\n        </table>\n        </td></tr></table>"
      }
     },
     "72ede1ad00794b9ea66a6257877e8bd6": {
      "model_module": "@jupyter-widgets/controls",
      "model_module_version": "1.5.0",
      "model_name": "DescriptionStyleModel",
      "state": {
       "description_width": ""
      }
     },
     "734692bbb18644809797614423b68679": {
      "model_module": "@jupyter-widgets/controls",
      "model_module_version": "1.5.0",
      "model_name": "BoxModel",
      "state": {
       "_dom_classes": [
        "view_output"
       ],
       "children": [
        "IPY_MODEL_09ed8c4020184d34b068c14e76617b37"
       ],
       "layout": "IPY_MODEL_99a1a032d53b42a5b1d32cb09ac35093"
      }
     },
     "7397ca72abe64217a14d8b967552465a": {
      "model_module": "jupyter-threejs",
      "model_module_version": "^2.1.0",
      "model_name": "LineSegments2Model",
      "state": {
       "_view_module": null,
       "_view_module_version": "",
       "geometry": "IPY_MODEL_8b99aa1debf642dea545ac62fd725d13",
       "material": "IPY_MODEL_46b23e0ab72a4539afb6b759876cbf7e",
       "morphTargetInfluences": [],
       "name": "edges_2"
      }
     },
     "73b714e1fc4b4892beb69aeb40970827": {
      "model_module": "@jupyter-widgets/controls",
      "model_module_version": "1.5.0",
      "model_name": "DescriptionStyleModel",
      "state": {
       "description_width": ""
      }
     },
     "73be4378ee0c46b4942931dc1a0c1df7": {
      "model_module": "@jupyter-widgets/base",
      "model_module_version": "1.2.0",
      "model_name": "LayoutModel",
      "state": {}
     },
     "73d939fe05cb480d8885d4e9aeedeb3d": {
      "model_module": "@jupyter-widgets/controls",
      "model_module_version": "1.5.0",
      "model_name": "ButtonStyleModel",
      "state": {}
     },
     "73e469c8-9cc1-4045-9154-b1048777e1ea": {
      "model_module": "jupyter-threejs",
      "model_module_version": "^2.1.0",
      "model_name": "DirectionalLightShadowModel",
      "state": {
       "camera": "IPY_MODEL_ec86f952-d241-4dab-a5e7-0ee4780b280c"
      }
     },
     "74450d7b615a4a2b84b8d90e6545c66c": {
      "model_module": "jupyter-threejs",
      "model_module_version": "^2.1.0",
      "model_name": "LineMaterialModel",
      "state": {
       "_view_module": null,
       "_view_module_version": "",
       "color": "#808080"
      }
     },
     "744c285dcc6d40b1a93294bc3e2ee901": {
      "model_module": "jupyter-threejs",
      "model_module_version": "^2.1.0",
      "model_name": "GroupModel",
      "state": {
       "_view_module": null,
       "_view_module_version": "",
       "children": [
        "IPY_MODEL_41a3faab400b4e698d462752cbe4386f",
        "IPY_MODEL_4c51b30b5e364b9a90df47f4fdf8c060",
        "IPY_MODEL_6be8781ca69648cf99827e179ac684a0",
        "IPY_MODEL_fbf02416a993457280ed73e424bda7a6",
        "IPY_MODEL_7724cddfaf6d41b2b787890cc230416d",
        "IPY_MODEL_8d30930130d14748a2b1be25177e0eae",
        "IPY_MODEL_8ad832eb397f4c93b2925edfe12dc611",
        "IPY_MODEL_ce11cbb23168474d95ef02b2dd2a51d0"
       ]
      }
     },
     "749ad5abd14f494aa4731901b93e2a96": {
      "model_module": "@jupyter-widgets/base",
      "model_module_version": "1.2.0",
      "model_name": "LayoutModel",
      "state": {}
     },
     "74a1e607e30846a2b78849c260b14244": {
      "model_module": "@jupyter-widgets/controls",
      "model_module_version": "1.5.0",
      "model_name": "SliderStyleModel",
      "state": {
       "description_width": ""
      }
     },
     "74c24c1d38cb46d59568c92d57734151": {
      "model_module": "jupyter-threejs",
      "model_module_version": "^2.1.0",
      "model_name": "LineMaterialModel",
      "state": {
       "_view_module": null,
       "_view_module_version": "",
       "color": "green",
       "linewidth": 3
      }
     },
     "74f153d0-b1a1-4b55-808d-675695413c8d": {
      "model_module": "jupyter-threejs",
      "model_module_version": "^2.1.0",
      "model_name": "DirectionalLightShadowModel",
      "state": {
       "camera": "IPY_MODEL_d8105d29-5880-4fd7-ab12-a801cf95c24d"
      }
     },
     "75351c4058544efbbcfcaf87fdab0c8e": {
      "model_module": "@jupyter-widgets/controls",
      "model_module_version": "1.5.0",
      "model_name": "ButtonStyleModel",
      "state": {}
     },
     "7561323a35224ebaa61580b99a85ef65": {
      "buffers": [
       {
        "data": "AAAAPwAAAL+amRk/zczMPQAAAL8AAIA/AAAAPwAAAD+amRk/zczMPQAAAD8AAIA/",
        "encoding": "base64",
        "path": [
         "array",
         "buffer"
        ]
       }
      ],
      "model_module": "jupyter-threejs",
      "model_module_version": "^2.1.0",
      "model_name": "BufferAttributeModel",
      "state": {
       "_view_module": null,
       "_view_module_version": "",
       "array": {
        "dtype": "float32",
        "shape": [
         4,
         3
        ]
       },
       "normalized": true,
       "version": 2
      }
     },
     "75a720b5-0974-4a1d-9568-a7493b4abb52": {
      "model_module": "jupyter-threejs",
      "model_module_version": "^2.1.0",
      "model_name": "DirectionalLightShadowModel",
      "state": {
       "camera": "IPY_MODEL_f355bc11-0693-4b57-8afb-d7d84138bd1a"
      }
     },
     "75b2c144-42fc-4676-82bb-b3c064df0770": {
      "model_module": "jupyter-threejs",
      "model_module_version": "^2.1.0",
      "model_name": "OrthographicCameraModel",
      "state": {
       "bottom": -5,
       "far": 500,
       "left": -5,
       "near": 0.5,
       "projectionMatrix": [
        0.2,
        0,
        0,
        0,
        0,
        0.2,
        0,
        0,
        0,
        0,
        -0.004004004004004004,
        0,
        0,
        0,
        -1.002002002002002,
        1
       ],
       "right": 5,
       "top": 5
      }
     },
     "75b87ac6502c474091d245843b0ad90f": {
      "model_module": "@jupyter-widgets/controls",
      "model_module_version": "1.5.0",
      "model_name": "VBoxModel",
      "state": {
       "children": [
        "IPY_MODEL_f1e3796d140f46fb8f951db7ff8b4841",
        "IPY_MODEL_4c526442770544089dcb264b58ca00a3",
        "IPY_MODEL_775d117e374f403fac138ceaf83c6214",
        "IPY_MODEL_2a9d45275c0544eab2305babaa6dcb68",
        "IPY_MODEL_9494f4bc8736462e83a10db757923400",
        "IPY_MODEL_8cbd958097da43539d4e891156f366cd"
       ],
       "layout": "IPY_MODEL_ea7a1c919add41859a3866b49a7a96e6"
      }
     },
     "75ef58bdb71f478aa6beb8c03b1ea894": {
      "model_module": "@jupyter-widgets/controls",
      "model_module_version": "1.5.0",
      "model_name": "DescriptionStyleModel",
      "state": {
       "description_width": ""
      }
     },
     "75f7fd0c60784b88bb7a92e31a5e8e9c": {
      "model_module": "jupyter_cadquery",
      "model_module_version": "^v1.0.0",
      "model_name": "TreeModel",
      "state": {
       "_dom_classes": [
        "view_tree",
        "scroll-area",
        "mac-scrollbar"
       ],
       "_model_module_version": "^v1.0.0",
       "_view_module_version": "^v1.0.0",
       "button_style": "",
       "icon": "",
       "icons": [
        {
         "0": "iVBORw0KGgoAAAANSUhEUgAAARgAAADcCAYAAACrgL6aAAAFCElEQVR4nO3dUXYbNwwFULQnC/PSvbPmo9Vxao9saUQOAfDeDUQE3jxTipVEAAAAAAAAAAAAAAAAAAAAAAAAAAAAAAAAAAAAAAAAAAAAAAAAAAAAAAAAAAAAAAAAAAAAAAAAAAAAAAAAAAAAAADU89fqF8Aab29v/1z9Z76/v8vbZiy8mRXFMZoi6sMiC+pQImcpn1osK7Gdi+RZiicnS0lCmYyndNazgIWUyrUUzvUM/EIKJQ9lcw1Dnkyp1KBw5jDUwRRKfcpmHIMcQKn0pWxeY3gnVS+VFQ9O9ZlFKJxnGdYTKj0gVR8EM+7FgB6QLfQ7B9suajGcO7IEWYB/Zld5GciBVYEV0HFWlo49fjCI/yiVvpTNOlsf/ubKAO4euCzs/BrbHjzimpDtHK4q5GCeLQ8tUNwjG2Ntc9CI+eHZKTg7mJmXXbKyxSEj5oVll6DsTn7OaX24iDnB6B4KvidTj2t5qAg/cZhLyTym3YEixi+/4+IZR97ua3OQm5HL7rRo5pO9r1oc4mbUgrssl+spmf8rf4AIxUJOchnx9+oX8CpLJKtRmcrybfEzSj9UIwavWLjCrlkt94JvXl1YxWVR244lU+rF3ryyqGoLoqddMlzuM5hdFkNvr2Sx0mcypR64s4NVLGTWOddlbjCdl8Dezma0wk2mRMEoF7rrWjLpCyb7AGG1zM/Ir9UvYAY3Fyq65TZzYTwr9Q3mzKCVC9WdyXDWUkr5MPrMBXo8B6lvMM/INFQYoUOm0xWMt0XwofrbpVQFo1zgq8olk6pggF7SFIzbC9xX9RaTpmCepVzYTcXMpyiYZ5u24qBhhGezv/oWk6JggJ7KFYzbC7ur9AwsL5jVVzjobuUztrxggL5KFUylqyHMVOVZKFUw3k7Bv6o8C6UKBqhlecFUuepBVSufseUF86wqV0OYpdIzUK5ggDpSFEy1X3+GVap9rSZFwZyhZNhNxcynKZiqX0eHK1T950zSFAzQT6qCcYuBr6reXiKSFUyEkoE/VS6XiIQFc5aSoZsOmU7TdEeqtzec1SX7qW8w3i6xoy7lEhHxa/ULmOG2oKxDhyMdfzimvsFEKAn4SeZnJH3BRJwfYMefCPTU4T+6P1KiYCKUDH11LZeI5H+LdOSVwqiwEPaxQ5bL3GBuXhms2wxZ7FAuEQVvMDcjyqLSoujh1dxWy2ypF/uZkqGKXbNa7gV/NuptT8Xlkd/u+Sz3Gcxnowbv8xlG271cIhrcYP40siQqL5W1FMuH8gf4TMmwiux91eIQn41+u9Nl2cwhb/e1OciRGZ+rdFo+5836zK5bvlod5oiSYTSZelzLQx3xE4dXyM85rQ93ZOZfR3cPy25m/+rCDnlpf8AjV/zOyw7h6Ug2xtrmoPcIFBFyMMt2Bz5y5W/x7hiyjOz8Gtse/LOVXxXYOYBXWbXf3Xe79eHvUTY9KJX1DOIbWb4AKbA/s6ucDONBWQJ8s3OQ7aIOg3lCtmB/p2rozbgXAzqp0oNwz4oHpPrclMpzDGuQ6g8O9ymV8wxuAmVTn1IZwxAnUzY1KJQ5DPViCicPpTKfAS+kbK6lUK5n4IkonPGUylqGn5zSeZwyycdCitq5eBRJHRbVUIfyUSI9WOLGVhSR4gAAAAAAAAAAAAAAAAAAAAAAAAAAAAAAAAAAAAAAAAAAAAAAAAAAAAAAAAAAAAAAAAAAAAAAAAAAAAAAAAAAAABgkN/fSHSu9KigrAAAAABJRU5ErkJggg==",
         "1": "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",
         "2": "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",
         "3": "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"
        },
        {
         "0": "iVBORw0KGgoAAAANSUhEUgAAARgAAADcCAYAAACrgL6aAAADU0lEQVR4nO3YUVFEMRBE0QEfqwoDSMMAqhCyKEh+YDbTqXMMZH7era5XBQAAAAAAAAAAAAAAAAAAAAAAAAAAAAAAAAAAAAAAAAAAAAAAAAAAAAAAAAAAAAAAAAAAAAAAwN+8nT7gv3x8/TxP3wCTfX8+Xv69v7/6QeD1TsSl6pLAWC8w0xWBAdZOrZeqCwJjvcBc8YEB1k6ul6rwwFgvMFt0YIC10+ulKjgw1gvMFxsYYG3CeqkKDYz1AhkiAwOsTVkvVYGBsV4gR1xggLVJ66UqLDDWC2SJCgywNm29VAUFxnqBPDGBAdYmrpeqkMBYL5ApIjDA2tT1UhUQGOsFco0PDLA2eb1UDQ+M9QLZRgcGWJu+XqoGB8Z6gXxjAwOsJayXqqGBsV7gDiMDA6ylrJeqgYGxXuAe4wIDrCWtl6phgbFe4C6jAgOspa2XqkGBsV7gPmMCA6wlrpeqIYGxXuBOIwIDrKWul6oBgbFe4F7HAwOsJa+XqsOBsV7gbhYMDJW+XqoOBsZ6gftZMEAbgQHaCAzQRmCANgIDtBEYoI3AAG0EBmgjMEAbgQHaCAzQRmCANgIDtBEYoI3AAG0EBmgjMEAbgQHaCAzQRmCANgIDtBEYoI3AAG0EBmgjMEAbgQHaCAzQRmCANgIDtBEYoI3AAG0EBmgjMEAbgQHaCAzQRmCANgIDtBEYoI3AAG0EBmhzLDDfn4+3U28Dr2HBwFAfXz/P0zf81dHAWDFwNwsGBktfMccDY8XAvY4HBthLXjEjAmPFwJ1GBAbYS10xYwJjxcB9xgQG2EtcMaMCY8XAXUYFBthLWzHjAmPFwD3GBQbYS1oxIwNjxcAdRgYG2EtZMWMDY8VAvrGBAfYSVszowFgxkG10YIC96StmfGCsGMg1PjDA3uQVExEYKwYyRQQG2Ju6YmICY8VAnpjAAHsTV0xUYKwYyBIVGGBv2oqJC4wVAzniAgPsTVoxkYGxYiBDZGCAvSkrJjYwVgzMFxsYYG/CiokOjBUDs0UHBtg7vWLiA2PFwFzxgQH2Tq6YKwJjxcBMVwQG2Dv9LwYAAAAAAAAAAAAAAAAAAAAAAAAAAAAAAAAAAAAAAAAAAAAAAAAAAAAAAAAAAAAAAAAAAAAA4Hq/ZAik8uNneKUAAAAASUVORK5CYII=",
         "1": "iVBORw0KGgoAAAANSUhEUgAAARgAAADcCAYAAACrgL6aAAAFFklEQVR4nO3bUWocSRAE0PTiG/hCuojBRzP4InMhn8H7tbCwsHRLyqrI6ve+BTMo3JGhsVQFAAAAAAAAAAAAAAAAAAAAAAAAAAAAAAAAAAAAAAAAAAAAAAAAAAAAAAAAAAAAAAAAAJzty+438FFvb29/dr8HmOT1ei177v9a9UIdlAvct/K5GVswygXeb9XzM7ZggHwjC8Z6gRlGFgwww7iCsV5gjnEFA3zcqv+qHlUw1gvMMqpggI9b+Yt2X1e90EfdWS/ffvzqfCtU1e+f3y9/rTz63cljpeMWjH/MWeSRZeV6qRpSMD57yZJ6LZ8qOY8RBXOVa5lFHllWr5eqAQVjvWRJvpZPlJ5HfMFc5VpmkUeWHeulKrxgrJcs6dfyaSbkEV0wV7mWWeSRZdd6qQouGOsly4Rr+SRT8ogtmKtcyyzyyLJzvVSFFoz1kmXKtXyKSXlEFsxVrmUWeWTZvV6qAgvGesky6Vo+wbQ84grmKtcyizyyJKyXqrCCsV6yTLuWp5uYR1TBXOVaZpFHlpT1UhVUMNZLlonX8mRT84gpmKtcyyzyyJK0XqpCCsZ6yTL1Wp5qch4RBXOVa5lFHlnS1ktVQMFYL1kmX8sTTc9je8Fc5VpmkUeWxPVStblgrJcs06/laU7IY8SCcS2zyCNL6nqp2lgw1kuWE67lSU7JI37BuJZZ5JEleb1UbSoY6yXLKdfyFCflEb1gXMss8siSvl6qNhSM9ZLlpGt5gtPyWN6ACgY+bsJ6qVq8YJQLPEv0ZzDAf01ZL1ULC8Z6geexYGCQSeulalHBWC/wTBYM0EbBAG0UDNBGwQBtFAzQ5uvuN/Bv/phujTt/7yKTNU77G6R/WDBAGwUDtFEwQBsFA7RRMEAbBQO0UTBAGwUDtFEwQBsFA7RRMEAbBQO0UTBAGwUDtFEwQBsFA7RRMEAbBQO0UTBAGwUDtFEwQBsFA7RRMEAbBQO0UTBAGwUDtFEwQBsFA7T5suJF3t7e/qx4HTjd6/Va8sx+FgsGaKNggDYKBmijYIA2CgZos6Rgpn3yDXwOCwYGmfYrH8sKxoqB57FgYJhJK2ZpwVgx8CzLH/g77fvtx6/Ot0JV/f75/fLXyqPfnTwmHOzlPyJN+KY8idLIcloe0Z/B3Glz+skjy4TPYrYUjBWT5bSrOd1JeUQvmCpXM408sqSvmG0FY8VkOelqnuCUPOIXTJWrmUYeWZJXzNaCsWKynHI1T3FCHiMWTJWrmUYeWVJXzPaCsWKynHA1TzI9j+0Fc4ermUUeWRJXTETBWDFZpl/N00zOI6Jg7nA1s8gjS9qKiSkYKybL5Kt5oql5xBTMHa5mFnlkSVoxUQVjxWSZejVPNTGPqIK5w9XMIo8sKSsmrmCsmCwTr+bJpuURVzB3uJpZ5JElYcVEFowVk2Xa1TzdpDwiC+YOVzOLPLLsXjGxBWPFZJl0NZ9gSh6xBXOHq5lFHll2rpjogrFisky5mk8xIY/ogrnD1cwijyy7Vkx8wVgxWSZczSdJzyO+YO5wNbPII8uOFTOiYKyYLOlX82mS8xhRMHe4mlnkkWX1ihm1DHb/0hCcYOVPBMctGOD/rTzUowrGZzEwy6iCAT7HqhUzrmCsGJhjXMEAc4wsGCsGZhhZMMAMYwvGioH3W/X8jC2YKiUD7+G5AQAAAAAAAAAAAAAAAAAAAAAAAAAAAAAAAAAAAAAAAAAAAAAAAAAAAAAAAAAAAAAAgAf6Gy0zeNBNTtmiAAAAAElFTkSuQmCC",
         "2": "iVBORw0KGgoAAAANSUhEUgAAARgAAADcCAYAAACrgL6aAAAElElEQVR4nO3dwW3kRhRF0S9DGcxauXQOWhtQaAJmPTkwF60nBnlRGNswBgap7s961X1OAiqIwuMVW4SqAAAAAAAAAAAAAAAAAAAAAAAAAAAAAAAAAAAAAAAAAAAAAAAAAAAAAAAAAAAAAAAAAID79jT7ANe6XC6fs8/waLZtW/7nhnP8MfsA1zAukG3ZgTEukG/ZgQHyPc8+wFeol/vx+v7hWp7kx9vL6c/OFAw8gBnjUrXgwKgXWMdyAwMcM6teqhYbGPUCa1lqYIBjZtZL1UKfIh2pl29v3zuPwvYy+wQs4u4KxrjAMLteqhYZGM9eYE1LDMxe6gWGhHqpWmBg1EuWn+9/zj4CC4kfmL3UCwwp9VIVPjDqJYt64ajogdlLvcCQVC9VwQOjXrKoF74idmD2Ui8wpNVLVejAqJcs6oWvihyYvdQLDIn1UhU4MOoli3rhGnEDs5d6gSG1XqrCBka9ZFEvXCtqYPZSLzAk10tV0MColyzqhVuIGZi91AsM6fVSFTIw6iWLeuFWIgZmL/UCwwr1UhUwMOoli3rhlqYPzF7qBYZV6qVq8sColyzqhVtbomDUCwwr1UvVxIFRL1nUCx3iC0a9ZHE95lmtXqomDYx6yaJe6BJdMO6WWVyPeVasl6oJA6NesqgXOj3PPsD/8cOfxfWYY9V6qTq5YNQLPJboZzDw6Faul6oTB0a9wONRMBBq9XqpOmlg1As8JgUDtDEwQBsDA7QxMEAbAwO0iXpVwMt05zjyJ/+/vSbbyw1Pwz1TMEAbAwO0MTBAGwMDtDEwQBsDA7QxMEAbAwO0MTBAGwMDtDEwQBsDA7QxMEAbAwO0MTBAGwMDtDEwQBsDA7QxMEAbAwO0MTBAGwMDtDEwQBsDA7QxMEAbAwO0MTBAGwMDtHmefYB/O/JP2TmHa8I1FAzQxsAAbQwM0MbAAG0MDNDmlIHZtu3pjK8DZFEwEOr1/eNz9hmuddrAqBh4PAoGgq1eMacOjIqBxxL1qsB/fXv7PvsId+/IqwB/X4/tpek0/M7r+8fnj7eXJW/Op/+KpGKyGHE6RT+D8aJdFtdjnlWfxUwZGBWTRcXQJbpgqtw107ge86xYMdMGRsVkUTF0iC+YKndN+GW1ipk6MComi4rh1pYomCoVA7+sVDHTB0bFZFEx3NL0gTlCxcCwSsVEDIyKyaJiuJWIgTlCxcCwQsXEDIyKyaJiuIWYgTlCxcCQXjFRA6NisqgYrhU1MEeoGBiSKyZuYFRMFhXDNeIG5ggVA0NqxUQOjIrJomL4qsiBOULFwJBYMbEDo2KyqBi+InZgjlAxMKRVTPTAqJgsKoajogfmCBUDQ1LFxA+MismiYjgifmCOUDEwpFTMEgOjYmBNSwzMESoGhoSKeZ59gL22bXu6XC67vmFGBjLcXcEA/5hdMUsNjGcxsJalBgY4bmbFLDcwKgbWsdzAAMfNqphla2DvJ0rcnopkLwUDtFl2YNxFId+yA1NlZAAAAAAAAAAAAAAAAAAAAAAAAAAAAAAAAAAAAAAAAAAAAAAAAAAAAAAAAAAAAAAAAABgl78AGhwmMlTVb/sAAAAASUVORK5CYII=",
         "3": "iVBORw0KGgoAAAANSUhEUgAAARgAAADcCAYAAACrgL6aAAADTElEQVR4nO3YwW3FMAxEQSZluP/a3EZSgXRJ+MUVZhoQL35YuAoAAAAAAAAAAAAAAAAAAAAAAAAAAAAAAAAAAAAAAAAAAAAAAAAAAAAAAAAAAAAAAAAAAAAAAIC/+Tp9wH953/fn9A0w2fM8H//evz/9IPB5J+JSdUlgrBeY6YrAAGun1kvVBYGxXmCu+MAAayfXS1V4YKwXmC06MMDa6fVSFRwY6wXmiw0MsDZhvVSFBsZ6gQyRgQHWpqyXqsDAWC+QIy4wwNqk9VIVFhjrBbJEBQZYm7ZeqoICY71AnpjAAGsT10tVSGCsF8gUERhgbep6qQoIjPUCucYHBlibvF6qhgfGeoFsowMDrE1fL1WDA2O9QL6xgQHWEtZL1dDAWC9wh5GBAdZS1kvVwMBYL3CPcYEB1pLWS9WwwFgvcJdRgQHW0tZL1aDAWC9wnzGBAdYS10vVkMBYL3CnEYEB1lLXS9WAwFgvcK/jgQHWktdL1eHAWC9wNwsGhkpfL1UHA2O9wP0sGKCNwABtBAZoIzBAG4EB2ggM0EZggDYCA7QRGKCNwABtBAZoIzBAG4EB2ggM0EZggDYCA7QRGKCNwABtBAZoIzBAG4EB2ggM0EZggDYCA7QRGKCNwABtBAZoIzBAG4EB2ggM0EZggDYCA7QRGKCNwABtBAZoIzBAG4EB2ggM0EZggDYCA7Q5Fpjneb5OvQ18hgUDQ73v+3P6hr86GhgrBu5mwcBg6SvmeGCsGLjX8cAAe8krZkRgrBi404jAAHupK2ZMYKwYuM+YwAB7iStmVGCsGLjLqMAAe2krZlxgrBi4x7jAAHtJK2ZkYKwYuMPIwAB7KStmbGCsGMg3NjDAXsKKGR0YKwayjQ4MsDd9xYwPjBUDucYHBtibvGIiAmPFQKaIwAB7U1dMTGCsGMgTExhgb+KKiQqMFQNZogID7E1bMXGBsWIgR1xggL1JKyYyMFYMZIgMDLA3ZcXEBsaKgfliAwPsTVgx0YGxYmC26MAAe6dXTHxgrBiYKz4wwN7JFXNFYKwYmOmKwAB7p//FAAAAAAAAAAAAAAAAAAAAAAAAAAAAAAAAAAAAAAAAAAAAAAAAAAAAAAAAAAAAAAAAAAAAAABc7xeH7KTyjFElFAAAAABJRU5ErkJggg=="
        }
       ],
       "layout": "IPY_MODEL_1c56b96b63e94ff280cc8c24ff5c22ec",
       "state": {
        "57": [
         0,
         1
        ],
        "58": [
         1,
         1
        ],
        "59": [
         0,
         1
        ],
        "60": [
         1,
         1
        ]
       },
       "style": "IPY_MODEL_c07eaf8376de4d2999dbeb0b538f5758",
       "tooltip": "",
       "tree": {
        "children": [
         {
          "color": "rgb(232, 176, 36)",
          "id": 57,
          "name": "TOP",
          "type": "leaf"
         },
         {
          "color": "rgb(232, 176, 36)",
          "id": 58,
          "name": "TOP@faces@&gt;(1,0,1)",
          "type": "leaf"
         },
         {
          "color": "rgb(232, 176, 36)",
          "id": 59,
          "name": "THIRD",
          "type": "leaf"
         },
         {
          "color": "rgb(232, 176, 36)",
          "id": 60,
          "name": "THIRD@faces@&gt;Z",
          "type": "leaf"
         }
        ],
        "id": 61,
        "name": "Assembly",
        "type": "node"
       }
      }
     },
     "760157a4454349fdafaa6caf11af3467": {
      "model_module": "@jupyter-widgets/controls",
      "model_module_version": "1.5.0",
      "model_name": "CheckboxModel",
      "state": {
       "_dom_classes": [
        "view_black_edges"
       ],
       "description": "Black Edges",
       "disabled": false,
       "indent": false,
       "layout": "IPY_MODEL_2b36e7dc14b04f68b70c608519b3ec46",
       "style": "IPY_MODEL_d769176de99744bf843c6ca7caa98dfd",
       "value": false
      }
     },
     "7616ffbb94b74e1f8e5e7f5ddbe7a53d": {
      "model_module": "jupyter-threejs",
      "model_module_version": "^2.1.0",
      "model_name": "PlaneModel",
      "state": {
       "_view_module": null,
       "_view_module_version": "",
       "constant": 6,
       "normal": [
        0,
        1,
        0
       ]
      }
     },
     "762615d34836439d8c3ce885827fe015": {
      "model_module": "jupyter-threejs",
      "model_module_version": "^2.1.0",
      "model_name": "OrbitControlsModel",
      "state": {
       "_view_module": null,
       "_view_module_version": "",
       "controlling": "IPY_MODEL_12f9d3896ab042b0b88cfbe715e02625",
       "maxAzimuthAngle": "inf",
       "maxDistance": "inf",
       "maxZoom": "inf",
       "minAzimuthAngle": "-inf",
       "target": [
        0.5500000549999999,
        0.5500000549999999,
        0
       ]
      }
     },
     "7632be1e29a146028ea278ce0bfc491a": {
      "model_module": "@jupyter-widgets/controls",
      "model_module_version": "1.5.0",
      "model_name": "FloatSliderModel",
      "state": {
       "continuous_update": false,
       "layout": "IPY_MODEL_e634044c02c040968972b2dadbc8d583",
       "max": 1.320000132,
       "min": -1.4300001430000002,
       "step": 0.01,
       "style": "IPY_MODEL_de3fef9e5cc1481b8a0d9370d69a4a66",
       "value": 1.320000132
      }
     },
     "766c32d9eac54ab38406b04691bea822": {
      "buffers": [
       {
        "data": "8wQ1PwAAAADzBDU/8wQ1PwAAAADzBDU/8wQ1PwAAAADzBDU/8wQ1PwAAAADzBDU/",
        "encoding": "base64",
        "path": [
         "array",
         "buffer"
        ]
       }
      ],
      "model_module": "jupyter-threejs",
      "model_module_version": "^2.1.0",
      "model_name": "BufferAttributeModel",
      "state": {
       "_view_module": null,
       "_view_module_version": "",
       "array": {
        "dtype": "float32",
        "shape": [
         4,
         3
        ]
       },
       "normalized": true,
       "version": 2
      }
     },
     "76d7137d5e8f4131bdc4dc7dc83c1d93": {
      "model_module": "jupyter-threejs",
      "model_module_version": "^2.1.0",
      "model_name": "ShaderMaterialModel",
      "state": {
       "_view_module": null,
       "_view_module_version": "",
       "clipping": true,
       "fragmentShader": "\n        uniform float alpha;\n        #define PHYSICAL\nuniform vec3 diffuse;\nuniform vec3 emissive;\nuniform float roughness;\nuniform float metalness;\nuniform float opacity;\n#ifndef STANDARD\n\tuniform float clearCoat;\n\tuniform float clearCoatRoughness;\n#endif\nvarying vec3 vViewPosition;\n#ifndef FLAT_SHADED\n\tvarying vec3 vNormal;\n#endif\n#include <common>\n#include <packing>\n#include <dithering_pars_fragment>\n#include <color_pars_fragment>\n#include <uv_pars_fragment>\n#include <uv2_pars_fragment>\n#include <map_pars_fragment>\n#include <alphamap_pars_fragment>\n#include <aomap_pars_fragment>\n#include <lightmap_pars_fragment>\n#include <emissivemap_pars_fragment>\n#include <bsdfs>\n#include <cube_uv_reflection_fragment>\n#include <envmap_pars_fragment>\n#include <envmap_physical_pars_fragment>\n#include <fog_pars_fragment>\n#include <lights_pars_begin>\n#include <lights_physical_pars_fragment>\n#include <shadowmap_pars_fragment>\n#include <bumpmap_pars_fragment>\n#include <normalmap_pars_fragment>\n#include <roughnessmap_pars_fragment>\n#include <metalnessmap_pars_fragment>\n#include <logdepthbuf_pars_fragment>\n#include <clipping_planes_pars_fragment>\nvoid main() {\n\t#include <clipping_planes_fragment>\n\tvec4 diffuseColor = vec4( diffuse, opacity );\n\tReflectedLight reflectedLight = ReflectedLight( vec3( 0.0 ), vec3( 0.0 ), vec3( 0.0 ), vec3( 0.0 ) );\n\tvec3 totalEmissiveRadiance = emissive;\n\t#include <logdepthbuf_fragment>\n\t#include <map_fragment>\n\t#include <color_fragment>\n\t#include <alphamap_fragment>\n\t#include <alphatest_fragment>\n\t#include <roughnessmap_fragment>\n\t#include <metalnessmap_fragment>\n\t#include <normal_fragment_begin>\n\t#include <normal_fragment_maps>\n\t#include <emissivemap_fragment>\n\t#include <lights_physical_fragment>\n\t#include <lights_fragment_begin>\n\t#include <lights_fragment_maps>\n\t#include <lights_fragment_end>\n\t#include <aomap_fragment>\n\tvec3 outgoingLight = reflectedLight.directDiffuse + reflectedLight.indirectDiffuse + reflectedLight.directSpecular + reflectedLight.indirectSpecular + totalEmissiveRadiance;\n\t\n            if ( gl_FrontFacing ) {\n                gl_FragColor = vec4( outgoingLight, alpha * diffuseColor.a );\n            } else {\n                gl_FragColor = vec4( diffuseColor.r, diffuseColor.g, diffuseColor.b, alpha * diffuseColor.a );\n            }\n\t#include <tonemapping_fragment>\n\t#include <encodings_fragment>\n\t#include <fog_fragment>\n\t#include <premultiplied_alpha_fragment>\n\t#include <dithering_fragment>\n}\n",
       "lights": true,
       "polygonOffset": true,
       "polygonOffsetFactor": 1,
       "polygonOffsetUnits": 1,
       "side": "DoubleSide",
       "uniforms": {
        "alpha": {
         "value": 0.7
        },
        "alphaMap": {
         "value": null
        },
        "ambientLightColor": {
         "value": [
          1,
          1,
          1
         ]
        },
        "aoMap": {
         "value": null
        },
        "aoMapIntensity": {
         "value": 1
        },
        "bumpMap": {
         "value": null
        },
        "bumpScale": {
         "value": 1
        },
        "diffuse": {
         "type": "c",
         "value": "#0000ff"
        },
        "directionalLights": {
         "value": [
          {
           "color": 1973790,
           "direction": {
            "x": -2.989348615883112e-17,
            "y": 2.4777145706089543e-16,
            "z": -1
           },
           "shadow": false,
           "shadowBias": 0,
           "shadowMapSize": {
            "x": 0,
            "y": 0
           },
           "shadowRadius": 1
          },
          {
           "color": 1973790,
           "direction": {
            "x": -9.399224237161659e-17,
            "y": 0.9428090415820635,
            "z": -0.3333333333333332
           },
           "shadow": false,
           "shadowBias": 0,
           "shadowMapSize": {
            "x": 0,
            "y": 0
           },
           "shadowRadius": 1
          },
          {
           "color": 1973790,
           "direction": {
            "x": 0.8164965809277259,
            "y": -0.4714045207910316,
            "z": -0.3333333333333333
           },
           "shadow": false,
           "shadowBias": 0,
           "shadowMapSize": {
            "x": 0,
            "y": 0
           },
           "shadowRadius": 1
          },
          {
           "color": 1973790,
           "direction": {
            "x": 0.8164965809277259,
            "y": 0.4714045207910316,
            "z": 0.3333333333333333
           },
           "shadow": false,
           "shadowBias": 0,
           "shadowMapSize": {
            "x": 0,
            "y": 0
           },
           "shadowRadius": 1
          },
          {
           "color": 1973790,
           "direction": {
            "x": -0.8164965809277259,
            "y": -0.4714045207910316,
            "z": -0.3333333333333333
           },
           "shadow": false,
           "shadowBias": 0,
           "shadowMapSize": {
            "x": 0,
            "y": 0
           },
           "shadowRadius": 1
          },
          {
           "color": 1973790,
           "direction": {
            "x": -0.8164965809277259,
            "y": 0.4714045207910316,
            "z": 0.3333333333333333
           },
           "shadow": false,
           "shadowBias": 0,
           "shadowMapSize": {
            "x": 0,
            "y": 0
           },
           "shadowRadius": 1
          },
          {
           "color": 1973790,
           "direction": {
            "x": 9.399224237161659e-17,
            "y": -0.9428090415820635,
            "z": 0.3333333333333332
           },
           "shadow": false,
           "shadowBias": 0,
           "shadowMapSize": {
            "x": 0,
            "y": 0
           },
           "shadowRadius": 1
          },
          {
           "color": 1973790,
           "direction": {
            "x": 2.989348615883112e-17,
            "y": -2.4777145706089543e-16,
            "z": 1
           },
           "shadow": false,
           "shadowBias": 0,
           "shadowMapSize": {
            "x": 0,
            "y": 0
           },
           "shadowRadius": 1
          }
         ]
        },
        "directionalShadowMap": {
         "value": [
          null,
          null,
          null,
          null,
          null,
          null,
          null,
          null
         ]
        },
        "directionalShadowMatrix": {
         "value": [
          {
           "elements": [
            1,
            0,
            0,
            0,
            0,
            1,
            0,
            0,
            0,
            0,
            1,
            0,
            0,
            0,
            0,
            1
           ]
          },
          {
           "elements": [
            1,
            0,
            0,
            0,
            0,
            1,
            0,
            0,
            0,
            0,
            1,
            0,
            0,
            0,
            0,
            1
           ]
          },
          {
           "elements": [
            1,
            0,
            0,
            0,
            0,
            1,
            0,
            0,
            0,
            0,
            1,
            0,
            0,
            0,
            0,
            1
           ]
          },
          {
           "elements": [
            1,
            0,
            0,
            0,
            0,
            1,
            0,
            0,
            0,
            0,
            1,
            0,
            0,
            0,
            0,
            1
           ]
          },
          {
           "elements": [
            1,
            0,
            0,
            0,
            0,
            1,
            0,
            0,
            0,
            0,
            1,
            0,
            0,
            0,
            0,
            1
           ]
          },
          {
           "elements": [
            1,
            0,
            0,
            0,
            0,
            1,
            0,
            0,
            0,
            0,
            1,
            0,
            0,
            0,
            0,
            1
           ]
          },
          {
           "elements": [
            1,
            0,
            0,
            0,
            0,
            1,
            0,
            0,
            0,
            0,
            1,
            0,
            0,
            0,
            0,
            1
           ]
          },
          {
           "elements": [
            1,
            0,
            0,
            0,
            0,
            1,
            0,
            0,
            0,
            0,
            1,
            0,
            0,
            0,
            0,
            1
           ]
          }
         ]
        },
        "displacementBias": {
         "value": 0
        },
        "displacementMap": {
         "value": null
        },
        "displacementScale": {
         "value": 1
        },
        "emissive": {
         "type": "c",
         "value": "#000000"
        },
        "emissiveMap": {
         "value": null
        },
        "envMap": {
         "value": null
        },
        "envMapIntensity": {
         "value": 1
        },
        "flipEnvMap": {
         "value": -1
        },
        "fogColor": {
         "type": "c",
         "value": "#ffffff"
        },
        "fogDensity": {
         "value": 0.00025
        },
        "fogFar": {
         "value": 2000
        },
        "fogNear": {
         "value": 1
        },
        "hemisphereLights": {
         "value": []
        },
        "lightMap": {
         "value": null
        },
        "lightMapIntensity": {
         "value": 1
        },
        "map": {
         "value": null
        },
        "maxMipLevel": {
         "value": 0
        },
        "metalness": {
         "value": 0.3
        },
        "metalnessMap": {
         "value": null
        },
        "normalMap": {
         "value": null
        },
        "normalScale": {
         "type": "v2",
         "value": [
          1,
          1
         ]
        },
        "opacity": {
         "value": 1
        },
        "pointLights": {
         "value": []
        },
        "pointShadowMap": {
         "value": []
        },
        "pointShadowMatrix": {
         "value": []
        },
        "rectAreaLights": {
         "value": []
        },
        "reflectivity": {
         "value": 1
        },
        "refractionRatio": {
         "value": 0.98
        },
        "roughness": {
         "value": 0.8
        },
        "roughnessMap": {
         "value": null
        },
        "spotLights": {
         "value": []
        },
        "spotShadowMap": {
         "value": []
        },
        "spotShadowMatrix": {
         "value": []
        },
        "uvTransform": {
         "type": "m3",
         "value": [
          1,
          0,
          0,
          0,
          1,
          0,
          0,
          0,
          1
         ]
        }
       },
       "vertexShader": "#define PHYSICAL\nvarying vec3 vViewPosition;\n#ifndef FLAT_SHADED\n\tvarying vec3 vNormal;\n#endif\n#include <common>\n#include <uv_pars_vertex>\n#include <uv2_pars_vertex>\n#include <displacementmap_pars_vertex>\n#include <color_pars_vertex>\n#include <fog_pars_vertex>\n#include <morphtarget_pars_vertex>\n#include <skinning_pars_vertex>\n#include <shadowmap_pars_vertex>\n#include <logdepthbuf_pars_vertex>\n#include <clipping_planes_pars_vertex>\nvoid main() {\n\t#include <uv_vertex>\n\t#include <uv2_vertex>\n\t#include <color_vertex>\n\t#include <beginnormal_vertex>\n\t#include <morphnormal_vertex>\n\t#include <skinbase_vertex>\n\t#include <skinnormal_vertex>\n\t#include <defaultnormal_vertex>\n#ifndef FLAT_SHADED\n\tvNormal = normalize( transformedNormal );\n#endif\n\t#include <begin_vertex>\n\t#include <morphtarget_vertex>\n\t#include <skinning_vertex>\n\t#include <displacementmap_vertex>\n\t#include <project_vertex>\n\t#include <logdepthbuf_vertex>\n\t#include <clipping_planes_vertex>\n\tvViewPosition = - mvPosition.xyz;\n\t#include <worldpos_vertex>\n\t#include <shadowmap_vertex>\n\t#include <fog_vertex>\n}\n"
      }
     },
     "76f3e7e509a842638fec519a11d667dd": {
      "model_module": "@jupyter-widgets/controls",
      "model_module_version": "1.5.0",
      "model_name": "VBoxModel",
      "state": {
       "children": [
        "IPY_MODEL_d91ac8f089eb4c6fb7389014eae785f0",
        "IPY_MODEL_668c401cd1074a1d8090bcfbe08fe645"
       ],
       "layout": "IPY_MODEL_f11de5f8495c417781729228e1282fff"
      }
     },
     "7703d6d247164e4ca5cf2b1819da0b54": {
      "model_module": "@jupyter-widgets/controls",
      "model_module_version": "1.5.0",
      "model_name": "SliderStyleModel",
      "state": {
       "description_width": ""
      }
     },
     "7724cddfaf6d41b2b787890cc230416d": {
      "model_module": "jupyter-threejs",
      "model_module_version": "^2.1.0",
      "model_name": "MeshModel",
      "state": {
       "_view_module": null,
       "_view_module_version": "",
       "geometry": "IPY_MODEL_db94dd6b779848fb90ebda4a98a88429",
       "material": "IPY_MODEL_3ba718cced4b43a8980e7d0a5723f499",
       "morphTargetInfluences": [],
       "name": "mesh_2",
       "visible": false
      }
     },
     "7726dc9166784ba6a998c049ddcb554f": {
      "model_module": "@jupyter-widgets/base",
      "model_module_version": "1.2.0",
      "model_name": "LayoutModel",
      "state": {
       "border": "solid 1px #ddd",
       "height": "216px",
       "overflow": "scroll",
       "width": "250px"
      }
     },
     "775d117e374f403fac138ceaf83c6214": {
      "model_module": "@jupyter-widgets/controls",
      "model_module_version": "1.5.0",
      "model_name": "HBoxModel",
      "state": {
       "children": [
        "IPY_MODEL_a8b4f3a51da64e04976c5a47356effc2",
        "IPY_MODEL_ef850b5193884815ac6669ec43a3111e"
       ],
       "layout": "IPY_MODEL_5a151e2ee50d4805ac6902ee7618bf1e"
      }
     },
     "775d60c2-4b91-48e1-8996-6477a44cdb96": {
      "model_module": "jupyter-threejs",
      "model_module_version": "^2.1.0",
      "model_name": "DirectionalLightShadowModel",
      "state": {
       "camera": "IPY_MODEL_59f795c3-e43b-4b0f-8ec1-fa0b575f1a80"
      }
     },
     "776a33e4adee482796264998b445a22e": {
      "model_module": "jupyter-threejs",
      "model_module_version": "^2.1.0",
      "model_name": "LineSegments2Model",
      "state": {
       "_view_module": null,
       "_view_module_version": "",
       "geometry": "IPY_MODEL_726a8bc5055849328ea25a288dcce04f",
       "material": "IPY_MODEL_904119a9b8e04097af875a11999b386c",
       "matrix": [
        1,
        0,
        0,
        0,
        0,
        1,
        0,
        0,
        0,
        0,
        1,
        0,
        0.5500000549999999,
        0.5500000549999999,
        0,
        1
       ],
       "morphTargetInfluences": [],
       "position": [
        0.5500000549999999,
        0.5500000549999999,
        0
       ],
       "visible": false
      }
     },
     "7781ca46459a4dcbacaa8466afc744cf": {
      "model_module": "@jupyter-widgets/controls",
      "model_module_version": "1.5.0",
      "model_name": "ButtonStyleModel",
      "state": {}
     },
     "778b808a89314cb4912c9a59acfb773c": {
      "model_module": "@jupyter-widgets/base",
      "model_module_version": "1.2.0",
      "model_name": "LayoutModel",
      "state": {}
     },
     "778c1ed0-cce2-4585-9d74-93b6a6b02af9": {
      "model_module": "jupyter-threejs",
      "model_module_version": "^2.1.0",
      "model_name": "OrthographicCameraModel",
      "state": {
       "bottom": -5,
       "far": 500,
       "left": -5,
       "near": 0.5,
       "projectionMatrix": [
        0.2,
        0,
        0,
        0,
        0,
        0.2,
        0,
        0,
        0,
        0,
        -0.004004004004004004,
        0,
        0,
        0,
        -1.002002002002002,
        1
       ],
       "right": 5,
       "top": 5
      }
     },
     "78095921696941ee8aaf85d586eb06d8": {
      "model_module": "jupyter-threejs",
      "model_module_version": "^2.1.0",
      "model_name": "MeshModel",
      "state": {
       "_view_module": null,
       "_view_module_version": "",
       "geometry": "IPY_MODEL_4e8ca1b491ae48f090d2a1dae3a25a66",
       "material": "IPY_MODEL_fe94892edf9e4152b07e07b8a03da436",
       "morphTargetInfluences": [],
       "name": "mesh_2",
       "visible": false
      }
     },
     "78b011ac443447db8b55059f130724e7": {
      "model_module": "jupyter-threejs",
      "model_module_version": "^2.1.0",
      "model_name": "ShaderMaterialModel",
      "state": {
       "_view_module": null,
       "_view_module_version": "",
       "clipping": true,
       "fragmentShader": "\n        uniform float alpha;\n        #define PHYSICAL\nuniform vec3 diffuse;\nuniform vec3 emissive;\nuniform float roughness;\nuniform float metalness;\nuniform float opacity;\n#ifndef STANDARD\n\tuniform float clearCoat;\n\tuniform float clearCoatRoughness;\n#endif\nvarying vec3 vViewPosition;\n#ifndef FLAT_SHADED\n\tvarying vec3 vNormal;\n#endif\n#include <common>\n#include <packing>\n#include <dithering_pars_fragment>\n#include <color_pars_fragment>\n#include <uv_pars_fragment>\n#include <uv2_pars_fragment>\n#include <map_pars_fragment>\n#include <alphamap_pars_fragment>\n#include <aomap_pars_fragment>\n#include <lightmap_pars_fragment>\n#include <emissivemap_pars_fragment>\n#include <bsdfs>\n#include <cube_uv_reflection_fragment>\n#include <envmap_pars_fragment>\n#include <envmap_physical_pars_fragment>\n#include <fog_pars_fragment>\n#include <lights_pars_begin>\n#include <lights_physical_pars_fragment>\n#include <shadowmap_pars_fragment>\n#include <bumpmap_pars_fragment>\n#include <normalmap_pars_fragment>\n#include <roughnessmap_pars_fragment>\n#include <metalnessmap_pars_fragment>\n#include <logdepthbuf_pars_fragment>\n#include <clipping_planes_pars_fragment>\nvoid main() {\n\t#include <clipping_planes_fragment>\n\tvec4 diffuseColor = vec4( diffuse, opacity );\n\tReflectedLight reflectedLight = ReflectedLight( vec3( 0.0 ), vec3( 0.0 ), vec3( 0.0 ), vec3( 0.0 ) );\n\tvec3 totalEmissiveRadiance = emissive;\n\t#include <logdepthbuf_fragment>\n\t#include <map_fragment>\n\t#include <color_fragment>\n\t#include <alphamap_fragment>\n\t#include <alphatest_fragment>\n\t#include <roughnessmap_fragment>\n\t#include <metalnessmap_fragment>\n\t#include <normal_fragment_begin>\n\t#include <normal_fragment_maps>\n\t#include <emissivemap_fragment>\n\t#include <lights_physical_fragment>\n\t#include <lights_fragment_begin>\n\t#include <lights_fragment_maps>\n\t#include <lights_fragment_end>\n\t#include <aomap_fragment>\n\tvec3 outgoingLight = reflectedLight.directDiffuse + reflectedLight.indirectDiffuse + reflectedLight.directSpecular + reflectedLight.indirectSpecular + totalEmissiveRadiance;\n\t\n            if ( gl_FrontFacing ) {\n                gl_FragColor = vec4( outgoingLight, alpha * diffuseColor.a );\n            } else {\n                gl_FragColor = vec4( diffuseColor.r, diffuseColor.g, diffuseColor.b, alpha * diffuseColor.a );\n            }\n\t#include <tonemapping_fragment>\n\t#include <encodings_fragment>\n\t#include <fog_fragment>\n\t#include <premultiplied_alpha_fragment>\n\t#include <dithering_fragment>\n}\n",
       "lights": true,
       "polygonOffset": true,
       "polygonOffsetFactor": 1,
       "polygonOffsetUnits": 1,
       "side": "DoubleSide",
       "uniforms": {
        "alpha": {
         "value": 0.7
        },
        "alphaMap": {
         "value": null
        },
        "ambientLightColor": {
         "value": [
          1,
          1,
          1
         ]
        },
        "aoMap": {
         "value": null
        },
        "aoMapIntensity": {
         "value": 1
        },
        "bumpMap": {
         "value": null
        },
        "bumpScale": {
         "value": 1
        },
        "diffuse": {
         "type": "c",
         "value": "#0000ff"
        },
        "directionalLights": {
         "value": [
          {
           "color": 1973790,
           "direction": {
            "x": -2.989348615883112e-17,
            "y": 2.4777145706089543e-16,
            "z": -1
           },
           "shadow": false,
           "shadowBias": 0,
           "shadowMapSize": {
            "x": 0,
            "y": 0
           },
           "shadowRadius": 1
          },
          {
           "color": 1973790,
           "direction": {
            "x": -9.399224237161659e-17,
            "y": 0.9428090415820635,
            "z": -0.3333333333333332
           },
           "shadow": false,
           "shadowBias": 0,
           "shadowMapSize": {
            "x": 0,
            "y": 0
           },
           "shadowRadius": 1
          },
          {
           "color": 1973790,
           "direction": {
            "x": 0.8164965809277259,
            "y": -0.4714045207910316,
            "z": -0.3333333333333333
           },
           "shadow": false,
           "shadowBias": 0,
           "shadowMapSize": {
            "x": 0,
            "y": 0
           },
           "shadowRadius": 1
          },
          {
           "color": 1973790,
           "direction": {
            "x": 0.8164965809277259,
            "y": 0.4714045207910316,
            "z": 0.3333333333333333
           },
           "shadow": false,
           "shadowBias": 0,
           "shadowMapSize": {
            "x": 0,
            "y": 0
           },
           "shadowRadius": 1
          },
          {
           "color": 1973790,
           "direction": {
            "x": -0.8164965809277259,
            "y": -0.4714045207910316,
            "z": -0.3333333333333333
           },
           "shadow": false,
           "shadowBias": 0,
           "shadowMapSize": {
            "x": 0,
            "y": 0
           },
           "shadowRadius": 1
          },
          {
           "color": 1973790,
           "direction": {
            "x": -0.8164965809277259,
            "y": 0.4714045207910316,
            "z": 0.3333333333333333
           },
           "shadow": false,
           "shadowBias": 0,
           "shadowMapSize": {
            "x": 0,
            "y": 0
           },
           "shadowRadius": 1
          },
          {
           "color": 1973790,
           "direction": {
            "x": 9.399224237161659e-17,
            "y": -0.9428090415820635,
            "z": 0.3333333333333332
           },
           "shadow": false,
           "shadowBias": 0,
           "shadowMapSize": {
            "x": 0,
            "y": 0
           },
           "shadowRadius": 1
          },
          {
           "color": 1973790,
           "direction": {
            "x": 2.989348615883112e-17,
            "y": -2.4777145706089543e-16,
            "z": 1
           },
           "shadow": false,
           "shadowBias": 0,
           "shadowMapSize": {
            "x": 0,
            "y": 0
           },
           "shadowRadius": 1
          }
         ]
        },
        "directionalShadowMap": {
         "value": [
          null,
          null,
          null,
          null,
          null,
          null,
          null,
          null
         ]
        },
        "directionalShadowMatrix": {
         "value": [
          {
           "elements": [
            1,
            0,
            0,
            0,
            0,
            1,
            0,
            0,
            0,
            0,
            1,
            0,
            0,
            0,
            0,
            1
           ]
          },
          {
           "elements": [
            1,
            0,
            0,
            0,
            0,
            1,
            0,
            0,
            0,
            0,
            1,
            0,
            0,
            0,
            0,
            1
           ]
          },
          {
           "elements": [
            1,
            0,
            0,
            0,
            0,
            1,
            0,
            0,
            0,
            0,
            1,
            0,
            0,
            0,
            0,
            1
           ]
          },
          {
           "elements": [
            1,
            0,
            0,
            0,
            0,
            1,
            0,
            0,
            0,
            0,
            1,
            0,
            0,
            0,
            0,
            1
           ]
          },
          {
           "elements": [
            1,
            0,
            0,
            0,
            0,
            1,
            0,
            0,
            0,
            0,
            1,
            0,
            0,
            0,
            0,
            1
           ]
          },
          {
           "elements": [
            1,
            0,
            0,
            0,
            0,
            1,
            0,
            0,
            0,
            0,
            1,
            0,
            0,
            0,
            0,
            1
           ]
          },
          {
           "elements": [
            1,
            0,
            0,
            0,
            0,
            1,
            0,
            0,
            0,
            0,
            1,
            0,
            0,
            0,
            0,
            1
           ]
          },
          {
           "elements": [
            1,
            0,
            0,
            0,
            0,
            1,
            0,
            0,
            0,
            0,
            1,
            0,
            0,
            0,
            0,
            1
           ]
          }
         ]
        },
        "displacementBias": {
         "value": 0
        },
        "displacementMap": {
         "value": null
        },
        "displacementScale": {
         "value": 1
        },
        "emissive": {
         "type": "c",
         "value": "#000000"
        },
        "emissiveMap": {
         "value": null
        },
        "envMap": {
         "value": null
        },
        "envMapIntensity": {
         "value": 1
        },
        "flipEnvMap": {
         "value": -1
        },
        "fogColor": {
         "type": "c",
         "value": "#ffffff"
        },
        "fogDensity": {
         "value": 0.00025
        },
        "fogFar": {
         "value": 2000
        },
        "fogNear": {
         "value": 1
        },
        "hemisphereLights": {
         "value": []
        },
        "lightMap": {
         "value": null
        },
        "lightMapIntensity": {
         "value": 1
        },
        "map": {
         "value": null
        },
        "maxMipLevel": {
         "value": 0
        },
        "metalness": {
         "value": 0.3
        },
        "metalnessMap": {
         "value": null
        },
        "normalMap": {
         "value": null
        },
        "normalScale": {
         "type": "v2",
         "value": [
          1,
          1
         ]
        },
        "opacity": {
         "value": 1
        },
        "pointLights": {
         "value": []
        },
        "pointShadowMap": {
         "value": []
        },
        "pointShadowMatrix": {
         "value": []
        },
        "rectAreaLights": {
         "value": []
        },
        "reflectivity": {
         "value": 1
        },
        "refractionRatio": {
         "value": 0.98
        },
        "roughness": {
         "value": 0.8
        },
        "roughnessMap": {
         "value": null
        },
        "spotLights": {
         "value": []
        },
        "spotShadowMap": {
         "value": []
        },
        "spotShadowMatrix": {
         "value": []
        },
        "uvTransform": {
         "type": "m3",
         "value": [
          1,
          0,
          0,
          0,
          1,
          0,
          0,
          0,
          1
         ]
        }
       },
       "vertexShader": "#define PHYSICAL\nvarying vec3 vViewPosition;\n#ifndef FLAT_SHADED\n\tvarying vec3 vNormal;\n#endif\n#include <common>\n#include <uv_pars_vertex>\n#include <uv2_pars_vertex>\n#include <displacementmap_pars_vertex>\n#include <color_pars_vertex>\n#include <fog_pars_vertex>\n#include <morphtarget_pars_vertex>\n#include <skinning_pars_vertex>\n#include <shadowmap_pars_vertex>\n#include <logdepthbuf_pars_vertex>\n#include <clipping_planes_pars_vertex>\nvoid main() {\n\t#include <uv_vertex>\n\t#include <uv2_vertex>\n\t#include <color_vertex>\n\t#include <beginnormal_vertex>\n\t#include <morphnormal_vertex>\n\t#include <skinbase_vertex>\n\t#include <skinnormal_vertex>\n\t#include <defaultnormal_vertex>\n#ifndef FLAT_SHADED\n\tvNormal = normalize( transformedNormal );\n#endif\n\t#include <begin_vertex>\n\t#include <morphtarget_vertex>\n\t#include <skinning_vertex>\n\t#include <displacementmap_vertex>\n\t#include <project_vertex>\n\t#include <logdepthbuf_vertex>\n\t#include <clipping_planes_vertex>\n\tvViewPosition = - mvPosition.xyz;\n\t#include <worldpos_vertex>\n\t#include <shadowmap_vertex>\n\t#include <fog_vertex>\n}\n"
      }
     },
     "78c7cee2221e462e9881c12f20ace07a": {
      "model_module": "jupyter-threejs",
      "model_module_version": "^2.1.0",
      "model_name": "LineSegments2Model",
      "state": {
       "_view_module": null,
       "_view_module_version": "",
       "geometry": "IPY_MODEL_c376c31af6d242978823c52675c03232",
       "material": "IPY_MODEL_215e01790c964423b8d6891958e7c31e",
       "morphTargetInfluences": [],
       "name": "edges_3"
      }
     },
     "78deb4cc-1079-4a8b-8e17-b2ed3d32035a": {
      "model_module": "jupyter-threejs",
      "model_module_version": "^2.1.0",
      "model_name": "Object3DModel",
      "state": {}
     },
     "790b5224e76246da82496d5d24b6475a": {
      "model_module": "@jupyter-widgets/controls",
      "model_module_version": "1.5.0",
      "model_name": "HTMLModel",
      "state": {
       "_dom_classes": [
        "scroll-area",
        "mac-scrollbar"
       ],
       "layout": "IPY_MODEL_e216a009ba774639baf18839681e026f",
       "style": "IPY_MODEL_6cd7cc1dbe244148b2332dbf12a60358",
       "value": "<table style=\"display: block; overflow-x: visible; white-space: nowrap;\"><tr style=\"vertical-align: text-top;\"><td><pre style=\"color: #aaa; white-space: nowrap\">[ 0]</pre></td><td>\n        <b>Rendering done</b>\n        <table>\n            <tr class=\"small_table\" >                      <td>Tick size</td>  <td>0.2 mm</td> </tr>\n            <tr class=\"small_table\" style=\"color: red;\">   <td>X-Axis</td>     <td>Red</td>    </tr>\n            <tr class=\"small_table\" style=\"color: green;\"> <td>Y-Axis</td>     <td>Green</td>  </tr>\n            <tr class=\"small_table\" style=\"color: blue;\">  <td>Z-Axis</td>     <td>Blue</td>   </tr>\n        </table>\n        </td></tr></table>"
      }
     },
     "791d639be5e64d469f0ba9b8ed2d4c4b": {
      "model_module": "jupyter-threejs",
      "model_module_version": "^2.1.0",
      "model_name": "LineMaterialModel",
      "state": {
       "_view_module": null,
       "_view_module_version": "",
       "color": "green",
       "linewidth": 3
      }
     },
     "7969c72a00ce4ecf8db903ab8bce7d7b": {
      "model_module": "@jupyter-widgets/controls",
      "model_module_version": "1.5.0",
      "model_name": "TabModel",
      "state": {
       "_dom_classes": [
        "tab-content-no-padding"
       ],
       "_titles": {
        "0": "Tree",
        "1": "Clipping"
       },
       "children": [
        "IPY_MODEL_703227172aaa472d903adbc2c5a057fc",
        "IPY_MODEL_ebb19407290348b19ca44e3306549164"
       ],
       "layout": "IPY_MODEL_d474a17fc48a4c0aa79595a05038a0ef"
      }
     },
     "79d13bafada0441786c65b7c51260a8c": {
      "model_module": "jupyter-threejs",
      "model_module_version": "^2.1.0",
      "model_name": "PickerModel",
      "state": {
       "_view_module": null,
       "_view_module_version": "",
       "controlling": "IPY_MODEL_d397212d38cc4e8b8d8b2124e77ce3ed",
       "event": "dblclick"
      }
     },
     "7a215d05e6b44e23a2b91d57bc85c0b9": {
      "model_module": "jupyter-threejs",
      "model_module_version": "^2.1.0",
      "model_name": "PlaneModel",
      "state": {
       "_view_module": null,
       "_view_module_version": "",
       "constant": 2.2,
       "normal": [
        0,
        0,
        1
       ]
      }
     },
     "7a840e0653954e46b909e416c5958392": {
      "model_module": "@jupyter-widgets/base",
      "model_module_version": "1.2.0",
      "model_name": "LayoutModel",
      "state": {}
     },
     "7ae954c884204d7e8738900900f7d0de": {
      "model_module": "@jupyter-widgets/base",
      "model_module_version": "1.2.0",
      "model_name": "LayoutModel",
      "state": {
       "margin": "0px 10px 0px 0px"
      }
     },
     "7afafa9c-ae83-4e6c-a848-22e4fc2f6266": {
      "model_module": "jupyter-threejs",
      "model_module_version": "^2.1.0",
      "model_name": "DirectionalLightShadowModel",
      "state": {
       "camera": "IPY_MODEL_1f633293-58fa-43ae-8df9-266ad06f573a"
      }
     },
     "7b209a54a7be4250bb19f64148817907": {
      "model_module": "jupyter-threejs",
      "model_module_version": "^2.1.0",
      "model_name": "MeshModel",
      "state": {
       "_view_module": null,
       "_view_module_version": "",
       "geometry": "IPY_MODEL_b346aa24fab2470a8738e539081e2ec9",
       "material": "IPY_MODEL_2a958251de5f49ffa2d95e79f090fc8d",
       "morphTargetInfluences": [],
       "name": "mesh_1"
      }
     },
     "7b3eedfc6b794456bf836684038c3b7f": {
      "model_module": "jupyter-threejs",
      "model_module_version": "^2.1.0",
      "model_name": "MeshModel",
      "state": {
       "_view_module": null,
       "_view_module_version": "",
       "geometry": "IPY_MODEL_cebd7390e96643feb329cef2d0fa0254",
       "material": "IPY_MODEL_9b092ad1daf04dee8ef53e02e8b088ef",
       "morphTargetInfluences": [],
       "name": "mesh_3"
      }
     },
     "7ba2b86669fe44598620bd5926a521a3": {
      "model_module": "@jupyter-widgets/controls",
      "model_module_version": "1.5.0",
      "model_name": "FloatSliderModel",
      "state": {
       "continuous_update": false,
       "layout": "IPY_MODEL_1481c9c49f6f4de38d45e6ab249532d9",
       "max": 2.520000132,
       "min": -2.730000143,
       "step": 0.01,
       "style": "IPY_MODEL_20bf4289a9e747e09d034d5b80470d4d",
       "value": 2.520000132
      }
     },
     "7bdbb18d8ae247dbb83c479eb1e03ed0": {
      "model_module": "@jupyter-widgets/base",
      "model_module_version": "1.2.0",
      "model_name": "LayoutModel",
      "state": {}
     },
     "7c1f4376d1b049749b548d74087ee160": {
      "model_module": "jupyter-threejs",
      "model_module_version": "^2.1.0",
      "model_name": "LineMaterialModel",
      "state": {
       "_view_module": null,
       "_view_module_version": "",
       "color": "blue",
       "linewidth": 3
      }
     },
     "7c60311b05c24410bd5eb694aa96e240": {
      "model_module": "@jupyter-widgets/base",
      "model_module_version": "1.2.0",
      "model_name": "LayoutModel",
      "state": {}
     },
     "7c86cf85982c41108a0b2d3901f96401": {
      "model_module": "jupyter_cadquery",
      "model_module_version": "^v1.0.0",
      "model_name": "ImageButtonModel",
      "state": {
       "_dom_classes": [
        "view_button"
       ],
       "_model_module_version": "^v1.0.0",
       "_view_module_version": "^v1.0.0",
       "height": "28",
       "layout": "IPY_MODEL_9ad9a82a759343aa8269ce93d90deff1",
       "style": "IPY_MODEL_4df24c329ba343dda2435dfd7c70ce31",
       "tooltip": "Change view to right",
       "type": "right",
       "value": {},
       "width": "36"
      }
     },
     "7c9a440961664b17820c5b62472ce945": {
      "model_module": "jupyter-threejs",
      "model_module_version": "^2.1.0",
      "model_name": "DirectionalLightModel",
      "state": {
       "_view_module": null,
       "_view_module_version": "",
       "color": "white",
       "intensity": 0.12,
       "matrixWorldNeedsUpdate": true,
       "position": [
        3.3346667695588637,
        3.3346667695588637,
        -3.3346667695588637
       ],
       "shadow": "IPY_MODEL_43d53931-8a9a-44a2-a263-3738328bef98",
       "target": "IPY_MODEL_b48c9b22-b5fc-45c7-a6fe-1ba926f4c8a2"
      }
     },
     "7ca592d6087b4eb0932035476cb8b0bd": {
      "model_module": "jupyter-threejs",
      "model_module_version": "^2.1.0",
      "model_name": "RendererModel",
      "state": {
       "_antialias": true,
       "_dom_classes": [
        "view_renderer"
       ],
       "_height": 600,
       "_webgl_version": 2,
       "_width": 800,
       "camera": "IPY_MODEL_d94e6ac7fa2d4f058de2f1e504527c7b",
       "clippingPlanes": [
        "IPY_MODEL_5cc5490b98324d37ae7187937239551d",
        "IPY_MODEL_32aff3a8d2ed4592b3742715e4448913",
        "IPY_MODEL_0f723ba3e5d94549aadcdeafa2d40946"
       ],
       "controls": [
        "IPY_MODEL_a6b3f34e8f0f401d86480709850d6aed",
        "IPY_MODEL_c991e194859541ee846decc8660786b6"
       ],
       "layout": "IPY_MODEL_37fce5536dd34f2d9d5e4ebaf3ae86ff",
       "localClippingEnabled": true,
       "scene": "IPY_MODEL_53f7fc800ea1462692e025110b174436",
       "shadowMap": "IPY_MODEL_1d075774d4404e138d7a07a3f2502685"
      }
     },
     "7cb113eaaae94575a104c0e27d5a5a3c": {
      "model_module": "jupyter-threejs",
      "model_module_version": "^2.1.0",
      "model_name": "LineSegments2Model",
      "state": {
       "_view_module": null,
       "_view_module_version": "",
       "geometry": "IPY_MODEL_70c38cc9f6024013ae0f4632056367ca",
       "material": "IPY_MODEL_b54555379f984d66a3cdd5a5a4a7abf7",
       "morphTargetInfluences": [],
       "name": "edges_3"
      }
     },
     "7cf0042733e94392b4915a20f199de4c": {
      "model_module": "@jupyter-widgets/controls",
      "model_module_version": "1.5.0",
      "model_name": "SliderStyleModel",
      "state": {
       "description_width": ""
      }
     },
     "7d46c24d7cee4f308562d7609c87136c": {
      "model_module": "jupyter-threejs",
      "model_module_version": "^2.1.0",
      "model_name": "BufferGeometryModel",
      "state": {
       "_view_module": null,
       "_view_module_version": "",
       "attributes": {
        "index": "IPY_MODEL_957b7c62897a45c5be2405cd65e29a79",
        "normal": "IPY_MODEL_0e1065724a08467cbf1f66e2003024c2",
        "position": "IPY_MODEL_b8e60858a68642ccb2de06de382d5644"
       }
      }
     },
     "7dbb2e12a3924fbda5afc204ce0ef0ce": {
      "model_module": "@jupyter-widgets/controls",
      "model_module_version": "1.5.0",
      "model_name": "DescriptionStyleModel",
      "state": {
       "description_width": ""
      }
     },
     "7f25afd43f9d4f849f305860d0a8663e": {
      "model_module": "@jupyter-widgets/controls",
      "model_module_version": "1.5.0",
      "model_name": "CheckboxModel",
      "state": {
       "_dom_classes": [
        "view_zero"
       ],
       "description": "@ 0",
       "disabled": false,
       "indent": false,
       "layout": "IPY_MODEL_f9f72c7397d84581839e406b7dcbaf80",
       "style": "IPY_MODEL_ba7628472c2e4ebba2090a5ca2874397",
       "value": false
      }
     },
     "7f337947a4f04729885196dbab8101ce": {
      "model_module": "@jupyter-widgets/base",
      "model_module_version": "1.2.0",
      "model_name": "LayoutModel",
      "state": {}
     },
     "7f60f345cfe54487a2f28b79ff0a97b6": {
      "model_module": "jupyter-threejs",
      "model_module_version": "^2.1.0",
      "model_name": "LineMaterialModel",
      "state": {
       "_view_module": null,
       "_view_module_version": "",
       "color": "red",
       "linewidth": 3
      }
     },
     "7ffbd006-a476-497c-8e22-092bd1c8ace4": {
      "model_module": "jupyter-threejs",
      "model_module_version": "^2.1.0",
      "model_name": "DirectionalLightShadowModel",
      "state": {
       "camera": "IPY_MODEL_5cfb5876-ba31-4c3d-9ec0-86ae23076c5a"
      }
     },
     "808aa220-8495-479a-9157-21b6e0c4eed4": {
      "model_module": "jupyter-threejs",
      "model_module_version": "^2.1.0",
      "model_name": "Object3DModel",
      "state": {}
     },
     "80aee9b6a9fe49f0b0a174074e14ee81": {
      "model_module": "@jupyter-widgets/controls",
      "model_module_version": "1.5.0",
      "model_name": "LabelModel",
      "state": {
       "layout": "IPY_MODEL_130ef5d8847d492ca4f0fa2f7a2e7a9b",
       "style": "IPY_MODEL_0902c83034334e31b83a044b3fd229d2",
       "value": "N=( 0.00,  1.00,  0.00)"
      }
     },
     "81adee773e674c82986e5af873d209d4": {
      "buffers": [
       {
        "data": "AACAPwAAAAAAAACAAACAPwAAAAAAAACAAACAPwAAAAAAAACAAACAPwAAAAAAAACAAAAAgAAAgL8AAACAAAAAgAAAgL8AAACAAAAAgAAAgL8AAACAAAAAgAAAgL8AAACAAAAAgAAAgL8AAACA8wQ1PwAAAADzBDU/8wQ1PwAAAADzBDU/8wQ1PwAAAADzBDU/8wQ1PwAAAADzBDU/AAAAgAAAAIAAAIC/AAAAgAAAAIAAAIC/AAAAgAAAAIAAAIC/AAAAgAAAAIAAAIC/AAAAAAAAgD8AAAAAAAAAAAAAgD8AAAAAAAAAAAAAgD8AAAAAAAAAAAAAgD8AAAAAAAAAAAAAgD8AAAAAAAAAAAAAAAAAAIA/AAAAAAAAAAAAAIA/AAAAAAAAAAAAAIA/AAAAAAAAAAAAAIA/AACAvwAAAIAAAAAAAACAvwAAAIAAAAAAAACAvwAAAIAAAAAAAACAvwAAAIAAAAAA",
        "encoding": "base64",
        "path": [
         "array",
         "buffer"
        ]
       }
      ],
      "model_module": "jupyter-threejs",
      "model_module_version": "^2.1.0",
      "model_name": "BufferAttributeModel",
      "state": {
       "_view_module": null,
       "_view_module_version": "",
       "array": {
        "dtype": "float32",
        "shape": [
         30,
         3
        ]
       },
       "normalized": true,
       "version": 2
      }
     },
     "8205c326-182c-4f63-a3a9-24f77cb60055": {
      "model_module": "jupyter-threejs",
      "model_module_version": "^2.1.0",
      "model_name": "Object3DModel",
      "state": {}
     },
     "822d0cddeaf147f2b22be2cef85e1ef8": {
      "buffers": [
       {
        "data": "AACAPwAAAAAAAACAAACAPwAAAAAAAACAAACAPwAAAAAAAACAAACAPwAAAAAAAACAAAAAgAAAgL8AAACAAAAAgAAAgL8AAACAAAAAgAAAgL8AAACAAAAAgAAAgL8AAACAAAAAgAAAgL8AAACA8wQ1PwAAAADzBDU/8wQ1PwAAAADzBDU/8wQ1PwAAAADzBDU/8wQ1PwAAAADzBDU/AAAAgAAAAIAAAIC/AAAAgAAAAIAAAIC/AAAAgAAAAIAAAIC/AAAAgAAAAIAAAIC/AAAAAAAAgD8AAAAAAAAAAAAAgD8AAAAAAAAAAAAAgD8AAAAAAAAAAAAAgD8AAAAAAAAAAAAAgD8AAAAAAAAAAAAAAAAAAIA/AAAAAAAAAAAAAIA/AAAAAAAAAAAAAIA/AAAAAAAAAAAAAIA/AACAvwAAAIAAAAAAAACAvwAAAIAAAAAAAACAvwAAAIAAAAAAAACAvwAAAIAAAAAA",
        "encoding": "base64",
        "path": [
         "array",
         "buffer"
        ]
       }
      ],
      "model_module": "jupyter-threejs",
      "model_module_version": "^2.1.0",
      "model_name": "BufferAttributeModel",
      "state": {
       "_view_module": null,
       "_view_module_version": "",
       "array": {
        "dtype": "float32",
        "shape": [
         30,
         3
        ]
       },
       "normalized": true,
       "version": 2
      }
     },
     "82826db08b4243c581c1ac2ca444dd45": {
      "model_module": "jupyter-threejs",
      "model_module_version": "^2.1.0",
      "model_name": "LineSegments2Model",
      "state": {
       "_view_module": null,
       "_view_module_version": "",
       "geometry": "IPY_MODEL_5311daf1debf4372b6f147b4f29a93e2",
       "material": "IPY_MODEL_1bd719133c3b420ea428db0f5b12f920",
       "morphTargetInfluences": [],
       "name": "edges_2"
      }
     },
     "82a5c756821c43f58b4ca606459660fd": {
      "model_module": "jupyter_cadquery",
      "model_module_version": "^v1.0.0",
      "model_name": "ImageButtonModel",
      "state": {
       "_dom_classes": [
        "view_button"
       ],
       "_model_module_version": "^v1.0.0",
       "_view_module_version": "^v1.0.0",
       "height": "28",
       "layout": "IPY_MODEL_4525b5dcf53a4e3a952d4a2910f37cdb",
       "style": "IPY_MODEL_75351c4058544efbbcfcaf87fdab0c8e",
       "tooltip": "Set clipping plane",
       "type": "2",
       "value": {},
       "width": "36"
      }
     },
     "832f696eaa824da29b533ef06416e400": {
      "model_module": "jupyter_cadquery",
      "model_module_version": "^v1.0.0",
      "model_name": "TreeModel",
      "state": {
       "_dom_classes": [
        "view_tree",
        "scroll-area",
        "mac-scrollbar"
       ],
       "_model_module_version": "^v1.0.0",
       "_view_module_version": "^v1.0.0",
       "button_style": "",
       "icon": "",
       "icons": [
        {
         "0": "iVBORw0KGgoAAAANSUhEUgAAARgAAADcCAYAAACrgL6aAAAFCElEQVR4nO3dUXYbNwwFULQnC/PSvbPmo9Vxao9saUQOAfDeDUQE3jxTipVEAAAAAAAAAAAAAAAAAAAAAAAAAAAAAAAAAAAAAAAAAAAAAAAAAAAAAAAAAAAAAAAAAAAAAAAAAAAAAAAAAAAAAADU89fqF8Aab29v/1z9Z76/v8vbZiy8mRXFMZoi6sMiC+pQImcpn1osK7Gdi+RZiicnS0lCmYyndNazgIWUyrUUzvUM/EIKJQ9lcw1Dnkyp1KBw5jDUwRRKfcpmHIMcQKn0pWxeY3gnVS+VFQ9O9ZlFKJxnGdYTKj0gVR8EM+7FgB6QLfQ7B9suajGcO7IEWYB/Zld5GciBVYEV0HFWlo49fjCI/yiVvpTNOlsf/ubKAO4euCzs/BrbHjzimpDtHK4q5GCeLQ8tUNwjG2Ntc9CI+eHZKTg7mJmXXbKyxSEj5oVll6DsTn7OaX24iDnB6B4KvidTj2t5qAg/cZhLyTym3YEixi+/4+IZR97ua3OQm5HL7rRo5pO9r1oc4mbUgrssl+spmf8rf4AIxUJOchnx9+oX8CpLJKtRmcrybfEzSj9UIwavWLjCrlkt94JvXl1YxWVR244lU+rF3ryyqGoLoqddMlzuM5hdFkNvr2Sx0mcypR64s4NVLGTWOddlbjCdl8Dezma0wk2mRMEoF7rrWjLpCyb7AGG1zM/Ir9UvYAY3Fyq65TZzYTwr9Q3mzKCVC9WdyXDWUkr5MPrMBXo8B6lvMM/INFQYoUOm0xWMt0XwofrbpVQFo1zgq8olk6pggF7SFIzbC9xX9RaTpmCepVzYTcXMpyiYZ5u24qBhhGezv/oWk6JggJ7KFYzbC7ur9AwsL5jVVzjobuUztrxggL5KFUylqyHMVOVZKFUw3k7Bv6o8C6UKBqhlecFUuepBVSufseUF86wqV0OYpdIzUK5ggDpSFEy1X3+GVap9rSZFwZyhZNhNxcynKZiqX0eHK1T950zSFAzQT6qCcYuBr6reXiKSFUyEkoE/VS6XiIQFc5aSoZsOmU7TdEeqtzec1SX7qW8w3i6xoy7lEhHxa/ULmOG2oKxDhyMdfzimvsFEKAn4SeZnJH3BRJwfYMefCPTU4T+6P1KiYCKUDH11LZeI5H+LdOSVwqiwEPaxQ5bL3GBuXhms2wxZ7FAuEQVvMDcjyqLSoujh1dxWy2ypF/uZkqGKXbNa7gV/NuptT8Xlkd/u+Sz3Gcxnowbv8xlG271cIhrcYP40siQqL5W1FMuH8gf4TMmwiux91eIQn41+u9Nl2cwhb/e1OciRGZ+rdFo+5836zK5bvlod5oiSYTSZelzLQx3xE4dXyM85rQ93ZOZfR3cPy25m/+rCDnlpf8AjV/zOyw7h6Ug2xtrmoPcIFBFyMMt2Bz5y5W/x7hiyjOz8Gtse/LOVXxXYOYBXWbXf3Xe79eHvUTY9KJX1DOIbWb4AKbA/s6ucDONBWQJ8s3OQ7aIOg3lCtmB/p2rozbgXAzqp0oNwz4oHpPrclMpzDGuQ6g8O9ymV8wxuAmVTn1IZwxAnUzY1KJQ5DPViCicPpTKfAS+kbK6lUK5n4IkonPGUylqGn5zSeZwyycdCitq5eBRJHRbVUIfyUSI9WOLGVhSR4gAAAAAAAAAAAAAAAAAAAAAAAAAAAAAAAAAAAAAAAAAAAAAAAAAAAAAAAAAAAAAAAAAAAAAAAAAAAAAAAAAAAABgkN/fSHSu9KigrAAAAABJRU5ErkJggg==",
         "1": "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",
         "2": "iVBORw0KGgoAAAANSUhEUgAAARgAAADcCAYAAACrgL6aAAAHGElEQVR4nO3dTY7bRhCA0ZogN/Dad9FFDPhoAbzOHXShnMFZJISVCTUjkt3squZ7SwMJ+FP6pqiR7AgAAAAAAAAAAAAAAAAAAAAAAAAAAAAAAAAAAAAAAAAAAAAAAAAAAAAAAAAAAAAAAAAAAAAAAAAAAAAAAAAAAAAAgHreRh8AY9xut597/9v7/W5ueMnvow+Ato6EY4S14xWweQhMQdUistVH5yc+tQhMYrOHZI9n10R4chKYJMTkGI9aOQnMQKLS1/vrKzjnE5gTCcpYj9dfbM4hMJ2JSk62m3MITGOCUpPtpg+BaUBU5iI27QjMTleJypfvP/7/h/ev5x/IIB6ljnGxNpg9KqsxWfHn96/d5qbSNRabz7lAL6g09Fu8GpT3egbmM9nuhch8zMV5IssgLwPc8nj2hmUxMjBrst0rfnFBVowa2GcD2up4joZlkS0wa0ZGR2h+cSH+lS0qixbH1SosiwqBeSQ241z65BdnDuCWgcsYl4h6gVmT9Z7P5rInHnHOkO0drqPH1iMsixkC8yjzHFR3yc/BzD5QPeMyo8d71Ws2rvrhvcucaET/sLQanCPHeUZcZttgnuk5L1eJzCVOMqLfsLQelOxxibhOYB5VmZ9spj65iD6D0WsoKsQl4pqBeVRppkb7bfQB9HK73X5eZRC853KuHjOQ5cOCraV7sbTQ+madEZW9xzwiLlffYN6rOG9nmeZEFi1v9lk3ulJcIgTmmYqz19tUj0itbvD9fn/LfoM9FuXTcmZmeWRK/SJ6VcuwtPj/bLHn2EfHxQbzmspz2Ur5DabyTawYF16X4XNRo5UOTIsLX+FxiLpazVfVyJQNzNELXjEstpe6rhqZUi+wxZELnSUqW89hVFz++uPb//4syzWsbIYZfkW5Lzte5caMtBYV2rrf7297Z/l2u/2sMsslDnKx94ZkuxlZt5dXw5LtelY3y1yvKfMezMw3YbS//vhmaxlo1N8ZdIYSgblyXHpuL8KSx6yRSR+Y7BdwqyznIyzzyDJTa8q9yfuKGTaXiH7bi7jk1OOfqBkt9Qaz50LPEpdexCW/PTOcNUopA7P373LJHpesQ0A+eyOTbcZSBmaP7HHJwPZSywwznS4wM24ue/haABH1H5dSBUZc+rG91FU5MqkCA8wlTWBm315G/kSxvdRXdYtJE5itKsUFWqg48ykCs7W0FS/0Ft7g5Zmtsz96i0kRGPrxeMRI5QIz+/YCn6n0GhgemNErHMxu5GtseGCAeZUKTKXVEHqq8looFRiPU/CPKq+FUoEBahkemCqrHlQ18jU2PDBbVVkNoZdKr4FygWEbnwpmpBSBqfbx5958+pZnqn2tJkVg9pg9MvBexZlPE5iqX0d/1cifJB6T6qv615mkCQwwn1SBmX2LGckWU1fV7SUiWWAiRGbhjV4iasclImFg9poxMq3ZYmqZYaZTBuZ+v7/NuMlk+slCbns3l2wzljIwixkjM5otJr/qj0WPUgdmr4z/hOYevd6HEZmcZpnbR+kDk7XMe2U5H5GZR5aZWpM+MBH7L+AMPw16/jbpy/cfQpPE3lnNHJeIIoGJuHZkehOasWaNS0RE+gN870gwMt2QredxZgA+25oyXcfKZpnlj5TZYBZHLqxt5jXLRmOr6ecKcYkouMEsWsRi9I3KvMV85M/vX8vOzWhH53b0zG5VboNZtLjQ1TYaXx+oq8WvoKvFJaJwYCLaRaZaaKij1XxVjEtE8cBEtLvwIyKz59htMXW0mqmqcYko/B7MmpaROPOm7jnuke/HeA/mY8LyS/kN5lHLG5L9sckmk0/Lx+0Z4hIx2QazaB2HM2723mMescnYYP6r4rydZZoTWdNjC+l586tERmD6bbgzxSViskek93rcrIyPTh6XztXrB9dscYmYfIN5VOUnzpHjPGuTueIGU2V+spn65Nb03EAy/Mr8jMhcJTC9t9XZ4xJxwcBEnPOYc3R4Mkdm5sBUmI1KLnOiz2QdqKPH1TMyMwYm6xxUd7kTXnPmG7dbhqzFcfUIzQyByXrPZ3PZE39v5G+HPhrAjJGpGJhR9/fKcYkQmFXZYtPqeFqFpkpgRGU8F+IDWT7zcr/f31oey9HQZAxMpns1+hgycTFelGWAW9obmtGByXYvROU5F2aDbIPd2qvB6RmYStdYWD7nAu1U6YVwxFp0Wgam2nUUlW1crEaqvVCOuNJfixEhKkf8PvoAZvE4hBVeNHxMVNoQmA7Eph5B6UNgOns/uIKTh6j0JzAns92MIyjnE5iBbDf9icpYApNIz68JXIGY5CMwyT170Vw5PEJSh8AU1fsb2KOJyBzcxAvbGyIvfgAAAAAAAAAAAAAAAAAAAAAAAAAAAAAAAAAAAAAAAAAAAAAAAAAAAAAAAAAAAAAAAAAAAAAAAAAAAAAAAAAAAAAS+BsW+X/wF9NkowAAAABJRU5ErkJggg==",
         "3": "iVBORw0KGgoAAAANSUhEUgAAARgAAADcCAYAAACrgL6aAAAFw0lEQVR4nO3dUXbbNhBA0XFPVqH9r03bSD5aHruxbIsUSMwM7l1AKwKDR6hp7AgAAAAAAAAAAAAAAAAAAAAAAAAAAAAAAAAAAAAAAAAAAAAAAAAAAAAAAAAAAAAAAAAAAAAAAAAAAAAAAAAAAAAAgHreZn8A5rjf77+v/nfebjfzthgb3syMcIwmRH3YyII6ROQo8anFZiW2ckj2Ep6cbEoSYjKe6MxnAyYSlWsJzvUs+IUEJQ+xuYZFPpmo1CA457CogwlKfWIzjoUcQFT6EpvXWLyDRGVNgrOPxdpBVPhIbH5mgZ4gLHxFZL5ncb6QJSrbAGf5PNncbre3LGsjNp9ZkAdmDexXA5rlAGX1aN1mrpnQvLMQ/8kWlY24POe7dRSbeZZ++M2VA7hn4MRln6xru3Jkln3wiGuG7OhwicsxR9Y78xxUt+RDVxgogTmmwrqvFJtlHjTi/OEZNTji8poK+7BKZJZ4yIjzhmX0oIjLGFX2pXtoWj9cxDmDcdZQiMtYlfapa2j+mf0BznK/338bBM5wxgx0fbm0PCyjN+uKqHQdsNkq7l2nl1ibB9mM3OyrNlpczlVxH7tEptVXpFEbfLvd3rpsMNcZOTNdXjotDtHIsIz45+zRZZCyq7y3lV925W8wlTdRXK5T+VflVp6T0oEZsfC+DnGmUfNVNTJlA/PqggsLV1o1MiUP2CsLnSUqFYelgw77n+UZnlHuBrPKxtDbK7NY6eVU6sAdXdhsYak0IB11mYdsz/FImRtM501gbZ1/ZlCJwIgL3XWNTPrAZF/Avbo9T0Xd9iDz8/ya/QHO4OZCRR1/RU3qG8yRhRYXqsv6c4WPSHkYu/43l6xDsKqu85LpuVLfYPbItKgwQoeZThcYX4vgXfWvS6kCIy7wWeXIpAoM0EuawHS/vWR5o/Cu0p5UvcWkCcxeleICI1Sc+RSB2VvaigsNI+yd/dm3mBSBAXoqFxi3F1ZX6QxMD8zsKxx0N/OMTQ8M0FepwFS6GsKZqpyFUoHxdQr+VeUslAoMUMv0wFS56kFVM8/Y9MDsVeVqCGepdAbKBQaoI0Vgqv3vzzBLtb9WkyIwR4gMq6k482kCU/Wvoz9r9puEzyrtSdUfZ5ImMEA/qQLT/RYDR1S9vUQkC0yEyMBHleMSkTAwR4kM3XSY6TSle6R6vR/pMDQddJyTjM+U+gbj6xIr6hKXiIhfsz/AGbYNyrro8EjHl2PqG0xEv0h0e56Kuu1B5udJH5iI4wvY8Y1ATx1+0f0jJQITITL01TUuEcn/FOmRV4KRaUOEb44uM5DpOb5T5gazeWVhHWqyWCEuEQVvMJsRsZi9UYJ3rdn7HfH6nmd4hj3K3WA2IxbaAecq9/v992pxiSgcmIhxkREazjJqvirGJaJ4YCLGLfyMyFQdmopmrPWomao8J2U/+CMjI3HlprpBnevqAyos78rfYD4auSEOPXuN/LrdIS4RzW4wm9FxuGKzBe0cFfeuS1wimgZmc8ahPXPzRWasinvVKS4Rzb4i/e2MzRIBznpxdYtLRPMbzEdV3jgCNkaVfekYlY9aP9wjZx7gyn9k3kmVfegel4gFAxNxzQF+dXhE5pgK675CWDbLPOhXsg6UwByT+cd6rBSWzXIP/MiVh3nPkInMPlnXdsWwbJZ98L/NPMzfDaDIPOenQzxrHVeOS4TAPJQtNiLzva8OsajMZyG+keVg3263tyyfJZvtMGdZH3H5P4vxpCwDTD6i8jULs4PI8JGw/MwCHSQ2axKVfSzWIILTl6gcZ+FOIDb1icoYFvFkYlODoJzDol5McPIQlfNZ4InE5lqCcj0LnojgjCcqc1n85ETneWKSjw0pauXwCEkdNqqhDvERkR5s4sL8NksAAAAAAAAAAAAAAAAAAAAAAAAAAAAAAAAAAAAAAAAAAAAAAAAAAAAAAAAAAAAAAAAAAAAAAAAAAAAAAAAAAAAACvsDsQ38tvEgRaIAAAAASUVORK5CYII="
        },
        {
         "0": "iVBORw0KGgoAAAANSUhEUgAAARgAAADcCAYAAACrgL6aAAADU0lEQVR4nO3YUVFEMRBE0QEfqwoDSMMAqhCyKEh+YDbTqXMMZH7era5XBQAAAAAAAAAAAAAAAAAAAAAAAAAAAAAAAAAAAAAAAAAAAAAAAAAAAAAAAAAAAAAAAAAAAAAAwN+8nT7gv3x8/TxP3wCTfX8+Xv69v7/6QeD1TsSl6pLAWC8w0xWBAdZOrZeqCwJjvcBc8YEB1k6ul6rwwFgvMFt0YIC10+ulKjgw1gvMFxsYYG3CeqkKDYz1AhkiAwOsTVkvVYGBsV4gR1xggLVJ66UqLDDWC2SJCgywNm29VAUFxnqBPDGBAdYmrpeqkMBYL5ApIjDA2tT1UhUQGOsFco0PDLA2eb1UDQ+M9QLZRgcGWJu+XqoGB8Z6gXxjAwOsJayXqqGBsV7gDiMDA6ylrJeqgYGxXuAe4wIDrCWtl6phgbFe4C6jAgOspa2XqkGBsV7gPmMCA6wlrpeqIYGxXuBOIwIDrKWul6oBgbFe4F7HAwOsJa+XqsOBsV7gbhYMDJW+XqoOBsZ6gftZMEAbgQHaCAzQRmCANgIDtBEYoI3AAG0EBmgjMEAbgQHaCAzQRmCANgIDtBEYoI3AAG0EBmgjMEAbgQHaCAzQRmCANgIDtBEYoI3AAG0EBmgjMEAbgQHaCAzQRmCANgIDtBEYoI3AAG0EBmgjMEAbgQHaCAzQRmCANgIDtBEYoI3AAG0EBmhzLDDfn4+3U28Dr2HBwFAfXz/P0zf81dHAWDFwNwsGBktfMccDY8XAvY4HBthLXjEjAmPFwJ1GBAbYS10xYwJjxcB9xgQG2EtcMaMCY8XAXUYFBthLWzHjAmPFwD3GBQbYS1oxIwNjxcAdRgYG2EtZMWMDY8VAvrGBAfYSVszowFgxkG10YIC96StmfGCsGMg1PjDA3uQVExEYKwYyRQQG2Ju6YmICY8VAnpjAAHsTV0xUYKwYyBIVGGBv2oqJC4wVAzniAgPsTVoxkYGxYiBDZGCAvSkrJjYwVgzMFxsYYG/CiokOjBUDs0UHBtg7vWLiA2PFwFzxgQH2Tq6YKwJjxcBMVwQG2Dv9LwYAAAAAAAAAAAAAAAAAAAAAAAAAAAAAAAAAAAAAAAAAAAAAAAAAAAAAAAAAAAAAAAAAAAAA4Hq/ZAik8uNneKUAAAAASUVORK5CYII=",
         "1": "iVBORw0KGgoAAAANSUhEUgAAARgAAADcCAYAAACrgL6aAAAFFklEQVR4nO3bUWocSRAE0PTiG/hCuojBRzP4InMhn8H7tbCwsHRLyqrI6ve+BTMo3JGhsVQFAAAAAAAAAAAAAAAAAAAAAAAAAAAAAAAAAAAAAAAAAAAAAAAAAAAAAAAAAAAAAAAAAJzty+438FFvb29/dr8HmOT1ei177v9a9UIdlAvct/K5GVswygXeb9XzM7ZggHwjC8Z6gRlGFgwww7iCsV5gjnEFA3zcqv+qHlUw1gvMMqpggI9b+Yt2X1e90EfdWS/ffvzqfCtU1e+f3y9/rTz63cljpeMWjH/MWeSRZeV6qRpSMD57yZJ6LZ8qOY8RBXOVa5lFHllWr5eqAQVjvWRJvpZPlJ5HfMFc5VpmkUeWHeulKrxgrJcs6dfyaSbkEV0wV7mWWeSRZdd6qQouGOsly4Rr+SRT8ogtmKtcyyzyyLJzvVSFFoz1kmXKtXyKSXlEFsxVrmUWeWTZvV6qAgvGesky6Vo+wbQ84grmKtcyizyyJKyXqrCCsV6yTLuWp5uYR1TBXOVaZpFHlpT1UhVUMNZLlonX8mRT84gpmKtcyyzyyJK0XqpCCsZ6yTL1Wp5qch4RBXOVa5lFHlnS1ktVQMFYL1kmX8sTTc9je8Fc5VpmkUeWxPVStblgrJcs06/laU7IY8SCcS2zyCNL6nqp2lgw1kuWE67lSU7JI37BuJZZ5JEleb1UbSoY6yXLKdfyFCflEb1gXMss8siSvl6qNhSM9ZLlpGt5gtPyWN6ACgY+bsJ6qVq8YJQLPEv0ZzDAf01ZL1ULC8Z6geexYGCQSeulalHBWC/wTBYM0EbBAG0UDNBGwQBtFAzQ5uvuN/Bv/phujTt/7yKTNU77G6R/WDBAGwUDtFEwQBsFA7RRMEAbBQO0UTBAGwUDtFEwQBsFA7RRMEAbBQO0UTBAGwUDtFEwQBsFA7RRMEAbBQO0UTBAGwUDtFEwQBsFA7RRMEAbBQO0UTBAGwUDtFEwQBsFA7T5suJF3t7e/qx4HTjd6/Va8sx+FgsGaKNggDYKBmijYIA2CgZos6Rgpn3yDXwOCwYGmfYrH8sKxoqB57FgYJhJK2ZpwVgx8CzLH/g77fvtx6/Ot0JV/f75/fLXyqPfnTwmHOzlPyJN+KY8idLIcloe0Z/B3Glz+skjy4TPYrYUjBWT5bSrOd1JeUQvmCpXM408sqSvmG0FY8VkOelqnuCUPOIXTJWrmUYeWZJXzNaCsWKynHI1T3FCHiMWTJWrmUYeWVJXzPaCsWKynHA1TzI9j+0Fc4ermUUeWRJXTETBWDFZpl/N00zOI6Jg7nA1s8gjS9qKiSkYKybL5Kt5oql5xBTMHa5mFnlkSVoxUQVjxWSZejVPNTGPqIK5w9XMIo8sKSsmrmCsmCwTr+bJpuURVzB3uJpZ5JElYcVEFowVk2Xa1TzdpDwiC+YOVzOLPLLsXjGxBWPFZJl0NZ9gSh6xBXOHq5lFHll2rpjogrFisky5mk8xIY/ogrnD1cwijyy7Vkx8wVgxWSZczSdJzyO+YO5wNbPII8uOFTOiYKyYLOlX82mS8xhRMHe4mlnkkWX1ihm1DHb/0hCcYOVPBMctGOD/rTzUowrGZzEwy6iCAT7HqhUzrmCsGJhjXMEAc4wsGCsGZhhZMMAMYwvGioH3W/X8jC2YKiUD7+G5AQAAAAAAAAAAAAAAAAAAAAAAAAAAAAAAAAAAAAAAAAAAAAAAAAAAAAAAAAAAAAAAgAf6Gy0zeNBNTtmiAAAAAElFTkSuQmCC",
         "2": "iVBORw0KGgoAAAANSUhEUgAAARgAAADcCAYAAACrgL6aAAAElElEQVR4nO3dwW3kRhRF0S9DGcxauXQOWhtQaAJmPTkwF60nBnlRGNswBgap7s961X1OAiqIwuMVW4SqAAAAAAAAAAAAAAAAAAAAAAAAAAAAAAAAAAAAAAAAAAAAAAAAAAAAAAAAAAAAAAAAAID79jT7ANe6XC6fs8/waLZtW/7nhnP8MfsA1zAukG3ZgTEukG/ZgQHyPc8+wFeol/vx+v7hWp7kx9vL6c/OFAw8gBnjUrXgwKgXWMdyAwMcM6teqhYbGPUCa1lqYIBjZtZL1UKfIh2pl29v3zuPwvYy+wQs4u4KxrjAMLteqhYZGM9eYE1LDMxe6gWGhHqpWmBg1EuWn+9/zj4CC4kfmL3UCwwp9VIVPjDqJYt64ajogdlLvcCQVC9VwQOjXrKoF74idmD2Ui8wpNVLVejAqJcs6oWvihyYvdQLDIn1UhU4MOoli3rhGnEDs5d6gSG1XqrCBka9ZFEvXCtqYPZSLzAk10tV0MColyzqhVuIGZi91AsM6fVSFTIw6iWLeuFWIgZmL/UCwwr1UhUwMOoli3rhlqYPzF7qBYZV6qVq8sColyzqhVtbomDUCwwr1UvVxIFRL1nUCx3iC0a9ZHE95lmtXqomDYx6yaJe6BJdMO6WWVyPeVasl6oJA6NesqgXOj3PPsD/8cOfxfWYY9V6qTq5YNQLPJboZzDw6Faul6oTB0a9wONRMBBq9XqpOmlg1As8JgUDtDEwQBsDA7QxMEAbAwO0iXpVwMt05zjyJ/+/vSbbyw1Pwz1TMEAbAwO0MTBAGwMDtDEwQBsDA7QxMEAbAwO0MTBAGwMDtDEwQBsDA7QxMEAbAwO0MTBAGwMDtDEwQBsDA7QxMEAbAwO0MTBAGwMDtDEwQBsDA7QxMEAbAwO0MTBAGwMDtHmefYB/O/JP2TmHa8I1FAzQxsAAbQwM0MbAAG0MDNDmlIHZtu3pjK8DZFEwEOr1/eNz9hmuddrAqBh4PAoGgq1eMacOjIqBxxL1qsB/fXv7PvsId+/IqwB/X4/tpek0/M7r+8fnj7eXJW/Op/+KpGKyGHE6RT+D8aJdFtdjnlWfxUwZGBWTRcXQJbpgqtw107ge86xYMdMGRsVkUTF0iC+YKndN+GW1ipk6MComi4rh1pYomCoVA7+sVDHTB0bFZFEx3NL0gTlCxcCwSsVEDIyKyaJiuJWIgTlCxcCwQsXEDIyKyaJiuIWYgTlCxcCQXjFRA6NisqgYrhU1MEeoGBiSKyZuYFRMFhXDNeIG5ggVA0NqxUQOjIrJomL4qsiBOULFwJBYMbEDo2KyqBi+InZgjlAxMKRVTPTAqJgsKoajogfmCBUDQ1LFxA+MismiYjgifmCOUDEwpFTMEgOjYmBNSwzMESoGhoSKeZ59gL22bXu6XC67vmFGBjLcXcEA/5hdMUsNjGcxsJalBgY4bmbFLDcwKgbWsdzAAMfNqphla2DvJ0rcnopkLwUDtFl2YNxFId+yA1NlZAAAAAAAAAAAAAAAAAAAAAAAAAAAAAAAAAAAAAAAAAAAAAAAAAAAAAAAAAAAAAAAAABgl78AGhwmMlTVb/sAAAAASUVORK5CYII=",
         "3": "iVBORw0KGgoAAAANSUhEUgAAARgAAADcCAYAAACrgL6aAAADTElEQVR4nO3YwW3FMAxEQSZluP/a3EZSgXRJ+MUVZhoQL35YuAoAAAAAAAAAAAAAAAAAAAAAAAAAAAAAAAAAAAAAAAAAAAAAAAAAAAAAAAAAAAAAAAAAAAAAAIC/+Tp9wH953/fn9A0w2fM8H//evz/9IPB5J+JSdUlgrBeY6YrAAGun1kvVBYGxXmCu+MAAayfXS1V4YKwXmC06MMDa6fVSFRwY6wXmiw0MsDZhvVSFBsZ6gQyRgQHWpqyXqsDAWC+QIy4wwNqk9VIVFhjrBbJEBQZYm7ZeqoICY71AnpjAAGsT10tVSGCsF8gUERhgbep6qQoIjPUCucYHBlibvF6qhgfGeoFsowMDrE1fL1WDA2O9QL6xgQHWEtZL1dDAWC9wh5GBAdZS1kvVwMBYL3CPcYEB1pLWS9WwwFgvcJdRgQHW0tZL1aDAWC9wnzGBAdYS10vVkMBYL3CnEYEB1lLXS9WAwFgvcK/jgQHWktdL1eHAWC9wNwsGhkpfL1UHA2O9wP0sGKCNwABtBAZoIzBAG4EB2ggM0EZggDYCA7QRGKCNwABtBAZoIzBAG4EB2ggM0EZggDYCA7QRGKCNwABtBAZoIzBAG4EB2ggM0EZggDYCA7QRGKCNwABtBAZoIzBAG4EB2ggM0EZggDYCA7QRGKCNwABtBAZoIzBAG4EB2ggM0EZggDYCA7Q5Fpjneb5OvQ18hgUDQ73v+3P6hr86GhgrBu5mwcBg6SvmeGCsGLjX8cAAe8krZkRgrBi404jAAHupK2ZMYKwYuM+YwAB7iStmVGCsGLjLqMAAe2krZlxgrBi4x7jAAHtJK2ZkYKwYuMPIwAB7KStmbGCsGMg3NjDAXsKKGR0YKwayjQ4MsDd9xYwPjBUDucYHBtibvGIiAmPFQKaIwAB7U1dMTGCsGMgTExhgb+KKiQqMFQNZogID7E1bMXGBsWIgR1xggL1JKyYyMFYMZIgMDLA3ZcXEBsaKgfliAwPsTVgx0YGxYmC26MAAe6dXTHxgrBiYKz4wwN7JFXNFYKwYmOmKwAB7p//FAAAAAAAAAAAAAAAAAAAAAAAAAAAAAAAAAAAAAAAAAAAAAAAAAAAAAAAAAAAAAAAAAAAAAABc7xeH7KTyjFElFAAAAABJRU5ErkJggg=="
        }
       ],
       "layout": "IPY_MODEL_ebf7a067c9774c1697a049002cdb95c4",
       "state": {
        "1": [
         1,
         1
        ],
        "2": [
         1,
         1
        ],
        "4": [
         1,
         1
        ],
        "6": [
         1,
         1
        ]
       },
       "style": "IPY_MODEL_153426e2ec564cff8760964024c1b67b",
       "tooltip": "",
       "tree": {
        "children": [
         {
          "color": "#aaa",
          "id": 1,
          "name": "TOP_0",
          "type": "leaf"
         },
         {
          "children": [
           {
            "color": "#00ff00",
            "id": 2,
            "name": "SECOND_0",
            "type": "leaf"
           }
          ],
          "id": 3,
          "name": "SECOND",
          "type": "node"
         },
         {
          "children": [
           {
            "color": "#ffa500",
            "id": 4,
            "name": "THIRD_0",
            "type": "leaf"
           }
          ],
          "id": 5,
          "name": "THIRD",
          "type": "node"
         },
         {
          "children": [
           {
            "color": "#0000ff",
            "id": 6,
            "name": "4th_0",
            "type": "leaf"
           }
          ],
          "id": 7,
          "name": "4th",
          "type": "node"
         }
        ],
        "id": 8,
        "name": "TOP",
        "type": "node"
       }
      }
     },
     "83382b9d98394a8f86941578add6ccd1": {
      "model_module": "jupyter-threejs",
      "model_module_version": "^2.1.0",
      "model_name": "CombinedCameraModel",
      "state": {
       "_view_module": null,
       "_view_module_version": "",
       "far": 33.346667695588636,
       "height": 600,
       "matrix": [
        1,
        0,
        0,
        0,
        0,
        1,
        0,
        0,
        0,
        0,
        1,
        0,
        5.775812271187529,
        5.775812271187529,
        5.775812271187529,
        1
       ],
       "matrixWorldInverse": [
        1,
        0,
        0,
        0,
        0,
        1,
        0,
        0,
        0,
        0,
        1,
        0,
        -5.775812271187529,
        -5.775812271187529,
        -5.775812271187529,
        1
       ],
       "matrixWorldNeedsUpdate": true,
       "mode": "orthographic",
       "orthoFar": 33.346667695588636,
       "position": [
        5.775812271187529,
        5.775812271187529,
        5.775812271187529
       ],
       "projectionMatrix": [
        0.4019342614841791,
        0,
        0,
        0,
        0,
        0.535912348645572,
        0,
        0,
        0,
        0,
        -0.06015640479558112,
        0,
        0,
        0,
        -1.0060156404795582,
        1
       ],
       "type": "OrthographicCamera",
       "up": [
        0,
        0,
        1
       ],
       "width": 800,
       "zoom": 2.5
      }
     },
     "83593a8dcdb24424905bd9143568fb7d": {
      "model_module": "jupyter-threejs",
      "model_module_version": "^2.1.0",
      "model_name": "CombinedCameraModel",
      "state": {
       "_view_module": null,
       "_view_module_version": "",
       "far": 82.78436197374486,
       "height": 600,
       "matrix": [
        1,
        0,
        0,
        0,
        0,
        1,
        0,
        0,
        0,
        0,
        1,
        0,
        15.338672101069903,
        13.588672101069903,
        16.463672101069903,
        1
       ],
       "matrixWorldInverse": [
        1,
        0,
        0,
        0,
        0,
        1,
        0,
        0,
        0,
        0,
        1,
        0,
        -15.338672101069903,
        -13.588672101069903,
        -16.463672101069903,
        1
       ],
       "matrixWorldNeedsUpdate": true,
       "mode": "orthographic",
       "orthoFar": 82.78436197374486,
       "position": [
        15.338672101069903,
        13.588672101069903,
        16.463672101069903
       ],
       "projectionMatrix": [
        0.1529664484549955,
        0,
        0,
        0,
        0,
        0.2039552646066607,
        0,
        0,
        0,
        0,
        -0.024188370717972873,
        0,
        0,
        0,
        -1.0024188370717972,
        1
       ],
       "type": "OrthographicCamera",
       "up": [
        0,
        0,
        1
       ],
       "width": 800,
       "zoom": 2.5
      }
     },
     "83611ad833244f8ea5b582c2caf7c3ed": {
      "model_module": "@jupyter-widgets/controls",
      "model_module_version": "1.5.0",
      "model_name": "ButtonStyleModel",
      "state": {}
     },
     "8377e8dc69c046cea83c1966439bfc02": {
      "model_module": "@jupyter-widgets/controls",
      "model_module_version": "1.5.0",
      "model_name": "HBoxModel",
      "state": {
       "children": [
        "IPY_MODEL_caa94a2bb0d4468cac7fbb2b13f9106b",
        "IPY_MODEL_8b358a48ac44426cb1b2b7c79f35e28c"
       ],
       "layout": "IPY_MODEL_056c71c22db14812b24afe332d607648"
      }
     },
     "83acf954514b458cb20da58bfe558d20": {
      "model_module": "jupyter_cadquery",
      "model_module_version": "^v1.0.0",
      "model_name": "ImageButtonModel",
      "state": {
       "_dom_classes": [
        "view_button"
       ],
       "_model_module_version": "^v1.0.0",
       "_view_module_version": "^v1.0.0",
       "height": "28",
       "layout": "IPY_MODEL_e909876fb1ea42a89d824e5a87a7920b",
       "style": "IPY_MODEL_83611ad833244f8ea5b582c2caf7c3ed",
       "tooltip": "Change view to bottom",
       "type": "bottom",
       "value": {},
       "width": "36"
      }
     },
     "83dd5e6f5e974baeb12bd33b6df143ce": {
      "model_module": "@jupyter-widgets/base",
      "model_module_version": "1.2.0",
      "model_name": "LayoutModel",
      "state": {}
     },
     "83ea722fee9a4886981d502c0640be07": {
      "model_module": "@jupyter-widgets/base",
      "model_module_version": "1.2.0",
      "model_name": "LayoutModel",
      "state": {}
     },
     "8409dc539bd74861b54c639369069246": {
      "model_module": "@jupyter-widgets/controls",
      "model_module_version": "1.5.0",
      "model_name": "DescriptionStyleModel",
      "state": {
       "description_width": ""
      }
     },
     "840b7b71ec4e4703976a7458af78cb8b": {
      "model_module": "@jupyter-widgets/base",
      "model_module_version": "1.2.0",
      "model_name": "LayoutModel",
      "state": {}
     },
     "8422da9a22cb4d4c8b2b8853f292018e": {
      "buffers": [
       {
        "data": "AAAAPwAAAL+amRk/zczMPQAAAL8AAIA/AAAAPwAAAD+amRk/zczMPQAAAD8AAIA/",
        "encoding": "base64",
        "path": [
         "array",
         "buffer"
        ]
       }
      ],
      "model_module": "jupyter-threejs",
      "model_module_version": "^2.1.0",
      "model_name": "BufferAttributeModel",
      "state": {
       "_view_module": null,
       "_view_module_version": "",
       "array": {
        "dtype": "float32",
        "shape": [
         4,
         3
        ]
       },
       "normalized": true,
       "version": 2
      }
     },
     "843d3fcbcdb74629bdb978a02edf899c": {
      "model_module": "jupyter-threejs",
      "model_module_version": "^2.1.0",
      "model_name": "SceneModel",
      "state": {
       "_view_module": null,
       "_view_module_version": "",
       "children": [
        "IPY_MODEL_1b72e9b123214c5190cea5c1c7bbc16b",
        "IPY_MODEL_680fc297a36a4021af1a91d2689c02cf",
        "IPY_MODEL_38fa59095ca646d8a207457414633ec7",
        "IPY_MODEL_fa809c615c284051b787077ac26cb8dc",
        "IPY_MODEL_354727f7154e4d52945b0f37a7f4d86f",
        "IPY_MODEL_b044e9cf6e954c8eb1785304fd282e74",
        "IPY_MODEL_524b4b9272af49d6a7906046a615a8cf",
        "IPY_MODEL_33047f1ea3644d87a7e44b8cb161bc93",
        "IPY_MODEL_44d185f608354bb5868ecd792bfd72e6",
        "IPY_MODEL_c745e41b77b34f4da6bea8e362597cda",
        "IPY_MODEL_1f16a49ab2a641b6b98fed2a04ceb655",
        "IPY_MODEL_056abe1059a34d6c9b9b67466298a16f",
        "IPY_MODEL_e5393214652b487ca924b6514c443c40",
        "IPY_MODEL_83593a8dcdb24424905bd9143568fb7d",
        "IPY_MODEL_9d8b269d466c4187a32f7bd6014cc6b2"
       ]
      }
     },
     "84bebe9cc3ff4b67ae19719bebf180cf": {
      "model_module": "jupyter-threejs",
      "model_module_version": "^2.1.0",
      "model_name": "LineMaterialModel",
      "state": {
       "_view_module": null,
       "_view_module_version": "",
       "color": "#808080"
      }
     },
     "84bef10f38c543ac84bdcc8ed815bd55": {
      "model_module": "@jupyter-widgets/controls",
      "model_module_version": "1.5.0",
      "model_name": "SliderStyleModel",
      "state": {
       "description_width": ""
      }
     },
     "851dc1b552534cc09b972eea14879ce7": {
      "model_module": "@jupyter-widgets/controls",
      "model_module_version": "1.5.0",
      "model_name": "DescriptionStyleModel",
      "state": {
       "description_width": ""
      }
     },
     "852eb49b799d4e12b9546db1d43be50d": {
      "model_module": "@jupyter-widgets/controls",
      "model_module_version": "1.5.0",
      "model_name": "LabelModel",
      "state": {
       "layout": "IPY_MODEL_8a4e0fd2a4fa454abdb01735f96a1840",
       "style": "IPY_MODEL_fbd4ffde6efa4b0d8200f7c17d014b8f",
       "value": "N=( 1.00,  0.00,  0.00)"
      }
     },
     "85a3b2f6-3ed6-4ace-a5d8-36277421fb34": {
      "model_module": "jupyter-threejs",
      "model_module_version": "^2.1.0",
      "model_name": "OrthographicCameraModel",
      "state": {
       "bottom": -5,
       "far": 500,
       "left": -5,
       "near": 0.5,
       "projectionMatrix": [
        0.2,
        0,
        0,
        0,
        0,
        0.2,
        0,
        0,
        0,
        0,
        -0.004004004004004004,
        0,
        0,
        0,
        -1.002002002002002,
        1
       ],
       "right": 5,
       "top": 5
      }
     },
     "85cf24775a634087b2937378182d27f4": {
      "model_module": "@jupyter-widgets/controls",
      "model_module_version": "1.5.0",
      "model_name": "FloatSliderModel",
      "state": {
       "continuous_update": false,
       "layout": "IPY_MODEL_0570dffae1884d97a8cedc5ba5dea194",
       "max": 2.520000132,
       "min": -2.730000143,
       "step": 0.01,
       "style": "IPY_MODEL_3549e647e8fb49eeb7a771b96b84e8f1",
       "value": 2.520000132
      }
     },
     "865bb7bd143b416ba805c8673cf90809": {
      "model_module": "jupyter_cadquery",
      "model_module_version": "^v1.0.0",
      "model_name": "ImageButtonModel",
      "state": {
       "_dom_classes": [
        "view_button"
       ],
       "_model_module_version": "^v1.0.0",
       "_view_module_version": "^v1.0.0",
       "height": "28",
       "layout": "IPY_MODEL_c1321e5635134a8ba7421f1f29d58f26",
       "style": "IPY_MODEL_52b0d869920b4be89beee223580be886",
       "tooltip": "Change view to rear",
       "type": "rear",
       "value": {},
       "width": "36"
      }
     },
     "865d36a630454d6e813c821935622623": {
      "model_module": "@jupyter-widgets/controls",
      "model_module_version": "1.5.0",
      "model_name": "TabModel",
      "state": {
       "_dom_classes": [
        "tab-content-no-padding"
       ],
       "_titles": {
        "0": "Tree",
        "1": "Clipping"
       },
       "children": [
        "IPY_MODEL_140860be95fa459d965b6c15bd36bc3a",
        "IPY_MODEL_7257f29002e54cc9a7715cb338b8656e"
       ],
       "layout": "IPY_MODEL_9b0ad7d4656b47b88fee46ad6e0a11e7"
      }
     },
     "86648a8186ab4ea595da96fc87635ec3": {
      "model_module": "@jupyter-widgets/base",
      "model_module_version": "1.2.0",
      "model_name": "LayoutModel",
      "state": {}
     },
     "87447f6aeafd4230b8437d750aec88b3": {
      "buffers": [
       {
        "data": "AACAvwAAAIAAAAAAAACAvwAAAIAAAAAAAACAvwAAAIAAAAAAAACAvwAAAIAAAAAAAACAvwAAAIAAAAAAAAAAAAAAAAAAAIA/AAAAAAAAAAAAAIA/AAAAAAAAAAAAAIA/AAAAAAAAAAAAAIA/AAAAgPMENT/zBDU/AAAAgPMENT/zBDU/AAAAgPMENT/zBDU/AAAAgPMENT/zBDU/AAAAgAAAgL8AAACAAAAAgAAAgL8AAACAAAAAgAAAgL8AAACAAAAAgAAAgL8AAACAAAAAAAAAgD8AAAAAAAAAAAAAgD8AAAAAAAAAAAAAgD8AAAAAAAAAAAAAgD8AAAAAAAAAgAAAAIAAAIC/AAAAgAAAAIAAAIC/AAAAgAAAAIAAAIC/AAAAgAAAAIAAAIC/AACAPwAAAAAAAACAAACAPwAAAAAAAACAAACAPwAAAAAAAACAAACAPwAAAAAAAACAAACAPwAAAAAAAACA",
        "encoding": "base64",
        "path": [
         "array",
         "buffer"
        ]
       }
      ],
      "model_module": "jupyter-threejs",
      "model_module_version": "^2.1.0",
      "model_name": "BufferAttributeModel",
      "state": {
       "_view_module": null,
       "_view_module_version": "",
       "array": {
        "dtype": "float32",
        "shape": [
         30,
         3
        ]
       },
       "normalized": true,
       "version": 2
      }
     },
     "874526c13ba04d889045adda36855f31": {
      "model_module": "@jupyter-widgets/controls",
      "model_module_version": "1.5.0",
      "model_name": "VBoxModel",
      "state": {
       "children": [
        "IPY_MODEL_b2e528d62c604b43a181c9ee3f9d883e",
        "IPY_MODEL_3c375f7ab38e4268b8ee96ce061603be"
       ],
       "layout": "IPY_MODEL_b965a89db5e44a9ba914a09f842b1b63"
      }
     },
     "877685fc-7911-4ffd-9e38-72cce2de9269": {
      "model_module": "jupyter-threejs",
      "model_module_version": "^2.1.0",
      "model_name": "Object3DModel",
      "state": {}
     },
     "8781d5ebe45a4c1cadfa9204c15da3dd": {
      "model_module": "@jupyter-widgets/controls",
      "model_module_version": "1.5.0",
      "model_name": "ButtonStyleModel",
      "state": {}
     },
     "87be3ad9304f440191264f3d96adedba": {
      "model_module": "@jupyter-widgets/controls",
      "model_module_version": "1.5.0",
      "model_name": "CheckboxModel",
      "state": {
       "_dom_classes": [
        "view_zero"
       ],
       "description": "@ 0",
       "disabled": false,
       "indent": false,
       "layout": "IPY_MODEL_dfad78eca33a49d5bd87049004470143",
       "style": "IPY_MODEL_f97b3c77c5634c5eb40df875e8d88c0e",
       "value": false
      }
     },
     "87d4d6e8b4234723b11c43bd9b926dbc": {
      "model_module": "jupyter-threejs",
      "model_module_version": "^2.1.0",
      "model_name": "LineSegments2Model",
      "state": {
       "_view_module": null,
       "_view_module_version": "",
       "geometry": "IPY_MODEL_ac16ec93ecf244be80303d14a4304d40",
       "material": "IPY_MODEL_04cd2d7cd3fc45f3ad213f56a79b7c1e",
       "morphTargetInfluences": [],
       "visible": false
      }
     },
     "87f0c771e29c4b46ac0484643c199364": {
      "model_module": "jupyter-threejs",
      "model_module_version": "^2.1.0",
      "model_name": "DirectionalLightModel",
      "state": {
       "_view_module": null,
       "_view_module_version": "",
       "color": "white",
       "intensity": 0.12,
       "matrixWorldNeedsUpdate": true,
       "position": [
        -3.3346667695588637,
        3.3346667695588637,
        -3.3346667695588637
       ],
       "shadow": "IPY_MODEL_139ac18f-ebf8-4de3-9234-9ee80fc3f024",
       "target": "IPY_MODEL_dd24733b-0d98-4776-b76e-698fc06e3787"
      }
     },
     "882c77722cce428c869d3f7042fa15f9": {
      "model_module": "jupyter-threejs",
      "model_module_version": "^2.1.0",
      "model_name": "LineMaterialModel",
      "state": {
       "_view_module": null,
       "_view_module_version": "",
       "color": "blue",
       "linewidth": 3
      }
     },
     "882eebdd4eab47b3a372f80ac8d2d155": {
      "model_module": "jupyter_cadquery",
      "model_module_version": "^v1.0.0",
      "model_name": "ImageButtonModel",
      "state": {
       "_dom_classes": [
        "view_button"
       ],
       "_model_module_version": "^v1.0.0",
       "_view_module_version": "^v1.0.0",
       "height": "28",
       "layout": "IPY_MODEL_71609153845b4b879c2ac84f586c5302",
       "style": "IPY_MODEL_105e5e5b41364d088cd8d5d341fe98cb",
       "tooltip": "Change view to fit",
       "type": "fit",
       "value": {},
       "width": "36"
      }
     },
     "8856e033922945a1ae423bc72c96b79e": {
      "model_module": "@jupyter-widgets/controls",
      "model_module_version": "1.5.0",
      "model_name": "HBoxModel",
      "state": {
       "children": [
        "IPY_MODEL_5df386a780ec4eeab29496e7fbb87fcf",
        "IPY_MODEL_1ae60fa8e8054b75925a56da4172add3"
       ],
       "layout": "IPY_MODEL_d16b9bb6fff847f3b5e771f01e7670be"
      }
     },
     "885898f0414b497d92feb4e51cdd8e02": {
      "buffers": [
       {
        "data": "AQAAAAAAAAACAAAAAQAAAAIAAAADAAAABQAAAAYAAAAEAAAABQAAAAcAAAAGAAAACAAAAAcAAAAFAAAADAAAAAoAAAAJAAAADAAAAAkAAAALAAAAEAAAAA0AAAAOAAAAEAAAAA8AAAANAAAAEgAAABEAAAATAAAAEgAAABMAAAAUAAAAFQAAABIAAAAUAAAAFwAAABYAAAAYAAAAFwAAABgAAAAZAAAAGwAAABwAAAAaAAAAGwAAAB0AAAAcAAAA",
        "encoding": "base64",
        "path": [
         "array",
         "buffer"
        ]
       }
      ],
      "model_module": "jupyter-threejs",
      "model_module_version": "^2.1.0",
      "model_name": "BufferAttributeModel",
      "state": {
       "_view_module": null,
       "_view_module_version": "",
       "array": {
        "dtype": "uint32",
        "shape": [
         48
        ]
       },
       "normalized": true,
       "version": 2
      }
     },
     "891a4472974c4960a3a39fd4301f8ea0": {
      "model_module": "@jupyter-widgets/controls",
      "model_module_version": "1.5.0",
      "model_name": "VBoxModel",
      "state": {
       "children": [
        "IPY_MODEL_3772e9c2b92349f2b445097c26ac860f",
        "IPY_MODEL_cfde556a67fa416085b81c0a061a7e6c",
        "IPY_MODEL_08a542573df748fe8d19813c70007082"
       ],
       "layout": "IPY_MODEL_09208a4b5ea74f8f8e11e5eec7ea95b2"
      }
     },
     "899647215cea497b8fe07e74e9827a8a": {
      "model_module": "@jupyter-widgets/controls",
      "model_module_version": "1.5.0",
      "model_name": "BoxModel",
      "state": {
       "_dom_classes": [
        "view_output"
       ],
       "children": [
        "IPY_MODEL_72c632311a524ec3af07fd5996ab4f87"
       ],
       "layout": "IPY_MODEL_c1ac2f451294488eb5611c49ad8895ee"
      }
     },
     "89e24d3c-63ac-4bac-8c49-2aaf885ef53d": {
      "model_module": "jupyter-threejs",
      "model_module_version": "^2.1.0",
      "model_name": "DirectionalLightShadowModel",
      "state": {
       "camera": "IPY_MODEL_f4990f26-9e3f-473d-8b97-b9352cd02964"
      }
     },
     "89ea82cf8eeb48ccb66bf90935f66c21": {
      "model_module": "jupyter-threejs",
      "model_module_version": "^2.1.0",
      "model_name": "SceneModel",
      "state": {
       "_view_module": null,
       "_view_module_version": "",
       "children": [
        "IPY_MODEL_071ac1f26d064dd881573df98f68a2cc",
        "IPY_MODEL_fece73666c5e4f8186fb2b28618d8e75",
        "IPY_MODEL_08cc0039ac784d7188bc7e230d3a7415",
        "IPY_MODEL_ec0b47bd401145f990536060916f9589",
        "IPY_MODEL_9190cd7ee4874329bc3f89b1fbe141a6",
        "IPY_MODEL_21dca90cc10f40cbbfa1d19cb811928c",
        "IPY_MODEL_4700720d04e249c5b20481eabb6f5e43",
        "IPY_MODEL_31e061215e384b019eadb67af5f933ed",
        "IPY_MODEL_f3e4f5d2c86f406da7073984e6c880a8",
        "IPY_MODEL_435d862ccef948f0945758b54a18068f",
        "IPY_MODEL_a0598c7a325b4bdd93e4c357623e045a",
        "IPY_MODEL_314c91e06355489d83a1d49a780d7c63",
        "IPY_MODEL_dbd074aaf0de42339e3fb932648bd958",
        "IPY_MODEL_f6043d98f92741f5ae7addaeaf22ee83",
        "IPY_MODEL_744c285dcc6d40b1a93294bc3e2ee901"
       ]
      }
     },
     "8a2c74eea97543e1864af45388392d7e": {
      "model_module": "@jupyter-widgets/base",
      "model_module_version": "1.2.0",
      "model_name": "LayoutModel",
      "state": {
       "margin": "0px 10px 0px 0px"
      }
     },
     "8a30a69d3f0d48388da64abdd5491ce3": {
      "model_module": "jupyter-threejs",
      "model_module_version": "^2.1.0",
      "model_name": "DirectionalLightModel",
      "state": {
       "_view_module": null,
       "_view_module_version": "",
       "color": "white",
       "intensity": 0.12,
       "matrixWorldNeedsUpdate": true,
       "position": [
        -8.278436197374486,
        8.278436197374486,
        -8.278436197374486
       ],
       "shadow": "IPY_MODEL_53968a0f-b9f4-4da3-9c8f-4dde1e68418d",
       "target": "IPY_MODEL_8fd967c0-41e0-4208-ac6b-8044d93b40c1"
      }
     },
     "8a4a3aad5e0546458f7830cf377b20b1": {
      "model_module": "jupyter-threejs",
      "model_module_version": "^2.1.0",
      "model_name": "ShaderMaterialModel",
      "state": {
       "_view_module": null,
       "_view_module_version": "",
       "clipping": true,
       "fragmentShader": "\n        uniform float alpha;\n        #define PHYSICAL\nuniform vec3 diffuse;\nuniform vec3 emissive;\nuniform float roughness;\nuniform float metalness;\nuniform float opacity;\n#ifndef STANDARD\n\tuniform float clearCoat;\n\tuniform float clearCoatRoughness;\n#endif\nvarying vec3 vViewPosition;\n#ifndef FLAT_SHADED\n\tvarying vec3 vNormal;\n#endif\n#include <common>\n#include <packing>\n#include <dithering_pars_fragment>\n#include <color_pars_fragment>\n#include <uv_pars_fragment>\n#include <uv2_pars_fragment>\n#include <map_pars_fragment>\n#include <alphamap_pars_fragment>\n#include <aomap_pars_fragment>\n#include <lightmap_pars_fragment>\n#include <emissivemap_pars_fragment>\n#include <bsdfs>\n#include <cube_uv_reflection_fragment>\n#include <envmap_pars_fragment>\n#include <envmap_physical_pars_fragment>\n#include <fog_pars_fragment>\n#include <lights_pars_begin>\n#include <lights_physical_pars_fragment>\n#include <shadowmap_pars_fragment>\n#include <bumpmap_pars_fragment>\n#include <normalmap_pars_fragment>\n#include <roughnessmap_pars_fragment>\n#include <metalnessmap_pars_fragment>\n#include <logdepthbuf_pars_fragment>\n#include <clipping_planes_pars_fragment>\nvoid main() {\n\t#include <clipping_planes_fragment>\n\tvec4 diffuseColor = vec4( diffuse, opacity );\n\tReflectedLight reflectedLight = ReflectedLight( vec3( 0.0 ), vec3( 0.0 ), vec3( 0.0 ), vec3( 0.0 ) );\n\tvec3 totalEmissiveRadiance = emissive;\n\t#include <logdepthbuf_fragment>\n\t#include <map_fragment>\n\t#include <color_fragment>\n\t#include <alphamap_fragment>\n\t#include <alphatest_fragment>\n\t#include <roughnessmap_fragment>\n\t#include <metalnessmap_fragment>\n\t#include <normal_fragment_begin>\n\t#include <normal_fragment_maps>\n\t#include <emissivemap_fragment>\n\t#include <lights_physical_fragment>\n\t#include <lights_fragment_begin>\n\t#include <lights_fragment_maps>\n\t#include <lights_fragment_end>\n\t#include <aomap_fragment>\n\tvec3 outgoingLight = reflectedLight.directDiffuse + reflectedLight.indirectDiffuse + reflectedLight.directSpecular + reflectedLight.indirectSpecular + totalEmissiveRadiance;\n\t\n            if ( gl_FrontFacing ) {\n                gl_FragColor = vec4( outgoingLight, alpha * diffuseColor.a );\n            } else {\n                gl_FragColor = vec4( diffuseColor.r, diffuseColor.g, diffuseColor.b, alpha * diffuseColor.a );\n            }\n\t#include <tonemapping_fragment>\n\t#include <encodings_fragment>\n\t#include <fog_fragment>\n\t#include <premultiplied_alpha_fragment>\n\t#include <dithering_fragment>\n}\n",
       "lights": true,
       "polygonOffset": true,
       "polygonOffsetFactor": 1,
       "polygonOffsetUnits": 1,
       "side": "DoubleSide",
       "uniforms": {
        "alpha": {
         "value": 0.7
        },
        "alphaMap": {
         "value": null
        },
        "ambientLightColor": {
         "value": [
          1,
          1,
          1
         ]
        },
        "aoMap": {
         "value": null
        },
        "aoMapIntensity": {
         "value": 1
        },
        "bumpMap": {
         "value": null
        },
        "bumpScale": {
         "value": 1
        },
        "diffuse": {
         "type": "c",
         "value": "#e8b024"
        },
        "directionalLights": {
         "value": [
          {
           "color": 1973790,
           "direction": {
            "x": -2.49923634283188e-16,
            "y": 7.68877499820049e-17,
            "z": -0.9999999999999999
           },
           "shadow": false,
           "shadowBias": 0,
           "shadowMapSize": {
            "x": 0,
            "y": 0
           },
           "shadowRadius": 1
          },
          {
           "color": 1973790,
           "direction": {
            "x": -5.762736564483164e-17,
            "y": 0.9428090415820632,
            "z": -0.3333333333333332
           },
           "shadow": false,
           "shadowBias": 0,
           "shadowMapSize": {
            "x": 0,
            "y": 0
           },
           "shadowRadius": 1
          },
          {
           "color": 1973790,
           "direction": {
            "x": 0.8164965809277259,
            "y": -0.47140452079103146,
            "z": -0.3333333333333334
           },
           "shadow": false,
           "shadowBias": 0,
           "shadowMapSize": {
            "x": 0,
            "y": 0
           },
           "shadowRadius": 1
          },
          {
           "color": 1973790,
           "direction": {
            "x": 0.816496580927726,
            "y": 0.47140452079103157,
            "z": 0.33333333333333326
           },
           "shadow": false,
           "shadowBias": 0,
           "shadowMapSize": {
            "x": 0,
            "y": 0
           },
           "shadowRadius": 1
          },
          {
           "color": 1973790,
           "direction": {
            "x": -0.816496580927726,
            "y": -0.47140452079103157,
            "z": -0.33333333333333326
           },
           "shadow": false,
           "shadowBias": 0,
           "shadowMapSize": {
            "x": 0,
            "y": 0
           },
           "shadowRadius": 1
          },
          {
           "color": 1973790,
           "direction": {
            "x": -0.8164965809277259,
            "y": 0.47140452079103146,
            "z": 0.3333333333333334
           },
           "shadow": false,
           "shadowBias": 0,
           "shadowMapSize": {
            "x": 0,
            "y": 0
           },
           "shadowRadius": 1
          },
          {
           "color": 1973790,
           "direction": {
            "x": 5.762736564483164e-17,
            "y": -0.9428090415820632,
            "z": 0.3333333333333332
           },
           "shadow": false,
           "shadowBias": 0,
           "shadowMapSize": {
            "x": 0,
            "y": 0
           },
           "shadowRadius": 1
          },
          {
           "color": 1973790,
           "direction": {
            "x": 2.49923634283188e-16,
            "y": -7.68877499820049e-17,
            "z": 0.9999999999999999
           },
           "shadow": false,
           "shadowBias": 0,
           "shadowMapSize": {
            "x": 0,
            "y": 0
           },
           "shadowRadius": 1
          }
         ]
        },
        "directionalShadowMap": {
         "value": [
          null,
          null,
          null,
          null,
          null,
          null,
          null,
          null
         ]
        },
        "directionalShadowMatrix": {
         "value": [
          {
           "elements": [
            1,
            0,
            0,
            0,
            0,
            1,
            0,
            0,
            0,
            0,
            1,
            0,
            0,
            0,
            0,
            1
           ]
          },
          {
           "elements": [
            1,
            0,
            0,
            0,
            0,
            1,
            0,
            0,
            0,
            0,
            1,
            0,
            0,
            0,
            0,
            1
           ]
          },
          {
           "elements": [
            1,
            0,
            0,
            0,
            0,
            1,
            0,
            0,
            0,
            0,
            1,
            0,
            0,
            0,
            0,
            1
           ]
          },
          {
           "elements": [
            1,
            0,
            0,
            0,
            0,
            1,
            0,
            0,
            0,
            0,
            1,
            0,
            0,
            0,
            0,
            1
           ]
          },
          {
           "elements": [
            1,
            0,
            0,
            0,
            0,
            1,
            0,
            0,
            0,
            0,
            1,
            0,
            0,
            0,
            0,
            1
           ]
          },
          {
           "elements": [
            1,
            0,
            0,
            0,
            0,
            1,
            0,
            0,
            0,
            0,
            1,
            0,
            0,
            0,
            0,
            1
           ]
          },
          {
           "elements": [
            1,
            0,
            0,
            0,
            0,
            1,
            0,
            0,
            0,
            0,
            1,
            0,
            0,
            0,
            0,
            1
           ]
          },
          {
           "elements": [
            1,
            0,
            0,
            0,
            0,
            1,
            0,
            0,
            0,
            0,
            1,
            0,
            0,
            0,
            0,
            1
           ]
          }
         ]
        },
        "displacementBias": {
         "value": 0
        },
        "displacementMap": {
         "value": null
        },
        "displacementScale": {
         "value": 1
        },
        "emissive": {
         "type": "c",
         "value": "#000000"
        },
        "emissiveMap": {
         "value": null
        },
        "envMap": {
         "value": null
        },
        "envMapIntensity": {
         "value": 1
        },
        "flipEnvMap": {
         "value": -1
        },
        "fogColor": {
         "type": "c",
         "value": "#ffffff"
        },
        "fogDensity": {
         "value": 0.00025
        },
        "fogFar": {
         "value": 2000
        },
        "fogNear": {
         "value": 1
        },
        "hemisphereLights": {
         "value": []
        },
        "lightMap": {
         "value": null
        },
        "lightMapIntensity": {
         "value": 1
        },
        "map": {
         "value": null
        },
        "maxMipLevel": {
         "value": 0
        },
        "metalness": {
         "value": 0.3
        },
        "metalnessMap": {
         "value": null
        },
        "normalMap": {
         "value": null
        },
        "normalScale": {
         "type": "v2",
         "value": [
          1,
          1
         ]
        },
        "opacity": {
         "value": 1
        },
        "pointLights": {
         "value": []
        },
        "pointShadowMap": {
         "value": []
        },
        "pointShadowMatrix": {
         "value": []
        },
        "rectAreaLights": {
         "value": []
        },
        "reflectivity": {
         "value": 1
        },
        "refractionRatio": {
         "value": 0.98
        },
        "roughness": {
         "value": 0.8
        },
        "roughnessMap": {
         "value": null
        },
        "spotLights": {
         "value": []
        },
        "spotShadowMap": {
         "value": []
        },
        "spotShadowMatrix": {
         "value": []
        },
        "uvTransform": {
         "type": "m3",
         "value": [
          1,
          0,
          0,
          0,
          1,
          0,
          0,
          0,
          1
         ]
        }
       },
       "vertexShader": "#define PHYSICAL\nvarying vec3 vViewPosition;\n#ifndef FLAT_SHADED\n\tvarying vec3 vNormal;\n#endif\n#include <common>\n#include <uv_pars_vertex>\n#include <uv2_pars_vertex>\n#include <displacementmap_pars_vertex>\n#include <color_pars_vertex>\n#include <fog_pars_vertex>\n#include <morphtarget_pars_vertex>\n#include <skinning_pars_vertex>\n#include <shadowmap_pars_vertex>\n#include <logdepthbuf_pars_vertex>\n#include <clipping_planes_pars_vertex>\nvoid main() {\n\t#include <uv_vertex>\n\t#include <uv2_vertex>\n\t#include <color_vertex>\n\t#include <beginnormal_vertex>\n\t#include <morphnormal_vertex>\n\t#include <skinbase_vertex>\n\t#include <skinnormal_vertex>\n\t#include <defaultnormal_vertex>\n#ifndef FLAT_SHADED\n\tvNormal = normalize( transformedNormal );\n#endif\n\t#include <begin_vertex>\n\t#include <morphtarget_vertex>\n\t#include <skinning_vertex>\n\t#include <displacementmap_vertex>\n\t#include <project_vertex>\n\t#include <logdepthbuf_vertex>\n\t#include <clipping_planes_vertex>\n\tvViewPosition = - mvPosition.xyz;\n\t#include <worldpos_vertex>\n\t#include <shadowmap_vertex>\n\t#include <fog_vertex>\n}\n"
      }
     },
     "8a4e0fd2a4fa454abdb01735f96a1840": {
      "model_module": "@jupyter-widgets/base",
      "model_module_version": "1.2.0",
      "model_name": "LayoutModel",
      "state": {}
     },
     "8a6a5bb7d5a34729a5e394bbe9cff7ee": {
      "model_module": "jupyter-threejs",
      "model_module_version": "^2.1.0",
      "model_name": "ShaderMaterialModel",
      "state": {
       "_view_module": null,
       "_view_module_version": "",
       "clipping": true,
       "fragmentShader": "\n        uniform float alpha;\n        #define PHYSICAL\nuniform vec3 diffuse;\nuniform vec3 emissive;\nuniform float roughness;\nuniform float metalness;\nuniform float opacity;\n#ifndef STANDARD\n\tuniform float clearCoat;\n\tuniform float clearCoatRoughness;\n#endif\nvarying vec3 vViewPosition;\n#ifndef FLAT_SHADED\n\tvarying vec3 vNormal;\n#endif\n#include <common>\n#include <packing>\n#include <dithering_pars_fragment>\n#include <color_pars_fragment>\n#include <uv_pars_fragment>\n#include <uv2_pars_fragment>\n#include <map_pars_fragment>\n#include <alphamap_pars_fragment>\n#include <aomap_pars_fragment>\n#include <lightmap_pars_fragment>\n#include <emissivemap_pars_fragment>\n#include <bsdfs>\n#include <cube_uv_reflection_fragment>\n#include <envmap_pars_fragment>\n#include <envmap_physical_pars_fragment>\n#include <fog_pars_fragment>\n#include <lights_pars_begin>\n#include <lights_physical_pars_fragment>\n#include <shadowmap_pars_fragment>\n#include <bumpmap_pars_fragment>\n#include <normalmap_pars_fragment>\n#include <roughnessmap_pars_fragment>\n#include <metalnessmap_pars_fragment>\n#include <logdepthbuf_pars_fragment>\n#include <clipping_planes_pars_fragment>\nvoid main() {\n\t#include <clipping_planes_fragment>\n\tvec4 diffuseColor = vec4( diffuse, opacity );\n\tReflectedLight reflectedLight = ReflectedLight( vec3( 0.0 ), vec3( 0.0 ), vec3( 0.0 ), vec3( 0.0 ) );\n\tvec3 totalEmissiveRadiance = emissive;\n\t#include <logdepthbuf_fragment>\n\t#include <map_fragment>\n\t#include <color_fragment>\n\t#include <alphamap_fragment>\n\t#include <alphatest_fragment>\n\t#include <roughnessmap_fragment>\n\t#include <metalnessmap_fragment>\n\t#include <normal_fragment_begin>\n\t#include <normal_fragment_maps>\n\t#include <emissivemap_fragment>\n\t#include <lights_physical_fragment>\n\t#include <lights_fragment_begin>\n\t#include <lights_fragment_maps>\n\t#include <lights_fragment_end>\n\t#include <aomap_fragment>\n\tvec3 outgoingLight = reflectedLight.directDiffuse + reflectedLight.indirectDiffuse + reflectedLight.directSpecular + reflectedLight.indirectSpecular + totalEmissiveRadiance;\n\t\n            if ( gl_FrontFacing ) {\n                gl_FragColor = vec4( outgoingLight, alpha * diffuseColor.a );\n            } else {\n                gl_FragColor = vec4( diffuseColor.r, diffuseColor.g, diffuseColor.b, alpha * diffuseColor.a );\n            }\n\t#include <tonemapping_fragment>\n\t#include <encodings_fragment>\n\t#include <fog_fragment>\n\t#include <premultiplied_alpha_fragment>\n\t#include <dithering_fragment>\n}\n",
       "lights": true,
       "polygonOffset": true,
       "polygonOffsetFactor": 1,
       "polygonOffsetUnits": 1,
       "side": "DoubleSide",
       "uniforms": {
        "alpha": {
         "value": 0.7
        },
        "alphaMap": {
         "value": null
        },
        "ambientLightColor": {
         "value": [
          1,
          1,
          1
         ]
        },
        "aoMap": {
         "value": null
        },
        "aoMapIntensity": {
         "value": 1
        },
        "bumpMap": {
         "value": null
        },
        "bumpScale": {
         "value": 1
        },
        "diffuse": {
         "type": "c",
         "value": "#aaaaaa"
        },
        "directionalLights": {
         "value": [
          {
           "color": 1973790,
           "direction": {
            "x": -2.989348615883112e-17,
            "y": 2.4777145706089543e-16,
            "z": -1
           },
           "shadow": false,
           "shadowBias": 0,
           "shadowMapSize": {
            "x": 0,
            "y": 0
           },
           "shadowRadius": 1
          },
          {
           "color": 1973790,
           "direction": {
            "x": -9.399224237161659e-17,
            "y": 0.9428090415820635,
            "z": -0.3333333333333332
           },
           "shadow": false,
           "shadowBias": 0,
           "shadowMapSize": {
            "x": 0,
            "y": 0
           },
           "shadowRadius": 1
          },
          {
           "color": 1973790,
           "direction": {
            "x": 0.8164965809277259,
            "y": -0.4714045207910316,
            "z": -0.3333333333333333
           },
           "shadow": false,
           "shadowBias": 0,
           "shadowMapSize": {
            "x": 0,
            "y": 0
           },
           "shadowRadius": 1
          },
          {
           "color": 1973790,
           "direction": {
            "x": 0.8164965809277259,
            "y": 0.4714045207910316,
            "z": 0.3333333333333333
           },
           "shadow": false,
           "shadowBias": 0,
           "shadowMapSize": {
            "x": 0,
            "y": 0
           },
           "shadowRadius": 1
          },
          {
           "color": 1973790,
           "direction": {
            "x": -0.8164965809277259,
            "y": -0.4714045207910316,
            "z": -0.3333333333333333
           },
           "shadow": false,
           "shadowBias": 0,
           "shadowMapSize": {
            "x": 0,
            "y": 0
           },
           "shadowRadius": 1
          },
          {
           "color": 1973790,
           "direction": {
            "x": -0.8164965809277259,
            "y": 0.4714045207910316,
            "z": 0.3333333333333333
           },
           "shadow": false,
           "shadowBias": 0,
           "shadowMapSize": {
            "x": 0,
            "y": 0
           },
           "shadowRadius": 1
          },
          {
           "color": 1973790,
           "direction": {
            "x": 9.399224237161659e-17,
            "y": -0.9428090415820635,
            "z": 0.3333333333333332
           },
           "shadow": false,
           "shadowBias": 0,
           "shadowMapSize": {
            "x": 0,
            "y": 0
           },
           "shadowRadius": 1
          },
          {
           "color": 1973790,
           "direction": {
            "x": 2.989348615883112e-17,
            "y": -2.4777145706089543e-16,
            "z": 1
           },
           "shadow": false,
           "shadowBias": 0,
           "shadowMapSize": {
            "x": 0,
            "y": 0
           },
           "shadowRadius": 1
          }
         ]
        },
        "directionalShadowMap": {
         "value": [
          null,
          null,
          null,
          null,
          null,
          null,
          null,
          null
         ]
        },
        "directionalShadowMatrix": {
         "value": [
          {
           "elements": [
            1,
            0,
            0,
            0,
            0,
            1,
            0,
            0,
            0,
            0,
            1,
            0,
            0,
            0,
            0,
            1
           ]
          },
          {
           "elements": [
            1,
            0,
            0,
            0,
            0,
            1,
            0,
            0,
            0,
            0,
            1,
            0,
            0,
            0,
            0,
            1
           ]
          },
          {
           "elements": [
            1,
            0,
            0,
            0,
            0,
            1,
            0,
            0,
            0,
            0,
            1,
            0,
            0,
            0,
            0,
            1
           ]
          },
          {
           "elements": [
            1,
            0,
            0,
            0,
            0,
            1,
            0,
            0,
            0,
            0,
            1,
            0,
            0,
            0,
            0,
            1
           ]
          },
          {
           "elements": [
            1,
            0,
            0,
            0,
            0,
            1,
            0,
            0,
            0,
            0,
            1,
            0,
            0,
            0,
            0,
            1
           ]
          },
          {
           "elements": [
            1,
            0,
            0,
            0,
            0,
            1,
            0,
            0,
            0,
            0,
            1,
            0,
            0,
            0,
            0,
            1
           ]
          },
          {
           "elements": [
            1,
            0,
            0,
            0,
            0,
            1,
            0,
            0,
            0,
            0,
            1,
            0,
            0,
            0,
            0,
            1
           ]
          },
          {
           "elements": [
            1,
            0,
            0,
            0,
            0,
            1,
            0,
            0,
            0,
            0,
            1,
            0,
            0,
            0,
            0,
            1
           ]
          }
         ]
        },
        "displacementBias": {
         "value": 0
        },
        "displacementMap": {
         "value": null
        },
        "displacementScale": {
         "value": 1
        },
        "emissive": {
         "type": "c",
         "value": "#000000"
        },
        "emissiveMap": {
         "value": null
        },
        "envMap": {
         "value": null
        },
        "envMapIntensity": {
         "value": 1
        },
        "flipEnvMap": {
         "value": -1
        },
        "fogColor": {
         "type": "c",
         "value": "#ffffff"
        },
        "fogDensity": {
         "value": 0.00025
        },
        "fogFar": {
         "value": 2000
        },
        "fogNear": {
         "value": 1
        },
        "hemisphereLights": {
         "value": []
        },
        "lightMap": {
         "value": null
        },
        "lightMapIntensity": {
         "value": 1
        },
        "map": {
         "value": null
        },
        "maxMipLevel": {
         "value": 0
        },
        "metalness": {
         "value": 0.3
        },
        "metalnessMap": {
         "value": null
        },
        "normalMap": {
         "value": null
        },
        "normalScale": {
         "type": "v2",
         "value": [
          1,
          1
         ]
        },
        "opacity": {
         "value": 1
        },
        "pointLights": {
         "value": []
        },
        "pointShadowMap": {
         "value": []
        },
        "pointShadowMatrix": {
         "value": []
        },
        "rectAreaLights": {
         "value": []
        },
        "reflectivity": {
         "value": 1
        },
        "refractionRatio": {
         "value": 0.98
        },
        "roughness": {
         "value": 0.8
        },
        "roughnessMap": {
         "value": null
        },
        "spotLights": {
         "value": []
        },
        "spotShadowMap": {
         "value": []
        },
        "spotShadowMatrix": {
         "value": []
        },
        "uvTransform": {
         "type": "m3",
         "value": [
          1,
          0,
          0,
          0,
          1,
          0,
          0,
          0,
          1
         ]
        }
       },
       "vertexShader": "#define PHYSICAL\nvarying vec3 vViewPosition;\n#ifndef FLAT_SHADED\n\tvarying vec3 vNormal;\n#endif\n#include <common>\n#include <uv_pars_vertex>\n#include <uv2_pars_vertex>\n#include <displacementmap_pars_vertex>\n#include <color_pars_vertex>\n#include <fog_pars_vertex>\n#include <morphtarget_pars_vertex>\n#include <skinning_pars_vertex>\n#include <shadowmap_pars_vertex>\n#include <logdepthbuf_pars_vertex>\n#include <clipping_planes_pars_vertex>\nvoid main() {\n\t#include <uv_vertex>\n\t#include <uv2_vertex>\n\t#include <color_vertex>\n\t#include <beginnormal_vertex>\n\t#include <morphnormal_vertex>\n\t#include <skinbase_vertex>\n\t#include <skinnormal_vertex>\n\t#include <defaultnormal_vertex>\n#ifndef FLAT_SHADED\n\tvNormal = normalize( transformedNormal );\n#endif\n\t#include <begin_vertex>\n\t#include <morphtarget_vertex>\n\t#include <skinning_vertex>\n\t#include <displacementmap_vertex>\n\t#include <project_vertex>\n\t#include <logdepthbuf_vertex>\n\t#include <clipping_planes_vertex>\n\tvViewPosition = - mvPosition.xyz;\n\t#include <worldpos_vertex>\n\t#include <shadowmap_vertex>\n\t#include <fog_vertex>\n}\n"
      }
     },
     "8aa6213bd9714daa8a42479fb41cc305": {
      "model_module": "jupyter-threejs",
      "model_module_version": "^2.1.0",
      "model_name": "MeshModel",
      "state": {
       "_view_module": null,
       "_view_module_version": "",
       "geometry": "IPY_MODEL_bb5f2cac4721444a8b195a9c5249e259",
       "material": "IPY_MODEL_46d59cb9829348e9a5f5f8e059407066",
       "morphTargetInfluences": [],
       "name": "mesh_0"
      }
     },
     "8ad832eb397f4c93b2925edfe12dc611": {
      "model_module": "jupyter-threejs",
      "model_module_version": "^2.1.0",
      "model_name": "MeshModel",
      "state": {
       "_view_module": null,
       "_view_module_version": "",
       "geometry": "IPY_MODEL_fdac9fe835b64f22b7b6e4ff63601c41",
       "material": "IPY_MODEL_6f512e2126fa48cb8af2ddbf1441737f",
       "morphTargetInfluences": [],
       "name": "mesh_3"
      }
     },
     "8ae72fc0-6589-424e-a976-bca5fb067e08": {
      "model_module": "jupyter-threejs",
      "model_module_version": "^2.1.0",
      "model_name": "Object3DModel",
      "state": {}
     },
     "8b358a48ac44426cb1b2b7c79f35e28c": {
      "model_module": "@jupyter-widgets/controls",
      "model_module_version": "1.5.0",
      "model_name": "LabelModel",
      "state": {
       "layout": "IPY_MODEL_8b4c8cb8d3f2465b83d95fc1b8e131c1",
       "style": "IPY_MODEL_4c206e6888824c3cb5eec16801440a29",
       "value": "N=( 0.00,  1.00,  0.00)"
      }
     },
     "8b4c8cb8d3f2465b83d95fc1b8e131c1": {
      "model_module": "@jupyter-widgets/base",
      "model_module_version": "1.2.0",
      "model_name": "LayoutModel",
      "state": {}
     },
     "8b99aa1debf642dea545ac62fd725d13": {
      "buffers": [
       {
        "data": "AAAAQDMzcz8AAIC+AAAAQDMzcz+amRk+AAAAQDMzcz+amRk+AAAAQGZmhj+amRk+AAAAQDMzcz8AAIC+AAAAQGZmhj8AAIC+AAAAQGZmhj8AAIC+AAAAQGZmhj+amRk+AAAAQDMzcz+amRk+MzPzPzMzcz8AAIA+AAAAADMzcz8AAIC+AAAAQDMzcz8AAIC+AAAAADMzcz8AAIA+MzPzPzMzcz8AAIA+AAAAADMzcz8AAIC+AAAAADMzcz8AAIA+MzPzPzMzcz8AAIA+MzPzP2Zmhj8AAIA+AAAAQGZmhj+amRk+MzPzP2Zmhj8AAIA+AAAAADMzcz8AAIC+AAAAAGZmhj8AAIC+AAAAAGZmhj8AAIC+AAAAQGZmhj8AAIC+AAAAAGZmhj8AAIA+MzPzP2Zmhj8AAIA+AAAAAGZmhj8AAIC+AAAAAGZmhj8AAIA+AAAAADMzcz8AAIA+AAAAAGZmhj8AAIA+",
        "encoding": "base64",
        "path": [
         "positions",
         "buffer"
        ]
       }
      ],
      "model_module": "jupyter-threejs",
      "model_module_version": "^2.1.0",
      "model_name": "LineSegmentsGeometryModel",
      "state": {
       "_view_module": null,
       "_view_module_version": "",
       "positions": {
        "dtype": "float32",
        "shape": [
         15,
         2,
         3
        ]
       }
      }
     },
     "8ba6df2b28554becb656fe7afa09498f": {
      "model_module": "@jupyter-widgets/controls",
      "model_module_version": "1.5.0",
      "model_name": "HBoxModel",
      "state": {
       "children": [
        "IPY_MODEL_f99a302bb4754bc8ac5ae6a42886a895",
        "IPY_MODEL_ec0b5fecd82b4c2bb7f2d6486393a26e",
        "IPY_MODEL_6f1ad5868fa247c38e35c34762304fdf",
        "IPY_MODEL_66500aa027d347e5be5c596b67827da5",
        "IPY_MODEL_2d4ca0eaf492444bacddeba70a6b2bd5",
        "IPY_MODEL_3924f83139444615aae412ca4409310b",
        "IPY_MODEL_37d094cf35fc4b05883e325f4ecc647d",
        "IPY_MODEL_6170a692edb545499fb0e0bbf467db25",
        "IPY_MODEL_69d481e299c44026977d6e14a15a1948",
        "IPY_MODEL_c842178f6e5b4f868e5ab029be686156",
        "IPY_MODEL_760157a4454349fdafaa6caf11af3467"
       ],
       "layout": "IPY_MODEL_42135900f60e43a0b2d83787621f66a7"
      }
     },
     "8bc744ac154c4a4e95fcbb5d2ef7fad4": {
      "model_module": "jupyter-threejs",
      "model_module_version": "^2.1.0",
      "model_name": "LineMaterialModel",
      "state": {
       "_view_module": null,
       "_view_module_version": "",
       "color": "#808080"
      }
     },
     "8c1196113e764a89b73ff7dbe719e086": {
      "model_module": "@jupyter-widgets/controls",
      "model_module_version": "1.5.0",
      "model_name": "BoxModel",
      "state": {
       "_dom_classes": [
        "view_output"
       ],
       "children": [
        "IPY_MODEL_32e85645ca0549f087ab51470b2a47cc"
       ],
       "layout": "IPY_MODEL_e67ab6d73b944909bb510dd373f89bb6"
      }
     },
     "8ca4df38-ce2d-44e9-83fe-067e421e5cfe": {
      "model_module": "jupyter-threejs",
      "model_module_version": "^2.1.0",
      "model_name": "DirectionalLightShadowModel",
      "state": {
       "camera": "IPY_MODEL_c1e3b4df-bab9-4dc8-a9dc-5ce9b4bfcdff"
      }
     },
     "8cbd958097da43539d4e891156f366cd": {
      "model_module": "@jupyter-widgets/controls",
      "model_module_version": "1.5.0",
      "model_name": "FloatSliderModel",
      "state": {
       "continuous_update": false,
       "layout": "IPY_MODEL_a5ab4ac4244e4cf2888c0ac9a7154318",
       "max": 6.420000131999999,
       "min": -6.955000143,
       "step": 0.01,
       "style": "IPY_MODEL_74a1e607e30846a2b78849c260b14244",
       "value": 6.420000131999999
      }
     },
     "8d181a9bb32a43dbadc1cb39dcc6d7db": {
      "buffers": [
       {
        "data": "AAAAAAAAAAAAAAAA7FG8QAAAAAAAAAAA",
        "encoding": "base64",
        "path": [
         "positions",
         "buffer"
        ]
       }
      ],
      "model_module": "jupyter-threejs",
      "model_module_version": "^2.1.0",
      "model_name": "LineSegmentsGeometryModel",
      "state": {
       "_view_module": null,
       "_view_module_version": "",
       "positions": {
        "dtype": "float32",
        "shape": [
         1,
         2,
         3
        ]
       }
      }
     },
     "8d30930130d14748a2b1be25177e0eae": {
      "model_module": "jupyter-threejs",
      "model_module_version": "^2.1.0",
      "model_name": "LineSegments2Model",
      "state": {
       "_view_module": null,
       "_view_module_version": "",
       "geometry": "IPY_MODEL_f7d45600cfd148ab9dd1988c178903b9",
       "material": "IPY_MODEL_d148980802284d2c94531d0f2dbfa7cc",
       "morphTargetInfluences": [],
       "name": "edges_2"
      }
     },
     "8d3c2274650346939aa745d8a7d65c13": {
      "model_module": "jupyter-threejs",
      "model_module_version": "^2.1.0",
      "model_name": "LineMaterialModel",
      "state": {
       "_view_module": null,
       "_view_module_version": "",
       "color": "red",
       "linewidth": 3
      }
     },
     "8d6ca74277514fb5a2fd2dd0afeb00ab": {
      "model_module": "@jupyter-widgets/base",
      "model_module_version": "1.2.0",
      "model_name": "LayoutModel",
      "state": {
       "height": "380px",
       "width": "250px"
      }
     },
     "8d9bccbb444e41afa063fcabfc4d3cf9": {
      "model_module": "@jupyter-widgets/base",
      "model_module_version": "1.2.0",
      "model_name": "LayoutModel",
      "state": {
       "border": "solid 1px #ddd",
       "height": "216px",
       "overflow": "scroll",
       "width": "250px"
      }
     },
     "8dc957a3c6f84b7eb03d9b49674307d5": {
      "model_module": "jupyter-threejs",
      "model_module_version": "^2.1.0",
      "model_name": "LineSegments2Model",
      "state": {
       "_view_module": null,
       "_view_module_version": "",
       "geometry": "IPY_MODEL_b45085fa75854a0cad3bfea214ef6b4f",
       "material": "IPY_MODEL_8feba5a0b83f46209e620abcfab6f64d",
       "matrix": [
        1,
        0,
        0,
        0,
        0,
        1,
        0,
        0,
        0,
        0,
        1,
        0,
        0.9999999999999999,
        -0.75,
        2.125,
        1
       ],
       "morphTargetInfluences": [],
       "position": [
        0.9999999999999999,
        -0.75,
        2.125
       ],
       "visible": false
      }
     },
     "8e08517c1b3844e2ae9350c5d94b0d91": {
      "model_module": "jupyter-threejs",
      "model_module_version": "^2.1.0",
      "model_name": "DirectionalLightModel",
      "state": {
       "_view_module": null,
       "_view_module_version": "",
       "color": "white",
       "intensity": 0.12,
       "matrixWorldNeedsUpdate": true,
       "position": [
        -8.278436197374486,
        8.278436197374486,
        -8.278436197374486
       ],
       "shadow": "IPY_MODEL_ed98edb8-4ef8-4b0b-9906-ef00e7aa05d7",
       "target": "IPY_MODEL_2b9ee304-2574-4ae0-941c-033b7e900364"
      }
     },
     "8e154ba6546b48bf95d3fd0ee3f73239": {
      "model_module": "@jupyter-widgets/controls",
      "model_module_version": "1.5.0",
      "model_name": "DescriptionStyleModel",
      "state": {
       "description_width": ""
      }
     },
     "8e3e6831c3fc415693c80f518c7098f2": {
      "buffers": [
       {
        "data": "AADAPwAAAD+amRk/zcyMPwAAAD8AAIA/AADAPwAAwD+amRk/zcyMPwAAwD8AAIA/",
        "encoding": "base64",
        "path": [
         "array",
         "buffer"
        ]
       }
      ],
      "model_module": "jupyter-threejs",
      "model_module_version": "^2.1.0",
      "model_name": "BufferAttributeModel",
      "state": {
       "_view_module": null,
       "_view_module_version": "",
       "array": {
        "dtype": "float32",
        "shape": [
         4,
         3
        ]
       },
       "normalized": true,
       "version": 2
      }
     },
     "8e4611b498f9471898a5da4f3c41d997": {
      "model_module": "@jupyter-widgets/controls",
      "model_module_version": "1.5.0",
      "model_name": "HBoxModel",
      "state": {
       "children": [
        "IPY_MODEL_f00aa65190fc4dad981406e035168d0a",
        "IPY_MODEL_c7891a8194d24798a67a337ab1548521"
       ],
       "layout": "IPY_MODEL_778b808a89314cb4912c9a59acfb773c"
      }
     },
     "8e62478ba1f2478fa12c42be178d78d7": {
      "model_module": "@jupyter-widgets/controls",
      "model_module_version": "1.5.0",
      "model_name": "VBoxModel",
      "state": {
       "children": [
        "IPY_MODEL_9897d0a0750d42e3b5022cf1c0ec32ff",
        "IPY_MODEL_cdf452fd32994fdea8632205c1a6e96c",
        "IPY_MODEL_8377e8dc69c046cea83c1966439bfc02",
        "IPY_MODEL_98501779aa5a4270824e793b586551ed",
        "IPY_MODEL_1c58ef20fed44e59bee568077f0ecbc6",
        "IPY_MODEL_7ba2b86669fe44598620bd5926a521a3"
       ],
       "layout": "IPY_MODEL_028e8c0e52274c44a2a32d31ccc6b39d"
      }
     },
     "8e795e78599d43af9cff9ab485145052": {
      "model_module": "@jupyter-widgets/controls",
      "model_module_version": "1.5.0",
      "model_name": "HBoxModel",
      "state": {
       "children": [
        "IPY_MODEL_b02fbb3795ff4eeeab2c91d56bf53c7e",
        "IPY_MODEL_bb0689dd9ec3454289565bdc6e0e1a2a"
       ],
       "layout": "IPY_MODEL_9c026d6d9db04ce7b5d01274357d4be8"
      }
     },
     "8eaa3e4902b640bfa713d3bc346fbb7a": {
      "model_module": "jupyter-threejs",
      "model_module_version": "^2.1.0",
      "model_name": "LineMaterialModel",
      "state": {
       "_view_module": null,
       "_view_module_version": "",
       "color": "green",
       "linewidth": 3
      }
     },
     "8eaf945643594d1d824daba97687dd09": {
      "model_module": "jupyter_cadquery",
      "model_module_version": "^v1.0.0",
      "model_name": "ImageButtonModel",
      "state": {
       "_dom_classes": [
        "view_button"
       ],
       "_model_module_version": "^v1.0.0",
       "_view_module_version": "^v1.0.0",
       "height": "28",
       "layout": "IPY_MODEL_7ae954c884204d7e8738900900f7d0de",
       "style": "IPY_MODEL_a48a2a6e68b34e38a8d6a9333e4a204b",
       "tooltip": "Set clipping plane",
       "type": "2",
       "value": {},
       "width": "36"
      }
     },
     "8f4b37042cb24ea090024189811d25c9": {
      "model_module": "jupyter_cadquery",
      "model_module_version": "^v1.0.0",
      "model_name": "ImageButtonModel",
      "state": {
       "_dom_classes": [
        "view_button"
       ],
       "_model_module_version": "^v1.0.0",
       "_view_module_version": "^v1.0.0",
       "height": "28",
       "layout": "IPY_MODEL_065cfb8a2ca8408eb26482fec2a550d1",
       "style": "IPY_MODEL_047c55e14a1c49b780f1f196bb427198",
       "tooltip": "Set clipping plane",
       "type": "0",
       "value": {},
       "width": "36"
      }
     },
     "8f7cd852bdac4bbb8e918971e4609010": {
      "model_module": "jupyter-threejs",
      "model_module_version": "^2.1.0",
      "model_name": "LineSegments2Model",
      "state": {
       "_view_module": null,
       "_view_module_version": "",
       "geometry": "IPY_MODEL_b915eb202c1e47ba96366f995d9fe1ab",
       "material": "IPY_MODEL_5b7083ce97844fa0ab41e38743eb24b3",
       "morphTargetInfluences": [],
       "name": "edges_0"
      }
     },
     "8fac53a8-5bcd-47b1-8e0f-a1f19c66f80c": {
      "model_module": "jupyter-threejs",
      "model_module_version": "^2.1.0",
      "model_name": "Object3DModel",
      "state": {}
     },
     "8fbc5260-6af4-4d08-adef-00f253b5d1fa": {
      "model_module": "jupyter-threejs",
      "model_module_version": "^2.1.0",
      "model_name": "OrthographicCameraModel",
      "state": {
       "bottom": -5,
       "far": 500,
       "left": -5,
       "near": 0.5,
       "projectionMatrix": [
        0.2,
        0,
        0,
        0,
        0,
        0.2,
        0,
        0,
        0,
        0,
        -0.004004004004004004,
        0,
        0,
        0,
        -1.002002002002002,
        1
       ],
       "right": 5,
       "top": 5
      }
     },
     "8fd967c0-41e0-4208-ac6b-8044d93b40c1": {
      "model_module": "jupyter-threejs",
      "model_module_version": "^2.1.0",
      "model_name": "Object3DModel",
      "state": {}
     },
     "8feba5a0b83f46209e620abcfab6f64d": {
      "model_module": "jupyter-threejs",
      "model_module_version": "^2.1.0",
      "model_name": "LineMaterialModel",
      "state": {
       "_view_module": null,
       "_view_module_version": "",
       "color": "green",
       "linewidth": 3
      }
     },
     "902e90c4e34343efbf4cb341cca31cec": {
      "model_module": "jupyter_cadquery",
      "model_module_version": "^v1.0.0",
      "model_name": "ImageButtonModel",
      "state": {
       "_dom_classes": [
        "view_button"
       ],
       "_model_module_version": "^v1.0.0",
       "_view_module_version": "^v1.0.0",
       "height": "28",
       "layout": "IPY_MODEL_e77b47a3762a400a8da3149d4e6c8d8b",
       "style": "IPY_MODEL_73d939fe05cb480d8885d4e9aeedeb3d",
       "tooltip": "Set clipping plane",
       "type": "2",
       "value": {},
       "width": "36"
      }
     },
     "903155dabbee4e8c9cd9deb875a0c61d": {
      "model_module": "jupyter_cadquery",
      "model_module_version": "^v1.0.0",
      "model_name": "ImageButtonModel",
      "state": {
       "_dom_classes": [
        "view_button"
       ],
       "_model_module_version": "^v1.0.0",
       "_view_module_version": "^v1.0.0",
       "height": "28",
       "layout": "IPY_MODEL_6f443942bc2f4eec9457f45d80718e44",
       "style": "IPY_MODEL_30e2105753a0457f8a3eb8a52a20e5c6",
       "tooltip": "Set clipping plane",
       "type": "0",
       "value": {},
       "width": "36"
      }
     },
     "904119a9b8e04097af875a11999b386c": {
      "model_module": "jupyter-threejs",
      "model_module_version": "^2.1.0",
      "model_name": "LineMaterialModel",
      "state": {
       "_view_module": null,
       "_view_module_version": "",
       "color": "blue",
       "linewidth": 3
      }
     },
     "9060c266a83449249589912ab87bbe4f": {
      "model_module": "@jupyter-widgets/base",
      "model_module_version": "1.2.0",
      "model_name": "LayoutModel",
      "state": {
       "border": "solid 1px #ddd",
       "height": "216px",
       "overflow": "scroll",
       "width": "250px"
      }
     },
     "90714d85b9274b82b348dadd2caf3b00": {
      "model_module": "@jupyter-widgets/controls",
      "model_module_version": "1.5.0",
      "model_name": "CheckboxModel",
      "state": {
       "_dom_classes": [
        "view_grid"
       ],
       "description": "Grid",
       "disabled": false,
       "indent": false,
       "layout": "IPY_MODEL_c126964659c74bd692442566f1aa71f8",
       "style": "IPY_MODEL_1057dcb5bfd84cceb0b82fcbf74f1c53",
       "value": false
      }
     },
     "90c66c8acda8426b81f8803b75479e86": {
      "model_module": "jupyter_cadquery",
      "model_module_version": "^v1.0.0",
      "model_name": "ImageButtonModel",
      "state": {
       "_dom_classes": [
        "view_button"
       ],
       "_model_module_version": "^v1.0.0",
       "_view_module_version": "^v1.0.0",
       "height": "28",
       "layout": "IPY_MODEL_e20be47ebf9e48f4b88ab38dcdfbbc5f",
       "style": "IPY_MODEL_13dbfb05c99c4622802e66c72533369b",
       "tooltip": "Change view to top",
       "type": "top",
       "value": {},
       "width": "36"
      }
     },
     "90d3d664-9a20-40fb-a9d3-1ef85a9c5833": {
      "model_module": "jupyter-threejs",
      "model_module_version": "^2.1.0",
      "model_name": "DirectionalLightShadowModel",
      "state": {
       "camera": "IPY_MODEL_f7c4fd1d-1e95-42d4-9974-915ff6289ca3"
      }
     },
     "90ffdc922c7c420ab15161a43ea60af2": {
      "model_module": "@jupyter-widgets/controls",
      "model_module_version": "1.5.0",
      "model_name": "CheckboxModel",
      "state": {
       "_dom_classes": [
        "view_zero"
       ],
       "description": "@ 0",
       "disabled": false,
       "indent": false,
       "layout": "IPY_MODEL_00d0ade8bdc0499a8e2f8bd49ec15ff7",
       "style": "IPY_MODEL_4b159e3372fb4070bd83111f03f744f5",
       "value": false
      }
     },
     "9148d37593a44fe88fb12e983dde3fd1": {
      "model_module": "@jupyter-widgets/base",
      "model_module_version": "1.2.0",
      "model_name": "LayoutModel",
      "state": {}
     },
     "915022b3f55742bea7f0f5cc7b259372": {
      "model_module": "jupyter_cadquery",
      "model_module_version": "^v1.0.0",
      "model_name": "ImageButtonModel",
      "state": {
       "_dom_classes": [
        "view_button"
       ],
       "_model_module_version": "^v1.0.0",
       "_view_module_version": "^v1.0.0",
       "height": "28",
       "layout": "IPY_MODEL_e22567c5eb25418d97022f9018243889",
       "style": "IPY_MODEL_67c5ca77501a4dedb3f14e44c28049df",
       "tooltip": "Change view to rear",
       "type": "rear",
       "value": {},
       "width": "36"
      }
     },
     "9151bb1365af45e3adf25a6c4ca31c22": {
      "model_module": "@jupyter-widgets/controls",
      "model_module_version": "1.5.0",
      "model_name": "ButtonStyleModel",
      "state": {}
     },
     "916dfbc7ca664b7e80090d75a28ade58": {
      "model_module": "jupyter-threejs",
      "model_module_version": "^2.1.0",
      "model_name": "BufferGeometryModel",
      "state": {
       "_view_module": null,
       "_view_module_version": "",
       "attributes": {
        "index": "IPY_MODEL_47430fa402834d589fe726456c958688",
        "normal": "IPY_MODEL_d3c9bc8f9bd44caab9fe4f6a99783335",
        "position": "IPY_MODEL_59f3eba199bc48ad9037860907e97d30"
       }
      }
     },
     "9190cd7ee4874329bc3f89b1fbe141a6": {
      "model_module": "jupyter-threejs",
      "model_module_version": "^2.1.0",
      "model_name": "DirectionalLightModel",
      "state": {
       "_view_module": null,
       "_view_module_version": "",
       "color": "white",
       "intensity": 0.12,
       "matrixWorldNeedsUpdate": true,
       "position": [
        -3.334666769558863,
        -3.334666769558863,
        3.334666769558863
       ],
       "shadow": "IPY_MODEL_171eaf8d-8202-4eb8-8ca4-f9d5595edd09",
       "target": "IPY_MODEL_b358a8d9-ee02-4b31-9316-a45cd60f8650"
      }
     },
     "922ffa429760401285a36e72ae098939": {
      "model_module": "jupyter-threejs",
      "model_module_version": "^2.1.0",
      "model_name": "BufferGeometryModel",
      "state": {
       "_view_module": null,
       "_view_module_version": "",
       "attributes": {
        "index": "IPY_MODEL_d3f6cf6c9bfd4e4d81077e25c13893bb",
        "normal": "IPY_MODEL_14a2e89376cc4436b4b960d820a1d1af",
        "position": "IPY_MODEL_0266685fe1d74f6b98cc37fb3d532e62"
       }
      }
     },
     "92eb35545ff74e928fb803d6a5a40c58": {
      "model_module": "jupyter_cadquery",
      "model_module_version": "^v1.0.0",
      "model_name": "ImageButtonModel",
      "state": {
       "_dom_classes": [
        "view_button"
       ],
       "_model_module_version": "^v1.0.0",
       "_view_module_version": "^v1.0.0",
       "height": "28",
       "layout": "IPY_MODEL_244237891d68432b90d97fbf6a515dcb",
       "style": "IPY_MODEL_a762a3856f3f4f36bb56a864547c1f55",
       "tooltip": "Change view to top",
       "type": "top",
       "value": {},
       "width": "36"
      }
     },
     "9302341f64ba45a78e1f10ff2b3709c6": {
      "model_module": "jupyter_cadquery",
      "model_module_version": "^v1.0.0",
      "model_name": "ImageButtonModel",
      "state": {
       "_dom_classes": [
        "view_button"
       ],
       "_model_module_version": "^v1.0.0",
       "_view_module_version": "^v1.0.0",
       "height": "28",
       "layout": "IPY_MODEL_73be4378ee0c46b4942931dc1a0c1df7",
       "style": "IPY_MODEL_5ddc61ddbfbf409ebd7f3664fcf540e3",
       "tooltip": "Change view to top",
       "type": "top",
       "value": {},
       "width": "36"
      }
     },
     "93ade03ad01744d7bc4eb6e35ea5f8db": {
      "model_module": "jupyter-threejs",
      "model_module_version": "^2.1.0",
      "model_name": "PlaneModel",
      "state": {
       "_view_module": null,
       "_view_module_version": "",
       "constant": 6,
       "normal": [
        1,
        0,
        0
       ]
      }
     },
     "93bbb0960a54407187297d66656dfe5f": {
      "model_module": "@jupyter-widgets/controls",
      "model_module_version": "1.5.0",
      "model_name": "CheckboxModel",
      "state": {
       "_dom_classes": [
        "view_axes"
       ],
       "description": "Axes",
       "disabled": false,
       "indent": false,
       "layout": "IPY_MODEL_69fb78e93aae4b558f124d1a33faa2ee",
       "style": "IPY_MODEL_47640128f447441eb10522e4208c88dc",
       "value": false
      }
     },
     "9433bae7771c47759c41ff88e693a83f": {
      "model_module": "@jupyter-widgets/controls",
      "model_module_version": "1.5.0",
      "model_name": "FloatSliderModel",
      "state": {
       "continuous_update": false,
       "layout": "IPY_MODEL_bdf85f5512854dc4a764de271be0b0bb",
       "max": 6.420000131999999,
       "min": -6.955000143,
       "step": 0.01,
       "style": "IPY_MODEL_c5f210daef564eeebd4791f87f8d90bb",
       "value": 6.420000131999999
      }
     },
     "9494f4bc8736462e83a10db757923400": {
      "model_module": "@jupyter-widgets/controls",
      "model_module_version": "1.5.0",
      "model_name": "HBoxModel",
      "state": {
       "children": [
        "IPY_MODEL_8eaf945643594d1d824daba97687dd09",
        "IPY_MODEL_a6e6a494e09341d280443a6c9856601d"
       ],
       "layout": "IPY_MODEL_5a1c6c4bd0114889856bd70d52bb6b1e"
      }
     },
     "94d6fab5f49d426a846d701430995ed1": {
      "model_module": "jupyter_cadquery",
      "model_module_version": "^v1.0.0",
      "model_name": "TreeModel",
      "state": {
       "_dom_classes": [
        "view_tree",
        "scroll-area",
        "mac-scrollbar"
       ],
       "_model_module_version": "^v1.0.0",
       "_view_module_version": "^v1.0.0",
       "button_style": "",
       "icon": "",
       "icons": [
        {
         "0": "iVBORw0KGgoAAAANSUhEUgAAARgAAADcCAYAAACrgL6aAAAFCElEQVR4nO3dUXYbNwwFULQnC/PSvbPmo9Vxao9saUQOAfDeDUQE3jxTipVEAAAAAAAAAAAAAAAAAAAAAAAAAAAAAAAAAAAAAAAAAAAAAAAAAAAAAAAAAAAAAAAAAAAAAAAAAAAAAAAAAAAAAADU89fqF8Aab29v/1z9Z76/v8vbZiy8mRXFMZoi6sMiC+pQImcpn1osK7Gdi+RZiicnS0lCmYyndNazgIWUyrUUzvUM/EIKJQ9lcw1Dnkyp1KBw5jDUwRRKfcpmHIMcQKn0pWxeY3gnVS+VFQ9O9ZlFKJxnGdYTKj0gVR8EM+7FgB6QLfQ7B9suajGcO7IEWYB/Zld5GciBVYEV0HFWlo49fjCI/yiVvpTNOlsf/ubKAO4euCzs/BrbHjzimpDtHK4q5GCeLQ8tUNwjG2Ntc9CI+eHZKTg7mJmXXbKyxSEj5oVll6DsTn7OaX24iDnB6B4KvidTj2t5qAg/cZhLyTym3YEixi+/4+IZR97ua3OQm5HL7rRo5pO9r1oc4mbUgrssl+spmf8rf4AIxUJOchnx9+oX8CpLJKtRmcrybfEzSj9UIwavWLjCrlkt94JvXl1YxWVR244lU+rF3ryyqGoLoqddMlzuM5hdFkNvr2Sx0mcypR64s4NVLGTWOddlbjCdl8Dezma0wk2mRMEoF7rrWjLpCyb7AGG1zM/Ir9UvYAY3Fyq65TZzYTwr9Q3mzKCVC9WdyXDWUkr5MPrMBXo8B6lvMM/INFQYoUOm0xWMt0XwofrbpVQFo1zgq8olk6pggF7SFIzbC9xX9RaTpmCepVzYTcXMpyiYZ5u24qBhhGezv/oWk6JggJ7KFYzbC7ur9AwsL5jVVzjobuUztrxggL5KFUylqyHMVOVZKFUw3k7Bv6o8C6UKBqhlecFUuepBVSufseUF86wqV0OYpdIzUK5ggDpSFEy1X3+GVap9rSZFwZyhZNhNxcynKZiqX0eHK1T950zSFAzQT6qCcYuBr6reXiKSFUyEkoE/VS6XiIQFc5aSoZsOmU7TdEeqtzec1SX7qW8w3i6xoy7lEhHxa/ULmOG2oKxDhyMdfzimvsFEKAn4SeZnJH3BRJwfYMefCPTU4T+6P1KiYCKUDH11LZeI5H+LdOSVwqiwEPaxQ5bL3GBuXhms2wxZ7FAuEQVvMDcjyqLSoujh1dxWy2ypF/uZkqGKXbNa7gV/NuptT8Xlkd/u+Sz3Gcxnowbv8xlG271cIhrcYP40siQqL5W1FMuH8gf4TMmwiux91eIQn41+u9Nl2cwhb/e1OciRGZ+rdFo+5836zK5bvlod5oiSYTSZelzLQx3xE4dXyM85rQ93ZOZfR3cPy25m/+rCDnlpf8AjV/zOyw7h6Ug2xtrmoPcIFBFyMMt2Bz5y5W/x7hiyjOz8Gtse/LOVXxXYOYBXWbXf3Xe79eHvUTY9KJX1DOIbWb4AKbA/s6ucDONBWQJ8s3OQ7aIOg3lCtmB/p2rozbgXAzqp0oNwz4oHpPrclMpzDGuQ6g8O9ymV8wxuAmVTn1IZwxAnUzY1KJQ5DPViCicPpTKfAS+kbK6lUK5n4IkonPGUylqGn5zSeZwyycdCitq5eBRJHRbVUIfyUSI9WOLGVhSR4gAAAAAAAAAAAAAAAAAAAAAAAAAAAAAAAAAAAAAAAAAAAAAAAAAAAAAAAAAAAAAAAAAAAAAAAAAAAAAAAAAAAABgkN/fSHSu9KigrAAAAABJRU5ErkJggg==",
         "1": "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",
         "2": "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",
         "3": "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"
        },
        {
         "0": "iVBORw0KGgoAAAANSUhEUgAAARgAAADcCAYAAACrgL6aAAADU0lEQVR4nO3YUVFEMRBE0QEfqwoDSMMAqhCyKEh+YDbTqXMMZH7era5XBQAAAAAAAAAAAAAAAAAAAAAAAAAAAAAAAAAAAAAAAAAAAAAAAAAAAAAAAAAAAAAAAAAAAAAAwN+8nT7gv3x8/TxP3wCTfX8+Xv69v7/6QeD1TsSl6pLAWC8w0xWBAdZOrZeqCwJjvcBc8YEB1k6ul6rwwFgvMFt0YIC10+ulKjgw1gvMFxsYYG3CeqkKDYz1AhkiAwOsTVkvVYGBsV4gR1xggLVJ66UqLDDWC2SJCgywNm29VAUFxnqBPDGBAdYmrpeqkMBYL5ApIjDA2tT1UhUQGOsFco0PDLA2eb1UDQ+M9QLZRgcGWJu+XqoGB8Z6gXxjAwOsJayXqqGBsV7gDiMDA6ylrJeqgYGxXuAe4wIDrCWtl6phgbFe4C6jAgOspa2XqkGBsV7gPmMCA6wlrpeqIYGxXuBOIwIDrKWul6oBgbFe4F7HAwOsJa+XqsOBsV7gbhYMDJW+XqoOBsZ6gftZMEAbgQHaCAzQRmCANgIDtBEYoI3AAG0EBmgjMEAbgQHaCAzQRmCANgIDtBEYoI3AAG0EBmgjMEAbgQHaCAzQRmCANgIDtBEYoI3AAG0EBmgjMEAbgQHaCAzQRmCANgIDtBEYoI3AAG0EBmgjMEAbgQHaCAzQRmCANgIDtBEYoI3AAG0EBmhzLDDfn4+3U28Dr2HBwFAfXz/P0zf81dHAWDFwNwsGBktfMccDY8XAvY4HBthLXjEjAmPFwJ1GBAbYS10xYwJjxcB9xgQG2EtcMaMCY8XAXUYFBthLWzHjAmPFwD3GBQbYS1oxIwNjxcAdRgYG2EtZMWMDY8VAvrGBAfYSVszowFgxkG10YIC96StmfGCsGMg1PjDA3uQVExEYKwYyRQQG2Ju6YmICY8VAnpjAAHsTV0xUYKwYyBIVGGBv2oqJC4wVAzniAgPsTVoxkYGxYiBDZGCAvSkrJjYwVgzMFxsYYG/CiokOjBUDs0UHBtg7vWLiA2PFwFzxgQH2Tq6YKwJjxcBMVwQG2Dv9LwYAAAAAAAAAAAAAAAAAAAAAAAAAAAAAAAAAAAAAAAAAAAAAAAAAAAAAAAAAAAAAAAAAAAAA4Hq/ZAik8uNneKUAAAAASUVORK5CYII=",
         "1": "iVBORw0KGgoAAAANSUhEUgAAARgAAADcCAYAAACrgL6aAAAFFklEQVR4nO3bUWocSRAE0PTiG/hCuojBRzP4InMhn8H7tbCwsHRLyqrI6ve+BTMo3JGhsVQFAAAAAAAAAAAAAAAAAAAAAAAAAAAAAAAAAAAAAAAAAAAAAAAAAAAAAAAAAAAAAAAAAJzty+438FFvb29/dr8HmOT1ei177v9a9UIdlAvct/K5GVswygXeb9XzM7ZggHwjC8Z6gRlGFgwww7iCsV5gjnEFA3zcqv+qHlUw1gvMMqpggI9b+Yt2X1e90EfdWS/ffvzqfCtU1e+f3y9/rTz63cljpeMWjH/MWeSRZeV6qRpSMD57yZJ6LZ8qOY8RBXOVa5lFHllWr5eqAQVjvWRJvpZPlJ5HfMFc5VpmkUeWHeulKrxgrJcs6dfyaSbkEV0wV7mWWeSRZdd6qQouGOsly4Rr+SRT8ogtmKtcyyzyyLJzvVSFFoz1kmXKtXyKSXlEFsxVrmUWeWTZvV6qAgvGesky6Vo+wbQ84grmKtcyizyyJKyXqrCCsV6yTLuWp5uYR1TBXOVaZpFHlpT1UhVUMNZLlonX8mRT84gpmKtcyyzyyJK0XqpCCsZ6yTL1Wp5qch4RBXOVa5lFHlnS1ktVQMFYL1kmX8sTTc9je8Fc5VpmkUeWxPVStblgrJcs06/laU7IY8SCcS2zyCNL6nqp2lgw1kuWE67lSU7JI37BuJZZ5JEleb1UbSoY6yXLKdfyFCflEb1gXMss8siSvl6qNhSM9ZLlpGt5gtPyWN6ACgY+bsJ6qVq8YJQLPEv0ZzDAf01ZL1ULC8Z6geexYGCQSeulalHBWC/wTBYM0EbBAG0UDNBGwQBtFAzQ5uvuN/Bv/phujTt/7yKTNU77G6R/WDBAGwUDtFEwQBsFA7RRMEAbBQO0UTBAGwUDtFEwQBsFA7RRMEAbBQO0UTBAGwUDtFEwQBsFA7RRMEAbBQO0UTBAGwUDtFEwQBsFA7RRMEAbBQO0UTBAGwUDtFEwQBsFA7T5suJF3t7e/qx4HTjd6/Va8sx+FgsGaKNggDYKBmijYIA2CgZos6Rgpn3yDXwOCwYGmfYrH8sKxoqB57FgYJhJK2ZpwVgx8CzLH/g77fvtx6/Ot0JV/f75/fLXyqPfnTwmHOzlPyJN+KY8idLIcloe0Z/B3Glz+skjy4TPYrYUjBWT5bSrOd1JeUQvmCpXM408sqSvmG0FY8VkOelqnuCUPOIXTJWrmUYeWZJXzNaCsWKynHI1T3FCHiMWTJWrmUYeWVJXzPaCsWKynHA1TzI9j+0Fc4ermUUeWRJXTETBWDFZpl/N00zOI6Jg7nA1s8gjS9qKiSkYKybL5Kt5oql5xBTMHa5mFnlkSVoxUQVjxWSZejVPNTGPqIK5w9XMIo8sKSsmrmCsmCwTr+bJpuURVzB3uJpZ5JElYcVEFowVk2Xa1TzdpDwiC+YOVzOLPLLsXjGxBWPFZJl0NZ9gSh6xBXOHq5lFHll2rpjogrFisky5mk8xIY/ogrnD1cwijyy7Vkx8wVgxWSZczSdJzyO+YO5wNbPII8uOFTOiYKyYLOlX82mS8xhRMHe4mlnkkWX1ihm1DHb/0hCcYOVPBMctGOD/rTzUowrGZzEwy6iCAT7HqhUzrmCsGJhjXMEAc4wsGCsGZhhZMMAMYwvGioH3W/X8jC2YKiUD7+G5AQAAAAAAAAAAAAAAAAAAAAAAAAAAAAAAAAAAAAAAAAAAAAAAAAAAAAAAAAAAAAAAgAf6Gy0zeNBNTtmiAAAAAElFTkSuQmCC",
         "2": "iVBORw0KGgoAAAANSUhEUgAAARgAAADcCAYAAACrgL6aAAAElElEQVR4nO3dwW3kRhRF0S9DGcxauXQOWhtQaAJmPTkwF60nBnlRGNswBgap7s961X1OAiqIwuMVW4SqAAAAAAAAAAAAAAAAAAAAAAAAAAAAAAAAAAAAAAAAAAAAAAAAAAAAAAAAAAAAAAAAAID79jT7ANe6XC6fs8/waLZtW/7nhnP8MfsA1zAukG3ZgTEukG/ZgQHyPc8+wFeol/vx+v7hWp7kx9vL6c/OFAw8gBnjUrXgwKgXWMdyAwMcM6teqhYbGPUCa1lqYIBjZtZL1UKfIh2pl29v3zuPwvYy+wQs4u4KxrjAMLteqhYZGM9eYE1LDMxe6gWGhHqpWmBg1EuWn+9/zj4CC4kfmL3UCwwp9VIVPjDqJYt64ajogdlLvcCQVC9VwQOjXrKoF74idmD2Ui8wpNVLVejAqJcs6oWvihyYvdQLDIn1UhU4MOoli3rhGnEDs5d6gSG1XqrCBka9ZFEvXCtqYPZSLzAk10tV0MColyzqhVuIGZi91AsM6fVSFTIw6iWLeuFWIgZmL/UCwwr1UhUwMOoli3rhlqYPzF7qBYZV6qVq8sColyzqhVtbomDUCwwr1UvVxIFRL1nUCx3iC0a9ZHE95lmtXqomDYx6yaJe6BJdMO6WWVyPeVasl6oJA6NesqgXOj3PPsD/8cOfxfWYY9V6qTq5YNQLPJboZzDw6Faul6oTB0a9wONRMBBq9XqpOmlg1As8JgUDtDEwQBsDA7QxMEAbAwO0iXpVwMt05zjyJ/+/vSbbyw1Pwz1TMEAbAwO0MTBAGwMDtDEwQBsDA7QxMEAbAwO0MTBAGwMDtDEwQBsDA7QxMEAbAwO0MTBAGwMDtDEwQBsDA7QxMEAbAwO0MTBAGwMDtDEwQBsDA7QxMEAbAwO0MTBAGwMDtHmefYB/O/JP2TmHa8I1FAzQxsAAbQwM0MbAAG0MDNDmlIHZtu3pjK8DZFEwEOr1/eNz9hmuddrAqBh4PAoGgq1eMacOjIqBxxL1qsB/fXv7PvsId+/IqwB/X4/tpek0/M7r+8fnj7eXJW/Op/+KpGKyGHE6RT+D8aJdFtdjnlWfxUwZGBWTRcXQJbpgqtw107ge86xYMdMGRsVkUTF0iC+YKndN+GW1ipk6MComi4rh1pYomCoVA7+sVDHTB0bFZFEx3NL0gTlCxcCwSsVEDIyKyaJiuJWIgTlCxcCwQsXEDIyKyaJiuIWYgTlCxcCQXjFRA6NisqgYrhU1MEeoGBiSKyZuYFRMFhXDNeIG5ggVA0NqxUQOjIrJomL4qsiBOULFwJBYMbEDo2KyqBi+InZgjlAxMKRVTPTAqJgsKoajogfmCBUDQ1LFxA+MismiYjgifmCOUDEwpFTMEgOjYmBNSwzMESoGhoSKeZ59gL22bXu6XC67vmFGBjLcXcEA/5hdMUsNjGcxsJalBgY4bmbFLDcwKgbWsdzAAMfNqphla2DvJ0rcnopkLwUDtFl2YNxFId+yA1NlZAAAAAAAAAAAAAAAAAAAAAAAAAAAAAAAAAAAAAAAAAAAAAAAAAAAAAAAAAAAAAAAAABgl78AGhwmMlTVb/sAAAAASUVORK5CYII=",
         "3": "iVBORw0KGgoAAAANSUhEUgAAARgAAADcCAYAAACrgL6aAAADTElEQVR4nO3YwW3FMAxEQSZluP/a3EZSgXRJ+MUVZhoQL35YuAoAAAAAAAAAAAAAAAAAAAAAAAAAAAAAAAAAAAAAAAAAAAAAAAAAAAAAAAAAAAAAAAAAAAAAAIC/+Tp9wH953/fn9A0w2fM8H//evz/9IPB5J+JSdUlgrBeY6YrAAGun1kvVBYGxXmCu+MAAayfXS1V4YKwXmC06MMDa6fVSFRwY6wXmiw0MsDZhvVSFBsZ6gQyRgQHWpqyXqsDAWC+QIy4wwNqk9VIVFhjrBbJEBQZYm7ZeqoICY71AnpjAAGsT10tVSGCsF8gUERhgbep6qQoIjPUCucYHBlibvF6qhgfGeoFsowMDrE1fL1WDA2O9QL6xgQHWEtZL1dDAWC9wh5GBAdZS1kvVwMBYL3CPcYEB1pLWS9WwwFgvcJdRgQHW0tZL1aDAWC9wnzGBAdYS10vVkMBYL3CnEYEB1lLXS9WAwFgvcK/jgQHWktdL1eHAWC9wNwsGhkpfL1UHA2O9wP0sGKCNwABtBAZoIzBAG4EB2ggM0EZggDYCA7QRGKCNwABtBAZoIzBAG4EB2ggM0EZggDYCA7QRGKCNwABtBAZoIzBAG4EB2ggM0EZggDYCA7QRGKCNwABtBAZoIzBAG4EB2ggM0EZggDYCA7QRGKCNwABtBAZoIzBAG4EB2ggM0EZggDYCA7Q5Fpjneb5OvQ18hgUDQ73v+3P6hr86GhgrBu5mwcBg6SvmeGCsGLjX8cAAe8krZkRgrBi404jAAHupK2ZMYKwYuM+YwAB7iStmVGCsGLjLqMAAe2krZlxgrBi4x7jAAHtJK2ZkYKwYuMPIwAB7KStmbGCsGMg3NjDAXsKKGR0YKwayjQ4MsDd9xYwPjBUDucYHBtibvGIiAmPFQKaIwAB7U1dMTGCsGMgTExhgb+KKiQqMFQNZogID7E1bMXGBsWIgR1xggL1JKyYyMFYMZIgMDLA3ZcXEBsaKgfliAwPsTVgx0YGxYmC26MAAe6dXTHxgrBiYKz4wwN7JFXNFYKwYmOmKwAB7p//FAAAAAAAAAAAAAAAAAAAAAAAAAAAAAAAAAAAAAAAAAAAAAAAAAAAAAAAAAAAAAAAAAAAAAABc7xeH7KTyjFElFAAAAABJRU5ErkJggg=="
        }
       ],
       "layout": "IPY_MODEL_0065ab55efcd41f981ff9ed84cc0350d",
       "state": {
        "10": [
         1,
         1
        ],
        "11": [
         0,
         1
        ],
        "12": [
         1,
         1
        ],
        "9": [
         0,
         1
        ]
       },
       "style": "IPY_MODEL_66a5d2e2ab3b42bf85f88867a70037c5",
       "tooltip": "",
       "tree": {
        "children": [
         {
          "color": "rgb(232, 176, 36)",
          "id": 9,
          "name": "TOP",
          "type": "leaf"
         },
         {
          "color": "rgb(232, 176, 36)",
          "id": 10,
          "name": "TOP@faces@&gt;(1,0,1)",
          "type": "leaf"
         },
         {
          "color": "rgb(232, 176, 36)",
          "id": 11,
          "name": "THIRD",
          "type": "leaf"
         },
         {
          "color": "rgb(232, 176, 36)",
          "id": 12,
          "name": "THIRD@faces@&gt;Z",
          "type": "leaf"
         }
        ],
        "id": 13,
        "name": "Assembly",
        "type": "node"
       }
      }
     },
     "94e52342-62e4-486e-b56a-66ee6a7da2d9": {
      "model_module": "jupyter-threejs",
      "model_module_version": "^2.1.0",
      "model_name": "OrthographicCameraModel",
      "state": {
       "bottom": -5,
       "far": 500,
       "left": -5,
       "near": 0.5,
       "projectionMatrix": [
        0.2,
        0,
        0,
        0,
        0,
        0.2,
        0,
        0,
        0,
        0,
        -0.004004004004004004,
        0,
        0,
        0,
        -1.002002002002002,
        1
       ],
       "right": 5,
       "top": 5
      }
     },
     "95553e41805146c082c108c5612aafec": {
      "model_module": "@jupyter-widgets/controls",
      "model_module_version": "1.5.0",
      "model_name": "DescriptionStyleModel",
      "state": {
       "description_width": ""
      }
     },
     "95602957f4d44fd19cd2871bb2632793": {
      "model_module": "@jupyter-widgets/base",
      "model_module_version": "1.2.0",
      "model_name": "LayoutModel",
      "state": {}
     },
     "957b7c62897a45c5be2405cd65e29a79": {
      "buffers": [
       {
        "data": "AQAAAAAAAAACAAAAAQAAAAIAAAADAAAACAAAAAQAAAAFAAAACAAAAAYAAAAEAAAACAAAAAcAAAAGAAAADAAAAAoAAAAJAAAADAAAAAkAAAALAAAAEAAAAA0AAAAOAAAAEAAAAA8AAAANAAAAFQAAABIAAAARAAAAFQAAABEAAAATAAAAFQAAABMAAAAUAAAAFwAAABYAAAAYAAAAFwAAABgAAAAZAAAAGwAAABwAAAAaAAAAGwAAAB0AAAAcAAAA",
        "encoding": "base64",
        "path": [
         "array",
         "buffer"
        ]
       }
      ],
      "model_module": "jupyter-threejs",
      "model_module_version": "^2.1.0",
      "model_name": "BufferAttributeModel",
      "state": {
       "_view_module": null,
       "_view_module_version": "",
       "array": {
        "dtype": "uint32",
        "shape": [
         48
        ]
       },
       "normalized": true,
       "version": 2
      }
     },
     "960a0029-23fa-4c3c-bb99-1174f84f4ea2": {
      "model_module": "jupyter-threejs",
      "model_module_version": "^2.1.0",
      "model_name": "DirectionalLightShadowModel",
      "state": {
       "camera": "IPY_MODEL_f25563aa-632b-4ae3-a4dc-177b4641b967"
      }
     },
     "9631ed360d8b4c069b5e661878af982f": {
      "model_module": "@jupyter-widgets/base",
      "model_module_version": "1.2.0",
      "model_name": "LayoutModel",
      "state": {}
     },
     "9639b4a8cf86490b944544ebfba14e17": {
      "buffers": [
       {
        "data": "AQAAAAAAAAACAAAAAQAAAAIAAAADAAAACAAAAAQAAAAFAAAACAAAAAYAAAAEAAAACAAAAAcAAAAGAAAADAAAAAoAAAAJAAAADAAAAAkAAAALAAAAEAAAAA0AAAAOAAAAEAAAAA8AAAANAAAAFQAAABIAAAARAAAAFQAAABEAAAATAAAAFQAAABMAAAAUAAAAFwAAABYAAAAYAAAAFwAAABgAAAAZAAAAGwAAABwAAAAaAAAAGwAAAB0AAAAcAAAA",
        "encoding": "base64",
        "path": [
         "array",
         "buffer"
        ]
       }
      ],
      "model_module": "jupyter-threejs",
      "model_module_version": "^2.1.0",
      "model_name": "BufferAttributeModel",
      "state": {
       "_view_module": null,
       "_view_module_version": "",
       "array": {
        "dtype": "uint32",
        "shape": [
         48
        ]
       },
       "normalized": true,
       "version": 2
      }
     },
     "96982d00ab224a64a25b65f2e7186401": {
      "model_module": "@jupyter-widgets/base",
      "model_module_version": "1.2.0",
      "model_name": "LayoutModel",
      "state": {}
     },
     "969e6824263e4082ba04afd6f88034a9": {
      "buffers": [
       {
        "data": "MzNzPwAAQMAAAJBAMzNzP83MjL8AAJBAMzNzPwAAQMAAAGBAMzNzPwAAgL8AAGBAMzNzPwAAgL/NzIxAMzNzPwAAQMAAAJBAMzNzP83MjL8AAJBAZmaGPwAAQMAAAJBAZmaGP83MjL8AAJBAMzNzPwAAgL/NzIxAMzNzP83MjL8AAJBAZmaGPwAAgL/NzIxAZmaGP83MjL8AAJBAMzNzPwAAQMAAAGBAZmaGPwAAQMAAAGBAMzNzPwAAQMAAAJBAZmaGPwAAQMAAAJBAZmaGPwAAgL8AAGBAZmaGPwAAgL/NzIxAMzNzPwAAgL8AAGBAMzNzPwAAgL/NzIxAMzNzPwAAQMAAAGBAMzNzPwAAgL8AAGBAZmaGPwAAQMAAAGBAZmaGPwAAgL8AAGBAZmaGPwAAQMAAAJBAZmaGP83MjL8AAJBAZmaGPwAAQMAAAGBAZmaGPwAAgL8AAGBAZmaGPwAAgL/NzIxA",
        "encoding": "base64",
        "path": [
         "array",
         "buffer"
        ]
       }
      ],
      "model_module": "jupyter-threejs",
      "model_module_version": "^2.1.0",
      "model_name": "BufferAttributeModel",
      "state": {
       "_view_module": null,
       "_view_module_version": "",
       "array": {
        "dtype": "float32",
        "shape": [
         30,
         3
        ]
       },
       "normalized": true,
       "version": 2
      }
     },
     "96ebb76881964934ac72ca2c038bd3c5": {
      "model_module": "@jupyter-widgets/base",
      "model_module_version": "1.2.0",
      "model_name": "LayoutModel",
      "state": {}
     },
     "97107804cb4142fb97bb7a574c84f76f": {
      "model_module": "@jupyter-widgets/base",
      "model_module_version": "1.2.0",
      "model_name": "LayoutModel",
      "state": {}
     },
     "971a408a25cb49118f3b5ef044907938": {
      "model_module": "@jupyter-widgets/controls",
      "model_module_version": "1.5.0",
      "model_name": "CheckboxModel",
      "state": {
       "_dom_classes": [
        "view_axes"
       ],
       "description": "Axes",
       "disabled": false,
       "indent": false,
       "layout": "IPY_MODEL_49a7493f3a1f48cca72a5e8e7712bc12",
       "style": "IPY_MODEL_6cb91e70513f4091b6e1e1237c370892",
       "value": false
      }
     },
     "9740c5819eb34c78b88a6c4752fb869d": {
      "model_module": "@jupyter-widgets/base",
      "model_module_version": "1.2.0",
      "model_name": "LayoutModel",
      "state": {
       "margin": "0px 10px 0px 0px"
      }
     },
     "97f0e07311ea40e58f61fcad547431d1": {
      "model_module": "jupyter-threejs",
      "model_module_version": "^2.1.0",
      "model_name": "LineMaterialModel",
      "state": {
       "_view_module": null,
       "_view_module_version": "",
       "color": "#808080"
      }
     },
     "98007b801ec24fae87a86f8ac54ed966": {
      "buffers": [
       {
        "data": "AACAPwAAAAAAAACAAACAPwAAAAAAAACAAACAPwAAAAAAAACAAACAPwAAAAAAAACAAAAAgAAAgL8AAACAAAAAgAAAgL8AAACAAAAAgAAAgL8AAACAAAAAgAAAgL8AAACAAAAAgAAAgL8AAACA8wQ1PwAAAADzBDU/8wQ1PwAAAADzBDU/8wQ1PwAAAADzBDU/8wQ1PwAAAADzBDU/AAAAgAAAAIAAAIC/AAAAgAAAAIAAAIC/AAAAgAAAAIAAAIC/AAAAgAAAAIAAAIC/AAAAAAAAgD8AAAAAAAAAAAAAgD8AAAAAAAAAAAAAgD8AAAAAAAAAAAAAgD8AAAAAAAAAAAAAgD8AAAAAAAAAAAAAAAAAAIA/AAAAAAAAAAAAAIA/AAAAAAAAAAAAAIA/AAAAAAAAAAAAAIA/AACAvwAAAIAAAAAAAACAvwAAAIAAAAAAAACAvwAAAIAAAAAAAACAvwAAAIAAAAAA",
        "encoding": "base64",
        "path": [
         "array",
         "buffer"
        ]
       }
      ],
      "model_module": "jupyter-threejs",
      "model_module_version": "^2.1.0",
      "model_name": "BufferAttributeModel",
      "state": {
       "_view_module": null,
       "_view_module_version": "",
       "array": {
        "dtype": "float32",
        "shape": [
         30,
         3
        ]
       },
       "normalized": true,
       "version": 2
      }
     },
     "98501779aa5a4270824e793b586551ed": {
      "model_module": "@jupyter-widgets/controls",
      "model_module_version": "1.5.0",
      "model_name": "FloatSliderModel",
      "state": {
       "continuous_update": false,
       "layout": "IPY_MODEL_1c60bfe520ce444e8f0f1aa93399f9d3",
       "max": 2.520000132,
       "min": -2.730000143,
       "step": 0.01,
       "style": "IPY_MODEL_7cf0042733e94392b4915a20f199de4c",
       "value": 2.520000132
      }
     },
     "987b34990ef04668a34c3016db16caf3": {
      "model_module": "jupyter_cadquery",
      "model_module_version": "^v1.0.0",
      "model_name": "ImageButtonModel",
      "state": {
       "_dom_classes": [
        "view_button"
       ],
       "_model_module_version": "^v1.0.0",
       "_view_module_version": "^v1.0.0",
       "height": "28",
       "layout": "IPY_MODEL_bf85c3e504f04bb6b2a2426217093cf5",
       "style": "IPY_MODEL_c98916c5f5b04595ac592e6dafeca428",
       "tooltip": "Change view to left",
       "type": "left",
       "value": {},
       "width": "36"
      }
     },
     "988481f69c0844b7ba08cfcd745af344": {
      "model_module": "@jupyter-widgets/base",
      "model_module_version": "1.2.0",
      "model_name": "LayoutModel",
      "state": {}
     },
     "988aa82fd48148039faa7d4dc6d862ac": {
      "model_module": "@jupyter-widgets/base",
      "model_module_version": "1.2.0",
      "model_name": "LayoutModel",
      "state": {
       "margin": "0px 10px 0px 0px"
      }
     },
     "9897d0a0750d42e3b5022cf1c0ec32ff": {
      "model_module": "@jupyter-widgets/controls",
      "model_module_version": "1.5.0",
      "model_name": "HBoxModel",
      "state": {
       "children": [
        "IPY_MODEL_cb2d542e5e7c4ca595066aec568e46e9",
        "IPY_MODEL_d9044268ba5a47328852febc11b857ca"
       ],
       "layout": "IPY_MODEL_3f2752a3a33f49c490588a6ae6378b9a"
      }
     },
     "98e3ee96fa054d9095a1909694a1007d": {
      "model_module": "@jupyter-widgets/controls",
      "model_module_version": "1.5.0",
      "model_name": "DescriptionStyleModel",
      "state": {
       "description_width": ""
      }
     },
     "98f19c70-c7ec-4a33-be8b-453acf501db9": {
      "model_module": "jupyter-threejs",
      "model_module_version": "^2.1.0",
      "model_name": "Object3DModel",
      "state": {}
     },
     "99a1a032d53b42a5b1d32cb09ac35093": {
      "model_module": "@jupyter-widgets/base",
      "model_module_version": "1.2.0",
      "model_name": "LayoutModel",
      "state": {
       "height": "222px",
       "overflow_x": "scroll",
       "overflow_y": "scroll",
       "width": "250px"
      }
     },
     "99af370b633a486fae7199a6a3b1c55f": {
      "model_module": "@jupyter-widgets/base",
      "model_module_version": "1.2.0",
      "model_name": "LayoutModel",
      "state": {
       "margin": "0px 10px 0px 0px"
      }
     },
     "9aa6ae9f7a824671ba3ae706e96b1692": {
      "model_module": "@jupyter-widgets/base",
      "model_module_version": "1.2.0",
      "model_name": "LayoutModel",
      "state": {}
     },
     "9aaf6ad1fb2947dbbc737c1e568977ad": {
      "model_module": "@jupyter-widgets/controls",
      "model_module_version": "1.5.0",
      "model_name": "HBoxModel",
      "state": {
       "children": [
        "IPY_MODEL_e8c16db4a41747dbb2ebd381d204caba",
        "IPY_MODEL_b84bd5116f094d4fbad6aab0bfac8f7b",
        "IPY_MODEL_1910573c67f84ba7bee5905db12b68b6",
        "IPY_MODEL_1665749eaf0b4c9bb519c1264f8c6f58"
       ],
       "layout": "IPY_MODEL_97107804cb4142fb97bb7a574c84f76f"
      }
     },
     "9ad9a82a759343aa8269ce93d90deff1": {
      "model_module": "@jupyter-widgets/base",
      "model_module_version": "1.2.0",
      "model_name": "LayoutModel",
      "state": {}
     },
     "9b092ad1daf04dee8ef53e02e8b088ef": {
      "model_module": "jupyter-threejs",
      "model_module_version": "^2.1.0",
      "model_name": "ShaderMaterialModel",
      "state": {
       "_view_module": null,
       "_view_module_version": "",
       "clipping": true,
       "fragmentShader": "\n        uniform float alpha;\n        #define PHYSICAL\nuniform vec3 diffuse;\nuniform vec3 emissive;\nuniform float roughness;\nuniform float metalness;\nuniform float opacity;\n#ifndef STANDARD\n\tuniform float clearCoat;\n\tuniform float clearCoatRoughness;\n#endif\nvarying vec3 vViewPosition;\n#ifndef FLAT_SHADED\n\tvarying vec3 vNormal;\n#endif\n#include <common>\n#include <packing>\n#include <dithering_pars_fragment>\n#include <color_pars_fragment>\n#include <uv_pars_fragment>\n#include <uv2_pars_fragment>\n#include <map_pars_fragment>\n#include <alphamap_pars_fragment>\n#include <aomap_pars_fragment>\n#include <lightmap_pars_fragment>\n#include <emissivemap_pars_fragment>\n#include <bsdfs>\n#include <cube_uv_reflection_fragment>\n#include <envmap_pars_fragment>\n#include <envmap_physical_pars_fragment>\n#include <fog_pars_fragment>\n#include <lights_pars_begin>\n#include <lights_physical_pars_fragment>\n#include <shadowmap_pars_fragment>\n#include <bumpmap_pars_fragment>\n#include <normalmap_pars_fragment>\n#include <roughnessmap_pars_fragment>\n#include <metalnessmap_pars_fragment>\n#include <logdepthbuf_pars_fragment>\n#include <clipping_planes_pars_fragment>\nvoid main() {\n\t#include <clipping_planes_fragment>\n\tvec4 diffuseColor = vec4( diffuse, opacity );\n\tReflectedLight reflectedLight = ReflectedLight( vec3( 0.0 ), vec3( 0.0 ), vec3( 0.0 ), vec3( 0.0 ) );\n\tvec3 totalEmissiveRadiance = emissive;\n\t#include <logdepthbuf_fragment>\n\t#include <map_fragment>\n\t#include <color_fragment>\n\t#include <alphamap_fragment>\n\t#include <alphatest_fragment>\n\t#include <roughnessmap_fragment>\n\t#include <metalnessmap_fragment>\n\t#include <normal_fragment_begin>\n\t#include <normal_fragment_maps>\n\t#include <emissivemap_fragment>\n\t#include <lights_physical_fragment>\n\t#include <lights_fragment_begin>\n\t#include <lights_fragment_maps>\n\t#include <lights_fragment_end>\n\t#include <aomap_fragment>\n\tvec3 outgoingLight = reflectedLight.directDiffuse + reflectedLight.indirectDiffuse + reflectedLight.directSpecular + reflectedLight.indirectSpecular + totalEmissiveRadiance;\n\t\n            if ( gl_FrontFacing ) {\n                gl_FragColor = vec4( outgoingLight, alpha * diffuseColor.a );\n            } else {\n                gl_FragColor = vec4( diffuseColor.r, diffuseColor.g, diffuseColor.b, alpha * diffuseColor.a );\n            }\n\t#include <tonemapping_fragment>\n\t#include <encodings_fragment>\n\t#include <fog_fragment>\n\t#include <premultiplied_alpha_fragment>\n\t#include <dithering_fragment>\n}\n",
       "lights": true,
       "polygonOffset": true,
       "polygonOffsetFactor": 1,
       "polygonOffsetUnits": 1,
       "side": "DoubleSide",
       "uniforms": {
        "alpha": {
         "value": 0.7
        },
        "alphaMap": {
         "value": null
        },
        "ambientLightColor": {
         "value": [
          1,
          1,
          1
         ]
        },
        "aoMap": {
         "value": null
        },
        "aoMapIntensity": {
         "value": 1
        },
        "bumpMap": {
         "value": null
        },
        "bumpScale": {
         "value": 1
        },
        "diffuse": {
         "type": "c",
         "value": "#0000ff"
        },
        "directionalLights": {
         "value": [
          {
           "color": 1973790,
           "direction": {
            "x": -2.989348615883112e-17,
            "y": 2.4777145706089543e-16,
            "z": -1
           },
           "shadow": false,
           "shadowBias": 0,
           "shadowMapSize": {
            "x": 0,
            "y": 0
           },
           "shadowRadius": 1
          },
          {
           "color": 1973790,
           "direction": {
            "x": -9.399224237161659e-17,
            "y": 0.9428090415820635,
            "z": -0.3333333333333332
           },
           "shadow": false,
           "shadowBias": 0,
           "shadowMapSize": {
            "x": 0,
            "y": 0
           },
           "shadowRadius": 1
          },
          {
           "color": 1973790,
           "direction": {
            "x": 0.8164965809277259,
            "y": -0.4714045207910316,
            "z": -0.3333333333333333
           },
           "shadow": false,
           "shadowBias": 0,
           "shadowMapSize": {
            "x": 0,
            "y": 0
           },
           "shadowRadius": 1
          },
          {
           "color": 1973790,
           "direction": {
            "x": 0.8164965809277259,
            "y": 0.4714045207910316,
            "z": 0.3333333333333333
           },
           "shadow": false,
           "shadowBias": 0,
           "shadowMapSize": {
            "x": 0,
            "y": 0
           },
           "shadowRadius": 1
          },
          {
           "color": 1973790,
           "direction": {
            "x": -0.8164965809277259,
            "y": -0.4714045207910316,
            "z": -0.3333333333333333
           },
           "shadow": false,
           "shadowBias": 0,
           "shadowMapSize": {
            "x": 0,
            "y": 0
           },
           "shadowRadius": 1
          },
          {
           "color": 1973790,
           "direction": {
            "x": -0.8164965809277259,
            "y": 0.4714045207910316,
            "z": 0.3333333333333333
           },
           "shadow": false,
           "shadowBias": 0,
           "shadowMapSize": {
            "x": 0,
            "y": 0
           },
           "shadowRadius": 1
          },
          {
           "color": 1973790,
           "direction": {
            "x": 9.399224237161659e-17,
            "y": -0.9428090415820635,
            "z": 0.3333333333333332
           },
           "shadow": false,
           "shadowBias": 0,
           "shadowMapSize": {
            "x": 0,
            "y": 0
           },
           "shadowRadius": 1
          },
          {
           "color": 1973790,
           "direction": {
            "x": 2.989348615883112e-17,
            "y": -2.4777145706089543e-16,
            "z": 1
           },
           "shadow": false,
           "shadowBias": 0,
           "shadowMapSize": {
            "x": 0,
            "y": 0
           },
           "shadowRadius": 1
          }
         ]
        },
        "directionalShadowMap": {
         "value": [
          null,
          null,
          null,
          null,
          null,
          null,
          null,
          null
         ]
        },
        "directionalShadowMatrix": {
         "value": [
          {
           "elements": [
            1,
            0,
            0,
            0,
            0,
            1,
            0,
            0,
            0,
            0,
            1,
            0,
            0,
            0,
            0,
            1
           ]
          },
          {
           "elements": [
            1,
            0,
            0,
            0,
            0,
            1,
            0,
            0,
            0,
            0,
            1,
            0,
            0,
            0,
            0,
            1
           ]
          },
          {
           "elements": [
            1,
            0,
            0,
            0,
            0,
            1,
            0,
            0,
            0,
            0,
            1,
            0,
            0,
            0,
            0,
            1
           ]
          },
          {
           "elements": [
            1,
            0,
            0,
            0,
            0,
            1,
            0,
            0,
            0,
            0,
            1,
            0,
            0,
            0,
            0,
            1
           ]
          },
          {
           "elements": [
            1,
            0,
            0,
            0,
            0,
            1,
            0,
            0,
            0,
            0,
            1,
            0,
            0,
            0,
            0,
            1
           ]
          },
          {
           "elements": [
            1,
            0,
            0,
            0,
            0,
            1,
            0,
            0,
            0,
            0,
            1,
            0,
            0,
            0,
            0,
            1
           ]
          },
          {
           "elements": [
            1,
            0,
            0,
            0,
            0,
            1,
            0,
            0,
            0,
            0,
            1,
            0,
            0,
            0,
            0,
            1
           ]
          },
          {
           "elements": [
            1,
            0,
            0,
            0,
            0,
            1,
            0,
            0,
            0,
            0,
            1,
            0,
            0,
            0,
            0,
            1
           ]
          }
         ]
        },
        "displacementBias": {
         "value": 0
        },
        "displacementMap": {
         "value": null
        },
        "displacementScale": {
         "value": 1
        },
        "emissive": {
         "type": "c",
         "value": "#000000"
        },
        "emissiveMap": {
         "value": null
        },
        "envMap": {
         "value": null
        },
        "envMapIntensity": {
         "value": 1
        },
        "flipEnvMap": {
         "value": -1
        },
        "fogColor": {
         "type": "c",
         "value": "#ffffff"
        },
        "fogDensity": {
         "value": 0.00025
        },
        "fogFar": {
         "value": 2000
        },
        "fogNear": {
         "value": 1
        },
        "hemisphereLights": {
         "value": []
        },
        "lightMap": {
         "value": null
        },
        "lightMapIntensity": {
         "value": 1
        },
        "map": {
         "value": null
        },
        "maxMipLevel": {
         "value": 0
        },
        "metalness": {
         "value": 0.3
        },
        "metalnessMap": {
         "value": null
        },
        "normalMap": {
         "value": null
        },
        "normalScale": {
         "type": "v2",
         "value": [
          1,
          1
         ]
        },
        "opacity": {
         "value": 1
        },
        "pointLights": {
         "value": []
        },
        "pointShadowMap": {
         "value": []
        },
        "pointShadowMatrix": {
         "value": []
        },
        "rectAreaLights": {
         "value": []
        },
        "reflectivity": {
         "value": 1
        },
        "refractionRatio": {
         "value": 0.98
        },
        "roughness": {
         "value": 0.8
        },
        "roughnessMap": {
         "value": null
        },
        "spotLights": {
         "value": []
        },
        "spotShadowMap": {
         "value": []
        },
        "spotShadowMatrix": {
         "value": []
        },
        "uvTransform": {
         "type": "m3",
         "value": [
          1,
          0,
          0,
          0,
          1,
          0,
          0,
          0,
          1
         ]
        }
       },
       "vertexShader": "#define PHYSICAL\nvarying vec3 vViewPosition;\n#ifndef FLAT_SHADED\n\tvarying vec3 vNormal;\n#endif\n#include <common>\n#include <uv_pars_vertex>\n#include <uv2_pars_vertex>\n#include <displacementmap_pars_vertex>\n#include <color_pars_vertex>\n#include <fog_pars_vertex>\n#include <morphtarget_pars_vertex>\n#include <skinning_pars_vertex>\n#include <shadowmap_pars_vertex>\n#include <logdepthbuf_pars_vertex>\n#include <clipping_planes_pars_vertex>\nvoid main() {\n\t#include <uv_vertex>\n\t#include <uv2_vertex>\n\t#include <color_vertex>\n\t#include <beginnormal_vertex>\n\t#include <morphnormal_vertex>\n\t#include <skinbase_vertex>\n\t#include <skinnormal_vertex>\n\t#include <defaultnormal_vertex>\n#ifndef FLAT_SHADED\n\tvNormal = normalize( transformedNormal );\n#endif\n\t#include <begin_vertex>\n\t#include <morphtarget_vertex>\n\t#include <skinning_vertex>\n\t#include <displacementmap_vertex>\n\t#include <project_vertex>\n\t#include <logdepthbuf_vertex>\n\t#include <clipping_planes_vertex>\n\tvViewPosition = - mvPosition.xyz;\n\t#include <worldpos_vertex>\n\t#include <shadowmap_vertex>\n\t#include <fog_vertex>\n}\n"
      }
     },
     "9b0ad7d4656b47b88fee46ad6e0a11e7": {
      "model_module": "@jupyter-widgets/base",
      "model_module_version": "1.2.0",
      "model_name": "LayoutModel",
      "state": {
       "height": "380px",
       "width": "250px"
      }
     },
     "9b0f208543f64a5ba830ba1e7cb9b7e8": {
      "model_module": "jupyter-threejs",
      "model_module_version": "^2.1.0",
      "model_name": "RendererModel",
      "state": {
       "_antialias": true,
       "_dom_classes": [
        "view_renderer"
       ],
       "_height": 600,
       "_webgl_version": 2,
       "_width": 800,
       "camera": "IPY_MODEL_5ea18e74eff346a49e0d167593984bcb",
       "clippingPlanes": [
        "IPY_MODEL_a88de63dd3894246b0c98f767f23cd58",
        "IPY_MODEL_1a99883037784b628da0009e92632225",
        "IPY_MODEL_9e8db66a012c49478a9162b613772c65"
       ],
       "controls": [
        "IPY_MODEL_aec47ffa2f7c46b1be0d26218488f97f",
        "IPY_MODEL_79d13bafada0441786c65b7c51260a8c"
       ],
       "layout": "IPY_MODEL_fc2ca54e7e2e457f9e704033b9214aaf",
       "localClippingEnabled": true,
       "scene": "IPY_MODEL_bcb19e25deba4342845eae8984f267b1",
       "shadowMap": "IPY_MODEL_414197b1f6da44f7bb3077e96c8c9b52"
      }
     },
     "9b2a8aa6a6604434baf03f458d2513f3": {
      "model_module": "jupyter_cadquery",
      "model_module_version": "^v1.0.0",
      "model_name": "ImageButtonModel",
      "state": {
       "_dom_classes": [
        "view_button"
       ],
       "_model_module_version": "^v1.0.0",
       "_view_module_version": "^v1.0.0",
       "height": "28",
       "layout": "IPY_MODEL_cadc2c9ff9a54606a47e495d6a5ace3b",
       "style": "IPY_MODEL_2373ea4fa37347d387c0564002badbe5",
       "tooltip": "Change view to left",
       "type": "left",
       "value": {},
       "width": "36"
      }
     },
     "9b39a130915e45bfac99162ee90b8ff2": {
      "model_module": "jupyter-threejs",
      "model_module_version": "^2.1.0",
      "model_name": "ShaderMaterialModel",
      "state": {
       "_view_module": null,
       "_view_module_version": "",
       "clipping": true,
       "fragmentShader": "\n        uniform float alpha;\n        #define PHYSICAL\nuniform vec3 diffuse;\nuniform vec3 emissive;\nuniform float roughness;\nuniform float metalness;\nuniform float opacity;\n#ifndef STANDARD\n\tuniform float clearCoat;\n\tuniform float clearCoatRoughness;\n#endif\nvarying vec3 vViewPosition;\n#ifndef FLAT_SHADED\n\tvarying vec3 vNormal;\n#endif\n#include <common>\n#include <packing>\n#include <dithering_pars_fragment>\n#include <color_pars_fragment>\n#include <uv_pars_fragment>\n#include <uv2_pars_fragment>\n#include <map_pars_fragment>\n#include <alphamap_pars_fragment>\n#include <aomap_pars_fragment>\n#include <lightmap_pars_fragment>\n#include <emissivemap_pars_fragment>\n#include <bsdfs>\n#include <cube_uv_reflection_fragment>\n#include <envmap_pars_fragment>\n#include <envmap_physical_pars_fragment>\n#include <fog_pars_fragment>\n#include <lights_pars_begin>\n#include <lights_physical_pars_fragment>\n#include <shadowmap_pars_fragment>\n#include <bumpmap_pars_fragment>\n#include <normalmap_pars_fragment>\n#include <roughnessmap_pars_fragment>\n#include <metalnessmap_pars_fragment>\n#include <logdepthbuf_pars_fragment>\n#include <clipping_planes_pars_fragment>\nvoid main() {\n\t#include <clipping_planes_fragment>\n\tvec4 diffuseColor = vec4( diffuse, opacity );\n\tReflectedLight reflectedLight = ReflectedLight( vec3( 0.0 ), vec3( 0.0 ), vec3( 0.0 ), vec3( 0.0 ) );\n\tvec3 totalEmissiveRadiance = emissive;\n\t#include <logdepthbuf_fragment>\n\t#include <map_fragment>\n\t#include <color_fragment>\n\t#include <alphamap_fragment>\n\t#include <alphatest_fragment>\n\t#include <roughnessmap_fragment>\n\t#include <metalnessmap_fragment>\n\t#include <normal_fragment_begin>\n\t#include <normal_fragment_maps>\n\t#include <emissivemap_fragment>\n\t#include <lights_physical_fragment>\n\t#include <lights_fragment_begin>\n\t#include <lights_fragment_maps>\n\t#include <lights_fragment_end>\n\t#include <aomap_fragment>\n\tvec3 outgoingLight = reflectedLight.directDiffuse + reflectedLight.indirectDiffuse + reflectedLight.directSpecular + reflectedLight.indirectSpecular + totalEmissiveRadiance;\n\t\n            if ( gl_FrontFacing ) {\n                gl_FragColor = vec4( outgoingLight, alpha * diffuseColor.a );\n            } else {\n                gl_FragColor = vec4( diffuseColor.r, diffuseColor.g, diffuseColor.b, alpha * diffuseColor.a );\n            }\n\t#include <tonemapping_fragment>\n\t#include <encodings_fragment>\n\t#include <fog_fragment>\n\t#include <premultiplied_alpha_fragment>\n\t#include <dithering_fragment>\n}\n",
       "lights": true,
       "polygonOffset": true,
       "polygonOffsetFactor": 1,
       "polygonOffsetUnits": 1,
       "side": "DoubleSide",
       "uniforms": {
        "alpha": {
         "value": 0.7
        },
        "alphaMap": {
         "value": null
        },
        "ambientLightColor": {
         "value": [
          1,
          1,
          1
         ]
        },
        "aoMap": {
         "value": null
        },
        "aoMapIntensity": {
         "value": 1
        },
        "bumpMap": {
         "value": null
        },
        "bumpScale": {
         "value": 1
        },
        "diffuse": {
         "type": "c",
         "value": "#ffa500"
        },
        "directionalLights": {
         "value": [
          {
           "color": 1973790,
           "direction": {
            "x": -2.989348615883112e-17,
            "y": 2.4777145706089543e-16,
            "z": -1
           },
           "shadow": false,
           "shadowBias": 0,
           "shadowMapSize": {
            "x": 0,
            "y": 0
           },
           "shadowRadius": 1
          },
          {
           "color": 1973790,
           "direction": {
            "x": -9.399224237161659e-17,
            "y": 0.9428090415820635,
            "z": -0.3333333333333332
           },
           "shadow": false,
           "shadowBias": 0,
           "shadowMapSize": {
            "x": 0,
            "y": 0
           },
           "shadowRadius": 1
          },
          {
           "color": 1973790,
           "direction": {
            "x": 0.8164965809277259,
            "y": -0.4714045207910316,
            "z": -0.3333333333333333
           },
           "shadow": false,
           "shadowBias": 0,
           "shadowMapSize": {
            "x": 0,
            "y": 0
           },
           "shadowRadius": 1
          },
          {
           "color": 1973790,
           "direction": {
            "x": 0.8164965809277259,
            "y": 0.4714045207910316,
            "z": 0.3333333333333333
           },
           "shadow": false,
           "shadowBias": 0,
           "shadowMapSize": {
            "x": 0,
            "y": 0
           },
           "shadowRadius": 1
          },
          {
           "color": 1973790,
           "direction": {
            "x": -0.8164965809277259,
            "y": -0.4714045207910316,
            "z": -0.3333333333333333
           },
           "shadow": false,
           "shadowBias": 0,
           "shadowMapSize": {
            "x": 0,
            "y": 0
           },
           "shadowRadius": 1
          },
          {
           "color": 1973790,
           "direction": {
            "x": -0.8164965809277259,
            "y": 0.4714045207910316,
            "z": 0.3333333333333333
           },
           "shadow": false,
           "shadowBias": 0,
           "shadowMapSize": {
            "x": 0,
            "y": 0
           },
           "shadowRadius": 1
          },
          {
           "color": 1973790,
           "direction": {
            "x": 9.399224237161659e-17,
            "y": -0.9428090415820635,
            "z": 0.3333333333333332
           },
           "shadow": false,
           "shadowBias": 0,
           "shadowMapSize": {
            "x": 0,
            "y": 0
           },
           "shadowRadius": 1
          },
          {
           "color": 1973790,
           "direction": {
            "x": 2.989348615883112e-17,
            "y": -2.4777145706089543e-16,
            "z": 1
           },
           "shadow": false,
           "shadowBias": 0,
           "shadowMapSize": {
            "x": 0,
            "y": 0
           },
           "shadowRadius": 1
          }
         ]
        },
        "directionalShadowMap": {
         "value": [
          null,
          null,
          null,
          null,
          null,
          null,
          null,
          null
         ]
        },
        "directionalShadowMatrix": {
         "value": [
          {
           "elements": [
            1,
            0,
            0,
            0,
            0,
            1,
            0,
            0,
            0,
            0,
            1,
            0,
            0,
            0,
            0,
            1
           ]
          },
          {
           "elements": [
            1,
            0,
            0,
            0,
            0,
            1,
            0,
            0,
            0,
            0,
            1,
            0,
            0,
            0,
            0,
            1
           ]
          },
          {
           "elements": [
            1,
            0,
            0,
            0,
            0,
            1,
            0,
            0,
            0,
            0,
            1,
            0,
            0,
            0,
            0,
            1
           ]
          },
          {
           "elements": [
            1,
            0,
            0,
            0,
            0,
            1,
            0,
            0,
            0,
            0,
            1,
            0,
            0,
            0,
            0,
            1
           ]
          },
          {
           "elements": [
            1,
            0,
            0,
            0,
            0,
            1,
            0,
            0,
            0,
            0,
            1,
            0,
            0,
            0,
            0,
            1
           ]
          },
          {
           "elements": [
            1,
            0,
            0,
            0,
            0,
            1,
            0,
            0,
            0,
            0,
            1,
            0,
            0,
            0,
            0,
            1
           ]
          },
          {
           "elements": [
            1,
            0,
            0,
            0,
            0,
            1,
            0,
            0,
            0,
            0,
            1,
            0,
            0,
            0,
            0,
            1
           ]
          },
          {
           "elements": [
            1,
            0,
            0,
            0,
            0,
            1,
            0,
            0,
            0,
            0,
            1,
            0,
            0,
            0,
            0,
            1
           ]
          }
         ]
        },
        "displacementBias": {
         "value": 0
        },
        "displacementMap": {
         "value": null
        },
        "displacementScale": {
         "value": 1
        },
        "emissive": {
         "type": "c",
         "value": "#000000"
        },
        "emissiveMap": {
         "value": null
        },
        "envMap": {
         "value": null
        },
        "envMapIntensity": {
         "value": 1
        },
        "flipEnvMap": {
         "value": -1
        },
        "fogColor": {
         "type": "c",
         "value": "#ffffff"
        },
        "fogDensity": {
         "value": 0.00025
        },
        "fogFar": {
         "value": 2000
        },
        "fogNear": {
         "value": 1
        },
        "hemisphereLights": {
         "value": []
        },
        "lightMap": {
         "value": null
        },
        "lightMapIntensity": {
         "value": 1
        },
        "map": {
         "value": null
        },
        "maxMipLevel": {
         "value": 0
        },
        "metalness": {
         "value": 0.3
        },
        "metalnessMap": {
         "value": null
        },
        "normalMap": {
         "value": null
        },
        "normalScale": {
         "type": "v2",
         "value": [
          1,
          1
         ]
        },
        "opacity": {
         "value": 1
        },
        "pointLights": {
         "value": []
        },
        "pointShadowMap": {
         "value": []
        },
        "pointShadowMatrix": {
         "value": []
        },
        "rectAreaLights": {
         "value": []
        },
        "reflectivity": {
         "value": 1
        },
        "refractionRatio": {
         "value": 0.98
        },
        "roughness": {
         "value": 0.8
        },
        "roughnessMap": {
         "value": null
        },
        "spotLights": {
         "value": []
        },
        "spotShadowMap": {
         "value": []
        },
        "spotShadowMatrix": {
         "value": []
        },
        "uvTransform": {
         "type": "m3",
         "value": [
          1,
          0,
          0,
          0,
          1,
          0,
          0,
          0,
          1
         ]
        }
       },
       "vertexShader": "#define PHYSICAL\nvarying vec3 vViewPosition;\n#ifndef FLAT_SHADED\n\tvarying vec3 vNormal;\n#endif\n#include <common>\n#include <uv_pars_vertex>\n#include <uv2_pars_vertex>\n#include <displacementmap_pars_vertex>\n#include <color_pars_vertex>\n#include <fog_pars_vertex>\n#include <morphtarget_pars_vertex>\n#include <skinning_pars_vertex>\n#include <shadowmap_pars_vertex>\n#include <logdepthbuf_pars_vertex>\n#include <clipping_planes_pars_vertex>\nvoid main() {\n\t#include <uv_vertex>\n\t#include <uv2_vertex>\n\t#include <color_vertex>\n\t#include <beginnormal_vertex>\n\t#include <morphnormal_vertex>\n\t#include <skinbase_vertex>\n\t#include <skinnormal_vertex>\n\t#include <defaultnormal_vertex>\n#ifndef FLAT_SHADED\n\tvNormal = normalize( transformedNormal );\n#endif\n\t#include <begin_vertex>\n\t#include <morphtarget_vertex>\n\t#include <skinning_vertex>\n\t#include <displacementmap_vertex>\n\t#include <project_vertex>\n\t#include <logdepthbuf_vertex>\n\t#include <clipping_planes_vertex>\n\tvViewPosition = - mvPosition.xyz;\n\t#include <worldpos_vertex>\n\t#include <shadowmap_vertex>\n\t#include <fog_vertex>\n}\n"
      }
     },
     "9be4e591-f5ff-4a4b-a72a-fbcfd8ed9ffd": {
      "model_module": "jupyter-threejs",
      "model_module_version": "^2.1.0",
      "model_name": "Object3DModel",
      "state": {}
     },
     "9c026d6d9db04ce7b5d01274357d4be8": {
      "model_module": "@jupyter-widgets/base",
      "model_module_version": "1.2.0",
      "model_name": "LayoutModel",
      "state": {}
     },
     "9c489b3fadb54e0984ae42bc600f9078": {
      "model_module": "@jupyter-widgets/base",
      "model_module_version": "1.2.0",
      "model_name": "LayoutModel",
      "state": {}
     },
     "9c9af60de94b4e388e3691ffaa3a3351": {
      "model_module": "@jupyter-widgets/base",
      "model_module_version": "1.2.0",
      "model_name": "LayoutModel",
      "state": {}
     },
     "9ca5112061a84e66a270fb5cf9115db0": {
      "model_module": "jupyter_cadquery",
      "model_module_version": "^v1.0.0",
      "model_name": "ImageButtonModel",
      "state": {
       "_dom_classes": [
        "view_button"
       ],
       "_model_module_version": "^v1.0.0",
       "_view_module_version": "^v1.0.0",
       "height": "28",
       "layout": "IPY_MODEL_f1aab695feb44a43a4f923165f820327",
       "style": "IPY_MODEL_00439de6b98940a59a53d010f36352cc",
       "tooltip": "Change view to front",
       "type": "front",
       "value": {},
       "width": "36"
      }
     },
     "9cb4eea0e5a24dd0baaa5230f725c3c4": {
      "buffers": [
       {
        "data": "AAAAPwAAAL8AAIC/AAAAPwAAAL+amRk/AAAAPwAAAD8AAIC/AAAAPwAAAD+amRk/AAAAPwAAAL8AAIC/AAAAPwAAAL+amRk/AAAAvwAAAL8AAIC/AAAAvwAAAL8AAIA/zczMPQAAAL8AAIA/AAAAPwAAAL+amRk/zczMPQAAAL8AAIA/AAAAPwAAAD+amRk/zczMPQAAAD8AAIA/AAAAvwAAAL8AAIC/AAAAvwAAAD8AAIC/AAAAPwAAAL8AAIC/AAAAPwAAAD8AAIC/AAAAPwAAAD8AAIC/AAAAPwAAAD+amRk/AAAAvwAAAD8AAIC/AAAAvwAAAD8AAIA/zczMPQAAAD8AAIA/AAAAvwAAAD8AAIA/zczMPQAAAD8AAIA/AAAAvwAAAL8AAIA/zczMPQAAAL8AAIA/AAAAvwAAAL8AAIC/AAAAvwAAAL8AAIA/AAAAvwAAAD8AAIC/AAAAvwAAAD8AAIA/",
        "encoding": "base64",
        "path": [
         "array",
         "buffer"
        ]
       }
      ],
      "model_module": "jupyter-threejs",
      "model_module_version": "^2.1.0",
      "model_name": "BufferAttributeModel",
      "state": {
       "_view_module": null,
       "_view_module_version": "",
       "array": {
        "dtype": "float32",
        "shape": [
         30,
         3
        ]
       },
       "normalized": true,
       "version": 2
      }
     },
     "9cf28260b7b346a58a9d0b1284d50cb0": {
      "model_module": "@jupyter-widgets/controls",
      "model_module_version": "1.5.0",
      "model_name": "ButtonStyleModel",
      "state": {}
     },
     "9d3dd3c0d181409e857ab351fca93671": {
      "buffers": [
       {
        "data": "AAAAPwAAAL8AAIC/AAAAPwAAAL+amRk/AAAAPwAAAL+amRk/AAAAPwAAAD+amRk/AAAAPwAAAL8AAIC/AAAAPwAAAD8AAIC/AAAAPwAAAD8AAIC/AAAAPwAAAD+amRk/AAAAPwAAAL+amRk/zczMPQAAAL8AAIA/AAAAvwAAAL8AAIC/AAAAPwAAAL8AAIC/AAAAvwAAAL8AAIA/zczMPQAAAL8AAIA/AAAAvwAAAL8AAIC/AAAAvwAAAL8AAIA/zczMPQAAAL8AAIA/zczMPQAAAD8AAIA/AAAAPwAAAD+amRk/zczMPQAAAD8AAIA/AAAAvwAAAL8AAIC/AAAAvwAAAD8AAIC/AAAAvwAAAD8AAIC/AAAAPwAAAD8AAIC/AAAAvwAAAD8AAIA/zczMPQAAAD8AAIA/AAAAvwAAAD8AAIC/AAAAvwAAAD8AAIA/AAAAvwAAAL8AAIA/AAAAvwAAAD8AAIA/",
        "encoding": "base64",
        "path": [
         "positions",
         "buffer"
        ]
       }
      ],
      "model_module": "jupyter-threejs",
      "model_module_version": "^2.1.0",
      "model_name": "LineSegmentsGeometryModel",
      "state": {
       "_view_module": null,
       "_view_module_version": "",
       "positions": {
        "dtype": "float32",
        "shape": [
         15,
         2,
         3
        ]
       }
      }
     },
     "9d554e00da2b4ebb9d074710b4b49451": {
      "model_module": "@jupyter-widgets/base",
      "model_module_version": "1.2.0",
      "model_name": "LayoutModel",
      "state": {
       "height": "380px",
       "width": "250px"
      }
     },
     "9d8b269d466c4187a32f7bd6014cc6b2": {
      "model_module": "jupyter-threejs",
      "model_module_version": "^2.1.0",
      "model_name": "GroupModel",
      "state": {
       "_view_module": null,
       "_view_module_version": "",
       "children": [
        "IPY_MODEL_8aa6213bd9714daa8a42479fb41cc305",
        "IPY_MODEL_8f7cd852bdac4bbb8e918971e4609010",
        "IPY_MODEL_bc8b25bbbef84d1cb07af737d91515e2",
        "IPY_MODEL_e04ded561fad4c498d2eeba2751a32ad",
        "IPY_MODEL_a7c9afdf4db84b23815498279ab0f950",
        "IPY_MODEL_33b47a707adf4b9789ac0d5879791b2d",
        "IPY_MODEL_af12c9d010a64c57b38cd4c09ef1d0c7",
        "IPY_MODEL_12faab1777844833a7a768280b635858"
       ]
      }
     },
     "9da232f3b52e4cb4b1474f0c5cce2915": {
      "model_module": "@jupyter-widgets/controls",
      "model_module_version": "1.5.0",
      "model_name": "ButtonStyleModel",
      "state": {}
     },
     "9de0f95915f4488ea121a17342c99b4f": {
      "model_module": "@jupyter-widgets/controls",
      "model_module_version": "1.5.0",
      "model_name": "DescriptionStyleModel",
      "state": {
       "description_width": ""
      }
     },
     "9de1d98b38a1450cac65778ec98c5dd4": {
      "model_module": "jupyter-threejs",
      "model_module_version": "^2.1.0",
      "model_name": "LineMaterialModel",
      "state": {
       "_view_module": null,
       "_view_module_version": "",
       "color": "red",
       "linewidth": 3
      }
     },
     "9dfc19fa30044ccfa2ee86400b83983b": {
      "model_module": "@jupyter-widgets/controls",
      "model_module_version": "1.5.0",
      "model_name": "CheckboxModel",
      "state": {
       "_dom_classes": [
        "view_axes"
       ],
       "description": "Axes",
       "disabled": false,
       "indent": false,
       "layout": "IPY_MODEL_e582c313886a4a288db74868e0e91297",
       "style": "IPY_MODEL_3a80f5cbf3a24bfe822fc7c85bcdd72c",
       "value": false
      }
     },
     "9e43cf815869413084301a9b2dc1f8e9": {
      "model_module": "@jupyter-widgets/controls",
      "model_module_version": "1.5.0",
      "model_name": "HBoxModel",
      "state": {
       "children": [
        "IPY_MODEL_971a408a25cb49118f3b5ef044907938",
        "IPY_MODEL_04730450630c4c8fa098c3f07348d756",
        "IPY_MODEL_4854857c76814703970e4e774d7a4d57",
        "IPY_MODEL_43adbd255a33454e95468a1495534c29"
       ],
       "layout": "IPY_MODEL_de47fbde1ca14ff8b932f19909db956b"
      }
     },
     "9e784c10-9f04-4425-bfd0-786255caf9a8": {
      "model_module": "jupyter-threejs",
      "model_module_version": "^2.1.0",
      "model_name": "DirectionalLightShadowModel",
      "state": {
       "camera": "IPY_MODEL_ea1f5cee-e9c2-4688-9343-2e492df1b17a"
      }
     },
     "9e8db66a012c49478a9162b613772c65": {
      "model_module": "jupyter-threejs",
      "model_module_version": "^2.1.0",
      "model_name": "PlaneModel",
      "state": {
       "_view_module": null,
       "_view_module_version": "",
       "constant": 6,
       "normal": [
        0,
        0,
        1
       ]
      }
     },
     "9efe912ebbad4b478274234d81d83632": {
      "model_module": "jupyter_cadquery",
      "model_module_version": "^v1.0.0",
      "model_name": "ImageButtonModel",
      "state": {
       "_dom_classes": [
        "view_button"
       ],
       "_model_module_version": "^v1.0.0",
       "_view_module_version": "^v1.0.0",
       "height": "28",
       "layout": "IPY_MODEL_0e5de8ea3cd7480fb646deb4647e5dbd",
       "style": "IPY_MODEL_b556e1c30a344c8ab72807e804b65d9b",
       "tooltip": "Change view to isometric",
       "type": "isometric",
       "value": {},
       "width": "36"
      }
     },
     "9f810a39-7b3a-4ef6-b7d6-dc671e942eb2": {
      "model_module": "jupyter-threejs",
      "model_module_version": "^2.1.0",
      "model_name": "DirectionalLightShadowModel",
      "state": {
       "camera": "IPY_MODEL_ac9658fc-d057-466e-86ca-401b21611ff7"
      }
     },
     "9fb10acc13814c4fb5af1ab4bf88ff0d": {
      "model_module": "jupyter-threejs",
      "model_module_version": "^2.1.0",
      "model_name": "AmbientLightModel",
      "state": {
       "_view_module": null,
       "_view_module_version": ""
      }
     },
     "9fd8ad1b3d6a459f9ea0e5df130379bb": {
      "model_module": "@jupyter-widgets/base",
      "model_module_version": "1.2.0",
      "model_name": "LayoutModel",
      "state": {
       "width": "230px"
      }
     },
     "a00ebb9c496643b3921537e6f4e47007": {
      "model_module": "@jupyter-widgets/controls",
      "model_module_version": "1.5.0",
      "model_name": "DescriptionStyleModel",
      "state": {
       "description_width": ""
      }
     },
     "a02db6c252c843d8bbd47e5765005037": {
      "model_module": "@jupyter-widgets/controls",
      "model_module_version": "1.5.0",
      "model_name": "HBoxModel",
      "state": {
       "children": [
        "IPY_MODEL_2335ffa0e3db4976be3e347a559b4f44",
        "IPY_MODEL_3cd57f688c614ff2808526ede71578c5"
       ],
       "layout": "IPY_MODEL_4ef71ea2a8344315b2d22f7ecce07396"
      }
     },
     "a05169ce-1cf6-45cf-b846-6e1cff7907a0": {
      "model_module": "jupyter-threejs",
      "model_module_version": "^2.1.0",
      "model_name": "Object3DModel",
      "state": {}
     },
     "a0598c7a325b4bdd93e4c357623e045a": {
      "model_module": "jupyter-threejs",
      "model_module_version": "^2.1.0",
      "model_name": "DirectionalLightModel",
      "state": {
       "_view_module": null,
       "_view_module_version": "",
       "color": "white",
       "intensity": 0.12,
       "matrixWorldNeedsUpdate": true,
       "position": [
        3.334666769558863,
        3.334666769558863,
        3.334666769558863
       ],
       "shadow": "IPY_MODEL_960a0029-23fa-4c3c-bb99-1174f84f4ea2",
       "target": "IPY_MODEL_877685fc-7911-4ffd-9e38-72cce2de9269"
      }
     },
     "a0bb5860-4f3e-4320-a561-ac456ddab21c": {
      "model_module": "jupyter-threejs",
      "model_module_version": "^2.1.0",
      "model_name": "DirectionalLightShadowModel",
      "state": {
       "camera": "IPY_MODEL_a95083c2-b888-4d64-b0a3-c9c8290df700"
      }
     },
     "a111432578544e4bb90bd949f597c391": {
      "model_module": "jupyter_cadquery",
      "model_module_version": "^v1.0.0",
      "model_name": "ImageButtonModel",
      "state": {
       "_dom_classes": [
        "view_button"
       ],
       "_model_module_version": "^v1.0.0",
       "_view_module_version": "^v1.0.0",
       "height": "28",
       "layout": "IPY_MODEL_a5d0c53744134e719779cd9bfcfb1ee6",
       "style": "IPY_MODEL_c0a900b8696042dcb3c8c8e4e8f24232",
       "tooltip": "Change view to reset",
       "type": "reset",
       "value": {},
       "width": "36"
      }
     },
     "a1667f214c5c480fbb5554bdaf30d7ac": {
      "model_module": "@jupyter-widgets/base",
      "model_module_version": "1.2.0",
      "model_name": "LayoutModel",
      "state": {
       "height": "335px",
       "width": "230px"
      }
     },
     "a1fb9d1716514ab494da46d83b2a8b42": {
      "model_module": "@jupyter-widgets/controls",
      "model_module_version": "1.5.0",
      "model_name": "BoxModel",
      "state": {
       "_dom_classes": [
        "view_output"
       ],
       "children": [
        "IPY_MODEL_fea00c6336054653995c9ab597653bc6"
       ],
       "layout": "IPY_MODEL_57af532d489546709c3c777755159185"
      }
     },
     "a22ec30f0f99487ea6a6004dcab54cee": {
      "model_module": "@jupyter-widgets/controls",
      "model_module_version": "1.5.0",
      "model_name": "ButtonStyleModel",
      "state": {}
     },
     "a24d58f537c0433da0c3af171e52b19d": {
      "model_module": "jupyter-threejs",
      "model_module_version": "^2.1.0",
      "model_name": "MeshModel",
      "state": {
       "_view_module": null,
       "_view_module_version": "",
       "geometry": "IPY_MODEL_1b1e034843464156aafd304a528dd81c",
       "material": "IPY_MODEL_bb61db4be029406a85af913088455d45",
       "morphTargetInfluences": [],
       "name": "mesh_0"
      }
     },
     "a2546756c0c2474d8f50e16ae8b9de18": {
      "buffers": [
       {
        "data": "AQAAAAQAAAADAAAAAgAAAAEAAAADAAAAAAAAAAEAAAACAAAACAAAAAYAAAAFAAAACAAAAAUAAAAHAAAADAAAAAkAAAAKAAAADAAAAAsAAAAJAAAAEAAAAA0AAAAOAAAAEAAAAA8AAAANAAAAEgAAABEAAAATAAAAEgAAABMAAAAUAAAAGAAAABUAAAAWAAAAGAAAABcAAAAVAAAAGgAAABwAAAAdAAAAGwAAABwAAAAaAAAAGQAAABsAAAAaAAAA",
        "encoding": "base64",
        "path": [
         "array",
         "buffer"
        ]
       }
      ],
      "model_module": "jupyter-threejs",
      "model_module_version": "^2.1.0",
      "model_name": "BufferAttributeModel",
      "state": {
       "_view_module": null,
       "_view_module_version": "",
       "array": {
        "dtype": "uint32",
        "shape": [
         48
        ]
       },
       "normalized": true,
       "version": 2
      }
     },
     "a2581bbca4114bc7a7046ebfc746313d": {
      "model_module": "jupyter-threejs",
      "model_module_version": "^2.1.0",
      "model_name": "PlaneModel",
      "state": {
       "_view_module": null,
       "_view_module_version": "",
       "constant": 6,
       "normal": [
        0,
        0,
        1
       ]
      }
     },
     "a2872cffc2b34306929f2cbdc7b23048": {
      "model_module": "jupyter-threejs",
      "model_module_version": "^2.1.0",
      "model_name": "DirectionalLightModel",
      "state": {
       "_view_module": null,
       "_view_module_version": "",
       "color": "white",
       "intensity": 0.12,
       "matrixWorldNeedsUpdate": true,
       "position": [
        3.3346667695588637,
        3.3346667695588637,
        3.3346667695588637
       ],
       "shadow": "IPY_MODEL_de792524-7fe8-4cd7-a850-6f087eb2db89",
       "target": "IPY_MODEL_c1158805-8d60-4141-829c-c53a982492ac"
      }
     },
     "a298e4b47cab462283a91a0ec5aafce6": {
      "buffers": [
       {
        "data": "AADAPwAAAD8AAIC/AADAPwAAAD+amRk/AADAPwAAAD+amRk/AADAPwAAwD+amRk/AADAPwAAAD8AAIC/AADAPwAAwD8AAIC/AADAPwAAwD8AAIC/AADAPwAAwD+amRk/AADAPwAAAD+amRk/zcyMPwAAAD8AAIA/AAAAPwAAAD8AAIC/AADAPwAAAD8AAIC/AAAAPwAAAD8AAIA/zcyMPwAAAD8AAIA/AAAAPwAAAD8AAIC/AAAAPwAAAD8AAIA/zcyMPwAAAD8AAIA/zcyMPwAAwD8AAIA/AADAPwAAwD+amRk/zcyMPwAAwD8AAIA/AAAAPwAAAD8AAIC/AAAAPwAAwD8AAIC/AAAAPwAAwD8AAIC/AADAPwAAwD8AAIC/AAAAPwAAwD8AAIA/zcyMPwAAwD8AAIA/AAAAPwAAwD8AAIC/AAAAPwAAwD8AAIA/AAAAPwAAAD8AAIA/AAAAPwAAwD8AAIA/",
        "encoding": "base64",
        "path": [
         "positions",
         "buffer"
        ]
       }
      ],
      "model_module": "jupyter-threejs",
      "model_module_version": "^2.1.0",
      "model_name": "LineSegmentsGeometryModel",
      "state": {
       "_view_module": null,
       "_view_module_version": "",
       "positions": {
        "dtype": "float32",
        "shape": [
         15,
         2,
         3
        ]
       }
      }
     },
     "a2f2d6c1-d1af-4c6e-bda4-06e632e5ebce": {
      "model_module": "jupyter-threejs",
      "model_module_version": "^2.1.0",
      "model_name": "Object3DModel",
      "state": {}
     },
     "a303f8e0ae0a41eabf23d6a712e1b351": {
      "model_module": "jupyter-threejs",
      "model_module_version": "^2.1.0",
      "model_name": "LineMaterialModel",
      "state": {
       "_view_module": null,
       "_view_module_version": "",
       "color": "red",
       "linewidth": 3
      }
     },
     "a332b8dfc2a84a5ebbf1a9a46c6ea2bf": {
      "model_module": "jupyter-threejs",
      "model_module_version": "^2.1.0",
      "model_name": "LineMaterialModel",
      "state": {
       "_view_module": null,
       "_view_module_version": "",
       "color": "#808080"
      }
     },
     "a337310efb9b475dbad99a2dcf1f0969": {
      "buffers": [
       {
        "data": "AACAPwAAAAAAAACAAACAPwAAAAAAAACAAACAPwAAAAAAAACAAACAPwAAAAAAAACAAAAAgAAAgL8AAACAAAAAgAAAgL8AAACAAAAAgAAAgL8AAACAAAAAgAAAgL8AAACAAAAAgAAAgL8AAACA8wQ1PwAAAADzBDU/8wQ1PwAAAADzBDU/8wQ1PwAAAADzBDU/8wQ1PwAAAADzBDU/AAAAgAAAAIAAAIC/AAAAgAAAAIAAAIC/AAAAgAAAAIAAAIC/AAAAgAAAAIAAAIC/AAAAAAAAgD8AAAAAAAAAAAAAgD8AAAAAAAAAAAAAgD8AAAAAAAAAAAAAgD8AAAAAAAAAAAAAgD8AAAAAAAAAAAAAAAAAAIA/AAAAAAAAAAAAAIA/AAAAAAAAAAAAAIA/AAAAAAAAAAAAAIA/AACAvwAAAIAAAAAAAACAvwAAAIAAAAAAAACAvwAAAIAAAAAAAACAvwAAAIAAAAAA",
        "encoding": "base64",
        "path": [
         "array",
         "buffer"
        ]
       }
      ],
      "model_module": "jupyter-threejs",
      "model_module_version": "^2.1.0",
      "model_name": "BufferAttributeModel",
      "state": {
       "_view_module": null,
       "_view_module_version": "",
       "array": {
        "dtype": "float32",
        "shape": [
         30,
         3
        ]
       },
       "normalized": true,
       "version": 2
      }
     },
     "a3e9a346-cdf4-442a-897f-ace462993cd0": {
      "model_module": "jupyter-threejs",
      "model_module_version": "^2.1.0",
      "model_name": "DirectionalLightShadowModel",
      "state": {
       "camera": "IPY_MODEL_b7dbf06b-0177-4af6-9435-991056b13de5"
      }
     },
     "a3eee6ad83884e8fba4b551778122ae9": {
      "model_module": "jupyter-threejs",
      "model_module_version": "^2.1.0",
      "model_name": "WebGLShadowMapModel",
      "state": {
       "_view_module": null,
       "_view_module_version": ""
      }
     },
     "a436597d6d264c97912d08926ae46330": {
      "model_module": "@jupyter-widgets/controls",
      "model_module_version": "1.5.0",
      "model_name": "VBoxModel",
      "state": {
       "children": [
        "IPY_MODEL_8e4611b498f9471898a5da4f3c41d997",
        "IPY_MODEL_cda45ec92d9141b6b28602b9c8bdc1a1",
        "IPY_MODEL_6d2d5340302e4a238920aef9f1214845",
        "IPY_MODEL_7632be1e29a146028ea278ce0bfc491a",
        "IPY_MODEL_d1056dfc341e4e6e9d970b3990163710",
        "IPY_MODEL_1075c9bfe86f4bd3810345fbef9e7033"
       ],
       "layout": "IPY_MODEL_23ab50d8ccb147e5973c03363fef3686"
      }
     },
     "a48a2a6e68b34e38a8d6a9333e4a204b": {
      "model_module": "@jupyter-widgets/controls",
      "model_module_version": "1.5.0",
      "model_name": "ButtonStyleModel",
      "state": {}
     },
     "a4ed35ab8f10460cb8a5a56eddff2681": {
      "model_module": "@jupyter-widgets/base",
      "model_module_version": "1.2.0",
      "model_name": "LayoutModel",
      "state": {}
     },
     "a4f6ad98f5cd4b66bfb895d906477bd4": {
      "buffers": [
       {
        "data": "AQAAAAAAAAACAAAAAQAAAAIAAAADAAAACAAAAAQAAAAFAAAACAAAAAYAAAAEAAAACAAAAAcAAAAGAAAADAAAAAoAAAAJAAAADAAAAAkAAAALAAAAEAAAAA0AAAAOAAAAEAAAAA8AAAANAAAAFQAAABIAAAARAAAAFQAAABEAAAATAAAAFQAAABMAAAAUAAAAFwAAABYAAAAYAAAAFwAAABgAAAAZAAAAGwAAABwAAAAaAAAAGwAAAB0AAAAcAAAA",
        "encoding": "base64",
        "path": [
         "array",
         "buffer"
        ]
       }
      ],
      "model_module": "jupyter-threejs",
      "model_module_version": "^2.1.0",
      "model_name": "BufferAttributeModel",
      "state": {
       "_view_module": null,
       "_view_module_version": "",
       "array": {
        "dtype": "uint32",
        "shape": [
         48
        ]
       },
       "normalized": true,
       "version": 2
      }
     },
     "a54088b7049d411a930948c7f7797c22": {
      "model_module": "jupyter-threejs",
      "model_module_version": "^2.1.0",
      "model_name": "LineMaterialModel",
      "state": {
       "_view_module": null,
       "_view_module_version": "",
       "color": "#808080"
      }
     },
     "a558b076a7134cc199d1c13f7111ed84": {
      "model_module": "@jupyter-widgets/base",
      "model_module_version": "1.2.0",
      "model_name": "LayoutModel",
      "state": {}
     },
     "a5615a4bf8934feca27bef468344a4d6": {
      "model_module": "@jupyter-widgets/controls",
      "model_module_version": "1.5.0",
      "model_name": "DescriptionStyleModel",
      "state": {
       "description_width": ""
      }
     },
     "a586b403450d415b852e80c6836f2a70": {
      "model_module": "jupyter-threejs",
      "model_module_version": "^2.1.0",
      "model_name": "DirectionalLightModel",
      "state": {
       "_view_module": null,
       "_view_module_version": "",
       "color": "white",
       "intensity": 0.12,
       "matrixWorldNeedsUpdate": true,
       "position": [
        -8.278436197374486,
        8.278436197374486,
        8.278436197374486
       ],
       "shadow": "IPY_MODEL_13e04584-4a63-41c4-91bd-1df4a85eb544",
       "target": "IPY_MODEL_9be4e591-f5ff-4a4b-a72a-fbcfd8ed9ffd"
      }
     },
     "a5ab4ac4244e4cf2888c0ac9a7154318": {
      "model_module": "@jupyter-widgets/base",
      "model_module_version": "1.2.0",
      "model_name": "LayoutModel",
      "state": {
       "width": "230px"
      }
     },
     "a5d0c53744134e719779cd9bfcfb1ee6": {
      "model_module": "@jupyter-widgets/base",
      "model_module_version": "1.2.0",
      "model_name": "LayoutModel",
      "state": {}
     },
     "a62115ae3d9d4007a7c02bb3d75d9e5c": {
      "model_module": "jupyter-threejs",
      "model_module_version": "^2.1.0",
      "model_name": "LineSegments2Model",
      "state": {
       "_view_module": null,
       "_view_module_version": "",
       "geometry": "IPY_MODEL_0717057e995b42cd9390c793a59f74ee",
       "material": "IPY_MODEL_2bc24ed39c1d4cd3893ec1d8a28162f8",
       "morphTargetInfluences": [],
       "name": "edges_1"
      }
     },
     "a62aa0c4b54448a8ba74bacf98bf2067": {
      "buffers": [
       {
        "data": "AAAAAAAAAAAAAAAAAAAAAAvXE0AAAAAA",
        "encoding": "base64",
        "path": [
         "positions",
         "buffer"
        ]
       }
      ],
      "model_module": "jupyter-threejs",
      "model_module_version": "^2.1.0",
      "model_name": "LineSegmentsGeometryModel",
      "state": {
       "_view_module": null,
       "_view_module_version": "",
       "positions": {
        "dtype": "float32",
        "shape": [
         1,
         2,
         3
        ]
       }
      }
     },
     "a64ab0666302412d8ef045fe6f731038": {
      "model_module": "@jupyter-widgets/base",
      "model_module_version": "1.2.0",
      "model_name": "LayoutModel",
      "state": {
       "height": "380px",
       "width": "250px"
      }
     },
     "a66acde9a3684b23a6566628455d9927": {
      "model_module": "@jupyter-widgets/base",
      "model_module_version": "1.2.0",
      "model_name": "LayoutModel",
      "state": {}
     },
     "a67139df42034b9082afae1535622c75": {
      "model_module": "@jupyter-widgets/controls",
      "model_module_version": "1.5.0",
      "model_name": "DescriptionStyleModel",
      "state": {
       "description_width": ""
      }
     },
     "a686cd72e3e9436790af429cf6f1313d": {
      "buffers": [
       {
        "data": "AwAAAAEAAAAAAAAAAwAAAAAAAAACAAAA",
        "encoding": "base64",
        "path": [
         "array",
         "buffer"
        ]
       }
      ],
      "model_module": "jupyter-threejs",
      "model_module_version": "^2.1.0",
      "model_name": "BufferAttributeModel",
      "state": {
       "_view_module": null,
       "_view_module_version": "",
       "array": {
        "dtype": "uint32",
        "shape": [
         6
        ]
       },
       "normalized": true,
       "version": 2
      }
     },
     "a6b3f34e8f0f401d86480709850d6aed": {
      "model_module": "jupyter-threejs",
      "model_module_version": "^2.1.0",
      "model_name": "OrbitControlsModel",
      "state": {
       "_view_module": null,
       "_view_module_version": "",
       "controlling": "IPY_MODEL_d94e6ac7fa2d4f058de2f1e504527c7b",
       "maxAzimuthAngle": "inf",
       "maxDistance": "inf",
       "maxZoom": "inf",
       "minAzimuthAngle": "-inf"
      }
     },
     "a6c1d1b5f368474e9d5cace61ff24cc8": {
      "model_module": "@jupyter-widgets/controls",
      "model_module_version": "1.5.0",
      "model_name": "CheckboxModel",
      "state": {
       "_dom_classes": [
        "view_transparent",
        "indent"
       ],
       "description": "Transparency",
       "disabled": false,
       "indent": false,
       "layout": "IPY_MODEL_14f344c1c54742e1a674dc9c20de4ce0",
       "style": "IPY_MODEL_75ef58bdb71f478aa6beb8c03b1ea894",
       "value": false
      }
     },
     "a6e6a494e09341d280443a6c9856601d": {
      "model_module": "@jupyter-widgets/controls",
      "model_module_version": "1.5.0",
      "model_name": "LabelModel",
      "state": {
       "layout": "IPY_MODEL_27526624ad784acdbc0efe74f674ced3",
       "style": "IPY_MODEL_f6efba2515d44327b910b8184ab5de0c",
       "value": "N=( 0.00,  0.00,  1.00)"
      }
     },
     "a73a0d20e7d4474992f1878d9a1fcf1d": {
      "model_module": "@jupyter-widgets/controls",
      "model_module_version": "1.5.0",
      "model_name": "LabelModel",
      "state": {
       "layout": "IPY_MODEL_a8b2c9883843408e937713e0db258119",
       "style": "IPY_MODEL_08cd47d98dd64bb8b977319ab1a451f6",
       "value": "N=( 0.00,  0.00,  1.00)"
      }
     },
     "a757404055d941fe9840dfecdccf0f2e": {
      "model_module": "jupyter_cadquery",
      "model_module_version": "^v1.0.0",
      "model_name": "ImageButtonModel",
      "state": {
       "_dom_classes": [
        "view_button"
       ],
       "_model_module_version": "^v1.0.0",
       "_view_module_version": "^v1.0.0",
       "height": "28",
       "layout": "IPY_MODEL_4ab95decdb8c4c6382a587f32ca34bb6",
       "style": "IPY_MODEL_e9b423c3404f45409551b64e03e85f1e",
       "tooltip": "Change view to bottom",
       "type": "bottom",
       "value": {},
       "width": "36"
      }
     },
     "a762a3856f3f4f36bb56a864547c1f55": {
      "model_module": "@jupyter-widgets/controls",
      "model_module_version": "1.5.0",
      "model_name": "ButtonStyleModel",
      "state": {}
     },
     "a7c9228c-9eda-464b-a7a4-880e985de81c": {
      "model_module": "jupyter-threejs",
      "model_module_version": "^2.1.0",
      "model_name": "OrthographicCameraModel",
      "state": {
       "bottom": -5,
       "far": 500,
       "left": -5,
       "near": 0.5,
       "projectionMatrix": [
        0.2,
        0,
        0,
        0,
        0,
        0.2,
        0,
        0,
        0,
        0,
        -0.004004004004004004,
        0,
        0,
        0,
        -1.002002002002002,
        1
       ],
       "right": 5,
       "top": 5
      }
     },
     "a7c9afdf4db84b23815498279ab0f950": {
      "model_module": "jupyter-threejs",
      "model_module_version": "^2.1.0",
      "model_name": "MeshModel",
      "state": {
       "_view_module": null,
       "_view_module_version": "",
       "geometry": "IPY_MODEL_7d46c24d7cee4f308562d7609c87136c",
       "material": "IPY_MODEL_9b39a130915e45bfac99162ee90b8ff2",
       "morphTargetInfluences": [],
       "name": "mesh_2"
      }
     },
     "a7e61edafe174e68ad672df3400cf2b6": {
      "buffers": [
       {
        "data": "AQAAAAAAAAACAAAAAQAAAAIAAAADAAAABQAAAAYAAAAEAAAABQAAAAcAAAAGAAAACAAAAAcAAAAFAAAADAAAAAoAAAAJAAAADAAAAAkAAAALAAAAEAAAAA0AAAAOAAAAEAAAAA8AAAANAAAAEgAAABEAAAATAAAAEgAAABMAAAAUAAAAFQAAABIAAAAUAAAAFwAAABYAAAAYAAAAFwAAABgAAAAZAAAAGwAAABwAAAAaAAAAGwAAAB0AAAAcAAAA",
        "encoding": "base64",
        "path": [
         "array",
         "buffer"
        ]
       }
      ],
      "model_module": "jupyter-threejs",
      "model_module_version": "^2.1.0",
      "model_name": "BufferAttributeModel",
      "state": {
       "_view_module": null,
       "_view_module_version": "",
       "array": {
        "dtype": "uint32",
        "shape": [
         48
        ]
       },
       "normalized": true,
       "version": 2
      }
     },
     "a7f01c00fd184a0e89f7971eb3c5efc8": {
      "model_module": "@jupyter-widgets/controls",
      "model_module_version": "1.5.0",
      "model_name": "TabModel",
      "state": {
       "_dom_classes": [
        "tab-content-no-padding"
       ],
       "_titles": {
        "0": "Tree",
        "1": "Clipping"
       },
       "children": [
        "IPY_MODEL_94d6fab5f49d426a846d701430995ed1",
        "IPY_MODEL_334f449b7d7845d6ad46012fcebbf8db"
       ],
       "layout": "IPY_MODEL_9d554e00da2b4ebb9d074710b4b49451"
      }
     },
     "a8520356eb7b485cae34d5bab71ce989": {
      "model_module": "@jupyter-widgets/controls",
      "model_module_version": "1.5.0",
      "model_name": "VBoxModel",
      "state": {
       "children": [
        "IPY_MODEL_d994dfdf30394b5b984eb5274e2c5d92",
        "IPY_MODEL_2d533488ecac4d6e90711e69ea17dd0e",
        "IPY_MODEL_cae66a45f9494671a2987bd1187181d7",
        "IPY_MODEL_3a504553b4cc44f09c5469bac198330a",
        "IPY_MODEL_8856e033922945a1ae423bc72c96b79e",
        "IPY_MODEL_9433bae7771c47759c41ff88e693a83f"
       ],
       "layout": "IPY_MODEL_27ffd847945a44f0bdae3bad7a21eba9"
      }
     },
     "a853c35762df47808165ada7325d6028": {
      "model_module": "jupyter_cadquery",
      "model_module_version": "^v1.0.0",
      "model_name": "ImageButtonModel",
      "state": {
       "_dom_classes": [
        "view_button"
       ],
       "_model_module_version": "^v1.0.0",
       "_view_module_version": "^v1.0.0",
       "height": "28",
       "layout": "IPY_MODEL_9740c5819eb34c78b88a6c4752fb869d",
       "style": "IPY_MODEL_6d02dc3d8a4f4de29e1ea8f8136a39a9",
       "tooltip": "Set clipping plane",
       "type": "1",
       "value": {},
       "width": "36"
      }
     },
     "a88de63dd3894246b0c98f767f23cd58": {
      "model_module": "jupyter-threejs",
      "model_module_version": "^2.1.0",
      "model_name": "PlaneModel",
      "state": {
       "_view_module": null,
       "_view_module_version": "",
       "constant": 6,
       "normal": [
        1,
        0,
        0
       ]
      }
     },
     "a895f57727ba4934abbf40b1975e93af": {
      "model_module": "@jupyter-widgets/base",
      "model_module_version": "1.2.0",
      "model_name": "LayoutModel",
      "state": {}
     },
     "a8b2c9883843408e937713e0db258119": {
      "model_module": "@jupyter-widgets/base",
      "model_module_version": "1.2.0",
      "model_name": "LayoutModel",
      "state": {}
     },
     "a8b4f3a51da64e04976c5a47356effc2": {
      "model_module": "jupyter_cadquery",
      "model_module_version": "^v1.0.0",
      "model_name": "ImageButtonModel",
      "state": {
       "_dom_classes": [
        "view_button"
       ],
       "_model_module_version": "^v1.0.0",
       "_view_module_version": "^v1.0.0",
       "height": "28",
       "layout": "IPY_MODEL_6230747f2910412692872482e946c5ac",
       "style": "IPY_MODEL_3f2ff2314c534cacb0fcf37098d1bc65",
       "tooltip": "Set clipping plane",
       "type": "1",
       "value": {},
       "width": "36"
      }
     },
     "a8f29219094c46c1bd894cfa7d412680": {
      "model_module": "@jupyter-widgets/controls",
      "model_module_version": "1.5.0",
      "model_name": "DescriptionStyleModel",
      "state": {
       "description_width": ""
      }
     },
     "a94bcfa3596a45d6ba38e0020c8d3fc1": {
      "model_module": "@jupyter-widgets/base",
      "model_module_version": "1.2.0",
      "model_name": "LayoutModel",
      "state": {}
     },
     "a95083c2-b888-4d64-b0a3-c9c8290df700": {
      "model_module": "jupyter-threejs",
      "model_module_version": "^2.1.0",
      "model_name": "OrthographicCameraModel",
      "state": {
       "bottom": -5,
       "far": 500,
       "left": -5,
       "near": 0.5,
       "projectionMatrix": [
        0.2,
        0,
        0,
        0,
        0,
        0.2,
        0,
        0,
        0,
        0,
        -0.004004004004004004,
        0,
        0,
        0,
        -1.002002002002002,
        1
       ],
       "right": 5,
       "top": 5
      }
     },
     "a966c2c0c8924466ab3b33a1890a2624": {
      "model_module": "@jupyter-widgets/base",
      "model_module_version": "1.2.0",
      "model_name": "LayoutModel",
      "state": {}
     },
     "a96f501a36de47229ce3e967cd72949b": {
      "model_module": "@jupyter-widgets/controls",
      "model_module_version": "1.5.0",
      "model_name": "HBoxModel",
      "state": {
       "children": [
        "IPY_MODEL_93bbb0960a54407187297d66656dfe5f",
        "IPY_MODEL_36cc318b6fcf45d883f94c66cfe09d64",
        "IPY_MODEL_c6783a5dccd441709adc01014c553364",
        "IPY_MODEL_1ee03f7a0d3041d496a9b222330b8739"
       ],
       "layout": "IPY_MODEL_db4573c3964b4d79b2f06b547543e031"
      }
     },
     "a97bbb0b39d84188b1309ded817fdef1": {
      "model_module": "@jupyter-widgets/base",
      "model_module_version": "1.2.0",
      "model_name": "LayoutModel",
      "state": {
       "height": "380px",
       "width": "250px"
      }
     },
     "a9885806-988d-4509-b08f-b81adfdc95f9": {
      "model_module": "jupyter-threejs",
      "model_module_version": "^2.1.0",
      "model_name": "OrthographicCameraModel",
      "state": {
       "bottom": -5,
       "far": 500,
       "left": -5,
       "near": 0.5,
       "projectionMatrix": [
        0.2,
        0,
        0,
        0,
        0,
        0.2,
        0,
        0,
        0,
        0,
        -0.004004004004004004,
        0,
        0,
        0,
        -1.002002002002002,
        1
       ],
       "right": 5,
       "top": 5
      }
     },
     "a98ab196-a00a-4fed-baa1-c90614588f87": {
      "model_module": "jupyter-threejs",
      "model_module_version": "^2.1.0",
      "model_name": "OrthographicCameraModel",
      "state": {
       "bottom": -5,
       "far": 500,
       "left": -5,
       "near": 0.5,
       "projectionMatrix": [
        0.2,
        0,
        0,
        0,
        0,
        0.2,
        0,
        0,
        0,
        0,
        -0.004004004004004004,
        0,
        0,
        0,
        -1.002002002002002,
        1
       ],
       "right": 5,
       "top": 5
      }
     },
     "a9ccd25362e64465a46b7d6bf640e3c7": {
      "model_module": "@jupyter-widgets/base",
      "model_module_version": "1.2.0",
      "model_name": "LayoutModel",
      "state": {
       "border": "solid 1px #ddd",
       "height": "216px",
       "overflow": "scroll",
       "width": "250px"
      }
     },
     "a9e9ed2fea084529a5a72d1bc2547126": {
      "model_module": "jupyter_cadquery",
      "model_module_version": "^v1.0.0",
      "model_name": "ImageButtonModel",
      "state": {
       "_dom_classes": [
        "view_button"
       ],
       "_model_module_version": "^v1.0.0",
       "_view_module_version": "^v1.0.0",
       "height": "28",
       "layout": "IPY_MODEL_e3ebf825b1ff4f9dbfdba32f0b0e2682",
       "style": "IPY_MODEL_1bd5447c1332468f9caab37751f9083a",
       "tooltip": "Change view to bottom",
       "type": "bottom",
       "value": {},
       "width": "36"
      }
     },
     "a9ec22f7-382a-4e5a-9147-556e01ac6bf3": {
      "model_module": "jupyter-threejs",
      "model_module_version": "^2.1.0",
      "model_name": "DirectionalLightShadowModel",
      "state": {
       "camera": "IPY_MODEL_64ee9c5b-6c69-456f-8f98-16c1fc772efd"
      }
     },
     "aa15217a-56df-4e30-b8a1-a4a05981a999": {
      "model_module": "jupyter-threejs",
      "model_module_version": "^2.1.0",
      "model_name": "Object3DModel",
      "state": {}
     },
     "aa2ad168e39c46f391229f3c10062f67": {
      "model_module": "@jupyter-widgets/controls",
      "model_module_version": "1.5.0",
      "model_name": "DescriptionStyleModel",
      "state": {
       "description_width": ""
      }
     },
     "aad3463a2b5c480c8f3f04310c8f32e1": {
      "model_module": "@jupyter-widgets/base",
      "model_module_version": "1.2.0",
      "model_name": "LayoutModel",
      "state": {}
     },
     "aaf0e6c49d42487e860ae133564b0fb0": {
      "model_module": "jupyter-threejs",
      "model_module_version": "^2.1.0",
      "model_name": "DirectionalLightModel",
      "state": {
       "_view_module": null,
       "_view_module_version": "",
       "color": "white",
       "intensity": 0.12,
       "matrixWorldNeedsUpdate": true,
       "position": [
        3.3346667695588637,
        -3.3346667695588637,
        -3.3346667695588637
       ],
       "shadow": "IPY_MODEL_ce378cb9-0b76-4e93-87d1-b397fd2f64cb",
       "target": "IPY_MODEL_16d6f0f9-9957-402b-8ec3-40d0887e5101"
      }
     },
     "ab3938c669f245d7932a4cf195e71a9f": {
      "model_module": "jupyter-threejs",
      "model_module_version": "^2.1.0",
      "model_name": "BufferGeometryModel",
      "state": {
       "_view_module": null,
       "_view_module_version": "",
       "attributes": {
        "index": "IPY_MODEL_de19d7ffef8c4f42b143bb7bdb907f0c",
        "normal": "IPY_MODEL_342598566f494eec9ca6f1f1bf7e0067",
        "position": "IPY_MODEL_e32d2cbffee54e7cb9edf6ed9970b281"
       }
      }
     },
     "abcd1f8ad5ba47a48030532d440a098e": {
      "model_module": "@jupyter-widgets/controls",
      "model_module_version": "1.5.0",
      "model_name": "ButtonStyleModel",
      "state": {}
     },
     "abfcc7e3c6de46aaa35211ce3150a59e": {
      "model_module": "jupyter-threejs",
      "model_module_version": "^2.1.0",
      "model_name": "BufferGeometryModel",
      "state": {
       "_view_module": null,
       "_view_module_version": "",
       "attributes": {
        "index": "IPY_MODEL_fcec4e9f0e6f498ca35d88502e0447a6",
        "normal": "IPY_MODEL_98007b801ec24fae87a86f8ac54ed966",
        "position": "IPY_MODEL_d93a93c65bab4426af4f9ad5e5526020"
       }
      }
     },
     "ac10cae7e4f340429b28c530e0f80780": {
      "buffers": [
       {
        "data": "AACAv83MTD0AAIA+ZmZmP83MTD0AAIA+AACAv83MTL0AAIA+ZmZmP83MTL0AAIA+",
        "encoding": "base64",
        "path": [
         "array",
         "buffer"
        ]
       }
      ],
      "model_module": "jupyter-threejs",
      "model_module_version": "^2.1.0",
      "model_name": "BufferAttributeModel",
      "state": {
       "_view_module": null,
       "_view_module_version": "",
       "array": {
        "dtype": "float32",
        "shape": [
         4,
         3
        ]
       },
       "normalized": true,
       "version": 2
      }
     },
     "ac16ec93ecf244be80303d14a4304d40": {
      "buffers": [
       {
        "data": "AAAAAAAAAAAAAAAAAAAAAEnhmj8AAAAA",
        "encoding": "base64",
        "path": [
         "positions",
         "buffer"
        ]
       }
      ],
      "model_module": "jupyter-threejs",
      "model_module_version": "^2.1.0",
      "model_name": "LineSegmentsGeometryModel",
      "state": {
       "_view_module": null,
       "_view_module_version": "",
       "positions": {
        "dtype": "float32",
        "shape": [
         1,
         2,
         3
        ]
       }
      }
     },
     "ac49f8b8d64b48dfaef486216c6549f7": {
      "model_module": "@jupyter-widgets/controls",
      "model_module_version": "1.5.0",
      "model_name": "SliderStyleModel",
      "state": {
       "description_width": ""
      }
     },
     "ac4fa7d8-7c9c-4f1a-a583-eb083c60576e": {
      "model_module": "jupyter-threejs",
      "model_module_version": "^2.1.0",
      "model_name": "DirectionalLightShadowModel",
      "state": {
       "camera": "IPY_MODEL_ca527a96-276e-4630-85eb-185690c939e9"
      }
     },
     "ac891c5d43764b99b291ae318cc644f3": {
      "model_module": "@jupyter-widgets/base",
      "model_module_version": "1.2.0",
      "model_name": "LayoutModel",
      "state": {}
     },
     "ac8f7cfeb7e1494091ca7202600352f7": {
      "model_module": "jupyter-threejs",
      "model_module_version": "^2.1.0",
      "model_name": "LineSegments2Model",
      "state": {
       "_view_module": null,
       "_view_module_version": "",
       "geometry": "IPY_MODEL_ba8c26b572ec4f38ae947fada61adecc",
       "material": "IPY_MODEL_7f60f345cfe54487a2f28b79ff0a97b6",
       "matrix": [
        1,
        0,
        0,
        0,
        0,
        1,
        0,
        0,
        0,
        0,
        1,
        0,
        0.9999999999999999,
        -0.75,
        2.125,
        1
       ],
       "morphTargetInfluences": [],
       "position": [
        0.9999999999999999,
        -0.75,
        2.125
       ],
       "visible": false
      }
     },
     "ac9658fc-d057-466e-86ca-401b21611ff7": {
      "model_module": "jupyter-threejs",
      "model_module_version": "^2.1.0",
      "model_name": "OrthographicCameraModel",
      "state": {
       "bottom": -5,
       "far": 500,
       "left": -5,
       "near": 0.5,
       "projectionMatrix": [
        0.2,
        0,
        0,
        0,
        0,
        0.2,
        0,
        0,
        0,
        0,
        -0.004004004004004004,
        0,
        0,
        0,
        -1.002002002002002,
        1
       ],
       "right": 5,
       "top": 5
      }
     },
     "ad25d2e3581249878838dccaa07cb8b9": {
      "buffers": [
       {
        "data": "AAAAQDMzcz8AAIC+AAAAQDMzcz+amRk+AAAAQGZmhj8AAIC+AAAAQGZmhj+amRk+AAAAQDMzcz8AAIC+AAAAQDMzcz+amRk+AAAAADMzcz8AAIC+AAAAADMzcz8AAIA+MzPzPzMzcz8AAIA+AAAAQDMzcz+amRk+MzPzPzMzcz8AAIA+AAAAQGZmhj+amRk+MzPzP2Zmhj8AAIA+AAAAADMzcz8AAIC+AAAAAGZmhj8AAIC+AAAAQDMzcz8AAIC+AAAAQGZmhj8AAIC+AAAAQGZmhj8AAIC+AAAAQGZmhj+amRk+AAAAAGZmhj8AAIC+AAAAAGZmhj8AAIA+MzPzP2Zmhj8AAIA+AAAAAGZmhj8AAIA+MzPzP2Zmhj8AAIA+AAAAADMzcz8AAIA+MzPzPzMzcz8AAIA+AAAAADMzcz8AAIC+AAAAADMzcz8AAIA+AAAAAGZmhj8AAIC+AAAAAGZmhj8AAIA+",
        "encoding": "base64",
        "path": [
         "array",
         "buffer"
        ]
       }
      ],
      "model_module": "jupyter-threejs",
      "model_module_version": "^2.1.0",
      "model_name": "BufferAttributeModel",
      "state": {
       "_view_module": null,
       "_view_module_version": "",
       "array": {
        "dtype": "float32",
        "shape": [
         30,
         3
        ]
       },
       "normalized": true,
       "version": 2
      }
     },
     "ad7431bf80484f1cb5710460f624a481": {
      "model_module": "@jupyter-widgets/controls",
      "model_module_version": "1.5.0",
      "model_name": "DescriptionStyleModel",
      "state": {
       "description_width": ""
      }
     },
     "ade2f59a-d119-497f-b4ee-54455d892ce2": {
      "model_module": "jupyter-threejs",
      "model_module_version": "^2.1.0",
      "model_name": "OrthographicCameraModel",
      "state": {
       "bottom": -5,
       "far": 500,
       "left": -5,
       "near": 0.5,
       "projectionMatrix": [
        0.2,
        0,
        0,
        0,
        0,
        0.2,
        0,
        0,
        0,
        0,
        -0.004004004004004004,
        0,
        0,
        0,
        -1.002002002002002,
        1
       ],
       "right": 5,
       "top": 5
      }
     },
     "ae5a59d2b9f14f63beed06d6939f0b45": {
      "model_module": "@jupyter-widgets/controls",
      "model_module_version": "1.5.0",
      "model_name": "ButtonStyleModel",
      "state": {}
     },
     "ae96c0fe-cd85-4ac1-aa77-2006990fc68e": {
      "model_module": "jupyter-threejs",
      "model_module_version": "^2.1.0",
      "model_name": "Object3DModel",
      "state": {}
     },
     "aebc939b40c14c70b1f0d3a8ad26a117": {
      "model_module": "@jupyter-widgets/controls",
      "model_module_version": "1.5.0",
      "model_name": "HBoxModel",
      "state": {
       "children": [
        "IPY_MODEL_4aa0617c69fd42c5bed3a1b39940d95b",
        "IPY_MODEL_a73a0d20e7d4474992f1878d9a1fcf1d"
       ],
       "layout": "IPY_MODEL_dd9c439a287943c6a7934a7583efd4e6"
      }
     },
     "aec47ffa2f7c46b1be0d26218488f97f": {
      "model_module": "jupyter-threejs",
      "model_module_version": "^2.1.0",
      "model_name": "OrbitControlsModel",
      "state": {
       "_view_module": null,
       "_view_module_version": "",
       "controlling": "IPY_MODEL_5ea18e74eff346a49e0d167593984bcb",
       "maxAzimuthAngle": "inf",
       "maxDistance": "inf",
       "maxZoom": "inf",
       "minAzimuthAngle": "-inf",
       "target": [
        0.9999999999999999,
        -0.75,
        2.125
       ]
      }
     },
     "af12c9d010a64c57b38cd4c09ef1d0c7": {
      "model_module": "jupyter-threejs",
      "model_module_version": "^2.1.0",
      "model_name": "MeshModel",
      "state": {
       "_view_module": null,
       "_view_module_version": "",
       "geometry": "IPY_MODEL_488767355d574db0a019457d26e9da1a",
       "material": "IPY_MODEL_76d7137d5e8f4131bdc4dc7dc83c1d93",
       "morphTargetInfluences": [],
       "name": "mesh_3"
      }
     },
     "af95005df2ce47a6988316ae96e7e7bd": {
      "model_module": "jupyter_cadquery",
      "model_module_version": "^v1.0.0",
      "model_name": "ImageButtonModel",
      "state": {
       "_dom_classes": [
        "view_button"
       ],
       "_model_module_version": "^v1.0.0",
       "_view_module_version": "^v1.0.0",
       "height": "28",
       "layout": "IPY_MODEL_029d7c0598fe45d8bcb87a30677bb05e",
       "style": "IPY_MODEL_9da232f3b52e4cb4b1474f0c5cce2915",
       "tooltip": "Change view to bottom",
       "type": "bottom",
       "value": {},
       "width": "36"
      }
     },
     "afc136071e674418b46615944746f19d": {
      "buffers": [
       {
        "data": "AACAPwAAAAAAAACAAACAPwAAAAAAAACAAACAPwAAAAAAAACAAACAPwAAAAAAAACAAAAAgAAAgL8AAACAAAAAgAAAgL8AAACAAAAAgAAAgL8AAACAAAAAgAAAgL8AAACAAAAAgAAAgL8AAACA8wQ1PwAAAADzBDU/8wQ1PwAAAADzBDU/8wQ1PwAAAADzBDU/8wQ1PwAAAADzBDU/AAAAgAAAAIAAAIC/AAAAgAAAAIAAAIC/AAAAgAAAAIAAAIC/AAAAgAAAAIAAAIC/AAAAAAAAgD8AAAAAAAAAAAAAgD8AAAAAAAAAAAAAgD8AAAAAAAAAAAAAgD8AAAAAAAAAAAAAgD8AAAAAAAAAAAAAAAAAAIA/AAAAAAAAAAAAAIA/AAAAAAAAAAAAAIA/AAAAAAAAAAAAAIA/AACAvwAAAIAAAAAAAACAvwAAAIAAAAAAAACAvwAAAIAAAAAAAACAvwAAAIAAAAAA",
        "encoding": "base64",
        "path": [
         "array",
         "buffer"
        ]
       }
      ],
      "model_module": "jupyter-threejs",
      "model_module_version": "^2.1.0",
      "model_name": "BufferAttributeModel",
      "state": {
       "_view_module": null,
       "_view_module_version": "",
       "array": {
        "dtype": "float32",
        "shape": [
         30,
         3
        ]
       },
       "normalized": true,
       "version": 2
      }
     },
     "afe40a827b3d4435b96b31424379f578": {
      "model_module": "@jupyter-widgets/controls",
      "model_module_version": "1.5.0",
      "model_name": "DescriptionStyleModel",
      "state": {
       "description_width": ""
      }
     },
     "b02fbb3795ff4eeeab2c91d56bf53c7e": {
      "model_module": "jupyter_cadquery",
      "model_module_version": "^v1.0.0",
      "model_name": "ImageButtonModel",
      "state": {
       "_dom_classes": [
        "view_button"
       ],
       "_model_module_version": "^v1.0.0",
       "_view_module_version": "^v1.0.0",
       "height": "28",
       "layout": "IPY_MODEL_fa2f71252d9146c89d107de6deba2e3d",
       "style": "IPY_MODEL_dcfdfdb3e98a4f6f9bf849297c77b9b3",
       "tooltip": "Set clipping plane",
       "type": "1",
       "value": {},
       "width": "36"
      }
     },
     "b03a8a7baf9a4d8095aebf2be09d928e": {
      "model_module": "@jupyter-widgets/controls",
      "model_module_version": "1.5.0",
      "model_name": "LabelModel",
      "state": {
       "layout": "IPY_MODEL_675ef7596cee49289dec9d16cbfa50a7",
       "style": "IPY_MODEL_ef9cb5334fbb422ca608148eaabdd6b7",
       "value": "N=( 0.00,  1.00,  0.00)"
      }
     },
     "b044e9cf6e954c8eb1785304fd282e74": {
      "model_module": "jupyter-threejs",
      "model_module_version": "^2.1.0",
      "model_name": "DirectionalLightModel",
      "state": {
       "_view_module": null,
       "_view_module_version": "",
       "color": "white",
       "intensity": 0.12,
       "matrixWorldNeedsUpdate": true,
       "position": [
        -8.278436197374486,
        8.278436197374486,
        -8.278436197374486
       ],
       "shadow": "IPY_MODEL_8ca4df38-ce2d-44e9-83fe-067e421e5cfe",
       "target": "IPY_MODEL_03f84c20-4b8b-4065-a7a1-5d37f984da0d"
      }
     },
     "b08f2edd-f5bf-4636-b429-75a6cd4087b9": {
      "model_module": "jupyter-threejs",
      "model_module_version": "^2.1.0",
      "model_name": "DirectionalLightShadowModel",
      "state": {
       "camera": "IPY_MODEL_ba9b9339-19cc-47b2-9c0e-fa645d3efb50"
      }
     },
     "b0aa775c27b941429cc427398a868079": {
      "model_module": "@jupyter-widgets/controls",
      "model_module_version": "1.5.0",
      "model_name": "CheckboxModel",
      "state": {
       "_dom_classes": [
        "view_grid"
       ],
       "description": "Grid",
       "disabled": false,
       "indent": false,
       "layout": "IPY_MODEL_15776e41230a40f0b762526c9375fc0c",
       "style": "IPY_MODEL_cc026a1dd04543e7bba1d2514d0e135f",
       "value": false
      }
     },
     "b0af34dd2aa84b04858ab9e111db4d23": {
      "model_module": "@jupyter-widgets/base",
      "model_module_version": "1.2.0",
      "model_name": "LayoutModel",
      "state": {}
     },
     "b1328926a8c9434cbbeff0d79b9bd0a7": {
      "model_module": "@jupyter-widgets/controls",
      "model_module_version": "1.5.0",
      "model_name": "ButtonStyleModel",
      "state": {}
     },
     "b132f2dc90264ba98695758410a6ea49": {
      "buffers": [
       {
        "data": "AACAPwAAAAAAAACAAACAPwAAAAAAAACAAACAPwAAAAAAAACAAACAPwAAAAAAAACAAAAAgAAAgL8AAACAAAAAgAAAgL8AAACAAAAAgAAAgL8AAACAAAAAgAAAgL8AAACAAAAAgAAAgL8AAACA8wQ1PwAAAADzBDU/8wQ1PwAAAADzBDU/8wQ1PwAAAADzBDU/8wQ1PwAAAADzBDU/AAAAgAAAAIAAAIC/AAAAgAAAAIAAAIC/AAAAgAAAAIAAAIC/AAAAgAAAAIAAAIC/AAAAAAAAgD8AAAAAAAAAAAAAgD8AAAAAAAAAAAAAgD8AAAAAAAAAAAAAgD8AAAAAAAAAAAAAgD8AAAAAAAAAAAAAAAAAAIA/AAAAAAAAAAAAAIA/AAAAAAAAAAAAAIA/AAAAAAAAAAAAAIA/AACAvwAAAIAAAAAAAACAvwAAAIAAAAAAAACAvwAAAIAAAAAAAACAvwAAAIAAAAAA",
        "encoding": "base64",
        "path": [
         "array",
         "buffer"
        ]
       }
      ],
      "model_module": "jupyter-threejs",
      "model_module_version": "^2.1.0",
      "model_name": "BufferAttributeModel",
      "state": {
       "_view_module": null,
       "_view_module_version": "",
       "array": {
        "dtype": "float32",
        "shape": [
         30,
         3
        ]
       },
       "normalized": true,
       "version": 2
      }
     },
     "b1726e01994f4f36b932d878eff99259": {
      "model_module": "@jupyter-widgets/controls",
      "model_module_version": "1.5.0",
      "model_name": "LabelModel",
      "state": {
       "layout": "IPY_MODEL_c23fd9532c994e94b012562e92b65548",
       "style": "IPY_MODEL_a67139df42034b9082afae1535622c75",
       "value": "N=( 0.00,  0.00,  1.00)"
      }
     },
     "b18b7de0f1d04680bbe57453cb1d5038": {
      "model_module": "@jupyter-widgets/controls",
      "model_module_version": "1.5.0",
      "model_name": "DescriptionStyleModel",
      "state": {
       "description_width": ""
      }
     },
     "b1be1f7d58394a8c9fe55c8f97edb581": {
      "model_module": "jupyter-threejs",
      "model_module_version": "^2.1.0",
      "model_name": "PlaneModel",
      "state": {
       "_view_module": null,
       "_view_module_version": "",
       "constant": 2.2,
       "normal": [
        1,
        0,
        0
       ]
      }
     },
     "b1d0862f765a4e10bf89f4ef7594a9de": {
      "model_module": "@jupyter-widgets/base",
      "model_module_version": "1.2.0",
      "model_name": "LayoutModel",
      "state": {}
     },
     "b1da2d05-fd03-41f3-b49c-2d916ab022e3": {
      "model_module": "jupyter-threejs",
      "model_module_version": "^2.1.0",
      "model_name": "OrthographicCameraModel",
      "state": {
       "bottom": -5,
       "far": 500,
       "left": -5,
       "near": 0.5,
       "projectionMatrix": [
        0.2,
        0,
        0,
        0,
        0,
        0.2,
        0,
        0,
        0,
        0,
        -0.004004004004004004,
        0,
        0,
        0,
        -1.002002002002002,
        1
       ],
       "right": 5,
       "top": 5
      }
     },
     "b1deeb947c75467ea9081658ba6786b3": {
      "model_module": "@jupyter-widgets/controls",
      "model_module_version": "1.5.0",
      "model_name": "ButtonStyleModel",
      "state": {}
     },
     "b21de36c744f478aa526cbaacc6c2084": {
      "model_module": "jupyter-threejs",
      "model_module_version": "^2.1.0",
      "model_name": "MeshModel",
      "state": {
       "_view_module": null,
       "_view_module_version": "",
       "geometry": "IPY_MODEL_15130e9a1a644fc68f55ddda68381f6b",
       "material": "IPY_MODEL_20f777c168e04fafadf1c21dd81506dd",
       "morphTargetInfluences": [],
       "name": "mesh_1"
      }
     },
     "b239529e-61cf-4d5c-bcda-ce37cda5c92a": {
      "model_module": "jupyter-threejs",
      "model_module_version": "^2.1.0",
      "model_name": "Object3DModel",
      "state": {}
     },
     "b2854798c5ff49c6ace54a0d732fdaed": {
      "model_module": "@jupyter-widgets/base",
      "model_module_version": "1.2.0",
      "model_name": "LayoutModel",
      "state": {}
     },
     "b2b05357a407498fa890ebb58394849d": {
      "model_module": "@jupyter-widgets/controls",
      "model_module_version": "1.5.0",
      "model_name": "VBoxModel",
      "state": {
       "children": [
        "IPY_MODEL_d30ef88f6a6c4afc99610d6bff77fb8f",
        "IPY_MODEL_effcd65f38ad47b6a900187da20465eb",
        "IPY_MODEL_a1fb9d1716514ab494da46d83b2a8b42"
       ],
       "layout": "IPY_MODEL_d9ea26f46259451bb02de0189c9e37fa"
      }
     },
     "b2e528d62c604b43a181c9ee3f9d883e": {
      "model_module": "@jupyter-widgets/controls",
      "model_module_version": "1.5.0",
      "model_name": "HBoxModel",
      "state": {
       "children": [
        "IPY_MODEL_666690e06d114e51a7e245cff2a8ac48",
        "IPY_MODEL_130859722da8438cb93e2053c581f52c",
        "IPY_MODEL_9efe912ebbad4b478274234d81d83632",
        "IPY_MODEL_7c86cf85982c41108a0b2d3901f96401",
        "IPY_MODEL_9ca5112061a84e66a270fb5cf9115db0",
        "IPY_MODEL_987b34990ef04668a34c3016db16caf3",
        "IPY_MODEL_915022b3f55742bea7f0f5cc7b259372",
        "IPY_MODEL_5db16b22f681465ba3054d26fc7ae3a7",
        "IPY_MODEL_a9e9ed2fea084529a5a72d1bc2547126",
        "IPY_MODEL_a6c1d1b5f368474e9d5cace61ff24cc8",
        "IPY_MODEL_4e51a67b94814668b06ed8f89fe56472"
       ],
       "layout": "IPY_MODEL_649f64c16ab44148a893f5b0d407e6d7"
      }
     },
     "b2eb473c-d7d0-4396-9645-c208247b25d3": {
      "model_module": "jupyter-threejs",
      "model_module_version": "^2.1.0",
      "model_name": "DirectionalLightShadowModel",
      "state": {
       "camera": "IPY_MODEL_42e0776b-b7f6-4764-b7cd-da3bd47b50b6"
      }
     },
     "b2ecec3aba0a4270b42d93403902380d": {
      "model_module": "jupyter-threejs",
      "model_module_version": "^2.1.0",
      "model_name": "BufferGeometryModel",
      "state": {
       "_view_module": null,
       "_view_module_version": "",
       "attributes": {
        "index": "IPY_MODEL_a7e61edafe174e68ad672df3400cf2b6",
        "normal": "IPY_MODEL_afc136071e674418b46615944746f19d",
        "position": "IPY_MODEL_ce372e1e575444daa8d57871f761166c"
       }
      }
     },
     "b2f0ff795bb84cab89da1453514563d0": {
      "model_module": "@jupyter-widgets/controls",
      "model_module_version": "1.5.0",
      "model_name": "DescriptionStyleModel",
      "state": {
       "description_width": ""
      }
     },
     "b346aa24fab2470a8738e539081e2ec9": {
      "model_module": "jupyter-threejs",
      "model_module_version": "^2.1.0",
      "model_name": "BufferGeometryModel",
      "state": {
       "_view_module": null,
       "_view_module_version": "",
       "attributes": {
        "index": "IPY_MODEL_30a73ca93ed841dea28b404f2b94f396",
        "normal": "IPY_MODEL_6c749c19ff5441e3a967d1d6ff43f3d6",
        "position": "IPY_MODEL_8422da9a22cb4d4c8b2b8853f292018e"
       }
      }
     },
     "b358a8d9-ee02-4b31-9316-a45cd60f8650": {
      "model_module": "jupyter-threejs",
      "model_module_version": "^2.1.0",
      "model_name": "Object3DModel",
      "state": {}
     },
     "b39bedb916e54000b890d5a99093c475": {
      "model_module": "@jupyter-widgets/base",
      "model_module_version": "1.2.0",
      "model_name": "LayoutModel",
      "state": {}
     },
     "b3f1fbe6ee7846bc9d1f1e940193ed81": {
      "model_module": "@jupyter-widgets/controls",
      "model_module_version": "1.5.0",
      "model_name": "DescriptionStyleModel",
      "state": {
       "description_width": ""
      }
     },
     "b411c250121f44ca926b22ab990cb572": {
      "model_module": "jupyter_cadquery",
      "model_module_version": "^v1.0.0",
      "model_name": "TreeModel",
      "state": {
       "_dom_classes": [
        "view_tree",
        "scroll-area",
        "mac-scrollbar"
       ],
       "_model_module_version": "^v1.0.0",
       "_view_module_version": "^v1.0.0",
       "button_style": "",
       "icon": "",
       "icons": [
        {
         "0": "iVBORw0KGgoAAAANSUhEUgAAARgAAADcCAYAAACrgL6aAAAFCElEQVR4nO3dUXYbNwwFULQnC/PSvbPmo9Vxao9saUQOAfDeDUQE3jxTipVEAAAAAAAAAAAAAAAAAAAAAAAAAAAAAAAAAAAAAAAAAAAAAAAAAAAAAAAAAAAAAAAAAAAAAAAAAAAAAAAAAAAAAADU89fqF8Aab29v/1z9Z76/v8vbZiy8mRXFMZoi6sMiC+pQImcpn1osK7Gdi+RZiicnS0lCmYyndNazgIWUyrUUzvUM/EIKJQ9lcw1Dnkyp1KBw5jDUwRRKfcpmHIMcQKn0pWxeY3gnVS+VFQ9O9ZlFKJxnGdYTKj0gVR8EM+7FgB6QLfQ7B9suajGcO7IEWYB/Zld5GciBVYEV0HFWlo49fjCI/yiVvpTNOlsf/ubKAO4euCzs/BrbHjzimpDtHK4q5GCeLQ8tUNwjG2Ntc9CI+eHZKTg7mJmXXbKyxSEj5oVll6DsTn7OaX24iDnB6B4KvidTj2t5qAg/cZhLyTym3YEixi+/4+IZR97ua3OQm5HL7rRo5pO9r1oc4mbUgrssl+spmf8rf4AIxUJOchnx9+oX8CpLJKtRmcrybfEzSj9UIwavWLjCrlkt94JvXl1YxWVR244lU+rF3ryyqGoLoqddMlzuM5hdFkNvr2Sx0mcypR64s4NVLGTWOddlbjCdl8Dezma0wk2mRMEoF7rrWjLpCyb7AGG1zM/Ir9UvYAY3Fyq65TZzYTwr9Q3mzKCVC9WdyXDWUkr5MPrMBXo8B6lvMM/INFQYoUOm0xWMt0XwofrbpVQFo1zgq8olk6pggF7SFIzbC9xX9RaTpmCepVzYTcXMpyiYZ5u24qBhhGezv/oWk6JggJ7KFYzbC7ur9AwsL5jVVzjobuUztrxggL5KFUylqyHMVOVZKFUw3k7Bv6o8C6UKBqhlecFUuepBVSufseUF86wqV0OYpdIzUK5ggDpSFEy1X3+GVap9rSZFwZyhZNhNxcynKZiqX0eHK1T950zSFAzQT6qCcYuBr6reXiKSFUyEkoE/VS6XiIQFc5aSoZsOmU7TdEeqtzec1SX7qW8w3i6xoy7lEhHxa/ULmOG2oKxDhyMdfzimvsFEKAn4SeZnJH3BRJwfYMefCPTU4T+6P1KiYCKUDH11LZeI5H+LdOSVwqiwEPaxQ5bL3GBuXhms2wxZ7FAuEQVvMDcjyqLSoujh1dxWy2ypF/uZkqGKXbNa7gV/NuptT8Xlkd/u+Sz3Gcxnowbv8xlG271cIhrcYP40siQqL5W1FMuH8gf4TMmwiux91eIQn41+u9Nl2cwhb/e1OciRGZ+rdFo+5836zK5bvlod5oiSYTSZelzLQx3xE4dXyM85rQ93ZOZfR3cPy25m/+rCDnlpf8AjV/zOyw7h6Ug2xtrmoPcIFBFyMMt2Bz5y5W/x7hiyjOz8Gtse/LOVXxXYOYBXWbXf3Xe79eHvUTY9KJX1DOIbWb4AKbA/s6ucDONBWQJ8s3OQ7aIOg3lCtmB/p2rozbgXAzqp0oNwz4oHpPrclMpzDGuQ6g8O9ymV8wxuAmVTn1IZwxAnUzY1KJQ5DPViCicPpTKfAS+kbK6lUK5n4IkonPGUylqGn5zSeZwyycdCitq5eBRJHRbVUIfyUSI9WOLGVhSR4gAAAAAAAAAAAAAAAAAAAAAAAAAAAAAAAAAAAAAAAAAAAAAAAAAAAAAAAAAAAAAAAAAAAAAAAAAAAAAAAAAAAABgkN/fSHSu9KigrAAAAABJRU5ErkJggg==",
         "1": "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",
         "2": "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",
         "3": "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"
        },
        {
         "0": "iVBORw0KGgoAAAANSUhEUgAAARgAAADcCAYAAACrgL6aAAADU0lEQVR4nO3YUVFEMRBE0QEfqwoDSMMAqhCyKEh+YDbTqXMMZH7era5XBQAAAAAAAAAAAAAAAAAAAAAAAAAAAAAAAAAAAAAAAAAAAAAAAAAAAAAAAAAAAAAAAAAAAAAAwN+8nT7gv3x8/TxP3wCTfX8+Xv69v7/6QeD1TsSl6pLAWC8w0xWBAdZOrZeqCwJjvcBc8YEB1k6ul6rwwFgvMFt0YIC10+ulKjgw1gvMFxsYYG3CeqkKDYz1AhkiAwOsTVkvVYGBsV4gR1xggLVJ66UqLDDWC2SJCgywNm29VAUFxnqBPDGBAdYmrpeqkMBYL5ApIjDA2tT1UhUQGOsFco0PDLA2eb1UDQ+M9QLZRgcGWJu+XqoGB8Z6gXxjAwOsJayXqqGBsV7gDiMDA6ylrJeqgYGxXuAe4wIDrCWtl6phgbFe4C6jAgOspa2XqkGBsV7gPmMCA6wlrpeqIYGxXuBOIwIDrKWul6oBgbFe4F7HAwOsJa+XqsOBsV7gbhYMDJW+XqoOBsZ6gftZMEAbgQHaCAzQRmCANgIDtBEYoI3AAG0EBmgjMEAbgQHaCAzQRmCANgIDtBEYoI3AAG0EBmgjMEAbgQHaCAzQRmCANgIDtBEYoI3AAG0EBmgjMEAbgQHaCAzQRmCANgIDtBEYoI3AAG0EBmgjMEAbgQHaCAzQRmCANgIDtBEYoI3AAG0EBmhzLDDfn4+3U28Dr2HBwFAfXz/P0zf81dHAWDFwNwsGBktfMccDY8XAvY4HBthLXjEjAmPFwJ1GBAbYS10xYwJjxcB9xgQG2EtcMaMCY8XAXUYFBthLWzHjAmPFwD3GBQbYS1oxIwNjxcAdRgYG2EtZMWMDY8VAvrGBAfYSVszowFgxkG10YIC96StmfGCsGMg1PjDA3uQVExEYKwYyRQQG2Ju6YmICY8VAnpjAAHsTV0xUYKwYyBIVGGBv2oqJC4wVAzniAgPsTVoxkYGxYiBDZGCAvSkrJjYwVgzMFxsYYG/CiokOjBUDs0UHBtg7vWLiA2PFwFzxgQH2Tq6YKwJjxcBMVwQG2Dv9LwYAAAAAAAAAAAAAAAAAAAAAAAAAAAAAAAAAAAAAAAAAAAAAAAAAAAAAAAAAAAAAAAAAAAAA4Hq/ZAik8uNneKUAAAAASUVORK5CYII=",
         "1": "iVBORw0KGgoAAAANSUhEUgAAARgAAADcCAYAAACrgL6aAAAFFklEQVR4nO3bUWocSRAE0PTiG/hCuojBRzP4InMhn8H7tbCwsHRLyqrI6ve+BTMo3JGhsVQFAAAAAAAAAAAAAAAAAAAAAAAAAAAAAAAAAAAAAAAAAAAAAAAAAAAAAAAAAAAAAAAAAJzty+438FFvb29/dr8HmOT1ei177v9a9UIdlAvct/K5GVswygXeb9XzM7ZggHwjC8Z6gRlGFgwww7iCsV5gjnEFA3zcqv+qHlUw1gvMMqpggI9b+Yt2X1e90EfdWS/ffvzqfCtU1e+f3y9/rTz63cljpeMWjH/MWeSRZeV6qRpSMD57yZJ6LZ8qOY8RBXOVa5lFHllWr5eqAQVjvWRJvpZPlJ5HfMFc5VpmkUeWHeulKrxgrJcs6dfyaSbkEV0wV7mWWeSRZdd6qQouGOsly4Rr+SRT8ogtmKtcyyzyyLJzvVSFFoz1kmXKtXyKSXlEFsxVrmUWeWTZvV6qAgvGesky6Vo+wbQ84grmKtcyizyyJKyXqrCCsV6yTLuWp5uYR1TBXOVaZpFHlpT1UhVUMNZLlonX8mRT84gpmKtcyyzyyJK0XqpCCsZ6yTL1Wp5qch4RBXOVa5lFHlnS1ktVQMFYL1kmX8sTTc9je8Fc5VpmkUeWxPVStblgrJcs06/laU7IY8SCcS2zyCNL6nqp2lgw1kuWE67lSU7JI37BuJZZ5JEleb1UbSoY6yXLKdfyFCflEb1gXMss8siSvl6qNhSM9ZLlpGt5gtPyWN6ACgY+bsJ6qVq8YJQLPEv0ZzDAf01ZL1ULC8Z6geexYGCQSeulalHBWC/wTBYM0EbBAG0UDNBGwQBtFAzQ5uvuN/Bv/phujTt/7yKTNU77G6R/WDBAGwUDtFEwQBsFA7RRMEAbBQO0UTBAGwUDtFEwQBsFA7RRMEAbBQO0UTBAGwUDtFEwQBsFA7RRMEAbBQO0UTBAGwUDtFEwQBsFA7RRMEAbBQO0UTBAGwUDtFEwQBsFA7T5suJF3t7e/qx4HTjd6/Va8sx+FgsGaKNggDYKBmijYIA2CgZos6Rgpn3yDXwOCwYGmfYrH8sKxoqB57FgYJhJK2ZpwVgx8CzLH/g77fvtx6/Ot0JV/f75/fLXyqPfnTwmHOzlPyJN+KY8idLIcloe0Z/B3Glz+skjy4TPYrYUjBWT5bSrOd1JeUQvmCpXM408sqSvmG0FY8VkOelqnuCUPOIXTJWrmUYeWZJXzNaCsWKynHI1T3FCHiMWTJWrmUYeWVJXzPaCsWKynHA1TzI9j+0Fc4ermUUeWRJXTETBWDFZpl/N00zOI6Jg7nA1s8gjS9qKiSkYKybL5Kt5oql5xBTMHa5mFnlkSVoxUQVjxWSZejVPNTGPqIK5w9XMIo8sKSsmrmCsmCwTr+bJpuURVzB3uJpZ5JElYcVEFowVk2Xa1TzdpDwiC+YOVzOLPLLsXjGxBWPFZJl0NZ9gSh6xBXOHq5lFHll2rpjogrFisky5mk8xIY/ogrnD1cwijyy7Vkx8wVgxWSZczSdJzyO+YO5wNbPII8uOFTOiYKyYLOlX82mS8xhRMHe4mlnkkWX1ihm1DHb/0hCcYOVPBMctGOD/rTzUowrGZzEwy6iCAT7HqhUzrmCsGJhjXMEAc4wsGCsGZhhZMMAMYwvGioH3W/X8jC2YKiUD7+G5AQAAAAAAAAAAAAAAAAAAAAAAAAAAAAAAAAAAAAAAAAAAAAAAAAAAAAAAAAAAAAAAgAf6Gy0zeNBNTtmiAAAAAElFTkSuQmCC",
         "2": "iVBORw0KGgoAAAANSUhEUgAAARgAAADcCAYAAACrgL6aAAAElElEQVR4nO3dwW3kRhRF0S9DGcxauXQOWhtQaAJmPTkwF60nBnlRGNswBgap7s961X1OAiqIwuMVW4SqAAAAAAAAAAAAAAAAAAAAAAAAAAAAAAAAAAAAAAAAAAAAAAAAAAAAAAAAAAAAAAAAAID79jT7ANe6XC6fs8/waLZtW/7nhnP8MfsA1zAukG3ZgTEukG/ZgQHyPc8+wFeol/vx+v7hWp7kx9vL6c/OFAw8gBnjUrXgwKgXWMdyAwMcM6teqhYbGPUCa1lqYIBjZtZL1UKfIh2pl29v3zuPwvYy+wQs4u4KxrjAMLteqhYZGM9eYE1LDMxe6gWGhHqpWmBg1EuWn+9/zj4CC4kfmL3UCwwp9VIVPjDqJYt64ajogdlLvcCQVC9VwQOjXrKoF74idmD2Ui8wpNVLVejAqJcs6oWvihyYvdQLDIn1UhU4MOoli3rhGnEDs5d6gSG1XqrCBka9ZFEvXCtqYPZSLzAk10tV0MColyzqhVuIGZi91AsM6fVSFTIw6iWLeuFWIgZmL/UCwwr1UhUwMOoli3rhlqYPzF7qBYZV6qVq8sColyzqhVtbomDUCwwr1UvVxIFRL1nUCx3iC0a9ZHE95lmtXqomDYx6yaJe6BJdMO6WWVyPeVasl6oJA6NesqgXOj3PPsD/8cOfxfWYY9V6qTq5YNQLPJboZzDw6Faul6oTB0a9wONRMBBq9XqpOmlg1As8JgUDtDEwQBsDA7QxMEAbAwO0iXpVwMt05zjyJ/+/vSbbyw1Pwz1TMEAbAwO0MTBAGwMDtDEwQBsDA7QxMEAbAwO0MTBAGwMDtDEwQBsDA7QxMEAbAwO0MTBAGwMDtDEwQBsDA7QxMEAbAwO0MTBAGwMDtDEwQBsDA7QxMEAbAwO0MTBAGwMDtHmefYB/O/JP2TmHa8I1FAzQxsAAbQwM0MbAAG0MDNDmlIHZtu3pjK8DZFEwEOr1/eNz9hmuddrAqBh4PAoGgq1eMacOjIqBxxL1qsB/fXv7PvsId+/IqwB/X4/tpek0/M7r+8fnj7eXJW/Op/+KpGKyGHE6RT+D8aJdFtdjnlWfxUwZGBWTRcXQJbpgqtw107ge86xYMdMGRsVkUTF0iC+YKndN+GW1ipk6MComi4rh1pYomCoVA7+sVDHTB0bFZFEx3NL0gTlCxcCwSsVEDIyKyaJiuJWIgTlCxcCwQsXEDIyKyaJiuIWYgTlCxcCQXjFRA6NisqgYrhU1MEeoGBiSKyZuYFRMFhXDNeIG5ggVA0NqxUQOjIrJomL4qsiBOULFwJBYMbEDo2KyqBi+InZgjlAxMKRVTPTAqJgsKoajogfmCBUDQ1LFxA+MismiYjgifmCOUDEwpFTMEgOjYmBNSwzMESoGhoSKeZ59gL22bXu6XC67vmFGBjLcXcEA/5hdMUsNjGcxsJalBgY4bmbFLDcwKgbWsdzAAMfNqphla2DvJ0rcnopkLwUDtFl2YNxFId+yA1NlZAAAAAAAAAAAAAAAAAAAAAAAAAAAAAAAAAAAAAAAAAAAAAAAAAAAAAAAAAAAAAAAAABgl78AGhwmMlTVb/sAAAAASUVORK5CYII=",
         "3": "iVBORw0KGgoAAAANSUhEUgAAARgAAADcCAYAAACrgL6aAAADTElEQVR4nO3YwW3FMAxEQSZluP/a3EZSgXRJ+MUVZhoQL35YuAoAAAAAAAAAAAAAAAAAAAAAAAAAAAAAAAAAAAAAAAAAAAAAAAAAAAAAAAAAAAAAAAAAAAAAAIC/+Tp9wH953/fn9A0w2fM8H//evz/9IPB5J+JSdUlgrBeY6YrAAGun1kvVBYGxXmCu+MAAayfXS1V4YKwXmC06MMDa6fVSFRwY6wXmiw0MsDZhvVSFBsZ6gQyRgQHWpqyXqsDAWC+QIy4wwNqk9VIVFhjrBbJEBQZYm7ZeqoICY71AnpjAAGsT10tVSGCsF8gUERhgbep6qQoIjPUCucYHBlibvF6qhgfGeoFsowMDrE1fL1WDA2O9QL6xgQHWEtZL1dDAWC9wh5GBAdZS1kvVwMBYL3CPcYEB1pLWS9WwwFgvcJdRgQHW0tZL1aDAWC9wnzGBAdYS10vVkMBYL3CnEYEB1lLXS9WAwFgvcK/jgQHWktdL1eHAWC9wNwsGhkpfL1UHA2O9wP0sGKCNwABtBAZoIzBAG4EB2ggM0EZggDYCA7QRGKCNwABtBAZoIzBAG4EB2ggM0EZggDYCA7QRGKCNwABtBAZoIzBAG4EB2ggM0EZggDYCA7QRGKCNwABtBAZoIzBAG4EB2ggM0EZggDYCA7QRGKCNwABtBAZoIzBAG4EB2ggM0EZggDYCA7Q5Fpjneb5OvQ18hgUDQ73v+3P6hr86GhgrBu5mwcBg6SvmeGCsGLjX8cAAe8krZkRgrBi404jAAHupK2ZMYKwYuM+YwAB7iStmVGCsGLjLqMAAe2krZlxgrBi4x7jAAHtJK2ZkYKwYuMPIwAB7KStmbGCsGMg3NjDAXsKKGR0YKwayjQ4MsDd9xYwPjBUDucYHBtibvGIiAmPFQKaIwAB7U1dMTGCsGMgTExhgb+KKiQqMFQNZogID7E1bMXGBsWIgR1xggL1JKyYyMFYMZIgMDLA3ZcXEBsaKgfliAwPsTVgx0YGxYmC26MAAe6dXTHxgrBiYKz4wwN7JFXNFYKwYmOmKwAB7p//FAAAAAAAAAAAAAAAAAAAAAAAAAAAAAAAAAAAAAAAAAAAAAAAAAAAAAAAAAAAAAAAAAAAAAABc7xeH7KTyjFElFAAAAABJRU5ErkJggg=="
        }
       ],
       "layout": "IPY_MODEL_a1667f214c5c480fbb5554bdaf30d7ac",
       "state": {
        "14": [
         0,
         1
        ],
        "15": [
         1,
         1
        ],
        "16": [
         0,
         1
        ],
        "17": [
         1,
         1
        ]
       },
       "style": "IPY_MODEL_cedbabee734a4e81a3dc52e34ba2d508",
       "tooltip": "",
       "tree": {
        "children": [
         {
          "color": "rgb(232, 176, 36)",
          "id": 14,
          "name": "TOP",
          "type": "leaf"
         },
         {
          "color": "rgb(232, 176, 36)",
          "id": 15,
          "name": "TOP@faces@&gt;(1,0,1)",
          "type": "leaf"
         },
         {
          "color": "rgb(232, 176, 36)",
          "id": 16,
          "name": "THIRD",
          "type": "leaf"
         },
         {
          "color": "rgb(232, 176, 36)",
          "id": 17,
          "name": "THIRD@faces@&gt;Z",
          "type": "leaf"
         }
        ],
        "id": 18,
        "name": "Assembly",
        "type": "node"
       }
      }
     },
     "b45085fa75854a0cad3bfea214ef6b4f": {
      "buffers": [
       {
        "data": "AAAAAAAAAAAAAAAAAAAAAOxRvEAAAAAA",
        "encoding": "base64",
        "path": [
         "positions",
         "buffer"
        ]
       }
      ],
      "model_module": "jupyter-threejs",
      "model_module_version": "^2.1.0",
      "model_name": "LineSegmentsGeometryModel",
      "state": {
       "_view_module": null,
       "_view_module_version": "",
       "positions": {
        "dtype": "float32",
        "shape": [
         1,
         2,
         3
        ]
       }
      }
     },
     "b47bb76cc7c44a30b8932039997f2486": {
      "model_module": "jupyter-threejs",
      "model_module_version": "^2.1.0",
      "model_name": "OrbitControlsModel",
      "state": {
       "_view_module": null,
       "_view_module_version": "",
       "controlling": "IPY_MODEL_83593a8dcdb24424905bd9143568fb7d",
       "maxAzimuthAngle": "inf",
       "maxDistance": "inf",
       "maxZoom": "inf",
       "minAzimuthAngle": "-inf",
       "target": [
        0.9999999999999999,
        -0.75,
        2.125
       ]
      }
     },
     "b487581134274412b8d66a18eb24478e": {
      "model_module": "@jupyter-widgets/base",
      "model_module_version": "1.2.0",
      "model_name": "LayoutModel",
      "state": {}
     },
     "b48c9b22-b5fc-45c7-a6fe-1ba926f4c8a2": {
      "model_module": "jupyter-threejs",
      "model_module_version": "^2.1.0",
      "model_name": "Object3DModel",
      "state": {}
     },
     "b4aad7ae2ba54acdbc08ed0bbe9fc990": {
      "model_module": "jupyter-threejs",
      "model_module_version": "^2.1.0",
      "model_name": "PlaneModel",
      "state": {
       "_view_module": null,
       "_view_module_version": "",
       "constant": 1.2000000000000002,
       "normal": [
        1,
        0,
        0
       ]
      }
     },
     "b541fa40b18c4667be583a20de532b25": {
      "model_module": "jupyter-threejs",
      "model_module_version": "^2.1.0",
      "model_name": "DirectionalLightModel",
      "state": {
       "_view_module": null,
       "_view_module_version": "",
       "color": "white",
       "intensity": 0.12,
       "matrixWorldNeedsUpdate": true,
       "position": [
        8.278436197374486,
        8.278436197374486,
        8.278436197374486
       ],
       "shadow": "IPY_MODEL_b2eb473c-d7d0-4396-9645-c208247b25d3",
       "target": "IPY_MODEL_8ae72fc0-6589-424e-a976-bca5fb067e08"
      }
     },
     "b54555379f984d66a3cdd5a5a4a7abf7": {
      "model_module": "jupyter-threejs",
      "model_module_version": "^2.1.0",
      "model_name": "LineMaterialModel",
      "state": {
       "_view_module": null,
       "_view_module_version": "",
       "color": "#808080"
      }
     },
     "b556e1c30a344c8ab72807e804b65d9b": {
      "model_module": "@jupyter-widgets/controls",
      "model_module_version": "1.5.0",
      "model_name": "ButtonStyleModel",
      "state": {}
     },
     "b55f25809ea941a490d6de853121b7bf": {
      "model_module": "@jupyter-widgets/controls",
      "model_module_version": "1.5.0",
      "model_name": "ButtonStyleModel",
      "state": {}
     },
     "b5706c10ed0f46d68dfc803c002d59b6": {
      "model_module": "@jupyter-widgets/base",
      "model_module_version": "1.2.0",
      "model_name": "LayoutModel",
      "state": {}
     },
     "b57989dc-bf03-4006-b51b-e4f501e0c838": {
      "model_module": "jupyter-threejs",
      "model_module_version": "^2.1.0",
      "model_name": "OrthographicCameraModel",
      "state": {
       "bottom": -5,
       "far": 500,
       "left": -5,
       "near": 0.5,
       "projectionMatrix": [
        0.2,
        0,
        0,
        0,
        0,
        0.2,
        0,
        0,
        0,
        0,
        -0.004004004004004004,
        0,
        0,
        0,
        -1.002002002002002,
        1
       ],
       "right": 5,
       "top": 5
      }
     },
     "b5c7feba17ca47faa34290f4c197828d": {
      "model_module": "jupyter-threejs",
      "model_module_version": "^2.1.0",
      "model_name": "OrbitControlsModel",
      "state": {
       "_view_module": null,
       "_view_module_version": "",
       "controlling": "IPY_MODEL_f6043d98f92741f5ae7addaeaf22ee83",
       "maxAzimuthAngle": "inf",
       "maxDistance": "inf",
       "maxZoom": "inf",
       "minAzimuthAngle": "-inf",
       "target": [
        0.9999999999999999,
        1,
        0
       ]
      }
     },
     "b5cb98eddfbe4a31baf9d3751c20fdc5": {
      "buffers": [
       {
        "data": "AACAPwAAAAAAAACAAACAPwAAAAAAAACAAACAPwAAAAAAAACAAACAPwAAAAAAAACAAAAAgAAAgL8AAACAAAAAgAAAgL8AAACAAAAAgAAAgL8AAACAAAAAgAAAgL8AAACAAAAAgAAAgL8AAACA8wQ1PwAAAADzBDU/8wQ1PwAAAADzBDU/8wQ1PwAAAADzBDU/8wQ1PwAAAADzBDU/AAAAgAAAAIAAAIC/AAAAgAAAAIAAAIC/AAAAgAAAAIAAAIC/AAAAgAAAAIAAAIC/AAAAAAAAgD8AAAAAAAAAAAAAgD8AAAAAAAAAAAAAgD8AAAAAAAAAAAAAgD8AAAAAAAAAAAAAgD8AAAAAAAAAAAAAAAAAAIA/AAAAAAAAAAAAAIA/AAAAAAAAAAAAAIA/AAAAAAAAAAAAAIA/AACAvwAAAIAAAAAAAACAvwAAAIAAAAAAAACAvwAAAIAAAAAAAACAvwAAAIAAAAAA",
        "encoding": "base64",
        "path": [
         "array",
         "buffer"
        ]
       }
      ],
      "model_module": "jupyter-threejs",
      "model_module_version": "^2.1.0",
      "model_name": "BufferAttributeModel",
      "state": {
       "_view_module": null,
       "_view_module_version": "",
       "array": {
        "dtype": "float32",
        "shape": [
         30,
         3
        ]
       },
       "normalized": true,
       "version": 2
      }
     },
     "b6ee6d61-918c-4e4a-8e6f-2083cf3d3447": {
      "model_module": "jupyter-threejs",
      "model_module_version": "^2.1.0",
      "model_name": "OrthographicCameraModel",
      "state": {
       "bottom": -5,
       "far": 500,
       "left": -5,
       "near": 0.5,
       "projectionMatrix": [
        0.2,
        0,
        0,
        0,
        0,
        0.2,
        0,
        0,
        0,
        0,
        -0.004004004004004004,
        0,
        0,
        0,
        -1.002002002002002,
        1
       ],
       "right": 5,
       "top": 5
      }
     },
     "b75a6b8d-b21a-4bf3-99b9-3036d34f3cf1": {
      "model_module": "jupyter-threejs",
      "model_module_version": "^2.1.0",
      "model_name": "OrthographicCameraModel",
      "state": {
       "bottom": -5,
       "far": 500,
       "left": -5,
       "near": 0.5,
       "projectionMatrix": [
        0.2,
        0,
        0,
        0,
        0,
        0.2,
        0,
        0,
        0,
        0,
        -0.004004004004004004,
        0,
        0,
        0,
        -1.002002002002002,
        1
       ],
       "right": 5,
       "top": 5
      }
     },
     "b792bcdd-f6f7-495a-8c63-6985af04902e": {
      "model_module": "jupyter-threejs",
      "model_module_version": "^2.1.0",
      "model_name": "DirectionalLightShadowModel",
      "state": {
       "camera": "IPY_MODEL_d2414b15-71db-4f55-9b70-4d1d467ba68a"
      }
     },
     "b7dbf06b-0177-4af6-9435-991056b13de5": {
      "model_module": "jupyter-threejs",
      "model_module_version": "^2.1.0",
      "model_name": "OrthographicCameraModel",
      "state": {
       "bottom": -5,
       "far": 500,
       "left": -5,
       "near": 0.5,
       "projectionMatrix": [
        0.2,
        0,
        0,
        0,
        0,
        0.2,
        0,
        0,
        0,
        0,
        -0.004004004004004004,
        0,
        0,
        0,
        -1.002002002002002,
        1
       ],
       "right": 5,
       "top": 5
      }
     },
     "b8068c64-f1ab-417c-add6-4c71499c2d70": {
      "model_module": "jupyter-threejs",
      "model_module_version": "^2.1.0",
      "model_name": "DirectionalLightShadowModel",
      "state": {
       "camera": "IPY_MODEL_a9885806-988d-4509-b08f-b81adfdc95f9"
      }
     },
     "b84bd5116f094d4fbad6aab0bfac8f7b": {
      "model_module": "@jupyter-widgets/controls",
      "model_module_version": "1.5.0",
      "model_name": "CheckboxModel",
      "state": {
       "_dom_classes": [
        "view_grid"
       ],
       "description": "Grid",
       "disabled": false,
       "indent": false,
       "layout": "IPY_MODEL_22d01ddf695348aab3cd72318f028945",
       "style": "IPY_MODEL_8e154ba6546b48bf95d3fd0ee3f73239",
       "value": false
      }
     },
     "b84eef0aa93f42e2b776ee30960af667": {
      "buffers": [
       {
        "data": "AAAAAAIAAAADAAAAAAAAAAMAAAABAAAABQAAAAQAAAAGAAAACAAAAAYAAAAHAAAACAAAAAUAAAAGAAAADAAAAAkAAAAKAAAADAAAAAsAAAAJAAAAEAAAAA0AAAAOAAAAEAAAAA8AAAANAAAAEgAAABMAAAARAAAAFQAAABQAAAATAAAAFQAAABMAAAASAAAAGQAAABcAAAAWAAAAGQAAABYAAAAYAAAAGwAAABwAAAAaAAAAGwAAAB0AAAAcAAAA",
        "encoding": "base64",
        "path": [
         "array",
         "buffer"
        ]
       }
      ],
      "model_module": "jupyter-threejs",
      "model_module_version": "^2.1.0",
      "model_name": "BufferAttributeModel",
      "state": {
       "_view_module": null,
       "_view_module_version": "",
       "array": {
        "dtype": "uint32",
        "shape": [
         48
        ]
       },
       "normalized": true,
       "version": 2
      }
     },
     "b8e60858a68642ccb2de06de382d5644": {
      "buffers": [
       {
        "data": "AAAAQDMzcz8AAJhAAAAAQDMzcz/NzKRAAAAAQGZmhj8AAJhAAAAAQGZmhj/NzKRAAAAAQDMzcz8AAJhAAAAAQDMzcz/NzKRAAAAAADMzcz8AAJhAAAAAADMzcz8AAKhAMzPzPzMzcz8AAKhAAAAAQDMzcz/NzKRAMzPzPzMzcz8AAKhAAAAAQGZmhj/NzKRAMzPzP2Zmhj8AAKhAAAAAADMzcz8AAJhAAAAAAGZmhj8AAJhAAAAAQDMzcz8AAJhAAAAAQGZmhj8AAJhAAAAAQGZmhj8AAJhAAAAAQGZmhj/NzKRAAAAAAGZmhj8AAJhAAAAAAGZmhj8AAKhAMzPzP2Zmhj8AAKhAAAAAAGZmhj8AAKhAMzPzP2Zmhj8AAKhAAAAAADMzcz8AAKhAMzPzPzMzcz8AAKhAAAAAADMzcz8AAJhAAAAAADMzcz8AAKhAAAAAAGZmhj8AAJhAAAAAAGZmhj8AAKhA",
        "encoding": "base64",
        "path": [
         "array",
         "buffer"
        ]
       }
      ],
      "model_module": "jupyter-threejs",
      "model_module_version": "^2.1.0",
      "model_name": "BufferAttributeModel",
      "state": {
       "_view_module": null,
       "_view_module_version": "",
       "array": {
        "dtype": "float32",
        "shape": [
         30,
         3
        ]
       },
       "normalized": true,
       "version": 2
      }
     },
     "b8ea2cb7d80d48229b914ab56e1ab733": {
      "buffers": [
       {
        "data": "AADAPwAAAD+amRk/zcyMPwAAAD8AAIA/AADAPwAAAD+amRk/AADAPwAAwD+amRk/zcyMPwAAAD8AAIA/zcyMPwAAwD8AAIA/AADAPwAAwD+amRk/zcyMPwAAwD8AAIA/",
        "encoding": "base64",
        "path": [
         "positions",
         "buffer"
        ]
       }
      ],
      "model_module": "jupyter-threejs",
      "model_module_version": "^2.1.0",
      "model_name": "LineSegmentsGeometryModel",
      "state": {
       "_view_module": null,
       "_view_module_version": "",
       "positions": {
        "dtype": "float32",
        "shape": [
         4,
         2,
         3
        ]
       }
      }
     },
     "b8f83d1eeede428392436ee4b276177e": {
      "model_module": "jupyter-threejs",
      "model_module_version": "^2.1.0",
      "model_name": "GridHelperModel",
      "state": {
       "_view_module": null,
       "_view_module_version": "",
       "colorCenterLine": "#aaa",
       "colorGrid": "#ddd",
       "divisions": 22,
       "matrix": [
        1,
        0,
        0,
        0,
        0,
        2.220446049250313e-16,
        1,
        0,
        0,
        -1,
        2.220446049250313e-16,
        0,
        0.5500000549999999,
        0.5500000549999999,
        0,
        1
       ],
       "position": [
        0.5500000549999999,
        0.5500000549999999,
        0
       ],
       "quaternion": [
        0.7071067811865475,
        0,
        0,
        0.7071067811865476
       ],
       "rotation": [
        1.5707963267948966,
        0,
        0,
        "XYZ"
       ],
       "size": 4.4,
       "type": "LineSegments",
       "visible": false
      }
     },
     "b915eb202c1e47ba96366f995d9fe1ab": {
      "buffers": [
       {
        "data": "AADAPwAAAD8AAIC/AADAPwAAAD+amRk/AADAPwAAAD+amRk/AADAPwAAwD+amRk/AADAPwAAAD8AAIC/AADAPwAAwD8AAIC/AADAPwAAwD8AAIC/AADAPwAAwD+amRk/AADAPwAAAD+amRk/zcyMPwAAAD8AAIA/AAAAPwAAAD8AAIC/AADAPwAAAD8AAIC/AAAAPwAAAD8AAIA/zcyMPwAAAD8AAIA/AAAAPwAAAD8AAIC/AAAAPwAAAD8AAIA/zcyMPwAAAD8AAIA/zcyMPwAAwD8AAIA/AADAPwAAwD+amRk/zcyMPwAAwD8AAIA/AAAAPwAAAD8AAIC/AAAAPwAAwD8AAIC/AAAAPwAAwD8AAIC/AADAPwAAwD8AAIC/AAAAPwAAwD8AAIA/zcyMPwAAwD8AAIA/AAAAPwAAwD8AAIC/AAAAPwAAwD8AAIA/AAAAPwAAAD8AAIA/AAAAPwAAwD8AAIA/",
        "encoding": "base64",
        "path": [
         "positions",
         "buffer"
        ]
       }
      ],
      "model_module": "jupyter-threejs",
      "model_module_version": "^2.1.0",
      "model_name": "LineSegmentsGeometryModel",
      "state": {
       "_view_module": null,
       "_view_module_version": "",
       "positions": {
        "dtype": "float32",
        "shape": [
         15,
         2,
         3
        ]
       }
      }
     },
     "b928397a5378462eb2eee52205d3340d": {
      "model_module": "jupyter_cadquery",
      "model_module_version": "^v1.0.0",
      "model_name": "ImageButtonModel",
      "state": {
       "_dom_classes": [
        "view_button"
       ],
       "_model_module_version": "^v1.0.0",
       "_view_module_version": "^v1.0.0",
       "height": "28",
       "layout": "IPY_MODEL_ca3a60a1642541a7830c6a66f6929021",
       "style": "IPY_MODEL_d5cd9896cd2041599d3f0959f1eec338",
       "tooltip": "Change view to isometric",
       "type": "isometric",
       "value": {},
       "width": "36"
      }
     },
     "b9552d60513d4800bdf8a2c26408e793": {
      "model_module": "@jupyter-widgets/controls",
      "model_module_version": "1.5.0",
      "model_name": "ButtonStyleModel",
      "state": {}
     },
     "b965a89db5e44a9ba914a09f842b1b63": {
      "model_module": "@jupyter-widgets/base",
      "model_module_version": "1.2.0",
      "model_name": "LayoutModel",
      "state": {}
     },
     "ba07e10216ce4a7c97a5c15c3d7e67b2": {
      "model_module": "@jupyter-widgets/base",
      "model_module_version": "1.2.0",
      "model_name": "LayoutModel",
      "state": {}
     },
     "ba5d66e5d89d4471ab0645c64f31af2f": {
      "buffers": [
       {
        "data": "AACAvwAAAIAAAAAAAACAvwAAAIAAAAAAAACAvwAAAIAAAAAAAACAvwAAAIAAAAAAAACAvwAAAIAAAAAAAAAAAAAAAAAAAIA/AAAAAAAAAAAAAIA/AAAAAAAAAAAAAIA/AAAAAAAAAAAAAIA/AAAAgPMENT/zBDU/AAAAgPMENT/zBDU/AAAAgPMENT/zBDU/AAAAgPMENT/zBDU/AAAAgAAAgL8AAACAAAAAgAAAgL8AAACAAAAAgAAAgL8AAACAAAAAgAAAgL8AAACAAAAAAAAAgD8AAAAAAAAAAAAAgD8AAAAAAAAAAAAAgD8AAAAAAAAAAAAAgD8AAAAAAAAAgAAAAIAAAIC/AAAAgAAAAIAAAIC/AAAAgAAAAIAAAIC/AAAAgAAAAIAAAIC/AACAPwAAAAAAAACAAACAPwAAAAAAAACAAACAPwAAAAAAAACAAACAPwAAAAAAAACAAACAPwAAAAAAAACA",
        "encoding": "base64",
        "path": [
         "array",
         "buffer"
        ]
       }
      ],
      "model_module": "jupyter-threejs",
      "model_module_version": "^2.1.0",
      "model_name": "BufferAttributeModel",
      "state": {
       "_view_module": null,
       "_view_module_version": "",
       "array": {
        "dtype": "float32",
        "shape": [
         30,
         3
        ]
       },
       "normalized": true,
       "version": 2
      }
     },
     "ba7628472c2e4ebba2090a5ca2874397": {
      "model_module": "@jupyter-widgets/controls",
      "model_module_version": "1.5.0",
      "model_name": "DescriptionStyleModel",
      "state": {
       "description_width": ""
      }
     },
     "ba8c26b572ec4f38ae947fada61adecc": {
      "buffers": [
       {
        "data": "AAAAAAAAAAAAAAAA7FG8QAAAAAAAAAAA",
        "encoding": "base64",
        "path": [
         "positions",
         "buffer"
        ]
       }
      ],
      "model_module": "jupyter-threejs",
      "model_module_version": "^2.1.0",
      "model_name": "LineSegmentsGeometryModel",
      "state": {
       "_view_module": null,
       "_view_module_version": "",
       "positions": {
        "dtype": "float32",
        "shape": [
         1,
         2,
         3
        ]
       }
      }
     },
     "ba9b9339-19cc-47b2-9c0e-fa645d3efb50": {
      "model_module": "jupyter-threejs",
      "model_module_version": "^2.1.0",
      "model_name": "OrthographicCameraModel",
      "state": {
       "bottom": -5,
       "far": 500,
       "left": -5,
       "near": 0.5,
       "projectionMatrix": [
        0.2,
        0,
        0,
        0,
        0,
        0.2,
        0,
        0,
        0,
        0,
        -0.004004004004004004,
        0,
        0,
        0,
        -1.002002002002002,
        1
       ],
       "right": 5,
       "top": 5
      }
     },
     "baf832032f5c4607a100e87fb81abc99": {
      "buffers": [
       {
        "data": "AAAAAAAAAAAAAAAAC9cTQAAAAAAAAAAA",
        "encoding": "base64",
        "path": [
         "positions",
         "buffer"
        ]
       }
      ],
      "model_module": "jupyter-threejs",
      "model_module_version": "^2.1.0",
      "model_name": "LineSegmentsGeometryModel",
      "state": {
       "_view_module": null,
       "_view_module_version": "",
       "positions": {
        "dtype": "float32",
        "shape": [
         1,
         2,
         3
        ]
       }
      }
     },
     "bafe2ef1762d437f87c1a30b346f2f04": {
      "model_module": "jupyter-threejs",
      "model_module_version": "^2.1.0",
      "model_name": "LineSegments2Model",
      "state": {
       "_view_module": null,
       "_view_module_version": "",
       "geometry": "IPY_MODEL_c5ca4af731c2407ebbbd4e969ef288e1",
       "material": "IPY_MODEL_e06851a3a926414384c0dd669e165ae3",
       "matrix": [
        1,
        0,
        0,
        0,
        0,
        1,
        0,
        0,
        0,
        0,
        1,
        0,
        0.9999999999999999,
        -0.75,
        2.125,
        1
       ],
       "morphTargetInfluences": [],
       "position": [
        0.9999999999999999,
        -0.75,
        2.125
       ],
       "visible": false
      }
     },
     "bb0689dd9ec3454289565bdc6e0e1a2a": {
      "model_module": "@jupyter-widgets/controls",
      "model_module_version": "1.5.0",
      "model_name": "LabelModel",
      "state": {
       "layout": "IPY_MODEL_e2848e9ca5bb44b3a456a7314a1a1173",
       "style": "IPY_MODEL_ad7431bf80484f1cb5710460f624a481",
       "value": "N=( 0.00,  1.00,  0.00)"
      }
     },
     "bb5f2cac4721444a8b195a9c5249e259": {
      "model_module": "jupyter-threejs",
      "model_module_version": "^2.1.0",
      "model_name": "BufferGeometryModel",
      "state": {
       "_view_module": null,
       "_view_module_version": "",
       "attributes": {
        "index": "IPY_MODEL_5ce87edf97fb4d99b40b3488b9a68be5",
        "normal": "IPY_MODEL_822d0cddeaf147f2b22be2cef85e1ef8",
        "position": "IPY_MODEL_580a424dcc87418b8ee748e83f7a4f88"
       }
      }
     },
     "bb61db4be029406a85af913088455d45": {
      "model_module": "jupyter-threejs",
      "model_module_version": "^2.1.0",
      "model_name": "ShaderMaterialModel",
      "state": {
       "_view_module": null,
       "_view_module_version": "",
       "clipping": true,
       "fragmentShader": "\n        uniform float alpha;\n        #define PHYSICAL\nuniform vec3 diffuse;\nuniform vec3 emissive;\nuniform float roughness;\nuniform float metalness;\nuniform float opacity;\n#ifndef STANDARD\n\tuniform float clearCoat;\n\tuniform float clearCoatRoughness;\n#endif\nvarying vec3 vViewPosition;\n#ifndef FLAT_SHADED\n\tvarying vec3 vNormal;\n#endif\n#include <common>\n#include <packing>\n#include <dithering_pars_fragment>\n#include <color_pars_fragment>\n#include <uv_pars_fragment>\n#include <uv2_pars_fragment>\n#include <map_pars_fragment>\n#include <alphamap_pars_fragment>\n#include <aomap_pars_fragment>\n#include <lightmap_pars_fragment>\n#include <emissivemap_pars_fragment>\n#include <bsdfs>\n#include <cube_uv_reflection_fragment>\n#include <envmap_pars_fragment>\n#include <envmap_physical_pars_fragment>\n#include <fog_pars_fragment>\n#include <lights_pars_begin>\n#include <lights_physical_pars_fragment>\n#include <shadowmap_pars_fragment>\n#include <bumpmap_pars_fragment>\n#include <normalmap_pars_fragment>\n#include <roughnessmap_pars_fragment>\n#include <metalnessmap_pars_fragment>\n#include <logdepthbuf_pars_fragment>\n#include <clipping_planes_pars_fragment>\nvoid main() {\n\t#include <clipping_planes_fragment>\n\tvec4 diffuseColor = vec4( diffuse, opacity );\n\tReflectedLight reflectedLight = ReflectedLight( vec3( 0.0 ), vec3( 0.0 ), vec3( 0.0 ), vec3( 0.0 ) );\n\tvec3 totalEmissiveRadiance = emissive;\n\t#include <logdepthbuf_fragment>\n\t#include <map_fragment>\n\t#include <color_fragment>\n\t#include <alphamap_fragment>\n\t#include <alphatest_fragment>\n\t#include <roughnessmap_fragment>\n\t#include <metalnessmap_fragment>\n\t#include <normal_fragment_begin>\n\t#include <normal_fragment_maps>\n\t#include <emissivemap_fragment>\n\t#include <lights_physical_fragment>\n\t#include <lights_fragment_begin>\n\t#include <lights_fragment_maps>\n\t#include <lights_fragment_end>\n\t#include <aomap_fragment>\n\tvec3 outgoingLight = reflectedLight.directDiffuse + reflectedLight.indirectDiffuse + reflectedLight.directSpecular + reflectedLight.indirectSpecular + totalEmissiveRadiance;\n\t\n            if ( gl_FrontFacing ) {\n                gl_FragColor = vec4( outgoingLight, alpha * diffuseColor.a );\n            } else {\n                gl_FragColor = vec4( diffuseColor.r, diffuseColor.g, diffuseColor.b, alpha * diffuseColor.a );\n            }\n\t#include <tonemapping_fragment>\n\t#include <encodings_fragment>\n\t#include <fog_fragment>\n\t#include <premultiplied_alpha_fragment>\n\t#include <dithering_fragment>\n}\n",
       "lights": true,
       "polygonOffset": true,
       "polygonOffsetFactor": 1,
       "polygonOffsetUnits": 1,
       "side": "DoubleSide",
       "uniforms": {
        "alpha": {
         "value": 0.7
        },
        "alphaMap": {
         "value": null
        },
        "ambientLightColor": {
         "value": [
          1,
          1,
          1
         ]
        },
        "aoMap": {
         "value": null
        },
        "aoMapIntensity": {
         "value": 1
        },
        "bumpMap": {
         "value": null
        },
        "bumpScale": {
         "value": 1
        },
        "diffuse": {
         "type": "c",
         "value": "#aaaaaa"
        },
        "directionalLights": {
         "value": [
          {
           "color": 1973790,
           "direction": {
            "x": -2.989348615883112e-17,
            "y": 2.4777145706089543e-16,
            "z": -1
           },
           "shadow": false,
           "shadowBias": 0,
           "shadowMapSize": {
            "x": 0,
            "y": 0
           },
           "shadowRadius": 1
          },
          {
           "color": 1973790,
           "direction": {
            "x": -9.399224237161659e-17,
            "y": 0.9428090415820635,
            "z": -0.3333333333333332
           },
           "shadow": false,
           "shadowBias": 0,
           "shadowMapSize": {
            "x": 0,
            "y": 0
           },
           "shadowRadius": 1
          },
          {
           "color": 1973790,
           "direction": {
            "x": 0.8164965809277259,
            "y": -0.4714045207910316,
            "z": -0.3333333333333333
           },
           "shadow": false,
           "shadowBias": 0,
           "shadowMapSize": {
            "x": 0,
            "y": 0
           },
           "shadowRadius": 1
          },
          {
           "color": 1973790,
           "direction": {
            "x": 0.8164965809277259,
            "y": 0.4714045207910316,
            "z": 0.3333333333333333
           },
           "shadow": false,
           "shadowBias": 0,
           "shadowMapSize": {
            "x": 0,
            "y": 0
           },
           "shadowRadius": 1
          },
          {
           "color": 1973790,
           "direction": {
            "x": -0.8164965809277259,
            "y": -0.4714045207910316,
            "z": -0.3333333333333333
           },
           "shadow": false,
           "shadowBias": 0,
           "shadowMapSize": {
            "x": 0,
            "y": 0
           },
           "shadowRadius": 1
          },
          {
           "color": 1973790,
           "direction": {
            "x": -0.8164965809277259,
            "y": 0.4714045207910316,
            "z": 0.3333333333333333
           },
           "shadow": false,
           "shadowBias": 0,
           "shadowMapSize": {
            "x": 0,
            "y": 0
           },
           "shadowRadius": 1
          },
          {
           "color": 1973790,
           "direction": {
            "x": 9.399224237161659e-17,
            "y": -0.9428090415820635,
            "z": 0.3333333333333332
           },
           "shadow": false,
           "shadowBias": 0,
           "shadowMapSize": {
            "x": 0,
            "y": 0
           },
           "shadowRadius": 1
          },
          {
           "color": 1973790,
           "direction": {
            "x": 2.989348615883112e-17,
            "y": -2.4777145706089543e-16,
            "z": 1
           },
           "shadow": false,
           "shadowBias": 0,
           "shadowMapSize": {
            "x": 0,
            "y": 0
           },
           "shadowRadius": 1
          }
         ]
        },
        "directionalShadowMap": {
         "value": [
          null,
          null,
          null,
          null,
          null,
          null,
          null,
          null
         ]
        },
        "directionalShadowMatrix": {
         "value": [
          {
           "elements": [
            1,
            0,
            0,
            0,
            0,
            1,
            0,
            0,
            0,
            0,
            1,
            0,
            0,
            0,
            0,
            1
           ]
          },
          {
           "elements": [
            1,
            0,
            0,
            0,
            0,
            1,
            0,
            0,
            0,
            0,
            1,
            0,
            0,
            0,
            0,
            1
           ]
          },
          {
           "elements": [
            1,
            0,
            0,
            0,
            0,
            1,
            0,
            0,
            0,
            0,
            1,
            0,
            0,
            0,
            0,
            1
           ]
          },
          {
           "elements": [
            1,
            0,
            0,
            0,
            0,
            1,
            0,
            0,
            0,
            0,
            1,
            0,
            0,
            0,
            0,
            1
           ]
          },
          {
           "elements": [
            1,
            0,
            0,
            0,
            0,
            1,
            0,
            0,
            0,
            0,
            1,
            0,
            0,
            0,
            0,
            1
           ]
          },
          {
           "elements": [
            1,
            0,
            0,
            0,
            0,
            1,
            0,
            0,
            0,
            0,
            1,
            0,
            0,
            0,
            0,
            1
           ]
          },
          {
           "elements": [
            1,
            0,
            0,
            0,
            0,
            1,
            0,
            0,
            0,
            0,
            1,
            0,
            0,
            0,
            0,
            1
           ]
          },
          {
           "elements": [
            1,
            0,
            0,
            0,
            0,
            1,
            0,
            0,
            0,
            0,
            1,
            0,
            0,
            0,
            0,
            1
           ]
          }
         ]
        },
        "displacementBias": {
         "value": 0
        },
        "displacementMap": {
         "value": null
        },
        "displacementScale": {
         "value": 1
        },
        "emissive": {
         "type": "c",
         "value": "#000000"
        },
        "emissiveMap": {
         "value": null
        },
        "envMap": {
         "value": null
        },
        "envMapIntensity": {
         "value": 1
        },
        "flipEnvMap": {
         "value": -1
        },
        "fogColor": {
         "type": "c",
         "value": "#ffffff"
        },
        "fogDensity": {
         "value": 0.00025
        },
        "fogFar": {
         "value": 2000
        },
        "fogNear": {
         "value": 1
        },
        "hemisphereLights": {
         "value": []
        },
        "lightMap": {
         "value": null
        },
        "lightMapIntensity": {
         "value": 1
        },
        "map": {
         "value": null
        },
        "maxMipLevel": {
         "value": 0
        },
        "metalness": {
         "value": 0.3
        },
        "metalnessMap": {
         "value": null
        },
        "normalMap": {
         "value": null
        },
        "normalScale": {
         "type": "v2",
         "value": [
          1,
          1
         ]
        },
        "opacity": {
         "value": 1
        },
        "pointLights": {
         "value": []
        },
        "pointShadowMap": {
         "value": []
        },
        "pointShadowMatrix": {
         "value": []
        },
        "rectAreaLights": {
         "value": []
        },
        "reflectivity": {
         "value": 1
        },
        "refractionRatio": {
         "value": 0.98
        },
        "roughness": {
         "value": 0.8
        },
        "roughnessMap": {
         "value": null
        },
        "spotLights": {
         "value": []
        },
        "spotShadowMap": {
         "value": []
        },
        "spotShadowMatrix": {
         "value": []
        },
        "uvTransform": {
         "type": "m3",
         "value": [
          1,
          0,
          0,
          0,
          1,
          0,
          0,
          0,
          1
         ]
        }
       },
       "vertexShader": "#define PHYSICAL\nvarying vec3 vViewPosition;\n#ifndef FLAT_SHADED\n\tvarying vec3 vNormal;\n#endif\n#include <common>\n#include <uv_pars_vertex>\n#include <uv2_pars_vertex>\n#include <displacementmap_pars_vertex>\n#include <color_pars_vertex>\n#include <fog_pars_vertex>\n#include <morphtarget_pars_vertex>\n#include <skinning_pars_vertex>\n#include <shadowmap_pars_vertex>\n#include <logdepthbuf_pars_vertex>\n#include <clipping_planes_pars_vertex>\nvoid main() {\n\t#include <uv_vertex>\n\t#include <uv2_vertex>\n\t#include <color_vertex>\n\t#include <beginnormal_vertex>\n\t#include <morphnormal_vertex>\n\t#include <skinbase_vertex>\n\t#include <skinnormal_vertex>\n\t#include <defaultnormal_vertex>\n#ifndef FLAT_SHADED\n\tvNormal = normalize( transformedNormal );\n#endif\n\t#include <begin_vertex>\n\t#include <morphtarget_vertex>\n\t#include <skinning_vertex>\n\t#include <displacementmap_vertex>\n\t#include <project_vertex>\n\t#include <logdepthbuf_vertex>\n\t#include <clipping_planes_vertex>\n\tvViewPosition = - mvPosition.xyz;\n\t#include <worldpos_vertex>\n\t#include <shadowmap_vertex>\n\t#include <fog_vertex>\n}\n"
      }
     },
     "bb7bfffa5b2047a2bcedbaa261d6c655": {
      "model_module": "@jupyter-widgets/controls",
      "model_module_version": "1.5.0",
      "model_name": "ButtonStyleModel",
      "state": {}
     },
     "bb80a5151c7943ccb8d5d4f98cdbdfcf": {
      "model_module": "@jupyter-widgets/base",
      "model_module_version": "1.2.0",
      "model_name": "LayoutModel",
      "state": {
       "width": "230px"
      }
     },
     "bb8ab1d6de804a53ab9074f595ff3f2b": {
      "model_module": "jupyter-threejs",
      "model_module_version": "^2.1.0",
      "model_name": "GroupModel",
      "state": {
       "_view_module": null,
       "_view_module_version": "",
       "children": [
        "IPY_MODEL_46e092440663424e89a070faefc3a292",
        "IPY_MODEL_0475b91fff6a49bcb6b5aa1aee66f0d9",
        "IPY_MODEL_67f2e0b30d1f48348c03abcd5f067de6",
        "IPY_MODEL_15027410579d4c95b833bf4c6c0e7f16",
        "IPY_MODEL_33649f4a7df1418e8e9ec33cf25ccaa5",
        "IPY_MODEL_5e8d80fe19114f3a98f5bc545f3622f4",
        "IPY_MODEL_598383b175294c1885f75d6a84019def",
        "IPY_MODEL_375ac6b8060e4ddf8de62b6380befb97"
       ]
      }
     },
     "bb9060c2e13c4553a06c8b2443e8ec1b": {
      "model_module": "@jupyter-widgets/controls",
      "model_module_version": "1.5.0",
      "model_name": "LabelModel",
      "state": {
       "layout": "IPY_MODEL_2b3b720b6fb141bfad0f95650b9db0d1",
       "style": "IPY_MODEL_b2f0ff795bb84cab89da1453514563d0",
       "value": "N=( 0.00,  0.00,  1.00)"
      }
     },
     "bc313df2-a2c7-420d-bf8f-d60016864457": {
      "model_module": "jupyter-threejs",
      "model_module_version": "^2.1.0",
      "model_name": "Object3DModel",
      "state": {}
     },
     "bc66c09bbf4348fb954f4c6b06d78b47": {
      "model_module": "@jupyter-widgets/base",
      "model_module_version": "1.2.0",
      "model_name": "LayoutModel",
      "state": {
       "margin": "0px 10px 0px 0px"
      }
     },
     "bc8b25bbbef84d1cb07af737d91515e2": {
      "model_module": "jupyter-threejs",
      "model_module_version": "^2.1.0",
      "model_name": "MeshModel",
      "state": {
       "_view_module": null,
       "_view_module_version": "",
       "geometry": "IPY_MODEL_916dfbc7ca664b7e80090d75a28ade58",
       "material": "IPY_MODEL_d0d00350de6b4ae2a83e48c3e3b4a69e",
       "morphTargetInfluences": [],
       "name": "mesh_1"
      }
     },
     "bcb19e25deba4342845eae8984f267b1": {
      "model_module": "jupyter-threejs",
      "model_module_version": "^2.1.0",
      "model_name": "SceneModel",
      "state": {
       "_view_module": null,
       "_view_module_version": "",
       "children": [
        "IPY_MODEL_1349de6572a149759fe0e2d7c9a85d3d",
        "IPY_MODEL_d77f2ec103e247fd9deb2a8368372d47",
        "IPY_MODEL_65fca4e0e4c642eeaf7ffcd3f15ff6ce",
        "IPY_MODEL_cd1a6f01f87f465faa8bf843b3c42f55",
        "IPY_MODEL_df400d60b1a74b1da8f02bf19abffd13",
        "IPY_MODEL_8e08517c1b3844e2ae9350c5d94b0d91",
        "IPY_MODEL_a586b403450d415b852e80c6836f2a70",
        "IPY_MODEL_4b82c1d9c30841949e50fa3a0c73d30b",
        "IPY_MODEL_c0b714dc73c14cea8e8a240c55050bfa",
        "IPY_MODEL_191be7e4eeb34c468edcb6f5bc3f65fb",
        "IPY_MODEL_657117f627ee46d79ac051e3d2246909",
        "IPY_MODEL_c093e1424b39440c99fef4632a641e9a",
        "IPY_MODEL_29842759086b4bf98590edad7ee0f57c",
        "IPY_MODEL_5ea18e74eff346a49e0d167593984bcb",
        "IPY_MODEL_d397212d38cc4e8b8d8b2124e77ce3ed"
       ]
      }
     },
     "bceabd9a081a4e30a847afc7d3d77383": {
      "buffers": [
       {
        "data": "AAAAAAAAAAAAAAAAAAAAAAAAAABJ4Zo/",
        "encoding": "base64",
        "path": [
         "positions",
         "buffer"
        ]
       }
      ],
      "model_module": "jupyter-threejs",
      "model_module_version": "^2.1.0",
      "model_name": "LineSegmentsGeometryModel",
      "state": {
       "_view_module": null,
       "_view_module_version": "",
       "positions": {
        "dtype": "float32",
        "shape": [
         1,
         2,
         3
        ]
       }
      }
     },
     "bd6a898f57614473a82778a9731d3403": {
      "model_module": "@jupyter-widgets/base",
      "model_module_version": "1.2.0",
      "model_name": "LayoutModel",
      "state": {}
     },
     "bd86e965274243b19efb83201963955d": {
      "model_module": "@jupyter-widgets/base",
      "model_module_version": "1.2.0",
      "model_name": "LayoutModel",
      "state": {}
     },
     "bd965e7b5d6e49e699cd4763dc77d938": {
      "model_module": "jupyter_cadquery",
      "model_module_version": "^v1.0.0",
      "model_name": "ImageButtonModel",
      "state": {
       "_dom_classes": [
        "view_button"
       ],
       "_model_module_version": "^v1.0.0",
       "_view_module_version": "^v1.0.0",
       "height": "28",
       "layout": "IPY_MODEL_b487581134274412b8d66a18eb24478e",
       "style": "IPY_MODEL_6099df949d354992833556af2962bbe1",
       "tooltip": "Change view to fit",
       "type": "fit",
       "value": {},
       "width": "36"
      }
     },
     "bda3cfba23ff45aa8604047a17f07416": {
      "buffers": [
       {
        "data": "AQAAAAAAAAACAAAAAQAAAAIAAAADAAAACAAAAAQAAAAFAAAACAAAAAYAAAAEAAAACAAAAAcAAAAGAAAADAAAAAoAAAAJAAAADAAAAAkAAAALAAAAEAAAAA0AAAAOAAAAEAAAAA8AAAANAAAAFQAAABIAAAARAAAAFQAAABEAAAATAAAAFQAAABMAAAAUAAAAFwAAABYAAAAYAAAAFwAAABgAAAAZAAAAGwAAABwAAAAaAAAAGwAAAB0AAAAcAAAA",
        "encoding": "base64",
        "path": [
         "array",
         "buffer"
        ]
       }
      ],
      "model_module": "jupyter-threejs",
      "model_module_version": "^2.1.0",
      "model_name": "BufferAttributeModel",
      "state": {
       "_view_module": null,
       "_view_module_version": "",
       "array": {
        "dtype": "uint32",
        "shape": [
         48
        ]
       },
       "normalized": true,
       "version": 2
      }
     },
     "bdf85f5512854dc4a764de271be0b0bb": {
      "model_module": "@jupyter-widgets/base",
      "model_module_version": "1.2.0",
      "model_name": "LayoutModel",
      "state": {
       "width": "230px"
      }
     },
     "be9713ce30924b33b1dd52bca5c3d150": {
      "model_module": "@jupyter-widgets/controls",
      "model_module_version": "1.5.0",
      "model_name": "ButtonStyleModel",
      "state": {}
     },
     "be9a85825ddb4b12be3fe57e91f57ce5": {
      "model_module": "@jupyter-widgets/controls",
      "model_module_version": "1.5.0",
      "model_name": "CheckboxModel",
      "state": {
       "_dom_classes": [
        "view_grid"
       ],
       "description": "Grid",
       "disabled": false,
       "indent": false,
       "layout": "IPY_MODEL_bd6a898f57614473a82778a9731d3403",
       "style": "IPY_MODEL_39a0458aeeb94ac1ad449838f4bac254",
       "value": false
      }
     },
     "beeb7ab6590044e3bf2bba1a65a003ec": {
      "model_module": "@jupyter-widgets/controls",
      "model_module_version": "1.5.0",
      "model_name": "CheckboxModel",
      "state": {
       "_dom_classes": [
        "view_zero"
       ],
       "description": "@ 0",
       "disabled": false,
       "indent": false,
       "layout": "IPY_MODEL_9aa6ae9f7a824671ba3ae706e96b1692",
       "style": "IPY_MODEL_fd202cc238f24d9890d5b6da541fb04d",
       "value": true
      }
     },
     "bf218352a6a24642aec3f80f8fd57e2f": {
      "model_module": "jupyter-threejs",
      "model_module_version": "^2.1.0",
      "model_name": "MeshModel",
      "state": {
       "_view_module": null,
       "_view_module_version": "",
       "geometry": "IPY_MODEL_2542d647db534a72a1f8f2fd3e23efd6",
       "material": "IPY_MODEL_fda4329055c94c48bd99143ac5a12ea6",
       "morphTargetInfluences": [],
       "name": "mesh_1"
      }
     },
     "bf33d42e-1c87-4482-abf6-bff8142be18c": {
      "model_module": "jupyter-threejs",
      "model_module_version": "^2.1.0",
      "model_name": "Object3DModel",
      "state": {}
     },
     "bf4e076685cd4ffb82438af16f5dd516": {
      "buffers": [
       {
        "data": "AACAPwAAAAAAAACAAACAPwAAAAAAAACAAACAPwAAAAAAAACAAACAPwAAAAAAAACAAAAAAAAAAAAAAIA/AAAAAAAAAAAAAIA/AAAAAAAAAAAAAIA/AAAAAAAAAAAAAIA/AAAAAAAAAAAAAIA/8wQ1P/MENT8AAACA8wQ1P/MENT8AAACA8wQ1P/MENT8AAACA8wQ1P/MENT8AAACAAAAAgAAAgL8AAACAAAAAgAAAgL8AAACAAAAAgAAAgL8AAACAAAAAgAAAgL8AAACAAAAAgAAAAIAAAIC/AAAAgAAAAIAAAIC/AAAAgAAAAIAAAIC/AAAAgAAAAIAAAIC/AAAAgAAAAIAAAIC/AAAAAAAAgD8AAAAAAAAAAAAAgD8AAAAAAAAAAAAAgD8AAAAAAAAAAAAAgD8AAAAAAACAvwAAAIAAAAAAAACAvwAAAIAAAAAAAACAvwAAAIAAAAAAAACAvwAAAIAAAAAA",
        "encoding": "base64",
        "path": [
         "array",
         "buffer"
        ]
       }
      ],
      "model_module": "jupyter-threejs",
      "model_module_version": "^2.1.0",
      "model_name": "BufferAttributeModel",
      "state": {
       "_view_module": null,
       "_view_module_version": "",
       "array": {
        "dtype": "float32",
        "shape": [
         30,
         3
        ]
       },
       "normalized": true,
       "version": 2
      }
     },
     "bf85c3e504f04bb6b2a2426217093cf5": {
      "model_module": "@jupyter-widgets/base",
      "model_module_version": "1.2.0",
      "model_name": "LayoutModel",
      "state": {}
     },
     "bfadfcc2d3a142df991d72ee33cbb4ce": {
      "buffers": [
       {
        "data": "AADAPwAAAD8zM6NAAADAPzMzsz8zM6NAAADAPzMzsz/NzJxAAADAPzMzsz8zM6NAAADAPwAAAD/NzJxAAADAPwAAAD8zM6NAAADAPwAAAD/NzJxAAADAPzMzsz/NzJxAAAAAPwAAwD8zM6NAMzOzPwAAwD8zM6NAAADAPzMzsz8zM6NAMzOzPwAAwD8zM6NAAAAAPwAAAD8zM6NAAAAAPwAAwD8zM6NAAAAAPwAAAD8zM6NAAADAPwAAAD8zM6NAAADAPzMzsz/NzJxAMzOzPwAAwD/NzJxAMzOzPwAAwD/NzJxAMzOzPwAAwD8zM6NAAAAAPwAAAD/NzJxAAADAPwAAAD/NzJxAAAAAPwAAAD/NzJxAAAAAPwAAAD8zM6NAAAAAPwAAwD/NzJxAMzOzPwAAwD/NzJxAAAAAPwAAAD/NzJxAAAAAPwAAwD/NzJxAAAAAPwAAwD/NzJxAAAAAPwAAwD8zM6NA",
        "encoding": "base64",
        "path": [
         "positions",
         "buffer"
        ]
       }
      ],
      "model_module": "jupyter-threejs",
      "model_module_version": "^2.1.0",
      "model_name": "LineSegmentsGeometryModel",
      "state": {
       "_view_module": null,
       "_view_module_version": "",
       "positions": {
        "dtype": "float32",
        "shape": [
         15,
         2,
         3
        ]
       }
      }
     },
     "bfb708e017f3463cb4d4460a53de49d6": {
      "model_module": "@jupyter-widgets/controls",
      "model_module_version": "1.5.0",
      "model_name": "CheckboxModel",
      "state": {
       "_dom_classes": [
        "view_ortho"
       ],
       "description": "Ortho",
       "disabled": false,
       "indent": false,
       "layout": "IPY_MODEL_d5e75d0d41504a8e8272a2f5cb0e72c2",
       "style": "IPY_MODEL_f0080354078f493bb0b88784ec8625df",
       "value": true
      }
     },
     "bfc0befe282a4307820723502d9cb623": {
      "model_module": "jupyter-threejs",
      "model_module_version": "^2.1.0",
      "model_name": "RendererModel",
      "state": {
       "_antialias": true,
       "_dom_classes": [
        "view_renderer"
       ],
       "_height": 600,
       "_webgl_version": 2,
       "_width": 800,
       "camera": "IPY_MODEL_83382b9d98394a8f86941578add6ccd1",
       "clippingPlanes": [
        "IPY_MODEL_b4aad7ae2ba54acdbc08ed0bbe9fc990",
        "IPY_MODEL_722d6cec3ee94a67b3fd2d9e8252a298",
        "IPY_MODEL_09f1ef5945dc4b6a93743f4f54845ef0"
       ],
       "controls": [
        "IPY_MODEL_5304b2e1edaa4dafbb771bc02e19140e",
        "IPY_MODEL_c9fd0060109c47198279bfc1b110299b"
       ],
       "layout": "IPY_MODEL_cacb8529e037421699a821b912850f1c",
       "localClippingEnabled": true,
       "scene": "IPY_MODEL_6c9f209bfad0451bb8ce794a4cd5c55f",
       "shadowMap": "IPY_MODEL_5d414de5a04c4db5a854fbcda57636de"
      }
     },
     "c01eb3f7-2ee8-49d7-9a90-22b62f9faba1": {
      "model_module": "jupyter-threejs",
      "model_module_version": "^2.1.0",
      "model_name": "Object3DModel",
      "state": {}
     },
     "c07eaf8376de4d2999dbeb0b538f5758": {
      "model_module": "@jupyter-widgets/controls",
      "model_module_version": "1.5.0",
      "model_name": "ButtonStyleModel",
      "state": {}
     },
     "c093e1424b39440c99fef4632a641e9a": {
      "model_module": "jupyter-threejs",
      "model_module_version": "^2.1.0",
      "model_name": "AmbientLightModel",
      "state": {
       "_view_module": null,
       "_view_module_version": ""
      }
     },
     "c0a900b8696042dcb3c8c8e4e8f24232": {
      "model_module": "@jupyter-widgets/controls",
      "model_module_version": "1.5.0",
      "model_name": "ButtonStyleModel",
      "state": {}
     },
     "c0ad39784d014e5d928ca2f9600a86f9": {
      "model_module": "@jupyter-widgets/controls",
      "model_module_version": "1.5.0",
      "model_name": "HBoxModel",
      "state": {
       "children": [
        "IPY_MODEL_4156c28ab4d74ec3abf15970d7c021b0",
        "IPY_MODEL_882eebdd4eab47b3a372f80ac8d2d155",
        "IPY_MODEL_2dd966346f364b6f9bd6f84877d4f0c3",
        "IPY_MODEL_f080b80f5189416d851e7738d2514fbc",
        "IPY_MODEL_2092d2fcb4534e93a5276a87429514a1",
        "IPY_MODEL_9b2a8aa6a6604434baf03f458d2513f3",
        "IPY_MODEL_25936280cc7c4861ae6be19bccb9da3c",
        "IPY_MODEL_9302341f64ba45a78e1f10ff2b3709c6",
        "IPY_MODEL_a757404055d941fe9840dfecdccf0f2e",
        "IPY_MODEL_38aebf5fd4ed4cbf9dfef4a6e6ca4892",
        "IPY_MODEL_e68eabbbeb194fb491bb90d2aa5c8a98"
       ],
       "layout": "IPY_MODEL_2aee837907f7433f9099da0991f9f911"
      }
     },
     "c0b714dc73c14cea8e8a240c55050bfa": {
      "model_module": "jupyter-threejs",
      "model_module_version": "^2.1.0",
      "model_name": "DirectionalLightModel",
      "state": {
       "_view_module": null,
       "_view_module_version": "",
       "color": "white",
       "intensity": 0.12,
       "matrixWorldNeedsUpdate": true,
       "position": [
        8.278436197374486,
        -8.278436197374486,
        8.278436197374486
       ],
       "shadow": "IPY_MODEL_fdb0278a-888f-470f-9d2f-009b07e65cd8",
       "target": "IPY_MODEL_328a174f-d957-4f4d-893e-7a4ab1eaef75"
      }
     },
     "c0cfade4826a43f8bb62f8dd0d768fd1": {
      "model_module": "jupyter-threejs",
      "model_module_version": "^2.1.0",
      "model_name": "DirectionalLightModel",
      "state": {
       "_view_module": null,
       "_view_module_version": "",
       "color": "white",
       "intensity": 0.12,
       "matrixWorldNeedsUpdate": true,
       "position": [
        -4.34281039328222,
        -4.34281039328222,
        -4.34281039328222
       ],
       "shadow": "IPY_MODEL_ac4fa7d8-7c9c-4f1a-a583-eb083c60576e",
       "target": "IPY_MODEL_e127d0ea-82a6-40e3-88d6-13ce980e74a2"
      }
     },
     "c1158805-8d60-4141-829c-c53a982492ac": {
      "model_module": "jupyter-threejs",
      "model_module_version": "^2.1.0",
      "model_name": "Object3DModel",
      "state": {}
     },
     "c126964659c74bd692442566f1aa71f8": {
      "model_module": "@jupyter-widgets/base",
      "model_module_version": "1.2.0",
      "model_name": "LayoutModel",
      "state": {}
     },
     "c1321e5635134a8ba7421f1f29d58f26": {
      "model_module": "@jupyter-widgets/base",
      "model_module_version": "1.2.0",
      "model_name": "LayoutModel",
      "state": {}
     },
     "c1641309ccc041d8ae34882b4ca11b82": {
      "model_module": "@jupyter-widgets/controls",
      "model_module_version": "1.5.0",
      "model_name": "BoxModel",
      "state": {
       "_dom_classes": [
        "view_output"
       ],
       "children": [
        "IPY_MODEL_f48e6258fefe4fbca071d4fceb9f24e5"
       ],
       "layout": "IPY_MODEL_fe0af402ed16446e8e88edf690cf5ca4"
      }
     },
     "c16948203e31453c91ca3cc13b9383b0": {
      "model_module": "@jupyter-widgets/controls",
      "model_module_version": "1.5.0",
      "model_name": "DescriptionStyleModel",
      "state": {
       "description_width": ""
      }
     },
     "c17c1906449d42e5b335b50dad364a8e": {
      "model_module": "@jupyter-widgets/base",
      "model_module_version": "1.2.0",
      "model_name": "LayoutModel",
      "state": {}
     },
     "c1ac2f451294488eb5611c49ad8895ee": {
      "model_module": "@jupyter-widgets/base",
      "model_module_version": "1.2.0",
      "model_name": "LayoutModel",
      "state": {
       "height": "222px",
       "overflow_x": "scroll",
       "overflow_y": "scroll",
       "width": "250px"
      }
     },
     "c1ae6e358b8d4d4386c6b7dfc9544860": {
      "model_module": "jupyter_cadquery",
      "model_module_version": "^v1.0.0",
      "model_name": "ImageButtonModel",
      "state": {
       "_dom_classes": [
        "view_button"
       ],
       "_model_module_version": "^v1.0.0",
       "_view_module_version": "^v1.0.0",
       "height": "28",
       "layout": "IPY_MODEL_7a840e0653954e46b909e416c5958392",
       "style": "IPY_MODEL_be9713ce30924b33b1dd52bca5c3d150",
       "tooltip": "Change view to rear",
       "type": "rear",
       "value": {},
       "width": "36"
      }
     },
     "c1e3b4df-bab9-4dc8-a9dc-5ce9b4bfcdff": {
      "model_module": "jupyter-threejs",
      "model_module_version": "^2.1.0",
      "model_name": "OrthographicCameraModel",
      "state": {
       "bottom": -5,
       "far": 500,
       "left": -5,
       "near": 0.5,
       "projectionMatrix": [
        0.2,
        0,
        0,
        0,
        0,
        0.2,
        0,
        0,
        0,
        0,
        -0.004004004004004004,
        0,
        0,
        0,
        -1.002002002002002,
        1
       ],
       "right": 5,
       "top": 5
      }
     },
     "c23fd9532c994e94b012562e92b65548": {
      "model_module": "@jupyter-widgets/base",
      "model_module_version": "1.2.0",
      "model_name": "LayoutModel",
      "state": {}
     },
     "c2a39f89-9ee5-4e56-97a2-ec653005b01f": {
      "model_module": "jupyter-threejs",
      "model_module_version": "^2.1.0",
      "model_name": "Object3DModel",
      "state": {}
     },
     "c2b569bb3780441085614fbc81ccef34": {
      "model_module": "jupyter-threejs",
      "model_module_version": "^2.1.0",
      "model_name": "ShaderMaterialModel",
      "state": {
       "_view_module": null,
       "_view_module_version": "",
       "clipping": true,
       "fragmentShader": "\n        uniform float alpha;\n        #define PHYSICAL\nuniform vec3 diffuse;\nuniform vec3 emissive;\nuniform float roughness;\nuniform float metalness;\nuniform float opacity;\n#ifndef STANDARD\n\tuniform float clearCoat;\n\tuniform float clearCoatRoughness;\n#endif\nvarying vec3 vViewPosition;\n#ifndef FLAT_SHADED\n\tvarying vec3 vNormal;\n#endif\n#include <common>\n#include <packing>\n#include <dithering_pars_fragment>\n#include <color_pars_fragment>\n#include <uv_pars_fragment>\n#include <uv2_pars_fragment>\n#include <map_pars_fragment>\n#include <alphamap_pars_fragment>\n#include <aomap_pars_fragment>\n#include <lightmap_pars_fragment>\n#include <emissivemap_pars_fragment>\n#include <bsdfs>\n#include <cube_uv_reflection_fragment>\n#include <envmap_pars_fragment>\n#include <envmap_physical_pars_fragment>\n#include <fog_pars_fragment>\n#include <lights_pars_begin>\n#include <lights_physical_pars_fragment>\n#include <shadowmap_pars_fragment>\n#include <bumpmap_pars_fragment>\n#include <normalmap_pars_fragment>\n#include <roughnessmap_pars_fragment>\n#include <metalnessmap_pars_fragment>\n#include <logdepthbuf_pars_fragment>\n#include <clipping_planes_pars_fragment>\nvoid main() {\n\t#include <clipping_planes_fragment>\n\tvec4 diffuseColor = vec4( diffuse, opacity );\n\tReflectedLight reflectedLight = ReflectedLight( vec3( 0.0 ), vec3( 0.0 ), vec3( 0.0 ), vec3( 0.0 ) );\n\tvec3 totalEmissiveRadiance = emissive;\n\t#include <logdepthbuf_fragment>\n\t#include <map_fragment>\n\t#include <color_fragment>\n\t#include <alphamap_fragment>\n\t#include <alphatest_fragment>\n\t#include <roughnessmap_fragment>\n\t#include <metalnessmap_fragment>\n\t#include <normal_fragment_begin>\n\t#include <normal_fragment_maps>\n\t#include <emissivemap_fragment>\n\t#include <lights_physical_fragment>\n\t#include <lights_fragment_begin>\n\t#include <lights_fragment_maps>\n\t#include <lights_fragment_end>\n\t#include <aomap_fragment>\n\tvec3 outgoingLight = reflectedLight.directDiffuse + reflectedLight.indirectDiffuse + reflectedLight.directSpecular + reflectedLight.indirectSpecular + totalEmissiveRadiance;\n\t\n            if ( gl_FrontFacing ) {\n                gl_FragColor = vec4( outgoingLight, alpha * diffuseColor.a );\n            } else {\n                gl_FragColor = vec4( diffuseColor.r, diffuseColor.g, diffuseColor.b, alpha * diffuseColor.a );\n            }\n\t#include <tonemapping_fragment>\n\t#include <encodings_fragment>\n\t#include <fog_fragment>\n\t#include <premultiplied_alpha_fragment>\n\t#include <dithering_fragment>\n}\n",
       "lights": true,
       "polygonOffset": true,
       "polygonOffsetFactor": 1,
       "polygonOffsetUnits": 1,
       "side": "DoubleSide",
       "uniforms": {
        "alpha": {
         "value": 0.7
        },
        "alphaMap": {
         "value": null
        },
        "ambientLightColor": {
         "value": []
        },
        "aoMap": {
         "value": null
        },
        "aoMapIntensity": {
         "value": 1
        },
        "bumpMap": {
         "value": null
        },
        "bumpScale": {
         "value": 1
        },
        "diffuse": {
         "type": "c",
         "value": "#e8b024"
        },
        "directionalLights": {
         "value": []
        },
        "directionalShadowMap": {
         "value": []
        },
        "directionalShadowMatrix": {
         "value": []
        },
        "displacementBias": {
         "value": 0
        },
        "displacementMap": {
         "value": null
        },
        "displacementScale": {
         "value": 1
        },
        "emissive": {
         "type": "c",
         "value": "#000000"
        },
        "emissiveMap": {
         "value": null
        },
        "envMap": {
         "value": null
        },
        "envMapIntensity": {
         "value": 1
        },
        "flipEnvMap": {
         "value": -1
        },
        "fogColor": {
         "type": "c",
         "value": "#ffffff"
        },
        "fogDensity": {
         "value": 0.00025
        },
        "fogFar": {
         "value": 2000
        },
        "fogNear": {
         "value": 1
        },
        "hemisphereLights": {
         "value": []
        },
        "lightMap": {
         "value": null
        },
        "lightMapIntensity": {
         "value": 1
        },
        "map": {
         "value": null
        },
        "maxMipLevel": {
         "value": 0
        },
        "metalness": {
         "value": 0.3
        },
        "metalnessMap": {
         "value": null
        },
        "normalMap": {
         "value": null
        },
        "normalScale": {
         "type": "v2",
         "value": [
          1,
          1
         ]
        },
        "opacity": {
         "value": 1
        },
        "pointLights": {
         "value": []
        },
        "pointShadowMap": {
         "value": []
        },
        "pointShadowMatrix": {
         "value": []
        },
        "rectAreaLights": {
         "value": []
        },
        "reflectivity": {
         "value": 1
        },
        "refractionRatio": {
         "value": 0.98
        },
        "roughness": {
         "value": 0.8
        },
        "roughnessMap": {
         "value": null
        },
        "spotLights": {
         "value": []
        },
        "spotShadowMap": {
         "value": []
        },
        "spotShadowMatrix": {
         "value": []
        },
        "uvTransform": {
         "type": "m3",
         "value": [
          1,
          0,
          0,
          0,
          1,
          0,
          0,
          0,
          1
         ]
        }
       },
       "vertexShader": "#define PHYSICAL\nvarying vec3 vViewPosition;\n#ifndef FLAT_SHADED\n\tvarying vec3 vNormal;\n#endif\n#include <common>\n#include <uv_pars_vertex>\n#include <uv2_pars_vertex>\n#include <displacementmap_pars_vertex>\n#include <color_pars_vertex>\n#include <fog_pars_vertex>\n#include <morphtarget_pars_vertex>\n#include <skinning_pars_vertex>\n#include <shadowmap_pars_vertex>\n#include <logdepthbuf_pars_vertex>\n#include <clipping_planes_pars_vertex>\nvoid main() {\n\t#include <uv_vertex>\n\t#include <uv2_vertex>\n\t#include <color_vertex>\n\t#include <beginnormal_vertex>\n\t#include <morphnormal_vertex>\n\t#include <skinbase_vertex>\n\t#include <skinnormal_vertex>\n\t#include <defaultnormal_vertex>\n#ifndef FLAT_SHADED\n\tvNormal = normalize( transformedNormal );\n#endif\n\t#include <begin_vertex>\n\t#include <morphtarget_vertex>\n\t#include <skinning_vertex>\n\t#include <displacementmap_vertex>\n\t#include <project_vertex>\n\t#include <logdepthbuf_vertex>\n\t#include <clipping_planes_vertex>\n\tvViewPosition = - mvPosition.xyz;\n\t#include <worldpos_vertex>\n\t#include <shadowmap_vertex>\n\t#include <fog_vertex>\n}\n"
      }
     },
     "c2bc0ed37c0e41e5a7476fb4d13d06ce": {
      "model_module": "@jupyter-widgets/base",
      "model_module_version": "1.2.0",
      "model_name": "LayoutModel",
      "state": {}
     },
     "c2c6dac09e184c7aa44a2f7158d4e25f": {
      "model_module": "@jupyter-widgets/controls",
      "model_module_version": "1.5.0",
      "model_name": "VBoxModel",
      "state": {
       "children": [
        "IPY_MODEL_477c7865fe054d76bcd774c559dc369f",
        "IPY_MODEL_9b0f208543f64a5ba830ba1e7cb9b7e8"
       ],
       "layout": "IPY_MODEL_29bc98e4e74547bd908672621214ead1"
      }
     },
     "c2f244e05d5f405f913be27d66adf8c8": {
      "model_module": "@jupyter-widgets/controls",
      "model_module_version": "1.5.0",
      "model_name": "CheckboxModel",
      "state": {
       "_dom_classes": [
        "view_transparent",
        "indent"
       ],
       "description": "Transparency",
       "disabled": false,
       "indent": false,
       "layout": "IPY_MODEL_9148d37593a44fe88fb12e983dde3fd1",
       "style": "IPY_MODEL_b3f1fbe6ee7846bc9d1f1e940193ed81",
       "value": false
      }
     },
     "c376c31af6d242978823c52675c03232": {
      "buffers": [
       {
        "data": "AACAv83MTD0AAIA+ZmZmP83MTD0AAIA+ZmZmP83MTL0AAIA+ZmZmP83MTD0AAIA+AACAv83MTL0AAIA+AACAv83MTD0AAIA+AACAv83MTL0AAIA+ZmZmP83MTL0AAIA+",
        "encoding": "base64",
        "path": [
         "positions",
         "buffer"
        ]
       }
      ],
      "model_module": "jupyter-threejs",
      "model_module_version": "^2.1.0",
      "model_name": "LineSegmentsGeometryModel",
      "state": {
       "_view_module": null,
       "_view_module_version": "",
       "positions": {
        "dtype": "float32",
        "shape": [
         4,
         2,
         3
        ]
       }
      }
     },
     "c4073916302941f4b1d518543565db96": {
      "model_module": "@jupyter-widgets/base",
      "model_module_version": "1.2.0",
      "model_name": "LayoutModel",
      "state": {}
     },
     "c4704561c7a94b5fa35ffb3403b98f6b": {
      "model_module": "@jupyter-widgets/controls",
      "model_module_version": "1.5.0",
      "model_name": "SliderStyleModel",
      "state": {
       "description_width": ""
      }
     },
     "c4cee2a8906c4a46915b3373e05e6d48": {
      "model_module": "jupyter-threejs",
      "model_module_version": "^2.1.0",
      "model_name": "WebGLShadowMapModel",
      "state": {
       "_view_module": null,
       "_view_module_version": ""
      }
     },
     "c4d043e5c7a64c1aa7095f4978304d72": {
      "model_module": "@jupyter-widgets/controls",
      "model_module_version": "1.5.0",
      "model_name": "HBoxModel",
      "state": {
       "children": [
        "IPY_MODEL_13a621849e9f446ca074391eabcaa409",
        "IPY_MODEL_de700bddf4654d868fc7fb6444104ae2"
       ],
       "layout": "IPY_MODEL_b1d0862f765a4e10bf89f4ef7594a9de"
      }
     },
     "c504f9ae-f4f8-4b10-8012-739e0453362c": {
      "model_module": "jupyter-threejs",
      "model_module_version": "^2.1.0",
      "model_name": "OrthographicCameraModel",
      "state": {
       "bottom": -5,
       "far": 500,
       "left": -5,
       "near": 0.5,
       "projectionMatrix": [
        0.2,
        0,
        0,
        0,
        0,
        0.2,
        0,
        0,
        0,
        0,
        -0.004004004004004004,
        0,
        0,
        0,
        -1.002002002002002,
        1
       ],
       "right": 5,
       "top": 5
      }
     },
     "c566ec46dab44ee2a35bdac7dd73dadb": {
      "model_module": "jupyter_cadquery",
      "model_module_version": "^v1.0.0",
      "model_name": "ImageButtonModel",
      "state": {
       "_dom_classes": [
        "view_button"
       ],
       "_model_module_version": "^v1.0.0",
       "_view_module_version": "^v1.0.0",
       "height": "28",
       "layout": "IPY_MODEL_c2bc0ed37c0e41e5a7476fb4d13d06ce",
       "style": "IPY_MODEL_36c20bcaad984bae9437005219c9454c",
       "tooltip": "Change view to left",
       "type": "left",
       "value": {},
       "width": "36"
      }
     },
     "c59bba96b4d84cf0b88314c6b128d2fe": {
      "model_module": "jupyter-threejs",
      "model_module_version": "^2.1.0",
      "model_name": "DirectionalLightModel",
      "state": {
       "_view_module": null,
       "_view_module_version": "",
       "color": "white",
       "intensity": 0.12,
       "matrixWorldNeedsUpdate": true,
       "position": [
        3.3346667695588637,
        -3.3346667695588637,
        -3.3346667695588637
       ],
       "shadow": "IPY_MODEL_114b5f6d-600b-4f4c-b859-9791313a344c",
       "target": "IPY_MODEL_bf33d42e-1c87-4482-abf6-bff8142be18c"
      }
     },
     "c59d7f30070a4c02b8a9bf7e9c32147f": {
      "model_module": "@jupyter-widgets/controls",
      "model_module_version": "1.5.0",
      "model_name": "CheckboxModel",
      "state": {
       "_dom_classes": [
        "view_black_edges"
       ],
       "description": "Black Edges",
       "disabled": false,
       "indent": false,
       "layout": "IPY_MODEL_b5706c10ed0f46d68dfc803c002d59b6",
       "style": "IPY_MODEL_e72fce92ad6444b7a63acf75469088a3",
       "value": false
      }
     },
     "c5ca4af731c2407ebbbd4e969ef288e1": {
      "buffers": [
       {
        "data": "AAAAAAAAAAAAAAAAAAAAAAAAAADsUbxA",
        "encoding": "base64",
        "path": [
         "positions",
         "buffer"
        ]
       }
      ],
      "model_module": "jupyter-threejs",
      "model_module_version": "^2.1.0",
      "model_name": "LineSegmentsGeometryModel",
      "state": {
       "_view_module": null,
       "_view_module_version": "",
       "positions": {
        "dtype": "float32",
        "shape": [
         1,
         2,
         3
        ]
       }
      }
     },
     "c5f210daef564eeebd4791f87f8d90bb": {
      "model_module": "@jupyter-widgets/controls",
      "model_module_version": "1.5.0",
      "model_name": "SliderStyleModel",
      "state": {
       "description_width": ""
      }
     },
     "c6783a5dccd441709adc01014c553364": {
      "model_module": "@jupyter-widgets/controls",
      "model_module_version": "1.5.0",
      "model_name": "CheckboxModel",
      "state": {
       "_dom_classes": [
        "view_zero"
       ],
       "description": "@ 0",
       "disabled": false,
       "indent": false,
       "layout": "IPY_MODEL_3f684fc326054af88c3306d7dbad6084",
       "style": "IPY_MODEL_7dbb2e12a3924fbda5afc204ce0ef0ce",
       "value": false
      }
     },
     "c67e9c94943c4e9b90c0aff0fd962079": {
      "model_module": "jupyter-threejs",
      "model_module_version": "^2.1.0",
      "model_name": "MeshModel",
      "state": {
       "_view_module": null,
       "_view_module_version": "",
       "geometry": "IPY_MODEL_237b953c1f80433ba4097af7abef2350",
       "material": "IPY_MODEL_5fb06f97a8584e99a38838f3deb6c3bd",
       "morphTargetInfluences": [],
       "name": "mesh_2",
       "visible": false
      }
     },
     "c6a4393404974845be53a2091e3ef1d2": {
      "model_module": "@jupyter-widgets/base",
      "model_module_version": "1.2.0",
      "model_name": "LayoutModel",
      "state": {}
     },
     "c6b08a5d50e64aefb2e6699cfe40d7b0": {
      "model_module": "@jupyter-widgets/controls",
      "model_module_version": "1.5.0",
      "model_name": "HBoxModel",
      "state": {
       "children": [
        "IPY_MODEL_f5cd42acb9424dea9536a4e2ae2bd2c4",
        "IPY_MODEL_f141bb5ae7384cf282b733ce7d232f9e",
        "IPY_MODEL_b928397a5378462eb2eee52205d3340d",
        "IPY_MODEL_2e29ba850d9246289ca647044e758264",
        "IPY_MODEL_54bcfdc6e89640c1b8d0810185bcb0b4",
        "IPY_MODEL_2d849f3ef2994a1186e9bf276c4f44ef",
        "IPY_MODEL_576bc07cd0e44ec2b0b6e1ebfbfc9dae",
        "IPY_MODEL_037f171e2fbf4d4ab139383c7f4f0b57",
        "IPY_MODEL_af95005df2ce47a6988316ae96e7e7bd",
        "IPY_MODEL_4c15b3fa1bff4ca28fec054dbcdd76cd",
        "IPY_MODEL_63c55c8407cd42a9aeec7696279cde64"
       ],
       "layout": "IPY_MODEL_d071365540f64b0f83129cfd1bff77e1"
      }
     },
     "c6bc7ad4-5705-462a-9923-c75a872836db": {
      "model_module": "jupyter-threejs",
      "model_module_version": "^2.1.0",
      "model_name": "Object3DModel",
      "state": {}
     },
     "c745e41b77b34f4da6bea8e362597cda": {
      "model_module": "jupyter-threejs",
      "model_module_version": "^2.1.0",
      "model_name": "DirectionalLightModel",
      "state": {
       "_view_module": null,
       "_view_module_version": "",
       "color": "white",
       "intensity": 0.12,
       "matrixWorldNeedsUpdate": true,
       "position": [
        8.278436197374486,
        8.278436197374486,
        -8.278436197374486
       ],
       "shadow": "IPY_MODEL_b08f2edd-f5bf-4636-b429-75a6cd4087b9",
       "target": "IPY_MODEL_48390d85-bb02-4351-9bb6-df2f96f3c769"
      }
     },
     "c7891a8194d24798a67a337ab1548521": {
      "model_module": "@jupyter-widgets/controls",
      "model_module_version": "1.5.0",
      "model_name": "LabelModel",
      "state": {
       "layout": "IPY_MODEL_a66acde9a3684b23a6566628455d9927",
       "style": "IPY_MODEL_a5615a4bf8934feca27bef468344a4d6",
       "value": "N=( 1.00,  0.00,  0.00)"
      }
     },
     "c78bda116e3649878c8480730c896082": {
      "model_module": "jupyter-threejs",
      "model_module_version": "^2.1.0",
      "model_name": "MeshModel",
      "state": {
       "_view_module": null,
       "_view_module_version": "",
       "geometry": "IPY_MODEL_325560bfa09f4aa8953a7378cc08e3ce",
       "material": "IPY_MODEL_8a4a3aad5e0546458f7830cf377b20b1",
       "morphTargetInfluences": [],
       "name": "mesh_3"
      }
     },
     "c7b17de93859443799fc3e6277f44fd0": {
      "model_module": "@jupyter-widgets/controls",
      "model_module_version": "1.5.0",
      "model_name": "HBoxModel",
      "state": {
       "children": [
        "IPY_MODEL_f35b83cde4b24a30b1e8c0011c819a52",
        "IPY_MODEL_874526c13ba04d889045adda36855f31"
       ],
       "layout": "IPY_MODEL_9631ed360d8b4c069b5e661878af982f"
      }
     },
     "c7e15a5eb6014c219c421dca4841047f": {
      "model_module": "jupyter-threejs",
      "model_module_version": "^2.1.0",
      "model_name": "PickerModel",
      "state": {
       "_view_module": null,
       "_view_module_version": "",
       "controlling": "IPY_MODEL_744c285dcc6d40b1a93294bc3e2ee901",
       "event": "dblclick"
      }
     },
     "c7f30cf52adf47cb82aeecd7b6991cfb": {
      "model_module": "@jupyter-widgets/base",
      "model_module_version": "1.2.0",
      "model_name": "LayoutModel",
      "state": {}
     },
     "c821b80a336349d196e686b40017386d": {
      "buffers": [
       {
        "data": "AACAv83MTD0AAIA+ZmZmP83MTD0AAIA+ZmZmP83MTL0AAIA+ZmZmP83MTD0AAIA+AACAv83MTL0AAIA+AACAv83MTD0AAIA+AACAv83MTL0AAIA+ZmZmP83MTL0AAIA+",
        "encoding": "base64",
        "path": [
         "positions",
         "buffer"
        ]
       }
      ],
      "model_module": "jupyter-threejs",
      "model_module_version": "^2.1.0",
      "model_name": "LineSegmentsGeometryModel",
      "state": {
       "_view_module": null,
       "_view_module_version": "",
       "positions": {
        "dtype": "float32",
        "shape": [
         4,
         2,
         3
        ]
       }
      }
     },
     "c842178f6e5b4f868e5ab029be686156": {
      "model_module": "@jupyter-widgets/controls",
      "model_module_version": "1.5.0",
      "model_name": "CheckboxModel",
      "state": {
       "_dom_classes": [
        "view_transparent",
        "indent"
       ],
       "description": "Transparency",
       "disabled": false,
       "indent": false,
       "layout": "IPY_MODEL_6370f4d9f4354e609649e13fd0d1d38c",
       "style": "IPY_MODEL_576fda48e6124eea8ec9d657c1651d8d",
       "value": false
      }
     },
     "c84263692a4c452aa575c64d6e933b68": {
      "model_module": "@jupyter-widgets/controls",
      "model_module_version": "1.5.0",
      "model_name": "ButtonStyleModel",
      "state": {}
     },
     "c8b4a9d4f5b14db58a2e5c3b5dce7685": {
      "model_module": "jupyter-threejs",
      "model_module_version": "^2.1.0",
      "model_name": "DirectionalLightModel",
      "state": {
       "_view_module": null,
       "_view_module_version": "",
       "color": "white",
       "intensity": 0.12,
       "matrixWorldNeedsUpdate": true,
       "position": [
        3.3346667695588637,
        3.3346667695588637,
        3.3346667695588637
       ],
       "shadow": "IPY_MODEL_ecc97580-a75e-4499-b4c2-cee565185cd2",
       "target": "IPY_MODEL_bc313df2-a2c7-420d-bf8f-d60016864457"
      }
     },
     "c9252909b7e6498cbdfc3ee3ce85229a": {
      "model_module": "@jupyter-widgets/controls",
      "model_module_version": "1.5.0",
      "model_name": "HBoxModel",
      "state": {
       "children": [
        "IPY_MODEL_b2b05357a407498fa890ebb58394849d",
        "IPY_MODEL_0103255f20e04a73836c15f080c5f778"
       ],
       "layout": "IPY_MODEL_6cd82ba887d04d50a3a1f5e7cf9c861a"
      }
     },
     "c9714c90bc474b3d8ee8beb0e5d53b96": {
      "model_module": "@jupyter-widgets/base",
      "model_module_version": "1.2.0",
      "model_name": "LayoutModel",
      "state": {
       "margin": "0px 10px 0px 0px"
      }
     },
     "c98916c5f5b04595ac592e6dafeca428": {
      "model_module": "@jupyter-widgets/controls",
      "model_module_version": "1.5.0",
      "model_name": "ButtonStyleModel",
      "state": {}
     },
     "c991e194859541ee846decc8660786b6": {
      "model_module": "jupyter-threejs",
      "model_module_version": "^2.1.0",
      "model_name": "PickerModel",
      "state": {
       "_view_module": null,
       "_view_module_version": "",
       "controlling": "IPY_MODEL_54ca663079c942a186dc6101460d03b9",
       "event": "dblclick"
      }
     },
     "c9fd0060109c47198279bfc1b110299b": {
      "model_module": "jupyter-threejs",
      "model_module_version": "^2.1.0",
      "model_name": "PickerModel",
      "state": {
       "_view_module": null,
       "_view_module_version": "",
       "controlling": "IPY_MODEL_724f2d644acb4af3ba04723ad139139e",
       "event": "dblclick"
      }
     },
     "ca19c207-625b-4353-8840-f036bcb3c4e2": {
      "model_module": "jupyter-threejs",
      "model_module_version": "^2.1.0",
      "model_name": "Object3DModel",
      "state": {}
     },
     "ca1ae6938a664545aff31ad076d6c940": {
      "model_module": "jupyter-threejs",
      "model_module_version": "^2.1.0",
      "model_name": "LineMaterialModel",
      "state": {
       "_view_module": null,
       "_view_module_version": "",
       "color": "green",
       "linewidth": 3
      }
     },
     "ca3a60a1642541a7830c6a66f6929021": {
      "model_module": "@jupyter-widgets/base",
      "model_module_version": "1.2.0",
      "model_name": "LayoutModel",
      "state": {}
     },
     "ca41088b30df4567a22599f96e048289": {
      "model_module": "@jupyter-widgets/base",
      "model_module_version": "1.2.0",
      "model_name": "LayoutModel",
      "state": {}
     },
     "ca527a96-276e-4630-85eb-185690c939e9": {
      "model_module": "jupyter-threejs",
      "model_module_version": "^2.1.0",
      "model_name": "OrthographicCameraModel",
      "state": {
       "bottom": -5,
       "far": 500,
       "left": -5,
       "near": 0.5,
       "projectionMatrix": [
        0.2,
        0,
        0,
        0,
        0,
        0.2,
        0,
        0,
        0,
        0,
        -0.004004004004004004,
        0,
        0,
        0,
        -1.002002002002002,
        1
       ],
       "right": 5,
       "top": 5
      }
     },
     "caa94a2bb0d4468cac7fbb2b13f9106b": {
      "model_module": "jupyter_cadquery",
      "model_module_version": "^v1.0.0",
      "model_name": "ImageButtonModel",
      "state": {
       "_dom_classes": [
        "view_button"
       ],
       "_model_module_version": "^v1.0.0",
       "_view_module_version": "^v1.0.0",
       "height": "28",
       "layout": "IPY_MODEL_c9714c90bc474b3d8ee8beb0e5d53b96",
       "style": "IPY_MODEL_2b63f23bdaec49eeb78176333650a65c",
       "tooltip": "Set clipping plane",
       "type": "1",
       "value": {},
       "width": "36"
      }
     },
     "cacb8529e037421699a821b912850f1c": {
      "model_module": "@jupyter-widgets/base",
      "model_module_version": "1.2.0",
      "model_name": "LayoutModel",
      "state": {}
     },
     "cadc2c9ff9a54606a47e495d6a5ace3b": {
      "model_module": "@jupyter-widgets/base",
      "model_module_version": "1.2.0",
      "model_name": "LayoutModel",
      "state": {}
     },
     "cae66a45f9494671a2987bd1187181d7": {
      "model_module": "@jupyter-widgets/controls",
      "model_module_version": "1.5.0",
      "model_name": "HBoxModel",
      "state": {
       "children": [
        "IPY_MODEL_17f0e7b51dfc4ad0bface64e5843fd5f",
        "IPY_MODEL_80aee9b6a9fe49f0b0a174074e14ee81"
       ],
       "layout": "IPY_MODEL_a966c2c0c8924466ab3b33a1890a2624"
      }
     },
     "caef483bb6524a4cbff553653cfc33d4": {
      "model_module": "jupyter-threejs",
      "model_module_version": "^2.1.0",
      "model_name": "PlaneModel",
      "state": {
       "_view_module": null,
       "_view_module_version": "",
       "constant": 6,
       "normal": [
        1,
        0,
        0
       ]
      }
     },
     "cb18979e91cd4bde994cb8af6dce183c": {
      "model_module": "@jupyter-widgets/base",
      "model_module_version": "1.2.0",
      "model_name": "LayoutModel",
      "state": {}
     },
     "cb2d542e5e7c4ca595066aec568e46e9": {
      "model_module": "jupyter_cadquery",
      "model_module_version": "^v1.0.0",
      "model_name": "ImageButtonModel",
      "state": {
       "_dom_classes": [
        "view_button"
       ],
       "_model_module_version": "^v1.0.0",
       "_view_module_version": "^v1.0.0",
       "height": "28",
       "layout": "IPY_MODEL_db3e333a8a2b40dda03c08a497ed7fc1",
       "style": "IPY_MODEL_9cf28260b7b346a58a9d0b1284d50cb0",
       "tooltip": "Set clipping plane",
       "type": "0",
       "value": {},
       "width": "36"
      }
     },
     "cb420d5c0eba42a59007f5ced1ae47b8": {
      "model_module": "@jupyter-widgets/controls",
      "model_module_version": "1.5.0",
      "model_name": "ButtonStyleModel",
      "state": {}
     },
     "cb5b46019f1e412d950cec23caccc500": {
      "buffers": [
       {
        "data": "AAAAAAAAAAAAAAAAAAAAAOxRvEAAAAAA",
        "encoding": "base64",
        "path": [
         "positions",
         "buffer"
        ]
       }
      ],
      "model_module": "jupyter-threejs",
      "model_module_version": "^2.1.0",
      "model_name": "LineSegmentsGeometryModel",
      "state": {
       "_view_module": null,
       "_view_module_version": "",
       "positions": {
        "dtype": "float32",
        "shape": [
         1,
         2,
         3
        ]
       }
      }
     },
     "cbad2c8010d34366af946197476977dc": {
      "model_module": "@jupyter-widgets/controls",
      "model_module_version": "1.5.0",
      "model_name": "CheckboxModel",
      "state": {
       "_dom_classes": [
        "view_ortho"
       ],
       "description": "Ortho",
       "disabled": false,
       "indent": false,
       "layout": "IPY_MODEL_6f242542a4164ab598ccdf4702e80803",
       "style": "IPY_MODEL_08f206b1c2024c65914ec3e8205af96e",
       "value": true
      }
     },
     "cc026a1dd04543e7bba1d2514d0e135f": {
      "model_module": "@jupyter-widgets/controls",
      "model_module_version": "1.5.0",
      "model_name": "DescriptionStyleModel",
      "state": {
       "description_width": ""
      }
     },
     "cc1c86ab1c7146f1beb0ae70ae0efbd3": {
      "model_module": "jupyter-threejs",
      "model_module_version": "^2.1.0",
      "model_name": "BufferGeometryModel",
      "state": {
       "_view_module": null,
       "_view_module_version": "",
       "attributes": {
        "index": "IPY_MODEL_1449c895f1e741ee9e19ec7e1dd29b98",
        "normal": "IPY_MODEL_d522b793cb98410c86e0235c7e1bc4c3",
        "position": "IPY_MODEL_dcd72f88daca410f96022058b82bda1e"
       }
      }
     },
     "cca72a761ca64da1b24c1d702279e782": {
      "model_module": "@jupyter-widgets/base",
      "model_module_version": "1.2.0",
      "model_name": "LayoutModel",
      "state": {}
     },
     "ccc20dba64bb4eba97f5801ce2a0ec51": {
      "model_module": "@jupyter-widgets/base",
      "model_module_version": "1.2.0",
      "model_name": "LayoutModel",
      "state": {}
     },
     "cd1a6f01f87f465faa8bf843b3c42f55": {
      "model_module": "jupyter-threejs",
      "model_module_version": "^2.1.0",
      "model_name": "DirectionalLightModel",
      "state": {
       "_view_module": null,
       "_view_module_version": "",
       "color": "white",
       "intensity": 0.12,
       "matrixWorldNeedsUpdate": true,
       "position": [
        -8.278436197374486,
        -8.278436197374486,
        -8.278436197374486
       ],
       "shadow": "IPY_MODEL_6be7c00a-d04e-48d4-8883-44db9ba24dc7",
       "target": "IPY_MODEL_a2f2d6c1-d1af-4c6e-bda4-06e632e5ebce"
      }
     },
     "cd35a469-4b42-462c-b6de-83258f933b4b": {
      "model_module": "jupyter-threejs",
      "model_module_version": "^2.1.0",
      "model_name": "Object3DModel",
      "state": {}
     },
     "cda45ec92d9141b6b28602b9c8bdc1a1": {
      "model_module": "@jupyter-widgets/controls",
      "model_module_version": "1.5.0",
      "model_name": "FloatSliderModel",
      "state": {
       "continuous_update": false,
       "layout": "IPY_MODEL_679b444e05744c8dbd726d8d1953d4f3",
       "max": 1.320000132,
       "min": -1.4300001430000002,
       "step": 0.01,
       "style": "IPY_MODEL_f127bd6d21e94ba5b2f3866f0a134416",
       "value": 1.320000132
      }
     },
     "cdb0180c14764391a663fdfac944592f": {
      "buffers": [
       {
        "data": "MzNzPwAAQMAAAJBAMzNzP83MjL8AAJBAMzNzPwAAQMAAAGBAMzNzPwAAgL8AAGBAMzNzPwAAgL/NzIxAMzNzPwAAQMAAAJBAMzNzP83MjL8AAJBAZmaGPwAAQMAAAJBAZmaGP83MjL8AAJBAMzNzPwAAgL/NzIxAMzNzP83MjL8AAJBAZmaGPwAAgL/NzIxAZmaGP83MjL8AAJBAMzNzPwAAQMAAAGBAZmaGPwAAQMAAAGBAMzNzPwAAQMAAAJBAZmaGPwAAQMAAAJBAZmaGPwAAgL8AAGBAZmaGPwAAgL/NzIxAMzNzPwAAgL8AAGBAMzNzPwAAgL/NzIxAMzNzPwAAQMAAAGBAMzNzPwAAgL8AAGBAZmaGPwAAQMAAAGBAZmaGPwAAgL8AAGBAZmaGPwAAQMAAAJBAZmaGP83MjL8AAJBAZmaGPwAAQMAAAGBAZmaGPwAAgL8AAGBAZmaGPwAAgL/NzIxA",
        "encoding": "base64",
        "path": [
         "array",
         "buffer"
        ]
       }
      ],
      "model_module": "jupyter-threejs",
      "model_module_version": "^2.1.0",
      "model_name": "BufferAttributeModel",
      "state": {
       "_view_module": null,
       "_view_module_version": "",
       "array": {
        "dtype": "float32",
        "shape": [
         30,
         3
        ]
       },
       "normalized": true,
       "version": 2
      }
     },
     "cdf452fd32994fdea8632205c1a6e96c": {
      "model_module": "@jupyter-widgets/controls",
      "model_module_version": "1.5.0",
      "model_name": "FloatSliderModel",
      "state": {
       "continuous_update": false,
       "layout": "IPY_MODEL_3e622dac324d4c91b3598174ffe5bcba",
       "max": 2.520000132,
       "min": -2.730000143,
       "step": 0.01,
       "style": "IPY_MODEL_342fff4f074a4f5fa458b12f13ccffbc",
       "value": 2.520000132
      }
     },
     "ce11cbb23168474d95ef02b2dd2a51d0": {
      "model_module": "jupyter-threejs",
      "model_module_version": "^2.1.0",
      "model_name": "LineSegments2Model",
      "state": {
       "_view_module": null,
       "_view_module_version": "",
       "geometry": "IPY_MODEL_d6b64e8eca7e44d7957fb9fd83d37f9b",
       "material": "IPY_MODEL_a54088b7049d411a930948c7f7797c22",
       "morphTargetInfluences": [],
       "name": "edges_3"
      }
     },
     "ce372e1e575444daa8d57871f761166c": {
      "buffers": [
       {
        "data": "AADAPwAAAD8AAIC/AADAPwAAAD+amRk/AADAPwAAwD8AAIC/AADAPwAAwD+amRk/AADAPwAAAD8AAIC/AADAPwAAAD+amRk/AAAAPwAAAD8AAIC/AAAAPwAAAD8AAIA/zcyMPwAAAD8AAIA/AADAPwAAAD+amRk/zcyMPwAAAD8AAIA/AADAPwAAwD+amRk/zcyMPwAAwD8AAIA/AAAAPwAAAD8AAIC/AAAAPwAAwD8AAIC/AADAPwAAAD8AAIC/AADAPwAAwD8AAIC/AADAPwAAwD8AAIC/AADAPwAAwD+amRk/AAAAPwAAwD8AAIC/AAAAPwAAwD8AAIA/zcyMPwAAwD8AAIA/AAAAPwAAwD8AAIA/zcyMPwAAwD8AAIA/AAAAPwAAAD8AAIA/zcyMPwAAAD8AAIA/AAAAPwAAAD8AAIC/AAAAPwAAAD8AAIA/AAAAPwAAwD8AAIC/AAAAPwAAwD8AAIA/",
        "encoding": "base64",
        "path": [
         "array",
         "buffer"
        ]
       }
      ],
      "model_module": "jupyter-threejs",
      "model_module_version": "^2.1.0",
      "model_name": "BufferAttributeModel",
      "state": {
       "_view_module": null,
       "_view_module_version": "",
       "array": {
        "dtype": "float32",
        "shape": [
         30,
         3
        ]
       },
       "normalized": true,
       "version": 2
      }
     },
     "ce378cb9-0b76-4e93-87d1-b397fd2f64cb": {
      "model_module": "jupyter-threejs",
      "model_module_version": "^2.1.0",
      "model_name": "DirectionalLightShadowModel",
      "state": {
       "camera": "IPY_MODEL_24285fea-abc0-4a23-b80e-8f678214069f"
      }
     },
     "ce3a3abba95546dc91b10ff71ec1bb5d": {
      "model_module": "@jupyter-widgets/base",
      "model_module_version": "1.2.0",
      "model_name": "LayoutModel",
      "state": {}
     },
     "ce8137fb-1647-4afb-9681-7b0879844ca2": {
      "model_module": "jupyter-threejs",
      "model_module_version": "^2.1.0",
      "model_name": "Object3DModel",
      "state": {}
     },
     "cebd7390e96643feb329cef2d0fa0254": {
      "model_module": "jupyter-threejs",
      "model_module_version": "^2.1.0",
      "model_name": "BufferGeometryModel",
      "state": {
       "_view_module": null,
       "_view_module_version": "",
       "attributes": {
        "index": "IPY_MODEL_b84eef0aa93f42e2b776ee30960af667",
        "normal": "IPY_MODEL_bf4e076685cd4ffb82438af16f5dd516",
        "position": "IPY_MODEL_d5a7eaa4053a4d93b02cac3844001fce"
       }
      }
     },
     "cec7bbc5f13d4881b409f9b49d7b252c": {
      "model_module": "@jupyter-widgets/controls",
      "model_module_version": "1.5.0",
      "model_name": "ButtonStyleModel",
      "state": {}
     },
     "cedbabee734a4e81a3dc52e34ba2d508": {
      "model_module": "@jupyter-widgets/controls",
      "model_module_version": "1.5.0",
      "model_name": "ButtonStyleModel",
      "state": {}
     },
     "cef5e3a2f79e4f338c81ea0955c20ae7": {
      "model_module": "@jupyter-widgets/controls",
      "model_module_version": "1.5.0",
      "model_name": "HBoxModel",
      "state": {
       "children": [
        "IPY_MODEL_69d3119948a94d3ea072d3c8c2007646",
        "IPY_MODEL_b0aa775c27b941429cc427398a868079",
        "IPY_MODEL_beeb7ab6590044e3bf2bba1a65a003ec",
        "IPY_MODEL_37c47c8801974bbc8944b5584ec74cd9"
       ],
       "layout": "IPY_MODEL_415bc6e7aa3248ceaa26969a568192f5"
      }
     },
     "cef8dbd2ce474b1c8a94c49ad0a3cce2": {
      "model_module": "@jupyter-widgets/controls",
      "model_module_version": "1.5.0",
      "model_name": "TabModel",
      "state": {
       "_dom_classes": [
        "tab-content-no-padding"
       ],
       "_titles": {
        "0": "Tree",
        "1": "Clipping"
       },
       "children": [
        "IPY_MODEL_832f696eaa824da29b533ef06416e400",
        "IPY_MODEL_a8520356eb7b485cae34d5bab71ce989"
       ],
       "layout": "IPY_MODEL_8d6ca74277514fb5a2fd2dd0afeb00ab"
      }
     },
     "cf033082f7344c8eba5ebe431f77a23c": {
      "model_module": "@jupyter-widgets/base",
      "model_module_version": "1.2.0",
      "model_name": "LayoutModel",
      "state": {}
     },
     "cf6da31345e349f2afb70d6710d1d141": {
      "model_module": "@jupyter-widgets/controls",
      "model_module_version": "1.5.0",
      "model_name": "DescriptionStyleModel",
      "state": {
       "description_width": ""
      }
     },
     "cf7af5ff496346b8809ebebefea1565a": {
      "buffers": [
       {
        "data": "AAAAAAAAAAAAAAAASeGaPwAAAAAAAAAA",
        "encoding": "base64",
        "path": [
         "positions",
         "buffer"
        ]
       }
      ],
      "model_module": "jupyter-threejs",
      "model_module_version": "^2.1.0",
      "model_name": "LineSegmentsGeometryModel",
      "state": {
       "_view_module": null,
       "_view_module_version": "",
       "positions": {
        "dtype": "float32",
        "shape": [
         1,
         2,
         3
        ]
       }
      }
     },
     "cf990416-fb4f-4a25-b222-a164a8e7b9d9": {
      "model_module": "jupyter-threejs",
      "model_module_version": "^2.1.0",
      "model_name": "DirectionalLightShadowModel",
      "state": {
       "camera": "IPY_MODEL_85a3b2f6-3ed6-4ace-a5d8-36277421fb34"
      }
     },
     "cfde556a67fa416085b81c0a061a7e6c": {
      "model_module": "@jupyter-widgets/controls",
      "model_module_version": "1.5.0",
      "model_name": "TabModel",
      "state": {
       "_dom_classes": [
        "tab-content-no-padding"
       ],
       "_titles": {
        "0": "Tree",
        "1": "Clipping"
       },
       "children": [
        "IPY_MODEL_61cf8419437e497380467c82c7090e0e",
        "IPY_MODEL_75b87ac6502c474091d245843b0ad90f"
       ],
       "layout": "IPY_MODEL_a97bbb0b39d84188b1309ded817fdef1"
      }
     },
     "d071365540f64b0f83129cfd1bff77e1": {
      "model_module": "@jupyter-widgets/base",
      "model_module_version": "1.2.0",
      "model_name": "LayoutModel",
      "state": {}
     },
     "d0d00350de6b4ae2a83e48c3e3b4a69e": {
      "model_module": "jupyter-threejs",
      "model_module_version": "^2.1.0",
      "model_name": "ShaderMaterialModel",
      "state": {
       "_view_module": null,
       "_view_module_version": "",
       "clipping": true,
       "fragmentShader": "\n        uniform float alpha;\n        #define PHYSICAL\nuniform vec3 diffuse;\nuniform vec3 emissive;\nuniform float roughness;\nuniform float metalness;\nuniform float opacity;\n#ifndef STANDARD\n\tuniform float clearCoat;\n\tuniform float clearCoatRoughness;\n#endif\nvarying vec3 vViewPosition;\n#ifndef FLAT_SHADED\n\tvarying vec3 vNormal;\n#endif\n#include <common>\n#include <packing>\n#include <dithering_pars_fragment>\n#include <color_pars_fragment>\n#include <uv_pars_fragment>\n#include <uv2_pars_fragment>\n#include <map_pars_fragment>\n#include <alphamap_pars_fragment>\n#include <aomap_pars_fragment>\n#include <lightmap_pars_fragment>\n#include <emissivemap_pars_fragment>\n#include <bsdfs>\n#include <cube_uv_reflection_fragment>\n#include <envmap_pars_fragment>\n#include <envmap_physical_pars_fragment>\n#include <fog_pars_fragment>\n#include <lights_pars_begin>\n#include <lights_physical_pars_fragment>\n#include <shadowmap_pars_fragment>\n#include <bumpmap_pars_fragment>\n#include <normalmap_pars_fragment>\n#include <roughnessmap_pars_fragment>\n#include <metalnessmap_pars_fragment>\n#include <logdepthbuf_pars_fragment>\n#include <clipping_planes_pars_fragment>\nvoid main() {\n\t#include <clipping_planes_fragment>\n\tvec4 diffuseColor = vec4( diffuse, opacity );\n\tReflectedLight reflectedLight = ReflectedLight( vec3( 0.0 ), vec3( 0.0 ), vec3( 0.0 ), vec3( 0.0 ) );\n\tvec3 totalEmissiveRadiance = emissive;\n\t#include <logdepthbuf_fragment>\n\t#include <map_fragment>\n\t#include <color_fragment>\n\t#include <alphamap_fragment>\n\t#include <alphatest_fragment>\n\t#include <roughnessmap_fragment>\n\t#include <metalnessmap_fragment>\n\t#include <normal_fragment_begin>\n\t#include <normal_fragment_maps>\n\t#include <emissivemap_fragment>\n\t#include <lights_physical_fragment>\n\t#include <lights_fragment_begin>\n\t#include <lights_fragment_maps>\n\t#include <lights_fragment_end>\n\t#include <aomap_fragment>\n\tvec3 outgoingLight = reflectedLight.directDiffuse + reflectedLight.indirectDiffuse + reflectedLight.directSpecular + reflectedLight.indirectSpecular + totalEmissiveRadiance;\n\t\n            if ( gl_FrontFacing ) {\n                gl_FragColor = vec4( outgoingLight, alpha * diffuseColor.a );\n            } else {\n                gl_FragColor = vec4( diffuseColor.r, diffuseColor.g, diffuseColor.b, alpha * diffuseColor.a );\n            }\n\t#include <tonemapping_fragment>\n\t#include <encodings_fragment>\n\t#include <fog_fragment>\n\t#include <premultiplied_alpha_fragment>\n\t#include <dithering_fragment>\n}\n",
       "lights": true,
       "polygonOffset": true,
       "polygonOffsetFactor": 1,
       "polygonOffsetUnits": 1,
       "side": "DoubleSide",
       "uniforms": {
        "alpha": {
         "value": 0.7
        },
        "alphaMap": {
         "value": null
        },
        "ambientLightColor": {
         "value": [
          1,
          1,
          1
         ]
        },
        "aoMap": {
         "value": null
        },
        "aoMapIntensity": {
         "value": 1
        },
        "bumpMap": {
         "value": null
        },
        "bumpScale": {
         "value": 1
        },
        "diffuse": {
         "type": "c",
         "value": "#00ff00"
        },
        "directionalLights": {
         "value": [
          {
           "color": 1973790,
           "direction": {
            "x": -2.989348615883112e-17,
            "y": 2.4777145706089543e-16,
            "z": -1
           },
           "shadow": false,
           "shadowBias": 0,
           "shadowMapSize": {
            "x": 0,
            "y": 0
           },
           "shadowRadius": 1
          },
          {
           "color": 1973790,
           "direction": {
            "x": -9.399224237161659e-17,
            "y": 0.9428090415820635,
            "z": -0.3333333333333332
           },
           "shadow": false,
           "shadowBias": 0,
           "shadowMapSize": {
            "x": 0,
            "y": 0
           },
           "shadowRadius": 1
          },
          {
           "color": 1973790,
           "direction": {
            "x": 0.8164965809277259,
            "y": -0.4714045207910316,
            "z": -0.3333333333333333
           },
           "shadow": false,
           "shadowBias": 0,
           "shadowMapSize": {
            "x": 0,
            "y": 0
           },
           "shadowRadius": 1
          },
          {
           "color": 1973790,
           "direction": {
            "x": 0.8164965809277259,
            "y": 0.4714045207910316,
            "z": 0.3333333333333333
           },
           "shadow": false,
           "shadowBias": 0,
           "shadowMapSize": {
            "x": 0,
            "y": 0
           },
           "shadowRadius": 1
          },
          {
           "color": 1973790,
           "direction": {
            "x": -0.8164965809277259,
            "y": -0.4714045207910316,
            "z": -0.3333333333333333
           },
           "shadow": false,
           "shadowBias": 0,
           "shadowMapSize": {
            "x": 0,
            "y": 0
           },
           "shadowRadius": 1
          },
          {
           "color": 1973790,
           "direction": {
            "x": -0.8164965809277259,
            "y": 0.4714045207910316,
            "z": 0.3333333333333333
           },
           "shadow": false,
           "shadowBias": 0,
           "shadowMapSize": {
            "x": 0,
            "y": 0
           },
           "shadowRadius": 1
          },
          {
           "color": 1973790,
           "direction": {
            "x": 9.399224237161659e-17,
            "y": -0.9428090415820635,
            "z": 0.3333333333333332
           },
           "shadow": false,
           "shadowBias": 0,
           "shadowMapSize": {
            "x": 0,
            "y": 0
           },
           "shadowRadius": 1
          },
          {
           "color": 1973790,
           "direction": {
            "x": 2.989348615883112e-17,
            "y": -2.4777145706089543e-16,
            "z": 1
           },
           "shadow": false,
           "shadowBias": 0,
           "shadowMapSize": {
            "x": 0,
            "y": 0
           },
           "shadowRadius": 1
          }
         ]
        },
        "directionalShadowMap": {
         "value": [
          null,
          null,
          null,
          null,
          null,
          null,
          null,
          null
         ]
        },
        "directionalShadowMatrix": {
         "value": [
          {
           "elements": [
            1,
            0,
            0,
            0,
            0,
            1,
            0,
            0,
            0,
            0,
            1,
            0,
            0,
            0,
            0,
            1
           ]
          },
          {
           "elements": [
            1,
            0,
            0,
            0,
            0,
            1,
            0,
            0,
            0,
            0,
            1,
            0,
            0,
            0,
            0,
            1
           ]
          },
          {
           "elements": [
            1,
            0,
            0,
            0,
            0,
            1,
            0,
            0,
            0,
            0,
            1,
            0,
            0,
            0,
            0,
            1
           ]
          },
          {
           "elements": [
            1,
            0,
            0,
            0,
            0,
            1,
            0,
            0,
            0,
            0,
            1,
            0,
            0,
            0,
            0,
            1
           ]
          },
          {
           "elements": [
            1,
            0,
            0,
            0,
            0,
            1,
            0,
            0,
            0,
            0,
            1,
            0,
            0,
            0,
            0,
            1
           ]
          },
          {
           "elements": [
            1,
            0,
            0,
            0,
            0,
            1,
            0,
            0,
            0,
            0,
            1,
            0,
            0,
            0,
            0,
            1
           ]
          },
          {
           "elements": [
            1,
            0,
            0,
            0,
            0,
            1,
            0,
            0,
            0,
            0,
            1,
            0,
            0,
            0,
            0,
            1
           ]
          },
          {
           "elements": [
            1,
            0,
            0,
            0,
            0,
            1,
            0,
            0,
            0,
            0,
            1,
            0,
            0,
            0,
            0,
            1
           ]
          }
         ]
        },
        "displacementBias": {
         "value": 0
        },
        "displacementMap": {
         "value": null
        },
        "displacementScale": {
         "value": 1
        },
        "emissive": {
         "type": "c",
         "value": "#000000"
        },
        "emissiveMap": {
         "value": null
        },
        "envMap": {
         "value": null
        },
        "envMapIntensity": {
         "value": 1
        },
        "flipEnvMap": {
         "value": -1
        },
        "fogColor": {
         "type": "c",
         "value": "#ffffff"
        },
        "fogDensity": {
         "value": 0.00025
        },
        "fogFar": {
         "value": 2000
        },
        "fogNear": {
         "value": 1
        },
        "hemisphereLights": {
         "value": []
        },
        "lightMap": {
         "value": null
        },
        "lightMapIntensity": {
         "value": 1
        },
        "map": {
         "value": null
        },
        "maxMipLevel": {
         "value": 0
        },
        "metalness": {
         "value": 0.3
        },
        "metalnessMap": {
         "value": null
        },
        "normalMap": {
         "value": null
        },
        "normalScale": {
         "type": "v2",
         "value": [
          1,
          1
         ]
        },
        "opacity": {
         "value": 1
        },
        "pointLights": {
         "value": []
        },
        "pointShadowMap": {
         "value": []
        },
        "pointShadowMatrix": {
         "value": []
        },
        "rectAreaLights": {
         "value": []
        },
        "reflectivity": {
         "value": 1
        },
        "refractionRatio": {
         "value": 0.98
        },
        "roughness": {
         "value": 0.8
        },
        "roughnessMap": {
         "value": null
        },
        "spotLights": {
         "value": []
        },
        "spotShadowMap": {
         "value": []
        },
        "spotShadowMatrix": {
         "value": []
        },
        "uvTransform": {
         "type": "m3",
         "value": [
          1,
          0,
          0,
          0,
          1,
          0,
          0,
          0,
          1
         ]
        }
       },
       "vertexShader": "#define PHYSICAL\nvarying vec3 vViewPosition;\n#ifndef FLAT_SHADED\n\tvarying vec3 vNormal;\n#endif\n#include <common>\n#include <uv_pars_vertex>\n#include <uv2_pars_vertex>\n#include <displacementmap_pars_vertex>\n#include <color_pars_vertex>\n#include <fog_pars_vertex>\n#include <morphtarget_pars_vertex>\n#include <skinning_pars_vertex>\n#include <shadowmap_pars_vertex>\n#include <logdepthbuf_pars_vertex>\n#include <clipping_planes_pars_vertex>\nvoid main() {\n\t#include <uv_vertex>\n\t#include <uv2_vertex>\n\t#include <color_vertex>\n\t#include <beginnormal_vertex>\n\t#include <morphnormal_vertex>\n\t#include <skinbase_vertex>\n\t#include <skinnormal_vertex>\n\t#include <defaultnormal_vertex>\n#ifndef FLAT_SHADED\n\tvNormal = normalize( transformedNormal );\n#endif\n\t#include <begin_vertex>\n\t#include <morphtarget_vertex>\n\t#include <skinning_vertex>\n\t#include <displacementmap_vertex>\n\t#include <project_vertex>\n\t#include <logdepthbuf_vertex>\n\t#include <clipping_planes_vertex>\n\tvViewPosition = - mvPosition.xyz;\n\t#include <worldpos_vertex>\n\t#include <shadowmap_vertex>\n\t#include <fog_vertex>\n}\n"
      }
     },
     "d0ddccfb326d42ffb351321088df66ea": {
      "model_module": "jupyter_cadquery",
      "model_module_version": "^v1.0.0",
      "model_name": "ImageButtonModel",
      "state": {
       "_dom_classes": [
        "view_button"
       ],
       "_model_module_version": "^v1.0.0",
       "_view_module_version": "^v1.0.0",
       "height": "28",
       "layout": "IPY_MODEL_9c9af60de94b4e388e3691ffaa3a3351",
       "style": "IPY_MODEL_45da0f23f4fb4751843d392828d03f8c",
       "tooltip": "Change view to rear",
       "type": "rear",
       "value": {},
       "width": "36"
      }
     },
     "d1056dfc341e4e6e9d970b3990163710": {
      "model_module": "@jupyter-widgets/controls",
      "model_module_version": "1.5.0",
      "model_name": "HBoxModel",
      "state": {
       "children": [
        "IPY_MODEL_902e90c4e34343efbf4cb341cca31cec",
        "IPY_MODEL_402c6598240849c3bf67659eefded6c7"
       ],
       "layout": "IPY_MODEL_529d08e0132c4d03b2def18bb75c08bf"
      }
     },
     "d11e13e6bc3c4059983f4d5a89f7c748": {
      "model_module": "jupyter_cadquery",
      "model_module_version": "^v1.0.0",
      "model_name": "ImageButtonModel",
      "state": {
       "_dom_classes": [
        "view_button"
       ],
       "_model_module_version": "^v1.0.0",
       "_view_module_version": "^v1.0.0",
       "height": "28",
       "layout": "IPY_MODEL_96ebb76881964934ac72ca2c038bd3c5",
       "style": "IPY_MODEL_5ce5832427164baf9930bfe9b339b58b",
       "tooltip": "Change view to isometric",
       "type": "isometric",
       "value": {},
       "width": "36"
      }
     },
     "d1247c342aef43c3a0daf781aae5e9d3": {
      "model_module": "@jupyter-widgets/base",
      "model_module_version": "1.2.0",
      "model_name": "LayoutModel",
      "state": {}
     },
     "d13c4bcb139d47fd8d834ce12536713e": {
      "model_module": "jupyter-threejs",
      "model_module_version": "^2.1.0",
      "model_name": "LineSegments2Model",
      "state": {
       "_view_module": null,
       "_view_module_version": "",
       "geometry": "IPY_MODEL_5074360faa4d4abc929fbf0d32ff288e",
       "material": "IPY_MODEL_8bc744ac154c4a4e95fcbb5d2ef7fad4",
       "morphTargetInfluences": [],
       "name": "edges_2"
      }
     },
     "d148980802284d2c94531d0f2dbfa7cc": {
      "model_module": "jupyter-threejs",
      "model_module_version": "^2.1.0",
      "model_name": "LineMaterialModel",
      "state": {
       "_view_module": null,
       "_view_module_version": "",
       "color": "#808080"
      }
     },
     "d16238ab84924113872a112bf7a3f5e8": {
      "model_module": "@jupyter-widgets/base",
      "model_module_version": "1.2.0",
      "model_name": "LayoutModel",
      "state": {}
     },
     "d16b9bb6fff847f3b5e771f01e7670be": {
      "model_module": "@jupyter-widgets/base",
      "model_module_version": "1.2.0",
      "model_name": "LayoutModel",
      "state": {}
     },
     "d1ae788137d64021b4cca7f8c09ad7ce": {
      "model_module": "jupyter-threejs",
      "model_module_version": "^2.1.0",
      "model_name": "ShaderMaterialModel",
      "state": {
       "_view_module": null,
       "_view_module_version": "",
       "clipping": true,
       "fragmentShader": "\n        uniform float alpha;\n        #define PHYSICAL\nuniform vec3 diffuse;\nuniform vec3 emissive;\nuniform float roughness;\nuniform float metalness;\nuniform float opacity;\n#ifndef STANDARD\n\tuniform float clearCoat;\n\tuniform float clearCoatRoughness;\n#endif\nvarying vec3 vViewPosition;\n#ifndef FLAT_SHADED\n\tvarying vec3 vNormal;\n#endif\n#include <common>\n#include <packing>\n#include <dithering_pars_fragment>\n#include <color_pars_fragment>\n#include <uv_pars_fragment>\n#include <uv2_pars_fragment>\n#include <map_pars_fragment>\n#include <alphamap_pars_fragment>\n#include <aomap_pars_fragment>\n#include <lightmap_pars_fragment>\n#include <emissivemap_pars_fragment>\n#include <bsdfs>\n#include <cube_uv_reflection_fragment>\n#include <envmap_pars_fragment>\n#include <envmap_physical_pars_fragment>\n#include <fog_pars_fragment>\n#include <lights_pars_begin>\n#include <lights_physical_pars_fragment>\n#include <shadowmap_pars_fragment>\n#include <bumpmap_pars_fragment>\n#include <normalmap_pars_fragment>\n#include <roughnessmap_pars_fragment>\n#include <metalnessmap_pars_fragment>\n#include <logdepthbuf_pars_fragment>\n#include <clipping_planes_pars_fragment>\nvoid main() {\n\t#include <clipping_planes_fragment>\n\tvec4 diffuseColor = vec4( diffuse, opacity );\n\tReflectedLight reflectedLight = ReflectedLight( vec3( 0.0 ), vec3( 0.0 ), vec3( 0.0 ), vec3( 0.0 ) );\n\tvec3 totalEmissiveRadiance = emissive;\n\t#include <logdepthbuf_fragment>\n\t#include <map_fragment>\n\t#include <color_fragment>\n\t#include <alphamap_fragment>\n\t#include <alphatest_fragment>\n\t#include <roughnessmap_fragment>\n\t#include <metalnessmap_fragment>\n\t#include <normal_fragment_begin>\n\t#include <normal_fragment_maps>\n\t#include <emissivemap_fragment>\n\t#include <lights_physical_fragment>\n\t#include <lights_fragment_begin>\n\t#include <lights_fragment_maps>\n\t#include <lights_fragment_end>\n\t#include <aomap_fragment>\n\tvec3 outgoingLight = reflectedLight.directDiffuse + reflectedLight.indirectDiffuse + reflectedLight.directSpecular + reflectedLight.indirectSpecular + totalEmissiveRadiance;\n\t\n            if ( gl_FrontFacing ) {\n                gl_FragColor = vec4( outgoingLight, alpha * diffuseColor.a );\n            } else {\n                gl_FragColor = vec4( diffuseColor.r, diffuseColor.g, diffuseColor.b, alpha * diffuseColor.a );\n            }\n\t#include <tonemapping_fragment>\n\t#include <encodings_fragment>\n\t#include <fog_fragment>\n\t#include <premultiplied_alpha_fragment>\n\t#include <dithering_fragment>\n}\n",
       "lights": true,
       "polygonOffset": true,
       "polygonOffsetFactor": 1,
       "polygonOffsetUnits": 1,
       "side": "DoubleSide",
       "uniforms": {
        "alpha": {
         "value": 0.7
        },
        "alphaMap": {
         "value": null
        },
        "ambientLightColor": {
         "value": [
          1,
          1,
          1
         ]
        },
        "aoMap": {
         "value": null
        },
        "aoMapIntensity": {
         "value": 1
        },
        "bumpMap": {
         "value": null
        },
        "bumpScale": {
         "value": 1
        },
        "diffuse": {
         "type": "c",
         "value": "#e8b024"
        },
        "directionalLights": {
         "value": [
          {
           "color": 1973790,
           "direction": {
            "x": -2.49923634283188e-16,
            "y": 7.68877499820049e-17,
            "z": -0.9999999999999999
           },
           "shadow": false,
           "shadowBias": 0,
           "shadowMapSize": {
            "x": 0,
            "y": 0
           },
           "shadowRadius": 1
          },
          {
           "color": 1973790,
           "direction": {
            "x": -5.762736564483164e-17,
            "y": 0.9428090415820632,
            "z": -0.3333333333333332
           },
           "shadow": false,
           "shadowBias": 0,
           "shadowMapSize": {
            "x": 0,
            "y": 0
           },
           "shadowRadius": 1
          },
          {
           "color": 1973790,
           "direction": {
            "x": 0.8164965809277259,
            "y": -0.47140452079103146,
            "z": -0.3333333333333334
           },
           "shadow": false,
           "shadowBias": 0,
           "shadowMapSize": {
            "x": 0,
            "y": 0
           },
           "shadowRadius": 1
          },
          {
           "color": 1973790,
           "direction": {
            "x": 0.816496580927726,
            "y": 0.47140452079103157,
            "z": 0.33333333333333326
           },
           "shadow": false,
           "shadowBias": 0,
           "shadowMapSize": {
            "x": 0,
            "y": 0
           },
           "shadowRadius": 1
          },
          {
           "color": 1973790,
           "direction": {
            "x": -0.816496580927726,
            "y": -0.47140452079103157,
            "z": -0.33333333333333326
           },
           "shadow": false,
           "shadowBias": 0,
           "shadowMapSize": {
            "x": 0,
            "y": 0
           },
           "shadowRadius": 1
          },
          {
           "color": 1973790,
           "direction": {
            "x": -0.8164965809277259,
            "y": 0.47140452079103146,
            "z": 0.3333333333333334
           },
           "shadow": false,
           "shadowBias": 0,
           "shadowMapSize": {
            "x": 0,
            "y": 0
           },
           "shadowRadius": 1
          },
          {
           "color": 1973790,
           "direction": {
            "x": 5.762736564483164e-17,
            "y": -0.9428090415820632,
            "z": 0.3333333333333332
           },
           "shadow": false,
           "shadowBias": 0,
           "shadowMapSize": {
            "x": 0,
            "y": 0
           },
           "shadowRadius": 1
          },
          {
           "color": 1973790,
           "direction": {
            "x": 2.49923634283188e-16,
            "y": -7.68877499820049e-17,
            "z": 0.9999999999999999
           },
           "shadow": false,
           "shadowBias": 0,
           "shadowMapSize": {
            "x": 0,
            "y": 0
           },
           "shadowRadius": 1
          }
         ]
        },
        "directionalShadowMap": {
         "value": [
          null,
          null,
          null,
          null,
          null,
          null,
          null,
          null
         ]
        },
        "directionalShadowMatrix": {
         "value": [
          {
           "elements": [
            1,
            0,
            0,
            0,
            0,
            1,
            0,
            0,
            0,
            0,
            1,
            0,
            0,
            0,
            0,
            1
           ]
          },
          {
           "elements": [
            1,
            0,
            0,
            0,
            0,
            1,
            0,
            0,
            0,
            0,
            1,
            0,
            0,
            0,
            0,
            1
           ]
          },
          {
           "elements": [
            1,
            0,
            0,
            0,
            0,
            1,
            0,
            0,
            0,
            0,
            1,
            0,
            0,
            0,
            0,
            1
           ]
          },
          {
           "elements": [
            1,
            0,
            0,
            0,
            0,
            1,
            0,
            0,
            0,
            0,
            1,
            0,
            0,
            0,
            0,
            1
           ]
          },
          {
           "elements": [
            1,
            0,
            0,
            0,
            0,
            1,
            0,
            0,
            0,
            0,
            1,
            0,
            0,
            0,
            0,
            1
           ]
          },
          {
           "elements": [
            1,
            0,
            0,
            0,
            0,
            1,
            0,
            0,
            0,
            0,
            1,
            0,
            0,
            0,
            0,
            1
           ]
          },
          {
           "elements": [
            1,
            0,
            0,
            0,
            0,
            1,
            0,
            0,
            0,
            0,
            1,
            0,
            0,
            0,
            0,
            1
           ]
          },
          {
           "elements": [
            1,
            0,
            0,
            0,
            0,
            1,
            0,
            0,
            0,
            0,
            1,
            0,
            0,
            0,
            0,
            1
           ]
          }
         ]
        },
        "displacementBias": {
         "value": 0
        },
        "displacementMap": {
         "value": null
        },
        "displacementScale": {
         "value": 1
        },
        "emissive": {
         "type": "c",
         "value": "#000000"
        },
        "emissiveMap": {
         "value": null
        },
        "envMap": {
         "value": null
        },
        "envMapIntensity": {
         "value": 1
        },
        "flipEnvMap": {
         "value": -1
        },
        "fogColor": {
         "type": "c",
         "value": "#ffffff"
        },
        "fogDensity": {
         "value": 0.00025
        },
        "fogFar": {
         "value": 2000
        },
        "fogNear": {
         "value": 1
        },
        "hemisphereLights": {
         "value": []
        },
        "lightMap": {
         "value": null
        },
        "lightMapIntensity": {
         "value": 1
        },
        "map": {
         "value": null
        },
        "maxMipLevel": {
         "value": 0
        },
        "metalness": {
         "value": 0.3
        },
        "metalnessMap": {
         "value": null
        },
        "normalMap": {
         "value": null
        },
        "normalScale": {
         "type": "v2",
         "value": [
          1,
          1
         ]
        },
        "opacity": {
         "value": 1
        },
        "pointLights": {
         "value": []
        },
        "pointShadowMap": {
         "value": []
        },
        "pointShadowMatrix": {
         "value": []
        },
        "rectAreaLights": {
         "value": []
        },
        "reflectivity": {
         "value": 1
        },
        "refractionRatio": {
         "value": 0.98
        },
        "roughness": {
         "value": 0.8
        },
        "roughnessMap": {
         "value": null
        },
        "spotLights": {
         "value": []
        },
        "spotShadowMap": {
         "value": []
        },
        "spotShadowMatrix": {
         "value": []
        },
        "uvTransform": {
         "type": "m3",
         "value": [
          1,
          0,
          0,
          0,
          1,
          0,
          0,
          0,
          1
         ]
        }
       },
       "vertexShader": "#define PHYSICAL\nvarying vec3 vViewPosition;\n#ifndef FLAT_SHADED\n\tvarying vec3 vNormal;\n#endif\n#include <common>\n#include <uv_pars_vertex>\n#include <uv2_pars_vertex>\n#include <displacementmap_pars_vertex>\n#include <color_pars_vertex>\n#include <fog_pars_vertex>\n#include <morphtarget_pars_vertex>\n#include <skinning_pars_vertex>\n#include <shadowmap_pars_vertex>\n#include <logdepthbuf_pars_vertex>\n#include <clipping_planes_pars_vertex>\nvoid main() {\n\t#include <uv_vertex>\n\t#include <uv2_vertex>\n\t#include <color_vertex>\n\t#include <beginnormal_vertex>\n\t#include <morphnormal_vertex>\n\t#include <skinbase_vertex>\n\t#include <skinnormal_vertex>\n\t#include <defaultnormal_vertex>\n#ifndef FLAT_SHADED\n\tvNormal = normalize( transformedNormal );\n#endif\n\t#include <begin_vertex>\n\t#include <morphtarget_vertex>\n\t#include <skinning_vertex>\n\t#include <displacementmap_vertex>\n\t#include <project_vertex>\n\t#include <logdepthbuf_vertex>\n\t#include <clipping_planes_vertex>\n\tvViewPosition = - mvPosition.xyz;\n\t#include <worldpos_vertex>\n\t#include <shadowmap_vertex>\n\t#include <fog_vertex>\n}\n"
      }
     },
     "d1d683a9953b44edbab7be3a473d73d1": {
      "buffers": [
       {
        "data": "AAAAAAAAAAAAAAAAAAAAAAAAAABJ4Zo/",
        "encoding": "base64",
        "path": [
         "positions",
         "buffer"
        ]
       }
      ],
      "model_module": "jupyter-threejs",
      "model_module_version": "^2.1.0",
      "model_name": "LineSegmentsGeometryModel",
      "state": {
       "_view_module": null,
       "_view_module_version": "",
       "positions": {
        "dtype": "float32",
        "shape": [
         1,
         2,
         3
        ]
       }
      }
     },
     "d2414b15-71db-4f55-9b70-4d1d467ba68a": {
      "model_module": "jupyter-threejs",
      "model_module_version": "^2.1.0",
      "model_name": "OrthographicCameraModel",
      "state": {
       "bottom": -5,
       "far": 500,
       "left": -5,
       "near": 0.5,
       "projectionMatrix": [
        0.2,
        0,
        0,
        0,
        0,
        0.2,
        0,
        0,
        0,
        0,
        -0.004004004004004004,
        0,
        0,
        0,
        -1.002002002002002,
        1
       ],
       "right": 5,
       "top": 5
      }
     },
     "d254c65f-921f-40c8-ae67-5aa48da80db4": {
      "model_module": "jupyter-threejs",
      "model_module_version": "^2.1.0",
      "model_name": "DirectionalLightShadowModel",
      "state": {
       "camera": "IPY_MODEL_1b8b9cee-a065-4c4c-9257-050b3484d690"
      }
     },
     "d2825c85a7c848b880529a2c0f96ebf0": {
      "model_module": "@jupyter-widgets/base",
      "model_module_version": "1.2.0",
      "model_name": "LayoutModel",
      "state": {}
     },
     "d2bdf3f0-e6ad-49ae-9ebf-54d946d3a39f": {
      "model_module": "jupyter-threejs",
      "model_module_version": "^2.1.0",
      "model_name": "DirectionalLightShadowModel",
      "state": {
       "camera": "IPY_MODEL_ebb69166-706c-4ed3-95e4-240f871a7b73"
      }
     },
     "d30ef88f6a6c4afc99610d6bff77fb8f": {
      "model_module": "@jupyter-widgets/controls",
      "model_module_version": "1.5.0",
      "model_name": "HBoxModel",
      "state": {
       "children": [
        "IPY_MODEL_650128e42b9d4b69869091ad8d2f26c4",
        "IPY_MODEL_0429224711684960adb3321be37cb920",
        "IPY_MODEL_87be3ad9304f440191264f3d96adedba",
        "IPY_MODEL_5ce5c602466f426c8449990abc29cf58"
       ],
       "layout": "IPY_MODEL_cb18979e91cd4bde994cb8af6dce183c"
      }
     },
     "d323fe2283404acbbd414d2033de6a98": {
      "model_module": "@jupyter-widgets/controls",
      "model_module_version": "1.5.0",
      "model_name": "FloatSliderModel",
      "state": {
       "continuous_update": false,
       "layout": "IPY_MODEL_e4b9c7c3996e421b9e0b417299bb1de9",
       "max": 6.420000131999999,
       "min": -6.955000143,
       "step": 0.01,
       "style": "IPY_MODEL_6c118f91d8ce46f6a9b18736ffd5bdf2",
       "value": 6.420000131999999
      }
     },
     "d397212d38cc4e8b8d8b2124e77ce3ed": {
      "model_module": "jupyter-threejs",
      "model_module_version": "^2.1.0",
      "model_name": "GroupModel",
      "state": {
       "_view_module": null,
       "_view_module_version": "",
       "children": [
        "IPY_MODEL_a24d58f537c0433da0c3af171e52b19d",
        "IPY_MODEL_176c2dc126ca4d319e62b2a94b18a6f3",
        "IPY_MODEL_bf218352a6a24642aec3f80f8fd57e2f",
        "IPY_MODEL_3c0a72f082624392add0ee4af22f0b58",
        "IPY_MODEL_42484b8dd5bb4ae585355134fa5dc05b",
        "IPY_MODEL_82826db08b4243c581c1ac2ca444dd45",
        "IPY_MODEL_7b3eedfc6b794456bf836684038c3b7f",
        "IPY_MODEL_7cb113eaaae94575a104c0e27d5a5a3c"
       ]
      }
     },
     "d3a7bfcf2c2241339d747229d09af72b": {
      "buffers": [
       {
        "data": "AAAAAAAAAAAAAAAA7FG8QAAAAAAAAAAA",
        "encoding": "base64",
        "path": [
         "positions",
         "buffer"
        ]
       }
      ],
      "model_module": "jupyter-threejs",
      "model_module_version": "^2.1.0",
      "model_name": "LineSegmentsGeometryModel",
      "state": {
       "_view_module": null,
       "_view_module_version": "",
       "positions": {
        "dtype": "float32",
        "shape": [
         1,
         2,
         3
        ]
       }
      }
     },
     "d3b5563083124d7595390debeaf1d8fd": {
      "model_module": "@jupyter-widgets/base",
      "model_module_version": "1.2.0",
      "model_name": "LayoutModel",
      "state": {}
     },
     "d3c9bc8f9bd44caab9fe4f6a99783335": {
      "buffers": [
       {
        "data": "AACAvwAAAIAAAAAAAACAvwAAAIAAAAAAAACAvwAAAIAAAAAAAACAvwAAAIAAAAAAAACAvwAAAIAAAAAAAAAAAAAAAAAAAIA/AAAAAAAAAAAAAIA/AAAAAAAAAAAAAIA/AAAAAAAAAAAAAIA/AAAAgPMENT/zBDU/AAAAgPMENT/zBDU/AAAAgPMENT/zBDU/AAAAgPMENT/zBDU/AAAAgAAAgL8AAACAAAAAgAAAgL8AAACAAAAAgAAAgL8AAACAAAAAgAAAgL8AAACAAAAAAAAAgD8AAAAAAAAAAAAAgD8AAAAAAAAAAAAAgD8AAAAAAAAAAAAAgD8AAAAAAAAAgAAAAIAAAIC/AAAAgAAAAIAAAIC/AAAAgAAAAIAAAIC/AAAAgAAAAIAAAIC/AACAPwAAAAAAAACAAACAPwAAAAAAAACAAACAPwAAAAAAAACAAACAPwAAAAAAAACAAACAPwAAAAAAAACA",
        "encoding": "base64",
        "path": [
         "array",
         "buffer"
        ]
       }
      ],
      "model_module": "jupyter-threejs",
      "model_module_version": "^2.1.0",
      "model_name": "BufferAttributeModel",
      "state": {
       "_view_module": null,
       "_view_module_version": "",
       "array": {
        "dtype": "float32",
        "shape": [
         30,
         3
        ]
       },
       "normalized": true,
       "version": 2
      }
     },
     "d3f6cf6c9bfd4e4d81077e25c13893bb": {
      "buffers": [
       {
        "data": "AQAAAAAAAAACAAAAAQAAAAIAAAADAAAA",
        "encoding": "base64",
        "path": [
         "array",
         "buffer"
        ]
       }
      ],
      "model_module": "jupyter-threejs",
      "model_module_version": "^2.1.0",
      "model_name": "BufferAttributeModel",
      "state": {
       "_view_module": null,
       "_view_module_version": "",
       "array": {
        "dtype": "uint32",
        "shape": [
         6
        ]
       },
       "normalized": true,
       "version": 2
      }
     },
     "d474a17fc48a4c0aa79595a05038a0ef": {
      "model_module": "@jupyter-widgets/base",
      "model_module_version": "1.2.0",
      "model_name": "LayoutModel",
      "state": {
       "height": "380px",
       "width": "250px"
      }
     },
     "d4b02a91a795429c9096eab472e4a1bb": {
      "model_module": "jupyter-threejs",
      "model_module_version": "^2.1.0",
      "model_name": "LineMaterialModel",
      "state": {
       "_view_module": null,
       "_view_module_version": "",
       "color": "#808080"
      }
     },
     "d4d83a71f2a54d8ca5034c3d86075a21": {
      "model_module": "jupyter-threejs",
      "model_module_version": "^2.1.0",
      "model_name": "LineSegments2Model",
      "state": {
       "_view_module": null,
       "_view_module_version": "",
       "geometry": "IPY_MODEL_c821b80a336349d196e686b40017386d",
       "material": "IPY_MODEL_50dda9762d6f47a1a87fbb799bb14c92",
       "morphTargetInfluences": [],
       "name": "edges_3"
      }
     },
     "d50479133529465fb4f0bf5ccdb7bbec": {
      "model_module": "@jupyter-widgets/base",
      "model_module_version": "1.2.0",
      "model_name": "LayoutModel",
      "state": {}
     },
     "d522b793cb98410c86e0235c7e1bc4c3": {
      "buffers": [
       {
        "data": "AACAPwAAAAAAAACAAACAPwAAAAAAAACAAACAPwAAAAAAAACAAACAPwAAAAAAAACAAAAAgAAAgL8AAACAAAAAgAAAgL8AAACAAAAAgAAAgL8AAACAAAAAgAAAgL8AAACAAAAAgAAAgL8AAACA8wQ1PwAAAADzBDU/8wQ1PwAAAADzBDU/8wQ1PwAAAADzBDU/8wQ1PwAAAADzBDU/AAAAgAAAAIAAAIC/AAAAgAAAAIAAAIC/AAAAgAAAAIAAAIC/AAAAgAAAAIAAAIC/AAAAAAAAgD8AAAAAAAAAAAAAgD8AAAAAAAAAAAAAgD8AAAAAAAAAAAAAgD8AAAAAAAAAAAAAgD8AAAAAAAAAAAAAAAAAAIA/AAAAAAAAAAAAAIA/AAAAAAAAAAAAAIA/AAAAAAAAAAAAAIA/AACAvwAAAIAAAAAAAACAvwAAAIAAAAAAAACAvwAAAIAAAAAAAACAvwAAAIAAAAAA",
        "encoding": "base64",
        "path": [
         "array",
         "buffer"
        ]
       }
      ],
      "model_module": "jupyter-threejs",
      "model_module_version": "^2.1.0",
      "model_name": "BufferAttributeModel",
      "state": {
       "_view_module": null,
       "_view_module_version": "",
       "array": {
        "dtype": "float32",
        "shape": [
         30,
         3
        ]
       },
       "normalized": true,
       "version": 2
      }
     },
     "d54a15139d894bdd9c4ea2754dc8606a": {
      "buffers": [
       {
        "data": "AAAAAAAAAAAAAAAAAAAAAOxRvEAAAAAA",
        "encoding": "base64",
        "path": [
         "positions",
         "buffer"
        ]
       }
      ],
      "model_module": "jupyter-threejs",
      "model_module_version": "^2.1.0",
      "model_name": "LineSegmentsGeometryModel",
      "state": {
       "_view_module": null,
       "_view_module_version": "",
       "positions": {
        "dtype": "float32",
        "shape": [
         1,
         2,
         3
        ]
       }
      }
     },
     "d5a7eaa4053a4d93b02cac3844001fce": {
      "buffers": [
       {
        "data": "AADAPwAAAD8zM6NAAADAPzMzsz8zM6NAAADAPwAAAD/NzJxAAADAPzMzsz/NzJxAAAAAPwAAwD8zM6NAMzOzPwAAwD8zM6NAAAAAPwAAAD8zM6NAAADAPwAAAD8zM6NAAADAPzMzsz8zM6NAAADAPzMzsz/NzJxAMzOzPwAAwD/NzJxAAADAPzMzsz8zM6NAMzOzPwAAwD8zM6NAAAAAPwAAAD/NzJxAAADAPwAAAD/NzJxAAAAAPwAAAD8zM6NAAADAPwAAAD8zM6NAAAAAPwAAwD/NzJxAMzOzPwAAwD/NzJxAAAAAPwAAAD/NzJxAAADAPwAAAD/NzJxAAADAPzMzsz/NzJxAAAAAPwAAwD/NzJxAMzOzPwAAwD/NzJxAAAAAPwAAwD8zM6NAMzOzPwAAwD8zM6NAAAAAPwAAAD/NzJxAAAAAPwAAAD8zM6NAAAAAPwAAwD/NzJxAAAAAPwAAwD8zM6NA",
        "encoding": "base64",
        "path": [
         "array",
         "buffer"
        ]
       }
      ],
      "model_module": "jupyter-threejs",
      "model_module_version": "^2.1.0",
      "model_name": "BufferAttributeModel",
      "state": {
       "_view_module": null,
       "_view_module_version": "",
       "array": {
        "dtype": "float32",
        "shape": [
         30,
         3
        ]
       },
       "normalized": true,
       "version": 2
      }
     },
     "d5cd9896cd2041599d3f0959f1eec338": {
      "model_module": "@jupyter-widgets/controls",
      "model_module_version": "1.5.0",
      "model_name": "ButtonStyleModel",
      "state": {}
     },
     "d5e75d0d41504a8e8272a2f5cb0e72c2": {
      "model_module": "@jupyter-widgets/base",
      "model_module_version": "1.2.0",
      "model_name": "LayoutModel",
      "state": {}
     },
     "d5ef58fe76f34753acada2cb9a4ce4f1": {
      "model_module": "@jupyter-widgets/base",
      "model_module_version": "1.2.0",
      "model_name": "LayoutModel",
      "state": {}
     },
     "d6167b746d454022968c323148289fa8": {
      "model_module": "jupyter-threejs",
      "model_module_version": "^2.1.0",
      "model_name": "DirectionalLightModel",
      "state": {
       "_view_module": null,
       "_view_module_version": "",
       "color": "white",
       "intensity": 0.12,
       "matrixWorldNeedsUpdate": true,
       "position": [
        4.34281039328222,
        4.34281039328222,
        4.34281039328222
       ],
       "shadow": "IPY_MODEL_50209023-0dc5-4173-92ba-6bddf6ff6e21",
       "target": "IPY_MODEL_35b837e7-5ad2-42ae-9bda-2e35c40de5ae"
      }
     },
     "d6517413-fbeb-4c90-8946-2be382cf6a01": {
      "model_module": "jupyter-threejs",
      "model_module_version": "^2.1.0",
      "model_name": "Object3DModel",
      "state": {}
     },
     "d675fefce8354b0ca1af773fd78aa179": {
      "model_module": "jupyter-threejs",
      "model_module_version": "^2.1.0",
      "model_name": "GridHelperModel",
      "state": {
       "_view_module": null,
       "_view_module_version": "",
       "colorCenterLine": "#aaa",
       "colorGrid": "#ddd",
       "divisions": 12,
       "matrix": [
        1,
        0,
        0,
        0,
        0,
        2.220446049250313e-16,
        1,
        0,
        0,
        -1,
        2.220446049250313e-16,
        0,
        0,
        0,
        0,
        1
       ],
       "quaternion": [
        0.7071067811865475,
        0,
        0,
        0.7071067811865476
       ],
       "rotation": [
        1.5707963267948966,
        0,
        0,
        "XYZ"
       ],
       "size": 2.4000000000000004,
       "type": "LineSegments",
       "visible": false
      }
     },
     "d69f504c6dd0439aa9079a3d88c7b200": {
      "model_module": "jupyter_cadquery",
      "model_module_version": "^v1.0.0",
      "model_name": "ImageButtonModel",
      "state": {
       "_dom_classes": [
        "view_button"
       ],
       "_model_module_version": "^v1.0.0",
       "_view_module_version": "^v1.0.0",
       "height": "28",
       "layout": "IPY_MODEL_988aa82fd48148039faa7d4dc6d862ac",
       "style": "IPY_MODEL_d6d688baf15644d3a1d66a8eb719a2f2",
       "tooltip": "Set clipping plane",
       "type": "2",
       "value": {},
       "width": "36"
      }
     },
     "d6b64e8eca7e44d7957fb9fd83d37f9b": {
      "buffers": [
       {
        "data": "AAAAAGZmhj8AAIA+MzPzP2Zmhj8AAIA+MzPzPzMzcz8AAIA+MzPzP2Zmhj8AAIA+AAAAADMzcz8AAIA+AAAAAGZmhj8AAIA+AAAAADMzcz8AAIA+MzPzPzMzcz8AAIA+",
        "encoding": "base64",
        "path": [
         "positions",
         "buffer"
        ]
       }
      ],
      "model_module": "jupyter-threejs",
      "model_module_version": "^2.1.0",
      "model_name": "LineSegmentsGeometryModel",
      "state": {
       "_view_module": null,
       "_view_module_version": "",
       "positions": {
        "dtype": "float32",
        "shape": [
         4,
         2,
         3
        ]
       }
      }
     },
     "d6c43f444e454ebb81546508cfc2c23a": {
      "model_module": "jupyter-threejs",
      "model_module_version": "^2.1.0",
      "model_name": "DirectionalLightModel",
      "state": {
       "_view_module": null,
       "_view_module_version": "",
       "color": "white",
       "intensity": 0.12,
       "matrixWorldNeedsUpdate": true,
       "position": [
        -3.3346667695588637,
        3.3346667695588637,
        3.3346667695588637
       ],
       "shadow": "IPY_MODEL_e993fee8-5978-4d4b-8d9d-26fa47fafc30",
       "target": "IPY_MODEL_b239529e-61cf-4d5c-bcda-ce37cda5c92a"
      }
     },
     "d6cf7862f53f430c870a7140ddd3f453": {
      "model_module": "@jupyter-widgets/controls",
      "model_module_version": "1.5.0",
      "model_name": "HBoxModel",
      "state": {
       "children": [
        "IPY_MODEL_15e4367c88da4e07be15ecfc6bc9f7e9",
        "IPY_MODEL_bd965e7b5d6e49e699cd4763dc77d938",
        "IPY_MODEL_fc2a141bec7b40539b162bcaa8f49b86",
        "IPY_MODEL_eff8fe3dfdeb40be8deea633b0385f68",
        "IPY_MODEL_0d11e56296414f3eba6dc554e6582399",
        "IPY_MODEL_56970eeca18b4c0a8f3044fbca90a426",
        "IPY_MODEL_c1ae6e358b8d4d4386c6b7dfc9544860",
        "IPY_MODEL_90c66c8acda8426b81f8803b75479e86",
        "IPY_MODEL_0f31f260c41f4b6987b1efba835657cd",
        "IPY_MODEL_5a5b5066dc8b42a5b2ee812a834fef0f",
        "IPY_MODEL_02404412a1a94363ab5220ba13652f7a"
       ],
       "layout": "IPY_MODEL_de3a3262b3a14f8fb9d0f9b40fd75dbc"
      }
     },
     "d6d688baf15644d3a1d66a8eb719a2f2": {
      "model_module": "@jupyter-widgets/controls",
      "model_module_version": "1.5.0",
      "model_name": "ButtonStyleModel",
      "state": {}
     },
     "d6efb034-2201-4261-bbf4-aef0684a6d82": {
      "model_module": "jupyter-threejs",
      "model_module_version": "^2.1.0",
      "model_name": "Object3DModel",
      "state": {}
     },
     "d769176de99744bf843c6ca7caa98dfd": {
      "model_module": "@jupyter-widgets/controls",
      "model_module_version": "1.5.0",
      "model_name": "DescriptionStyleModel",
      "state": {
       "description_width": ""
      }
     },
     "d77f2ec103e247fd9deb2a8368372d47": {
      "model_module": "jupyter-threejs",
      "model_module_version": "^2.1.0",
      "model_name": "LineSegments2Model",
      "state": {
       "_view_module": null,
       "_view_module_version": "",
       "geometry": "IPY_MODEL_cb5b46019f1e412d950cec23caccc500",
       "material": "IPY_MODEL_74c24c1d38cb46d59568c92d57734151",
       "matrix": [
        1,
        0,
        0,
        0,
        0,
        1,
        0,
        0,
        0,
        0,
        1,
        0,
        0.9999999999999999,
        -0.75,
        2.125,
        1
       ],
       "morphTargetInfluences": [],
       "position": [
        0.9999999999999999,
        -0.75,
        2.125
       ],
       "visible": false
      }
     },
     "d7a75e0d435e41efa032ada8a239d9cd": {
      "model_module": "@jupyter-widgets/base",
      "model_module_version": "1.2.0",
      "model_name": "LayoutModel",
      "state": {
       "margin": "0px 10px 0px 0px"
      }
     },
     "d8105d29-5880-4fd7-ab12-a801cf95c24d": {
      "model_module": "jupyter-threejs",
      "model_module_version": "^2.1.0",
      "model_name": "OrthographicCameraModel",
      "state": {
       "bottom": -5,
       "far": 500,
       "left": -5,
       "near": 0.5,
       "projectionMatrix": [
        0.2,
        0,
        0,
        0,
        0,
        0.2,
        0,
        0,
        0,
        0,
        -0.004004004004004004,
        0,
        0,
        0,
        -1.002002002002002,
        1
       ],
       "right": 5,
       "top": 5
      }
     },
     "d8205211d6e54ebf822b9db0dbc0fa1d": {
      "model_module": "@jupyter-widgets/base",
      "model_module_version": "1.2.0",
      "model_name": "LayoutModel",
      "state": {
       "height": "335px",
       "width": "230px"
      }
     },
     "d8504e97807c462ba319f982671d0ef8": {
      "model_module": "@jupyter-widgets/controls",
      "model_module_version": "1.5.0",
      "model_name": "DescriptionStyleModel",
      "state": {
       "description_width": ""
      }
     },
     "d85ad0b7-a00d-4018-9f5c-69ec7a306ef9": {
      "model_module": "jupyter-threejs",
      "model_module_version": "^2.1.0",
      "model_name": "DirectionalLightShadowModel",
      "state": {
       "camera": "IPY_MODEL_011e5182-4d3e-4409-929d-9b68002fa9b3"
      }
     },
     "d8d29c4a872e454e851962774a20b37d": {
      "model_module": "@jupyter-widgets/base",
      "model_module_version": "1.2.0",
      "model_name": "LayoutModel",
      "state": {}
     },
     "d901969e4f0a4d74b445c66998191b25": {
      "model_module": "jupyter-threejs",
      "model_module_version": "^2.1.0",
      "model_name": "LineMaterialModel",
      "state": {
       "_view_module": null,
       "_view_module_version": "",
       "color": "#808080"
      }
     },
     "d9044268ba5a47328852febc11b857ca": {
      "model_module": "@jupyter-widgets/controls",
      "model_module_version": "1.5.0",
      "model_name": "LabelModel",
      "state": {
       "layout": "IPY_MODEL_2d5c7290c4a648ec8d6aeae94d012698",
       "style": "IPY_MODEL_aa2ad168e39c46f391229f3c10062f67",
       "value": "N=( 1.00,  0.00,  0.00)"
      }
     },
     "d91ac8f089eb4c6fb7389014eae785f0": {
      "model_module": "@jupyter-widgets/controls",
      "model_module_version": "1.5.0",
      "model_name": "HBoxModel",
      "state": {
       "children": [
        "IPY_MODEL_a111432578544e4bb90bd949f597c391",
        "IPY_MODEL_6d97f2a0e4e44a27b7441af47739c813",
        "IPY_MODEL_4584554672ce4786afb354e7b7f1133b",
        "IPY_MODEL_400eed3d0f3d4abca3b084ea0c78f1e3",
        "IPY_MODEL_6db272c8ad3a4d1897261d141b82b041",
        "IPY_MODEL_c566ec46dab44ee2a35bdac7dd73dadb",
        "IPY_MODEL_865bb7bd143b416ba805c8673cf90809",
        "IPY_MODEL_47f477e7aa664d8aa348ac88ea2ba538",
        "IPY_MODEL_59d6c3b0638240af819b5616aad1c1bc",
        "IPY_MODEL_541eddb147ea4289adb177dc88dc45cf",
        "IPY_MODEL_ef24c4edeeab470fb3c08748a054f322"
       ],
       "layout": "IPY_MODEL_3c83244f89324ea09b9d00bc07fa32be"
      }
     },
     "d93a93c65bab4426af4f9ad5e5526020": {
      "buffers": [
       {
        "data": "AAAAQDMzcz8AAJhAAAAAQDMzcz/NzKRAAAAAQGZmhj8AAJhAAAAAQGZmhj/NzKRAAAAAQDMzcz8AAJhAAAAAQDMzcz/NzKRAAAAAADMzcz8AAJhAAAAAADMzcz8AAKhAMzPzPzMzcz8AAKhAAAAAQDMzcz/NzKRAMzPzPzMzcz8AAKhAAAAAQGZmhj/NzKRAMzPzP2Zmhj8AAKhAAAAAADMzcz8AAJhAAAAAAGZmhj8AAJhAAAAAQDMzcz8AAJhAAAAAQGZmhj8AAJhAAAAAQGZmhj8AAJhAAAAAQGZmhj/NzKRAAAAAAGZmhj8AAJhAAAAAAGZmhj8AAKhAMzPzP2Zmhj8AAKhAAAAAAGZmhj8AAKhAMzPzP2Zmhj8AAKhAAAAAADMzcz8AAKhAMzPzPzMzcz8AAKhAAAAAADMzcz8AAJhAAAAAADMzcz8AAKhAAAAAAGZmhj8AAJhAAAAAAGZmhj8AAKhA",
        "encoding": "base64",
        "path": [
         "array",
         "buffer"
        ]
       }
      ],
      "model_module": "jupyter-threejs",
      "model_module_version": "^2.1.0",
      "model_name": "BufferAttributeModel",
      "state": {
       "_view_module": null,
       "_view_module_version": "",
       "array": {
        "dtype": "float32",
        "shape": [
         30,
         3
        ]
       },
       "normalized": true,
       "version": 2
      }
     },
     "d94e6ac7fa2d4f058de2f1e504527c7b": {
      "model_module": "jupyter-threejs",
      "model_module_version": "^2.1.0",
      "model_name": "CombinedCameraModel",
      "state": {
       "_view_module": null,
       "_view_module_version": "",
       "far": 33.346667695588636,
       "height": 600,
       "matrix": [
        1,
        0,
        0,
        0,
        0,
        1,
        0,
        0,
        0,
        0,
        1,
        0,
        5.775812271187529,
        5.775812271187529,
        5.775812271187529,
        1
       ],
       "matrixWorldInverse": [
        1,
        0,
        0,
        0,
        0,
        1,
        0,
        0,
        0,
        0,
        1,
        0,
        -5.775812271187529,
        -5.775812271187529,
        -5.775812271187529,
        1
       ],
       "matrixWorldNeedsUpdate": true,
       "mode": "orthographic",
       "orthoFar": 33.346667695588636,
       "position": [
        5.775812271187529,
        5.775812271187529,
        5.775812271187529
       ],
       "projectionMatrix": [
        0.4019342614841791,
        0,
        0,
        0,
        0,
        0.535912348645572,
        0,
        0,
        0,
        0,
        -0.06015640479558112,
        0,
        0,
        0,
        -1.0060156404795582,
        1
       ],
       "type": "OrthographicCamera",
       "up": [
        0,
        0,
        1
       ],
       "width": 800,
       "zoom": 2.5
      }
     },
     "d9702817042a41fabfc22514dd9eb2a2": {
      "model_module": "jupyter-threejs",
      "model_module_version": "^2.1.0",
      "model_name": "RendererModel",
      "state": {
       "_antialias": true,
       "_dom_classes": [
        "view_renderer"
       ],
       "_height": 600,
       "_webgl_version": 2,
       "_width": 800,
       "camera": "IPY_MODEL_f6043d98f92741f5ae7addaeaf22ee83",
       "clippingPlanes": [
        "IPY_MODEL_b1be1f7d58394a8c9fe55c8f97edb581",
        "IPY_MODEL_28042934f0e24b3b97a49908d9f9b647",
        "IPY_MODEL_7a215d05e6b44e23a2b91d57bc85c0b9"
       ],
       "controls": [
        "IPY_MODEL_b5c7feba17ca47faa34290f4c197828d",
        "IPY_MODEL_c7e15a5eb6014c219c421dca4841047f"
       ],
       "layout": "IPY_MODEL_3609c68073b94b89bbc3acb3195468f3",
       "localClippingEnabled": true,
       "scene": "IPY_MODEL_89ea82cf8eeb48ccb66bf90935f66c21",
       "shadowMap": "IPY_MODEL_a3eee6ad83884e8fba4b551778122ae9"
      }
     },
     "d994dfdf30394b5b984eb5274e2c5d92": {
      "model_module": "@jupyter-widgets/controls",
      "model_module_version": "1.5.0",
      "model_name": "HBoxModel",
      "state": {
       "children": [
        "IPY_MODEL_8f4b37042cb24ea090024189811d25c9",
        "IPY_MODEL_14efa81a9a414e7087ede5a5907b352d"
       ],
       "layout": "IPY_MODEL_749ad5abd14f494aa4731901b93e2a96"
      }
     },
     "d9ea26f46259451bb02de0189c9e37fa": {
      "model_module": "@jupyter-widgets/base",
      "model_module_version": "1.2.0",
      "model_name": "LayoutModel",
      "state": {}
     },
     "d9fef8115f0f4cdbad4e9a0faa4f0d0f": {
      "model_module": "@jupyter-widgets/controls",
      "model_module_version": "1.5.0",
      "model_name": "DescriptionStyleModel",
      "state": {
       "description_width": ""
      }
     },
     "da696b3290464ec4914540aa2aa7b0c3": {
      "model_module": "@jupyter-widgets/base",
      "model_module_version": "1.2.0",
      "model_name": "LayoutModel",
      "state": {
       "margin": "0px 10px 0px 0px"
      }
     },
     "da9c96557402499f988e4225b1e28698": {
      "model_module": "@jupyter-widgets/controls",
      "model_module_version": "1.5.0",
      "model_name": "HBoxModel",
      "state": {
       "children": [
        "IPY_MODEL_891a4472974c4960a3a39fd4301f8ea0",
        "IPY_MODEL_c2c6dac09e184c7aa44a2f7158d4e25f"
       ],
       "layout": "IPY_MODEL_e13c155806e24a858ca532e737824297"
      }
     },
     "dafafbd12c14455e8d19966b72655c81": {
      "model_module": "jupyter-threejs",
      "model_module_version": "^2.1.0",
      "model_name": "DirectionalLightModel",
      "state": {
       "_view_module": null,
       "_view_module_version": "",
       "color": "white",
       "intensity": 0.12,
       "matrixWorldNeedsUpdate": true,
       "position": [
        3.3346667695588637,
        -3.3346667695588637,
        3.3346667695588637
       ],
       "shadow": "IPY_MODEL_1566a94b-8e93-4654-b067-528d8f92e29d",
       "target": "IPY_MODEL_20e23040-c07c-43e8-93f4-26831d9e39aa"
      }
     },
     "db20c4e18b354d4a90040bb03c29aa2d": {
      "model_module": "@jupyter-widgets/controls",
      "model_module_version": "1.5.0",
      "model_name": "VBoxModel",
      "state": {
       "children": [
        "IPY_MODEL_a96f501a36de47229ce3e967cd72949b",
        "IPY_MODEL_cef8dbd2ce474b1c8a94c49ad0a3cce2",
        "IPY_MODEL_899647215cea497b8fe07e74e9827a8a"
       ],
       "layout": "IPY_MODEL_36cc1f1277f8456283503b30cef25ac1"
      }
     },
     "db3e333a8a2b40dda03c08a497ed7fc1": {
      "model_module": "@jupyter-widgets/base",
      "model_module_version": "1.2.0",
      "model_name": "LayoutModel",
      "state": {
       "margin": "0px 10px 0px 0px"
      }
     },
     "db4573c3964b4d79b2f06b547543e031": {
      "model_module": "@jupyter-widgets/base",
      "model_module_version": "1.2.0",
      "model_name": "LayoutModel",
      "state": {}
     },
     "db581bc3f5fc4d6bb1307655406a84e3": {
      "model_module": "jupyter-threejs",
      "model_module_version": "^2.1.0",
      "model_name": "DirectionalLightModel",
      "state": {
       "_view_module": null,
       "_view_module_version": "",
       "color": "white",
       "intensity": 0.12,
       "matrixWorldNeedsUpdate": true,
       "position": [
        8.278436197374486,
        -8.278436197374486,
        8.278436197374486
       ],
       "shadow": "IPY_MODEL_3d9e3979-7d11-4949-94fb-6be59d478dac",
       "target": "IPY_MODEL_5e81285b-730b-46b3-bc43-fd02007db6f5"
      }
     },
     "db94dd6b779848fb90ebda4a98a88429": {
      "model_module": "jupyter-threejs",
      "model_module_version": "^2.1.0",
      "model_name": "BufferGeometryModel",
      "state": {
       "_view_module": null,
       "_view_module_version": "",
       "attributes": {
        "index": "IPY_MODEL_bda3cfba23ff45aa8604047a17f07416",
        "normal": "IPY_MODEL_ffd53d1af51b4951afc0de6c81084fb5",
        "position": "IPY_MODEL_0bef624a118040d7bcc29fd386a7f76d"
       }
      }
     },
     "dba45387a32a4b6790db6fb8bfa68207": {
      "model_module": "@jupyter-widgets/controls",
      "model_module_version": "1.5.0",
      "model_name": "ButtonStyleModel",
      "state": {}
     },
     "dbc0038b63824e1a9a6bc4f7f9146479": {
      "model_module": "jupyter-threejs",
      "model_module_version": "^2.1.0",
      "model_name": "RendererModel",
      "state": {
       "_antialias": true,
       "_dom_classes": [
        "view_renderer"
       ],
       "_height": 600,
       "_webgl_version": 2,
       "_width": 800,
       "camera": "IPY_MODEL_e23751e97bb34d53bbc9cbb0f1b56a5b",
       "clippingPlanes": [
        "IPY_MODEL_caef483bb6524a4cbff553653cfc33d4",
        "IPY_MODEL_12e198db2b1c44f3a9910b803850f54e",
        "IPY_MODEL_a2581bbca4114bc7a7046ebfc746313d"
       ],
       "controls": [
        "IPY_MODEL_1189f2d5a32b4420946feccf5c2adc07",
        "IPY_MODEL_54e4afe9d4014d818345e36406cb102f"
       ],
       "layout": "IPY_MODEL_63404a989c224657a7b3d775e44cf422",
       "localClippingEnabled": true,
       "scene": "IPY_MODEL_023efab1fafb47df9e1aed3eda29ec91",
       "shadowMap": "IPY_MODEL_53be668507f443a181447995cc3da666"
      }
     },
     "dbd074aaf0de42339e3fb932648bd958": {
      "model_module": "jupyter-threejs",
      "model_module_version": "^2.1.0",
      "model_name": "GridHelperModel",
      "state": {
       "_view_module": null,
       "_view_module_version": "",
       "colorCenterLine": "#aaa",
       "colorGrid": "#ddd",
       "divisions": 22,
       "matrix": [
        1,
        0,
        0,
        0,
        0,
        2.220446049250313e-16,
        1,
        0,
        0,
        -1,
        2.220446049250313e-16,
        0,
        0,
        0,
        0,
        1
       ],
       "quaternion": [
        0.7071067811865475,
        0,
        0,
        0.7071067811865476
       ],
       "rotation": [
        1.5707963267948966,
        0,
        0,
        "XYZ"
       ],
       "size": 4.4,
       "type": "LineSegments",
       "visible": false
      }
     },
     "dbdc56d337fd46888660644ba3a270ad": {
      "buffers": [
       {
        "data": "AAAAQDMzcz8AAJhAAAAAQDMzcz/NzKRAAAAAQDMzcz/NzKRAAAAAQGZmhj/NzKRAAAAAQDMzcz8AAJhAAAAAQGZmhj8AAJhAAAAAQGZmhj8AAJhAAAAAQGZmhj/NzKRAAAAAQDMzcz/NzKRAMzPzPzMzcz8AAKhAAAAAADMzcz8AAJhAAAAAQDMzcz8AAJhAAAAAADMzcz8AAKhAMzPzPzMzcz8AAKhAAAAAADMzcz8AAJhAAAAAADMzcz8AAKhAMzPzPzMzcz8AAKhAMzPzP2Zmhj8AAKhAAAAAQGZmhj/NzKRAMzPzP2Zmhj8AAKhAAAAAADMzcz8AAJhAAAAAAGZmhj8AAJhAAAAAAGZmhj8AAJhAAAAAQGZmhj8AAJhAAAAAAGZmhj8AAKhAMzPzP2Zmhj8AAKhAAAAAAGZmhj8AAJhAAAAAAGZmhj8AAKhAAAAAADMzcz8AAKhAAAAAAGZmhj8AAKhA",
        "encoding": "base64",
        "path": [
         "positions",
         "buffer"
        ]
       }
      ],
      "model_module": "jupyter-threejs",
      "model_module_version": "^2.1.0",
      "model_name": "LineSegmentsGeometryModel",
      "state": {
       "_view_module": null,
       "_view_module_version": "",
       "positions": {
        "dtype": "float32",
        "shape": [
         15,
         2,
         3
        ]
       }
      }
     },
     "dc07e2a127644f1eb11a4f5f1f892b08": {
      "model_module": "@jupyter-widgets/base",
      "model_module_version": "1.2.0",
      "model_name": "LayoutModel",
      "state": {}
     },
     "dc104b6854e94c27b422526ae4cd68d5": {
      "model_module": "@jupyter-widgets/base",
      "model_module_version": "1.2.0",
      "model_name": "LayoutModel",
      "state": {
       "width": "230px"
      }
     },
     "dc39206536664865890ba6cce190da9b": {
      "model_module": "@jupyter-widgets/controls",
      "model_module_version": "1.5.0",
      "model_name": "DescriptionStyleModel",
      "state": {
       "description_width": ""
      }
     },
     "dc78dfe98bf646dc99cefba33c3f9a1b": {
      "model_module": "jupyter-threejs",
      "model_module_version": "^2.1.0",
      "model_name": "LineMaterialModel",
      "state": {
       "_view_module": null,
       "_view_module_version": "",
       "color": "red",
       "linewidth": 3
      }
     },
     "dccc8e39f1ba471bb930e0d6756834db": {
      "model_module": "@jupyter-widgets/controls",
      "model_module_version": "1.5.0",
      "model_name": "ButtonStyleModel",
      "state": {}
     },
     "dcd72f88daca410f96022058b82bda1e": {
      "buffers": [
       {
        "data": "AADAPwAAAD8AAIC/AADAPwAAAD+amRk/AADAPwAAwD8AAIC/AADAPwAAwD+amRk/AADAPwAAAD8AAIC/AADAPwAAAD+amRk/AAAAPwAAAD8AAIC/AAAAPwAAAD8AAIA/zcyMPwAAAD8AAIA/AADAPwAAAD+amRk/zcyMPwAAAD8AAIA/AADAPwAAwD+amRk/zcyMPwAAwD8AAIA/AAAAPwAAAD8AAIC/AAAAPwAAwD8AAIC/AADAPwAAAD8AAIC/AADAPwAAwD8AAIC/AADAPwAAwD8AAIC/AADAPwAAwD+amRk/AAAAPwAAwD8AAIC/AAAAPwAAwD8AAIA/zcyMPwAAwD8AAIA/AAAAPwAAwD8AAIA/zcyMPwAAwD8AAIA/AAAAPwAAAD8AAIA/zcyMPwAAAD8AAIA/AAAAPwAAAD8AAIC/AAAAPwAAAD8AAIA/AAAAPwAAwD8AAIC/AAAAPwAAwD8AAIA/",
        "encoding": "base64",
        "path": [
         "array",
         "buffer"
        ]
       }
      ],
      "model_module": "jupyter-threejs",
      "model_module_version": "^2.1.0",
      "model_name": "BufferAttributeModel",
      "state": {
       "_view_module": null,
       "_view_module_version": "",
       "array": {
        "dtype": "float32",
        "shape": [
         30,
         3
        ]
       },
       "normalized": true,
       "version": 2
      }
     },
     "dcfdfdb3e98a4f6f9bf849297c77b9b3": {
      "model_module": "@jupyter-widgets/controls",
      "model_module_version": "1.5.0",
      "model_name": "ButtonStyleModel",
      "state": {}
     },
     "dd24733b-0d98-4776-b76e-698fc06e3787": {
      "model_module": "jupyter-threejs",
      "model_module_version": "^2.1.0",
      "model_name": "Object3DModel",
      "state": {}
     },
     "dd594b83-846d-437e-83d3-0ff665d1de3c": {
      "model_module": "jupyter-threejs",
      "model_module_version": "^2.1.0",
      "model_name": "DirectionalLightShadowModel",
      "state": {
       "camera": "IPY_MODEL_f7890501-647f-42a6-a695-e83934471755"
      }
     },
     "dd9c439a287943c6a7934a7583efd4e6": {
      "model_module": "@jupyter-widgets/base",
      "model_module_version": "1.2.0",
      "model_name": "LayoutModel",
      "state": {}
     },
     "ddaf4ab864e7442382bd51c39c17e04a": {
      "model_module": "@jupyter-widgets/controls",
      "model_module_version": "1.5.0",
      "model_name": "DescriptionStyleModel",
      "state": {
       "description_width": ""
      }
     },
     "ddb2e459ef474edea5e4d888285dd2f9": {
      "model_module": "@jupyter-widgets/base",
      "model_module_version": "1.2.0",
      "model_name": "LayoutModel",
      "state": {}
     },
     "de19d7ffef8c4f42b143bb7bdb907f0c": {
      "buffers": [
       {
        "data": "AQAAAAAAAAACAAAAAQAAAAIAAAADAAAACAAAAAQAAAAFAAAACAAAAAYAAAAEAAAACAAAAAcAAAAGAAAADAAAAAoAAAAJAAAADAAAAAkAAAALAAAAEAAAAA0AAAAOAAAAEAAAAA8AAAANAAAAFQAAABIAAAARAAAAFQAAABEAAAATAAAAFQAAABMAAAAUAAAAFwAAABYAAAAYAAAAFwAAABgAAAAZAAAAGwAAABwAAAAaAAAAGwAAAB0AAAAcAAAA",
        "encoding": "base64",
        "path": [
         "array",
         "buffer"
        ]
       }
      ],
      "model_module": "jupyter-threejs",
      "model_module_version": "^2.1.0",
      "model_name": "BufferAttributeModel",
      "state": {
       "_view_module": null,
       "_view_module_version": "",
       "array": {
        "dtype": "uint32",
        "shape": [
         48
        ]
       },
       "normalized": true,
       "version": 2
      }
     },
     "de3a3262b3a14f8fb9d0f9b40fd75dbc": {
      "model_module": "@jupyter-widgets/base",
      "model_module_version": "1.2.0",
      "model_name": "LayoutModel",
      "state": {}
     },
     "de3fef9e5cc1481b8a0d9370d69a4a66": {
      "model_module": "@jupyter-widgets/controls",
      "model_module_version": "1.5.0",
      "model_name": "SliderStyleModel",
      "state": {
       "description_width": ""
      }
     },
     "de47fbde1ca14ff8b932f19909db956b": {
      "model_module": "@jupyter-widgets/base",
      "model_module_version": "1.2.0",
      "model_name": "LayoutModel",
      "state": {}
     },
     "de700bddf4654d868fc7fb6444104ae2": {
      "model_module": "@jupyter-widgets/controls",
      "model_module_version": "1.5.0",
      "model_name": "LabelModel",
      "state": {
       "layout": "IPY_MODEL_df7ed229119d43d88be36d0dabda8f40",
       "style": "IPY_MODEL_2255ee526b404a508e318872a8a14d2b",
       "value": "N=( 1.00,  0.00,  0.00)"
      }
     },
     "de792524-7fe8-4cd7-a850-6f087eb2db89": {
      "model_module": "jupyter-threejs",
      "model_module_version": "^2.1.0",
      "model_name": "DirectionalLightShadowModel",
      "state": {
       "camera": "IPY_MODEL_5a8ff0d0-deb3-4544-89c5-4922a2095911"
      }
     },
     "de7a33c336314591b36611601e5f0c07": {
      "model_module": "@jupyter-widgets/base",
      "model_module_version": "1.2.0",
      "model_name": "LayoutModel",
      "state": {
       "width": "230px"
      }
     },
     "df0f1a9fa27f4e5fadbcbe3e3faac45b": {
      "buffers": [
       {
        "data": "AADAPwAAAD8zM6NAAADAPzMzsz8zM6NAAADAPwAAAD/NzJxAAADAPzMzsz/NzJxAAAAAPwAAwD8zM6NAMzOzPwAAwD8zM6NAAAAAPwAAAD8zM6NAAADAPwAAAD8zM6NAAADAPzMzsz8zM6NAAADAPzMzsz/NzJxAMzOzPwAAwD/NzJxAAADAPzMzsz8zM6NAMzOzPwAAwD8zM6NAAAAAPwAAAD/NzJxAAADAPwAAAD/NzJxAAAAAPwAAAD8zM6NAAADAPwAAAD8zM6NAAAAAPwAAwD/NzJxAMzOzPwAAwD/NzJxAAAAAPwAAAD/NzJxAAADAPwAAAD/NzJxAAADAPzMzsz/NzJxAAAAAPwAAwD/NzJxAMzOzPwAAwD/NzJxAAAAAPwAAwD8zM6NAMzOzPwAAwD8zM6NAAAAAPwAAAD/NzJxAAAAAPwAAAD8zM6NAAAAAPwAAwD/NzJxAAAAAPwAAwD8zM6NA",
        "encoding": "base64",
        "path": [
         "array",
         "buffer"
        ]
       }
      ],
      "model_module": "jupyter-threejs",
      "model_module_version": "^2.1.0",
      "model_name": "BufferAttributeModel",
      "state": {
       "_view_module": null,
       "_view_module_version": "",
       "array": {
        "dtype": "float32",
        "shape": [
         30,
         3
        ]
       },
       "normalized": true,
       "version": 2
      }
     },
     "df2bef8477594d708a91ce38d3190cff": {
      "model_module": "@jupyter-widgets/base",
      "model_module_version": "1.2.0",
      "model_name": "LayoutModel",
      "state": {
       "height": "380px",
       "width": "250px"
      }
     },
     "df400d60b1a74b1da8f02bf19abffd13": {
      "model_module": "jupyter-threejs",
      "model_module_version": "^2.1.0",
      "model_name": "DirectionalLightModel",
      "state": {
       "_view_module": null,
       "_view_module_version": "",
       "color": "white",
       "intensity": 0.12,
       "matrixWorldNeedsUpdate": true,
       "position": [
        -8.278436197374486,
        -8.278436197374486,
        8.278436197374486
       ],
       "shadow": "IPY_MODEL_b792bcdd-f6f7-495a-8c63-6985af04902e",
       "target": "IPY_MODEL_a05169ce-1cf6-45cf-b846-6e1cff7907a0"
      }
     },
     "df7ed229119d43d88be36d0dabda8f40": {
      "model_module": "@jupyter-widgets/base",
      "model_module_version": "1.2.0",
      "model_name": "LayoutModel",
      "state": {}
     },
     "dfad78eca33a49d5bd87049004470143": {
      "model_module": "@jupyter-widgets/base",
      "model_module_version": "1.2.0",
      "model_name": "LayoutModel",
      "state": {}
     },
     "e0309181d7cd40d8b4c74a69752a04d6": {
      "model_module": "@jupyter-widgets/base",
      "model_module_version": "1.2.0",
      "model_name": "LayoutModel",
      "state": {}
     },
     "e04ded561fad4c498d2eeba2751a32ad": {
      "model_module": "jupyter-threejs",
      "model_module_version": "^2.1.0",
      "model_name": "LineSegments2Model",
      "state": {
       "_view_module": null,
       "_view_module_version": "",
       "geometry": "IPY_MODEL_f38c747b8e524802b26f3458131811c6",
       "material": "IPY_MODEL_74450d7b615a4a2b84b8d90e6545c66c",
       "morphTargetInfluences": [],
       "name": "edges_1"
      }
     },
     "e06851a3a926414384c0dd669e165ae3": {
      "model_module": "jupyter-threejs",
      "model_module_version": "^2.1.0",
      "model_name": "LineMaterialModel",
      "state": {
       "_view_module": null,
       "_view_module_version": "",
       "color": "blue",
       "linewidth": 3
      }
     },
     "e10893e9bee94a52ae9fe7af99b4e50b": {
      "model_module": "jupyter-threejs",
      "model_module_version": "^2.1.0",
      "model_name": "AmbientLightModel",
      "state": {
       "_view_module": null,
       "_view_module_version": ""
      }
     },
     "e1173b1ae63d47fdaaec9ae8d55aa00f": {
      "model_module": "@jupyter-widgets/base",
      "model_module_version": "1.2.0",
      "model_name": "LayoutModel",
      "state": {}
     },
     "e127d0ea-82a6-40e3-88d6-13ce980e74a2": {
      "model_module": "jupyter-threejs",
      "model_module_version": "^2.1.0",
      "model_name": "Object3DModel",
      "state": {}
     },
     "e13c155806e24a858ca532e737824297": {
      "model_module": "@jupyter-widgets/base",
      "model_module_version": "1.2.0",
      "model_name": "LayoutModel",
      "state": {}
     },
     "e14c4f2c3ef845bbb5ab618f66700526": {
      "model_module": "jupyter-threejs",
      "model_module_version": "^2.1.0",
      "model_name": "LineMaterialModel",
      "state": {
       "_view_module": null,
       "_view_module_version": "",
       "color": "red",
       "linewidth": 3
      }
     },
     "e1f807bcb2fc418ab4c555837d37ded5": {
      "model_module": "@jupyter-widgets/controls",
      "model_module_version": "1.5.0",
      "model_name": "ButtonStyleModel",
      "state": {}
     },
     "e20be47ebf9e48f4b88ab38dcdfbbc5f": {
      "model_module": "@jupyter-widgets/base",
      "model_module_version": "1.2.0",
      "model_name": "LayoutModel",
      "state": {}
     },
     "e216a009ba774639baf18839681e026f": {
      "model_module": "@jupyter-widgets/base",
      "model_module_version": "1.2.0",
      "model_name": "LayoutModel",
      "state": {
       "border": "solid 1px #ddd",
       "height": "216px",
       "overflow": "scroll",
       "width": "250px"
      }
     },
     "e22567c5eb25418d97022f9018243889": {
      "model_module": "@jupyter-widgets/base",
      "model_module_version": "1.2.0",
      "model_name": "LayoutModel",
      "state": {}
     },
     "e23751e97bb34d53bbc9cbb0f1b56a5b": {
      "model_module": "jupyter-threejs",
      "model_module_version": "^2.1.0",
      "model_name": "CombinedCameraModel",
      "state": {
       "_view_module": null,
       "_view_module_version": "",
       "far": 82.78436197374486,
       "height": 600,
       "matrix": [
        1,
        0,
        0,
        0,
        0,
        1,
        0,
        0,
        0,
        0,
        1,
        0,
        15.338672101069903,
        13.588672101069903,
        16.463672101069903,
        1
       ],
       "matrixWorldInverse": [
        1,
        0,
        0,
        0,
        0,
        1,
        0,
        0,
        0,
        0,
        1,
        0,
        -15.338672101069903,
        -13.588672101069903,
        -16.463672101069903,
        1
       ],
       "matrixWorldNeedsUpdate": true,
       "mode": "orthographic",
       "orthoFar": 82.78436197374486,
       "position": [
        15.338672101069903,
        13.588672101069903,
        16.463672101069903
       ],
       "projectionMatrix": [
        0.1529664484549955,
        0,
        0,
        0,
        0,
        0.2039552646066607,
        0,
        0,
        0,
        0,
        -0.024188370717972873,
        0,
        0,
        0,
        -1.0024188370717972,
        1
       ],
       "type": "OrthographicCamera",
       "up": [
        0,
        0,
        1
       ],
       "width": 800,
       "zoom": 2.5
      }
     },
     "e2848e9ca5bb44b3a456a7314a1a1173": {
      "model_module": "@jupyter-widgets/base",
      "model_module_version": "1.2.0",
      "model_name": "LayoutModel",
      "state": {}
     },
     "e2a1ca3bd1204bd7b73f646c67d4c63c": {
      "buffers": [
       {
        "data": "AACAPwAAAAAAAACAAACAPwAAAAAAAACAAACAPwAAAAAAAACAAACAPwAAAAAAAACAAAAAgAAAgL8AAACAAAAAgAAAgL8AAACAAAAAgAAAgL8AAACAAAAAgAAAgL8AAACAAAAAgAAAgL8AAACA8wQ1PwAAAADzBDU/8wQ1PwAAAADzBDU/8wQ1PwAAAADzBDU/8wQ1PwAAAADzBDU/AAAAgAAAAIAAAIC/AAAAgAAAAIAAAIC/AAAAgAAAAIAAAIC/AAAAgAAAAIAAAIC/AAAAAAAAgD8AAAAAAAAAAAAAgD8AAAAAAAAAAAAAgD8AAAAAAAAAAAAAgD8AAAAAAAAAAAAAgD8AAAAAAAAAAAAAAAAAAIA/AAAAAAAAAAAAAIA/AAAAAAAAAAAAAIA/AAAAAAAAAAAAAIA/AACAvwAAAIAAAAAAAACAvwAAAIAAAAAAAACAvwAAAIAAAAAAAACAvwAAAIAAAAAA",
        "encoding": "base64",
        "path": [
         "array",
         "buffer"
        ]
       }
      ],
      "model_module": "jupyter-threejs",
      "model_module_version": "^2.1.0",
      "model_name": "BufferAttributeModel",
      "state": {
       "_view_module": null,
       "_view_module_version": "",
       "array": {
        "dtype": "float32",
        "shape": [
         30,
         3
        ]
       },
       "normalized": true,
       "version": 2
      }
     },
     "e2abd1be-9e5c-4492-985e-5cabc624e37d": {
      "model_module": "jupyter-threejs",
      "model_module_version": "^2.1.0",
      "model_name": "DirectionalLightShadowModel",
      "state": {
       "camera": "IPY_MODEL_ee4db552-081e-462b-9106-4b2a9296aed6"
      }
     },
     "e2c7cbf30418434ab3ab90b86f1c9cc1": {
      "model_module": "jupyter-threejs",
      "model_module_version": "^2.1.0",
      "model_name": "BufferGeometryModel",
      "state": {
       "_view_module": null,
       "_view_module_version": "",
       "attributes": {
        "index": "IPY_MODEL_a686cd72e3e9436790af429cf6f1313d",
        "normal": "IPY_MODEL_fade6833bde742f69c60debec05bcbce",
        "position": "IPY_MODEL_8e3e6831c3fc415693c80f518c7098f2"
       }
      }
     },
     "e2fe967b5315466ea4215a339640c786": {
      "buffers": [
       {
        "data": "AAAAAAAAAAAAAAAAAAAAAAAAAAAL1xNA",
        "encoding": "base64",
        "path": [
         "positions",
         "buffer"
        ]
       }
      ],
      "model_module": "jupyter-threejs",
      "model_module_version": "^2.1.0",
      "model_name": "LineSegmentsGeometryModel",
      "state": {
       "_view_module": null,
       "_view_module_version": "",
       "positions": {
        "dtype": "float32",
        "shape": [
         1,
         2,
         3
        ]
       }
      }
     },
     "e31ff0334fdb41eab555b1b847fdf077": {
      "model_module": "jupyter-threejs",
      "model_module_version": "^2.1.0",
      "model_name": "BufferGeometryModel",
      "state": {
       "_view_module": null,
       "_view_module_version": "",
       "attributes": {
        "index": "IPY_MODEL_5167c48012264fc7a1e041c97c0a71eb",
        "normal": "IPY_MODEL_0a057c1fbf5c4174897144fd851ce104",
        "position": "IPY_MODEL_ac10cae7e4f340429b28c530e0f80780"
       }
      }
     },
     "e32d2cbffee54e7cb9edf6ed9970b281": {
      "buffers": [
       {
        "data": "AACAP83MTL0AAIC+AACAP83MTL2amRk+AACAP83MTD0AAIC+AACAP83MTD2amRk+AACAP83MTL0AAIC+AACAP83MTL2amRk+AACAv83MTL0AAIC+AACAv83MTL0AAIA+ZmZmP83MTL0AAIA+AACAP83MTL2amRk+ZmZmP83MTL0AAIA+AACAP83MTD2amRk+ZmZmP83MTD0AAIA+AACAv83MTL0AAIC+AACAv83MTD0AAIC+AACAP83MTL0AAIC+AACAP83MTD0AAIC+AACAP83MTD0AAIC+AACAP83MTD2amRk+AACAv83MTD0AAIC+AACAv83MTD0AAIA+ZmZmP83MTD0AAIA+AACAv83MTD0AAIA+ZmZmP83MTD0AAIA+AACAv83MTL0AAIA+ZmZmP83MTL0AAIA+AACAv83MTL0AAIC+AACAv83MTL0AAIA+AACAv83MTD0AAIC+AACAv83MTD0AAIA+",
        "encoding": "base64",
        "path": [
         "array",
         "buffer"
        ]
       }
      ],
      "model_module": "jupyter-threejs",
      "model_module_version": "^2.1.0",
      "model_name": "BufferAttributeModel",
      "state": {
       "_view_module": null,
       "_view_module_version": "",
       "array": {
        "dtype": "float32",
        "shape": [
         30,
         3
        ]
       },
       "normalized": true,
       "version": 2
      }
     },
     "e3a2c2ff073d4dfdb46d859dc5807e89": {
      "model_module": "jupyter-threejs",
      "model_module_version": "^2.1.0",
      "model_name": "LineMaterialModel",
      "state": {
       "_view_module": null,
       "_view_module_version": "",
       "color": "#808080"
      }
     },
     "e3a4c87d1ac7404297c688b9c48d0556": {
      "buffers": [
       {
        "data": "MzNzPwAAQMAAAJBAMzNzP83MjL8AAJBAMzNzPwAAgL/NzIxAMzNzP83MjL8AAJBAMzNzPwAAQMAAAGBAMzNzPwAAQMAAAJBAMzNzPwAAgL8AAGBAMzNzPwAAgL/NzIxAMzNzPwAAQMAAAGBAMzNzPwAAgL8AAGBAMzNzP83MjL8AAJBAZmaGP83MjL8AAJBAMzNzPwAAQMAAAJBAZmaGPwAAQMAAAJBAZmaGPwAAQMAAAJBAZmaGP83MjL8AAJBAMzNzPwAAgL/NzIxAZmaGPwAAgL/NzIxAZmaGPwAAgL/NzIxAZmaGP83MjL8AAJBAMzNzPwAAQMAAAGBAZmaGPwAAQMAAAGBAZmaGPwAAQMAAAGBAZmaGPwAAQMAAAJBAZmaGPwAAgL8AAGBAZmaGPwAAgL/NzIxAMzNzPwAAgL8AAGBAZmaGPwAAgL8AAGBAZmaGPwAAQMAAAGBAZmaGPwAAgL8AAGBA",
        "encoding": "base64",
        "path": [
         "positions",
         "buffer"
        ]
       }
      ],
      "model_module": "jupyter-threejs",
      "model_module_version": "^2.1.0",
      "model_name": "LineSegmentsGeometryModel",
      "state": {
       "_view_module": null,
       "_view_module_version": "",
       "positions": {
        "dtype": "float32",
        "shape": [
         15,
         2,
         3
        ]
       }
      }
     },
     "e3d322f5396e4bc98c253669a0ea4724": {
      "model_module": "@jupyter-widgets/controls",
      "model_module_version": "1.5.0",
      "model_name": "ButtonStyleModel",
      "state": {}
     },
     "e3ebf825b1ff4f9dbfdba32f0b0e2682": {
      "model_module": "@jupyter-widgets/base",
      "model_module_version": "1.2.0",
      "model_name": "LayoutModel",
      "state": {}
     },
     "e3f57a7249e94353a8aada4a1bdf9935": {
      "model_module": "@jupyter-widgets/base",
      "model_module_version": "1.2.0",
      "model_name": "LayoutModel",
      "state": {}
     },
     "e4169e50d81f4920afb0c7e3a2420fa6": {
      "model_module": "jupyter-threejs",
      "model_module_version": "^2.1.0",
      "model_name": "BufferGeometryModel",
      "state": {
       "_view_module": null,
       "_view_module_version": "",
       "attributes": {
        "index": "IPY_MODEL_a4f6ad98f5cd4b66bfb895d906477bd4",
        "normal": "IPY_MODEL_6b18ae5ad3db4aabbe4079ce25e0b485",
        "position": "IPY_MODEL_3c3dd8eaa9bd439f842148e7463dd08f"
       }
      }
     },
     "e463db7eb4364cf7a085508fa78df591": {
      "model_module": "@jupyter-widgets/controls",
      "model_module_version": "1.5.0",
      "model_name": "ButtonStyleModel",
      "state": {}
     },
     "e4a4ddada42349bfa65ee98b001d7767": {
      "model_module": "jupyter-threejs",
      "model_module_version": "^2.1.0",
      "model_name": "DirectionalLightModel",
      "state": {
       "_view_module": null,
       "_view_module_version": "",
       "color": "white",
       "intensity": 0.12,
       "matrixWorldNeedsUpdate": true,
       "position": [
        3.3346667695588637,
        3.3346667695588637,
        -3.3346667695588637
       ],
       "shadow": "IPY_MODEL_a3e9a346-cdf4-442a-897f-ace462993cd0",
       "target": "IPY_MODEL_5b315d97-4faa-4692-b278-51c84ec55c69"
      }
     },
     "e4a83f8d81334bff84407dfb7d59ecd5": {
      "model_module": "@jupyter-widgets/controls",
      "model_module_version": "1.5.0",
      "model_name": "DescriptionStyleModel",
      "state": {
       "description_width": ""
      }
     },
     "e4b9c7c3996e421b9e0b417299bb1de9": {
      "model_module": "@jupyter-widgets/base",
      "model_module_version": "1.2.0",
      "model_name": "LayoutModel",
      "state": {
       "width": "230px"
      }
     },
     "e4cc92e8fb4d4ffeb56a83700e9f4342": {
      "model_module": "@jupyter-widgets/base",
      "model_module_version": "1.2.0",
      "model_name": "LayoutModel",
      "state": {}
     },
     "e5393214652b487ca924b6514c443c40": {
      "model_module": "jupyter-threejs",
      "model_module_version": "^2.1.0",
      "model_name": "GridHelperModel",
      "state": {
       "_view_module": null,
       "_view_module_version": "",
       "colorCenterLine": "#aaa",
       "colorGrid": "#ddd",
       "divisions": 12,
       "matrix": [
        1,
        0,
        0,
        0,
        0,
        2.220446049250313e-16,
        1,
        0,
        0,
        -1,
        2.220446049250313e-16,
        0,
        0.9999999999999999,
        -0.75,
        2.125,
        1
       ],
       "position": [
        0.9999999999999999,
        -0.75,
        2.125
       ],
       "quaternion": [
        0.7071067811865475,
        0,
        0,
        0.7071067811865476
       ],
       "rotation": [
        1.5707963267948966,
        0,
        0,
        "XYZ"
       ],
       "size": 12,
       "type": "LineSegments",
       "visible": false
      }
     },
     "e582c313886a4a288db74868e0e91297": {
      "model_module": "@jupyter-widgets/base",
      "model_module_version": "1.2.0",
      "model_name": "LayoutModel",
      "state": {}
     },
     "e5da8b82-4877-4438-a848-eb3decb65fcb": {
      "model_module": "jupyter-threejs",
      "model_module_version": "^2.1.0",
      "model_name": "Object3DModel",
      "state": {}
     },
     "e5f423d07e6241bb85e62506c6627007": {
      "model_module": "jupyter-threejs",
      "model_module_version": "^2.1.0",
      "model_name": "LineMaterialModel",
      "state": {
       "_view_module": null,
       "_view_module_version": "",
       "color": "red",
       "linewidth": 3
      }
     },
     "e634044c02c040968972b2dadbc8d583": {
      "model_module": "@jupyter-widgets/base",
      "model_module_version": "1.2.0",
      "model_name": "LayoutModel",
      "state": {
       "width": "230px"
      }
     },
     "e67ab6d73b944909bb510dd373f89bb6": {
      "model_module": "@jupyter-widgets/base",
      "model_module_version": "1.2.0",
      "model_name": "LayoutModel",
      "state": {
       "height": "222px",
       "overflow_x": "scroll",
       "overflow_y": "scroll",
       "width": "250px"
      }
     },
     "e68eabbbeb194fb491bb90d2aa5c8a98": {
      "model_module": "@jupyter-widgets/controls",
      "model_module_version": "1.5.0",
      "model_name": "CheckboxModel",
      "state": {
       "_dom_classes": [
        "view_black_edges"
       ],
       "description": "Black Edges",
       "disabled": false,
       "indent": false,
       "layout": "IPY_MODEL_4f7efa99e00a43dab218ee5d36aeca2e",
       "style": "IPY_MODEL_0dca86d2a5954a86a33bcde27b1e6a24",
       "value": false
      }
     },
     "e697dee65f0b4a3bb5497d7ae4d12e15": {
      "model_module": "@jupyter-widgets/controls",
      "model_module_version": "1.5.0",
      "model_name": "ButtonStyleModel",
      "state": {}
     },
     "e6a6f2373f7a43d1a614aaa506681831": {
      "buffers": [
       {
        "data": "AQAAAAAAAAACAAAAAQAAAAIAAAADAAAA",
        "encoding": "base64",
        "path": [
         "array",
         "buffer"
        ]
       }
      ],
      "model_module": "jupyter-threejs",
      "model_module_version": "^2.1.0",
      "model_name": "BufferAttributeModel",
      "state": {
       "_view_module": null,
       "_view_module_version": "",
       "array": {
        "dtype": "uint32",
        "shape": [
         6
        ]
       },
       "normalized": true,
       "version": 2
      }
     },
     "e72fce92ad6444b7a63acf75469088a3": {
      "model_module": "@jupyter-widgets/controls",
      "model_module_version": "1.5.0",
      "model_name": "DescriptionStyleModel",
      "state": {
       "description_width": ""
      }
     },
     "e73951b4d73c4fe6b1b129bd3f6b19ad": {
      "buffers": [
       {
        "data": "AQAAAAAAAAACAAAAAQAAAAIAAAADAAAACAAAAAQAAAAFAAAACAAAAAYAAAAEAAAACAAAAAcAAAAGAAAADAAAAAoAAAAJAAAADAAAAAkAAAALAAAAEAAAAA0AAAAOAAAAEAAAAA8AAAANAAAAFQAAABIAAAARAAAAFQAAABEAAAATAAAAFQAAABMAAAAUAAAAFwAAABYAAAAYAAAAFwAAABgAAAAZAAAAGwAAABwAAAAaAAAAGwAAAB0AAAAcAAAA",
        "encoding": "base64",
        "path": [
         "array",
         "buffer"
        ]
       }
      ],
      "model_module": "jupyter-threejs",
      "model_module_version": "^2.1.0",
      "model_name": "BufferAttributeModel",
      "state": {
       "_view_module": null,
       "_view_module_version": "",
       "array": {
        "dtype": "uint32",
        "shape": [
         48
        ]
       },
       "normalized": true,
       "version": 2
      }
     },
     "e77b47a3762a400a8da3149d4e6c8d8b": {
      "model_module": "@jupyter-widgets/base",
      "model_module_version": "1.2.0",
      "model_name": "LayoutModel",
      "state": {
       "margin": "0px 10px 0px 0px"
      }
     },
     "e789d245c1184f0eb9007be426c5f925": {
      "model_module": "@jupyter-widgets/base",
      "model_module_version": "1.2.0",
      "model_name": "LayoutModel",
      "state": {}
     },
     "e7e4be0a36604b2cb68cdff41bd30f61": {
      "model_module": "@jupyter-widgets/controls",
      "model_module_version": "1.5.0",
      "model_name": "LabelModel",
      "state": {
       "layout": "IPY_MODEL_aad3463a2b5c480c8f3f04310c8f32e1",
       "style": "IPY_MODEL_a8f29219094c46c1bd894cfa7d412680",
       "value": "N=( 1.00,  0.00,  0.00)"
      }
     },
     "e804fdd1-dd61-44ad-ac8d-fd676c8ede8d": {
      "model_module": "jupyter-threejs",
      "model_module_version": "^2.1.0",
      "model_name": "OrthographicCameraModel",
      "state": {
       "bottom": -5,
       "far": 500,
       "left": -5,
       "near": 0.5,
       "projectionMatrix": [
        0.2,
        0,
        0,
        0,
        0,
        0.2,
        0,
        0,
        0,
        0,
        -0.004004004004004004,
        0,
        0,
        0,
        -1.002002002002002,
        1
       ],
       "right": 5,
       "top": 5
      }
     },
     "e8c16db4a41747dbb2ebd381d204caba": {
      "model_module": "@jupyter-widgets/controls",
      "model_module_version": "1.5.0",
      "model_name": "CheckboxModel",
      "state": {
       "_dom_classes": [
        "view_axes"
       ],
       "description": "Axes",
       "disabled": false,
       "indent": false,
       "layout": "IPY_MODEL_ef03f0e9b39049e3a8e979bc54f2f7ec",
       "style": "IPY_MODEL_851dc1b552534cc09b972eea14879ce7",
       "value": false
      }
     },
     "e909876fb1ea42a89d824e5a87a7920b": {
      "model_module": "@jupyter-widgets/base",
      "model_module_version": "1.2.0",
      "model_name": "LayoutModel",
      "state": {}
     },
     "e993fee8-5978-4d4b-8d9d-26fa47fafc30": {
      "model_module": "jupyter-threejs",
      "model_module_version": "^2.1.0",
      "model_name": "DirectionalLightShadowModel",
      "state": {
       "camera": "IPY_MODEL_27dc06b4-3956-4ac2-9193-5ef792bdba9c"
      }
     },
     "e99bacb32fc7466aac6b613a98ee217a": {
      "model_module": "@jupyter-widgets/base",
      "model_module_version": "1.2.0",
      "model_name": "LayoutModel",
      "state": {}
     },
     "e9a6de8c-4c18-45b2-a9f3-1a3a8ed470ae": {
      "model_module": "jupyter-threejs",
      "model_module_version": "^2.1.0",
      "model_name": "Object3DModel",
      "state": {}
     },
     "e9b423c3404f45409551b64e03e85f1e": {
      "model_module": "@jupyter-widgets/controls",
      "model_module_version": "1.5.0",
      "model_name": "ButtonStyleModel",
      "state": {}
     },
     "ea1f5cee-e9c2-4688-9343-2e492df1b17a": {
      "model_module": "jupyter-threejs",
      "model_module_version": "^2.1.0",
      "model_name": "OrthographicCameraModel",
      "state": {
       "bottom": -5,
       "far": 500,
       "left": -5,
       "near": 0.5,
       "projectionMatrix": [
        0.2,
        0,
        0,
        0,
        0,
        0.2,
        0,
        0,
        0,
        0,
        -0.004004004004004004,
        0,
        0,
        0,
        -1.002002002002002,
        1
       ],
       "right": 5,
       "top": 5
      }
     },
     "ea3f9ca7384c4b5eae14f5a1b86f56f3": {
      "model_module": "jupyter-threejs",
      "model_module_version": "^2.1.0",
      "model_name": "ShaderMaterialModel",
      "state": {
       "_view_module": null,
       "_view_module_version": "",
       "clipping": true,
       "fragmentShader": "\n        uniform float alpha;\n        #define PHYSICAL\nuniform vec3 diffuse;\nuniform vec3 emissive;\nuniform float roughness;\nuniform float metalness;\nuniform float opacity;\n#ifndef STANDARD\n\tuniform float clearCoat;\n\tuniform float clearCoatRoughness;\n#endif\nvarying vec3 vViewPosition;\n#ifndef FLAT_SHADED\n\tvarying vec3 vNormal;\n#endif\n#include <common>\n#include <packing>\n#include <dithering_pars_fragment>\n#include <color_pars_fragment>\n#include <uv_pars_fragment>\n#include <uv2_pars_fragment>\n#include <map_pars_fragment>\n#include <alphamap_pars_fragment>\n#include <aomap_pars_fragment>\n#include <lightmap_pars_fragment>\n#include <emissivemap_pars_fragment>\n#include <bsdfs>\n#include <cube_uv_reflection_fragment>\n#include <envmap_pars_fragment>\n#include <envmap_physical_pars_fragment>\n#include <fog_pars_fragment>\n#include <lights_pars_begin>\n#include <lights_physical_pars_fragment>\n#include <shadowmap_pars_fragment>\n#include <bumpmap_pars_fragment>\n#include <normalmap_pars_fragment>\n#include <roughnessmap_pars_fragment>\n#include <metalnessmap_pars_fragment>\n#include <logdepthbuf_pars_fragment>\n#include <clipping_planes_pars_fragment>\nvoid main() {\n\t#include <clipping_planes_fragment>\n\tvec4 diffuseColor = vec4( diffuse, opacity );\n\tReflectedLight reflectedLight = ReflectedLight( vec3( 0.0 ), vec3( 0.0 ), vec3( 0.0 ), vec3( 0.0 ) );\n\tvec3 totalEmissiveRadiance = emissive;\n\t#include <logdepthbuf_fragment>\n\t#include <map_fragment>\n\t#include <color_fragment>\n\t#include <alphamap_fragment>\n\t#include <alphatest_fragment>\n\t#include <roughnessmap_fragment>\n\t#include <metalnessmap_fragment>\n\t#include <normal_fragment_begin>\n\t#include <normal_fragment_maps>\n\t#include <emissivemap_fragment>\n\t#include <lights_physical_fragment>\n\t#include <lights_fragment_begin>\n\t#include <lights_fragment_maps>\n\t#include <lights_fragment_end>\n\t#include <aomap_fragment>\n\tvec3 outgoingLight = reflectedLight.directDiffuse + reflectedLight.indirectDiffuse + reflectedLight.directSpecular + reflectedLight.indirectSpecular + totalEmissiveRadiance;\n\t\n            if ( gl_FrontFacing ) {\n                gl_FragColor = vec4( outgoingLight, alpha * diffuseColor.a );\n            } else {\n                gl_FragColor = vec4( diffuseColor.r, diffuseColor.g, diffuseColor.b, alpha * diffuseColor.a );\n            }\n\t#include <tonemapping_fragment>\n\t#include <encodings_fragment>\n\t#include <fog_fragment>\n\t#include <premultiplied_alpha_fragment>\n\t#include <dithering_fragment>\n}\n",
       "lights": true,
       "polygonOffset": true,
       "polygonOffsetFactor": 1,
       "polygonOffsetUnits": 1,
       "side": "DoubleSide",
       "uniforms": {
        "alpha": {
         "value": 0.7
        },
        "alphaMap": {
         "value": null
        },
        "ambientLightColor": {
         "value": []
        },
        "aoMap": {
         "value": null
        },
        "aoMapIntensity": {
         "value": 1
        },
        "bumpMap": {
         "value": null
        },
        "bumpScale": {
         "value": 1
        },
        "diffuse": {
         "type": "c",
         "value": "#e8b024"
        },
        "directionalLights": {
         "value": []
        },
        "directionalShadowMap": {
         "value": []
        },
        "directionalShadowMatrix": {
         "value": []
        },
        "displacementBias": {
         "value": 0
        },
        "displacementMap": {
         "value": null
        },
        "displacementScale": {
         "value": 1
        },
        "emissive": {
         "type": "c",
         "value": "#000000"
        },
        "emissiveMap": {
         "value": null
        },
        "envMap": {
         "value": null
        },
        "envMapIntensity": {
         "value": 1
        },
        "flipEnvMap": {
         "value": -1
        },
        "fogColor": {
         "type": "c",
         "value": "#ffffff"
        },
        "fogDensity": {
         "value": 0.00025
        },
        "fogFar": {
         "value": 2000
        },
        "fogNear": {
         "value": 1
        },
        "hemisphereLights": {
         "value": []
        },
        "lightMap": {
         "value": null
        },
        "lightMapIntensity": {
         "value": 1
        },
        "map": {
         "value": null
        },
        "maxMipLevel": {
         "value": 0
        },
        "metalness": {
         "value": 0.3
        },
        "metalnessMap": {
         "value": null
        },
        "normalMap": {
         "value": null
        },
        "normalScale": {
         "type": "v2",
         "value": [
          1,
          1
         ]
        },
        "opacity": {
         "value": 1
        },
        "pointLights": {
         "value": []
        },
        "pointShadowMap": {
         "value": []
        },
        "pointShadowMatrix": {
         "value": []
        },
        "rectAreaLights": {
         "value": []
        },
        "reflectivity": {
         "value": 1
        },
        "refractionRatio": {
         "value": 0.98
        },
        "roughness": {
         "value": 0.8
        },
        "roughnessMap": {
         "value": null
        },
        "spotLights": {
         "value": []
        },
        "spotShadowMap": {
         "value": []
        },
        "spotShadowMatrix": {
         "value": []
        },
        "uvTransform": {
         "type": "m3",
         "value": [
          1,
          0,
          0,
          0,
          1,
          0,
          0,
          0,
          1
         ]
        }
       },
       "vertexShader": "#define PHYSICAL\nvarying vec3 vViewPosition;\n#ifndef FLAT_SHADED\n\tvarying vec3 vNormal;\n#endif\n#include <common>\n#include <uv_pars_vertex>\n#include <uv2_pars_vertex>\n#include <displacementmap_pars_vertex>\n#include <color_pars_vertex>\n#include <fog_pars_vertex>\n#include <morphtarget_pars_vertex>\n#include <skinning_pars_vertex>\n#include <shadowmap_pars_vertex>\n#include <logdepthbuf_pars_vertex>\n#include <clipping_planes_pars_vertex>\nvoid main() {\n\t#include <uv_vertex>\n\t#include <uv2_vertex>\n\t#include <color_vertex>\n\t#include <beginnormal_vertex>\n\t#include <morphnormal_vertex>\n\t#include <skinbase_vertex>\n\t#include <skinnormal_vertex>\n\t#include <defaultnormal_vertex>\n#ifndef FLAT_SHADED\n\tvNormal = normalize( transformedNormal );\n#endif\n\t#include <begin_vertex>\n\t#include <morphtarget_vertex>\n\t#include <skinning_vertex>\n\t#include <displacementmap_vertex>\n\t#include <project_vertex>\n\t#include <logdepthbuf_vertex>\n\t#include <clipping_planes_vertex>\n\tvViewPosition = - mvPosition.xyz;\n\t#include <worldpos_vertex>\n\t#include <shadowmap_vertex>\n\t#include <fog_vertex>\n}\n"
      }
     },
     "ea7a1c919add41859a3866b49a7a96e6": {
      "model_module": "@jupyter-widgets/base",
      "model_module_version": "1.2.0",
      "model_name": "LayoutModel",
      "state": {}
     },
     "ead0eff2ce65464a83db8ef1515a2a6a": {
      "model_module": "@jupyter-widgets/base",
      "model_module_version": "1.2.0",
      "model_name": "LayoutModel",
      "state": {}
     },
     "ead2275e3f3847dfa2427dd3591cd38d": {
      "model_module": "@jupyter-widgets/controls",
      "model_module_version": "1.5.0",
      "model_name": "ButtonStyleModel",
      "state": {}
     },
     "eb547ab8bfac4f2f86dd66b8b44da2a7": {
      "model_module": "jupyter_cadquery",
      "model_module_version": "^v1.0.0",
      "model_name": "ImageButtonModel",
      "state": {
       "_dom_classes": [
        "view_button"
       ],
       "_model_module_version": "^v1.0.0",
       "_view_module_version": "^v1.0.0",
       "height": "28",
       "layout": "IPY_MODEL_329d76672b8f4ab39023a33c2e24c020",
       "style": "IPY_MODEL_ae5a59d2b9f14f63beed06d6939f0b45",
       "tooltip": "Set clipping plane",
       "type": "0",
       "value": {},
       "width": "36"
      }
     },
     "eb7333b10b9f49e5b31ffab549e717ad": {
      "model_module": "@jupyter-widgets/controls",
      "model_module_version": "1.5.0",
      "model_name": "FloatSliderModel",
      "state": {
       "continuous_update": false,
       "layout": "IPY_MODEL_dc104b6854e94c27b422526ae4cd68d5",
       "max": 1.320000132,
       "min": -1.4300001430000002,
       "step": 0.01,
       "style": "IPY_MODEL_0a22009918aa4d4d87c5ba5ca71c15a4",
       "value": 1.320000132
      }
     },
     "ebb19407290348b19ca44e3306549164": {
      "model_module": "@jupyter-widgets/controls",
      "model_module_version": "1.5.0",
      "model_name": "VBoxModel",
      "state": {
       "children": [
        "IPY_MODEL_c4d043e5c7a64c1aa7095f4978304d72",
        "IPY_MODEL_14b670afd5c84c6da7a4c0832f7eeb32",
        "IPY_MODEL_fa27673415664bcf82434e354587ec21",
        "IPY_MODEL_eb7333b10b9f49e5b31ffab549e717ad",
        "IPY_MODEL_2b1dc22d4180462da3cd9fd220a290f8",
        "IPY_MODEL_ecb23a63c8c4440eb5b0a6995dbdd6db"
       ],
       "layout": "IPY_MODEL_fa50ee096abe44a6b2d63e4106e9e6df"
      }
     },
     "ebb69166-706c-4ed3-95e4-240f871a7b73": {
      "model_module": "jupyter-threejs",
      "model_module_version": "^2.1.0",
      "model_name": "OrthographicCameraModel",
      "state": {
       "bottom": -5,
       "far": 500,
       "left": -5,
       "near": 0.5,
       "projectionMatrix": [
        0.2,
        0,
        0,
        0,
        0,
        0.2,
        0,
        0,
        0,
        0,
        -0.004004004004004004,
        0,
        0,
        0,
        -1.002002002002002,
        1
       ],
       "right": 5,
       "top": 5
      }
     },
     "ebe67443d8304962a17ad88ac7e5b0fd": {
      "model_module": "jupyter-threejs",
      "model_module_version": "^2.1.0",
      "model_name": "PlaneModel",
      "state": {
       "_view_module": null,
       "_view_module_version": "",
       "constant": 6,
       "normal": [
        0,
        0,
        1
       ]
      }
     },
     "ebf7a067c9774c1697a049002cdb95c4": {
      "model_module": "@jupyter-widgets/base",
      "model_module_version": "1.2.0",
      "model_name": "LayoutModel",
      "state": {
       "height": "335px",
       "width": "230px"
      }
     },
     "ec0b47bd401145f990536060916f9589": {
      "model_module": "jupyter-threejs",
      "model_module_version": "^2.1.0",
      "model_name": "DirectionalLightModel",
      "state": {
       "_view_module": null,
       "_view_module_version": "",
       "color": "white",
       "intensity": 0.12,
       "matrixWorldNeedsUpdate": true,
       "position": [
        -3.334666769558863,
        -3.334666769558863,
        -3.334666769558863
       ],
       "shadow": "IPY_MODEL_e2abd1be-9e5c-4492-985e-5cabc624e37d",
       "target": "IPY_MODEL_5be9022c-db4e-492c-819a-36c20d7af952"
      }
     },
     "ec0b5fecd82b4c2bb7f2d6486393a26e": {
      "model_module": "jupyter_cadquery",
      "model_module_version": "^v1.0.0",
      "model_name": "ImageButtonModel",
      "state": {
       "_dom_classes": [
        "view_button"
       ],
       "_model_module_version": "^v1.0.0",
       "_view_module_version": "^v1.0.0",
       "height": "28",
       "layout": "IPY_MODEL_1b8e4766177b43ddb110e2e2ebf6dfb5",
       "style": "IPY_MODEL_4e85d23169494cae99cbe874b1a9ad95",
       "tooltip": "Change view to fit",
       "type": "fit",
       "value": {},
       "width": "36"
      }
     },
     "ec3a65b75428405cadf727b98ce5f305": {
      "buffers": [
       {
        "data": "AACAP83MTL0AAIC+AACAP83MTL2amRk+AACAP83MTL2amRk+AACAP83MTD2amRk+AACAP83MTL0AAIC+AACAP83MTD0AAIC+AACAP83MTD0AAIC+AACAP83MTD2amRk+AACAP83MTL2amRk+ZmZmP83MTL0AAIA+AACAv83MTL0AAIC+AACAP83MTL0AAIC+AACAv83MTL0AAIA+ZmZmP83MTL0AAIA+AACAv83MTL0AAIC+AACAv83MTL0AAIA+ZmZmP83MTL0AAIA+ZmZmP83MTD0AAIA+AACAP83MTD2amRk+ZmZmP83MTD0AAIA+AACAv83MTL0AAIC+AACAv83MTD0AAIC+AACAv83MTD0AAIC+AACAP83MTD0AAIC+AACAv83MTD0AAIA+ZmZmP83MTD0AAIA+AACAv83MTD0AAIC+AACAv83MTD0AAIA+AACAv83MTL0AAIA+AACAv83MTD0AAIA+",
        "encoding": "base64",
        "path": [
         "positions",
         "buffer"
        ]
       }
      ],
      "model_module": "jupyter-threejs",
      "model_module_version": "^2.1.0",
      "model_name": "LineSegmentsGeometryModel",
      "state": {
       "_view_module": null,
       "_view_module_version": "",
       "positions": {
        "dtype": "float32",
        "shape": [
         15,
         2,
         3
        ]
       }
      }
     },
     "ec6691b575874006af4a6e4b9841e601": {
      "model_module": "jupyter-threejs",
      "model_module_version": "^2.1.0",
      "model_name": "LineMaterialModel",
      "state": {
       "_view_module": null,
       "_view_module_version": "",
       "color": "#808080"
      }
     },
     "ec86f952-d241-4dab-a5e7-0ee4780b280c": {
      "model_module": "jupyter-threejs",
      "model_module_version": "^2.1.0",
      "model_name": "OrthographicCameraModel",
      "state": {
       "bottom": -5,
       "far": 500,
       "left": -5,
       "near": 0.5,
       "projectionMatrix": [
        0.2,
        0,
        0,
        0,
        0,
        0.2,
        0,
        0,
        0,
        0,
        -0.004004004004004004,
        0,
        0,
        0,
        -1.002002002002002,
        1
       ],
       "right": 5,
       "top": 5
      }
     },
     "ecb23a63c8c4440eb5b0a6995dbdd6db": {
      "model_module": "@jupyter-widgets/controls",
      "model_module_version": "1.5.0",
      "model_name": "FloatSliderModel",
      "state": {
       "continuous_update": false,
       "layout": "IPY_MODEL_1d5a12d6788840ceac3d36592532c9a5",
       "max": 1.320000132,
       "min": -1.4300001430000002,
       "step": 0.01,
       "style": "IPY_MODEL_49fb97775072471ab1a032fe02f10cee",
       "value": 1.320000132
      }
     },
     "ecb4389d27ee45d5a1f76654db0a7bf7": {
      "model_module": "jupyter-threejs",
      "model_module_version": "^2.1.0",
      "model_name": "DirectionalLightModel",
      "state": {
       "_view_module": null,
       "_view_module_version": "",
       "color": "white",
       "intensity": 0.12,
       "matrixWorldNeedsUpdate": true,
       "position": [
        4.34281039328222,
        4.34281039328222,
        -4.34281039328222
       ],
       "shadow": "IPY_MODEL_d254c65f-921f-40c8-ae67-5aa48da80db4",
       "target": "IPY_MODEL_52c447a9-4c58-48ff-ad18-15b2279778cf"
      }
     },
     "ecc97580-a75e-4499-b4c2-cee565185cd2": {
      "model_module": "jupyter-threejs",
      "model_module_version": "^2.1.0",
      "model_name": "DirectionalLightShadowModel",
      "state": {
       "camera": "IPY_MODEL_b1da2d05-fd03-41f3-b49c-2d916ab022e3"
      }
     },
     "ed98edb8-4ef8-4b0b-9906-ef00e7aa05d7": {
      "model_module": "jupyter-threejs",
      "model_module_version": "^2.1.0",
      "model_name": "DirectionalLightShadowModel",
      "state": {
       "camera": "IPY_MODEL_3d101d79-fc5b-4c28-9301-e2a97a432e18"
      }
     },
     "ee0ad881c15d48669e4b11b411f20423": {
      "model_module": "jupyter-threejs",
      "model_module_version": "^2.1.0",
      "model_name": "LineMaterialModel",
      "state": {
       "_view_module": null,
       "_view_module_version": "",
       "color": "#808080"
      }
     },
     "ee4db552-081e-462b-9106-4b2a9296aed6": {
      "model_module": "jupyter-threejs",
      "model_module_version": "^2.1.0",
      "model_name": "OrthographicCameraModel",
      "state": {
       "bottom": -5,
       "far": 500,
       "left": -5,
       "near": 0.5,
       "projectionMatrix": [
        0.2,
        0,
        0,
        0,
        0,
        0.2,
        0,
        0,
        0,
        0,
        -0.004004004004004004,
        0,
        0,
        0,
        -1.002002002002002,
        1
       ],
       "right": 5,
       "top": 5
      }
     },
     "ee57d2d3f41c42cf859bfb26e7070618": {
      "model_module": "jupyter-threejs",
      "model_module_version": "^2.1.0",
      "model_name": "AmbientLightModel",
      "state": {
       "_view_module": null,
       "_view_module_version": ""
      }
     },
     "ef03f0e9b39049e3a8e979bc54f2f7ec": {
      "model_module": "@jupyter-widgets/base",
      "model_module_version": "1.2.0",
      "model_name": "LayoutModel",
      "state": {}
     },
     "ef10ac5c0464434880a77f1318c944b2": {
      "model_module": "jupyter-threejs",
      "model_module_version": "^2.1.0",
      "model_name": "LineMaterialModel",
      "state": {
       "_view_module": null,
       "_view_module_version": "",
       "color": "#808080"
      }
     },
     "ef2198f40e4a43918b312ec4c6cf13b6": {
      "model_module": "jupyter-threejs",
      "model_module_version": "^2.1.0",
      "model_name": "MeshModel",
      "state": {
       "_view_module": null,
       "_view_module_version": "",
       "geometry": "IPY_MODEL_ab3938c669f245d7932a4cf195e71a9f",
       "material": "IPY_MODEL_ea3f9ca7384c4b5eae14f5a1b86f56f3",
       "morphTargetInfluences": [],
       "name": "mesh_2",
       "visible": false
      }
     },
     "ef2487bd9cb44d4aa0958aa8b9cff7ca": {
      "model_module": "jupyter_cadquery",
      "model_module_version": "^v1.0.0",
      "model_name": "ImageButtonModel",
      "state": {
       "_dom_classes": [
        "view_button"
       ],
       "_model_module_version": "^v1.0.0",
       "_view_module_version": "^v1.0.0",
       "height": "28",
       "layout": "IPY_MODEL_2796f852e4144e579319bfd8a22d0886",
       "style": "IPY_MODEL_bb7bfffa5b2047a2bcedbaa261d6c655",
       "tooltip": "Change view to front",
       "type": "front",
       "value": {},
       "width": "36"
      }
     },
     "ef24c4edeeab470fb3c08748a054f322": {
      "model_module": "@jupyter-widgets/controls",
      "model_module_version": "1.5.0",
      "model_name": "CheckboxModel",
      "state": {
       "_dom_classes": [
        "view_black_edges"
       ],
       "description": "Black Edges",
       "disabled": false,
       "indent": false,
       "layout": "IPY_MODEL_094e4bb843e1467ab1e12573ffc0d5b6",
       "style": "IPY_MODEL_d8504e97807c462ba319f982671d0ef8",
       "value": false
      }
     },
     "ef3dffdfd01042d084416547be413377": {
      "model_module": "jupyter-threejs",
      "model_module_version": "^2.1.0",
      "model_name": "BufferGeometryModel",
      "state": {
       "_view_module": null,
       "_view_module_version": "",
       "attributes": {
        "index": "IPY_MODEL_0793f27dccf14b7f9bc73e43bce029d7",
        "normal": "IPY_MODEL_ba5d66e5d89d4471ab0645c64f31af2f",
        "position": "IPY_MODEL_969e6824263e4082ba04afd6f88034a9"
       }
      }
     },
     "ef83fb7d9c6a4c30b1f67072ca59071e": {
      "model_module": "@jupyter-widgets/base",
      "model_module_version": "1.2.0",
      "model_name": "LayoutModel",
      "state": {}
     },
     "ef850b5193884815ac6669ec43a3111e": {
      "model_module": "@jupyter-widgets/controls",
      "model_module_version": "1.5.0",
      "model_name": "LabelModel",
      "state": {
       "layout": "IPY_MODEL_57cc683ec25444c2bc52ace0f38ff0f3",
       "style": "IPY_MODEL_01d2857633ad4657b7e71d823500911f",
       "value": "N=( 0.00,  1.00,  0.00)"
      }
     },
     "ef9cb5334fbb422ca608148eaabdd6b7": {
      "model_module": "@jupyter-widgets/controls",
      "model_module_version": "1.5.0",
      "model_name": "DescriptionStyleModel",
      "state": {
       "description_width": ""
      }
     },
     "efb05bc4feaa4e40ad0f8c4e3bb08da0": {
      "model_module": "@jupyter-widgets/controls",
      "model_module_version": "1.5.0",
      "model_name": "DescriptionStyleModel",
      "state": {
       "description_width": ""
      }
     },
     "eff8fe3dfdeb40be8deea633b0385f68": {
      "model_module": "jupyter_cadquery",
      "model_module_version": "^v1.0.0",
      "model_name": "ImageButtonModel",
      "state": {
       "_dom_classes": [
        "view_button"
       ],
       "_model_module_version": "^v1.0.0",
       "_view_module_version": "^v1.0.0",
       "height": "28",
       "layout": "IPY_MODEL_a4ed35ab8f10460cb8a5a56eddff2681",
       "style": "IPY_MODEL_5bb58517789548c195d2dd0969d99293",
       "tooltip": "Change view to right",
       "type": "right",
       "value": {},
       "width": "36"
      }
     },
     "effcd65f38ad47b6a900187da20465eb": {
      "model_module": "@jupyter-widgets/controls",
      "model_module_version": "1.5.0",
      "model_name": "TabModel",
      "state": {
       "_dom_classes": [
        "tab-content-no-padding"
       ],
       "_titles": {
        "0": "Tree",
        "1": "Clipping"
       },
       "children": [
        "IPY_MODEL_75f7fd0c60784b88bb7a92e31a5e8e9c",
        "IPY_MODEL_a436597d6d264c97912d08926ae46330"
       ],
       "layout": "IPY_MODEL_df2bef8477594d708a91ce38d3190cff"
      }
     },
     "f0080354078f493bb0b88784ec8625df": {
      "model_module": "@jupyter-widgets/controls",
      "model_module_version": "1.5.0",
      "model_name": "DescriptionStyleModel",
      "state": {
       "description_width": ""
      }
     },
     "f00aa65190fc4dad981406e035168d0a": {
      "model_module": "jupyter_cadquery",
      "model_module_version": "^v1.0.0",
      "model_name": "ImageButtonModel",
      "state": {
       "_dom_classes": [
        "view_button"
       ],
       "_model_module_version": "^v1.0.0",
       "_view_module_version": "^v1.0.0",
       "height": "28",
       "layout": "IPY_MODEL_5bef8971894b4ad0bad1be5f565f5a79",
       "style": "IPY_MODEL_dba45387a32a4b6790db6fb8bfa68207",
       "tooltip": "Set clipping plane",
       "type": "0",
       "value": {},
       "width": "36"
      }
     },
     "f080b80f5189416d851e7738d2514fbc": {
      "model_module": "jupyter_cadquery",
      "model_module_version": "^v1.0.0",
      "model_name": "ImageButtonModel",
      "state": {
       "_dom_classes": [
        "view_button"
       ],
       "_model_module_version": "^v1.0.0",
       "_view_module_version": "^v1.0.0",
       "height": "28",
       "layout": "IPY_MODEL_7f337947a4f04729885196dbab8101ce",
       "style": "IPY_MODEL_385ac7628af54bc99e4bb11ad8b641d2",
       "tooltip": "Change view to right",
       "type": "right",
       "value": {},
       "width": "36"
      }
     },
     "f09575a4-a72c-4ca4-8ddf-55bdeb4b7162": {
      "model_module": "jupyter-threejs",
      "model_module_version": "^2.1.0",
      "model_name": "OrthographicCameraModel",
      "state": {
       "bottom": -5,
       "far": 500,
       "left": -5,
       "near": 0.5,
       "projectionMatrix": [
        0.2,
        0,
        0,
        0,
        0,
        0.2,
        0,
        0,
        0,
        0,
        -0.004004004004004004,
        0,
        0,
        0,
        -1.002002002002002,
        1
       ],
       "right": 5,
       "top": 5
      }
     },
     "f0b54a0ba6d148cf98eb02a1bb4fbd1f": {
      "model_module": "jupyter-threejs",
      "model_module_version": "^2.1.0",
      "model_name": "MeshModel",
      "state": {
       "_view_module": null,
       "_view_module_version": "",
       "geometry": "IPY_MODEL_e31ff0334fdb41eab555b1b847fdf077",
       "material": "IPY_MODEL_d1ae788137d64021b4cca7f8c09ad7ce",
       "morphTargetInfluences": [],
       "name": "mesh_3"
      }
     },
     "f0ff57e93b774ba799d7eb9f178614d5": {
      "model_module": "jupyter_cadquery",
      "model_module_version": "^v1.0.0",
      "model_name": "ImageButtonModel",
      "state": {
       "_dom_classes": [
        "view_button"
       ],
       "_model_module_version": "^v1.0.0",
       "_view_module_version": "^v1.0.0",
       "height": "28",
       "layout": "IPY_MODEL_4f8f65199de342c8a5e814c4385e6578",
       "style": "IPY_MODEL_ff9dfebbe4974df7a8593edabfe1568b",
       "tooltip": "Change view to reset",
       "type": "reset",
       "value": {},
       "width": "36"
      }
     },
     "f11de5f8495c417781729228e1282fff": {
      "model_module": "@jupyter-widgets/base",
      "model_module_version": "1.2.0",
      "model_name": "LayoutModel",
      "state": {}
     },
     "f123f271c04045beb03aa81aa2c4ba0e": {
      "model_module": "@jupyter-widgets/controls",
      "model_module_version": "1.5.0",
      "model_name": "ButtonStyleModel",
      "state": {}
     },
     "f127bd6d21e94ba5b2f3866f0a134416": {
      "model_module": "@jupyter-widgets/controls",
      "model_module_version": "1.5.0",
      "model_name": "SliderStyleModel",
      "state": {
       "description_width": ""
      }
     },
     "f139cbac7542427596df23bd52b13a32": {
      "model_module": "jupyter-threejs",
      "model_module_version": "^2.1.0",
      "model_name": "DirectionalLightModel",
      "state": {
       "_view_module": null,
       "_view_module_version": "",
       "color": "white",
       "intensity": 0.12,
       "matrixWorldNeedsUpdate": true,
       "position": [
        -3.3346667695588637,
        3.3346667695588637,
        3.3346667695588637
       ],
       "shadow": "IPY_MODEL_311657d3-6a52-4662-b62d-05d7da4fc99b",
       "target": "IPY_MODEL_ce8137fb-1647-4afb-9681-7b0879844ca2"
      }
     },
     "f141bb5ae7384cf282b733ce7d232f9e": {
      "model_module": "jupyter_cadquery",
      "model_module_version": "^v1.0.0",
      "model_name": "ImageButtonModel",
      "state": {
       "_dom_classes": [
        "view_button"
       ],
       "_model_module_version": "^v1.0.0",
       "_view_module_version": "^v1.0.0",
       "height": "28",
       "layout": "IPY_MODEL_38a877d2e5044c2bbaa2758f92582e80",
       "style": "IPY_MODEL_f45c74d3eeb44024aa276b8899f3ddfb",
       "tooltip": "Change view to fit",
       "type": "fit",
       "value": {},
       "width": "36"
      }
     },
     "f1aab695feb44a43a4f923165f820327": {
      "model_module": "@jupyter-widgets/base",
      "model_module_version": "1.2.0",
      "model_name": "LayoutModel",
      "state": {}
     },
     "f1ade687af29463dae32c2a2d8f39a6f": {
      "buffers": [
       {
        "data": "AACAPwAAAAAAAACAAACAPwAAAAAAAACAAACAPwAAAAAAAACAAACAPwAAAAAAAACAAAAAAAAAAAAAAIA/AAAAAAAAAAAAAIA/AAAAAAAAAAAAAIA/AAAAAAAAAAAAAIA/AAAAAAAAAAAAAIA/8wQ1P/MENT8AAACA8wQ1P/MENT8AAACA8wQ1P/MENT8AAACA8wQ1P/MENT8AAACAAAAAgAAAgL8AAACAAAAAgAAAgL8AAACAAAAAgAAAgL8AAACAAAAAgAAAgL8AAACAAAAAgAAAAIAAAIC/AAAAgAAAAIAAAIC/AAAAgAAAAIAAAIC/AAAAgAAAAIAAAIC/AAAAgAAAAIAAAIC/AAAAAAAAgD8AAAAAAAAAAAAAgD8AAAAAAAAAAAAAgD8AAAAAAAAAAAAAgD8AAAAAAACAvwAAAIAAAAAAAACAvwAAAIAAAAAAAACAvwAAAIAAAAAAAACAvwAAAIAAAAAA",
        "encoding": "base64",
        "path": [
         "array",
         "buffer"
        ]
       }
      ],
      "model_module": "jupyter-threejs",
      "model_module_version": "^2.1.0",
      "model_name": "BufferAttributeModel",
      "state": {
       "_view_module": null,
       "_view_module_version": "",
       "array": {
        "dtype": "float32",
        "shape": [
         30,
         3
        ]
       },
       "normalized": true,
       "version": 2
      }
     },
     "f1e3796d140f46fb8f951db7ff8b4841": {
      "model_module": "@jupyter-widgets/controls",
      "model_module_version": "1.5.0",
      "model_name": "HBoxModel",
      "state": {
       "children": [
        "IPY_MODEL_f7c4ea0d2f694953a34ca11ce5a30028",
        "IPY_MODEL_e7e4be0a36604b2cb68cdff41bd30f61"
       ],
       "layout": "IPY_MODEL_d8d29c4a872e454e851962774a20b37d"
      }
     },
     "f25563aa-632b-4ae3-a4dc-177b4641b967": {
      "model_module": "jupyter-threejs",
      "model_module_version": "^2.1.0",
      "model_name": "OrthographicCameraModel",
      "state": {
       "bottom": -5,
       "far": 500,
       "left": -5,
       "near": 0.5,
       "projectionMatrix": [
        0.2,
        0,
        0,
        0,
        0,
        0.2,
        0,
        0,
        0,
        0,
        -0.004004004004004004,
        0,
        0,
        0,
        -1.002002002002002,
        1
       ],
       "right": 5,
       "top": 5
      }
     },
     "f30d7f8dd2be4f18a957e77de2ff0a34": {
      "model_module": "@jupyter-widgets/controls",
      "model_module_version": "1.5.0",
      "model_name": "ButtonStyleModel",
      "state": {}
     },
     "f30db3e02657471d9948d45d039170d2": {
      "buffers": [
       {
        "data": "AQAAAAAAAAACAAAAAQAAAAIAAAADAAAABQAAAAYAAAAEAAAABQAAAAcAAAAGAAAACAAAAAcAAAAFAAAADAAAAAoAAAAJAAAADAAAAAkAAAALAAAAEAAAAA0AAAAOAAAAEAAAAA8AAAANAAAAEgAAABEAAAATAAAAEgAAABMAAAAUAAAAFQAAABIAAAAUAAAAFwAAABYAAAAYAAAAFwAAABgAAAAZAAAAGwAAABwAAAAaAAAAGwAAAB0AAAAcAAAA",
        "encoding": "base64",
        "path": [
         "array",
         "buffer"
        ]
       }
      ],
      "model_module": "jupyter-threejs",
      "model_module_version": "^2.1.0",
      "model_name": "BufferAttributeModel",
      "state": {
       "_view_module": null,
       "_view_module_version": "",
       "array": {
        "dtype": "uint32",
        "shape": [
         48
        ]
       },
       "normalized": true,
       "version": 2
      }
     },
     "f355bc11-0693-4b57-8afb-d7d84138bd1a": {
      "model_module": "jupyter-threejs",
      "model_module_version": "^2.1.0",
      "model_name": "OrthographicCameraModel",
      "state": {
       "bottom": -5,
       "far": 500,
       "left": -5,
       "near": 0.5,
       "projectionMatrix": [
        0.2,
        0,
        0,
        0,
        0,
        0.2,
        0,
        0,
        0,
        0,
        -0.004004004004004004,
        0,
        0,
        0,
        -1.002002002002002,
        1
       ],
       "right": 5,
       "top": 5
      }
     },
     "f35b83cde4b24a30b1e8c0011c819a52": {
      "model_module": "@jupyter-widgets/controls",
      "model_module_version": "1.5.0",
      "model_name": "VBoxModel",
      "state": {
       "children": [
        "IPY_MODEL_9e43cf815869413084301a9b2dc1f8e9",
        "IPY_MODEL_865d36a630454d6e813c821935622623",
        "IPY_MODEL_8c1196113e764a89b73ff7dbe719e086"
       ],
       "layout": "IPY_MODEL_40e09d59eecc4e738f2db14762fe70bc"
      }
     },
     "f3799cef227342cc87cd064aa6390ecb": {
      "model_module": "jupyter-threejs",
      "model_module_version": "^2.1.0",
      "model_name": "DirectionalLightModel",
      "state": {
       "_view_module": null,
       "_view_module_version": "",
       "color": "white",
       "intensity": 0.12,
       "matrixWorldNeedsUpdate": true,
       "position": [
        -4.34281039328222,
        4.34281039328222,
        -4.34281039328222
       ],
       "shadow": "IPY_MODEL_d2bdf3f0-e6ad-49ae-9ebf-54d946d3a39f",
       "target": "IPY_MODEL_e9a6de8c-4c18-45b2-a9f3-1a3a8ed470ae"
      }
     },
     "f38c747b8e524802b26f3458131811c6": {
      "buffers": [
       {
        "data": "MzNzPwAAQMAAAJBAMzNzP83MjL8AAJBAMzNzPwAAgL/NzIxAMzNzP83MjL8AAJBAMzNzPwAAQMAAAGBAMzNzPwAAQMAAAJBAMzNzPwAAgL8AAGBAMzNzPwAAgL/NzIxAMzNzPwAAQMAAAGBAMzNzPwAAgL8AAGBAMzNzP83MjL8AAJBAZmaGP83MjL8AAJBAMzNzPwAAQMAAAJBAZmaGPwAAQMAAAJBAZmaGPwAAQMAAAJBAZmaGP83MjL8AAJBAMzNzPwAAgL/NzIxAZmaGPwAAgL/NzIxAZmaGPwAAgL/NzIxAZmaGP83MjL8AAJBAMzNzPwAAQMAAAGBAZmaGPwAAQMAAAGBAZmaGPwAAQMAAAGBAZmaGPwAAQMAAAJBAZmaGPwAAgL8AAGBAZmaGPwAAgL/NzIxAMzNzPwAAgL8AAGBAZmaGPwAAgL8AAGBAZmaGPwAAQMAAAGBAZmaGPwAAgL8AAGBA",
        "encoding": "base64",
        "path": [
         "positions",
         "buffer"
        ]
       }
      ],
      "model_module": "jupyter-threejs",
      "model_module_version": "^2.1.0",
      "model_name": "LineSegmentsGeometryModel",
      "state": {
       "_view_module": null,
       "_view_module_version": "",
       "positions": {
        "dtype": "float32",
        "shape": [
         15,
         2,
         3
        ]
       }
      }
     },
     "f3dbafce49ff4d7fa4a447563c865dea": {
      "model_module": "@jupyter-widgets/base",
      "model_module_version": "1.2.0",
      "model_name": "LayoutModel",
      "state": {}
     },
     "f3e4f5d2c86f406da7073984e6c880a8": {
      "model_module": "jupyter-threejs",
      "model_module_version": "^2.1.0",
      "model_name": "DirectionalLightModel",
      "state": {
       "_view_module": null,
       "_view_module_version": "",
       "color": "white",
       "intensity": 0.12,
       "matrixWorldNeedsUpdate": true,
       "position": [
        3.334666769558863,
        -3.334666769558863,
        3.334666769558863
       ],
       "shadow": "IPY_MODEL_d85ad0b7-a00d-4018-9f5c-69ec7a306ef9",
       "target": "IPY_MODEL_41b08be2-eb48-462a-8be0-74b97c63d462"
      }
     },
     "f45c74d3eeb44024aa276b8899f3ddfb": {
      "model_module": "@jupyter-widgets/controls",
      "model_module_version": "1.5.0",
      "model_name": "ButtonStyleModel",
      "state": {}
     },
     "f48e6258fefe4fbca071d4fceb9f24e5": {
      "model_module": "@jupyter-widgets/controls",
      "model_module_version": "1.5.0",
      "model_name": "HTMLModel",
      "state": {
       "_dom_classes": [
        "scroll-area",
        "mac-scrollbar"
       ],
       "layout": "IPY_MODEL_a9ccd25362e64465a46b7d6bf640e3c7",
       "style": "IPY_MODEL_25cf6d8366724079af0b0bc78e875a0b",
       "value": "<table style=\"display: block; overflow-x: visible; white-space: nowrap;\"><tr style=\"vertical-align: text-top;\"><td><pre style=\"color: #aaa; white-space: nowrap\">[ 0]</pre></td><td>\n        <b>Rendering done</b>\n        <table>\n            <tr class=\"small_table\" >                      <td>Tick size</td>  <td>0.2 mm</td> </tr>\n            <tr class=\"small_table\" style=\"color: red;\">   <td>X-Axis</td>     <td>Red</td>    </tr>\n            <tr class=\"small_table\" style=\"color: green;\"> <td>Y-Axis</td>     <td>Green</td>  </tr>\n            <tr class=\"small_table\" style=\"color: blue;\">  <td>Z-Axis</td>     <td>Blue</td>   </tr>\n        </table>\n        </td></tr></table>"
      }
     },
     "f4990f26-9e3f-473d-8b97-b9352cd02964": {
      "model_module": "jupyter-threejs",
      "model_module_version": "^2.1.0",
      "model_name": "OrthographicCameraModel",
      "state": {
       "bottom": -5,
       "far": 500,
       "left": -5,
       "near": 0.5,
       "projectionMatrix": [
        0.2,
        0,
        0,
        0,
        0,
        0.2,
        0,
        0,
        0,
        0,
        -0.004004004004004004,
        0,
        0,
        0,
        -1.002002002002002,
        1
       ],
       "right": 5,
       "top": 5
      }
     },
     "f5076dd388424e369dcfe17e9425b51a": {
      "model_module": "jupyter-threejs",
      "model_module_version": "^2.1.0",
      "model_name": "LineSegments2Model",
      "state": {
       "_view_module": null,
       "_view_module_version": "",
       "geometry": "IPY_MODEL_ec3a65b75428405cadf727b98ce5f305",
       "material": "IPY_MODEL_a332b8dfc2a84a5ebbf1a9a46c6ea2bf",
       "morphTargetInfluences": [],
       "name": "edges_2"
      }
     },
     "f5a78a50d650413c9f4de27260b61781": {
      "model_module": "jupyter-threejs",
      "model_module_version": "^2.1.0",
      "model_name": "GroupModel",
      "state": {
       "_view_module": null,
       "_view_module_version": "",
       "children": [
        "IPY_MODEL_1a46ed03e7d24a1e9b9a4cbf23551b5d",
        "IPY_MODEL_0ca99fea3f4742f5a282bf26e4409bec",
        "IPY_MODEL_7b209a54a7be4250bb19f64148817907",
        "IPY_MODEL_6ab3e1596b3649f59812d377e3bbf9be",
        "IPY_MODEL_78095921696941ee8aaf85d586eb06d8",
        "IPY_MODEL_7397ca72abe64217a14d8b967552465a",
        "IPY_MODEL_46a1af87f35445469c7632184016e83e",
        "IPY_MODEL_f9c22ae14da04183a201f4dfa2709976"
       ]
      }
     },
     "f5b66d3b-0eb0-4441-a467-fad053af3ba8": {
      "model_module": "jupyter-threejs",
      "model_module_version": "^2.1.0",
      "model_name": "DirectionalLightShadowModel",
      "state": {
       "camera": "IPY_MODEL_2033cf97-380d-42b7-b7c1-8998f33fdb2c"
      }
     },
     "f5cd42acb9424dea9536a4e2ae2bd2c4": {
      "model_module": "jupyter_cadquery",
      "model_module_version": "^v1.0.0",
      "model_name": "ImageButtonModel",
      "state": {
       "_dom_classes": [
        "view_button"
       ],
       "_model_module_version": "^v1.0.0",
       "_view_module_version": "^v1.0.0",
       "height": "28",
       "layout": "IPY_MODEL_67afbbe23037496bbc66670915acc81f",
       "style": "IPY_MODEL_0ceb31543e0242c49711796699dcfa74",
       "tooltip": "Change view to reset",
       "type": "reset",
       "value": {},
       "width": "36"
      }
     },
     "f6043d98f92741f5ae7addaeaf22ee83": {
      "model_module": "jupyter-threejs",
      "model_module_version": "^2.1.0",
      "model_name": "CombinedCameraModel",
      "state": {
       "_view_module": null,
       "_view_module_version": "",
       "far": 33.346667695588636,
       "height": 600,
       "matrix": [
        1,
        0,
        0,
        0,
        0,
        1,
        0,
        0,
        0,
        0,
        1,
        0,
        6.775812271187528,
        6.775812271187528,
        5.775812271187528,
        1
       ],
       "matrixWorldInverse": [
        1,
        0,
        0,
        0,
        0,
        1,
        0,
        0,
        0,
        0,
        1,
        0,
        -6.775812271187528,
        -6.775812271187528,
        -5.775812271187528,
        1
       ],
       "matrixWorldNeedsUpdate": true,
       "mode": "orthographic",
       "orthoFar": 33.346667695588636,
       "position": [
        10.203054424278298,
        -1.7785659484468956,
        2.768281544548839
       ],
       "projectionMatrix": [
        0.3593813833165225,
        0,
        0,
        0,
        0,
        0.4791751777553632,
        0,
        0,
        0,
        0,
        -0.06015640479558112,
        0,
        0,
        0,
        -1.0060156404795582,
        1
       ],
       "quaternion": [
        0.4827872703412949,
        0.35854946957364936,
        0.4763679034068316,
        0.6414299260781614
       ],
       "type": "OrthographicCamera",
       "up": [
        0,
        0,
        1
       ],
       "width": 800,
       "zoom": 3.4009353549995174
      }
     },
     "f63f1c4af8c74af982b280d6efbb753a": {
      "model_module": "jupyter-threejs",
      "model_module_version": "^2.1.0",
      "model_name": "DirectionalLightModel",
      "state": {
       "_view_module": null,
       "_view_module_version": "",
       "color": "white",
       "intensity": 0.12,
       "matrixWorldNeedsUpdate": true,
       "position": [
        -4.34281039328222,
        -4.34281039328222,
        4.34281039328222
       ],
       "shadow": "IPY_MODEL_1c605d59-8259-4e13-856f-172ecc825fcf",
       "target": "IPY_MODEL_3300dee9-3d05-4ead-bb95-b54ac4286ace"
      }
     },
     "f6efba2515d44327b910b8184ab5de0c": {
      "model_module": "@jupyter-widgets/controls",
      "model_module_version": "1.5.0",
      "model_name": "DescriptionStyleModel",
      "state": {
       "description_width": ""
      }
     },
     "f74145368e784f2dbfd641fe7fddb71d": {
      "model_module": "@jupyter-widgets/controls",
      "model_module_version": "1.5.0",
      "model_name": "DescriptionStyleModel",
      "state": {
       "description_width": ""
      }
     },
     "f7890501-647f-42a6-a695-e83934471755": {
      "model_module": "jupyter-threejs",
      "model_module_version": "^2.1.0",
      "model_name": "OrthographicCameraModel",
      "state": {
       "bottom": -5,
       "far": 500,
       "left": -5,
       "near": 0.5,
       "projectionMatrix": [
        0.2,
        0,
        0,
        0,
        0,
        0.2,
        0,
        0,
        0,
        0,
        -0.004004004004004004,
        0,
        0,
        0,
        -1.002002002002002,
        1
       ],
       "right": 5,
       "top": 5
      }
     },
     "f7b3fbb3053348929ffa3103d8b294d9": {
      "model_module": "jupyter-threejs",
      "model_module_version": "^2.1.0",
      "model_name": "SceneModel",
      "state": {
       "_view_module": null,
       "_view_module_version": "",
       "children": [
        "IPY_MODEL_0a1874558809442fab3ba8ec766671a6",
        "IPY_MODEL_564cf048721449fc8728ec08970853ec",
        "IPY_MODEL_776a33e4adee482796264998b445a22e",
        "IPY_MODEL_c0cfade4826a43f8bb62f8dd0d768fd1",
        "IPY_MODEL_f63f1c4af8c74af982b280d6efbb753a",
        "IPY_MODEL_f3799cef227342cc87cd064aa6390ecb",
        "IPY_MODEL_37b39fca6d7743fb90942529c7fc1fdd",
        "IPY_MODEL_16b12d47cfbc4f5b8771a7720d692178",
        "IPY_MODEL_2137366354d74e16baafabbd9eafeffb",
        "IPY_MODEL_ecb4389d27ee45d5a1f76654db0a7bf7",
        "IPY_MODEL_d6167b746d454022968c323148289fa8",
        "IPY_MODEL_9fb10acc13814c4fb5af1ab4bf88ff0d",
        "IPY_MODEL_b8f83d1eeede428392436ee4b276177e",
        "IPY_MODEL_12f9d3896ab042b0b88cfbe715e02625",
        "IPY_MODEL_f5a78a50d650413c9f4de27260b61781"
       ]
      }
     },
     "f7c4ea0d2f694953a34ca11ce5a30028": {
      "model_module": "jupyter_cadquery",
      "model_module_version": "^v1.0.0",
      "model_name": "ImageButtonModel",
      "state": {
       "_dom_classes": [
        "view_button"
       ],
       "_model_module_version": "^v1.0.0",
       "_view_module_version": "^v1.0.0",
       "height": "28",
       "layout": "IPY_MODEL_99af370b633a486fae7199a6a3b1c55f",
       "style": "IPY_MODEL_e3d322f5396e4bc98c253669a0ea4724",
       "tooltip": "Set clipping plane",
       "type": "0",
       "value": {},
       "width": "36"
      }
     },
     "f7c4fd1d-1e95-42d4-9974-915ff6289ca3": {
      "model_module": "jupyter-threejs",
      "model_module_version": "^2.1.0",
      "model_name": "OrthographicCameraModel",
      "state": {
       "bottom": -5,
       "far": 500,
       "left": -5,
       "near": 0.5,
       "projectionMatrix": [
        0.2,
        0,
        0,
        0,
        0,
        0.2,
        0,
        0,
        0,
        0,
        -0.004004004004004004,
        0,
        0,
        0,
        -1.002002002002002,
        1
       ],
       "right": 5,
       "top": 5
      }
     },
     "f7d45600cfd148ab9dd1988c178903b9": {
      "buffers": [
       {
        "data": "AAAAQDMzcz8AAIC+AAAAQDMzcz+amRk+AAAAQDMzcz+amRk+AAAAQGZmhj+amRk+AAAAQDMzcz8AAIC+AAAAQGZmhj8AAIC+AAAAQGZmhj8AAIC+AAAAQGZmhj+amRk+AAAAQDMzcz+amRk+MzPzPzMzcz8AAIA+AAAAADMzcz8AAIC+AAAAQDMzcz8AAIC+AAAAADMzcz8AAIA+MzPzPzMzcz8AAIA+AAAAADMzcz8AAIC+AAAAADMzcz8AAIA+MzPzPzMzcz8AAIA+MzPzP2Zmhj8AAIA+AAAAQGZmhj+amRk+MzPzP2Zmhj8AAIA+AAAAADMzcz8AAIC+AAAAAGZmhj8AAIC+AAAAAGZmhj8AAIC+AAAAQGZmhj8AAIC+AAAAAGZmhj8AAIA+MzPzP2Zmhj8AAIA+AAAAAGZmhj8AAIC+AAAAAGZmhj8AAIA+AAAAADMzcz8AAIA+AAAAAGZmhj8AAIA+",
        "encoding": "base64",
        "path": [
         "positions",
         "buffer"
        ]
       }
      ],
      "model_module": "jupyter-threejs",
      "model_module_version": "^2.1.0",
      "model_name": "LineSegmentsGeometryModel",
      "state": {
       "_view_module": null,
       "_view_module_version": "",
       "positions": {
        "dtype": "float32",
        "shape": [
         15,
         2,
         3
        ]
       }
      }
     },
     "f86f109fe301421a8a8bea7a7ed3ddf8": {
      "model_module": "@jupyter-widgets/base",
      "model_module_version": "1.2.0",
      "model_name": "LayoutModel",
      "state": {}
     },
     "f8debb50815f46129856e2491aa5285d": {
      "model_module": "@jupyter-widgets/base",
      "model_module_version": "1.2.0",
      "model_name": "LayoutModel",
      "state": {}
     },
     "f97a2c0d-638c-4e81-b769-22698baa021a": {
      "model_module": "jupyter-threejs",
      "model_module_version": "^2.1.0",
      "model_name": "OrthographicCameraModel",
      "state": {
       "bottom": -5,
       "far": 500,
       "left": -5,
       "near": 0.5,
       "projectionMatrix": [
        0.2,
        0,
        0,
        0,
        0,
        0.2,
        0,
        0,
        0,
        0,
        -0.004004004004004004,
        0,
        0,
        0,
        -1.002002002002002,
        1
       ],
       "right": 5,
       "top": 5
      }
     },
     "f97b3c77c5634c5eb40df875e8d88c0e": {
      "model_module": "@jupyter-widgets/controls",
      "model_module_version": "1.5.0",
      "model_name": "DescriptionStyleModel",
      "state": {
       "description_width": ""
      }
     },
     "f99a302bb4754bc8ac5ae6a42886a895": {
      "model_module": "jupyter_cadquery",
      "model_module_version": "^v1.0.0",
      "model_name": "ImageButtonModel",
      "state": {
       "_dom_classes": [
        "view_button"
       ],
       "_model_module_version": "^v1.0.0",
       "_view_module_version": "^v1.0.0",
       "height": "28",
       "layout": "IPY_MODEL_b2854798c5ff49c6ace54a0d732fdaed",
       "style": "IPY_MODEL_407e9831a3da4c9f843eb8103d402718",
       "tooltip": "Change view to reset",
       "type": "reset",
       "value": {},
       "width": "36"
      }
     },
     "f9c22ae14da04183a201f4dfa2709976": {
      "model_module": "jupyter-threejs",
      "model_module_version": "^2.1.0",
      "model_name": "LineSegments2Model",
      "state": {
       "_view_module": null,
       "_view_module_version": "",
       "geometry": "IPY_MODEL_45dbd23587d340cd8060503648e77882",
       "material": "IPY_MODEL_515bb204ee284473887befe6b0378877",
       "morphTargetInfluences": [],
       "name": "edges_3"
      }
     },
     "f9f72c7397d84581839e406b7dcbaf80": {
      "model_module": "@jupyter-widgets/base",
      "model_module_version": "1.2.0",
      "model_name": "LayoutModel",
      "state": {}
     },
     "f9fc6c54086f4ae88baa5421f8439e5e": {
      "model_module": "@jupyter-widgets/controls",
      "model_module_version": "1.5.0",
      "model_name": "LabelModel",
      "state": {
       "layout": "IPY_MODEL_6219905430d2431896d80cdce3bd103f",
       "style": "IPY_MODEL_cf6da31345e349f2afb70d6710d1d141",
       "value": "N=( 1.00,  0.00,  0.00)"
      }
     },
     "fa27673415664bcf82434e354587ec21": {
      "model_module": "@jupyter-widgets/controls",
      "model_module_version": "1.5.0",
      "model_name": "HBoxModel",
      "state": {
       "children": [
        "IPY_MODEL_a853c35762df47808165ada7325d6028",
        "IPY_MODEL_666100829dcf42f794bce9d225863e0b"
       ],
       "layout": "IPY_MODEL_4ea89494167d4926a6d59c891ba209ed"
      }
     },
     "fa2cf70051724cff9a10d0973bf0f741": {
      "model_module": "@jupyter-widgets/base",
      "model_module_version": "1.2.0",
      "model_name": "LayoutModel",
      "state": {
       "height": "335px",
       "width": "230px"
      }
     },
     "fa2f71252d9146c89d107de6deba2e3d": {
      "model_module": "@jupyter-widgets/base",
      "model_module_version": "1.2.0",
      "model_name": "LayoutModel",
      "state": {
       "margin": "0px 10px 0px 0px"
      }
     },
     "fa4e8e402c3843e1859c1f414509ed56": {
      "buffers": [
       {
        "data": "AADAPwAAAD8AAIC/AADAPwAAAD+amRk/AADAPwAAwD8AAIC/AADAPwAAwD+amRk/AADAPwAAAD8AAIC/AADAPwAAAD+amRk/AAAAPwAAAD8AAIC/AAAAPwAAAD8AAIA/zcyMPwAAAD8AAIA/AADAPwAAAD+amRk/zcyMPwAAAD8AAIA/AADAPwAAwD+amRk/zcyMPwAAwD8AAIA/AAAAPwAAAD8AAIC/AAAAPwAAwD8AAIC/AADAPwAAAD8AAIC/AADAPwAAwD8AAIC/AADAPwAAwD8AAIC/AADAPwAAwD+amRk/AAAAPwAAwD8AAIC/AAAAPwAAwD8AAIA/zcyMPwAAwD8AAIA/AAAAPwAAwD8AAIA/zcyMPwAAwD8AAIA/AAAAPwAAAD8AAIA/zcyMPwAAAD8AAIA/AAAAPwAAAD8AAIC/AAAAPwAAAD8AAIA/AAAAPwAAwD8AAIC/AAAAPwAAwD8AAIA/",
        "encoding": "base64",
        "path": [
         "array",
         "buffer"
        ]
       }
      ],
      "model_module": "jupyter-threejs",
      "model_module_version": "^2.1.0",
      "model_name": "BufferAttributeModel",
      "state": {
       "_view_module": null,
       "_view_module_version": "",
       "array": {
        "dtype": "float32",
        "shape": [
         30,
         3
        ]
       },
       "normalized": true,
       "version": 2
      }
     },
     "fa50ee096abe44a6b2d63e4106e9e6df": {
      "model_module": "@jupyter-widgets/base",
      "model_module_version": "1.2.0",
      "model_name": "LayoutModel",
      "state": {}
     },
     "fa809c615c284051b787077ac26cb8dc": {
      "model_module": "jupyter-threejs",
      "model_module_version": "^2.1.0",
      "model_name": "DirectionalLightModel",
      "state": {
       "_view_module": null,
       "_view_module_version": "",
       "color": "white",
       "intensity": 0.12,
       "matrixWorldNeedsUpdate": true,
       "position": [
        -8.278436197374486,
        -8.278436197374486,
        -8.278436197374486
       ],
       "shadow": "IPY_MODEL_68535e47-89e9-48e8-b983-acd9c3fed7c9",
       "target": "IPY_MODEL_aa15217a-56df-4e30-b8a1-a4a05981a999"
      }
     },
     "fa9b60359275469dbd30eb2f2315f09b": {
      "buffers": [
       {
        "data": "8wQ1PwAAAADzBDU/8wQ1PwAAAADzBDU/8wQ1PwAAAADzBDU/8wQ1PwAAAADzBDU/",
        "encoding": "base64",
        "path": [
         "array",
         "buffer"
        ]
       }
      ],
      "model_module": "jupyter-threejs",
      "model_module_version": "^2.1.0",
      "model_name": "BufferAttributeModel",
      "state": {
       "_view_module": null,
       "_view_module_version": "",
       "array": {
        "dtype": "float32",
        "shape": [
         4,
         3
        ]
       },
       "normalized": true,
       "version": 2
      }
     },
     "fade6833bde742f69c60debec05bcbce": {
      "buffers": [
       {
        "data": "8wQ1PwAAAADzBDU/8wQ1PwAAAADzBDU/8wQ1PwAAAADzBDU/8wQ1PwAAAADzBDU/",
        "encoding": "base64",
        "path": [
         "array",
         "buffer"
        ]
       }
      ],
      "model_module": "jupyter-threejs",
      "model_module_version": "^2.1.0",
      "model_name": "BufferAttributeModel",
      "state": {
       "_view_module": null,
       "_view_module_version": "",
       "array": {
        "dtype": "float32",
        "shape": [
         4,
         3
        ]
       },
       "normalized": true,
       "version": 2
      }
     },
     "faf6efc44a254d829aa13c2de0b42d48": {
      "model_module": "jupyter-threejs",
      "model_module_version": "^2.1.0",
      "model_name": "BufferGeometryModel",
      "state": {
       "_view_module": null,
       "_view_module_version": "",
       "attributes": {
        "index": "IPY_MODEL_f30db3e02657471d9948d45d039170d2",
        "normal": "IPY_MODEL_b5cb98eddfbe4a31baf9d3751c20fdc5",
        "position": "IPY_MODEL_9cb4eea0e5a24dd0baaa5230f725c3c4"
       }
      }
     },
     "fbd4ffde6efa4b0d8200f7c17d014b8f": {
      "model_module": "@jupyter-widgets/controls",
      "model_module_version": "1.5.0",
      "model_name": "DescriptionStyleModel",
      "state": {
       "description_width": ""
      }
     },
     "fbdb0f7768f542ebb98780aa63348559": {
      "model_module": "@jupyter-widgets/controls",
      "model_module_version": "1.5.0",
      "model_name": "ButtonStyleModel",
      "state": {}
     },
     "fbf02416a993457280ed73e424bda7a6": {
      "model_module": "jupyter-threejs",
      "model_module_version": "^2.1.0",
      "model_name": "LineSegments2Model",
      "state": {
       "_view_module": null,
       "_view_module_version": "",
       "geometry": "IPY_MODEL_b8ea2cb7d80d48229b914ab56e1ab733",
       "material": "IPY_MODEL_6f8a75b5494043419a5593a1dc595839",
       "morphTargetInfluences": [],
       "name": "edges_1"
      }
     },
     "fc2a141bec7b40539b162bcaa8f49b86": {
      "model_module": "jupyter_cadquery",
      "model_module_version": "^v1.0.0",
      "model_name": "ImageButtonModel",
      "state": {
       "_dom_classes": [
        "view_button"
       ],
       "_model_module_version": "^v1.0.0",
       "_view_module_version": "^v1.0.0",
       "height": "28",
       "layout": "IPY_MODEL_4c2749d5201546c092627031b8c5eeb6",
       "style": "IPY_MODEL_63533550c6ed4fa1b21f92ef181e79e2",
       "tooltip": "Change view to isometric",
       "type": "isometric",
       "value": {},
       "width": "36"
      }
     },
     "fc2ca54e7e2e457f9e704033b9214aaf": {
      "model_module": "@jupyter-widgets/base",
      "model_module_version": "1.2.0",
      "model_name": "LayoutModel",
      "state": {}
     },
     "fcec4e9f0e6f498ca35d88502e0447a6": {
      "buffers": [
       {
        "data": "AQAAAAAAAAACAAAAAQAAAAIAAAADAAAACAAAAAQAAAAFAAAACAAAAAYAAAAEAAAACAAAAAcAAAAGAAAADAAAAAoAAAAJAAAADAAAAAkAAAALAAAAEAAAAA0AAAAOAAAAEAAAAA8AAAANAAAAFQAAABIAAAARAAAAFQAAABEAAAATAAAAFQAAABMAAAAUAAAAFwAAABYAAAAYAAAAFwAAABgAAAAZAAAAGwAAABwAAAAaAAAAGwAAAB0AAAAcAAAA",
        "encoding": "base64",
        "path": [
         "array",
         "buffer"
        ]
       }
      ],
      "model_module": "jupyter-threejs",
      "model_module_version": "^2.1.0",
      "model_name": "BufferAttributeModel",
      "state": {
       "_view_module": null,
       "_view_module_version": "",
       "array": {
        "dtype": "uint32",
        "shape": [
         48
        ]
       },
       "normalized": true,
       "version": 2
      }
     },
     "fd202cc238f24d9890d5b6da541fb04d": {
      "model_module": "@jupyter-widgets/controls",
      "model_module_version": "1.5.0",
      "model_name": "DescriptionStyleModel",
      "state": {
       "description_width": ""
      }
     },
     "fd7244f84d0949d5adba910185434dc9": {
      "buffers": [
       {
        "data": "AQAAAAAAAAACAAAAAQAAAAIAAAADAAAABQAAAAYAAAAEAAAABQAAAAcAAAAGAAAACAAAAAcAAAAFAAAADAAAAAoAAAAJAAAADAAAAAkAAAALAAAAEAAAAA0AAAAOAAAAEAAAAA8AAAANAAAAEgAAABEAAAATAAAAEgAAABMAAAAUAAAAFQAAABIAAAAUAAAAFwAAABYAAAAYAAAAFwAAABgAAAAZAAAAGwAAABwAAAAaAAAAGwAAAB0AAAAcAAAA",
        "encoding": "base64",
        "path": [
         "array",
         "buffer"
        ]
       }
      ],
      "model_module": "jupyter-threejs",
      "model_module_version": "^2.1.0",
      "model_name": "BufferAttributeModel",
      "state": {
       "_view_module": null,
       "_view_module_version": "",
       "array": {
        "dtype": "uint32",
        "shape": [
         48
        ]
       },
       "normalized": true,
       "version": 2
      }
     },
     "fd92d5b4-3d94-4577-bd8d-7a46ce5c7f41": {
      "model_module": "jupyter-threejs",
      "model_module_version": "^2.1.0",
      "model_name": "Object3DModel",
      "state": {}
     },
     "fda4329055c94c48bd99143ac5a12ea6": {
      "model_module": "jupyter-threejs",
      "model_module_version": "^2.1.0",
      "model_name": "ShaderMaterialModel",
      "state": {
       "_view_module": null,
       "_view_module_version": "",
       "clipping": true,
       "fragmentShader": "\n        uniform float alpha;\n        #define PHYSICAL\nuniform vec3 diffuse;\nuniform vec3 emissive;\nuniform float roughness;\nuniform float metalness;\nuniform float opacity;\n#ifndef STANDARD\n\tuniform float clearCoat;\n\tuniform float clearCoatRoughness;\n#endif\nvarying vec3 vViewPosition;\n#ifndef FLAT_SHADED\n\tvarying vec3 vNormal;\n#endif\n#include <common>\n#include <packing>\n#include <dithering_pars_fragment>\n#include <color_pars_fragment>\n#include <uv_pars_fragment>\n#include <uv2_pars_fragment>\n#include <map_pars_fragment>\n#include <alphamap_pars_fragment>\n#include <aomap_pars_fragment>\n#include <lightmap_pars_fragment>\n#include <emissivemap_pars_fragment>\n#include <bsdfs>\n#include <cube_uv_reflection_fragment>\n#include <envmap_pars_fragment>\n#include <envmap_physical_pars_fragment>\n#include <fog_pars_fragment>\n#include <lights_pars_begin>\n#include <lights_physical_pars_fragment>\n#include <shadowmap_pars_fragment>\n#include <bumpmap_pars_fragment>\n#include <normalmap_pars_fragment>\n#include <roughnessmap_pars_fragment>\n#include <metalnessmap_pars_fragment>\n#include <logdepthbuf_pars_fragment>\n#include <clipping_planes_pars_fragment>\nvoid main() {\n\t#include <clipping_planes_fragment>\n\tvec4 diffuseColor = vec4( diffuse, opacity );\n\tReflectedLight reflectedLight = ReflectedLight( vec3( 0.0 ), vec3( 0.0 ), vec3( 0.0 ), vec3( 0.0 ) );\n\tvec3 totalEmissiveRadiance = emissive;\n\t#include <logdepthbuf_fragment>\n\t#include <map_fragment>\n\t#include <color_fragment>\n\t#include <alphamap_fragment>\n\t#include <alphatest_fragment>\n\t#include <roughnessmap_fragment>\n\t#include <metalnessmap_fragment>\n\t#include <normal_fragment_begin>\n\t#include <normal_fragment_maps>\n\t#include <emissivemap_fragment>\n\t#include <lights_physical_fragment>\n\t#include <lights_fragment_begin>\n\t#include <lights_fragment_maps>\n\t#include <lights_fragment_end>\n\t#include <aomap_fragment>\n\tvec3 outgoingLight = reflectedLight.directDiffuse + reflectedLight.indirectDiffuse + reflectedLight.directSpecular + reflectedLight.indirectSpecular + totalEmissiveRadiance;\n\t\n            if ( gl_FrontFacing ) {\n                gl_FragColor = vec4( outgoingLight, alpha * diffuseColor.a );\n            } else {\n                gl_FragColor = vec4( diffuseColor.r, diffuseColor.g, diffuseColor.b, alpha * diffuseColor.a );\n            }\n\t#include <tonemapping_fragment>\n\t#include <encodings_fragment>\n\t#include <fog_fragment>\n\t#include <premultiplied_alpha_fragment>\n\t#include <dithering_fragment>\n}\n",
       "lights": true,
       "polygonOffset": true,
       "polygonOffsetFactor": 1,
       "polygonOffsetUnits": 1,
       "side": "DoubleSide",
       "uniforms": {
        "alpha": {
         "value": 0.7
        },
        "alphaMap": {
         "value": null
        },
        "ambientLightColor": {
         "value": [
          1,
          1,
          1
         ]
        },
        "aoMap": {
         "value": null
        },
        "aoMapIntensity": {
         "value": 1
        },
        "bumpMap": {
         "value": null
        },
        "bumpScale": {
         "value": 1
        },
        "diffuse": {
         "type": "c",
         "value": "#00ff00"
        },
        "directionalLights": {
         "value": [
          {
           "color": 1973790,
           "direction": {
            "x": -2.989348615883112e-17,
            "y": 2.4777145706089543e-16,
            "z": -1
           },
           "shadow": false,
           "shadowBias": 0,
           "shadowMapSize": {
            "x": 0,
            "y": 0
           },
           "shadowRadius": 1
          },
          {
           "color": 1973790,
           "direction": {
            "x": -9.399224237161659e-17,
            "y": 0.9428090415820635,
            "z": -0.3333333333333332
           },
           "shadow": false,
           "shadowBias": 0,
           "shadowMapSize": {
            "x": 0,
            "y": 0
           },
           "shadowRadius": 1
          },
          {
           "color": 1973790,
           "direction": {
            "x": 0.8164965809277259,
            "y": -0.4714045207910316,
            "z": -0.3333333333333333
           },
           "shadow": false,
           "shadowBias": 0,
           "shadowMapSize": {
            "x": 0,
            "y": 0
           },
           "shadowRadius": 1
          },
          {
           "color": 1973790,
           "direction": {
            "x": 0.8164965809277259,
            "y": 0.4714045207910316,
            "z": 0.3333333333333333
           },
           "shadow": false,
           "shadowBias": 0,
           "shadowMapSize": {
            "x": 0,
            "y": 0
           },
           "shadowRadius": 1
          },
          {
           "color": 1973790,
           "direction": {
            "x": -0.8164965809277259,
            "y": -0.4714045207910316,
            "z": -0.3333333333333333
           },
           "shadow": false,
           "shadowBias": 0,
           "shadowMapSize": {
            "x": 0,
            "y": 0
           },
           "shadowRadius": 1
          },
          {
           "color": 1973790,
           "direction": {
            "x": -0.8164965809277259,
            "y": 0.4714045207910316,
            "z": 0.3333333333333333
           },
           "shadow": false,
           "shadowBias": 0,
           "shadowMapSize": {
            "x": 0,
            "y": 0
           },
           "shadowRadius": 1
          },
          {
           "color": 1973790,
           "direction": {
            "x": 9.399224237161659e-17,
            "y": -0.9428090415820635,
            "z": 0.3333333333333332
           },
           "shadow": false,
           "shadowBias": 0,
           "shadowMapSize": {
            "x": 0,
            "y": 0
           },
           "shadowRadius": 1
          },
          {
           "color": 1973790,
           "direction": {
            "x": 2.989348615883112e-17,
            "y": -2.4777145706089543e-16,
            "z": 1
           },
           "shadow": false,
           "shadowBias": 0,
           "shadowMapSize": {
            "x": 0,
            "y": 0
           },
           "shadowRadius": 1
          }
         ]
        },
        "directionalShadowMap": {
         "value": [
          null,
          null,
          null,
          null,
          null,
          null,
          null,
          null
         ]
        },
        "directionalShadowMatrix": {
         "value": [
          {
           "elements": [
            1,
            0,
            0,
            0,
            0,
            1,
            0,
            0,
            0,
            0,
            1,
            0,
            0,
            0,
            0,
            1
           ]
          },
          {
           "elements": [
            1,
            0,
            0,
            0,
            0,
            1,
            0,
            0,
            0,
            0,
            1,
            0,
            0,
            0,
            0,
            1
           ]
          },
          {
           "elements": [
            1,
            0,
            0,
            0,
            0,
            1,
            0,
            0,
            0,
            0,
            1,
            0,
            0,
            0,
            0,
            1
           ]
          },
          {
           "elements": [
            1,
            0,
            0,
            0,
            0,
            1,
            0,
            0,
            0,
            0,
            1,
            0,
            0,
            0,
            0,
            1
           ]
          },
          {
           "elements": [
            1,
            0,
            0,
            0,
            0,
            1,
            0,
            0,
            0,
            0,
            1,
            0,
            0,
            0,
            0,
            1
           ]
          },
          {
           "elements": [
            1,
            0,
            0,
            0,
            0,
            1,
            0,
            0,
            0,
            0,
            1,
            0,
            0,
            0,
            0,
            1
           ]
          },
          {
           "elements": [
            1,
            0,
            0,
            0,
            0,
            1,
            0,
            0,
            0,
            0,
            1,
            0,
            0,
            0,
            0,
            1
           ]
          },
          {
           "elements": [
            1,
            0,
            0,
            0,
            0,
            1,
            0,
            0,
            0,
            0,
            1,
            0,
            0,
            0,
            0,
            1
           ]
          }
         ]
        },
        "displacementBias": {
         "value": 0
        },
        "displacementMap": {
         "value": null
        },
        "displacementScale": {
         "value": 1
        },
        "emissive": {
         "type": "c",
         "value": "#000000"
        },
        "emissiveMap": {
         "value": null
        },
        "envMap": {
         "value": null
        },
        "envMapIntensity": {
         "value": 1
        },
        "flipEnvMap": {
         "value": -1
        },
        "fogColor": {
         "type": "c",
         "value": "#ffffff"
        },
        "fogDensity": {
         "value": 0.00025
        },
        "fogFar": {
         "value": 2000
        },
        "fogNear": {
         "value": 1
        },
        "hemisphereLights": {
         "value": []
        },
        "lightMap": {
         "value": null
        },
        "lightMapIntensity": {
         "value": 1
        },
        "map": {
         "value": null
        },
        "maxMipLevel": {
         "value": 0
        },
        "metalness": {
         "value": 0.3
        },
        "metalnessMap": {
         "value": null
        },
        "normalMap": {
         "value": null
        },
        "normalScale": {
         "type": "v2",
         "value": [
          1,
          1
         ]
        },
        "opacity": {
         "value": 1
        },
        "pointLights": {
         "value": []
        },
        "pointShadowMap": {
         "value": []
        },
        "pointShadowMatrix": {
         "value": []
        },
        "rectAreaLights": {
         "value": []
        },
        "reflectivity": {
         "value": 1
        },
        "refractionRatio": {
         "value": 0.98
        },
        "roughness": {
         "value": 0.8
        },
        "roughnessMap": {
         "value": null
        },
        "spotLights": {
         "value": []
        },
        "spotShadowMap": {
         "value": []
        },
        "spotShadowMatrix": {
         "value": []
        },
        "uvTransform": {
         "type": "m3",
         "value": [
          1,
          0,
          0,
          0,
          1,
          0,
          0,
          0,
          1
         ]
        }
       },
       "vertexShader": "#define PHYSICAL\nvarying vec3 vViewPosition;\n#ifndef FLAT_SHADED\n\tvarying vec3 vNormal;\n#endif\n#include <common>\n#include <uv_pars_vertex>\n#include <uv2_pars_vertex>\n#include <displacementmap_pars_vertex>\n#include <color_pars_vertex>\n#include <fog_pars_vertex>\n#include <morphtarget_pars_vertex>\n#include <skinning_pars_vertex>\n#include <shadowmap_pars_vertex>\n#include <logdepthbuf_pars_vertex>\n#include <clipping_planes_pars_vertex>\nvoid main() {\n\t#include <uv_vertex>\n\t#include <uv2_vertex>\n\t#include <color_vertex>\n\t#include <beginnormal_vertex>\n\t#include <morphnormal_vertex>\n\t#include <skinbase_vertex>\n\t#include <skinnormal_vertex>\n\t#include <defaultnormal_vertex>\n#ifndef FLAT_SHADED\n\tvNormal = normalize( transformedNormal );\n#endif\n\t#include <begin_vertex>\n\t#include <morphtarget_vertex>\n\t#include <skinning_vertex>\n\t#include <displacementmap_vertex>\n\t#include <project_vertex>\n\t#include <logdepthbuf_vertex>\n\t#include <clipping_planes_vertex>\n\tvViewPosition = - mvPosition.xyz;\n\t#include <worldpos_vertex>\n\t#include <shadowmap_vertex>\n\t#include <fog_vertex>\n}\n"
      }
     },
     "fdac9fe835b64f22b7b6e4ff63601c41": {
      "model_module": "jupyter-threejs",
      "model_module_version": "^2.1.0",
      "model_name": "BufferGeometryModel",
      "state": {
       "_view_module": null,
       "_view_module_version": "",
       "attributes": {
        "index": "IPY_MODEL_0365736750e149fa9227a04fdef0e05f",
        "normal": "IPY_MODEL_37ad02fce886417da6c0ba35b8cc69c7",
        "position": "IPY_MODEL_22759a53bf46438ab51ee0ffd3610b5c"
       }
      }
     },
     "fdb0278a-888f-470f-9d2f-009b07e65cd8": {
      "model_module": "jupyter-threejs",
      "model_module_version": "^2.1.0",
      "model_name": "DirectionalLightShadowModel",
      "state": {
       "camera": "IPY_MODEL_726be58b-4e9d-42b5-8423-d8a45a940606"
      }
     },
     "fde1d58426824d1ca43eec8e8faa08d1": {
      "model_module": "@jupyter-widgets/controls",
      "model_module_version": "1.5.0",
      "model_name": "DescriptionStyleModel",
      "state": {
       "description_width": ""
      }
     },
     "fe095d6891374ad789300566b1ee231e": {
      "model_module": "@jupyter-widgets/base",
      "model_module_version": "1.2.0",
      "model_name": "LayoutModel",
      "state": {}
     },
     "fe0af402ed16446e8e88edf690cf5ca4": {
      "model_module": "@jupyter-widgets/base",
      "model_module_version": "1.2.0",
      "model_name": "LayoutModel",
      "state": {
       "height": "222px",
       "overflow_x": "scroll",
       "overflow_y": "scroll",
       "width": "250px"
      }
     },
     "fe94892edf9e4152b07e07b8a03da436": {
      "model_module": "jupyter-threejs",
      "model_module_version": "^2.1.0",
      "model_name": "ShaderMaterialModel",
      "state": {
       "_view_module": null,
       "_view_module_version": "",
       "clipping": true,
       "fragmentShader": "\n        uniform float alpha;\n        #define PHYSICAL\nuniform vec3 diffuse;\nuniform vec3 emissive;\nuniform float roughness;\nuniform float metalness;\nuniform float opacity;\n#ifndef STANDARD\n\tuniform float clearCoat;\n\tuniform float clearCoatRoughness;\n#endif\nvarying vec3 vViewPosition;\n#ifndef FLAT_SHADED\n\tvarying vec3 vNormal;\n#endif\n#include <common>\n#include <packing>\n#include <dithering_pars_fragment>\n#include <color_pars_fragment>\n#include <uv_pars_fragment>\n#include <uv2_pars_fragment>\n#include <map_pars_fragment>\n#include <alphamap_pars_fragment>\n#include <aomap_pars_fragment>\n#include <lightmap_pars_fragment>\n#include <emissivemap_pars_fragment>\n#include <bsdfs>\n#include <cube_uv_reflection_fragment>\n#include <envmap_pars_fragment>\n#include <envmap_physical_pars_fragment>\n#include <fog_pars_fragment>\n#include <lights_pars_begin>\n#include <lights_physical_pars_fragment>\n#include <shadowmap_pars_fragment>\n#include <bumpmap_pars_fragment>\n#include <normalmap_pars_fragment>\n#include <roughnessmap_pars_fragment>\n#include <metalnessmap_pars_fragment>\n#include <logdepthbuf_pars_fragment>\n#include <clipping_planes_pars_fragment>\nvoid main() {\n\t#include <clipping_planes_fragment>\n\tvec4 diffuseColor = vec4( diffuse, opacity );\n\tReflectedLight reflectedLight = ReflectedLight( vec3( 0.0 ), vec3( 0.0 ), vec3( 0.0 ), vec3( 0.0 ) );\n\tvec3 totalEmissiveRadiance = emissive;\n\t#include <logdepthbuf_fragment>\n\t#include <map_fragment>\n\t#include <color_fragment>\n\t#include <alphamap_fragment>\n\t#include <alphatest_fragment>\n\t#include <roughnessmap_fragment>\n\t#include <metalnessmap_fragment>\n\t#include <normal_fragment_begin>\n\t#include <normal_fragment_maps>\n\t#include <emissivemap_fragment>\n\t#include <lights_physical_fragment>\n\t#include <lights_fragment_begin>\n\t#include <lights_fragment_maps>\n\t#include <lights_fragment_end>\n\t#include <aomap_fragment>\n\tvec3 outgoingLight = reflectedLight.directDiffuse + reflectedLight.indirectDiffuse + reflectedLight.directSpecular + reflectedLight.indirectSpecular + totalEmissiveRadiance;\n\t\n            if ( gl_FrontFacing ) {\n                gl_FragColor = vec4( outgoingLight, alpha * diffuseColor.a );\n            } else {\n                gl_FragColor = vec4( diffuseColor.r, diffuseColor.g, diffuseColor.b, alpha * diffuseColor.a );\n            }\n\t#include <tonemapping_fragment>\n\t#include <encodings_fragment>\n\t#include <fog_fragment>\n\t#include <premultiplied_alpha_fragment>\n\t#include <dithering_fragment>\n}\n",
       "lights": true,
       "polygonOffset": true,
       "polygonOffsetFactor": 1,
       "polygonOffsetUnits": 1,
       "side": "DoubleSide",
       "uniforms": {
        "alpha": {
         "value": 0.7
        },
        "alphaMap": {
         "value": null
        },
        "ambientLightColor": {
         "value": []
        },
        "aoMap": {
         "value": null
        },
        "aoMapIntensity": {
         "value": 1
        },
        "bumpMap": {
         "value": null
        },
        "bumpScale": {
         "value": 1
        },
        "diffuse": {
         "type": "c",
         "value": "#e8b024"
        },
        "directionalLights": {
         "value": []
        },
        "directionalShadowMap": {
         "value": []
        },
        "directionalShadowMatrix": {
         "value": []
        },
        "displacementBias": {
         "value": 0
        },
        "displacementMap": {
         "value": null
        },
        "displacementScale": {
         "value": 1
        },
        "emissive": {
         "type": "c",
         "value": "#000000"
        },
        "emissiveMap": {
         "value": null
        },
        "envMap": {
         "value": null
        },
        "envMapIntensity": {
         "value": 1
        },
        "flipEnvMap": {
         "value": -1
        },
        "fogColor": {
         "type": "c",
         "value": "#ffffff"
        },
        "fogDensity": {
         "value": 0.00025
        },
        "fogFar": {
         "value": 2000
        },
        "fogNear": {
         "value": 1
        },
        "hemisphereLights": {
         "value": []
        },
        "lightMap": {
         "value": null
        },
        "lightMapIntensity": {
         "value": 1
        },
        "map": {
         "value": null
        },
        "maxMipLevel": {
         "value": 0
        },
        "metalness": {
         "value": 0.3
        },
        "metalnessMap": {
         "value": null
        },
        "normalMap": {
         "value": null
        },
        "normalScale": {
         "type": "v2",
         "value": [
          1,
          1
         ]
        },
        "opacity": {
         "value": 1
        },
        "pointLights": {
         "value": []
        },
        "pointShadowMap": {
         "value": []
        },
        "pointShadowMatrix": {
         "value": []
        },
        "rectAreaLights": {
         "value": []
        },
        "reflectivity": {
         "value": 1
        },
        "refractionRatio": {
         "value": 0.98
        },
        "roughness": {
         "value": 0.8
        },
        "roughnessMap": {
         "value": null
        },
        "spotLights": {
         "value": []
        },
        "spotShadowMap": {
         "value": []
        },
        "spotShadowMatrix": {
         "value": []
        },
        "uvTransform": {
         "type": "m3",
         "value": [
          1,
          0,
          0,
          0,
          1,
          0,
          0,
          0,
          1
         ]
        }
       },
       "vertexShader": "#define PHYSICAL\nvarying vec3 vViewPosition;\n#ifndef FLAT_SHADED\n\tvarying vec3 vNormal;\n#endif\n#include <common>\n#include <uv_pars_vertex>\n#include <uv2_pars_vertex>\n#include <displacementmap_pars_vertex>\n#include <color_pars_vertex>\n#include <fog_pars_vertex>\n#include <morphtarget_pars_vertex>\n#include <skinning_pars_vertex>\n#include <shadowmap_pars_vertex>\n#include <logdepthbuf_pars_vertex>\n#include <clipping_planes_pars_vertex>\nvoid main() {\n\t#include <uv_vertex>\n\t#include <uv2_vertex>\n\t#include <color_vertex>\n\t#include <beginnormal_vertex>\n\t#include <morphnormal_vertex>\n\t#include <skinbase_vertex>\n\t#include <skinnormal_vertex>\n\t#include <defaultnormal_vertex>\n#ifndef FLAT_SHADED\n\tvNormal = normalize( transformedNormal );\n#endif\n\t#include <begin_vertex>\n\t#include <morphtarget_vertex>\n\t#include <skinning_vertex>\n\t#include <displacementmap_vertex>\n\t#include <project_vertex>\n\t#include <logdepthbuf_vertex>\n\t#include <clipping_planes_vertex>\n\tvViewPosition = - mvPosition.xyz;\n\t#include <worldpos_vertex>\n\t#include <shadowmap_vertex>\n\t#include <fog_vertex>\n}\n"
      }
     },
     "fea00c6336054653995c9ab597653bc6": {
      "model_module": "@jupyter-widgets/controls",
      "model_module_version": "1.5.0",
      "model_name": "HTMLModel",
      "state": {
       "_dom_classes": [
        "scroll-area",
        "mac-scrollbar"
       ],
       "layout": "IPY_MODEL_8d9bccbb444e41afa063fcabfc4d3cf9",
       "style": "IPY_MODEL_73b714e1fc4b4892beb69aeb40970827",
       "value": "<table style=\"display: block; overflow-x: visible; white-space: nowrap;\"><tr style=\"vertical-align: text-top;\"><td><pre style=\"color: #aaa; white-space: nowrap\">[ 0]</pre></td><td>\n        <b>Rendering done</b>\n        <table>\n            <tr class=\"small_table\" >                      <td>Tick size</td>  <td>0.2 mm</td> </tr>\n            <tr class=\"small_table\" style=\"color: red;\">   <td>X-Axis</td>     <td>Red</td>    </tr>\n            <tr class=\"small_table\" style=\"color: green;\"> <td>Y-Axis</td>     <td>Green</td>  </tr>\n            <tr class=\"small_table\" style=\"color: blue;\">  <td>Z-Axis</td>     <td>Blue</td>   </tr>\n        </table>\n        </td></tr></table>"
      }
     },
     "fece73666c5e4f8186fb2b28618d8e75": {
      "model_module": "jupyter-threejs",
      "model_module_version": "^2.1.0",
      "model_name": "LineSegments2Model",
      "state": {
       "_view_module": null,
       "_view_module_version": "",
       "geometry": "IPY_MODEL_384d87db8410478e999f77cc1a6be8ac",
       "material": "IPY_MODEL_791d639be5e64d469f0ba9b8ed2d4c4b",
       "morphTargetInfluences": []
      }
     },
     "fed35912575c45f8805d3842c9df32e8": {
      "model_module": "@jupyter-widgets/controls",
      "model_module_version": "1.5.0",
      "model_name": "ButtonStyleModel",
      "state": {}
     },
     "ff1a95c8fbeb4e0f94bafd3103d6c766": {
      "model_module": "@jupyter-widgets/controls",
      "model_module_version": "1.5.0",
      "model_name": "LabelModel",
      "state": {
       "layout": "IPY_MODEL_5776dc0a40444860b2215a5c1d7ea1e0",
       "style": "IPY_MODEL_b18b7de0f1d04680bbe57453cb1d5038",
       "value": "N=( 0.00,  0.00,  1.00)"
      }
     },
     "ff44b98e32114a169c84e0b641cc61d4": {
      "model_module": "@jupyter-widgets/controls",
      "model_module_version": "1.5.0",
      "model_name": "HBoxModel",
      "state": {
       "children": [
        "IPY_MODEL_903155dabbee4e8c9cd9deb875a0c61d",
        "IPY_MODEL_852eb49b799d4e12b9546db1d43be50d"
       ],
       "layout": "IPY_MODEL_e99bacb32fc7466aac6b613a98ee217a"
      }
     },
     "ff9dfebbe4974df7a8593edabfe1568b": {
      "model_module": "@jupyter-widgets/controls",
      "model_module_version": "1.5.0",
      "model_name": "ButtonStyleModel",
      "state": {}
     },
     "ffd53d1af51b4951afc0de6c81084fb5": {
      "buffers": [
       {
        "data": "AACAPwAAAAAAAACAAACAPwAAAAAAAACAAACAPwAAAAAAAACAAACAPwAAAAAAAACAAAAAgAAAgL8AAACAAAAAgAAAgL8AAACAAAAAgAAAgL8AAACAAAAAgAAAgL8AAACAAAAAgAAAgL8AAACA8wQ1PwAAAADzBDU/8wQ1PwAAAADzBDU/8wQ1PwAAAADzBDU/8wQ1PwAAAADzBDU/AAAAgAAAAIAAAIC/AAAAgAAAAIAAAIC/AAAAgAAAAIAAAIC/AAAAgAAAAIAAAIC/AAAAAAAAgD8AAAAAAAAAAAAAgD8AAAAAAAAAAAAAgD8AAAAAAAAAAAAAgD8AAAAAAAAAAAAAgD8AAAAAAAAAAAAAAAAAAIA/AAAAAAAAAAAAAIA/AAAAAAAAAAAAAIA/AAAAAAAAAAAAAIA/AACAvwAAAIAAAAAAAACAvwAAAIAAAAAAAACAvwAAAIAAAAAAAACAvwAAAIAAAAAA",
        "encoding": "base64",
        "path": [
         "array",
         "buffer"
        ]
       }
      ],
      "model_module": "jupyter-threejs",
      "model_module_version": "^2.1.0",
      "model_name": "BufferAttributeModel",
      "state": {
       "_view_module": null,
       "_view_module_version": "",
       "array": {
        "dtype": "float32",
        "shape": [
         30,
         3
        ]
       },
       "normalized": true,
       "version": 2
      }
     }
    },
    "version_major": 2,
    "version_minor": 0
   }
  }
 },
 "nbformat": 4,
 "nbformat_minor": 4
}
