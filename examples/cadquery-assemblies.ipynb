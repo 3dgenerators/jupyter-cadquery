{
 "cells": [
  {
   "cell_type": "code",
   "execution_count": null,
   "metadata": {},
   "outputs": [],
   "source": [
    "import cadquery as cq\n",
    "from jupyter_cadquery.cadquery import show, Assembly, Part, Faces"
   ]
  },
  {
   "cell_type": "markdown",
   "metadata": {},
   "source": [
    "**Avoid clean error**\n"
   ]
  },
  {
   "cell_type": "code",
   "execution_count": null,
   "metadata": {},
   "outputs": [],
   "source": [
    "cq.occ_impl.shapes.Shape.clean = lambda x: x"
   ]
  },
  {
   "cell_type": "markdown",
   "metadata": {},
   "source": [
    "# Converters to jupyter-cadquery"
   ]
  },
  {
   "cell_type": "code",
   "execution_count": null,
   "metadata": {},
   "outputs": [],
   "source": [
    "import html\n",
    "import numpy as np\n",
    "import math\n",
    "\n",
    "def rgb(assy):\n",
    "    def b(x):\n",
    "        return int(255*x)\n",
    "    \n",
    "    if assy.color is None:\n",
    "        return \"#aaa\"\n",
    "    rgb = assy.color.wrapped.GetRGB()\n",
    "    return \"#%02x%02x%02x\" % (b(rgb.Red()), b(rgb.Green()), b(rgb.Blue()))\n",
    "\n",
    "def convert(assy, loc=None):\n",
    "    loc = assy.loc if loc is None else loc * assy.loc\n",
    "    color = rgb(assy)\n",
    "    parent = [Part(cq.Workplane(shape.located(loc)), \"%s_%d\" % (assy.name, i), color=color) for i, shape in enumerate(assy.shapes)]\n",
    "    children = [convert(c, loc) for c in assy.children]\n",
    "    return Assembly(parent + children, assy.name)\n",
    "\n",
    "colors = [\n",
    "    \"#e41a1c\",\"#377eb8\",\"#4daf4a\",\"#984ea3\",\"#ff7f00\",\"#ffff33\",\"#a65628\",\"#f781bf\",\"#999999\",\n",
    "    \"#8dd3c7\",\"#ffffb3\",\"#bebada\",\"#fb8072\",\"#80b1d3\",\"#fdb462\",\"#b3de69\",\"#fccde5\",\"#d9d9d9\",\n",
    "]\n",
    "\n",
    "def show_assy(assy):\n",
    "    show(convert(assy), axes=True, axes0=True)\n",
    "    \n",
    "def show_constraints(assy, qs):\n",
    "    constraints = []\n",
    "    objects = []\n",
    "    cache = {}\n",
    "\n",
    "    for i, q1q2 in enumerate(qs):\n",
    "        parts = []\n",
    "\n",
    "        kind = q1q2[-1]\n",
    "        \n",
    "        if len(q1q2) == 3:\n",
    "            q1q2 = (\n",
    "                (q1q2[0].split(\"@\")[0], q1q2[0]), \n",
    "                (q1q2[1].split(\"@\")[0], q1q2[1])\n",
    "            )\n",
    "        else:\n",
    "            q1q2 = (q1q2[0:2], q1q2[2:4])\n",
    "                    \n",
    "        for q in q1q2:\n",
    "            name, shape = q\n",
    "            if name in cache:\n",
    "                obj = cache[name][\"obj\"]\n",
    "                loc = cache[name][\"loc\"]\n",
    "            else:\n",
    "                obj = assy.objects[name].obj\n",
    "                loc = assy.objects[name].loc\n",
    "\n",
    "                parent = assy.objects[name].parent\n",
    "                while parent is not None:\n",
    "                    loc = parent.loc * loc\n",
    "                    parent = parent.parent\n",
    "\n",
    "                cache[name] =  {\"obj\": obj, \"loc\": loc, \"shape\": shape}\n",
    "            \n",
    "                objects.append(\n",
    "                    Part(cq.Workplane(obj.val().located(loc)), name=name, show_faces=False)\n",
    "                )\n",
    "            \n",
    "            label = str(shape)\n",
    "            if isinstance(shape, str):\n",
    "                shape = assy._query(shape)[1]\n",
    "\n",
    "            parts.append(\n",
    "                Faces(\n",
    "                    cq.Workplane(cq.Workplane(shape).val().located(loc)), \n",
    "                    name=html.escape(label), \n",
    "                    color=colors[i%len(colors)]\n",
    "                )\n",
    "            )\n",
    "        constraints.append(Assembly(parts, \"%s_%d\" % (kind, i)))\n",
    "        \n",
    "    show(Assembly([Assembly(objects, \"objects\")] + constraints), axes=True, axes0=True)\n",
    "\n",
    "\n",
    "def accuracy(assy, cs):\n",
    "\n",
    "    def relocate(name, shape):\n",
    "        a = assy.objects[name]\n",
    "        loc = a.loc\n",
    "\n",
    "        parent = a.parent\n",
    "        while parent is not None:\n",
    "            loc = parent.loc * loc\n",
    "            parent = parent.parent\n",
    "\n",
    "        label = str(shape)\n",
    "        if isinstance(shape, str):\n",
    "            shape = assy._query(shape)[1]\n",
    "        return cq.Workplane(cq.Workplane(shape).val().located(loc))\n",
    "\n",
    "    def coord(vertex):\n",
    "        return np.array((vertex.X, vertex.Y, vertex.Z), dtype=float)\n",
    "\n",
    "    def center(face):\n",
    "        c = face.Center()\n",
    "        return np.array((c.x, c.y, c.z))\n",
    "\n",
    "    def normal(face):\n",
    "        n = face.normalAt()\n",
    "        return np.array((n.x, n.y, n.z))\n",
    "\n",
    "    def print_metric(results):\n",
    "        l = max([len(r[1]) for r in results])\n",
    "        h = (\"Constraint\", \"Normal-Dist\", \"Normal-Angle\", \"Point-Dist\")\n",
    "        print(f\"{h[0]:{l+7}s} {h[1]:12s}  {h[2]:12s}  {h[3]:12s}\")\n",
    "        print(\"-\" * (l+46))\n",
    "        for kind, label, nrm_dist, nrm_angle, pnt_dist in results:\n",
    "            metric = f\"{kind:5s} {label:{l}s} \"\n",
    "            metric += \" \"*27 if nrm_dist is None else f\"{nrm_dist:12.9f}  {nrm_angle:12.8}°\"\n",
    "            metric += \" \"*13 if pnt_dist is None else f\"{pnt_dist:12.9f}\"\n",
    "            print(metric)\n",
    "        \n",
    "    results = []\n",
    "    for i, q1q2 in enumerate(cs):\n",
    "        parts = []\n",
    "\n",
    "        kind = q1q2[-1]\n",
    "        \n",
    "        if len(q1q2) == 3:\n",
    "            n_q1q2 = (\n",
    "                (q1q2[0].split(\"@\")[0], q1q2[0]), \n",
    "                (q1q2[1].split(\"@\")[0], q1q2[1])\n",
    "            )\n",
    "            label = \"%s - %s\" % q1q2[:2]\n",
    "        else:\n",
    "            n_q1q2 = (q1q2[0:2], q1q2[2:4])\n",
    "            label = \"%s<%s> - %s<%s>\" % (q1q2[0], q1q2[1].__class__.__name__, q1q2[2], q1q2[3].__class__.__name__)\n",
    "        \n",
    "        shape1 = relocate(*n_q1q2[0])\n",
    "        shape2 = relocate(*n_q1q2[1])\n",
    "        \n",
    "        pnt_dist = None\n",
    "        nrm_dist = None\n",
    "        nrm_angle = None\n",
    "        \n",
    "        if kind in [\"Point\", \"Plane\"]:\n",
    "            c1, c2 = center(shape1.val()), center(shape2.val())\n",
    "            pnt_dist = np.linalg.norm(c1 - c2)\n",
    "        if kind in [\"Axis\", \"Plane\"]:\n",
    "            n1, n2 = normal(shape1.val()), normal(shape2.val())\n",
    "            nrm_dist = np.linalg.norm(n1 + n2) # distance between n1 and -n2 since n1 and n2 point opposite\n",
    "            c = np.dot(n1, -n2) / np.linalg.norm(n1) / np.linalg.norm(n2)\n",
    "            nrm_angle = np.arccos(np.clip(c, -1, 1)) / math.pi * 180\n",
    "            \n",
    "        results.append((kind, label, nrm_dist, nrm_angle, pnt_dist))\n",
    "        \n",
    "    print_metric(results)"
   ]
  },
  {
   "cell_type": "markdown",
   "metadata": {},
   "source": [
    "**Some helpers**"
   ]
  },
  {
   "cell_type": "code",
   "execution_count": null,
   "metadata": {},
   "outputs": [],
   "source": [
    "def L(x,y,z):\n",
    "    return cq.Location(cq.Vector(x, y, z))\n",
    "\n",
    "def C(*c):\n",
    "    return cq.Color(*c)\n",
    "\n",
    "def center(assy, name):\n",
    "    return cq.Vertex.makeVertex(*assy.objects[name].obj.val().Center().toTuple())\n",
    "\n",
    "def query_all(assy, q):\n",
    "    name, kind, arg = q.split(\"@\")\n",
    "\n",
    "    tmp = cq.Workplane()\n",
    "    obj = assy.objects[name].obj\n",
    "\n",
    "    if isinstance(obj, (cq.Workplane, cq.Shape)):\n",
    "        tmp.add(obj)\n",
    "        res = getattr(tmp, kind)(arg)\n",
    "\n",
    "    return res.objects if isinstance(res.val(), cq.Shape) else None"
   ]
  },
  {
   "cell_type": "markdown",
   "metadata": {},
   "source": [
    "# Bearing"
   ]
  },
  {
   "cell_type": "markdown",
   "metadata": {},
   "source": [
    "## Objects"
   ]
  },
  {
   "cell_type": "code",
   "execution_count": null,
   "metadata": {},
   "outputs": [],
   "source": [
    "def ring(inner_radius, outer_radius, width):\n",
    "    ring = (cq.Workplane(origin=(0, 0, -width / 2))\n",
    "        .circle(outer_radius).circle(inner_radius)\n",
    "        .extrude(width)\n",
    "    )\n",
    "    return ring\n",
    "\n",
    "tol = 0.05\n",
    "ball_diam = 5\n",
    "\n",
    "r1, r2, r3, r4 = 4, 6, 8, 10\n",
    "r5 = (r3 + r2) / 2\n",
    "inner_ring = ring(r1, r2, ball_diam)\n",
    "outer_ring = ring(r3, r4, ball_diam)\n",
    "\n",
    "torus = cq.CQ(cq.Solid.makeTorus(r5, ball_diam / 2 + tol))\n",
    "ball = cq.Workplane().sphere(ball_diam / 2)\n",
    "\n",
    "inner = inner_ring.cut(torus)\n",
    "outer = outer_ring.cut(torus)\n",
    "\n",
    "show(Assembly([Part(ball, \"ball\"), Part(inner, \"inner\"), Part(outer, \"outer\")], \"bearing\"))"
   ]
  },
  {
   "cell_type": "markdown",
   "metadata": {},
   "source": [
    "**Assembly**"
   ]
  },
  {
   "cell_type": "code",
   "execution_count": null,
   "metadata": {},
   "outputs": [],
   "source": [
    "def balls(i):\n",
    "    return \"ball_%d\" % i\n",
    "\n",
    "number_balls = 6\n",
    "\n",
    "assy = cq.Assembly(outer, loc=L(0, 0, ball_diam/2), name=\"outer\", color=C(\"orange\"))\n",
    "assy.add(inner, loc=L(20, 0, 0), name=\"inner\", color=C(\"orange\"))\n",
    "for i in range(number_balls):\n",
    "    assy.add(ball, loc=L(6*i, 20, 0), name=balls(i), color=C(\"black\"))\n",
    "    \n",
    "# helpers\n",
    "assy.add(cq.Workplane().circle(1).extrude(1), loc=L(0,-20,0), name=\"_center\")\n",
    "assy.add(cq.Workplane().polygon(number_balls, 2*r5).extrude(ball_diam/2), loc=L(20,-20,0), name=\"_points\")"
   ]
  },
  {
   "cell_type": "markdown",
   "metadata": {},
   "source": [
    "**Constraints**"
   ]
  },
  {
   "cell_type": "code",
   "execution_count": null,
   "metadata": {},
   "outputs": [],
   "source": [
    "points = query_all(assy, \"_points@vertices@>Z\")\n",
    "\n",
    "cs = [\n",
    "    (\"outer@faces@<Z\", \"_center@faces@>Z\", \"Plane\"),\n",
    "    (\"inner@faces@<Z\", \"_center@faces@>Z\", \"Plane\"),\n",
    "    (\"_points@faces@<Z\", \"_center@faces@>Z\", \"Plane\"),\n",
    "] + [(\"_points\", points[i],  \n",
    "      balls(i), center(assy, balls(i)),  \n",
    "      \"Point\") \n",
    "     for i in range(number_balls)]\n",
    "\n",
    "for c in cs:\n",
    "    assy.constrain(*c)\n",
    "    \n",
    "show_constraints(assy, cs)"
   ]
  },
  {
   "cell_type": "code",
   "execution_count": null,
   "metadata": {},
   "outputs": [],
   "source": [
    "show_assy(assy)"
   ]
  },
  {
   "cell_type": "code",
   "execution_count": null,
   "metadata": {},
   "outputs": [],
   "source": [
    "assy.solve()\n",
    "show_assy(assy)"
   ]
  },
  {
   "cell_type": "code",
   "execution_count": null,
   "metadata": {},
   "outputs": [],
   "source": [
    "show_constraints(assy, cs)"
   ]
  },
  {
   "cell_type": "code",
   "execution_count": null,
   "metadata": {},
   "outputs": [],
   "source": [
    "accuracy(assy, cs)"
   ]
  },
  {
   "cell_type": "code",
   "execution_count": null,
   "metadata": {},
   "outputs": [],
   "source": [
    "i = 0\n",
    "loc = assy.loc\n",
    "for i in range(number_balls):\n",
    "    o = assy.objects[balls(i)]\n",
    "    v = o.shapes[0].located(loc * o.loc).Center()\n",
    "    print(\"%7.4f, %7.4f, %7.4f\" % (v.x, v.y, v.z))"
   ]
  },
  {
   "cell_type": "code",
   "execution_count": null,
   "metadata": {},
   "outputs": [],
   "source": [
    "[\"%7.4f, %7.4f, %7.4f\" % (v.X, v.Y, v.Z) for v in query_all(assy, \"_points@vertices@>Z\")]"
   ]
  },
  {
   "cell_type": "markdown",
   "metadata": {},
   "source": [
    "# Some Tests"
   ]
  },
  {
   "cell_type": "code",
   "execution_count": null,
   "metadata": {},
   "outputs": [],
   "source": [
    "def create():\n",
    "    b1 = cq.Workplane().box(1, 1, 2).faces('>Z').edges('>X').chamfer(0.4)\n",
    "    b2 = cq.Workplane().box(.1, 2, 1).faces('>Z').edges('>Y').chamfer(0.1)\n",
    "    b3 = cq.Workplane().box(2, .1, .5).faces('>Z').edges('>X').chamfer(0.1)\n",
    "    b4 = cq.Workplane().box(1, 1, .2).faces('>Y').edges('>X').chamfer(0.1)\n",
    "\n",
    "    assy = cq.Assembly(b1, loc=L(1, 1, 0), name=\"TOP\")\n",
    "    assy2 = cq.Assembly(b2, name=\"SECOND\")\n",
    "    assy3 = cq.Assembly(b3, name=\"THIRD\", color=C('orange'))\n",
    "\n",
    "    assy.add(assy2, color=C(\"green\"))\n",
    "    assy.add(assy3)\n",
    "    assy.add(b4, name=\"4th\",color=C(\"blue1\"))\n",
    "    return assy"
   ]
  },
  {
   "cell_type": "code",
   "execution_count": null,
   "metadata": {},
   "outputs": [],
   "source": [
    "assy = create()\n",
    "cs = [\n",
    "    (\"TOP@faces@>(1,0,1)\", \"THIRD@faces@>Z\", \"Plane\"), \n",
    "    (\"TOP@faces@<Y\", \"SECOND@faces@<Y\", \"Axis\"),\n",
    "    (\"THIRD@faces@<X\", \"SECOND@faces@>X\", \"Plane\"),\n",
    "    (\"SECOND@faces@>Z\", \"THIRD@faces@<Z\", \"Axis\"),\n",
    "    (\"4th@faces@>Z\", \"SECOND@faces@<Z\", \"Plane\"),\n",
    "    (\"4th@faces@>Y\", \"TOP@faces@<Y\", \"Axis\"),    \n",
    "]\n",
    "show_constraints(assy, cs)"
   ]
  },
  {
   "cell_type": "code",
   "execution_count": null,
   "metadata": {},
   "outputs": [],
   "source": [
    "for c in cs:\n",
    "    assy.constrain(*c)\n",
    "\n",
    "assy.solve()\n",
    "#show(convert(assy))\n",
    "show_constraints(assy, cs)"
   ]
  },
  {
   "cell_type": "code",
   "execution_count": null,
   "metadata": {},
   "outputs": [],
   "source": [
    "accuracy(assy, cs)"
   ]
  },
  {
   "cell_type": "code",
   "execution_count": null,
   "metadata": {},
   "outputs": [],
   "source": [
    "assy = create()\n",
    "cs = []\n",
    "cs.append((\"TOP@faces@>(1,0,1)\", \"THIRD@faces@>Z\", \"Axis\"))\n",
    "cs.append((\"TOP@faces@>Y\", \"THIRD@faces@<Y\", \"Axis\"))\n",
    "cs.append((\"TOP@vertices@>(1,1,2)\", \"THIRD@vertices@>(1,1,2)\", \"Point\"))\n",
    "\n",
    "for c in cs:\n",
    "    assy.constrain(*c)\n",
    "\n",
    "show_constraints(assy, cs)"
   ]
  },
  {
   "cell_type": "code",
   "execution_count": null,
   "metadata": {},
   "outputs": [],
   "source": [
    "assy.solve()\n",
    "show_constraints(assy, cs)"
   ]
  },
  {
   "cell_type": "code",
   "execution_count": null,
   "metadata": {},
   "outputs": [],
   "source": [
    "accuracy(assy, cs)"
   ]
  },
  {
   "cell_type": "code",
   "execution_count": null,
   "metadata": {},
   "outputs": [],
   "source": [
    "assy.constrain(\"TOP@faces@>(1,0,1)\", \"THIRD@faces@>Z\", \"Plane\")\n",
    "assy.constrain(\"TOP@faces@<Y\", \"SECOND@faces@<Y\", \"Axis\")\n",
    "assy.constrain(\"THIRD@faces@<X\", \"SECOND@faces@>X\", \"Plane\")\n",
    "assy.constrain(\"SECOND@faces@>Z\", \"THIRD@faces@<Z\", \"Axis\")\n",
    "assy.constrain(\"4th@faces@>Z\", \"SECOND@faces@<Z\", \"Plane\")\n",
    "assy.constrain(\"4th@faces@>Y\", \"TOP@faces@<Y\", \"Axis\")\n",
    "assy.solve()"
   ]
  }
 ],
 "metadata": {
  "kernelspec": {
   "display_name": "Python 3",
   "language": "python",
   "name": "python3"
  },
  "language_info": {
   "codemirror_mode": {
    "name": "ipython",
    "version": 3
   },
   "file_extension": ".py",
   "mimetype": "text/x-python",
   "name": "python",
   "nbconvert_exporter": "python",
   "pygments_lexer": "ipython3",
   "version": "3.7.9"
  },
  "widgets": {
   "application/vnd.jupyter.widget-state+json": {
    "state": {},
    "version_major": 2,
    "version_minor": 0
   }
  }
 },
 "nbformat": 4,
 "nbformat_minor": 4
}
