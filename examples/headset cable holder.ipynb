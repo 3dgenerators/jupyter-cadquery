{
 "cells": [
  {
   "cell_type": "code",
   "execution_count": 1,
   "metadata": {},
   "outputs": [
    {
     "name": "stdout",
     "output_type": "stream",
     "text": [
      "Plugging into cadquery.Workplane to enable replay\n",
      "Patch\n",
      "  - cadquery.Workplane.lineTo: guard against line length 0\n",
      "  - cadquery.Workplane: remove auto display\n",
      "  - cadquery.Shape: remove auto display\n"
     ]
    }
   ],
   "source": [
    "import cadquery as cq\n",
    "from jupyter_cadquery.cadquery import Assembly, Part, Edges, Faces, show\n",
    "\n",
    "from jupyter_cadquery import patch_cq\n",
    "patch_cq()\n",
    "\n",
    "from sidecar import Sidecar\n",
    "from jupyter_cadquery import set_sidecar\n",
    "\n",
    "sc = Sidecar(title=\"CadQuery2\")\n",
    "set_sidecar(sc)\n",
    "\n",
    "from jupyter_cadquery import replay"
   ]
  },
  {
   "cell_type": "code",
   "execution_count": 2,
   "metadata": {
    "ExecuteTime": {
     "end_time": "2019-01-31T20:32:08.467608Z",
     "start_time": "2019-01-31T20:32:06.605278Z"
    }
   },
   "outputs": [
    {
     "name": "stdout",
     "output_type": "stream",
     "text": [
      "==> intercepting vLineTo\n",
      "  1 calling vLineTo [('', None)] 0\n",
      "            (-29.0,) {'forConstruction': True}\n",
      "  2         [('vLineTo', (-29.0,), {'forConstruction': True})] 0\n",
      "==> intercepting lineTo\n",
      "  1 calling lineTo [('vLineTo', (-29.0,), {'forConstruction': True})] 0\n",
      "            (0.0, -29.0, True) {}\n",
      "  3 leaving lineTo\n",
      "            [('vLineTo', (-29.0,), {'forConstruction': True})] 0\n",
      "<== _caller vLineTo ('vLineTo', (-29.0,), {'forConstruction': True})\n",
      "  3 leaving vLineTo\n",
      "            [('', None)] 0\n",
      "==> intercepting hLineTo\n",
      "  1 calling hLineTo [('', None)] 0\n",
      "            (-3.0,) {}\n",
      "  2         [('hLineTo', (-3.0,), {})] 0\n",
      "==> intercepting lineTo\n",
      "  1 calling lineTo [('hLineTo', (-3.0,), {})] 0\n",
      "            (-3.0, -29.0, False) {}\n",
      "  3 leaving lineTo\n",
      "            [('hLineTo', (-3.0,), {})] 0\n",
      "<== _caller hLineTo ('hLineTo', (-3.0,), {})\n",
      "  3 leaving hLineTo\n",
      "            [('', None)] 0\n",
      "==> intercepting vLineTo\n",
      "  1 calling vLineTo [('', None)] 0\n",
      "            (-32.0,) {}\n",
      "  2         [('vLineTo', (-32.0,), {})] 0\n",
      "==> intercepting lineTo\n",
      "  1 calling lineTo [('vLineTo', (-32.0,), {})] 0\n",
      "            (-3.0, -32.0, False) {}\n",
      "  3 leaving lineTo\n",
      "            [('vLineTo', (-32.0,), {})] 0\n",
      "<== _caller vLineTo ('vLineTo', (-32.0,), {})\n",
      "  3 leaving vLineTo\n",
      "            [('', None)] 0\n",
      "==> intercepting hLineTo\n",
      "  1 calling hLineTo [('', None)] 0\n",
      "            (-19.0,) {}\n",
      "  2         [('hLineTo', (-19.0,), {})] 0\n",
      "==> intercepting lineTo\n",
      "  1 calling lineTo [('hLineTo', (-19.0,), {})] 0\n",
      "            (-19.0, -32.0, False) {}\n",
      "  3 leaving lineTo\n",
      "            [('hLineTo', (-19.0,), {})] 0\n",
      "<== _caller hLineTo ('hLineTo', (-19.0,), {})\n",
      "  3 leaving hLineTo\n",
      "            [('', None)] 0\n",
      "==> intercepting vLineTo\n",
      "  1 calling vLineTo [('', None)] 0\n",
      "            (-22.0,) {}\n",
      "  2         [('vLineTo', (-22.0,), {})] 0\n",
      "==> intercepting lineTo\n",
      "  1 calling lineTo [('vLineTo', (-22.0,), {})] 0\n",
      "            (-19.0, -22.0, False) {}\n",
      "  3 leaving lineTo\n",
      "            [('vLineTo', (-22.0,), {})] 0\n",
      "<== _caller vLineTo ('vLineTo', (-22.0,), {})\n",
      "  3 leaving vLineTo\n",
      "            [('', None)] 0\n",
      "==> intercepting hLineTo\n",
      "  1 calling hLineTo [('', None)] 0\n",
      "            (-16.0,) {}\n",
      "  2         [('hLineTo', (-16.0,), {})] 0\n",
      "==> intercepting lineTo\n",
      "  1 calling lineTo [('hLineTo', (-16.0,), {})] 0\n",
      "            (-16.0, -22.0, False) {}\n",
      "  3 leaving lineTo\n",
      "            [('hLineTo', (-16.0,), {})] 0\n",
      "<== _caller hLineTo ('hLineTo', (-16.0,), {})\n",
      "  3 leaving hLineTo\n",
      "            [('', None)] 0\n",
      "==> intercepting vLineTo\n",
      "  1 calling vLineTo [('', None)] 0\n",
      "            (9.0,) {}\n",
      "  2         [('vLineTo', (9.0,), {})] 0\n",
      "==> intercepting lineTo\n",
      "  1 calling lineTo [('vLineTo', (9.0,), {})] 0\n",
      "            (-16.0, 9.0, False) {}\n",
      "  3 leaving lineTo\n",
      "            [('vLineTo', (9.0,), {})] 0\n",
      "<== _caller vLineTo ('vLineTo', (9.0,), {})\n",
      "  3 leaving vLineTo\n",
      "            [('', None)] 0\n",
      "==> intercepting hLineTo\n",
      "  1 calling hLineTo [('', None)] 0\n",
      "            (-19.0,) {}\n",
      "  2         [('hLineTo', (-19.0,), {})] 0\n",
      "==> intercepting lineTo\n",
      "  1 calling lineTo [('hLineTo', (-19.0,), {})] 0\n",
      "            (-19.0, 9.0, False) {}\n",
      "  3 leaving lineTo\n",
      "            [('hLineTo', (-19.0,), {})] 0\n",
      "<== _caller hLineTo ('hLineTo', (-19.0,), {})\n",
      "  3 leaving hLineTo\n",
      "            [('', None)] 0\n",
      "==> intercepting vLineTo\n",
      "  1 calling vLineTo [('', None)] 0\n",
      "            (11.0,) {}\n",
      "  2         [('vLineTo', (11.0,), {})] 0\n",
      "==> intercepting lineTo\n",
      "  1 calling lineTo [('vLineTo', (11.0,), {})] 0\n",
      "            (-19.0, 11.0, False) {}\n",
      "  3 leaving lineTo\n",
      "            [('vLineTo', (11.0,), {})] 0\n",
      "<== _caller vLineTo ('vLineTo', (11.0,), {})\n",
      "  3 leaving vLineTo\n",
      "            [('', None)] 0\n",
      "==> intercepting threePointArc\n",
      "  1 calling threePointArc [('', None)] 0\n",
      "            ((-14.25, 24.0), (-3.0, 32.0)) {}\n",
      "  2         [('threePointArc', ((-14.25, 24.0), (-3.0, 32.0)), {})] 0\n",
      "<== _caller threePointArc ('threePointArc', ((-14.25, 24.0), (-3.0, 32.0)), {})\n",
      "  3 leaving threePointArc\n",
      "            [('', None)] 0\n",
      "==> intercepting vLineTo\n",
      "  1 calling vLineTo [('', None)] 0\n",
      "            (29.0,) {}\n",
      "  2         [('vLineTo', (29.0,), {})] 0\n",
      "==> intercepting lineTo\n",
      "  1 calling lineTo [('vLineTo', (29.0,), {})] 0\n",
      "            (-3.0, 29.0, False) {}\n",
      "  3 leaving lineTo\n",
      "            [('vLineTo', (29.0,), {})] 0\n",
      "<== _caller vLineTo ('vLineTo', (29.0,), {})\n",
      "  3 leaving vLineTo\n",
      "            [('', None)] 0\n",
      "==> intercepting hLineTo\n",
      "  1 calling hLineTo [('', None)] 0\n",
      "            (0,) {}\n",
      "  2         [('hLineTo', (0,), {})] 0\n",
      "==> intercepting lineTo\n",
      "  1 calling lineTo [('hLineTo', (0,), {})] 0\n",
      "            (0, 29.0, False) {}\n",
      "  3 leaving lineTo\n",
      "            [('hLineTo', (0,), {})] 0\n",
      "<== _caller hLineTo ('hLineTo', (0,), {})\n",
      "  3 leaving hLineTo\n",
      "            [('', None)] 0\n",
      "==> intercepting mirrorY\n",
      "  1 calling mirrorY [('', None)] 0\n",
      "            () {}\n",
      "  2         [('mirrorY', (), {})] 0\n",
      "==> intercepting wire\n",
      "  1 calling wire [('mirrorY', (), {})] 0\n",
      "            () {'forConstruction': False}\n",
      "  3 leaving wire\n",
      "            [('mirrorY', (), {})] 0\n",
      "==> intercepting consolidateWires\n",
      "  1 calling consolidateWires [('mirrorY', (), {})] 0\n",
      "            () {}\n",
      "==> intercepting wires\n",
      "  1 calling wires [('mirrorY', (), {})] 0\n",
      "            () {}\n",
      "  3 leaving wires\n",
      "            [('mirrorY', (), {})] 0\n",
      "  3 leaving consolidateWires\n",
      "            [('mirrorY', (), {})] 0\n",
      "==> intercepting wires\n",
      "  1 calling wires [('mirrorY', (), {})] 0\n",
      "            () {}\n",
      "  3 leaving wires\n",
      "            [('mirrorY', (), {})] 0\n",
      "==> intercepting consolidateWires\n",
      "  1 calling consolidateWires [('mirrorY', (), {})] 0\n",
      "            () {}\n",
      "==> intercepting wires\n",
      "  1 calling wires [('mirrorY', (), {})] 0\n",
      "            () {}\n",
      "  3 leaving wires\n",
      "            [('mirrorY', (), {})] 0\n",
      "  3 leaving consolidateWires\n",
      "            [('mirrorY', (), {})] 0\n",
      "<== _caller mirrorY ('mirrorY', (), {})\n",
      "  3 leaving mirrorY\n",
      "            [('', None)] 0\n",
      "==> intercepting extrude\n",
      "  1 calling extrude [('', None)] 0\n",
      "            (2,) {}\n",
      "  2         [('extrude', (2,), {})] 0\n",
      "==> intercepting clean\n",
      "  1 calling clean [('extrude', (2,), {})] 0\n",
      "            () {}\n",
      "  3 leaving clean\n",
      "            [('extrude', (2,), {})] 0\n",
      "<== _caller extrude ('extrude', (2,), {})\n",
      "  3 leaving extrude\n",
      "            [('', None)] 0\n",
      "==> intercepting translate\n",
      "  1 calling translate [('', None)] 0\n",
      "            ((0, 0, 1.0),) {}\n",
      "  2         [('translate', ((0, 0, 1.0),), {})] 0\n",
      "<== _caller translate ('translate', ((0, 0, 1.0),), {})\n",
      "  3 leaving translate\n",
      "            [('', None)] 0\n",
      "==> intercepting edges\n",
      "  1 calling edges [('', None)] 0\n",
      "            ('<X and (>Y or <Y)',) {}\n",
      "  2         [('edges', ('<X and (>Y or <Y)',), {})] 0\n",
      "<== _caller edges ('edges', ('<X and (>Y or <Y)',), {})\n",
      "  3 leaving edges\n",
      "            [('', None)] 0\n",
      "==> intercepting fillet\n",
      "  1 calling fillet [('', None)] 0\n",
      "            (8,) {}\n",
      "  2         [('fillet', (8,), {})] 0\n",
      "==> intercepting edges\n",
      "  1 calling edges [('fillet', (8,), {})] 0\n",
      "            () {}\n",
      "  3 leaving edges\n",
      "            [('fillet', (8,), {})] 0\n",
      "<== _caller fillet ('fillet', (8,), {})\n",
      "  3 leaving fillet\n",
      "            [('', None)] 0\n",
      "==> intercepting edges\n",
      "  1 calling edges [('', None)] 0\n",
      "            ('|Z',) {}\n",
      "  2         [('edges', ('|Z',), {})] 0\n",
      "<== _caller edges ('edges', ('|Z',), {})\n",
      "  3 leaving edges\n",
      "            [('', None)] 0\n",
      "==> intercepting fillet\n",
      "  1 calling fillet [('', None)] 0\n",
      "            (0.7,) {}\n",
      "  2         [('fillet', (0.7,), {})] 0\n",
      "==> intercepting edges\n",
      "  1 calling edges [('fillet', (0.7,), {})] 0\n",
      "            () {}\n",
      "  3 leaving edges\n",
      "            [('fillet', (0.7,), {})] 0\n",
      "<== _caller fillet ('fillet', (0.7,), {})\n",
      "  3 leaving fillet\n",
      "            [('', None)] 0\n",
      "==> intercepting edges\n",
      "  1 calling edges [('', None)] 0\n",
      "            ('>Z or <Z',) {}\n",
      "  2         [('edges', ('>Z or <Z',), {})] 0\n",
      "<== _caller edges ('edges', ('>Z or <Z',), {})\n",
      "  3 leaving edges\n",
      "            [('', None)] 0\n",
      "==> intercepting fillet\n",
      "  1 calling fillet [('', None)] 0\n",
      "            (0.75,) {}\n",
      "  2         [('fillet', (0.75,), {})] 0\n",
      "==> intercepting edges\n",
      "  1 calling edges [('fillet', (0.75,), {})] 0\n",
      "            () {}\n",
      "  3 leaving edges\n",
      "            [('fillet', (0.75,), {})] 0\n",
      "<== _caller fillet ('fillet', (0.75,), {})\n",
      "  3 leaving fillet\n",
      "            [('', None)] 0\n",
      "==> intercepting box\n",
      "  1 calling box [('', None)] 0\n",
      "            (7.2, 6.2, 22) {}\n",
      "  2         [('box', (7.2, 6.2, 22), {})] 0\n",
      "==> intercepting eachpoint\n",
      "  1 calling eachpoint [('box', (7.2, 6.2, 22), {})] 0\n",
      "            (<function Workplane.box.<locals>._makebox at 0x1252301e0>, True) {}\n",
      "==> intercepting each\n",
      "  1 calling each [('box', (7.2, 6.2, 22), {})] 0\n",
      "            (<function Workplane.box.<locals>._makebox at 0x1252301e0>, True) {}\n",
      "  3 leaving each\n",
      "            [('box', (7.2, 6.2, 22), {})] 0\n",
      "  3 leaving eachpoint\n",
      "            [('box', (7.2, 6.2, 22), {})] 0\n",
      "==> intercepting union\n",
      "  --> level up [('box', (7.2, 6.2, 22), {}), ('', None)]\n",
      "  1 calling union [('box', (7.2, 6.2, 22), {}), ('', None)] 1\n",
      "            (<cadquery.cq.Workplane object at 0x1251e8f28>,) {'clean': True}\n",
      "  2         [('box', (7.2, 6.2, 22), {}), ('union', (<cadquery.cq.Workplane object at 0x1251e8f28>,), {'clean': True})] 1\n",
      "==> intercepting solids\n",
      "  1 calling solids [('box', (7.2, 6.2, 22), {}), ('union', (<cadquery.cq.Workplane object at 0x1251e8f28>,), {'clean': True})] 1\n",
      "            () {}\n",
      "  3 leaving solids\n",
      "            [('box', (7.2, 6.2, 22), {}), ('union', (<cadquery.cq.Workplane object at 0x1251e8f28>,), {'clean': True})] 1\n",
      "<== _caller union ('union', (<cadquery.cq.Workplane object at 0x1251e8f28>,), {'clean': True})\n",
      "  --> level down [('box', (7.2, 6.2, 22), {})] 0\n",
      "  3 leaving union\n",
      "            [('box', (7.2, 6.2, 22), {})] 0\n",
      "<== _caller box ('box', (7.2, 6.2, 22), {})\n",
      "  3 leaving box\n",
      "            [('', None)] 0\n",
      "==> intercepting edges\n",
      "  1 calling edges [('', None)] 0\n",
      "            ('|Z',) {}\n",
      "  2         [('edges', ('|Z',), {})] 0\n",
      "<== _caller edges ('edges', ('|Z',), {})\n",
      "  3 leaving edges\n",
      "            [('', None)] 0\n",
      "==> intercepting fillet\n",
      "  1 calling fillet [('', None)] 0\n",
      "            (1,) {}\n",
      "  2         [('fillet', (1,), {})] 0\n",
      "==> intercepting edges\n",
      "  1 calling edges [('fillet', (1,), {})] 0\n",
      "            () {}\n",
      "  3 leaving edges\n",
      "            [('fillet', (1,), {})] 0\n",
      "<== _caller fillet ('fillet', (1,), {})\n",
      "  3 leaving fillet\n",
      "            [('', None)] 0\n",
      "==> intercepting edges\n",
      "  1 calling edges [('', None)] 0\n",
      "            ('>Z',) {}\n",
      "  2         [('edges', ('>Z',), {})] 0\n",
      "<== _caller edges ('edges', ('>Z',), {})\n",
      "  3 leaving edges\n",
      "            [('', None)] 0\n",
      "==> intercepting fillet\n",
      "  1 calling fillet [('', None)] 0\n",
      "            (1,) {}\n",
      "  2         [('fillet', (1,), {})] 0\n",
      "==> intercepting edges\n",
      "  1 calling edges [('fillet', (1,), {})] 0\n",
      "            () {}\n",
      "  3 leaving edges\n",
      "            [('fillet', (1,), {})] 0\n",
      "<== _caller fillet ('fillet', (1,), {})\n",
      "  3 leaving fillet\n",
      "            [('', None)] 0\n",
      "==> intercepting circle\n",
      "  1 calling circle [('', None)] 0\n",
      "            (2.6,) {}\n",
      "  2         [('circle', (2.6,), {})] 0\n",
      "==> intercepting eachpoint\n",
      "  1 calling eachpoint [('circle', (2.6,), {})] 0\n",
      "            (<function Workplane.circle.<locals>.makeCircleWire at 0x12523d598>,) {'useLocalCoordinates': True}\n",
      "==> intercepting each\n",
      "  1 calling each [('circle', (2.6,), {})] 0\n",
      "            (<function Workplane.circle.<locals>.makeCircleWire at 0x12523d598>, True) {}\n",
      "  3 leaving each\n",
      "            [('circle', (2.6,), {})] 0\n",
      "  3 leaving eachpoint\n",
      "            [('circle', (2.6,), {})] 0\n",
      "<== _caller circle ('circle', (2.6,), {})\n",
      "  3 leaving circle\n",
      "            [('', None)] 0\n",
      "==> intercepting extrude\n",
      "  1 calling extrude [('', None)] 0\n",
      "            (22,) {}\n",
      "  2         [('extrude', (22,), {})] 0\n",
      "==> intercepting clean\n",
      "  1 calling clean [('extrude', (22,), {})] 0\n",
      "            () {}\n",
      "  3 leaving clean\n",
      "            [('extrude', (22,), {})] 0\n",
      "<== _caller extrude ('extrude', (22,), {})\n",
      "  3 leaving extrude\n",
      "            [('', None)] 0\n",
      "==> intercepting translate\n",
      "  1 calling translate [('', None)] 0\n",
      "            ((-11.0, 0, -0.5),) {}\n",
      "  2         [('translate', ((-11.0, 0, -0.5),), {})] 0\n",
      "<== _caller translate ('translate', ((-11.0, 0, -0.5),), {})\n",
      "  3 leaving translate\n",
      "            [('', None)] 0\n",
      "==> intercepting union\n",
      "  --> level up [('', None), ('', None)]\n",
      "==> intercepting box\n",
      "  1 calling box [('', None), ('', None)] 1\n",
      "            (2, 6.2, 22) {}\n",
      "  2         [('', None), ('box', (2, 6.2, 22), {})] 1\n",
      "==> intercepting eachpoint\n",
      "  1 calling eachpoint [('', None), ('box', (2, 6.2, 22), {})] 1\n",
      "            (<function Workplane.box.<locals>._makebox at 0x12523d598>, True) {}\n",
      "==> intercepting each\n",
      "  1 calling each [('', None), ('box', (2, 6.2, 22), {})] 1\n",
      "            (<function Workplane.box.<locals>._makebox at 0x12523d598>, True) {}\n",
      "  3 leaving each\n",
      "            [('', None), ('box', (2, 6.2, 22), {})] 1\n",
      "  3 leaving eachpoint\n",
      "            [('', None), ('box', (2, 6.2, 22), {})] 1\n",
      "==> intercepting union\n",
      "  --> level up [('', None), ('box', (2, 6.2, 22), {}), ('', None)]\n",
      "  1 calling union [('', None), ('box', (2, 6.2, 22), {}), ('', None)] 2\n",
      "            (<cadquery.cq.Workplane object at 0x125232c18>,) {'clean': True}\n",
      "  2         [('', None), ('box', (2, 6.2, 22), {}), ('union', (<cadquery.cq.Workplane object at 0x125232c18>,), {'clean': True})] 2\n",
      "==> intercepting solids\n",
      "  1 calling solids [('', None), ('box', (2, 6.2, 22), {}), ('union', (<cadquery.cq.Workplane object at 0x125232c18>,), {'clean': True})] 2\n",
      "            () {}\n",
      "  3 leaving solids\n",
      "            [('', None), ('box', (2, 6.2, 22), {}), ('union', (<cadquery.cq.Workplane object at 0x125232c18>,), {'clean': True})] 2\n",
      "<== _caller union ('union', (<cadquery.cq.Workplane object at 0x125232c18>,), {'clean': True})\n",
      "  --> level down [('', None), ('box', (2, 6.2, 22), {})] 1\n",
      "  3 leaving union\n",
      "            [('', None), ('box', (2, 6.2, 22), {})] 1\n",
      "<== _caller box ('box', (2, 6.2, 22), {})\n",
      "  3 leaving box\n",
      "            [('', None), ('', None)] 1\n",
      "==> intercepting translate\n",
      "  1 calling translate [('', None), ('', None)] 1\n",
      "            ((0, 0, 0.5),) {}\n",
      "  2         [('', None), ('translate', ((0, 0, 0.5),), {})] 1\n",
      "<== _caller translate ('translate', ((0, 0, 0.5),), {})\n",
      "  3 leaving translate\n",
      "            [('', None), ('', None)] 1\n",
      "  1 calling union [('', None), ('', None)] 1\n",
      "            (<cadquery.cq.Workplane object at 0x125232080>,) {}\n",
      "  2         [('', None), ('union', (<cadquery.cq.Workplane object at 0x125232080>,), {})] 1\n",
      "==> intercepting solids\n",
      "  1 calling solids [('', None), ('union', (<cadquery.cq.Workplane object at 0x125232080>,), {})] 1\n",
      "            () {}\n",
      "  3 leaving solids\n",
      "            [('', None), ('union', (<cadquery.cq.Workplane object at 0x125232080>,), {})] 1\n",
      "<== _caller union ('union', (<cadquery.cq.Workplane object at 0x125232080>,), {})\n",
      "  --> level down [('', None)] 0\n",
      "  3 leaving union\n",
      "            [('', None)] 0\n",
      "==> intercepting cut\n",
      "  1 calling cut [('', None)] 0\n",
      "            (<cadquery.cq.Workplane object at 0x1252269b0>,) {'combine': False}\n",
      "  2         [('cut', (<cadquery.cq.Workplane object at 0x1252269b0>,), {'combine': False})] 0\n",
      "<== _caller cut ('cut', (<cadquery.cq.Workplane object at 0x1252269b0>,), {'combine': False})\n",
      "  3 leaving cut\n",
      "            [('', None)] 0\n",
      "==> intercepting translate\n",
      "  1 calling translate [('', None)] 0\n",
      "            ((-6.0, 3.5999999999999996, 4.1),) {}\n",
      "  2         [('translate', ((-6.0, 3.5999999999999996, 4.1),), {})] 0\n",
      "<== _caller translate ('translate', ((-6.0, 3.5999999999999996, 4.1),), {})\n",
      "  3 leaving translate\n",
      "            [('', None)] 0\n",
      "==> intercepting mirror\n",
      "  1 calling mirror [('', None)] 0\n",
      "            ('XZ',) {}\n",
      "  2         [('mirror', ('XZ',), {})] 0\n",
      "==> intercepting first\n",
      "  1 calling first [('mirror', ('XZ',), {})] 0\n",
      "            () {}\n",
      "  3 leaving first\n",
      "            [('mirror', ('XZ',), {})] 0\n",
      "<== _caller mirror ('mirror', ('XZ',), {})\n",
      "  3 leaving mirror\n",
      "            [('', None)] 0\n"
     ]
    }
   ],
   "source": [
    "diam = 5.2\n",
    "base_thickness = 2\n",
    "base_width = 38\n",
    "base_length = 64\n",
    "gap = 6\n",
    "\n",
    "holder_thickness = 1\n",
    "holder_length = 22\n",
    "\n",
    "holder_width = diam + 2 * holder_thickness\n",
    "holder_height = diam + holder_thickness\n",
    "\n",
    "side_margin = base_width/2 - holder_width\n",
    "bottom_margin = 15\n",
    "\n",
    "base = (cq.Workplane(\"YX\")\n",
    "    .vLineTo(-base_length/2 + gap/2, forConstruction=True)\n",
    "    .hLineTo(-gap/2)\n",
    "    .vLineTo(-base_length/2)\n",
    "    .hLineTo(-base_width/2)\n",
    "    .vLineTo(-base_length/2 + 10)\n",
    "    .hLineTo(-base_width/2 + gap/2)\n",
    "    .vLineTo(holder_length / 2 - 2)\n",
    "    .hLineTo(-base_width/2)\n",
    "    .vLineTo(holder_length / 2)\n",
    "    .threePointArc((-base_width*3/8, base_length*3/8), (-gap/2, base_length/2))\n",
    "    .vLineTo((base_length-gap)/2)\n",
    "    .hLineTo(0)\n",
    "    .mirrorY()\n",
    "    .extrude(base_thickness)\n",
    "    .translate((0, 0, base_thickness/2))\n",
    "    .edges(\"<X and (>Y or <Y)\").fillet(8)\n",
    "    .edges(\"|Z\").fillet(0.7)\n",
    "    .edges(\">Z or <Z\").fillet(0.75)\n",
    ")\n",
    "\n",
    "left_holder = (cq.Workplane(\"YZ\")\n",
    "    .box(holder_width, holder_height, holder_length)\n",
    "    .edges(\"|Z\").fillet(1)\n",
    "    .edges(\">Z\").fillet(1)\n",
    ")\n",
    "left_cut = (cq.Workplane(\"YZ\")\n",
    "    .circle(diam/2).extrude(holder_length)\n",
    "    .translate((-holder_length/2, 0, -holder_thickness/2))\n",
    ").union(cq.Workplane(\"YZ\")\n",
    "    .box(2*holder_thickness, holder_height, holder_length)\n",
    "    .translate((0, 0, holder_thickness/2))\n",
    ")\n",
    "\n",
    "left_holder = (left_holder\n",
    "               .cut(left_cut, combine=False)\n",
    "               .translate((-(base_length - holder_length)/2 + bottom_margin, \n",
    "                           base_width/2 - holder_width/2 - side_margin , \n",
    "                           (holder_height + base_thickness)/2)))\n",
    "\n",
    "right_holder = left_holder.mirror(\"XZ\")"
   ]
  },
  {
   "cell_type": "code",
   "execution_count": 3,
   "metadata": {
    "ExecuteTime": {
     "end_time": "2019-01-31T20:32:08.467608Z",
     "start_time": "2019-01-31T20:32:06.605278Z"
    }
   },
   "outputs": [
    {
     "name": "stdout",
     "output_type": "stream",
     "text": [
      "Done, using side car 'CadQuery2'\n"
     ]
    },
    {
     "data": {
      "text/plain": [
       "<jupyter_cadquery.cad_display.CadqueryDisplay at 0x1288c0048>"
      ]
     },
     "execution_count": 3,
     "metadata": {},
     "output_type": "execute_result"
    }
   ],
   "source": [
    "a2 = Assembly(\n",
    "    [\n",
    "        Part(base, \"base\", show_faces=True, color=\"#fc8d59\"),\n",
    "        Part(right_holder, \"right_holder\", show_faces=True, color=\"#ffffbf\"),\n",
    "        Part(left_holder, \"left_holder\", show_faces=True, color=\"#91cf60\")   \n",
    "    ], name=\"headset holder\",\n",
    ")\n",
    "\n",
    "show(a2, axes=True, grid=True)"
   ]
  },
  {
   "cell_type": "code",
   "execution_count": 13,
   "metadata": {},
   "outputs": [
    {
     "data": {
      "application/vnd.jupyter.widget-view+json": {
       "model_id": "fb88e0507f3b422a8b1a1cf418adf158",
       "version_major": 2,
       "version_minor": 0
      },
      "text/plain": [
       "HBox(children=(Select(_dom_classes=('monospace',), layout=Layout(width='600px'), options=('[00] box(7.2, 6.2, …"
      ]
     },
     "metadata": {},
     "output_type": "display_data"
    },
    {
     "name": "stdout",
     "output_type": "stream",
     "text": [
      "Done, using side car 'CadQuery2'\n"
     ]
    }
   ],
   "source": [
    "replay(right_holder)"
   ]
  },
  {
   "cell_type": "code",
   "execution_count": 3,
   "metadata": {},
   "outputs": [
    {
     "data": {
      "application/vnd.jupyter.widget-view+json": {
       "model_id": "7a34651e871045bfb9a41fbe29628518",
       "version_major": 2,
       "version_minor": 0
      },
      "text/plain": [
       "HBox(children=(SelectMultiple(_dom_classes=('monospace',), index=(10,), layout=Layout(width='600px'), options=…"
      ]
     },
     "metadata": {},
     "output_type": "display_data"
    },
    {
     "data": {
      "text/plain": [
       "<jupyter_cadquery.replay.Replay at 0x130dabf28>"
      ]
     },
     "execution_count": 3,
     "metadata": {},
     "output_type": "execute_result"
    }
   ],
   "source": [
    "replay(base, 10)"
   ]
  },
  {
   "cell_type": "code",
   "execution_count": 4,
   "metadata": {},
   "outputs": [
    {
     "data": {
      "application/vnd.jupyter.widget-view+json": {
       "model_id": "1784e2911334413d89cba8e74651e8a4",
       "version_major": 2,
       "version_minor": 0
      },
      "text/plain": [
       "HBox(children=(SelectMultiple(_dom_classes=('monospace',), index=(0,), layout=Layout(width='600px'), options=(…"
      ]
     },
     "metadata": {},
     "output_type": "display_data"
    },
    {
     "data": {
      "text/plain": [
       "<jupyter_cadquery.replay.Replay at 0x125a2ab00>"
      ]
     },
     "execution_count": 4,
     "metadata": {},
     "output_type": "execute_result"
    }
   ],
   "source": [
    "replay(left_cut)"
   ]
  },
  {
   "cell_type": "code",
   "execution_count": 11,
   "metadata": {},
   "outputs": [
    {
     "name": "stdout",
     "output_type": "stream",
     "text": [
      "Done, using side car 'CadQuery2'\n"
     ]
    },
    {
     "data": {
      "text/plain": [
       "<jupyter_cadquery.cad_display.CadqueryDisplay at 0x131a2f978>"
      ]
     },
     "execution_count": 11,
     "metadata": {},
     "output_type": "execute_result"
    }
   ],
   "source": [
    "show(left_cut, left_cut.parent, left_cut.parent.parent, left_cut.parent.parent.parent, left_cut.parent.parent.parent.parent, \n",
    "     left_cut.parent.parent.parent.parent.parent, left_cut.parent.parent.parent.parent.parent.parent)"
   ]
  },
  {
   "cell_type": "code",
   "execution_count": 4,
   "metadata": {},
   "outputs": [
    {
     "data": {
      "text/plain": [
       "(<cadquery.occ_impl.shapes.Compound at 0x12442cdd8>,\n",
       " <cadquery.occ_impl.shapes.Compound at 0x1243f44e0>,\n",
       " <cadquery.occ_impl.shapes.Compound at 0x10582d2b0>,\n",
       " <cadquery.occ_impl.shapes.Compound at 0x1243d8eb8>,\n",
       " <cadquery.occ_impl.shapes.Wire at 0x1243d8d30>,\n",
       " Vector: (0.0, 0.0, 0.0),\n",
       " Vector: (0.0, 0.0, 0.0))"
      ]
     },
     "execution_count": 4,
     "metadata": {},
     "output_type": "execute_result"
    }
   ],
   "source": [
    "(left_cut.val(), left_cut.parent.val(), left_cut.parent.parent.val(), left_cut.parent.parent.parent.val(), left_cut.parent.parent.parent.parent.val(), \n",
    "     left_cut.parent.parent.parent.parent.parent.val(), left_cut.parent.parent.parent.parent.parent.parent.val())"
   ]
  },
  {
   "cell_type": "code",
   "execution_count": 5,
   "metadata": {},
   "outputs": [
    {
     "name": "stdout",
     "output_type": "stream",
     "text": [
      "1 intercepting Workplane\n",
      "1 intercepting Workplane\n"
     ]
    },
    {
     "data": {
      "text/plain": [
       "(('union', (<cadquery.cq.Workplane object at 0x12442c518>,), {}),\n",
       " ('translate', ((-11.0, 0, -0.5),), {}),\n",
       " ('extrude', (22,), {}),\n",
       " None,\n",
       " ('circle', (2.6,), {}),\n",
       " None,\n",
       " None)"
      ]
     },
     "execution_count": 5,
     "metadata": {},
     "output_type": "execute_result"
    }
   ],
   "source": [
    "(getattr(left_cut, \"_caller\", None), \n",
    " getattr(left_cut.parent, \"_caller\", None), \n",
    " getattr(left_cut.parent.parent, \"_caller\", None), \n",
    " getattr(left_cut.parent.parent.parent, \"_caller\", None), \n",
    " getattr(left_cut.parent.parent.parent.parent, \"_caller\", None), \n",
    " getattr(left_cut.parent.parent.parent.parent.parent, \"_caller\", None), \n",
    " getattr(left_cut.parent.parent.parent.parent.parent.parent, \"_caller\", None)\n",
    ")"
   ]
  },
  {
   "cell_type": "code",
   "execution_count": 3,
   "metadata": {},
   "outputs": [
    {
     "name": "stdout",
     "output_type": "stream",
     "text": [
      "==> intercepting circle\n",
      "  1 calling circle [('', None)] 0\n",
      "            (2.6,) {}\n",
      "  2         [('circle', (2.6,), {})] 0\n",
      "==> intercepting eachpoint\n",
      "  1 calling eachpoint [('circle', (2.6,), {})] 0\n",
      "            (<function Workplane.circle.<locals>.makeCircleWire at 0x1251ff840>,) {'useLocalCoordinates': True}\n",
      "==> intercepting each\n",
      "  1 calling each [('circle', (2.6,), {})] 0\n",
      "            (<function Workplane.circle.<locals>.makeCircleWire at 0x1251ff840>, True) {}\n",
      "  3 leaving each\n",
      "            [('circle', (2.6,), {})] 0\n",
      "  3 leaving eachpoint\n",
      "            [('circle', (2.6,), {})] 0\n",
      "<== _caller circle ('circle', (2.6,), {})\n",
      "  3 leaving circle\n",
      "            [('', None)] 0\n",
      "==> intercepting extrude\n",
      "  1 calling extrude [('', None)] 0\n",
      "            (22,) {}\n",
      "  2         [('extrude', (22,), {})] 0\n",
      "==> intercepting clean\n",
      "  1 calling clean [('extrude', (22,), {})] 0\n",
      "            () {}\n",
      "  3 leaving clean\n",
      "            [('extrude', (22,), {})] 0\n",
      "<== _caller extrude ('extrude', (22,), {})\n",
      "  3 leaving extrude\n",
      "            [('', None)] 0\n",
      "==> intercepting translate\n",
      "  1 calling translate [('', None)] 0\n",
      "            ((-11.0, 0, -0.5),) {}\n",
      "  2         [('translate', ((-11.0, 0, -0.5),), {})] 0\n",
      "<== _caller translate ('translate', ((-11.0, 0, -0.5),), {})\n",
      "  3 leaving translate\n",
      "            [('', None)] 0\n",
      "==> intercepting union\n",
      "  --> level up [('', None), ('', None)]\n",
      "==> intercepting box\n",
      "  1 calling box [('', None), ('', None)] 1\n",
      "            (2, 6.2, 22) {}\n",
      "  2         [('', None), ('box', (2, 6.2, 22), {})] 1\n",
      "==> intercepting eachpoint\n",
      "  1 calling eachpoint [('', None), ('box', (2, 6.2, 22), {})] 1\n",
      "            (<function Workplane.box.<locals>._makebox at 0x1251b4378>, True) {}\n",
      "==> intercepting each\n",
      "  1 calling each [('', None), ('box', (2, 6.2, 22), {})] 1\n",
      "            (<function Workplane.box.<locals>._makebox at 0x1251b4378>, True) {}\n",
      "  3 leaving each\n",
      "            [('', None), ('box', (2, 6.2, 22), {})] 1\n",
      "  3 leaving eachpoint\n",
      "            [('', None), ('box', (2, 6.2, 22), {})] 1\n",
      "==> intercepting union\n",
      "  --> level up [('', None), ('box', (2, 6.2, 22), {}), ('', None)]\n",
      "  1 calling union [('', None), ('box', (2, 6.2, 22), {}), ('', None)] 2\n",
      "            (<cadquery.cq.Workplane object at 0x1252387f0>,) {'clean': True}\n",
      "  2         [('', None), ('box', (2, 6.2, 22), {}), ('union', (<cadquery.cq.Workplane object at 0x1252387f0>,), {'clean': True})] 2\n",
      "==> intercepting solids\n",
      "  1 calling solids [('', None), ('box', (2, 6.2, 22), {}), ('union', (<cadquery.cq.Workplane object at 0x1252387f0>,), {'clean': True})] 2\n",
      "            () {}\n",
      "  3 leaving solids\n",
      "            [('', None), ('box', (2, 6.2, 22), {}), ('union', (<cadquery.cq.Workplane object at 0x1252387f0>,), {'clean': True})] 2\n",
      "<== _caller union ('union', (<cadquery.cq.Workplane object at 0x1252387f0>,), {'clean': True})\n",
      "  --> level down [('', None), ('box', (2, 6.2, 22), {})] 1\n",
      "  3 leaving union\n",
      "            [('', None), ('box', (2, 6.2, 22), {})] 1\n",
      "<== _caller box ('box', (2, 6.2, 22), {})\n",
      "  3 leaving box\n",
      "            [('', None), ('', None)] 1\n",
      "==> intercepting translate\n",
      "  1 calling translate [('', None), ('', None)] 1\n",
      "            ((0, 0, 0.5),) {}\n",
      "  2         [('', None), ('translate', ((0, 0, 0.5),), {})] 1\n",
      "<== _caller translate ('translate', ((0, 0, 0.5),), {})\n",
      "  3 leaving translate\n",
      "            [('', None), ('', None)] 1\n",
      "  1 calling union [('', None), ('', None)] 1\n",
      "            (<cadquery.cq.Workplane object at 0x106609390>,) {}\n",
      "  2         [('', None), ('union', (<cadquery.cq.Workplane object at 0x106609390>,), {})] 1\n",
      "==> intercepting solids\n",
      "  1 calling solids [('', None), ('union', (<cadquery.cq.Workplane object at 0x106609390>,), {})] 1\n",
      "            () {}\n",
      "  3 leaving solids\n",
      "            [('', None), ('union', (<cadquery.cq.Workplane object at 0x106609390>,), {})] 1\n",
      "<== _caller union ('union', (<cadquery.cq.Workplane object at 0x106609390>,), {})\n",
      "  --> level down [('', None)] 0\n",
      "  3 leaving union\n",
      "            [('', None)] 0\n"
     ]
    }
   ],
   "source": [
    "left_cut = (cq.Workplane(\"YZ\")\n",
    "    .circle(diam/2).extrude(holder_length)\n",
    "    .translate((-holder_length/2, 0, -holder_thickness/2))\n",
    ").union(cq.Workplane(\"YZ\")\n",
    "    .box(2*holder_thickness, holder_height, holder_length)\n",
    "    .translate((0, 0, holder_thickness/2))\n",
    ")"
   ]
  },
  {
   "cell_type": "code",
   "execution_count": 4,
   "metadata": {},
   "outputs": [
    {
     "name": "stdout",
     "output_type": "stream",
     "text": [
      "==> intercepting Workplane\n",
      "==> intercepting Workplane\n"
     ]
    },
    {
     "data": {
      "text/plain": [
       "(('union', (<cadquery.cq.Workplane object at 0x106609390>,), {}),\n",
       " ('translate', ((-11.0, 0, -0.5),), {}),\n",
       " ('extrude', (22,), {}),\n",
       " None,\n",
       " ('circle', (2.6,), {}),\n",
       " None,\n",
       " None)"
      ]
     },
     "execution_count": 4,
     "metadata": {},
     "output_type": "execute_result"
    }
   ],
   "source": [
    "(getattr(left_cut, \"_caller\", None), \n",
    " getattr(left_cut.parent, \"_caller\", None), \n",
    " getattr(left_cut.parent.parent, \"_caller\", None), \n",
    " getattr(left_cut.parent.parent.parent, \"_caller\", None), \n",
    " getattr(left_cut.parent.parent.parent.parent, \"_caller\", None), \n",
    " getattr(left_cut.parent.parent.parent.parent.parent, \"_caller\", None), \n",
    " getattr(left_cut.parent.parent.parent.parent.parent.parent, \"_caller\", None)\n",
    ")"
   ]
  },
  {
   "cell_type": "code",
   "execution_count": 4,
   "metadata": {},
   "outputs": [
    {
     "data": {
      "text/plain": [
       "[1]"
      ]
     },
     "execution_count": 4,
     "metadata": {},
     "output_type": "execute_result"
    }
   ],
   "source": [
    "a = [1,2]\n",
    "a[:-1]"
   ]
  },
  {
   "cell_type": "code",
   "execution_count": null,
   "metadata": {},
   "outputs": [],
   "source": []
  }
 ],
 "metadata": {
  "kernelspec": {
   "display_name": "Python 3",
   "language": "python",
   "name": "python3"
  },
  "language_info": {
   "codemirror_mode": {
    "name": "ipython",
    "version": 3
   },
   "file_extension": ".py",
   "mimetype": "text/x-python",
   "name": "python",
   "nbconvert_exporter": "python",
   "pygments_lexer": "ipython3",
   "version": "3.6.7"
  },
  "toc": {
   "base_numbering": 1,
   "nav_menu": {},
   "number_sections": true,
   "sideBar": true,
   "skip_h1_title": false,
   "title_cell": "Table of Contents",
   "title_sidebar": "Contents",
   "toc_cell": false,
   "toc_position": {},
   "toc_section_display": true,
   "toc_window_display": false
  }
 },
 "nbformat": 4,
 "nbformat_minor": 2
}
