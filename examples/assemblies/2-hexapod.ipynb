{
 "cells": [
  {
   "cell_type": "code",
   "execution_count": null,
   "metadata": {},
   "outputs": [],
   "source": [
    "import cadquery as cq\n",
    "from jupyter_cadquery import set_defaults, set_sidecar, get_defaults, reset_cache, Animation\n",
    "from jupyter_cadquery.cadquery import show, Assembly, Part, Faces, Edges\n",
    "from jupyter_cadquery.mate_assembly import Mate, MAssembly\n",
    "\n",
    "set_sidecar(\"Hexapod\")\n",
    "set_defaults(axes=True, axes0=True, edge_accuracy=0.01, mate_scale=5, zoom=3)"
   ]
  },
  {
   "cell_type": "markdown",
   "metadata": {},
   "source": [
    "# Hexapod "
   ]
  },
  {
   "cell_type": "markdown",
   "metadata": {},
   "source": [
    "![2-hexapod.png](2-hexapod.png)"
   ]
  },
  {
   "cell_type": "code",
   "execution_count": null,
   "metadata": {},
   "outputs": [],
   "source": [
    "import numpy as np\n",
    "horizontal_angle = 25\n",
    "\n",
    "def intervals(count):\n",
    "    r = [ min(180, (90 + i*(360 // count)) % 360) for i in range(count)]\n",
    "    return r \n",
    "\n",
    "def times(end, count):\n",
    "    return np.linspace(0, end, count+1)\n",
    "    \n",
    "def vertical(count, end, offset):\n",
    "    ints = intervals(count)\n",
    "    heights = [round(45 * np.sin(np.deg2rad(x)) - 15, 1) for x in ints]\n",
    "    heights.append(heights[0])\n",
    "    return times(end, count), heights[offset:] + heights[1:offset+1]\n",
    "\n",
    "def horizontal(end, reverse):\n",
    "    factor = -1 if reverse else 1\n",
    "    return times(end, 4), [0, factor * horizontal_angle, 0, -factor * horizontal_angle, 0]\n",
    "\n",
    "print(\"Leg group 1 (transparent)\")\n",
    "print(\"horizontal movement\", horizontal(4, True))\n",
    "print(\"vertical heights   \", vertical(8, 4, 0))\n",
    "\n",
    "print(\"\\nLeg group 1 (filled)\")\n",
    "print(\"horizontal movement\", horizontal(4, False))\n",
    "print(\"vertical heights   \", vertical(8, 4, 4))"
   ]
  },
  {
   "cell_type": "markdown",
   "metadata": {
    "execution": {
     "iopub.execute_input": "2020-11-21T10:41:18.054324Z",
     "iopub.status.busy": "2020-11-21T10:41:18.053865Z",
     "iopub.status.idle": "2020-11-21T10:41:18.059405Z",
     "shell.execute_reply": "2020-11-21T10:41:18.058291Z",
     "shell.execute_reply.started": "2020-11-21T10:41:18.054266Z"
    }
   },
   "source": [
    "# Assembly"
   ]
  },
  {
   "cell_type": "markdown",
   "metadata": {},
   "source": [
    "## Parts"
   ]
  },
  {
   "cell_type": "code",
   "execution_count": null,
   "metadata": {},
   "outputs": [],
   "source": [
    "thickness = 2\n",
    "height = 40\n",
    "width = 65\n",
    "length = 100\n",
    "diam = 4\n",
    "tol = 0.05"
   ]
  },
  {
   "cell_type": "code",
   "execution_count": null,
   "metadata": {},
   "outputs": [],
   "source": [
    "x1, x2 = 0.63, 0.87\n",
    "base_holes = {\n",
    "    \"right_back\": (-x1*length, -x1*width), \"right_middle\": (0, -x2*width), \"right_front\": ( x1*length, -x1*width),\n",
    "    \"left_back\":  (-x1*length,  x1*width), \"left_middle\":  (0,  x2*width), \"left_front\":  ( x1*length,  x1*width),\n",
    "}\n",
    "stand_dist = {\"front_stand\": 0.75 * length, \"back_stand\": -0.8 * length}\n",
    "\n",
    "base = (cq.Workplane()\n",
    "    .ellipse(length, width).pushPoints(list(base_holes.values())).circle(diam / 2 + tol)\n",
    "    .extrude(thickness)\n",
    ")\n",
    "\n",
    "stand_cutout = cq.Workplane().box(thickness + 2 * tol, width / 2 + 2 * tol, thickness * 2)\n",
    "front_cutout = cq.Workplane().box(length / 3, 2 * (width + tol), 2 * thickness)\n",
    "\n",
    "base = (base\n",
    "    .cut(front_cutout.translate((length, 0, 0)))\n",
    "    .cut(stand_cutout.translate((stand_dist[\"back_stand\"], 0, thickness)))\n",
    "    .cut(stand_cutout.translate((stand_dist[\"front_stand\"], 0, thickness)))\n",
    "    .faces(\">X\").edges(\"not |Y\").fillet(width / 5)\n",
    ")"
   ]
  },
  {
   "cell_type": "code",
   "execution_count": null,
   "metadata": {},
   "outputs": [],
   "source": [
    "stand = cq.Workplane().box(height, width / 2 + 10, thickness)\n",
    "inset = cq.Workplane().box(thickness, width / 2, thickness)\n",
    "backing = cq.Workplane(\"ZX\").polyline([(10,0), (0,0), (0, 10)]).close().extrude(thickness)\n",
    "\n",
    "stand = (stand\n",
    "    .union(inset.translate(( (height + thickness) / 2, 0, 0)))\n",
    "    .union(inset.translate((-(height + thickness) / 2, 0, 0)))\n",
    "    .union(backing.translate((-height / 2, -thickness / 2, thickness / 2)))\n",
    "    .union(backing.rotate((0, 0, 0), (0, 1, 0), -90).translate((height / 2, -thickness / 2, thickness / 2)))\n",
    ")\n"
   ]
  },
  {
   "cell_type": "code",
   "execution_count": null,
   "metadata": {},
   "outputs": [],
   "source": [
    "l1, l2 = 50, 80\n",
    "pts = [( 0,  0), ( 0, height/2), (l1, height/2 - 5), (l2, 0)]\n",
    "upper_leg_hole = (l2 - 10, 0)\n",
    "\n",
    "upper_leg = (cq.Workplane()\n",
    "    .polyline(pts).mirrorX()\n",
    "    .pushPoints([upper_leg_hole]).circle(diam/2 + tol).extrude(thickness)\n",
    "    .edges(\"|Z and (not <X)\").fillet(4)\n",
    ")\n",
    "\n",
    "axle = (cq.Workplane(\"XZ\", origin=(0, height/2 + thickness + tol, thickness/2))\n",
    "    .circle(diam/2).extrude(2 * (height/2 + thickness + tol))\n",
    ")\n",
    "\n",
    "upper_leg = upper_leg.union(axle)"
   ]
  },
  {
   "cell_type": "code",
   "execution_count": null,
   "metadata": {},
   "outputs": [],
   "source": [
    "w, l1, l2 = 15, 20, 120\n",
    "pts = [( 0,  0), ( l1, w), (l2, 0)]\n",
    "lower_leg_hole = (l1 - 10, 0)\n",
    "\n",
    "lower_leg = (cq.Workplane()\n",
    "    .polyline(pts).mirrorX()\n",
    "    .pushPoints([lower_leg_hole]).circle(diam/2 + tol)\n",
    "    .extrude(thickness)\n",
    "    .edges(\"|Z\").fillet(5)\n",
    ")"
   ]
  },
  {
   "cell_type": "code",
   "execution_count": null,
   "metadata": {},
   "outputs": [],
   "source": [
    "leg_angles = {\n",
    "    \"right_back\": 105,  \"right_middle\": 90, \"right_front\": 75, \n",
    "    \"left_back\": -105,  \"left_middle\": -90, \"left_front\": -75,\n",
    "}\n",
    "leg_names = list(leg_angles.keys())\n",
    "stand_names = (\"front_stand\", \"back_stand\")"
   ]
  },
  {
   "cell_type": "code",
   "execution_count": null,
   "metadata": {},
   "outputs": [],
   "source": [
    "show(\n",
    "    base, \n",
    "    stand.translate((0,100,thickness/2)), \n",
    "    upper_leg.translate((-100,-100,0)),\n",
    "    lower_leg.translate((0,-100,0)),\n",
    ")"
   ]
  },
  {
   "cell_type": "markdown",
   "metadata": {},
   "source": [
    "## Define Assembly"
   ]
  },
  {
   "cell_type": "code",
   "execution_count": null,
   "metadata": {},
   "outputs": [],
   "source": [
    "def create_hexapod():\n",
    "    # Some shortcuts\n",
    "    L = lambda *args: cq.Location(cq.Vector(*args))\n",
    "    C = lambda *args: cq.Color(*args)\n",
    "\n",
    "    # Leg assembly\n",
    "    leg = (MAssembly(upper_leg, name=\"upper\", color=C(\"orange\"))\n",
    "        .add(lower_leg, name=\"lower\", color=C(\"orange\"), loc=L(80,0,0))\n",
    "    )\n",
    "    # Hexapod assembly\n",
    "    hexapod = (MAssembly(base, name=\"bottom\", color=C(\"gray\"), loc=L(0, 1.1*width, 0))\n",
    "        .add(base, name=\"top\", color=C(0.9, 0.9, 0.9), loc=L(0, -2.2*width, 0))\n",
    "        .add(stand, name=\"front_stand\", color=C(0.5, 0.8, 0.9), loc=L( 40, 100, 0))\n",
    "        .add(stand, name=\"back_stand\", color=C(0.5, 0.8, 0.9), loc=L(-40, 100, 0))\n",
    "    )\n",
    "    for i, name in enumerate(leg_names):\n",
    "        hexapod.add(leg, name=name, loc=L(100, -55*(i-1.7), 0))\n",
    "\n",
    "    return hexapod"
   ]
  },
  {
   "cell_type": "markdown",
   "metadata": {},
   "source": [
    "## Define Mates "
   ]
  },
  {
   "cell_type": "code",
   "execution_count": null,
   "metadata": {},
   "outputs": [],
   "source": [
    "hexapod = create_hexapod()\n",
    "\n",
    "M = lambda selector, *obj_selectors: Mate(hexapod.find(selector, *obj_selectors))\n",
    "\n",
    "hexapod.mate(\n",
    "    name=\"bottom\", selector=\"bottom\", origin=True,\n",
    "    mate=M(\"bottom\", \"faces@>Z\")\n",
    ").mate(\n",
    "    name=\"top\", selector=\"top\", origin=True, \n",
    "    mate=M(\"top\", \"faces@<Z\").rx(180).tz(-(height + 2 * tol))\n",
    ")\n",
    "\n",
    "angle = {\"front_stand\":180, \"back_stand\":0}\n",
    "for name in stand_names:\n",
    "    hexapod.mate(\n",
    "        name=f\"bottom_{name}\", selector=\"bottom\", \n",
    "        mate=M(\"bottom\", \"faces@<Z\", (\"wires\", (stand_dist[name], 0))).rz(angle[name]).rx(180)\n",
    "    ).mate(\n",
    "        name=f\"{name}_lower\", selector=name, origin=True,\n",
    "        mate=M(name, \"faces@<X\").rz(90)\n",
    "    )\n",
    "\n",
    "for name, pnt in base_holes.items():\n",
    "    hexapod.mate(\n",
    "        name=f\"bottom_{name}\", selector=\"bottom\", \n",
    "        mate=M(\"bottom\", \"faces@<Z\", (\"wires\", pnt)).rx(180).rz(leg_angles[name])\n",
    "    )\n",
    "\n",
    "for name in leg_names:\n",
    "    lower, upper = (\">Z\", \"<Z\") if \"left\" in name else (\"<Z\", \">Z\")\n",
    "    hexapod.mate(\n",
    "        name=f\"{name}_lower_hinge\",  selector=f\"{name}>lower\", origin=True, \n",
    "        mate=M(f\"{name}>lower\", (\"faces\", lower), (\"wires\", lower_leg_hole))\n",
    "    ).mate(\n",
    "        name=f\"{name}_upper_hinge\",  selector=name,\n",
    "        mate=M(name, (\"faces\", upper), (\"wires\", upper_leg_hole)).rz(-75)\n",
    "    ).mate(\n",
    "        name=f\"{name}_bottom_hinge\", selector=name, origin=True,\n",
    "        mate=M(name, \"faces@<Y\")\n",
    "    )\n",
    "\n",
    "show(hexapod, render_mates=True)"
   ]
  },
  {
   "cell_type": "markdown",
   "metadata": {},
   "source": [
    "## Relocate and assemble"
   ]
  },
  {
   "cell_type": "code",
   "execution_count": null,
   "metadata": {},
   "outputs": [],
   "source": [
    "hexapod.relocate()\n",
    "show(hexapod, render_mates=True)"
   ]
  },
  {
   "cell_type": "code",
   "execution_count": null,
   "metadata": {},
   "outputs": [],
   "source": [
    "for leg in leg_names:\n",
    "    hexapod.assemble(f\"{leg}_bottom_hinge\", f\"bottom_{leg}\")\n",
    "    hexapod.assemble(f\"{leg}_lower_hinge\", f\"{leg}_upper_hinge\")\n",
    "\n",
    "for stand_name in stand_names:\n",
    "    hexapod.assemble(f\"{stand_name}_lower\", f\"bottom_{stand_name}\")\n",
    "\n",
    "hexapod.assemble(\"top\", \"bottom\")\n",
    "\n",
    "d = show(hexapod, render_mates=False, grid=True, axes=False)"
   ]
  },
  {
   "cell_type": "markdown",
   "metadata": {
    "execution": {
     "iopub.execute_input": "2020-11-11T18:38:34.291869Z",
     "iopub.status.busy": "2020-11-11T18:38:34.291415Z",
     "iopub.status.idle": "2020-11-11T18:38:34.297872Z",
     "shell.execute_reply": "2020-11-11T18:38:34.296622Z",
     "shell.execute_reply.started": "2020-11-11T18:38:34.291799Z"
    }
   },
   "source": [
    "## Animation"
   ]
  },
  {
   "cell_type": "code",
   "execution_count": null,
   "metadata": {},
   "outputs": [],
   "source": [
    "leg_group = (\"left_front\", \"right_middle\", \"left_back\")\n",
    "\n",
    "animation = Animation(d.root_group)\n",
    "\n",
    "for name in leg_names:\n",
    "    # move upper leg\n",
    "    animation.add_number_track(f\"bottom>{name}\", \"rz\", *horizontal(4, \"middle\" in name))\n",
    "    \n",
    "    # move lower leg\n",
    "    animation.add_number_track(f\"bottom>{name}>lower\", \"rz\", *vertical(8, 4, 0 if name in leg_group else 4))\n",
    "    \n",
    "    # lift hexapod to run on grid\n",
    "    animation.add_number_track(f\"bottom\", \"tz\", [0, 4], [61.25]*2)\n",
    "    \n",
    "animation.animate(speed=5)"
   ]
  },
  {
   "cell_type": "code",
   "execution_count": null,
   "metadata": {},
   "outputs": [],
   "source": []
  }
 ],
 "metadata": {
  "kernelspec": {
   "display_name": "Python 3",
   "language": "python",
   "name": "python3"
  },
  "language_info": {
   "codemirror_mode": {
    "name": "ipython",
    "version": 3
   },
   "file_extension": ".py",
   "mimetype": "text/x-python",
   "name": "python",
   "nbconvert_exporter": "python",
   "pygments_lexer": "ipython3",
   "version": "3.7.9"
  }
 },
 "nbformat": 4,
 "nbformat_minor": 4
}
