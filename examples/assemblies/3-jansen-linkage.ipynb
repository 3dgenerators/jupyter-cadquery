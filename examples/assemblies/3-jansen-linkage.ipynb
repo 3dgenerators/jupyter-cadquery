{
 "cells": [
  {
   "cell_type": "code",
   "execution_count": null,
   "metadata": {},
   "outputs": [],
   "source": [
    "import cadquery as cq\n",
    "from jupyter_cadquery import set_defaults, set_sidecar, get_defaults, reset_cache, Animation\n",
    "from jupyter_cadquery.cadquery import show, Assembly, Part, Faces, Edges\n",
    "from jupyter_cadquery.mate_assembly import Mate, MAssembly\n",
    "from jupyter_cadquery.utils import Color\n",
    "\n",
    "# bypass \"clean\" to avoid errors OCP kernel error\n",
    "cq.occ_impl.shapes.Shape.clean = lambda x: x\n",
    "\n",
    "set_sidecar(\"Linkage\")\n",
    "set_defaults(axes=True, axes0=True, edge_accuracy=0.01)"
   ]
  },
  {
   "cell_type": "markdown",
   "metadata": {},
   "source": [
    "# Jansen Linkage "
   ]
  },
  {
   "cell_type": "markdown",
   "metadata": {},
   "source": [
    "![3-jansen-linkage.png](3-jansen-linkage.png)"
   ]
  },
  {
   "cell_type": "markdown",
   "metadata": {},
   "source": [
    "## Model"
   ]
  },
  {
   "cell_type": "code",
   "execution_count": null,
   "metadata": {},
   "outputs": [],
   "source": [
    "import math\n",
    "import numpy as np\n",
    "\n",
    "Vec = lambda x,y: np.array((x, y))\n",
    "\n",
    "def intersect(p0, r0, p1, r1):\n",
    "    \"\"\"\n",
    "    Bourke's algorithm (http://paulbourke.net/geometry/circlesphere)\n",
    "    to find intersect points of circle0 (p0, r0) and circle1 (p1, r1)\n",
    "    \"\"\"\n",
    "    p10 = p1 - p0\n",
    "    d = np.linalg.norm(p10)\n",
    "    if (d > r0 + r1) or (d < abs(r1 - r0)) or ((d == 0) and (r0 == r1)):\n",
    "        return None\n",
    "    \n",
    "    a = (r0**2 - r1**2 + d**2) / (2 * d)\n",
    "    h = np.sqrt(r0**2 - a**2)\n",
    "    p2 = p0 + (a / d) * p10\n",
    "    r = Vec(-p10[1], p10[0]) * (h / d)\n",
    "\n",
    "    return (p2 - r, p2 + r)\n",
    "\n",
    "\n",
    "def link_loc(name, joints, links, asLocation=True):\n",
    "    p1_index, p2_index = name.split(\".\")\n",
    "    p1 = joints[int(p1_index)]\n",
    "    p2 = joints[int(p2_index)]\n",
    "    a = math.degrees(math.atan2(p1[1] - p2[1], p1[0] - p2[0]))\n",
    "    if asLocation:\n",
    "        return cq.Location(cq.Vector(links[name][\"lev\"], *p1), cq.Vector(1,0,0), a)\n",
    "    else:\n",
    "        return (np.array((links[name][\"lev\"], *p1)), a)\n",
    "\n",
    "    \n",
    "def linkage(alpha, x, y, links):\n",
    "    \"\"\"For a given angle return the 2d location of each joint\"\"\"\n",
    "    p0 = Vec(0, 0)\n",
    "    p1 = Vec(x, y)\n",
    "    p2 = p1 + links[\"1.2\"][\"len\"] * Vec(np.cos(np.deg2rad(alpha)), np.sin(np.deg2rad(alpha)))\n",
    "    p3 = intersect(p0, links[\"0.3\"][\"len\"], p2, links[\"2.3\"][\"len\"])[1]\n",
    "    p4 = intersect(p0, links[\"4.0\"][\"len\"], p3, links[\"3.4\"][\"len\"])[1]\n",
    "    p5 = intersect(p0, links[\"0.5\"][\"len\"], p2, links[\"2.5\"][\"len\"])[0]\n",
    "    p6 = intersect(p4, links[\"4.6\"][\"len\"], p5, links[\"5.6\"][\"len\"])[0]\n",
    "    p7 = intersect(p5, links[\"7.5\"][\"len\"], p6, links[\"6.7\"][\"len\"])[1]\n",
    "    return (p0, p1, p2, p3, p4, p5, p6, p7)\n",
    "\n",
    "height = 2\n",
    "x = 38.0\n",
    "y =  7.8\n",
    "\n",
    "links = {}\n",
    "links[\"1.2\"] = {\"len\": 15.0, \"lev\": 3 * height, \"col\": \"Blue4\"}\n",
    "links[\"2.3\"] = {\"len\": 50.0, \"lev\": 4 * height, \"col\": \"DarkGreen\"}\n",
    "links[\"3.4\"] = {\"len\": 55.8, \"lev\": 3 * height, \"col\": \"Red\"}\n",
    "links[\"4.0\"] = {\"len\": 40.1, \"lev\": 1 * height, \"col\": \"Red\"}\n",
    "links[\"0.3\"] = {\"len\": 41.5, \"lev\": 2 * height, \"col\": \"Red\"}\n",
    "links[\"4.6\"] = {\"len\": 39.4, \"lev\": 2 * height, \"col\": \"Purple\"}\n",
    "links[\"0.5\"] = {\"len\": 39.3, \"lev\": 3 * height, \"col\": \"OliveDrab\"}\n",
    "links[\"2.5\"] = {\"len\": 61.9, \"lev\": 1 * height, \"col\": \"Orange\"}\n",
    "links[\"5.6\"] = {\"len\": 36.7, \"lev\": 0 * height, \"col\": \"RoyalBlue\"}\n",
    "links[\"6.7\"] = {\"len\": 65.7, \"lev\": 1 * height, \"col\": \"RoyalBlue\"}\n",
    "links[\"7.5\"] = {\"len\": 49.0, \"lev\": 2 * height, \"col\": \"RoyalBlue\"}\n",
    "\n",
    "link_list = list(links.keys())"
   ]
  },
  {
   "cell_type": "markdown",
   "metadata": {},
   "source": [
    "## Visualisation"
   ]
  },
  {
   "cell_type": "code",
   "execution_count": null,
   "metadata": {},
   "outputs": [],
   "source": [
    "import matplotlib.pyplot as plt\n",
    "import matplotlib.gridspec as gridspec\n",
    "%matplotlib inline\n",
    "\n",
    "def c(a,b):\n",
    "    return links[f\"{a}.{b}\"][\"col\"].replace(\"Blue4\", \"blue\")\n",
    "\n",
    "def plot(ax, joints):\n",
    "    p0, p1, p2, p3, p4, p5, p6, p7 = joints\n",
    "    lines = (\n",
    "        (p1, p2, c(1,2)), (p2, p5, c(2,5)), (p2, p3, c(2,3)), (p0, p3, c(0,3)), (p4, p0, c(4,0)), (p3, p4, c(3,4)), \n",
    "        (p4, p6, c(4,6)), (p0, p5, c(0,5)), (p5, p6, c(5,6)), (p7, p5, c(7,5)), (p6, p7, c(6,7))\n",
    "    )\n",
    "    ax.scatter((p0[0], p1[0]), (p0[1], p1[1]))\n",
    "    for a, b, col in lines:\n",
    "        ax.plot((a[0], b[0]), (a[1], b[1]), color=col)\n",
    "\n",
    "fig = plt.figure(constrained_layout=True)\n",
    "fig.set_size_inches(15, 5)\n",
    "spec2 = gridspec.GridSpec(ncols=6, nrows=2, figure=fig)\n",
    "\n",
    "for i, alpha in enumerate(range(0,360, 30)):\n",
    "    joints = linkage(alpha, x, y, links)\n",
    "    ax = fig.add_subplot(spec2[i//6, i%6])\n",
    "    ax.set_xlim(-70, 60)\n",
    "    ax.set_ylim(-90, 50)\n",
    "    plot(ax, joints)"
   ]
  },
  {
   "cell_type": "markdown",
   "metadata": {},
   "source": [
    "# Assembly"
   ]
  },
  {
   "cell_type": "markdown",
   "metadata": {},
   "source": [
    "## Parts"
   ]
  },
  {
   "cell_type": "code",
   "execution_count": null,
   "metadata": {},
   "outputs": [],
   "source": [
    "def make_link(length, width=2, height=1):\n",
    "    return (\n",
    "        cq.Workplane(\"YZ\").rect(length + 4, width + 2)\n",
    "          .pushPoints(((-length/2, 0), (length/2, 0))).circle(1)\n",
    "          .extrude(height).edges(\"|X\").fillet(1.99)\n",
    "    )\n",
    "\n",
    "parts = {name: make_link(links[name][\"len\"], height=(2 * height if name == \"1.2\" else height)) \n",
    "         for name in link_list}"
   ]
  },
  {
   "cell_type": "markdown",
   "metadata": {},
   "source": [
    "## Define Assembly"
   ]
  },
  {
   "cell_type": "code",
   "execution_count": null,
   "metadata": {},
   "outputs": [],
   "source": [
    "def create_leg(x, y):\n",
    "    L = lambda *args: cq.Location(cq.Vector(*args))\n",
    "    C = lambda *args: cq.Color(*args)\n",
    "\n",
    "    leg = MAssembly(cq.Workplane(\"YZ\").polyline([(0,0), (x, 0),(x,y)]), name=\"base\", color=C(\"Gray\"))\n",
    "    for i, name in enumerate(link_list):\n",
    "        leg.add(parts[name], name=name, color=C(links[name][\"col\"]), loc=L(0, 0, i*10 - 50))\n",
    "    return leg\n",
    "\n",
    "leg = create_leg(x, y)\n",
    "show(leg, axes=False)"
   ]
  },
  {
   "cell_type": "markdown",
   "metadata": {},
   "source": [
    "## Define Mates"
   ]
  },
  {
   "cell_type": "code",
   "execution_count": null,
   "metadata": {},
   "outputs": [],
   "source": [
    "for name in link_list:\n",
    "    leg.mate(\n",
    "        name=name, selector=name, origin=True,\n",
    "        mate=Mate(leg.find(name, \"faces@>X\", (\"wires\", (0, links[name][\"len\"]/2)))), \n",
    "    )\n",
    "\n",
    "show(leg, render_mates=True, axes=False)"
   ]
  },
  {
   "cell_type": "markdown",
   "metadata": {},
   "source": [
    "## Relocate and assemble"
   ]
  },
  {
   "cell_type": "code",
   "execution_count": null,
   "metadata": {},
   "outputs": [],
   "source": [
    "alpha = 0\n",
    "joints = linkage(alpha, x, y, links)\n",
    "\n",
    "leg.relocate()\n",
    "for name in link_list:\n",
    "    leg.assemble(name, link_loc(name, joints, links))\n",
    "\n",
    "d = show(leg, render_mates=False, axes=False, zoom=4, position=(1, 0, 0))"
   ]
  },
  {
   "cell_type": "markdown",
   "metadata": {
    "execution": {
     "iopub.execute_input": "2020-11-19T20:19:20.245150Z",
     "iopub.status.busy": "2020-11-19T20:19:20.244765Z",
     "iopub.status.idle": "2020-11-19T20:19:20.249602Z",
     "shell.execute_reply": "2020-11-19T20:19:20.248588Z",
     "shell.execute_reply.started": "2020-11-19T20:19:20.245096Z"
    }
   },
   "source": [
    "# Animation"
   ]
  },
  {
   "cell_type": "code",
   "execution_count": null,
   "metadata": {},
   "outputs": [],
   "source": [
    "animation = Animation(d.root_group)\n",
    "\n",
    "alphas = {name: [] for name in link_list}\n",
    "positions = {name: [] for name in link_list}\n",
    "\n",
    "for alpha in range(0, -375, -15):\n",
    "    for name in link_list:\n",
    "        p, a = link_loc(name, linkage(alpha, x, y, links), links, False)\n",
    "        alphas[name].append(a)\n",
    "        positions[name].append(p)\n",
    "\n",
    "time = np.linspace(0, 4, 25)\n",
    " \n",
    "for name in link_list:\n",
    "    animation.add_number_track(f\"base>{name}\", \"t\",  time, [p - positions[name][0] for p in positions[name]])       \n",
    "    animation.add_number_track(f\"base>{name}\", \"rx\", time, [a - alphas[name][0] for a in alphas[name]])       \n",
    "    \n",
    "animation.animate(speed=1)"
   ]
  },
  {
   "cell_type": "code",
   "execution_count": null,
   "metadata": {},
   "outputs": [],
   "source": []
  }
 ],
 "metadata": {
  "kernelspec": {
   "display_name": "Python 3",
   "language": "python",
   "name": "python3"
  },
  "language_info": {
   "codemirror_mode": {
    "name": "ipython",
    "version": 3
   },
   "file_extension": ".py",
   "mimetype": "text/x-python",
   "name": "python",
   "nbconvert_exporter": "python",
   "pygments_lexer": "ipython3",
   "version": "3.7.9"
  },
  "toc-autonumbering": true
 },
 "nbformat": 4,
 "nbformat_minor": 4
}
