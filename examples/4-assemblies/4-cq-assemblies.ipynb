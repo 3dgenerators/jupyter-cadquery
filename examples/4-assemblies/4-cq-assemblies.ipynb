{
 "cells": [
  {
   "cell_type": "code",
   "execution_count": null,
   "metadata": {},
   "outputs": [],
   "source": [
    "import cadquery as cq\n",
    "from jupyter_cadquery.cadquery import show, show_accuracy, show_constraints, Assembly, Part, Faces\n",
    "from jupyter_cadquery import set_sidecar\n",
    "\n",
    "set_sidecar(\"Assembly\")"
   ]
  },
  {
   "cell_type": "markdown",
   "metadata": {},
   "source": [
    "**Some helpers**"
   ]
  },
  {
   "cell_type": "code",
   "execution_count": null,
   "metadata": {},
   "outputs": [],
   "source": [
    "# Avoid clean error\n",
    "cq.occ_impl.shapes.Shape.clean = lambda x: x\n",
    "\n",
    "\n",
    "def L(x,y,z):\n",
    "    return cq.Location(cq.Vector(x, y, z))\n",
    "\n",
    "def C(*c):\n",
    "    return cq.Color(*c)\n",
    "\n",
    "def center(assy, name):\n",
    "    return cq.Vertex.makeVertex(*assy.objects[name].obj.val().Center().toTuple())\n",
    "\n",
    "def query_all(assy, q):\n",
    "    name, kind, arg = q.split(\"@\")\n",
    "\n",
    "    tmp = cq.Workplane()\n",
    "    obj = assy.objects[name].obj\n",
    "\n",
    "    if isinstance(obj, (cq.Workplane, cq.Shape)):\n",
    "        tmp.add(obj)\n",
    "        res = getattr(tmp, kind)(arg)\n",
    "\n",
    "    return res.objects if isinstance(res.val(), cq.Shape) else None"
   ]
  },
  {
   "cell_type": "markdown",
   "metadata": {},
   "source": [
    "# 1 Bearing"
   ]
  },
  {
   "cell_type": "markdown",
   "metadata": {},
   "source": [
    "## 1.1 Parts"
   ]
  },
  {
   "cell_type": "code",
   "execution_count": null,
   "metadata": {},
   "outputs": [],
   "source": [
    "def ring(inner_radius, outer_radius, width):\n",
    "    ring = (cq.Workplane(origin=(0, 0, -width / 2))\n",
    "        .circle(outer_radius).circle(inner_radius)\n",
    "        .extrude(width)\n",
    "    )\n",
    "    return ring\n",
    "\n",
    "tol = 0.05\n",
    "ball_diam = 5\n",
    "\n",
    "r1, r2, r3, r4 = 4, 6, 8, 10\n",
    "r5 = (r3 + r2) / 2\n",
    "inner_ring = ring(r1, r2, ball_diam)\n",
    "outer_ring = ring(r3, r4, ball_diam)\n",
    "\n",
    "torus = cq.CQ(cq.Solid.makeTorus(r5, ball_diam / 2 + tol))\n",
    "ball = cq.Workplane().sphere(ball_diam / 2)\n",
    "\n",
    "inner = inner_ring.cut(torus)\n",
    "outer = outer_ring.cut(torus)\n",
    "\n",
    "show(Assembly([Part(ball, \"ball\"), Part(inner, \"inner\"), Part(outer, \"outer\")], \"bearing\"))"
   ]
  },
  {
   "cell_type": "markdown",
   "metadata": {},
   "source": [
    "## 1.2 Assembly"
   ]
  },
  {
   "cell_type": "code",
   "execution_count": null,
   "metadata": {},
   "outputs": [],
   "source": [
    "def balls(i):\n",
    "    return \"ball_%d\" % i\n",
    "\n",
    "number_balls = 6\n",
    "\n",
    "def create_bearing(cls, helpers=True):\n",
    "    assy = cls(outer, loc=L(0, 0, ball_diam/2), name=\"outer\", color=C(\"orange\"))\n",
    "    assy.add(inner, loc=L(20, 0, 0), name=\"inner\", color=C(\"orange\"))\n",
    "    for i in range(number_balls):\n",
    "        assy.add(ball, loc=L(6*i, 20, 0), name=balls(i), color=C(\"black\"))\n",
    "\n",
    "    if helpers:\n",
    "        assy.add(cq.Workplane().circle(1).extrude(1), loc=L(0,-20,0), name=\"_center\")\n",
    "        assy.add(cq.Workplane().polygon(number_balls, 2*r5).extrude(ball_diam/2), loc=L(20,-20,0), name=\"_points\")\n",
    "\n",
    "    return assy"
   ]
  },
  {
   "cell_type": "markdown",
   "metadata": {},
   "source": [
    "## 1.3 Numerical solver from cadquery.Assembly\n",
    "\n",
    "### 1.3.1 Assembly"
   ]
  },
  {
   "cell_type": "code",
   "execution_count": null,
   "metadata": {},
   "outputs": [],
   "source": [
    "bearing = create_bearing(cq.Assembly)\n",
    "show(bearing)"
   ]
  },
  {
   "cell_type": "markdown",
   "metadata": {},
   "source": [
    "### 1.3.2 Constraints"
   ]
  },
  {
   "cell_type": "code",
   "execution_count": null,
   "metadata": {},
   "outputs": [],
   "source": [
    "points = query_all(bearing, \"_points@vertices@>Z\")\n",
    "\n",
    "cs = [\n",
    "    (\"outer@faces@<Z\", \"_center@faces@>Z\", \"Plane\"),\n",
    "    (\"inner@faces@<Z\", \"_center@faces@>Z\", \"Plane\"),\n",
    "    (\"_points@faces@<Z\", \"_center@faces@>Z\", \"Plane\"),\n",
    "] + [\n",
    "    (\"_points\", points[i], balls(i), center(bearing, balls(i)), \"Point\") \n",
    "    for i in range(number_balls)\n",
    "]\n",
    "\n",
    "for c in cs:\n",
    "    bearing.constrain(*c)\n",
    "    \n",
    "show_constraints(bearing, cs)"
   ]
  },
  {
   "cell_type": "markdown",
   "metadata": {},
   "source": [
    "### 1.2.3 Solver"
   ]
  },
  {
   "cell_type": "code",
   "execution_count": null,
   "metadata": {},
   "outputs": [],
   "source": [
    "bearing.solve()\n",
    "show(bearing)"
   ]
  },
  {
   "cell_type": "code",
   "execution_count": null,
   "metadata": {},
   "outputs": [],
   "source": [
    "show_accuracy(bearing, cs)"
   ]
  },
  {
   "cell_type": "markdown",
   "metadata": {},
   "source": [
    "## 1.4 Mate Assembly from jupyter-cadquery\n",
    "### 1.4.1 MAssembly"
   ]
  },
  {
   "cell_type": "code",
   "execution_count": null,
   "metadata": {},
   "outputs": [],
   "source": [
    "from jupyter_cadquery.mate_assembly import Mate, MAssembly\n",
    "\n",
    "bearing = create_bearing(MAssembly, helpers=False)\n",
    "show(bearing)"
   ]
  },
  {
   "cell_type": "markdown",
   "metadata": {},
   "source": [
    "### 1.4.2 Mates"
   ]
  },
  {
   "cell_type": "code",
   "execution_count": null,
   "metadata": {},
   "outputs": [],
   "source": [
    "M = lambda *args: Mate(bearing.find(*args))\n",
    "\n",
    "bearing.mate(\n",
    "    name=\"outer\", selector=\"outer\", mate=M(\"outer\", (\"faces\", \"<Z\")),\n",
    "    is_origin=True,\n",
    ").mate(\n",
    "    name=\"inner\", selector=\"inner\", mate=M(\"inner\", (\"faces\", \"<Z\")),\n",
    "    is_origin=True,\n",
    ")\n",
    "for i in range(number_balls):\n",
    "    bearing.mate(\n",
    "        name=balls(i), selector=balls(i), mate=Mate((0,0,0), (1,0,0), (0,0,1)),\n",
    "        is_origin=True\n",
    "    ).mate(\n",
    "        name=\"inner_%d\" %i, selector=\"inner\", mate=Mate((0,0,0), (1,0,0), (0,0,1))\n",
    "                                                   .rz(i*60)\n",
    "                                                   .tx(r5)\n",
    "    )\n",
    "show(bearing, render_mates=True)"
   ]
  },
  {
   "cell_type": "markdown",
   "metadata": {},
   "source": [
    "### 1.4.2 Relocate and assemble"
   ]
  },
  {
   "cell_type": "code",
   "execution_count": null,
   "metadata": {},
   "outputs": [],
   "source": [
    "bearing.relocate()\n",
    "\n",
    "# assemble each part\n",
    "bearing.assemble(\"inner\", \"outer\")\n",
    "for i in range(number_balls):\n",
    "    bearing.assemble(balls(i), \"inner_%d\"%i)\n",
    "show(bearing, render_mates=True, transparent=True)"
   ]
  },
  {
   "cell_type": "markdown",
   "metadata": {},
   "source": [
    "# 2 Simple Tests"
   ]
  },
  {
   "cell_type": "code",
   "execution_count": null,
   "metadata": {},
   "outputs": [],
   "source": [
    "def create():\n",
    "    b1 = cq.Workplane().box(1, 1, 2).faces('>Z').edges('>X').chamfer(0.4)\n",
    "    b2 = cq.Workplane().box(.1, 2, 1).faces('>Z').edges('>Y').chamfer(0.1)\n",
    "    b3 = cq.Workplane().box(2, .1, .5).faces('>Z').edges('>X').chamfer(0.1)\n",
    "    b4 = cq.Workplane().box(1, 1, .2).faces('>Y').edges('>X').chamfer(0.1)\n",
    "\n",
    "    assy = cq.Assembly(b1, loc=L(1, 1, 0), name=\"TOP\")\n",
    "    assy2 = cq.Assembly(b2, name=\"SECOND\")\n",
    "    assy3 = cq.Assembly(b3, name=\"THIRD\", color=C('orange'))\n",
    "\n",
    "    assy.add(assy2, color=C(\"green\"))\n",
    "    assy.add(assy3)\n",
    "    assy.add(b4, name=\"4th\",color=C(\"blue1\"))\n",
    "    return assy"
   ]
  },
  {
   "cell_type": "code",
   "execution_count": null,
   "metadata": {},
   "outputs": [],
   "source": [
    "assy = create()\n",
    "cs = [\n",
    "    (\"TOP@faces@>(1,0,1)\", \"THIRD@faces@>Z\", \"Plane\"), \n",
    "    (\"TOP@faces@<Y\", \"SECOND@faces@<Y\", \"Axis\"),\n",
    "    (\"THIRD@faces@<X\", \"SECOND@faces@>X\", \"Plane\"),\n",
    "    (\"SECOND@faces@>Z\", \"THIRD@faces@<Z\", \"Axis\"),\n",
    "    (\"4th@faces@>Z\", \"SECOND@faces@<Z\", \"Plane\"),\n",
    "    (\"4th@faces@>Y\", \"TOP@faces@<Y\", \"Axis\"),    \n",
    "]\n",
    "show_constraints(assy, cs)"
   ]
  },
  {
   "cell_type": "code",
   "execution_count": null,
   "metadata": {},
   "outputs": [],
   "source": [
    "for c in cs:\n",
    "    assy.constrain(*c)\n",
    "\n",
    "assy.solve()\n",
    "show(assy)"
   ]
  },
  {
   "cell_type": "code",
   "execution_count": null,
   "metadata": {},
   "outputs": [],
   "source": [
    "show_constraints(assy, cs)"
   ]
  },
  {
   "cell_type": "code",
   "execution_count": null,
   "metadata": {},
   "outputs": [],
   "source": [
    "show_accuracy(assy, cs)"
   ]
  },
  {
   "cell_type": "code",
   "execution_count": null,
   "metadata": {},
   "outputs": [],
   "source": []
  }
 ],
 "metadata": {
  "kernelspec": {
   "display_name": "Python 3",
   "language": "python",
   "name": "python3"
  },
  "language_info": {
   "codemirror_mode": {
    "name": "ipython",
    "version": 3
   },
   "file_extension": ".py",
   "mimetype": "text/x-python",
   "name": "python",
   "nbconvert_exporter": "python",
   "pygments_lexer": "ipython3",
   "version": "3.7.9"
  },
  "widgets": {
   "application/vnd.jupyter.widget-state+json": {
    "state": {},
    "version_major": 2,
    "version_minor": 0
   }
  }
 },
 "nbformat": 4,
 "nbformat_minor": 4
}
