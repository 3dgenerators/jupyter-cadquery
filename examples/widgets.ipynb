{
 "cells": [
  {
   "cell_type": "code",
   "execution_count": null,
   "metadata": {},
   "outputs": [],
   "source": [
    "import os\n",
    "\n",
    "from ipywidgets import Output, HBox, Layout\n",
    "\n",
    "import jupyter_cadquery\n",
    "\n",
    "icon_path = os.path.join(os.path.dirname(jupyter_cadquery.__file__), \"icons\")"
   ]
  },
  {
   "cell_type": "markdown",
   "metadata": {},
   "source": [
    "# ipywidgets"
   ]
  },
  {
   "cell_type": "code",
   "execution_count": null,
   "metadata": {},
   "outputs": [],
   "source": [
    "from ipywidgets import interact, interactive, fixed, interact_manual\n",
    "import ipywidgets as widgets\n",
    "\n",
    "def f(x):\n",
    "    return x\n",
    "\n",
    "interact(f, x=10);"
   ]
  },
  {
   "cell_type": "markdown",
   "metadata": {},
   "source": [
    "# pythreejs"
   ]
  },
  {
   "cell_type": "code",
   "execution_count": null,
   "metadata": {},
   "outputs": [],
   "source": [
    "from pythreejs import *\n",
    "\n",
    "BoxGeometry(\n",
    "    width=5,\n",
    "    height=10,\n",
    "    depth=15,\n",
    "    widthSegments=5,\n",
    "    heightSegments=10,\n",
    "    depthSegments=15)\n"
   ]
  },
  {
   "cell_type": "markdown",
   "metadata": {},
   "source": [
    "# Sidecar"
   ]
  },
  {
   "cell_type": "code",
   "execution_count": null,
   "metadata": {},
   "outputs": [],
   "source": [
    "from sidecar import Sidecar\n",
    "from ipywidgets import IntSlider\n",
    "\n",
    "sc = Sidecar(title='Sidecar Output')\n",
    "sl = IntSlider(description='Some slider')\n",
    "with sc:\n",
    "    display(sl)"
   ]
  },
  {
   "cell_type": "markdown",
   "metadata": {},
   "source": [
    "# Image Button"
   ]
  },
  {
   "cell_type": "code",
   "execution_count": null,
   "metadata": {},
   "outputs": [],
   "source": [
    "from jupyter_cadquery.widgets import ImageButton\n",
    "\n",
    "output = Output()\n",
    "\n",
    "def handler(out):\n",
    "    def f(b):\n",
    "        with out:\n",
    "            print(\"Pressed\", b.type)\n",
    "    return f\n",
    "\n",
    "def create_button(icon):\n",
    "    button = ImageButton(\n",
    "        width=36, \n",
    "        height=28, \n",
    "        image_path=\"%s/%s.png\" % (icon_path, icon),\n",
    "        tooltip=\"Change view to %s\" % icon,\n",
    "        type=icon\n",
    "    )\n",
    "    button.on_click(handler(output))\n",
    "    return button\n",
    "\n",
    "button1 = create_button(\"fit\")\n",
    "button2 = create_button(\"isometric\")\n",
    "\n",
    "\n",
    "HBox([button1, button2, output])"
   ]
  },
  {
   "cell_type": "markdown",
   "metadata": {},
   "source": [
    "# Tree View"
   ]
  },
  {
   "cell_type": "code",
   "execution_count": null,
   "metadata": {},
   "outputs": [],
   "source": [
    "from ipywidgets import Checkbox, Layout, HBox, Output\n",
    "from jupyter_cadquery.widgets import TreeView, UNSELECTED, SELECTED, MIXED, EMPTY, state_diff"
   ]
  },
  {
   "cell_type": "code",
   "execution_count": null,
   "metadata": {},
   "outputs": [],
   "source": [
    "tree = {\n",
    "    'type': 'node',\n",
    "    'name': 'Root',\n",
    "    'id': \"n1\",\n",
    "    'children': [\n",
    "        {'type': 'leaf',\n",
    "         'name': 'Red box',\n",
    "         'id': \"R\",\n",
    "         'color': 'rgba(255, 0, 0, 0.6)'},\n",
    "        {'type': 'node',\n",
    "         'name': 'Sub',\n",
    "         'id': \"n2\",\n",
    "         'children': [\n",
    "            {'type': 'leaf',\n",
    "             'name': 'Green box',\n",
    "             'id': \"G\",\n",
    "             'color': 'rgba(0, 255, 0, 0.6)'},\n",
    "            {'type': 'leaf',\n",
    "             'name': 'blue box',\n",
    "             'id': \"B\",\n",
    "             'color': 'rgba(0, 0, 255, 0.6)'}]},\n",
    "        {'type': 'leaf',\n",
    "         'name': 'Yellow box',\n",
    "         'id': \"Y\",\n",
    "         'color': 'rgba(255, 255, 0, 0.6)'}\n",
    "]}\n",
    "\n",
    "state = {\n",
    "    \"R\": [EMPTY,      UNSELECTED],\n",
    "    \"G\": [UNSELECTED, SELECTED],\n",
    "    \"B\": [SELECTED,   UNSELECTED],\n",
    "    \"Y\": [SELECTED,   SELECTED]\n",
    "}\n",
    "\n",
    "image_paths = [\n",
    "    {UNSELECTED: \"%s/no_shape.png\"  % icon_path, \n",
    "     SELECTED:   \"%s/shape.png\"     % icon_path, \n",
    "     MIXED:      \"%s/mix_shape.png\" % icon_path, \n",
    "     EMPTY:      \"%s/empty.png\"     % icon_path},\n",
    "    {UNSELECTED: \"%s/no_mesh.png\"   % icon_path, \n",
    "     SELECTED:   \"%s/mesh.png\"      % icon_path, \n",
    "     MIXED:      \"%s/mix_mesh.png\"  % icon_path, \n",
    "     EMPTY:      \"%s/empty.png\"     % icon_path}\n",
    "]\n",
    "\n",
    "height = \"300px\"\n",
    "\n",
    "output = Output(layout=Layout(height=height, width=\"800px\", \n",
    "                              overflow_y=\"scroll\", overflow_x=\"scroll\"))\n",
    "output.add_class(\"mac-scrollbar\")\n",
    "\n",
    "def handler(out):\n",
    "    def f(states):\n",
    "        diff = state_diff(states.get(\"old\"), states.get(\"new\"))\n",
    "        with out:\n",
    "            #print(states.get(\"old\"))\n",
    "            #print(states.get(\"new\"))\n",
    "            print(diff)\n",
    "    return f\n",
    "\n",
    "t = TreeView(image_paths=image_paths, tree=tree, state=state, \n",
    "            layout=Layout(height=height, width=\"200px\", \n",
    "                          overflow_y=\"scroll\", overflow_x=\"scroll\"))\n",
    "\n",
    "t.add_class(\"mac-scrollbar\")\n",
    "\n",
    "t.observe(handler(output), \"state\")\n",
    "HBox([t, output])\n"
   ]
  },
  {
   "cell_type": "code",
   "execution_count": null,
   "metadata": {},
   "outputs": [],
   "source": []
  }
 ],
 "metadata": {
  "kernelspec": {
   "display_name": "Python 3",
   "language": "python",
   "name": "python3"
  },
  "language_info": {
   "codemirror_mode": {
    "name": "ipython",
    "version": 3
   },
   "file_extension": ".py",
   "mimetype": "text/x-python",
   "name": "python",
   "nbconvert_exporter": "python",
   "pygments_lexer": "ipython3",
   "version": "3.7.7"
  },
  "widgets": {
   "application/vnd.jupyter.widget-state+json": {
    "state": {
     "0a483f0d84a24b94bfd38a1eba56f0e6": {
      "model_module": "@jupyter-widgets/base",
      "model_module_version": "1.2.0",
      "model_name": "LayoutModel",
      "state": {}
     },
     "209b15913a8b4377943a17e49fe2c416": {
      "model_module": "@jupyter-widgets/controls",
      "model_module_version": "1.5.0",
      "model_name": "HBoxModel",
      "state": {
       "children": [
        "IPY_MODEL_9d358c42929742229bbf25c0ad7c642a",
        "IPY_MODEL_aaed3ffbd2ab4176806d28203aa44a19",
        "IPY_MODEL_ec3247df9dbd47858b38c25518788b0b"
       ],
       "layout": "IPY_MODEL_f08fb9e1074f45b8aa2501dbbe916d78"
      }
     },
     "239da8f8b0ca4fe3a5ecf039607624ad": {
      "model_module": "@jupyter-widgets/controls",
      "model_module_version": "1.5.0",
      "model_name": "SliderStyleModel",
      "state": {
       "description_width": ""
      }
     },
     "2be5c2aac0914a54ab6c104c71066f67": {
      "model_module": "jupyter_cadquery",
      "model_module_version": "^v1.0.0",
      "model_name": "TreeModel",
      "state": {
       "_dom_classes": [
        "mac-scrollbar"
       ],
       "_model_module_version": "^v1.0.0",
       "_view_module_version": "^v1.0.0",
       "button_style": "",
       "icon": "",
       "icons": [
        {
         "0": "iVBORw0KGgoAAAANSUhEUgAAARgAAADcCAYAAACrgL6aAAAFCElEQVR4nO3dUXYbNwwFULQnC/PSvbPmo9Vxao9saUQOAfDeDUQE3jxTipVEAAAAAAAAAAAAAAAAAAAAAAAAAAAAAAAAAAAAAAAAAAAAAAAAAAAAAAAAAAAAAAAAAAAAAAAAAAAAAAAAAAAAAADU89fqF8Aab29v/1z9Z76/v8vbZiy8mRXFMZoi6sMiC+pQImcpn1osK7Gdi+RZiicnS0lCmYyndNazgIWUyrUUzvUM/EIKJQ9lcw1Dnkyp1KBw5jDUwRRKfcpmHIMcQKn0pWxeY3gnVS+VFQ9O9ZlFKJxnGdYTKj0gVR8EM+7FgB6QLfQ7B9suajGcO7IEWYB/Zld5GciBVYEV0HFWlo49fjCI/yiVvpTNOlsf/ubKAO4euCzs/BrbHjzimpDtHK4q5GCeLQ8tUNwjG2Ntc9CI+eHZKTg7mJmXXbKyxSEj5oVll6DsTn7OaX24iDnB6B4KvidTj2t5qAg/cZhLyTym3YEixi+/4+IZR97ua3OQm5HL7rRo5pO9r1oc4mbUgrssl+spmf8rf4AIxUJOchnx9+oX8CpLJKtRmcrybfEzSj9UIwavWLjCrlkt94JvXl1YxWVR244lU+rF3ryyqGoLoqddMlzuM5hdFkNvr2Sx0mcypR64s4NVLGTWOddlbjCdl8Dezma0wk2mRMEoF7rrWjLpCyb7AGG1zM/Ir9UvYAY3Fyq65TZzYTwr9Q3mzKCVC9WdyXDWUkr5MPrMBXo8B6lvMM/INFQYoUOm0xWMt0XwofrbpVQFo1zgq8olk6pggF7SFIzbC9xX9RaTpmCepVzYTcXMpyiYZ5u24qBhhGezv/oWk6JggJ7KFYzbC7ur9AwsL5jVVzjobuUztrxggL5KFUylqyHMVOVZKFUw3k7Bv6o8C6UKBqhlecFUuepBVSufseUF86wqV0OYpdIzUK5ggDpSFEy1X3+GVap9rSZFwZyhZNhNxcynKZiqX0eHK1T950zSFAzQT6qCcYuBr6reXiKSFUyEkoE/VS6XiIQFc5aSoZsOmU7TdEeqtzec1SX7qW8w3i6xoy7lEhHxa/ULmOG2oKxDhyMdfzimvsFEKAn4SeZnJH3BRJwfYMefCPTU4T+6P1KiYCKUDH11LZeI5H+LdOSVwqiwEPaxQ5bL3GBuXhms2wxZ7FAuEQVvMDcjyqLSoujh1dxWy2ypF/uZkqGKXbNa7gV/NuptT8Xlkd/u+Sz3Gcxnowbv8xlG271cIhrcYP40siQqL5W1FMuH8gf4TMmwiux91eIQn41+u9Nl2cwhb/e1OciRGZ+rdFo+5836zK5bvlod5oiSYTSZelzLQx3xE4dXyM85rQ93ZOZfR3cPy25m/+rCDnlpf8AjV/zOyw7h6Ug2xtrmoPcIFBFyMMt2Bz5y5W/x7hiyjOz8Gtse/LOVXxXYOYBXWbXf3Xe79eHvUTY9KJX1DOIbWb4AKbA/s6ucDONBWQJ8s3OQ7aIOg3lCtmB/p2rozbgXAzqp0oNwz4oHpPrclMpzDGuQ6g8O9ymV8wxuAmVTn1IZwxAnUzY1KJQ5DPViCicPpTKfAS+kbK6lUK5n4IkonPGUylqGn5zSeZwyycdCitq5eBRJHRbVUIfyUSI9WOLGVhSR4gAAAAAAAAAAAAAAAAAAAAAAAAAAAAAAAAAAAAAAAAAAAAAAAAAAAAAAAAAAAAAAAAAAAAAAAAAAAAAAAAAAAABgkN/fSHSu9KigrAAAAABJRU5ErkJggg==",
         "1": "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",
         "2": "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",
         "3": "iVBORw0KGgoAAAANSUhEUgAAARgAAADcCAYAAACrgL6aAAABBUlEQVR4nO3BAQEAAACCIP+vbkhAAQAAAAAAAAAAAAAAAAAAAAAAAAAAAAAAAAAAAAAAAAAAAAAAAAAAAAAAAAAAAAAAAAAAAAAAAAAAAAAAAAAAAAAAAAAAAAAAAAAAAAAAAAAAAAAAAAAAAAAAAAAAAAAAAAAAAAAAAAAAAAAAAAAAAAAAAAAAAAAAAAAAAAAAAAAAAAAAAAAAAAAAAAAAAAAAAAAAAAAAAAAAAAAAAAAAAAAAAAAAAAAAAAAAAAAAAAAAAAAAAAAAAAAAAAAAAAAAAAAAAAAAAAAAAAAAAAAAAAAAAAAAAAAAAAAAAAAAAAAAAAAAAAAAAAAAAAAAAAAPBsOJAAFH/TM7AAAAAElFTkSuQmCC"
        },
        {
         "0": "iVBORw0KGgoAAAANSUhEUgAAARgAAADcCAYAAACrgL6aAAADU0lEQVR4nO3YUVFEMRBE0QEfqwoDSMMAqhCyKEh+YDbTqXMMZH7era5XBQAAAAAAAAAAAAAAAAAAAAAAAAAAAAAAAAAAAAAAAAAAAAAAAAAAAAAAAAAAAAAAAAAAAAAAwN+8nT7gv3x8/TxP3wCTfX8+Xv69v7/6QeD1TsSl6pLAWC8w0xWBAdZOrZeqCwJjvcBc8YEB1k6ul6rwwFgvMFt0YIC10+ulKjgw1gvMFxsYYG3CeqkKDYz1AhkiAwOsTVkvVYGBsV4gR1xggLVJ66UqLDDWC2SJCgywNm29VAUFxnqBPDGBAdYmrpeqkMBYL5ApIjDA2tT1UhUQGOsFco0PDLA2eb1UDQ+M9QLZRgcGWJu+XqoGB8Z6gXxjAwOsJayXqqGBsV7gDiMDA6ylrJeqgYGxXuAe4wIDrCWtl6phgbFe4C6jAgOspa2XqkGBsV7gPmMCA6wlrpeqIYGxXuBOIwIDrKWul6oBgbFe4F7HAwOsJa+XqsOBsV7gbhYMDJW+XqoOBsZ6gftZMEAbgQHaCAzQRmCANgIDtBEYoI3AAG0EBmgjMEAbgQHaCAzQRmCANgIDtBEYoI3AAG0EBmgjMEAbgQHaCAzQRmCANgIDtBEYoI3AAG0EBmgjMEAbgQHaCAzQRmCANgIDtBEYoI3AAG0EBmgjMEAbgQHaCAzQRmCANgIDtBEYoI3AAG0EBmhzLDDfn4+3U28Dr2HBwFAfXz/P0zf81dHAWDFwNwsGBktfMccDY8XAvY4HBthLXjEjAmPFwJ1GBAbYS10xYwJjxcB9xgQG2EtcMaMCY8XAXUYFBthLWzHjAmPFwD3GBQbYS1oxIwNjxcAdRgYG2EtZMWMDY8VAvrGBAfYSVszowFgxkG10YIC96StmfGCsGMg1PjDA3uQVExEYKwYyRQQG2Ju6YmICY8VAnpjAAHsTV0xUYKwYyBIVGGBv2oqJC4wVAzniAgPsTVoxkYGxYiBDZGCAvSkrJjYwVgzMFxsYYG/CiokOjBUDs0UHBtg7vWLiA2PFwFzxgQH2Tq6YKwJjxcBMVwQG2Dv9LwYAAAAAAAAAAAAAAAAAAAAAAAAAAAAAAAAAAAAAAAAAAAAAAAAAAAAAAAAAAAAAAAAAAAAA4Hq/ZAik8uNneKUAAAAASUVORK5CYII=",
         "1": "iVBORw0KGgoAAAANSUhEUgAAARgAAADcCAYAAACrgL6aAAAFFklEQVR4nO3bUWocSRAE0PTiG/hCuojBRzP4InMhn8H7tbCwsHRLyqrI6ve+BTMo3JGhsVQFAAAAAAAAAAAAAAAAAAAAAAAAAAAAAAAAAAAAAAAAAAAAAAAAAAAAAAAAAAAAAAAAAJzty+438FFvb29/dr8HmOT1ei177v9a9UIdlAvct/K5GVswygXeb9XzM7ZggHwjC8Z6gRlGFgwww7iCsV5gjnEFA3zcqv+qHlUw1gvMMqpggI9b+Yt2X1e90EfdWS/ffvzqfCtU1e+f3y9/rTz63cljpeMWjH/MWeSRZeV6qRpSMD57yZJ6LZ8qOY8RBXOVa5lFHllWr5eqAQVjvWRJvpZPlJ5HfMFc5VpmkUeWHeulKrxgrJcs6dfyaSbkEV0wV7mWWeSRZdd6qQouGOsly4Rr+SRT8ogtmKtcyyzyyLJzvVSFFoz1kmXKtXyKSXlEFsxVrmUWeWTZvV6qAgvGesky6Vo+wbQ84grmKtcyizyyJKyXqrCCsV6yTLuWp5uYR1TBXOVaZpFHlpT1UhVUMNZLlonX8mRT84gpmKtcyyzyyJK0XqpCCsZ6yTL1Wp5qch4RBXOVa5lFHlnS1ktVQMFYL1kmX8sTTc9je8Fc5VpmkUeWxPVStblgrJcs06/laU7IY8SCcS2zyCNL6nqp2lgw1kuWE67lSU7JI37BuJZZ5JEleb1UbSoY6yXLKdfyFCflEb1gXMss8siSvl6qNhSM9ZLlpGt5gtPyWN6ACgY+bsJ6qVq8YJQLPEv0ZzDAf01ZL1ULC8Z6geexYGCQSeulalHBWC/wTBYM0EbBAG0UDNBGwQBtFAzQ5uvuN/Bv/phujTt/7yKTNU77G6R/WDBAGwUDtFEwQBsFA7RRMEAbBQO0UTBAGwUDtFEwQBsFA7RRMEAbBQO0UTBAGwUDtFEwQBsFA7RRMEAbBQO0UTBAGwUDtFEwQBsFA7RRMEAbBQO0UTBAGwUDtFEwQBsFA7T5suJF3t7e/qx4HTjd6/Va8sx+FgsGaKNggDYKBmijYIA2CgZos6Rgpn3yDXwOCwYGmfYrH8sKxoqB57FgYJhJK2ZpwVgx8CzLH/g77fvtx6/Ot0JV/f75/fLXyqPfnTwmHOzlPyJN+KY8idLIcloe0Z/B3Glz+skjy4TPYrYUjBWT5bSrOd1JeUQvmCpXM408sqSvmG0FY8VkOelqnuCUPOIXTJWrmUYeWZJXzNaCsWKynHI1T3FCHiMWTJWrmUYeWVJXzPaCsWKynHA1TzI9j+0Fc4ermUUeWRJXTETBWDFZpl/N00zOI6Jg7nA1s8gjS9qKiSkYKybL5Kt5oql5xBTMHa5mFnlkSVoxUQVjxWSZejVPNTGPqIK5w9XMIo8sKSsmrmCsmCwTr+bJpuURVzB3uJpZ5JElYcVEFowVk2Xa1TzdpDwiC+YOVzOLPLLsXjGxBWPFZJl0NZ9gSh6xBXOHq5lFHll2rpjogrFisky5mk8xIY/ogrnD1cwijyy7Vkx8wVgxWSZczSdJzyO+YO5wNbPII8uOFTOiYKyYLOlX82mS8xhRMHe4mlnkkWX1ihm1DHb/0hCcYOVPBMctGOD/rTzUowrGZzEwy6iCAT7HqhUzrmCsGJhjXMEAc4wsGCsGZhhZMMAMYwvGioH3W/X8jC2YKiUD7+G5AQAAAAAAAAAAAAAAAAAAAAAAAAAAAAAAAAAAAAAAAAAAAAAAAAAAAAAAAAAAAAAAgAf6Gy0zeNBNTtmiAAAAAElFTkSuQmCC",
         "2": "iVBORw0KGgoAAAANSUhEUgAAARgAAADcCAYAAACrgL6aAAAElElEQVR4nO3dwW3kRhRF0S9DGcxauXQOWhtQaAJmPTkwF60nBnlRGNswBgap7s961X1OAiqIwuMVW4SqAAAAAAAAAAAAAAAAAAAAAAAAAAAAAAAAAAAAAAAAAAAAAAAAAAAAAAAAAAAAAAAAAID79jT7ANe6XC6fs8/waLZtW/7nhnP8MfsA1zAukG3ZgTEukG/ZgQHyPc8+wFeol/vx+v7hWp7kx9vL6c/OFAw8gBnjUrXgwKgXWMdyAwMcM6teqhYbGPUCa1lqYIBjZtZL1UKfIh2pl29v3zuPwvYy+wQs4u4KxrjAMLteqhYZGM9eYE1LDMxe6gWGhHqpWmBg1EuWn+9/zj4CC4kfmL3UCwwp9VIVPjDqJYt64ajogdlLvcCQVC9VwQOjXrKoF74idmD2Ui8wpNVLVejAqJcs6oWvihyYvdQLDIn1UhU4MOoli3rhGnEDs5d6gSG1XqrCBka9ZFEvXCtqYPZSLzAk10tV0MColyzqhVuIGZi91AsM6fVSFTIw6iWLeuFWIgZmL/UCwwr1UhUwMOoli3rhlqYPzF7qBYZV6qVq8sColyzqhVtbomDUCwwr1UvVxIFRL1nUCx3iC0a9ZHE95lmtXqomDYx6yaJe6BJdMO6WWVyPeVasl6oJA6NesqgXOj3PPsD/8cOfxfWYY9V6qTq5YNQLPJboZzDw6Faul6oTB0a9wONRMBBq9XqpOmlg1As8JgUDtDEwQBsDA7QxMEAbAwO0iXpVwMt05zjyJ/+/vSbbyw1Pwz1TMEAbAwO0MTBAGwMDtDEwQBsDA7QxMEAbAwO0MTBAGwMDtDEwQBsDA7QxMEAbAwO0MTBAGwMDtDEwQBsDA7QxMEAbAwO0MTBAGwMDtDEwQBsDA7QxMEAbAwO0MTBAGwMDtHmefYB/O/JP2TmHa8I1FAzQxsAAbQwM0MbAAG0MDNDmlIHZtu3pjK8DZFEwEOr1/eNz9hmuddrAqBh4PAoGgq1eMacOjIqBxxL1qsB/fXv7PvsId+/IqwB/X4/tpek0/M7r+8fnj7eXJW/Op/+KpGKyGHE6RT+D8aJdFtdjnlWfxUwZGBWTRcXQJbpgqtw107ge86xYMdMGRsVkUTF0iC+YKndN+GW1ipk6MComi4rh1pYomCoVA7+sVDHTB0bFZFEx3NL0gTlCxcCwSsVEDIyKyaJiuJWIgTlCxcCwQsXEDIyKyaJiuIWYgTlCxcCQXjFRA6NisqgYrhU1MEeoGBiSKyZuYFRMFhXDNeIG5ggVA0NqxUQOjIrJomL4qsiBOULFwJBYMbEDo2KyqBi+InZgjlAxMKRVTPTAqJgsKoajogfmCBUDQ1LFxA+MismiYjgifmCOUDEwpFTMEgOjYmBNSwzMESoGhoSKeZ59gL22bXu6XC67vmFGBjLcXcEA/5hdMUsNjGcxsJalBgY4bmbFLDcwKgbWsdzAAMfNqphla2DvJ0rcnopkLwUDtFl2YNxFId+yA1NlZAAAAAAAAAAAAAAAAAAAAAAAAAAAAAAAAAAAAAAAAAAAAAAAAAAAAAAAAAAAAAAAAABgl78AGhwmMlTVb/sAAAAASUVORK5CYII=",
         "3": "iVBORw0KGgoAAAANSUhEUgAAARgAAADcCAYAAACrgL6aAAABBUlEQVR4nO3BAQEAAACCIP+vbkhAAQAAAAAAAAAAAAAAAAAAAAAAAAAAAAAAAAAAAAAAAAAAAAAAAAAAAAAAAAAAAAAAAAAAAAAAAAAAAAAAAAAAAAAAAAAAAAAAAAAAAAAAAAAAAAAAAAAAAAAAAAAAAAAAAAAAAAAAAAAAAAAAAAAAAAAAAAAAAAAAAAAAAAAAAAAAAAAAAAAAAAAAAAAAAAAAAAAAAAAAAAAAAAAAAAAAAAAAAAAAAAAAAAAAAAAAAAAAAAAAAAAAAAAAAAAAAAAAAAAAAAAAAAAAAAAAAAAAAAAAAAAAAAAAAAAAAAAAAAAAAAAAAAAAAAAAAAAAAAAPBsOJAAFH/TM7AAAAAElFTkSuQmCC"
        }
       ],
       "layout": "IPY_MODEL_48a9a6bf039a4a60b56d29d7747dce83",
       "state": {
        "B": [
         1,
         0
        ],
        "G": [
         0,
         1
        ],
        "R": [
         3,
         0
        ],
        "Y": [
         1,
         1
        ]
       },
       "style": "IPY_MODEL_5ec02d89ee3e4c40aa4cf31630d5afa1",
       "tooltip": "",
       "tree": {
        "children": [
         {
          "color": "rgba(255, 0, 0, 0.6)",
          "id": "R",
          "name": "Red box",
          "type": "leaf"
         },
         {
          "children": [
           {
            "color": "rgba(0, 255, 0, 0.6)",
            "id": "G",
            "name": "Green box",
            "type": "leaf"
           },
           {
            "color": "rgba(0, 0, 255, 0.6)",
            "id": "B",
            "name": "blue box",
            "type": "leaf"
           }
          ],
          "id": "n2",
          "name": "Sub",
          "type": "node"
         },
         {
          "color": "rgba(255, 255, 0, 0.6)",
          "id": "Y",
          "name": "Yellow box",
          "type": "leaf"
         }
        ],
        "id": "n1",
        "name": "Root",
        "type": "node"
       }
      }
     },
     "2d07f96b30bf474cb97d6b257f51c5c0": {
      "model_module": "@jupyter-widgets/output",
      "model_module_version": "1.0.0",
      "model_name": "OutputModel",
      "state": {
       "layout": "IPY_MODEL_76d76a95c58e498dbe1c0632d6852ba7",
       "outputs": [
        {
         "data": {
          "text/plain": "21"
         },
         "metadata": {},
         "output_type": "display_data"
        }
       ]
      }
     },
     "2f4a39488631469e9bb2f4788a79841d": {
      "model_module": "@jupyter-widgets/base",
      "model_module_version": "1.2.0",
      "model_name": "LayoutModel",
      "state": {}
     },
     "2f6f832cf5ff46d79fe0a2da7d4af6e1": {
      "model_module": "@jupyter-widgets/base",
      "model_module_version": "1.2.0",
      "model_name": "LayoutModel",
      "state": {}
     },
     "38015870dccc49c3bb34b3470437923e": {
      "model_module": "@jupyter-widgets/base",
      "model_module_version": "1.2.0",
      "model_name": "LayoutModel",
      "state": {}
     },
     "389e5591f82543029e572116bf19d558": {
      "model_module": "@jupyter-widgets/output",
      "model_module_version": "1.0.0",
      "model_name": "OutputModel",
      "state": {
       "_dom_classes": [
        "mac-scrollbar"
       ],
       "layout": "IPY_MODEL_b8b3edc9f5dd4fb3bd67879599b017d7"
      }
     },
     "48a9a6bf039a4a60b56d29d7747dce83": {
      "model_module": "@jupyter-widgets/base",
      "model_module_version": "1.2.0",
      "model_name": "LayoutModel",
      "state": {
       "height": "300px",
       "overflow_x": "scroll",
       "overflow_y": "scroll",
       "width": "200px"
      }
     },
     "587d0990f4ec430991efaa2484d0a4f5": {
      "model_module": "@jupyter-widgets/controls",
      "model_module_version": "1.5.0",
      "model_name": "ButtonStyleModel",
      "state": {}
     },
     "5bf99043048040edb24250f67ad91bd8": {
      "model_module": "jupyter-threejs",
      "model_module_version": "^2.1.0",
      "model_name": "WebGLShadowMapModel",
      "state": {
       "_view_module": null,
       "_view_module_version": ""
      }
     },
     "5d33002d6df44458bff6c57a5db465ef": {
      "model_module": "@jupyter-widgets/base",
      "model_module_version": "1.2.0",
      "model_name": "LayoutModel",
      "state": {}
     },
     "5ec02d89ee3e4c40aa4cf31630d5afa1": {
      "model_module": "@jupyter-widgets/controls",
      "model_module_version": "1.5.0",
      "model_name": "ButtonStyleModel",
      "state": {}
     },
     "6b83674749ad4511a88d492cd15c7c3e": {
      "model_module": "jupyter-threejs",
      "model_module_version": "^2.1.0",
      "model_name": "PreviewModel",
      "state": {
       "_alpha": false,
       "_webgl_version": 2,
       "child": "IPY_MODEL_9d1d446972a041c5873021e0d71cbaa2",
       "layout": "IPY_MODEL_2f6f832cf5ff46d79fe0a2da7d4af6e1",
       "shadowMap": "IPY_MODEL_5bf99043048040edb24250f67ad91bd8"
      }
     },
     "76d76a95c58e498dbe1c0632d6852ba7": {
      "model_module": "@jupyter-widgets/base",
      "model_module_version": "1.2.0",
      "model_name": "LayoutModel",
      "state": {}
     },
     "834f59f75f5c4b41a410f556552692ab": {
      "model_module": "@jupyter-widgets/controls",
      "model_module_version": "1.5.0",
      "model_name": "IntSliderModel",
      "state": {
       "description": "x",
       "layout": "IPY_MODEL_38015870dccc49c3bb34b3470437923e",
       "max": 30,
       "min": -10,
       "style": "IPY_MODEL_a9a8f58a16c24309bdc33e50e96e19c5",
       "value": 21
      }
     },
     "9d1d446972a041c5873021e0d71cbaa2": {
      "model_module": "jupyter-threejs",
      "model_module_version": "^2.1.0",
      "model_name": "BoxGeometryModel",
      "state": {
       "_view_module": null,
       "_view_module_version": "",
       "depth": 15,
       "depthSegments": 15,
       "height": 10,
       "heightSegments": 10,
       "width": 5,
       "widthSegments": 5
      }
     },
     "9d358c42929742229bbf25c0ad7c642a": {
      "model_module": "jupyter_cadquery",
      "model_module_version": "^v1.0.0",
      "model_name": "ImageButtonModel",
      "state": {
       "_model_module_version": "^v1.0.0",
       "_view_module_version": "^v1.0.0",
       "height": "28",
       "layout": "IPY_MODEL_c9cc5497b7c84fa6a6c2015fbe578edb",
       "style": "IPY_MODEL_db69c4766c7848b88cfc5499d8737752",
       "tooltip": "Change view to fit",
       "type": "fit",
       "value": {},
       "width": "36"
      }
     },
     "a584cf336f3f4b80a250ff79bb02dd57": {
      "model_module": "@jupyter-widgets/jupyterlab-sidecar",
      "model_module_version": "1.0.0",
      "model_name": "SidecarModel",
      "state": {
       "layout": "IPY_MODEL_a92c654ba61048ff88a6299920c74cfb",
       "outputs": [
        {
         "data": {
          "application/vnd.jupyter.widget-view+json": {
           "model_id": "fe87044206c84c82aa5e495ccb6c4e2a",
           "version_major": 2,
           "version_minor": 0
          },
          "text/plain": "IntSlider(value=0, description='Some slider')"
         },
         "metadata": {},
         "output_type": "display_data"
        }
       ],
       "title": "Sidecar Output"
      }
     },
     "a92c654ba61048ff88a6299920c74cfb": {
      "model_module": "@jupyter-widgets/base",
      "model_module_version": "1.2.0",
      "model_name": "LayoutModel",
      "state": {}
     },
     "a9a8f58a16c24309bdc33e50e96e19c5": {
      "model_module": "@jupyter-widgets/controls",
      "model_module_version": "1.5.0",
      "model_name": "SliderStyleModel",
      "state": {
       "description_width": ""
      }
     },
     "aaed3ffbd2ab4176806d28203aa44a19": {
      "model_module": "jupyter_cadquery",
      "model_module_version": "^v1.0.0",
      "model_name": "ImageButtonModel",
      "state": {
       "_model_module_version": "^v1.0.0",
       "_view_module_version": "^v1.0.0",
       "height": "28",
       "layout": "IPY_MODEL_2f4a39488631469e9bb2f4788a79841d",
       "style": "IPY_MODEL_587d0990f4ec430991efaa2484d0a4f5",
       "tooltip": "Change view to isometric",
       "type": "isometric",
       "value": {},
       "width": "36"
      }
     },
     "b8b3edc9f5dd4fb3bd67879599b017d7": {
      "model_module": "@jupyter-widgets/base",
      "model_module_version": "1.2.0",
      "model_name": "LayoutModel",
      "state": {
       "height": "300px",
       "overflow_x": "scroll",
       "overflow_y": "scroll",
       "width": "800px"
      }
     },
     "c9cc5497b7c84fa6a6c2015fbe578edb": {
      "model_module": "@jupyter-widgets/base",
      "model_module_version": "1.2.0",
      "model_name": "LayoutModel",
      "state": {}
     },
     "cdf3a39a26ff445fb92722416b166e95": {
      "model_module": "@jupyter-widgets/base",
      "model_module_version": "1.2.0",
      "model_name": "LayoutModel",
      "state": {}
     },
     "d72133bf174e4585a43ddd569fe8388c": {
      "model_module": "@jupyter-widgets/base",
      "model_module_version": "1.2.0",
      "model_name": "LayoutModel",
      "state": {}
     },
     "db69c4766c7848b88cfc5499d8737752": {
      "model_module": "@jupyter-widgets/controls",
      "model_module_version": "1.5.0",
      "model_name": "ButtonStyleModel",
      "state": {}
     },
     "e7fa8e5bc48f40c68e5f8ea3448bcb34": {
      "model_module": "@jupyter-widgets/controls",
      "model_module_version": "1.5.0",
      "model_name": "HBoxModel",
      "state": {
       "children": [
        "IPY_MODEL_2be5c2aac0914a54ab6c104c71066f67",
        "IPY_MODEL_389e5591f82543029e572116bf19d558"
       ],
       "layout": "IPY_MODEL_cdf3a39a26ff445fb92722416b166e95"
      }
     },
     "ec3247df9dbd47858b38c25518788b0b": {
      "model_module": "@jupyter-widgets/output",
      "model_module_version": "1.0.0",
      "model_name": "OutputModel",
      "state": {
       "layout": "IPY_MODEL_d72133bf174e4585a43ddd569fe8388c",
       "outputs": [
        {
         "name": "stdout",
         "output_type": "stream",
         "text": "Pressed fit\nPressed isometric\n"
        }
       ]
      }
     },
     "f08fb9e1074f45b8aa2501dbbe916d78": {
      "model_module": "@jupyter-widgets/base",
      "model_module_version": "1.2.0",
      "model_name": "LayoutModel",
      "state": {}
     },
     "f63b3875408c49539b513cb238591881": {
      "model_module": "@jupyter-widgets/controls",
      "model_module_version": "1.5.0",
      "model_name": "VBoxModel",
      "state": {
       "_dom_classes": [
        "widget-interact"
       ],
       "children": [
        "IPY_MODEL_834f59f75f5c4b41a410f556552692ab",
        "IPY_MODEL_2d07f96b30bf474cb97d6b257f51c5c0"
       ],
       "layout": "IPY_MODEL_0a483f0d84a24b94bfd38a1eba56f0e6"
      }
     },
     "fe87044206c84c82aa5e495ccb6c4e2a": {
      "model_module": "@jupyter-widgets/controls",
      "model_module_version": "1.5.0",
      "model_name": "IntSliderModel",
      "state": {
       "description": "Some slider",
       "layout": "IPY_MODEL_5d33002d6df44458bff6c57a5db465ef",
       "style": "IPY_MODEL_239da8f8b0ca4fe3a5ecf039607624ad"
      }
     }
    },
    "version_major": 2,
    "version_minor": 0
   }
  }
 },
 "nbformat": 4,
 "nbformat_minor": 4
}
