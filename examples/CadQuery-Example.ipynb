{
 "cells": [
  {
   "cell_type": "code",
   "execution_count": 1,
   "metadata": {
    "ExecuteTime": {
     "end_time": "2019-03-29T17:16:11.010132Z",
     "start_time": "2019-03-29T17:16:10.997047Z"
    }
   },
   "outputs": [
    {
     "data": {
      "text/html": [
       "<style>.container { width:95% !important; }</style>"
      ],
      "text/plain": [
       "<IPython.core.display.HTML object>"
      ]
     },
     "metadata": {},
     "output_type": "display_data"
    }
   ],
   "source": [
    "from IPython.core.display import display, HTML\n",
    "display(HTML(\"<style>.container { width:95% !important; }</style>\"))"
   ]
  },
  {
   "cell_type": "code",
   "execution_count": 3,
   "metadata": {
    "ExecuteTime": {
     "end_time": "2019-03-29T17:16:16.106257Z",
     "start_time": "2019-03-29T17:16:16.103001Z"
    }
   },
   "outputs": [],
   "source": [
    "import cadquery as cq\n",
    "from cq_jupyter import Assembly, Part, Edges, Faces, display, exportSTL"
   ]
  },
  {
   "cell_type": "markdown",
   "metadata": {},
   "source": [
    "# CadQuery Example"
   ]
  },
  {
   "cell_type": "code",
   "execution_count": 4,
   "metadata": {
    "ExecuteTime": {
     "end_time": "2019-03-29T17:16:17.924148Z",
     "start_time": "2019-03-29T17:16:17.490312Z"
    }
   },
   "outputs": [
    {
     "name": "stdout",
     "output_type": "stream",
     "text": [
      "View id: 6b9f09dc-0766-4675-8b6f-4766924c4bac\n"
     ]
    },
    {
     "data": {
      "text/html": [
       "<script>\n",
       "    // initialize once\n",
       "    if(typeof window.cqJupyter === \"undefined\") {\n",
       "        console.log(\"Initializing CqJupyter\")\n",
       "        window.cqJupyter = new CqJupyter()\n",
       "    }\n",
       "    data = [\n",
       "  {\n",
       "    \"type\": \"assembly\",\n",
       "    \"name\": \"assembly\",\n",
       "    \"id\": 2,\n",
       "    \"shape\": 1,\n",
       "    \"mesh\": 1,\n",
       "    \"children\": [\n",
       "      {\n",
       "        \"type\": \"part\",\n",
       "        \"name\": \"part\",\n",
       "        \"id\": 1,\n",
       "        \"x3d_name\": \"shape1\",\n",
       "        \"color\": \"rgba(229, 229, 229, 0.6)\",\n",
       "        \"shape\": 1,\n",
       "        \"mesh\": 1\n",
       "      }\n",
       "    ]\n",
       "  }\n",
       "];\n",
       "    navTree($, \"6b9f09dc-0766-4675-8b6f-4766924c4bac\", data, window.cqJupyter);\n",
       "</script>\n",
       "\n",
       "<div style='height: 500px; width: 100%;' width='100%' height='500px' id='cq_viewer_6b9f09dc-0766-4675-8b6f-4766924c4bac'>\n",
       "    <div class=\"Row\" id='cq_viewer_row_6b9f09dc-0766-4675-8b6f-4766924c4bac'>\n",
       "        <div class=\"NavColumn shaded bordered\" id='cq_nav_column_6b9f09dc-0766-4675-8b6f-4766924c4bac'>\n",
       "            <div class=\"NavTitle\">PARTS</div>\n",
       "            <div class=\"NavEntries\"><div id=\"tree-6b9f09dc-0766-4675-8b6f-4766924c4bac\"></div></div>\n",
       "        </div>\n",
       "        <div class=\"ViewerColumn\" id='cq_x3d_column_6b9f09dc-0766-4675-8b6f-4766924c4bac'>\n",
       "            <div class=\"shaded bordered\">\n",
       "                <span class=\"IconWrapper borderedDark\" onclick=\"cqJupyter.refit('6b9f09dc-0766-4675-8b6f-4766924c4bac')\">     <img class=\"Icon\" src=\"/nbextensions/cq_jupyter/imgs/fit.png\"/> </span>\n",
       "                <span class=\"IconWrapper borderedDark\" onclick=\"cqJupyter.isometric('6b9f09dc-0766-4675-8b6f-4766924c4bac')\"> <img class=\"Icon\" src=\"/nbextensions/cq_jupyter/imgs/isometric.png\"/> </span>\n",
       "                <span class=\"IconWrapper borderedDark\" onclick=\"cqJupyter.front('6b9f09dc-0766-4675-8b6f-4766924c4bac')\">     <img class=\"Icon\" src=\"/nbextensions/cq_jupyter/imgs/front.png\"/> </span>\n",
       "                <span class=\"IconWrapper borderedDark\" onclick=\"cqJupyter.right('6b9f09dc-0766-4675-8b6f-4766924c4bac')\">     <img class=\"Icon\" src=\"/nbextensions/cq_jupyter/imgs/right.png\"/> </span>\n",
       "                <span class=\"IconWrapper borderedDark\" onclick=\"cqJupyter.rear('6b9f09dc-0766-4675-8b6f-4766924c4bac')\">      <img class=\"Icon\" src=\"/nbextensions/cq_jupyter/imgs/rear.png\"/> </span>\n",
       "                <span class=\"IconWrapper borderedDark\" onclick=\"cqJupyter.left('6b9f09dc-0766-4675-8b6f-4766924c4bac')\">      <img class=\"Icon\" src=\"/nbextensions/cq_jupyter/imgs/left.png\"/> </span>\n",
       "                <span class=\"IconWrapper borderedDark\" onclick=\"cqJupyter.top('6b9f09dc-0766-4675-8b6f-4766924c4bac')\">       <img class=\"Icon\" src=\"/nbextensions/cq_jupyter/imgs/top.png\"/> </span>\n",
       "                <span class=\"IconWrapper borderedDark\" onclick=\"cqJupyter.bottom('6b9f09dc-0766-4675-8b6f-4766924c4bac')\">    <img class=\"Icon\" src=\"/nbextensions/cq_jupyter/imgs/bottom.png\"/> </span>\n",
       "            </div>\n",
       "            <x3d class=\"cqviewer bordered\" style='height: 400px; width: 100%;' id='6b9f09dc-0766-4675-8b6f-4766924c4bac' width='100%'>\n",
       "                <scene>\n",
       "                    \n",
       "                    <OrthoViewpoint id='6b9f09dc-0766-4675-8b6f-4766924c4bac_iso_view'\n",
       "                               centerOfRotation='0.0 0.0 0.0'\n",
       "                               position='0.7703137888765418 -0.7703137888765416 1.5406275777530838'\n",
       "                               orientation='0.5902844985873288 0.2445038449734737 0.769273735753856 0.9878610573978007'\n",
       "                               fieldOfView='-1.886876 -1.886876 1.886876 1.886876'>\n",
       "                    </OrthoViewpoint>\n",
       "                    \n",
       "                    <OrthoViewpoint id='6b9f09dc-0766-4675-8b6f-4766924c4bac_top_view'\n",
       "                               centerOfRotation='0.0 0.0 0.0'\n",
       "                               position='0.0 0.0 1.8868757245775356'\n",
       "                               orientation='0.0 0.0 1.0 0.0'\n",
       "                               fieldOfView='-1.886876 -1.886876 1.886876 1.886876'>\n",
       "                    </OrthoViewpoint>\n",
       "                    \n",
       "                    <OrthoViewpoint id='6b9f09dc-0766-4675-8b6f-4766924c4bac_bottom_view'\n",
       "                               centerOfRotation='0.0 0.0 0.0'\n",
       "                               position='0.0 -1.0690167812621744e-15 -1.8868757245775356'\n",
       "                               orientation='1.0 0.0 0.0 3.1415926535897927'\n",
       "                               fieldOfView='-1.886876 -1.886876 1.886876 1.886876'>\n",
       "                    </OrthoViewpoint>\n",
       "                    \n",
       "                    <OrthoViewpoint id='6b9f09dc-0766-4675-8b6f-4766924c4bac_front_view'\n",
       "                               centerOfRotation='0.0 0.0 0.0'\n",
       "                               position='0.0 -1.886875724577536 6.284558622096766e-16'\n",
       "                               orientation='1.0 0.0 0.0 1.5707963267948963'\n",
       "                               fieldOfView='-1.886876 -1.886876 1.886876 1.886876'>\n",
       "                    </OrthoViewpoint>\n",
       "                    \n",
       "                    <OrthoViewpoint id='6b9f09dc-0766-4675-8b6f-4766924c4bac_rear_view'\n",
       "                               centerOfRotation='0.0 0.0 0.0'\n",
       "                               position='2.7893296193080125e-16 1.8868757245775356 4.189705748064511e-16'\n",
       "                               orientation='4.329780281177466e-17 0.7071067811865475 0.7071067811865476 3.141592653589793'\n",
       "                               fieldOfView='-1.886876 -1.886876 1.886876 1.886876'>\n",
       "                    </OrthoViewpoint>\n",
       "                    \n",
       "                    <OrthoViewpoint id='6b9f09dc-0766-4675-8b6f-4766924c4bac_left_view'\n",
       "                               centerOfRotation='0.0 0.0 0.0'\n",
       "                               position='1.8868757245775356 -3.142279311048383e-16 3.142279311048383e-16'\n",
       "                               orientation='0.5773502691896258 0.5773502691896257 0.5773502691896258 2.0943951023931953'\n",
       "                               fieldOfView='-1.886876 -1.886876 1.886876 1.886876'>\n",
       "                    </OrthoViewpoint>\n",
       "                    \n",
       "                    <OrthoViewpoint id='6b9f09dc-0766-4675-8b6f-4766924c4bac_right_view'\n",
       "                               centerOfRotation='0.0 0.0 0.0'\n",
       "                               position='-1.8868757245775356 -3.142279311048383e-16 3.142279311048383e-16'\n",
       "                               orientation='0.5773502691896258 -0.5773502691896257 -0.5773502691896258 2.0943951023931953'\n",
       "                               fieldOfView='-1.886876 -1.886876 1.886876 1.886876'>\n",
       "                    </OrthoViewpoint>\n",
       "                    \n",
       "\n",
       "                    <Switch id=\"switch_shape1\" whichChoice=\"0\"><Transform scale=\"1 1 1\"><Shape DEF=\"shape1\" onclick=\"select(this);\"><Appearance>\n",
       "<Material diffuseColor=\"0.9 0.9 0.9\" id=\"color\" shininess=\"0.4\" specularColor=\"0.9 0.9 0.9\" transparency=\"0.4\">\n",
       "</Material>\n",
       "</Appearance>\n",
       "<TriangleSet solid=\"false\">\n",
       "<Coordinate point=\"-0.5 0.8 -1.3 -0.5 -0.2 -1 -0.5 0.8 -1 -0.5 0.75307 0.996306 -0.5 0.8 1.3 -0.5 0.8 1 -0.5 0.707295 0.985317 -0.5 0.8 1.3 -0.5 0.75307 0.996306 -0.5 0.663803 0.967302 -0.5 0.8 1.3 -0.5 0.707295 0.985317 -0.5 0.623664 0.942705 -0.5 0.8 1.3 -0.5 0.663803 0.967302 -0.5 0.587868 0.912132 -0.5 0.8 1.3 -0.5 0.623664 0.942705 -0.5 0.557295 0.876336 -0.5 -0.8 1.3 -0.5 0.587868 0.912132 -0.5 0.532698 0.836197 -0.5 -0.8 1.3 -0.5 0.557295 0.876336 -0.5 0.514683 0.792705 -0.5 -0.8 1.3 -0.5 0.532698 0.836197 -0.5 0.503694 0.74693 -0.5 -0.8 1.3 -0.5 0.514683 0.792705 -0.5 0.5 0.7 -0.5 -0.8 1.3 -0.5 0.503694 0.74693 -0.5 0.5 0.4 -0.5 -0.8 1.3 -0.5 0.5 0.7 -0.5 -0.5 -0.4 -0.5 -0.8 1.3 -0.5 0.5 0.4 -0.5 0.587868 0.912132 -0.5 -0.8 1.3 -0.5 0.8 1.3 -0.5 -0.8 -1.3 -0.5 -0.8 1.3 -0.5 -0.5 -0.4 -0.5 -0.376336 -0.942705 -0.5 -0.8 -1.3 -0.5 -0.412132 -0.912132 -0.5 -0.336197 -0.967302 -0.5 -0.8 -1.3 -0.5 -0.376336 -0.942705 -0.5 -0.292705 -0.985317 -0.5 -0.8 -1.3 -0.5 -0.336197 -0.967302 -0.5 -0.24693 -0.996306 -0.5 -0.8 -1.3 -0.5 -0.292705 -0.985317 -0.5 -0.2 -1 -0.5 -0.8 -1.3 -0.5 -0.24693 -0.996306 -0.5 0.8 -1.3 -0.5 -0.8 -1.3 -0.5 -0.2 -1 -0.5 -0.8 -1.3 -0.5 -0.442705 -0.876336 -0.5 -0.412132 -0.912132 -0.5 -0.8 -1.3 -0.5 -0.467302 -0.836197 -0.5 -0.442705 -0.876336 -0.5 -0.8 -1.3 -0.5 -0.485317 -0.792705 -0.5 -0.467302 -0.836197 -0.5 -0.8 -1.3 -0.5 -0.496307 -0.74693 -0.5 -0.485317 -0.792705 -0.5 -0.8 -1.3 -0.5 -0.5 -0.7 -0.5 -0.496307 -0.74693 -0.5 0.8 -0.4 -0.5 0.5 0.4 -0.5 0.8 0.4 -0.5 0.8 -0.4 -0.5 -0.5 -0.4 -0.5 0.5 0.4 -0.5 -0.8 -1.3 -0.5 -0.5 -0.4 -0.5 -0.5 -0.7 -0.3 -1 -1.5 -0.3 -1 1.5 -0.5 -0.8 -1.3 -0.5 -0.8 -1.3 -0.3 -1 1.5 -0.5 -0.8 1.3 -0.3 -1 1.5 -0.3 1 1.5 -0.5 -0.8 1.3 -0.5 -0.8 1.3 -0.3 1 1.5 -0.5 0.8 1.3 -0.5 0.8 1.3 -0.3 1 1 -0.5 0.8 1 -0.3 1 1.5 -0.3 1 1 -0.5 0.8 1.3 0.5 0.503694 0.74693 0.5 0.5 0.7 -0.5 0.5 0.7 0.5 0.503694 0.74693 -0.5 0.5 0.7 -0.5 0.503694 0.74693 0.5 0.514683 0.792705 -0.5 0.503694 0.74693 -0.5 0.514683 0.792705 0.5 0.514683 0.792705 0.5 0.503694 0.74693 -0.5 0.503694 0.74693 0.5 0.532698 0.836197 -0.5 0.514683 0.792705 -0.5 0.532698 0.836197 0.5 0.532698 0.836197 0.5 0.514683 0.792705 -0.5 0.514683 0.792705 0.5 0.557295 0.876336 -0.5 0.532698 0.836197 -0.5 0.557295 0.876336 0.5 0.557295 0.876336 0.5 0.532698 0.836197 -0.5 0.532698 0.836197 0.5 0.587868 0.912132 -0.5 0.557295 0.876336 -0.5 0.587868 0.912132 0.5 0.587868 0.912132 0.5 0.557295 0.876336 -0.5 0.557295 0.876336 0.5 0.623664 0.942705 -0.5 0.587868 0.912132 -0.5 0.623664 0.942705 0.5 0.623664 0.942705 0.5 0.587868 0.912132 -0.5 0.587868 0.912132 0.5 0.663803 0.967302 -0.5 0.623664 0.942705 -0.5 0.663803 0.967302 0.5 0.663803 0.967302 0.5 0.623664 0.942705 -0.5 0.623664 0.942705 0.5 0.707295 0.985317 -0.5 0.663803 0.967302 -0.5 0.707295 0.985317 0.5 0.707295 0.985317 0.5 0.663803 0.967302 -0.5 0.663803 0.967302 0.5 0.75307 0.996306 -0.5 0.707295 0.985317 -0.5 0.75307 0.996306 0.5 0.75307 0.996306 0.5 0.707295 0.985317 -0.5 0.707295 0.985317 0.5 0.8 1 -0.5 0.75307 0.996306 -0.5 0.8 1 0.5 0.8 1 0.5 0.75307 0.996306 -0.5 0.75307 0.996306 0.5 0.5 0.7 -0.5 0.5 0.4 -0.5 0.5 0.7 0.5 0.5 0.7 0.5 0.5 0.4 -0.5 0.5 0.4 -0.3 1 0.4 -0.5 0.8 0.4 -0.5 0.5 0.4 0.3 1 0.4 0.5 0.5 0.4 0.5 0.8 0.4 0.3 1 0.4 -0.5 0.5 0.4 0.5 0.5 0.4 0.3 1 0.4 -0.3 1 0.4 -0.5 0.5 0.4 -0.3 1 0.4 -0.3 1 -0.4 -0.5 0.8 -0.4 -0.3 1 0.4 -0.5 0.8 -0.4 -0.5 0.8 0.4 -0.5 0.8 -0.4 0.5 0.8 -0.4 -0.5 -0.5 -0.4 -0.5 -0.5 -0.4 0.5 0.8 -0.4 0.5 -0.5 -0.4 -0.3 1 -0.4 0.3 1 -0.4 -0.5 0.8 -0.4 -0.5 0.8 -0.4 0.3 1 -0.4 0.5 0.8 -0.4 0.5 -0.5 -0.4 -0.5 -0.5 -0.7 -0.5 -0.5 -0.4 0.5 -0.5 -0.4 0.5 -0.5 -0.7 -0.5 -0.5 -0.7 0.5 -0.5 -0.7 0.5 -0.496307 -0.74693 -0.5 -0.5 -0.7 -0.5 -0.5 -0.7 0.5 -0.496307 -0.74693 -0.5 -0.496307 -0.74693 -0.5 -0.496307 -0.74693 0.5 -0.485317 -0.792705 -0.5 -0.485317 -0.792705 0.5 -0.496307 -0.74693 0.5 -0.485317 -0.792705 -0.5 -0.496307 -0.74693 -0.5 -0.485317 -0.792705 0.5 -0.467302 -0.836197 -0.5 -0.467302 -0.836197 0.5 -0.485317 -0.792705 0.5 -0.467302 -0.836197 -0.5 -0.485317 -0.792705 -0.5 -0.467302 -0.836197 0.5 -0.442705 -0.876336 -0.5 -0.442705 -0.876336 0.5 -0.467302 -0.836197 0.5 -0.442705 -0.876336 -0.5 -0.467302 -0.836197 -0.5 -0.442705 -0.876336 0.5 -0.412132 -0.912132 -0.5 -0.412132 -0.912132 0.5 -0.442705 -0.876336 0.5 -0.412132 -0.912132 -0.5 -0.442705 -0.876336 -0.5 -0.412132 -0.912132 0.5 -0.376336 -0.942705 -0.5 -0.376336 -0.942705 0.5 -0.412132 -0.912132 0.5 -0.376336 -0.942705 -0.5 -0.412132 -0.912132 -0.5 -0.376336 -0.942705 0.5 -0.336197 -0.967302 -0.5 -0.336197 -0.967302 0.5 -0.376336 -0.942705 0.5 -0.336197 -0.967302 -0.5 -0.376336 -0.942705 -0.5 -0.336197 -0.967302 0.5 -0.292705 -0.985317 -0.5 -0.292705 -0.985317 0.5 -0.336197 -0.967302 0.5 -0.292705 -0.985317 -0.5 -0.336197 -0.967302 -0.5 -0.292705 -0.985317 0.5 -0.24693 -0.996306 -0.5 -0.24693 -0.996306 0.5 -0.292705 -0.985317 0.5 -0.24693 -0.996306 -0.5 -0.292705 -0.985317 -0.5 -0.24693 -0.996306 0.5 -0.2 -1 -0.5 -0.2 -1 0.5 -0.24693 -0.996306 0.5 -0.2 -1 -0.5 -0.24693 -0.996306 0.5 0.8 -1 -0.5 0.8 -1 -0.5 -0.2 -1 0.5 0.8 -1 -0.5 -0.2 -1 0.5 -0.2 -1 0.3 1 -1 -0.3 1 -1 -0.5 0.8 -1 0.3 1 -1 -0.5 0.8 -1 0.5 0.8 -1 -0.3 1 -1 -0.3 1 -1.5 -0.5 0.8 -1.3 -0.3 1 -1 -0.5 0.8 -1.3 -0.5 0.8 -1 -0.3 1 -1.5 -0.3 -1 -1.5 -0.5 -0.8 -1.3 -0.3 1 -1.5 -0.5 -0.8 -1.3 -0.5 0.8 -1.3 0.3 -1 -1.5 0.3 -1 1.5 -0.3 -1 -1.5 -0.3 -1 -1.5 0.3 -1 1.5 -0.3 -1 1.5 0.3 1 1.5 -0.3 1 1.5 -0.3 -1 1.5 0.3 1 1.5 -0.3 -1 1.5 0.3 -1 1.5 -0.3 1 1 0.5 0.8 1 -0.5 0.8 1 0.3 1 1 0.5 0.8 1 -0.3 1 1 0.3 1 1.5 0.3 1 1 -0.3 1 1 0.3 1 1.5 -0.3 1 1 -0.3 1 1.5 0.5 -0.2 -1 0.5 0.8 -1.3 0.5 0.8 -1 0.5 0.8 1.3 0.5 0.75307 0.996306 0.5 0.8 1 0.5 0.8 1.3 0.5 0.707295 0.985317 0.5 0.75307 0.996306 0.5 0.8 1.3 0.5 0.663803 0.967302 0.5 0.707295 0.985317 0.5 0.8 1.3 0.5 0.623664 0.942705 0.5 0.663803 0.967302 0.5 0.8 1.3 0.5 0.587868 0.912132 0.5 0.623664 0.942705 0.5 -0.8 1.3 0.5 0.557295 0.876336 0.5 0.587868 0.912132 0.5 -0.8 1.3 0.5 0.532698 0.836197 0.5 0.557295 0.876336 0.5 -0.8 1.3 0.5 0.514683 0.792705 0.5 0.532698 0.836197 0.5 -0.8 1.3 0.5 0.503694 0.74693 0.5 0.514683 0.792705 0.5 -0.8 1.3 0.5 0.5 0.7 0.5 0.503694 0.74693 0.5 -0.8 1.3 0.5 0.5 0.4 0.5 0.5 0.7 0.5 -0.8 1.3 0.5 -0.5 -0.4 0.5 0.5 0.4 0.5 -0.8 1.3 0.5 0.587868 0.912132 0.5 0.8 1.3 0.5 -0.8 1.3 0.5 -0.8 -1.3 0.5 -0.5 -0.4 0.5 -0.8 -1.3 0.5 -0.376336 -0.942705 0.5 -0.412132 -0.912132 0.5 -0.8 -1.3 0.5 -0.336197 -0.967302 0.5 -0.376336 -0.942705 0.5 -0.8 -1.3 0.5 -0.292705 -0.985317 0.5 -0.336197 -0.967302 0.5 -0.8 -1.3 0.5 -0.24693 -0.996306 0.5 -0.292705 -0.985317 0.5 -0.8 -1.3 0.5 -0.2 -1 0.5 -0.24693 -0.996306 0.5 -0.8 -1.3 0.5 0.8 -1.3 0.5 -0.2 -1 0.5 -0.442705 -0.876336 0.5 -0.8 -1.3 0.5 -0.412132 -0.912132 0.5 -0.467302 -0.836197 0.5 -0.8 -1.3 0.5 -0.442705 -0.876336 0.5 -0.485317 -0.792705 0.5 -0.8 -1.3 0.5 -0.467302 -0.836197 0.5 -0.496307 -0.74693 0.5 -0.8 -1.3 0.5 -0.485317 -0.792705 0.5 -0.5 -0.7 0.5 -0.8 -1.3 0.5 -0.496307 -0.74693 0.5 0.5 0.4 0.5 0.8 -0.4 0.5 0.8 0.4 0.5 -0.5 -0.4 0.5 0.8 -0.4 0.5 0.5 0.4 0.5 -0.5 -0.4 0.5 -0.8 -1.3 0.5 -0.5 -0.7 0.3 1 0.4 0.3 1 -0.4 -0.3 1 -0.4 0.3 1 0.4 -0.3 1 -0.4 -0.3 1 0.4 0.3 1 -0.4 0.3 1 0.4 0.5 0.8 -0.4 0.5 0.8 -0.4 0.3 1 0.4 0.5 0.8 0.4 0.3 1 -1 0.3 1 -1.5 -0.3 1 -1.5 0.3 1 -1 -0.3 1 -1.5 -0.3 1 -1 0.3 1 -1.5 0.3 1 -1 0.5 0.8 -1.3 0.5 0.8 -1.3 0.3 1 -1 0.5 0.8 -1 -0.3 1 -1.5 0.3 1 -1.5 -0.3 -1 -1.5 -0.3 -1 -1.5 0.3 1 -1.5 0.3 -1 -1.5 0.3 -1 1.5 0.3 -1 -1.5 0.5 -0.8 -1.3 0.3 -1 1.5 0.5 -0.8 -1.3 0.5 -0.8 1.3 0.3 1 1.5 0.3 -1 1.5 0.5 -0.8 1.3 0.3 1 1.5 0.5 -0.8 1.3 0.5 0.8 1.3 0.3 1 1 0.5 0.8 1.3 0.5 0.8 1 0.3 1 1 0.3 1 1.5 0.5 0.8 1.3 0.3 -1 -1.5 0.3 1 -1.5 0.5 -0.8 -1.3 0.5 -0.8 -1.3 0.3 1 -1.5 0.5 0.8 -1.3 \"></Coordinate>\n",
       "<Normal vector=\"-1 0 0 -1 0 0 -1 0 0 -1 0 0 -1 0 0 -1 0 0 -1 0 0 -1 0 0 -1 0 0 -1 0 0 -1 0 0 -1 0 0 -1 0 0 -1 0 0 -1 0 0 -1 0 0 -1 0 0 -1 0 0 -1 0 0 -1 0 0 -1 0 0 -1 0 0 -1 0 0 -1 0 0 -1 0 0 -1 0 0 -1 0 0 -1 0 0 -1 0 0 -1 0 0 -1 0 0 -1 0 0 -1 0 0 -1 0 0 -1 0 0 -1 0 0 -1 0 0 -1 0 0 -1 0 0 -1 0 0 -1 0 0 -1 0 0 -1 0 0 -1 0 0 -1 0 0 -1 0 0 -1 0 0 -1 0 0 -1 0 0 -1 0 0 -1 0 0 -1 0 0 -1 0 0 -1 0 0 -1 0 0 -1 0 0 -1 0 0 -1 0 0 -1 0 0 -1 0 0 -1 0 0 -1 0 0 -1 0 0 -1 0 0 -1 0 0 -1 0 0 -1 0 0 -1 0 0 -1 0 0 -1 0 0 -1 0 0 -1 0 0 -1 0 0 -1 0 0 -1 0 0 -1 0 0 -1 0 0 -1 0 0 -1 0 0 -1 0 0 -1 0 0 -1 0 0 -1 0 0 -1 0 0 -1 0 0 -1 0 0 -1 0 0 -0.707107 -0.707107 0 -0.707107 -0.707107 0 -0.707107 -0.707107 0 -0.707107 -0.707107 0 -0.707107 -0.707107 0 -0.707107 -0.707107 0 -0.707107 0 0.707107 -0.707107 0 0.707107 -0.707107 0 0.707107 -0.707107 0 0.707107 -0.707107 0 0.707107 -0.707107 0 0.707107 -0.707107 0.707107 0 -0.707107 0.707107 0 -0.707107 0.707107 0 -0.707107 0.707107 0 -0.707107 0.707107 0 -0.707107 0.707107 0 0 0.987688 -0.156434 0 1 0 0 1 0 0 0.987688 -0.156434 0 1 0 0 0.987688 -0.156434 0 0.951057 -0.309017 0 0.987688 -0.156434 0 0.951057 -0.309017 0 0.951057 -0.309017 0 0.987688 -0.156434 0 0.987688 -0.156434 0 0.891007 -0.45399 0 0.951057 -0.309017 0 0.891007 -0.45399 0 0.891007 -0.45399 0 0.951057 -0.309017 0 0.951057 -0.309017 0 0.809017 -0.587785 0 0.891007 -0.45399 0 0.809017 -0.587785 0 0.809017 -0.587785 0 0.891007 -0.45399 0 0.891007 -0.45399 0 0.707107 -0.707107 0 0.809017 -0.587785 0 0.707107 -0.707107 0 0.707107 -0.707107 0 0.809017 -0.587785 0 0.809017 -0.587785 0 0.587785 -0.809017 0 0.707107 -0.707107 0 0.587785 -0.809017 0 0.587785 -0.809017 0 0.707107 -0.707107 0 0.707107 -0.707107 0 0.45399 -0.891007 0 0.587785 -0.809017 0 0.45399 -0.891007 0 0.45399 -0.891007 0 0.587785 -0.809017 0 0.587785 -0.809017 0 0.309017 -0.951057 0 0.45399 -0.891007 0 0.309017 -0.951057 0 0.309017 -0.951057 0 0.45399 -0.891007 0 0.45399 -0.891007 0 0.156434 -0.987688 0 0.309017 -0.951057 0 0.156434 -0.987688 0 0.156434 -0.987688 0 0.309017 -0.951057 0 0.309017 -0.951057 0 0 -1 0 0.156434 -0.987688 0 0 -1 0 0 -1 0 0.156434 -0.987688 0 0.156434 -0.987688 0 1 0 0 1 0 0 1 0 0 1 0 0 1 0 0 1 0 0 0 1 0 0 1 0 0 1 0 0 1 0 0 1 0 0 1 0 0 1 0 0 1 0 0 1 0 0 1 0 0 1 0 0 1 -0.707107 0.707107 0 -0.707107 0.707107 0 -0.707107 0.707107 0 -0.707107 0.707107 0 -0.707107 0.707107 0 -0.707107 0.707107 0 0 0 -1 0 0 -1 0 0 -1 0 0 -1 0 0 -1 0 0 -1 0 0 -1 0 0 -1 0 0 -1 0 0 -1 0 0 -1 0 0 -1 0 1 0 0 1 0 0 1 0 0 1 0 0 1 0 0 1 0 0 1 0 0 0.987688 0.156434 0 1 0 0 1 0 0 0.987688 0.156434 0 0.987688 0.156434 0 0.987688 0.156434 0 0.951057 0.309017 0 0.951057 0.309017 0 0.987688 0.156434 0 0.951057 0.309017 0 0.987688 0.156434 0 0.951057 0.309017 0 0.891007 0.45399 0 0.891007 0.45399 0 0.951057 0.309017 0 0.891007 0.45399 0 0.951057 0.309017 0 0.891007 0.45399 0 0.809017 0.587785 0 0.809017 0.587785 0 0.891007 0.45399 0 0.809017 0.587785 0 0.891007 0.45399 0 0.809017 0.587785 0 0.707107 0.707107 0 0.707107 0.707107 0 0.809017 0.587785 0 0.707107 0.707107 0 0.809017 0.587785 0 0.707107 0.707107 0 0.587785 0.809017 0 0.587785 0.809017 0 0.707107 0.707107 0 0.587785 0.809017 0 0.707107 0.707107 0 0.587785 0.809017 0 0.45399 0.891007 0 0.45399 0.891007 0 0.587785 0.809017 0 0.45399 0.891007 0 0.587785 0.809017 0 0.45399 0.891007 0 0.309017 0.951057 0 0.309017 0.951057 0 0.45399 0.891007 0 0.309017 0.951057 0 0.45399 0.891007 0 0.309017 0.951057 0 0.156434 0.987688 0 0.156434 0.987688 0 0.309017 0.951057 0 0.156434 0.987688 0 0.309017 0.951057 0 0.156434 0.987688 0 0 1 0 0 1 0 0.156434 0.987688 0 0 1 0 0.156434 0.987688 0 0 1 0 0 1 0 0 1 0 0 1 0 0 1 0 0 1 0 0 1 0 0 1 0 0 1 0 0 1 0 0 1 0 0 1 -0.707107 0.707107 0 -0.707107 0.707107 0 -0.707107 0.707107 0 -0.707107 0.707107 0 -0.707107 0.707107 0 -0.707107 0.707107 0 -0.707107 0 -0.707107 -0.707107 0 -0.707107 -0.707107 0 -0.707107 -0.707107 0 -0.707107 -0.707107 0 -0.707107 -0.707107 0 -0.707107 0 -1 0 0 -1 0 0 -1 0 0 -1 0 0 -1 0 0 -1 0 0 0 1 0 0 1 0 0 1 0 0 1 0 0 1 0 0 1 0 0 -1 0 0 -1 0 0 -1 0 0 -1 0 0 -1 0 0 -1 0 1 0 0 1 0 0 1 0 0 1 0 0 1 0 0 1 0 1 0 0 1 0 0 1 0 0 1 0 0 1 0 0 1 0 0 1 0 0 1 0 0 1 0 0 1 0 0 1 0 0 1 0 0 1 0 0 1 0 0 1 0 0 1 0 0 1 0 0 1 0 0 1 0 0 1 0 0 1 0 0 1 0 0 1 0 0 1 0 0 1 0 0 1 0 0 1 0 0 1 0 0 1 0 0 1 0 0 1 0 0 1 0 0 1 0 0 1 0 0 1 0 0 1 0 0 1 0 0 1 0 0 1 0 0 1 0 0 1 0 0 1 0 0 1 0 0 1 0 0 1 0 0 1 0 0 1 0 0 1 0 0 1 0 0 1 0 0 1 0 0 1 0 0 1 0 0 1 0 0 1 0 0 1 0 0 1 0 0 1 0 0 1 0 0 1 0 0 1 0 0 1 0 0 1 0 0 1 0 0 1 0 0 1 0 0 1 0 0 1 0 0 1 0 0 1 0 0 1 0 0 1 0 0 1 0 0 1 0 0 1 0 0 1 0 0 1 0 0 1 0 0 1 0 0 1 0 0 1 0 0 1 0 0 1 0 0 1 0 0 1 0 0 1 0 0 1 0 0 0 1 0 0 1 0 0 1 0 0 1 0 0 1 0 0 1 0 0.707107 0.707107 0 0.707107 0.707107 0 0.707107 0.707107 0 0.707107 0.707107 0 0.707107 0.707107 0 0.707107 0.707107 0 0 1 0 0 1 0 0 1 0 0 1 0 0 1 0 0 1 0 0.707107 0.707107 0 0.707107 0.707107 0 0.707107 0.707107 0 0.707107 0.707107 0 0.707107 0.707107 0 0.707107 0.707107 0 0 0 -1 0 0 -1 0 0 -1 0 0 -1 0 0 -1 0 0 -1 0.707107 -0.707107 0 0.707107 -0.707107 0 0.707107 -0.707107 0 0.707107 -0.707107 0 0.707107 -0.707107 0 0.707107 -0.707107 0 0.707107 0 0.707107 0.707107 0 0.707107 0.707107 0 0.707107 0.707107 0 0.707107 0.707107 0 0.707107 0.707107 0 0.707107 0.707107 0.707107 0 0.707107 0.707107 0 0.707107 0.707107 0 0.707107 0.707107 0 0.707107 0.707107 0 0.707107 0.707107 0 0.707107 0 -0.707107 0.707107 0 -0.707107 0.707107 0 -0.707107 0.707107 0 -0.707107 0.707107 0 -0.707107 0.707107 0 -0.707107 \"></Normal>\n",
       "</TriangleSet>\n",
       "</Shape></Transform></Switch>\n",
       "\n",
       "<Switch id=\"switch_shape1_edges\" whichChoice=\"0\">\n",
       "\t<Group>\n",
       "\t\t<Transform scale=\"1 1 1\"><Shape DEF=\"edg0\">\n",
       "\t\t\t<Appearance><Material emissiveColor=\"0 0 0\"></Material></Appearance>\n",
       "\t\t\t<LineSet vertexCount=\"2\"><Coordinate point=\"-0.5 -0.8 -1.3 -0.5 -0.8 1.3 \"></Coordinate></LineSet>\n",
       "\t\t</Shape></Transform>\n",
       "\t\t<Transform scale=\"1 1 1\"><Shape DEF=\"edg1\">\n",
       "\t\t\t<Appearance><Material emissiveColor=\"0 0 0\"></Material></Appearance>\n",
       "\t\t\t<LineSet vertexCount=\"2\"><Coordinate point=\"-0.5 -0.8 1.3 -0.5 0.8 1.3 \"></Coordinate></LineSet>\n",
       "\t\t</Shape></Transform>\n",
       "\t\t<Transform scale=\"1 1 1\"><Shape DEF=\"edg2\">\n",
       "\t\t\t<Appearance><Material emissiveColor=\"0 0 0\"></Material></Appearance>\n",
       "\t\t\t<LineSet vertexCount=\"2\"><Coordinate point=\"-0.5 0.8 1 -0.5 0.8 1.3 \"></Coordinate></LineSet>\n",
       "\t\t</Shape></Transform>\n",
       "\t\t<Transform scale=\"1 1 1\"><Shape DEF=\"edg3\">\n",
       "\t\t\t<Appearance><Material emissiveColor=\"0 0 0\"></Material></Appearance>\n",
       "\t\t\t<LineSet vertexCount=\"11\"><Coordinate point=\"-0.5 0.8 1 -0.5 0.75307 0.996306 -0.5 0.707295 0.985317 -0.5 0.663803 0.967302 -0.5 0.623664 0.942705 -0.5 0.587868 0.912132 -0.5 0.557295 0.876336 -0.5 0.532698 0.836197 -0.5 0.514683 0.792705 -0.5 0.503694 0.74693 -0.5 0.5 0.7 \"></Coordinate></LineSet>\n",
       "\t\t</Shape></Transform>\n",
       "\t\t<Transform scale=\"1 1 1\"><Shape DEF=\"edg4\">\n",
       "\t\t\t<Appearance><Material emissiveColor=\"0 0 0\"></Material></Appearance>\n",
       "\t\t\t<LineSet vertexCount=\"2\"><Coordinate point=\"-0.5 0.5 0.4 -0.5 0.5 0.7 \"></Coordinate></LineSet>\n",
       "\t\t</Shape></Transform>\n",
       "\t\t<Transform scale=\"1 1 1\"><Shape DEF=\"edg5\">\n",
       "\t\t\t<Appearance><Material emissiveColor=\"0 0 0\"></Material></Appearance>\n",
       "\t\t\t<LineSet vertexCount=\"2\"><Coordinate point=\"-0.5 0.8 0.4 -0.5 0.5 0.4 \"></Coordinate></LineSet>\n",
       "\t\t</Shape></Transform>\n",
       "\t\t<Transform scale=\"1 1 1\"><Shape DEF=\"edg6\">\n",
       "\t\t\t<Appearance><Material emissiveColor=\"0 0 0\"></Material></Appearance>\n",
       "\t\t\t<LineSet vertexCount=\"2\"><Coordinate point=\"-0.5 0.8 -0.4 -0.5 0.8 0.4 \"></Coordinate></LineSet>\n",
       "\t\t</Shape></Transform>\n",
       "\t\t<Transform scale=\"1 1 1\"><Shape DEF=\"edg7\">\n",
       "\t\t\t<Appearance><Material emissiveColor=\"0 0 0\"></Material></Appearance>\n",
       "\t\t\t<LineSet vertexCount=\"2\"><Coordinate point=\"-0.5 0.8 -0.4 -0.5 -0.5 -0.4 \"></Coordinate></LineSet>\n",
       "\t\t</Shape></Transform>\n",
       "\t\t<Transform scale=\"1 1 1\"><Shape DEF=\"edg8\">\n",
       "\t\t\t<Appearance><Material emissiveColor=\"0 0 0\"></Material></Appearance>\n",
       "\t\t\t<LineSet vertexCount=\"2\"><Coordinate point=\"-0.5 -0.5 -0.7 -0.5 -0.5 -0.4 \"></Coordinate></LineSet>\n",
       "\t\t</Shape></Transform>\n",
       "\t\t<Transform scale=\"1 1 1\"><Shape DEF=\"edg9\">\n",
       "\t\t\t<Appearance><Material emissiveColor=\"0 0 0\"></Material></Appearance>\n",
       "\t\t\t<LineSet vertexCount=\"11\"><Coordinate point=\"-0.5 -0.5 -0.7 -0.5 -0.496307 -0.74693 -0.5 -0.485317 -0.792705 -0.5 -0.467302 -0.836197 -0.5 -0.442705 -0.876336 -0.5 -0.412132 -0.912132 -0.5 -0.376336 -0.942705 -0.5 -0.336197 -0.967302 -0.5 -0.292705 -0.985317 -0.5 -0.24693 -0.996306 -0.5 -0.2 -1 \"></Coordinate></LineSet>\n",
       "\t\t</Shape></Transform>\n",
       "\t\t<Transform scale=\"1 1 1\"><Shape DEF=\"edg10\">\n",
       "\t\t\t<Appearance><Material emissiveColor=\"0 0 0\"></Material></Appearance>\n",
       "\t\t\t<LineSet vertexCount=\"2\"><Coordinate point=\"-0.5 0.8 -1 -0.5 -0.2 -1 \"></Coordinate></LineSet>\n",
       "\t\t</Shape></Transform>\n",
       "\t\t<Transform scale=\"1 1 1\"><Shape DEF=\"edg11\">\n",
       "\t\t\t<Appearance><Material emissiveColor=\"0 0 0\"></Material></Appearance>\n",
       "\t\t\t<LineSet vertexCount=\"2\"><Coordinate point=\"-0.5 0.8 -1.3 -0.5 0.8 -1 \"></Coordinate></LineSet>\n",
       "\t\t</Shape></Transform>\n",
       "\t\t<Transform scale=\"1 1 1\"><Shape DEF=\"edg12\">\n",
       "\t\t\t<Appearance><Material emissiveColor=\"0 0 0\"></Material></Appearance>\n",
       "\t\t\t<LineSet vertexCount=\"2\"><Coordinate point=\"-0.5 -0.8 -1.3 -0.5 0.8 -1.3 \"></Coordinate></LineSet>\n",
       "\t\t</Shape></Transform>\n",
       "\t\t<Transform scale=\"1 1 1\"><Shape DEF=\"edg13\">\n",
       "\t\t\t<Appearance><Material emissiveColor=\"0 0 0\"></Material></Appearance>\n",
       "\t\t\t<LineSet vertexCount=\"2\"><Coordinate point=\"-0.5 -0.8 -1.3 -0.3 -1 -1.5 \"></Coordinate></LineSet>\n",
       "\t\t</Shape></Transform>\n",
       "\t\t<Transform scale=\"1 1 1\"><Shape DEF=\"edg14\">\n",
       "\t\t\t<Appearance><Material emissiveColor=\"0 0 0\"></Material></Appearance>\n",
       "\t\t\t<LineSet vertexCount=\"2\"><Coordinate point=\"-0.3 -1 -1.5 -0.3 -1 1.5 \"></Coordinate></LineSet>\n",
       "\t\t</Shape></Transform>\n",
       "\t\t<Transform scale=\"1 1 1\"><Shape DEF=\"edg15\">\n",
       "\t\t\t<Appearance><Material emissiveColor=\"0 0 0\"></Material></Appearance>\n",
       "\t\t\t<LineSet vertexCount=\"2\"><Coordinate point=\"-0.5 -0.8 1.3 -0.3 -1 1.5 \"></Coordinate></LineSet>\n",
       "\t\t</Shape></Transform>\n",
       "\t\t<Transform scale=\"1 1 1\"><Shape DEF=\"edg16\">\n",
       "\t\t\t<Appearance><Material emissiveColor=\"0 0 0\"></Material></Appearance>\n",
       "\t\t\t<LineSet vertexCount=\"2\"><Coordinate point=\"-0.3 -1 1.5 -0.3 1 1.5 \"></Coordinate></LineSet>\n",
       "\t\t</Shape></Transform>\n",
       "\t\t<Transform scale=\"1 1 1\"><Shape DEF=\"edg17\">\n",
       "\t\t\t<Appearance><Material emissiveColor=\"0 0 0\"></Material></Appearance>\n",
       "\t\t\t<LineSet vertexCount=\"2\"><Coordinate point=\"-0.5 0.8 1.3 -0.3 1 1.5 \"></Coordinate></LineSet>\n",
       "\t\t</Shape></Transform>\n",
       "\t\t<Transform scale=\"1 1 1\"><Shape DEF=\"edg18\">\n",
       "\t\t\t<Appearance><Material emissiveColor=\"0 0 0\"></Material></Appearance>\n",
       "\t\t\t<LineSet vertexCount=\"2\"><Coordinate point=\"-0.5 0.8 1 -0.3 1 1 \"></Coordinate></LineSet>\n",
       "\t\t</Shape></Transform>\n",
       "\t\t<Transform scale=\"1 1 1\"><Shape DEF=\"edg19\">\n",
       "\t\t\t<Appearance><Material emissiveColor=\"0 0 0\"></Material></Appearance>\n",
       "\t\t\t<LineSet vertexCount=\"2\"><Coordinate point=\"-0.3 1 1 -0.3 1 1.5 \"></Coordinate></LineSet>\n",
       "\t\t</Shape></Transform>\n",
       "\t\t<Transform scale=\"1 1 1\"><Shape DEF=\"edg20\">\n",
       "\t\t\t<Appearance><Material emissiveColor=\"0 0 0\"></Material></Appearance>\n",
       "\t\t\t<LineSet vertexCount=\"2\"><Coordinate point=\"-0.5 0.5 0.7 0.5 0.5 0.7 \"></Coordinate></LineSet>\n",
       "\t\t</Shape></Transform>\n",
       "\t\t<Transform scale=\"1 1 1\"><Shape DEF=\"edg21\">\n",
       "\t\t\t<Appearance><Material emissiveColor=\"0 0 0\"></Material></Appearance>\n",
       "\t\t\t<LineSet vertexCount=\"11\"><Coordinate point=\"0.5 0.8 1 0.5 0.75307 0.996306 0.5 0.707295 0.985317 0.5 0.663803 0.967302 0.5 0.623664 0.942705 0.5 0.587868 0.912132 0.5 0.557295 0.876336 0.5 0.532698 0.836197 0.5 0.514683 0.792705 0.5 0.503694 0.74693 0.5 0.5 0.7 \"></Coordinate></LineSet>\n",
       "\t\t</Shape></Transform>\n",
       "\t\t<Transform scale=\"1 1 1\"><Shape DEF=\"edg22\">\n",
       "\t\t\t<Appearance><Material emissiveColor=\"0 0 0\"></Material></Appearance>\n",
       "\t\t\t<LineSet vertexCount=\"2\"><Coordinate point=\"-0.5 0.8 1 0.5 0.8 1 \"></Coordinate></LineSet>\n",
       "\t\t</Shape></Transform>\n",
       "\t\t<Transform scale=\"1 1 1\"><Shape DEF=\"edg23\">\n",
       "\t\t\t<Appearance><Material emissiveColor=\"0 0 0\"></Material></Appearance>\n",
       "\t\t\t<LineSet vertexCount=\"2\"><Coordinate point=\"-0.5 0.5 0.4 0.5 0.5 0.4 \"></Coordinate></LineSet>\n",
       "\t\t</Shape></Transform>\n",
       "\t\t<Transform scale=\"1 1 1\"><Shape DEF=\"edg24\">\n",
       "\t\t\t<Appearance><Material emissiveColor=\"0 0 0\"></Material></Appearance>\n",
       "\t\t\t<LineSet vertexCount=\"2\"><Coordinate point=\"0.5 0.5 0.4 0.5 0.5 0.7 \"></Coordinate></LineSet>\n",
       "\t\t</Shape></Transform>\n",
       "\t\t<Transform scale=\"1 1 1\"><Shape DEF=\"edg25\">\n",
       "\t\t\t<Appearance><Material emissiveColor=\"0 0 0\"></Material></Appearance>\n",
       "\t\t\t<LineSet vertexCount=\"2\"><Coordinate point=\"-0.5 0.8 0.4 -0.3 1 0.4 \"></Coordinate></LineSet>\n",
       "\t\t</Shape></Transform>\n",
       "\t\t<Transform scale=\"1 1 1\"><Shape DEF=\"edg26\">\n",
       "\t\t\t<Appearance><Material emissiveColor=\"0 0 0\"></Material></Appearance>\n",
       "\t\t\t<LineSet vertexCount=\"2\"><Coordinate point=\"-0.3 1 0.4 0.3 1 0.4 \"></Coordinate></LineSet>\n",
       "\t\t</Shape></Transform>\n",
       "\t\t<Transform scale=\"1 1 1\"><Shape DEF=\"edg27\">\n",
       "\t\t\t<Appearance><Material emissiveColor=\"0 0 0\"></Material></Appearance>\n",
       "\t\t\t<LineSet vertexCount=\"2\"><Coordinate point=\"0.5 0.8 0.4 0.3 1 0.4 \"></Coordinate></LineSet>\n",
       "\t\t</Shape></Transform>\n",
       "\t\t<Transform scale=\"1 1 1\"><Shape DEF=\"edg28\">\n",
       "\t\t\t<Appearance><Material emissiveColor=\"0 0 0\"></Material></Appearance>\n",
       "\t\t\t<LineSet vertexCount=\"2\"><Coordinate point=\"0.5 0.8 0.4 0.5 0.5 0.4 \"></Coordinate></LineSet>\n",
       "\t\t</Shape></Transform>\n",
       "\t\t<Transform scale=\"1 1 1\"><Shape DEF=\"edg29\">\n",
       "\t\t\t<Appearance><Material emissiveColor=\"0 0 0\"></Material></Appearance>\n",
       "\t\t\t<LineSet vertexCount=\"2\"><Coordinate point=\"-0.5 0.8 -0.4 -0.3 1 -0.4 \"></Coordinate></LineSet>\n",
       "\t\t</Shape></Transform>\n",
       "\t\t<Transform scale=\"1 1 1\"><Shape DEF=\"edg30\">\n",
       "\t\t\t<Appearance><Material emissiveColor=\"0 0 0\"></Material></Appearance>\n",
       "\t\t\t<LineSet vertexCount=\"2\"><Coordinate point=\"-0.3 1 -0.4 -0.3 1 0.4 \"></Coordinate></LineSet>\n",
       "\t\t</Shape></Transform>\n",
       "\t\t<Transform scale=\"1 1 1\"><Shape DEF=\"edg31\">\n",
       "\t\t\t<Appearance><Material emissiveColor=\"0 0 0\"></Material></Appearance>\n",
       "\t\t\t<LineSet vertexCount=\"2\"><Coordinate point=\"-0.3 1 -0.4 0.3 1 -0.4 \"></Coordinate></LineSet>\n",
       "\t\t</Shape></Transform>\n",
       "\t\t<Transform scale=\"1 1 1\"><Shape DEF=\"edg32\">\n",
       "\t\t\t<Appearance><Material emissiveColor=\"0 0 0\"></Material></Appearance>\n",
       "\t\t\t<LineSet vertexCount=\"2\"><Coordinate point=\"0.5 0.8 -0.4 0.3 1 -0.4 \"></Coordinate></LineSet>\n",
       "\t\t</Shape></Transform>\n",
       "\t\t<Transform scale=\"1 1 1\"><Shape DEF=\"edg33\">\n",
       "\t\t\t<Appearance><Material emissiveColor=\"0 0 0\"></Material></Appearance>\n",
       "\t\t\t<LineSet vertexCount=\"2\"><Coordinate point=\"0.5 0.8 -0.4 0.5 -0.5 -0.4 \"></Coordinate></LineSet>\n",
       "\t\t</Shape></Transform>\n",
       "\t\t<Transform scale=\"1 1 1\"><Shape DEF=\"edg34\">\n",
       "\t\t\t<Appearance><Material emissiveColor=\"0 0 0\"></Material></Appearance>\n",
       "\t\t\t<LineSet vertexCount=\"2\"><Coordinate point=\"-0.5 -0.5 -0.4 0.5 -0.5 -0.4 \"></Coordinate></LineSet>\n",
       "\t\t</Shape></Transform>\n",
       "\t\t<Transform scale=\"1 1 1\"><Shape DEF=\"edg35\">\n",
       "\t\t\t<Appearance><Material emissiveColor=\"0 0 0\"></Material></Appearance>\n",
       "\t\t\t<LineSet vertexCount=\"2\"><Coordinate point=\"0.5 -0.5 -0.7 0.5 -0.5 -0.4 \"></Coordinate></LineSet>\n",
       "\t\t</Shape></Transform>\n",
       "\t\t<Transform scale=\"1 1 1\"><Shape DEF=\"edg36\">\n",
       "\t\t\t<Appearance><Material emissiveColor=\"0 0 0\"></Material></Appearance>\n",
       "\t\t\t<LineSet vertexCount=\"2\"><Coordinate point=\"-0.5 -0.5 -0.7 0.5 -0.5 -0.7 \"></Coordinate></LineSet>\n",
       "\t\t</Shape></Transform>\n",
       "\t\t<Transform scale=\"1 1 1\"><Shape DEF=\"edg37\">\n",
       "\t\t\t<Appearance><Material emissiveColor=\"0 0 0\"></Material></Appearance>\n",
       "\t\t\t<LineSet vertexCount=\"11\"><Coordinate point=\"0.5 -0.5 -0.7 0.5 -0.496307 -0.74693 0.5 -0.485317 -0.792705 0.5 -0.467302 -0.836197 0.5 -0.442705 -0.876336 0.5 -0.412132 -0.912132 0.5 -0.376336 -0.942705 0.5 -0.336197 -0.967302 0.5 -0.292705 -0.985317 0.5 -0.24693 -0.996306 0.5 -0.2 -1 \"></Coordinate></LineSet>\n",
       "\t\t</Shape></Transform>\n",
       "\t\t<Transform scale=\"1 1 1\"><Shape DEF=\"edg38\">\n",
       "\t\t\t<Appearance><Material emissiveColor=\"0 0 0\"></Material></Appearance>\n",
       "\t\t\t<LineSet vertexCount=\"2\"><Coordinate point=\"-0.5 -0.2 -1 0.5 -0.2 -1 \"></Coordinate></LineSet>\n",
       "\t\t</Shape></Transform>\n",
       "\t\t<Transform scale=\"1 1 1\"><Shape DEF=\"edg39\">\n",
       "\t\t\t<Appearance><Material emissiveColor=\"0 0 0\"></Material></Appearance>\n",
       "\t\t\t<LineSet vertexCount=\"2\"><Coordinate point=\"-0.5 0.8 -1 -0.3 1 -1 \"></Coordinate></LineSet>\n",
       "\t\t</Shape></Transform>\n",
       "\t\t<Transform scale=\"1 1 1\"><Shape DEF=\"edg40\">\n",
       "\t\t\t<Appearance><Material emissiveColor=\"0 0 0\"></Material></Appearance>\n",
       "\t\t\t<LineSet vertexCount=\"2\"><Coordinate point=\"-0.3 1 -1 0.3 1 -1 \"></Coordinate></LineSet>\n",
       "\t\t</Shape></Transform>\n",
       "\t\t<Transform scale=\"1 1 1\"><Shape DEF=\"edg41\">\n",
       "\t\t\t<Appearance><Material emissiveColor=\"0 0 0\"></Material></Appearance>\n",
       "\t\t\t<LineSet vertexCount=\"2\"><Coordinate point=\"0.5 0.8 -1 0.3 1 -1 \"></Coordinate></LineSet>\n",
       "\t\t</Shape></Transform>\n",
       "\t\t<Transform scale=\"1 1 1\"><Shape DEF=\"edg42\">\n",
       "\t\t\t<Appearance><Material emissiveColor=\"0 0 0\"></Material></Appearance>\n",
       "\t\t\t<LineSet vertexCount=\"2\"><Coordinate point=\"0.5 0.8 -1 0.5 -0.2 -1 \"></Coordinate></LineSet>\n",
       "\t\t</Shape></Transform>\n",
       "\t\t<Transform scale=\"1 1 1\"><Shape DEF=\"edg43\">\n",
       "\t\t\t<Appearance><Material emissiveColor=\"0 0 0\"></Material></Appearance>\n",
       "\t\t\t<LineSet vertexCount=\"2\"><Coordinate point=\"-0.5 0.8 -1.3 -0.3 1 -1.5 \"></Coordinate></LineSet>\n",
       "\t\t</Shape></Transform>\n",
       "\t\t<Transform scale=\"1 1 1\"><Shape DEF=\"edg44\">\n",
       "\t\t\t<Appearance><Material emissiveColor=\"0 0 0\"></Material></Appearance>\n",
       "\t\t\t<LineSet vertexCount=\"2\"><Coordinate point=\"-0.3 1 -1.5 -0.3 1 -1 \"></Coordinate></LineSet>\n",
       "\t\t</Shape></Transform>\n",
       "\t\t<Transform scale=\"1 1 1\"><Shape DEF=\"edg45\">\n",
       "\t\t\t<Appearance><Material emissiveColor=\"0 0 0\"></Material></Appearance>\n",
       "\t\t\t<LineSet vertexCount=\"2\"><Coordinate point=\"-0.3 -1 -1.5 -0.3 1 -1.5 \"></Coordinate></LineSet>\n",
       "\t\t</Shape></Transform>\n",
       "\t\t<Transform scale=\"1 1 1\"><Shape DEF=\"edg46\">\n",
       "\t\t\t<Appearance><Material emissiveColor=\"0 0 0\"></Material></Appearance>\n",
       "\t\t\t<LineSet vertexCount=\"2\"><Coordinate point=\"-0.3 -1 -1.5 0.3 -1 -1.5 \"></Coordinate></LineSet>\n",
       "\t\t</Shape></Transform>\n",
       "\t\t<Transform scale=\"1 1 1\"><Shape DEF=\"edg47\">\n",
       "\t\t\t<Appearance><Material emissiveColor=\"0 0 0\"></Material></Appearance>\n",
       "\t\t\t<LineSet vertexCount=\"2\"><Coordinate point=\"0.3 -1 -1.5 0.3 -1 1.5 \"></Coordinate></LineSet>\n",
       "\t\t</Shape></Transform>\n",
       "\t\t<Transform scale=\"1 1 1\"><Shape DEF=\"edg48\">\n",
       "\t\t\t<Appearance><Material emissiveColor=\"0 0 0\"></Material></Appearance>\n",
       "\t\t\t<LineSet vertexCount=\"2\"><Coordinate point=\"-0.3 -1 1.5 0.3 -1 1.5 \"></Coordinate></LineSet>\n",
       "\t\t</Shape></Transform>\n",
       "\t\t<Transform scale=\"1 1 1\"><Shape DEF=\"edg49\">\n",
       "\t\t\t<Appearance><Material emissiveColor=\"0 0 0\"></Material></Appearance>\n",
       "\t\t\t<LineSet vertexCount=\"2\"><Coordinate point=\"-0.3 1 1.5 0.3 1 1.5 \"></Coordinate></LineSet>\n",
       "\t\t</Shape></Transform>\n",
       "\t\t<Transform scale=\"1 1 1\"><Shape DEF=\"edg50\">\n",
       "\t\t\t<Appearance><Material emissiveColor=\"0 0 0\"></Material></Appearance>\n",
       "\t\t\t<LineSet vertexCount=\"2\"><Coordinate point=\"0.3 -1 1.5 0.3 1 1.5 \"></Coordinate></LineSet>\n",
       "\t\t</Shape></Transform>\n",
       "\t\t<Transform scale=\"1 1 1\"><Shape DEF=\"edg51\">\n",
       "\t\t\t<Appearance><Material emissiveColor=\"0 0 0\"></Material></Appearance>\n",
       "\t\t\t<LineSet vertexCount=\"2\"><Coordinate point=\"-0.3 1 1 0.3 1 1 \"></Coordinate></LineSet>\n",
       "\t\t</Shape></Transform>\n",
       "\t\t<Transform scale=\"1 1 1\"><Shape DEF=\"edg52\">\n",
       "\t\t\t<Appearance><Material emissiveColor=\"0 0 0\"></Material></Appearance>\n",
       "\t\t\t<LineSet vertexCount=\"2\"><Coordinate point=\"0.5 0.8 1 0.3 1 1 \"></Coordinate></LineSet>\n",
       "\t\t</Shape></Transform>\n",
       "\t\t<Transform scale=\"1 1 1\"><Shape DEF=\"edg53\">\n",
       "\t\t\t<Appearance><Material emissiveColor=\"0 0 0\"></Material></Appearance>\n",
       "\t\t\t<LineSet vertexCount=\"2\"><Coordinate point=\"0.3 1 1 0.3 1 1.5 \"></Coordinate></LineSet>\n",
       "\t\t</Shape></Transform>\n",
       "\t\t<Transform scale=\"1 1 1\"><Shape DEF=\"edg54\">\n",
       "\t\t\t<Appearance><Material emissiveColor=\"0 0 0\"></Material></Appearance>\n",
       "\t\t\t<LineSet vertexCount=\"2\"><Coordinate point=\"0.5 -0.8 -1.3 0.5 -0.8 1.3 \"></Coordinate></LineSet>\n",
       "\t\t</Shape></Transform>\n",
       "\t\t<Transform scale=\"1 1 1\"><Shape DEF=\"edg55\">\n",
       "\t\t\t<Appearance><Material emissiveColor=\"0 0 0\"></Material></Appearance>\n",
       "\t\t\t<LineSet vertexCount=\"2\"><Coordinate point=\"0.5 -0.8 1.3 0.5 0.8 1.3 \"></Coordinate></LineSet>\n",
       "\t\t</Shape></Transform>\n",
       "\t\t<Transform scale=\"1 1 1\"><Shape DEF=\"edg56\">\n",
       "\t\t\t<Appearance><Material emissiveColor=\"0 0 0\"></Material></Appearance>\n",
       "\t\t\t<LineSet vertexCount=\"2\"><Coordinate point=\"0.5 0.8 1 0.5 0.8 1.3 \"></Coordinate></LineSet>\n",
       "\t\t</Shape></Transform>\n",
       "\t\t<Transform scale=\"1 1 1\"><Shape DEF=\"edg57\">\n",
       "\t\t\t<Appearance><Material emissiveColor=\"0 0 0\"></Material></Appearance>\n",
       "\t\t\t<LineSet vertexCount=\"2\"><Coordinate point=\"0.5 0.8 -0.4 0.5 0.8 0.4 \"></Coordinate></LineSet>\n",
       "\t\t</Shape></Transform>\n",
       "\t\t<Transform scale=\"1 1 1\"><Shape DEF=\"edg58\">\n",
       "\t\t\t<Appearance><Material emissiveColor=\"0 0 0\"></Material></Appearance>\n",
       "\t\t\t<LineSet vertexCount=\"2\"><Coordinate point=\"0.5 0.8 -1.3 0.5 0.8 -1 \"></Coordinate></LineSet>\n",
       "\t\t</Shape></Transform>\n",
       "\t\t<Transform scale=\"1 1 1\"><Shape DEF=\"edg59\">\n",
       "\t\t\t<Appearance><Material emissiveColor=\"0 0 0\"></Material></Appearance>\n",
       "\t\t\t<LineSet vertexCount=\"2\"><Coordinate point=\"0.5 -0.8 -1.3 0.5 0.8 -1.3 \"></Coordinate></LineSet>\n",
       "\t\t</Shape></Transform>\n",
       "\t\t<Transform scale=\"1 1 1\"><Shape DEF=\"edg60\">\n",
       "\t\t\t<Appearance><Material emissiveColor=\"0 0 0\"></Material></Appearance>\n",
       "\t\t\t<LineSet vertexCount=\"2\"><Coordinate point=\"0.3 1 -0.4 0.3 1 0.4 \"></Coordinate></LineSet>\n",
       "\t\t</Shape></Transform>\n",
       "\t\t<Transform scale=\"1 1 1\"><Shape DEF=\"edg61\">\n",
       "\t\t\t<Appearance><Material emissiveColor=\"0 0 0\"></Material></Appearance>\n",
       "\t\t\t<LineSet vertexCount=\"2\"><Coordinate point=\"-0.3 1 -1.5 0.3 1 -1.5 \"></Coordinate></LineSet>\n",
       "\t\t</Shape></Transform>\n",
       "\t\t<Transform scale=\"1 1 1\"><Shape DEF=\"edg62\">\n",
       "\t\t\t<Appearance><Material emissiveColor=\"0 0 0\"></Material></Appearance>\n",
       "\t\t\t<LineSet vertexCount=\"2\"><Coordinate point=\"0.3 1 -1.5 0.3 1 -1 \"></Coordinate></LineSet>\n",
       "\t\t</Shape></Transform>\n",
       "\t\t<Transform scale=\"1 1 1\"><Shape DEF=\"edg63\">\n",
       "\t\t\t<Appearance><Material emissiveColor=\"0 0 0\"></Material></Appearance>\n",
       "\t\t\t<LineSet vertexCount=\"2\"><Coordinate point=\"0.5 0.8 -1.3 0.3 1 -1.5 \"></Coordinate></LineSet>\n",
       "\t\t</Shape></Transform>\n",
       "\t\t<Transform scale=\"1 1 1\"><Shape DEF=\"edg64\">\n",
       "\t\t\t<Appearance><Material emissiveColor=\"0 0 0\"></Material></Appearance>\n",
       "\t\t\t<LineSet vertexCount=\"2\"><Coordinate point=\"0.3 -1 -1.5 0.3 1 -1.5 \"></Coordinate></LineSet>\n",
       "\t\t</Shape></Transform>\n",
       "\t\t<Transform scale=\"1 1 1\"><Shape DEF=\"edg65\">\n",
       "\t\t\t<Appearance><Material emissiveColor=\"0 0 0\"></Material></Appearance>\n",
       "\t\t\t<LineSet vertexCount=\"2\"><Coordinate point=\"0.5 -0.8 -1.3 0.3 -1 -1.5 \"></Coordinate></LineSet>\n",
       "\t\t</Shape></Transform>\n",
       "\t\t<Transform scale=\"1 1 1\"><Shape DEF=\"edg66\">\n",
       "\t\t\t<Appearance><Material emissiveColor=\"0 0 0\"></Material></Appearance>\n",
       "\t\t\t<LineSet vertexCount=\"2\"><Coordinate point=\"0.5 -0.8 1.3 0.3 -1 1.5 \"></Coordinate></LineSet>\n",
       "\t\t</Shape></Transform>\n",
       "\t\t<Transform scale=\"1 1 1\"><Shape DEF=\"edg67\">\n",
       "\t\t\t<Appearance><Material emissiveColor=\"0 0 0\"></Material></Appearance>\n",
       "\t\t\t<LineSet vertexCount=\"2\"><Coordinate point=\"0.5 0.8 1.3 0.3 1 1.5 \"></Coordinate></LineSet>\n",
       "\t\t</Shape></Transform>\n",
       "\t</Group>\n",
       "</Switch>\n",
       "\n",
       "                </scene>\n",
       "            </x3d>\n",
       "        </div>\n",
       "\n",
       "        <div>\n",
       "            <x3d class=\"x3domAxisSceneView\" id=\"x3domAxisSceneView_6b9f09dc-0766-4675-8b6f-4766924c4bac\">\n",
       "                <scene>\n",
       "                    <navigationInfo type='\"NONE\" \"ANY\"'></navigationInfo>\n",
       "                    <viewpoint position=\"0 0 5.0\"  orientation=\"0 0 0 1\"></viewpoint>\n",
       "                    <Transform id=\"axes\">\n",
       "                        <!-- X arrow and label -->\n",
       "                        <Shape isPickable=\"false\" DEF=\"AXIS_LINE_X\">\n",
       "                            <IndexedLineSet index=\"0 1 -1\">\n",
       "                                <Coordinate point=\"0 0 0, 1 0 0\" color=\"1 0 0, 1 0 0\"></Coordinate>\n",
       "                            </IndexedLineSet>\n",
       "                            <Appearance DEF='Red'><Material diffuseColor=\"0 0 0\" emissiveColor='1 0 0'></Material></Appearance>\n",
       "                        </Shape>\n",
       "                        <Transform translation='1 0 0'>\n",
       "                            <Transform rotation='1 0 0 1.57079632679'>\n",
       "                                <Billboard>\n",
       "                                    <Shape isPickable=\"false\" DEF=\"AXIS_LABEL_X\">\n",
       "                                        <Text string=\"X\" solid=\"false\">\n",
       "                                            <FontStyle size=\"0.6\"></FontStyle>\n",
       "                                        </Text>\n",
       "                                        <Appearance USE='Red'></Appearance>\n",
       "                                    </Shape>\n",
       "                                </Billboard>\n",
       "                            </Transform>\n",
       "                        </Transform>\n",
       "\n",
       "                        <!-- Y arrow and label -->\n",
       "                        <Shape isPickable=\"false\" DEF=\"AXIS_LINE_Y\">\n",
       "                            <IndexedLineSet index=\"0 1 -1\">\n",
       "                                <Coordinate point=\"0 0 0., 0 1 0\" color=\"0 1 0, 0 1 0\"></Coordinate>\n",
       "                            </IndexedLineSet>\n",
       "                            <Appearance DEF='Green'><Material diffuseColor=\"0 0 0\" emissiveColor='0 1 0'></Material></Appearance>\n",
       "                        </Shape>\n",
       "                        <Transform translation='0 1 0'>\n",
       "                            <Transform rotation='1 0 0 1.57079632679'>\n",
       "                                <Billboard>\n",
       "                                    <Shape isPickable=\"false\" DEF=\"AXIS_LABEL_Y\">\n",
       "                                        <Text string=\"Y\" solid=\"false\">\n",
       "                                            <FontStyle size=\"0.6\"></FontStyle>\n",
       "                                        </Text>\n",
       "                                        <Appearance USE='Green'></Appearance>\n",
       "                                    </Shape>\n",
       "                                </Billboard>\n",
       "                            </Transform>\n",
       "                        </Transform>\n",
       "\n",
       "                        <!-- Z arrow and label -->\n",
       "                        <Shape isPickable=\"true\" DEF=\"AXIS_LINE_Z\">\n",
       "                            <IndexedLineSet index=\"0 1 -1\">\n",
       "                                <Coordinate point=\"0 0 0, 0 0 1\" color=\"0 0 1, 0 0 1\"></Coordinate>\n",
       "                            </IndexedLineSet>\n",
       "                            <Appearance DEF='Blue'><Material diffuseColor=\"0 0 0\" emissiveColor='0 0 1'></Material></Appearance>\n",
       "                        </Shape>\n",
       "                        <Transform translation='0 0 1'>\n",
       "                            <Transform rotation='1 0 0 1.57079632679'>\n",
       "                                <Billboard>\n",
       "                                    <Shape isPickable=\"false\" DEF=\"AXIS_LABEL_Z\">\n",
       "                                        <Text string=\"Z\" solid=\"false\">\n",
       "                                            <FontStyle size=\"0.6\"></FontStyle>\n",
       "                                        </Text>\n",
       "                                        <Appearance USE='Blue'></Appearance>\n",
       "                                    </Shape>\n",
       "                                </Billboard>\n",
       "                            </Transform>\n",
       "                        </Transform>\n",
       "                    </Transform>\n",
       "                </scene>\n",
       "            </x3d>\n",
       "        <div>\n",
       "    </div>\n",
       "</div>\n",
       "\n",
       "<script>\n",
       "    console.log(\"Initializing x3dom for view 6b9f09dc-0766-4675-8b6f-4766924c4bac\")\n",
       "    x3dom.reload();\n",
       "    $(\"#x3domAxisSceneView_6b9f09dc-0766-4675-8b6f-4766924c4bac\").viewConnector({connected: \"6b9f09dc-0766-4675-8b6f-4766924c4bac\", connectPosition: false});\n",
       "</script>"
      ],
      "text/plain": [
       "<IPython.core.display.HTML object>"
      ]
     },
     "metadata": {},
     "output_type": "display_data"
    },
    {
     "data": {
      "text/plain": [
       "<cadquery.cq.Workplane at 0x12e2ab7f0>"
      ]
     },
     "execution_count": 4,
     "metadata": {},
     "output_type": "execute_result"
    }
   ],
   "source": [
    "b = cq.Workplane('XY')\n",
    "box1 = b.box(1,2,3).edges(\">X or <X\").chamfer(0.2)\n",
    "box2 = b.transformed(offset=cq.Vector(0, 1.5, 0.7)).box(3,2,0.6)\\\n",
    "        .edges(\">Z\").fillet(0.3)\n",
    "box3 = b.transformed(offset=cq.Vector(0, 1.0, -0.7)).box(2,3,0.6)\\\n",
    "        .edges(\"<Z\").fillet(0.3)\n",
    "box1.cut(box2)\n",
    "box1.cut(box3)"
   ]
  },
  {
   "cell_type": "markdown",
   "metadata": {},
   "source": [
    "# NEW APPROACH"
   ]
  },
  {
   "cell_type": "markdown",
   "metadata": {},
   "source": [
    "## ImageButton Widget"
   ]
  },
  {
   "cell_type": "markdown",
   "metadata": {},
   "source": [
    "## Rendering"
   ]
  },
  {
   "cell_type": "code",
   "execution_count": 7,
   "metadata": {
    "ExecuteTime": {
     "end_time": "2019-03-29T17:16:23.946030Z",
     "start_time": "2019-03-29T17:16:23.664205Z"
    }
   },
   "outputs": [
    {
     "name": "stderr",
     "output_type": "stream",
     "text": [
      "/opt/miniconda/envs/pycq/lib/python3.6/site-packages/pythreejs/traits.py:55: DeprecationWarning: Traits should be given as instances, not types (for example, `Int()`, not `Int`) Passing types is deprecated in traitlets 4.1.\n",
      "  super(Vector3, self).__init__(*(trait, trait, trait), default_value=default_value, **kwargs)\n",
      "/opt/miniconda/envs/pycq/lib/python3.6/site-packages/pythreejs/pythreejs.py:56: DeprecationWarning: Traits should be given as instances, not types (for example, `Int()`, not `Int`). Passing types is deprecated in traitlets 4.1.\n",
      "  z = List(CFloat, [0] * 100)\n"
     ]
    }
   ],
   "source": [
    "from __future__ import print_function, absolute_import\n",
    "\n",
    "import sys\n",
    "import enum\n",
    "import uuid\n",
    "import operator\n",
    "from functools import reduce\n",
    "\n",
    "from pythreejs import *\n",
    "from IPython.display import display\n",
    "from ipywidgets import HTML, HBox, VBox\n",
    "import numpy as np\n",
    "\n",
    "from OCC.Core.Bnd import Bnd_Box\n",
    "from OCC.Core.BRepBndLib import brepbndlib_Add\n",
    "from OCC.Core.Visualization import Tesselator\n",
    "\n",
    "from OCC.Extend.TopologyUtils import TopologyExplorer, is_edge, is_wire, discretize_edge, discretize_wire"
   ]
  },
  {
   "cell_type": "code",
   "execution_count": 8,
   "metadata": {
    "ExecuteTime": {
     "end_time": "2019-03-29T17:16:25.605407Z",
     "start_time": "2019-03-29T17:16:25.593419Z"
    }
   },
   "outputs": [],
   "source": [
    "HAVE_SMESH = False\n",
    "\n",
    "# default values\n",
    "\n",
    "def format_color(r, g, b):\n",
    "    return '#%02x%02x%02x' % (r, g, b)\n",
    "\n",
    "default_shape_color = format_color(166, 166, 166)\n",
    "default_mesh_color = 'white'\n",
    "default_edge_color = format_color(0, 0, 0)\n",
    "default_selection_material = MeshPhongMaterial(color='orange',\n",
    "                                               polygonOffset=True,\n",
    "                                               polygonOffsetFactor=1,\n",
    "                                               polygonOffsetUnits=1,\n",
    "                                               shininess=0.9,\n",
    "                                               side='DoubleSide')\n",
    "\n",
    "class NORMAL(enum.Enum):\n",
    "    SERVER_SIDE = 1\n",
    "    CLIENT_SIDE = 2\n",
    "    \n",
    "_compute_normals_mode = NORMAL.SERVER_SIDE"
   ]
  },
  {
   "cell_type": "code",
   "execution_count": 9,
   "metadata": {
    "ExecuteTime": {
     "end_time": "2019-03-29T17:16:27.789318Z",
     "start_time": "2019-03-29T17:16:27.768179Z"
    }
   },
   "outputs": [],
   "source": [
    "def AddShapeToScene(shp,  # the TopoDS_Shape to be displayed\n",
    "                    shape_color=default_shape_color,  # the default\n",
    "                    render_edges=False,\n",
    "                    edge_color=default_edge_color,\n",
    "                    compute_uv_coords=False,\n",
    "                    quality=1.0,\n",
    "                    transparency=True,\n",
    "                    opacity=0.6):\n",
    "    # first, compute the tesselation\n",
    "    tess = Tesselator(shp)\n",
    "    tess.Compute(uv_coords=compute_uv_coords,\n",
    "                 compute_edges=render_edges,\n",
    "                 mesh_quality=quality,\n",
    "                 parallel=True)\n",
    "    \n",
    "    # get vertices and normals\n",
    "    vertices_position = tess.GetVerticesPositionAsTuple()\n",
    "\n",
    "    number_of_triangles = tess.ObjGetTriangleCount()\n",
    "    number_of_vertices = len(vertices_position)\n",
    "\n",
    "    # number of vertices should be a multiple of 3\n",
    "    if number_of_vertices % 3 != 0:\n",
    "        raise AssertionError(\"Wrong number of vertices\")\n",
    "    if number_of_triangles * 9 != number_of_vertices:\n",
    "        raise AssertionError(\"Wrong number of triangles\")\n",
    "\n",
    "    # then we build the vertex and faces collections as numpy ndarrays\n",
    "    np_vertices = np.array(vertices_position, dtype='float32').reshape(int(number_of_vertices / 3), 3)\n",
    "    # Note: np_faces is just [0, 1, 2, 3, 4, 5, ...], thus arange is used\n",
    "    np_faces = np.arange(np_vertices.shape[0], dtype='uint32')\n",
    "\n",
    "    # set geometry properties\n",
    "    buffer_geometry_properties = {'position': BufferAttribute(np_vertices),\n",
    "                                  'index'   : BufferAttribute(np_faces)}\n",
    "    if _compute_normals_mode == NORMAL.SERVER_SIDE:\n",
    "        # get the normal list, converts to a numpy ndarray. This should not raise\n",
    "        # any issue, since normals have been computed by the server, and are available\n",
    "        # as a list of floats\n",
    "        np_normals = np.array(tess.GetNormalsAsTuple(), dtype='float32').reshape(-1, 3)\n",
    "        # quick check\n",
    "        if np_normals.shape != np_vertices.shape:\n",
    "            raise AssertionError(\"Wrong number of normals/shapes\")\n",
    "        buffer_geometry_properties['normal'] = BufferAttribute(np_normals)\n",
    "\n",
    "    # build a BufferGeometry instance\n",
    "    shape_geometry = BufferGeometry(attributes=buffer_geometry_properties)\n",
    "\n",
    "    # if the client has to render normals, add the related js instructions\n",
    "    if _compute_normals_mode == NORMAL.CLIENT_SIDE:\n",
    "        shape_geometry.exec_three_obj_method('computeVertexNormals')\n",
    "\n",
    "    # then a default material\n",
    "    shp_material = MeshPhongMaterial(color=shape_color,\n",
    "                                     polygonOffset=True,\n",
    "                                     polygonOffsetFactor=1,\n",
    "                                     polygonOffsetUnits=1,\n",
    "                                     shininess=0.9,\n",
    "                                     transparent=transparency,\n",
    "                                     opacity=opacity,\n",
    "                                     side='DoubleSide')\n",
    "\n",
    "    # create a mesh unique id\n",
    "    mesh_id = uuid.uuid4().hex\n",
    "\n",
    "    # finally create the mash\n",
    "    shape_mesh = Mesh(geometry=shape_geometry,\n",
    "                      material=shp_material,\n",
    "                      name=mesh_id)\n",
    "\n",
    "    # edge rendering, if set to True\n",
    "    def explode(edge_list):\n",
    "        return [[edge_list[i], edge_list[i+1]] for i in range(len(edge_list)-1)]\n",
    "\n",
    "    def flatten(nested_list):\n",
    "        return [y for x in nested_list for y in x]\n",
    "    \n",
    "    \n",
    "    edge_lines = None\n",
    "    if render_edges:\n",
    "        edges = list(map(lambda i_edge: [tess.GetEdgeVertex(i_edge, i_vert) \n",
    "                                         for i_vert in range(tess.ObjEdgeGetVertexCount(i_edge))], \n",
    "                         range(tess.ObjGetEdgeCount())))\n",
    "        edges = flatten(list(map(explode, edges)))\n",
    "        np_edge_vertices = np.array(edges, dtype=np.float32).reshape(-1, 3)\n",
    "        np_edge_indices = np.arange(np_edge_vertices.shape[0], dtype=np.uint32)\n",
    "        edge_geometry = BufferGeometry(attributes={\n",
    "            'position': BufferAttribute(np_edge_vertices),\n",
    "            'index'   : BufferAttribute(np_edge_indices)\n",
    "        })\n",
    "        edge_material = LineBasicMaterial(color=edge_color, linewidth=1)\n",
    "        edge_lines = LineSegments(geometry=edge_geometry, material=edge_material)\n",
    "\n",
    "    # Add geometries to pickable or non pickable objects\n",
    "    return (shape_mesh, edge_lines)\n"
   ]
  },
  {
   "cell_type": "code",
   "execution_count": 85,
   "metadata": {
    "ExecuteTime": {
     "end_time": "2019-03-30T10:55:26.247629Z",
     "start_time": "2019-03-30T10:55:26.242140Z"
    }
   },
   "outputs": [
    {
     "data": {
      "text/plain": [
       "(0.0, 0.7499999999999999, 0.0)"
      ]
     },
     "execution_count": 85,
     "metadata": {},
     "output_type": "execute_result"
    }
   ],
   "source": [
    "b.center.toTuple()"
   ]
  },
  {
   "cell_type": "code",
   "execution_count": null,
   "metadata": {},
   "outputs": [],
   "source": []
  },
  {
   "cell_type": "code",
   "execution_count": 89,
   "metadata": {
    "ExecuteTime": {
     "end_time": "2019-03-30T10:57:20.734100Z",
     "start_time": "2019-03-30T10:57:20.582239Z"
    }
   },
   "outputs": [],
   "source": [
    "import math \n",
    "from cadquery import Compound\n",
    "\n",
    "def bbox(shapes):\n",
    "    compounds = [Compound.makeCompound(shape.objects) for shape in shapes]\n",
    "    return Compound.makeCompound(compounds).BoundingBox()\n",
    "\n",
    "view_width = 600\n",
    "view_height = 400\n",
    "\n",
    "mesh1, edges1 = AddShapeToScene(box1.toOCC(), render_edges=True, shape_color=\"#ff0000\")\n",
    "mesh2, edges2 = AddShapeToScene(box2.toOCC(), render_edges=True, shape_color=\"#00ff00\")\n",
    "mesh3, edges3 = AddShapeToScene(box3.toOCC(), render_edges=True, shape_color=\"#0000ff\")\n",
    "\n",
    "bb = bbox([box1, box2, box3])\n",
    "\n",
    "axes = AxesHelper(3)\n",
    "grid = GridHelper(6,12)\n",
    "grid.rotation = (math.pi / 2.0, 0, 0, \"XYZ\")\n",
    "\n",
    "key_light = PointLight(position=[-100, 100, 100])\n",
    "ambient_light = AmbientLight(intensity=0.4)\n",
    "\n",
    "scene = Scene(children=[axes, grid, \n",
    "                        mesh1, edges1, \n",
    "                        mesh2, edges2, \n",
    "                        mesh3, edges3, \n",
    "                        key_light, ambient_light, camera])\n",
    "\n",
    "all_shapes = scene.children[2:-3]\n",
    "\n",
    "camera_target = bb.center.toTuple()\n",
    "camera_position = [0, 0, bb.DiagonalLength]\n",
    "\n",
    "camera = CombinedCamera(position=camera_position, width=view_width, height=view_height)\n",
    "\n",
    "\n",
    "orbit = OrbitControls(controlling=camera, target=camera_target, minPolarAngle=-math.inf, maxPolarAngle=math.inf)\n",
    "\n",
    "renderer = Renderer(scene=scene, camera=camera, controls=[orbit],\n",
    "                    width=view_width, height=view_height)"
   ]
  },
  {
   "cell_type": "code",
   "execution_count": 92,
   "metadata": {
    "ExecuteTime": {
     "end_time": "2019-03-30T10:57:56.302963Z",
     "start_time": "2019-03-30T10:57:56.180335Z"
    }
   },
   "outputs": [],
   "source": [
    "from ipywidgets import ToggleButton, Button, Checkbox, Layout\n",
    "\n",
    "orientations = [\"fit\", \"isometric\", \"right\", \"front\", \"left\", \"rear\", \"top\", \"bottom\"]\n",
    "directions = {\n",
    "    \"left\" :     ( 1,  0,  0),\n",
    "    \"right\":     (-1,  0,  0),\n",
    "    \"front\":     ( 0, -1,  0),\n",
    "    \"rear\" :     ( 0,  1,  0),\n",
    "    \"top\":       ( 0,  0,  1),\n",
    "    \"bottom\":    ( 0,  0, -1),\n",
    "    \"isometric\": ( 1,  1, -1)\n",
    "}\n",
    "\n",
    "def load_image(d):\n",
    "    return open(\"/Users/bernhard/Development/cadquery/cadquery-jupyter-extension/icons/%s.png\" % d, 'rb').read()\n",
    "\n",
    "def im_button(d, handler): \n",
    "    button = ImageButton(\n",
    "        width=36, \n",
    "        height=28, \n",
    "        value=load_image(d),\n",
    "        tooltip=d,\n",
    "        typ=d\n",
    "    )\n",
    "    button.on_click(handler)\n",
    "    return button\n",
    "\n",
    "def scale(vec, r):\n",
    "    n = np.linalg.norm(np.array(vec))\n",
    "    return (vec / n * r).tolist()\n",
    "\n",
    "\n",
    "def handle(b):    \n",
    "    if b.typ == \"fit\":\n",
    "        renderer.camera.position = scale(renderer.camera.position, bb.DiagonalLength)\n",
    "    else:\n",
    "        renderer.camera.position = scale(directions[b.typ], bb.DiagonalLength)\n",
    "\n",
    "    controller = renderer.controls[0]\n",
    "    controller.exec_three_obj_method('update')\n",
    "\n",
    "def toggleAxisGrid(i, b):\n",
    "    def f(change):\n",
    "        scene.children[i].visible = change[\"new\"]\n",
    "    return f\n",
    "\n",
    "def toggleOrtho(camera):\n",
    "    def f(change):\n",
    "        if change[\"new\"]:\n",
    "            camera.mode = 'orthographic'\n",
    "        else:\n",
    "            camera.mode = 'perspective'\n",
    "    return f\n",
    "\n",
    "def sceneChecks():\n",
    "    checks = []\n",
    "    for i, name in ((0, \"Axis\"), (1, \"Grid\"), (2, \"Ortho\")):\n",
    "        checks.append(Checkbox(value=True, description=name, indent=False, \n",
    "                               layout=Layout(width=\"65px\")))\n",
    "        if name == \"Ortho\":\n",
    "            checks[-1].observe(toggleOrtho(camera), \"value\")\n",
    "        else:\n",
    "            checks[-1].observe(toggleAxisGrid(i, buttons[i]), \"value\")\n",
    "        scene.children[i].visible = True\n",
    "    return checks\n",
    "\n",
    "\n",
    "buttons = [im_button(d, handle) for d in orientations]\n",
    "\n",
    "buttons += sceneChecks()"
   ]
  },
  {
   "cell_type": "code",
   "execution_count": 93,
   "metadata": {
    "ExecuteTime": {
     "end_time": "2019-03-30T10:57:56.999060Z",
     "start_time": "2019-03-30T10:57:56.960346Z"
    },
    "scrolled": false
   },
   "outputs": [
    {
     "data": {
      "application/vnd.jupyter.widget-view+json": {
       "model_id": "68ed414e8c3343bb9310dda7ce1a482f",
       "version_major": 2,
       "version_minor": 0
      },
      "text/plain": [
       "VBox(children=(HBox(children=(ImageButton(style=ButtonStyle(), tooltip='fit', typ='fit', value=b'\\x89PNG\\r\\n\\x…"
      ]
     },
     "metadata": {},
     "output_type": "display_data"
    }
   ],
   "source": [
    "VBox([HBox(buttons), renderer])"
   ]
  },
  {
   "cell_type": "code",
   "execution_count": null,
   "metadata": {},
   "outputs": [],
   "source": [
    "orbit."
   ]
  },
  {
   "cell_type": "code",
   "execution_count": null,
   "metadata": {
    "ExecuteTime": {
     "end_time": "2019-03-28T20:15:40.471783Z",
     "start_time": "2019-03-28T20:15:40.467718Z"
    }
   },
   "outputs": [],
   "source": [
    "scene.children[2].visible = True"
   ]
  },
  {
   "cell_type": "code",
   "execution_count": null,
   "metadata": {
    "ExecuteTime": {
     "end_time": "2019-03-28T20:52:53.198688Z",
     "start_time": "2019-03-28T20:52:53.191401Z"
    }
   },
   "outputs": [],
   "source": [
    "renderer.camera.position = scale((0, 0, 1) ,b.DiagonalLength)\n",
    "renderer.controls[0].exec_three_obj_method('update')\n",
    "camera.quaternion"
   ]
  },
  {
   "cell_type": "code",
   "execution_count": null,
   "metadata": {
    "ExecuteTime": {
     "end_time": "2019-03-28T20:52:35.705532Z",
     "start_time": "2019-03-28T20:52:35.700879Z"
    }
   },
   "outputs": [],
   "source": [
    "camera.quaternion = (-2.164890140588733e-17,\n",
    " -0.7071067811865475,\n",
    " -2.164890140588733e-17,\n",
    " 0.7071067811865476)\n",
    "\n",
    "#(0.279848, 0.115917, 0.364705, 0.880476)\n",
    "renderer.controls[0].exec_three_obj_method('update')"
   ]
  },
  {
   "cell_type": "code",
   "execution_count": null,
   "metadata": {
    "ExecuteTime": {
     "end_time": "2019-03-28T20:53:08.339353Z",
     "start_time": "2019-03-28T20:53:08.334456Z"
    }
   },
   "outputs": [],
   "source": [
    "camera.quaternion "
   ]
  },
  {
   "cell_type": "code",
   "execution_count": 46,
   "metadata": {
    "ExecuteTime": {
     "end_time": "2019-03-29T17:32:07.868465Z",
     "start_time": "2019-03-29T17:32:07.863176Z"
    }
   },
   "outputs": [
    {
     "data": {
      "text/plain": [
       "inf"
      ]
     },
     "execution_count": 46,
     "metadata": {},
     "output_type": "execute_result"
    }
   ],
   "source": [
    "orbit.maxAzimuthAngle"
   ]
  },
  {
   "cell_type": "code",
   "execution_count": null,
   "metadata": {
    "ExecuteTime": {
     "end_time": "2019-03-28T20:50:39.124822Z",
     "start_time": "2019-03-28T20:50:39.112346Z"
    },
    "scrolled": false
   },
   "outputs": [],
   "source": [
    "from pythreejs import Quaternion\n",
    "from math import atan, sqrt\n",
    "\n",
    "q1 = Quaternion(1, 0, 0, atan(1 / sqrt(2)))\n",
    "q2 = Quaternion(0, 0, 1, pi / 4)\n",
    "\n",
    "from OCC.gp import gp_Quaternion, gp_Vec\n",
    "q1 = gp_Quaternion(gp_Vec(1, 0, 0), atan(1 / sqrt(2)))\n",
    "q2 = gp_Quaternion(gp_Vec(0, 0, 1), pi / 4)\n",
    "q2 * q1"
   ]
  },
  {
   "cell_type": "markdown",
   "metadata": {},
   "source": [
    "# ====== SCRATCH ======"
   ]
  },
  {
   "cell_type": "code",
   "execution_count": null,
   "metadata": {
    "ExecuteTime": {
     "end_time": "2019-03-28T20:09:29.681473Z",
     "start_time": "2019-03-28T20:09:29.669233Z"
    }
   },
   "outputs": [],
   "source": [
    "from OCC.Display.WebGl.jupyter_renderer import JupyterRenderer"
   ]
  },
  {
   "cell_type": "code",
   "execution_count": null,
   "metadata": {
    "ExecuteTime": {
     "end_time": "2019-03-21T21:08:04.987614Z",
     "start_time": "2019-03-21T21:08:04.925286Z"
    }
   },
   "outputs": [],
   "source": [
    "from ipywidgets import Image, Button, HBox, VBox\n",
    "from IPython.display import display, Javascript\n",
    "\n",
    "def scale(vec, r):\n",
    "    n = np.linalg.norm(np.array(vec))\n",
    "    return (vec / n * r).tolist()\n",
    "\n",
    "def im(d): \n",
    "    image = Image(width=40, \n",
    "                  height=32, \n",
    "                  format='png',\n",
    "                  value=open(\"/Users/bernhard/Development/cadquery/cadquery-jupyter-extension/icons/%s.png\" % d, 'rb').read())\n",
    "    image.add_class('im_control')\n",
    "    image.add_class(d)\n",
    "    return image\n",
    "\n",
    "buttons = [im(d) for d in [\"fit\", \"isometric\", \"right\", \"front\", \"left\", \"rear\", \"top\", \"bottom\"]]"
   ]
  },
  {
   "cell_type": "code",
   "execution_count": null,
   "metadata": {
    "ExecuteTime": {
     "end_time": "2019-03-22T16:52:29.663933Z",
     "start_time": "2019-03-22T16:52:29.656343Z"
    }
   },
   "outputs": [],
   "source": [
    "directions = {\n",
    "    \"left\" :     ( 1, 0, 0),\n",
    "    \"right\":     (-1, 0, 0),\n",
    "    \"front\":     ( 0, 1, 0),\n",
    "    \"rear\" :     ( 0,-1, 0),\n",
    "    \"top\":       ( 0, 0, 1),\n",
    "    \"bottom\":    ( 0, 0,-1),\n",
    "    \"isometric\": ( 1, 1, -1)\n",
    "}\n",
    "\n",
    "def move_camera(d):\n",
    "    if d == \"fit\":\n",
    "        my_renderer._camera.position = scale(my_renderer._camera.position, b.DiagonalLength)\n",
    "    else:\n",
    "        my_renderer._camera.position = scale(directions[d] ,b.DiagonalLength)\n",
    "\n",
    "    controller = my_renderer._renderer.controls[0]\n",
    "    controller.exec_three_obj_method('update')\n",
    "\n",
    "def on_image_click(icon):\n",
    "    move_camera(icon)\n",
    "    return "
   ]
  },
  {
   "cell_type": "code",
   "execution_count": null,
   "metadata": {
    "ExecuteTime": {
     "end_time": "2019-03-24T18:52:40.079571Z",
     "start_time": "2019-03-24T18:52:40.075644Z"
    }
   },
   "outputs": [],
   "source": []
  },
  {
   "cell_type": "code",
   "execution_count": null,
   "metadata": {
    "ExecuteTime": {
     "end_time": "2019-03-28T20:08:59.588135Z",
     "start_time": "2019-03-28T20:08:59.513678Z"
    }
   },
   "outputs": [],
   "source": [
    "class JupyterRenderer(object):\n",
    "    def __init__(self, size=(480, 480), compute_normals_mode=NORMAL.SERVER_SIDE, parallel=False):\n",
    "        \"\"\" Creates a jupyter renderer.\n",
    "        size: a tuple (width, height). Must be a square, or shapes will look like deformed\n",
    "        compute_normals_mode: optional, set to SERVER_SIDE by default. This flag lets you choose the\n",
    "        way normals are computed. If SERVER_SIDE is selected (default value), then normals\n",
    "        will be computed by the Tesselator, packed as a python tuple, and send as a json structure\n",
    "        to the client. If, on the other hand, CLIENT_SIDE is chose, then the computer only compute vertex\n",
    "        indices, and let the normals be computed by the client (the web js machine embedded in the webrowser).\n",
    "\n",
    "        * SERVER_SIDE: higher server load, loading time increased, lower client load. Poor performance client will\n",
    "          choose this option (mobile terminals for instance)\n",
    "        * CLIENT_SIDE: lower server load, loading time decreased, higher client load. Higher performance clients will\n",
    "                            choose this option (laptops, desktop machines).\n",
    "        * parallel: optional, False by default. If set to True, meshing runs in parallelized mode.\n",
    "        \"\"\"\n",
    "        self._background = 'white'\n",
    "        self._background_opacity = 1\n",
    "        self._size = size\n",
    "        self._compute_normals_mode = compute_normals_mode\n",
    "        self._parallel = parallel\n",
    "\n",
    "        self.html = HTML(\"Selected shape : None\")\n",
    "        # the default camera object\n",
    "        self._camera_target = [0., 0., 0.]  # the point to look at\n",
    "        self._camera_position = [0, 0., 100.]  # the camera initial position\n",
    "        self._camera = None\n",
    "\n",
    "        # a dictionnary of all the shapes belonging to the renderer\n",
    "        # each element is a key 'mesh_id:shape'\n",
    "        self._shapes = {}\n",
    "\n",
    "        # we save the renderer so that is can be accessed\n",
    "        self._renderer = None\n",
    "\n",
    "        # the group of 3d and 2d objects to render\n",
    "        self._displayed_pickable_objects = Group()\n",
    "\n",
    "        # the group of other objects (grid, trihedron etc.) that can't e selected\n",
    "        self._displayed_non_pickable_objects = Group()\n",
    "\n",
    "        # event manager/selection manager\n",
    "        self._picker = Picker(controlling=self._displayed_pickable_objects, event='mousedown')\n",
    "\n",
    "        self._current_shape_selection = None\n",
    "        self._current_mesh_selection = None\n",
    "        self._current_selection_material = None  # the color of the object currently being rendered\n",
    "        self._select_callbacks = []  # a list of all functions called after an object is selected\n",
    "\n",
    "\n",
    "        def click(value):\n",
    "            \"\"\" called whenever a shape  or edge is clicked\n",
    "            \"\"\"\n",
    "            obj = value.owner.object\n",
    "            if self._current_mesh_selection is not None:\n",
    "                self._current_mesh_selection.material = self._current_selection_material\n",
    "            if obj is not None:\n",
    "                id_clicked = obj.name  # the mesh id clicked\n",
    "                self._current_mesh_selection = obj\n",
    "                self._current_selection_material = obj.material\n",
    "                obj.material = default_selection_material\n",
    "                # get the shape from this mesh id\n",
    "                selected_shape = self._shapes[id_clicked]\n",
    "                self.html.value = \"<b>Shape id:</b> %s<br><b>Topology hierearchy</b>\" % (selected_shape)\n",
    "                self._current_shape_selection = selected_shape\n",
    "            else:\n",
    "                self.html.value = \"<b>Shape id:</b> None\"\n",
    "            # then execute calbacks\n",
    "            for callback in self._select_callbacks:\n",
    "                callback(self._current_shape_selection)\n",
    "\n",
    "        self._picker.observe(click)\n",
    "\n",
    "        # key press and related events\n",
    "        #def key_pressed(widget):\n",
    "        #    print(\"key pressed\")\n",
    "        #self._picker2 = Picker(event='keypress')\n",
    "        #self._picker.observe(key_pressed)\n",
    "\n",
    "\n",
    "    def register_select_callback(self, callback):\n",
    "        \"\"\" Adds a callback that will be called each time a shape is selected\n",
    "        \"\"\"\n",
    "        if not callable(callback):\n",
    "            raise AssertionError(\"You must provide a callable to register the callback\")\n",
    "        else:\n",
    "            self._select_callbacks.append(callback)\n",
    "\n",
    "\n",
    "    def unregister_callback(self, callback):\n",
    "        \"\"\" Remove a callback from the callback list\n",
    "        \"\"\"\n",
    "        if not callback in self._select_callbacks:\n",
    "            raise AssertionError(\"This callback is not registered\")\n",
    "        else:\n",
    "            self._select_callbacks.remove(callback)\n",
    "\n",
    "\n",
    "    def _update_camera(self):\n",
    "        all_shapes = list(self._shapes.values())\n",
    "        if all_shapes:\n",
    "            bb = reduce(operator.add, map(bounding_box, all_shapes))\n",
    "            print([bb.x_center, bb.y_center, bb.z_center])\n",
    "            print([bb.x_size, bb.y_size, bb.z_size])\n",
    "            self._camera_target = [bb.x_center, bb.y_center, bb.z_center]\n",
    "            self._camera_position = [0, bb.y_center - 2 * bb.y_size, bb.z_center + 2 * bb.z_center]\n",
    "        self._camera = OrthographicCamera(left=-bb.y_size, \n",
    "                                          right=bb.y_size, \n",
    "                                          top=bb.z_size, \n",
    "                                          bottom=-bb.z_size,\n",
    "                                          children=[DirectionalLight(color='#ffffff', position=[50, 50, 50], intensity=0.9)])\n",
    "#         self._camera = PerspectiveCamera(position=self._camera_position,\n",
    "#                                          lookAt=self._camera_target,\n",
    "#                                          up=[0, 0, 1],\n",
    "#                                          aspect=self._size[0] / self._size[1],\n",
    "#                                          fov=50,\n",
    "#                                          children=[DirectionalLight(color='#ffffff', position=[50, 50, 50], intensity=0.9)])\n",
    "\n",
    "\n",
    "    def GetSelectedShape(self):\n",
    "        \"\"\" Returns the selected shape\n",
    "        \"\"\"\n",
    "        return self._current_shape_selection\n",
    "\n",
    "\n",
    "    def DisplayGrid(self, sizex, sizey, nx, ny):\n",
    "        \"\"\" Displays a grid in the renderer.\n",
    "        sizex: float, grid size along x axis\n",
    "        sizey: float, grid size along y axis\n",
    "        nx: integer, number of segments along the x axis\n",
    "        ny: integer, number of segments along the y axis\n",
    "        \"\"\"\n",
    "        surf_geo = SurfaceGeometry(z=[0] * (nx + 1) * (ny + 1),\n",
    "                                   width=sizex,\n",
    "                                   height=sizey,\n",
    "                                   width_segments=nx,\n",
    "                                   height_segments=ny)\n",
    "        surf_grid = SurfaceGrid(geometry=surf_geo,\n",
    "                                material=LineBasicMaterial(color='#000000',\n",
    "                                                           opacity=0.2,\n",
    "                                                           transparent=True))\n",
    "        self._displayed_non_pickable_objects.add(surf_grid)\n",
    "        return surf_geo\n",
    "\n",
    "\n",
    "    def DisplayMesh(self,\n",
    "                    mesh,\n",
    "                    color=default_mesh_color):\n",
    "        \"\"\" Display a MEFISTO2 triangle mesh\n",
    "        \"\"\"\n",
    "        if not HAVE_SMESH:\n",
    "            print(\"SMESH not installed, DisplayMesh method unavailable.\")\n",
    "            return\n",
    "        if not isinstance(mesh, SMESH_Mesh):\n",
    "            raise AssertionError(\"You mush provide an SMESH_Mesh instance\")\n",
    "        mesh_ds = mesh.GetMeshDS()  # the mesh data source\n",
    "        face_iter = mesh_ds.facesIterator()\n",
    "        # vertices positions are stored to a liste\n",
    "        vertices_position = []\n",
    "        for _ in range(mesh_ds.NbFaces()-1):\n",
    "            face = face_iter.next()\n",
    "            #print('Face %i, type %i' % (i, face.GetType()))\n",
    "            #print(dir(face))\n",
    "            # if face.GetType == 3 : triangle mesh, then 3 nodes\n",
    "            for j in range(3):\n",
    "                node = face.GetNode(j)\n",
    "                #print('Coordinates of node %i:(%f,%f,%f)'%(i, node.X(), node.Y(), node.Z()))\n",
    "                vertices_position.append(node.X())\n",
    "                vertices_position.append(node.Y())\n",
    "                vertices_position.append(node.Z())\n",
    "        number_of_vertices = len(vertices_position)\n",
    "        # then we build the vertex and faces collections as numpy ndarrays\n",
    "        np_vertices = np.array(vertices_position, dtype='float32').reshape(int(number_of_vertices / 3), 3)\n",
    "        # Note: np_faces is just [0, 1, 2, 3, 4, 5, ...], thus arange is used\n",
    "        np_faces = np.arange(np_vertices.shape[0], dtype='uint32')\n",
    "        # set geometry properties\n",
    "        buffer_geometry_properties = {'position': BufferAttribute(np_vertices),\n",
    "                                      'index'   : BufferAttribute(np_faces)}\n",
    "        # build a BufferGeometry instance\n",
    "        mesh_geometry = BufferGeometry(attributes=buffer_geometry_properties)\n",
    "\n",
    "        mesh_geometry.exec_three_obj_method('computeVertexNormals')\n",
    "\n",
    "        # then a default material\n",
    "        mesh_material = MeshPhongMaterial(color=color,\n",
    "                                          polygonOffset=True,\n",
    "                                          polygonOffsetFactor=1,\n",
    "                                          polygonOffsetUnits=1,\n",
    "                                          shininess=0.5,\n",
    "                                          wireframe=False,\n",
    "                                          side='DoubleSide')\n",
    "        edges_material = MeshPhongMaterial(color='black',\n",
    "                                           polygonOffset=True,\n",
    "                                           polygonOffsetFactor=1,\n",
    "                                           polygonOffsetUnits=1,\n",
    "                                           shininess=0.5,\n",
    "                                           wireframe=True)\n",
    "        # create a mesh unique id\n",
    "        mesh_id = uuid.uuid4().hex\n",
    "\n",
    "        # finally create the mash\n",
    "        shape_mesh = Mesh(geometry=mesh_geometry,\n",
    "                          material=mesh_material,\n",
    "                          name=mesh_id)\n",
    "        edges_mesh = Mesh(geometry=mesh_geometry,\n",
    "                          material=edges_material,\n",
    "                          name=mesh_id)\n",
    "\n",
    "\n",
    "        # a special display for the mesh\n",
    "        camera_target = [0., 0., 0.]  # the point to look at\n",
    "        camera_position = [0, 0., 100.]  # the camera initial position\n",
    "        self._camera = OrthographicCamera(left=-bb.y_size, \n",
    "                                          right=bb.y_size, \n",
    "                                          top=bb.z_size, \n",
    "                                          bottom=-bb.z_size,\n",
    "                                          children=[DirectionalLight(color='#ffffff', position=[50, 50, 50], intensity=0.9)])\n",
    "#         camera = PerspectiveCamera(position=camera_position,\n",
    "#                                    lookAt=camera_target,\n",
    "#                                    up=[0, 0, 1],\n",
    "#                                    fov=50,\n",
    "#                                    children=[DirectionalLight(color='#ffffff',\n",
    "#                                                               position=[50, 50, 50],\n",
    "#                                                               intensity=0.9)])\n",
    "        scene_shp = Scene(children=[shape_mesh, edges_mesh, camera, AmbientLight(color='#101010')])\n",
    "\n",
    "        renderer = Renderer(camera=camera,\n",
    "                            background=self._background,\n",
    "                            background_opacity=self._background_opacity,\n",
    "                            scene=scene_shp,\n",
    "                            controls=[OrbitControls(controlling=camera, target=camera_target)],\n",
    "                            width=self._size[0],\n",
    "                            height=self._size[1],\n",
    "                            antialias=True)\n",
    "\n",
    "        display(renderer)\n",
    "\n",
    "\n",
    "    def DisplayShape(self,\n",
    "                     shp,  # the TopoDS_Shape to be displayed\n",
    "                     shape_color=default_shape_color,  # the default\n",
    "                     render_edges=False,\n",
    "                     edge_color=default_edge_color,\n",
    "                     compute_uv_coords=False,\n",
    "                     quality=1.0,\n",
    "                     transparency=False,\n",
    "                     opacity=1.,\n",
    "                     topo_level='default',\n",
    "                     update=False):\n",
    "        \"\"\" Displays a topods_shape in the renderer instance.\n",
    "        shp: the TopoDS_Shape to render\n",
    "        shape_color: the shape color, in html corm, eg '#abe000'\n",
    "        render_edges: optional, False by default. If True, compute and dislay all\n",
    "                      edges as a linear interpolation of segments.\n",
    "        edge_color: optional, black by default. The color used for edge rendering,\n",
    "                    in html form eg '#ff00ee'\n",
    "        compute_uv_coords: optional, false by default. If True, compute texture\n",
    "                           coordinates (required if the shape has to be textured)\n",
    "        quality: optional, 1.0 by default. If set to something lower than 1.0,\n",
    "                      mesh will be more precise. If set to something higher than 1.0,\n",
    "                      mesh will be less precise, i.e. lower numer of triangles.\n",
    "        transparency: optional, False by default (opaque).\n",
    "        opacity: optional, float, by default to 1 (opaque). if transparency is set to True,\n",
    "                 0. is fully opaque, 1. is fully transparent.\n",
    "        topo_level: \"default\" by default. The value should be either \"compound\", \"shape\", \"vertex\".\n",
    "        update: optional, False by default. If True, render all the shapes.\n",
    "        \"\"\"\n",
    "        if is_wire(shp) or is_edge(shp):\n",
    "            self.AddCurveToScene(shp, shape_color)\n",
    "        if topo_level != \"default\":\n",
    "            t = TopologyExplorer(shp)\n",
    "            map_type_and_methods = {\"Solid\": t.solids, \"Face\": t.faces, \"Shell\": t.shells,\n",
    "                                    \"Compound\": t.compounds, \"Compsolid\": t.comp_solids}\n",
    "            for subshape in map_type_and_methods[topo_level]():\n",
    "                self.AddShapeToScene(subshape, shape_color, render_edges, edge_color, compute_uv_coords, quality,\n",
    "                                     transparency, opacity)\n",
    "        else:\n",
    "            self.AddShapeToScene(shp, shape_color, render_edges, edge_color, compute_uv_coords, quality,\n",
    "                                 transparency, opacity)\n",
    "        if update:\n",
    "            self.Display()\n",
    "\n",
    "\n",
    "    def AddCurveToScene(self, shp, color):\n",
    "        \"\"\" shp is either a TopoDS_Wire or a TopodS_Edge.\n",
    "        \"\"\"\n",
    "        if is_edge(shp):\n",
    "            pnts = discretize_edge(shp)\n",
    "        elif is_wire(shp):\n",
    "            pnts = discretize_wire(shp)\n",
    "        np_edge_vertices = np.array(pnts, dtype=np.float32)\n",
    "        np_edge_indices = np.arange(np_edge_vertices.shape[0], dtype=np.uint32)\n",
    "        edge_geometry = BufferGeometry(attributes={\n",
    "            'position': BufferAttribute(np_edge_vertices),\n",
    "            'index'   : BufferAttribute(np_edge_indices)\n",
    "        })\n",
    "        edge_material = LineBasicMaterial(color=color, linewidth=2, fog=True)\n",
    "        edge_lines = LineSegments(geometry=edge_geometry, material=edge_material)\n",
    "\n",
    "        # Add geometries to pickable or non pickable objects\n",
    "        self._displayed_pickable_objects.add(edge_lines)\n",
    "\n",
    "\n",
    "    def AddShapeToScene(self,\n",
    "                        shp,  # the TopoDS_Shape to be displayed\n",
    "                        shape_color=default_shape_color,  # the default\n",
    "                        render_edges=False,\n",
    "                        edge_color=default_edge_color,\n",
    "                        compute_uv_coords=False,\n",
    "                        quality=1.0,\n",
    "                        transparency=False,\n",
    "                        opacity=1.):\n",
    "        # first, compute the tesselation\n",
    "        tess = Tesselator(shp)\n",
    "        tess.Compute(uv_coords=compute_uv_coords,\n",
    "                     compute_edges=render_edges,\n",
    "                     mesh_quality=quality,\n",
    "                     parallel=self._parallel)\n",
    "        # get vertices and normals\n",
    "        vertices_position = tess.GetVerticesPositionAsTuple()\n",
    "\n",
    "        number_of_triangles = tess.ObjGetTriangleCount()\n",
    "        number_of_vertices = len(vertices_position)\n",
    "\n",
    "        # number of vertices should be a multiple of 3\n",
    "        if number_of_vertices % 3 != 0:\n",
    "            raise AssertionError(\"Wrong number of vertices\")\n",
    "        if number_of_triangles * 9 != number_of_vertices:\n",
    "            raise AssertionError(\"Wrong number of triangles\")\n",
    "\n",
    "        # then we build the vertex and faces collections as numpy ndarrays\n",
    "        np_vertices = np.array(vertices_position, dtype='float32').reshape(int(number_of_vertices / 3), 3)\n",
    "        # Note: np_faces is just [0, 1, 2, 3, 4, 5, ...], thus arange is used\n",
    "        np_faces = np.arange(np_vertices.shape[0], dtype='uint32')\n",
    "\n",
    "        # set geometry properties\n",
    "        buffer_geometry_properties = {'position': BufferAttribute(np_vertices),\n",
    "                                      'index'   : BufferAttribute(np_faces)}\n",
    "        if self._compute_normals_mode == NORMAL.SERVER_SIDE:\n",
    "            # get the normal list, converts to a numpy ndarray. This should not raise\n",
    "            # any issue, since normals have been computed by the server, and are available\n",
    "            # as a list of floats\n",
    "            np_normals = np.array(tess.GetNormalsAsTuple(), dtype='float32').reshape(-1, 3)\n",
    "            # quick check\n",
    "            if np_normals.shape != np_vertices.shape:\n",
    "                raise AssertionError(\"Wrong number of normals/shapes\")\n",
    "            buffer_geometry_properties['normal'] = BufferAttribute(np_normals)\n",
    "\n",
    "        # build a BufferGeometry instance\n",
    "        shape_geometry = BufferGeometry(attributes=buffer_geometry_properties)\n",
    "\n",
    "        # if the client has to render normals, add the related js instructions\n",
    "        if self._compute_normals_mode == NORMAL.CLIENT_SIDE:\n",
    "            shape_geometry.exec_three_obj_method('computeVertexNormals')\n",
    "\n",
    "        # then a default material\n",
    "        shp_material = MeshPhongMaterial(color=shape_color,\n",
    "                                         polygonOffset=True,\n",
    "                                         polygonOffsetFactor=1,\n",
    "                                         polygonOffsetUnits=1,\n",
    "                                         shininess=0.9,\n",
    "                                         transparent=transparency,\n",
    "                                         opacity=opacity,\n",
    "                                         side='DoubleSide')\n",
    "\n",
    "        # create a mesh unique id\n",
    "        mesh_id = uuid.uuid4().hex\n",
    "\n",
    "        # finally create the mash\n",
    "        shape_mesh = Mesh(geometry=shape_geometry,\n",
    "                          material=shp_material,\n",
    "                          name=mesh_id)\n",
    "\n",
    "\n",
    "        # and to the dict of shapes, to have a mapping between meshes and shapes\n",
    "        self._shapes[mesh_id] = shp\n",
    "\n",
    "        # edge rendering, if set to True\n",
    "        edge_lines = None\n",
    "\n",
    "        if render_edges:\n",
    "            edges = list(map(lambda i_edge: [tess.GetEdgeVertex(i_edge, i_vert) for i_vert in range(tess.ObjEdgeGetVertexCount(i_edge))], range(tess.ObjGetEdgeCount())))\n",
    "            edges = list(filter(lambda edge: len(edge) == 2, edges))\n",
    "\n",
    "            np_edge_vertices = np.array(edges, dtype=np.float32).reshape(-1, 3)\n",
    "            np_edge_indices = np.arange(np_edge_vertices.shape[0], dtype=np.uint32)\n",
    "            edge_geometry = BufferGeometry(attributes={\n",
    "                'position': BufferAttribute(np_edge_vertices),\n",
    "                'index'   : BufferAttribute(np_edge_indices)\n",
    "            })\n",
    "            edge_material = LineBasicMaterial(color=edge_color, linewidth=1)\n",
    "            edge_lines = LineSegments(geometry=edge_geometry, material=edge_material)\n",
    "\n",
    "        # Add geometries to pickable or non pickable objects\n",
    "        self._displayed_pickable_objects.add(shape_mesh)\n",
    "        if render_edges:\n",
    "            self._displayed_non_pickable_objects.add(edge_lines)\n",
    "\n",
    "\n",
    "    def EraseAll(self):\n",
    "        self._shapes = {}\n",
    "        self._displayed_pickable_objects = Group()\n",
    "        self._current_shape_selection = None\n",
    "        self._current_mesh_selection = None\n",
    "        self._current_selection_material = None\n",
    "        self._renderer.scene = Scene(children=[])\n",
    "\n",
    "\n",
    "    def Display(self):\n",
    "        self._update_camera()\n",
    "        scene_shp = Scene(children=[self._displayed_pickable_objects,\n",
    "                                    self._displayed_non_pickable_objects,\n",
    "                                    self._camera,\n",
    "                                    AmbientLight(color='#101010')])\n",
    "\n",
    "        self._renderer = Renderer(camera=self._camera,\n",
    "                                  background=self._background,\n",
    "                                  background_opacity=self._background_opacity,\n",
    "                                  scene=scene_shp,\n",
    "                                  controls=[OrbitControls(controlling=self._camera, target=self._camera_target), self._picker],\n",
    "                                  width=self._size[0],\n",
    "                                  height=self._size[1],\n",
    "                                  antialias=True)\n",
    "        # then display both 3d widgets and webui\n",
    "        display(VBox([HBox(buttons), HBox([self._renderer, self.html])]))\n",
    "\n",
    "\n",
    "    def __repr__(self):\n",
    "        self.Display()\n",
    "        #Now, I wrote some javascript(jQuery) code like this...\n",
    "        js = ''' $(\".im_control\").on(\"click\", function(e){\n",
    "                     var icon = $(e.target)[0].className.split(\" \").slice(-1)[0]\n",
    "                     var kernel = IPython.notebook.kernel;\n",
    "                     kernel.execute('on_image_click(\"' + icon + '\")');\n",
    "                  });'''\n",
    "\n",
    "        #then, run the javascript...\n",
    "        display(Javascript(js))\n",
    "        return \"\""
   ]
  },
  {
   "cell_type": "code",
   "execution_count": null,
   "metadata": {
    "ExecuteTime": {
     "end_time": "2019-03-28T20:09:38.394226Z",
     "start_time": "2019-03-28T20:09:37.934248Z"
    },
    "scrolled": false
   },
   "outputs": [],
   "source": [
    "my_renderer = JupyterRenderer(parallel=True)\n",
    "\n",
    "grid = my_renderer.DisplayGrid(7.5, 7.5, 15, 15)\n",
    "my_renderer.DisplayShape(box1.toOCC(), transparency=True, opacity=0.5, render_edges=True, shape_color=\"#ff0000\", edge_color='#000000', topo_level=\"Solid\")\n",
    "my_renderer.DisplayShape(box2.toOCC(), transparency=True, opacity=0.5, render_edges=True, shape_color=\"#00ff00\", edge_color='#000000', topo_level=\"Solid\")\n",
    "my_renderer.DisplayShape(box3.toOCC(), transparency=True, opacity=0.5, render_edges=True, shape_color=\"#0000ff\", edge_color='#000000', topo_level=\"Solid\")\n",
    "\n",
    "my_renderer"
   ]
  },
  {
   "cell_type": "code",
   "execution_count": null,
   "metadata": {
    "ExecuteTime": {
     "end_time": "2019-03-22T16:55:46.833782Z",
     "start_time": "2019-03-22T16:55:46.827598Z"
    }
   },
   "outputs": [],
   "source": [
    "js = ''' $(\".im_control\").on(\"click\", function(e){\n",
    "             var icon = $(e.target)[0].className.split(\" \").slice(-1)[0]\n",
    "             var kernel = IPython.notebook.kernel;\n",
    "             kernel.execute('on_image_click(\"' + icon + '\")');\n",
    "          });'''\n",
    "\n",
    "display(Javascript(js))"
   ]
  },
  {
   "cell_type": "code",
   "execution_count": null,
   "metadata": {
    "ExecuteTime": {
     "end_time": "2019-03-22T16:53:05.251751Z",
     "start_time": "2019-03-22T16:53:05.246446Z"
    }
   },
   "outputs": [],
   "source": [
    "my_renderer._camera_position"
   ]
  },
  {
   "cell_type": "code",
   "execution_count": null,
   "metadata": {
    "ExecuteTime": {
     "end_time": "2019-03-24T15:12:02.344608Z",
     "start_time": "2019-03-24T15:12:02.340358Z"
    }
   },
   "outputs": [],
   "source": [
    "edges"
   ]
  },
  {
   "cell_type": "code",
   "execution_count": null,
   "metadata": {
    "ExecuteTime": {
     "end_time": "2019-03-24T15:25:39.702168Z",
     "start_time": "2019-03-24T15:25:39.690484Z"
    }
   },
   "outputs": [],
   "source": [
    "camera.position"
   ]
  },
  {
   "cell_type": "code",
   "execution_count": null,
   "metadata": {
    "ExecuteTime": {
     "end_time": "2019-03-24T15:31:44.415184Z",
     "start_time": "2019-03-24T15:31:44.411270Z"
    }
   },
   "outputs": [],
   "source": [
    "scene.children[2].visible = False"
   ]
  },
  {
   "cell_type": "code",
   "execution_count": null,
   "metadata": {
    "ExecuteTime": {
     "end_time": "2019-03-24T15:54:43.486619Z",
     "start_time": "2019-03-24T15:54:43.481211Z"
    }
   },
   "outputs": [],
   "source": [
    "grid.colorGrid"
   ]
  },
  {
   "cell_type": "code",
   "execution_count": null,
   "metadata": {
    "ExecuteTime": {
     "end_time": "2019-03-24T15:54:39.675436Z",
     "start_time": "2019-03-24T15:54:39.668130Z"
    }
   },
   "outputs": [],
   "source": [
    "grid.colorCenterLine"
   ]
  },
  {
   "cell_type": "code",
   "execution_count": null,
   "metadata": {
    "ExecuteTime": {
     "end_time": "2019-03-24T15:57:11.676187Z",
     "start_time": "2019-03-24T15:57:11.662576Z"
    }
   },
   "outputs": [],
   "source": [
    "Button(\n",
    "    description='',\n",
    "    disabled=False,\n",
    "    button_style='', # 'success', 'info', 'warning', 'danger' or ''\n",
    "    tooltip='Click me',\n",
    "    icon='check'\n",
    ")"
   ]
  },
  {
   "cell_type": "code",
   "execution_count": null,
   "metadata": {},
   "outputs": [],
   "source": []
  },
  {
   "cell_type": "code",
   "execution_count": null,
   "metadata": {},
   "outputs": [],
   "source": []
  },
  {
   "cell_type": "code",
   "execution_count": null,
   "metadata": {
    "ExecuteTime": {
     "end_time": "2019-03-28T19:20:32.726559Z",
     "start_time": "2019-03-28T19:20:32.716401Z"
    }
   },
   "outputs": [],
   "source": [
    "tess = Tesselator(box1.toOCC())"
   ]
  },
  {
   "cell_type": "code",
   "execution_count": null,
   "metadata": {
    "ExecuteTime": {
     "end_time": "2019-03-28T19:21:55.736963Z",
     "start_time": "2019-03-28T19:21:55.726774Z"
    }
   },
   "outputs": [],
   "source": [
    "tess.Compute(uv_coords=False,\n",
    "                 compute_edges=True,\n",
    "                 mesh_quality=1.0,\n",
    "                 parallel=True)\n",
    "    \n",
    "vertices_position = tess.GetVerticesPositionAsTuple()\n",
    "    \n"
   ]
  },
  {
   "cell_type": "code",
   "execution_count": null,
   "metadata": {
    "ExecuteTime": {
     "end_time": "2019-03-28T19:24:21.761369Z",
     "start_time": "2019-03-28T19:24:21.755942Z"
    }
   },
   "outputs": [],
   "source": [
    "tess.ObjGetTriangleCount(), tess.ObjGetEdgeCount()"
   ]
  },
  {
   "cell_type": "code",
   "execution_count": null,
   "metadata": {
    "ExecuteTime": {
     "end_time": "2019-03-28T19:37:29.615694Z",
     "start_time": "2019-03-28T19:37:29.610494Z"
    }
   },
   "outputs": [],
   "source": [
    "edges = list(map(lambda i_edge: [tess.GetEdgeVertex(i_edge, i_vert) \n",
    "                                         for i_vert in range(tess.ObjEdgeGetVertexCount(i_edge))], \n",
    "                         range(tess.ObjGetEdgeCount())))"
   ]
  },
  {
   "cell_type": "code",
   "execution_count": null,
   "metadata": {
    "ExecuteTime": {
     "end_time": "2019-03-28T19:23:21.532033Z",
     "start_time": "2019-03-28T19:23:21.526662Z"
    }
   },
   "outputs": [],
   "source": [
    "edges = list(filter(lambda edge: len(edge) == 2, edges))"
   ]
  },
  {
   "cell_type": "code",
   "execution_count": null,
   "metadata": {
    "ExecuteTime": {
     "end_time": "2019-03-28T19:23:21.532033Z",
     "start_time": "2019-03-28T19:23:21.526662Z"
    }
   },
   "outputs": [],
   "source": [
    "np_edge_vertices = np.array(edges, dtype=np.float32).reshape(-1, 3)\n",
    "np_edge_indices = np.arange(np_edge_vertices.shape[0], dtype=np.uint32)\n",
    "edge_geometry = BufferGeometry(attributes={"
   ]
  },
  {
   "cell_type": "code",
   "execution_count": null,
   "metadata": {
    "ExecuteTime": {
     "end_time": "2019-03-28T19:35:57.617685Z",
     "start_time": "2019-03-28T19:35:57.598566Z"
    }
   },
   "outputs": [],
   "source": [
    "edges"
   ]
  },
  {
   "cell_type": "code",
   "execution_count": null,
   "metadata": {
    "ExecuteTime": {
     "end_time": "2019-03-28T19:39:13.872800Z",
     "start_time": "2019-03-28T19:39:13.851206Z"
    }
   },
   "outputs": [],
   "source": [
    "[y for x in list(map(explode, edges)) for y in x]\n"
   ]
  },
  {
   "cell_type": "code",
   "execution_count": null,
   "metadata": {
    "ExecuteTime": {
     "end_time": "2019-03-28T19:36:50.044156Z",
     "start_time": "2019-03-28T19:36:50.025623Z"
    }
   },
   "outputs": [],
   "source": [
    "edges"
   ]
  },
  {
   "cell_type": "code",
   "execution_count": null,
   "metadata": {
    "ExecuteTime": {
     "end_time": "2019-03-28T19:32:42.277300Z",
     "start_time": "2019-03-28T19:32:42.273630Z"
    }
   },
   "outputs": [],
   "source": [
    "a = [1,2,3,4,5,6]"
   ]
  },
  {
   "cell_type": "code",
   "execution_count": null,
   "metadata": {
    "ExecuteTime": {
     "end_time": "2019-03-28T19:34:17.092398Z",
     "start_time": "2019-03-28T19:34:17.087934Z"
    }
   },
   "outputs": [],
   "source": []
  },
  {
   "cell_type": "code",
   "execution_count": null,
   "metadata": {
    "ExecuteTime": {
     "end_time": "2019-03-28T19:34:21.997383Z",
     "start_time": "2019-03-28T19:34:21.992663Z"
    }
   },
   "outputs": [],
   "source": [
    "explode(a)"
   ]
  },
  {
   "cell_type": "code",
   "execution_count": null,
   "metadata": {
    "ExecuteTime": {
     "end_time": "2019-03-28T19:34:39.653307Z",
     "start_time": "2019-03-28T19:34:39.648134Z"
    }
   },
   "outputs": [],
   "source": [
    "explode([1,2])"
   ]
  },
  {
   "cell_type": "code",
   "execution_count": null,
   "metadata": {
    "ExecuteTime": {
     "end_time": "2019-03-28T19:41:11.756957Z",
     "start_time": "2019-03-28T19:41:11.734250Z"
    }
   },
   "outputs": [],
   "source": [
    "flatten(list(map(explode, edges)))"
   ]
  },
  {
   "cell_type": "code",
   "execution_count": null,
   "metadata": {
    "ExecuteTime": {
     "end_time": "2019-03-28T19:41:09.338855Z",
     "start_time": "2019-03-28T19:41:09.335288Z"
    }
   },
   "outputs": [],
   "source": []
  },
  {
   "cell_type": "code",
   "execution_count": null,
   "metadata": {},
   "outputs": [],
   "source": []
  }
 ],
 "metadata": {
  "kernelspec": {
   "display_name": "Python 3",
   "language": "python",
   "name": "python3"
  },
  "language_info": {
   "codemirror_mode": {
    "name": "ipython",
    "version": 3
   },
   "file_extension": ".py",
   "mimetype": "text/x-python",
   "name": "python",
   "nbconvert_exporter": "python",
   "pygments_lexer": "ipython3",
   "version": "3.6.7"
  },
  "toc": {
   "base_numbering": 1,
   "nav_menu": {},
   "number_sections": true,
   "sideBar": true,
   "skip_h1_title": false,
   "title_cell": "Table of Contents",
   "title_sidebar": "Contents",
   "toc_cell": false,
   "toc_position": {
    "height": "calc(100% - 180px)",
    "left": "10px",
    "top": "150px",
    "width": "348.391px"
   },
   "toc_section_display": true,
   "toc_window_display": false
  },
  "varInspector": {
   "cols": {
    "lenName": 16,
    "lenType": 16,
    "lenVar": 40
   },
   "kernels_config": {
    "python": {
     "delete_cmd_postfix": "",
     "delete_cmd_prefix": "del ",
     "library": "var_list.py",
     "varRefreshCmd": "print(var_dic_list())"
    },
    "r": {
     "delete_cmd_postfix": ") ",
     "delete_cmd_prefix": "rm(",
     "library": "var_list.r",
     "varRefreshCmd": "cat(var_dic_list()) "
    }
   },
   "types_to_exclude": [
    "module",
    "function",
    "builtin_function_or_method",
    "instance",
    "_Feature"
   ],
   "window_display": false
  }
 },
 "nbformat": 4,
 "nbformat_minor": 2
}
