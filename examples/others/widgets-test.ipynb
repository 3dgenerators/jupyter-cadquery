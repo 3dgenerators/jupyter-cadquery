{
 "cells": [
  {
   "cell_type": "code",
   "execution_count": 1,
   "metadata": {
    "execution": {
     "iopub.execute_input": "2021-03-02T18:47:06.750705Z",
     "iopub.status.busy": "2021-03-02T18:47:06.750238Z",
     "iopub.status.idle": "2021-03-02T18:47:06.804726Z",
     "shell.execute_reply": "2021-03-02T18:47:06.803998Z",
     "shell.execute_reply.started": "2021-03-02T18:47:06.750571Z"
    },
    "tags": []
   },
   "outputs": [],
   "source": [
    "import os\n",
    "from ipywidgets import Output, HBox, Layout"
   ]
  },
  {
   "cell_type": "markdown",
   "metadata": {},
   "source": [
    "# ipywidgets"
   ]
  },
  {
   "cell_type": "code",
   "execution_count": 2,
   "metadata": {
    "execution": {
     "iopub.execute_input": "2021-03-02T18:47:09.691369Z",
     "iopub.status.busy": "2021-03-02T18:47:09.690974Z",
     "iopub.status.idle": "2021-03-02T18:47:09.732423Z",
     "shell.execute_reply": "2021-03-02T18:47:09.731816Z",
     "shell.execute_reply.started": "2021-03-02T18:47:09.691320Z"
    },
    "tags": []
   },
   "outputs": [
    {
     "data": {
      "application/vnd.jupyter.widget-view+json": {
       "model_id": "3f69ad7f9e124311ada3553f054e269e",
       "version_major": 2,
       "version_minor": 0
      },
      "text/plain": [
       "interactive(children=(IntSlider(value=10, description='x', max=30, min=-10), Output()), _dom_classes=('widget-…"
      ]
     },
     "metadata": {},
     "output_type": "display_data"
    }
   ],
   "source": [
    "from ipywidgets import interact, interactive, fixed, interact_manual\n",
    "import ipywidgets as widgets\n",
    "\n",
    "def f(x):\n",
    "    return x\n",
    "\n",
    "interact(f, x=10);"
   ]
  },
  {
   "cell_type": "markdown",
   "metadata": {},
   "source": [
    "# pythreejs"
   ]
  },
  {
   "cell_type": "code",
   "execution_count": 3,
   "metadata": {
    "execution": {
     "iopub.execute_input": "2021-03-02T18:47:10.411091Z",
     "iopub.status.busy": "2021-03-02T18:47:10.410714Z",
     "iopub.status.idle": "2021-03-02T18:47:10.712774Z",
     "shell.execute_reply": "2021-03-02T18:47:10.712226Z",
     "shell.execute_reply.started": "2021-03-02T18:47:10.411047Z"
    },
    "tags": []
   },
   "outputs": [
    {
     "data": {
      "application/vnd.jupyter.widget-view+json": {
       "model_id": "f7663ddbf5134b648cfb821c29f8b73e",
       "version_major": 2,
       "version_minor": 0
      },
      "text/plain": [
       "Preview(child=BoxGeometry(depth=15.0, depthSegments=15, height=10.0, heightSegments=10, width=5.0, widthSegmen…"
      ]
     },
     "metadata": {},
     "output_type": "display_data"
    }
   ],
   "source": [
    "from pythreejs import *\n",
    "\n",
    "BoxGeometry(\n",
    "    width=5,\n",
    "    height=10,\n",
    "    depth=15,\n",
    "    widthSegments=5,\n",
    "    heightSegments=10,\n",
    "    depthSegments=15)"
   ]
  },
  {
   "cell_type": "markdown",
   "metadata": {},
   "source": [
    "# Sidecar"
   ]
  },
  {
   "cell_type": "code",
   "execution_count": null,
   "metadata": {
    "tags": []
   },
   "outputs": [],
   "source": [
    "from sidecar import Sidecar\n",
    "from ipywidgets import IntSlider\n",
    "\n",
    "sc = Sidecar(title='Sidecar Output')\n",
    "sl = IntSlider(description='Some slider')\n",
    "with sc:\n",
    "    display(sl)"
   ]
  },
  {
   "cell_type": "markdown",
   "metadata": {},
   "source": [
    "# Image Button"
   ]
  },
  {
   "cell_type": "code",
   "execution_count": 4,
   "metadata": {
    "execution": {
     "iopub.execute_input": "2021-03-02T18:47:14.219212Z",
     "iopub.status.busy": "2021-03-02T18:47:14.218830Z",
     "iopub.status.idle": "2021-03-02T18:47:15.273589Z",
     "shell.execute_reply": "2021-03-02T18:47:15.273113Z",
     "shell.execute_reply.started": "2021-03-02T18:47:14.219162Z"
    },
    "tags": []
   },
   "outputs": [
    {
     "data": {
      "application/vnd.jupyter.widget-view+json": {
       "model_id": "87fab8b5cbae48b491410f93e0e1a1d3",
       "version_major": 2,
       "version_minor": 0
      },
      "text/plain": [
       "HBox(children=(ImageButton(style=ButtonStyle(), tooltip='Change view to fit', type='fit', value=b'\\x89PNG\\r\\n\\…"
      ]
     },
     "metadata": {},
     "output_type": "display_data"
    }
   ],
   "source": [
    "import jupyter_cadquery\n",
    "from jupyter_cadquery_widgets.widgets import ImageButton\n",
    "\n",
    "icon_path = os.path.join(os.path.dirname(jupyter_cadquery.__file__), \"icons\")\n",
    "\n",
    "output = Output()\n",
    "\n",
    "def handler(out):\n",
    "    def f(b):\n",
    "        with out:\n",
    "            print(\"Pressed\", b.type)\n",
    "    return f\n",
    "\n",
    "def create_button(icon):\n",
    "    button = ImageButton(\n",
    "        width=36, \n",
    "        height=28, \n",
    "        image_path=\"%s/%s.png\" % (icon_path, icon),\n",
    "        tooltip=\"Change view to %s\" % icon,\n",
    "        type=icon\n",
    "    )\n",
    "    button.on_click(handler(output))\n",
    "    return button\n",
    "\n",
    "button1 = create_button(\"fit\")\n",
    "button2 = create_button(\"isometric\")\n",
    "\n",
    "\n",
    "HBox([button1, button2, output])"
   ]
  },
  {
   "cell_type": "markdown",
   "metadata": {},
   "source": [
    "# Tree View"
   ]
  },
  {
   "cell_type": "code",
   "execution_count": 5,
   "metadata": {
    "execution": {
     "iopub.execute_input": "2021-03-02T18:47:15.770852Z",
     "iopub.status.busy": "2021-03-02T18:47:15.770474Z",
     "iopub.status.idle": "2021-03-02T18:47:15.775633Z",
     "shell.execute_reply": "2021-03-02T18:47:15.774668Z",
     "shell.execute_reply.started": "2021-03-02T18:47:15.770807Z"
    },
    "tags": []
   },
   "outputs": [],
   "source": [
    "from ipywidgets import Checkbox, Layout, HBox, Output\n",
    "from jupyter_cadquery_widgets.widgets import TreeView, UNSELECTED, SELECTED, MIXED, EMPTY, state_diff"
   ]
  },
  {
   "cell_type": "code",
   "execution_count": 6,
   "metadata": {
    "execution": {
     "iopub.execute_input": "2021-03-02T18:47:16.195139Z",
     "iopub.status.busy": "2021-03-02T18:47:16.194725Z",
     "iopub.status.idle": "2021-03-02T18:47:16.229547Z",
     "shell.execute_reply": "2021-03-02T18:47:16.229008Z",
     "shell.execute_reply.started": "2021-03-02T18:47:16.195091Z"
    },
    "tags": []
   },
   "outputs": [
    {
     "data": {
      "application/vnd.jupyter.widget-view+json": {
       "model_id": "3d90f9bd7a6c490a9c011796ff3eb540",
       "version_major": 2,
       "version_minor": 0
      },
      "text/plain": [
       "HBox(children=(TreeView(icons=[{0: 'iVBORw0KGgoAAAANSUhEUgAAARgAAADcCAYAAACrgL6aAAAFCElEQVR4nO3dUXYbNwwFULQnC/…"
      ]
     },
     "metadata": {},
     "output_type": "display_data"
    }
   ],
   "source": [
    "tree = {\n",
    "    'type': 'node',\n",
    "    'name': 'Root',\n",
    "    'id': \"n1\",\n",
    "    'children': [\n",
    "        {'type': 'leaf',\n",
    "         'name': 'Red box',\n",
    "         'id': \"R\",\n",
    "         'color': 'rgba(255, 0, 0, 0.6)'},\n",
    "        {'type': 'node',\n",
    "         'name': 'Sub',\n",
    "         'id': \"n2\",\n",
    "         'children': [\n",
    "            {'type': 'leaf',\n",
    "             'name': 'Green box',\n",
    "             'id': \"G\",\n",
    "             'color': 'rgba(0, 255, 0, 0.6)'},\n",
    "            {'type': 'leaf',\n",
    "             'name': 'blue box',\n",
    "             'id': \"B\",\n",
    "             'color': 'rgba(0, 0, 255, 0.6)'}]},\n",
    "        {'type': 'leaf',\n",
    "         'name': 'Yellow box',\n",
    "         'id': \"Y\",\n",
    "         'color': 'rgba(255, 255, 0, 0.6)'}\n",
    "]}\n",
    "\n",
    "state = {\n",
    "    \"R\": [EMPTY,      UNSELECTED],\n",
    "    \"G\": [UNSELECTED, SELECTED],\n",
    "    \"B\": [SELECTED,   UNSELECTED],\n",
    "    \"Y\": [SELECTED,   SELECTED]\n",
    "}\n",
    "\n",
    "image_paths = [\n",
    "    {UNSELECTED: \"%s/no_shape.png\"  % icon_path, \n",
    "     SELECTED:   \"%s/shape.png\"     % icon_path, \n",
    "     MIXED:      \"%s/mix_shape.png\" % icon_path, \n",
    "     EMPTY:      \"%s/empty.png\"     % icon_path},\n",
    "    {UNSELECTED: \"%s/no_mesh.png\"   % icon_path, \n",
    "     SELECTED:   \"%s/mesh.png\"      % icon_path, \n",
    "     MIXED:      \"%s/mix_mesh.png\"  % icon_path, \n",
    "     EMPTY:      \"%s/empty.png\"     % icon_path}\n",
    "]\n",
    "\n",
    "height = \"300px\"\n",
    "\n",
    "output = Output(layout=Layout(height=height, width=\"800px\", \n",
    "                              overflow_y=\"scroll\", overflow_x=\"scroll\"))\n",
    "output.add_class(\"mac-scrollbar\")\n",
    "\n",
    "def handler(out):\n",
    "    def f(states):\n",
    "        diff = state_diff(states.get(\"old\"), states.get(\"new\"))\n",
    "        with out:\n",
    "            print(diff)\n",
    "    return f\n",
    "\n",
    "t = TreeView(image_paths=image_paths, tree=tree, state=state, \n",
    "            layout=Layout(height=height, width=\"200px\", \n",
    "                          overflow_y=\"scroll\", overflow_x=\"scroll\"))\n",
    "\n",
    "t.add_class(\"mac-scrollbar\")\n",
    "\n",
    "t.observe(handler(output), \"state\")\n",
    "HBox([t, output])\n"
   ]
  },
  {
   "cell_type": "markdown",
   "metadata": {
    "execution": {
     "iopub.execute_input": "2021-03-01T19:59:09.802507Z",
     "iopub.status.busy": "2021-03-01T19:59:09.802079Z",
     "iopub.status.idle": "2021-03-01T19:59:09.807243Z",
     "shell.execute_reply": "2021-03-01T19:59:09.806209Z",
     "shell.execute_reply.started": "2021-03-01T19:59:09.802452Z"
    }
   },
   "source": [
    "# Export pythreejs to HTML"
   ]
  },
  {
   "cell_type": "code",
   "execution_count": 7,
   "metadata": {
    "execution": {
     "iopub.execute_input": "2021-03-02T18:47:17.939600Z",
     "iopub.status.busy": "2021-03-02T18:47:17.939201Z",
     "iopub.status.idle": "2021-03-02T18:47:18.003894Z",
     "shell.execute_reply": "2021-03-02T18:47:18.003207Z",
     "shell.execute_reply.started": "2021-03-02T18:47:17.939552Z"
    },
    "tags": []
   },
   "outputs": [
    {
     "name": "stdout",
     "output_type": "stream",
     "text": [
      "(2, 3, 0, 'final')\n"
     ]
    },
    {
     "data": {
      "application/vnd.jupyter.widget-view+json": {
       "model_id": "b3e4112aa41844cb9b8123e018f6915c",
       "version_major": 2,
       "version_minor": 0
      },
      "text/plain": [
       "Renderer(camera=CombinedCamera(height=400.0, mode='orthographic', position=(60.0, 60.0, 60.0), projectionMatri…"
      ]
     },
     "metadata": {},
     "output_type": "display_data"
    }
   ],
   "source": [
    "from ipywidgets import embed\n",
    "from pythreejs import *\n",
    "from IPython.display import display\n",
    "\n",
    "import pythreejs\n",
    "print(pythreejs.version_info)\n",
    "\n",
    "base = Mesh(\n",
    "    BoxBufferGeometry(20, 0.1, 20), \n",
    "    MeshLambertMaterial(color='green', opacity=0.5, transparent=True),\n",
    "    position=(0, 0, 0),\n",
    ")\n",
    "mesh = Mesh(\n",
    "    BoxBufferGeometry(10, 10, 10), \n",
    "    MeshLambertMaterial(color='green', opacity=0.5, transparent=False),\n",
    "    position=(0, 5, 0),\n",
    ")\n",
    "target = (0, 5, 0)\n",
    "\n",
    "view_width = 600\n",
    "view_height = 400\n",
    "camera = CombinedCamera(position=[60, 60, 60], width=view_width, height=view_height)\n",
    "\n",
    "camera.mode = 'orthographic'\n",
    "\n",
    "lights = [\n",
    "    PointLight(position=[100, 0, 0], color=\"#ffffff\"),\n",
    "    PointLight(position=[0, 100, 0], color=\"#bbbbbb\"),\n",
    "    PointLight(position=[0, 0, 100], color=\"#888888\"),\n",
    "    AmbientLight(intensity=0.2),\n",
    "]\n",
    "orbit = OrbitControls(controlling=camera, target=target)\n",
    "camera.lookAt(target)\n",
    "\n",
    "\n",
    "scene = Scene(children=[base, mesh, camera] + lights)\n",
    "renderer = Renderer(scene=scene, camera=camera, controls=[orbit],\n",
    "                    width=view_width, height=view_height)\n",
    "\n",
    "camera.zoom = 4\n",
    "embed.embed_minimal_html('export.html', views=renderer, title='Renderer')\n",
    "display(renderer)"
   ]
  },
  {
   "cell_type": "code",
   "execution_count": null,
   "metadata": {
    "tags": []
   },
   "outputs": [],
   "source": []
  },
  {
   "cell_type": "code",
   "execution_count": null,
   "metadata": {},
   "outputs": [],
   "source": []
  }
 ],
 "metadata": {
  "kernelspec": {
   "display_name": "Python 3",
   "language": "python",
   "name": "python3"
  },
  "language_info": {
   "codemirror_mode": {
    "name": "ipython",
    "version": 3
   },
   "file_extension": ".py",
   "mimetype": "text/x-python",
   "name": "python",
   "nbconvert_exporter": "python",
   "pygments_lexer": "ipython3",
   "version": "3.8.8"
  },
  "widgets": {
   "application/vnd.jupyter.widget-state+json": {
    "state": {},
    "version_major": 2,
    "version_minor": 0
   }
  }
 },
 "nbformat": 4,
 "nbformat_minor": 4
}
