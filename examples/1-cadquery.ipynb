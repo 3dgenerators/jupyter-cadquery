{
 "cells": [
  {
   "cell_type": "markdown",
   "metadata": {},
   "source": [
    "# Intro"
   ]
  },
  {
   "cell_type": "code",
   "execution_count": null,
   "metadata": {},
   "outputs": [],
   "source": [
    "import cadquery as cq\n",
    "from jupyter_cadquery import (\n",
    "    show, PartGroup, Part, \n",
    "    close_viewer, close_viewers, get_viewer, open_viewer, set_defaults, get_defaults, open_viewer,\n",
    "    boundingBoxMesh,\n",
    ")\n",
    "\n",
    "set_defaults(\n",
    "    axes=False, \n",
    "    axes0=False, \n",
    "#    grid=(True, True, True), \n",
    "#    render_normals=False, \n",
    ")"
   ]
  },
  {
   "cell_type": "code",
   "execution_count": null,
   "metadata": {},
   "outputs": [],
   "source": [
    "box = cq.Workplane('XY').box(10, 20, 30).edges(\">X or <X\").chamfer(2)\n",
    "box"
   ]
  },
  {
   "cell_type": "code",
   "execution_count": null,
   "metadata": {},
   "outputs": [],
   "source": [
    "show(box, title=\"Box\", anchor=\"split-left\")"
   ]
  },
  {
   "cell_type": "markdown",
   "metadata": {},
   "source": [
    "# Assemblies"
   ]
  },
  {
   "cell_type": "code",
   "execution_count": null,
   "metadata": {},
   "outputs": [],
   "source": [
    "from jupyter_cadquery.replay import replay, enable_replay\n",
    "\n",
    "enable_replay(False)"
   ]
  },
  {
   "cell_type": "code",
   "execution_count": null,
   "metadata": {},
   "outputs": [],
   "source": [
    "open_viewer(\"CadQuery\", anchor=\"right\")"
   ]
  },
  {
   "cell_type": "code",
   "execution_count": null,
   "metadata": {},
   "outputs": [],
   "source": [
    "box1 = cq.Workplane('XY').box(10, 20, 30).edges(\">X or <X\").chamfer(2)\n",
    "box1.name = \"box1\"\n",
    "\n",
    "box2 = cq.Workplane('XY').box(8, 18, 28).edges(\">X or <X\").chamfer(2)\n",
    "box2.name = \"box2\"\n",
    "\n",
    "box3 = cq.Workplane('XY').transformed(offset=(0, 15, 7))\\\n",
    "    .box(30, 20, 6).edges(\">Z\").fillet(3)\n",
    "box3.name = \"box3\"\n",
    "\n",
    "box4 = box3.mirror(\"XY\").translate((0, -5, 0))\n",
    "box4.name = \"box4\"\n",
    "\n",
    "box1 = box1\\\n",
    "    .cut(box2)\\\n",
    "    .cut(box3)\\\n",
    "    .cut(box4)"
   ]
  },
  {
   "cell_type": "code",
   "execution_count": null,
   "metadata": {},
   "outputs": [],
   "source": [
    "a1 = PartGroup(\n",
    "    [\n",
    "        Part(box1, \"red box\",   \"#d7191c\", show_edges=False),\n",
    "        Part(box3, \"green box\", \"#abdda4\", show_edges=True),\n",
    "        Part(box4, \"blue box\",  \"#2b83ba\", show_faces=False),\n",
    "    ],\n",
    "    \"example 1\"\n",
    ")\n",
    "d = show(a1, axes=True, grid=[True, False, False], ortho=True, axes0=True)"
   ]
  },
  {
   "cell_type": "markdown",
   "metadata": {},
   "source": [
    "# Faces, Edges, Vertices"
   ]
  },
  {
   "cell_type": "code",
   "execution_count": null,
   "metadata": {},
   "outputs": [],
   "source": [
    "box1"
   ]
  },
  {
   "cell_type": "code",
   "execution_count": null,
   "metadata": {},
   "outputs": [],
   "source": [
    "box1.faces(\"not(|Z or |X or |Y)\")"
   ]
  },
  {
   "cell_type": "code",
   "execution_count": null,
   "metadata": {},
   "outputs": [],
   "source": [
    "box1.edges(\"not(|X or |Y or |Z)\")"
   ]
  },
  {
   "cell_type": "code",
   "execution_count": null,
   "metadata": {},
   "outputs": [],
   "source": [
    "box1.vertices()"
   ]
  },
  {
   "cell_type": "code",
   "execution_count": null,
   "metadata": {},
   "outputs": [],
   "source": [
    "show(\n",
    "    box1, \n",
    "    box1.faces(\"not(|Z or |X or |Y)\"), \n",
    "    box1.edges(\"not(|X or |Y or |Z)\"), \n",
    "    box1.vertices(),\n",
    "    show_parent=False\n",
    ")"
   ]
  },
  {
   "cell_type": "code",
   "execution_count": null,
   "metadata": {},
   "outputs": [],
   "source": [
    "box1.faces(\"not(|Z or |X or |Y)\")"
   ]
  },
  {
   "cell_type": "markdown",
   "metadata": {},
   "source": [
    "# CadQuery Asssemblies"
   ]
  },
  {
   "cell_type": "code",
   "execution_count": null,
   "metadata": {},
   "outputs": [],
   "source": [
    "assembly = (\n",
    "    cq.Assembly(box1, name=\"box1\")\n",
    "    .add(box2, name=\"box2\")\n",
    "    .add(box3, name=\"box3\")\n",
    ")\n",
    "\n",
    "assembly"
   ]
  },
  {
   "cell_type": "code",
   "execution_count": null,
   "metadata": {},
   "outputs": [],
   "source": [
    "assembly = (\n",
    "    cq.Assembly(name=\"ensemble\")\n",
    "    .add(box1, name=\"box1\")\n",
    "    .add(box2, name=\"box2\")\n",
    "    .add(box3, name=\"box3\")\n",
    ")\n",
    "assembly"
   ]
  },
  {
   "cell_type": "markdown",
   "metadata": {},
   "source": [
    "# Replay"
   ]
  },
  {
   "cell_type": "code",
   "execution_count": null,
   "metadata": {},
   "outputs": [],
   "source": [
    "r = replay(box1)"
   ]
  },
  {
   "cell_type": "markdown",
   "metadata": {},
   "source": [
    "# Export to HTML"
   ]
  },
  {
   "cell_type": "code",
   "execution_count": null,
   "metadata": {},
   "outputs": [],
   "source": [
    "from ipywidgets.embed import embed_minimal_html, dependency_state\n",
    "embed_minimal_html(\n",
    "    'export.html', \n",
    "    title='Box', \n",
    "    views=[d.cq_view.renderer], \n",
    "    state=dependency_state(d.cq_view.renderer))"
   ]
  },
  {
   "cell_type": "code",
   "execution_count": null,
   "metadata": {},
   "outputs": [],
   "source": [
    "import cadquery as cq\n",
    "from jupyter_cadquery.export import exportSTL\n",
    "from jupyter_cadquery import Part, PartGroup, show\n",
    "\n",
    "box = cq.Workplane().box(10,20,30).edges().fillet(4)\n",
    "sphere = cq.Workplane().sphere(12).translate((0,0,10))\n",
    "\n",
    "quality = 0.01\n",
    "angular_tolerance = 0.2\n",
    "\n",
    "pg = PartGroup([Part(box),Part(sphere)])\n",
    "exportSTL(\n",
    "    pg,\n",
    "    \"box.stl\", \n",
    "    tolerance=quality, \n",
    "    angular_tolerance=angular_tolerance\n",
    ")"
   ]
  },
  {
   "cell_type": "code",
   "execution_count": null,
   "metadata": {},
   "outputs": [],
   "source": [
    "show(pg, timeit=True)"
   ]
  },
  {
   "cell_type": "code",
   "execution_count": null,
   "metadata": {},
   "outputs": [],
   "source": [
    "close_viewers()"
   ]
  },
  {
   "cell_type": "code",
   "execution_count": null,
   "metadata": {},
   "outputs": [],
   "source": []
  }
 ],
 "metadata": {
  "kernelspec": {
   "display_name": "Python 3 (ipykernel)",
   "language": "python",
   "name": "python3"
  },
  "language_info": {
   "codemirror_mode": {
    "name": "ipython",
    "version": 3
   },
   "file_extension": ".py",
   "mimetype": "text/x-python",
   "name": "python",
   "nbconvert_exporter": "python",
   "pygments_lexer": "ipython3",
   "version": "3.8.12"
  }
 },
 "nbformat": 4,
 "nbformat_minor": 4
}
