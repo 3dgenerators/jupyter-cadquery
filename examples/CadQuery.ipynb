{
 "cells": [
  {
   "cell_type": "code",
   "execution_count": null,
   "metadata": {},
   "outputs": [],
   "source": [
    "import cadquery as cq\n",
    "from jupyter_cadquery import Assembly, Part, Edges, Faces\n",
    "from jupyter_cadquery import CadqueryDisplay\n",
    "\n",
    "image_path = \"/Users/bernhardwalter/Development/viz/jupyter-cadquery/icons\""
   ]
  },
  {
   "cell_type": "code",
   "execution_count": null,
   "metadata": {},
   "outputs": [],
   "source": [
    "b = cq.Workplane('XY')\n",
    "box1 = b.box(1,2,3).edges(\">X or <X\").chamfer(0.2)\n",
    "box2 = b.transformed(offset=cq.Vector(0, 1.5, 0.7)).box(3,2,0.6)\\\n",
    "        .edges(\">Z\").fillet(0.3)\n",
    "box3 = b.transformed(offset=cq.Vector(0, 1.0, -0.7)).box(2,3,0.6)\\\n",
    "        .edges(\"<Z\").fillet(0.3)\n",
    "box1.cut(box2)\n",
    "box1.cut(box3)\n",
    "\n",
    "a = Assembly(\n",
    "    [\n",
    "        Part(box1, \"red box\", (1,0,0), show_faces=False),\n",
    "        Part(box2, \"green box\", (0,1,0), show_faces=False),\n",
    "        Part(box3, \"blue box\", (0,0,1), show_edges=False)\n",
    "    ],\n",
    "    \"example\"\n",
    ")\n",
    "\n",
    "d = CadqueryDisplay()\n",
    "d.display(a)"
   ]
  },
  {
   "cell_type": "code",
   "execution_count": null,
   "metadata": {},
   "outputs": [],
   "source": []
  }
 ],
 "metadata": {
  "kernelspec": {
   "display_name": "Python 3",
   "language": "python",
   "name": "python3"
  },
  "language_info": {
   "codemirror_mode": {
    "name": "ipython",
    "version": 3
   },
   "file_extension": ".py",
   "mimetype": "text/x-python",
   "name": "python",
   "nbconvert_exporter": "python",
   "pygments_lexer": "ipython3",
   "version": "3.6.7"
  }
 },
 "nbformat": 4,
 "nbformat_minor": 2
}
