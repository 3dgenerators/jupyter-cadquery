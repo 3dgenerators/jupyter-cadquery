{
 "cells": [
  {
   "cell_type": "code",
   "execution_count": 429,
   "metadata": {},
   "outputs": [],
   "source": [
    "from ipywidgets import Output, HBox, Layout\n",
    "from jupyter_cadquery import Tree\n",
    "import base64"
   ]
  },
  {
   "cell_type": "code",
   "execution_count": 430,
   "metadata": {},
   "outputs": [],
   "source": [
    "class States():\n",
    "    def __init__(self):\n",
    "        self.unselected = 0\n",
    "        self.selected = 1\n",
    "        self.mixed = 2\n",
    "        self.empty = 3\n",
    "\n",
    "S = States()\n",
    "\n",
    "tree = {\n",
    "    'type': 'node',\n",
    "    'name': 'Root',\n",
    "    'id': \"n1\",\n",
    "    'children': [\n",
    "        {'type': 'leaf',\n",
    "         'name': 'Red box',\n",
    "         'id': \"R\",\n",
    "         'color': 'rgba(255, 0, 0, 0.6)'},\n",
    "        {'type': 'node',\n",
    "         'name': 'Sub',\n",
    "         'id': \"n2\",\n",
    "         'children': [\n",
    "            {'type': 'leaf',\n",
    "             'name': 'Green box',\n",
    "             'id': \"G\",\n",
    "             'color': 'rgba(0, 255, 0, 0.6)'},\n",
    "            {'type': 'leaf',\n",
    "             'name': 'blue box',\n",
    "             'id': \"B\",\n",
    "             'color': 'rgba(0, 0, 255, 0.6)'}]},\n",
    "        {'type': 'leaf',\n",
    "         'name': 'Yellow box',\n",
    "         'id': \"Y\",\n",
    "         'color': 'rgba(255, 255, 0, 0.6)'}\n",
    "]}\n",
    "\n",
    "state = {\n",
    "    \"R\": [S.empty,      S.unselected],\n",
    "    \"G\": [S.unselected, S.selected],\n",
    "    \"B\": [S.selected,   S.unselected],\n",
    "    \"Y\": [S.selected,   S.selected]\n",
    "}\n",
    "\n",
    "def load_image(image_path):\n",
    "    if image_path == \"\":\n",
    "        return b\"\"\n",
    "    else:\n",
    "        return base64.b64encode(open(image_path, 'rb').read()).decode()\n",
    "\n",
    "path = \"/Users/bernhard/Development/cadquery/jupyter-cadquery/icons\"\n",
    "    \n",
    "icons = [\n",
    "    {S.selected:   load_image(\"%s/shape.png\"     % path), \n",
    "     S.unselected: load_image(\"%s/no_shape.png\"  % path), \n",
    "     S.mixed:      load_image(\"%s/mix_shape.png\" % path), \n",
    "     S.empty:      load_image(\"%s/empty.png\"     % path)},\n",
    "    {S.selected:   load_image(\"%s/mesh.png\"      % path), \n",
    "     S.unselected: load_image(\"%s/no_mesh.png\"   % path), \n",
    "     S.mixed:      load_image(\"%s/mix_mesh.png\"  % path), \n",
    "     S.empty:      load_image(\"%s/empty.png\"     % path)}\n",
    "]"
   ]
  },
  {
   "cell_type": "code",
   "execution_count": 449,
   "metadata": {},
   "outputs": [
    {
     "data": {
      "application/vnd.jupyter.widget-view+json": {
       "model_id": "4e535bacf5114ab3a87554365cf169cd",
       "version_major": 2,
       "version_minor": 0
      },
      "text/plain": [
       "HBox(children=(Tree(icons=[{1: 'iVBORw0KGgoAAAANSUhEUgAAARgAAADcCAYAAACrgL6aAAAHm0lEQVR4nO3d0Y3jNhAGYF6QDq4hNx…"
      ]
     },
     "metadata": {},
     "output_type": "display_data"
    }
   ],
   "source": [
    "from ipywidgets import Checkbox, Layout, HBox, Output\n",
    "\n",
    "height = \"300px\"\n",
    "output = Output(layout=Layout(height=height, width=\"300px\", \n",
    "                              overflow_y=\"scroll\", overflow_x=\"scroll\"))\n",
    "output.add_class(\"mac-scrollbar\")\n",
    "\n",
    "def handler(out):\n",
    "    def f(b):\n",
    "        with out:\n",
    "            print(b.get(\"new\"))\n",
    "    return f\n",
    "\n",
    "t = Tree(icons=icons, tree=tree, state=state, \n",
    "         layout=Layout(height=height, width=\"200px\", \n",
    "                       overflow_y=\"scroll\", overflow_x=\"scroll\"))\n",
    "\n",
    "t.add_class(\"mac-scrollbar\")\n",
    "\n",
    "t.observe(handler(output), \"state\")\n",
    "HBox([t, output])\n"
   ]
  },
  {
   "cell_type": "code",
   "execution_count": 7,
   "metadata": {},
   "outputs": [],
   "source": [
    "t.state = {'R': [3, 0], 'G': [0, 0], 'B': [0, 0], 'Y': [0, 0]}"
   ]
  },
  {
   "cell_type": "code",
   "execution_count": 8,
   "metadata": {},
   "outputs": [],
   "source": [
    "t.state = {'R': [3, 1], 'G': [1, 1], 'B': [1, 1], 'Y': [1, 1]}"
   ]
  },
  {
   "cell_type": "markdown",
   "metadata": {},
   "source": [
    "### Test"
   ]
  },
  {
   "cell_type": "code",
   "execution_count": 435,
   "metadata": {},
   "outputs": [
    {
     "data": {
      "application/vnd.jupyter.widget-view+json": {
       "model_id": "dd51b4bf0762419eb992139673a321d4",
       "version_major": 2,
       "version_minor": 0
      },
      "text/plain": [
       "Output(layout=Layout(height='200px', overflow_x='scroll', overflow_y='scroll', width='200px'), _dom_classes=('…"
      ]
     },
     "metadata": {},
     "output_type": "display_data"
    }
   ],
   "source": [
    "from ipywidgets import HTML\n",
    "html = Output(value=\"\", layout=Layout(width=\"200px\", \n",
    "                                    height=\"200px\", \n",
    "                                    overflow_x=\"scroll\", \n",
    "                                    overflow_y=\"scroll\"\n",
    "                                   ))\n",
    "html.add_class(\"mac-scrollbar\")\n",
    "html"
   ]
  },
  {
   "cell_type": "code",
   "execution_count": 436,
   "metadata": {},
   "outputs": [
    {
     "name": "stdout",
     "output_type": "stream",
     "text": [
      "\n"
     ]
    }
   ],
   "source": [
    "with html:\n",
    "    print(\"def \"* 30)\n",
    "print()"
   ]
  },
  {
   "cell_type": "code",
   "execution_count": 437,
   "metadata": {},
   "outputs": [],
   "source": [
    "for i in range(20):\n",
    "    with html:\n",
    "        print(\"abc abc\")"
   ]
  },
  {
   "cell_type": "code",
   "execution_count": null,
   "metadata": {},
   "outputs": [],
   "source": []
  }
 ],
 "metadata": {
  "kernelspec": {
   "display_name": "Python 3",
   "language": "python",
   "name": "python3"
  },
  "language_info": {
   "codemirror_mode": {
    "name": "ipython",
    "version": 3
   },
   "file_extension": ".py",
   "mimetype": "text/x-python",
   "name": "python",
   "nbconvert_exporter": "python",
   "pygments_lexer": "ipython3",
   "version": "3.6.7"
  }
 },
 "nbformat": 4,
 "nbformat_minor": 2
}
