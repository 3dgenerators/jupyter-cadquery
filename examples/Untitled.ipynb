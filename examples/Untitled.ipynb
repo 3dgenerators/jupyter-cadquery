{
 "cells": [
  {
   "cell_type": "code",
   "execution_count": 1,
   "metadata": {},
   "outputs": [
    {
     "name": "stdout",
     "output_type": "stream",
     "text": [
      "Patch\n",
      "  - cadquery.Workplane.lineTo: guard against line length 0\n",
      "  - cadquery.Workplane: remove auto display\n",
      "  - cadquery.Shape: remove auto display\n",
      "Plugging into cadquery.Workplane to enable replay\n"
     ]
    }
   ],
   "source": [
    "import cadquery as cq\n",
    "from jupyter_cadquery.cadquery import Assembly, Part, Edges, Faces, Vertices, show\n",
    "\n",
    "from jupyter_cadquery import patch_cq\n",
    "patch_cq()\n",
    "\n",
    "from sidecar import Sidecar\n",
    "from jupyter_cadquery.cad_objects import set_sidecar\n",
    "\n",
    "sc = Sidecar(title=\"CadQuery\")\n",
    "set_sidecar(sc)\n",
    "\n",
    "from jupyter_cadquery import Replay\n",
    "replay = Replay(sc, debug=False).replay"
   ]
  },
  {
   "cell_type": "code",
   "execution_count": 11,
   "metadata": {},
   "outputs": [
    {
     "data": {
      "text/plain": [
       "[Vector: (2.0, 5.0, -1.9999999999999998),\n",
       " Vector: (2.0, 5.0, 2.3592239273284586e-16),\n",
       " Vector: (2.0, 5.0, 2.0000000000000004),\n",
       " Vector: (8.881784197001255e-17, 5.0, -1.9999999999999998),\n",
       " Vector: (8.881784197001255e-17, 5.0, 2.3592239273284586e-16),\n",
       " Vector: (8.881784197001255e-17, 5.0, 2.0000000000000004),\n",
       " Vector: (-2.0, 5.0, -1.9999999999999998),\n",
       " Vector: (-2.0, 5.0, 2.3592239273284586e-16),\n",
       " Vector: (-2.0, 5.0, 2.0000000000000004)]"
      ]
     },
     "execution_count": 11,
     "metadata": {},
     "output_type": "execute_result"
    }
   ],
   "source": [
    "f = cq.Workplane(\"XY\").box(10,10,10).faces(\">Y\").workplane().rarray(2,2,3,3)\n",
    "#show(f, f.parent.parent)\n",
    "f.vals()"
   ]
  },
  {
   "cell_type": "code",
   "execution_count": 3,
   "metadata": {},
   "outputs": [],
   "source": [
    "from jupyter_cadquery.cadquery.cad_objects import _from_vertexlist, _from_vectorlist, _is_vertexlist"
   ]
  },
  {
   "cell_type": "code",
   "execution_count": 8,
   "metadata": {},
   "outputs": [
    {
     "data": {
      "text/plain": [
       "[Vector: (2.3592239273284586e-16, 8.881784197001255e-17, 5.0)]"
      ]
     },
     "execution_count": 8,
     "metadata": {},
     "output_type": "execute_result"
    }
   ],
   "source": [
    "b = cq.Workplane(\"XY\").box(10,10,10)\n",
    "w = b.faces(\">Z\").workplane()"
   ]
  },
  {
   "cell_type": "code",
   "execution_count": 12,
   "metadata": {},
   "outputs": [
    {
     "name": "stdout",
     "output_type": "stream",
     "text": [
      "[[2.359224e-16 8.881784e-17 5.000000e+00]]\n",
      "Done, using side car 'CadQuery'\n"
     ]
    },
    {
     "data": {
      "text/plain": [
       "<jupyter_cadquery.cad_display.CadqueryDisplay at 0x12a505908>"
      ]
     },
     "execution_count": 12,
     "metadata": {},
     "output_type": "execute_result"
    }
   ],
   "source": [
    "show(b, w)"
   ]
  },
  {
   "cell_type": "code",
   "execution_count": 6,
   "metadata": {},
   "outputs": [
    {
     "name": "stdout",
     "output_type": "stream",
     "text": [
      "[[-5.  5.  5.]\n",
      " [-5. -5.  5.]\n",
      " [ 5.  5.  5.]\n",
      " [ 5. -5.  5.]]\n",
      "Done, using side car 'CadQuery'\n"
     ]
    },
    {
     "data": {
      "text/plain": [
       "<jupyter_cadquery.cad_display.CadqueryDisplay at 0x10f683860>"
      ]
     },
     "execution_count": 6,
     "metadata": {},
     "output_type": "execute_result"
    }
   ],
   "source": [
    "v = cq.Workplane(\"XY\").box(10,10,10).faces(\">Z\").vertices()\n",
    "v2 = _from_vertexlist(v, 0)\n",
    "show(v2)"
   ]
  },
  {
   "cell_type": "code",
   "execution_count": 32,
   "metadata": {},
   "outputs": [
    {
     "name": "stdout",
     "output_type": "stream",
     "text": [
      "Done, using side car 'CadQuery'\n"
     ]
    },
    {
     "data": {
      "text/plain": [
       "<jupyter_cadquery.cad_display.CadqueryDisplay at 0x132302160>"
      ]
     },
     "execution_count": 32,
     "metadata": {},
     "output_type": "execute_result"
    }
   ],
   "source": [
    "assembly = Assembly([], \"A\")\n",
    "assembly.add(w2)\n",
    "#assembly.add(w2)\n",
    "show(assembly)"
   ]
  },
  {
   "cell_type": "code",
   "execution_count": 4,
   "metadata": {},
   "outputs": [
    {
     "data": {
      "text/plain": [
       "[Vector: (-2.0, -2.0, 0.0),\n",
       " Vector: (-2.0, 0.0, 0.0),\n",
       " Vector: (-2.0, 2.0, 0.0),\n",
       " Vector: (0.0, -2.0, 0.0),\n",
       " Vector: (0.0, 0.0, 0.0),\n",
       " Vector: (0.0, 2.0, 0.0),\n",
       " Vector: (2.0, -2.0, 0.0),\n",
       " Vector: (2.0, 0.0, 0.0),\n",
       " Vector: (2.0, 2.0, 0.0)]"
      ]
     },
     "execution_count": 4,
     "metadata": {},
     "output_type": "execute_result"
    }
   ],
   "source": [
    "b2 = cq.Workplane(\"XY\").box(10,10,10).faces(\">Z\").rarray(2,2,3,3)\n",
    "b2.vals()"
   ]
  },
  {
   "cell_type": "code",
   "execution_count": 6,
   "metadata": {},
   "outputs": [],
   "source": [
    "from jupyter_cadquery.cadquery.cad_objects import _from_vectorlist\n",
    "assembly = Assembly([], \"Assembly\")\n",
    "v2 = _from_vectorlist(b2, 1)"
   ]
  },
  {
   "cell_type": "code",
   "execution_count": 12,
   "metadata": {},
   "outputs": [
    {
     "data": {
      "text/plain": [
       "<jupyter_cadquery.cadquery.cad_objects.Vertices at 0x12354abe0>"
      ]
     },
     "execution_count": 12,
     "metadata": {},
     "output_type": "execute_result"
    }
   ],
   "source": [
    "v2"
   ]
  },
  {
   "cell_type": "code",
   "execution_count": null,
   "metadata": {},
   "outputs": [],
   "source": []
  },
  {
   "cell_type": "code",
   "execution_count": null,
   "metadata": {},
   "outputs": [],
   "source": []
  },
  {
   "cell_type": "code",
   "execution_count": 45,
   "metadata": {},
   "outputs": [
    {
     "data": {
      "text/plain": [
       "Vector: (1.5, 0.0, 0.0)"
      ]
     },
     "execution_count": 45,
     "metadata": {},
     "output_type": "execute_result"
    }
   ],
   "source": [
    "b3 = cq.Workplane(\"XY\").box(10,10,10).faces(\">Z\").pushPoints([(1.5, 0), (0, 1.5), (-1.5, 0), (0, -1.5)])\n",
    "[o.val() for o in b3.all()]\n",
    "b3.val()"
   ]
  },
  {
   "cell_type": "code",
   "execution_count": 24,
   "metadata": {},
   "outputs": [
    {
     "data": {
      "text/plain": [
       "[Vector: (1.5, 0.0, 0.0),\n",
       " Vector: (0.0, 1.5, 0.0),\n",
       " Vector: (-1.5, 0.0, 0.0),\n",
       " Vector: (0.0, -1.5, 0.0)]"
      ]
     },
     "execution_count": 24,
     "metadata": {},
     "output_type": "execute_result"
    }
   ],
   "source": [
    "b3.vals()"
   ]
  },
  {
   "cell_type": "code",
   "execution_count": 34,
   "metadata": {},
   "outputs": [
    {
     "data": {
      "text/plain": [
       "[Vector: (2.3592239273284586e-16, 8.881784197001255e-17, 5.0)]"
      ]
     },
     "execution_count": 34,
     "metadata": {},
     "output_type": "execute_result"
    }
   ],
   "source": [
    "b1 = cq.Workplane(\"XY\").box(10,10,10).faces(\">Z\").workplane()\n",
    "\n",
    "b1.vals()"
   ]
  },
  {
   "cell_type": "code",
   "execution_count": 35,
   "metadata": {},
   "outputs": [
    {
     "data": {
      "text/plain": [
       "Vector: (2.3592239273284586e-16, 8.881784197001255e-17, 5.0)"
      ]
     },
     "execution_count": 35,
     "metadata": {},
     "output_type": "execute_result"
    }
   ],
   "source": [
    "b1.val().Center()"
   ]
  },
  {
   "cell_type": "code",
   "execution_count": 30,
   "metadata": {},
   "outputs": [
    {
     "data": {
      "text/plain": [
       "[Vector: (2.3592239273284586e-16, 8.881784197001255e-17, 3.0)]"
      ]
     },
     "execution_count": 30,
     "metadata": {},
     "output_type": "execute_result"
    }
   ],
   "source": [
    "b1 = cq.Workplane(\"XY\").box(10,10,10).faces(\">Z\").workplane(offset=-2)\n",
    "\n",
    "b1.vals()"
   ]
  },
  {
   "cell_type": "code",
   "execution_count": 32,
   "metadata": {},
   "outputs": [
    {
     "data": {
      "text/plain": [
       "Vector: (2.3592239273284586e-16, 8.881784197001255e-17, 5.0)"
      ]
     },
     "execution_count": 32,
     "metadata": {},
     "output_type": "execute_result"
    }
   ],
   "source": [
    "b1.parent.val().Center()"
   ]
  },
  {
   "cell_type": "code",
   "execution_count": 36,
   "metadata": {},
   "outputs": [],
   "source": [
    "b4 = cq.Workplane(\"XY\")"
   ]
  },
  {
   "cell_type": "code",
   "execution_count": 37,
   "metadata": {},
   "outputs": [
    {
     "data": {
      "text/plain": [
       "[Vector: (0.0, 0.0, 0.0)]"
      ]
     },
     "execution_count": 37,
     "metadata": {},
     "output_type": "execute_result"
    }
   ],
   "source": [
    "b4.vals()"
   ]
  },
  {
   "cell_type": "code",
   "execution_count": 38,
   "metadata": {},
   "outputs": [],
   "source": [
    "b4.parent"
   ]
  },
  {
   "cell_type": "code",
   "execution_count": null,
   "metadata": {},
   "outputs": [],
   "source": []
  }
 ],
 "metadata": {
  "kernelspec": {
   "display_name": "Python 3",
   "language": "python",
   "name": "python3"
  },
  "language_info": {
   "codemirror_mode": {
    "name": "ipython",
    "version": 3
   },
   "file_extension": ".py",
   "mimetype": "text/x-python",
   "name": "python",
   "nbconvert_exporter": "python",
   "pygments_lexer": "ipython3",
   "version": "3.6.7"
  }
 },
 "nbformat": 4,
 "nbformat_minor": 2
}
