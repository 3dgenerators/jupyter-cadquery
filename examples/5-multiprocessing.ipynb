{
 "cells": [
  {
   "cell_type": "code",
   "execution_count": null,
   "id": "224320a1-63b7-442b-ad56-8fcf82a48528",
   "metadata": {},
   "outputs": [],
   "source": [
    "import cadquery as cq\n",
    "from jupyter_cadquery import show, open_viewer, PartGroup, Part, set_defaults\n",
    "from jupyter_cadquery.tessellator import cache"
   ]
  },
  {
   "cell_type": "code",
   "execution_count": null,
   "id": "0f2c24b4-99a9-4726-9905-6fa9a021d6ef",
   "metadata": {},
   "outputs": [],
   "source": [
    "cv = open_viewer(\"RC\")\n",
    "\n",
    "set_defaults(angular_tolerance=0.3, timeit=False)"
   ]
  },
  {
   "cell_type": "markdown",
   "id": "986cdd12-c7dd-4ddc-83c4-8988f0424715",
   "metadata": {},
   "source": [
    "**Model Info:**\n",
    "\n",
    "- Source: https://github.com/tpaviot/pythonocc-demos/blob/master/assets/models/RC_Buggy_2_front_suspension.stp\n",
    "- Original: https://grabcad.com/library/rc-nitro-buggy_2-front-suspension-1#!\n",
    "- Author: Nagy Imre"
   ]
  },
  {
   "cell_type": "code",
   "execution_count": null,
   "id": "663d60a2-0c63-436a-80ad-26f147900a78",
   "metadata": {},
   "outputs": [],
   "source": [
    "import os\n",
    "import zipfile\n",
    "\n",
    "if not os.path.exists(\"models/RC_Buggy_2_front_suspension.bin\"):\n",
    "    print(\"Unzipping ...\")\n",
    "    with zipfile.ZipFile(\"models/RC_Buggy_2_front_suspension.zip\") as z:\n",
    "        z.extractall(\"models\")"
   ]
  },
  {
   "cell_type": "code",
   "execution_count": null,
   "id": "8b7fef7f-cd7d-430b-b7d3-d01df10d7f6f",
   "metadata": {},
   "outputs": [],
   "source": [
    "from OCP.TopoDS import TopoDS_Shape\n",
    "from OCP.BinTools import BinTools\n",
    "from OCP.TopExp import TopExp_Explorer\n",
    "from OCP.TopAbs import TopAbs_SOLID\n",
    "\n",
    "shape = TopoDS_Shape()\n",
    "\n",
    "objs = BinTools.Read_s(shape, \"models/RC_Buggy_2_front_suspension.bin\")\n",
    "e = TopExp_Explorer(shape, TopAbs_SOLID)\n",
    "solids = []\n",
    "while e.More():\n",
    "    solids.append(e.Current())\n",
    "    e.Next()\n",
    "\n",
    "colors = [\n",
    "    '#d9d9d9', '#bdbdbd', '#969696', '#dadaeb', '#bcbddc', '#9e9ac8', '#c7e9c0', '#a1d99b', '#74c476', '#fdd0a2', \n",
    "    '#fdae6b', '#fd8d3c', '#c6dbef', '#9ecae1', '#6baed6', '#de9ed6', '#ce6dbd', '#a55194', '#e7969c', '#d6616b', \n",
    "    '#ad494a', '#e7cb94', '#e7ba52', '#bd9e39', '#cedb9c', '#b5cf6b', '#8ca252', '#9c9ede', '#6b6ecf'\n",
    "]\n",
    "\n",
    "groups = [\n",
    "    [0], [1], [4], [2,3],\n",
    "    [5,6,7,8,9,10,29,30,31,32,33,34,35,38,40,50,51,53,68,69,70,71,79,80,86,87,109,110,111,112,114,115,116,117],\n",
    "    [11,12], [13,14,15,16,17,18], [19,20,23,24,27,28], [21], [22], [25,26], [36,37], [39,41], [42,43], [44,45,48,49],\n",
    "    [46,47], [52], [54], [55], [56], [57], [58], [59], [60], [61], [62], [63], [64], [65], [66,67], [72,73], \n",
    "    [74,81], [75,82], [76,83], [77,84], [78,85], [88,95], [89,90,93,94,96,97,100,101], [91,92,98,99], [102,105], \n",
    "    [103,106], [104,107], [108,113], [118,119], [120,124,127], [121,122,125,126], [123,128], [129], [130], [131], [132], \n",
    "    [133], [134], [135,136], [137,138,139,140], [141,144], [142,143,145,146], [147,152], [148,153], [149,154], [150,155], \n",
    "    [151,156], [157,159], [158,160], [161,168], [162,169], [163,170], [164,171], [165,172], [166,173], [167,174], \n",
    "    [175,182], [176,183], [177,184], [178,185], [179,186], [180,187], [181,188], [189], [190,191], [192,193],\n",
    "    [194,195,197,198], [196,199], [200], [201], [202], [203], [204,205], [208,209], [206,207], [210,211,212,213,214]\n",
    "]\n",
    "\n",
    "color = [None] * 215\n",
    "for i, a in enumerate(groups):\n",
    "    c = colors[i % len(colors)]\n",
    "    for o in a:\n",
    "        color[o] = c"
   ]
  },
  {
   "cell_type": "markdown",
   "id": "814c9808-2df9-4392-a0ed-c03598ea0e36",
   "metadata": {},
   "source": [
    "# Parallel tessellation with multiprocessing\n",
    "\n",
    "## Cache cleared"
   ]
  },
  {
   "cell_type": "code",
   "execution_count": null,
   "id": "7fef15cf-863a-4ad3-9f38-ecc0adec8204",
   "metadata": {},
   "outputs": [],
   "source": [
    "set_defaults(parallel=True)\n",
    "\n",
    "cache.clear()\n",
    "\n",
    "PartGroup([Part(s, name=f\"obj_{i}\", color=color[i]) for i,s in enumerate(solids)])"
   ]
  },
  {
   "cell_type": "markdown",
   "id": "eb4cd50f-fee6-4951-bf2e-d1ef2ab471b0",
   "metadata": {},
   "source": [
    "## All objects are cached"
   ]
  },
  {
   "cell_type": "code",
   "execution_count": null,
   "id": "e036f61c-4290-4417-8822-1dc60975088a",
   "metadata": {},
   "outputs": [],
   "source": [
    "PartGroup([Part(s, name=f\"obj_{i}\", color=color[i]) for i,s in enumerate(solids)])"
   ]
  },
  {
   "cell_type": "code",
   "execution_count": null,
   "id": "621c7f96-ed3f-49ad-8cf2-fbcb5de6d494",
   "metadata": {},
   "outputs": [],
   "source": [
    "cache.currsize / cache.maxsize"
   ]
  },
  {
   "cell_type": "markdown",
   "id": "992bbbee-170b-4ee1-af0d-9277caed75ff",
   "metadata": {},
   "source": [
    "# Single CPU tessellation\n",
    "\n",
    "## Cache cleared"
   ]
  },
  {
   "cell_type": "code",
   "execution_count": null,
   "id": "c32b5b5f-750f-47bd-ac5f-1a99ba74ff8d",
   "metadata": {},
   "outputs": [],
   "source": [
    "cache.clear()"
   ]
  },
  {
   "cell_type": "code",
   "execution_count": null,
   "id": "ebf469e4-15f5-45a2-8609-283a0a1eac26",
   "metadata": {},
   "outputs": [],
   "source": [
    "cv = show(\n",
    "    PartGroup([Part(s, name=f\"obj_{i}\", color=color[i]) for i,s in enumerate(solids)]),\n",
    "    parallel=False\n",
    ")"
   ]
  },
  {
   "cell_type": "markdown",
   "id": "63cce506-a51e-4084-92bd-949c70aafb49",
   "metadata": {},
   "source": [
    "## All objects are cached"
   ]
  },
  {
   "cell_type": "code",
   "execution_count": null,
   "id": "44358bb5-a315-480b-a001-849d5115e93c",
   "metadata": {},
   "outputs": [],
   "source": [
    "cv = show(\n",
    "    PartGroup([Part(s, name=f\"obj_{i}\", color=color[i]) for i,s in enumerate(solids)]),\n",
    "    parallel=False\n",
    ")"
   ]
  },
  {
   "cell_type": "code",
   "execution_count": null,
   "id": "e6e224ee-e9c3-4b07-bf0f-c36c4dd92aa4",
   "metadata": {},
   "outputs": [],
   "source": []
  }
 ],
 "metadata": {
  "language_info": {
   "name": "python",
   "pygments_lexer": "ipython3"
  },
  "kernelspec": {
   "display_name": "Python 3",
   "language": "python",
   "name": "python3"
  }
 },
 "nbformat": 4,
 "nbformat_minor": 5
}
