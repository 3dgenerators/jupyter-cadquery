{
 "cells": [
  {
   "cell_type": "code",
   "execution_count": 4,
   "metadata": {},
   "outputs": [
    {
     "name": "stdout",
     "output_type": "stream",
     "text": [
      "Patch\n",
      "  - cadquery.Workplane.lineTo: guard against line length 0\n",
      "  - cadquery.Workplane: remove auto display\n",
      "  - cadquery.Shape: remove auto display\n",
      "Plugging into cadquery.Workplane to enable replay\n"
     ]
    }
   ],
   "source": [
    "import cadquery as cq\n",
    "from jupyter_cadquery.cadquery import Assembly, Part, Edges, Faces, show\n",
    "\n",
    "from jupyter_cadquery import patch_cq\n",
    "patch_cq()\n",
    "\n",
    "from sidecar import Sidecar\n",
    "from jupyter_cadquery.cad_objects import set_sidecar\n",
    "\n",
    "sc = Sidecar(title=\"CadQuery\")\n",
    "set_sidecar(sc)\n",
    "\n",
    "from jupyter_cadquery import Replay\n",
    "replay = Replay(sc, debug=False).replay"
   ]
  },
  {
   "cell_type": "markdown",
   "metadata": {},
   "source": [
    "## Ex001 Simple Block"
   ]
  },
  {
   "cell_type": "code",
   "execution_count": 2,
   "metadata": {},
   "outputs": [
    {
     "data": {
      "application/vnd.jupyter.widget-view+json": {
       "model_id": "ce6d833d59314ab2a66aa549821c93d3",
       "version_major": 2,
       "version_minor": 0
      },
      "text/plain": [
       "HBox(children=(SelectMultiple(_dom_classes=('monospace',), index=(0,), layout=Layout(width='600px'), options=(…"
      ]
     },
     "metadata": {},
     "output_type": "display_data"
    },
    {
     "name": "stdout",
     "output_type": "stream",
     "text": [
      "Done, using side car 'CadQuery'\n"
     ]
    },
    {
     "data": {
      "text/plain": [
       "<jupyter_cadquery.replay.Replay at 0x109670940>"
      ]
     },
     "execution_count": 2,
     "metadata": {},
     "output_type": "execute_result"
    }
   ],
   "source": [
    "# These can be modified rather than hardcoding values for each dimension.\n",
    "length = 80.0       # Length of the block\n",
    "height = 60.0       # Height of the block\n",
    "thickness = 10.0    # Thickness of the block\n",
    "\n",
    "# Create a 3D block based on the dimension variables above.\n",
    "# 1.  Establishes a workplane that an object can be built on.\n",
    "# 1a. Uses the X and Y origins to define the workplane, meaning that the\n",
    "# positive Z direction is \"up\", and the negative Z direction is \"down\".\n",
    "result = cq.Workplane(\"XY\").box(length, height, thickness)\n",
    "\n",
    "replay(result)"
   ]
  },
  {
   "cell_type": "markdown",
   "metadata": {},
   "source": [
    "## Ex002 Block With Bored Center Hole"
   ]
  },
  {
   "cell_type": "code",
   "execution_count": 2,
   "metadata": {},
   "outputs": [
    {
     "data": {
      "application/vnd.jupyter.widget-view+json": {
       "model_id": "c1096a34eab94fce9852f4ae772ee320",
       "version_major": 2,
       "version_minor": 0
      },
      "text/plain": [
       "HBox(children=(SelectMultiple(_dom_classes=('monospace',), index=(0,), layout=Layout(width='600px'), options=(…"
      ]
     },
     "metadata": {},
     "output_type": "display_data"
    },
    {
     "name": "stdout",
     "output_type": "stream",
     "text": [
      "Done, using side car 'CadQuery'\n"
     ]
    },
    {
     "data": {
      "text/plain": [
       "<jupyter_cadquery.replay.Replay at 0x105d38940>"
      ]
     },
     "execution_count": 2,
     "metadata": {},
     "output_type": "execute_result"
    }
   ],
   "source": [
    "# These can be modified rather than hardcoding values for each dimension.\n",
    "length = 80.0               # Length of the block\n",
    "height = 60.0               # Height of the block\n",
    "thickness = 10.0            # Thickness of the block\n",
    "center_hole_dia = 22.0      # Diameter of center hole in block\n",
    "\n",
    "# Create a block based on the dimensions above and add a 22mm center hole.\n",
    "# 1.  Establishes a workplane that an object can be built on.\n",
    "# 1a. Uses the X and Y origins to define the workplane, meaning that the\n",
    "# positive Z direction is \"up\", and the negative Z direction is \"down\".\n",
    "# 2.  The highest (max) Z face is selected and a new workplane is created on it.\n",
    "# 3.  The new workplane is used to drill a hole through the block.\n",
    "# 3a. The hole is automatically centered in the workplane.\n",
    "result = cq.Workplane(\"XY\").box(length, height, thickness) \\\n",
    "    .faces(\">Z\").workplane().hole(center_hole_dia)\n",
    "\n",
    "replay(result)"
   ]
  },
  {
   "cell_type": "markdown",
   "metadata": {},
   "source": [
    "## Ex003 Pillow Block With Counterbored Holes"
   ]
  },
  {
   "cell_type": "code",
   "execution_count": 3,
   "metadata": {},
   "outputs": [
    {
     "data": {
      "application/vnd.jupyter.widget-view+json": {
       "model_id": "e202be299b9c45ba827a58c73790385c",
       "version_major": 2,
       "version_minor": 0
      },
      "text/plain": [
       "HBox(children=(SelectMultiple(_dom_classes=('monospace',), index=(0,), layout=Layout(width='600px'), options=(…"
      ]
     },
     "metadata": {},
     "output_type": "display_data"
    },
    {
     "name": "stdout",
     "output_type": "stream",
     "text": [
      "Done, using side car 'CadQuery'\n"
     ]
    },
    {
     "data": {
      "text/plain": [
       "<jupyter_cadquery.replay.Replay at 0x105d38940>"
      ]
     },
     "execution_count": 3,
     "metadata": {},
     "output_type": "execute_result"
    }
   ],
   "source": [
    "# These can be modified rather than hardcoding values for each dimension.\n",
    "length = 80.0                               # Length of the block\n",
    "width = 60.0                                # Width of the block\n",
    "height = 60.0               # Height of the block\n",
    "thickness = 10.0                         # Thickness of the block\n",
    "center_hole_dia = 22.0             # Diameter of center hole in block\n",
    "cbore_hole_diameter = 2.4     # Bolt shank/threads clearance hole diameter\n",
    "cbore_inset = 12.0                    # How far from the edge the cbored holes are set\n",
    "cbore_diameter = 4.4              # Bolt head pocket hole diameter\n",
    "cbore_depth = 2.1                   # Bolt head pocket hole depth\n",
    "\n",
    "# Create a 3D block based on the dimensions above and add a 22mm center hold\n",
    "# and 4 counterbored holes for bolts\n",
    "# 1.  Establishes a workplane that an object can be built on.\n",
    "# 1a. Uses the X and Y origins to define the workplane, meaning that the\n",
    "# positive Z direction is \"up\", and the negative Z direction is \"down\".\n",
    "# 2.  The highest(max) Z face is selected and a new workplane is created on it.\n",
    "# 3.  The new workplane is used to drill a hole through the block.\n",
    "# 3a. The hole is automatically centered in the workplane.\n",
    "# 4.  The highest(max) Z face is selected and a new workplane is created on it.\n",
    "# 5.  A for-construction rectangle is created on the workplane based on the\n",
    "#     block's overall dimensions.\n",
    "# 5a. For-construction objects are used only to place other geometry, they\n",
    "#     do not show up in the final displayed geometry.\n",
    "# 6.  The vertices of the rectangle (corners) are selected, and a counter-bored\n",
    "#     hole is placed at each of the vertices (all 4 of them at once).\n",
    "result = cq.Workplane(\"XY\").box(length, height, thickness) \\\n",
    "    .faces(\">Z\").workplane().hole(center_hole_dia) \\\n",
    "    .faces(\">Z\").workplane() \\\n",
    "    .rect(length - cbore_inset, height - cbore_inset, forConstruction=True) \\\n",
    "    .vertices().cboreHole(cbore_hole_diameter, cbore_diameter, cbore_depth) \\\n",
    "    .edges(\"|Z\").fillet(2.0)\n",
    "\n",
    "replay(result)"
   ]
  },
  {
   "cell_type": "markdown",
   "metadata": {},
   "source": [
    "## Ex004 Extruded Cylindrical Plate"
   ]
  },
  {
   "cell_type": "code",
   "execution_count": 8,
   "metadata": {},
   "outputs": [
    {
     "data": {
      "application/vnd.jupyter.widget-view+json": {
       "model_id": "5485f90e939540fe8b69c996d66315b4",
       "version_major": 2,
       "version_minor": 0
      },
      "text/plain": [
       "HBox(children=(SelectMultiple(_dom_classes=('monospace',), index=(0,), layout=Layout(width='600px'), options=(…"
      ]
     },
     "metadata": {},
     "output_type": "display_data"
    },
    {
     "name": "stdout",
     "output_type": "stream",
     "text": [
      "Done, using side car 'CadQuery'\n"
     ]
    },
    {
     "data": {
      "text/plain": [
       "<jupyter_cadquery.replay.Replay at 0x1110618d0>"
      ]
     },
     "execution_count": 8,
     "metadata": {},
     "output_type": "execute_result"
    }
   ],
   "source": [
    "# These can be modified rather than hardcoding values for each dimension.\n",
    "circle_radius = 50.0        # Radius of the plate\n",
    "thickness = 13.0            # Thickness of the plate\n",
    "rectangle_width = 13.0      # Width of rectangular hole in cylindrical plate\n",
    "rectangle_length = 19.0     # Length of rectangular hole in cylindrical plate\n",
    "\n",
    "# Extrude a cylindrical plate with a rectangular hole in the middle of it.\n",
    "# 1.  Establishes a workplane that an object can be built on.\n",
    "# 1a. Uses the named plane orientation \"front\" to define the workplane, meaning\n",
    "#     that the positive Z direction is \"up\", and the negative Z direction\n",
    "#     is \"down\".\n",
    "# 2.  The 2D geometry for the outer circle is created at the same time as the\n",
    "#     rectangle that will create the hole in the center.\n",
    "# 2a. The circle and the rectangle will be automatically centered on the\n",
    "#     workplane.\n",
    "# 2b. Unlike some other functions like the hole(), circle() takes\n",
    "#     a radius and not a diameter.\n",
    "# 3.  The circle and rectangle are extruded together, creating a cylindrical\n",
    "#     plate with a rectangular hole in the center.\n",
    "# 3a. circle() and rect() could be changed to any other shape to completely\n",
    "#     change the resulting plate and/or the hole in it.\n",
    "result = cq.Workplane(\"front\").circle(circle_radius) \\\n",
    "                              .rect(rectangle_width, rectangle_length) \\\n",
    "                              .extrude(thickness)\n",
    "\n",
    "replay(result)"
   ]
  },
  {
   "cell_type": "markdown",
   "metadata": {},
   "source": [
    "## Ex005 Extruded Lines and Arcs"
   ]
  },
  {
   "cell_type": "code",
   "execution_count": 9,
   "metadata": {},
   "outputs": [
    {
     "data": {
      "application/vnd.jupyter.widget-view+json": {
       "model_id": "063e372c3b144059a88f7538faaf0218",
       "version_major": 2,
       "version_minor": 0
      },
      "text/plain": [
       "HBox(children=(SelectMultiple(_dom_classes=('monospace',), index=(0,), layout=Layout(width='600px'), options=(…"
      ]
     },
     "metadata": {},
     "output_type": "display_data"
    },
    {
     "name": "stdout",
     "output_type": "stream",
     "text": [
      "Done, using side car 'CadQuery'\n"
     ]
    },
    {
     "data": {
      "text/plain": [
       "<jupyter_cadquery.replay.Replay at 0x1110618d0>"
      ]
     },
     "execution_count": 9,
     "metadata": {},
     "output_type": "execute_result"
    }
   ],
   "source": [
    "# These can be modified rather than hardcoding values for each dimension.\n",
    "width = 2.0         # Overall width of the plate\n",
    "thickness = 0.25    # Thickness of the plate\n",
    "\n",
    "# Extrude a plate outline made of lines and an arc\n",
    "# 1.  Establishes a workplane that an object can be built on.\n",
    "# 1a. Uses the named plane orientation \"front\" to define the workplane, meaning\n",
    "#     that the positive Z direction is \"up\", and the negative Z direction\n",
    "#     is \"down\".\n",
    "# 2.  Draws a line from the origin to an X position of the plate's width.\n",
    "# 2a. The starting point of a 2D drawing like this will be at the center of the\n",
    "#     workplane (0, 0) unless the moveTo() function moves the starting point.\n",
    "# 3.  A line is drawn from the last position straight up in the Y direction\n",
    "#     1.0 millimeters.\n",
    "# 4.  An arc is drawn from the last point, through point (1.0, 1.5) which is\n",
    "#     half-way back to the origin in the X direction and 0.5 mm above where\n",
    "#     the last line ended at. The arc then ends at (0.0, 1.0), which is 1.0 mm\n",
    "#     above (in the Y direction) where our first line started from.\n",
    "# 5.  An arc is drawn from the last point that ends on (-0.5, 1.0), the sag of\n",
    "#     the curve 0.2 determines that the curve is concave with the midpoint 0.1 mm\n",
    "#     from the arc baseline. If the sag was -0.2 the arc would be convex.\n",
    "#     This convention is valid when the profile is drawn counterclockwise.\n",
    "#     The reverse is true if the profile is drawn clockwise.\n",
    "#     Clockwise:        +sag => convex,  -sag => concave\n",
    "#     Counterclockwise: +sag => concave, -sag => convex\n",
    "# 6.  An arc is drawn from the last point that ends on (-0.7, -0.2), the arc is\n",
    "#     determined by the radius of -1.5 mm.\n",
    "#     Clockwise:        +radius => convex,  -radius => concave\n",
    "#     Counterclockwise: +radius => concave, -radius => convex\n",
    "# 7.  close() is called to automatically draw the last line for us and close\n",
    "#     the sketch so that it can be extruded.\n",
    "# 7a. Without the close(), the 2D sketch will be left open and the extrude\n",
    "#     operation will provide unpredictable results.\n",
    "# 8.  The 2D sketch is extruded into a solid object of the specified thickness.\n",
    "result = cq.Workplane(\"front\").lineTo(width, 0) \\\n",
    "                              .lineTo(width, 1.0) \\\n",
    "                              .threePointArc((1.0, 1.5), (0.0, 1.0)) \\\n",
    "                              .sagittaArc((-0.5, 1.0), 0.2) \\\n",
    "                              .radiusArc((-0.7, -0.2), -1.5) \\\n",
    "                              .close().extrude(thickness)\n",
    "\n",
    "replay(result)"
   ]
  },
  {
   "cell_type": "markdown",
   "metadata": {},
   "source": [
    "## Ex006 Moving the Current Working Point"
   ]
  },
  {
   "cell_type": "code",
   "execution_count": 11,
   "metadata": {},
   "outputs": [
    {
     "data": {
      "application/vnd.jupyter.widget-view+json": {
       "model_id": "f8ace8253fde455ba769f211e2594ff3",
       "version_major": 2,
       "version_minor": 0
      },
      "text/plain": [
       "HBox(children=(SelectMultiple(_dom_classes=('monospace',), index=(0,), layout=Layout(width='600px'), options=(…"
      ]
     },
     "metadata": {},
     "output_type": "display_data"
    },
    {
     "name": "stdout",
     "output_type": "stream",
     "text": [
      "Done, using side car 'CadQuery'\n"
     ]
    },
    {
     "data": {
      "text/plain": [
       "<jupyter_cadquery.replay.Replay at 0x1110618d0>"
      ]
     },
     "execution_count": 11,
     "metadata": {},
     "output_type": "execute_result"
    }
   ],
   "source": [
    "# These can be modified rather than hardcoding values for each dimension.\n",
    "circle_radius = 3.0     # The outside radius of the plate\n",
    "thickness = 0.25        # The thickness of the plate\n",
    "\n",
    "# Make a plate with two cutouts in it by moving the workplane center point\n",
    "# 1.  Establishes a workplane that an object can be built on.\n",
    "# 1a. Uses the named plane orientation \"front\" to define the workplane, meaning\n",
    "#     that the positive Z direction is \"up\", and the negative Z direction\n",
    "#     is \"down\".\n",
    "# 1b. The initial workplane center point is the center of the circle, at (0,0).\n",
    "# 2.  A circle is created at the center of the workplane\n",
    "# 2a. Notice that circle() takes a radius and not a diameter\n",
    "result = cq.Workplane(\"front\").circle(circle_radius)\n",
    "\n",
    "# 3.  The work center is movide to (1.5, 0.0) by calling center().\n",
    "# 3a. The new center is specified relative to the previous center,not\n",
    "#     relative to global coordinates.\n",
    "# 4.  A 0.5mm x 0.5mm 2D square is drawn inside the circle.\n",
    "# 4a. The plate has not been extruded yet, only 2D geometry is being created.\n",
    "result = result.center(1.5, 0.0).rect(0.5, 0.5)\n",
    "\n",
    "# 5.  The work center is moved again, this time to (-1.5, 1.5).\n",
    "# 6.  A 2D circle is created at that new center with a radius of 0.25mm.\n",
    "result = result.center(-1.5, 1.5).circle(0.25)\n",
    "\n",
    "# 7.  All 2D geometry is extruded to the specified thickness of the plate.\n",
    "# 7a. The small circle and the square are enclosed in the outer circle of the\n",
    "#      plate and so it is assumed that we want them to be cut out of the plate.\n",
    "#      A separate cut operation is not needed.\n",
    "result = result.extrude(thickness)\n",
    "\n",
    "replay(result)"
   ]
  },
  {
   "cell_type": "markdown",
   "metadata": {},
   "source": [
    "## Ex007 Using Point Lists"
   ]
  },
  {
   "cell_type": "code",
   "execution_count": 5,
   "metadata": {},
   "outputs": [
    {
     "data": {
      "application/vnd.jupyter.widget-view+json": {
       "model_id": "51fa7848802746799728e46e694dddfb",
       "version_major": 2,
       "version_minor": 0
      },
      "text/plain": [
       "HBox(children=(SelectMultiple(_dom_classes=('monospace',), index=(0,), layout=Layout(width='600px'), options=(…"
      ]
     },
     "metadata": {},
     "output_type": "display_data"
    },
    {
     "name": "stdout",
     "output_type": "stream",
     "text": [
      "Done, using side car 'CadQuery'\n"
     ]
    },
    {
     "data": {
      "text/plain": [
       "<jupyter_cadquery.replay.Replay at 0x12610df60>"
      ]
     },
     "execution_count": 5,
     "metadata": {},
     "output_type": "execute_result"
    }
   ],
   "source": [
    "# These can be modified rather than hardcoding values for each dimension.\n",
    "plate_radius = 2.0          # The radius of the plate that will be extruded\n",
    "hole_pattern_radius = 0.25  # Radius of circle where the holes will be placed\n",
    "thickness = 0.125           # The thickness of the plate that will be extruded\n",
    "\n",
    "# Make a plate with 4 holes in it at various points in a polar arrangement from\n",
    "# the center of the workplane.\n",
    "# 1.  Establishes a workplane that an object can be built on.\n",
    "# 1a. Uses the named plane orientation \"front\" to define the workplane, meaning\n",
    "#     that the positive Z direction is \"up\", and the negative Z direction\n",
    "#     is \"down\".\n",
    "# 2.  A 2D circle is drawn that will become though outer profile of the plate.\n",
    "r = cq.Workplane(\"front\").circle(plate_radius)\n",
    "\n",
    "# 3. Push 4 points on the stack that will be used as the center points of the\n",
    "#    holes.\n",
    "r = r.pushPoints([(1.5, 0), (0, 1.5), (-1.5, 0), (0, -1.5)])\n",
    "\n",
    "# 4. This circle() call will operate on all four points, putting a circle at\n",
    "#    each one.\n",
    "r = r.circle(hole_pattern_radius)\n",
    "\n",
    "# 5.  All 2D geometry is extruded to the specified thickness of the plate.\n",
    "# 5a. The small hole circles are enclosed in the outer circle of the plate and\n",
    "#     so it is assumed that we want them to be cut out of the plate.  A\n",
    "#     separate cut operation is not needed.\n",
    "result = r.extrude(thickness)\n",
    "\n",
    "replay(result)"
   ]
  },
  {
   "cell_type": "markdown",
   "metadata": {},
   "source": [
    "## Ex008 Polygon Creation"
   ]
  },
  {
   "cell_type": "code",
   "execution_count": 6,
   "metadata": {},
   "outputs": [
    {
     "data": {
      "application/vnd.jupyter.widget-view+json": {
       "model_id": "146f056373b44312aa13eb8d490cddec",
       "version_major": 2,
       "version_minor": 0
      },
      "text/plain": [
       "HBox(children=(SelectMultiple(_dom_classes=('monospace',), index=(0,), layout=Layout(width='600px'), options=(…"
      ]
     },
     "metadata": {},
     "output_type": "display_data"
    },
    {
     "name": "stdout",
     "output_type": "stream",
     "text": [
      "Done, using side car 'CadQuery'\n"
     ]
    },
    {
     "data": {
      "text/plain": [
       "<jupyter_cadquery.replay.Replay at 0x12610df60>"
      ]
     },
     "execution_count": 6,
     "metadata": {},
     "output_type": "execute_result"
    }
   ],
   "source": [
    "# These can be modified rather than hardcoding values for each dimension.\n",
    "width = 3.0         # The width of the plate\n",
    "height = 4.0        # The height of the plate\n",
    "thickness = 0.25    # The thickness of the plate\n",
    "polygon_sides = 6   # The number of sides that the polygonal holes should have\n",
    "polygon_dia = 1.0   # The diameter of the circle enclosing the polygon points\n",
    "\n",
    "# Create a plate with two polygons cut through it\n",
    "# 1.  Establishes a workplane that an object can be built on.\n",
    "# 1a. Uses the named plane orientation \"front\" to define the workplane, meaning\n",
    "#     that the positive Z direction is \"up\", and the negative Z direction\n",
    "#     is \"down\".\n",
    "# 2.  A 3D box is created in one box() operation to represent the plate.\n",
    "# 2a. The box is centered around the origin, which creates a result that may\n",
    "#     be unituitive when the polygon cuts are made.\n",
    "# 3.  2 points are pushed onto the stack and will be used as centers for the\n",
    "#     polygonal holes.\n",
    "# 4.  The two polygons are created, on for each point, with one call to\n",
    "#     polygon() using the number of sides and the circle that bounds the\n",
    "#     polygon.\n",
    "# 5.  The polygons are cut thru all objects that are in the line of extrusion.\n",
    "# 5a. A face was not selected, and so the polygons are created on the\n",
    "#     workplane. Since the box was centered around the origin, the polygons end\n",
    "#     up being in the center of the box. This makes them cut from the center to\n",
    "#     the outside along the normal (positive direction).\n",
    "# 6.  The polygons are cut through all objects, starting at the center of the\n",
    "#     box/plate and going \"downward\" (opposite of normal) direction. Functions\n",
    "#     like cutBlind() assume a positive cut direction, but cutThruAll() assumes\n",
    "#     instead that the cut is made from a max direction and cuts downward from\n",
    "#     that max through all objects.\n",
    "result = cq.Workplane(\"front\").box(width, height, thickness) \\\n",
    "                                    .pushPoints([(0, 0.75), (0, -0.75)]) \\\n",
    "                                    .polygon(polygon_sides, polygon_dia) \\\n",
    "                                    .cutThruAll()\n",
    "\n",
    "replay(result)"
   ]
  },
  {
   "cell_type": "markdown",
   "metadata": {},
   "source": [
    "## Ex009 Polylines"
   ]
  },
  {
   "cell_type": "code",
   "execution_count": 7,
   "metadata": {},
   "outputs": [
    {
     "data": {
      "application/vnd.jupyter.widget-view+json": {
       "model_id": "f526d4a20bf641a4a2ca7233f2f51836",
       "version_major": 2,
       "version_minor": 0
      },
      "text/plain": [
       "HBox(children=(SelectMultiple(_dom_classes=('monospace',), index=(0,), layout=Layout(width='600px'), options=(…"
      ]
     },
     "metadata": {},
     "output_type": "display_data"
    },
    {
     "name": "stdout",
     "output_type": "stream",
     "text": [
      "Done, using side car 'CadQuery'\n"
     ]
    },
    {
     "data": {
      "text/plain": [
       "<jupyter_cadquery.replay.Replay at 0x12610df60>"
      ]
     },
     "execution_count": 7,
     "metadata": {},
     "output_type": "execute_result"
    }
   ],
   "source": [
    "# These can be modified rather than hardcoding values for each dimension.\n",
    "# Define up our Length, Height, Width, and thickness of the beam\n",
    "(L, H, W, t) = (100.0, 20.0, 20.0, 1.0)\n",
    "\n",
    "# Define the points that the polyline will be drawn to/thru\n",
    "pts = [\n",
    "    (W/2.0, H/2.0),\n",
    "    (W/2.0, (H/2.0 - t)),\n",
    "    (t/2.0, (H/2.0-t)),\n",
    "    (t/2.0, (t - H/2.0)),\n",
    "    (W/2.0, (t - H/2.0)),\n",
    "    (W/2.0, H/-2.0),\n",
    "    (0, H/-2.0)\n",
    "]\n",
    "\n",
    "# We generate half of the I-beam outline and then mirror it to create the full\n",
    "# I-beam.\n",
    "# 1.  Establishes a workplane that an object can be built on.\n",
    "# 1a. Uses the named plane orientation \"front\" to define the workplane, meaning\n",
    "#     that the positive Z direction is \"up\", and the negative Z direction\n",
    "#     is \"down\".\n",
    "# 2.  moveTo() is used to move the first point from the origin (0, 0) to\n",
    "#     (0, 10.0), with 10.0 being half the height (H/2.0). If this is not done\n",
    "#     the first line will start from the origin, creating an extra segment that\n",
    "#     will cause the extrude to have an invalid shape.\n",
    "# 3.  The polyline function takes a list of points and generates the lines\n",
    "#     through all the points at once.\n",
    "# 3.  Only half of the I-beam profile has been drawn so far. That half is\n",
    "#     mirrored around the Y-axis to create the complete I-beam profile.\n",
    "# 4.  The I-beam profile is extruded to the final length of the beam.\n",
    "result = cq.Workplane(\"front\").moveTo(0, H/2.0) \\\n",
    "                              .polyline(pts) \\\n",
    "                              .mirrorY() \\\n",
    "                              .extrude(L)\n",
    "\n",
    "replay(result)"
   ]
  },
  {
   "cell_type": "markdown",
   "metadata": {},
   "source": [
    "## Ex010 Defining an Edge with a Spline"
   ]
  },
  {
   "cell_type": "code",
   "execution_count": 15,
   "metadata": {},
   "outputs": [
    {
     "data": {
      "application/vnd.jupyter.widget-view+json": {
       "model_id": "f26cb0bb14eb4f4191279ad04406c1c6",
       "version_major": 2,
       "version_minor": 0
      },
      "text/plain": [
       "HBox(children=(SelectMultiple(_dom_classes=('monospace',), index=(0,), layout=Layout(width='600px'), options=(…"
      ]
     },
     "metadata": {},
     "output_type": "display_data"
    },
    {
     "name": "stdout",
     "output_type": "stream",
     "text": [
      "Done, using side car 'CadQuery'\n"
     ]
    },
    {
     "data": {
      "text/plain": [
       "<jupyter_cadquery.replay.Replay at 0x1110618d0>"
      ]
     },
     "execution_count": 15,
     "metadata": {},
     "output_type": "execute_result"
    }
   ],
   "source": [
    "# 1.  Establishes a workplane to create the spline on to extrude.\n",
    "# 1a. Uses the X and Y origins to define the workplane, meaning that the\n",
    "# positive Z direction is \"up\", and the negative Z direction is \"down\".\n",
    "s = cq.Workplane(\"XY\")\n",
    "\n",
    "# The points that the spline will pass through\n",
    "sPnts = [\n",
    "    (2.75, 1.5),\n",
    "    (2.5, 1.75),\n",
    "    (2.0, 1.5),\n",
    "    (1.5, 1.0),\n",
    "    (1.0, 1.25),\n",
    "    (0.5, 1.0),\n",
    "    (0, 1.0)\n",
    "]\n",
    "\n",
    "# 2.  Generate our plate with the spline feature and make sure it is a\n",
    "#     closed entity\n",
    "r = s.lineTo(3.0, 0).lineTo(3.0, 1.0).spline(sPnts).close()\n",
    "\n",
    "# 3.  Extrude to turn the wire into a plate\n",
    "result = r.extrude(0.5)\n",
    "\n",
    "replay(result)"
   ]
  },
  {
   "cell_type": "markdown",
   "metadata": {},
   "source": [
    "## Ex011 Mirroring Symmetric Geometry"
   ]
  },
  {
   "cell_type": "code",
   "execution_count": 16,
   "metadata": {},
   "outputs": [
    {
     "data": {
      "application/vnd.jupyter.widget-view+json": {
       "model_id": "c694e25786f9454ebf86c07a2bf0f3bb",
       "version_major": 2,
       "version_minor": 0
      },
      "text/plain": [
       "HBox(children=(SelectMultiple(_dom_classes=('monospace',), index=(0,), layout=Layout(width='600px'), options=(…"
      ]
     },
     "metadata": {},
     "output_type": "display_data"
    },
    {
     "name": "stdout",
     "output_type": "stream",
     "text": [
      "Done, using side car 'CadQuery'\n"
     ]
    },
    {
     "data": {
      "text/plain": [
       "<jupyter_cadquery.replay.Replay at 0x1110618d0>"
      ]
     },
     "execution_count": 16,
     "metadata": {},
     "output_type": "execute_result"
    }
   ],
   "source": [
    "# 1.  Establishes a workplane that an object can be built on.\n",
    "# 1a. Uses the named plane orientation \"front\" to define the workplane, meaning\n",
    "#     that the positive Z direction is \"up\", and the negative Z direction\n",
    "#     is \"down\".\n",
    "# 2.  A horizontal line is drawn on the workplane with the hLine function.\n",
    "# 2a. 1.0 is the distance, not coordinate. hLineTo allows using xCoordinate\n",
    "#     not distance.\n",
    "r = cq.Workplane(\"front\").hLine(1.0)\n",
    "\n",
    "# 3.  Draw a series of vertical and horizontal lines with the vLine and hLine\n",
    "#     functions.\n",
    "r = r.vLine(0.5).hLine(-0.25).vLine(-0.25).hLineTo(0.0)\n",
    "\n",
    "# 4.  Mirror the geometry about the Y axis and extrude it into a 3D object.\n",
    "result = r.mirrorY().extrude(0.25)\n",
    "\n",
    "replay(result)"
   ]
  },
  {
   "cell_type": "markdown",
   "metadata": {},
   "source": [
    "## Ex012 Creating Workplanes on Faces"
   ]
  },
  {
   "cell_type": "code",
   "execution_count": 17,
   "metadata": {},
   "outputs": [
    {
     "data": {
      "application/vnd.jupyter.widget-view+json": {
       "model_id": "e37a8bd2c7534c3e996ee12668ea1b0b",
       "version_major": 2,
       "version_minor": 0
      },
      "text/plain": [
       "HBox(children=(SelectMultiple(_dom_classes=('monospace',), index=(0,), layout=Layout(width='600px'), options=(…"
      ]
     },
     "metadata": {},
     "output_type": "display_data"
    },
    {
     "name": "stdout",
     "output_type": "stream",
     "text": [
      "Done, using side car 'CadQuery'\n"
     ]
    },
    {
     "data": {
      "text/plain": [
       "<jupyter_cadquery.replay.Replay at 0x1110618d0>"
      ]
     },
     "execution_count": 17,
     "metadata": {},
     "output_type": "execute_result"
    }
   ],
   "source": [
    "# 1.  Establishes a workplane that an object can be built on.\n",
    "# 1a. Uses the named plane orientation \"front\" to define the workplane, meaning\n",
    "#     that the positive Z direction is \"up\", and the negative Z direction\n",
    "#     is \"down\".\n",
    "# 2.  Creates a 3D box that will have a hole placed in it later.\n",
    "result = cq.Workplane(\"front\").box(2, 3, 0.5)\n",
    "\n",
    "# 3.  Find the top-most face with the >Z max selector.\n",
    "# 3a. Establish a new workplane to build geometry on.\n",
    "# 3b.  Create a hole down into the box.\n",
    "result = result.faces(\">Z\").workplane().hole(0.5)\n",
    "\n",
    "replay(result)"
   ]
  },
  {
   "cell_type": "markdown",
   "metadata": {},
   "source": [
    "## Ex013 Locating a Workplane on a Vertex"
   ]
  },
  {
   "cell_type": "code",
   "execution_count": null,
   "metadata": {},
   "outputs": [],
   "source": [
    "# 1.  Establishes a workplane that an object can be built on.\n",
    "# 1a. Uses the named plane orientation \"front\" to define the workplane, meaning\n",
    "#     that the positive Z direction is \"up\", and the negative Z direction\n",
    "#     is \"down\".\n",
    "# 2.  Creates a 3D box that will have a hole placed in it later.\n",
    "result = cq.Workplane(\"front\").box(3, 2, 0.5)\n",
    "\n",
    "# 3.  Select the lower left vertex and make a workplane.\n",
    "# 3a. The top-most Z face is selected using the >Z selector.\n",
    "# 3b. The lower-left vertex of the faces is selected with the <XY selector.\n",
    "# 3c. A new workplane is created on the vertex to build future geometry on.\n",
    "result = result.faces(\">Z\").vertices(\"<XY\").workplane()\n",
    "\n",
    "# 4.  A circle is drawn with the selected vertex as its center.\n",
    "# 4a. The circle is cut down through the box to cut the corner out.\n",
    "result = result.circle(1.0).cutThruAll()\n",
    "\n",
    "replay(result)"
   ]
  },
  {
   "cell_type": "markdown",
   "metadata": {},
   "source": [
    "## Ex014 Offset Workplanes"
   ]
  },
  {
   "cell_type": "code",
   "execution_count": 3,
   "metadata": {},
   "outputs": [
    {
     "data": {
      "application/vnd.jupyter.widget-view+json": {
       "model_id": "c77e6e3f3e0f437aa1c68c87b7471e74",
       "version_major": 2,
       "version_minor": 0
      },
      "text/plain": [
       "HBox(children=(SelectMultiple(_dom_classes=('monospace',), index=(0,), layout=Layout(width='600px'), options=(…"
      ]
     },
     "metadata": {},
     "output_type": "display_data"
    },
    {
     "name": "stdout",
     "output_type": "stream",
     "text": [
      "Done, using side car 'CadQuery'\n"
     ]
    },
    {
     "data": {
      "text/plain": [
       "<jupyter_cadquery.replay.Replay at 0x108e3d898>"
      ]
     },
     "execution_count": 3,
     "metadata": {},
     "output_type": "execute_result"
    }
   ],
   "source": [
    "# 1.  Establishes a workplane that an object can be built on.\n",
    "# 1a. Uses the named plane orientation \"front\" to define the workplane, meaning\n",
    "#     that the positive Z direction is \"up\", and the negative Z direction\n",
    "#     is \"down\".\n",
    "# 2.  Creates a 3D box that will have geometry based off it later.\n",
    "result = cq.Workplane(\"front\").box(3, 2, 0.5)\n",
    "\n",
    "# 3.  The lowest face in the X direction is selected with the <X selector.\n",
    "# 4. A new wokrplane is created\n",
    "# 4a.The workplane is offset from the object surface so that it is not touching\n",
    "#    the original box.\n",
    "result = result.faces(\"<X\").workplane(offset=0.75)\n",
    "\n",
    "# 5. Creates a thin disc on the offset workplane that is floating near the box.\n",
    "result = result.circle(1.0).extrude(0.5)\n",
    "\n",
    "replay(result)"
   ]
  },
  {
   "cell_type": "markdown",
   "metadata": {},
   "source": [
    "## Ex015 Rotated Workplanes"
   ]
  },
  {
   "cell_type": "code",
   "execution_count": 19,
   "metadata": {},
   "outputs": [
    {
     "data": {
      "application/vnd.jupyter.widget-view+json": {
       "model_id": "a2eb82a7218249199889bb1b1fb1d1d7",
       "version_major": 2,
       "version_minor": 0
      },
      "text/plain": [
       "HBox(children=(SelectMultiple(_dom_classes=('monospace',), index=(0,), layout=Layout(width='600px'), options=(…"
      ]
     },
     "metadata": {},
     "output_type": "display_data"
    },
    {
     "name": "stdout",
     "output_type": "stream",
     "text": [
      "Done, using side car 'CadQuery'\n"
     ]
    },
    {
     "data": {
      "text/plain": [
       "<jupyter_cadquery.replay.Replay at 0x1110618d0>"
      ]
     },
     "execution_count": 19,
     "metadata": {},
     "output_type": "execute_result"
    }
   ],
   "source": [
    "# 1.  Establishes a workplane that an object can be built on.\n",
    "# 1a. Uses the named plane orientation \"front\" to define the workplane, meaning\n",
    "#     that the positive Z direction is \"up\", and the negative Z direction\n",
    "#     is \"down\".\n",
    "# 2.  Creates a plain box to base future geometry on with the box() function.\n",
    "# 3.  Selects the top-most Z face of the box.\n",
    "# 4.  Creates a new workplane and then moves and rotates it with the\n",
    "#     transformed function.\n",
    "# 5.  Creates a for-construction rectangle that only exists to use for placing\n",
    "#     other geometry.\n",
    "# 6.  Selects the vertices of the for-construction rectangle.\n",
    "# 7.  Places holes at the center of each selected vertex.\n",
    "# 7a. Since the workplane is rotated, this results in angled holes in the face.\n",
    "result = cq.Workplane(\"front\").box(4.0, 4.0, 0.25).faces(\">Z\") \\\n",
    "                 .workplane() \\\n",
    "                 .transformed(offset=(0, -1.5, 1.0), rotate=(60, 0, 0)) \\\n",
    "                 .rect(1.5, 1.5, forConstruction=True).vertices().hole(0.25)\n",
    "\n",
    "replay(result)"
   ]
  },
  {
   "cell_type": "markdown",
   "metadata": {},
   "source": [
    "## Ex016 Using Construction Geometry"
   ]
  },
  {
   "cell_type": "code",
   "execution_count": 20,
   "metadata": {},
   "outputs": [
    {
     "data": {
      "application/vnd.jupyter.widget-view+json": {
       "model_id": "facf1b21c631414f88f8d127dd03af54",
       "version_major": 2,
       "version_minor": 0
      },
      "text/plain": [
       "HBox(children=(SelectMultiple(_dom_classes=('monospace',), index=(0,), layout=Layout(width='600px'), options=(…"
      ]
     },
     "metadata": {},
     "output_type": "display_data"
    },
    {
     "name": "stdout",
     "output_type": "stream",
     "text": [
      "Done, using side car 'CadQuery'\n"
     ]
    },
    {
     "data": {
      "text/plain": [
       "<jupyter_cadquery.replay.Replay at 0x1110618d0>"
      ]
     },
     "execution_count": 20,
     "metadata": {},
     "output_type": "execute_result"
    }
   ],
   "source": [
    "# Create a block with holes in each corner of a rectangle on that workplane.\n",
    "# 1.  Establishes a workplane that an object can be built on.\n",
    "# 1a. Uses the named plane orientation \"front\" to define the workplane, meaning\n",
    "#     that the positive Z direction is \"up\", and the negative Z direction\n",
    "#     is \"down\".\n",
    "# 2.  Creates a plain box to base future geometry on with the box() function.\n",
    "# 3.  Selects the top-most Z face of the box.\n",
    "# 4.  Creates a new workplane to build new geometry on.\n",
    "# 5.  Creates a for-construction rectangle that only exists to use for placing\n",
    "#     other geometry.\n",
    "# 6.  Selects the vertices of the for-construction rectangle.\n",
    "# 7.  Places holes at the center of each selected vertex.\n",
    "result = cq.Workplane(\"front\").box(2, 2, 0.5)\\\n",
    "                 .faces(\">Z\").workplane() \\\n",
    "                 .rect(1.5, 1.5, forConstruction=True).vertices() \\\n",
    "                 .hole(0.125)\n",
    "\n",
    "replay(result)"
   ]
  },
  {
   "cell_type": "markdown",
   "metadata": {},
   "source": [
    "## Ex017 Shelling to Create Thin Features"
   ]
  },
  {
   "cell_type": "code",
   "execution_count": 21,
   "metadata": {},
   "outputs": [
    {
     "data": {
      "application/vnd.jupyter.widget-view+json": {
       "model_id": "597385130a0a402983180805fcffa263",
       "version_major": 2,
       "version_minor": 0
      },
      "text/plain": [
       "HBox(children=(SelectMultiple(_dom_classes=('monospace',), index=(0,), layout=Layout(width='600px'), options=(…"
      ]
     },
     "metadata": {},
     "output_type": "display_data"
    },
    {
     "name": "stdout",
     "output_type": "stream",
     "text": [
      "Done, using side car 'CadQuery'\n"
     ]
    },
    {
     "data": {
      "text/plain": [
       "<jupyter_cadquery.replay.Replay at 0x1110618d0>"
      ]
     },
     "execution_count": 21,
     "metadata": {},
     "output_type": "execute_result"
    }
   ],
   "source": [
    "# Create a hollow box that's open on both ends with a thin wall.\n",
    "# 1.  Establishes a workplane that an object can be built on.\n",
    "# 1a. Uses the named plane orientation \"front\" to define the workplane, meaning\n",
    "#     that the positive Z direction is \"up\", and the negative Z direction\n",
    "#     is \"down\".\n",
    "# 2.  Creates a plain box to base future geometry on with the box() function.\n",
    "# 3.  Selects faces with normal in +z direction.\n",
    "# 4.  Create a shell by cutting out the top-most Z face.\n",
    "result = cq.Workplane(\"front\").box(2, 2, 2).faces(\"+Z\").shell(0.05)\n",
    "\n",
    "replay(result)"
   ]
  },
  {
   "cell_type": "markdown",
   "metadata": {},
   "source": [
    "## Ex018 Making Lofts"
   ]
  },
  {
   "cell_type": "code",
   "execution_count": 22,
   "metadata": {},
   "outputs": [
    {
     "data": {
      "application/vnd.jupyter.widget-view+json": {
       "model_id": "412d88f77c6d43f4bdf4cb45bb86968b",
       "version_major": 2,
       "version_minor": 0
      },
      "text/plain": [
       "HBox(children=(SelectMultiple(_dom_classes=('monospace',), index=(0,), layout=Layout(width='600px'), options=(…"
      ]
     },
     "metadata": {},
     "output_type": "display_data"
    },
    {
     "name": "stdout",
     "output_type": "stream",
     "text": [
      "Done, using side car 'CadQuery'\n"
     ]
    },
    {
     "data": {
      "text/plain": [
       "<jupyter_cadquery.replay.Replay at 0x1110618d0>"
      ]
     },
     "execution_count": 22,
     "metadata": {},
     "output_type": "execute_result"
    }
   ],
   "source": [
    "# Create a lofted section between a rectangle and a circular section.\n",
    "# 1.  Establishes a workplane that an object can be built on.\n",
    "# 1a. Uses the named plane orientation \"front\" to define the workplane, meaning\n",
    "#     that the positive Z direction is \"up\", and the negative Z direction\n",
    "#     is \"down\".\n",
    "# 2.  Creates a plain box to base future geometry on with the box() function.\n",
    "# 3.  Selects the top-most Z face of the box.\n",
    "# 4.  Draws a 2D circle at the center of the the top-most face of the box.\n",
    "# 5.  Creates a workplane 3 mm above the face the circle was drawn on.\n",
    "# 6.  Draws a 2D circle on the new, offset workplane.\n",
    "# 7.  Creates a loft between the circle and the rectangle.\n",
    "result = cq.Workplane(\"front\").box(4.0, 4.0, 0.25).faces(\">Z\") \\\n",
    "                              .circle(1.5).workplane(offset=3.0) \\\n",
    "                              .rect(0.75, 0.5) \\\n",
    "                              .loft(combine=True)\n",
    "\n",
    "replay(result)"
   ]
  },
  {
   "cell_type": "markdown",
   "metadata": {},
   "source": [
    "## Ex019 Counter Sunk Holes"
   ]
  },
  {
   "cell_type": "code",
   "execution_count": 23,
   "metadata": {},
   "outputs": [
    {
     "data": {
      "application/vnd.jupyter.widget-view+json": {
       "model_id": "9769dedfdc0f4d10a0bd4b3c9d6555c8",
       "version_major": 2,
       "version_minor": 0
      },
      "text/plain": [
       "HBox(children=(SelectMultiple(_dom_classes=('monospace',), index=(0,), layout=Layout(width='600px'), options=(…"
      ]
     },
     "metadata": {},
     "output_type": "display_data"
    },
    {
     "name": "stdout",
     "output_type": "stream",
     "text": [
      "Done, using side car 'CadQuery'\n"
     ]
    },
    {
     "data": {
      "text/plain": [
       "<jupyter_cadquery.replay.Replay at 0x1110618d0>"
      ]
     },
     "execution_count": 23,
     "metadata": {},
     "output_type": "execute_result"
    }
   ],
   "source": [
    "# Create a plate with 4 counter-sunk holes in it.\n",
    "# 1.  Establishes a workplane using an XY object instead of a named plane.\n",
    "# 2.  Creates a plain box to base future geometry on with the box() function.\n",
    "# 3.  Selects the top-most face of the box and established a workplane on that.\n",
    "# 4.  Draws a for-construction rectangle on the workplane which only exists for\n",
    "#     placing other geometry.\n",
    "# 5.  Selects the corner vertices of the rectangle and places a counter-sink\n",
    "#     hole, using each vertex as the center of a hole using the cskHole()\n",
    "#     function.\n",
    "# 5a. When the depth of the counter-sink hole is set to None, the hole will be\n",
    "#     cut through.\n",
    "result = cq.Workplane(cq.Plane.XY()).box(4, 2, 0.5).faces(\">Z\") \\\n",
    "                 .workplane().rect(3.5, 1.5, forConstruction=True) \\\n",
    "                 .vertices().cskHole(0.125, 0.25, 82.0, depth=None)\n",
    "\n",
    "replay(result)"
   ]
  },
  {
   "cell_type": "markdown",
   "metadata": {},
   "source": [
    "## Ex020 Rounding Corners with Fillets"
   ]
  },
  {
   "cell_type": "code",
   "execution_count": 24,
   "metadata": {},
   "outputs": [
    {
     "data": {
      "application/vnd.jupyter.widget-view+json": {
       "model_id": "69f758c1a1134a299ddbc0c8c6d468fb",
       "version_major": 2,
       "version_minor": 0
      },
      "text/plain": [
       "HBox(children=(SelectMultiple(_dom_classes=('monospace',), index=(0,), layout=Layout(width='600px'), options=(…"
      ]
     },
     "metadata": {},
     "output_type": "display_data"
    },
    {
     "name": "stdout",
     "output_type": "stream",
     "text": [
      "Done, using side car 'CadQuery'\n"
     ]
    },
    {
     "data": {
      "text/plain": [
       "<jupyter_cadquery.replay.Replay at 0x1110618d0>"
      ]
     },
     "execution_count": 24,
     "metadata": {},
     "output_type": "execute_result"
    }
   ],
   "source": [
    "# Create a plate with 4 rounded corners in the Z-axis.\n",
    "# 1.  Establishes a workplane that an object can be built on.\n",
    "# 1a. Uses the X and Y origins to define the workplane, meaning that the\n",
    "#     positive Z direction is \"up\", and the negative Z direction is \"down\".\n",
    "# 2.  Creates a plain box to base future geometry on with the box() function.\n",
    "# 3.  Selects all edges that are parallel to the Z axis.\n",
    "# 4.  Creates fillets on each of the selected edges with the specified radius.\n",
    "result = cq.Workplane(\"XY\").box(3, 3, 0.5).edges(\"|Z\").fillet(0.125)\n",
    "\n",
    "replay(result)"
   ]
  },
  {
   "cell_type": "markdown",
   "metadata": {},
   "source": [
    "## Ex021 Splitting an Object"
   ]
  },
  {
   "cell_type": "code",
   "execution_count": 25,
   "metadata": {},
   "outputs": [
    {
     "data": {
      "application/vnd.jupyter.widget-view+json": {
       "model_id": "e96ec142fe1e4b7f99866c5113d80493",
       "version_major": 2,
       "version_minor": 0
      },
      "text/plain": [
       "HBox(children=(SelectMultiple(_dom_classes=('monospace',), index=(0,), layout=Layout(width='600px'), options=(…"
      ]
     },
     "metadata": {},
     "output_type": "display_data"
    },
    {
     "name": "stdout",
     "output_type": "stream",
     "text": [
      "Done, using side car 'CadQuery'\n"
     ]
    },
    {
     "data": {
      "text/plain": [
       "<jupyter_cadquery.replay.Replay at 0x1110618d0>"
      ]
     },
     "execution_count": 25,
     "metadata": {},
     "output_type": "execute_result"
    }
   ],
   "source": [
    "# Create a simple block with a hole through it that we can split.\n",
    "# 1.  Establishes a workplane that an object can be built on.\n",
    "# 1a. Uses the X and Y origins to define the workplane, meaning that the\n",
    "#     positive Z direction is \"up\", and the negative Z direction is \"down\".\n",
    "# 2.  Creates a plain box to base future geometry on with the box() function.\n",
    "# 3.  Selects the top-most face of the box and establishes a workplane on it\n",
    "#     that new geometry can be built on.\n",
    "# 4.  Draws a 2D circle on the new workplane and then uses it to cut a hole\n",
    "#     all the way through the box.\n",
    "c = cq.Workplane(\"XY\").box(1, 1, 1).faces(\">Z\").workplane() \\\n",
    "                      .circle(0.25).cutThruAll()\n",
    "\n",
    "# 5.  Selects the face furthest away from the origin in the +Y axis direction.\n",
    "# 6.  Creates an offset workplane that is set in the center of the object.\n",
    "# 6a. One possible improvement to this script would be to make the dimensions\n",
    "#     of the box variables, and then divide the Y-axis dimension by 2.0 and\n",
    "#     use that to create the offset workplane.\n",
    "# 7.  Uses the embedded workplane to split the object, keeping only the \"top\"\n",
    "#     portion.\n",
    "result = c.faces(\">Y\").workplane(-0.5).split(keepTop=True)\n",
    "\n",
    "replay(result)"
   ]
  },
  {
   "cell_type": "markdown",
   "metadata": {},
   "source": [
    "## Ex022 Revolution"
   ]
  },
  {
   "cell_type": "code",
   "execution_count": 26,
   "metadata": {},
   "outputs": [
    {
     "data": {
      "application/vnd.jupyter.widget-view+json": {
       "model_id": "1688b4c4ada845f29c92ab7e14e1cf47",
       "version_major": 2,
       "version_minor": 0
      },
      "text/plain": [
       "HBox(children=(SelectMultiple(_dom_classes=('monospace',), index=(0,), layout=Layout(width='600px'), options=(…"
      ]
     },
     "metadata": {},
     "output_type": "display_data"
    },
    {
     "name": "stdout",
     "output_type": "stream",
     "text": [
      "Done, using side car 'CadQuery'\n"
     ]
    },
    {
     "data": {
      "text/plain": [
       "<jupyter_cadquery.replay.Replay at 0x1110618d0>"
      ]
     },
     "execution_count": 26,
     "metadata": {},
     "output_type": "execute_result"
    }
   ],
   "source": [
    "# The dimensions of the model. These can be modified rather than changing the\n",
    "# shape's code directly.\n",
    "rectangle_width = 10.0\n",
    "rectangle_length = 10.0\n",
    "angle_degrees = 360.0\n",
    "\n",
    "# Revolve a cylinder from a rectangle\n",
    "# Switch comments around in this section to try the revolve operation with different parameters\n",
    "result = cq.Workplane(\"XY\").rect(rectangle_width, rectangle_length, False).revolve()\n",
    "\n",
    "replay(result)"
   ]
  },
  {
   "cell_type": "code",
   "execution_count": 28,
   "metadata": {},
   "outputs": [
    {
     "data": {
      "application/vnd.jupyter.widget-view+json": {
       "model_id": "f7a8ecfc67fa470f89690d328f48b485",
       "version_major": 2,
       "version_minor": 0
      },
      "text/plain": [
       "HBox(children=(SelectMultiple(_dom_classes=('monospace',), index=(0,), layout=Layout(width='600px'), options=(…"
      ]
     },
     "metadata": {},
     "output_type": "display_data"
    },
    {
     "name": "stdout",
     "output_type": "stream",
     "text": [
      "Done, using side car 'CadQuery'\n"
     ]
    },
    {
     "data": {
      "text/plain": [
       "<jupyter_cadquery.replay.Replay at 0x1110618d0>"
      ]
     },
     "execution_count": 28,
     "metadata": {},
     "output_type": "execute_result"
    }
   ],
   "source": [
    "result = cq.Workplane(\"XY\").rect(rectangle_width, rectangle_length, False).revolve(angle_degrees)\n",
    "\n",
    "replay(result)"
   ]
  },
  {
   "cell_type": "code",
   "execution_count": 29,
   "metadata": {},
   "outputs": [
    {
     "data": {
      "application/vnd.jupyter.widget-view+json": {
       "model_id": "dfe48c8fa19843c18431355cc234631f",
       "version_major": 2,
       "version_minor": 0
      },
      "text/plain": [
       "HBox(children=(SelectMultiple(_dom_classes=('monospace',), index=(0,), layout=Layout(width='600px'), options=(…"
      ]
     },
     "metadata": {},
     "output_type": "display_data"
    },
    {
     "name": "stdout",
     "output_type": "stream",
     "text": [
      "Done, using side car 'CadQuery'\n"
     ]
    },
    {
     "data": {
      "text/plain": [
       "<jupyter_cadquery.replay.Replay at 0x1110618d0>"
      ]
     },
     "execution_count": 29,
     "metadata": {},
     "output_type": "execute_result"
    }
   ],
   "source": [
    "result = cq.Workplane(\"XY\").rect(rectangle_width, rectangle_length).revolve(angle_degrees,(-5,-5))\n",
    "\n",
    "replay(result)"
   ]
  },
  {
   "cell_type": "code",
   "execution_count": 30,
   "metadata": {},
   "outputs": [
    {
     "data": {
      "application/vnd.jupyter.widget-view+json": {
       "model_id": "3b6ced35e63d4ede8b3f20b959c8b8a9",
       "version_major": 2,
       "version_minor": 0
      },
      "text/plain": [
       "HBox(children=(SelectMultiple(_dom_classes=('monospace',), index=(0,), layout=Layout(width='600px'), options=(…"
      ]
     },
     "metadata": {},
     "output_type": "display_data"
    },
    {
     "name": "stdout",
     "output_type": "stream",
     "text": [
      "Done, using side car 'CadQuery'\n"
     ]
    },
    {
     "data": {
      "text/plain": [
       "<jupyter_cadquery.replay.Replay at 0x1110618d0>"
      ]
     },
     "execution_count": 30,
     "metadata": {},
     "output_type": "execute_result"
    }
   ],
   "source": [
    "result = cq.Workplane(\"XY\").rect(rectangle_width, rectangle_length).revolve(angle_degrees,(-5, -5),(-5, 5))\n",
    "\n",
    "replay(result)"
   ]
  },
  {
   "cell_type": "code",
   "execution_count": 32,
   "metadata": {},
   "outputs": [
    {
     "data": {
      "application/vnd.jupyter.widget-view+json": {
       "model_id": "4a98b10cf5464fa981b410288066b50a",
       "version_major": 2,
       "version_minor": 0
      },
      "text/plain": [
       "HBox(children=(SelectMultiple(_dom_classes=('monospace',), index=(0,), layout=Layout(width='600px'), options=(…"
      ]
     },
     "metadata": {},
     "output_type": "display_data"
    },
    {
     "name": "stdout",
     "output_type": "stream",
     "text": [
      "Done, using side car 'CadQuery'\n"
     ]
    },
    {
     "data": {
      "text/plain": [
       "<jupyter_cadquery.replay.Replay at 0x1110618d0>"
      ]
     },
     "execution_count": 32,
     "metadata": {},
     "output_type": "execute_result"
    }
   ],
   "source": [
    "result = cq.Workplane(\"XY\").rect(rectangle_width, rectangle_length).revolve(angle_degrees,(-5,-5),(-5,5), False)\n",
    "\n",
    "replay(result)"
   ]
  },
  {
   "cell_type": "code",
   "execution_count": 34,
   "metadata": {},
   "outputs": [
    {
     "data": {
      "application/vnd.jupyter.widget-view+json": {
       "model_id": "568082449c6648d9a9e9107190d4d05d",
       "version_major": 2,
       "version_minor": 0
      },
      "text/plain": [
       "HBox(children=(SelectMultiple(_dom_classes=('monospace',), index=(0,), layout=Layout(width='600px'), options=(…"
      ]
     },
     "metadata": {},
     "output_type": "display_data"
    },
    {
     "name": "stdout",
     "output_type": "stream",
     "text": [
      "Done, using side car 'CadQuery'\n"
     ]
    },
    {
     "data": {
      "text/plain": [
       "<jupyter_cadquery.replay.Replay at 0x1110618d0>"
      ]
     },
     "execution_count": 34,
     "metadata": {},
     "output_type": "execute_result"
    }
   ],
   "source": [
    "# Revolve a donut with square walls\n",
    "result = cq.Workplane(\"XY\").rect(rectangle_width, rectangle_length, True).revolve(angle_degrees, (20, 0), (20, 10))\n",
    "\n",
    "replay(result)"
   ]
  },
  {
   "cell_type": "markdown",
   "metadata": {},
   "source": [
    "## Ex023 Sweep"
   ]
  },
  {
   "cell_type": "code",
   "execution_count": 35,
   "metadata": {},
   "outputs": [],
   "source": [
    "# Points we will use to create spline and polyline paths to sweep over\n",
    "pts = [\n",
    "    (0, 1),\n",
    "    (1, 2),\n",
    "    (2, 4)\n",
    "]\n",
    "\n",
    "# Spline path generated from our list of points (tuples)\n",
    "path = cq.Workplane(\"XZ\").spline(pts)\n",
    "\n",
    "# Sweep a circle with a diameter of 1.0 units along the spline path we just created\n",
    "defaultSweep = cq.Workplane(\"XY\").circle(1.0).sweep(path)\n",
    "\n",
    "# Sweep defaults to making a solid and not generating a Frenet solid. Setting Frenet to True helps prevent creep in\n",
    "# the orientation of the profile as it is being swept\n",
    "frenetShell = cq.Workplane(\"XY\").circle(1.0).sweep(path, makeSolid=True, isFrenet=True)\n",
    "\n",
    "# We can sweep shapes other than circles\n",
    "defaultRect = cq.Workplane(\"XY\").rect(1.0, 1.0).sweep(path)\n",
    "\n",
    "# Switch to a polyline path, but have it use the same points as the spline\n",
    "path = cq.Workplane(\"XZ\").polyline(pts)\n",
    "\n",
    "# Using a polyline path leads to the resulting solid having segments rather than a single swept outer face\n",
    "plineSweep = cq.Workplane(\"XY\").circle(1.0).sweep(path)\n",
    "\n",
    "# Switch to an arc for the path\n",
    "path = cq.Workplane(\"XZ\").threePointArc((1.0, 1.5), (0.0, 1.0))\n",
    "\n",
    "# Use a smaller circle section so that the resulting solid looks a little nicer\n",
    "arcSweep = cq.Workplane(\"XY\").circle(0.5).sweep(path)"
   ]
  },
  {
   "cell_type": "code",
   "execution_count": 36,
   "metadata": {},
   "outputs": [
    {
     "data": {
      "application/vnd.jupyter.widget-view+json": {
       "model_id": "d84d51f391f84b478bc8c7942c5d5954",
       "version_major": 2,
       "version_minor": 0
      },
      "text/plain": [
       "HBox(children=(SelectMultiple(_dom_classes=('monospace',), index=(0,), layout=Layout(width='600px'), options=(…"
      ]
     },
     "metadata": {},
     "output_type": "display_data"
    },
    {
     "name": "stdout",
     "output_type": "stream",
     "text": [
      "Done, using side car 'CadQuery'\n"
     ]
    },
    {
     "data": {
      "text/plain": [
       "<jupyter_cadquery.replay.Replay at 0x1110618d0>"
      ]
     },
     "execution_count": 36,
     "metadata": {},
     "output_type": "execute_result"
    }
   ],
   "source": [
    "replay(defaultSweep)"
   ]
  },
  {
   "cell_type": "code",
   "execution_count": 45,
   "metadata": {},
   "outputs": [
    {
     "data": {
      "application/vnd.jupyter.widget-view+json": {
       "model_id": "1d70c6b643484e6d8c29839883f35b07",
       "version_major": 2,
       "version_minor": 0
      },
      "text/plain": [
       "HBox(children=(SelectMultiple(_dom_classes=('monospace',), index=(0,), layout=Layout(width='600px'), options=(…"
      ]
     },
     "metadata": {},
     "output_type": "display_data"
    },
    {
     "name": "stdout",
     "output_type": "stream",
     "text": [
      "Done, using side car 'CadQuery'\n"
     ]
    },
    {
     "data": {
      "text/plain": [
       "<jupyter_cadquery.replay.Replay at 0x1110618d0>"
      ]
     },
     "execution_count": 45,
     "metadata": {},
     "output_type": "execute_result"
    }
   ],
   "source": [
    "replay(frenetShell.translate((5, 0, 0)))"
   ]
  },
  {
   "cell_type": "code",
   "execution_count": 42,
   "metadata": {},
   "outputs": [
    {
     "data": {
      "application/vnd.jupyter.widget-view+json": {
       "model_id": "f94dff4e39994036a0fb886b6ea72c65",
       "version_major": 2,
       "version_minor": 0
      },
      "text/plain": [
       "HBox(children=(SelectMultiple(_dom_classes=('monospace',), index=(0,), layout=Layout(width='600px'), options=(…"
      ]
     },
     "metadata": {},
     "output_type": "display_data"
    },
    {
     "name": "stdout",
     "output_type": "stream",
     "text": [
      "Done, using side car 'CadQuery'\n"
     ]
    },
    {
     "data": {
      "text/plain": [
       "<jupyter_cadquery.replay.Replay at 0x1110618d0>"
      ]
     },
     "execution_count": 42,
     "metadata": {},
     "output_type": "execute_result"
    }
   ],
   "source": [
    "replay(defaultRect.translate((10, 0, 0)))"
   ]
  },
  {
   "cell_type": "code",
   "execution_count": 43,
   "metadata": {},
   "outputs": [
    {
     "data": {
      "application/vnd.jupyter.widget-view+json": {
       "model_id": "3a43365e51f749d7a4dd78953f7ccf06",
       "version_major": 2,
       "version_minor": 0
      },
      "text/plain": [
       "HBox(children=(SelectMultiple(_dom_classes=('monospace',), index=(0,), layout=Layout(width='600px'), options=(…"
      ]
     },
     "metadata": {},
     "output_type": "display_data"
    },
    {
     "name": "stdout",
     "output_type": "stream",
     "text": [
      "Done, using side car 'CadQuery'\n"
     ]
    },
    {
     "data": {
      "text/plain": [
       "<jupyter_cadquery.replay.Replay at 0x1110618d0>"
      ]
     },
     "execution_count": 43,
     "metadata": {},
     "output_type": "execute_result"
    }
   ],
   "source": [
    "replay(plineSweep.translate((15, 0, 0)))"
   ]
  },
  {
   "cell_type": "code",
   "execution_count": 44,
   "metadata": {},
   "outputs": [
    {
     "data": {
      "application/vnd.jupyter.widget-view+json": {
       "model_id": "029cb52b9c37477b91b68f01f1fbbdb3",
       "version_major": 2,
       "version_minor": 0
      },
      "text/plain": [
       "HBox(children=(SelectMultiple(_dom_classes=('monospace',), index=(0,), layout=Layout(width='600px'), options=(…"
      ]
     },
     "metadata": {},
     "output_type": "display_data"
    },
    {
     "name": "stdout",
     "output_type": "stream",
     "text": [
      "Done, using side car 'CadQuery'\n"
     ]
    },
    {
     "data": {
      "text/plain": [
       "<jupyter_cadquery.replay.Replay at 0x1110618d0>"
      ]
     },
     "execution_count": 44,
     "metadata": {},
     "output_type": "execute_result"
    }
   ],
   "source": [
    "replay(arcSweep.translate((20, 0, 0)))"
   ]
  },
  {
   "cell_type": "markdown",
   "metadata": {},
   "source": [
    "## Ex024 Sweep Along List Of Wires"
   ]
  },
  {
   "cell_type": "code",
   "execution_count": 46,
   "metadata": {},
   "outputs": [],
   "source": [
    "# X axis line length 20.0\n",
    "path = cq.Workplane(\"XZ\").moveTo(-10, 0).lineTo(10, 0)\n",
    "\n",
    "# Sweep a circle from diameter 2.0 to diameter 1.0 to diameter 2.0 along X axis length 10.0 + 10.0\n",
    "defaultSweep = cq.Workplane(\"YZ\").workplane(offset=-10.0).circle(2.0). \\\n",
    "    workplane(offset=10.0).circle(1.0). \\\n",
    "    workplane(offset=10.0).circle(2.0).sweep(path, sweepAlongWires=True)\n",
    "\n",
    "# We can sweep thrue different shapes\n",
    "recttocircleSweep = cq.Workplane(\"YZ\").workplane(offset=-10.0).rect(2.0, 2.0). \\\n",
    "    workplane(offset=8.0).circle(1.0).workplane(offset=4.0).circle(1.0). \\\n",
    "    workplane(offset=8.0).rect(2.0, 2.0).sweep(path, sweepAlongWires=True)\n",
    "\n",
    "circletorectSweep = cq.Workplane(\"YZ\").workplane(offset=-10.0).circle(1.0). \\\n",
    "    workplane(offset=7.0).rect(2.0, 2.0).workplane(offset=6.0).rect(2.0, 2.0). \\\n",
    "    workplane(offset=7.0).circle(1.0).sweep(path, sweepAlongWires=True)\n",
    "\n",
    "\n",
    "# Placement of the Shape is important otherwise could produce unexpected shape\n",
    "specialSweep = cq.Workplane(\"YZ\").circle(1.0).workplane(offset=10.0).rect(2.0, 2.0). \\\n",
    "    sweep(path, sweepAlongWires=True)\n",
    "\n",
    "# Switch to an arc for the path : line l=5.0 then half circle r=4.0 then line l=5.0\n",
    "path = cq.Workplane(\"XZ\").moveTo(-5, 4).lineTo(0, 4). \\\n",
    "        threePointArc((4, 0), (0, -4)).lineTo(-5, -4)\n",
    "\n",
    "# Placement of different shapes should follow the path\n",
    "# cylinder r=1.5 along first line\n",
    "# then sweep allong arc from r=1.5 to r=1.0\n",
    "# then cylinder r=1.0 along last line\n",
    "arcSweep = cq.Workplane(\"YZ\").workplane(offset=-5).moveTo(0, 4).circle(1.5). \\\n",
    "    workplane(offset=5).circle(1.5). \\\n",
    "    moveTo(0, -8).circle(1.0). \\\n",
    "    workplane(offset=-5).circle(1.0). \\\n",
    "    sweep(path, sweepAlongWires=True)"
   ]
  },
  {
   "cell_type": "code",
   "execution_count": 47,
   "metadata": {},
   "outputs": [
    {
     "data": {
      "application/vnd.jupyter.widget-view+json": {
       "model_id": "ac10f3614d594c1e8154f05e7f7a4db8",
       "version_major": 2,
       "version_minor": 0
      },
      "text/plain": [
       "HBox(children=(SelectMultiple(_dom_classes=('monospace',), index=(0,), layout=Layout(width='600px'), options=(…"
      ]
     },
     "metadata": {},
     "output_type": "display_data"
    },
    {
     "name": "stdout",
     "output_type": "stream",
     "text": [
      "Done, using side car 'CadQuery'\n"
     ]
    },
    {
     "data": {
      "text/plain": [
       "<jupyter_cadquery.replay.Replay at 0x1110618d0>"
      ]
     },
     "execution_count": 47,
     "metadata": {},
     "output_type": "execute_result"
    }
   ],
   "source": [
    "replay(defaultSweep)"
   ]
  },
  {
   "cell_type": "code",
   "execution_count": 48,
   "metadata": {},
   "outputs": [
    {
     "data": {
      "application/vnd.jupyter.widget-view+json": {
       "model_id": "12336f03becb425d97f0afc537489ee9",
       "version_major": 2,
       "version_minor": 0
      },
      "text/plain": [
       "HBox(children=(SelectMultiple(_dom_classes=('monospace',), index=(0,), layout=Layout(width='600px'), options=(…"
      ]
     },
     "metadata": {},
     "output_type": "display_data"
    },
    {
     "name": "stdout",
     "output_type": "stream",
     "text": [
      "Done, using side car 'CadQuery'\n"
     ]
    },
    {
     "data": {
      "text/plain": [
       "<jupyter_cadquery.replay.Replay at 0x1110618d0>"
      ]
     },
     "execution_count": 48,
     "metadata": {},
     "output_type": "execute_result"
    }
   ],
   "source": [
    "replay(circletorectSweep.translate((0, 5, 0)))"
   ]
  },
  {
   "cell_type": "code",
   "execution_count": 49,
   "metadata": {},
   "outputs": [
    {
     "data": {
      "application/vnd.jupyter.widget-view+json": {
       "model_id": "a8781ab747074f0da259743c879cce30",
       "version_major": 2,
       "version_minor": 0
      },
      "text/plain": [
       "HBox(children=(SelectMultiple(_dom_classes=('monospace',), index=(0,), layout=Layout(width='600px'), options=(…"
      ]
     },
     "metadata": {},
     "output_type": "display_data"
    },
    {
     "name": "stdout",
     "output_type": "stream",
     "text": [
      "Done, using side car 'CadQuery'\n"
     ]
    },
    {
     "data": {
      "text/plain": [
       "<jupyter_cadquery.replay.Replay at 0x1110618d0>"
      ]
     },
     "execution_count": 49,
     "metadata": {},
     "output_type": "execute_result"
    }
   ],
   "source": [
    "replay(recttocircleSweep.translate((0, 10, 0)))"
   ]
  },
  {
   "cell_type": "code",
   "execution_count": 50,
   "metadata": {},
   "outputs": [
    {
     "data": {
      "application/vnd.jupyter.widget-view+json": {
       "model_id": "8fdd7cf9cfc743c3ae5c44862d40523d",
       "version_major": 2,
       "version_minor": 0
      },
      "text/plain": [
       "HBox(children=(SelectMultiple(_dom_classes=('monospace',), index=(0,), layout=Layout(width='600px'), options=(…"
      ]
     },
     "metadata": {},
     "output_type": "display_data"
    },
    {
     "name": "stdout",
     "output_type": "stream",
     "text": [
      "Done, using side car 'CadQuery'\n"
     ]
    },
    {
     "data": {
      "text/plain": [
       "<jupyter_cadquery.replay.Replay at 0x1110618d0>"
      ]
     },
     "execution_count": 50,
     "metadata": {},
     "output_type": "execute_result"
    }
   ],
   "source": [
    "replay(specialSweep.translate((0, 15, 0)))"
   ]
  },
  {
   "cell_type": "code",
   "execution_count": null,
   "metadata": {},
   "outputs": [],
   "source": [
    "replay(arcSweep.translate((0, -5, 0)))"
   ]
  },
  {
   "cell_type": "markdown",
   "metadata": {},
   "source": [
    "## Ex100 Lego Brick"
   ]
  },
  {
   "cell_type": "code",
   "execution_count": 8,
   "metadata": {},
   "outputs": [
    {
     "data": {
      "application/vnd.jupyter.widget-view+json": {
       "model_id": "66e3b9fbb4dd45b7b57fc3f7f20ec664",
       "version_major": 2,
       "version_minor": 0
      },
      "text/plain": [
       "HBox(children=(SelectMultiple(_dom_classes=('monospace',), index=(0,), layout=Layout(width='600px'), options=(…"
      ]
     },
     "metadata": {},
     "output_type": "display_data"
    },
    {
     "name": "stdout",
     "output_type": "stream",
     "text": [
      "Done, using side car 'CadQuery'\n"
     ]
    },
    {
     "data": {
      "text/plain": [
       "<jupyter_cadquery.replay.Replay at 0x12610df60>"
      ]
     },
     "execution_count": 8,
     "metadata": {},
     "output_type": "execute_result"
    }
   ],
   "source": [
    "#####\n",
    "# Inputs\n",
    "######\n",
    "lbumps = 4       # number of bumps long\n",
    "wbumps = 2        # number of bumps wide\n",
    "thin = True  # True for thin, False for thick\n",
    "\n",
    "#\n",
    "# Lego Brick Constants-- these make a lego brick a lego :)\n",
    "#\n",
    "pitch = 8.0\n",
    "clearance = 0.1\n",
    "bumpDiam = 4.8\n",
    "bumpHeight = 1.8\n",
    "if thin:\n",
    "    height = 3.2\n",
    "else:\n",
    "    height = 9.6\n",
    "\n",
    "t = (pitch - (2 * clearance) - bumpDiam) / 2.0\n",
    "postDiam = pitch - t  # works out to 6.5\n",
    "total_length = lbumps*pitch - 2.0*clearance\n",
    "total_width = wbumps*pitch - 2.0*clearance\n",
    "\n",
    "# make the base\n",
    "s = cq.Workplane(\"XY\").box(total_length, total_width, height)\n",
    "\n",
    "# shell inwards not outwards\n",
    "s = s.faces(\"<Z\").shell(-1.0 * t)\n",
    "\n",
    "# make the bumps on the top\n",
    "s = s.faces(\">Z\").workplane(). \\\n",
    "    rarray(pitch, pitch, lbumps, wbumps, True).circle(bumpDiam / 2.0) \\\n",
    "    .extrude(bumpHeight)\n",
    "\n",
    "# add posts on the bottom. posts are different diameter depending on geometry\n",
    "# solid studs for 1 bump, tubes for multiple, none for 1x1\n",
    "tmp = s.faces(\"<Z\").workplane(invert=True)\n",
    "\n",
    "if lbumps > 1 and wbumps > 1:\n",
    "    tmp = tmp.rarray(pitch, pitch, lbumps - 1, wbumps - 1, center=True). \\\n",
    "        circle(postDiam / 2.0).circle(bumpDiam / 2.0).extrude(height - t)\n",
    "elif lbumps > 1:\n",
    "    tmp = tmp.rarray(pitch, pitch, lbumps - 1, 1, center=True). \\\n",
    "        circle(t).extrude(height - t)\n",
    "elif wbumps > 1:\n",
    "    tmp = tmp.rarray(pitch, pitch, 1, wbumps - 1, center=True). \\\n",
    "        circle(t).extrude(height - t)\n",
    "else:\n",
    "    tmp = s\n",
    "    \n",
    "replay(tmp)"
   ]
  },
  {
   "cell_type": "code",
   "execution_count": null,
   "metadata": {},
   "outputs": [],
   "source": []
  }
 ],
 "metadata": {
  "kernelspec": {
   "display_name": "Python 3",
   "language": "python",
   "name": "python3"
  },
  "language_info": {
   "codemirror_mode": {
    "name": "ipython",
    "version": 3
   },
   "file_extension": ".py",
   "mimetype": "text/x-python",
   "name": "python",
   "nbconvert_exporter": "python",
   "pygments_lexer": "ipython3",
   "version": "3.6.7"
  }
 },
 "nbformat": 4,
 "nbformat_minor": 2
}
