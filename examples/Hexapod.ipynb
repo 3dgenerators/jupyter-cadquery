{
 "cells": [
  {
   "cell_type": "code",
   "execution_count": null,
   "metadata": {},
   "outputs": [],
   "source": [
    "import cadquery as cq\n",
    "from jupyter_cadquery.cadquery import show, Assembly, Part, Faces, Edges\n",
    "from jupyter_cadquery import set_defaults, set_sidecar, get_defaults, Animation\n",
    "from jupyter_cadquery.cad_renderer import reset_cache\n",
    "\n",
    "from jupyter_cadquery.mate_assembly import Mate, MAssembly\n",
    "set_defaults(axes=True, axes0=True, edge_accuracy=0.01, timeit=False, display=\"cell\")"
   ]
  },
  {
   "cell_type": "code",
   "execution_count": null,
   "metadata": {},
   "outputs": [],
   "source": [
    "set_sidecar(\"CadQuery\")"
   ]
  },
  {
   "cell_type": "markdown",
   "metadata": {},
   "source": [
    "# Hexapod \n",
    "## 1 Components"
   ]
  },
  {
   "cell_type": "code",
   "execution_count": null,
   "metadata": {},
   "outputs": [],
   "source": [
    "thickness = 2\n",
    "height = 40\n",
    "width = 65\n",
    "length = 100\n",
    "diam = 4\n",
    "tol = 0.05"
   ]
  },
  {
   "cell_type": "code",
   "execution_count": null,
   "metadata": {},
   "outputs": [],
   "source": [
    "x1, x2 = 0.63, 0.87\n",
    "base_holes = {\n",
    "    \"right_back\": (-x1*length, -x1*width), \"right_middle\": (0, -x2*width), \"right_front\": ( x1*length, -x1*width),\n",
    "    \"left_back\":  (-x1*length,  x1*width), \"left_middle\":  (0,  x2*width), \"left_front\":  ( x1*length,  x1*width),\n",
    "}\n",
    "stand_dist = {\"front_stand\": 0.75 * length, \"back_stand\": -0.8 * length}\n",
    "\n",
    "base = (cq.Workplane()\n",
    "    .ellipse(length, width).pushPoints(list(base_holes.values())).circle(diam / 2 + tol)\n",
    "    .extrude(thickness)\n",
    ")\n",
    "\n",
    "stand_cutout = cq.Workplane().box(thickness + 2 * tol, width / 2 + 2 * tol, thickness * 2)\n",
    "front_cutout = cq.Workplane().box(length / 3, 2 * (width + tol), 2 * thickness)\n",
    "\n",
    "base = (base\n",
    "    .cut(front_cutout.translate((length, 0, 0)))\n",
    "    .cut(stand_cutout.translate((stand_dist[\"back_stand\"], 0, thickness)))\n",
    "    .cut(stand_cutout.translate((stand_dist[\"front_stand\"], 0, thickness)))\n",
    "    .faces(\">X\").edges(\"not |Y\").fillet(width / 5)\n",
    ")"
   ]
  },
  {
   "cell_type": "code",
   "execution_count": null,
   "metadata": {},
   "outputs": [],
   "source": [
    "stand = cq.Workplane().box(height, width / 2 + 10, thickness)\n",
    "inset = cq.Workplane().box(thickness, width / 2, thickness)\n",
    "backing = cq.Workplane(\"ZX\").polyline([(10,0), (0,0), (0, 10)]).close().extrude(thickness)\n",
    "\n",
    "stand = (stand\n",
    "    .union(inset.translate(( (height + thickness) / 2, 0, 0)))\n",
    "    .union(inset.translate((-(height + thickness) / 2, 0, 0)))\n",
    "    .union(backing.translate((-height / 2, -thickness / 2, thickness / 2)))\n",
    "    .union(backing.rotate((0, 0, 0), (0, 1, 0), -90).translate((height / 2, -thickness / 2, thickness / 2)))\n",
    ")\n"
   ]
  },
  {
   "cell_type": "code",
   "execution_count": null,
   "metadata": {},
   "outputs": [],
   "source": [
    "l1, l2 = 50, 80\n",
    "pts = [( 0,  0), ( 0, height/2), (l1, height/2 - 5), (l2, 0)]\n",
    "upper_leg_hole = (l2 - 10, 0)\n",
    "\n",
    "upper_leg = (cq.Workplane()\n",
    "    .polyline(pts).mirrorX()\n",
    "    .pushPoints([upper_leg_hole]).circle(diam/2 + tol).extrude(thickness)\n",
    "    .edges(\"|Z and (not <X)\").fillet(4)\n",
    ")\n",
    "\n",
    "axle = (cq.Workplane(\"XZ\", origin=(0, height/2 + thickness + tol, thickness/2))\n",
    "    .circle(diam/2).extrude(2 * (height/2 + thickness + tol))\n",
    ")\n",
    "\n",
    "upper_leg = upper_leg.union(axle)"
   ]
  },
  {
   "cell_type": "code",
   "execution_count": null,
   "metadata": {},
   "outputs": [],
   "source": [
    "w, l1, l2 = 15, 20, 120\n",
    "pts = [( 0,  0), ( l1, w), (l2, 0)]\n",
    "lower_leg_hole = (l1 - 10, 0)\n",
    "\n",
    "lower_leg = (cq.Workplane()\n",
    "    .polyline(pts).mirrorX()\n",
    "    .pushPoints([lower_leg_hole]).circle(diam/2 + tol)\n",
    "    .extrude(thickness)\n",
    "    .edges(\"|Z\").fillet(5)\n",
    ")"
   ]
  },
  {
   "cell_type": "code",
   "execution_count": null,
   "metadata": {},
   "outputs": [],
   "source": [
    "assy = Assembly([\n",
    "        Part(base, name=\"base\"),\n",
    "        Part(stand.translate((0,100,thickness/2)), name=\"stand\"),\n",
    "        Assembly([\n",
    "            Part(upper_leg.translate((-100,-100,0)), name=\"upper_leg\"),\n",
    "            Part(lower_leg.translate((0,-100,0)),name=\"lower_leg\"),\n",
    "        ], \"leg\")\n",
    "    ], name=\"hexapod\")\n",
    "show(assy)"
   ]
  },
  {
   "cell_type": "markdown",
   "metadata": {},
   "source": [
    "## 2 Assembly"
   ]
  },
  {
   "cell_type": "code",
   "execution_count": null,
   "metadata": {},
   "outputs": [],
   "source": [
    "leg_names = (\n",
    "    \"left_back\", \"left_middle\", \"left_front\", \n",
    "    \"right_back\", \"right_middle\", \"right_front\"\n",
    ")\n",
    "stand_names = (\"front_stand\", \"back_stand\")\n",
    "\n",
    "def create_hexapod():\n",
    "    # Some little shortcuts\n",
    "    L = lambda *args: cq.Location(cq.Vector(*args))\n",
    "    C = lambda *args: cq.Color(*args)\n",
    "\n",
    "    # Leg assembly\n",
    "    \n",
    "    leg = MAssembly(\n",
    "        upper_leg, name=\"upper\", color=C(\"orange\")\n",
    "    ).add(\n",
    "        lower_leg, name=\"lower\", color=C(\"orange\"), loc=L(80,0,0)\n",
    "    )\n",
    "\n",
    "    # Hexapod assembly\n",
    "    \n",
    "    hexapod = MAssembly(\n",
    "        base, name=\"bottom\", color=C(\"gray\"), loc=L(0, 1.1*width, 0)\n",
    "    ).add(\n",
    "        base, name=\"top\", color=C(0.9, 0.9, 0.9), loc=L(0, -2.2*width, 0)\n",
    "    ).add(\n",
    "        stand, name=\"front_stand\", color=C(0.5, 0.8, 0.9), loc=L( 40, 100, 0)\n",
    "    ).add(\n",
    "        stand, name=\"back_stand\", color=C(0.5, 0.8, 0.9), loc=L(-40, 100, 0)\n",
    "    )\n",
    "    \n",
    "    for i, name in enumerate(leg_names):\n",
    "        hexapod.add(\n",
    "            leg, name=name, loc=L(100, -55*(i-1.7), 0)\n",
    "        )\n",
    "\n",
    "    return hexapod"
   ]
  },
  {
   "cell_type": "markdown",
   "metadata": {},
   "source": [
    "## 3.1 Mates "
   ]
  },
  {
   "cell_type": "code",
   "execution_count": null,
   "metadata": {},
   "outputs": [],
   "source": [
    "hexapod = create_hexapod()\n",
    "\n",
    "# another little shortcut\n",
    "M = lambda *args: Mate(hexapod.find(*args))\n",
    "\n",
    "leg_angles = {\n",
    "    \"right_back\": 105,  \"right_middle\": 90, \"right_front\": 75, \n",
    "    \"left_back\": -105,  \"left_middle\": -90, \"left_front\": -75,\n",
    "}\n",
    "\n",
    "hexapod.mate(\n",
    "    name=\"bottom_mate\",\n",
    "    selector=\"bottom\",\n",
    "    mate=M(\"bottom\", (\"faces\", \">Z\")),\n",
    "    is_origin=True,\n",
    ").mate(\n",
    "    name=\"top_mate\",\n",
    "    selector=\"top\",\n",
    "    mate=M(\"top\", (\"faces\", \"<Z\"))\n",
    "         .rx(180)\n",
    "         .tz(-(height + 2 * tol)),\n",
    "    is_origin=True,\n",
    ")\n",
    "\n",
    "for name in stand_names:\n",
    "    hexapod.mate(\n",
    "        name=f\"bottom_{name}\",\n",
    "        selector=\"bottom\",\n",
    "        mate=M(\"bottom\", (\"faces\", \"<Z\"), (\"wires\", (stand_dist[name], 0)))\n",
    "             .rx(180)\n",
    "             .rz(180 if \"front\" in name else 0),\n",
    "    ).mate(\n",
    "        name=f\"{name}_lower\",\n",
    "        selector=name,\n",
    "        mate=M(name, (\"faces\", \"<X\"))\n",
    "             .rz(90),\n",
    "        is_origin=True,\n",
    "    )\n",
    "\n",
    "for name, pnt in base_holes.items():\n",
    "    hexapod.mate(\n",
    "        name=f\"bottom_{name}\",\n",
    "        selector=\"bottom\",\n",
    "        mate=M(\"bottom\", (\"faces\", \"<Z\"), (\"wires\", pnt))\n",
    "             .rx(180)\n",
    "             .rz(leg_angles[name]),\n",
    "    )\n",
    "\n",
    "for name in leg_names:\n",
    "    lf, uf = (\">Z\", \"<Z\") if \"left\" in name else (\"<Z\", \">Z\")\n",
    "    hexapod.mate(\n",
    "        name=f\"{name}_lower_hinge\",\n",
    "        selector=f\"{name}>lower\",\n",
    "        mate=M(f\"{name}>lower\", (\"faces\", lf), (\"wires\", lower_leg_hole)),\n",
    "        is_origin=True,\n",
    "    ).mate(\n",
    "        name=f\"{name}_upper_hinge\",\n",
    "        selector=name,\n",
    "        mate=M(name, (\"faces\", uf), (\"wires\", upper_leg_hole))\n",
    "             .rz(-75),\n",
    "    ).mate(\n",
    "        name=f\"{name}_bottom_hinge\", \n",
    "        selector=name, \n",
    "        mate=M(name, (\"faces\", \"<Y\")), \n",
    "        is_origin=True)\n",
    "\n",
    "show(hexapod, render_mates=True)"
   ]
  },
  {
   "cell_type": "markdown",
   "metadata": {},
   "source": [
    "## 3.2 Relocation of the assembly"
   ]
  },
  {
   "cell_type": "code",
   "execution_count": null,
   "metadata": {},
   "outputs": [],
   "source": [
    "hexapod.relocate()\n",
    "show(hexapod, render_mates=True)"
   ]
  },
  {
   "cell_type": "markdown",
   "metadata": {},
   "source": [
    "## 3.3 Assembly"
   ]
  },
  {
   "cell_type": "code",
   "execution_count": null,
   "metadata": {},
   "outputs": [],
   "source": [
    "for leg in leg_names:\n",
    "    hexapod.assemble(f\"{leg}_bottom_hinge\", f\"bottom_{leg}\")\n",
    "    hexapod.assemble(f\"{leg}_lower_hinge\", f\"{leg}_upper_hinge\")\n",
    "\n",
    "for stand_name in stand_names:\n",
    "    hexapod.assemble(f\"{stand_name}_lower\", f\"bottom_{stand_name}\")\n",
    "\n",
    "hexapod.assemble(\"top_mate\", \"bottom_mate\")\n",
    "\n",
    "d = show(hexapod, render_mates=True)"
   ]
  },
  {
   "cell_type": "markdown",
   "metadata": {
    "execution": {
     "iopub.execute_input": "2020-11-11T18:38:34.291869Z",
     "iopub.status.busy": "2020-11-11T18:38:34.291415Z",
     "iopub.status.idle": "2020-11-11T18:38:34.297872Z",
     "shell.execute_reply": "2020-11-11T18:38:34.296622Z",
     "shell.execute_reply.started": "2020-11-11T18:38:34.291799Z"
    }
   },
   "source": [
    "## 4 Animation"
   ]
  },
  {
   "cell_type": "code",
   "execution_count": null,
   "metadata": {},
   "outputs": [],
   "source": [
    "animation = Animation(d.root_group)\n",
    "leg_group = (\"left_front\", \"right_middle\", \"left_back\")\n",
    "for name in leg_names:\n",
    "    f1 = 1 if \"left\" in name else -1\n",
    "    f2 = 1 if name in leg_group else -1\n",
    "    s = 0 if name in leg_group else 2\n",
    "    animation.add_number_track(f\"bottom>{name}\", \"rz\", [0, 1, 2, 3, 4], \n",
    "                               [0, f1 * f2 * 18, 0, -f1 * f2 * 18, 0])\n",
    "    animation.add_number_track(f\"bottom>{name}>lower\", \"rz\", [0, 1, 2, 3, 4], \n",
    "                               [30, -15, -15, -15, 30, -15, -15][s:s+5])\n",
    "animation.animate(5)"
   ]
  }
 ],
 "metadata": {
  "kernelspec": {
   "display_name": "Python 3",
   "language": "python",
   "name": "python3"
  },
  "language_info": {
   "codemirror_mode": {
    "name": "ipython",
    "version": 3
   },
   "file_extension": ".py",
   "mimetype": "text/x-python",
   "name": "python",
   "nbconvert_exporter": "python",
   "pygments_lexer": "ipython3",
   "version": "3.7.9"
  }
 },
 "nbformat": 4,
 "nbformat_minor": 4
}
