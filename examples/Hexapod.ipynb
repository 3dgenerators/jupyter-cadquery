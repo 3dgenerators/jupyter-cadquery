{
 "cells": [
  {
   "cell_type": "code",
   "execution_count": 1,
   "metadata": {
    "execution": {
     "iopub.execute_input": "2020-10-25T08:01:00.197214Z",
     "iopub.status.busy": "2020-10-25T08:01:00.196832Z",
     "iopub.status.idle": "2020-10-25T08:01:01.522848Z",
     "shell.execute_reply": "2020-10-25T08:01:01.522207Z",
     "shell.execute_reply.started": "2020-10-25T08:01:00.197163Z"
    }
   },
   "outputs": [
    {
     "name": "stdout",
     "output_type": "stream",
     "text": [
      "Overwriting auto display for cadquery Workplane and Shape\n"
     ]
    }
   ],
   "source": [
    "import cadquery as cq\n",
    "from jupyter_cadquery.cadquery import show, Assembly, Part, Faces, Edges\n",
    "from jupyter_cadquery import set_defaults, set_sidecar, get_defaults\n",
    "\n",
    "from jupyter_cadquery.mate_assembly import Mate, MAssembly, MAssemblyRenderer, jc_show\n",
    "\n",
    "set_defaults(axes=True, axes0=True, edge_accuracy=0.01, timeit=False)\n",
    "set_sidecar(\"CadQuery\")"
   ]
  },
  {
   "cell_type": "markdown",
   "metadata": {},
   "source": [
    "# Hexapod \n",
    "## 1 Components"
   ]
  },
  {
   "cell_type": "code",
   "execution_count": 2,
   "metadata": {
    "execution": {
     "iopub.execute_input": "2020-10-25T08:01:03.283016Z",
     "iopub.status.busy": "2020-10-25T08:01:03.282561Z",
     "iopub.status.idle": "2020-10-25T08:01:03.288438Z",
     "shell.execute_reply": "2020-10-25T08:01:03.287504Z",
     "shell.execute_reply.started": "2020-10-25T08:01:03.282959Z"
    }
   },
   "outputs": [],
   "source": [
    "thickness = 2\n",
    "height = 40\n",
    "width = 65\n",
    "length = 100\n",
    "diam = 4\n",
    "tol = 0.05"
   ]
  },
  {
   "cell_type": "code",
   "execution_count": 3,
   "metadata": {
    "execution": {
     "iopub.execute_input": "2020-10-25T08:01:03.433437Z",
     "iopub.status.busy": "2020-10-25T08:01:03.433085Z",
     "iopub.status.idle": "2020-10-25T08:01:03.806908Z",
     "shell.execute_reply": "2020-10-25T08:01:03.806134Z",
     "shell.execute_reply.started": "2020-10-25T08:01:03.433389Z"
    }
   },
   "outputs": [],
   "source": [
    "x1, x2 = 0.63, 0.87\n",
    "base_holes = {\n",
    "    \"right_back\": (-x1*length, -x1*width), \"right_middle\": (0, -x2*width), \"right_front\": ( x1*length, -x1*width),\n",
    "    \"left_back\":  (-x1*length,  x1*width), \"left_middle\":  (0,  x2*width), \"left_front\":  ( x1*length,  x1*width),\n",
    "}\n",
    "stand_dist = {\"front_stand\": 0.75 * length, \"back_stand\": -0.8 * length}\n",
    "\n",
    "base = (cq.Workplane()\n",
    "    .ellipse(length, width).pushPoints(list(base_holes.values())).circle(diam / 2 + tol)\n",
    "    .extrude(thickness)\n",
    ")\n",
    "\n",
    "stand_cutout = cq.Workplane().box(thickness + 2 * tol, width / 2 + 2 * tol, thickness * 2)\n",
    "front_cutout = cq.Workplane().box(length / 3, 2 * (width + tol), 2 * thickness)\n",
    "\n",
    "base = (base\n",
    "    .cut(front_cutout.translate((length, 0, 0)))\n",
    "    .cut(stand_cutout.translate((stand_dist[\"back_stand\"], 0, thickness)))\n",
    "    .cut(stand_cutout.translate((stand_dist[\"front_stand\"], 0, thickness)))\n",
    "    .faces(\">X\").edges(\"not |Y\").fillet(width / 5)\n",
    ")"
   ]
  },
  {
   "cell_type": "code",
   "execution_count": 4,
   "metadata": {
    "execution": {
     "iopub.execute_input": "2020-10-25T08:01:03.808477Z",
     "iopub.status.busy": "2020-10-25T08:01:03.808299Z",
     "iopub.status.idle": "2020-10-25T08:01:04.045291Z",
     "shell.execute_reply": "2020-10-25T08:01:04.044481Z",
     "shell.execute_reply.started": "2020-10-25T08:01:03.808453Z"
    }
   },
   "outputs": [],
   "source": [
    "stand = cq.Workplane().box(height, width / 2 + 10, thickness)\n",
    "inset = cq.Workplane().box(thickness, width / 2, thickness)\n",
    "backing = cq.Workplane(\"ZX\").polyline([(10,0), (0,0), (0, 10)]).close().extrude(thickness)\n",
    "\n",
    "stand = (stand\n",
    "    .union(inset.translate(( (height + thickness) / 2, 0, 0)))\n",
    "    .union(inset.translate((-(height + thickness) / 2, 0, 0)))\n",
    "    .union(backing.translate((-height / 2, 0, thickness / 2)))\n",
    "    .union(backing.rotate((0, 0, 0), (0, 1, 0), -90).translate((height / 2, 0, thickness / 2)))\n",
    ")"
   ]
  },
  {
   "cell_type": "code",
   "execution_count": 5,
   "metadata": {
    "execution": {
     "iopub.execute_input": "2020-10-25T08:01:04.046937Z",
     "iopub.status.busy": "2020-10-25T08:01:04.046716Z",
     "iopub.status.idle": "2020-10-25T08:01:04.193198Z",
     "shell.execute_reply": "2020-10-25T08:01:04.192493Z",
     "shell.execute_reply.started": "2020-10-25T08:01:04.046906Z"
    }
   },
   "outputs": [],
   "source": [
    "l1, l2 = 50, 80\n",
    "pts = [( 0,  0), ( 0, height/2), (l1, height/2 - 5), (l2, 0)]\n",
    "upper_leg_hole = (l2 - 10, 0)\n",
    "\n",
    "upper_leg = (cq.Workplane()\n",
    "    .polyline(pts).mirrorX()\n",
    "    .pushPoints([upper_leg_hole]).circle(diam/2 + tol).extrude(thickness)\n",
    "    .edges(\"|Z and (not <X)\").fillet(4)\n",
    ")\n",
    "\n",
    "axle = (cq.Workplane(\"XZ\", origin=(0, height/2 + thickness + tol, thickness/2))\n",
    "    .circle(diam/2).extrude(2 * (height/2 + thickness + tol))\n",
    ")\n",
    "\n",
    "upper_leg = upper_leg.union(axle)"
   ]
  },
  {
   "cell_type": "code",
   "execution_count": 6,
   "metadata": {
    "execution": {
     "iopub.execute_input": "2020-10-25T08:01:04.194646Z",
     "iopub.status.busy": "2020-10-25T08:01:04.194408Z",
     "iopub.status.idle": "2020-10-25T08:01:04.240526Z",
     "shell.execute_reply": "2020-10-25T08:01:04.239912Z",
     "shell.execute_reply.started": "2020-10-25T08:01:04.194616Z"
    }
   },
   "outputs": [],
   "source": [
    "w, l1, l2 = 15, 20, 120\n",
    "pts = [( 0,  0), ( l1, w), (l2, 0)]\n",
    "lower_leg_hole = (l1 - 10, 0)\n",
    "\n",
    "lower_leg = (cq.Workplane()\n",
    "    .polyline(pts).mirrorX()\n",
    "    .pushPoints([lower_leg_hole]).circle(diam/2 + tol)\n",
    "    .extrude(thickness)\n",
    "    .edges(\"|Z\").fillet(5)\n",
    ")"
   ]
  },
  {
   "cell_type": "code",
   "execution_count": 7,
   "metadata": {
    "execution": {
     "iopub.execute_input": "2020-10-25T08:01:04.916794Z",
     "iopub.status.busy": "2020-10-25T08:01:04.916400Z",
     "iopub.status.idle": "2020-10-25T08:01:05.864471Z",
     "shell.execute_reply": "2020-10-25T08:01:05.863701Z",
     "shell.execute_reply.started": "2020-10-25T08:01:04.916741Z"
    }
   },
   "outputs": [
    {
     "name": "stdout",
     "output_type": "stream",
     "text": [
      "Done, using side car 'CadQuery'\n"
     ]
    }
   ],
   "source": [
    "c = show(base, \n",
    "    stand.translate((0,100,0)), \n",
    "    upper_leg.translate((-100,-100,0)), \n",
    "    lower_leg.translate((0,-100,0)),\n",
    ")"
   ]
  },
  {
   "cell_type": "markdown",
   "metadata": {},
   "source": [
    "## 2 Assembly Definition"
   ]
  },
  {
   "cell_type": "code",
   "execution_count": 8,
   "metadata": {
    "execution": {
     "iopub.execute_input": "2020-10-25T08:01:07.386569Z",
     "iopub.status.busy": "2020-10-25T08:01:07.386224Z",
     "iopub.status.idle": "2020-10-25T08:01:07.400314Z",
     "shell.execute_reply": "2020-10-25T08:01:07.399604Z",
     "shell.execute_reply.started": "2020-10-25T08:01:07.386521Z"
    }
   },
   "outputs": [],
   "source": [
    "leg_names = (\"left_back\", \"left_middle\", \"left_front\", \"right_back\", \"right_middle\", \"right_front\")\n",
    "stand_names = (\"front_stand\", \"back_stand\")\n",
    "\n",
    "def create_hexapod():\n",
    "    # Some little shortcuts\n",
    "    L = lambda *args: cq.Location(cq.Vector(*args))\n",
    "    C = lambda *args: cq.Color(*args)\n",
    "\n",
    "    # Leg assembly\n",
    "\n",
    "    leg = MAssembly(upper_leg, name=\"upper\", color=C(\"orange\"))\n",
    "    leg.add(        lower_leg, name=\"lower\", color=C(\"orange\"), loc=L(80,0,0))\n",
    "\n",
    "    # Hexapod assembly\n",
    "\n",
    "    hexapod = MAssembly(base,  name=\"bottom\",      color=C(\"gray\"))\n",
    "    hexapod.add(        base,  name=\"top\",         color=C(0.9, 0.9, 0.9), loc=L(-2*length,   0, 0))\n",
    "    hexapod.add(        stand, name=\"front_stand\", color=C(0.5, 0.8, 0.9), loc=L(0,        -100, 0))\n",
    "    hexapod.add(        stand, name=\"back_stand\",  color=C(0.5, 0.8, 0.9), loc=L(0,         100, 0))\n",
    "\n",
    "    for i, name  in enumerate(leg_names):\n",
    "        hexapod.add(leg, name=name, loc=L(100, -50*(i-2.5), 0))\n",
    "\n",
    "    return hexapod"
   ]
  },
  {
   "cell_type": "markdown",
   "metadata": {},
   "source": [
    "## 3.1 Mate Definitions "
   ]
  },
  {
   "cell_type": "code",
   "execution_count": 9,
   "metadata": {
    "execution": {
     "iopub.execute_input": "2020-10-25T08:01:07.843320Z",
     "iopub.status.busy": "2020-10-25T08:01:07.843053Z",
     "iopub.status.idle": "2020-10-25T08:01:10.807083Z",
     "shell.execute_reply": "2020-10-25T08:01:10.806136Z",
     "shell.execute_reply.started": "2020-10-25T08:01:07.843285Z"
    }
   },
   "outputs": [
    {
     "name": "stderr",
     "output_type": "stream",
     "text": [
      "/opt/anaconda/envs/cq-ocp/lib/python3.7/site-packages/cadquery/utils.py:21: FutureWarning: Default walue of centerOption will change in the next relase to ProjectedOrigin\n",
      "  FutureWarning,\n"
     ]
    },
    {
     "name": "stdout",
     "output_type": "stream",
     "text": [
      "Done, using side car 'CadQuery'\n"
     ]
    },
    {
     "data": {
      "text/plain": [
       "<jupyter_cadquery.cad_display.CadqueryDisplay at 0x7f7728da0510>"
      ]
     },
     "execution_count": 9,
     "metadata": {},
     "output_type": "execute_result"
    }
   ],
   "source": [
    "hexapod = create_hexapod()\n",
    "\n",
    "# another little shortcut\n",
    "M = lambda *args: Mate(hexapod.find(*args))\n",
    "\n",
    "leg_angles = {\"right_back\":   105, \"right_middle\":  90, \"right_front\":   75,\n",
    "              \"left_back\":   -105, \"left_middle\":  -90, \"left_front\":   -75}\n",
    "\n",
    "hexapod.mate(\"bottom_mate\", \"bottom\", M(\"bottom\", (\"faces\", \">Z\")), is_origin=True)\n",
    "hexapod.mate(\"top_mate\",    \"top\",    M(\"top\",    (\"faces\", \"<Z\")).xr(180).zt(-(height + 2 * tol)), is_origin=True)\n",
    "\n",
    "for name in stand_names:\n",
    "    hexapod.mate(f\"bottom_{name}\", \"bottom\", M(\"bottom\", (\"faces\", \"<Z\"), (\"wires\", (stand_dist[name], 0))).xr(180).zr(180 if \"front\" in name else 0))\n",
    "    hexapod.mate(f\"{name}_lower\",  name,     M(name,     (\"faces\", \"<X\")).zr(90), is_origin=True)\n",
    "\n",
    "for name, pnt in base_holes.items():\n",
    "    hexapod.mate(f\"bottom_{name}\", \"bottom\", M(\"bottom\", (\"faces\", \"<Z\"), (\"wires\", pnt)).xr(180).zr(leg_angles[name]))\n",
    "\n",
    "for name in leg_names:\n",
    "    lf, uf = (\">Z\", \"<Z\") if \"left\" in name else (\"<Z\", \">Z\")\n",
    "    hexapod.mate(f\"{name}_lower_hinge\",  f\"{name}>lower\", M(f\"{name}>lower\", (\"faces\", lf), (\"wires\", lower_leg_hole)), is_origin=True)\n",
    "    hexapod.mate(f\"{name}_upper_hinge\",  name,            M(name,            (\"faces\", uf), (\"wires\", upper_leg_hole)).zr(-75))\n",
    "    hexapod.mate(f\"{name}_bottom_hinge\", name,            M(name,            (\"faces\", \"<Y\")), is_origin=True)\n",
    "\n",
    "jc_show(hexapod, mates=True)"
   ]
  },
  {
   "cell_type": "code",
   "execution_count": 10,
   "metadata": {
    "execution": {
     "iopub.execute_input": "2020-10-25T08:01:12.515585Z",
     "iopub.status.busy": "2020-10-25T08:01:12.515201Z",
     "iopub.status.idle": "2020-10-25T08:01:15.251036Z",
     "shell.execute_reply": "2020-10-25T08:01:15.250357Z",
     "shell.execute_reply.started": "2020-10-25T08:01:12.515529Z"
    }
   },
   "outputs": [
    {
     "name": "stdout",
     "output_type": "stream",
     "text": [
      "Done, using side car 'CadQuery'\n"
     ]
    },
    {
     "data": {
      "text/plain": [
       "<jupyter_cadquery.cad_display.CadqueryDisplay at 0x7f7728d53690>"
      ]
     },
     "execution_count": 10,
     "metadata": {},
     "output_type": "execute_result"
    }
   ],
   "source": [
    "hexapod.relocate()\n",
    "jc_show(hexapod, mates=True)"
   ]
  },
  {
   "cell_type": "markdown",
   "metadata": {},
   "source": [
    "## 3.2 Assembly"
   ]
  },
  {
   "cell_type": "code",
   "execution_count": 11,
   "metadata": {
    "execution": {
     "iopub.execute_input": "2020-10-25T08:01:16.907945Z",
     "iopub.status.busy": "2020-10-25T08:01:16.907558Z",
     "iopub.status.idle": "2020-10-25T08:01:19.809472Z",
     "shell.execute_reply": "2020-10-25T08:01:19.808705Z",
     "shell.execute_reply.started": "2020-10-25T08:01:16.907889Z"
    }
   },
   "outputs": [
    {
     "name": "stdout",
     "output_type": "stream",
     "text": [
      "Done, using side car 'CadQuery'\n"
     ]
    }
   ],
   "source": [
    "for leg in leg_names:\n",
    "    hexapod.assemble(f\"{leg}_bottom_hinge\", f\"bottom_{leg}\")\n",
    "    hexapod.assemble(f\"{leg}_lower_hinge\", f\"{leg}_upper_hinge\")\n",
    "\n",
    "for stand_name in stand_names:\n",
    "    hexapod.assemble(f\"{stand_name}_lower\", f\"bottom_{stand_name}\")\n",
    "\n",
    "hexapod.assemble(\"top_mate\", \"bottom_mate\")\n",
    "\n",
    "d = jc_show(hexapod, mates=True)"
   ]
  },
  {
   "cell_type": "markdown",
   "metadata": {},
   "source": [
    "\n",
    "# = = = = = = = = = = = = = = = = = = = = = = = = = = = = = = "
   ]
  },
  {
   "cell_type": "code",
   "execution_count": 12,
   "metadata": {
    "execution": {
     "iopub.execute_input": "2020-10-25T08:01:21.627416Z",
     "iopub.status.busy": "2020-10-25T08:01:21.627041Z",
     "iopub.status.idle": "2020-10-25T08:01:23.487758Z",
     "shell.execute_reply": "2020-10-25T08:01:23.486885Z",
     "shell.execute_reply.started": "2020-10-25T08:01:21.627364Z"
    }
   },
   "outputs": [
    {
     "data": {
      "application/vnd.jupyter.widget-view+json": {
       "model_id": "4fe25ad785c7447cb44619211f4007a2",
       "version_major": 2,
       "version_minor": 0
      },
      "text/plain": [
       "Renderer(camera=CombinedCamera(far=3787.706659761525, height=600.0, mode='orthographic', orthoFar=3787.7066597…"
      ]
     },
     "metadata": {},
     "output_type": "display_data"
    }
   ],
   "source": [
    "r = MAssemblyRenderer(hexapod)\n",
    "view = r.view()\n",
    "view"
   ]
  },
  {
   "cell_type": "code",
   "execution_count": 15,
   "metadata": {
    "execution": {
     "iopub.execute_input": "2020-10-25T08:03:09.574038Z",
     "iopub.status.busy": "2020-10-25T08:03:09.573569Z",
     "iopub.status.idle": "2020-10-25T08:03:36.915510Z",
     "shell.execute_reply": "2020-10-25T08:03:36.914220Z",
     "shell.execute_reply.started": "2020-10-25T08:03:09.573963Z"
    }
   },
   "outputs": [],
   "source": [
    "import math\n",
    "import time\n",
    "g = view.scene.children[10]\n",
    "try:\n",
    "    for i in range(2400):\n",
    "        g.children[4].children[1].rotateZ(math.pi/24)#\n",
    "        g.children[4].rotateZ(math.pi/12)\n",
    "        time.sleep(0.05)\n",
    "except:\n",
    "    pass"
   ]
  },
  {
   "cell_type": "code",
   "execution_count": null,
   "metadata": {},
   "outputs": [],
   "source": []
  }
 ],
 "metadata": {
  "kernelspec": {
   "display_name": "Python 3",
   "language": "python",
   "name": "python3"
  },
  "language_info": {
   "codemirror_mode": {
    "name": "ipython",
    "version": 3
   },
   "file_extension": ".py",
   "mimetype": "text/x-python",
   "name": "python",
   "nbconvert_exporter": "python",
   "pygments_lexer": "ipython3",
   "version": "3.7.9"
  }
 },
 "nbformat": 4,
 "nbformat_minor": 4
}
