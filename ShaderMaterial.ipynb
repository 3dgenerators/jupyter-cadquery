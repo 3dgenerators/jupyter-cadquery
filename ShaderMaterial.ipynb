{
 "cells": [
  {
   "cell_type": "code",
   "execution_count": 2,
   "metadata": {},
   "outputs": [],
   "source": [
    "from pythreejs import MeshPhongMaterial, ShaderMaterial, ShaderLib, ShaderChunk"
   ]
  },
  {
   "cell_type": "code",
   "execution_count": 5,
   "metadata": {},
   "outputs": [],
   "source": [
    "class CustomMaterial(ShaderMaterial):\n",
    "\n",
    "    def __init__(self, typ):\n",
    "        self.types = {\n",
    "            'diffuse': 'c',\n",
    "            'uvTransform': 'm3',\n",
    "            'normalScale': 'v2',\n",
    "            'fogColor': 'c',\n",
    "            'emissive': 'c'}\n",
    "\n",
    "        shader = ShaderLib[typ]\n",
    "        \n",
    "        fragmentShader = \"\"\"\n",
    "        uniform float alpha;\n",
    "        \"\"\"\n",
    "        frag_from = \"gl_FragColor = vec4( outgoingLight, diffuseColor.a );\"\n",
    "        frag_to = \"\"\"\n",
    "            if ( gl_FrontFacing ) {\n",
    "                gl_FragColor = vec4( outgoingLight, alpha * diffuseColor.a );\n",
    "            } else {\n",
    "                gl_FragColor = vec4(diffuseColor.r, diffuseColor.g, diffuseColor.b, alpha * diffuseColor.a);\n",
    "            }\"\"\"\n",
    "        fragmentShader += shader[\"fragmentShader\"].replace(frag_from, frag_to)\n",
    "\n",
    "        vertexShader=shader[\"vertexShader\"]\n",
    "        uniforms=shader[\"uniforms\"]\n",
    "        uniforms[\"clip_alpha\"] = dict(value=0.6)\n",
    "\n",
    "        super().__init__(uniforms=uniforms, vertexShader=vertexShader, fragmentShader=fragmentShader)\n",
    "        self.alpha = 1.0\n",
    "        self.lights = True\n",
    "\n",
    "    @property\n",
    "    def color(self):\n",
    "        return self.uniforms[\"diffuse\"][\"value\"]\n",
    "\n",
    "    @color.setter\n",
    "    def color(self, value):\n",
    "        self.update(\"diffuse\", value)\n",
    "        \n",
    "    @property\n",
    "    def alpha(self):\n",
    "        return self.uniforms[\"alpha\"][\"value\"]\n",
    "\n",
    "    @alpha.setter\n",
    "    def alpha(self, value):\n",
    "        self.update(\"alpha\", value)\n",
    "        \n",
    "    def update(self, key, value):\n",
    "        uniforms = dict(**self.uniforms)\n",
    "        if self.types.get(key) is None:\n",
    "            uniforms[key] = {'value': value}\n",
    "        else:\n",
    "            uniforms[key] = {'type': self.types.get(key), 'value': value}\n",
    "        self.uniforms = uniforms\n",
    "        self.needsUpdate = True\n"
   ]
  },
  {
   "cell_type": "code",
   "execution_count": 6,
   "metadata": {},
   "outputs": [],
   "source": [
    "from jupyter_cadquery import display, Assembly, Part, CadqueryDisplay\n",
    "import cadquery as cq\n",
    "\n",
    "xy = cq.Workplane(\"XY\")\n",
    "\n",
    "d = 2\n",
    "box1 = xy.box(10,20,30)\n",
    "box2 = xy.box(10-d, 20-d, 30-d)\n",
    "p = Part(box1.cut(box2), color=(1,0,0))\n",
    "d = CadqueryDisplay()\n",
    "d.display(Assembly([p]))\n",
    "\n",
    "shell = d.cq_view.pickable_objects.children[0]"
   ]
  },
  {
   "cell_type": "code",
   "execution_count": 8,
   "metadata": {},
   "outputs": [
    {
     "data": {
      "application/vnd.jupyter.widget-view+json": {
       "model_id": "a9325bf3dfe34e64923a2c08751c96ae",
       "version_major": 2,
       "version_minor": 0
      },
      "text/plain": [
       "Renderer(camera=PerspectiveCamera(children=(DirectionalLight(color='white', intensity=0.4, position=(3.0, 5.0,…"
      ]
     },
     "metadata": {},
     "output_type": "display_data"
    }
   ],
   "source": [
    "from pythreejs import *\n",
    "from IPython.display import display\n",
    "\n",
    "from ipywidgets import Layout\n",
    "\n",
    "\n",
    "material = CustomMaterial(\"standard\")\n",
    "material.side = \"DoubleSide\"\n",
    "material.alpha = 0.7\n",
    "material.opacity = 1.0\n",
    "material.transparent = True\n",
    "material.clipping = True\n",
    "material.color = \"#ff0000\"\n",
    "\n",
    "obj = Mesh(\n",
    "    TorusKnotBufferGeometry(radius=20, tube=5, tubularSegments=64, radialSegments=64, p=2, q=3), \n",
    "    material=material\n",
    ")\n",
    "\n",
    "obj = Mesh(shell.geometry, material=material)\n",
    "key_light = DirectionalLight(color='white', position=[3, 5, 1], intensity=0.4)\n",
    "\n",
    "width = 300\n",
    "height = 300\n",
    "\n",
    "c = PerspectiveCamera(position=[30, 30, 30], up=[0, 0, 1])\n",
    "c.add(key_light)\n",
    "\n",
    "scene = Scene(children=[obj, c, AmbientLight(color='#888')], background=None)\n",
    "\n",
    "renderer = Renderer(camera=c, \n",
    "                    scene=scene,\n",
    "                    alpha=True,\n",
    "                    clearOpacity=0,\n",
    "                    controls=[OrbitControls(controlling=c)],\n",
    "                    width=width, height=height)\n",
    "\n",
    "renderer.localClippingEnabled = True;\n",
    "renderer.clippingPlanes = [] # [Plane((0,-1,0), 2.0)] # , Plane((0,0,-1), 2.0)]\n",
    "display(renderer)"
   ]
  },
  {
   "cell_type": "code",
   "execution_count": 9,
   "metadata": {},
   "outputs": [],
   "source": [
    "material.update(\"metalness\", 0.0)"
   ]
  },
  {
   "cell_type": "code",
   "execution_count": 76,
   "metadata": {},
   "outputs": [],
   "source": [
    "import time\n",
    "for i in range(-15, 5):\n",
    "    renderer.clippingPlanes = [Plane((0,-1,0), i/2.0), Plane((0,0,-1), i/2.0)]\n",
    "    time.sleep(0.05)"
   ]
  },
  {
   "cell_type": "code",
   "execution_count": 84,
   "metadata": {},
   "outputs": [],
   "source": [
    "material.update(\"opacity\", 1.0)\n",
    "material.update(\"transparent\", True)"
   ]
  },
  {
   "cell_type": "code",
   "execution_count": 327,
   "metadata": {},
   "outputs": [
    {
     "name": "stdout",
     "output_type": "stream",
     "text": [
      "\n",
      "        uniform float alpha;\n",
      "        #define PHYSICAL\n",
      "uniform vec3 diffuse;\n",
      "uniform vec3 emissive;\n",
      "uniform float roughness;\n",
      "uniform float metalness;\n",
      "uniform float opacity;\n",
      "#ifndef STANDARD\n",
      "\tuniform float clearCoat;\n",
      "\tuniform float clearCoatRoughness;\n",
      "#endif\n",
      "varying vec3 vViewPosition;\n",
      "#ifndef FLAT_SHADED\n",
      "\tvarying vec3 vNormal;\n",
      "#endif\n",
      "#include <common>\n",
      "#include <packing>\n",
      "#include <dithering_pars_fragment>\n",
      "#include <color_pars_fragment>\n",
      "#include <uv_pars_fragment>\n",
      "#include <uv2_pars_fragment>\n",
      "#include <map_pars_fragment>\n",
      "#include <alphamap_pars_fragment>\n",
      "#include <aomap_pars_fragment>\n",
      "#include <lightmap_pars_fragment>\n",
      "#include <emissivemap_pars_fragment>\n",
      "#include <bsdfs>\n",
      "#include <cube_uv_reflection_fragment>\n",
      "#include <envmap_pars_fragment>\n",
      "#include <envmap_physical_pars_fragment>\n",
      "#include <fog_pars_fragment>\n",
      "#include <lights_pars_begin>\n",
      "#include <lights_physical_pars_fragment>\n",
      "#include <shadowmap_pars_fragment>\n",
      "#include <bumpmap_pars_fragment>\n",
      "#include <normalmap_pars_fragment>\n",
      "#include <roughnessmap_pars_fragment>\n",
      "#include <metalnessmap_pars_fragment>\n",
      "#include <logdepthbuf_pars_fragment>\n",
      "#include <clipping_planes_pars_fragment>\n",
      "void main() {\n",
      "\t#include <clipping_planes_fragment>\n",
      "\tvec4 diffuseColor = vec4( diffuse, opacity );\n",
      "\tReflectedLight reflectedLight = ReflectedLight( vec3( 0.0 ), vec3( 0.0 ), vec3( 0.0 ), vec3( 0.0 ) );\n",
      "\tvec3 totalEmissiveRadiance = emissive;\n",
      "\t#include <logdepthbuf_fragment>\n",
      "\t#include <map_fragment>\n",
      "\t#include <color_fragment>\n",
      "\t#include <alphamap_fragment>\n",
      "\t#include <alphatest_fragment>\n",
      "\t#include <roughnessmap_fragment>\n",
      "\t#include <metalnessmap_fragment>\n",
      "\t#include <normal_fragment_begin>\n",
      "\t#include <normal_fragment_maps>\n",
      "\t#include <emissivemap_fragment>\n",
      "\t#include <lights_physical_fragment>\n",
      "\t#include <lights_fragment_begin>\n",
      "\t#include <lights_fragment_maps>\n",
      "\t#include <lights_fragment_end>\n",
      "\t#include <aomap_fragment>\n",
      "\tvec3 outgoingLight = reflectedLight.directDiffuse + reflectedLight.indirectDiffuse + reflectedLight.directSpecular + reflectedLight.indirectSpecular + totalEmissiveRadiance;\n",
      "\t\n",
      "            if ( gl_FrontFacing ) {\n",
      "                gl_FragColor = vec4( outgoingLight, diffuseColor.a );\n",
      "            } else {\n",
      "                gl_FragColor = vec4(diffuseColor.r, diffuseColor.g, diffuseColor.b, diffuseColor.a);\n",
      "            }\n",
      "\t#include <tonemapping_fragment>\n",
      "\t#include <encodings_fragment>\n",
      "\t#include <fog_fragment>\n",
      "\t#include <premultiplied_alpha_fragment>\n",
      "\t#include <dithering_fragment>\n",
      "}\n",
      "\n"
     ]
    }
   ],
   "source": [
    "print(material.fragmentShader)"
   ]
  },
  {
   "cell_type": "markdown",
   "metadata": {},
   "source": [
    "# Scratch"
   ]
  },
  {
   "cell_type": "code",
   "execution_count": 99,
   "metadata": {},
   "outputs": [
    {
     "data": {
      "text/plain": [
       "{'diffuse': {'type': 'c', 'value': '#eeeeee'},\n",
       " 'opacity': {'value': 1},\n",
       " 'map': {'value': None},\n",
       " 'uvTransform': {'type': 'm3', 'value': [1, 0, 0, 0, 1, 0, 0, 0, 1]},\n",
       " 'alphaMap': {'value': None},\n",
       " 'envMap': {'value': None},\n",
       " 'flipEnvMap': {'value': -1},\n",
       " 'reflectivity': {'value': 1},\n",
       " 'refractionRatio': {'value': 0.98},\n",
       " 'maxMipLevel': {'value': 0},\n",
       " 'aoMap': {'value': None},\n",
       " 'aoMapIntensity': {'value': 1},\n",
       " 'lightMap': {'value': None},\n",
       " 'lightMapIntensity': {'value': 1},\n",
       " 'emissiveMap': {'value': None},\n",
       " 'bumpMap': {'value': None},\n",
       " 'bumpScale': {'value': 1},\n",
       " 'normalMap': {'value': None},\n",
       " 'normalScale': {'type': 'v2', 'value': [1, 1]},\n",
       " 'displacementMap': {'value': None},\n",
       " 'displacementScale': {'value': 1},\n",
       " 'displacementBias': {'value': 0},\n",
       " 'roughnessMap': {'value': None},\n",
       " 'metalnessMap': {'value': None},\n",
       " 'fogDensity': {'value': 0.00025},\n",
       " 'fogNear': {'value': 1},\n",
       " 'fogFar': {'value': 2000},\n",
       " 'fogColor': {'type': 'c', 'value': '#ffffff'},\n",
       " 'ambientLightColor': {'value': []},\n",
       " 'directionalLights': {'value': []},\n",
       " 'directionalShadowMap': {'value': []},\n",
       " 'directionalShadowMatrix': {'value': []},\n",
       " 'spotLights': {'value': []},\n",
       " 'spotShadowMap': {'value': []},\n",
       " 'spotShadowMatrix': {'value': []},\n",
       " 'pointLights': {'value': []},\n",
       " 'pointShadowMap': {'value': []},\n",
       " 'pointShadowMatrix': {'value': []},\n",
       " 'hemisphereLights': {'value': []},\n",
       " 'rectAreaLights': {'value': []},\n",
       " 'emissive': {'type': 'c', 'value': '#000000'},\n",
       " 'roughness': {'value': 0.5},\n",
       " 'metalness': {'value': 0.5},\n",
       " 'envMapIntensity': {'value': 1},\n",
       " 'clip_alpha': {'value': 0.6}}"
      ]
     },
     "execution_count": 99,
     "metadata": {},
     "output_type": "execute_result"
    }
   ],
   "source": [
    "ShaderLib[\"standard\"][\"uniforms\"]"
   ]
  },
  {
   "cell_type": "code",
   "execution_count": 105,
   "metadata": {},
   "outputs": [
    {
     "name": "stdout",
     "output_type": "stream",
     "text": [
      "diffuse missing\n",
      "opacity 0.6\n",
      "map None\n",
      "uvTransform missing\n",
      "alphaMap None\n",
      "envMap None\n",
      "flipEnvMap missing\n",
      "reflectivity missing\n",
      "refractionRatio 0.98\n",
      "maxMipLevel missing\n",
      "aoMap None\n",
      "aoMapIntensity 1.0\n",
      "lightMap None\n",
      "lightMapIntensity 1.0\n",
      "emissiveMap None\n",
      "bumpMap None\n",
      "bumpScale 1.0\n",
      "normalMap None\n",
      "normalScale (1.0, 1.0)\n",
      "displacementMap None\n",
      "displacementScale 1.0\n",
      "displacementBias 0.0\n",
      "roughnessMap None\n",
      "metalnessMap None\n",
      "fogDensity missing\n",
      "fogNear missing\n",
      "fogFar missing\n",
      "fogColor missing\n",
      "ambientLightColor missing\n",
      "directionalLights missing\n",
      "directionalShadowMap missing\n",
      "directionalShadowMatrix missing\n",
      "spotLights missing\n",
      "spotShadowMap missing\n",
      "spotShadowMatrix missing\n",
      "pointLights missing\n",
      "pointShadowMap missing\n",
      "pointShadowMatrix missing\n",
      "hemisphereLights missing\n",
      "rectAreaLights missing\n",
      "emissive #000000\n",
      "roughness 0.5\n",
      "metalness 0.5\n",
      "envMapIntensity 1.0\n",
      "clip_alpha missing\n"
     ]
    }
   ],
   "source": [
    "for k,v in ShaderLib[\"standard\"][\"uniforms\"].items():\n",
    "    try:\n",
    "        print(k, material.__getattribute__(k))\n",
    "    except:\n",
    "        print(k, \"missing\")"
   ]
  },
  {
   "cell_type": "code",
   "execution_count": 41,
   "metadata": {},
   "outputs": [],
   "source": [
    "@register\n",
    "class MeshPhongMaterial2(ShaderMaterial):\n",
    "\n",
    "    _model_name = Unicode('MeshPhongMaterialModel').tag(sync=True)\n",
    "\n",
    "    alphaMap = Instance(Texture, allow_none=True).tag(sync=True, **widget_serialization)\n",
    "    aoMap = Instance(Texture, allow_none=True).tag(sync=True, **widget_serialization)\n",
    "    aoMapIntensity = CFloat(1, allow_none=False).tag(sync=True)\n",
    "    bumpMap = Instance(Texture, allow_none=True).tag(sync=True, **widget_serialization)\n",
    "    bumpScale = CFloat(1, allow_none=False).tag(sync=True)\n",
    "    color = Color(\"#ffffff\", allow_none=False).tag(sync=True)\n",
    "    combine = Enum(Operations, \"MultiplyOperation\", allow_none=False).tag(sync=True)\n",
    "    displacementMap = Instance(Texture, allow_none=True).tag(sync=True, **widget_serialization)\n",
    "    displacementScale = CFloat(1, allow_none=False).tag(sync=True)\n",
    "    displacementBias = CFloat(0, allow_none=False).tag(sync=True)\n",
    "    emissive = Color(\"#000000\", allow_none=False).tag(sync=True)\n",
    "    emissiveMap = Instance(Texture, allow_none=True).tag(sync=True, **widget_serialization)\n",
    "    emissiveIntensity = CFloat(1, allow_none=False).tag(sync=True)\n",
    "    envMap = Instance(CubeTexture, allow_none=True).tag(sync=True, **widget_serialization)\n",
    "    lightMap = Instance(Texture, allow_none=True).tag(sync=True, **widget_serialization)\n",
    "    lightMapIntensity = CFloat(1, allow_none=False).tag(sync=True)\n",
    "    map = Instance(Texture, allow_none=True).tag(sync=True, **widget_serialization)\n",
    "    morphNormals = Bool(False, allow_none=False).tag(sync=True)\n",
    "    morphTargets = Bool(False, allow_none=False).tag(sync=True)\n",
    "    normalMap = Instance(Texture, allow_none=True).tag(sync=True, **widget_serialization)\n",
    "    normalScale = Vector2(default_value=[1, 1]).tag(sync=True)\n",
    "    reflectivity = CFloat(1, allow_none=False).tag(sync=True)\n",
    "    refractionRatio = CFloat(0.98, allow_none=False).tag(sync=True)\n",
    "    shininess = CFloat(30, allow_none=False).tag(sync=True)\n",
    "    skinning = Bool(False, allow_none=False).tag(sync=True)\n",
    "    specular = Color(\"#111111\", allow_none=False).tag(sync=True)\n",
    "    specularMap = Instance(Texture, allow_none=True).tag(sync=True, **widget_serialization)\n",
    "    wireframe = Bool(False, allow_none=False).tag(sync=True)\n",
    "    wireframeLinewidth = CFloat(1, allow_none=False).tag(sync=True)\n",
    "    wireframeLinecap = Unicode(\"round\", allow_none=False).tag(sync=True)\n",
    "    wireframeLinejoin = Unicode(\"round\", allow_none=False).tag(sync=True)\n",
    "    type = Unicode(\"MeshPhongMaterial2\", allow_none=False).tag(sync=True)\n",
    "\n",
    "\n",
    "    def __init__(self, **kwargs):\n",
    "        phongShader = ShaderLib['phong']\n",
    "        frag_from = \"gl_FragColor = vec4( outgoingLight, diffuseColor.a );\"\n",
    "        frag_to = \"\"\"\n",
    "        console.log(gl_FrontFacing)\n",
    "        if ( gl_FrontFacing ) {\n",
    "            gl_FragColor = vec4( outgoingLight, diffuseColor.a );\n",
    "        } else {\n",
    "            gl_FragColor = diffuseColor;\n",
    "        }\"\"\"\n",
    "        frag = phongShader[\"fragmentShader\"].replace(frag_from, frag_to)\n",
    "        super().__init__(\n",
    "            uniforms=phongShader[\"uniforms\"],\n",
    "            vertexShader=phongShader[\"vertexShader\"],\n",
    "            fragmentShader=frag,\n",
    "            **kwargs\n",
    "        )\n",
    "        self.lights = True\n",
    "\n",
    "if six.PY3:\n",
    "    import inspect\n",
    "    MeshPhongMaterial2.__signature__ = inspect.signature(MeshPhongMaterial2.__init__)\n"
   ]
  },
  {
   "cell_type": "code",
   "execution_count": null,
   "metadata": {},
   "outputs": [],
   "source": []
  },
  {
   "cell_type": "code",
   "execution_count": null,
   "metadata": {},
   "outputs": [],
   "source": []
  },
  {
   "cell_type": "code",
   "execution_count": 1,
   "metadata": {},
   "outputs": [],
   "source": [
    "from pythreejs import *\n",
    "class SectionHelper(Mesh):\n",
    "    def __init__(self, object, hexOrMaterial):\n",
    "        if isinstance(hexOrMaterial, MeshBasicMaterial):\n",
    "            material = hexOrMaterial\n",
    "        else:\n",
    "            color = hexOrMaterial\n",
    "            material = MeshBasicMaterial(color=color, side=\"BackSide\")\n",
    "\n",
    "        super().__init__(object.geometry, material)\n",
    "\n",
    "        self.matrix = object.matrixWorld\n",
    "        self.matrixAutoUpdate = False"
   ]
  },
  {
   "cell_type": "code",
   "execution_count": 4,
   "metadata": {},
   "outputs": [
    {
     "data": {
      "application/vnd.jupyter.widget-view+json": {
       "model_id": "27f140e4b9004036a7bdcd33006423f2",
       "version_major": 2,
       "version_minor": 0
      },
      "text/plain": [
       "Renderer(camera=PerspectiveCamera(children=(DirectionalLight(color='white', intensity=0.5, position=(3.0, 5.0,…"
      ]
     },
     "metadata": {},
     "output_type": "display_data"
    }
   ],
   "source": [
    "from ipywidgets import Layout\n",
    "import time\n",
    "\n",
    "# material = MeshPhongMaterial(color = \"green\", transparent=False, opacity=0.8, side=\"FrontSide\")\n",
    "material = CustomMaterial(\"standard\")\n",
    "material.color = \"#ff0000\"\n",
    "material.clipping = True\n",
    "material.side = \"DoubleSide\"\n",
    "\n",
    "torus = Mesh(\n",
    "    TorusKnotBufferGeometry(radius=20, tube=5, tubularSegments=64, radialSegments=64, p=2, q=3), \n",
    "    material=material\n",
    ")\n",
    "\n",
    "key_light = DirectionalLight(color='white', position=[3, 5, 1], intensity=0.5)\n",
    "\n",
    "c = PerspectiveCamera(position=[0, 100, 100], up=[0, 1, 0], children=[key_light])\n",
    "\n",
    "scene = Scene(children=[torus, c, AmbientLight(color='#777777')], background=None)\n",
    "\n",
    "renderer = Renderer(camera=c, \n",
    "                    scene=scene,\n",
    "                    alpha=True,\n",
    "                    clearOpacity=0,\n",
    "                    controls=[OrbitControls(controlling=c)],\n",
    "                    width=500, height=500)\n",
    "\n",
    "renderer.localClippingEnabled = True;\n",
    "display(renderer)\n",
    "\n",
    "for i in range(-75, 75):\n",
    "    renderer.clippingPlanes = [Plane((0,-1,0), i/2.0)]\n",
    "    time.sleep(0.05)\n"
   ]
  },
  {
   "cell_type": "code",
   "execution_count": 133,
   "metadata": {},
   "outputs": [
    {
     "data": {
      "text/plain": [
       "{'diffuse': {'type': 'c', 'value': '#ff00ff'},\n",
       " 'opacity': {'value': 1},\n",
       " 'map': {'value': None},\n",
       " 'uvTransform': {'type': 'm3', 'value': [1, 0, 0, 0, 1, 0, 0, 0, 1]},\n",
       " 'alphaMap': {'value': None},\n",
       " 'envMap': {'value': None},\n",
       " 'flipEnvMap': {'value': -1},\n",
       " 'reflectivity': {'value': 1},\n",
       " 'refractionRatio': {'value': 0.98},\n",
       " 'maxMipLevel': {'value': 0},\n",
       " 'aoMap': {'value': None},\n",
       " 'aoMapIntensity': {'value': 1},\n",
       " 'lightMap': {'value': None},\n",
       " 'lightMapIntensity': {'value': 1},\n",
       " 'emissiveMap': {'value': None},\n",
       " 'bumpMap': {'value': None},\n",
       " 'bumpScale': {'value': 1},\n",
       " 'normalMap': {'value': None},\n",
       " 'normalScale': {'type': 'v2', 'value': [1, 1]},\n",
       " 'displacementMap': {'value': None},\n",
       " 'displacementScale': {'value': 1},\n",
       " 'displacementBias': {'value': 0},\n",
       " 'roughnessMap': {'value': None},\n",
       " 'metalnessMap': {'value': None},\n",
       " 'fogDensity': {'value': 0.00025},\n",
       " 'fogNear': {'value': 1},\n",
       " 'fogFar': {'value': 2000},\n",
       " 'fogColor': {'type': 'c', 'value': '#ffffff'},\n",
       " 'ambientLightColor': {'value': []},\n",
       " 'directionalLights': {'value': []},\n",
       " 'directionalShadowMap': {'value': []},\n",
       " 'directionalShadowMatrix': {'value': []},\n",
       " 'spotLights': {'value': []},\n",
       " 'spotShadowMap': {'value': []},\n",
       " 'spotShadowMatrix': {'value': []},\n",
       " 'pointLights': {'value': []},\n",
       " 'pointShadowMap': {'value': []},\n",
       " 'pointShadowMatrix': {'value': []},\n",
       " 'hemisphereLights': {'value': []},\n",
       " 'rectAreaLights': {'value': []},\n",
       " 'emissive': {'type': 'c', 'value': '#000000'},\n",
       " 'roughness': {'value': 0.5},\n",
       " 'metalness': {'value': 0.5},\n",
       " 'envMapIntensity': {'value': 1},\n",
       " 'color': {'type': 'c', 'value': '#ff0000'}}"
      ]
     },
     "execution_count": 133,
     "metadata": {},
     "output_type": "execute_result"
    }
   ],
   "source": [
    "cm.material.uniforms"
   ]
  },
  {
   "cell_type": "code",
   "execution_count": null,
   "metadata": {},
   "outputs": [],
   "source": []
  },
  {
   "cell_type": "code",
   "execution_count": 67,
   "metadata": {},
   "outputs": [],
   "source": [
    "\n",
    "from pythreejs import *\n",
    "import ipywidgets as widgets\n",
    "from IPython.display import display"
   ]
  },
  {
   "cell_type": "code",
   "execution_count": 68,
   "metadata": {},
   "outputs": [],
   "source": [
    "\n",
    "vertex_shader = \"\"\"\n",
    "uniform float time;\n",
    "uniform vec2 resolution;\n",
    "\n",
    "void main() {\n",
    "    vec3 pos = vec3(position.x + time * resolution.x, position.y + time * resolution.y, position.z);\n",
    "    gl_Position = projectionMatrix * modelViewMatrix * vec4( pos, 1.0 );\n",
    "}\n",
    "\"\"\""
   ]
  },
  {
   "cell_type": "code",
   "execution_count": 69,
   "metadata": {},
   "outputs": [],
   "source": [
    "fragment_shader = \"\"\"\n",
    "uniform vec3 user_color;\n",
    "\n",
    "void main() {\n",
    "    #ifdef FIX_COLOR\n",
    "    gl_FragColor = vec4(0.5, 0, 0, 1.0);\n",
    "    #else\n",
    "    gl_FragColor = vec4(user_color, 1.0);\n",
    "    #endif\n",
    "}\n",
    "\"\"\""
   ]
  },
  {
   "cell_type": "code",
   "execution_count": 70,
   "metadata": {},
   "outputs": [],
   "source": [
    "material = ShaderMaterial(\n",
    "    uniforms=dict(\n",
    "        time=dict(value=0.0),\n",
    "        resolution=dict(value=(1, 1)),\n",
    "        user_color=dict(value='green'),\n",
    "        **UniformsLib['common']\n",
    "    ),\n",
    "    defines=dict(\n",
    "        FIX_COLOR=1,\n",
    "    ),\n",
    "    vertexShader=vertex_shader,\n",
    "    fragmentShader=fragment_shader,\n",
    ")"
   ]
  },
  {
   "cell_type": "code",
   "execution_count": 71,
   "metadata": {},
   "outputs": [
    {
     "data": {
      "application/vnd.jupyter.widget-view+json": {
       "model_id": "f866c61ffb8547a0b5f78382c897cfd3",
       "version_major": 2,
       "version_minor": 0
      },
      "text/plain": [
       "Preview(child=ShaderMaterial(defines={'FIX_COLOR': 1}, fragmentShader='\\nuniform vec3 user_color;\\n\\nvoid main…"
      ]
     },
     "metadata": {},
     "output_type": "display_data"
    }
   ],
   "source": [
    "material"
   ]
  },
  {
   "cell_type": "code",
   "execution_count": 72,
   "metadata": {},
   "outputs": [],
   "source": [
    "material.defines = dict()\n",
    "material.needsUpdate = True"
   ]
  },
  {
   "cell_type": "code",
   "execution_count": 74,
   "metadata": {},
   "outputs": [
    {
     "data": {
      "application/vnd.jupyter.widget-view+json": {
       "model_id": "964ce0ff6df7408ea3e9a73d798c7ac7",
       "version_major": 2,
       "version_minor": 0
      },
      "text/plain": [
       "VBox(children=(Preview(child=ShaderMaterial(fragmentShader='\\nuniform vec3 user_color;\\n\\nvoid main() {\\n    #…"
      ]
     },
     "metadata": {},
     "output_type": "display_data"
    }
   ],
   "source": [
    "\n",
    "# Uniform editors:\n",
    "picker = widgets.ColorPicker(value=material.uniforms['user_color']['value'])\n",
    "time_slider = widgets.FloatSlider(value=material.uniforms['time']['value'], min=-15, max=15)\n",
    "\n",
    "# Interactive code:\n",
    "def update_uniforms(change):\n",
    "    uniforms = dict(**material.uniforms)\n",
    "    print(dict(value=time_slider.value))\n",
    "    uniforms.update(\n",
    "        time=dict(value=time_slider.value),\n",
    "        user_color=dict(value=picker.value),\n",
    "    )\n",
    "    material.uniforms = uniforms\n",
    "    material.needsUpdate = True\n",
    "\n",
    "picker.observe(update_uniforms)\n",
    "time_slider.observe(update_uniforms)\n",
    "\n",
    "# Present \"dashboard\" in VBox:\n",
    "widgets.VBox([\n",
    "    Preview(material),\n",
    "    picker,\n",
    "    time_slider,\n",
    "])"
   ]
  },
  {
   "cell_type": "code",
   "execution_count": 75,
   "metadata": {},
   "outputs": [
    {
     "name": "stdout",
     "output_type": "stream",
     "text": [
      "{'value': -2.5}\n"
     ]
    }
   ],
   "source": [
    "print(dict(value=time_slider.value))"
   ]
  },
  {
   "cell_type": "code",
   "execution_count": 76,
   "metadata": {},
   "outputs": [
    {
     "data": {
      "text/plain": [
       "{'time': {'value': 0.4},\n",
       " 'resolution': {'value': [1, 1]},\n",
       " 'user_color': {'value': '#d92a4f'},\n",
       " 'diffuse': {'type': 'c', 'value': '#eeeeee'},\n",
       " 'opacity': {'value': 1},\n",
       " 'map': {'value': None},\n",
       " 'uvTransform': {'type': 'm3', 'value': [1, 0, 0, 0, 1, 0, 0, 0, 1]},\n",
       " 'alphaMap': {'value': None}}"
      ]
     },
     "execution_count": 76,
     "metadata": {},
     "output_type": "execute_result"
    }
   ],
   "source": [
    "dict(**material.uniforms)"
   ]
  },
  {
   "cell_type": "code",
   "execution_count": 78,
   "metadata": {},
   "outputs": [
    {
     "data": {
      "text/plain": [
       "{'diffuse': {'type': 'c', 'value': '#eeeeee'},\n",
       " 'opacity': {'value': 1},\n",
       " 'map': {'value': None},\n",
       " 'uvTransform': {'type': 'm3', 'value': [1, 0, 0, 0, 1, 0, 0, 0, 1]},\n",
       " 'alphaMap': {'value': None}}"
      ]
     },
     "execution_count": 78,
     "metadata": {},
     "output_type": "execute_result"
    }
   ],
   "source": [
    "dict(**UniformsLib['common'])"
   ]
  },
  {
   "cell_type": "code",
   "execution_count": null,
   "metadata": {},
   "outputs": [],
   "source": []
  }
 ],
 "metadata": {
  "kernelspec": {
   "display_name": "Python 3",
   "language": "python",
   "name": "python3"
  },
  "language_info": {
   "codemirror_mode": {
    "name": "ipython",
    "version": 3
   },
   "file_extension": ".py",
   "mimetype": "text/x-python",
   "name": "python",
   "nbconvert_exporter": "python",
   "pygments_lexer": "ipython3",
   "version": "3.6.7"
  }
 },
 "nbformat": 4,
 "nbformat_minor": 2
}
